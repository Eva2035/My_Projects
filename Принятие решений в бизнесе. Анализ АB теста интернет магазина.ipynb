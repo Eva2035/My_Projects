{
 "cells": [
  {
   "cell_type": "markdown",
   "metadata": {},
   "source": [
    "# Принятие решений в бизнесе. Анализ А/B теста интернет магазина."
   ]
  },
  {
   "cell_type": "markdown",
   "metadata": {},
   "source": [
    "## Описание данных\n",
    " ### Данные для первой части \n",
    "\n",
    "Файл /datasets/hypothesis.csv. Скачать датасет\n",
    "\n",
    "- Hypothesis — краткое описание гипотезы;\n",
    "\n",
    "- Reach — охват пользователей по 10-балльной шкале;\n",
    "\n",
    "- Impact — влияние на пользователей по 10-балльной шкале;\n",
    "\n",
    "- Confidence — уверенность в гипотезе по 10-балльной шкале;\n",
    "\n",
    "- Efforts — затраты ресурсов на проверку гипотезы по 10-балльной шкале. Чем больше значение Efforts, тем дороже проверка гипотезы. \n",
    "\n",
    "### Данные для второй части \n",
    "\n",
    "Файл /datasets/orders.csv. Скачать датасет\n",
    "\n",
    "- transactionId — идентификатор заказа;\n",
    "\n",
    "- visitorId — идентификатор пользователя, совершившего заказ;\n",
    "\n",
    "- date — дата, когда был совершён заказ;\n",
    "\n",
    "- revenue — выручка заказа;\n",
    "\n",
    "- group — группа A/B-теста, в которую попал заказ.\n",
    "\n",
    "Файл /datasets/visitors.csv. Скачать датасет\n",
    "- date — дата;\n",
    "\n",
    "- group — группа A/B-теста;\n",
    "\n",
    "- visitors — количество пользователей в указанную дату в указанной группе A/B-теста\n",
    "\n",
    "### Описание проекта\n",
    "\n",
    "### Контекст\n",
    "\n",
    "Вы — аналитик крупного интернет-магазина. Вместе с отделом маркетинга вы подготовили список гипотез для увеличения выручки.\n",
    "Приоритизируйте гипотезы, запустите A/B-тест и проанализируйте результаты. \n",
    "\n",
    "### Часть 1. Приоритизация гипотез.\n",
    "\n",
    "В файле /datasets/hypothesis.csv 9 гипотез по увеличению выручки интернет-магазина с указанными параметрами Reach, Impact, Confidence, Effort.\n",
    "Задача\n",
    "\n",
    "Применить фреймворк ICE для приоритизации гипотез. Отсортировать их по убыванию приоритета.\n",
    "\n",
    "Применить фреймворк RICE для приоритизации гипотез. Отсортировать их по убыванию приоритета.\n",
    "\n",
    "Указать, как изменилась приоритизация гипотез при применении RICE вместо ICE. Объяснить, почему так произошло.\n",
    "\n",
    "### Часть 2. Анализ A/B-теста\n",
    "\n",
    "Мы провели A/B-тест и получили результаты, которые описаны в файлах /datasets/orders.csv и /datasets/visitors.csv.\n",
    "\n",
    "Задача\n",
    "\n",
    "Проанализировать A/B-тест:\n",
    "\n",
    "- Построить график кумулятивной выручки по группам. Сделать выводы и предположения.\n",
    "\n",
    "- Построить график кумулятивного среднего чека по группам. Сделать выводы и предположения.\n",
    "\n",
    "- Построить график относительного изменения кумулятивного среднего чека группы B к группе A. Сделать выводы и предположения.\n",
    "\n",
    "- Построить график кумулятивного среднего количества заказов на посетителя по группам. Сделать выводы и предположения.\n",
    "\n",
    "- Построить график относительного изменения кумулятивного среднего количества заказов на посетителя группы B к группе A. Сделать выводы и предположения.\n",
    "\n",
    "- Построить точечный график количества заказов по пользователям. Сделать выводы и предположения.\n",
    "\n",
    "- Посчитать 95-й и 99-й перцентили количества заказов на пользователя. Выбрать границу для определения аномальных пользователей.\n",
    "\n",
    "- Построить точечный график стоимостей заказов. Сделать выводы и предположения.\n",
    "\n",
    "- Посчитать 95-й и 99-й перцентили стоимости заказов. Выберать границу для определения аномальных заказов.\n",
    "\n",
    "- Посчитать статистическую значимость различий в среднем количестве заказов на посетителя между группами по «сырым» данным. Сделать выводы и предположения.\n",
    "\n",
    "- Посчитать статистическую значимость различий в среднем чеке заказа между группами по «сырым» данным. Сделать выводы и предположения.\n",
    "\n",
    "- Посчитайте статистическую значимость различий в среднем количестве заказов на посетителя между группами по «очищенным» данным. Сделайте выводы и предположения.\n",
    "\n",
    "- Посчитать статистическую значимость различий в среднем чеке заказа между группами по «очищенным» данным. Сделать выводы и предположения. \n",
    "\n",
    "- Принять решение по результатам теста и объяснить его.\n"
   ]
  },
  {
   "cell_type": "markdown",
   "metadata": {},
   "source": [
    "## Часть 1. Приоритизация гипотез."
   ]
  },
  {
   "cell_type": "code",
   "execution_count": 2,
   "metadata": {},
   "outputs": [],
   "source": [
    "# импорт библиотек\n",
    "import pandas as pd\n",
    "import numpy as np\n",
    "import matplotlib.pyplot as plt\n",
    "import datetime as dt\n",
    "import seaborn as sns\n",
    "sns.set(rc={'figure.figsize':(10, 8)})\n",
    "import scipy.stats as stats\n",
    "from scipy import stats as st\n",
    "import math\n"
   ]
  },
  {
   "cell_type": "code",
   "execution_count": 3,
   "metadata": {},
   "outputs": [],
   "source": [
    "#установим формат отображения всех столбцов в таблице\n",
    "pd.set_option('display.max_columns', None)\n",
    "#установим формат отображения чисел с плавающей запятой с точностью до 2 знаков после запятой\n",
    "pd.options.display.float_format = '{:,.2f}'.format\n",
    "pd.options.display.max_colwidth = 200"
   ]
  },
  {
   "cell_type": "code",
   "execution_count": 4,
   "metadata": {},
   "outputs": [],
   "source": [
    "# прочтем таблицы и сохраним их в переменные\n",
    "data = pd.read_csv('/datasets/hypothesis.csv')\n",
    "orders = pd.read_csv('/datasets/orders.csv')\n",
    "visitors = pd.read_csv('/datasets/visitors.csv')"
   ]
  },
  {
   "cell_type": "code",
   "execution_count": 5,
   "metadata": {},
   "outputs": [
    {
     "data": {
      "text/html": [
       "<div>\n",
       "<style scoped>\n",
       "    .dataframe tbody tr th:only-of-type {\n",
       "        vertical-align: middle;\n",
       "    }\n",
       "\n",
       "    .dataframe tbody tr th {\n",
       "        vertical-align: top;\n",
       "    }\n",
       "\n",
       "    .dataframe thead th {\n",
       "        text-align: right;\n",
       "    }\n",
       "</style>\n",
       "<table border=\"1\" class=\"dataframe\">\n",
       "  <thead>\n",
       "    <tr style=\"text-align: right;\">\n",
       "      <th></th>\n",
       "      <th>Hypothesis</th>\n",
       "      <th>Reach</th>\n",
       "      <th>Impact</th>\n",
       "      <th>Confidence</th>\n",
       "      <th>Efforts</th>\n",
       "    </tr>\n",
       "  </thead>\n",
       "  <tbody>\n",
       "    <tr>\n",
       "      <th>0</th>\n",
       "      <td>Добавить два новых канала привлечения трафика, что позволит привлекать на 30% больше пользователей</td>\n",
       "      <td>3</td>\n",
       "      <td>10</td>\n",
       "      <td>8</td>\n",
       "      <td>6</td>\n",
       "    </tr>\n",
       "    <tr>\n",
       "      <th>1</th>\n",
       "      <td>Запустить собственную службу доставки, что сократит срок доставки заказов</td>\n",
       "      <td>2</td>\n",
       "      <td>5</td>\n",
       "      <td>4</td>\n",
       "      <td>10</td>\n",
       "    </tr>\n",
       "    <tr>\n",
       "      <th>2</th>\n",
       "      <td>Добавить блоки рекомендаций товаров на сайт интернет магазина, чтобы повысить конверсию и средний чек заказа</td>\n",
       "      <td>8</td>\n",
       "      <td>3</td>\n",
       "      <td>7</td>\n",
       "      <td>3</td>\n",
       "    </tr>\n",
       "    <tr>\n",
       "      <th>3</th>\n",
       "      <td>Изменить структура категорий, что увеличит конверсию, т.к. пользователи быстрее найдут нужный товар</td>\n",
       "      <td>8</td>\n",
       "      <td>3</td>\n",
       "      <td>3</td>\n",
       "      <td>8</td>\n",
       "    </tr>\n",
       "    <tr>\n",
       "      <th>4</th>\n",
       "      <td>Изменить цвет фона главной страницы, чтобы увеличить вовлеченность пользователей</td>\n",
       "      <td>3</td>\n",
       "      <td>1</td>\n",
       "      <td>1</td>\n",
       "      <td>1</td>\n",
       "    </tr>\n",
       "  </tbody>\n",
       "</table>\n",
       "</div>"
      ],
      "text/plain": [
       "                                                                                                     Hypothesis  \\\n",
       "0            Добавить два новых канала привлечения трафика, что позволит привлекать на 30% больше пользователей   \n",
       "1                                     Запустить собственную службу доставки, что сократит срок доставки заказов   \n",
       "2  Добавить блоки рекомендаций товаров на сайт интернет магазина, чтобы повысить конверсию и средний чек заказа   \n",
       "3           Изменить структура категорий, что увеличит конверсию, т.к. пользователи быстрее найдут нужный товар   \n",
       "4                              Изменить цвет фона главной страницы, чтобы увеличить вовлеченность пользователей   \n",
       "\n",
       "   Reach  Impact  Confidence  Efforts  \n",
       "0      3      10           8        6  \n",
       "1      2       5           4       10  \n",
       "2      8       3           7        3  \n",
       "3      8       3           3        8  \n",
       "4      3       1           1        1  "
      ]
     },
     "metadata": {},
     "output_type": "display_data"
    },
    {
     "name": "stdout",
     "output_type": "stream",
     "text": [
      "<class 'pandas.core.frame.DataFrame'>\n",
      "RangeIndex: 9 entries, 0 to 8\n",
      "Data columns (total 5 columns):\n",
      " #   Column      Non-Null Count  Dtype \n",
      "---  ------      --------------  ----- \n",
      " 0   Hypothesis  9 non-null      object\n",
      " 1   Reach       9 non-null      int64 \n",
      " 2   Impact      9 non-null      int64 \n",
      " 3   Confidence  9 non-null      int64 \n",
      " 4   Efforts     9 non-null      int64 \n",
      "dtypes: int64(4), object(1)\n",
      "memory usage: 488.0+ bytes\n"
     ]
    },
    {
     "data": {
      "text/plain": [
       "None"
      ]
     },
     "metadata": {},
     "output_type": "display_data"
    },
    {
     "data": {
      "text/html": [
       "<div>\n",
       "<style scoped>\n",
       "    .dataframe tbody tr th:only-of-type {\n",
       "        vertical-align: middle;\n",
       "    }\n",
       "\n",
       "    .dataframe tbody tr th {\n",
       "        vertical-align: top;\n",
       "    }\n",
       "\n",
       "    .dataframe thead th {\n",
       "        text-align: right;\n",
       "    }\n",
       "</style>\n",
       "<table border=\"1\" class=\"dataframe\">\n",
       "  <thead>\n",
       "    <tr style=\"text-align: right;\">\n",
       "      <th></th>\n",
       "      <th>Reach</th>\n",
       "      <th>Impact</th>\n",
       "      <th>Confidence</th>\n",
       "      <th>Efforts</th>\n",
       "    </tr>\n",
       "  </thead>\n",
       "  <tbody>\n",
       "    <tr>\n",
       "      <th>count</th>\n",
       "      <td>9.00</td>\n",
       "      <td>9.00</td>\n",
       "      <td>9.00</td>\n",
       "      <td>9.00</td>\n",
       "    </tr>\n",
       "    <tr>\n",
       "      <th>mean</th>\n",
       "      <td>4.78</td>\n",
       "      <td>4.78</td>\n",
       "      <td>5.56</td>\n",
       "      <td>4.89</td>\n",
       "    </tr>\n",
       "    <tr>\n",
       "      <th>std</th>\n",
       "      <td>3.15</td>\n",
       "      <td>3.19</td>\n",
       "      <td>3.05</td>\n",
       "      <td>2.80</td>\n",
       "    </tr>\n",
       "    <tr>\n",
       "      <th>min</th>\n",
       "      <td>1.00</td>\n",
       "      <td>1.00</td>\n",
       "      <td>1.00</td>\n",
       "      <td>1.00</td>\n",
       "    </tr>\n",
       "    <tr>\n",
       "      <th>25%</th>\n",
       "      <td>3.00</td>\n",
       "      <td>3.00</td>\n",
       "      <td>3.00</td>\n",
       "      <td>3.00</td>\n",
       "    </tr>\n",
       "    <tr>\n",
       "      <th>50%</th>\n",
       "      <td>3.00</td>\n",
       "      <td>3.00</td>\n",
       "      <td>7.00</td>\n",
       "      <td>5.00</td>\n",
       "    </tr>\n",
       "    <tr>\n",
       "      <th>75%</th>\n",
       "      <td>8.00</td>\n",
       "      <td>7.00</td>\n",
       "      <td>8.00</td>\n",
       "      <td>6.00</td>\n",
       "    </tr>\n",
       "    <tr>\n",
       "      <th>max</th>\n",
       "      <td>10.00</td>\n",
       "      <td>10.00</td>\n",
       "      <td>9.00</td>\n",
       "      <td>10.00</td>\n",
       "    </tr>\n",
       "  </tbody>\n",
       "</table>\n",
       "</div>"
      ],
      "text/plain": [
       "       Reach  Impact  Confidence  Efforts\n",
       "count   9.00    9.00        9.00     9.00\n",
       "mean    4.78    4.78        5.56     4.89\n",
       "std     3.15    3.19        3.05     2.80\n",
       "min     1.00    1.00        1.00     1.00\n",
       "25%     3.00    3.00        3.00     3.00\n",
       "50%     3.00    3.00        7.00     5.00\n",
       "75%     8.00    7.00        8.00     6.00\n",
       "max    10.00   10.00        9.00    10.00"
      ]
     },
     "metadata": {},
     "output_type": "display_data"
    },
    {
     "name": "stdout",
     "output_type": "stream",
     "text": [
      "Количество дубликатов: 0\n"
     ]
    }
   ],
   "source": [
    "# изучим данные таблицы data проверим на дубликаты\n",
    "display(data.head())\n",
    "display(data.info())\n",
    "display(data.describe())\n",
    "print('Количество дубликатов:', data.duplicated().sum())"
   ]
  },
  {
   "cell_type": "code",
   "execution_count": 6,
   "metadata": {},
   "outputs": [
    {
     "data": {
      "text/html": [
       "<div>\n",
       "<style scoped>\n",
       "    .dataframe tbody tr th:only-of-type {\n",
       "        vertical-align: middle;\n",
       "    }\n",
       "\n",
       "    .dataframe tbody tr th {\n",
       "        vertical-align: top;\n",
       "    }\n",
       "\n",
       "    .dataframe thead th {\n",
       "        text-align: right;\n",
       "    }\n",
       "</style>\n",
       "<table border=\"1\" class=\"dataframe\">\n",
       "  <thead>\n",
       "    <tr style=\"text-align: right;\">\n",
       "      <th></th>\n",
       "      <th>hypothesis</th>\n",
       "      <th>reach</th>\n",
       "      <th>impact</th>\n",
       "      <th>confidence</th>\n",
       "      <th>efforts</th>\n",
       "    </tr>\n",
       "  </thead>\n",
       "  <tbody>\n",
       "    <tr>\n",
       "      <th>6</th>\n",
       "      <td>Показать на главной странице баннеры с актуальными акциями и распродажами, чтобы увеличить конверсию</td>\n",
       "      <td>5</td>\n",
       "      <td>3</td>\n",
       "      <td>8</td>\n",
       "      <td>3</td>\n",
       "    </tr>\n",
       "  </tbody>\n",
       "</table>\n",
       "</div>"
      ],
      "text/plain": [
       "                                                                                             hypothesis  \\\n",
       "6  Показать на главной странице баннеры с актуальными акциями и распродажами, чтобы увеличить конверсию   \n",
       "\n",
       "   reach  impact  confidence  efforts  \n",
       "6      5       3           8        3  "
      ]
     },
     "execution_count": 6,
     "metadata": {},
     "output_type": "execute_result"
    }
   ],
   "source": [
    "# приведем к нижнему регистру названия столбцов таблицы data\n",
    "data_columns = (data.columns).str.lower()\n",
    "data.columns=data_columns\n",
    "data.sample()"
   ]
  },
  {
   "cell_type": "code",
   "execution_count": 7,
   "metadata": {},
   "outputs": [
    {
     "data": {
      "text/html": [
       "<div>\n",
       "<style scoped>\n",
       "    .dataframe tbody tr th:only-of-type {\n",
       "        vertical-align: middle;\n",
       "    }\n",
       "\n",
       "    .dataframe tbody tr th {\n",
       "        vertical-align: top;\n",
       "    }\n",
       "\n",
       "    .dataframe thead th {\n",
       "        text-align: right;\n",
       "    }\n",
       "</style>\n",
       "<table border=\"1\" class=\"dataframe\">\n",
       "  <thead>\n",
       "    <tr style=\"text-align: right;\">\n",
       "      <th></th>\n",
       "      <th>transactionId</th>\n",
       "      <th>visitorId</th>\n",
       "      <th>date</th>\n",
       "      <th>revenue</th>\n",
       "      <th>group</th>\n",
       "    </tr>\n",
       "  </thead>\n",
       "  <tbody>\n",
       "    <tr>\n",
       "      <th>0</th>\n",
       "      <td>3667963787</td>\n",
       "      <td>3312258926</td>\n",
       "      <td>2019-08-15</td>\n",
       "      <td>1650</td>\n",
       "      <td>B</td>\n",
       "    </tr>\n",
       "    <tr>\n",
       "      <th>1</th>\n",
       "      <td>2804400009</td>\n",
       "      <td>3642806036</td>\n",
       "      <td>2019-08-15</td>\n",
       "      <td>730</td>\n",
       "      <td>B</td>\n",
       "    </tr>\n",
       "    <tr>\n",
       "      <th>2</th>\n",
       "      <td>2961555356</td>\n",
       "      <td>4069496402</td>\n",
       "      <td>2019-08-15</td>\n",
       "      <td>400</td>\n",
       "      <td>A</td>\n",
       "    </tr>\n",
       "    <tr>\n",
       "      <th>3</th>\n",
       "      <td>3797467345</td>\n",
       "      <td>1196621759</td>\n",
       "      <td>2019-08-15</td>\n",
       "      <td>9759</td>\n",
       "      <td>B</td>\n",
       "    </tr>\n",
       "    <tr>\n",
       "      <th>4</th>\n",
       "      <td>2282983706</td>\n",
       "      <td>2322279887</td>\n",
       "      <td>2019-08-15</td>\n",
       "      <td>2308</td>\n",
       "      <td>B</td>\n",
       "    </tr>\n",
       "  </tbody>\n",
       "</table>\n",
       "</div>"
      ],
      "text/plain": [
       "   transactionId   visitorId        date  revenue group\n",
       "0     3667963787  3312258926  2019-08-15     1650     B\n",
       "1     2804400009  3642806036  2019-08-15      730     B\n",
       "2     2961555356  4069496402  2019-08-15      400     A\n",
       "3     3797467345  1196621759  2019-08-15     9759     B\n",
       "4     2282983706  2322279887  2019-08-15     2308     B"
      ]
     },
     "metadata": {},
     "output_type": "display_data"
    },
    {
     "name": "stdout",
     "output_type": "stream",
     "text": [
      "<class 'pandas.core.frame.DataFrame'>\n",
      "RangeIndex: 1197 entries, 0 to 1196\n",
      "Data columns (total 5 columns):\n",
      " #   Column         Non-Null Count  Dtype \n",
      "---  ------         --------------  ----- \n",
      " 0   transactionId  1197 non-null   int64 \n",
      " 1   visitorId      1197 non-null   int64 \n",
      " 2   date           1197 non-null   object\n",
      " 3   revenue        1197 non-null   int64 \n",
      " 4   group          1197 non-null   object\n",
      "dtypes: int64(3), object(2)\n",
      "memory usage: 46.9+ KB\n"
     ]
    },
    {
     "data": {
      "text/plain": [
       "None"
      ]
     },
     "metadata": {},
     "output_type": "display_data"
    },
    {
     "data": {
      "text/html": [
       "<div>\n",
       "<style scoped>\n",
       "    .dataframe tbody tr th:only-of-type {\n",
       "        vertical-align: middle;\n",
       "    }\n",
       "\n",
       "    .dataframe tbody tr th {\n",
       "        vertical-align: top;\n",
       "    }\n",
       "\n",
       "    .dataframe thead th {\n",
       "        text-align: right;\n",
       "    }\n",
       "</style>\n",
       "<table border=\"1\" class=\"dataframe\">\n",
       "  <thead>\n",
       "    <tr style=\"text-align: right;\">\n",
       "      <th></th>\n",
       "      <th>transactionId</th>\n",
       "      <th>visitorId</th>\n",
       "      <th>revenue</th>\n",
       "    </tr>\n",
       "  </thead>\n",
       "  <tbody>\n",
       "    <tr>\n",
       "      <th>count</th>\n",
       "      <td>1,197.00</td>\n",
       "      <td>1,197.00</td>\n",
       "      <td>1,197.00</td>\n",
       "    </tr>\n",
       "    <tr>\n",
       "      <th>mean</th>\n",
       "      <td>2,155,621,385.53</td>\n",
       "      <td>2,165,960,143.10</td>\n",
       "      <td>8,348.01</td>\n",
       "    </tr>\n",
       "    <tr>\n",
       "      <th>std</th>\n",
       "      <td>1,229,084,904.76</td>\n",
       "      <td>1,236,014,192.15</td>\n",
       "      <td>39,191.13</td>\n",
       "    </tr>\n",
       "    <tr>\n",
       "      <th>min</th>\n",
       "      <td>1,062,393.00</td>\n",
       "      <td>5,114,589.00</td>\n",
       "      <td>50.00</td>\n",
       "    </tr>\n",
       "    <tr>\n",
       "      <th>25%</th>\n",
       "      <td>1,166,775,572.00</td>\n",
       "      <td>1,111,826,046.00</td>\n",
       "      <td>1,220.00</td>\n",
       "    </tr>\n",
       "    <tr>\n",
       "      <th>50%</th>\n",
       "      <td>2,145,193,898.00</td>\n",
       "      <td>2,217,984,702.00</td>\n",
       "      <td>2,978.00</td>\n",
       "    </tr>\n",
       "    <tr>\n",
       "      <th>75%</th>\n",
       "      <td>3,237,740,112.00</td>\n",
       "      <td>3,177,606,451.00</td>\n",
       "      <td>8,290.00</td>\n",
       "    </tr>\n",
       "    <tr>\n",
       "      <th>max</th>\n",
       "      <td>4,293,855,558.00</td>\n",
       "      <td>4,283,872,382.00</td>\n",
       "      <td>1,294,500.00</td>\n",
       "    </tr>\n",
       "  </tbody>\n",
       "</table>\n",
       "</div>"
      ],
      "text/plain": [
       "         transactionId        visitorId      revenue\n",
       "count         1,197.00         1,197.00     1,197.00\n",
       "mean  2,155,621,385.53 2,165,960,143.10     8,348.01\n",
       "std   1,229,084,904.76 1,236,014,192.15    39,191.13\n",
       "min       1,062,393.00     5,114,589.00        50.00\n",
       "25%   1,166,775,572.00 1,111,826,046.00     1,220.00\n",
       "50%   2,145,193,898.00 2,217,984,702.00     2,978.00\n",
       "75%   3,237,740,112.00 3,177,606,451.00     8,290.00\n",
       "max   4,293,855,558.00 4,283,872,382.00 1,294,500.00"
      ]
     },
     "metadata": {},
     "output_type": "display_data"
    },
    {
     "name": "stdout",
     "output_type": "stream",
     "text": [
      "Количество дубликатов: 0\n"
     ]
    }
   ],
   "source": [
    "# изучим данные таблицы orders проверим на дубликаты\n",
    "display(orders.head())\n",
    "display(orders.info())\n",
    "display(orders.describe())\n",
    "print('Количество дубликатов:', orders.duplicated().sum())"
   ]
  },
  {
   "cell_type": "code",
   "execution_count": 8,
   "metadata": {},
   "outputs": [
    {
     "data": {
      "text/html": [
       "<div>\n",
       "<style scoped>\n",
       "    .dataframe tbody tr th:only-of-type {\n",
       "        vertical-align: middle;\n",
       "    }\n",
       "\n",
       "    .dataframe tbody tr th {\n",
       "        vertical-align: top;\n",
       "    }\n",
       "\n",
       "    .dataframe thead th {\n",
       "        text-align: right;\n",
       "    }\n",
       "</style>\n",
       "<table border=\"1\" class=\"dataframe\">\n",
       "  <thead>\n",
       "    <tr style=\"text-align: right;\">\n",
       "      <th></th>\n",
       "      <th>date</th>\n",
       "      <th>group</th>\n",
       "      <th>visitors</th>\n",
       "    </tr>\n",
       "  </thead>\n",
       "  <tbody>\n",
       "    <tr>\n",
       "      <th>0</th>\n",
       "      <td>2019-08-01</td>\n",
       "      <td>A</td>\n",
       "      <td>719</td>\n",
       "    </tr>\n",
       "    <tr>\n",
       "      <th>1</th>\n",
       "      <td>2019-08-02</td>\n",
       "      <td>A</td>\n",
       "      <td>619</td>\n",
       "    </tr>\n",
       "    <tr>\n",
       "      <th>2</th>\n",
       "      <td>2019-08-03</td>\n",
       "      <td>A</td>\n",
       "      <td>507</td>\n",
       "    </tr>\n",
       "    <tr>\n",
       "      <th>3</th>\n",
       "      <td>2019-08-04</td>\n",
       "      <td>A</td>\n",
       "      <td>717</td>\n",
       "    </tr>\n",
       "    <tr>\n",
       "      <th>4</th>\n",
       "      <td>2019-08-05</td>\n",
       "      <td>A</td>\n",
       "      <td>756</td>\n",
       "    </tr>\n",
       "  </tbody>\n",
       "</table>\n",
       "</div>"
      ],
      "text/plain": [
       "         date group  visitors\n",
       "0  2019-08-01     A       719\n",
       "1  2019-08-02     A       619\n",
       "2  2019-08-03     A       507\n",
       "3  2019-08-04     A       717\n",
       "4  2019-08-05     A       756"
      ]
     },
     "metadata": {},
     "output_type": "display_data"
    },
    {
     "name": "stdout",
     "output_type": "stream",
     "text": [
      "<class 'pandas.core.frame.DataFrame'>\n",
      "RangeIndex: 62 entries, 0 to 61\n",
      "Data columns (total 3 columns):\n",
      " #   Column    Non-Null Count  Dtype \n",
      "---  ------    --------------  ----- \n",
      " 0   date      62 non-null     object\n",
      " 1   group     62 non-null     object\n",
      " 2   visitors  62 non-null     int64 \n",
      "dtypes: int64(1), object(2)\n",
      "memory usage: 1.6+ KB\n"
     ]
    },
    {
     "data": {
      "text/plain": [
       "None"
      ]
     },
     "metadata": {},
     "output_type": "display_data"
    },
    {
     "data": {
      "text/html": [
       "<div>\n",
       "<style scoped>\n",
       "    .dataframe tbody tr th:only-of-type {\n",
       "        vertical-align: middle;\n",
       "    }\n",
       "\n",
       "    .dataframe tbody tr th {\n",
       "        vertical-align: top;\n",
       "    }\n",
       "\n",
       "    .dataframe thead th {\n",
       "        text-align: right;\n",
       "    }\n",
       "</style>\n",
       "<table border=\"1\" class=\"dataframe\">\n",
       "  <thead>\n",
       "    <tr style=\"text-align: right;\">\n",
       "      <th></th>\n",
       "      <th>visitors</th>\n",
       "    </tr>\n",
       "  </thead>\n",
       "  <tbody>\n",
       "    <tr>\n",
       "      <th>count</th>\n",
       "      <td>62.00</td>\n",
       "    </tr>\n",
       "    <tr>\n",
       "      <th>mean</th>\n",
       "      <td>607.29</td>\n",
       "    </tr>\n",
       "    <tr>\n",
       "      <th>std</th>\n",
       "      <td>114.40</td>\n",
       "    </tr>\n",
       "    <tr>\n",
       "      <th>min</th>\n",
       "      <td>361.00</td>\n",
       "    </tr>\n",
       "    <tr>\n",
       "      <th>25%</th>\n",
       "      <td>534.00</td>\n",
       "    </tr>\n",
       "    <tr>\n",
       "      <th>50%</th>\n",
       "      <td>624.50</td>\n",
       "    </tr>\n",
       "    <tr>\n",
       "      <th>75%</th>\n",
       "      <td>710.50</td>\n",
       "    </tr>\n",
       "    <tr>\n",
       "      <th>max</th>\n",
       "      <td>770.00</td>\n",
       "    </tr>\n",
       "  </tbody>\n",
       "</table>\n",
       "</div>"
      ],
      "text/plain": [
       "       visitors\n",
       "count     62.00\n",
       "mean     607.29\n",
       "std      114.40\n",
       "min      361.00\n",
       "25%      534.00\n",
       "50%      624.50\n",
       "75%      710.50\n",
       "max      770.00"
      ]
     },
     "metadata": {},
     "output_type": "display_data"
    },
    {
     "name": "stdout",
     "output_type": "stream",
     "text": [
      "Количество дубликатов: 0\n"
     ]
    }
   ],
   "source": [
    "# изучим данные таблицы visitors проверим на дубликаты\n",
    "display(visitors.head())\n",
    "display(visitors.info())\n",
    "display(visitors.describe())\n",
    "print('Количество дубликатов:', visitors.duplicated().sum())"
   ]
  },
  {
   "cell_type": "code",
   "execution_count": 9,
   "metadata": {
    "scrolled": true
   },
   "outputs": [
    {
     "name": "stdout",
     "output_type": "stream",
     "text": [
      "<class 'pandas.core.frame.DataFrame'>\n",
      "RangeIndex: 62 entries, 0 to 61\n",
      "Data columns (total 3 columns):\n",
      " #   Column    Non-Null Count  Dtype         \n",
      "---  ------    --------------  -----         \n",
      " 0   date      62 non-null     datetime64[ns]\n",
      " 1   group     62 non-null     object        \n",
      " 2   visitors  62 non-null     int64         \n",
      "dtypes: datetime64[ns](1), int64(1), object(1)\n",
      "memory usage: 1.6+ KB\n"
     ]
    }
   ],
   "source": [
    "# данные дат в неверном формате, исправим это. В остальном все в порядке \n",
    "#orders['date'] = pd.to_datetime(orders['date'])\n",
    "#visitors['date'] = pd.to_datetime(visitors['date'])\n",
    "orders['date'] = orders['date'].map(lambda x: dt.datetime.strptime(x, '%Y-%m-%d'))\n",
    "visitors['date'] = visitors['date'].map(lambda x: dt.datetime.strptime(x, '%Y-%m-%d'))\n",
    "visitors.info()\n"
   ]
  },
  {
   "cell_type": "code",
   "execution_count": 10,
   "metadata": {},
   "outputs": [
    {
     "data": {
      "text/html": [
       "<div>\n",
       "<style scoped>\n",
       "    .dataframe tbody tr th:only-of-type {\n",
       "        vertical-align: middle;\n",
       "    }\n",
       "\n",
       "    .dataframe tbody tr th {\n",
       "        vertical-align: top;\n",
       "    }\n",
       "\n",
       "    .dataframe thead th {\n",
       "        text-align: right;\n",
       "    }\n",
       "</style>\n",
       "<table border=\"1\" class=\"dataframe\">\n",
       "  <thead>\n",
       "    <tr style=\"text-align: right;\">\n",
       "      <th></th>\n",
       "      <th>hypothesis</th>\n",
       "      <th>reach</th>\n",
       "      <th>impact</th>\n",
       "      <th>confidence</th>\n",
       "      <th>efforts</th>\n",
       "      <th>ICE</th>\n",
       "    </tr>\n",
       "  </thead>\n",
       "  <tbody>\n",
       "    <tr>\n",
       "      <th>8</th>\n",
       "      <td>Запустить акцию, дающую скидку на товар в день рождения</td>\n",
       "      <td>1</td>\n",
       "      <td>9</td>\n",
       "      <td>9</td>\n",
       "      <td>5</td>\n",
       "      <td>16.20</td>\n",
       "    </tr>\n",
       "    <tr>\n",
       "      <th>0</th>\n",
       "      <td>Добавить два новых канала привлечения трафика, что позволит привлекать на 30% больше пользователей</td>\n",
       "      <td>3</td>\n",
       "      <td>10</td>\n",
       "      <td>8</td>\n",
       "      <td>6</td>\n",
       "      <td>13.33</td>\n",
       "    </tr>\n",
       "    <tr>\n",
       "      <th>7</th>\n",
       "      <td>Добавить форму подписки на все основные страницы, чтобы собрать базу клиентов для email-рассылок</td>\n",
       "      <td>10</td>\n",
       "      <td>7</td>\n",
       "      <td>8</td>\n",
       "      <td>5</td>\n",
       "      <td>11.20</td>\n",
       "    </tr>\n",
       "    <tr>\n",
       "      <th>6</th>\n",
       "      <td>Показать на главной странице баннеры с актуальными акциями и распродажами, чтобы увеличить конверсию</td>\n",
       "      <td>5</td>\n",
       "      <td>3</td>\n",
       "      <td>8</td>\n",
       "      <td>3</td>\n",
       "      <td>8.00</td>\n",
       "    </tr>\n",
       "    <tr>\n",
       "      <th>2</th>\n",
       "      <td>Добавить блоки рекомендаций товаров на сайт интернет магазина, чтобы повысить конверсию и средний чек заказа</td>\n",
       "      <td>8</td>\n",
       "      <td>3</td>\n",
       "      <td>7</td>\n",
       "      <td>3</td>\n",
       "      <td>7.00</td>\n",
       "    </tr>\n",
       "    <tr>\n",
       "      <th>1</th>\n",
       "      <td>Запустить собственную службу доставки, что сократит срок доставки заказов</td>\n",
       "      <td>2</td>\n",
       "      <td>5</td>\n",
       "      <td>4</td>\n",
       "      <td>10</td>\n",
       "      <td>2.00</td>\n",
       "    </tr>\n",
       "    <tr>\n",
       "      <th>5</th>\n",
       "      <td>Добавить страницу отзывов клиентов о магазине, что позволит увеличить количество заказов</td>\n",
       "      <td>3</td>\n",
       "      <td>2</td>\n",
       "      <td>2</td>\n",
       "      <td>3</td>\n",
       "      <td>1.33</td>\n",
       "    </tr>\n",
       "    <tr>\n",
       "      <th>3</th>\n",
       "      <td>Изменить структура категорий, что увеличит конверсию, т.к. пользователи быстрее найдут нужный товар</td>\n",
       "      <td>8</td>\n",
       "      <td>3</td>\n",
       "      <td>3</td>\n",
       "      <td>8</td>\n",
       "      <td>1.12</td>\n",
       "    </tr>\n",
       "    <tr>\n",
       "      <th>4</th>\n",
       "      <td>Изменить цвет фона главной страницы, чтобы увеличить вовлеченность пользователей</td>\n",
       "      <td>3</td>\n",
       "      <td>1</td>\n",
       "      <td>1</td>\n",
       "      <td>1</td>\n",
       "      <td>1.00</td>\n",
       "    </tr>\n",
       "  </tbody>\n",
       "</table>\n",
       "</div>"
      ],
      "text/plain": [
       "                                                                                                     hypothesis  \\\n",
       "8                                                       Запустить акцию, дающую скидку на товар в день рождения   \n",
       "0            Добавить два новых канала привлечения трафика, что позволит привлекать на 30% больше пользователей   \n",
       "7              Добавить форму подписки на все основные страницы, чтобы собрать базу клиентов для email-рассылок   \n",
       "6          Показать на главной странице баннеры с актуальными акциями и распродажами, чтобы увеличить конверсию   \n",
       "2  Добавить блоки рекомендаций товаров на сайт интернет магазина, чтобы повысить конверсию и средний чек заказа   \n",
       "1                                     Запустить собственную службу доставки, что сократит срок доставки заказов   \n",
       "5                      Добавить страницу отзывов клиентов о магазине, что позволит увеличить количество заказов   \n",
       "3           Изменить структура категорий, что увеличит конверсию, т.к. пользователи быстрее найдут нужный товар   \n",
       "4                              Изменить цвет фона главной страницы, чтобы увеличить вовлеченность пользователей   \n",
       "\n",
       "   reach  impact  confidence  efforts   ICE  \n",
       "8      1       9           9        5 16.20  \n",
       "0      3      10           8        6 13.33  \n",
       "7     10       7           8        5 11.20  \n",
       "6      5       3           8        3  8.00  \n",
       "2      8       3           7        3  7.00  \n",
       "1      2       5           4       10  2.00  \n",
       "5      3       2           2        3  1.33  \n",
       "3      8       3           3        8  1.12  \n",
       "4      3       1           1        1  1.00  "
      ]
     },
     "execution_count": 10,
     "metadata": {},
     "output_type": "execute_result"
    }
   ],
   "source": [
    "# расчитаем ICE\n",
    "data['ICE'] = (data['impact'] *  data['confidence']) / data['efforts']\n",
    "data.sort_values(by='ICE', ascending=False, inplace=True)\n",
    "data"
   ]
  },
  {
   "cell_type": "code",
   "execution_count": 11,
   "metadata": {},
   "outputs": [
    {
     "data": {
      "image/png": "[encoded data removed]",
      "text/plain": [
       "<Figure size 720x576 with 1 Axes>"
      ]
     },
     "metadata": {},
     "output_type": "display_data"
    }
   ],
   "source": [
    "#нарисуем барплот для наглядности\n",
    "ax = data[['hypothesis', 'ICE']].set_index('hypothesis').sort_values('ICE', ascending=True).plot(kind='barh')\n",
    "ax.set_xlabel('Приоритет')\n",
    "ax.set_ylabel('Гипотеза')\n",
    "ax.set_title('ICE');"
   ]
  },
  {
   "cell_type": "markdown",
   "metadata": {},
   "source": [
    " При расчете ICE приоритетны №8 ('Запустить акцию, дающую скидку на товар в день рождения'), № 0 ('Добавить два новых канала привлечения трафика, что позволит привлекать на 30% больше пользователей ') и №7('Добавить форму подписки на все основные страницы, чтобы собрать базу клиентов для email-рассылок') гипотезы."
   ]
  },
  {
   "cell_type": "code",
   "execution_count": 12,
   "metadata": {},
   "outputs": [
    {
     "data": {
      "text/html": [
       "<div>\n",
       "<style scoped>\n",
       "    .dataframe tbody tr th:only-of-type {\n",
       "        vertical-align: middle;\n",
       "    }\n",
       "\n",
       "    .dataframe tbody tr th {\n",
       "        vertical-align: top;\n",
       "    }\n",
       "\n",
       "    .dataframe thead th {\n",
       "        text-align: right;\n",
       "    }\n",
       "</style>\n",
       "<table border=\"1\" class=\"dataframe\">\n",
       "  <thead>\n",
       "    <tr style=\"text-align: right;\">\n",
       "      <th></th>\n",
       "      <th>hypothesis</th>\n",
       "      <th>reach</th>\n",
       "      <th>impact</th>\n",
       "      <th>confidence</th>\n",
       "      <th>efforts</th>\n",
       "      <th>ICE</th>\n",
       "      <th>RICE</th>\n",
       "    </tr>\n",
       "  </thead>\n",
       "  <tbody>\n",
       "    <tr>\n",
       "      <th>7</th>\n",
       "      <td>Добавить форму подписки на все основные страницы, чтобы собрать базу клиентов для email-рассылок</td>\n",
       "      <td>10</td>\n",
       "      <td>7</td>\n",
       "      <td>8</td>\n",
       "      <td>5</td>\n",
       "      <td>11.20</td>\n",
       "      <td>112.00</td>\n",
       "    </tr>\n",
       "    <tr>\n",
       "      <th>2</th>\n",
       "      <td>Добавить блоки рекомендаций товаров на сайт интернет магазина, чтобы повысить конверсию и средний чек заказа</td>\n",
       "      <td>8</td>\n",
       "      <td>3</td>\n",
       "      <td>7</td>\n",
       "      <td>3</td>\n",
       "      <td>7.00</td>\n",
       "      <td>56.00</td>\n",
       "    </tr>\n",
       "    <tr>\n",
       "      <th>0</th>\n",
       "      <td>Добавить два новых канала привлечения трафика, что позволит привлекать на 30% больше пользователей</td>\n",
       "      <td>3</td>\n",
       "      <td>10</td>\n",
       "      <td>8</td>\n",
       "      <td>6</td>\n",
       "      <td>13.33</td>\n",
       "      <td>40.00</td>\n",
       "    </tr>\n",
       "    <tr>\n",
       "      <th>6</th>\n",
       "      <td>Показать на главной странице баннеры с актуальными акциями и распродажами, чтобы увеличить конверсию</td>\n",
       "      <td>5</td>\n",
       "      <td>3</td>\n",
       "      <td>8</td>\n",
       "      <td>3</td>\n",
       "      <td>8.00</td>\n",
       "      <td>40.00</td>\n",
       "    </tr>\n",
       "    <tr>\n",
       "      <th>8</th>\n",
       "      <td>Запустить акцию, дающую скидку на товар в день рождения</td>\n",
       "      <td>1</td>\n",
       "      <td>9</td>\n",
       "      <td>9</td>\n",
       "      <td>5</td>\n",
       "      <td>16.20</td>\n",
       "      <td>16.20</td>\n",
       "    </tr>\n",
       "    <tr>\n",
       "      <th>3</th>\n",
       "      <td>Изменить структура категорий, что увеличит конверсию, т.к. пользователи быстрее найдут нужный товар</td>\n",
       "      <td>8</td>\n",
       "      <td>3</td>\n",
       "      <td>3</td>\n",
       "      <td>8</td>\n",
       "      <td>1.12</td>\n",
       "      <td>9.00</td>\n",
       "    </tr>\n",
       "    <tr>\n",
       "      <th>1</th>\n",
       "      <td>Запустить собственную службу доставки, что сократит срок доставки заказов</td>\n",
       "      <td>2</td>\n",
       "      <td>5</td>\n",
       "      <td>4</td>\n",
       "      <td>10</td>\n",
       "      <td>2.00</td>\n",
       "      <td>4.00</td>\n",
       "    </tr>\n",
       "    <tr>\n",
       "      <th>5</th>\n",
       "      <td>Добавить страницу отзывов клиентов о магазине, что позволит увеличить количество заказов</td>\n",
       "      <td>3</td>\n",
       "      <td>2</td>\n",
       "      <td>2</td>\n",
       "      <td>3</td>\n",
       "      <td>1.33</td>\n",
       "      <td>4.00</td>\n",
       "    </tr>\n",
       "    <tr>\n",
       "      <th>4</th>\n",
       "      <td>Изменить цвет фона главной страницы, чтобы увеличить вовлеченность пользователей</td>\n",
       "      <td>3</td>\n",
       "      <td>1</td>\n",
       "      <td>1</td>\n",
       "      <td>1</td>\n",
       "      <td>1.00</td>\n",
       "      <td>3.00</td>\n",
       "    </tr>\n",
       "  </tbody>\n",
       "</table>\n",
       "</div>"
      ],
      "text/plain": [
       "                                                                                                     hypothesis  \\\n",
       "7              Добавить форму подписки на все основные страницы, чтобы собрать базу клиентов для email-рассылок   \n",
       "2  Добавить блоки рекомендаций товаров на сайт интернет магазина, чтобы повысить конверсию и средний чек заказа   \n",
       "0            Добавить два новых канала привлечения трафика, что позволит привлекать на 30% больше пользователей   \n",
       "6          Показать на главной странице баннеры с актуальными акциями и распродажами, чтобы увеличить конверсию   \n",
       "8                                                       Запустить акцию, дающую скидку на товар в день рождения   \n",
       "3           Изменить структура категорий, что увеличит конверсию, т.к. пользователи быстрее найдут нужный товар   \n",
       "1                                     Запустить собственную службу доставки, что сократит срок доставки заказов   \n",
       "5                      Добавить страницу отзывов клиентов о магазине, что позволит увеличить количество заказов   \n",
       "4                              Изменить цвет фона главной страницы, чтобы увеличить вовлеченность пользователей   \n",
       "\n",
       "   reach  impact  confidence  efforts   ICE   RICE  \n",
       "7     10       7           8        5 11.20 112.00  \n",
       "2      8       3           7        3  7.00  56.00  \n",
       "0      3      10           8        6 13.33  40.00  \n",
       "6      5       3           8        3  8.00  40.00  \n",
       "8      1       9           9        5 16.20  16.20  \n",
       "3      8       3           3        8  1.12   9.00  \n",
       "1      2       5           4       10  2.00   4.00  \n",
       "5      3       2           2        3  1.33   4.00  \n",
       "4      3       1           1        1  1.00   3.00  "
      ]
     },
     "execution_count": 12,
     "metadata": {},
     "output_type": "execute_result"
    }
   ],
   "source": [
    "# расчитаем RICE\n",
    "data['RICE']= (data['reach']*data['impact']*data['confidence'])/data['efforts']\n",
    "data.sort_values(by='RICE',ascending=False, inplace=True )\n",
    "data"
   ]
  },
  {
   "cell_type": "code",
   "execution_count": 13,
   "metadata": {},
   "outputs": [
    {
     "data": {
      "image/png": "[encoded data removed]",
      "text/plain": [
       "<Figure size 720x576 with 1 Axes>"
      ]
     },
     "metadata": {},
     "output_type": "display_data"
    }
   ],
   "source": [
    "#нарисуем барплот для наглядности\n",
    "ax = data[['hypothesis', 'RICE']].set_index('hypothesis').sort_values('RICE', ascending=True).plot(kind='barh')\n",
    "ax.set_xlabel('Приоритет')\n",
    "ax.set_ylabel('Гипотеза')\n",
    "ax.set_title('RICE')\n",
    "plt.show()"
   ]
  },
  {
   "cell_type": "markdown",
   "metadata": {},
   "source": [
    "При расчете RICE приоритет гипотез сместился.На первое место вышла гипотеза №7('Добавить форму подписки на все основные страницы, чтобы собрать базу клиентов для email-рассылок'),\n",
    "на 2 место гипотеза №2 ('Добавить блоки рекомендаций товаров на сайт интернет магазина, чтобы повысить конверсию и средний чек заказа') и гипотезу № 0 ('Добавить два новых канала привлечения трафика, что позволит привлекать на 30% больше пользователей\t') оказалась на 3 месте.\n",
    "\n",
    "Гипотеза №8 ('Запустить акцию, дающую скидку на товар в день рождения') сместилась с 1 на 5 место. Это неудивительно, так как охват у данной гипотезы всего 1. В то время как у гипотезы №7 ('Добавить форму подписки на все основные страницы, чтобы собрать базу клиентов для email-рассылок') охват равен 10, поэтому данная гипотеза в приоритете.Так произошло, потому, что формулы разные, одна учитывает охват, а другая — нет."
   ]
  },
  {
   "cell_type": "markdown",
   "metadata": {},
   "source": [
    "## Часть 2. Анализ A/B-теста"
   ]
  },
  {
   "cell_type": "code",
   "execution_count": 14,
   "metadata": {},
   "outputs": [
    {
     "data": {
      "text/html": [
       "<div>\n",
       "<style scoped>\n",
       "    .dataframe tbody tr th:only-of-type {\n",
       "        vertical-align: middle;\n",
       "    }\n",
       "\n",
       "    .dataframe tbody tr th {\n",
       "        vertical-align: top;\n",
       "    }\n",
       "\n",
       "    .dataframe thead th {\n",
       "        text-align: right;\n",
       "    }\n",
       "</style>\n",
       "<table border=\"1\" class=\"dataframe\">\n",
       "  <thead>\n",
       "    <tr style=\"text-align: right;\">\n",
       "      <th></th>\n",
       "      <th>transactionId</th>\n",
       "      <th>visitorId</th>\n",
       "      <th>date</th>\n",
       "      <th>revenue</th>\n",
       "      <th>group</th>\n",
       "    </tr>\n",
       "  </thead>\n",
       "  <tbody>\n",
       "    <tr>\n",
       "      <th>0</th>\n",
       "      <td>3667963787</td>\n",
       "      <td>3312258926</td>\n",
       "      <td>2019-08-15</td>\n",
       "      <td>1650</td>\n",
       "      <td>B</td>\n",
       "    </tr>\n",
       "    <tr>\n",
       "      <th>1</th>\n",
       "      <td>2804400009</td>\n",
       "      <td>3642806036</td>\n",
       "      <td>2019-08-15</td>\n",
       "      <td>730</td>\n",
       "      <td>B</td>\n",
       "    </tr>\n",
       "    <tr>\n",
       "      <th>2</th>\n",
       "      <td>2961555356</td>\n",
       "      <td>4069496402</td>\n",
       "      <td>2019-08-15</td>\n",
       "      <td>400</td>\n",
       "      <td>A</td>\n",
       "    </tr>\n",
       "    <tr>\n",
       "      <th>3</th>\n",
       "      <td>3797467345</td>\n",
       "      <td>1196621759</td>\n",
       "      <td>2019-08-15</td>\n",
       "      <td>9759</td>\n",
       "      <td>B</td>\n",
       "    </tr>\n",
       "    <tr>\n",
       "      <th>4</th>\n",
       "      <td>2282983706</td>\n",
       "      <td>2322279887</td>\n",
       "      <td>2019-08-15</td>\n",
       "      <td>2308</td>\n",
       "      <td>B</td>\n",
       "    </tr>\n",
       "  </tbody>\n",
       "</table>\n",
       "</div>"
      ],
      "text/plain": [
       "   transactionId   visitorId       date  revenue group\n",
       "0     3667963787  3312258926 2019-08-15     1650     B\n",
       "1     2804400009  3642806036 2019-08-15      730     B\n",
       "2     2961555356  4069496402 2019-08-15      400     A\n",
       "3     3797467345  1196621759 2019-08-15     9759     B\n",
       "4     2282983706  2322279887 2019-08-15     2308     B"
      ]
     },
     "execution_count": 14,
     "metadata": {},
     "output_type": "execute_result"
    }
   ],
   "source": [
    "#выведем таблицу orders\n",
    "orders.head()"
   ]
  },
  {
   "cell_type": "code",
   "execution_count": 15,
   "metadata": {},
   "outputs": [
    {
     "data": {
      "text/html": [
       "<div>\n",
       "<style scoped>\n",
       "    .dataframe tbody tr th:only-of-type {\n",
       "        vertical-align: middle;\n",
       "    }\n",
       "\n",
       "    .dataframe tbody tr th {\n",
       "        vertical-align: top;\n",
       "    }\n",
       "\n",
       "    .dataframe thead th {\n",
       "        text-align: right;\n",
       "    }\n",
       "</style>\n",
       "<table border=\"1\" class=\"dataframe\">\n",
       "  <thead>\n",
       "    <tr style=\"text-align: right;\">\n",
       "      <th></th>\n",
       "      <th>date</th>\n",
       "      <th>group</th>\n",
       "      <th>visitors</th>\n",
       "    </tr>\n",
       "  </thead>\n",
       "  <tbody>\n",
       "    <tr>\n",
       "      <th>0</th>\n",
       "      <td>2019-08-01</td>\n",
       "      <td>A</td>\n",
       "      <td>719</td>\n",
       "    </tr>\n",
       "    <tr>\n",
       "      <th>1</th>\n",
       "      <td>2019-08-02</td>\n",
       "      <td>A</td>\n",
       "      <td>619</td>\n",
       "    </tr>\n",
       "    <tr>\n",
       "      <th>2</th>\n",
       "      <td>2019-08-03</td>\n",
       "      <td>A</td>\n",
       "      <td>507</td>\n",
       "    </tr>\n",
       "    <tr>\n",
       "      <th>3</th>\n",
       "      <td>2019-08-04</td>\n",
       "      <td>A</td>\n",
       "      <td>717</td>\n",
       "    </tr>\n",
       "    <tr>\n",
       "      <th>4</th>\n",
       "      <td>2019-08-05</td>\n",
       "      <td>A</td>\n",
       "      <td>756</td>\n",
       "    </tr>\n",
       "  </tbody>\n",
       "</table>\n",
       "</div>"
      ],
      "text/plain": [
       "        date group  visitors\n",
       "0 2019-08-01     A       719\n",
       "1 2019-08-02     A       619\n",
       "2 2019-08-03     A       507\n",
       "3 2019-08-04     A       717\n",
       "4 2019-08-05     A       756"
      ]
     },
     "execution_count": 15,
     "metadata": {},
     "output_type": "execute_result"
    }
   ],
   "source": [
    "# выведем таблицу visitors\n",
    "visitors.head()"
   ]
  },
  {
   "cell_type": "markdown",
   "metadata": {},
   "source": [
    "Предварительно изучим количество заказов и посещений в каждой из групп."
   ]
  },
  {
   "cell_type": "code",
   "execution_count": 16,
   "metadata": {},
   "outputs": [
    {
     "data": {
      "text/html": [
       "<div>\n",
       "<style scoped>\n",
       "    .dataframe tbody tr th:only-of-type {\n",
       "        vertical-align: middle;\n",
       "    }\n",
       "\n",
       "    .dataframe tbody tr th {\n",
       "        vertical-align: top;\n",
       "    }\n",
       "\n",
       "    .dataframe thead th {\n",
       "        text-align: right;\n",
       "    }\n",
       "</style>\n",
       "<table border=\"1\" class=\"dataframe\">\n",
       "  <thead>\n",
       "    <tr style=\"text-align: right;\">\n",
       "      <th></th>\n",
       "      <th>visitors</th>\n",
       "    </tr>\n",
       "    <tr>\n",
       "      <th>group</th>\n",
       "      <th></th>\n",
       "    </tr>\n",
       "  </thead>\n",
       "  <tbody>\n",
       "    <tr>\n",
       "      <th>A</th>\n",
       "      <td>18736</td>\n",
       "    </tr>\n",
       "    <tr>\n",
       "      <th>B</th>\n",
       "      <td>18916</td>\n",
       "    </tr>\n",
       "  </tbody>\n",
       "</table>\n",
       "</div>"
      ],
      "text/plain": [
       "       visitors\n",
       "group          \n",
       "A         18736\n",
       "B         18916"
      ]
     },
     "execution_count": 16,
     "metadata": {},
     "output_type": "execute_result"
    }
   ],
   "source": [
    "# посчитаем количество посещений по группам\n",
    "visitors[['visitors', 'group']].groupby('group').sum()"
   ]
  },
  {
   "cell_type": "code",
   "execution_count": 17,
   "metadata": {},
   "outputs": [
    {
     "data": {
      "text/html": [
       "<div>\n",
       "<style scoped>\n",
       "    .dataframe tbody tr th:only-of-type {\n",
       "        vertical-align: middle;\n",
       "    }\n",
       "\n",
       "    .dataframe tbody tr th {\n",
       "        vertical-align: top;\n",
       "    }\n",
       "\n",
       "    .dataframe thead th {\n",
       "        text-align: right;\n",
       "    }\n",
       "</style>\n",
       "<table border=\"1\" class=\"dataframe\">\n",
       "  <thead>\n",
       "    <tr style=\"text-align: right;\">\n",
       "      <th></th>\n",
       "      <th>visitorId</th>\n",
       "    </tr>\n",
       "    <tr>\n",
       "      <th>group</th>\n",
       "      <th></th>\n",
       "    </tr>\n",
       "  </thead>\n",
       "  <tbody>\n",
       "    <tr>\n",
       "      <th>A</th>\n",
       "      <td>557</td>\n",
       "    </tr>\n",
       "    <tr>\n",
       "      <th>B</th>\n",
       "      <td>640</td>\n",
       "    </tr>\n",
       "  </tbody>\n",
       "</table>\n",
       "</div>"
      ],
      "text/plain": [
       "       visitorId\n",
       "group           \n",
       "A            557\n",
       "B            640"
      ]
     },
     "execution_count": 17,
     "metadata": {},
     "output_type": "execute_result"
    }
   ],
   "source": [
    "# посчитаем количество заказов по группам\n",
    "orders[['visitorId', 'group']].groupby('group').count()"
   ]
  },
  {
   "cell_type": "markdown",
   "metadata": {},
   "source": [
    "В группе В на 180 посещений больше, чем в группе А. Проверим не попали ли некоторые пользователи в разные группы"
   ]
  },
  {
   "cell_type": "code",
   "execution_count": 18,
   "metadata": {},
   "outputs": [],
   "source": [
    "# создают две переменные: «visitorsA» и «visitorsB»,\n",
    "      #  в которых хранятся ID посетителей для группы A и группы B соответственно\n",
    "visitorsA = orders[orders['group']=='A']['visitorId']\n",
    "visitorsB = orders[orders['group']=='B']['visitorId']"
   ]
  },
  {
   "cell_type": "code",
   "execution_count": 19,
   "metadata": {},
   "outputs": [
    {
     "name": "stdout",
     "output_type": "stream",
     "text": [
      "Id посетителей попавших в обе группы :  [4069496402  963407295  351125977 3234906277  199603092  237748145\n",
      " 3803269165 2038680547 2378935119 4256040402 2712142231    8300375\n",
      "  276558944  457167155 3062433592 1738359350 2458001652 2716752286\n",
      " 3891541246 1648269707 3656415546 2686716486 2954449915 2927087541\n",
      " 2579882178 3957174400 2780786433 3984495233  818047933 1668030113\n",
      " 3717692402 2044997962 1959144690 1294878855 1404934699 2587333274\n",
      " 3202540741 1333886533 2600415354 3951559397  393266494 3972127743\n",
      " 4120364173 4266935830 1230306981 1614305549  477780734 1602967004\n",
      " 1801183820 4186807279 3766097110 3941795274  471551937 1316129916\n",
      "  232979603 2654030115 3963646447 2949041841]\n",
      "-----------------------------------\n",
      "Количество посетителей попавших в обе группы 58\n"
     ]
    }
   ],
   "source": [
    "#сделаем срез посетителей попавших одновременно в обе группы\n",
    "visitors_AB = orders.loc[orders['visitorId'].isin(visitorsA)& orders['visitorId'].isin(visitorsB),'visitorId'].unique()\n",
    "# узнаем сколько таких посетителей\n",
    "visitors_AB_count = orders.loc[orders['visitorId'].isin(visitorsA)& orders['visitorId'].isin(visitorsB),'visitorId'].nunique()\n",
    "print ('Id посетителей попавших в обе группы : ',visitors_AB)\n",
    "print('-----------------------------------')\n",
    "print ('Количество посетителей попавших в обе группы',visitors_AB_count)"
   ]
  },
  {
   "cell_type": "markdown",
   "metadata": {},
   "source": [
    "Вычистим таких пользователей из заказов"
   ]
  },
  {
   "cell_type": "code",
   "execution_count": 20,
   "metadata": {},
   "outputs": [
    {
     "data": {
      "text/plain": [
       "1031"
      ]
     },
     "execution_count": 20,
     "metadata": {},
     "output_type": "execute_result"
    }
   ],
   "source": [
    "# было\n",
    "(orders.groupby('visitorId')['group'].nunique()>1).count()"
   ]
  },
  {
   "cell_type": "code",
   "execution_count": 21,
   "metadata": {},
   "outputs": [
    {
     "data": {
      "text/plain": [
       "973"
      ]
     },
     "execution_count": 21,
     "metadata": {},
     "output_type": "execute_result"
    }
   ],
   "source": [
    "# стало\n",
    "orders = orders.loc[~orders['visitorId'].isin(visitors_AB)]\n",
    "(orders.groupby('visitorId')['group'].nunique()>1).count()"
   ]
  },
  {
   "cell_type": "code",
   "execution_count": 22,
   "metadata": {},
   "outputs": [
    {
     "data": {
      "text/html": [
       "<div>\n",
       "<style scoped>\n",
       "    .dataframe tbody tr th:only-of-type {\n",
       "        vertical-align: middle;\n",
       "    }\n",
       "\n",
       "    .dataframe tbody tr th {\n",
       "        vertical-align: top;\n",
       "    }\n",
       "\n",
       "    .dataframe thead th {\n",
       "        text-align: right;\n",
       "    }\n",
       "</style>\n",
       "<table border=\"1\" class=\"dataframe\">\n",
       "  <thead>\n",
       "    <tr style=\"text-align: right;\">\n",
       "      <th></th>\n",
       "      <th>visitorId</th>\n",
       "    </tr>\n",
       "    <tr>\n",
       "      <th>group</th>\n",
       "      <th></th>\n",
       "    </tr>\n",
       "  </thead>\n",
       "  <tbody>\n",
       "    <tr>\n",
       "      <th>A</th>\n",
       "      <td>468</td>\n",
       "    </tr>\n",
       "    <tr>\n",
       "      <th>B</th>\n",
       "      <td>548</td>\n",
       "    </tr>\n",
       "  </tbody>\n",
       "</table>\n",
       "</div>"
      ],
      "text/plain": [
       "       visitorId\n",
       "group           \n",
       "A            468\n",
       "B            548"
      ]
     },
     "execution_count": 22,
     "metadata": {},
     "output_type": "execute_result"
    }
   ],
   "source": [
    "orders[['visitorId', 'group']].groupby('group').count()"
   ]
  },
  {
   "cell_type": "markdown",
   "metadata": {},
   "source": [
    "Хотя разница в заказах между группами сократилась до 80, в процентном соотношении разница увеличилась. На данный момент мы ничего не можем сделать, чтобы это изменить. Однако учтем это на будущее и продолжим как есть."
   ]
  },
  {
   "cell_type": "markdown",
   "metadata": {},
   "source": [
    "### Построим график кумулятивной выручки по группам. "
   ]
  },
  {
   "cell_type": "code",
   "execution_count": 23,
   "metadata": {},
   "outputs": [
    {
     "data": {
      "text/html": [
       "<div>\n",
       "<style scoped>\n",
       "    .dataframe tbody tr th:only-of-type {\n",
       "        vertical-align: middle;\n",
       "    }\n",
       "\n",
       "    .dataframe tbody tr th {\n",
       "        vertical-align: top;\n",
       "    }\n",
       "\n",
       "    .dataframe thead th {\n",
       "        text-align: right;\n",
       "    }\n",
       "</style>\n",
       "<table border=\"1\" class=\"dataframe\">\n",
       "  <thead>\n",
       "    <tr style=\"text-align: right;\">\n",
       "      <th></th>\n",
       "      <th>date</th>\n",
       "      <th>group</th>\n",
       "    </tr>\n",
       "  </thead>\n",
       "  <tbody>\n",
       "    <tr>\n",
       "      <th>0</th>\n",
       "      <td>2019-08-15</td>\n",
       "      <td>B</td>\n",
       "    </tr>\n",
       "    <tr>\n",
       "      <th>7</th>\n",
       "      <td>2019-08-15</td>\n",
       "      <td>A</td>\n",
       "    </tr>\n",
       "    <tr>\n",
       "      <th>45</th>\n",
       "      <td>2019-08-16</td>\n",
       "      <td>A</td>\n",
       "    </tr>\n",
       "    <tr>\n",
       "      <th>47</th>\n",
       "      <td>2019-08-16</td>\n",
       "      <td>B</td>\n",
       "    </tr>\n",
       "    <tr>\n",
       "      <th>55</th>\n",
       "      <td>2019-08-01</td>\n",
       "      <td>A</td>\n",
       "    </tr>\n",
       "  </tbody>\n",
       "</table>\n",
       "</div>"
      ],
      "text/plain": [
       "         date group\n",
       "0  2019-08-15     B\n",
       "7  2019-08-15     A\n",
       "45 2019-08-16     A\n",
       "47 2019-08-16     B\n",
       "55 2019-08-01     A"
      ]
     },
     "execution_count": 23,
     "metadata": {},
     "output_type": "execute_result"
    }
   ],
   "source": [
    "#создадим массив уникальных пар значений дат и групп теста\n",
    "datesGroups = orders[['date', 'group']].drop_duplicates()\n",
    "datesGroups.head()"
   ]
  },
  {
   "cell_type": "code",
   "execution_count": 24,
   "metadata": {},
   "outputs": [
    {
     "data": {
      "text/html": [
       "<div>\n",
       "<style scoped>\n",
       "    .dataframe tbody tr th:only-of-type {\n",
       "        vertical-align: middle;\n",
       "    }\n",
       "\n",
       "    .dataframe tbody tr th {\n",
       "        vertical-align: top;\n",
       "    }\n",
       "\n",
       "    .dataframe thead th {\n",
       "        text-align: right;\n",
       "    }\n",
       "</style>\n",
       "<table border=\"1\" class=\"dataframe\">\n",
       "  <thead>\n",
       "    <tr style=\"text-align: right;\">\n",
       "      <th></th>\n",
       "      <th>date</th>\n",
       "      <th>group</th>\n",
       "      <th>transactionId</th>\n",
       "      <th>visitorId</th>\n",
       "      <th>revenue</th>\n",
       "    </tr>\n",
       "  </thead>\n",
       "  <tbody>\n",
       "    <tr>\n",
       "      <th>55</th>\n",
       "      <td>2019-08-01</td>\n",
       "      <td>A</td>\n",
       "      <td>23</td>\n",
       "      <td>19</td>\n",
       "      <td>142779</td>\n",
       "    </tr>\n",
       "    <tr>\n",
       "      <th>66</th>\n",
       "      <td>2019-08-01</td>\n",
       "      <td>B</td>\n",
       "      <td>17</td>\n",
       "      <td>17</td>\n",
       "      <td>59758</td>\n",
       "    </tr>\n",
       "    <tr>\n",
       "      <th>175</th>\n",
       "      <td>2019-08-02</td>\n",
       "      <td>A</td>\n",
       "      <td>42</td>\n",
       "      <td>36</td>\n",
       "      <td>234381</td>\n",
       "    </tr>\n",
       "    <tr>\n",
       "      <th>173</th>\n",
       "      <td>2019-08-02</td>\n",
       "      <td>B</td>\n",
       "      <td>40</td>\n",
       "      <td>39</td>\n",
       "      <td>221801</td>\n",
       "    </tr>\n",
       "    <tr>\n",
       "      <th>291</th>\n",
       "      <td>2019-08-03</td>\n",
       "      <td>A</td>\n",
       "      <td>66</td>\n",
       "      <td>60</td>\n",
       "      <td>346854</td>\n",
       "    </tr>\n",
       "  </tbody>\n",
       "</table>\n",
       "</div>"
      ],
      "text/plain": [
       "          date group  transactionId  visitorId  revenue\n",
       "55  2019-08-01     A             23         19   142779\n",
       "66  2019-08-01     B             17         17    59758\n",
       "175 2019-08-02     A             42         36   234381\n",
       "173 2019-08-02     B             40         39   221801\n",
       "291 2019-08-03     A             66         60   346854"
      ]
     },
     "execution_count": 24,
     "metadata": {},
     "output_type": "execute_result"
    }
   ],
   "source": [
    "# cоберём агрегированные кумулятивные по дням данные о заказах\n",
    "ordersAggregated = datesGroups.apply(\n",
    "    lambda x: orders[\n",
    "        np.logical_and(\n",
    "            orders['date'] <= x['date'], orders['group'] == x['group']\n",
    "        )\n",
    "    ].agg(\n",
    "        {\n",
    "            'date': 'max',\n",
    "            'group': 'max',\n",
    "            'transactionId': 'nunique',\n",
    "            'visitorId': 'nunique',\n",
    "            'revenue': 'sum',\n",
    "        }\n",
    "    ),\n",
    "    axis=1,\n",
    ").sort_values(by=['date', 'group'])\n",
    "ordersAggregated.head()"
   ]
  },
  {
   "cell_type": "code",
   "execution_count": 25,
   "metadata": {},
   "outputs": [
    {
     "data": {
      "text/html": [
       "<div>\n",
       "<style scoped>\n",
       "    .dataframe tbody tr th:only-of-type {\n",
       "        vertical-align: middle;\n",
       "    }\n",
       "\n",
       "    .dataframe tbody tr th {\n",
       "        vertical-align: top;\n",
       "    }\n",
       "\n",
       "    .dataframe thead th {\n",
       "        text-align: right;\n",
       "    }\n",
       "</style>\n",
       "<table border=\"1\" class=\"dataframe\">\n",
       "  <thead>\n",
       "    <tr style=\"text-align: right;\">\n",
       "      <th></th>\n",
       "      <th>date</th>\n",
       "      <th>group</th>\n",
       "      <th>visitors</th>\n",
       "    </tr>\n",
       "  </thead>\n",
       "  <tbody>\n",
       "    <tr>\n",
       "      <th>55</th>\n",
       "      <td>2019-08-01</td>\n",
       "      <td>A</td>\n",
       "      <td>719</td>\n",
       "    </tr>\n",
       "    <tr>\n",
       "      <th>66</th>\n",
       "      <td>2019-08-01</td>\n",
       "      <td>B</td>\n",
       "      <td>713</td>\n",
       "    </tr>\n",
       "    <tr>\n",
       "      <th>175</th>\n",
       "      <td>2019-08-02</td>\n",
       "      <td>A</td>\n",
       "      <td>1338</td>\n",
       "    </tr>\n",
       "    <tr>\n",
       "      <th>173</th>\n",
       "      <td>2019-08-02</td>\n",
       "      <td>B</td>\n",
       "      <td>1294</td>\n",
       "    </tr>\n",
       "    <tr>\n",
       "      <th>291</th>\n",
       "      <td>2019-08-03</td>\n",
       "      <td>A</td>\n",
       "      <td>1845</td>\n",
       "    </tr>\n",
       "  </tbody>\n",
       "</table>\n",
       "</div>"
      ],
      "text/plain": [
       "          date group  visitors\n",
       "55  2019-08-01     A       719\n",
       "66  2019-08-01     B       713\n",
       "175 2019-08-02     A      1338\n",
       "173 2019-08-02     B      1294\n",
       "291 2019-08-03     A      1845"
      ]
     },
     "execution_count": 25,
     "metadata": {},
     "output_type": "execute_result"
    }
   ],
   "source": [
    "# аналогично получим агрегированные кумулятивные по дням данные о посетителях интернет-магазина\n",
    "visitorsAggregated = datesGroups.apply(\n",
    "    lambda x: visitors[\n",
    "        np.logical_and(\n",
    "            visitors['date'] <= x['date'], visitors['group'] == x['group']\n",
    "        )\n",
    "    ].agg({'date': 'max', 'group': 'max', 'visitors': 'sum'}),\n",
    "    axis=1,\n",
    ").sort_values(by=['date', 'group'])\n",
    "visitorsAggregated.head()"
   ]
  },
  {
   "cell_type": "code",
   "execution_count": 26,
   "metadata": {},
   "outputs": [],
   "source": [
    "# объединим обе таблицы в одной с понятными названиями столбцов\n",
    "cummulativeData = ordersAggregated.merge(visitorsAggregated, left_on=['date', 'group'], right_on=['date', 'group'])\n",
    "cummulativeData.columns = ['date', 'group', 'orders', 'buyers', 'revenue', 'visitors']"
   ]
  },
  {
   "cell_type": "code",
   "execution_count": 27,
   "metadata": {},
   "outputs": [
    {
     "data": {
      "text/html": [
       "<div>\n",
       "<style scoped>\n",
       "    .dataframe tbody tr th:only-of-type {\n",
       "        vertical-align: middle;\n",
       "    }\n",
       "\n",
       "    .dataframe tbody tr th {\n",
       "        vertical-align: top;\n",
       "    }\n",
       "\n",
       "    .dataframe thead th {\n",
       "        text-align: right;\n",
       "    }\n",
       "</style>\n",
       "<table border=\"1\" class=\"dataframe\">\n",
       "  <thead>\n",
       "    <tr style=\"text-align: right;\">\n",
       "      <th></th>\n",
       "      <th>date</th>\n",
       "      <th>group</th>\n",
       "      <th>orders</th>\n",
       "      <th>buyers</th>\n",
       "      <th>revenue</th>\n",
       "      <th>visitors</th>\n",
       "    </tr>\n",
       "  </thead>\n",
       "  <tbody>\n",
       "    <tr>\n",
       "      <th>7</th>\n",
       "      <td>2019-08-04</td>\n",
       "      <td>B</td>\n",
       "      <td>68</td>\n",
       "      <td>66</td>\n",
       "      <td>385740</td>\n",
       "      <td>2573</td>\n",
       "    </tr>\n",
       "    <tr>\n",
       "      <th>42</th>\n",
       "      <td>2019-08-22</td>\n",
       "      <td>A</td>\n",
       "      <td>339</td>\n",
       "      <td>321</td>\n",
       "      <td>2366147</td>\n",
       "      <td>13459</td>\n",
       "    </tr>\n",
       "    <tr>\n",
       "      <th>31</th>\n",
       "      <td>2019-08-16</td>\n",
       "      <td>B</td>\n",
       "      <td>307</td>\n",
       "      <td>302</td>\n",
       "      <td>2074677</td>\n",
       "      <td>10013</td>\n",
       "    </tr>\n",
       "    <tr>\n",
       "      <th>54</th>\n",
       "      <td>2019-08-28</td>\n",
       "      <td>A</td>\n",
       "      <td>434</td>\n",
       "      <td>413</td>\n",
       "      <td>3036933</td>\n",
       "      <td>16970</td>\n",
       "    </tr>\n",
       "    <tr>\n",
       "      <th>35</th>\n",
       "      <td>2019-08-18</td>\n",
       "      <td>B</td>\n",
       "      <td>327</td>\n",
       "      <td>321</td>\n",
       "      <td>2190865</td>\n",
       "      <td>11171</td>\n",
       "    </tr>\n",
       "  </tbody>\n",
       "</table>\n",
       "</div>"
      ],
      "text/plain": [
       "         date group  orders  buyers  revenue  visitors\n",
       "7  2019-08-04     B      68      66   385740      2573\n",
       "42 2019-08-22     A     339     321  2366147     13459\n",
       "31 2019-08-16     B     307     302  2074677     10013\n",
       "54 2019-08-28     A     434     413  3036933     16970\n",
       "35 2019-08-18     B     327     321  2190865     11171"
      ]
     },
     "execution_count": 27,
     "metadata": {},
     "output_type": "execute_result"
    }
   ],
   "source": [
    "cummulativeData.sample(5)"
   ]
  },
  {
   "cell_type": "code",
   "execution_count": 28,
   "metadata": {},
   "outputs": [
    {
     "data": {
      "text/html": [
       "<div>\n",
       "<style scoped>\n",
       "    .dataframe tbody tr th:only-of-type {\n",
       "        vertical-align: middle;\n",
       "    }\n",
       "\n",
       "    .dataframe tbody tr th {\n",
       "        vertical-align: top;\n",
       "    }\n",
       "\n",
       "    .dataframe thead th {\n",
       "        text-align: right;\n",
       "    }\n",
       "</style>\n",
       "<table border=\"1\" class=\"dataframe\">\n",
       "  <thead>\n",
       "    <tr style=\"text-align: right;\">\n",
       "      <th></th>\n",
       "      <th>date</th>\n",
       "      <th>revenue</th>\n",
       "      <th>orders</th>\n",
       "    </tr>\n",
       "  </thead>\n",
       "  <tbody>\n",
       "    <tr>\n",
       "      <th>38</th>\n",
       "      <td>2019-08-20</td>\n",
       "      <td>2103613</td>\n",
       "      <td>309</td>\n",
       "    </tr>\n",
       "    <tr>\n",
       "      <th>24</th>\n",
       "      <td>2019-08-13</td>\n",
       "      <td>1558426</td>\n",
       "      <td>214</td>\n",
       "    </tr>\n",
       "    <tr>\n",
       "      <th>42</th>\n",
       "      <td>2019-08-22</td>\n",
       "      <td>2366147</td>\n",
       "      <td>339</td>\n",
       "    </tr>\n",
       "    <tr>\n",
       "      <th>26</th>\n",
       "      <td>2019-08-14</td>\n",
       "      <td>1601692</td>\n",
       "      <td>231</td>\n",
       "    </tr>\n",
       "    <tr>\n",
       "      <th>36</th>\n",
       "      <td>2019-08-19</td>\n",
       "      <td>2044934</td>\n",
       "      <td>299</td>\n",
       "    </tr>\n",
       "  </tbody>\n",
       "</table>\n",
       "</div>"
      ],
      "text/plain": [
       "         date  revenue  orders\n",
       "38 2019-08-20  2103613     309\n",
       "24 2019-08-13  1558426     214\n",
       "42 2019-08-22  2366147     339\n",
       "26 2019-08-14  1601692     231\n",
       "36 2019-08-19  2044934     299"
      ]
     },
     "metadata": {},
     "output_type": "display_data"
    },
    {
     "data": {
      "text/html": [
       "<div>\n",
       "<style scoped>\n",
       "    .dataframe tbody tr th:only-of-type {\n",
       "        vertical-align: middle;\n",
       "    }\n",
       "\n",
       "    .dataframe tbody tr th {\n",
       "        vertical-align: top;\n",
       "    }\n",
       "\n",
       "    .dataframe thead th {\n",
       "        text-align: right;\n",
       "    }\n",
       "</style>\n",
       "<table border=\"1\" class=\"dataframe\">\n",
       "  <thead>\n",
       "    <tr style=\"text-align: right;\">\n",
       "      <th></th>\n",
       "      <th>date</th>\n",
       "      <th>revenue</th>\n",
       "      <th>orders</th>\n",
       "    </tr>\n",
       "  </thead>\n",
       "  <tbody>\n",
       "    <tr>\n",
       "      <th>43</th>\n",
       "      <td>2019-08-22</td>\n",
       "      <td>4050134</td>\n",
       "      <td>401</td>\n",
       "    </tr>\n",
       "    <tr>\n",
       "      <th>21</th>\n",
       "      <td>2019-08-11</td>\n",
       "      <td>1321183</td>\n",
       "      <td>210</td>\n",
       "    </tr>\n",
       "    <tr>\n",
       "      <th>53</th>\n",
       "      <td>2019-08-27</td>\n",
       "      <td>4579312</td>\n",
       "      <td>473</td>\n",
       "    </tr>\n",
       "    <tr>\n",
       "      <th>39</th>\n",
       "      <td>2019-08-20</td>\n",
       "      <td>3768059</td>\n",
       "      <td>368</td>\n",
       "    </tr>\n",
       "    <tr>\n",
       "      <th>35</th>\n",
       "      <td>2019-08-18</td>\n",
       "      <td>2190865</td>\n",
       "      <td>327</td>\n",
       "    </tr>\n",
       "  </tbody>\n",
       "</table>\n",
       "</div>"
      ],
      "text/plain": [
       "         date  revenue  orders\n",
       "43 2019-08-22  4050134     401\n",
       "21 2019-08-11  1321183     210\n",
       "53 2019-08-27  4579312     473\n",
       "39 2019-08-20  3768059     368\n",
       "35 2019-08-18  2190865     327"
      ]
     },
     "metadata": {},
     "output_type": "display_data"
    }
   ],
   "source": [
    "# построим графики кумулятивной выручки по дням и группам A/B-тестирования\n",
    "# датафрейм с кумулятивным количеством заказов и кумулятивной выручкой по дням в группе А\n",
    "cumulativeRevenueA = cummulativeData[cummulativeData['group']=='A'][['date','revenue', 'orders']]\n",
    "\n",
    "# датафрейм с кумулятивным количеством заказов и кумулятивной выручкой по дням в группе B\n",
    "cumulativeRevenueB = cummulativeData[cummulativeData['group']=='B'][['date','revenue', 'orders']]\n",
    "display(cumulativeRevenueA.sample(5), cumulativeRevenueB.sample(5))"
   ]
  },
  {
   "cell_type": "code",
   "execution_count": 29,
   "metadata": {},
   "outputs": [
    {
     "data": {
      "image/png": "[encoded data removed]",
      "text/plain": [
       "<Figure size 864x432 with 1 Axes>"
      ]
     },
     "metadata": {},
     "output_type": "display_data"
    }
   ],
   "source": [
    "# построим графики кумулятивной выручки по дням и группам A/B-тестирования\n",
    "plt.figure(figsize=(12, 6))\n",
    "# строим график выручки группы А\n",
    "plt.plot(cumulativeRevenueA['date'], cumulativeRevenueA['revenue'], label='A')\n",
    "# строим график выручки группы B\n",
    "plt.plot(cumulativeRevenueB['date'], cumulativeRevenueB['revenue'], label='B')\n",
    "plt.title('График кумулятивной выручки по группам')\n",
    "plt.ylabel(\"Выручка\")\n",
    "plt.xlabel(\"Дата\")\n",
    "plt.xticks(rotation=45)\n",
    "plt.legend();"
   ]
  },
  {
   "cell_type": "markdown",
   "metadata": {},
   "source": [
    "В группе А наблюдается постепенный рост, тогда как в группе B после 17 августа произошел внезапный всплеск, возможно, из-за совершения значительных покупок."
   ]
  },
  {
   "cell_type": "markdown",
   "metadata": {},
   "source": [
    "### Построим график кумулятивного среднего чека по группам."
   ]
  },
  {
   "cell_type": "code",
   "execution_count": 30,
   "metadata": {},
   "outputs": [
    {
     "data": {
      "image/png": "[encoded data removed]",
      "text/plain": [
       "<Figure size 720x432 with 1 Axes>"
      ]
     },
     "metadata": {},
     "output_type": "display_data"
    }
   ],
   "source": [
    "# построим графики среднего чека по группам — разделим кумулятивную выручку на кумулятивное число заказов\n",
    "plt.figure(figsize=(10, 6))\n",
    "plt.plot(cumulativeRevenueA['date'], cumulativeRevenueA['revenue']/cumulativeRevenueA['orders'], label='A')\n",
    "plt.plot(cumulativeRevenueB['date'], cumulativeRevenueB['revenue']/cumulativeRevenueB['orders'], label='B')\n",
    "plt.title('График кумулятивного среднего чека по группам')\n",
    "plt.ylabel(\"Выручка\")\n",
    "plt.xlabel(\"Дата\")\n",
    "plt.xticks(rotation=45)\n",
    "plt.legend();"
   ]
  },
  {
   "cell_type": "markdown",
   "metadata": {},
   "source": [
    "Устойчивая тенденция к более высокому среднему чеку группы B очевидна, но резкие и значительные колебания во второй половине графика вызывают подозрения о возможных аномалиях.Как видим, результаты среднего чека такие же, с 2019-08-17 резкий скачёк группы В, возможно во второй половине теста попали крупные заказы."
   ]
  },
  {
   "cell_type": "markdown",
   "metadata": {},
   "source": [
    "### Построим график относительного изменения кумулятивного среднего чека группы B к группе A. "
   ]
  },
  {
   "cell_type": "code",
   "execution_count": 31,
   "metadata": {},
   "outputs": [
    {
     "data": {
      "image/png": "[encoded data removed]",
      "text/plain": [
       "<Figure size 720x432 with 1 Axes>"
      ]
     },
     "metadata": {},
     "output_type": "display_data"
    }
   ],
   "source": [
    "# построим график относительного различия для среднего чека\n",
    "# собираем данные в одном датафрейме\n",
    "mergedCumulativeRevenue = cumulativeRevenueA.merge(cumulativeRevenueB, left_on='date', right_on='date', \\\n",
    "                                                   how='left', suffixes=['A', 'B'])\n",
    "plt.figure(figsize=(10, 6))\n",
    "# cтроим отношение средних чеков\n",
    "plt.plot(mergedCumulativeRevenue['date'], \n",
    "         (mergedCumulativeRevenue['revenueB']/mergedCumulativeRevenue['ordersB'])\\\n",
    "         /(mergedCumulativeRevenue['revenueA']/mergedCumulativeRevenue['ordersA'])-1)\n",
    "\n",
    "# добавляем ось X\n",
    "plt.axhline(y=0, color='red', linestyle='--')\n",
    "plt.title('График относительного изменения кумулятивного среднего чека группы B к группе A')\n",
    "plt.xlabel('Дата')\n",
    "plt.ylabel('Относительная разница среднего чека')\n",
    "plt.xticks(rotation=45);"
   ]
  },
  {
   "cell_type": "code",
   "execution_count": 32,
   "metadata": {},
   "outputs": [
    {
     "data": {
      "text/html": [
       "<div>\n",
       "<style scoped>\n",
       "    .dataframe tbody tr th:only-of-type {\n",
       "        vertical-align: middle;\n",
       "    }\n",
       "\n",
       "    .dataframe tbody tr th {\n",
       "        vertical-align: top;\n",
       "    }\n",
       "\n",
       "    .dataframe thead th {\n",
       "        text-align: right;\n",
       "    }\n",
       "</style>\n",
       "<table border=\"1\" class=\"dataframe\">\n",
       "  <thead>\n",
       "    <tr style=\"text-align: right;\">\n",
       "      <th></th>\n",
       "      <th>date</th>\n",
       "      <th>revenueA</th>\n",
       "      <th>ordersA</th>\n",
       "      <th>revenueB</th>\n",
       "      <th>ordersB</th>\n",
       "    </tr>\n",
       "  </thead>\n",
       "  <tbody>\n",
       "    <tr>\n",
       "      <th>0</th>\n",
       "      <td>2019-08-01</td>\n",
       "      <td>142779</td>\n",
       "      <td>23</td>\n",
       "      <td>59758</td>\n",
       "      <td>17</td>\n",
       "    </tr>\n",
       "    <tr>\n",
       "      <th>1</th>\n",
       "      <td>2019-08-02</td>\n",
       "      <td>234381</td>\n",
       "      <td>42</td>\n",
       "      <td>221801</td>\n",
       "      <td>40</td>\n",
       "    </tr>\n",
       "    <tr>\n",
       "      <th>2</th>\n",
       "      <td>2019-08-03</td>\n",
       "      <td>346854</td>\n",
       "      <td>66</td>\n",
       "      <td>288850</td>\n",
       "      <td>54</td>\n",
       "    </tr>\n",
       "    <tr>\n",
       "      <th>3</th>\n",
       "      <td>2019-08-04</td>\n",
       "      <td>388030</td>\n",
       "      <td>77</td>\n",
       "      <td>385740</td>\n",
       "      <td>68</td>\n",
       "    </tr>\n",
       "    <tr>\n",
       "      <th>4</th>\n",
       "      <td>2019-08-05</td>\n",
       "      <td>474413</td>\n",
       "      <td>99</td>\n",
       "      <td>475648</td>\n",
       "      <td>89</td>\n",
       "    </tr>\n",
       "    <tr>\n",
       "      <th>5</th>\n",
       "      <td>2019-08-06</td>\n",
       "      <td>515332</td>\n",
       "      <td>114</td>\n",
       "      <td>690490</td>\n",
       "      <td>112</td>\n",
       "    </tr>\n",
       "    <tr>\n",
       "      <th>6</th>\n",
       "      <td>2019-08-07</td>\n",
       "      <td>638580</td>\n",
       "      <td>130</td>\n",
       "      <td>909654</td>\n",
       "      <td>135</td>\n",
       "    </tr>\n",
       "    <tr>\n",
       "      <th>7</th>\n",
       "      <td>2019-08-08</td>\n",
       "      <td>727219</td>\n",
       "      <td>144</td>\n",
       "      <td>1059795</td>\n",
       "      <td>157</td>\n",
       "    </tr>\n",
       "    <tr>\n",
       "      <th>8</th>\n",
       "      <td>2019-08-09</td>\n",
       "      <td>861456</td>\n",
       "      <td>155</td>\n",
       "      <td>1162961</td>\n",
       "      <td>176</td>\n",
       "    </tr>\n",
       "    <tr>\n",
       "      <th>9</th>\n",
       "      <td>2019-08-10</td>\n",
       "      <td>1013731</td>\n",
       "      <td>170</td>\n",
       "      <td>1268123</td>\n",
       "      <td>198</td>\n",
       "    </tr>\n",
       "    <tr>\n",
       "      <th>10</th>\n",
       "      <td>2019-08-11</td>\n",
       "      <td>1074396</td>\n",
       "      <td>181</td>\n",
       "      <td>1321183</td>\n",
       "      <td>210</td>\n",
       "    </tr>\n",
       "    <tr>\n",
       "      <th>11</th>\n",
       "      <td>2019-08-12</td>\n",
       "      <td>1294788</td>\n",
       "      <td>200</td>\n",
       "      <td>1425237</td>\n",
       "      <td>229</td>\n",
       "    </tr>\n",
       "    <tr>\n",
       "      <th>12</th>\n",
       "      <td>2019-08-13</td>\n",
       "      <td>1558426</td>\n",
       "      <td>214</td>\n",
       "      <td>1542928</td>\n",
       "      <td>249</td>\n",
       "    </tr>\n",
       "    <tr>\n",
       "      <th>13</th>\n",
       "      <td>2019-08-14</td>\n",
       "      <td>1601692</td>\n",
       "      <td>231</td>\n",
       "      <td>1650268</td>\n",
       "      <td>263</td>\n",
       "    </tr>\n",
       "    <tr>\n",
       "      <th>14</th>\n",
       "      <td>2019-08-15</td>\n",
       "      <td>1682569</td>\n",
       "      <td>241</td>\n",
       "      <td>1960427</td>\n",
       "      <td>289</td>\n",
       "    </tr>\n",
       "    <tr>\n",
       "      <th>15</th>\n",
       "      <td>2019-08-16</td>\n",
       "      <td>1782420</td>\n",
       "      <td>259</td>\n",
       "      <td>2074677</td>\n",
       "      <td>307</td>\n",
       "    </tr>\n",
       "    <tr>\n",
       "      <th>16</th>\n",
       "      <td>2019-08-17</td>\n",
       "      <td>1817160</td>\n",
       "      <td>265</td>\n",
       "      <td>2155542</td>\n",
       "      <td>320</td>\n",
       "    </tr>\n",
       "    <tr>\n",
       "      <th>17</th>\n",
       "      <td>2019-08-18</td>\n",
       "      <td>1876741</td>\n",
       "      <td>278</td>\n",
       "      <td>2190865</td>\n",
       "      <td>327</td>\n",
       "    </tr>\n",
       "    <tr>\n",
       "      <th>18</th>\n",
       "      <td>2019-08-19</td>\n",
       "      <td>2044934</td>\n",
       "      <td>299</td>\n",
       "      <td>3620785</td>\n",
       "      <td>348</td>\n",
       "    </tr>\n",
       "    <tr>\n",
       "      <th>19</th>\n",
       "      <td>2019-08-20</td>\n",
       "      <td>2103613</td>\n",
       "      <td>309</td>\n",
       "      <td>3768059</td>\n",
       "      <td>368</td>\n",
       "    </tr>\n",
       "    <tr>\n",
       "      <th>20</th>\n",
       "      <td>2019-08-21</td>\n",
       "      <td>2273782</td>\n",
       "      <td>329</td>\n",
       "      <td>3908406</td>\n",
       "      <td>380</td>\n",
       "    </tr>\n",
       "    <tr>\n",
       "      <th>21</th>\n",
       "      <td>2019-08-22</td>\n",
       "      <td>2366147</td>\n",
       "      <td>339</td>\n",
       "      <td>4050134</td>\n",
       "      <td>401</td>\n",
       "    </tr>\n",
       "    <tr>\n",
       "      <th>22</th>\n",
       "      <td>2019-08-23</td>\n",
       "      <td>2424010</td>\n",
       "      <td>359</td>\n",
       "      <td>4127403</td>\n",
       "      <td>414</td>\n",
       "    </tr>\n",
       "    <tr>\n",
       "      <th>23</th>\n",
       "      <td>2019-08-24</td>\n",
       "      <td>2546023</td>\n",
       "      <td>372</td>\n",
       "      <td>4215269</td>\n",
       "      <td>428</td>\n",
       "    </tr>\n",
       "    <tr>\n",
       "      <th>24</th>\n",
       "      <td>2019-08-25</td>\n",
       "      <td>2597907</td>\n",
       "      <td>380</td>\n",
       "      <td>4294526</td>\n",
       "      <td>440</td>\n",
       "    </tr>\n",
       "    <tr>\n",
       "      <th>25</th>\n",
       "      <td>2019-08-26</td>\n",
       "      <td>2755121</td>\n",
       "      <td>396</td>\n",
       "      <td>4467965</td>\n",
       "      <td>462</td>\n",
       "    </tr>\n",
       "    <tr>\n",
       "      <th>26</th>\n",
       "      <td>2019-08-27</td>\n",
       "      <td>2940471</td>\n",
       "      <td>419</td>\n",
       "      <td>4579312</td>\n",
       "      <td>473</td>\n",
       "    </tr>\n",
       "    <tr>\n",
       "      <th>27</th>\n",
       "      <td>2019-08-28</td>\n",
       "      <td>3036933</td>\n",
       "      <td>434</td>\n",
       "      <td>4640510</td>\n",
       "      <td>495</td>\n",
       "    </tr>\n",
       "    <tr>\n",
       "      <th>28</th>\n",
       "      <td>2019-08-29</td>\n",
       "      <td>3233233</td>\n",
       "      <td>451</td>\n",
       "      <td>4746610</td>\n",
       "      <td>510</td>\n",
       "    </tr>\n",
       "    <tr>\n",
       "      <th>29</th>\n",
       "      <td>2019-08-30</td>\n",
       "      <td>3311413</td>\n",
       "      <td>460</td>\n",
       "      <td>4955833</td>\n",
       "      <td>531</td>\n",
       "    </tr>\n",
       "    <tr>\n",
       "      <th>30</th>\n",
       "      <td>2019-08-31</td>\n",
       "      <td>3364656</td>\n",
       "      <td>468</td>\n",
       "      <td>5068972</td>\n",
       "      <td>548</td>\n",
       "    </tr>\n",
       "  </tbody>\n",
       "</table>\n",
       "</div>"
      ],
      "text/plain": [
       "         date  revenueA  ordersA  revenueB  ordersB\n",
       "0  2019-08-01    142779       23     59758       17\n",
       "1  2019-08-02    234381       42    221801       40\n",
       "2  2019-08-03    346854       66    288850       54\n",
       "3  2019-08-04    388030       77    385740       68\n",
       "4  2019-08-05    474413       99    475648       89\n",
       "5  2019-08-06    515332      114    690490      112\n",
       "6  2019-08-07    638580      130    909654      135\n",
       "7  2019-08-08    727219      144   1059795      157\n",
       "8  2019-08-09    861456      155   1162961      176\n",
       "9  2019-08-10   1013731      170   1268123      198\n",
       "10 2019-08-11   1074396      181   1321183      210\n",
       "11 2019-08-12   1294788      200   1425237      229\n",
       "12 2019-08-13   1558426      214   1542928      249\n",
       "13 2019-08-14   1601692      231   1650268      263\n",
       "14 2019-08-15   1682569      241   1960427      289\n",
       "15 2019-08-16   1782420      259   2074677      307\n",
       "16 2019-08-17   1817160      265   2155542      320\n",
       "17 2019-08-18   1876741      278   2190865      327\n",
       "18 2019-08-19   2044934      299   3620785      348\n",
       "19 2019-08-20   2103613      309   3768059      368\n",
       "20 2019-08-21   2273782      329   3908406      380\n",
       "21 2019-08-22   2366147      339   4050134      401\n",
       "22 2019-08-23   2424010      359   4127403      414\n",
       "23 2019-08-24   2546023      372   4215269      428\n",
       "24 2019-08-25   2597907      380   4294526      440\n",
       "25 2019-08-26   2755121      396   4467965      462\n",
       "26 2019-08-27   2940471      419   4579312      473\n",
       "27 2019-08-28   3036933      434   4640510      495\n",
       "28 2019-08-29   3233233      451   4746610      510\n",
       "29 2019-08-30   3311413      460   4955833      531\n",
       "30 2019-08-31   3364656      468   5068972      548"
      ]
     },
     "execution_count": 32,
     "metadata": {},
     "output_type": "execute_result"
    }
   ],
   "source": [
    "mergedCumulativeRevenue"
   ]
  },
  {
   "cell_type": "markdown",
   "metadata": {},
   "source": [
    "Дополнительные доказательства подтверждают наличие аномально больших заказов. Раньше я думала, что они присутствуют только после 17.08, но теперь подозреваю, что они могут существовать и ранее."
   ]
  },
  {
   "cell_type": "markdown",
   "metadata": {},
   "source": [
    "### Построим график кумулятивного среднего количества заказов на посетителя по группам. "
   ]
  },
  {
   "cell_type": "code",
   "execution_count": 33,
   "metadata": {},
   "outputs": [],
   "source": [
    "# проанализируем график кумулятивной конверсии\n",
    "cummulativeData['conversion'] = cummulativeData['orders']/cummulativeData['visitors']"
   ]
  },
  {
   "cell_type": "code",
   "execution_count": 34,
   "metadata": {},
   "outputs": [],
   "source": [
    "# отделим данные по группам\n",
    "cummulativeDataA = cummulativeData[cummulativeData['group']=='A']\n",
    "cummulativeDataB = cummulativeData[cummulativeData['group']=='B']\n"
   ]
  },
  {
   "cell_type": "code",
   "execution_count": 35,
   "metadata": {},
   "outputs": [
    {
     "data": {
      "text/html": [
       "<div>\n",
       "<style scoped>\n",
       "    .dataframe tbody tr th:only-of-type {\n",
       "        vertical-align: middle;\n",
       "    }\n",
       "\n",
       "    .dataframe tbody tr th {\n",
       "        vertical-align: top;\n",
       "    }\n",
       "\n",
       "    .dataframe thead th {\n",
       "        text-align: right;\n",
       "    }\n",
       "</style>\n",
       "<table border=\"1\" class=\"dataframe\">\n",
       "  <thead>\n",
       "    <tr style=\"text-align: right;\">\n",
       "      <th></th>\n",
       "      <th>date</th>\n",
       "      <th>group</th>\n",
       "      <th>orders</th>\n",
       "      <th>buyers</th>\n",
       "      <th>revenue</th>\n",
       "      <th>visitors</th>\n",
       "      <th>conversion</th>\n",
       "    </tr>\n",
       "  </thead>\n",
       "  <tbody>\n",
       "    <tr>\n",
       "      <th>0</th>\n",
       "      <td>2019-08-01</td>\n",
       "      <td>A</td>\n",
       "      <td>23</td>\n",
       "      <td>19</td>\n",
       "      <td>142779</td>\n",
       "      <td>719</td>\n",
       "      <td>0.03</td>\n",
       "    </tr>\n",
       "    <tr>\n",
       "      <th>2</th>\n",
       "      <td>2019-08-02</td>\n",
       "      <td>A</td>\n",
       "      <td>42</td>\n",
       "      <td>36</td>\n",
       "      <td>234381</td>\n",
       "      <td>1338</td>\n",
       "      <td>0.03</td>\n",
       "    </tr>\n",
       "    <tr>\n",
       "      <th>4</th>\n",
       "      <td>2019-08-03</td>\n",
       "      <td>A</td>\n",
       "      <td>66</td>\n",
       "      <td>60</td>\n",
       "      <td>346854</td>\n",
       "      <td>1845</td>\n",
       "      <td>0.04</td>\n",
       "    </tr>\n",
       "    <tr>\n",
       "      <th>6</th>\n",
       "      <td>2019-08-04</td>\n",
       "      <td>A</td>\n",
       "      <td>77</td>\n",
       "      <td>71</td>\n",
       "      <td>388030</td>\n",
       "      <td>2562</td>\n",
       "      <td>0.03</td>\n",
       "    </tr>\n",
       "    <tr>\n",
       "      <th>8</th>\n",
       "      <td>2019-08-05</td>\n",
       "      <td>A</td>\n",
       "      <td>99</td>\n",
       "      <td>92</td>\n",
       "      <td>474413</td>\n",
       "      <td>3318</td>\n",
       "      <td>0.03</td>\n",
       "    </tr>\n",
       "  </tbody>\n",
       "</table>\n",
       "</div>"
      ],
      "text/plain": [
       "        date group  orders  buyers  revenue  visitors  conversion\n",
       "0 2019-08-01     A      23      19   142779       719        0.03\n",
       "2 2019-08-02     A      42      36   234381      1338        0.03\n",
       "4 2019-08-03     A      66      60   346854      1845        0.04\n",
       "6 2019-08-04     A      77      71   388030      2562        0.03\n",
       "8 2019-08-05     A      99      92   474413      3318        0.03"
      ]
     },
     "execution_count": 35,
     "metadata": {},
     "output_type": "execute_result"
    }
   ],
   "source": [
    "cummulativeDataA.head()"
   ]
  },
  {
   "cell_type": "code",
   "execution_count": 36,
   "metadata": {},
   "outputs": [
    {
     "data": {
      "image/png": "[encoded data removed]",
      "text/plain": [
       "<Figure size 720x576 with 1 Axes>"
      ]
     },
     "metadata": {},
     "output_type": "display_data"
    }
   ],
   "source": [
    "#построим график кумулятивной конверсии по группам A/B\n",
    "fig = plt.figure()\n",
    "plt.plot(cummulativeDataA['date'], cummulativeDataA['conversion'], label='A')\n",
    "plt.plot(cummulativeDataB['date'], cummulativeDataB['conversion'], label='B')\n",
    "plt.title('График кумулятивной конверсии по группам A/B')\n",
    "plt.xlabel('Дата')\n",
    "plt.ylabel('Конверсия')\n",
    "plt.legend()\n",
    "fig.autofmt_xdate();"
   ]
  },
  {
   "cell_type": "markdown",
   "metadata": {},
   "source": [
    "С начала месяца конверсия A была значительно больше, 3 августа она была максимальной за весь период наблюдения и после пика сразу пошла на спад. Конверсия группы B с 4 августа начала расти и уже 6 августа превысила конверсию A. Можно сделать вывод - конверсия группы B в целом значительно больше A (начиная с 6 августа стабильно конверсия B больше A)."
   ]
  },
  {
   "cell_type": "markdown",
   "metadata": {},
   "source": [
    "### Построим график относительного различия кумулятивных конверсий"
   ]
  },
  {
   "cell_type": "code",
   "execution_count": 37,
   "metadata": {},
   "outputs": [
    {
     "data": {
      "text/html": [
       "<div>\n",
       "<style scoped>\n",
       "    .dataframe tbody tr th:only-of-type {\n",
       "        vertical-align: middle;\n",
       "    }\n",
       "\n",
       "    .dataframe tbody tr th {\n",
       "        vertical-align: top;\n",
       "    }\n",
       "\n",
       "    .dataframe thead th {\n",
       "        text-align: right;\n",
       "    }\n",
       "</style>\n",
       "<table border=\"1\" class=\"dataframe\">\n",
       "  <thead>\n",
       "    <tr style=\"text-align: right;\">\n",
       "      <th></th>\n",
       "      <th>date</th>\n",
       "      <th>conversionA</th>\n",
       "      <th>conversionB</th>\n",
       "    </tr>\n",
       "  </thead>\n",
       "  <tbody>\n",
       "    <tr>\n",
       "      <th>0</th>\n",
       "      <td>2019-08-01</td>\n",
       "      <td>0.03</td>\n",
       "      <td>0.02</td>\n",
       "    </tr>\n",
       "    <tr>\n",
       "      <th>1</th>\n",
       "      <td>2019-08-02</td>\n",
       "      <td>0.03</td>\n",
       "      <td>0.03</td>\n",
       "    </tr>\n",
       "    <tr>\n",
       "      <th>2</th>\n",
       "      <td>2019-08-03</td>\n",
       "      <td>0.04</td>\n",
       "      <td>0.03</td>\n",
       "    </tr>\n",
       "    <tr>\n",
       "      <th>3</th>\n",
       "      <td>2019-08-04</td>\n",
       "      <td>0.03</td>\n",
       "      <td>0.03</td>\n",
       "    </tr>\n",
       "    <tr>\n",
       "      <th>4</th>\n",
       "      <td>2019-08-05</td>\n",
       "      <td>0.03</td>\n",
       "      <td>0.03</td>\n",
       "    </tr>\n",
       "  </tbody>\n",
       "</table>\n",
       "</div>"
      ],
      "text/plain": [
       "        date  conversionA  conversionB\n",
       "0 2019-08-01         0.03         0.02\n",
       "1 2019-08-02         0.03         0.03\n",
       "2 2019-08-03         0.04         0.03\n",
       "3 2019-08-04         0.03         0.03\n",
       "4 2019-08-05         0.03         0.03"
      ]
     },
     "execution_count": 37,
     "metadata": {},
     "output_type": "execute_result"
    }
   ],
   "source": [
    "# объедеим две таблицы коммулятивной конверсии по группам\n",
    "mergedCummulativeConversions = cummulativeDataA[['date', 'conversion']]\\\n",
    ".merge(cummulativeDataB[['date', 'conversion']], left_on = 'date', right_on = 'date', how = 'left', suffixes = ['A', 'B'])\n",
    "mergedCummulativeConversions.head()"
   ]
  },
  {
   "cell_type": "code",
   "execution_count": 38,
   "metadata": {},
   "outputs": [
    {
     "data": {
      "image/png": "[encoded data removed]",
      "text/plain": [
       "<Figure size 720x576 with 1 Axes>"
      ]
     },
     "metadata": {},
     "output_type": "display_data"
    }
   ],
   "source": [
    "# отрисуем график относительного прироста конверсии группы B относительно группы A\n",
    "plt.plot(mergedCummulativeConversions['date'], mergedCummulativeConversions['conversionB']/mergedCummulativeConversions['conversionA']-1, label = \"Относительный прирост конверсии группы B относительно группы A\")\n",
    "plt.axhline(y=0, color='black', linestyle='--')\n",
    "plt.axhline(y=-0.1, color='grey', linestyle='--')\n",
    "plt.title('График относительного прироста конверсии группы B к группе A')\n",
    "plt.xlabel('Дата')\n",
    "plt.ylabel('Конверсия')\n",
    "plt.xticks(rotation=45)\n",
    "plt.legend();"
   ]
  },
  {
   "cell_type": "markdown",
   "metadata": {},
   "source": [
    "Конверсия в группе B стабильно выше конверсии в группе A"
   ]
  },
  {
   "cell_type": "markdown",
   "metadata": {},
   "source": [
    "### Построим точечный график количества заказов по пользователям."
   ]
  },
  {
   "cell_type": "code",
   "execution_count": 39,
   "metadata": {},
   "outputs": [
    {
     "data": {
      "text/html": [
       "<div>\n",
       "<style scoped>\n",
       "    .dataframe tbody tr th:only-of-type {\n",
       "        vertical-align: middle;\n",
       "    }\n",
       "\n",
       "    .dataframe tbody tr th {\n",
       "        vertical-align: top;\n",
       "    }\n",
       "\n",
       "    .dataframe thead th {\n",
       "        text-align: right;\n",
       "    }\n",
       "</style>\n",
       "<table border=\"1\" class=\"dataframe\">\n",
       "  <thead>\n",
       "    <tr style=\"text-align: right;\">\n",
       "      <th></th>\n",
       "      <th>visitorId</th>\n",
       "      <th>orders</th>\n",
       "    </tr>\n",
       "  </thead>\n",
       "  <tbody>\n",
       "    <tr>\n",
       "      <th>908</th>\n",
       "      <td>3967698036</td>\n",
       "      <td>3</td>\n",
       "    </tr>\n",
       "    <tr>\n",
       "      <th>55</th>\n",
       "      <td>249864742</td>\n",
       "      <td>3</td>\n",
       "    </tr>\n",
       "    <tr>\n",
       "      <th>478</th>\n",
       "      <td>2108163459</td>\n",
       "      <td>3</td>\n",
       "    </tr>\n",
       "    <tr>\n",
       "      <th>687</th>\n",
       "      <td>2988190573</td>\n",
       "      <td>3</td>\n",
       "    </tr>\n",
       "    <tr>\n",
       "      <th>890</th>\n",
       "      <td>3908431265</td>\n",
       "      <td>3</td>\n",
       "    </tr>\n",
       "    <tr>\n",
       "      <th>138</th>\n",
       "      <td>611059232</td>\n",
       "      <td>3</td>\n",
       "    </tr>\n",
       "    <tr>\n",
       "      <th>632</th>\n",
       "      <td>2742574263</td>\n",
       "      <td>3</td>\n",
       "    </tr>\n",
       "    <tr>\n",
       "      <th>157</th>\n",
       "      <td>678354126</td>\n",
       "      <td>2</td>\n",
       "    </tr>\n",
       "    <tr>\n",
       "      <th>323</th>\n",
       "      <td>1404560065</td>\n",
       "      <td>2</td>\n",
       "    </tr>\n",
       "    <tr>\n",
       "      <th>452</th>\n",
       "      <td>1985475298</td>\n",
       "      <td>2</td>\n",
       "    </tr>\n",
       "  </tbody>\n",
       "</table>\n",
       "</div>"
      ],
      "text/plain": [
       "      visitorId  orders\n",
       "908  3967698036       3\n",
       "55    249864742       3\n",
       "478  2108163459       3\n",
       "687  2988190573       3\n",
       "890  3908431265       3\n",
       "138   611059232       3\n",
       "632  2742574263       3\n",
       "157   678354126       2\n",
       "323  1404560065       2\n",
       "452  1985475298       2"
      ]
     },
     "execution_count": 39,
     "metadata": {},
     "output_type": "execute_result"
    }
   ],
   "source": [
    "# подсчитаем количество заказов по пользователям и посмотрим на результат\n",
    "ordersByUsers = (\n",
    "    orders.groupby('visitorId', as_index=False)\n",
    "    .agg({'transactionId': 'nunique'})\n",
    ")\n",
    "ordersByUsers.columns = ['visitorId', 'orders']\n",
    "\n",
    "ordersByUsers.sort_values(by='orders', ascending=False).head(10)\n"
   ]
  },
  {
   "cell_type": "code",
   "execution_count": 40,
   "metadata": {},
   "outputs": [
    {
     "data": {
      "image/png": "[encoded data removed]",
      "text/plain": [
       "<Figure size 720x432 with 1 Axes>"
      ]
     },
     "metadata": {},
     "output_type": "display_data"
    }
   ],
   "source": [
    "plt.figure(figsize=(10, 6))\n",
    "# серия из чисел от 0 до количества наблюдений в ordersByUsers\n",
    "x_values = pd.Series(range(0, len(ordersByUsers)))\n",
    "plt.scatter(x_values, ordersByUsers['orders'])\n",
    "plt.title('Диаграма рассеяния числа заказов на одного пользователя')\n",
    "plt.xlabel('Идентификатор пользователя')\n",
    "plt.ylabel('Число заказов')\n",
    "plt.xticks(rotation=45);"
   ]
  },
  {
   "cell_type": "markdown",
   "metadata": {},
   "source": [
    " Есть пользователи, которые совершали 3 заказа. Но большинство пользователей с 1 или 2 заказами."
   ]
  },
  {
   "cell_type": "markdown",
   "metadata": {},
   "source": [
    "### Посчитаем 95-й и 99-й перцентили количества заказов на пользователя. Выберем границу для определения аномальных пользователей."
   ]
  },
  {
   "cell_type": "code",
   "execution_count": 41,
   "metadata": {},
   "outputs": [
    {
     "data": {
      "text/html": [
       "<div>\n",
       "<style scoped>\n",
       "    .dataframe tbody tr th:only-of-type {\n",
       "        vertical-align: middle;\n",
       "    }\n",
       "\n",
       "    .dataframe tbody tr th {\n",
       "        vertical-align: top;\n",
       "    }\n",
       "\n",
       "    .dataframe thead th {\n",
       "        text-align: right;\n",
       "    }\n",
       "</style>\n",
       "<table border=\"1\" class=\"dataframe\">\n",
       "  <thead>\n",
       "    <tr style=\"text-align: right;\">\n",
       "      <th></th>\n",
       "      <th>visitorId</th>\n",
       "      <th>orders</th>\n",
       "    </tr>\n",
       "  </thead>\n",
       "  <tbody>\n",
       "    <tr>\n",
       "      <th>908</th>\n",
       "      <td>3967698036</td>\n",
       "      <td>3</td>\n",
       "    </tr>\n",
       "    <tr>\n",
       "      <th>55</th>\n",
       "      <td>249864742</td>\n",
       "      <td>3</td>\n",
       "    </tr>\n",
       "    <tr>\n",
       "      <th>478</th>\n",
       "      <td>2108163459</td>\n",
       "      <td>3</td>\n",
       "    </tr>\n",
       "    <tr>\n",
       "      <th>687</th>\n",
       "      <td>2988190573</td>\n",
       "      <td>3</td>\n",
       "    </tr>\n",
       "    <tr>\n",
       "      <th>890</th>\n",
       "      <td>3908431265</td>\n",
       "      <td>3</td>\n",
       "    </tr>\n",
       "    <tr>\n",
       "      <th>138</th>\n",
       "      <td>611059232</td>\n",
       "      <td>3</td>\n",
       "    </tr>\n",
       "    <tr>\n",
       "      <th>632</th>\n",
       "      <td>2742574263</td>\n",
       "      <td>3</td>\n",
       "    </tr>\n",
       "    <tr>\n",
       "      <th>157</th>\n",
       "      <td>678354126</td>\n",
       "      <td>2</td>\n",
       "    </tr>\n",
       "    <tr>\n",
       "      <th>323</th>\n",
       "      <td>1404560065</td>\n",
       "      <td>2</td>\n",
       "    </tr>\n",
       "    <tr>\n",
       "      <th>452</th>\n",
       "      <td>1985475298</td>\n",
       "      <td>2</td>\n",
       "    </tr>\n",
       "  </tbody>\n",
       "</table>\n",
       "</div>"
      ],
      "text/plain": [
       "      visitorId  orders\n",
       "908  3967698036       3\n",
       "55    249864742       3\n",
       "478  2108163459       3\n",
       "687  2988190573       3\n",
       "890  3908431265       3\n",
       "138   611059232       3\n",
       "632  2742574263       3\n",
       "157   678354126       2\n",
       "323  1404560065       2\n",
       "452  1985475298       2"
      ]
     },
     "metadata": {},
     "output_type": "display_data"
    },
    {
     "data": {
      "text/plain": [
       "array([1., 1., 2.])"
      ]
     },
     "execution_count": 41,
     "metadata": {},
     "output_type": "execute_result"
    }
   ],
   "source": [
    "display(ordersByUsers.sort_values(by='orders', ascending=False).head(10))\n",
    "# посчитаем выборочные перцентили количества заказов на одного пользователя\n",
    "np.percentile(ordersByUsers['orders'], [90,95,99])\n"
   ]
  },
  {
   "cell_type": "markdown",
   "metadata": {},
   "source": [
    "Менее 5% пользователей сделали более двух заказов, и только 1% пользователей разместили более четырех заказов.\n",
    "\n",
    "Чтобы выявить аномальных пользователей, мы можем установить минимальное требование — 2 заказа на пользователя и исключить тех, кто падает ниже этого порога.\n",
    "\n"
   ]
  },
  {
   "cell_type": "markdown",
   "metadata": {},
   "source": [
    "### Построем точечный график стоимостей заказов."
   ]
  },
  {
   "cell_type": "code",
   "execution_count": 42,
   "metadata": {
    "scrolled": false
   },
   "outputs": [
    {
     "data": {
      "image/png": "[encoded data removed]",
      "text/plain": [
       "<Figure size 1080x432 with 1 Axes>"
      ]
     },
     "metadata": {},
     "output_type": "display_data"
    }
   ],
   "source": [
    "#строим диаграмму рассеяния стоимости заказов на одного пользователя\n",
    "plt.figure(figsize=(15, 6))\n",
    "x_values = pd.Series(range(0, len(orders['revenue'])))\n",
    "plt.scatter(x_values, orders['revenue'])\n",
    "plt.title('Диаграмма рассеяния стоимости заказов на одного пользователя')\n",
    "# установим максимум и минимум осей \n",
    "plt.axis([0, 1200, 0, 150000])\n",
    "plt.ylabel('Сумма')\n",
    "plt.xlabel('Идентификатор пользователя');"
   ]
  },
  {
   "cell_type": "markdown",
   "metadata": {},
   "source": [
    "Судя по графику, большая часть пользователей делает покупки суммой не больше 25-30 т.р. "
   ]
  },
  {
   "cell_type": "markdown",
   "metadata": {},
   "source": [
    "### Посчитаем 95-й и 99-й перцентили стоимости заказов. Выберем границу для определения аномальных заказов."
   ]
  },
  {
   "cell_type": "code",
   "execution_count": 43,
   "metadata": {},
   "outputs": [
    {
     "data": {
      "text/html": [
       "<div>\n",
       "<style scoped>\n",
       "    .dataframe tbody tr th:only-of-type {\n",
       "        vertical-align: middle;\n",
       "    }\n",
       "\n",
       "    .dataframe tbody tr th {\n",
       "        vertical-align: top;\n",
       "    }\n",
       "\n",
       "    .dataframe thead th {\n",
       "        text-align: right;\n",
       "    }\n",
       "</style>\n",
       "<table border=\"1\" class=\"dataframe\">\n",
       "  <thead>\n",
       "    <tr style=\"text-align: right;\">\n",
       "      <th></th>\n",
       "      <th>transactionId</th>\n",
       "      <th>visitorId</th>\n",
       "      <th>date</th>\n",
       "      <th>revenue</th>\n",
       "      <th>group</th>\n",
       "    </tr>\n",
       "  </thead>\n",
       "  <tbody>\n",
       "    <tr>\n",
       "      <th>425</th>\n",
       "      <td>590470918</td>\n",
       "      <td>1920142716</td>\n",
       "      <td>2019-08-19</td>\n",
       "      <td>1294500</td>\n",
       "      <td>B</td>\n",
       "    </tr>\n",
       "    <tr>\n",
       "      <th>1196</th>\n",
       "      <td>3936777065</td>\n",
       "      <td>2108080724</td>\n",
       "      <td>2019-08-15</td>\n",
       "      <td>202740</td>\n",
       "      <td>B</td>\n",
       "    </tr>\n",
       "    <tr>\n",
       "      <th>1136</th>\n",
       "      <td>666610489</td>\n",
       "      <td>1307669133</td>\n",
       "      <td>2019-08-13</td>\n",
       "      <td>92550</td>\n",
       "      <td>A</td>\n",
       "    </tr>\n",
       "    <tr>\n",
       "      <th>744</th>\n",
       "      <td>3668308183</td>\n",
       "      <td>888512513</td>\n",
       "      <td>2019-08-27</td>\n",
       "      <td>86620</td>\n",
       "      <td>B</td>\n",
       "    </tr>\n",
       "    <tr>\n",
       "      <th>743</th>\n",
       "      <td>3603576309</td>\n",
       "      <td>4133034833</td>\n",
       "      <td>2019-08-09</td>\n",
       "      <td>67990</td>\n",
       "      <td>A</td>\n",
       "    </tr>\n",
       "    <tr>\n",
       "      <th>1103</th>\n",
       "      <td>1348774318</td>\n",
       "      <td>1164614297</td>\n",
       "      <td>2019-08-12</td>\n",
       "      <td>66350</td>\n",
       "      <td>A</td>\n",
       "    </tr>\n",
       "    <tr>\n",
       "      <th>1099</th>\n",
       "      <td>316924019</td>\n",
       "      <td>148427295</td>\n",
       "      <td>2019-08-12</td>\n",
       "      <td>65710</td>\n",
       "      <td>A</td>\n",
       "    </tr>\n",
       "    <tr>\n",
       "      <th>949</th>\n",
       "      <td>1347999392</td>\n",
       "      <td>887908475</td>\n",
       "      <td>2019-08-21</td>\n",
       "      <td>60450</td>\n",
       "      <td>A</td>\n",
       "    </tr>\n",
       "    <tr>\n",
       "      <th>940</th>\n",
       "      <td>2420050534</td>\n",
       "      <td>4003628586</td>\n",
       "      <td>2019-08-08</td>\n",
       "      <td>58550</td>\n",
       "      <td>B</td>\n",
       "    </tr>\n",
       "    <tr>\n",
       "      <th>131</th>\n",
       "      <td>3163614039</td>\n",
       "      <td>2254586615</td>\n",
       "      <td>2019-08-22</td>\n",
       "      <td>53904</td>\n",
       "      <td>A</td>\n",
       "    </tr>\n",
       "  </tbody>\n",
       "</table>\n",
       "</div>"
      ],
      "text/plain": [
       "      transactionId   visitorId       date  revenue group\n",
       "425       590470918  1920142716 2019-08-19  1294500     B\n",
       "1196     3936777065  2108080724 2019-08-15   202740     B\n",
       "1136      666610489  1307669133 2019-08-13    92550     A\n",
       "744      3668308183   888512513 2019-08-27    86620     B\n",
       "743      3603576309  4133034833 2019-08-09    67990     A\n",
       "1103     1348774318  1164614297 2019-08-12    66350     A\n",
       "1099      316924019   148427295 2019-08-12    65710     A\n",
       "949      1347999392   887908475 2019-08-21    60450     A\n",
       "940      2420050534  4003628586 2019-08-08    58550     B\n",
       "131      3163614039  2254586615 2019-08-22    53904     A"
      ]
     },
     "metadata": {},
     "output_type": "display_data"
    },
    {
     "name": "stdout",
     "output_type": "stream",
     "text": [
      "[17990. 26785. 53904.]\n"
     ]
    }
   ],
   "source": [
    "display(orders.sort_values(by='revenue', ascending=False).head(10))\n",
    "# посчитаем выборочные перцентили количества заказов на одного пользователя\n",
    "print(np.percentile(orders['revenue'], [90,95,99]))"
   ]
  },
  {
   "cell_type": "markdown",
   "metadata": {},
   "source": [
    "Всего лишь 1% стоимости заказов больше 53904. Будем считать все что выше 53904 аномалиями."
   ]
  },
  {
   "cell_type": "markdown",
   "metadata": {},
   "source": [
    "Таким образом были изучены сырые данные и подготовлена таблица с данными заказов без аномалий. С учетом аномалий группа В казалась предпочтительнее, однако у неё были найдены аномалии. От которых мы благополучно избавились. Перейдем к заключительной части, постараемся наверняка узнать, какая из групп предпочтительнее."
   ]
  },
  {
   "cell_type": "markdown",
   "metadata": {},
   "source": [
    "## Статистическая значимость."
   ]
  },
  {
   "cell_type": "markdown",
   "metadata": {},
   "source": [
    "Для проверки будем использовать непараметрический критерий Манна-Уитни, так как данные распределены ненормально."
   ]
  },
  {
   "cell_type": "markdown",
   "metadata": {},
   "source": [
    "###  Посчитаем статистическую значимость различий в среднем количестве заказов на посетителя между группами по «сырым» данным. "
   ]
  },
  {
   "cell_type": "markdown",
   "metadata": {},
   "source": [
    "Сформулируем гипотезы.\n",
    "\n",
    "**Нулевая гипотеза:**\n",
    "\n",
    "H0 - Различий в среднем количестве заказов между группами A и B нет.\n",
    "\n",
    "**Альтернативная гипотеза:**\n",
    "\n",
    "H1 - Различия в среднем количестве заказов между группами есть.\n",
    "\n",
    "**Уровень статистической значимости:**\n",
    "\n",
    "alfa=0.05\n"
   ]
  },
  {
   "cell_type": "code",
   "execution_count": 44,
   "metadata": {},
   "outputs": [
    {
     "data": {
      "text/html": [
       "<div>\n",
       "<style scoped>\n",
       "    .dataframe tbody tr th:only-of-type {\n",
       "        vertical-align: middle;\n",
       "    }\n",
       "\n",
       "    .dataframe tbody tr th {\n",
       "        vertical-align: top;\n",
       "    }\n",
       "\n",
       "    .dataframe thead th {\n",
       "        text-align: right;\n",
       "    }\n",
       "</style>\n",
       "<table border=\"1\" class=\"dataframe\">\n",
       "  <thead>\n",
       "    <tr style=\"text-align: right;\">\n",
       "      <th></th>\n",
       "      <th>date</th>\n",
       "      <th>visitorsPerDateA</th>\n",
       "    </tr>\n",
       "  </thead>\n",
       "  <tbody>\n",
       "    <tr>\n",
       "      <th>0</th>\n",
       "      <td>2019-08-01</td>\n",
       "      <td>719</td>\n",
       "    </tr>\n",
       "    <tr>\n",
       "      <th>1</th>\n",
       "      <td>2019-08-02</td>\n",
       "      <td>619</td>\n",
       "    </tr>\n",
       "    <tr>\n",
       "      <th>2</th>\n",
       "      <td>2019-08-03</td>\n",
       "      <td>507</td>\n",
       "    </tr>\n",
       "    <tr>\n",
       "      <th>3</th>\n",
       "      <td>2019-08-04</td>\n",
       "      <td>717</td>\n",
       "    </tr>\n",
       "    <tr>\n",
       "      <th>4</th>\n",
       "      <td>2019-08-05</td>\n",
       "      <td>756</td>\n",
       "    </tr>\n",
       "  </tbody>\n",
       "</table>\n",
       "</div>"
      ],
      "text/plain": [
       "        date  visitorsPerDateA\n",
       "0 2019-08-01               719\n",
       "1 2019-08-02               619\n",
       "2 2019-08-03               507\n",
       "3 2019-08-04               717\n",
       "4 2019-08-05               756"
      ]
     },
     "execution_count": 44,
     "metadata": {},
     "output_type": "execute_result"
    }
   ],
   "source": [
    "# датафрейм с посетителями по дням в группе А\n",
    "visitorsADaily = visitors[visitors['group'] == 'A'][['date', 'visitors']]\n",
    "#переименуем столбцы\n",
    "visitorsADaily.columns = ['date', 'visitorsPerDateA']\n",
    "visitorsADaily.head()"
   ]
  },
  {
   "cell_type": "code",
   "execution_count": 45,
   "metadata": {},
   "outputs": [
    {
     "data": {
      "text/html": [
       "<div>\n",
       "<style scoped>\n",
       "    .dataframe tbody tr th:only-of-type {\n",
       "        vertical-align: middle;\n",
       "    }\n",
       "\n",
       "    .dataframe tbody tr th {\n",
       "        vertical-align: top;\n",
       "    }\n",
       "\n",
       "    .dataframe thead th {\n",
       "        text-align: right;\n",
       "    }\n",
       "</style>\n",
       "<table border=\"1\" class=\"dataframe\">\n",
       "  <thead>\n",
       "    <tr style=\"text-align: right;\">\n",
       "      <th></th>\n",
       "      <th>date</th>\n",
       "      <th>visitorsCummulativeA</th>\n",
       "    </tr>\n",
       "  </thead>\n",
       "  <tbody>\n",
       "    <tr>\n",
       "      <th>0</th>\n",
       "      <td>2019-08-01</td>\n",
       "      <td>719</td>\n",
       "    </tr>\n",
       "    <tr>\n",
       "      <th>1</th>\n",
       "      <td>2019-08-02</td>\n",
       "      <td>1338</td>\n",
       "    </tr>\n",
       "    <tr>\n",
       "      <th>2</th>\n",
       "      <td>2019-08-03</td>\n",
       "      <td>1845</td>\n",
       "    </tr>\n",
       "    <tr>\n",
       "      <th>3</th>\n",
       "      <td>2019-08-04</td>\n",
       "      <td>2562</td>\n",
       "    </tr>\n",
       "    <tr>\n",
       "      <th>4</th>\n",
       "      <td>2019-08-05</td>\n",
       "      <td>3318</td>\n",
       "    </tr>\n",
       "  </tbody>\n",
       "</table>\n",
       "</div>"
      ],
      "text/plain": [
       "        date  visitorsCummulativeA\n",
       "0 2019-08-01                   719\n",
       "1 2019-08-02                  1338\n",
       "2 2019-08-03                  1845\n",
       "3 2019-08-04                  2562\n",
       "4 2019-08-05                  3318"
      ]
     },
     "execution_count": 45,
     "metadata": {},
     "output_type": "execute_result"
    }
   ],
   "source": [
    "#cоберём кумулятивные по дням данные о количестве пользователей в группе A\n",
    "visitorsACummulative = visitorsADaily.apply(\n",
    "    lambda x: visitorsADaily[visitorsADaily['date'] <= x['date']].agg(\n",
    "        {'date': 'max', 'visitorsPerDateA': 'sum'}\n",
    "    ),\n",
    "    axis=1,\n",
    ")\n",
    "#переименуем столбцы\n",
    "visitorsACummulative.columns = ['date', 'visitorsCummulativeA']\n",
    "visitorsACummulative.head()"
   ]
  },
  {
   "cell_type": "code",
   "execution_count": 46,
   "metadata": {},
   "outputs": [
    {
     "data": {
      "text/html": [
       "<div>\n",
       "<style scoped>\n",
       "    .dataframe tbody tr th:only-of-type {\n",
       "        vertical-align: middle;\n",
       "    }\n",
       "\n",
       "    .dataframe tbody tr th {\n",
       "        vertical-align: top;\n",
       "    }\n",
       "\n",
       "    .dataframe thead th {\n",
       "        text-align: right;\n",
       "    }\n",
       "</style>\n",
       "<table border=\"1\" class=\"dataframe\">\n",
       "  <thead>\n",
       "    <tr style=\"text-align: right;\">\n",
       "      <th></th>\n",
       "      <th>date</th>\n",
       "      <th>visitorsPerDateB</th>\n",
       "    </tr>\n",
       "  </thead>\n",
       "  <tbody>\n",
       "    <tr>\n",
       "      <th>31</th>\n",
       "      <td>2019-08-01</td>\n",
       "      <td>713</td>\n",
       "    </tr>\n",
       "    <tr>\n",
       "      <th>32</th>\n",
       "      <td>2019-08-02</td>\n",
       "      <td>581</td>\n",
       "    </tr>\n",
       "    <tr>\n",
       "      <th>33</th>\n",
       "      <td>2019-08-03</td>\n",
       "      <td>509</td>\n",
       "    </tr>\n",
       "    <tr>\n",
       "      <th>34</th>\n",
       "      <td>2019-08-04</td>\n",
       "      <td>770</td>\n",
       "    </tr>\n",
       "    <tr>\n",
       "      <th>35</th>\n",
       "      <td>2019-08-05</td>\n",
       "      <td>707</td>\n",
       "    </tr>\n",
       "  </tbody>\n",
       "</table>\n",
       "</div>"
      ],
      "text/plain": [
       "         date  visitorsPerDateB\n",
       "31 2019-08-01               713\n",
       "32 2019-08-02               581\n",
       "33 2019-08-03               509\n",
       "34 2019-08-04               770\n",
       "35 2019-08-05               707"
      ]
     },
     "execution_count": 46,
     "metadata": {},
     "output_type": "execute_result"
    }
   ],
   "source": [
    "# датафрейм с посетителями по дням в группе В\n",
    "visitorsBDaily = visitors[visitors['group'] == 'B'][['date', 'visitors']]\n",
    "#переименуем столбцы\n",
    "visitorsBDaily.columns = ['date', 'visitorsPerDateB']\n",
    "visitorsBDaily.head()"
   ]
  },
  {
   "cell_type": "code",
   "execution_count": 47,
   "metadata": {},
   "outputs": [
    {
     "data": {
      "text/html": [
       "<div>\n",
       "<style scoped>\n",
       "    .dataframe tbody tr th:only-of-type {\n",
       "        vertical-align: middle;\n",
       "    }\n",
       "\n",
       "    .dataframe tbody tr th {\n",
       "        vertical-align: top;\n",
       "    }\n",
       "\n",
       "    .dataframe thead th {\n",
       "        text-align: right;\n",
       "    }\n",
       "</style>\n",
       "<table border=\"1\" class=\"dataframe\">\n",
       "  <thead>\n",
       "    <tr style=\"text-align: right;\">\n",
       "      <th></th>\n",
       "      <th>date</th>\n",
       "      <th>visitorsCummulativeB</th>\n",
       "    </tr>\n",
       "  </thead>\n",
       "  <tbody>\n",
       "    <tr>\n",
       "      <th>31</th>\n",
       "      <td>2019-08-01</td>\n",
       "      <td>713</td>\n",
       "    </tr>\n",
       "    <tr>\n",
       "      <th>32</th>\n",
       "      <td>2019-08-02</td>\n",
       "      <td>1294</td>\n",
       "    </tr>\n",
       "    <tr>\n",
       "      <th>33</th>\n",
       "      <td>2019-08-03</td>\n",
       "      <td>1803</td>\n",
       "    </tr>\n",
       "    <tr>\n",
       "      <th>34</th>\n",
       "      <td>2019-08-04</td>\n",
       "      <td>2573</td>\n",
       "    </tr>\n",
       "    <tr>\n",
       "      <th>35</th>\n",
       "      <td>2019-08-05</td>\n",
       "      <td>3280</td>\n",
       "    </tr>\n",
       "  </tbody>\n",
       "</table>\n",
       "</div>"
      ],
      "text/plain": [
       "         date  visitorsCummulativeB\n",
       "31 2019-08-01                   713\n",
       "32 2019-08-02                  1294\n",
       "33 2019-08-03                  1803\n",
       "34 2019-08-04                  2573\n",
       "35 2019-08-05                  3280"
      ]
     },
     "execution_count": 47,
     "metadata": {},
     "output_type": "execute_result"
    }
   ],
   "source": [
    "#соберём кумулятивные по дням данные о количестве пользователей в группе В\n",
    "visitorsBCummulative = visitorsBDaily.apply(\n",
    "    lambda x: visitorsBDaily[visitorsBDaily['date'] <= x['date']].agg(\n",
    "        {'date': 'max', 'visitorsPerDateB': 'sum'}\n",
    "    ),\n",
    "    axis=1,\n",
    ")\n",
    "#переименуем столбцы\n",
    "visitorsBCummulative.columns = ['date', 'visitorsCummulativeB']\n",
    "visitorsBCummulative.head()"
   ]
  },
  {
   "cell_type": "code",
   "execution_count": 48,
   "metadata": {},
   "outputs": [
    {
     "data": {
      "text/html": [
       "<div>\n",
       "<style scoped>\n",
       "    .dataframe tbody tr th:only-of-type {\n",
       "        vertical-align: middle;\n",
       "    }\n",
       "\n",
       "    .dataframe tbody tr th {\n",
       "        vertical-align: top;\n",
       "    }\n",
       "\n",
       "    .dataframe thead th {\n",
       "        text-align: right;\n",
       "    }\n",
       "</style>\n",
       "<table border=\"1\" class=\"dataframe\">\n",
       "  <thead>\n",
       "    <tr style=\"text-align: right;\">\n",
       "      <th></th>\n",
       "      <th>date</th>\n",
       "      <th>ordersPerDateA</th>\n",
       "      <th>revenuePerDateA</th>\n",
       "    </tr>\n",
       "  </thead>\n",
       "  <tbody>\n",
       "    <tr>\n",
       "      <th>0</th>\n",
       "      <td>2019-08-01</td>\n",
       "      <td>23</td>\n",
       "      <td>142779</td>\n",
       "    </tr>\n",
       "    <tr>\n",
       "      <th>1</th>\n",
       "      <td>2019-08-02</td>\n",
       "      <td>19</td>\n",
       "      <td>91602</td>\n",
       "    </tr>\n",
       "    <tr>\n",
       "      <th>2</th>\n",
       "      <td>2019-08-03</td>\n",
       "      <td>24</td>\n",
       "      <td>112473</td>\n",
       "    </tr>\n",
       "    <tr>\n",
       "      <th>3</th>\n",
       "      <td>2019-08-04</td>\n",
       "      <td>11</td>\n",
       "      <td>41176</td>\n",
       "    </tr>\n",
       "    <tr>\n",
       "      <th>4</th>\n",
       "      <td>2019-08-05</td>\n",
       "      <td>22</td>\n",
       "      <td>86383</td>\n",
       "    </tr>\n",
       "  </tbody>\n",
       "</table>\n",
       "</div>"
      ],
      "text/plain": [
       "        date  ordersPerDateA  revenuePerDateA\n",
       "0 2019-08-01              23           142779\n",
       "1 2019-08-02              19            91602\n",
       "2 2019-08-03              24           112473\n",
       "3 2019-08-04              11            41176\n",
       "4 2019-08-05              22            86383"
      ]
     },
     "execution_count": 48,
     "metadata": {},
     "output_type": "execute_result"
    }
   ],
   "source": [
    "# cоберем данные о количестве заказов, суммарной выручке по дням в группе А\n",
    "ordersADaily = (\n",
    "    orders[orders['group'] == 'A'][['date', 'transactionId', 'visitorId', 'revenue']]\n",
    "    .groupby('date', as_index=False)\n",
    "    .agg({'transactionId': pd.Series.nunique, 'revenue': 'sum'})\n",
    ")\n",
    "#переименуем столбцы\n",
    "ordersADaily.columns = ['date', 'ordersPerDateA', 'revenuePerDateA']\n",
    "ordersADaily.head()"
   ]
  },
  {
   "cell_type": "code",
   "execution_count": 49,
   "metadata": {},
   "outputs": [
    {
     "data": {
      "text/html": [
       "<div>\n",
       "<style scoped>\n",
       "    .dataframe tbody tr th:only-of-type {\n",
       "        vertical-align: middle;\n",
       "    }\n",
       "\n",
       "    .dataframe tbody tr th {\n",
       "        vertical-align: top;\n",
       "    }\n",
       "\n",
       "    .dataframe thead th {\n",
       "        text-align: right;\n",
       "    }\n",
       "</style>\n",
       "<table border=\"1\" class=\"dataframe\">\n",
       "  <thead>\n",
       "    <tr style=\"text-align: right;\">\n",
       "      <th></th>\n",
       "      <th>date</th>\n",
       "      <th>ordersCummulativeA</th>\n",
       "      <th>revenueCummulativeA</th>\n",
       "    </tr>\n",
       "  </thead>\n",
       "  <tbody>\n",
       "    <tr>\n",
       "      <th>0</th>\n",
       "      <td>2019-08-01</td>\n",
       "      <td>23</td>\n",
       "      <td>142779</td>\n",
       "    </tr>\n",
       "    <tr>\n",
       "      <th>1</th>\n",
       "      <td>2019-08-02</td>\n",
       "      <td>42</td>\n",
       "      <td>234381</td>\n",
       "    </tr>\n",
       "    <tr>\n",
       "      <th>2</th>\n",
       "      <td>2019-08-03</td>\n",
       "      <td>66</td>\n",
       "      <td>346854</td>\n",
       "    </tr>\n",
       "    <tr>\n",
       "      <th>3</th>\n",
       "      <td>2019-08-04</td>\n",
       "      <td>77</td>\n",
       "      <td>388030</td>\n",
       "    </tr>\n",
       "    <tr>\n",
       "      <th>4</th>\n",
       "      <td>2019-08-05</td>\n",
       "      <td>99</td>\n",
       "      <td>474413</td>\n",
       "    </tr>\n",
       "  </tbody>\n",
       "</table>\n",
       "</div>"
      ],
      "text/plain": [
       "        date  ordersCummulativeA  revenueCummulativeA\n",
       "0 2019-08-01                  23               142779\n",
       "1 2019-08-02                  42               234381\n",
       "2 2019-08-03                  66               346854\n",
       "3 2019-08-04                  77               388030\n",
       "4 2019-08-05                  99               474413"
      ]
     },
     "execution_count": 49,
     "metadata": {},
     "output_type": "execute_result"
    }
   ],
   "source": [
    "# cоберем данные о суммерном (коммулятивном) количестве заказов, суммарной выручке по дням в группе А\n",
    "ordersACummulative = ordersADaily.apply(\n",
    "    lambda x: ordersADaily[ordersADaily['date'] <= x['date']].agg(\n",
    "        {'date': 'max', 'ordersPerDateA': 'sum', 'revenuePerDateA': 'sum'}\n",
    "    ),\n",
    "    axis=1,\n",
    ").sort_values(by=['date'])\n",
    "#переименуем столбцы\n",
    "ordersACummulative.columns = [\n",
    "    'date',\n",
    "    'ordersCummulativeA',\n",
    "    'revenueCummulativeA',\n",
    "]\n",
    "ordersACummulative.head()"
   ]
  },
  {
   "cell_type": "code",
   "execution_count": 50,
   "metadata": {},
   "outputs": [
    {
     "data": {
      "text/html": [
       "<div>\n",
       "<style scoped>\n",
       "    .dataframe tbody tr th:only-of-type {\n",
       "        vertical-align: middle;\n",
       "    }\n",
       "\n",
       "    .dataframe tbody tr th {\n",
       "        vertical-align: top;\n",
       "    }\n",
       "\n",
       "    .dataframe thead th {\n",
       "        text-align: right;\n",
       "    }\n",
       "</style>\n",
       "<table border=\"1\" class=\"dataframe\">\n",
       "  <thead>\n",
       "    <tr style=\"text-align: right;\">\n",
       "      <th></th>\n",
       "      <th>date</th>\n",
       "      <th>ordersPerDateB</th>\n",
       "      <th>revenuePerDateB</th>\n",
       "    </tr>\n",
       "  </thead>\n",
       "  <tbody>\n",
       "    <tr>\n",
       "      <th>0</th>\n",
       "      <td>2019-08-01</td>\n",
       "      <td>17</td>\n",
       "      <td>59758</td>\n",
       "    </tr>\n",
       "    <tr>\n",
       "      <th>1</th>\n",
       "      <td>2019-08-02</td>\n",
       "      <td>23</td>\n",
       "      <td>162043</td>\n",
       "    </tr>\n",
       "    <tr>\n",
       "      <th>2</th>\n",
       "      <td>2019-08-03</td>\n",
       "      <td>14</td>\n",
       "      <td>67049</td>\n",
       "    </tr>\n",
       "    <tr>\n",
       "      <th>3</th>\n",
       "      <td>2019-08-04</td>\n",
       "      <td>14</td>\n",
       "      <td>96890</td>\n",
       "    </tr>\n",
       "    <tr>\n",
       "      <th>4</th>\n",
       "      <td>2019-08-05</td>\n",
       "      <td>21</td>\n",
       "      <td>89908</td>\n",
       "    </tr>\n",
       "  </tbody>\n",
       "</table>\n",
       "</div>"
      ],
      "text/plain": [
       "        date  ordersPerDateB  revenuePerDateB\n",
       "0 2019-08-01              17            59758\n",
       "1 2019-08-02              23           162043\n",
       "2 2019-08-03              14            67049\n",
       "3 2019-08-04              14            96890\n",
       "4 2019-08-05              21            89908"
      ]
     },
     "execution_count": 50,
     "metadata": {},
     "output_type": "execute_result"
    }
   ],
   "source": [
    "# cоберем данные о количестве заказов, суммарной выручке по дням в группе В\n",
    "ordersBDaily = (\n",
    "    orders[orders['group'] == 'B'][['date', 'transactionId', 'visitorId', 'revenue']]\n",
    "    .groupby('date', as_index=False)\n",
    "    .agg({'transactionId': pd.Series.nunique, 'revenue': 'sum'})\n",
    ")\n",
    "#переименуем столбцы\n",
    "ordersBDaily.columns = ['date', 'ordersPerDateB', 'revenuePerDateB']\n",
    "ordersBDaily.head()"
   ]
  },
  {
   "cell_type": "code",
   "execution_count": 51,
   "metadata": {},
   "outputs": [
    {
     "data": {
      "text/html": [
       "<div>\n",
       "<style scoped>\n",
       "    .dataframe tbody tr th:only-of-type {\n",
       "        vertical-align: middle;\n",
       "    }\n",
       "\n",
       "    .dataframe tbody tr th {\n",
       "        vertical-align: top;\n",
       "    }\n",
       "\n",
       "    .dataframe thead th {\n",
       "        text-align: right;\n",
       "    }\n",
       "</style>\n",
       "<table border=\"1\" class=\"dataframe\">\n",
       "  <thead>\n",
       "    <tr style=\"text-align: right;\">\n",
       "      <th></th>\n",
       "      <th>date</th>\n",
       "      <th>ordersCummulativeB</th>\n",
       "      <th>revenueCummulativeB</th>\n",
       "    </tr>\n",
       "  </thead>\n",
       "  <tbody>\n",
       "    <tr>\n",
       "      <th>0</th>\n",
       "      <td>2019-08-01</td>\n",
       "      <td>17</td>\n",
       "      <td>59758</td>\n",
       "    </tr>\n",
       "    <tr>\n",
       "      <th>1</th>\n",
       "      <td>2019-08-02</td>\n",
       "      <td>40</td>\n",
       "      <td>221801</td>\n",
       "    </tr>\n",
       "    <tr>\n",
       "      <th>2</th>\n",
       "      <td>2019-08-03</td>\n",
       "      <td>54</td>\n",
       "      <td>288850</td>\n",
       "    </tr>\n",
       "    <tr>\n",
       "      <th>3</th>\n",
       "      <td>2019-08-04</td>\n",
       "      <td>68</td>\n",
       "      <td>385740</td>\n",
       "    </tr>\n",
       "    <tr>\n",
       "      <th>4</th>\n",
       "      <td>2019-08-05</td>\n",
       "      <td>89</td>\n",
       "      <td>475648</td>\n",
       "    </tr>\n",
       "  </tbody>\n",
       "</table>\n",
       "</div>"
      ],
      "text/plain": [
       "        date  ordersCummulativeB  revenueCummulativeB\n",
       "0 2019-08-01                  17                59758\n",
       "1 2019-08-02                  40               221801\n",
       "2 2019-08-03                  54               288850\n",
       "3 2019-08-04                  68               385740\n",
       "4 2019-08-05                  89               475648"
      ]
     },
     "execution_count": 51,
     "metadata": {},
     "output_type": "execute_result"
    }
   ],
   "source": [
    "# cоберем данные о суммерном (коммулятивном) количестве заказов, суммарной выручке по дням в группе В\n",
    "ordersBCummulative = ordersBDaily.apply(\n",
    "    lambda x: ordersBDaily[ordersBDaily['date'] <= x['date']].agg(\n",
    "        {'date': 'max', 'ordersPerDateB': 'sum', 'revenuePerDateB': 'sum'}\n",
    "    ),\n",
    "    axis=1,\n",
    ").sort_values(by=['date'])\n",
    "#переименуем столбцы\n",
    "ordersBCummulative.columns = [\n",
    "    'date',\n",
    "    'ordersCummulativeB',\n",
    "    'revenueCummulativeB',\n",
    "]\n",
    "ordersBCummulative.head()"
   ]
  },
  {
   "cell_type": "code",
   "execution_count": 52,
   "metadata": {},
   "outputs": [
    {
     "data": {
      "text/html": [
       "<div>\n",
       "<style scoped>\n",
       "    .dataframe tbody tr th:only-of-type {\n",
       "        vertical-align: middle;\n",
       "    }\n",
       "\n",
       "    .dataframe tbody tr th {\n",
       "        vertical-align: top;\n",
       "    }\n",
       "\n",
       "    .dataframe thead th {\n",
       "        text-align: right;\n",
       "    }\n",
       "</style>\n",
       "<table border=\"1\" class=\"dataframe\">\n",
       "  <thead>\n",
       "    <tr style=\"text-align: right;\">\n",
       "      <th></th>\n",
       "      <th>date</th>\n",
       "      <th>ordersPerDateA</th>\n",
       "      <th>revenuePerDateA</th>\n",
       "      <th>ordersPerDateB</th>\n",
       "      <th>revenuePerDateB</th>\n",
       "      <th>ordersCummulativeA</th>\n",
       "      <th>revenueCummulativeA</th>\n",
       "      <th>ordersCummulativeB</th>\n",
       "      <th>revenueCummulativeB</th>\n",
       "      <th>visitorsPerDateA</th>\n",
       "      <th>visitorsPerDateB</th>\n",
       "      <th>visitorsCummulativeA</th>\n",
       "      <th>visitorsCummulativeB</th>\n",
       "    </tr>\n",
       "  </thead>\n",
       "  <tbody>\n",
       "    <tr>\n",
       "      <th>0</th>\n",
       "      <td>2019-08-01</td>\n",
       "      <td>23</td>\n",
       "      <td>142779</td>\n",
       "      <td>17</td>\n",
       "      <td>59758</td>\n",
       "      <td>23</td>\n",
       "      <td>142779</td>\n",
       "      <td>17</td>\n",
       "      <td>59758</td>\n",
       "      <td>719</td>\n",
       "      <td>713</td>\n",
       "      <td>719</td>\n",
       "      <td>713</td>\n",
       "    </tr>\n",
       "    <tr>\n",
       "      <th>1</th>\n",
       "      <td>2019-08-02</td>\n",
       "      <td>19</td>\n",
       "      <td>91602</td>\n",
       "      <td>23</td>\n",
       "      <td>162043</td>\n",
       "      <td>42</td>\n",
       "      <td>234381</td>\n",
       "      <td>40</td>\n",
       "      <td>221801</td>\n",
       "      <td>619</td>\n",
       "      <td>581</td>\n",
       "      <td>1338</td>\n",
       "      <td>1294</td>\n",
       "    </tr>\n",
       "    <tr>\n",
       "      <th>2</th>\n",
       "      <td>2019-08-03</td>\n",
       "      <td>24</td>\n",
       "      <td>112473</td>\n",
       "      <td>14</td>\n",
       "      <td>67049</td>\n",
       "      <td>66</td>\n",
       "      <td>346854</td>\n",
       "      <td>54</td>\n",
       "      <td>288850</td>\n",
       "      <td>507</td>\n",
       "      <td>509</td>\n",
       "      <td>1845</td>\n",
       "      <td>1803</td>\n",
       "    </tr>\n",
       "    <tr>\n",
       "      <th>3</th>\n",
       "      <td>2019-08-04</td>\n",
       "      <td>11</td>\n",
       "      <td>41176</td>\n",
       "      <td>14</td>\n",
       "      <td>96890</td>\n",
       "      <td>77</td>\n",
       "      <td>388030</td>\n",
       "      <td>68</td>\n",
       "      <td>385740</td>\n",
       "      <td>717</td>\n",
       "      <td>770</td>\n",
       "      <td>2562</td>\n",
       "      <td>2573</td>\n",
       "    </tr>\n",
       "    <tr>\n",
       "      <th>4</th>\n",
       "      <td>2019-08-05</td>\n",
       "      <td>22</td>\n",
       "      <td>86383</td>\n",
       "      <td>21</td>\n",
       "      <td>89908</td>\n",
       "      <td>99</td>\n",
       "      <td>474413</td>\n",
       "      <td>89</td>\n",
       "      <td>475648</td>\n",
       "      <td>756</td>\n",
       "      <td>707</td>\n",
       "      <td>3318</td>\n",
       "      <td>3280</td>\n",
       "    </tr>\n",
       "  </tbody>\n",
       "</table>\n",
       "</div>"
      ],
      "text/plain": [
       "        date  ordersPerDateA  revenuePerDateA  ordersPerDateB  \\\n",
       "0 2019-08-01              23           142779              17   \n",
       "1 2019-08-02              19            91602              23   \n",
       "2 2019-08-03              24           112473              14   \n",
       "3 2019-08-04              11            41176              14   \n",
       "4 2019-08-05              22            86383              21   \n",
       "\n",
       "   revenuePerDateB  ordersCummulativeA  revenueCummulativeA  \\\n",
       "0            59758                  23               142779   \n",
       "1           162043                  42               234381   \n",
       "2            67049                  66               346854   \n",
       "3            96890                  77               388030   \n",
       "4            89908                  99               474413   \n",
       "\n",
       "   ordersCummulativeB  revenueCummulativeB  visitorsPerDateA  \\\n",
       "0                  17                59758               719   \n",
       "1                  40               221801               619   \n",
       "2                  54               288850               507   \n",
       "3                  68               385740               717   \n",
       "4                  89               475648               756   \n",
       "\n",
       "   visitorsPerDateB  visitorsCummulativeA  visitorsCummulativeB  \n",
       "0               713                   719                   713  \n",
       "1               581                  1338                  1294  \n",
       "2               509                  1845                  1803  \n",
       "3               770                  2562                  2573  \n",
       "4               707                  3318                  3280  "
      ]
     },
     "execution_count": 52,
     "metadata": {},
     "output_type": "execute_result"
    }
   ],
   "source": [
    "# объеденим полученные данные в один датафрейм\n",
    "\n",
    "df = (\n",
    "    ordersADaily.merge(\n",
    "        ordersBDaily, left_on='date', right_on='date', how='left'\n",
    "    )\n",
    "    .merge(ordersACummulative, left_on='date', right_on='date', how='left')\n",
    "    .merge(ordersBCummulative, left_on='date', right_on='date', how='left')\n",
    "    .merge(visitorsADaily, left_on='date', right_on='date', how='left')\n",
    "    .merge(visitorsBDaily, left_on='date', right_on='date', how='left')\n",
    "    .merge(visitorsACummulative, left_on='date', right_on='date', how='left')\n",
    "    .merge(visitorsBCummulative, left_on='date', right_on='date', how='left')\n",
    ")\n",
    "df.head()"
   ]
  },
  {
   "cell_type": "code",
   "execution_count": 53,
   "metadata": {},
   "outputs": [
    {
     "data": {
      "text/html": [
       "<div>\n",
       "<style scoped>\n",
       "    .dataframe tbody tr th:only-of-type {\n",
       "        vertical-align: middle;\n",
       "    }\n",
       "\n",
       "    .dataframe tbody tr th {\n",
       "        vertical-align: top;\n",
       "    }\n",
       "\n",
       "    .dataframe thead th {\n",
       "        text-align: right;\n",
       "    }\n",
       "</style>\n",
       "<table border=\"1\" class=\"dataframe\">\n",
       "  <thead>\n",
       "    <tr style=\"text-align: right;\">\n",
       "      <th></th>\n",
       "      <th>visitorId</th>\n",
       "      <th>orders</th>\n",
       "    </tr>\n",
       "  </thead>\n",
       "  <tbody>\n",
       "    <tr>\n",
       "      <th>0</th>\n",
       "      <td>5114589</td>\n",
       "      <td>1</td>\n",
       "    </tr>\n",
       "    <tr>\n",
       "      <th>1</th>\n",
       "      <td>6958315</td>\n",
       "      <td>1</td>\n",
       "    </tr>\n",
       "    <tr>\n",
       "      <th>2</th>\n",
       "      <td>11685486</td>\n",
       "      <td>1</td>\n",
       "    </tr>\n",
       "    <tr>\n",
       "      <th>3</th>\n",
       "      <td>39475350</td>\n",
       "      <td>1</td>\n",
       "    </tr>\n",
       "    <tr>\n",
       "      <th>4</th>\n",
       "      <td>47206413</td>\n",
       "      <td>1</td>\n",
       "    </tr>\n",
       "  </tbody>\n",
       "</table>\n",
       "</div>"
      ],
      "text/plain": [
       "   visitorId  orders\n",
       "0    5114589       1\n",
       "1    6958315       1\n",
       "2   11685486       1\n",
       "3   39475350       1\n",
       "4   47206413       1"
      ]
     },
     "execution_count": 53,
     "metadata": {},
     "output_type": "execute_result"
    }
   ],
   "source": [
    "# cоздадим переменные ordersByUsersA и ordersByUsersB со столбцами,\n",
    "# в которых для пользователей, которые заказывали хотя бы 1 раз, укажем число совершённых заказов\n",
    "ordersByUsersA = (\n",
    "    orders[orders['group'] == 'A']\n",
    "    .groupby('visitorId', as_index=False)\n",
    "    .agg({'transactionId': pd.Series.nunique})\n",
    ")\n",
    "# переименуем столбцы\n",
    "ordersByUsersA.columns = ['visitorId', 'orders']\n",
    "ordersByUsers.head()"
   ]
  },
  {
   "cell_type": "code",
   "execution_count": 54,
   "metadata": {},
   "outputs": [
    {
     "data": {
      "text/html": [
       "<div>\n",
       "<style scoped>\n",
       "    .dataframe tbody tr th:only-of-type {\n",
       "        vertical-align: middle;\n",
       "    }\n",
       "\n",
       "    .dataframe tbody tr th {\n",
       "        vertical-align: top;\n",
       "    }\n",
       "\n",
       "    .dataframe thead th {\n",
       "        text-align: right;\n",
       "    }\n",
       "</style>\n",
       "<table border=\"1\" class=\"dataframe\">\n",
       "  <thead>\n",
       "    <tr style=\"text-align: right;\">\n",
       "      <th></th>\n",
       "      <th>visitorId</th>\n",
       "      <th>orders</th>\n",
       "    </tr>\n",
       "  </thead>\n",
       "  <tbody>\n",
       "    <tr>\n",
       "      <th>0</th>\n",
       "      <td>5114589</td>\n",
       "      <td>1</td>\n",
       "    </tr>\n",
       "    <tr>\n",
       "      <th>1</th>\n",
       "      <td>6958315</td>\n",
       "      <td>1</td>\n",
       "    </tr>\n",
       "    <tr>\n",
       "      <th>2</th>\n",
       "      <td>39475350</td>\n",
       "      <td>1</td>\n",
       "    </tr>\n",
       "    <tr>\n",
       "      <th>3</th>\n",
       "      <td>47206413</td>\n",
       "      <td>1</td>\n",
       "    </tr>\n",
       "    <tr>\n",
       "      <th>4</th>\n",
       "      <td>48147722</td>\n",
       "      <td>1</td>\n",
       "    </tr>\n",
       "  </tbody>\n",
       "</table>\n",
       "</div>"
      ],
      "text/plain": [
       "   visitorId  orders\n",
       "0    5114589       1\n",
       "1    6958315       1\n",
       "2   39475350       1\n",
       "3   47206413       1\n",
       "4   48147722       1"
      ]
     },
     "execution_count": 54,
     "metadata": {},
     "output_type": "execute_result"
    }
   ],
   "source": [
    "ordersByUsersB = (\n",
    "    orders[orders['group'] == 'B']\n",
    "    .groupby('visitorId', as_index=False)\n",
    "    .agg({'transactionId': pd.Series.nunique})\n",
    ")\n",
    "# переименуем столбцы\n",
    "ordersByUsersB.columns = ['visitorId', 'orders']\n",
    "ordersByUsersB.head()"
   ]
  },
  {
   "cell_type": "code",
   "execution_count": 55,
   "metadata": {},
   "outputs": [],
   "source": [
    "# объявим переменные sampleA и sampleB, в которых пользователям из разных групп будет соответствовать количество заказов.\n",
    "# тем, кто ничего не заказал, будут соответствовать нули.\n",
    "sampleA = pd.concat([ordersByUsersA['orders'],\\\n",
    "                     pd.Series(0, index=np.arange(df['visitorsPerDateA']\\\n",
    "                                                .sum() - len(ordersByUsersA['orders'])), name='orders')],axis=0)\n",
    "\n",
    "sampleB = pd.concat([ordersByUsersB['orders'],\\\n",
    "                     pd.Series(0, index=np.arange(df['visitorsPerDateB'].\\\n",
    "                                                  sum() - len(ordersByUsersB['orders'])), name='orders')],axis=0)"
   ]
  },
  {
   "cell_type": "code",
   "execution_count": 56,
   "metadata": {
    "scrolled": true
   },
   "outputs": [
    {
     "name": "stdout",
     "output_type": "stream",
     "text": [
      "P_value:  0.011\n",
      "Относительный показатель 'B' и 'A' =  0.160\n"
     ]
    }
   ],
   "source": [
    "# выведем  p_value и относительный прирост конверсии группы B: конверсия группы B / конверсия группы A - 1. \n",
    "#округлим до трёх знаков после запятой\n",
    "print('P_value: ',\"{0:.3f}\".format(stats.mannwhitneyu(sampleA, sampleB)[1]))\n",
    "print(\"Относительный показатель 'B' и 'A' = \", '{0:.3f}'.format((df['ordersPerDateB'].sum()/df['visitorsPerDateB'].sum())/(df['ordersPerDateA'].sum()/df['visitorsPerDateA'].sum())-1))\n"
   ]
  },
  {
   "cell_type": "markdown",
   "metadata": {},
   "source": [
    "Вывод: p-value = 0.017 меньше 0.05. Значит, нулевую гипотезу о том, что статистически значимых различий в конверсии между группами нет, - отвергаем. Это значит: по «сырым» данным различия в конверсии групп A и B есть. А относительный выигрыш группы \"B\" над \"A\" равен 13.8% ."
   ]
  },
  {
   "cell_type": "markdown",
   "metadata": {},
   "source": [
    "Видим, что p-value = 0.011 меньше 0.05. Значит, нулевую гипотезу - отвергаем, можно сказать, что в конверсии между группами есть статистически значимые различия. Относительный прирост конверсии группы B равен 16%\n",
    "\n",
    "Найдём относительные различия в среднем чеке между группами"
   ]
  },
  {
   "cell_type": "markdown",
   "metadata": {},
   "source": [
    "### Посчитаем статистическую значимость различий в среднем чеке заказа между группами по «сырым» данным. "
   ]
  },
  {
   "cell_type": "markdown",
   "metadata": {},
   "source": [
    "Сформулируем гипотезы.\n",
    "\n",
    "Нулевая гипотеза:\n",
    "\n",
    "H0 - Различий в среднем чеке заказа между группами A и B нет.\n",
    "\n",
    "Альтернативная гипотеза:\n",
    "\n",
    "H1 - Различия в среднем чеке заказа между группами есть.\n",
    "\n",
    "Уровень статистической значимости:\n",
    "\n",
    "alfa=0.05"
   ]
  },
  {
   "cell_type": "code",
   "execution_count": 57,
   "metadata": {},
   "outputs": [
    {
     "name": "stdout",
     "output_type": "stream",
     "text": [
      "P_value:  0.829\n",
      "Относительный показатель сренего чека по сырым данным 'B' и 'A' =  0.287\n"
     ]
    }
   ],
   "source": [
    "print('P_value: ','{0:.3f}'.format(stats.mannwhitneyu(orders[orders['group']=='A']['revenue'], orders[orders['group']=='B']['revenue'])[1]))\n",
    "print(\"Относительный показатель сренего чека по сырым данным 'B' и 'A' = \",'{0:.3f}'.format(orders[orders['group']=='B']['revenue'].mean()/orders[orders['group']=='A']['revenue'].mean()-1))"
   ]
  },
  {
   "cell_type": "markdown",
   "metadata": {},
   "source": [
    "P-value больше 0.05 - статистически значимых различий в среднем чеке между группами нет, но различие среднего чека между сегментами 28.7%"
   ]
  },
  {
   "cell_type": "markdown",
   "metadata": {},
   "source": [
    "### Посчитаем статистическую значимость различий в среднем количестве заказов на посетителя между группами по «очищенным» данным. \n"
   ]
  },
  {
   "cell_type": "code",
   "execution_count": 58,
   "metadata": {},
   "outputs": [
    {
     "name": "stdout",
     "output_type": "stream",
     "text": [
      "1099    148427295\n",
      "33      249864742\n",
      "58      611059232\n",
      "949     887908475\n",
      "744     888512513\n",
      "Name: visitorId, dtype: int64\n",
      "(16,)\n"
     ]
    }
   ],
   "source": [
    "# cделаем срезы пользователей с числом заказов больше 2 — и пользователей, совершивших заказы дороже 59 000\n",
    "usersWithManyOrders = pd.concat(\n",
    "    [\n",
    "        ordersByUsersA[ordersByUsersA['orders'] > 2]['visitorId'],\n",
    "        ordersByUsersB[ordersByUsersB['orders'] > 2]['visitorId'],\n",
    "    ],\n",
    "    axis=0,\n",
    ")\n",
    "usersWithExpensiveOrders = orders[orders['revenue'] > 53904]['visitorId']\n",
    "abnormalUsers = (\n",
    "    pd.concat([usersWithManyOrders, usersWithExpensiveOrders], axis=0)\n",
    "    .drop_duplicates()\n",
    "    .sort_values()\n",
    ")\n",
    "print(abnormalUsers.head(5))\n",
    "print(abnormalUsers.shape)"
   ]
  },
  {
   "cell_type": "markdown",
   "metadata": {},
   "source": [
    "Всего 16 аномальных пользователей."
   ]
  },
  {
   "cell_type": "code",
   "execution_count": 59,
   "metadata": {},
   "outputs": [],
   "source": [
    "# подготовим выборки количества заказов по пользователям по группам теста\n",
    "sampleAFiltered = pd.concat([ordersByUsersA[np.logical_not(ordersByUsersA['visitorId']\n",
    ".isin(abnormalUsers))]['orders'],pd.Series(0, index=np.arange(df['visitorsPerDateA']\n",
    ".sum() - len(ordersByUsersA['orders'])),name='orders')],axis=0)"
   ]
  },
  {
   "cell_type": "code",
   "execution_count": 60,
   "metadata": {},
   "outputs": [],
   "source": [
    "sampleBFiltered = pd.concat([ordersByUsersB[np.logical_not(ordersByUsersB['visitorId'].\n",
    "isin(abnormalUsers))]['orders'],pd.Series(0, index=np.arange(df['visitorsPerDateB'].\n",
    "sum() - len(ordersByUsersB['orders'])),name='orders')],axis=0)"
   ]
  },
  {
   "cell_type": "markdown",
   "metadata": {},
   "source": [
    "Применим статистический критерий Манна-Уитни к полученным выборкам"
   ]
  },
  {
   "cell_type": "code",
   "execution_count": 61,
   "metadata": {},
   "outputs": [
    {
     "name": "stdout",
     "output_type": "stream",
     "text": [
      "P_value:  0.007\n",
      "Относительный показатель 'B' и 'A' =  0.189\n"
     ]
    }
   ],
   "source": [
    "print('P_value: ','{0:.3f}'.format(stats.mannwhitneyu(sampleAFiltered, sampleBFiltered)[1]))\n",
    "print(\"Относительный показатель 'B' и 'A' = \",'{0:.3f}'.format(sampleBFiltered.mean()/sampleAFiltered.mean()-1))"
   ]
  },
  {
   "cell_type": "markdown",
   "metadata": {},
   "source": [
    "Как и в случае с сырыми данными, статистическая значимость достигнута. Сегмент В значительно лучше сегмента А."
   ]
  },
  {
   "cell_type": "markdown",
   "metadata": {},
   "source": [
    "### Посчитаем статистическую значимость различий в среднем чеке заказа между группами по «очищенным» данным. "
   ]
  },
  {
   "cell_type": "code",
   "execution_count": 62,
   "metadata": {},
   "outputs": [
    {
     "name": "stdout",
     "output_type": "stream",
     "text": [
      "P_value:  0.788\n",
      "Относительный показатель 'B' и 'A' =  -0.032\n"
     ]
    }
   ],
   "source": [
    "print('P_value: ',\"{0:.3f}\".format(stats.mannwhitneyu(\n",
    "    orders[np.logical_and(\n",
    "        orders['group']=='A',\n",
    "        np.logical_not(orders['visitorId'].isin(abnormalUsers)))]['revenue'],\n",
    "    orders[np.logical_and(\n",
    "        orders['group']=='B',\n",
    "        np.logical_not(orders['visitorId'].isin(abnormalUsers)))]['revenue'])[1]))\n",
    "\n",
    "print(\"Относительный показатель 'B' и 'A' = \",\"{0:.3f}\".format(\n",
    "    orders[np.logical_and(orders['group']=='B',np.logical_not(orders['visitorId'].isin(abnormalUsers)))]['revenue'].mean()/\n",
    "    orders[np.logical_and(\n",
    "        orders['group']=='A',\n",
    "        np.logical_not(orders['visitorId'].isin(abnormalUsers)))]['revenue'].mean() - 1))"
   ]
  },
  {
   "cell_type": "markdown",
   "metadata": {},
   "source": [
    "p-value значительно больше 0.05. Значит, причин отвергать нулевую гипотезу и считать, что в среднем чеке есть различия,тоже нет (как и с \"сырыми\" данными). А вот средний чек группы B оказался незначительно (на ~ 0.3%) ниже среднего чека группы A, в то время как по \"сырым\" данным, он был больше аж на 28.7%,\n",
    "\n"
   ]
  },
  {
   "cell_type": "markdown",
   "metadata": {},
   "source": [
    "## Примем решение по результатам теста и объясним его. "
   ]
  },
  {
   "cell_type": "markdown",
   "metadata": {},
   "source": [
    "По результатам тестирования было выявлено:\n",
    "\n",
    "И по \"сырым\" и по \"очищенным\" данным различия в конверсии групп A и B есть. Относительный выигрыш группы B над A равен 18.9% по \"очищенным\" и 16% по \"сырым\" данным.\n",
    "\n",
    "Оказалось, что и по \"сырым\" и по \"очищенным\" данным различия в средних чеках групп A и B отстутствуют, несмотря на то, что средний чек группы B оказался незначительно (на 0.3%) ниже среднего чека группы A по \"очищенным\" данным, в то время как по \"сырым\" данным, он был больше аж на ~29%. \n",
    "\n",
    "Исходя их обнаруженных фактов, тест следует остановить и признать его успешным, потому как при имеющихся данных сегмент B лучше сегмента A.\n"
   ]
  }
 ],
 "metadata": {
  "ExecuteTimeLog": [
   {
    "duration": 1336,
    "start_time": "2024-02-13T13:38:11.692Z"
   },
   {
    "duration": 909,
    "start_time": "2024-02-13T13:38:27.633Z"
   },
   {
    "duration": 28,
    "start_time": "2024-02-13T13:38:40.235Z"
   },
   {
    "duration": 31,
    "start_time": "2024-02-13T13:39:24.669Z"
   },
   {
    "duration": 29,
    "start_time": "2024-02-13T13:39:44.605Z"
   },
   {
    "duration": 25,
    "start_time": "2024-02-13T13:40:34.150Z"
   },
   {
    "duration": 8,
    "start_time": "2024-02-13T13:40:35.925Z"
   },
   {
    "duration": 9,
    "start_time": "2024-02-13T13:41:46.541Z"
   },
   {
    "duration": 91,
    "start_time": "2024-02-13T16:34:44.312Z"
   },
   {
    "duration": 42,
    "start_time": "2024-02-13T16:34:56.336Z"
   },
   {
    "duration": 420,
    "start_time": "2024-02-13T16:35:09.575Z"
   },
   {
    "duration": 68,
    "start_time": "2024-02-13T16:35:09.997Z"
   },
   {
    "duration": 10,
    "start_time": "2024-02-13T16:35:10.066Z"
   },
   {
    "duration": 10,
    "start_time": "2024-02-13T16:35:10.077Z"
   },
   {
    "duration": 76,
    "start_time": "2024-02-13T16:35:10.089Z"
   },
   {
    "duration": 0,
    "start_time": "2024-02-13T16:35:10.166Z"
   },
   {
    "duration": 76,
    "start_time": "2024-02-13T16:35:16.830Z"
   },
   {
    "duration": 90,
    "start_time": "2024-02-13T16:35:58.665Z"
   },
   {
    "duration": 87,
    "start_time": "2024-02-13T16:36:08.961Z"
   },
   {
    "duration": 401,
    "start_time": "2024-02-13T16:40:42.441Z"
   },
   {
    "duration": 112,
    "start_time": "2024-02-13T16:41:57.926Z"
   },
   {
    "duration": 88,
    "start_time": "2024-02-13T16:42:11.802Z"
   },
   {
    "duration": 87,
    "start_time": "2024-02-13T16:42:18.279Z"
   },
   {
    "duration": 84,
    "start_time": "2024-02-13T16:43:15.815Z"
   },
   {
    "duration": 102,
    "start_time": "2024-02-13T16:44:28.910Z"
   },
   {
    "duration": 83,
    "start_time": "2024-02-13T16:44:36.314Z"
   },
   {
    "duration": 52,
    "start_time": "2024-02-13T16:44:49.886Z"
   },
   {
    "duration": 49,
    "start_time": "2024-02-13T16:45:46.110Z"
   },
   {
    "duration": 57,
    "start_time": "2024-02-13T16:46:27.873Z"
   },
   {
    "duration": 62,
    "start_time": "2024-02-13T16:46:42.977Z"
   },
   {
    "duration": 54,
    "start_time": "2024-02-13T16:46:53.422Z"
   },
   {
    "duration": 56,
    "start_time": "2024-02-13T16:47:02.295Z"
   },
   {
    "duration": 28,
    "start_time": "2024-02-13T16:48:21.945Z"
   },
   {
    "duration": 397,
    "start_time": "2024-02-13T16:50:24.637Z"
   },
   {
    "duration": 91,
    "start_time": "2024-02-13T16:51:51.440Z"
   },
   {
    "duration": 103,
    "start_time": "2024-02-13T16:52:07.107Z"
   },
   {
    "duration": 83,
    "start_time": "2024-02-13T16:52:16.722Z"
   },
   {
    "duration": 82,
    "start_time": "2024-02-13T16:52:33.428Z"
   },
   {
    "duration": 79,
    "start_time": "2024-02-13T16:52:38.798Z"
   },
   {
    "duration": 84,
    "start_time": "2024-02-13T16:52:47.218Z"
   },
   {
    "duration": 78,
    "start_time": "2024-02-13T16:53:07.594Z"
   },
   {
    "duration": 270,
    "start_time": "2024-02-13T16:55:04.292Z"
   },
   {
    "duration": 54,
    "start_time": "2024-02-13T16:55:32.920Z"
   },
   {
    "duration": 281,
    "start_time": "2024-02-13T16:55:51.726Z"
   },
   {
    "duration": 63,
    "start_time": "2024-02-13T16:56:40.780Z"
   },
   {
    "duration": 33,
    "start_time": "2024-02-13T16:57:17.492Z"
   },
   {
    "duration": 507,
    "start_time": "2024-02-13T16:57:21.355Z"
   },
   {
    "duration": 418,
    "start_time": "2024-02-13T16:58:35.777Z"
   },
   {
    "duration": 485,
    "start_time": "2024-02-13T16:58:50.151Z"
   },
   {
    "duration": 30,
    "start_time": "2024-02-13T17:03:16.118Z"
   },
   {
    "duration": 418,
    "start_time": "2024-02-13T17:03:56.088Z"
   },
   {
    "duration": 430,
    "start_time": "2024-02-13T17:04:30.034Z"
   },
   {
    "duration": 443,
    "start_time": "2024-02-13T17:04:35.542Z"
   },
   {
    "duration": 280,
    "start_time": "2024-02-13T17:08:29.937Z"
   },
   {
    "duration": 294,
    "start_time": "2024-02-13T17:09:01.457Z"
   },
   {
    "duration": 285,
    "start_time": "2024-02-13T17:09:22.362Z"
   },
   {
    "duration": 265,
    "start_time": "2024-02-13T17:10:37.944Z"
   },
   {
    "duration": 269,
    "start_time": "2024-02-13T17:11:37.544Z"
   },
   {
    "duration": 270,
    "start_time": "2024-02-13T17:12:18.452Z"
   },
   {
    "duration": 270,
    "start_time": "2024-02-13T17:12:33.148Z"
   },
   {
    "duration": 13,
    "start_time": "2024-02-13T17:16:30.762Z"
   },
   {
    "duration": 11,
    "start_time": "2024-02-13T17:16:45.662Z"
   },
   {
    "duration": 176,
    "start_time": "2024-02-13T17:18:05.963Z"
   },
   {
    "duration": 132,
    "start_time": "2024-02-13T17:18:30.093Z"
   },
   {
    "duration": 10,
    "start_time": "2024-02-13T17:20:34.943Z"
   },
   {
    "duration": 137,
    "start_time": "2024-02-13T17:25:03.424Z"
   },
   {
    "duration": 152,
    "start_time": "2024-02-13T17:25:37.757Z"
   },
   {
    "duration": 137,
    "start_time": "2024-02-13T17:25:46.289Z"
   },
   {
    "duration": 154,
    "start_time": "2024-02-13T17:26:28.546Z"
   },
   {
    "duration": 910,
    "start_time": "2024-02-13T17:27:30.784Z"
   },
   {
    "duration": 6,
    "start_time": "2024-02-13T17:27:50.873Z"
   },
   {
    "duration": 8,
    "start_time": "2024-02-13T17:29:08.010Z"
   },
   {
    "duration": 27,
    "start_time": "2024-02-13T17:29:08.020Z"
   },
   {
    "duration": 8,
    "start_time": "2024-02-13T17:29:08.049Z"
   },
   {
    "duration": 14,
    "start_time": "2024-02-13T17:29:08.059Z"
   },
   {
    "duration": 52,
    "start_time": "2024-02-13T17:29:08.146Z"
   },
   {
    "duration": 22,
    "start_time": "2024-02-13T17:29:08.200Z"
   },
   {
    "duration": 427,
    "start_time": "2024-02-13T17:29:08.224Z"
   },
   {
    "duration": 463,
    "start_time": "2024-02-13T17:29:08.653Z"
   },
   {
    "duration": 302,
    "start_time": "2024-02-13T17:29:09.118Z"
   },
   {
    "duration": 282,
    "start_time": "2024-02-13T17:29:09.422Z"
   },
   {
    "duration": 124,
    "start_time": "2024-02-13T17:29:09.706Z"
   },
   {
    "duration": 9,
    "start_time": "2024-02-13T17:29:09.832Z"
   },
   {
    "duration": 157,
    "start_time": "2024-02-13T17:29:09.843Z"
   },
   {
    "duration": 6,
    "start_time": "2024-02-13T17:29:10.002Z"
   },
   {
    "duration": 218,
    "start_time": "2024-02-13T17:29:16.048Z"
   },
   {
    "duration": 133,
    "start_time": "2024-02-13T17:29:31.355Z"
   },
   {
    "duration": 146,
    "start_time": "2024-02-13T17:35:14.224Z"
   },
   {
    "duration": 133,
    "start_time": "2024-02-13T17:36:05.899Z"
   },
   {
    "duration": 285,
    "start_time": "2024-02-13T17:51:36.019Z"
   },
   {
    "duration": 16,
    "start_time": "2024-02-13T17:59:23.269Z"
   },
   {
    "duration": 995,
    "start_time": "2024-02-13T18:01:25.907Z"
   },
   {
    "duration": 100,
    "start_time": "2024-02-13T18:04:09.738Z"
   },
   {
    "duration": 353,
    "start_time": "2024-02-13T18:06:56.281Z"
   },
   {
    "duration": 410,
    "start_time": "2024-02-13T18:07:47.209Z"
   },
   {
    "duration": 25,
    "start_time": "2024-02-13T18:07:47.621Z"
   },
   {
    "duration": 7,
    "start_time": "2024-02-13T18:07:47.648Z"
   },
   {
    "duration": 31,
    "start_time": "2024-02-13T18:07:47.657Z"
   },
   {
    "duration": 62,
    "start_time": "2024-02-13T18:07:47.690Z"
   },
   {
    "duration": 23,
    "start_time": "2024-02-13T18:07:47.754Z"
   },
   {
    "duration": 513,
    "start_time": "2024-02-13T18:07:47.779Z"
   },
   {
    "duration": 445,
    "start_time": "2024-02-13T18:07:48.294Z"
   },
   {
    "duration": 303,
    "start_time": "2024-02-13T18:07:48.740Z"
   },
   {
    "duration": 262,
    "start_time": "2024-02-13T18:07:49.045Z"
   },
   {
    "duration": 126,
    "start_time": "2024-02-13T18:07:49.309Z"
   },
   {
    "duration": 9,
    "start_time": "2024-02-13T18:07:49.437Z"
   },
   {
    "duration": 158,
    "start_time": "2024-02-13T18:07:49.448Z"
   },
   {
    "duration": 7,
    "start_time": "2024-02-13T18:07:49.607Z"
   },
   {
    "duration": 359,
    "start_time": "2024-02-13T18:07:49.615Z"
   },
   {
    "duration": 11,
    "start_time": "2024-02-13T18:10:47.030Z"
   },
   {
    "duration": 9,
    "start_time": "2024-02-13T18:18:37.855Z"
   },
   {
    "duration": 8,
    "start_time": "2024-02-13T18:19:11.186Z"
   },
   {
    "duration": 8,
    "start_time": "2024-02-13T18:20:22.547Z"
   },
   {
    "duration": 9,
    "start_time": "2024-02-13T18:20:31.966Z"
   },
   {
    "duration": 8,
    "start_time": "2024-02-13T18:20:40.290Z"
   },
   {
    "duration": 963,
    "start_time": "2024-02-13T18:25:32.553Z"
   },
   {
    "duration": 32,
    "start_time": "2024-02-13T18:26:20.082Z"
   },
   {
    "duration": 859,
    "start_time": "2024-02-13T18:29:15.881Z"
   },
   {
    "duration": 870,
    "start_time": "2024-02-13T18:29:57.108Z"
   },
   {
    "duration": 13,
    "start_time": "2024-02-13T18:30:11.517Z"
   },
   {
    "duration": 4,
    "start_time": "2024-02-13T18:58:08.828Z"
   },
   {
    "duration": 27,
    "start_time": "2024-02-13T18:58:10.042Z"
   },
   {
    "duration": 8,
    "start_time": "2024-02-13T18:58:10.908Z"
   },
   {
    "duration": 3,
    "start_time": "2024-02-13T18:59:42.715Z"
   },
   {
    "duration": 26,
    "start_time": "2024-02-13T18:59:44.143Z"
   },
   {
    "duration": 8,
    "start_time": "2024-02-13T18:59:44.959Z"
   },
   {
    "duration": 4,
    "start_time": "2024-02-13T19:11:22.215Z"
   },
   {
    "duration": 3,
    "start_time": "2024-02-13T19:11:23.042Z"
   },
   {
    "duration": 27,
    "start_time": "2024-02-13T19:11:23.690Z"
   },
   {
    "duration": 9,
    "start_time": "2024-02-13T19:11:24.631Z"
   },
   {
    "duration": 14,
    "start_time": "2024-02-13T19:11:30.071Z"
   },
   {
    "duration": 3,
    "start_time": "2024-02-13T19:12:14.791Z"
   },
   {
    "duration": 26,
    "start_time": "2024-02-13T19:12:15.452Z"
   },
   {
    "duration": 8,
    "start_time": "2024-02-13T19:12:16.285Z"
   },
   {
    "duration": 27,
    "start_time": "2024-02-13T19:12:27.022Z"
   },
   {
    "duration": 26,
    "start_time": "2024-02-13T19:12:29.861Z"
   },
   {
    "duration": 8,
    "start_time": "2024-02-13T19:12:30.406Z"
   },
   {
    "duration": 1297,
    "start_time": "2024-02-14T11:59:12.377Z"
   },
   {
    "duration": 3,
    "start_time": "2024-02-14T11:59:13.676Z"
   },
   {
    "duration": 69,
    "start_time": "2024-02-14T11:59:13.680Z"
   },
   {
    "duration": 10,
    "start_time": "2024-02-14T11:59:13.751Z"
   },
   {
    "duration": 22,
    "start_time": "2024-02-14T11:59:13.763Z"
   },
   {
    "duration": 377,
    "start_time": "2024-02-14T11:59:13.786Z"
   },
   {
    "duration": 0,
    "start_time": "2024-02-14T11:59:14.165Z"
   },
   {
    "duration": 0,
    "start_time": "2024-02-14T11:59:14.166Z"
   },
   {
    "duration": 0,
    "start_time": "2024-02-14T11:59:14.167Z"
   },
   {
    "duration": 0,
    "start_time": "2024-02-14T11:59:14.168Z"
   },
   {
    "duration": 0,
    "start_time": "2024-02-14T11:59:14.169Z"
   },
   {
    "duration": 0,
    "start_time": "2024-02-14T11:59:14.169Z"
   },
   {
    "duration": 0,
    "start_time": "2024-02-14T11:59:14.171Z"
   },
   {
    "duration": 0,
    "start_time": "2024-02-14T11:59:14.172Z"
   },
   {
    "duration": 0,
    "start_time": "2024-02-14T11:59:14.172Z"
   },
   {
    "duration": 0,
    "start_time": "2024-02-14T11:59:14.174Z"
   },
   {
    "duration": 0,
    "start_time": "2024-02-14T11:59:14.175Z"
   },
   {
    "duration": 0,
    "start_time": "2024-02-14T11:59:14.176Z"
   },
   {
    "duration": 0,
    "start_time": "2024-02-14T11:59:14.177Z"
   },
   {
    "duration": 295,
    "start_time": "2024-02-14T11:59:54.236Z"
   },
   {
    "duration": 4,
    "start_time": "2024-02-14T12:03:09.864Z"
   },
   {
    "duration": 3,
    "start_time": "2024-02-14T12:03:11.351Z"
   },
   {
    "duration": 26,
    "start_time": "2024-02-14T12:03:11.958Z"
   },
   {
    "duration": 8,
    "start_time": "2024-02-14T12:03:14.799Z"
   },
   {
    "duration": 8,
    "start_time": "2024-02-14T12:03:17.518Z"
   },
   {
    "duration": 65,
    "start_time": "2024-02-14T12:03:23.178Z"
   },
   {
    "duration": 33,
    "start_time": "2024-02-14T12:03:26.705Z"
   },
   {
    "duration": 4,
    "start_time": "2024-02-14T12:03:32.248Z"
   },
   {
    "duration": 31,
    "start_time": "2024-02-14T12:03:32.254Z"
   },
   {
    "duration": 43,
    "start_time": "2024-02-14T12:03:32.286Z"
   },
   {
    "duration": 7,
    "start_time": "2024-02-14T12:03:32.331Z"
   },
   {
    "duration": 9,
    "start_time": "2024-02-14T12:03:32.344Z"
   },
   {
    "duration": 57,
    "start_time": "2024-02-14T12:03:32.355Z"
   },
   {
    "duration": 22,
    "start_time": "2024-02-14T12:03:32.413Z"
   },
   {
    "duration": 594,
    "start_time": "2024-02-14T12:03:32.437Z"
   },
   {
    "duration": 497,
    "start_time": "2024-02-14T12:03:33.033Z"
   },
   {
    "duration": 432,
    "start_time": "2024-02-14T12:03:33.531Z"
   },
   {
    "duration": 346,
    "start_time": "2024-02-14T12:03:33.965Z"
   },
   {
    "duration": 152,
    "start_time": "2024-02-14T12:03:34.313Z"
   },
   {
    "duration": 10,
    "start_time": "2024-02-14T12:03:34.466Z"
   },
   {
    "duration": 172,
    "start_time": "2024-02-14T12:03:34.477Z"
   },
   {
    "duration": 12,
    "start_time": "2024-02-14T12:03:34.651Z"
   },
   {
    "duration": 375,
    "start_time": "2024-02-14T12:03:34.664Z"
   },
   {
    "duration": 19,
    "start_time": "2024-02-14T12:03:35.040Z"
   },
   {
    "duration": 33,
    "start_time": "2024-02-14T12:03:35.061Z"
   },
   {
    "duration": 12,
    "start_time": "2024-02-14T12:03:35.096Z"
   },
   {
    "duration": 5,
    "start_time": "2024-02-14T12:05:30.567Z"
   },
   {
    "duration": 32,
    "start_time": "2024-02-14T12:05:30.574Z"
   },
   {
    "duration": 67,
    "start_time": "2024-02-14T12:05:30.608Z"
   },
   {
    "duration": 38,
    "start_time": "2024-02-14T12:05:30.677Z"
   },
   {
    "duration": 50,
    "start_time": "2024-02-14T12:05:30.717Z"
   },
   {
    "duration": 117,
    "start_time": "2024-02-14T12:05:30.768Z"
   },
   {
    "duration": 24,
    "start_time": "2024-02-14T12:05:30.886Z"
   },
   {
    "duration": 605,
    "start_time": "2024-02-14T12:05:30.911Z"
   },
   {
    "duration": 527,
    "start_time": "2024-02-14T12:05:31.518Z"
   },
   {
    "duration": 375,
    "start_time": "2024-02-14T12:05:32.046Z"
   },
   {
    "duration": 361,
    "start_time": "2024-02-14T12:05:32.423Z"
   },
   {
    "duration": 153,
    "start_time": "2024-02-14T12:05:32.785Z"
   },
   {
    "duration": 20,
    "start_time": "2024-02-14T12:05:32.940Z"
   },
   {
    "duration": 318,
    "start_time": "2024-02-14T12:05:32.961Z"
   },
   {
    "duration": 6,
    "start_time": "2024-02-14T12:05:33.281Z"
   },
   {
    "duration": 340,
    "start_time": "2024-02-14T12:05:33.289Z"
   },
   {
    "duration": 10,
    "start_time": "2024-02-14T12:05:33.631Z"
   },
   {
    "duration": 46,
    "start_time": "2024-02-14T12:05:33.642Z"
   },
   {
    "duration": 12,
    "start_time": "2024-02-14T12:05:33.690Z"
   },
   {
    "duration": 11,
    "start_time": "2024-02-14T12:08:55.869Z"
   },
   {
    "duration": 11,
    "start_time": "2024-02-14T12:09:10.233Z"
   },
   {
    "duration": 11,
    "start_time": "2024-02-14T12:09:25.522Z"
   },
   {
    "duration": 9,
    "start_time": "2024-02-14T12:09:48.722Z"
   },
   {
    "duration": 2,
    "start_time": "2024-02-14T12:10:06.062Z"
   },
   {
    "duration": 3,
    "start_time": "2024-02-14T12:10:48.566Z"
   },
   {
    "duration": 10,
    "start_time": "2024-02-14T12:10:53.091Z"
   },
   {
    "duration": 3,
    "start_time": "2024-02-14T12:10:58.771Z"
   },
   {
    "duration": 5,
    "start_time": "2024-02-14T12:10:58.776Z"
   },
   {
    "duration": 74,
    "start_time": "2024-02-14T12:10:58.782Z"
   },
   {
    "duration": 10,
    "start_time": "2024-02-14T12:10:58.857Z"
   },
   {
    "duration": 7,
    "start_time": "2024-02-14T12:10:58.868Z"
   },
   {
    "duration": 11,
    "start_time": "2024-02-14T12:10:58.876Z"
   },
   {
    "duration": 8,
    "start_time": "2024-02-14T12:10:59.139Z"
   },
   {
    "duration": 23,
    "start_time": "2024-02-14T12:10:59.149Z"
   },
   {
    "duration": 13,
    "start_time": "2024-02-14T12:10:59.173Z"
   },
   {
    "duration": 531,
    "start_time": "2024-02-14T12:10:59.188Z"
   },
   {
    "duration": 501,
    "start_time": "2024-02-14T12:10:59.721Z"
   },
   {
    "duration": 391,
    "start_time": "2024-02-14T12:11:00.224Z"
   },
   {
    "duration": 378,
    "start_time": "2024-02-14T12:11:00.617Z"
   },
   {
    "duration": 161,
    "start_time": "2024-02-14T12:11:00.997Z"
   },
   {
    "duration": 10,
    "start_time": "2024-02-14T12:11:01.160Z"
   },
   {
    "duration": 277,
    "start_time": "2024-02-14T12:11:01.171Z"
   },
   {
    "duration": 11,
    "start_time": "2024-02-14T12:11:01.450Z"
   },
   {
    "duration": 327,
    "start_time": "2024-02-14T12:11:01.463Z"
   },
   {
    "duration": 9,
    "start_time": "2024-02-14T12:11:01.792Z"
   },
   {
    "duration": 52,
    "start_time": "2024-02-14T12:11:01.803Z"
   },
   {
    "duration": 40,
    "start_time": "2024-02-14T12:11:01.857Z"
   },
   {
    "duration": 3,
    "start_time": "2024-02-14T12:11:38.303Z"
   },
   {
    "duration": 880,
    "start_time": "2024-02-14T12:16:25.039Z"
   },
   {
    "duration": 872,
    "start_time": "2024-02-14T12:16:54.244Z"
   },
   {
    "duration": 845,
    "start_time": "2024-02-14T12:17:10.187Z"
   },
   {
    "duration": 7,
    "start_time": "2024-02-14T12:17:24.299Z"
   },
   {
    "duration": 1312,
    "start_time": "2024-02-14T12:17:27.682Z"
   },
   {
    "duration": 4,
    "start_time": "2024-02-14T12:17:47.946Z"
   },
   {
    "duration": 5,
    "start_time": "2024-02-14T12:17:47.953Z"
   },
   {
    "duration": 74,
    "start_time": "2024-02-14T12:17:47.960Z"
   },
   {
    "duration": 2,
    "start_time": "2024-02-14T12:17:48.036Z"
   },
   {
    "duration": 7,
    "start_time": "2024-02-14T12:17:48.040Z"
   },
   {
    "duration": 17,
    "start_time": "2024-02-14T12:17:48.048Z"
   },
   {
    "duration": 11,
    "start_time": "2024-02-14T12:17:48.066Z"
   },
   {
    "duration": 13,
    "start_time": "2024-02-14T12:17:48.340Z"
   },
   {
    "duration": 10,
    "start_time": "2024-02-14T12:17:48.354Z"
   },
   {
    "duration": 530,
    "start_time": "2024-02-14T12:17:48.365Z"
   },
   {
    "duration": 565,
    "start_time": "2024-02-14T12:17:48.897Z"
   },
   {
    "duration": 416,
    "start_time": "2024-02-14T12:17:49.464Z"
   },
   {
    "duration": 406,
    "start_time": "2024-02-14T12:17:49.881Z"
   },
   {
    "duration": 151,
    "start_time": "2024-02-14T12:17:50.289Z"
   },
   {
    "duration": 22,
    "start_time": "2024-02-14T12:17:50.441Z"
   },
   {
    "duration": 177,
    "start_time": "2024-02-14T12:17:50.464Z"
   },
   {
    "duration": 7,
    "start_time": "2024-02-14T12:17:50.642Z"
   },
   {
    "duration": 334,
    "start_time": "2024-02-14T12:17:50.650Z"
   },
   {
    "duration": 9,
    "start_time": "2024-02-14T12:17:50.985Z"
   },
   {
    "duration": 33,
    "start_time": "2024-02-14T12:17:50.995Z"
   },
   {
    "duration": 33,
    "start_time": "2024-02-14T12:17:51.030Z"
   },
   {
    "duration": 833,
    "start_time": "2024-02-14T12:19:13.222Z"
   },
   {
    "duration": 3,
    "start_time": "2024-02-14T12:19:19.280Z"
   },
   {
    "duration": 7,
    "start_time": "2024-02-14T12:19:19.286Z"
   },
   {
    "duration": 73,
    "start_time": "2024-02-14T12:19:19.294Z"
   },
   {
    "duration": 3,
    "start_time": "2024-02-14T12:19:19.369Z"
   },
   {
    "duration": 14,
    "start_time": "2024-02-14T12:19:19.373Z"
   },
   {
    "duration": 10,
    "start_time": "2024-02-14T12:19:19.389Z"
   },
   {
    "duration": 38,
    "start_time": "2024-02-14T12:19:19.401Z"
   },
   {
    "duration": 29,
    "start_time": "2024-02-14T12:19:19.441Z"
   },
   {
    "duration": 30,
    "start_time": "2024-02-14T12:19:19.472Z"
   },
   {
    "duration": 555,
    "start_time": "2024-02-14T12:19:19.504Z"
   },
   {
    "duration": 564,
    "start_time": "2024-02-14T12:19:20.061Z"
   },
   {
    "duration": 488,
    "start_time": "2024-02-14T12:19:20.627Z"
   },
   {
    "duration": 467,
    "start_time": "2024-02-14T12:19:21.117Z"
   },
   {
    "duration": 158,
    "start_time": "2024-02-14T12:19:21.586Z"
   },
   {
    "duration": 18,
    "start_time": "2024-02-14T12:19:21.745Z"
   },
   {
    "duration": 168,
    "start_time": "2024-02-14T12:19:21.765Z"
   },
   {
    "duration": 6,
    "start_time": "2024-02-14T12:19:21.935Z"
   },
   {
    "duration": 337,
    "start_time": "2024-02-14T12:19:21.943Z"
   },
   {
    "duration": 10,
    "start_time": "2024-02-14T12:19:22.282Z"
   },
   {
    "duration": 33,
    "start_time": "2024-02-14T12:19:22.293Z"
   },
   {
    "duration": 36,
    "start_time": "2024-02-14T12:19:22.328Z"
   },
   {
    "duration": 952,
    "start_time": "2024-02-14T12:20:01.689Z"
   },
   {
    "duration": 3,
    "start_time": "2024-02-14T12:20:05.646Z"
   },
   {
    "duration": 6,
    "start_time": "2024-02-14T12:20:05.653Z"
   },
   {
    "duration": 72,
    "start_time": "2024-02-14T12:20:05.999Z"
   },
   {
    "duration": 2,
    "start_time": "2024-02-14T12:20:06.073Z"
   },
   {
    "duration": 12,
    "start_time": "2024-02-14T12:20:06.077Z"
   },
   {
    "duration": 20,
    "start_time": "2024-02-14T12:20:06.090Z"
   },
   {
    "duration": 6,
    "start_time": "2024-02-14T12:20:06.112Z"
   },
   {
    "duration": 13,
    "start_time": "2024-02-14T12:20:06.120Z"
   },
   {
    "duration": 10,
    "start_time": "2024-02-14T12:20:06.134Z"
   },
   {
    "duration": 553,
    "start_time": "2024-02-14T12:20:06.146Z"
   },
   {
    "duration": 544,
    "start_time": "2024-02-14T12:20:06.701Z"
   },
   {
    "duration": 431,
    "start_time": "2024-02-14T12:20:07.247Z"
   },
   {
    "duration": 408,
    "start_time": "2024-02-14T12:20:07.680Z"
   },
   {
    "duration": 155,
    "start_time": "2024-02-14T12:20:08.089Z"
   },
   {
    "duration": 15,
    "start_time": "2024-02-14T12:20:08.245Z"
   },
   {
    "duration": 166,
    "start_time": "2024-02-14T12:20:08.262Z"
   },
   {
    "duration": 6,
    "start_time": "2024-02-14T12:20:08.430Z"
   },
   {
    "duration": 422,
    "start_time": "2024-02-14T12:20:08.437Z"
   },
   {
    "duration": 9,
    "start_time": "2024-02-14T12:20:08.860Z"
   },
   {
    "duration": 42,
    "start_time": "2024-02-14T12:20:08.870Z"
   },
   {
    "duration": 12,
    "start_time": "2024-02-14T12:20:08.914Z"
   },
   {
    "duration": 896,
    "start_time": "2024-02-14T12:20:47.590Z"
   },
   {
    "duration": 3,
    "start_time": "2024-02-14T12:20:51.949Z"
   },
   {
    "duration": 58,
    "start_time": "2024-02-14T12:20:51.956Z"
   },
   {
    "duration": 103,
    "start_time": "2024-02-14T12:20:52.016Z"
   },
   {
    "duration": 2,
    "start_time": "2024-02-14T12:20:52.121Z"
   },
   {
    "duration": 28,
    "start_time": "2024-02-14T12:20:52.125Z"
   },
   {
    "duration": 55,
    "start_time": "2024-02-14T12:20:52.155Z"
   },
   {
    "duration": 7,
    "start_time": "2024-02-14T12:20:52.336Z"
   },
   {
    "duration": 31,
    "start_time": "2024-02-14T12:20:52.345Z"
   },
   {
    "duration": 26,
    "start_time": "2024-02-14T12:20:52.377Z"
   },
   {
    "duration": 548,
    "start_time": "2024-02-14T12:20:52.404Z"
   },
   {
    "duration": 548,
    "start_time": "2024-02-14T12:20:52.954Z"
   },
   {
    "duration": 412,
    "start_time": "2024-02-14T12:20:53.504Z"
   },
   {
    "duration": 407,
    "start_time": "2024-02-14T12:20:53.917Z"
   },
   {
    "duration": 155,
    "start_time": "2024-02-14T12:20:54.326Z"
   },
   {
    "duration": 9,
    "start_time": "2024-02-14T12:20:54.483Z"
   },
   {
    "duration": 184,
    "start_time": "2024-02-14T12:20:54.493Z"
   },
   {
    "duration": 7,
    "start_time": "2024-02-14T12:20:54.678Z"
   },
   {
    "duration": 330,
    "start_time": "2024-02-14T12:20:54.687Z"
   },
   {
    "duration": 9,
    "start_time": "2024-02-14T12:20:55.019Z"
   },
   {
    "duration": 45,
    "start_time": "2024-02-14T12:20:55.030Z"
   },
   {
    "duration": 13,
    "start_time": "2024-02-14T12:20:55.076Z"
   },
   {
    "duration": 896,
    "start_time": "2024-02-14T12:21:39.211Z"
   },
   {
    "duration": 4,
    "start_time": "2024-02-14T12:21:43.680Z"
   },
   {
    "duration": 5,
    "start_time": "2024-02-14T12:21:43.687Z"
   },
   {
    "duration": 77,
    "start_time": "2024-02-14T12:21:43.693Z"
   },
   {
    "duration": 2,
    "start_time": "2024-02-14T12:21:43.772Z"
   },
   {
    "duration": 6,
    "start_time": "2024-02-14T12:21:43.776Z"
   },
   {
    "duration": 19,
    "start_time": "2024-02-14T12:21:43.783Z"
   },
   {
    "duration": 0,
    "start_time": "2024-02-14T12:21:43.804Z"
   },
   {
    "duration": 0,
    "start_time": "2024-02-14T12:21:43.805Z"
   },
   {
    "duration": 0,
    "start_time": "2024-02-14T12:21:43.807Z"
   },
   {
    "duration": 0,
    "start_time": "2024-02-14T12:21:43.808Z"
   },
   {
    "duration": 0,
    "start_time": "2024-02-14T12:21:43.809Z"
   },
   {
    "duration": 0,
    "start_time": "2024-02-14T12:21:43.810Z"
   },
   {
    "duration": 0,
    "start_time": "2024-02-14T12:21:43.811Z"
   },
   {
    "duration": 0,
    "start_time": "2024-02-14T12:21:43.812Z"
   },
   {
    "duration": 0,
    "start_time": "2024-02-14T12:21:43.813Z"
   },
   {
    "duration": 0,
    "start_time": "2024-02-14T12:21:43.814Z"
   },
   {
    "duration": 0,
    "start_time": "2024-02-14T12:21:43.816Z"
   },
   {
    "duration": 376,
    "start_time": "2024-02-14T12:21:43.818Z"
   },
   {
    "duration": 10,
    "start_time": "2024-02-14T12:21:44.196Z"
   },
   {
    "duration": 51,
    "start_time": "2024-02-14T12:21:44.208Z"
   },
   {
    "duration": 14,
    "start_time": "2024-02-14T12:21:44.261Z"
   },
   {
    "duration": 895,
    "start_time": "2024-02-14T12:22:17.609Z"
   },
   {
    "duration": 877,
    "start_time": "2024-02-14T12:22:46.277Z"
   },
   {
    "duration": 787,
    "start_time": "2024-02-14T12:22:55.474Z"
   },
   {
    "duration": 4,
    "start_time": "2024-02-14T12:23:03.166Z"
   },
   {
    "duration": 17,
    "start_time": "2024-02-14T12:23:03.172Z"
   },
   {
    "duration": 77,
    "start_time": "2024-02-14T12:23:03.191Z"
   },
   {
    "duration": 2,
    "start_time": "2024-02-14T12:23:03.270Z"
   },
   {
    "duration": 13,
    "start_time": "2024-02-14T12:23:03.275Z"
   },
   {
    "duration": 8,
    "start_time": "2024-02-14T12:23:03.289Z"
   },
   {
    "duration": 16,
    "start_time": "2024-02-14T12:23:03.298Z"
   },
   {
    "duration": 8,
    "start_time": "2024-02-14T12:23:03.316Z"
   },
   {
    "duration": 14,
    "start_time": "2024-02-14T12:23:03.325Z"
   },
   {
    "duration": 19,
    "start_time": "2024-02-14T12:23:03.341Z"
   },
   {
    "duration": 559,
    "start_time": "2024-02-14T12:23:03.363Z"
   },
   {
    "duration": 571,
    "start_time": "2024-02-14T12:23:03.924Z"
   },
   {
    "duration": 407,
    "start_time": "2024-02-14T12:23:04.497Z"
   },
   {
    "duration": 494,
    "start_time": "2024-02-14T12:23:04.905Z"
   },
   {
    "duration": 164,
    "start_time": "2024-02-14T12:23:05.401Z"
   },
   {
    "duration": 10,
    "start_time": "2024-02-14T12:23:05.567Z"
   },
   {
    "duration": 170,
    "start_time": "2024-02-14T12:23:05.578Z"
   },
   {
    "duration": 11,
    "start_time": "2024-02-14T12:23:05.749Z"
   },
   {
    "duration": 331,
    "start_time": "2024-02-14T12:23:05.762Z"
   },
   {
    "duration": 9,
    "start_time": "2024-02-14T12:23:06.095Z"
   },
   {
    "duration": 35,
    "start_time": "2024-02-14T12:23:06.106Z"
   },
   {
    "duration": 25,
    "start_time": "2024-02-14T12:23:06.142Z"
   },
   {
    "duration": 862,
    "start_time": "2024-02-14T12:25:37.561Z"
   },
   {
    "duration": 914,
    "start_time": "2024-02-14T12:26:11.140Z"
   },
   {
    "duration": 4,
    "start_time": "2024-02-14T12:26:27.101Z"
   },
   {
    "duration": 6,
    "start_time": "2024-02-14T12:26:27.109Z"
   },
   {
    "duration": 75,
    "start_time": "2024-02-14T12:26:27.117Z"
   },
   {
    "duration": 2,
    "start_time": "2024-02-14T12:26:27.194Z"
   },
   {
    "duration": 6,
    "start_time": "2024-02-14T12:26:27.472Z"
   },
   {
    "duration": 21,
    "start_time": "2024-02-14T12:26:27.480Z"
   },
   {
    "duration": 0,
    "start_time": "2024-02-14T12:26:27.503Z"
   },
   {
    "duration": 0,
    "start_time": "2024-02-14T12:26:27.504Z"
   },
   {
    "duration": 0,
    "start_time": "2024-02-14T12:26:27.505Z"
   },
   {
    "duration": 0,
    "start_time": "2024-02-14T12:26:27.506Z"
   },
   {
    "duration": 0,
    "start_time": "2024-02-14T12:26:27.507Z"
   },
   {
    "duration": 0,
    "start_time": "2024-02-14T12:26:27.508Z"
   },
   {
    "duration": 0,
    "start_time": "2024-02-14T12:26:27.509Z"
   },
   {
    "duration": 436,
    "start_time": "2024-02-14T12:26:27.537Z"
   },
   {
    "duration": 405,
    "start_time": "2024-02-14T12:26:27.974Z"
   },
   {
    "duration": 161,
    "start_time": "2024-02-14T12:26:28.381Z"
   },
   {
    "duration": 18,
    "start_time": "2024-02-14T12:26:28.543Z"
   },
   {
    "duration": 168,
    "start_time": "2024-02-14T12:26:28.563Z"
   },
   {
    "duration": 7,
    "start_time": "2024-02-14T12:26:28.733Z"
   },
   {
    "duration": 354,
    "start_time": "2024-02-14T12:26:28.742Z"
   },
   {
    "duration": 9,
    "start_time": "2024-02-14T12:26:29.098Z"
   },
   {
    "duration": 32,
    "start_time": "2024-02-14T12:26:29.108Z"
   },
   {
    "duration": 25,
    "start_time": "2024-02-14T12:26:29.142Z"
   },
   {
    "duration": 869,
    "start_time": "2024-02-14T12:26:54.087Z"
   },
   {
    "duration": 4,
    "start_time": "2024-02-14T12:27:05.051Z"
   },
   {
    "duration": 6,
    "start_time": "2024-02-14T12:27:05.058Z"
   },
   {
    "duration": 81,
    "start_time": "2024-02-14T12:27:05.066Z"
   },
   {
    "duration": 2,
    "start_time": "2024-02-14T12:27:05.149Z"
   },
   {
    "duration": 8,
    "start_time": "2024-02-14T12:27:05.152Z"
   },
   {
    "duration": 10,
    "start_time": "2024-02-14T12:27:05.162Z"
   },
   {
    "duration": 23,
    "start_time": "2024-02-14T12:27:05.174Z"
   },
   {
    "duration": 9,
    "start_time": "2024-02-14T12:27:05.199Z"
   },
   {
    "duration": 7,
    "start_time": "2024-02-14T12:27:05.210Z"
   },
   {
    "duration": 16,
    "start_time": "2024-02-14T12:27:05.219Z"
   },
   {
    "duration": 24,
    "start_time": "2024-02-14T12:27:05.236Z"
   },
   {
    "duration": 587,
    "start_time": "2024-02-14T12:27:05.263Z"
   },
   {
    "duration": 549,
    "start_time": "2024-02-14T12:27:05.852Z"
   },
   {
    "duration": 502,
    "start_time": "2024-02-14T12:27:06.403Z"
   },
   {
    "duration": 412,
    "start_time": "2024-02-14T12:27:06.907Z"
   },
   {
    "duration": 159,
    "start_time": "2024-02-14T12:27:07.321Z"
   },
   {
    "duration": 17,
    "start_time": "2024-02-14T12:27:07.482Z"
   },
   {
    "duration": 183,
    "start_time": "2024-02-14T12:27:07.501Z"
   },
   {
    "duration": 6,
    "start_time": "2024-02-14T12:27:07.685Z"
   },
   {
    "duration": 338,
    "start_time": "2024-02-14T12:27:07.693Z"
   },
   {
    "duration": 9,
    "start_time": "2024-02-14T12:27:08.033Z"
   },
   {
    "duration": 42,
    "start_time": "2024-02-14T12:27:08.044Z"
   },
   {
    "duration": 12,
    "start_time": "2024-02-14T12:27:08.088Z"
   },
   {
    "duration": 837,
    "start_time": "2024-02-14T12:27:57.400Z"
   },
   {
    "duration": 3,
    "start_time": "2024-02-14T12:28:01.751Z"
   },
   {
    "duration": 31,
    "start_time": "2024-02-14T12:28:01.756Z"
   },
   {
    "duration": 113,
    "start_time": "2024-02-14T12:28:01.788Z"
   },
   {
    "duration": 2,
    "start_time": "2024-02-14T12:28:01.903Z"
   },
   {
    "duration": 26,
    "start_time": "2024-02-14T12:28:01.906Z"
   },
   {
    "duration": 25,
    "start_time": "2024-02-14T12:28:01.934Z"
   },
   {
    "duration": 76,
    "start_time": "2024-02-14T12:28:01.961Z"
   },
   {
    "duration": 15,
    "start_time": "2024-02-14T12:28:02.040Z"
   },
   {
    "duration": 43,
    "start_time": "2024-02-14T12:28:02.058Z"
   },
   {
    "duration": 11,
    "start_time": "2024-02-14T12:28:02.103Z"
   },
   {
    "duration": 553,
    "start_time": "2024-02-14T12:28:02.116Z"
   },
   {
    "duration": 559,
    "start_time": "2024-02-14T12:28:02.671Z"
   },
   {
    "duration": 476,
    "start_time": "2024-02-14T12:28:03.231Z"
   },
   {
    "duration": 393,
    "start_time": "2024-02-14T12:28:03.708Z"
   },
   {
    "duration": 150,
    "start_time": "2024-02-14T12:28:04.103Z"
   },
   {
    "duration": 9,
    "start_time": "2024-02-14T12:28:04.258Z"
   },
   {
    "duration": 170,
    "start_time": "2024-02-14T12:28:04.268Z"
   },
   {
    "duration": 6,
    "start_time": "2024-02-14T12:28:04.440Z"
   },
   {
    "duration": 441,
    "start_time": "2024-02-14T12:28:04.448Z"
   },
   {
    "duration": 8,
    "start_time": "2024-02-14T12:28:04.891Z"
   },
   {
    "duration": 32,
    "start_time": "2024-02-14T12:28:04.900Z"
   },
   {
    "duration": 28,
    "start_time": "2024-02-14T12:28:04.934Z"
   },
   {
    "duration": 4,
    "start_time": "2024-02-14T12:28:34.275Z"
   },
   {
    "duration": 2,
    "start_time": "2024-02-14T12:28:34.283Z"
   },
   {
    "duration": 72,
    "start_time": "2024-02-14T12:28:34.288Z"
   },
   {
    "duration": 2,
    "start_time": "2024-02-14T12:28:34.362Z"
   },
   {
    "duration": 8,
    "start_time": "2024-02-14T12:28:34.365Z"
   },
   {
    "duration": 31,
    "start_time": "2024-02-14T12:28:34.374Z"
   },
   {
    "duration": 8,
    "start_time": "2024-02-14T12:28:34.406Z"
   },
   {
    "duration": 8,
    "start_time": "2024-02-14T12:28:34.415Z"
   },
   {
    "duration": 14,
    "start_time": "2024-02-14T12:28:34.424Z"
   },
   {
    "duration": 20,
    "start_time": "2024-02-14T12:28:34.439Z"
   },
   {
    "duration": 566,
    "start_time": "2024-02-14T12:28:34.460Z"
   },
   {
    "duration": 542,
    "start_time": "2024-02-14T12:28:35.028Z"
   },
   {
    "duration": 415,
    "start_time": "2024-02-14T12:28:35.571Z"
   },
   {
    "duration": 399,
    "start_time": "2024-02-14T12:28:35.988Z"
   },
   {
    "duration": 148,
    "start_time": "2024-02-14T12:28:36.389Z"
   },
   {
    "duration": 9,
    "start_time": "2024-02-14T12:28:36.538Z"
   },
   {
    "duration": 173,
    "start_time": "2024-02-14T12:28:36.549Z"
   },
   {
    "duration": 5,
    "start_time": "2024-02-14T12:28:36.724Z"
   },
   {
    "duration": 335,
    "start_time": "2024-02-14T12:28:36.731Z"
   },
   {
    "duration": 9,
    "start_time": "2024-02-14T12:28:37.068Z"
   },
   {
    "duration": 33,
    "start_time": "2024-02-14T12:28:37.078Z"
   },
   {
    "duration": 11,
    "start_time": "2024-02-14T12:28:37.113Z"
   },
   {
    "duration": 4,
    "start_time": "2024-02-14T12:29:14.033Z"
   },
   {
    "duration": 5,
    "start_time": "2024-02-14T12:29:14.039Z"
   },
   {
    "duration": 74,
    "start_time": "2024-02-14T12:29:14.046Z"
   },
   {
    "duration": 2,
    "start_time": "2024-02-14T12:29:14.122Z"
   },
   {
    "duration": 9,
    "start_time": "2024-02-14T12:29:14.125Z"
   },
   {
    "duration": 17,
    "start_time": "2024-02-14T12:29:14.135Z"
   },
   {
    "duration": 0,
    "start_time": "2024-02-14T12:29:14.154Z"
   },
   {
    "duration": 0,
    "start_time": "2024-02-14T12:29:14.155Z"
   },
   {
    "duration": 0,
    "start_time": "2024-02-14T12:29:14.156Z"
   },
   {
    "duration": 0,
    "start_time": "2024-02-14T12:29:14.157Z"
   },
   {
    "duration": 0,
    "start_time": "2024-02-14T12:29:14.158Z"
   },
   {
    "duration": 0,
    "start_time": "2024-02-14T12:29:14.159Z"
   },
   {
    "duration": 0,
    "start_time": "2024-02-14T12:29:14.160Z"
   },
   {
    "duration": 412,
    "start_time": "2024-02-14T12:29:14.162Z"
   },
   {
    "duration": 150,
    "start_time": "2024-02-14T12:29:14.576Z"
   },
   {
    "duration": 10,
    "start_time": "2024-02-14T12:29:14.728Z"
   },
   {
    "duration": 183,
    "start_time": "2024-02-14T12:29:14.739Z"
   },
   {
    "duration": 7,
    "start_time": "2024-02-14T12:29:14.923Z"
   },
   {
    "duration": 440,
    "start_time": "2024-02-14T12:29:14.932Z"
   },
   {
    "duration": 9,
    "start_time": "2024-02-14T12:29:15.373Z"
   },
   {
    "duration": 31,
    "start_time": "2024-02-14T12:29:15.384Z"
   },
   {
    "duration": 11,
    "start_time": "2024-02-14T12:29:15.417Z"
   },
   {
    "duration": 933,
    "start_time": "2024-02-14T12:29:39.227Z"
   },
   {
    "duration": 4,
    "start_time": "2024-02-14T12:29:45.082Z"
   },
   {
    "duration": 13,
    "start_time": "2024-02-14T12:29:45.088Z"
   },
   {
    "duration": 84,
    "start_time": "2024-02-14T12:29:45.103Z"
   },
   {
    "duration": 2,
    "start_time": "2024-02-14T12:29:45.189Z"
   },
   {
    "duration": 16,
    "start_time": "2024-02-14T12:29:45.193Z"
   },
   {
    "duration": 27,
    "start_time": "2024-02-14T12:29:45.211Z"
   },
   {
    "duration": 0,
    "start_time": "2024-02-14T12:29:45.240Z"
   },
   {
    "duration": 0,
    "start_time": "2024-02-14T12:29:45.241Z"
   },
   {
    "duration": 0,
    "start_time": "2024-02-14T12:29:45.242Z"
   },
   {
    "duration": 0,
    "start_time": "2024-02-14T12:29:45.242Z"
   },
   {
    "duration": 0,
    "start_time": "2024-02-14T12:29:45.244Z"
   },
   {
    "duration": 0,
    "start_time": "2024-02-14T12:29:45.245Z"
   },
   {
    "duration": 0,
    "start_time": "2024-02-14T12:29:45.246Z"
   },
   {
    "duration": 0,
    "start_time": "2024-02-14T12:29:45.247Z"
   },
   {
    "duration": 0,
    "start_time": "2024-02-14T12:29:45.247Z"
   },
   {
    "duration": 0,
    "start_time": "2024-02-14T12:29:45.248Z"
   },
   {
    "duration": 0,
    "start_time": "2024-02-14T12:29:45.249Z"
   },
   {
    "duration": 0,
    "start_time": "2024-02-14T12:29:45.250Z"
   },
   {
    "duration": 0,
    "start_time": "2024-02-14T12:29:45.251Z"
   },
   {
    "duration": 0,
    "start_time": "2024-02-14T12:29:45.252Z"
   },
   {
    "duration": 0,
    "start_time": "2024-02-14T12:29:45.253Z"
   },
   {
    "duration": 15,
    "start_time": "2024-02-14T12:29:45.255Z"
   },
   {
    "duration": 9,
    "start_time": "2024-02-14T12:30:09.191Z"
   },
   {
    "duration": 7,
    "start_time": "2024-02-14T12:30:15.610Z"
   },
   {
    "duration": 7,
    "start_time": "2024-02-14T12:31:17.148Z"
   },
   {
    "duration": 12,
    "start_time": "2024-02-14T12:31:28.813Z"
   },
   {
    "duration": 7,
    "start_time": "2024-02-14T12:31:34.417Z"
   },
   {
    "duration": 10,
    "start_time": "2024-02-14T12:34:45.748Z"
   },
   {
    "duration": 9,
    "start_time": "2024-02-14T12:34:54.472Z"
   },
   {
    "duration": 8,
    "start_time": "2024-02-14T12:35:18.883Z"
   },
   {
    "duration": 8,
    "start_time": "2024-02-14T12:35:52.719Z"
   },
   {
    "duration": 8,
    "start_time": "2024-02-14T12:36:12.020Z"
   },
   {
    "duration": 41,
    "start_time": "2024-02-14T12:37:09.691Z"
   },
   {
    "duration": 38,
    "start_time": "2024-02-14T12:37:22.937Z"
   },
   {
    "duration": 40,
    "start_time": "2024-02-14T12:37:39.703Z"
   },
   {
    "duration": 29,
    "start_time": "2024-02-14T12:38:35.540Z"
   },
   {
    "duration": 23,
    "start_time": "2024-02-14T12:39:52.082Z"
   },
   {
    "duration": 4,
    "start_time": "2024-02-14T12:40:25.486Z"
   },
   {
    "duration": 7,
    "start_time": "2024-02-14T12:40:25.496Z"
   },
   {
    "duration": 76,
    "start_time": "2024-02-14T12:40:25.505Z"
   },
   {
    "duration": 35,
    "start_time": "2024-02-14T12:40:25.583Z"
   },
   {
    "duration": 8,
    "start_time": "2024-02-14T12:40:25.620Z"
   },
   {
    "duration": 45,
    "start_time": "2024-02-14T12:40:25.629Z"
   },
   {
    "duration": 23,
    "start_time": "2024-02-14T12:40:25.675Z"
   },
   {
    "duration": 4,
    "start_time": "2024-02-14T12:40:25.699Z"
   },
   {
    "duration": 29,
    "start_time": "2024-02-14T12:40:25.705Z"
   },
   {
    "duration": 24,
    "start_time": "2024-02-14T12:40:25.735Z"
   },
   {
    "duration": 17,
    "start_time": "2024-02-14T12:40:25.761Z"
   },
   {
    "duration": 22,
    "start_time": "2024-02-14T12:40:25.780Z"
   },
   {
    "duration": 526,
    "start_time": "2024-02-14T12:40:25.804Z"
   },
   {
    "duration": 560,
    "start_time": "2024-02-14T12:40:26.332Z"
   },
   {
    "duration": 395,
    "start_time": "2024-02-14T12:40:26.894Z"
   },
   {
    "duration": 399,
    "start_time": "2024-02-14T12:40:27.291Z"
   },
   {
    "duration": 154,
    "start_time": "2024-02-14T12:40:27.691Z"
   },
   {
    "duration": 14,
    "start_time": "2024-02-14T12:40:27.846Z"
   },
   {
    "duration": 186,
    "start_time": "2024-02-14T12:40:27.861Z"
   },
   {
    "duration": 9,
    "start_time": "2024-02-14T12:40:28.049Z"
   },
   {
    "duration": 356,
    "start_time": "2024-02-14T12:40:28.060Z"
   },
   {
    "duration": 9,
    "start_time": "2024-02-14T12:40:28.418Z"
   },
   {
    "duration": 54,
    "start_time": "2024-02-14T12:40:28.429Z"
   },
   {
    "duration": 12,
    "start_time": "2024-02-14T12:40:28.485Z"
   },
   {
    "duration": 883,
    "start_time": "2024-02-14T12:43:11.563Z"
   },
   {
    "duration": 5,
    "start_time": "2024-02-14T12:43:19.975Z"
   },
   {
    "duration": 33,
    "start_time": "2024-02-14T12:43:19.983Z"
   },
   {
    "duration": 97,
    "start_time": "2024-02-14T12:43:20.018Z"
   },
   {
    "duration": 31,
    "start_time": "2024-02-14T12:43:20.117Z"
   },
   {
    "duration": 7,
    "start_time": "2024-02-14T12:43:20.150Z"
   },
   {
    "duration": 32,
    "start_time": "2024-02-14T12:43:20.159Z"
   },
   {
    "duration": 25,
    "start_time": "2024-02-14T12:43:20.192Z"
   },
   {
    "duration": 6,
    "start_time": "2024-02-14T12:43:20.219Z"
   },
   {
    "duration": 40,
    "start_time": "2024-02-14T12:43:20.226Z"
   },
   {
    "duration": 17,
    "start_time": "2024-02-14T12:43:20.267Z"
   },
   {
    "duration": 22,
    "start_time": "2024-02-14T12:43:20.286Z"
   },
   {
    "duration": 21,
    "start_time": "2024-02-14T12:43:20.310Z"
   },
   {
    "duration": 10,
    "start_time": "2024-02-14T12:43:20.333Z"
   },
   {
    "duration": 556,
    "start_time": "2024-02-14T12:43:20.344Z"
   },
   {
    "duration": 592,
    "start_time": "2024-02-14T12:43:20.902Z"
   },
   {
    "duration": 397,
    "start_time": "2024-02-14T12:43:21.496Z"
   },
   {
    "duration": 505,
    "start_time": "2024-02-14T12:43:21.894Z"
   },
   {
    "duration": 157,
    "start_time": "2024-02-14T12:43:22.403Z"
   },
   {
    "duration": 9,
    "start_time": "2024-02-14T12:43:22.562Z"
   },
   {
    "duration": 168,
    "start_time": "2024-02-14T12:43:22.572Z"
   },
   {
    "duration": 6,
    "start_time": "2024-02-14T12:43:22.742Z"
   },
   {
    "duration": 325,
    "start_time": "2024-02-14T12:43:22.758Z"
   },
   {
    "duration": 8,
    "start_time": "2024-02-14T12:43:23.085Z"
   },
   {
    "duration": 32,
    "start_time": "2024-02-14T12:43:23.095Z"
   },
   {
    "duration": 31,
    "start_time": "2024-02-14T12:43:23.128Z"
   },
   {
    "duration": 846,
    "start_time": "2024-02-14T12:44:14.334Z"
   },
   {
    "duration": 4,
    "start_time": "2024-02-14T12:44:20.604Z"
   },
   {
    "duration": 13,
    "start_time": "2024-02-14T12:44:20.610Z"
   },
   {
    "duration": 74,
    "start_time": "2024-02-14T12:44:20.624Z"
   },
   {
    "duration": 28,
    "start_time": "2024-02-14T12:44:20.699Z"
   },
   {
    "duration": 7,
    "start_time": "2024-02-14T12:44:20.729Z"
   },
   {
    "duration": 33,
    "start_time": "2024-02-14T12:44:20.738Z"
   },
   {
    "duration": 24,
    "start_time": "2024-02-14T12:44:20.772Z"
   },
   {
    "duration": 5,
    "start_time": "2024-02-14T12:44:20.798Z"
   },
   {
    "duration": 12,
    "start_time": "2024-02-14T12:44:20.804Z"
   },
   {
    "duration": 11,
    "start_time": "2024-02-14T12:44:20.818Z"
   },
   {
    "duration": 29,
    "start_time": "2024-02-14T12:44:20.831Z"
   },
   {
    "duration": 29,
    "start_time": "2024-02-14T12:44:20.862Z"
   },
   {
    "duration": 10,
    "start_time": "2024-02-14T12:44:20.892Z"
   },
   {
    "duration": 599,
    "start_time": "2024-02-14T12:44:20.904Z"
   },
   {
    "duration": 603,
    "start_time": "2024-02-14T12:44:21.505Z"
   },
   {
    "duration": 427,
    "start_time": "2024-02-14T12:44:22.109Z"
   },
   {
    "duration": 447,
    "start_time": "2024-02-14T12:44:22.537Z"
   },
   {
    "duration": 167,
    "start_time": "2024-02-14T12:44:22.986Z"
   },
   {
    "duration": 10,
    "start_time": "2024-02-14T12:44:23.159Z"
   },
   {
    "duration": 189,
    "start_time": "2024-02-14T12:44:23.171Z"
   },
   {
    "duration": 8,
    "start_time": "2024-02-14T12:44:23.362Z"
   },
   {
    "duration": 355,
    "start_time": "2024-02-14T12:44:23.372Z"
   },
   {
    "duration": 10,
    "start_time": "2024-02-14T12:44:23.729Z"
   },
   {
    "duration": 47,
    "start_time": "2024-02-14T12:44:23.741Z"
   },
   {
    "duration": 14,
    "start_time": "2024-02-14T12:44:23.790Z"
   },
   {
    "duration": 984,
    "start_time": "2024-02-14T12:45:08.943Z"
   },
   {
    "duration": 867,
    "start_time": "2024-02-14T12:45:50.035Z"
   },
   {
    "duration": 5,
    "start_time": "2024-02-14T12:46:01.006Z"
   },
   {
    "duration": 53,
    "start_time": "2024-02-14T12:46:01.014Z"
   },
   {
    "duration": 102,
    "start_time": "2024-02-14T12:46:01.069Z"
   },
   {
    "duration": 34,
    "start_time": "2024-02-14T12:46:01.172Z"
   },
   {
    "duration": 36,
    "start_time": "2024-02-14T12:46:01.209Z"
   },
   {
    "duration": 71,
    "start_time": "2024-02-14T12:46:01.247Z"
   },
   {
    "duration": 34,
    "start_time": "2024-02-14T12:46:01.320Z"
   },
   {
    "duration": 17,
    "start_time": "2024-02-14T12:46:01.356Z"
   },
   {
    "duration": 28,
    "start_time": "2024-02-14T12:46:01.377Z"
   },
   {
    "duration": 27,
    "start_time": "2024-02-14T12:46:01.407Z"
   },
   {
    "duration": 42,
    "start_time": "2024-02-14T12:46:01.435Z"
   },
   {
    "duration": 24,
    "start_time": "2024-02-14T12:46:01.479Z"
   },
   {
    "duration": 690,
    "start_time": "2024-02-14T12:46:01.505Z"
   },
   {
    "duration": 555,
    "start_time": "2024-02-14T12:46:02.197Z"
   },
   {
    "duration": 454,
    "start_time": "2024-02-14T12:46:02.754Z"
   },
   {
    "duration": 497,
    "start_time": "2024-02-14T12:46:03.209Z"
   },
   {
    "duration": 169,
    "start_time": "2024-02-14T12:46:03.707Z"
   },
   {
    "duration": 10,
    "start_time": "2024-02-14T12:46:03.877Z"
   },
   {
    "duration": 184,
    "start_time": "2024-02-14T12:46:03.888Z"
   },
   {
    "duration": 8,
    "start_time": "2024-02-14T12:46:04.073Z"
   },
   {
    "duration": 337,
    "start_time": "2024-02-14T12:46:04.083Z"
   },
   {
    "duration": 10,
    "start_time": "2024-02-14T12:46:04.421Z"
   },
   {
    "duration": 45,
    "start_time": "2024-02-14T12:46:04.432Z"
   },
   {
    "duration": 12,
    "start_time": "2024-02-14T12:46:04.480Z"
   },
   {
    "duration": 881,
    "start_time": "2024-02-14T12:46:45.443Z"
   },
   {
    "duration": 4,
    "start_time": "2024-02-14T12:46:51.693Z"
   },
   {
    "duration": 9,
    "start_time": "2024-02-14T12:46:51.699Z"
   },
   {
    "duration": 72,
    "start_time": "2024-02-14T12:46:51.710Z"
   },
   {
    "duration": 31,
    "start_time": "2024-02-14T12:46:51.784Z"
   },
   {
    "duration": 8,
    "start_time": "2024-02-14T12:46:51.816Z"
   },
   {
    "duration": 46,
    "start_time": "2024-02-14T12:46:51.825Z"
   },
   {
    "duration": 24,
    "start_time": "2024-02-14T12:46:51.872Z"
   },
   {
    "duration": 6,
    "start_time": "2024-02-14T12:46:51.898Z"
   },
   {
    "duration": 13,
    "start_time": "2024-02-14T12:46:51.905Z"
   },
   {
    "duration": 45,
    "start_time": "2024-02-14T12:46:51.920Z"
   },
   {
    "duration": 31,
    "start_time": "2024-02-14T12:46:51.967Z"
   },
   {
    "duration": 11,
    "start_time": "2024-02-14T12:46:51.999Z"
   },
   {
    "duration": 572,
    "start_time": "2024-02-14T12:46:52.011Z"
   },
   {
    "duration": 585,
    "start_time": "2024-02-14T12:46:52.585Z"
   },
   {
    "duration": 423,
    "start_time": "2024-02-14T12:46:53.171Z"
   },
   {
    "duration": 513,
    "start_time": "2024-02-14T12:46:53.596Z"
   },
   {
    "duration": 178,
    "start_time": "2024-02-14T12:46:54.110Z"
   },
   {
    "duration": 9,
    "start_time": "2024-02-14T12:46:54.290Z"
   },
   {
    "duration": 187,
    "start_time": "2024-02-14T12:46:54.301Z"
   },
   {
    "duration": 7,
    "start_time": "2024-02-14T12:46:54.490Z"
   },
   {
    "duration": 336,
    "start_time": "2024-02-14T12:46:54.498Z"
   },
   {
    "duration": 10,
    "start_time": "2024-02-14T12:46:54.836Z"
   },
   {
    "duration": 35,
    "start_time": "2024-02-14T12:46:54.859Z"
   },
   {
    "duration": 14,
    "start_time": "2024-02-14T12:46:54.896Z"
   },
   {
    "duration": 849,
    "start_time": "2024-02-14T12:47:28.983Z"
   },
   {
    "duration": 4,
    "start_time": "2024-02-14T12:47:32.670Z"
   },
   {
    "duration": 56,
    "start_time": "2024-02-14T12:47:32.675Z"
   },
   {
    "duration": 101,
    "start_time": "2024-02-14T12:47:32.733Z"
   },
   {
    "duration": 30,
    "start_time": "2024-02-14T12:47:32.835Z"
   },
   {
    "duration": 7,
    "start_time": "2024-02-14T12:47:32.867Z"
   },
   {
    "duration": 50,
    "start_time": "2024-02-14T12:47:32.876Z"
   },
   {
    "duration": 27,
    "start_time": "2024-02-14T12:47:32.928Z"
   },
   {
    "duration": 6,
    "start_time": "2024-02-14T12:47:32.956Z"
   },
   {
    "duration": 47,
    "start_time": "2024-02-14T12:47:32.963Z"
   },
   {
    "duration": 11,
    "start_time": "2024-02-14T12:47:33.071Z"
   },
   {
    "duration": 19,
    "start_time": "2024-02-14T12:47:33.084Z"
   },
   {
    "duration": 18,
    "start_time": "2024-02-14T12:47:33.105Z"
   },
   {
    "duration": 573,
    "start_time": "2024-02-14T12:47:33.124Z"
   },
   {
    "duration": 550,
    "start_time": "2024-02-14T12:47:33.699Z"
   },
   {
    "duration": 442,
    "start_time": "2024-02-14T12:47:34.251Z"
   },
   {
    "duration": 401,
    "start_time": "2024-02-14T12:47:34.695Z"
   },
   {
    "duration": 171,
    "start_time": "2024-02-14T12:47:35.097Z"
   },
   {
    "duration": 11,
    "start_time": "2024-02-14T12:47:35.270Z"
   },
   {
    "duration": 194,
    "start_time": "2024-02-14T12:47:35.283Z"
   },
   {
    "duration": 7,
    "start_time": "2024-02-14T12:47:35.479Z"
   },
   {
    "duration": 339,
    "start_time": "2024-02-14T12:47:35.487Z"
   },
   {
    "duration": 9,
    "start_time": "2024-02-14T12:47:35.827Z"
   },
   {
    "duration": 43,
    "start_time": "2024-02-14T12:47:35.838Z"
   },
   {
    "duration": 12,
    "start_time": "2024-02-14T12:47:35.883Z"
   },
   {
    "duration": 14,
    "start_time": "2024-02-14T12:54:30.795Z"
   },
   {
    "duration": 13,
    "start_time": "2024-02-14T12:54:50.468Z"
   },
   {
    "duration": 9,
    "start_time": "2024-02-14T12:55:10.388Z"
   },
   {
    "duration": 4,
    "start_time": "2024-02-14T12:57:11.433Z"
   },
   {
    "duration": 3,
    "start_time": "2024-02-14T12:57:11.443Z"
   },
   {
    "duration": 73,
    "start_time": "2024-02-14T12:57:11.479Z"
   },
   {
    "duration": 30,
    "start_time": "2024-02-14T12:57:11.553Z"
   },
   {
    "duration": 7,
    "start_time": "2024-02-14T12:57:11.584Z"
   },
   {
    "duration": 26,
    "start_time": "2024-02-14T12:57:11.593Z"
   },
   {
    "duration": 49,
    "start_time": "2024-02-14T12:57:11.620Z"
   },
   {
    "duration": 5,
    "start_time": "2024-02-14T12:57:11.670Z"
   },
   {
    "duration": 28,
    "start_time": "2024-02-14T12:57:11.676Z"
   },
   {
    "duration": 454,
    "start_time": "2024-02-14T12:57:11.705Z"
   },
   {
    "duration": 11,
    "start_time": "2024-02-14T12:57:12.161Z"
   },
   {
    "duration": 35,
    "start_time": "2024-02-14T12:57:12.174Z"
   },
   {
    "duration": 17,
    "start_time": "2024-02-14T12:57:12.210Z"
   },
   {
    "duration": 565,
    "start_time": "2024-02-14T12:57:12.228Z"
   },
   {
    "duration": 567,
    "start_time": "2024-02-14T12:57:12.794Z"
   },
   {
    "duration": 453,
    "start_time": "2024-02-14T12:57:13.363Z"
   },
   {
    "duration": 448,
    "start_time": "2024-02-14T12:57:13.817Z"
   },
   {
    "duration": 163,
    "start_time": "2024-02-14T12:57:14.267Z"
   },
   {
    "duration": 9,
    "start_time": "2024-02-14T12:57:14.432Z"
   },
   {
    "duration": 193,
    "start_time": "2024-02-14T12:57:14.442Z"
   },
   {
    "duration": 6,
    "start_time": "2024-02-14T12:57:14.636Z"
   },
   {
    "duration": 339,
    "start_time": "2024-02-14T12:57:14.644Z"
   },
   {
    "duration": 13,
    "start_time": "2024-02-14T12:57:14.985Z"
   },
   {
    "duration": 70,
    "start_time": "2024-02-14T12:57:15.000Z"
   },
   {
    "duration": 24,
    "start_time": "2024-02-14T12:57:15.072Z"
   },
   {
    "duration": 4,
    "start_time": "2024-02-14T12:57:38.111Z"
   },
   {
    "duration": 3,
    "start_time": "2024-02-14T12:57:40.710Z"
   },
   {
    "duration": 4,
    "start_time": "2024-02-14T12:57:43.159Z"
   },
   {
    "duration": 3,
    "start_time": "2024-02-14T12:57:43.166Z"
   },
   {
    "duration": 72,
    "start_time": "2024-02-14T12:57:43.171Z"
   },
   {
    "duration": 33,
    "start_time": "2024-02-14T12:57:43.245Z"
   },
   {
    "duration": 8,
    "start_time": "2024-02-14T12:57:43.279Z"
   },
   {
    "duration": 34,
    "start_time": "2024-02-14T12:57:43.289Z"
   },
   {
    "duration": 50,
    "start_time": "2024-02-14T12:57:43.324Z"
   },
   {
    "duration": 5,
    "start_time": "2024-02-14T12:57:43.375Z"
   },
   {
    "duration": 13,
    "start_time": "2024-02-14T12:57:43.381Z"
   },
   {
    "duration": 384,
    "start_time": "2024-02-14T12:57:43.395Z"
   },
   {
    "duration": 11,
    "start_time": "2024-02-14T12:57:43.781Z"
   },
   {
    "duration": 14,
    "start_time": "2024-02-14T12:57:43.794Z"
   },
   {
    "duration": 13,
    "start_time": "2024-02-14T12:57:43.810Z"
   },
   {
    "duration": 614,
    "start_time": "2024-02-14T12:57:43.825Z"
   },
   {
    "duration": 683,
    "start_time": "2024-02-14T12:57:44.441Z"
   },
   {
    "duration": 506,
    "start_time": "2024-02-14T12:57:45.125Z"
   },
   {
    "duration": 500,
    "start_time": "2024-02-14T12:57:45.633Z"
   },
   {
    "duration": 181,
    "start_time": "2024-02-14T12:57:46.135Z"
   },
   {
    "duration": 9,
    "start_time": "2024-02-14T12:57:46.318Z"
   },
   {
    "duration": 216,
    "start_time": "2024-02-14T12:57:46.328Z"
   },
   {
    "duration": 14,
    "start_time": "2024-02-14T12:57:46.545Z"
   },
   {
    "duration": 336,
    "start_time": "2024-02-14T12:57:46.560Z"
   },
   {
    "duration": 11,
    "start_time": "2024-02-14T12:57:46.897Z"
   },
   {
    "duration": 50,
    "start_time": "2024-02-14T12:57:46.909Z"
   },
   {
    "duration": 13,
    "start_time": "2024-02-14T12:57:46.963Z"
   },
   {
    "duration": 18,
    "start_time": "2024-02-14T12:58:46.891Z"
   },
   {
    "duration": 13,
    "start_time": "2024-02-14T12:59:38.812Z"
   },
   {
    "duration": 5,
    "start_time": "2024-02-14T12:59:47.668Z"
   },
   {
    "duration": 4,
    "start_time": "2024-02-14T12:59:47.676Z"
   },
   {
    "duration": 78,
    "start_time": "2024-02-14T12:59:47.682Z"
   },
   {
    "duration": 34,
    "start_time": "2024-02-14T12:59:47.762Z"
   },
   {
    "duration": 8,
    "start_time": "2024-02-14T12:59:47.797Z"
   },
   {
    "duration": 58,
    "start_time": "2024-02-14T12:59:47.807Z"
   },
   {
    "duration": 24,
    "start_time": "2024-02-14T12:59:47.867Z"
   },
   {
    "duration": 5,
    "start_time": "2024-02-14T12:59:47.892Z"
   },
   {
    "duration": 16,
    "start_time": "2024-02-14T12:59:47.898Z"
   },
   {
    "duration": 365,
    "start_time": "2024-02-14T12:59:47.915Z"
   },
   {
    "duration": 11,
    "start_time": "2024-02-14T12:59:48.282Z"
   },
   {
    "duration": 15,
    "start_time": "2024-02-14T12:59:48.295Z"
   },
   {
    "duration": 11,
    "start_time": "2024-02-14T12:59:48.311Z"
   },
   {
    "duration": 607,
    "start_time": "2024-02-14T12:59:48.323Z"
   },
   {
    "duration": 607,
    "start_time": "2024-02-14T12:59:48.932Z"
   },
   {
    "duration": 464,
    "start_time": "2024-02-14T12:59:49.540Z"
   },
   {
    "duration": 535,
    "start_time": "2024-02-14T12:59:50.006Z"
   },
   {
    "duration": 180,
    "start_time": "2024-02-14T12:59:50.543Z"
   },
   {
    "duration": 10,
    "start_time": "2024-02-14T12:59:50.725Z"
   },
   {
    "duration": 205,
    "start_time": "2024-02-14T12:59:50.736Z"
   },
   {
    "duration": 7,
    "start_time": "2024-02-14T12:59:50.942Z"
   },
   {
    "duration": 335,
    "start_time": "2024-02-14T12:59:50.958Z"
   },
   {
    "duration": 9,
    "start_time": "2024-02-14T12:59:51.295Z"
   },
   {
    "duration": 34,
    "start_time": "2024-02-14T12:59:51.305Z"
   },
   {
    "duration": 17,
    "start_time": "2024-02-14T12:59:51.359Z"
   },
   {
    "duration": 9,
    "start_time": "2024-02-14T13:00:13.700Z"
   },
   {
    "duration": 3,
    "start_time": "2024-02-14T13:00:26.704Z"
   },
   {
    "duration": 3,
    "start_time": "2024-02-14T13:00:26.712Z"
   },
   {
    "duration": 75,
    "start_time": "2024-02-14T13:00:26.717Z"
   },
   {
    "duration": 30,
    "start_time": "2024-02-14T13:00:26.794Z"
   },
   {
    "duration": 7,
    "start_time": "2024-02-14T13:00:26.825Z"
   },
   {
    "duration": 28,
    "start_time": "2024-02-14T13:00:26.834Z"
   },
   {
    "duration": 22,
    "start_time": "2024-02-14T13:00:26.864Z"
   },
   {
    "duration": 5,
    "start_time": "2024-02-14T13:00:26.887Z"
   },
   {
    "duration": 17,
    "start_time": "2024-02-14T13:00:26.894Z"
   },
   {
    "duration": 378,
    "start_time": "2024-02-14T13:00:26.912Z"
   },
   {
    "duration": 12,
    "start_time": "2024-02-14T13:00:27.292Z"
   },
   {
    "duration": 13,
    "start_time": "2024-02-14T13:00:27.307Z"
   },
   {
    "duration": 11,
    "start_time": "2024-02-14T13:00:27.321Z"
   },
   {
    "duration": 631,
    "start_time": "2024-02-14T13:00:27.333Z"
   },
   {
    "duration": 594,
    "start_time": "2024-02-14T13:00:27.966Z"
   },
   {
    "duration": 461,
    "start_time": "2024-02-14T13:00:28.561Z"
   },
   {
    "duration": 463,
    "start_time": "2024-02-14T13:00:29.024Z"
   },
   {
    "duration": 197,
    "start_time": "2024-02-14T13:00:29.490Z"
   },
   {
    "duration": 11,
    "start_time": "2024-02-14T13:00:29.688Z"
   },
   {
    "duration": 296,
    "start_time": "2024-02-14T13:00:29.700Z"
   },
   {
    "duration": 7,
    "start_time": "2024-02-14T13:00:29.998Z"
   },
   {
    "duration": 374,
    "start_time": "2024-02-14T13:00:30.007Z"
   },
   {
    "duration": 9,
    "start_time": "2024-02-14T13:00:30.382Z"
   },
   {
    "duration": 71,
    "start_time": "2024-02-14T13:00:30.393Z"
   },
   {
    "duration": 41,
    "start_time": "2024-02-14T13:00:30.465Z"
   },
   {
    "duration": 14,
    "start_time": "2024-02-14T13:00:55.106Z"
   },
   {
    "duration": 4,
    "start_time": "2024-02-14T13:01:01.453Z"
   },
   {
    "duration": 13,
    "start_time": "2024-02-14T13:01:01.459Z"
   },
   {
    "duration": 90,
    "start_time": "2024-02-14T13:01:01.474Z"
   },
   {
    "duration": 36,
    "start_time": "2024-02-14T13:01:01.566Z"
   },
   {
    "duration": 28,
    "start_time": "2024-02-14T13:01:01.604Z"
   },
   {
    "duration": 80,
    "start_time": "2024-02-14T13:01:01.634Z"
   },
   {
    "duration": 26,
    "start_time": "2024-02-14T13:01:01.715Z"
   },
   {
    "duration": 16,
    "start_time": "2024-02-14T13:01:01.743Z"
   },
   {
    "duration": 43,
    "start_time": "2024-02-14T13:01:01.762Z"
   },
   {
    "duration": 420,
    "start_time": "2024-02-14T13:01:01.807Z"
   },
   {
    "duration": 13,
    "start_time": "2024-02-14T13:01:02.229Z"
   },
   {
    "duration": 55,
    "start_time": "2024-02-14T13:01:02.244Z"
   },
   {
    "duration": 21,
    "start_time": "2024-02-14T13:01:02.301Z"
   },
   {
    "duration": 543,
    "start_time": "2024-02-14T13:01:02.323Z"
   },
   {
    "duration": 542,
    "start_time": "2024-02-14T13:01:02.867Z"
   },
   {
    "duration": 458,
    "start_time": "2024-02-14T13:01:03.411Z"
   },
   {
    "duration": 468,
    "start_time": "2024-02-14T13:01:03.871Z"
   },
   {
    "duration": 189,
    "start_time": "2024-02-14T13:01:04.340Z"
   },
   {
    "duration": 10,
    "start_time": "2024-02-14T13:01:04.530Z"
   },
   {
    "duration": 205,
    "start_time": "2024-02-14T13:01:04.541Z"
   },
   {
    "duration": 6,
    "start_time": "2024-02-14T13:01:04.747Z"
   },
   {
    "duration": 332,
    "start_time": "2024-02-14T13:01:04.759Z"
   },
   {
    "duration": 9,
    "start_time": "2024-02-14T13:01:05.093Z"
   },
   {
    "duration": 36,
    "start_time": "2024-02-14T13:01:05.104Z"
   },
   {
    "duration": 34,
    "start_time": "2024-02-14T13:01:05.141Z"
   },
   {
    "duration": 3,
    "start_time": "2024-02-14T13:02:00.470Z"
   },
   {
    "duration": 36,
    "start_time": "2024-02-14T13:02:00.475Z"
   },
   {
    "duration": 101,
    "start_time": "2024-02-14T13:02:00.512Z"
   },
   {
    "duration": 32,
    "start_time": "2024-02-14T13:02:00.614Z"
   },
   {
    "duration": 29,
    "start_time": "2024-02-14T13:02:00.648Z"
   },
   {
    "duration": 62,
    "start_time": "2024-02-14T13:02:00.679Z"
   },
   {
    "duration": 35,
    "start_time": "2024-02-14T13:02:00.742Z"
   },
   {
    "duration": 42,
    "start_time": "2024-02-14T13:02:00.779Z"
   },
   {
    "duration": 39,
    "start_time": "2024-02-14T13:02:00.822Z"
   },
   {
    "duration": 363,
    "start_time": "2024-02-14T13:02:00.863Z"
   },
   {
    "duration": 13,
    "start_time": "2024-02-14T13:02:01.229Z"
   },
   {
    "duration": 29,
    "start_time": "2024-02-14T13:02:01.259Z"
   },
   {
    "duration": 27,
    "start_time": "2024-02-14T13:02:01.289Z"
   },
   {
    "duration": 646,
    "start_time": "2024-02-14T13:02:01.318Z"
   },
   {
    "duration": 571,
    "start_time": "2024-02-14T13:02:01.966Z"
   },
   {
    "duration": 427,
    "start_time": "2024-02-14T13:02:02.539Z"
   },
   {
    "duration": 407,
    "start_time": "2024-02-14T13:02:02.967Z"
   },
   {
    "duration": 161,
    "start_time": "2024-02-14T13:02:03.376Z"
   },
   {
    "duration": 22,
    "start_time": "2024-02-14T13:02:03.539Z"
   },
   {
    "duration": 182,
    "start_time": "2024-02-14T13:02:03.563Z"
   },
   {
    "duration": 12,
    "start_time": "2024-02-14T13:02:03.747Z"
   },
   {
    "duration": 336,
    "start_time": "2024-02-14T13:02:03.760Z"
   },
   {
    "duration": 9,
    "start_time": "2024-02-14T13:02:04.097Z"
   },
   {
    "duration": 49,
    "start_time": "2024-02-14T13:02:04.108Z"
   },
   {
    "duration": 27,
    "start_time": "2024-02-14T13:02:04.159Z"
   },
   {
    "duration": 4,
    "start_time": "2024-02-14T13:02:16.967Z"
   },
   {
    "duration": 15,
    "start_time": "2024-02-14T13:02:16.974Z"
   },
   {
    "duration": 76,
    "start_time": "2024-02-14T13:02:16.991Z"
   },
   {
    "duration": 33,
    "start_time": "2024-02-14T13:02:17.069Z"
   },
   {
    "duration": 7,
    "start_time": "2024-02-14T13:02:17.104Z"
   },
   {
    "duration": 58,
    "start_time": "2024-02-14T13:02:17.113Z"
   },
   {
    "duration": 23,
    "start_time": "2024-02-14T13:02:17.173Z"
   },
   {
    "duration": 4,
    "start_time": "2024-02-14T13:02:17.198Z"
   },
   {
    "duration": 23,
    "start_time": "2024-02-14T13:02:17.204Z"
   },
   {
    "duration": 337,
    "start_time": "2024-02-14T13:02:17.230Z"
   },
   {
    "duration": 11,
    "start_time": "2024-02-14T13:02:17.569Z"
   },
   {
    "duration": 17,
    "start_time": "2024-02-14T13:02:17.582Z"
   },
   {
    "duration": 10,
    "start_time": "2024-02-14T13:02:17.600Z"
   },
   {
    "duration": 580,
    "start_time": "2024-02-14T13:02:17.611Z"
   },
   {
    "duration": 540,
    "start_time": "2024-02-14T13:02:18.192Z"
   },
   {
    "duration": 547,
    "start_time": "2024-02-14T13:02:18.734Z"
   },
   {
    "duration": 420,
    "start_time": "2024-02-14T13:02:19.282Z"
   },
   {
    "duration": 155,
    "start_time": "2024-02-14T13:02:19.703Z"
   },
   {
    "duration": 10,
    "start_time": "2024-02-14T13:02:19.860Z"
   },
   {
    "duration": 173,
    "start_time": "2024-02-14T13:02:19.872Z"
   },
   {
    "duration": 14,
    "start_time": "2024-02-14T13:02:20.046Z"
   },
   {
    "duration": 332,
    "start_time": "2024-02-14T13:02:20.061Z"
   },
   {
    "duration": 9,
    "start_time": "2024-02-14T13:02:20.394Z"
   },
   {
    "duration": 33,
    "start_time": "2024-02-14T13:02:20.404Z"
   },
   {
    "duration": 12,
    "start_time": "2024-02-14T13:02:20.458Z"
   },
   {
    "duration": 12,
    "start_time": "2024-02-14T13:03:17.805Z"
   },
   {
    "duration": 4,
    "start_time": "2024-02-14T13:03:34.446Z"
   },
   {
    "duration": 2,
    "start_time": "2024-02-14T13:03:34.453Z"
   },
   {
    "duration": 71,
    "start_time": "2024-02-14T13:03:34.459Z"
   },
   {
    "duration": 32,
    "start_time": "2024-02-14T13:03:34.532Z"
   },
   {
    "duration": 7,
    "start_time": "2024-02-14T13:03:34.566Z"
   },
   {
    "duration": 33,
    "start_time": "2024-02-14T13:03:34.576Z"
   },
   {
    "duration": 54,
    "start_time": "2024-02-14T13:03:34.611Z"
   },
   {
    "duration": 5,
    "start_time": "2024-02-14T13:03:34.667Z"
   },
   {
    "duration": 17,
    "start_time": "2024-02-14T13:03:34.674Z"
   },
   {
    "duration": 328,
    "start_time": "2024-02-14T13:03:34.693Z"
   },
   {
    "duration": 12,
    "start_time": "2024-02-14T13:03:35.023Z"
   },
   {
    "duration": 27,
    "start_time": "2024-02-14T13:03:35.038Z"
   },
   {
    "duration": 10,
    "start_time": "2024-02-14T13:03:35.067Z"
   },
   {
    "duration": 607,
    "start_time": "2024-02-14T13:03:35.078Z"
   },
   {
    "duration": 550,
    "start_time": "2024-02-14T13:03:35.687Z"
   },
   {
    "duration": 446,
    "start_time": "2024-02-14T13:03:36.239Z"
   },
   {
    "duration": 409,
    "start_time": "2024-02-14T13:03:36.687Z"
   },
   {
    "duration": 235,
    "start_time": "2024-02-14T13:03:37.098Z"
   },
   {
    "duration": 11,
    "start_time": "2024-02-14T13:03:37.334Z"
   },
   {
    "duration": 184,
    "start_time": "2024-02-14T13:03:37.347Z"
   },
   {
    "duration": 7,
    "start_time": "2024-02-14T13:03:37.533Z"
   },
   {
    "duration": 325,
    "start_time": "2024-02-14T13:03:37.542Z"
   },
   {
    "duration": 9,
    "start_time": "2024-02-14T13:03:37.868Z"
   },
   {
    "duration": 32,
    "start_time": "2024-02-14T13:03:37.879Z"
   },
   {
    "duration": 11,
    "start_time": "2024-02-14T13:03:37.913Z"
   },
   {
    "duration": 3,
    "start_time": "2024-02-14T13:04:12.715Z"
   },
   {
    "duration": 6,
    "start_time": "2024-02-14T13:04:12.722Z"
   },
   {
    "duration": 75,
    "start_time": "2024-02-14T13:04:12.729Z"
   },
   {
    "duration": 29,
    "start_time": "2024-02-14T13:04:12.806Z"
   },
   {
    "duration": 7,
    "start_time": "2024-02-14T13:04:12.836Z"
   },
   {
    "duration": 27,
    "start_time": "2024-02-14T13:04:12.845Z"
   },
   {
    "duration": 22,
    "start_time": "2024-02-14T13:04:12.874Z"
   },
   {
    "duration": 5,
    "start_time": "2024-02-14T13:04:12.897Z"
   },
   {
    "duration": 21,
    "start_time": "2024-02-14T13:04:12.904Z"
   },
   {
    "duration": 356,
    "start_time": "2024-02-14T13:04:12.927Z"
   },
   {
    "duration": 12,
    "start_time": "2024-02-14T13:04:13.285Z"
   },
   {
    "duration": 12,
    "start_time": "2024-02-14T13:04:13.300Z"
   },
   {
    "duration": 12,
    "start_time": "2024-02-14T13:04:13.314Z"
   },
   {
    "duration": 592,
    "start_time": "2024-02-14T13:04:13.328Z"
   },
   {
    "duration": 561,
    "start_time": "2024-02-14T13:04:13.921Z"
   },
   {
    "duration": 406,
    "start_time": "2024-02-14T13:04:14.484Z"
   },
   {
    "duration": 392,
    "start_time": "2024-02-14T13:04:14.891Z"
   },
   {
    "duration": 149,
    "start_time": "2024-02-14T13:04:15.285Z"
   },
   {
    "duration": 12,
    "start_time": "2024-02-14T13:04:15.435Z"
   },
   {
    "duration": 179,
    "start_time": "2024-02-14T13:04:15.459Z"
   },
   {
    "duration": 8,
    "start_time": "2024-02-14T13:04:15.640Z"
   },
   {
    "duration": 330,
    "start_time": "2024-02-14T13:04:15.649Z"
   },
   {
    "duration": 9,
    "start_time": "2024-02-14T13:04:15.981Z"
   },
   {
    "duration": 37,
    "start_time": "2024-02-14T13:04:15.992Z"
   },
   {
    "duration": 12,
    "start_time": "2024-02-14T13:04:16.031Z"
   },
   {
    "duration": 13,
    "start_time": "2024-02-14T13:04:26.730Z"
   },
   {
    "duration": 3,
    "start_time": "2024-02-14T13:04:31.619Z"
   },
   {
    "duration": 37,
    "start_time": "2024-02-14T13:04:31.624Z"
   },
   {
    "duration": 118,
    "start_time": "2024-02-14T13:04:31.663Z"
   },
   {
    "duration": 31,
    "start_time": "2024-02-14T13:04:31.783Z"
   },
   {
    "duration": 16,
    "start_time": "2024-02-14T13:04:31.816Z"
   },
   {
    "duration": 107,
    "start_time": "2024-02-14T13:04:31.833Z"
   },
   {
    "duration": 124,
    "start_time": "2024-02-14T13:04:31.942Z"
   },
   {
    "duration": 22,
    "start_time": "2024-02-14T13:04:32.068Z"
   },
   {
    "duration": 49,
    "start_time": "2024-02-14T13:04:32.091Z"
   },
   {
    "duration": 342,
    "start_time": "2024-02-14T13:04:32.141Z"
   },
   {
    "duration": 13,
    "start_time": "2024-02-14T13:04:32.487Z"
   },
   {
    "duration": 27,
    "start_time": "2024-02-14T13:04:32.502Z"
   },
   {
    "duration": 25,
    "start_time": "2024-02-14T13:04:32.531Z"
   },
   {
    "duration": 641,
    "start_time": "2024-02-14T13:04:32.557Z"
   },
   {
    "duration": 561,
    "start_time": "2024-02-14T13:04:33.200Z"
   },
   {
    "duration": 408,
    "start_time": "2024-02-14T13:04:33.763Z"
   },
   {
    "duration": 405,
    "start_time": "2024-02-14T13:04:34.173Z"
   },
   {
    "duration": 145,
    "start_time": "2024-02-14T13:04:34.579Z"
   },
   {
    "duration": 10,
    "start_time": "2024-02-14T13:04:34.725Z"
   },
   {
    "duration": 183,
    "start_time": "2024-02-14T13:04:34.736Z"
   },
   {
    "duration": 7,
    "start_time": "2024-02-14T13:04:34.920Z"
   },
   {
    "duration": 344,
    "start_time": "2024-02-14T13:04:34.928Z"
   },
   {
    "duration": 10,
    "start_time": "2024-02-14T13:04:35.273Z"
   },
   {
    "duration": 51,
    "start_time": "2024-02-14T13:04:35.285Z"
   },
   {
    "duration": 17,
    "start_time": "2024-02-14T13:04:35.338Z"
   },
   {
    "duration": 4,
    "start_time": "2024-02-14T13:05:47.480Z"
   },
   {
    "duration": 18,
    "start_time": "2024-02-14T13:05:47.488Z"
   },
   {
    "duration": 84,
    "start_time": "2024-02-14T13:05:47.508Z"
   },
   {
    "duration": 34,
    "start_time": "2024-02-14T13:05:47.594Z"
   },
   {
    "duration": 8,
    "start_time": "2024-02-14T13:05:47.630Z"
   },
   {
    "duration": 35,
    "start_time": "2024-02-14T13:05:47.640Z"
   },
   {
    "duration": 23,
    "start_time": "2024-02-14T13:05:47.676Z"
   },
   {
    "duration": 30,
    "start_time": "2024-02-14T13:05:47.700Z"
   },
   {
    "duration": 12,
    "start_time": "2024-02-14T13:05:47.732Z"
   },
   {
    "duration": 332,
    "start_time": "2024-02-14T13:05:47.745Z"
   },
   {
    "duration": 10,
    "start_time": "2024-02-14T13:05:48.080Z"
   },
   {
    "duration": 35,
    "start_time": "2024-02-14T13:05:48.091Z"
   },
   {
    "duration": 20,
    "start_time": "2024-02-14T13:05:48.127Z"
   },
   {
    "duration": 568,
    "start_time": "2024-02-14T13:05:48.148Z"
   },
   {
    "duration": 567,
    "start_time": "2024-02-14T13:05:48.718Z"
   },
   {
    "duration": 496,
    "start_time": "2024-02-14T13:05:49.287Z"
   },
   {
    "duration": 415,
    "start_time": "2024-02-14T13:05:49.785Z"
   },
   {
    "duration": 179,
    "start_time": "2024-02-14T13:05:50.207Z"
   },
   {
    "duration": 9,
    "start_time": "2024-02-14T13:05:50.387Z"
   },
   {
    "duration": 174,
    "start_time": "2024-02-14T13:05:50.397Z"
   },
   {
    "duration": 6,
    "start_time": "2024-02-14T13:05:50.573Z"
   },
   {
    "duration": 335,
    "start_time": "2024-02-14T13:05:50.580Z"
   },
   {
    "duration": 10,
    "start_time": "2024-02-14T13:05:50.916Z"
   },
   {
    "duration": 51,
    "start_time": "2024-02-14T13:05:50.928Z"
   },
   {
    "duration": 14,
    "start_time": "2024-02-14T13:05:50.981Z"
   },
   {
    "duration": 631,
    "start_time": "2024-02-14T13:06:19.107Z"
   },
   {
    "duration": 605,
    "start_time": "2024-02-14T13:06:38.379Z"
   },
   {
    "duration": 80,
    "start_time": "2024-02-14T13:07:56.479Z"
   },
   {
    "duration": 12,
    "start_time": "2024-02-14T13:08:03.351Z"
   },
   {
    "duration": 3,
    "start_time": "2024-02-14T13:08:11.801Z"
   },
   {
    "duration": 4,
    "start_time": "2024-02-14T13:08:11.808Z"
   },
   {
    "duration": 78,
    "start_time": "2024-02-14T13:08:11.813Z"
   },
   {
    "duration": 32,
    "start_time": "2024-02-14T13:08:11.893Z"
   },
   {
    "duration": 8,
    "start_time": "2024-02-14T13:08:11.927Z"
   },
   {
    "duration": 61,
    "start_time": "2024-02-14T13:08:11.937Z"
   },
   {
    "duration": 33,
    "start_time": "2024-02-14T13:08:11.999Z"
   },
   {
    "duration": 6,
    "start_time": "2024-02-14T13:08:12.034Z"
   },
   {
    "duration": 25,
    "start_time": "2024-02-14T13:08:12.042Z"
   },
   {
    "duration": 322,
    "start_time": "2024-02-14T13:08:12.069Z"
   },
   {
    "duration": 11,
    "start_time": "2024-02-14T13:08:12.393Z"
   },
   {
    "duration": 312,
    "start_time": "2024-02-14T13:08:12.407Z"
   },
   {
    "duration": 15,
    "start_time": "2024-02-14T13:08:12.721Z"
   },
   {
    "duration": 28,
    "start_time": "2024-02-14T13:08:12.737Z"
   },
   {
    "duration": 608,
    "start_time": "2024-02-14T13:08:12.767Z"
   },
   {
    "duration": 642,
    "start_time": "2024-02-14T13:08:13.377Z"
   },
   {
    "duration": 432,
    "start_time": "2024-02-14T13:08:14.021Z"
   },
   {
    "duration": 422,
    "start_time": "2024-02-14T13:08:14.455Z"
   },
   {
    "duration": 151,
    "start_time": "2024-02-14T13:08:14.879Z"
   },
   {
    "duration": 9,
    "start_time": "2024-02-14T13:08:15.032Z"
   },
   {
    "duration": 187,
    "start_time": "2024-02-14T13:08:15.043Z"
   },
   {
    "duration": 7,
    "start_time": "2024-02-14T13:08:15.231Z"
   },
   {
    "duration": 333,
    "start_time": "2024-02-14T13:08:15.240Z"
   },
   {
    "duration": 10,
    "start_time": "2024-02-14T13:08:15.574Z"
   },
   {
    "duration": 48,
    "start_time": "2024-02-14T13:08:15.585Z"
   },
   {
    "duration": 36,
    "start_time": "2024-02-14T13:08:15.634Z"
   },
   {
    "duration": 5,
    "start_time": "2024-02-14T13:09:01.488Z"
   },
   {
    "duration": 47,
    "start_time": "2024-02-14T13:09:01.496Z"
   },
   {
    "duration": 113,
    "start_time": "2024-02-14T13:09:01.545Z"
   },
   {
    "duration": 30,
    "start_time": "2024-02-14T13:09:01.660Z"
   },
   {
    "duration": 63,
    "start_time": "2024-02-14T13:09:01.692Z"
   },
   {
    "duration": 92,
    "start_time": "2024-02-14T13:09:01.757Z"
   },
   {
    "duration": 39,
    "start_time": "2024-02-14T13:09:01.850Z"
   },
   {
    "duration": 22,
    "start_time": "2024-02-14T13:09:01.891Z"
   },
   {
    "duration": 51,
    "start_time": "2024-02-14T13:09:01.915Z"
   },
   {
    "duration": 362,
    "start_time": "2024-02-14T13:09:01.968Z"
   },
   {
    "duration": 13,
    "start_time": "2024-02-14T13:09:02.334Z"
   },
   {
    "duration": 348,
    "start_time": "2024-02-14T13:09:02.349Z"
   },
   {
    "duration": 13,
    "start_time": "2024-02-14T13:09:02.699Z"
   },
   {
    "duration": 11,
    "start_time": "2024-02-14T13:09:02.714Z"
   },
   {
    "duration": 589,
    "start_time": "2024-02-14T13:09:02.727Z"
   },
   {
    "duration": 522,
    "start_time": "2024-02-14T13:09:03.318Z"
   },
   {
    "duration": 362,
    "start_time": "2024-02-14T13:09:03.842Z"
   },
   {
    "duration": 447,
    "start_time": "2024-02-14T13:09:04.206Z"
   },
   {
    "duration": 145,
    "start_time": "2024-02-14T13:09:04.658Z"
   },
   {
    "duration": 10,
    "start_time": "2024-02-14T13:09:04.805Z"
   },
   {
    "duration": 184,
    "start_time": "2024-02-14T13:09:04.816Z"
   },
   {
    "duration": 7,
    "start_time": "2024-02-14T13:09:05.001Z"
   },
   {
    "duration": 353,
    "start_time": "2024-02-14T13:09:05.009Z"
   },
   {
    "duration": 10,
    "start_time": "2024-02-14T13:09:05.363Z"
   },
   {
    "duration": 35,
    "start_time": "2024-02-14T13:09:05.375Z"
   },
   {
    "duration": 12,
    "start_time": "2024-02-14T13:09:05.412Z"
   },
   {
    "duration": 597,
    "start_time": "2024-02-14T13:12:19.540Z"
   },
   {
    "duration": 557,
    "start_time": "2024-02-14T13:14:55.353Z"
   },
   {
    "duration": 523,
    "start_time": "2024-02-14T13:15:06.547Z"
   },
   {
    "duration": 537,
    "start_time": "2024-02-14T13:16:25.207Z"
   },
   {
    "duration": 503,
    "start_time": "2024-02-14T13:16:46.748Z"
   },
   {
    "duration": 533,
    "start_time": "2024-02-14T13:17:30.227Z"
   },
   {
    "duration": 372,
    "start_time": "2024-02-14T13:21:37.963Z"
   },
   {
    "duration": 363,
    "start_time": "2024-02-14T13:25:59.179Z"
   },
   {
    "duration": 9,
    "start_time": "2024-02-14T13:31:55.330Z"
   },
   {
    "duration": 9,
    "start_time": "2024-02-14T13:32:44.333Z"
   },
   {
    "duration": 44,
    "start_time": "2024-02-14T15:50:56.314Z"
   },
   {
    "duration": 1235,
    "start_time": "2024-02-14T15:51:03.391Z"
   },
   {
    "duration": 5,
    "start_time": "2024-02-14T15:51:04.628Z"
   },
   {
    "duration": 186,
    "start_time": "2024-02-14T15:51:04.634Z"
   },
   {
    "duration": 32,
    "start_time": "2024-02-14T15:51:04.821Z"
   },
   {
    "duration": 7,
    "start_time": "2024-02-14T15:51:04.854Z"
   },
   {
    "duration": 33,
    "start_time": "2024-02-14T15:51:04.862Z"
   },
   {
    "duration": 39,
    "start_time": "2024-02-14T15:51:04.896Z"
   },
   {
    "duration": 5,
    "start_time": "2024-02-14T15:51:04.937Z"
   },
   {
    "duration": 12,
    "start_time": "2024-02-14T15:51:04.944Z"
   },
   {
    "duration": 360,
    "start_time": "2024-02-14T15:51:04.957Z"
   },
   {
    "duration": 11,
    "start_time": "2024-02-14T15:51:05.319Z"
   },
   {
    "duration": 290,
    "start_time": "2024-02-14T15:51:05.332Z"
   },
   {
    "duration": 15,
    "start_time": "2024-02-14T15:51:05.623Z"
   },
   {
    "duration": 8,
    "start_time": "2024-02-14T15:51:05.640Z"
   },
   {
    "duration": 16,
    "start_time": "2024-02-14T15:51:05.650Z"
   },
   {
    "duration": 618,
    "start_time": "2024-02-14T15:51:05.667Z"
   },
   {
    "duration": 519,
    "start_time": "2024-02-14T15:51:06.286Z"
   },
   {
    "duration": 426,
    "start_time": "2024-02-14T15:51:06.807Z"
   },
   {
    "duration": 61,
    "start_time": "2024-02-14T15:51:07.235Z"
   },
   {
    "duration": 0,
    "start_time": "2024-02-14T15:51:07.298Z"
   },
   {
    "duration": 0,
    "start_time": "2024-02-14T15:51:07.299Z"
   },
   {
    "duration": 0,
    "start_time": "2024-02-14T15:51:07.300Z"
   },
   {
    "duration": 0,
    "start_time": "2024-02-14T15:51:07.301Z"
   },
   {
    "duration": 0,
    "start_time": "2024-02-14T15:51:07.303Z"
   },
   {
    "duration": 0,
    "start_time": "2024-02-14T15:51:07.304Z"
   },
   {
    "duration": 0,
    "start_time": "2024-02-14T15:51:07.305Z"
   },
   {
    "duration": 0,
    "start_time": "2024-02-14T15:51:07.307Z"
   },
   {
    "duration": 0,
    "start_time": "2024-02-14T15:51:07.308Z"
   },
   {
    "duration": 9,
    "start_time": "2024-02-14T15:51:36.813Z"
   },
   {
    "duration": 158,
    "start_time": "2024-02-14T15:54:01.224Z"
   },
   {
    "duration": 111,
    "start_time": "2024-02-14T15:54:52.329Z"
   },
   {
    "duration": 16,
    "start_time": "2024-02-14T15:55:56.116Z"
   },
   {
    "duration": 12,
    "start_time": "2024-02-14T15:58:46.617Z"
   },
   {
    "duration": 11,
    "start_time": "2024-02-14T15:59:17.218Z"
   },
   {
    "duration": 15,
    "start_time": "2024-02-14T15:59:40.544Z"
   },
   {
    "duration": 118,
    "start_time": "2024-02-14T16:00:31.414Z"
   },
   {
    "duration": 166,
    "start_time": "2024-02-14T16:00:41.678Z"
   },
   {
    "duration": 7,
    "start_time": "2024-02-14T16:00:53.088Z"
   },
   {
    "duration": 7,
    "start_time": "2024-02-14T16:01:02.365Z"
   },
   {
    "duration": 12,
    "start_time": "2024-02-14T16:01:15.200Z"
   },
   {
    "duration": 12,
    "start_time": "2024-02-14T16:01:28.062Z"
   },
   {
    "duration": 13,
    "start_time": "2024-02-14T16:01:36.165Z"
   },
   {
    "duration": 14,
    "start_time": "2024-02-14T16:01:59.031Z"
   },
   {
    "duration": 368,
    "start_time": "2024-02-14T16:08:18.142Z"
   },
   {
    "duration": 9,
    "start_time": "2024-02-14T16:15:47.942Z"
   },
   {
    "duration": 4,
    "start_time": "2024-02-14T16:15:53.261Z"
   },
   {
    "duration": 20,
    "start_time": "2024-02-14T16:15:53.267Z"
   },
   {
    "duration": 95,
    "start_time": "2024-02-14T16:15:53.288Z"
   },
   {
    "duration": 30,
    "start_time": "2024-02-14T16:15:53.384Z"
   },
   {
    "duration": 7,
    "start_time": "2024-02-14T16:15:53.416Z"
   },
   {
    "duration": 118,
    "start_time": "2024-02-14T16:15:53.424Z"
   },
   {
    "duration": 22,
    "start_time": "2024-02-14T16:15:53.543Z"
   },
   {
    "duration": 9,
    "start_time": "2024-02-14T16:15:53.566Z"
   },
   {
    "duration": 27,
    "start_time": "2024-02-14T16:15:53.576Z"
   },
   {
    "duration": 340,
    "start_time": "2024-02-14T16:15:53.605Z"
   },
   {
    "duration": 12,
    "start_time": "2024-02-14T16:15:53.947Z"
   },
   {
    "duration": 323,
    "start_time": "2024-02-14T16:15:53.961Z"
   },
   {
    "duration": 8,
    "start_time": "2024-02-14T16:15:54.285Z"
   },
   {
    "duration": 27,
    "start_time": "2024-02-14T16:15:54.294Z"
   },
   {
    "duration": 28,
    "start_time": "2024-02-14T16:15:54.323Z"
   },
   {
    "duration": 189,
    "start_time": "2024-02-14T16:15:54.352Z"
   },
   {
    "duration": 119,
    "start_time": "2024-02-14T16:15:54.542Z"
   },
   {
    "duration": 11,
    "start_time": "2024-02-14T16:15:54.663Z"
   },
   {
    "duration": 14,
    "start_time": "2024-02-14T16:15:54.675Z"
   },
   {
    "duration": 280,
    "start_time": "2024-02-14T16:15:54.691Z"
   },
   {
    "duration": 260,
    "start_time": "2024-02-14T16:15:54.973Z"
   },
   {
    "duration": 353,
    "start_time": "2024-02-14T16:15:55.234Z"
   },
   {
    "duration": 9,
    "start_time": "2024-02-14T16:15:55.589Z"
   },
   {
    "duration": 0,
    "start_time": "2024-02-14T16:15:55.599Z"
   },
   {
    "duration": 0,
    "start_time": "2024-02-14T16:15:55.601Z"
   },
   {
    "duration": 0,
    "start_time": "2024-02-14T16:15:55.602Z"
   },
   {
    "duration": 0,
    "start_time": "2024-02-14T16:15:55.603Z"
   },
   {
    "duration": 0,
    "start_time": "2024-02-14T16:15:55.605Z"
   },
   {
    "duration": 0,
    "start_time": "2024-02-14T16:15:55.606Z"
   },
   {
    "duration": 0,
    "start_time": "2024-02-14T16:15:55.607Z"
   },
   {
    "duration": 0,
    "start_time": "2024-02-14T16:15:55.609Z"
   },
   {
    "duration": 0,
    "start_time": "2024-02-14T16:15:55.610Z"
   },
   {
    "duration": 13,
    "start_time": "2024-02-14T16:16:18.185Z"
   },
   {
    "duration": 10,
    "start_time": "2024-02-14T16:17:46.707Z"
   },
   {
    "duration": 4,
    "start_time": "2024-02-14T16:17:56.230Z"
   },
   {
    "duration": 5,
    "start_time": "2024-02-14T16:17:56.235Z"
   },
   {
    "duration": 73,
    "start_time": "2024-02-14T16:17:56.241Z"
   },
   {
    "duration": 31,
    "start_time": "2024-02-14T16:17:56.316Z"
   },
   {
    "duration": 7,
    "start_time": "2024-02-14T16:17:56.349Z"
   },
   {
    "duration": 38,
    "start_time": "2024-02-14T16:17:56.358Z"
   },
   {
    "duration": 39,
    "start_time": "2024-02-14T16:17:56.398Z"
   },
   {
    "duration": 5,
    "start_time": "2024-02-14T16:17:56.438Z"
   },
   {
    "duration": 15,
    "start_time": "2024-02-14T16:17:56.444Z"
   },
   {
    "duration": 313,
    "start_time": "2024-02-14T16:17:56.461Z"
   },
   {
    "duration": 11,
    "start_time": "2024-02-14T16:17:56.775Z"
   },
   {
    "duration": 288,
    "start_time": "2024-02-14T16:17:56.788Z"
   },
   {
    "duration": 8,
    "start_time": "2024-02-14T16:17:57.077Z"
   },
   {
    "duration": 9,
    "start_time": "2024-02-14T16:17:57.086Z"
   },
   {
    "duration": 13,
    "start_time": "2024-02-14T16:17:57.096Z"
   },
   {
    "duration": 169,
    "start_time": "2024-02-14T16:17:57.110Z"
   },
   {
    "duration": 122,
    "start_time": "2024-02-14T16:17:57.280Z"
   },
   {
    "duration": 11,
    "start_time": "2024-02-14T16:17:57.403Z"
   },
   {
    "duration": 28,
    "start_time": "2024-02-14T16:17:57.415Z"
   },
   {
    "duration": 253,
    "start_time": "2024-02-14T16:17:57.445Z"
   },
   {
    "duration": 278,
    "start_time": "2024-02-14T16:17:57.699Z"
   },
   {
    "duration": 348,
    "start_time": "2024-02-14T16:17:57.979Z"
   },
   {
    "duration": 8,
    "start_time": "2024-02-14T16:17:58.333Z"
   },
   {
    "duration": 0,
    "start_time": "2024-02-14T16:17:58.342Z"
   },
   {
    "duration": 0,
    "start_time": "2024-02-14T16:17:58.343Z"
   },
   {
    "duration": 0,
    "start_time": "2024-02-14T16:17:58.344Z"
   },
   {
    "duration": 0,
    "start_time": "2024-02-14T16:17:58.345Z"
   },
   {
    "duration": 0,
    "start_time": "2024-02-14T16:17:58.346Z"
   },
   {
    "duration": 0,
    "start_time": "2024-02-14T16:17:58.347Z"
   },
   {
    "duration": 0,
    "start_time": "2024-02-14T16:17:58.348Z"
   },
   {
    "duration": 0,
    "start_time": "2024-02-14T16:17:58.349Z"
   },
   {
    "duration": 0,
    "start_time": "2024-02-14T16:17:58.350Z"
   },
   {
    "duration": 0,
    "start_time": "2024-02-14T16:17:58.351Z"
   },
   {
    "duration": 8,
    "start_time": "2024-02-14T16:18:04.978Z"
   },
   {
    "duration": 4,
    "start_time": "2024-02-14T16:19:38.859Z"
   },
   {
    "duration": 4,
    "start_time": "2024-02-14T16:19:38.867Z"
   },
   {
    "duration": 81,
    "start_time": "2024-02-14T16:19:38.873Z"
   },
   {
    "duration": 31,
    "start_time": "2024-02-14T16:19:38.956Z"
   },
   {
    "duration": 8,
    "start_time": "2024-02-14T16:19:38.989Z"
   },
   {
    "duration": 47,
    "start_time": "2024-02-14T16:19:38.999Z"
   },
   {
    "duration": 23,
    "start_time": "2024-02-14T16:19:39.048Z"
   },
   {
    "duration": 5,
    "start_time": "2024-02-14T16:19:39.073Z"
   },
   {
    "duration": 19,
    "start_time": "2024-02-14T16:19:39.080Z"
   },
   {
    "duration": 328,
    "start_time": "2024-02-14T16:19:39.101Z"
   },
   {
    "duration": 10,
    "start_time": "2024-02-14T16:19:39.434Z"
   },
   {
    "duration": 408,
    "start_time": "2024-02-14T16:19:39.447Z"
   },
   {
    "duration": 7,
    "start_time": "2024-02-14T16:19:39.857Z"
   },
   {
    "duration": 14,
    "start_time": "2024-02-14T16:19:39.866Z"
   },
   {
    "duration": 19,
    "start_time": "2024-02-14T16:19:39.882Z"
   },
   {
    "duration": 162,
    "start_time": "2024-02-14T16:19:39.903Z"
   },
   {
    "duration": 126,
    "start_time": "2024-02-14T16:19:40.066Z"
   },
   {
    "duration": 8,
    "start_time": "2024-02-14T16:19:40.194Z"
   },
   {
    "duration": 0,
    "start_time": "2024-02-14T16:19:40.204Z"
   },
   {
    "duration": 0,
    "start_time": "2024-02-14T16:19:40.206Z"
   },
   {
    "duration": 0,
    "start_time": "2024-02-14T16:19:40.206Z"
   },
   {
    "duration": 0,
    "start_time": "2024-02-14T16:19:40.208Z"
   },
   {
    "duration": 0,
    "start_time": "2024-02-14T16:19:40.209Z"
   },
   {
    "duration": 0,
    "start_time": "2024-02-14T16:19:40.210Z"
   },
   {
    "duration": 0,
    "start_time": "2024-02-14T16:19:40.211Z"
   },
   {
    "duration": 0,
    "start_time": "2024-02-14T16:19:40.233Z"
   },
   {
    "duration": 0,
    "start_time": "2024-02-14T16:19:40.234Z"
   },
   {
    "duration": 0,
    "start_time": "2024-02-14T16:19:40.235Z"
   },
   {
    "duration": 0,
    "start_time": "2024-02-14T16:19:40.237Z"
   },
   {
    "duration": 0,
    "start_time": "2024-02-14T16:19:40.238Z"
   },
   {
    "duration": 0,
    "start_time": "2024-02-14T16:19:40.239Z"
   },
   {
    "duration": 0,
    "start_time": "2024-02-14T16:19:40.240Z"
   },
   {
    "duration": 0,
    "start_time": "2024-02-14T16:19:40.241Z"
   },
   {
    "duration": 0,
    "start_time": "2024-02-14T16:19:40.242Z"
   },
   {
    "duration": 6,
    "start_time": "2024-02-14T16:20:04.596Z"
   },
   {
    "duration": 3,
    "start_time": "2024-02-14T16:20:08.998Z"
   },
   {
    "duration": 5,
    "start_time": "2024-02-14T16:20:09.005Z"
   },
   {
    "duration": 72,
    "start_time": "2024-02-14T16:20:09.024Z"
   },
   {
    "duration": 30,
    "start_time": "2024-02-14T16:20:09.097Z"
   },
   {
    "duration": 7,
    "start_time": "2024-02-14T16:20:09.128Z"
   },
   {
    "duration": 29,
    "start_time": "2024-02-14T16:20:09.137Z"
   },
   {
    "duration": 22,
    "start_time": "2024-02-14T16:20:09.168Z"
   },
   {
    "duration": 5,
    "start_time": "2024-02-14T16:20:09.192Z"
   },
   {
    "duration": 43,
    "start_time": "2024-02-14T16:20:09.198Z"
   },
   {
    "duration": 319,
    "start_time": "2024-02-14T16:20:09.242Z"
   },
   {
    "duration": 11,
    "start_time": "2024-02-14T16:20:09.562Z"
   },
   {
    "duration": 320,
    "start_time": "2024-02-14T16:20:09.575Z"
   },
   {
    "duration": 7,
    "start_time": "2024-02-14T16:20:09.897Z"
   },
   {
    "duration": 8,
    "start_time": "2024-02-14T16:20:09.906Z"
   },
   {
    "duration": 25,
    "start_time": "2024-02-14T16:20:09.915Z"
   },
   {
    "duration": 170,
    "start_time": "2024-02-14T16:20:09.943Z"
   },
   {
    "duration": 114,
    "start_time": "2024-02-14T16:20:10.114Z"
   },
   {
    "duration": 6,
    "start_time": "2024-02-14T16:20:10.233Z"
   },
   {
    "duration": 8,
    "start_time": "2024-02-14T16:20:10.240Z"
   },
   {
    "duration": 13,
    "start_time": "2024-02-14T16:20:10.250Z"
   },
   {
    "duration": 278,
    "start_time": "2024-02-14T16:20:10.264Z"
   },
   {
    "duration": 255,
    "start_time": "2024-02-14T16:20:10.544Z"
   },
   {
    "duration": 401,
    "start_time": "2024-02-14T16:20:10.800Z"
   },
   {
    "duration": 4,
    "start_time": "2024-02-14T16:20:11.203Z"
   },
   {
    "duration": 291,
    "start_time": "2024-02-14T16:20:11.209Z"
   },
   {
    "duration": 367,
    "start_time": "2024-02-14T16:20:11.501Z"
   },
   {
    "duration": 149,
    "start_time": "2024-02-14T16:20:11.869Z"
   },
   {
    "duration": 15,
    "start_time": "2024-02-14T16:20:12.019Z"
   },
   {
    "duration": 172,
    "start_time": "2024-02-14T16:20:12.036Z"
   },
   {
    "duration": 6,
    "start_time": "2024-02-14T16:20:12.209Z"
   },
   {
    "duration": 335,
    "start_time": "2024-02-14T16:20:12.217Z"
   },
   {
    "duration": 9,
    "start_time": "2024-02-14T16:20:12.554Z"
   },
   {
    "duration": 49,
    "start_time": "2024-02-14T16:20:12.564Z"
   },
   {
    "duration": 21,
    "start_time": "2024-02-14T16:20:12.615Z"
   },
   {
    "duration": 3,
    "start_time": "2024-02-14T16:23:46.216Z"
   },
   {
    "duration": 3,
    "start_time": "2024-02-14T16:23:46.224Z"
   },
   {
    "duration": 74,
    "start_time": "2024-02-14T16:23:46.228Z"
   },
   {
    "duration": 28,
    "start_time": "2024-02-14T16:23:46.304Z"
   },
   {
    "duration": 7,
    "start_time": "2024-02-14T16:23:46.333Z"
   },
   {
    "duration": 27,
    "start_time": "2024-02-14T16:23:46.342Z"
   },
   {
    "duration": 22,
    "start_time": "2024-02-14T16:23:46.370Z"
   },
   {
    "duration": 6,
    "start_time": "2024-02-14T16:23:46.434Z"
   },
   {
    "duration": 12,
    "start_time": "2024-02-14T16:23:46.441Z"
   },
   {
    "duration": 406,
    "start_time": "2024-02-14T16:23:46.455Z"
   },
   {
    "duration": 11,
    "start_time": "2024-02-14T16:23:46.862Z"
   },
   {
    "duration": 301,
    "start_time": "2024-02-14T16:23:46.876Z"
   },
   {
    "duration": 8,
    "start_time": "2024-02-14T16:23:47.178Z"
   },
   {
    "duration": 8,
    "start_time": "2024-02-14T16:23:47.187Z"
   },
   {
    "duration": 9,
    "start_time": "2024-02-14T16:23:47.196Z"
   },
   {
    "duration": 170,
    "start_time": "2024-02-14T16:23:47.207Z"
   },
   {
    "duration": 127,
    "start_time": "2024-02-14T16:23:47.378Z"
   },
   {
    "duration": 6,
    "start_time": "2024-02-14T16:23:47.506Z"
   },
   {
    "duration": 7,
    "start_time": "2024-02-14T16:23:47.514Z"
   },
   {
    "duration": 9,
    "start_time": "2024-02-14T16:23:47.533Z"
   },
   {
    "duration": 14,
    "start_time": "2024-02-14T16:23:47.544Z"
   },
   {
    "duration": 315,
    "start_time": "2024-02-14T16:23:47.559Z"
   },
   {
    "duration": 269,
    "start_time": "2024-02-14T16:23:47.876Z"
   },
   {
    "duration": 361,
    "start_time": "2024-02-14T16:23:48.147Z"
   },
   {
    "duration": 4,
    "start_time": "2024-02-14T16:23:48.510Z"
   },
   {
    "duration": 283,
    "start_time": "2024-02-14T16:23:48.515Z"
   },
   {
    "duration": 373,
    "start_time": "2024-02-14T16:23:48.800Z"
   },
   {
    "duration": 152,
    "start_time": "2024-02-14T16:23:49.175Z"
   },
   {
    "duration": 11,
    "start_time": "2024-02-14T16:23:49.329Z"
   },
   {
    "duration": 175,
    "start_time": "2024-02-14T16:23:49.343Z"
   },
   {
    "duration": 7,
    "start_time": "2024-02-14T16:23:49.519Z"
   },
   {
    "duration": 354,
    "start_time": "2024-02-14T16:23:49.527Z"
   },
   {
    "duration": 10,
    "start_time": "2024-02-14T16:23:49.883Z"
   },
   {
    "duration": 44,
    "start_time": "2024-02-14T16:23:49.894Z"
   },
   {
    "duration": 12,
    "start_time": "2024-02-14T16:23:49.940Z"
   },
   {
    "duration": 5,
    "start_time": "2024-02-14T16:31:17.501Z"
   },
   {
    "duration": 268,
    "start_time": "2024-02-14T16:32:06.046Z"
   },
   {
    "duration": 288,
    "start_time": "2024-02-14T16:33:21.184Z"
   },
   {
    "duration": 281,
    "start_time": "2024-02-14T16:33:58.214Z"
   },
   {
    "duration": 4,
    "start_time": "2024-02-14T16:35:20.781Z"
   },
   {
    "duration": 19,
    "start_time": "2024-02-14T16:35:20.786Z"
   },
   {
    "duration": 75,
    "start_time": "2024-02-14T16:35:20.807Z"
   },
   {
    "duration": 30,
    "start_time": "2024-02-14T16:35:20.883Z"
   },
   {
    "duration": 8,
    "start_time": "2024-02-14T16:35:20.914Z"
   },
   {
    "duration": 38,
    "start_time": "2024-02-14T16:35:20.923Z"
   },
   {
    "duration": 25,
    "start_time": "2024-02-14T16:35:20.962Z"
   },
   {
    "duration": 6,
    "start_time": "2024-02-14T16:35:20.988Z"
   },
   {
    "duration": 49,
    "start_time": "2024-02-14T16:35:20.995Z"
   },
   {
    "duration": 416,
    "start_time": "2024-02-14T16:35:21.046Z"
   },
   {
    "duration": 11,
    "start_time": "2024-02-14T16:35:21.464Z"
   },
   {
    "duration": 312,
    "start_time": "2024-02-14T16:35:21.476Z"
   },
   {
    "duration": 18,
    "start_time": "2024-02-14T16:35:21.789Z"
   },
   {
    "duration": 8,
    "start_time": "2024-02-14T16:35:21.809Z"
   },
   {
    "duration": 29,
    "start_time": "2024-02-14T16:35:21.819Z"
   },
   {
    "duration": 170,
    "start_time": "2024-02-14T16:35:21.850Z"
   },
   {
    "duration": 140,
    "start_time": "2024-02-14T16:35:22.021Z"
   },
   {
    "duration": 5,
    "start_time": "2024-02-14T16:35:22.162Z"
   },
   {
    "duration": 5,
    "start_time": "2024-02-14T16:35:22.169Z"
   },
   {
    "duration": 11,
    "start_time": "2024-02-14T16:35:22.175Z"
   },
   {
    "duration": 13,
    "start_time": "2024-02-14T16:35:22.188Z"
   },
   {
    "duration": 289,
    "start_time": "2024-02-14T16:35:22.202Z"
   },
   {
    "duration": 271,
    "start_time": "2024-02-14T16:35:22.492Z"
   },
   {
    "duration": 351,
    "start_time": "2024-02-14T16:35:22.765Z"
   },
   {
    "duration": 3,
    "start_time": "2024-02-14T16:35:23.118Z"
   },
   {
    "duration": 21,
    "start_time": "2024-02-14T16:35:23.123Z"
   },
   {
    "duration": 305,
    "start_time": "2024-02-14T16:35:23.146Z"
   },
   {
    "duration": 0,
    "start_time": "2024-02-14T16:35:23.453Z"
   },
   {
    "duration": 0,
    "start_time": "2024-02-14T16:35:23.455Z"
   },
   {
    "duration": 0,
    "start_time": "2024-02-14T16:35:23.456Z"
   },
   {
    "duration": 0,
    "start_time": "2024-02-14T16:35:23.457Z"
   },
   {
    "duration": 0,
    "start_time": "2024-02-14T16:35:23.459Z"
   },
   {
    "duration": 0,
    "start_time": "2024-02-14T16:35:23.459Z"
   },
   {
    "duration": 0,
    "start_time": "2024-02-14T16:35:23.461Z"
   },
   {
    "duration": 0,
    "start_time": "2024-02-14T16:35:23.462Z"
   },
   {
    "duration": 0,
    "start_time": "2024-02-14T16:35:23.462Z"
   },
   {
    "duration": 1,
    "start_time": "2024-02-14T16:35:23.463Z"
   },
   {
    "duration": 284,
    "start_time": "2024-02-14T16:36:01.511Z"
   },
   {
    "duration": 282,
    "start_time": "2024-02-14T16:41:05.252Z"
   },
   {
    "duration": 266,
    "start_time": "2024-02-14T16:41:57.357Z"
   },
   {
    "duration": 279,
    "start_time": "2024-02-14T16:42:14.495Z"
   },
   {
    "duration": 12,
    "start_time": "2024-02-14T16:42:43.078Z"
   },
   {
    "duration": 10,
    "start_time": "2024-02-14T16:43:00.239Z"
   },
   {
    "duration": 13,
    "start_time": "2024-02-14T16:44:39.362Z"
   },
   {
    "duration": 282,
    "start_time": "2024-02-14T16:46:10.466Z"
   },
   {
    "duration": 4,
    "start_time": "2024-02-14T16:46:23.653Z"
   },
   {
    "duration": 16,
    "start_time": "2024-02-14T16:46:23.663Z"
   },
   {
    "duration": 95,
    "start_time": "2024-02-14T16:46:23.680Z"
   },
   {
    "duration": 42,
    "start_time": "2024-02-14T16:46:23.777Z"
   },
   {
    "duration": 8,
    "start_time": "2024-02-14T16:46:23.820Z"
   },
   {
    "duration": 30,
    "start_time": "2024-02-14T16:46:24.041Z"
   },
   {
    "duration": 22,
    "start_time": "2024-02-14T16:46:24.073Z"
   },
   {
    "duration": 44,
    "start_time": "2024-02-14T16:46:24.096Z"
   },
   {
    "duration": 17,
    "start_time": "2024-02-14T16:46:24.141Z"
   },
   {
    "duration": 325,
    "start_time": "2024-02-14T16:46:24.160Z"
   },
   {
    "duration": 12,
    "start_time": "2024-02-14T16:46:24.486Z"
   },
   {
    "duration": 385,
    "start_time": "2024-02-14T16:46:24.499Z"
   },
   {
    "duration": 7,
    "start_time": "2024-02-14T16:46:24.886Z"
   },
   {
    "duration": 27,
    "start_time": "2024-02-14T16:46:24.895Z"
   },
   {
    "duration": 27,
    "start_time": "2024-02-14T16:46:24.923Z"
   },
   {
    "duration": 190,
    "start_time": "2024-02-14T16:46:24.952Z"
   },
   {
    "duration": 303,
    "start_time": "2024-02-14T16:46:25.143Z"
   },
   {
    "duration": 0,
    "start_time": "2024-02-14T16:46:25.448Z"
   },
   {
    "duration": 0,
    "start_time": "2024-02-14T16:46:25.449Z"
   },
   {
    "duration": 0,
    "start_time": "2024-02-14T16:46:25.451Z"
   },
   {
    "duration": 0,
    "start_time": "2024-02-14T16:46:25.452Z"
   },
   {
    "duration": 0,
    "start_time": "2024-02-14T16:46:25.454Z"
   },
   {
    "duration": 0,
    "start_time": "2024-02-14T16:46:25.455Z"
   },
   {
    "duration": 0,
    "start_time": "2024-02-14T16:46:25.456Z"
   },
   {
    "duration": 0,
    "start_time": "2024-02-14T16:46:25.457Z"
   },
   {
    "duration": 0,
    "start_time": "2024-02-14T16:46:25.458Z"
   },
   {
    "duration": 0,
    "start_time": "2024-02-14T16:46:25.459Z"
   },
   {
    "duration": 0,
    "start_time": "2024-02-14T16:46:25.461Z"
   },
   {
    "duration": 0,
    "start_time": "2024-02-14T16:46:25.462Z"
   },
   {
    "duration": 0,
    "start_time": "2024-02-14T16:46:25.463Z"
   },
   {
    "duration": 0,
    "start_time": "2024-02-14T16:46:25.464Z"
   },
   {
    "duration": 0,
    "start_time": "2024-02-14T16:46:25.465Z"
   },
   {
    "duration": 0,
    "start_time": "2024-02-14T16:46:25.466Z"
   },
   {
    "duration": 0,
    "start_time": "2024-02-14T16:46:25.467Z"
   },
   {
    "duration": 0,
    "start_time": "2024-02-14T16:46:25.468Z"
   },
   {
    "duration": 0,
    "start_time": "2024-02-14T16:46:25.469Z"
   },
   {
    "duration": 0,
    "start_time": "2024-02-14T16:46:25.470Z"
   },
   {
    "duration": 0,
    "start_time": "2024-02-14T16:46:25.471Z"
   },
   {
    "duration": 298,
    "start_time": "2024-02-14T16:47:21.489Z"
   },
   {
    "duration": 4,
    "start_time": "2024-02-14T16:47:26.653Z"
   },
   {
    "duration": 4,
    "start_time": "2024-02-14T16:47:26.659Z"
   },
   {
    "duration": 88,
    "start_time": "2024-02-14T16:47:26.665Z"
   },
   {
    "duration": 28,
    "start_time": "2024-02-14T16:47:26.754Z"
   },
   {
    "duration": 7,
    "start_time": "2024-02-14T16:47:26.784Z"
   },
   {
    "duration": 44,
    "start_time": "2024-02-14T16:47:26.793Z"
   },
   {
    "duration": 21,
    "start_time": "2024-02-14T16:47:26.838Z"
   },
   {
    "duration": 18,
    "start_time": "2024-02-14T16:47:26.860Z"
   },
   {
    "duration": 33,
    "start_time": "2024-02-14T16:47:26.880Z"
   },
   {
    "duration": 340,
    "start_time": "2024-02-14T16:47:26.915Z"
   },
   {
    "duration": 11,
    "start_time": "2024-02-14T16:47:27.257Z"
   },
   {
    "duration": 319,
    "start_time": "2024-02-14T16:47:27.270Z"
   },
   {
    "duration": 8,
    "start_time": "2024-02-14T16:47:27.590Z"
   },
   {
    "duration": 22,
    "start_time": "2024-02-14T16:47:27.600Z"
   },
   {
    "duration": 17,
    "start_time": "2024-02-14T16:47:27.624Z"
   },
   {
    "duration": 169,
    "start_time": "2024-02-14T16:47:27.643Z"
   },
   {
    "duration": 132,
    "start_time": "2024-02-14T16:47:27.813Z"
   },
   {
    "duration": 7,
    "start_time": "2024-02-14T16:47:27.946Z"
   },
   {
    "duration": 21,
    "start_time": "2024-02-14T16:47:27.954Z"
   },
   {
    "duration": 16,
    "start_time": "2024-02-14T16:47:27.977Z"
   },
   {
    "duration": 29,
    "start_time": "2024-02-14T16:47:27.994Z"
   },
   {
    "duration": 278,
    "start_time": "2024-02-14T16:47:28.024Z"
   },
   {
    "duration": 273,
    "start_time": "2024-02-14T16:47:28.303Z"
   },
   {
    "duration": 357,
    "start_time": "2024-02-14T16:47:28.578Z"
   },
   {
    "duration": 5,
    "start_time": "2024-02-14T16:47:28.937Z"
   },
   {
    "duration": 33,
    "start_time": "2024-02-14T16:47:28.943Z"
   },
   {
    "duration": 42,
    "start_time": "2024-02-14T16:47:28.978Z"
   },
   {
    "duration": 295,
    "start_time": "2024-02-14T16:47:29.022Z"
   },
   {
    "duration": 0,
    "start_time": "2024-02-14T16:47:29.319Z"
   },
   {
    "duration": 0,
    "start_time": "2024-02-14T16:47:29.321Z"
   },
   {
    "duration": 0,
    "start_time": "2024-02-14T16:47:29.322Z"
   },
   {
    "duration": 0,
    "start_time": "2024-02-14T16:47:29.324Z"
   },
   {
    "duration": 0,
    "start_time": "2024-02-14T16:47:29.325Z"
   },
   {
    "duration": 0,
    "start_time": "2024-02-14T16:47:29.333Z"
   },
   {
    "duration": 0,
    "start_time": "2024-02-14T16:47:29.335Z"
   },
   {
    "duration": 0,
    "start_time": "2024-02-14T16:47:29.336Z"
   },
   {
    "duration": 0,
    "start_time": "2024-02-14T16:47:29.336Z"
   },
   {
    "duration": 0,
    "start_time": "2024-02-14T16:47:29.337Z"
   },
   {
    "duration": 295,
    "start_time": "2024-02-14T16:48:33.041Z"
   },
   {
    "duration": 3,
    "start_time": "2024-02-14T16:48:55.001Z"
   },
   {
    "duration": 36,
    "start_time": "2024-02-14T16:48:55.008Z"
   },
   {
    "duration": 92,
    "start_time": "2024-02-14T16:48:55.046Z"
   },
   {
    "duration": 30,
    "start_time": "2024-02-14T16:48:55.139Z"
   },
   {
    "duration": 7,
    "start_time": "2024-02-14T16:48:55.170Z"
   },
   {
    "duration": 54,
    "start_time": "2024-02-14T16:48:55.179Z"
   },
   {
    "duration": 21,
    "start_time": "2024-02-14T16:48:55.235Z"
   },
   {
    "duration": 21,
    "start_time": "2024-02-14T16:48:55.257Z"
   },
   {
    "duration": 28,
    "start_time": "2024-02-14T16:48:55.279Z"
   },
   {
    "duration": 318,
    "start_time": "2024-02-14T16:48:55.308Z"
   },
   {
    "duration": 14,
    "start_time": "2024-02-14T16:48:55.636Z"
   },
   {
    "duration": 321,
    "start_time": "2024-02-14T16:48:55.652Z"
   },
   {
    "duration": 8,
    "start_time": "2024-02-14T16:48:55.974Z"
   },
   {
    "duration": 9,
    "start_time": "2024-02-14T16:48:55.983Z"
   },
   {
    "duration": 11,
    "start_time": "2024-02-14T16:48:55.994Z"
   },
   {
    "duration": 164,
    "start_time": "2024-02-14T16:48:56.006Z"
   },
   {
    "duration": 113,
    "start_time": "2024-02-14T16:48:56.172Z"
   },
   {
    "duration": 6,
    "start_time": "2024-02-14T16:48:56.287Z"
   },
   {
    "duration": 15,
    "start_time": "2024-02-14T16:48:56.294Z"
   },
   {
    "duration": 13,
    "start_time": "2024-02-14T16:48:56.310Z"
   },
   {
    "duration": 20,
    "start_time": "2024-02-14T16:48:56.325Z"
   },
   {
    "duration": 260,
    "start_time": "2024-02-14T16:48:56.347Z"
   },
   {
    "duration": 332,
    "start_time": "2024-02-14T16:48:56.609Z"
   },
   {
    "duration": 382,
    "start_time": "2024-02-14T16:48:56.942Z"
   },
   {
    "duration": 7,
    "start_time": "2024-02-14T16:48:57.326Z"
   },
   {
    "duration": 8,
    "start_time": "2024-02-14T16:48:57.335Z"
   },
   {
    "duration": 20,
    "start_time": "2024-02-14T16:48:57.345Z"
   },
   {
    "duration": 273,
    "start_time": "2024-02-14T16:48:57.366Z"
   },
   {
    "duration": 0,
    "start_time": "2024-02-14T16:48:57.641Z"
   },
   {
    "duration": 0,
    "start_time": "2024-02-14T16:48:57.642Z"
   },
   {
    "duration": 0,
    "start_time": "2024-02-14T16:48:57.643Z"
   },
   {
    "duration": 0,
    "start_time": "2024-02-14T16:48:57.644Z"
   },
   {
    "duration": 0,
    "start_time": "2024-02-14T16:48:57.645Z"
   },
   {
    "duration": 0,
    "start_time": "2024-02-14T16:48:57.646Z"
   },
   {
    "duration": 0,
    "start_time": "2024-02-14T16:48:57.647Z"
   },
   {
    "duration": 0,
    "start_time": "2024-02-14T16:48:57.648Z"
   },
   {
    "duration": 0,
    "start_time": "2024-02-14T16:48:57.649Z"
   },
   {
    "duration": 0,
    "start_time": "2024-02-14T16:48:57.650Z"
   },
   {
    "duration": 288,
    "start_time": "2024-02-14T16:49:15.313Z"
   },
   {
    "duration": 291,
    "start_time": "2024-02-14T16:51:06.610Z"
   },
   {
    "duration": 282,
    "start_time": "2024-02-14T16:52:26.679Z"
   },
   {
    "duration": 280,
    "start_time": "2024-02-14T16:54:39.211Z"
   },
   {
    "duration": 308,
    "start_time": "2024-02-14T16:55:11.173Z"
   },
   {
    "duration": 297,
    "start_time": "2024-02-14T16:55:38.257Z"
   },
   {
    "duration": 264,
    "start_time": "2024-02-14T16:55:59.082Z"
   },
   {
    "duration": 12,
    "start_time": "2024-02-14T16:59:30.458Z"
   },
   {
    "duration": 9,
    "start_time": "2024-02-14T16:59:54.337Z"
   },
   {
    "duration": 9,
    "start_time": "2024-02-14T17:00:06.313Z"
   },
   {
    "duration": 249,
    "start_time": "2024-02-14T17:00:29.089Z"
   },
   {
    "duration": 280,
    "start_time": "2024-02-14T17:03:02.748Z"
   },
   {
    "duration": 475,
    "start_time": "2024-02-14T17:03:39.627Z"
   },
   {
    "duration": 342,
    "start_time": "2024-02-14T17:04:26.463Z"
   },
   {
    "duration": 85,
    "start_time": "2024-02-14T17:06:25.292Z"
   },
   {
    "duration": 105,
    "start_time": "2024-02-14T17:06:40.645Z"
   },
   {
    "duration": 73,
    "start_time": "2024-02-14T17:07:36.725Z"
   },
   {
    "duration": 315,
    "start_time": "2024-02-14T17:07:51.545Z"
   },
   {
    "duration": 168,
    "start_time": "2024-02-14T17:19:14.944Z"
   },
   {
    "duration": 150,
    "start_time": "2024-02-14T17:19:43.781Z"
   },
   {
    "duration": 11,
    "start_time": "2024-02-14T17:20:06.635Z"
   },
   {
    "duration": 137,
    "start_time": "2024-02-14T17:20:20.361Z"
   },
   {
    "duration": 8,
    "start_time": "2024-02-14T17:28:19.129Z"
   },
   {
    "duration": 75,
    "start_time": "2024-02-14T17:28:49.926Z"
   },
   {
    "duration": 8,
    "start_time": "2024-02-14T17:28:56.491Z"
   },
   {
    "duration": 13,
    "start_time": "2024-02-14T17:29:09.450Z"
   },
   {
    "duration": 13,
    "start_time": "2024-02-14T17:29:19.818Z"
   },
   {
    "duration": 349,
    "start_time": "2024-02-14T17:29:46.666Z"
   },
   {
    "duration": 320,
    "start_time": "2024-02-14T17:30:02.191Z"
   },
   {
    "duration": 313,
    "start_time": "2024-02-14T17:30:22.085Z"
   },
   {
    "duration": 351,
    "start_time": "2024-02-14T17:30:39.661Z"
   },
   {
    "duration": 135,
    "start_time": "2024-02-14T17:36:42.155Z"
   },
   {
    "duration": 135,
    "start_time": "2024-02-14T17:39:10.752Z"
   },
   {
    "duration": 7,
    "start_time": "2024-02-14T17:40:22.719Z"
   },
   {
    "duration": 9,
    "start_time": "2024-02-14T17:40:49.150Z"
   },
   {
    "duration": 8,
    "start_time": "2024-02-14T17:41:01.674Z"
   },
   {
    "duration": 9,
    "start_time": "2024-02-14T17:41:24.044Z"
   },
   {
    "duration": 8,
    "start_time": "2024-02-14T17:41:35.315Z"
   },
   {
    "duration": 5,
    "start_time": "2024-02-14T17:42:34.902Z"
   },
   {
    "duration": 171,
    "start_time": "2024-02-14T17:46:35.565Z"
   },
   {
    "duration": 9,
    "start_time": "2024-02-14T17:47:27.083Z"
   },
   {
    "duration": 174,
    "start_time": "2024-02-14T17:47:42.871Z"
   },
   {
    "duration": 8,
    "start_time": "2024-02-14T17:48:18.008Z"
   },
   {
    "duration": 237,
    "start_time": "2024-02-14T17:48:27.324Z"
   },
   {
    "duration": 154,
    "start_time": "2024-02-14T17:49:35.454Z"
   },
   {
    "duration": 152,
    "start_time": "2024-02-14T17:50:05.448Z"
   },
   {
    "duration": 164,
    "start_time": "2024-02-14T17:51:54.933Z"
   },
   {
    "duration": 172,
    "start_time": "2024-02-14T17:52:59.744Z"
   },
   {
    "duration": 183,
    "start_time": "2024-02-14T17:53:51.752Z"
   },
   {
    "duration": 173,
    "start_time": "2024-02-14T17:54:09.808Z"
   },
   {
    "duration": 6,
    "start_time": "2024-02-14T17:55:57.697Z"
   },
   {
    "duration": 12,
    "start_time": "2024-02-14T17:57:34.152Z"
   },
   {
    "duration": 10,
    "start_time": "2024-02-14T17:58:09.104Z"
   },
   {
    "duration": 164,
    "start_time": "2024-02-14T18:14:15.834Z"
   },
   {
    "duration": 12,
    "start_time": "2024-02-14T18:14:41.489Z"
   },
   {
    "duration": 18,
    "start_time": "2024-02-14T18:15:12.777Z"
   },
   {
    "duration": 18,
    "start_time": "2024-02-14T18:15:58.960Z"
   },
   {
    "duration": 186,
    "start_time": "2024-02-14T18:16:19.405Z"
   },
   {
    "duration": 250,
    "start_time": "2024-02-14T18:16:33.309Z"
   },
   {
    "duration": 228,
    "start_time": "2024-02-14T18:17:06.663Z"
   },
   {
    "duration": 156,
    "start_time": "2024-02-14T18:17:38.210Z"
   },
   {
    "duration": 4,
    "start_time": "2024-02-14T18:18:43.634Z"
   },
   {
    "duration": 10,
    "start_time": "2024-02-14T18:26:32.411Z"
   },
   {
    "duration": 12,
    "start_time": "2024-02-14T18:26:41.910Z"
   },
   {
    "duration": 11,
    "start_time": "2024-02-14T18:27:03.416Z"
   },
   {
    "duration": 55,
    "start_time": "2024-02-14T18:27:45.542Z"
   },
   {
    "duration": 8,
    "start_time": "2024-02-14T18:29:20.843Z"
   },
   {
    "duration": 45,
    "start_time": "2024-02-14T18:30:53.016Z"
   },
   {
    "duration": 245,
    "start_time": "2024-02-14T18:33:58.302Z"
   },
   {
    "duration": 19,
    "start_time": "2024-02-14T18:35:45.263Z"
   },
   {
    "duration": 48,
    "start_time": "2024-02-14T18:37:58.268Z"
   },
   {
    "duration": 20,
    "start_time": "2024-02-14T18:39:12.811Z"
   },
   {
    "duration": 47,
    "start_time": "2024-02-14T18:40:34.641Z"
   },
   {
    "duration": 40,
    "start_time": "2024-02-14T18:44:18.332Z"
   },
   {
    "duration": 30,
    "start_time": "2024-02-14T18:44:29.843Z"
   },
   {
    "duration": 96,
    "start_time": "2024-02-14T18:47:41.899Z"
   },
   {
    "duration": 116,
    "start_time": "2024-02-14T18:48:09.095Z"
   },
   {
    "duration": 13,
    "start_time": "2024-02-14T18:57:49.035Z"
   },
   {
    "duration": 26,
    "start_time": "2024-02-14T19:02:18.166Z"
   },
   {
    "duration": 6,
    "start_time": "2024-02-14T19:02:22.619Z"
   },
   {
    "duration": 24,
    "start_time": "2024-02-14T19:02:25.089Z"
   },
   {
    "duration": 25,
    "start_time": "2024-02-14T19:02:27.936Z"
   },
   {
    "duration": 23,
    "start_time": "2024-02-14T19:04:19.328Z"
   },
   {
    "duration": 35,
    "start_time": "2024-02-14T19:05:56.558Z"
   },
   {
    "duration": 9,
    "start_time": "2024-02-14T19:09:08.014Z"
   },
   {
    "duration": 12,
    "start_time": "2024-02-14T19:09:53.214Z"
   },
   {
    "duration": 8,
    "start_time": "2024-02-14T19:10:06.745Z"
   },
   {
    "duration": 9,
    "start_time": "2024-02-14T19:10:15.178Z"
   },
   {
    "duration": 12,
    "start_time": "2024-02-14T19:10:28.260Z"
   },
   {
    "duration": 6,
    "start_time": "2024-02-14T19:12:32.071Z"
   },
   {
    "duration": 10,
    "start_time": "2024-02-14T19:13:01.144Z"
   },
   {
    "duration": 7,
    "start_time": "2024-02-14T19:13:37.595Z"
   },
   {
    "duration": 31,
    "start_time": "2024-02-14T19:13:53.209Z"
   },
   {
    "duration": 24,
    "start_time": "2024-02-14T19:14:45.581Z"
   },
   {
    "duration": 13,
    "start_time": "2024-02-14T19:15:38.170Z"
   },
   {
    "duration": 11,
    "start_time": "2024-02-14T19:18:48.990Z"
   },
   {
    "duration": 13,
    "start_time": "2024-02-14T19:19:58.538Z"
   },
   {
    "duration": 1177,
    "start_time": "2024-02-14T19:21:02.557Z"
   },
   {
    "duration": 8,
    "start_time": "2024-02-14T19:21:35.081Z"
   },
   {
    "duration": 8,
    "start_time": "2024-02-14T19:22:50.371Z"
   },
   {
    "duration": 7,
    "start_time": "2024-02-14T19:23:31.634Z"
   },
   {
    "duration": 6,
    "start_time": "2024-02-14T19:23:42.167Z"
   },
   {
    "duration": 23,
    "start_time": "2024-02-14T19:23:46.747Z"
   },
   {
    "duration": 11,
    "start_time": "2024-02-14T19:30:08.288Z"
   },
   {
    "duration": 26,
    "start_time": "2024-02-14T19:30:14.880Z"
   },
   {
    "duration": 946,
    "start_time": "2024-02-15T09:14:51.281Z"
   },
   {
    "duration": 0,
    "start_time": "2024-02-15T09:14:52.230Z"
   },
   {
    "duration": 0,
    "start_time": "2024-02-15T09:14:52.234Z"
   },
   {
    "duration": 0,
    "start_time": "2024-02-15T09:14:52.235Z"
   },
   {
    "duration": 0,
    "start_time": "2024-02-15T09:14:52.236Z"
   },
   {
    "duration": 0,
    "start_time": "2024-02-15T09:14:52.237Z"
   },
   {
    "duration": 0,
    "start_time": "2024-02-15T09:14:52.238Z"
   },
   {
    "duration": 0,
    "start_time": "2024-02-15T09:14:52.239Z"
   },
   {
    "duration": 0,
    "start_time": "2024-02-15T09:14:52.240Z"
   },
   {
    "duration": 0,
    "start_time": "2024-02-15T09:14:52.241Z"
   },
   {
    "duration": 0,
    "start_time": "2024-02-15T09:14:52.242Z"
   },
   {
    "duration": 0,
    "start_time": "2024-02-15T09:14:52.243Z"
   },
   {
    "duration": 0,
    "start_time": "2024-02-15T09:14:52.244Z"
   },
   {
    "duration": 0,
    "start_time": "2024-02-15T09:14:52.245Z"
   },
   {
    "duration": 0,
    "start_time": "2024-02-15T09:14:52.246Z"
   },
   {
    "duration": 0,
    "start_time": "2024-02-15T09:14:52.247Z"
   },
   {
    "duration": 0,
    "start_time": "2024-02-15T09:14:52.248Z"
   },
   {
    "duration": 0,
    "start_time": "2024-02-15T09:14:52.249Z"
   },
   {
    "duration": 0,
    "start_time": "2024-02-15T09:14:52.250Z"
   },
   {
    "duration": 0,
    "start_time": "2024-02-15T09:14:52.251Z"
   },
   {
    "duration": 0,
    "start_time": "2024-02-15T09:14:52.252Z"
   },
   {
    "duration": 0,
    "start_time": "2024-02-15T09:14:52.253Z"
   },
   {
    "duration": 0,
    "start_time": "2024-02-15T09:14:52.254Z"
   },
   {
    "duration": 0,
    "start_time": "2024-02-15T09:14:52.255Z"
   },
   {
    "duration": 0,
    "start_time": "2024-02-15T09:14:52.256Z"
   },
   {
    "duration": 0,
    "start_time": "2024-02-15T09:14:52.257Z"
   },
   {
    "duration": 0,
    "start_time": "2024-02-15T09:14:52.258Z"
   },
   {
    "duration": 1,
    "start_time": "2024-02-15T09:14:52.258Z"
   },
   {
    "duration": 0,
    "start_time": "2024-02-15T09:14:52.260Z"
   },
   {
    "duration": 0,
    "start_time": "2024-02-15T09:14:52.260Z"
   },
   {
    "duration": 0,
    "start_time": "2024-02-15T09:14:52.261Z"
   },
   {
    "duration": 0,
    "start_time": "2024-02-15T09:14:52.262Z"
   },
   {
    "duration": 0,
    "start_time": "2024-02-15T09:14:52.263Z"
   },
   {
    "duration": 0,
    "start_time": "2024-02-15T09:14:52.264Z"
   },
   {
    "duration": 0,
    "start_time": "2024-02-15T09:14:52.265Z"
   },
   {
    "duration": 0,
    "start_time": "2024-02-15T09:14:52.266Z"
   },
   {
    "duration": 0,
    "start_time": "2024-02-15T09:14:52.267Z"
   },
   {
    "duration": 0,
    "start_time": "2024-02-15T09:14:52.268Z"
   },
   {
    "duration": 0,
    "start_time": "2024-02-15T09:14:52.269Z"
   },
   {
    "duration": 0,
    "start_time": "2024-02-15T09:14:52.270Z"
   },
   {
    "duration": 0,
    "start_time": "2024-02-15T09:14:52.333Z"
   },
   {
    "duration": 0,
    "start_time": "2024-02-15T09:14:52.334Z"
   },
   {
    "duration": 1,
    "start_time": "2024-02-15T09:14:52.335Z"
   },
   {
    "duration": 0,
    "start_time": "2024-02-15T09:14:52.336Z"
   },
   {
    "duration": 0,
    "start_time": "2024-02-15T09:14:52.338Z"
   },
   {
    "duration": 0,
    "start_time": "2024-02-15T09:14:52.338Z"
   },
   {
    "duration": 0,
    "start_time": "2024-02-15T09:14:52.339Z"
   },
   {
    "duration": 0,
    "start_time": "2024-02-15T09:14:52.340Z"
   },
   {
    "duration": 0,
    "start_time": "2024-02-15T09:14:52.341Z"
   },
   {
    "duration": 0,
    "start_time": "2024-02-15T09:14:52.342Z"
   },
   {
    "duration": 0,
    "start_time": "2024-02-15T09:14:52.343Z"
   },
   {
    "duration": 0,
    "start_time": "2024-02-15T09:14:52.344Z"
   },
   {
    "duration": 0,
    "start_time": "2024-02-15T09:14:52.345Z"
   },
   {
    "duration": 1,
    "start_time": "2024-02-15T09:14:52.346Z"
   },
   {
    "duration": 0,
    "start_time": "2024-02-15T09:14:52.348Z"
   },
   {
    "duration": 0,
    "start_time": "2024-02-15T09:14:52.349Z"
   },
   {
    "duration": 0,
    "start_time": "2024-02-15T09:14:52.351Z"
   },
   {
    "duration": 8,
    "start_time": "2024-02-15T09:15:42.573Z"
   },
   {
    "duration": 3206,
    "start_time": "2024-02-15T09:19:52.562Z"
   },
   {
    "duration": 518,
    "start_time": "2024-02-15T09:20:01.350Z"
   },
   {
    "duration": 2549,
    "start_time": "2024-02-15T09:20:08.879Z"
   },
   {
    "duration": 5,
    "start_time": "2024-02-15T09:20:11.430Z"
   },
   {
    "duration": 19,
    "start_time": "2024-02-15T09:20:11.437Z"
   },
   {
    "duration": 208,
    "start_time": "2024-02-15T09:20:11.458Z"
   },
   {
    "duration": 37,
    "start_time": "2024-02-15T09:20:11.667Z"
   },
   {
    "duration": 8,
    "start_time": "2024-02-15T09:20:11.706Z"
   },
   {
    "duration": 39,
    "start_time": "2024-02-15T09:20:11.715Z"
   },
   {
    "duration": 25,
    "start_time": "2024-02-15T09:20:11.755Z"
   },
   {
    "duration": 38,
    "start_time": "2024-02-15T09:20:11.781Z"
   },
   {
    "duration": 22,
    "start_time": "2024-02-15T09:20:11.832Z"
   },
   {
    "duration": 361,
    "start_time": "2024-02-15T09:20:11.856Z"
   },
   {
    "duration": 12,
    "start_time": "2024-02-15T09:20:12.219Z"
   },
   {
    "duration": 314,
    "start_time": "2024-02-15T09:20:12.232Z"
   },
   {
    "duration": 8,
    "start_time": "2024-02-15T09:20:12.547Z"
   },
   {
    "duration": 9,
    "start_time": "2024-02-15T09:20:12.556Z"
   },
   {
    "duration": 39,
    "start_time": "2024-02-15T09:20:12.566Z"
   },
   {
    "duration": 0,
    "start_time": "2024-02-15T09:20:12.607Z"
   },
   {
    "duration": 0,
    "start_time": "2024-02-15T09:20:12.608Z"
   },
   {
    "duration": 0,
    "start_time": "2024-02-15T09:20:12.610Z"
   },
   {
    "duration": 0,
    "start_time": "2024-02-15T09:20:12.634Z"
   },
   {
    "duration": 0,
    "start_time": "2024-02-15T09:20:12.635Z"
   },
   {
    "duration": 0,
    "start_time": "2024-02-15T09:20:12.637Z"
   },
   {
    "duration": 0,
    "start_time": "2024-02-15T09:20:12.638Z"
   },
   {
    "duration": 0,
    "start_time": "2024-02-15T09:20:12.640Z"
   },
   {
    "duration": 0,
    "start_time": "2024-02-15T09:20:12.641Z"
   },
   {
    "duration": 0,
    "start_time": "2024-02-15T09:20:12.642Z"
   },
   {
    "duration": 0,
    "start_time": "2024-02-15T09:20:12.643Z"
   },
   {
    "duration": 0,
    "start_time": "2024-02-15T09:20:12.645Z"
   },
   {
    "duration": 0,
    "start_time": "2024-02-15T09:20:12.646Z"
   },
   {
    "duration": 0,
    "start_time": "2024-02-15T09:20:12.648Z"
   },
   {
    "duration": 0,
    "start_time": "2024-02-15T09:20:12.649Z"
   },
   {
    "duration": 0,
    "start_time": "2024-02-15T09:20:12.650Z"
   },
   {
    "duration": 0,
    "start_time": "2024-02-15T09:20:12.652Z"
   },
   {
    "duration": 0,
    "start_time": "2024-02-15T09:20:12.653Z"
   },
   {
    "duration": 0,
    "start_time": "2024-02-15T09:20:12.655Z"
   },
   {
    "duration": 1,
    "start_time": "2024-02-15T09:20:12.656Z"
   },
   {
    "duration": 0,
    "start_time": "2024-02-15T09:20:12.658Z"
   },
   {
    "duration": 0,
    "start_time": "2024-02-15T09:20:12.659Z"
   },
   {
    "duration": 0,
    "start_time": "2024-02-15T09:20:12.661Z"
   },
   {
    "duration": 0,
    "start_time": "2024-02-15T09:20:12.662Z"
   },
   {
    "duration": 0,
    "start_time": "2024-02-15T09:20:12.663Z"
   },
   {
    "duration": 0,
    "start_time": "2024-02-15T09:20:12.665Z"
   },
   {
    "duration": 0,
    "start_time": "2024-02-15T09:20:12.666Z"
   },
   {
    "duration": 0,
    "start_time": "2024-02-15T09:20:12.667Z"
   },
   {
    "duration": 0,
    "start_time": "2024-02-15T09:20:12.669Z"
   },
   {
    "duration": 0,
    "start_time": "2024-02-15T09:20:12.670Z"
   },
   {
    "duration": 0,
    "start_time": "2024-02-15T09:20:12.671Z"
   },
   {
    "duration": 0,
    "start_time": "2024-02-15T09:20:12.734Z"
   },
   {
    "duration": 0,
    "start_time": "2024-02-15T09:20:12.735Z"
   },
   {
    "duration": 0,
    "start_time": "2024-02-15T09:20:12.736Z"
   },
   {
    "duration": 0,
    "start_time": "2024-02-15T09:20:12.737Z"
   },
   {
    "duration": 0,
    "start_time": "2024-02-15T09:20:12.738Z"
   },
   {
    "duration": 0,
    "start_time": "2024-02-15T09:20:12.739Z"
   },
   {
    "duration": 0,
    "start_time": "2024-02-15T09:20:12.740Z"
   },
   {
    "duration": 0,
    "start_time": "2024-02-15T09:20:12.741Z"
   },
   {
    "duration": 0,
    "start_time": "2024-02-15T09:20:12.743Z"
   },
   {
    "duration": 1,
    "start_time": "2024-02-15T09:20:12.743Z"
   },
   {
    "duration": 0,
    "start_time": "2024-02-15T09:20:12.744Z"
   },
   {
    "duration": 8,
    "start_time": "2024-02-15T09:20:37.673Z"
   },
   {
    "duration": 71,
    "start_time": "2024-02-15T09:29:04.690Z"
   },
   {
    "duration": 78,
    "start_time": "2024-02-15T09:29:34.425Z"
   },
   {
    "duration": 107,
    "start_time": "2024-02-15T09:30:02.225Z"
   },
   {
    "duration": 1371,
    "start_time": "2024-02-15T09:31:42.669Z"
   },
   {
    "duration": 88,
    "start_time": "2024-02-15T09:43:04.119Z"
   },
   {
    "duration": 14,
    "start_time": "2024-02-15T09:46:04.958Z"
   },
   {
    "duration": 2303,
    "start_time": "2024-02-15T09:46:35.988Z"
   },
   {
    "duration": 4,
    "start_time": "2024-02-15T09:46:38.294Z"
   },
   {
    "duration": 8,
    "start_time": "2024-02-15T09:46:38.300Z"
   },
   {
    "duration": 77,
    "start_time": "2024-02-15T09:46:38.309Z"
   },
   {
    "duration": 35,
    "start_time": "2024-02-15T09:46:38.388Z"
   },
   {
    "duration": 9,
    "start_time": "2024-02-15T09:46:38.425Z"
   },
   {
    "duration": 35,
    "start_time": "2024-02-15T09:46:38.435Z"
   },
   {
    "duration": 22,
    "start_time": "2024-02-15T09:46:38.471Z"
   },
   {
    "duration": 45,
    "start_time": "2024-02-15T09:46:38.494Z"
   },
   {
    "duration": 10,
    "start_time": "2024-02-15T09:46:38.542Z"
   },
   {
    "duration": 359,
    "start_time": "2024-02-15T09:46:38.554Z"
   },
   {
    "duration": 19,
    "start_time": "2024-02-15T09:46:38.915Z"
   },
   {
    "duration": 303,
    "start_time": "2024-02-15T09:46:38.936Z"
   },
   {
    "duration": 8,
    "start_time": "2024-02-15T09:46:39.241Z"
   },
   {
    "duration": 8,
    "start_time": "2024-02-15T09:46:39.251Z"
   },
   {
    "duration": 27,
    "start_time": "2024-02-15T09:46:39.261Z"
   },
   {
    "duration": 0,
    "start_time": "2024-02-15T09:46:39.291Z"
   },
   {
    "duration": 0,
    "start_time": "2024-02-15T09:46:39.292Z"
   },
   {
    "duration": 0,
    "start_time": "2024-02-15T09:46:39.294Z"
   },
   {
    "duration": 0,
    "start_time": "2024-02-15T09:46:39.295Z"
   },
   {
    "duration": 0,
    "start_time": "2024-02-15T09:46:39.297Z"
   },
   {
    "duration": 0,
    "start_time": "2024-02-15T09:46:39.298Z"
   },
   {
    "duration": 0,
    "start_time": "2024-02-15T09:46:39.299Z"
   },
   {
    "duration": 0,
    "start_time": "2024-02-15T09:46:39.300Z"
   },
   {
    "duration": 0,
    "start_time": "2024-02-15T09:46:39.302Z"
   },
   {
    "duration": 0,
    "start_time": "2024-02-15T09:46:39.303Z"
   },
   {
    "duration": 0,
    "start_time": "2024-02-15T09:46:39.304Z"
   },
   {
    "duration": 0,
    "start_time": "2024-02-15T09:46:39.305Z"
   },
   {
    "duration": 0,
    "start_time": "2024-02-15T09:46:39.333Z"
   },
   {
    "duration": 0,
    "start_time": "2024-02-15T09:46:39.335Z"
   },
   {
    "duration": 0,
    "start_time": "2024-02-15T09:46:39.336Z"
   },
   {
    "duration": 0,
    "start_time": "2024-02-15T09:46:39.338Z"
   },
   {
    "duration": 0,
    "start_time": "2024-02-15T09:46:39.339Z"
   },
   {
    "duration": 0,
    "start_time": "2024-02-15T09:46:39.341Z"
   },
   {
    "duration": 0,
    "start_time": "2024-02-15T09:46:39.342Z"
   },
   {
    "duration": 0,
    "start_time": "2024-02-15T09:46:39.344Z"
   },
   {
    "duration": 0,
    "start_time": "2024-02-15T09:46:39.345Z"
   },
   {
    "duration": 0,
    "start_time": "2024-02-15T09:46:39.346Z"
   },
   {
    "duration": 0,
    "start_time": "2024-02-15T09:46:39.348Z"
   },
   {
    "duration": 0,
    "start_time": "2024-02-15T09:46:39.349Z"
   },
   {
    "duration": 0,
    "start_time": "2024-02-15T09:46:39.350Z"
   },
   {
    "duration": 0,
    "start_time": "2024-02-15T09:46:39.352Z"
   },
   {
    "duration": 0,
    "start_time": "2024-02-15T09:46:39.353Z"
   },
   {
    "duration": 0,
    "start_time": "2024-02-15T09:46:39.354Z"
   },
   {
    "duration": 0,
    "start_time": "2024-02-15T09:46:39.355Z"
   },
   {
    "duration": 0,
    "start_time": "2024-02-15T09:46:39.356Z"
   },
   {
    "duration": 0,
    "start_time": "2024-02-15T09:46:39.357Z"
   },
   {
    "duration": 0,
    "start_time": "2024-02-15T09:46:39.359Z"
   },
   {
    "duration": 0,
    "start_time": "2024-02-15T09:46:39.360Z"
   },
   {
    "duration": 0,
    "start_time": "2024-02-15T09:46:39.360Z"
   },
   {
    "duration": 0,
    "start_time": "2024-02-15T09:46:39.361Z"
   },
   {
    "duration": 0,
    "start_time": "2024-02-15T09:46:39.362Z"
   },
   {
    "duration": 0,
    "start_time": "2024-02-15T09:46:39.363Z"
   },
   {
    "duration": 0,
    "start_time": "2024-02-15T09:46:39.364Z"
   },
   {
    "duration": 0,
    "start_time": "2024-02-15T09:46:39.365Z"
   },
   {
    "duration": 0,
    "start_time": "2024-02-15T09:46:39.366Z"
   },
   {
    "duration": 0,
    "start_time": "2024-02-15T09:46:39.367Z"
   },
   {
    "duration": 1,
    "start_time": "2024-02-15T09:46:39.368Z"
   },
   {
    "duration": 9,
    "start_time": "2024-02-15T09:53:55.613Z"
   },
   {
    "duration": 13,
    "start_time": "2024-02-15T09:54:04.834Z"
   },
   {
    "duration": 13,
    "start_time": "2024-02-15T09:54:14.836Z"
   },
   {
    "duration": 8,
    "start_time": "2024-02-15T09:54:26.630Z"
   },
   {
    "duration": 26,
    "start_time": "2024-02-15T09:54:38.270Z"
   },
   {
    "duration": 8,
    "start_time": "2024-02-15T09:55:21.165Z"
   },
   {
    "duration": 16,
    "start_time": "2024-02-15T09:55:47.914Z"
   },
   {
    "duration": 18,
    "start_time": "2024-02-15T09:57:20.746Z"
   },
   {
    "duration": 85,
    "start_time": "2024-02-15T09:57:30.852Z"
   },
   {
    "duration": 21,
    "start_time": "2024-02-15T09:57:48.349Z"
   },
   {
    "duration": 1215,
    "start_time": "2024-02-15T09:58:30.491Z"
   },
   {
    "duration": 14,
    "start_time": "2024-02-15T09:58:50.081Z"
   },
   {
    "duration": 1335,
    "start_time": "2024-02-15T09:59:03.243Z"
   },
   {
    "duration": 1226,
    "start_time": "2024-02-15T09:59:13.003Z"
   },
   {
    "duration": 87,
    "start_time": "2024-02-15T09:59:36.470Z"
   },
   {
    "duration": 10,
    "start_time": "2024-02-15T09:59:51.984Z"
   },
   {
    "duration": 11,
    "start_time": "2024-02-15T10:00:40.038Z"
   },
   {
    "duration": 7,
    "start_time": "2024-02-15T10:01:00.146Z"
   },
   {
    "duration": 82,
    "start_time": "2024-02-15T10:01:34.119Z"
   },
   {
    "duration": 16,
    "start_time": "2024-02-15T10:01:45.851Z"
   },
   {
    "duration": 155,
    "start_time": "2024-02-15T10:02:17.230Z"
   },
   {
    "duration": 87,
    "start_time": "2024-02-15T10:03:05.508Z"
   },
   {
    "duration": 1363,
    "start_time": "2024-02-15T10:04:04.634Z"
   },
   {
    "duration": 1212,
    "start_time": "2024-02-15T10:04:15.729Z"
   },
   {
    "duration": 78,
    "start_time": "2024-02-15T10:04:47.966Z"
   },
   {
    "duration": 1234,
    "start_time": "2024-02-15T10:13:30.964Z"
   },
   {
    "duration": 9,
    "start_time": "2024-02-15T10:13:57.294Z"
   },
   {
    "duration": 2346,
    "start_time": "2024-02-15T10:14:07.084Z"
   },
   {
    "duration": 7,
    "start_time": "2024-02-15T10:14:09.433Z"
   },
   {
    "duration": 7,
    "start_time": "2024-02-15T10:14:09.441Z"
   },
   {
    "duration": 81,
    "start_time": "2024-02-15T10:14:09.451Z"
   },
   {
    "duration": 42,
    "start_time": "2024-02-15T10:14:09.534Z"
   },
   {
    "duration": 9,
    "start_time": "2024-02-15T10:14:09.577Z"
   },
   {
    "duration": 60,
    "start_time": "2024-02-15T10:14:09.587Z"
   },
   {
    "duration": 24,
    "start_time": "2024-02-15T10:14:09.649Z"
   },
   {
    "duration": 23,
    "start_time": "2024-02-15T10:14:09.674Z"
   },
   {
    "duration": 11,
    "start_time": "2024-02-15T10:14:09.733Z"
   },
   {
    "duration": 343,
    "start_time": "2024-02-15T10:14:09.745Z"
   },
   {
    "duration": 11,
    "start_time": "2024-02-15T10:14:10.090Z"
   },
   {
    "duration": 304,
    "start_time": "2024-02-15T10:14:10.103Z"
   },
   {
    "duration": 7,
    "start_time": "2024-02-15T10:14:10.409Z"
   },
   {
    "duration": 17,
    "start_time": "2024-02-15T10:14:10.417Z"
   },
   {
    "duration": 13,
    "start_time": "2024-02-15T10:14:10.436Z"
   },
   {
    "duration": 0,
    "start_time": "2024-02-15T10:14:10.451Z"
   },
   {
    "duration": 1,
    "start_time": "2024-02-15T10:14:10.452Z"
   },
   {
    "duration": 0,
    "start_time": "2024-02-15T10:14:10.454Z"
   },
   {
    "duration": 0,
    "start_time": "2024-02-15T10:14:10.455Z"
   },
   {
    "duration": 0,
    "start_time": "2024-02-15T10:14:10.457Z"
   },
   {
    "duration": 0,
    "start_time": "2024-02-15T10:14:10.458Z"
   },
   {
    "duration": 0,
    "start_time": "2024-02-15T10:14:10.460Z"
   },
   {
    "duration": 0,
    "start_time": "2024-02-15T10:14:10.461Z"
   },
   {
    "duration": 0,
    "start_time": "2024-02-15T10:14:10.462Z"
   },
   {
    "duration": 0,
    "start_time": "2024-02-15T10:14:10.464Z"
   },
   {
    "duration": 0,
    "start_time": "2024-02-15T10:14:10.466Z"
   },
   {
    "duration": 0,
    "start_time": "2024-02-15T10:14:10.467Z"
   },
   {
    "duration": 0,
    "start_time": "2024-02-15T10:14:10.469Z"
   },
   {
    "duration": 0,
    "start_time": "2024-02-15T10:14:10.470Z"
   },
   {
    "duration": 0,
    "start_time": "2024-02-15T10:14:10.471Z"
   },
   {
    "duration": 0,
    "start_time": "2024-02-15T10:14:10.473Z"
   },
   {
    "duration": 0,
    "start_time": "2024-02-15T10:14:10.474Z"
   },
   {
    "duration": 0,
    "start_time": "2024-02-15T10:14:10.475Z"
   },
   {
    "duration": 0,
    "start_time": "2024-02-15T10:14:10.477Z"
   },
   {
    "duration": 0,
    "start_time": "2024-02-15T10:14:10.478Z"
   },
   {
    "duration": 0,
    "start_time": "2024-02-15T10:14:10.479Z"
   },
   {
    "duration": 0,
    "start_time": "2024-02-15T10:14:10.480Z"
   },
   {
    "duration": 0,
    "start_time": "2024-02-15T10:14:10.481Z"
   },
   {
    "duration": 0,
    "start_time": "2024-02-15T10:14:10.534Z"
   },
   {
    "duration": 0,
    "start_time": "2024-02-15T10:14:10.535Z"
   },
   {
    "duration": 0,
    "start_time": "2024-02-15T10:14:10.537Z"
   },
   {
    "duration": 0,
    "start_time": "2024-02-15T10:14:10.538Z"
   },
   {
    "duration": 0,
    "start_time": "2024-02-15T10:14:10.540Z"
   },
   {
    "duration": 0,
    "start_time": "2024-02-15T10:14:10.541Z"
   },
   {
    "duration": 0,
    "start_time": "2024-02-15T10:14:10.542Z"
   },
   {
    "duration": 0,
    "start_time": "2024-02-15T10:14:10.543Z"
   },
   {
    "duration": 0,
    "start_time": "2024-02-15T10:14:10.545Z"
   },
   {
    "duration": 0,
    "start_time": "2024-02-15T10:14:10.546Z"
   },
   {
    "duration": 0,
    "start_time": "2024-02-15T10:14:10.548Z"
   },
   {
    "duration": 0,
    "start_time": "2024-02-15T10:14:10.549Z"
   },
   {
    "duration": 0,
    "start_time": "2024-02-15T10:14:10.551Z"
   },
   {
    "duration": 0,
    "start_time": "2024-02-15T10:14:10.552Z"
   },
   {
    "duration": 0,
    "start_time": "2024-02-15T10:14:10.553Z"
   },
   {
    "duration": 0,
    "start_time": "2024-02-15T10:14:10.554Z"
   },
   {
    "duration": 0,
    "start_time": "2024-02-15T10:14:10.555Z"
   },
   {
    "duration": 0,
    "start_time": "2024-02-15T10:14:10.556Z"
   },
   {
    "duration": 0,
    "start_time": "2024-02-15T10:14:10.557Z"
   },
   {
    "duration": 0,
    "start_time": "2024-02-15T10:14:10.557Z"
   },
   {
    "duration": 80,
    "start_time": "2024-02-15T10:14:47.972Z"
   },
   {
    "duration": 90,
    "start_time": "2024-02-15T10:15:01.953Z"
   },
   {
    "duration": 4,
    "start_time": "2024-02-15T10:23:37.927Z"
   },
   {
    "duration": 5,
    "start_time": "2024-02-15T10:23:37.933Z"
   },
   {
    "duration": 75,
    "start_time": "2024-02-15T10:23:37.939Z"
   },
   {
    "duration": 33,
    "start_time": "2024-02-15T10:23:38.015Z"
   },
   {
    "duration": 7,
    "start_time": "2024-02-15T10:23:38.050Z"
   },
   {
    "duration": 46,
    "start_time": "2024-02-15T10:23:38.059Z"
   },
   {
    "duration": 48,
    "start_time": "2024-02-15T10:23:38.106Z"
   },
   {
    "duration": 21,
    "start_time": "2024-02-15T10:23:38.156Z"
   },
   {
    "duration": 35,
    "start_time": "2024-02-15T10:23:38.178Z"
   },
   {
    "duration": 361,
    "start_time": "2024-02-15T10:23:38.215Z"
   },
   {
    "duration": 18,
    "start_time": "2024-02-15T10:23:38.579Z"
   },
   {
    "duration": 353,
    "start_time": "2024-02-15T10:23:38.599Z"
   },
   {
    "duration": 8,
    "start_time": "2024-02-15T10:23:38.954Z"
   },
   {
    "duration": 7,
    "start_time": "2024-02-15T10:23:38.965Z"
   },
   {
    "duration": 10,
    "start_time": "2024-02-15T10:23:38.974Z"
   },
   {
    "duration": 204,
    "start_time": "2024-02-15T10:23:38.985Z"
   },
   {
    "duration": 144,
    "start_time": "2024-02-15T10:23:39.190Z"
   },
   {
    "duration": 7,
    "start_time": "2024-02-15T10:23:39.336Z"
   },
   {
    "duration": 13,
    "start_time": "2024-02-15T10:23:39.345Z"
   },
   {
    "duration": 0,
    "start_time": "2024-02-15T10:23:39.361Z"
   },
   {
    "duration": 0,
    "start_time": "2024-02-15T10:23:39.363Z"
   },
   {
    "duration": 0,
    "start_time": "2024-02-15T10:23:39.364Z"
   },
   {
    "duration": 0,
    "start_time": "2024-02-15T10:23:39.365Z"
   },
   {
    "duration": 0,
    "start_time": "2024-02-15T10:23:39.366Z"
   },
   {
    "duration": 0,
    "start_time": "2024-02-15T10:23:39.367Z"
   },
   {
    "duration": 0,
    "start_time": "2024-02-15T10:23:39.369Z"
   },
   {
    "duration": 0,
    "start_time": "2024-02-15T10:23:39.370Z"
   },
   {
    "duration": 0,
    "start_time": "2024-02-15T10:23:39.371Z"
   },
   {
    "duration": 0,
    "start_time": "2024-02-15T10:23:39.372Z"
   },
   {
    "duration": 0,
    "start_time": "2024-02-15T10:23:39.373Z"
   },
   {
    "duration": 0,
    "start_time": "2024-02-15T10:23:39.374Z"
   },
   {
    "duration": 0,
    "start_time": "2024-02-15T10:23:39.375Z"
   },
   {
    "duration": 0,
    "start_time": "2024-02-15T10:23:39.376Z"
   },
   {
    "duration": 0,
    "start_time": "2024-02-15T10:23:39.376Z"
   },
   {
    "duration": 0,
    "start_time": "2024-02-15T10:23:39.377Z"
   },
   {
    "duration": 0,
    "start_time": "2024-02-15T10:23:39.378Z"
   },
   {
    "duration": 0,
    "start_time": "2024-02-15T10:23:39.379Z"
   },
   {
    "duration": 0,
    "start_time": "2024-02-15T10:23:39.379Z"
   },
   {
    "duration": 0,
    "start_time": "2024-02-15T10:23:39.380Z"
   },
   {
    "duration": 0,
    "start_time": "2024-02-15T10:23:39.381Z"
   },
   {
    "duration": 0,
    "start_time": "2024-02-15T10:23:39.381Z"
   },
   {
    "duration": 0,
    "start_time": "2024-02-15T10:23:39.382Z"
   },
   {
    "duration": 0,
    "start_time": "2024-02-15T10:23:39.382Z"
   },
   {
    "duration": 0,
    "start_time": "2024-02-15T10:23:39.383Z"
   },
   {
    "duration": 0,
    "start_time": "2024-02-15T10:23:39.384Z"
   },
   {
    "duration": 0,
    "start_time": "2024-02-15T10:23:39.384Z"
   },
   {
    "duration": 0,
    "start_time": "2024-02-15T10:23:39.385Z"
   },
   {
    "duration": 0,
    "start_time": "2024-02-15T10:23:39.386Z"
   },
   {
    "duration": 0,
    "start_time": "2024-02-15T10:23:39.386Z"
   },
   {
    "duration": 0,
    "start_time": "2024-02-15T10:23:39.387Z"
   },
   {
    "duration": 0,
    "start_time": "2024-02-15T10:23:39.387Z"
   },
   {
    "duration": 0,
    "start_time": "2024-02-15T10:23:39.388Z"
   },
   {
    "duration": 0,
    "start_time": "2024-02-15T10:23:39.390Z"
   },
   {
    "duration": 0,
    "start_time": "2024-02-15T10:23:39.391Z"
   },
   {
    "duration": 0,
    "start_time": "2024-02-15T10:23:39.435Z"
   },
   {
    "duration": 7,
    "start_time": "2024-02-15T10:23:57.259Z"
   },
   {
    "duration": 7,
    "start_time": "2024-02-15T10:23:58.636Z"
   },
   {
    "duration": 10,
    "start_time": "2024-02-15T10:24:26.580Z"
   },
   {
    "duration": 4,
    "start_time": "2024-02-15T10:24:35.323Z"
   },
   {
    "duration": 3,
    "start_time": "2024-02-15T10:24:35.333Z"
   },
   {
    "duration": 73,
    "start_time": "2024-02-15T10:24:35.337Z"
   },
   {
    "duration": 29,
    "start_time": "2024-02-15T10:24:35.412Z"
   },
   {
    "duration": 7,
    "start_time": "2024-02-15T10:24:35.443Z"
   },
   {
    "duration": 38,
    "start_time": "2024-02-15T10:24:35.452Z"
   },
   {
    "duration": 48,
    "start_time": "2024-02-15T10:24:35.492Z"
   },
   {
    "duration": 19,
    "start_time": "2024-02-15T10:24:35.541Z"
   },
   {
    "duration": 23,
    "start_time": "2024-02-15T10:24:35.561Z"
   },
   {
    "duration": 389,
    "start_time": "2024-02-15T10:24:35.586Z"
   },
   {
    "duration": 12,
    "start_time": "2024-02-15T10:24:35.977Z"
   },
   {
    "duration": 308,
    "start_time": "2024-02-15T10:24:35.992Z"
   },
   {
    "duration": 8,
    "start_time": "2024-02-15T10:24:36.303Z"
   },
   {
    "duration": 22,
    "start_time": "2024-02-15T10:24:36.312Z"
   },
   {
    "duration": 13,
    "start_time": "2024-02-15T10:24:36.336Z"
   },
   {
    "duration": 278,
    "start_time": "2024-02-15T10:24:36.351Z"
   },
   {
    "duration": 124,
    "start_time": "2024-02-15T10:24:36.630Z"
   },
   {
    "duration": 6,
    "start_time": "2024-02-15T10:24:36.756Z"
   },
   {
    "duration": 10,
    "start_time": "2024-02-15T10:24:36.764Z"
   },
   {
    "duration": 9,
    "start_time": "2024-02-15T10:24:36.775Z"
   },
   {
    "duration": 0,
    "start_time": "2024-02-15T10:24:36.786Z"
   },
   {
    "duration": 0,
    "start_time": "2024-02-15T10:24:36.787Z"
   },
   {
    "duration": 0,
    "start_time": "2024-02-15T10:24:36.788Z"
   },
   {
    "duration": 0,
    "start_time": "2024-02-15T10:24:36.789Z"
   },
   {
    "duration": 0,
    "start_time": "2024-02-15T10:24:36.790Z"
   },
   {
    "duration": 0,
    "start_time": "2024-02-15T10:24:36.790Z"
   },
   {
    "duration": 0,
    "start_time": "2024-02-15T10:24:36.833Z"
   },
   {
    "duration": 0,
    "start_time": "2024-02-15T10:24:36.834Z"
   },
   {
    "duration": 0,
    "start_time": "2024-02-15T10:24:36.835Z"
   },
   {
    "duration": 0,
    "start_time": "2024-02-15T10:24:36.836Z"
   },
   {
    "duration": 0,
    "start_time": "2024-02-15T10:24:36.837Z"
   },
   {
    "duration": 0,
    "start_time": "2024-02-15T10:24:36.838Z"
   },
   {
    "duration": 0,
    "start_time": "2024-02-15T10:24:36.839Z"
   },
   {
    "duration": 0,
    "start_time": "2024-02-15T10:24:36.840Z"
   },
   {
    "duration": 0,
    "start_time": "2024-02-15T10:24:36.841Z"
   },
   {
    "duration": 0,
    "start_time": "2024-02-15T10:24:36.842Z"
   },
   {
    "duration": 0,
    "start_time": "2024-02-15T10:24:36.843Z"
   },
   {
    "duration": 0,
    "start_time": "2024-02-15T10:24:36.844Z"
   },
   {
    "duration": 0,
    "start_time": "2024-02-15T10:24:36.845Z"
   },
   {
    "duration": 0,
    "start_time": "2024-02-15T10:24:36.846Z"
   },
   {
    "duration": 0,
    "start_time": "2024-02-15T10:24:36.847Z"
   },
   {
    "duration": 0,
    "start_time": "2024-02-15T10:24:36.848Z"
   },
   {
    "duration": 0,
    "start_time": "2024-02-15T10:24:36.849Z"
   },
   {
    "duration": 0,
    "start_time": "2024-02-15T10:24:36.850Z"
   },
   {
    "duration": 0,
    "start_time": "2024-02-15T10:24:36.851Z"
   },
   {
    "duration": 0,
    "start_time": "2024-02-15T10:24:36.851Z"
   },
   {
    "duration": 0,
    "start_time": "2024-02-15T10:24:36.853Z"
   },
   {
    "duration": 0,
    "start_time": "2024-02-15T10:24:36.854Z"
   },
   {
    "duration": 0,
    "start_time": "2024-02-15T10:24:36.854Z"
   },
   {
    "duration": 0,
    "start_time": "2024-02-15T10:24:36.855Z"
   },
   {
    "duration": 0,
    "start_time": "2024-02-15T10:24:36.856Z"
   },
   {
    "duration": 0,
    "start_time": "2024-02-15T10:24:36.857Z"
   },
   {
    "duration": 0,
    "start_time": "2024-02-15T10:24:36.858Z"
   },
   {
    "duration": 0,
    "start_time": "2024-02-15T10:24:36.859Z"
   },
   {
    "duration": 0,
    "start_time": "2024-02-15T10:24:36.860Z"
   },
   {
    "duration": 47,
    "start_time": "2024-02-15T14:01:03.826Z"
   },
   {
    "duration": 1342,
    "start_time": "2024-02-15T14:06:32.545Z"
   },
   {
    "duration": 4,
    "start_time": "2024-02-15T14:06:33.889Z"
   },
   {
    "duration": 196,
    "start_time": "2024-02-15T14:06:33.894Z"
   },
   {
    "duration": 37,
    "start_time": "2024-02-15T14:06:34.092Z"
   },
   {
    "duration": 9,
    "start_time": "2024-02-15T14:06:34.130Z"
   },
   {
    "duration": 30,
    "start_time": "2024-02-15T14:06:34.141Z"
   },
   {
    "duration": 57,
    "start_time": "2024-02-15T14:06:34.173Z"
   },
   {
    "duration": 19,
    "start_time": "2024-02-15T14:06:34.231Z"
   },
   {
    "duration": 12,
    "start_time": "2024-02-15T14:06:34.251Z"
   },
   {
    "duration": 365,
    "start_time": "2024-02-15T14:06:34.266Z"
   },
   {
    "duration": 11,
    "start_time": "2024-02-15T14:06:34.633Z"
   },
   {
    "duration": 314,
    "start_time": "2024-02-15T14:06:34.645Z"
   },
   {
    "duration": 8,
    "start_time": "2024-02-15T14:06:34.961Z"
   },
   {
    "duration": 9,
    "start_time": "2024-02-15T14:06:34.970Z"
   },
   {
    "duration": 12,
    "start_time": "2024-02-15T14:06:34.981Z"
   },
   {
    "duration": 180,
    "start_time": "2024-02-15T14:06:34.994Z"
   },
   {
    "duration": 136,
    "start_time": "2024-02-15T14:06:35.176Z"
   },
   {
    "duration": 8,
    "start_time": "2024-02-15T14:06:35.314Z"
   },
   {
    "duration": 11,
    "start_time": "2024-02-15T14:06:35.324Z"
   },
   {
    "duration": 75,
    "start_time": "2024-02-15T14:06:35.336Z"
   },
   {
    "duration": 0,
    "start_time": "2024-02-15T14:06:35.413Z"
   },
   {
    "duration": 1,
    "start_time": "2024-02-15T14:06:35.414Z"
   },
   {
    "duration": 0,
    "start_time": "2024-02-15T14:06:35.416Z"
   },
   {
    "duration": 0,
    "start_time": "2024-02-15T14:06:35.417Z"
   },
   {
    "duration": 0,
    "start_time": "2024-02-15T14:06:35.420Z"
   },
   {
    "duration": 0,
    "start_time": "2024-02-15T14:06:35.421Z"
   },
   {
    "duration": 0,
    "start_time": "2024-02-15T14:06:35.422Z"
   },
   {
    "duration": 0,
    "start_time": "2024-02-15T14:06:35.423Z"
   },
   {
    "duration": 0,
    "start_time": "2024-02-15T14:06:35.424Z"
   },
   {
    "duration": 0,
    "start_time": "2024-02-15T14:06:35.425Z"
   },
   {
    "duration": 0,
    "start_time": "2024-02-15T14:06:35.427Z"
   },
   {
    "duration": 0,
    "start_time": "2024-02-15T14:06:35.428Z"
   },
   {
    "duration": 0,
    "start_time": "2024-02-15T14:06:35.429Z"
   },
   {
    "duration": 0,
    "start_time": "2024-02-15T14:06:35.430Z"
   },
   {
    "duration": 0,
    "start_time": "2024-02-15T14:06:35.431Z"
   },
   {
    "duration": 0,
    "start_time": "2024-02-15T14:06:35.432Z"
   },
   {
    "duration": 0,
    "start_time": "2024-02-15T14:06:35.433Z"
   },
   {
    "duration": 0,
    "start_time": "2024-02-15T14:06:35.434Z"
   },
   {
    "duration": 0,
    "start_time": "2024-02-15T14:06:35.435Z"
   },
   {
    "duration": 0,
    "start_time": "2024-02-15T14:06:35.436Z"
   },
   {
    "duration": 0,
    "start_time": "2024-02-15T14:06:35.437Z"
   },
   {
    "duration": 0,
    "start_time": "2024-02-15T14:06:35.438Z"
   },
   {
    "duration": 0,
    "start_time": "2024-02-15T14:06:35.439Z"
   },
   {
    "duration": 0,
    "start_time": "2024-02-15T14:06:35.440Z"
   },
   {
    "duration": 0,
    "start_time": "2024-02-15T14:06:35.441Z"
   },
   {
    "duration": 0,
    "start_time": "2024-02-15T14:06:35.442Z"
   },
   {
    "duration": 0,
    "start_time": "2024-02-15T14:06:35.443Z"
   },
   {
    "duration": 0,
    "start_time": "2024-02-15T14:06:35.444Z"
   },
   {
    "duration": 0,
    "start_time": "2024-02-15T14:06:35.445Z"
   },
   {
    "duration": 0,
    "start_time": "2024-02-15T14:06:35.447Z"
   },
   {
    "duration": 0,
    "start_time": "2024-02-15T14:06:35.448Z"
   },
   {
    "duration": 0,
    "start_time": "2024-02-15T14:06:35.449Z"
   },
   {
    "duration": 0,
    "start_time": "2024-02-15T14:06:35.450Z"
   },
   {
    "duration": 0,
    "start_time": "2024-02-15T14:06:35.451Z"
   },
   {
    "duration": 0,
    "start_time": "2024-02-15T14:06:35.452Z"
   },
   {
    "duration": 14,
    "start_time": "2024-02-15T14:07:31.042Z"
   },
   {
    "duration": 346,
    "start_time": "2024-02-15T14:07:45.331Z"
   },
   {
    "duration": 272,
    "start_time": "2024-02-15T14:07:50.992Z"
   },
   {
    "duration": 452,
    "start_time": "2024-02-15T14:07:55.870Z"
   },
   {
    "duration": 3,
    "start_time": "2024-02-15T14:08:00.938Z"
   },
   {
    "duration": 4,
    "start_time": "2024-02-15T14:08:05.312Z"
   },
   {
    "duration": 9,
    "start_time": "2024-02-15T14:08:14.004Z"
   },
   {
    "duration": 9,
    "start_time": "2024-02-15T14:08:27.983Z"
   },
   {
    "duration": 305,
    "start_time": "2024-02-15T14:08:49.039Z"
   },
   {
    "duration": 13,
    "start_time": "2024-02-15T14:09:40.015Z"
   },
   {
    "duration": 461,
    "start_time": "2024-02-15T14:11:20.180Z"
   },
   {
    "duration": 11,
    "start_time": "2024-02-15T14:11:34.965Z"
   },
   {
    "duration": 161,
    "start_time": "2024-02-15T14:11:38.525Z"
   },
   {
    "duration": 4,
    "start_time": "2024-02-15T14:12:07.205Z"
   },
   {
    "duration": 193,
    "start_time": "2024-02-15T14:15:04.894Z"
   },
   {
    "duration": 10,
    "start_time": "2024-02-15T14:17:53.927Z"
   },
   {
    "duration": 9,
    "start_time": "2024-02-15T14:19:07.372Z"
   },
   {
    "duration": 3,
    "start_time": "2024-02-15T14:27:12.572Z"
   },
   {
    "duration": 9,
    "start_time": "2024-02-15T14:27:12.579Z"
   },
   {
    "duration": 78,
    "start_time": "2024-02-15T14:27:12.589Z"
   },
   {
    "duration": 31,
    "start_time": "2024-02-15T14:27:12.669Z"
   },
   {
    "duration": 8,
    "start_time": "2024-02-15T14:27:12.702Z"
   },
   {
    "duration": 30,
    "start_time": "2024-02-15T14:27:12.712Z"
   },
   {
    "duration": 27,
    "start_time": "2024-02-15T14:27:12.743Z"
   },
   {
    "duration": 20,
    "start_time": "2024-02-15T14:27:12.771Z"
   },
   {
    "duration": 12,
    "start_time": "2024-02-15T14:27:12.820Z"
   },
   {
    "duration": 357,
    "start_time": "2024-02-15T14:27:12.833Z"
   },
   {
    "duration": 12,
    "start_time": "2024-02-15T14:27:13.191Z"
   },
   {
    "duration": 338,
    "start_time": "2024-02-15T14:27:13.205Z"
   },
   {
    "duration": 10,
    "start_time": "2024-02-15T14:27:13.545Z"
   },
   {
    "duration": 19,
    "start_time": "2024-02-15T14:27:13.556Z"
   },
   {
    "duration": 48,
    "start_time": "2024-02-15T14:27:13.577Z"
   },
   {
    "duration": 190,
    "start_time": "2024-02-15T14:27:13.627Z"
   },
   {
    "duration": 121,
    "start_time": "2024-02-15T14:27:13.819Z"
   },
   {
    "duration": 6,
    "start_time": "2024-02-15T14:27:13.942Z"
   },
   {
    "duration": 13,
    "start_time": "2024-02-15T14:27:13.949Z"
   },
   {
    "duration": 19,
    "start_time": "2024-02-15T14:27:13.964Z"
   },
   {
    "duration": 286,
    "start_time": "2024-02-15T14:27:13.984Z"
   },
   {
    "duration": 274,
    "start_time": "2024-02-15T14:27:14.271Z"
   },
   {
    "duration": 378,
    "start_time": "2024-02-15T14:27:14.547Z"
   },
   {
    "duration": 4,
    "start_time": "2024-02-15T14:27:14.927Z"
   },
   {
    "duration": 20,
    "start_time": "2024-02-15T14:27:14.932Z"
   },
   {
    "duration": 16,
    "start_time": "2024-02-15T14:27:14.953Z"
   },
   {
    "duration": 286,
    "start_time": "2024-02-15T14:27:14.970Z"
   },
   {
    "duration": 12,
    "start_time": "2024-02-15T14:27:15.258Z"
   },
   {
    "duration": 382,
    "start_time": "2024-02-15T14:27:15.271Z"
   },
   {
    "duration": 108,
    "start_time": "2024-02-15T14:27:15.658Z"
   },
   {
    "duration": 0,
    "start_time": "2024-02-15T14:27:15.767Z"
   },
   {
    "duration": 0,
    "start_time": "2024-02-15T14:27:15.768Z"
   },
   {
    "duration": 0,
    "start_time": "2024-02-15T14:27:15.769Z"
   },
   {
    "duration": 0,
    "start_time": "2024-02-15T14:27:15.770Z"
   },
   {
    "duration": 0,
    "start_time": "2024-02-15T14:27:15.771Z"
   },
   {
    "duration": 0,
    "start_time": "2024-02-15T14:27:15.772Z"
   },
   {
    "duration": 0,
    "start_time": "2024-02-15T14:27:15.773Z"
   },
   {
    "duration": 0,
    "start_time": "2024-02-15T14:27:15.774Z"
   },
   {
    "duration": 0,
    "start_time": "2024-02-15T14:27:15.775Z"
   },
   {
    "duration": 0,
    "start_time": "2024-02-15T14:27:15.776Z"
   },
   {
    "duration": 0,
    "start_time": "2024-02-15T14:27:15.777Z"
   },
   {
    "duration": 0,
    "start_time": "2024-02-15T14:27:15.778Z"
   },
   {
    "duration": 0,
    "start_time": "2024-02-15T14:27:15.779Z"
   },
   {
    "duration": 0,
    "start_time": "2024-02-15T14:27:15.780Z"
   },
   {
    "duration": 0,
    "start_time": "2024-02-15T14:27:15.781Z"
   },
   {
    "duration": 0,
    "start_time": "2024-02-15T14:27:15.782Z"
   },
   {
    "duration": 0,
    "start_time": "2024-02-15T14:27:15.783Z"
   },
   {
    "duration": 0,
    "start_time": "2024-02-15T14:27:15.783Z"
   },
   {
    "duration": 0,
    "start_time": "2024-02-15T14:27:15.784Z"
   },
   {
    "duration": 0,
    "start_time": "2024-02-15T14:27:15.785Z"
   },
   {
    "duration": 0,
    "start_time": "2024-02-15T14:27:15.786Z"
   },
   {
    "duration": 0,
    "start_time": "2024-02-15T14:27:15.787Z"
   },
   {
    "duration": 0,
    "start_time": "2024-02-15T14:27:15.788Z"
   },
   {
    "duration": 0,
    "start_time": "2024-02-15T14:27:15.789Z"
   },
   {
    "duration": 0,
    "start_time": "2024-02-15T14:27:15.790Z"
   },
   {
    "duration": 4,
    "start_time": "2024-02-15T14:27:49.975Z"
   },
   {
    "duration": 11,
    "start_time": "2024-02-15T14:27:49.983Z"
   },
   {
    "duration": 88,
    "start_time": "2024-02-15T14:27:49.995Z"
   },
   {
    "duration": 30,
    "start_time": "2024-02-15T14:27:50.085Z"
   },
   {
    "duration": 7,
    "start_time": "2024-02-15T14:27:50.117Z"
   },
   {
    "duration": 46,
    "start_time": "2024-02-15T14:27:50.126Z"
   },
   {
    "duration": 24,
    "start_time": "2024-02-15T14:27:50.173Z"
   },
   {
    "duration": 37,
    "start_time": "2024-02-15T14:27:50.198Z"
   },
   {
    "duration": 20,
    "start_time": "2024-02-15T14:27:50.237Z"
   },
   {
    "duration": 371,
    "start_time": "2024-02-15T14:27:50.259Z"
   },
   {
    "duration": 13,
    "start_time": "2024-02-15T14:27:50.632Z"
   },
   {
    "duration": 468,
    "start_time": "2024-02-15T14:27:50.648Z"
   },
   {
    "duration": 7,
    "start_time": "2024-02-15T14:27:51.120Z"
   },
   {
    "duration": 14,
    "start_time": "2024-02-15T14:27:51.128Z"
   },
   {
    "duration": 26,
    "start_time": "2024-02-15T14:27:51.143Z"
   },
   {
    "duration": 174,
    "start_time": "2024-02-15T14:27:51.171Z"
   },
   {
    "duration": 207,
    "start_time": "2024-02-15T14:27:51.347Z"
   },
   {
    "duration": 6,
    "start_time": "2024-02-15T14:27:51.556Z"
   },
   {
    "duration": 11,
    "start_time": "2024-02-15T14:27:51.563Z"
   },
   {
    "duration": 36,
    "start_time": "2024-02-15T14:27:51.575Z"
   },
   {
    "duration": 359,
    "start_time": "2024-02-15T14:27:51.612Z"
   },
   {
    "duration": 295,
    "start_time": "2024-02-15T14:27:51.973Z"
   },
   {
    "duration": 382,
    "start_time": "2024-02-15T14:27:52.270Z"
   },
   {
    "duration": 3,
    "start_time": "2024-02-15T14:27:52.654Z"
   },
   {
    "duration": 19,
    "start_time": "2024-02-15T14:27:52.659Z"
   },
   {
    "duration": 16,
    "start_time": "2024-02-15T14:27:52.680Z"
   },
   {
    "duration": 329,
    "start_time": "2024-02-15T14:27:52.698Z"
   },
   {
    "duration": 13,
    "start_time": "2024-02-15T14:27:53.029Z"
   },
   {
    "duration": 393,
    "start_time": "2024-02-15T14:27:53.043Z"
   },
   {
    "duration": 11,
    "start_time": "2024-02-15T14:27:53.439Z"
   },
   {
    "duration": 171,
    "start_time": "2024-02-15T14:27:53.451Z"
   },
   {
    "duration": 10,
    "start_time": "2024-02-15T14:27:53.623Z"
   },
   {
    "duration": 209,
    "start_time": "2024-02-15T14:27:53.634Z"
   },
   {
    "duration": 11,
    "start_time": "2024-02-15T14:27:53.844Z"
   },
   {
    "duration": 8,
    "start_time": "2024-02-15T14:27:53.856Z"
   },
   {
    "duration": 64,
    "start_time": "2024-02-15T14:27:53.865Z"
   },
   {
    "duration": 8,
    "start_time": "2024-02-15T14:27:53.931Z"
   },
   {
    "duration": 60,
    "start_time": "2024-02-15T14:27:53.940Z"
   },
   {
    "duration": 39,
    "start_time": "2024-02-15T14:27:54.001Z"
   },
   {
    "duration": 52,
    "start_time": "2024-02-15T14:27:54.042Z"
   },
   {
    "duration": 28,
    "start_time": "2024-02-15T14:27:54.096Z"
   },
   {
    "duration": 53,
    "start_time": "2024-02-15T14:27:54.126Z"
   },
   {
    "duration": 47,
    "start_time": "2024-02-15T14:27:54.181Z"
   },
   {
    "duration": 67,
    "start_time": "2024-02-15T14:27:54.230Z"
   },
   {
    "duration": 99,
    "start_time": "2024-02-15T14:27:54.298Z"
   },
   {
    "duration": 1163,
    "start_time": "2024-02-15T14:27:54.399Z"
   },
   {
    "duration": 0,
    "start_time": "2024-02-15T14:27:55.564Z"
   },
   {
    "duration": 0,
    "start_time": "2024-02-15T14:27:55.566Z"
   },
   {
    "duration": 0,
    "start_time": "2024-02-15T14:27:55.568Z"
   },
   {
    "duration": 0,
    "start_time": "2024-02-15T14:27:55.569Z"
   },
   {
    "duration": 0,
    "start_time": "2024-02-15T14:27:55.570Z"
   },
   {
    "duration": 0,
    "start_time": "2024-02-15T14:27:55.572Z"
   },
   {
    "duration": 0,
    "start_time": "2024-02-15T14:27:55.573Z"
   },
   {
    "duration": 0,
    "start_time": "2024-02-15T14:27:55.574Z"
   },
   {
    "duration": 6,
    "start_time": "2024-02-15T14:30:18.055Z"
   },
   {
    "duration": 1206,
    "start_time": "2024-02-15T14:30:24.782Z"
   },
   {
    "duration": 25,
    "start_time": "2024-02-15T14:30:56.504Z"
   },
   {
    "duration": 10,
    "start_time": "2024-02-15T14:31:34.210Z"
   },
   {
    "duration": 1171,
    "start_time": "2024-02-15T14:31:50.030Z"
   },
   {
    "duration": 1170,
    "start_time": "2024-02-15T14:32:19.938Z"
   },
   {
    "duration": 13,
    "start_time": "2024-02-15T14:32:47.750Z"
   },
   {
    "duration": 8,
    "start_time": "2024-02-15T14:33:07.807Z"
   },
   {
    "duration": 9,
    "start_time": "2024-02-15T14:33:19.517Z"
   },
   {
    "duration": 1090,
    "start_time": "2024-02-15T14:34:00.704Z"
   },
   {
    "duration": 8,
    "start_time": "2024-02-15T14:34:25.640Z"
   },
   {
    "duration": 5,
    "start_time": "2024-02-15T14:34:31.096Z"
   },
   {
    "duration": 1151,
    "start_time": "2024-02-15T14:34:41.612Z"
   },
   {
    "duration": 5,
    "start_time": "2024-02-15T14:34:52.035Z"
   },
   {
    "duration": 25,
    "start_time": "2024-02-15T14:34:56.365Z"
   },
   {
    "duration": 14,
    "start_time": "2024-02-15T14:36:36.042Z"
   },
   {
    "duration": 4,
    "start_time": "2024-02-15T14:57:10.509Z"
   },
   {
    "duration": 12,
    "start_time": "2024-02-15T14:57:10.517Z"
   },
   {
    "duration": 87,
    "start_time": "2024-02-15T14:57:10.530Z"
   },
   {
    "duration": 31,
    "start_time": "2024-02-15T14:57:10.619Z"
   },
   {
    "duration": 8,
    "start_time": "2024-02-15T14:57:10.651Z"
   },
   {
    "duration": 61,
    "start_time": "2024-02-15T14:57:10.660Z"
   },
   {
    "duration": 23,
    "start_time": "2024-02-15T14:57:10.722Z"
   },
   {
    "duration": 19,
    "start_time": "2024-02-15T14:57:10.747Z"
   },
   {
    "duration": 12,
    "start_time": "2024-02-15T14:57:10.768Z"
   },
   {
    "duration": 390,
    "start_time": "2024-02-15T14:57:10.782Z"
   },
   {
    "duration": 12,
    "start_time": "2024-02-15T14:57:11.173Z"
   },
   {
    "duration": 339,
    "start_time": "2024-02-15T14:57:11.188Z"
   },
   {
    "duration": 9,
    "start_time": "2024-02-15T14:57:11.529Z"
   },
   {
    "duration": 9,
    "start_time": "2024-02-15T14:57:11.540Z"
   },
   {
    "duration": 10,
    "start_time": "2024-02-15T14:57:11.550Z"
   },
   {
    "duration": 275,
    "start_time": "2024-02-15T14:57:11.561Z"
   },
   {
    "duration": 130,
    "start_time": "2024-02-15T14:57:11.838Z"
   },
   {
    "duration": 6,
    "start_time": "2024-02-15T14:57:11.969Z"
   },
   {
    "duration": 17,
    "start_time": "2024-02-15T14:57:11.977Z"
   },
   {
    "duration": 24,
    "start_time": "2024-02-15T14:57:11.995Z"
   },
   {
    "duration": 299,
    "start_time": "2024-02-15T14:57:12.021Z"
   },
   {
    "duration": 299,
    "start_time": "2024-02-15T14:57:12.322Z"
   },
   {
    "duration": 382,
    "start_time": "2024-02-15T14:57:12.623Z"
   },
   {
    "duration": 4,
    "start_time": "2024-02-15T14:57:13.006Z"
   },
   {
    "duration": 12,
    "start_time": "2024-02-15T14:57:13.011Z"
   },
   {
    "duration": 10,
    "start_time": "2024-02-15T14:57:13.024Z"
   },
   {
    "duration": 300,
    "start_time": "2024-02-15T14:57:13.035Z"
   },
   {
    "duration": 13,
    "start_time": "2024-02-15T14:57:13.337Z"
   },
   {
    "duration": 382,
    "start_time": "2024-02-15T14:57:13.351Z"
   },
   {
    "duration": 16,
    "start_time": "2024-02-15T14:57:13.738Z"
   },
   {
    "duration": 186,
    "start_time": "2024-02-15T14:57:13.756Z"
   },
   {
    "duration": 10,
    "start_time": "2024-02-15T14:57:13.943Z"
   },
   {
    "duration": 211,
    "start_time": "2024-02-15T14:57:13.954Z"
   },
   {
    "duration": 11,
    "start_time": "2024-02-15T14:57:14.166Z"
   },
   {
    "duration": 10,
    "start_time": "2024-02-15T14:57:14.179Z"
   },
   {
    "duration": 62,
    "start_time": "2024-02-15T14:57:14.191Z"
   },
   {
    "duration": 10,
    "start_time": "2024-02-15T14:57:14.254Z"
   },
   {
    "duration": 60,
    "start_time": "2024-02-15T14:57:14.265Z"
   },
   {
    "duration": 19,
    "start_time": "2024-02-15T14:57:14.326Z"
   },
   {
    "duration": 53,
    "start_time": "2024-02-15T14:57:14.348Z"
   },
   {
    "duration": 32,
    "start_time": "2024-02-15T14:57:14.403Z"
   },
   {
    "duration": 52,
    "start_time": "2024-02-15T14:57:14.437Z"
   },
   {
    "duration": 41,
    "start_time": "2024-02-15T14:57:14.491Z"
   },
   {
    "duration": 67,
    "start_time": "2024-02-15T14:57:14.534Z"
   },
   {
    "duration": 109,
    "start_time": "2024-02-15T14:57:14.620Z"
   },
   {
    "duration": 6,
    "start_time": "2024-02-15T14:57:14.731Z"
   },
   {
    "duration": 29,
    "start_time": "2024-02-15T14:57:14.738Z"
   },
   {
    "duration": 10,
    "start_time": "2024-02-15T14:57:14.769Z"
   },
   {
    "duration": 9,
    "start_time": "2024-02-15T14:57:14.780Z"
   },
   {
    "duration": 31,
    "start_time": "2024-02-15T14:57:14.790Z"
   },
   {
    "duration": 13,
    "start_time": "2024-02-15T14:57:14.822Z"
   },
   {
    "duration": 31,
    "start_time": "2024-02-15T14:57:14.836Z"
   },
   {
    "duration": 12,
    "start_time": "2024-02-15T14:57:14.869Z"
   },
   {
    "duration": 9,
    "start_time": "2024-02-15T14:59:46.600Z"
   },
   {
    "duration": 8,
    "start_time": "2024-02-15T15:00:29.541Z"
   },
   {
    "duration": 6,
    "start_time": "2024-02-15T15:00:48.183Z"
   },
   {
    "duration": 10,
    "start_time": "2024-02-15T15:01:00.129Z"
   },
   {
    "duration": 7,
    "start_time": "2024-02-15T15:01:24.741Z"
   },
   {
    "duration": 13,
    "start_time": "2024-02-15T15:01:33.945Z"
   },
   {
    "duration": 13,
    "start_time": "2024-02-15T15:01:46.774Z"
   },
   {
    "duration": 74,
    "start_time": "2024-02-15T15:01:54.391Z"
   },
   {
    "duration": 7,
    "start_time": "2024-02-15T15:01:59.484Z"
   },
   {
    "duration": 12,
    "start_time": "2024-02-15T15:02:22.271Z"
   },
   {
    "duration": 14,
    "start_time": "2024-02-15T15:03:37.250Z"
   },
   {
    "duration": 7,
    "start_time": "2024-02-15T15:05:02.571Z"
   },
   {
    "duration": 9,
    "start_time": "2024-02-15T15:05:21.067Z"
   },
   {
    "duration": 8,
    "start_time": "2024-02-15T15:05:57.635Z"
   },
   {
    "duration": 12,
    "start_time": "2024-02-15T15:06:16.708Z"
   },
   {
    "duration": 8,
    "start_time": "2024-02-15T15:06:56.883Z"
   },
   {
    "duration": 10,
    "start_time": "2024-02-15T15:07:31.355Z"
   },
   {
    "duration": 9,
    "start_time": "2024-02-15T15:07:53.224Z"
   },
   {
    "duration": 10,
    "start_time": "2024-02-15T15:09:14.965Z"
   },
   {
    "duration": 10,
    "start_time": "2024-02-15T15:10:19.000Z"
   },
   {
    "duration": 10,
    "start_time": "2024-02-15T15:13:18.215Z"
   },
   {
    "duration": 9,
    "start_time": "2024-02-15T15:13:29.498Z"
   },
   {
    "duration": 95,
    "start_time": "2024-02-15T15:13:42.045Z"
   },
   {
    "duration": 9,
    "start_time": "2024-02-15T15:13:54.926Z"
   },
   {
    "duration": 12,
    "start_time": "2024-02-15T15:15:17.747Z"
   },
   {
    "duration": 14,
    "start_time": "2024-02-15T15:16:04.558Z"
   },
   {
    "duration": 11,
    "start_time": "2024-02-15T15:16:28.614Z"
   },
   {
    "duration": 10,
    "start_time": "2024-02-15T15:17:07.795Z"
   },
   {
    "duration": 11,
    "start_time": "2024-02-15T15:17:23.519Z"
   },
   {
    "duration": 12,
    "start_time": "2024-02-15T15:17:37.622Z"
   },
   {
    "duration": 12,
    "start_time": "2024-02-15T15:17:53.175Z"
   },
   {
    "duration": 10,
    "start_time": "2024-02-15T15:19:33.899Z"
   },
   {
    "duration": 3,
    "start_time": "2024-02-15T15:19:50.270Z"
   },
   {
    "duration": 29,
    "start_time": "2024-02-15T15:19:50.275Z"
   },
   {
    "duration": 98,
    "start_time": "2024-02-15T15:19:50.305Z"
   },
   {
    "duration": 30,
    "start_time": "2024-02-15T15:19:50.404Z"
   },
   {
    "duration": 7,
    "start_time": "2024-02-15T15:19:50.436Z"
   },
   {
    "duration": 59,
    "start_time": "2024-02-15T15:19:50.445Z"
   },
   {
    "duration": 24,
    "start_time": "2024-02-15T15:19:50.506Z"
   },
   {
    "duration": 21,
    "start_time": "2024-02-15T15:19:50.531Z"
   },
   {
    "duration": 11,
    "start_time": "2024-02-15T15:19:50.553Z"
   },
   {
    "duration": 358,
    "start_time": "2024-02-15T15:19:50.566Z"
   },
   {
    "duration": 11,
    "start_time": "2024-02-15T15:19:50.926Z"
   },
   {
    "duration": 317,
    "start_time": "2024-02-15T15:19:50.939Z"
   },
   {
    "duration": 8,
    "start_time": "2024-02-15T15:19:51.258Z"
   },
   {
    "duration": 16,
    "start_time": "2024-02-15T15:19:51.269Z"
   },
   {
    "duration": 35,
    "start_time": "2024-02-15T15:19:51.286Z"
   },
   {
    "duration": 0,
    "start_time": "2024-02-15T15:19:51.323Z"
   },
   {
    "duration": 0,
    "start_time": "2024-02-15T15:19:51.324Z"
   },
   {
    "duration": 0,
    "start_time": "2024-02-15T15:19:51.325Z"
   },
   {
    "duration": 0,
    "start_time": "2024-02-15T15:19:51.327Z"
   },
   {
    "duration": 0,
    "start_time": "2024-02-15T15:19:51.328Z"
   },
   {
    "duration": 0,
    "start_time": "2024-02-15T15:19:51.329Z"
   },
   {
    "duration": 0,
    "start_time": "2024-02-15T15:19:51.329Z"
   },
   {
    "duration": 0,
    "start_time": "2024-02-15T15:19:51.330Z"
   },
   {
    "duration": 0,
    "start_time": "2024-02-15T15:19:51.331Z"
   },
   {
    "duration": 0,
    "start_time": "2024-02-15T15:19:51.332Z"
   },
   {
    "duration": 0,
    "start_time": "2024-02-15T15:19:51.333Z"
   },
   {
    "duration": 0,
    "start_time": "2024-02-15T15:19:51.334Z"
   },
   {
    "duration": 0,
    "start_time": "2024-02-15T15:19:51.335Z"
   },
   {
    "duration": 0,
    "start_time": "2024-02-15T15:19:51.336Z"
   },
   {
    "duration": 0,
    "start_time": "2024-02-15T15:19:51.337Z"
   },
   {
    "duration": 0,
    "start_time": "2024-02-15T15:19:51.338Z"
   },
   {
    "duration": 0,
    "start_time": "2024-02-15T15:19:51.339Z"
   },
   {
    "duration": 0,
    "start_time": "2024-02-15T15:19:51.340Z"
   },
   {
    "duration": 0,
    "start_time": "2024-02-15T15:19:51.341Z"
   },
   {
    "duration": 0,
    "start_time": "2024-02-15T15:19:51.342Z"
   },
   {
    "duration": 0,
    "start_time": "2024-02-15T15:19:51.343Z"
   },
   {
    "duration": 0,
    "start_time": "2024-02-15T15:19:51.344Z"
   },
   {
    "duration": 0,
    "start_time": "2024-02-15T15:19:51.345Z"
   },
   {
    "duration": 0,
    "start_time": "2024-02-15T15:19:51.346Z"
   },
   {
    "duration": 0,
    "start_time": "2024-02-15T15:19:51.347Z"
   },
   {
    "duration": 0,
    "start_time": "2024-02-15T15:19:51.348Z"
   },
   {
    "duration": 0,
    "start_time": "2024-02-15T15:19:51.349Z"
   },
   {
    "duration": 0,
    "start_time": "2024-02-15T15:19:51.349Z"
   },
   {
    "duration": 0,
    "start_time": "2024-02-15T15:19:51.350Z"
   },
   {
    "duration": 0,
    "start_time": "2024-02-15T15:19:51.351Z"
   },
   {
    "duration": 0,
    "start_time": "2024-02-15T15:19:51.352Z"
   },
   {
    "duration": 0,
    "start_time": "2024-02-15T15:19:51.353Z"
   },
   {
    "duration": 0,
    "start_time": "2024-02-15T15:19:51.354Z"
   },
   {
    "duration": 0,
    "start_time": "2024-02-15T15:19:51.355Z"
   },
   {
    "duration": 0,
    "start_time": "2024-02-15T15:19:51.357Z"
   },
   {
    "duration": 0,
    "start_time": "2024-02-15T15:19:51.357Z"
   },
   {
    "duration": 0,
    "start_time": "2024-02-15T15:19:51.358Z"
   },
   {
    "duration": 0,
    "start_time": "2024-02-15T15:19:51.360Z"
   },
   {
    "duration": 0,
    "start_time": "2024-02-15T15:19:51.361Z"
   },
   {
    "duration": 0,
    "start_time": "2024-02-15T15:19:51.362Z"
   },
   {
    "duration": 0,
    "start_time": "2024-02-15T15:19:51.420Z"
   },
   {
    "duration": 0,
    "start_time": "2024-02-15T15:19:51.422Z"
   },
   {
    "duration": 9,
    "start_time": "2024-02-15T15:20:22.835Z"
   },
   {
    "duration": 3,
    "start_time": "2024-02-15T15:20:39.151Z"
   },
   {
    "duration": 2,
    "start_time": "2024-02-15T15:20:39.159Z"
   },
   {
    "duration": 100,
    "start_time": "2024-02-15T15:20:39.164Z"
   },
   {
    "duration": 32,
    "start_time": "2024-02-15T15:20:39.266Z"
   },
   {
    "duration": 8,
    "start_time": "2024-02-15T15:20:39.300Z"
   },
   {
    "duration": 33,
    "start_time": "2024-02-15T15:20:39.310Z"
   },
   {
    "duration": 24,
    "start_time": "2024-02-15T15:20:39.345Z"
   },
   {
    "duration": 30,
    "start_time": "2024-02-15T15:20:39.546Z"
   },
   {
    "duration": 51,
    "start_time": "2024-02-15T15:20:39.579Z"
   },
   {
    "duration": 357,
    "start_time": "2024-02-15T15:20:39.632Z"
   },
   {
    "duration": 12,
    "start_time": "2024-02-15T15:20:39.991Z"
   },
   {
    "duration": 406,
    "start_time": "2024-02-15T15:20:40.005Z"
   },
   {
    "duration": 14,
    "start_time": "2024-02-15T15:20:40.412Z"
   },
   {
    "duration": 33,
    "start_time": "2024-02-15T15:20:40.428Z"
   },
   {
    "duration": 26,
    "start_time": "2024-02-15T15:20:40.462Z"
   },
   {
    "duration": 45,
    "start_time": "2024-02-15T15:20:40.490Z"
   },
   {
    "duration": 0,
    "start_time": "2024-02-15T15:20:40.538Z"
   },
   {
    "duration": 0,
    "start_time": "2024-02-15T15:20:40.539Z"
   },
   {
    "duration": 0,
    "start_time": "2024-02-15T15:20:40.540Z"
   },
   {
    "duration": 0,
    "start_time": "2024-02-15T15:20:40.541Z"
   },
   {
    "duration": 0,
    "start_time": "2024-02-15T15:20:40.542Z"
   },
   {
    "duration": 0,
    "start_time": "2024-02-15T15:20:40.543Z"
   },
   {
    "duration": 0,
    "start_time": "2024-02-15T15:20:40.544Z"
   },
   {
    "duration": 0,
    "start_time": "2024-02-15T15:20:40.544Z"
   },
   {
    "duration": 0,
    "start_time": "2024-02-15T15:20:40.545Z"
   },
   {
    "duration": 0,
    "start_time": "2024-02-15T15:20:40.547Z"
   },
   {
    "duration": 0,
    "start_time": "2024-02-15T15:20:40.547Z"
   },
   {
    "duration": 0,
    "start_time": "2024-02-15T15:20:40.548Z"
   },
   {
    "duration": 0,
    "start_time": "2024-02-15T15:20:40.549Z"
   },
   {
    "duration": 0,
    "start_time": "2024-02-15T15:20:40.550Z"
   },
   {
    "duration": 0,
    "start_time": "2024-02-15T15:20:40.551Z"
   },
   {
    "duration": 0,
    "start_time": "2024-02-15T15:20:40.552Z"
   },
   {
    "duration": 0,
    "start_time": "2024-02-15T15:20:40.553Z"
   },
   {
    "duration": 0,
    "start_time": "2024-02-15T15:20:40.554Z"
   },
   {
    "duration": 0,
    "start_time": "2024-02-15T15:20:40.555Z"
   },
   {
    "duration": 0,
    "start_time": "2024-02-15T15:20:40.556Z"
   },
   {
    "duration": 0,
    "start_time": "2024-02-15T15:20:40.557Z"
   },
   {
    "duration": 0,
    "start_time": "2024-02-15T15:20:40.557Z"
   },
   {
    "duration": 0,
    "start_time": "2024-02-15T15:20:40.558Z"
   },
   {
    "duration": 0,
    "start_time": "2024-02-15T15:20:40.560Z"
   },
   {
    "duration": 0,
    "start_time": "2024-02-15T15:20:40.560Z"
   },
   {
    "duration": 0,
    "start_time": "2024-02-15T15:20:40.561Z"
   },
   {
    "duration": 0,
    "start_time": "2024-02-15T15:20:40.563Z"
   },
   {
    "duration": 0,
    "start_time": "2024-02-15T15:20:40.564Z"
   },
   {
    "duration": 0,
    "start_time": "2024-02-15T15:20:40.564Z"
   },
   {
    "duration": 0,
    "start_time": "2024-02-15T15:20:40.565Z"
   },
   {
    "duration": 0,
    "start_time": "2024-02-15T15:20:40.566Z"
   },
   {
    "duration": 0,
    "start_time": "2024-02-15T15:20:40.567Z"
   },
   {
    "duration": 0,
    "start_time": "2024-02-15T15:20:40.568Z"
   },
   {
    "duration": 0,
    "start_time": "2024-02-15T15:20:40.569Z"
   },
   {
    "duration": 0,
    "start_time": "2024-02-15T15:20:40.570Z"
   },
   {
    "duration": 0,
    "start_time": "2024-02-15T15:20:40.571Z"
   },
   {
    "duration": 0,
    "start_time": "2024-02-15T15:20:40.572Z"
   },
   {
    "duration": 0,
    "start_time": "2024-02-15T15:20:40.572Z"
   },
   {
    "duration": 0,
    "start_time": "2024-02-15T15:20:40.573Z"
   },
   {
    "duration": 0,
    "start_time": "2024-02-15T15:20:40.621Z"
   },
   {
    "duration": 0,
    "start_time": "2024-02-15T15:20:40.622Z"
   },
   {
    "duration": 9,
    "start_time": "2024-02-15T15:21:29.038Z"
   },
   {
    "duration": 8,
    "start_time": "2024-02-15T15:22:05.192Z"
   },
   {
    "duration": 7,
    "start_time": "2024-02-15T15:22:49.156Z"
   },
   {
    "duration": 9,
    "start_time": "2024-02-15T15:23:00.479Z"
   },
   {
    "duration": 4,
    "start_time": "2024-02-15T15:23:39.327Z"
   },
   {
    "duration": 18,
    "start_time": "2024-02-15T15:23:39.334Z"
   },
   {
    "duration": 87,
    "start_time": "2024-02-15T15:23:39.354Z"
   },
   {
    "duration": 31,
    "start_time": "2024-02-15T15:23:39.443Z"
   },
   {
    "duration": 7,
    "start_time": "2024-02-15T15:23:39.476Z"
   },
   {
    "duration": 42,
    "start_time": "2024-02-15T15:23:39.486Z"
   },
   {
    "duration": 22,
    "start_time": "2024-02-15T15:23:39.530Z"
   },
   {
    "duration": 18,
    "start_time": "2024-02-15T15:23:39.553Z"
   },
   {
    "duration": 23,
    "start_time": "2024-02-15T15:23:39.572Z"
   },
   {
    "duration": 364,
    "start_time": "2024-02-15T15:23:39.620Z"
   },
   {
    "duration": 13,
    "start_time": "2024-02-15T15:23:39.986Z"
   },
   {
    "duration": 359,
    "start_time": "2024-02-15T15:23:40.001Z"
   },
   {
    "duration": 8,
    "start_time": "2024-02-15T15:23:40.361Z"
   },
   {
    "duration": 13,
    "start_time": "2024-02-15T15:23:40.370Z"
   },
   {
    "duration": 15,
    "start_time": "2024-02-15T15:23:40.385Z"
   },
   {
    "duration": 19,
    "start_time": "2024-02-15T15:23:40.402Z"
   },
   {
    "duration": 7,
    "start_time": "2024-02-15T15:23:40.423Z"
   },
   {
    "duration": 41,
    "start_time": "2024-02-15T15:23:40.431Z"
   },
   {
    "duration": 175,
    "start_time": "2024-02-15T15:23:40.474Z"
   },
   {
    "duration": 123,
    "start_time": "2024-02-15T15:23:40.651Z"
   },
   {
    "duration": 6,
    "start_time": "2024-02-15T15:23:40.776Z"
   },
   {
    "duration": 17,
    "start_time": "2024-02-15T15:23:40.783Z"
   },
   {
    "duration": 25,
    "start_time": "2024-02-15T15:23:40.802Z"
   },
   {
    "duration": 302,
    "start_time": "2024-02-15T15:23:40.828Z"
   },
   {
    "duration": 296,
    "start_time": "2024-02-15T15:23:41.132Z"
   },
   {
    "duration": 397,
    "start_time": "2024-02-15T15:23:41.430Z"
   },
   {
    "duration": 4,
    "start_time": "2024-02-15T15:23:41.829Z"
   },
   {
    "duration": 10,
    "start_time": "2024-02-15T15:23:41.835Z"
   },
   {
    "duration": 11,
    "start_time": "2024-02-15T15:23:41.846Z"
   },
   {
    "duration": 305,
    "start_time": "2024-02-15T15:23:41.861Z"
   },
   {
    "duration": 12,
    "start_time": "2024-02-15T15:23:42.168Z"
   },
   {
    "duration": 402,
    "start_time": "2024-02-15T15:23:42.182Z"
   },
   {
    "duration": 11,
    "start_time": "2024-02-15T15:23:42.586Z"
   },
   {
    "duration": 168,
    "start_time": "2024-02-15T15:23:42.598Z"
   },
   {
    "duration": 11,
    "start_time": "2024-02-15T15:23:42.767Z"
   },
   {
    "duration": 207,
    "start_time": "2024-02-15T15:23:42.779Z"
   },
   {
    "duration": 11,
    "start_time": "2024-02-15T15:23:42.988Z"
   },
   {
    "duration": 32,
    "start_time": "2024-02-15T15:23:43.000Z"
   },
   {
    "duration": 47,
    "start_time": "2024-02-15T15:23:43.034Z"
   },
   {
    "duration": 8,
    "start_time": "2024-02-15T15:23:43.083Z"
   },
   {
    "duration": 58,
    "start_time": "2024-02-15T15:23:43.093Z"
   },
   {
    "duration": 18,
    "start_time": "2024-02-15T15:23:43.153Z"
   },
   {
    "duration": 68,
    "start_time": "2024-02-15T15:23:43.173Z"
   },
   {
    "duration": 19,
    "start_time": "2024-02-15T15:23:43.242Z"
   },
   {
    "duration": 69,
    "start_time": "2024-02-15T15:23:43.263Z"
   },
   {
    "duration": 28,
    "start_time": "2024-02-15T15:23:43.334Z"
   },
   {
    "duration": 81,
    "start_time": "2024-02-15T15:23:43.364Z"
   },
   {
    "duration": 91,
    "start_time": "2024-02-15T15:23:43.446Z"
   },
   {
    "duration": 6,
    "start_time": "2024-02-15T15:23:43.539Z"
   },
   {
    "duration": 33,
    "start_time": "2024-02-15T15:23:43.547Z"
   },
   {
    "duration": 10,
    "start_time": "2024-02-15T15:23:43.583Z"
   },
   {
    "duration": 30,
    "start_time": "2024-02-15T15:23:43.595Z"
   },
   {
    "duration": 5,
    "start_time": "2024-02-15T15:23:43.627Z"
   },
   {
    "duration": 11,
    "start_time": "2024-02-15T15:23:43.633Z"
   },
   {
    "duration": 31,
    "start_time": "2024-02-15T15:23:43.645Z"
   },
   {
    "duration": 19,
    "start_time": "2024-02-15T15:23:43.678Z"
   },
   {
    "duration": 7,
    "start_time": "2024-02-15T15:28:06.607Z"
   },
   {
    "duration": 7,
    "start_time": "2024-02-15T15:28:28.906Z"
   },
   {
    "duration": 8,
    "start_time": "2024-02-15T15:29:31.560Z"
   },
   {
    "duration": 5,
    "start_time": "2024-02-15T17:19:26.396Z"
   },
   {
    "duration": 2,
    "start_time": "2024-02-15T17:19:26.408Z"
   },
   {
    "duration": 76,
    "start_time": "2024-02-15T17:19:26.438Z"
   },
   {
    "duration": 31,
    "start_time": "2024-02-15T17:19:26.516Z"
   },
   {
    "duration": 7,
    "start_time": "2024-02-15T17:19:26.549Z"
   },
   {
    "duration": 43,
    "start_time": "2024-02-15T17:19:26.558Z"
   },
   {
    "duration": 26,
    "start_time": "2024-02-15T17:19:26.620Z"
   },
   {
    "duration": 20,
    "start_time": "2024-02-15T17:19:26.647Z"
   },
   {
    "duration": 19,
    "start_time": "2024-02-15T17:19:26.668Z"
   },
   {
    "duration": 367,
    "start_time": "2024-02-15T17:19:26.688Z"
   },
   {
    "duration": 12,
    "start_time": "2024-02-15T17:19:27.057Z"
   },
   {
    "duration": 398,
    "start_time": "2024-02-15T17:19:27.072Z"
   },
   {
    "duration": 8,
    "start_time": "2024-02-15T17:19:27.471Z"
   },
   {
    "duration": 10,
    "start_time": "2024-02-15T17:19:27.480Z"
   },
   {
    "duration": 17,
    "start_time": "2024-02-15T17:19:27.491Z"
   },
   {
    "duration": 18,
    "start_time": "2024-02-15T17:19:27.509Z"
   },
   {
    "duration": 37,
    "start_time": "2024-02-15T17:19:27.528Z"
   },
   {
    "duration": 22,
    "start_time": "2024-02-15T17:19:27.567Z"
   },
   {
    "duration": 6,
    "start_time": "2024-02-15T17:19:27.591Z"
   },
   {
    "duration": 36,
    "start_time": "2024-02-15T17:19:27.598Z"
   },
   {
    "duration": 42,
    "start_time": "2024-02-15T17:19:27.635Z"
   },
   {
    "duration": 166,
    "start_time": "2024-02-15T17:19:27.679Z"
   },
   {
    "duration": 127,
    "start_time": "2024-02-15T17:19:27.847Z"
   },
   {
    "duration": 6,
    "start_time": "2024-02-15T17:19:27.975Z"
   },
   {
    "duration": 15,
    "start_time": "2024-02-15T17:19:27.982Z"
   },
   {
    "duration": 24,
    "start_time": "2024-02-15T17:19:27.998Z"
   },
   {
    "duration": 292,
    "start_time": "2024-02-15T17:19:28.023Z"
   },
   {
    "duration": 268,
    "start_time": "2024-02-15T17:19:28.317Z"
   },
   {
    "duration": 399,
    "start_time": "2024-02-15T17:19:28.589Z"
   },
   {
    "duration": 3,
    "start_time": "2024-02-15T17:19:28.990Z"
   },
   {
    "duration": 21,
    "start_time": "2024-02-15T17:19:28.994Z"
   },
   {
    "duration": 26,
    "start_time": "2024-02-15T17:19:29.016Z"
   },
   {
    "duration": 290,
    "start_time": "2024-02-15T17:19:29.043Z"
   },
   {
    "duration": 13,
    "start_time": "2024-02-15T17:19:29.334Z"
   },
   {
    "duration": 357,
    "start_time": "2024-02-15T17:19:29.349Z"
   },
   {
    "duration": 16,
    "start_time": "2024-02-15T17:19:29.708Z"
   },
   {
    "duration": 174,
    "start_time": "2024-02-15T17:19:29.726Z"
   },
   {
    "duration": 19,
    "start_time": "2024-02-15T17:19:29.902Z"
   },
   {
    "duration": 188,
    "start_time": "2024-02-15T17:19:29.923Z"
   },
   {
    "duration": 17,
    "start_time": "2024-02-15T17:19:30.113Z"
   },
   {
    "duration": 42,
    "start_time": "2024-02-15T17:19:30.131Z"
   },
   {
    "duration": 106,
    "start_time": "2024-02-15T17:19:30.174Z"
   },
   {
    "duration": 72,
    "start_time": "2024-02-15T17:19:30.282Z"
   },
   {
    "duration": 80,
    "start_time": "2024-02-15T17:19:30.356Z"
   },
   {
    "duration": 36,
    "start_time": "2024-02-15T17:19:30.438Z"
   },
   {
    "duration": 61,
    "start_time": "2024-02-15T17:19:30.476Z"
   },
   {
    "duration": 61,
    "start_time": "2024-02-15T17:19:30.539Z"
   },
   {
    "duration": 67,
    "start_time": "2024-02-15T17:19:30.601Z"
   },
   {
    "duration": 73,
    "start_time": "2024-02-15T17:19:30.669Z"
   },
   {
    "duration": 72,
    "start_time": "2024-02-15T17:19:30.743Z"
   },
   {
    "duration": 74,
    "start_time": "2024-02-15T17:19:30.816Z"
   },
   {
    "duration": 6,
    "start_time": "2024-02-15T17:19:30.892Z"
   },
   {
    "duration": 66,
    "start_time": "2024-02-15T17:19:30.899Z"
   },
   {
    "duration": 11,
    "start_time": "2024-02-15T17:19:30.967Z"
   },
   {
    "duration": 27,
    "start_time": "2024-02-15T17:19:30.979Z"
   },
   {
    "duration": 30,
    "start_time": "2024-02-15T17:19:31.008Z"
   },
   {
    "duration": 44,
    "start_time": "2024-02-15T17:19:31.039Z"
   },
   {
    "duration": 83,
    "start_time": "2024-02-15T17:19:31.085Z"
   },
   {
    "duration": 13,
    "start_time": "2024-02-15T17:19:31.169Z"
   },
   {
    "duration": 4,
    "start_time": "2024-02-15T17:20:20.609Z"
   },
   {
    "duration": 15,
    "start_time": "2024-02-15T17:20:20.617Z"
   },
   {
    "duration": 104,
    "start_time": "2024-02-15T17:20:20.633Z"
   },
   {
    "duration": 30,
    "start_time": "2024-02-15T17:20:20.738Z"
   },
   {
    "duration": 7,
    "start_time": "2024-02-15T17:20:20.770Z"
   },
   {
    "duration": 57,
    "start_time": "2024-02-15T17:20:20.779Z"
   },
   {
    "duration": 21,
    "start_time": "2024-02-15T17:20:20.838Z"
   },
   {
    "duration": 44,
    "start_time": "2024-02-15T17:20:20.861Z"
   },
   {
    "duration": 34,
    "start_time": "2024-02-15T17:20:20.907Z"
   },
   {
    "duration": 321,
    "start_time": "2024-02-15T17:20:20.943Z"
   },
   {
    "duration": 12,
    "start_time": "2024-02-15T17:20:21.265Z"
   },
   {
    "duration": 319,
    "start_time": "2024-02-15T17:20:21.279Z"
   },
   {
    "duration": 8,
    "start_time": "2024-02-15T17:20:21.600Z"
   },
   {
    "duration": 24,
    "start_time": "2024-02-15T17:20:21.609Z"
   },
   {
    "duration": 25,
    "start_time": "2024-02-15T17:20:21.634Z"
   },
   {
    "duration": 21,
    "start_time": "2024-02-15T17:20:21.661Z"
   },
   {
    "duration": 25,
    "start_time": "2024-02-15T17:20:21.683Z"
   },
   {
    "duration": 37,
    "start_time": "2024-02-15T17:20:21.709Z"
   },
   {
    "duration": 29,
    "start_time": "2024-02-15T17:20:21.747Z"
   },
   {
    "duration": 50,
    "start_time": "2024-02-15T17:20:21.777Z"
   },
   {
    "duration": 18,
    "start_time": "2024-02-15T17:20:21.828Z"
   },
   {
    "duration": 157,
    "start_time": "2024-02-15T17:20:21.848Z"
   },
   {
    "duration": 121,
    "start_time": "2024-02-15T17:20:22.006Z"
   },
   {
    "duration": 6,
    "start_time": "2024-02-15T17:20:22.129Z"
   },
   {
    "duration": 19,
    "start_time": "2024-02-15T17:20:22.137Z"
   },
   {
    "duration": 25,
    "start_time": "2024-02-15T17:20:22.157Z"
   },
   {
    "duration": 294,
    "start_time": "2024-02-15T17:20:22.184Z"
   },
   {
    "duration": 357,
    "start_time": "2024-02-15T17:20:22.480Z"
   },
   {
    "duration": 357,
    "start_time": "2024-02-15T17:20:22.838Z"
   },
   {
    "duration": 3,
    "start_time": "2024-02-15T17:20:23.198Z"
   },
   {
    "duration": 34,
    "start_time": "2024-02-15T17:20:23.203Z"
   },
   {
    "duration": 26,
    "start_time": "2024-02-15T17:20:23.240Z"
   },
   {
    "duration": 271,
    "start_time": "2024-02-15T17:20:23.267Z"
   },
   {
    "duration": 14,
    "start_time": "2024-02-15T17:20:23.539Z"
   },
   {
    "duration": 359,
    "start_time": "2024-02-15T17:20:23.554Z"
   },
   {
    "duration": 14,
    "start_time": "2024-02-15T17:20:23.915Z"
   },
   {
    "duration": 192,
    "start_time": "2024-02-15T17:20:23.931Z"
   },
   {
    "duration": 13,
    "start_time": "2024-02-15T17:20:24.125Z"
   },
   {
    "duration": 218,
    "start_time": "2024-02-15T17:20:24.143Z"
   },
   {
    "duration": 11,
    "start_time": "2024-02-15T17:20:24.363Z"
   },
   {
    "duration": 9,
    "start_time": "2024-02-15T17:20:24.375Z"
   },
   {
    "duration": 66,
    "start_time": "2024-02-15T17:20:24.385Z"
   },
   {
    "duration": 19,
    "start_time": "2024-02-15T17:20:24.452Z"
   },
   {
    "duration": 49,
    "start_time": "2024-02-15T17:20:24.472Z"
   },
   {
    "duration": 16,
    "start_time": "2024-02-15T17:20:24.522Z"
   },
   {
    "duration": 51,
    "start_time": "2024-02-15T17:20:24.540Z"
   },
   {
    "duration": 33,
    "start_time": "2024-02-15T17:20:24.592Z"
   },
   {
    "duration": 51,
    "start_time": "2024-02-15T17:20:24.626Z"
   },
   {
    "duration": 43,
    "start_time": "2024-02-15T17:20:24.678Z"
   },
   {
    "duration": 65,
    "start_time": "2024-02-15T17:20:24.722Z"
   },
   {
    "duration": 80,
    "start_time": "2024-02-15T17:20:24.789Z"
   },
   {
    "duration": 6,
    "start_time": "2024-02-15T17:20:24.870Z"
   },
   {
    "duration": 41,
    "start_time": "2024-02-15T17:20:24.877Z"
   },
   {
    "duration": 10,
    "start_time": "2024-02-15T17:20:24.919Z"
   },
   {
    "duration": 18,
    "start_time": "2024-02-15T17:20:24.930Z"
   },
   {
    "duration": 12,
    "start_time": "2024-02-15T17:20:24.949Z"
   },
   {
    "duration": 10,
    "start_time": "2024-02-15T17:20:24.963Z"
   },
   {
    "duration": 30,
    "start_time": "2024-02-15T17:20:24.974Z"
   },
   {
    "duration": 15,
    "start_time": "2024-02-15T17:20:25.005Z"
   },
   {
    "duration": 69,
    "start_time": "2024-02-15T17:27:42.167Z"
   },
   {
    "duration": 8,
    "start_time": "2024-02-15T17:27:54.078Z"
   },
   {
    "duration": 6,
    "start_time": "2024-02-15T17:28:09.201Z"
   },
   {
    "duration": 5,
    "start_time": "2024-02-15T17:32:18.884Z"
   },
   {
    "duration": 4,
    "start_time": "2024-02-15T17:32:34.136Z"
   },
   {
    "duration": 4,
    "start_time": "2024-02-15T17:32:34.144Z"
   },
   {
    "duration": 75,
    "start_time": "2024-02-15T17:32:34.153Z"
   },
   {
    "duration": 30,
    "start_time": "2024-02-15T17:32:34.230Z"
   },
   {
    "duration": 8,
    "start_time": "2024-02-15T17:32:34.261Z"
   },
   {
    "duration": 58,
    "start_time": "2024-02-15T17:32:34.271Z"
   },
   {
    "duration": 24,
    "start_time": "2024-02-15T17:32:34.330Z"
   },
   {
    "duration": 20,
    "start_time": "2024-02-15T17:32:34.356Z"
   },
   {
    "duration": 44,
    "start_time": "2024-02-15T17:32:34.377Z"
   },
   {
    "duration": 365,
    "start_time": "2024-02-15T17:32:34.422Z"
   },
   {
    "duration": 12,
    "start_time": "2024-02-15T17:32:34.788Z"
   },
   {
    "duration": 302,
    "start_time": "2024-02-15T17:32:34.820Z"
   },
   {
    "duration": 8,
    "start_time": "2024-02-15T17:32:35.123Z"
   },
   {
    "duration": 9,
    "start_time": "2024-02-15T17:32:35.133Z"
   },
   {
    "duration": 16,
    "start_time": "2024-02-15T17:32:35.144Z"
   },
   {
    "duration": 9,
    "start_time": "2024-02-15T17:32:35.162Z"
   },
   {
    "duration": 6,
    "start_time": "2024-02-15T17:32:35.172Z"
   },
   {
    "duration": 7,
    "start_time": "2024-02-15T17:32:35.180Z"
   },
   {
    "duration": 36,
    "start_time": "2024-02-15T17:32:35.189Z"
   },
   {
    "duration": 13,
    "start_time": "2024-02-15T17:32:35.227Z"
   },
   {
    "duration": 24,
    "start_time": "2024-02-15T17:32:35.241Z"
   },
   {
    "duration": 16,
    "start_time": "2024-02-15T17:32:35.267Z"
   },
   {
    "duration": 155,
    "start_time": "2024-02-15T17:32:35.284Z"
   },
   {
    "duration": 121,
    "start_time": "2024-02-15T17:32:35.440Z"
   },
   {
    "duration": 6,
    "start_time": "2024-02-15T17:32:35.562Z"
   },
   {
    "duration": 23,
    "start_time": "2024-02-15T17:32:35.570Z"
   },
   {
    "duration": 18,
    "start_time": "2024-02-15T17:32:35.594Z"
   },
   {
    "duration": 293,
    "start_time": "2024-02-15T17:32:35.614Z"
   },
   {
    "duration": 275,
    "start_time": "2024-02-15T17:32:35.909Z"
   },
   {
    "duration": 395,
    "start_time": "2024-02-15T17:32:36.188Z"
   },
   {
    "duration": 3,
    "start_time": "2024-02-15T17:32:36.585Z"
   },
   {
    "duration": 7,
    "start_time": "2024-02-15T17:32:36.590Z"
   },
   {
    "duration": 29,
    "start_time": "2024-02-15T17:32:36.598Z"
   },
   {
    "duration": 376,
    "start_time": "2024-02-15T17:32:36.629Z"
   },
   {
    "duration": 15,
    "start_time": "2024-02-15T17:32:37.006Z"
   },
   {
    "duration": 399,
    "start_time": "2024-02-15T17:32:37.023Z"
   },
   {
    "duration": 10,
    "start_time": "2024-02-15T17:32:37.424Z"
   },
   {
    "duration": 176,
    "start_time": "2024-02-15T17:32:37.436Z"
   },
   {
    "duration": 13,
    "start_time": "2024-02-15T17:32:37.614Z"
   },
   {
    "duration": 207,
    "start_time": "2024-02-15T17:32:37.628Z"
   },
   {
    "duration": 10,
    "start_time": "2024-02-15T17:32:37.836Z"
   },
   {
    "duration": 7,
    "start_time": "2024-02-15T17:32:37.848Z"
   },
   {
    "duration": 56,
    "start_time": "2024-02-15T17:32:37.857Z"
   },
   {
    "duration": 12,
    "start_time": "2024-02-15T17:32:37.915Z"
   },
   {
    "duration": 45,
    "start_time": "2024-02-15T17:32:37.928Z"
   },
   {
    "duration": 29,
    "start_time": "2024-02-15T17:32:37.974Z"
   },
   {
    "duration": 55,
    "start_time": "2024-02-15T17:32:38.005Z"
   },
   {
    "duration": 17,
    "start_time": "2024-02-15T17:32:38.061Z"
   },
   {
    "duration": 67,
    "start_time": "2024-02-15T17:32:38.079Z"
   },
   {
    "duration": 29,
    "start_time": "2024-02-15T17:32:38.148Z"
   },
   {
    "duration": 74,
    "start_time": "2024-02-15T17:32:38.179Z"
   },
   {
    "duration": 76,
    "start_time": "2024-02-15T17:32:38.254Z"
   },
   {
    "duration": 6,
    "start_time": "2024-02-15T17:32:38.332Z"
   },
   {
    "duration": 26,
    "start_time": "2024-02-15T17:32:38.339Z"
   },
   {
    "duration": 8,
    "start_time": "2024-02-15T17:32:38.367Z"
   },
   {
    "duration": 9,
    "start_time": "2024-02-15T17:32:38.377Z"
   },
   {
    "duration": 5,
    "start_time": "2024-02-15T17:32:38.387Z"
   },
   {
    "duration": 37,
    "start_time": "2024-02-15T17:32:38.394Z"
   },
   {
    "duration": 25,
    "start_time": "2024-02-15T17:32:38.433Z"
   },
   {
    "duration": 13,
    "start_time": "2024-02-15T17:32:38.459Z"
   },
   {
    "duration": 8,
    "start_time": "2024-02-15T17:43:19.315Z"
   },
   {
    "duration": 4,
    "start_time": "2024-02-15T17:43:27.770Z"
   },
   {
    "duration": 5,
    "start_time": "2024-02-15T17:43:27.777Z"
   },
   {
    "duration": 79,
    "start_time": "2024-02-15T17:43:27.784Z"
   },
   {
    "duration": 32,
    "start_time": "2024-02-15T17:43:27.865Z"
   },
   {
    "duration": 7,
    "start_time": "2024-02-15T17:43:27.898Z"
   },
   {
    "duration": 32,
    "start_time": "2024-02-15T17:43:27.906Z"
   },
   {
    "duration": 23,
    "start_time": "2024-02-15T17:43:27.939Z"
   },
   {
    "duration": 20,
    "start_time": "2024-02-15T17:43:27.963Z"
   },
   {
    "duration": 50,
    "start_time": "2024-02-15T17:43:27.985Z"
   },
   {
    "duration": 343,
    "start_time": "2024-02-15T17:43:28.036Z"
   },
   {
    "duration": 13,
    "start_time": "2024-02-15T17:43:28.382Z"
   },
   {
    "duration": 339,
    "start_time": "2024-02-15T17:43:28.397Z"
   },
   {
    "duration": 8,
    "start_time": "2024-02-15T17:43:28.738Z"
   },
   {
    "duration": 23,
    "start_time": "2024-02-15T17:43:28.748Z"
   },
   {
    "duration": 11,
    "start_time": "2024-02-15T17:43:28.772Z"
   },
   {
    "duration": 21,
    "start_time": "2024-02-15T17:43:28.785Z"
   },
   {
    "duration": 6,
    "start_time": "2024-02-15T17:43:28.807Z"
   },
   {
    "duration": 23,
    "start_time": "2024-02-15T17:43:28.815Z"
   },
   {
    "duration": 4,
    "start_time": "2024-02-15T17:43:28.840Z"
   },
   {
    "duration": 14,
    "start_time": "2024-02-15T17:43:28.845Z"
   },
   {
    "duration": 8,
    "start_time": "2024-02-15T17:43:28.863Z"
   },
   {
    "duration": 11,
    "start_time": "2024-02-15T17:43:28.872Z"
   },
   {
    "duration": 170,
    "start_time": "2024-02-15T17:43:28.884Z"
   },
   {
    "duration": 125,
    "start_time": "2024-02-15T17:43:29.055Z"
   },
   {
    "duration": 7,
    "start_time": "2024-02-15T17:43:29.181Z"
   },
   {
    "duration": 9,
    "start_time": "2024-02-15T17:43:29.189Z"
   },
   {
    "duration": 31,
    "start_time": "2024-02-15T17:43:29.200Z"
   },
   {
    "duration": 287,
    "start_time": "2024-02-15T17:43:29.233Z"
   },
   {
    "duration": 277,
    "start_time": "2024-02-15T17:43:29.521Z"
   },
   {
    "duration": 382,
    "start_time": "2024-02-15T17:43:29.800Z"
   },
   {
    "duration": 4,
    "start_time": "2024-02-15T17:43:30.183Z"
   },
   {
    "duration": 39,
    "start_time": "2024-02-15T17:43:30.188Z"
   },
   {
    "duration": 44,
    "start_time": "2024-02-15T17:43:30.228Z"
   },
   {
    "duration": 302,
    "start_time": "2024-02-15T17:43:30.273Z"
   },
   {
    "duration": 13,
    "start_time": "2024-02-15T17:43:30.577Z"
   },
   {
    "duration": 415,
    "start_time": "2024-02-15T17:43:30.592Z"
   },
   {
    "duration": 18,
    "start_time": "2024-02-15T17:43:31.009Z"
   },
   {
    "duration": 282,
    "start_time": "2024-02-15T17:43:31.029Z"
   },
   {
    "duration": 10,
    "start_time": "2024-02-15T17:43:31.313Z"
   },
   {
    "duration": 197,
    "start_time": "2024-02-15T17:43:31.325Z"
   },
   {
    "duration": 10,
    "start_time": "2024-02-15T17:43:31.524Z"
   },
   {
    "duration": 37,
    "start_time": "2024-02-15T17:43:31.536Z"
   },
   {
    "duration": 71,
    "start_time": "2024-02-15T17:43:31.574Z"
   },
   {
    "duration": 110,
    "start_time": "2024-02-15T17:43:31.647Z"
   },
   {
    "duration": 67,
    "start_time": "2024-02-15T17:43:31.759Z"
   },
   {
    "duration": 64,
    "start_time": "2024-02-15T17:43:31.827Z"
   },
   {
    "duration": 141,
    "start_time": "2024-02-15T17:43:31.893Z"
   },
   {
    "duration": 19,
    "start_time": "2024-02-15T17:43:32.036Z"
   },
   {
    "duration": 87,
    "start_time": "2024-02-15T17:43:32.057Z"
   },
   {
    "duration": 58,
    "start_time": "2024-02-15T17:43:32.145Z"
   },
   {
    "duration": 87,
    "start_time": "2024-02-15T17:43:32.204Z"
   },
   {
    "duration": 67,
    "start_time": "2024-02-15T17:43:32.293Z"
   },
   {
    "duration": 6,
    "start_time": "2024-02-15T17:43:32.362Z"
   },
   {
    "duration": 45,
    "start_time": "2024-02-15T17:43:32.369Z"
   },
   {
    "duration": 20,
    "start_time": "2024-02-15T17:43:32.415Z"
   },
   {
    "duration": 25,
    "start_time": "2024-02-15T17:43:32.437Z"
   },
   {
    "duration": 76,
    "start_time": "2024-02-15T17:43:32.466Z"
   },
   {
    "duration": 76,
    "start_time": "2024-02-15T17:43:32.544Z"
   },
   {
    "duration": 39,
    "start_time": "2024-02-15T17:43:32.622Z"
   },
   {
    "duration": 19,
    "start_time": "2024-02-15T17:43:32.663Z"
   },
   {
    "duration": 4,
    "start_time": "2024-02-15T17:44:40.843Z"
   },
   {
    "duration": 19,
    "start_time": "2024-02-15T17:44:40.855Z"
   },
   {
    "duration": 76,
    "start_time": "2024-02-15T17:44:40.876Z"
   },
   {
    "duration": 33,
    "start_time": "2024-02-15T17:44:40.954Z"
   },
   {
    "duration": 8,
    "start_time": "2024-02-15T17:44:40.989Z"
   },
   {
    "duration": 35,
    "start_time": "2024-02-15T17:44:40.999Z"
   },
   {
    "duration": 22,
    "start_time": "2024-02-15T17:44:41.036Z"
   },
   {
    "duration": 20,
    "start_time": "2024-02-15T17:44:41.060Z"
   },
   {
    "duration": 43,
    "start_time": "2024-02-15T17:44:41.082Z"
   },
   {
    "duration": 348,
    "start_time": "2024-02-15T17:44:41.126Z"
   },
   {
    "duration": 12,
    "start_time": "2024-02-15T17:44:41.477Z"
   },
   {
    "duration": 337,
    "start_time": "2024-02-15T17:44:41.491Z"
   },
   {
    "duration": 8,
    "start_time": "2024-02-15T17:44:41.830Z"
   },
   {
    "duration": 8,
    "start_time": "2024-02-15T17:44:41.840Z"
   },
   {
    "duration": 11,
    "start_time": "2024-02-15T17:44:41.850Z"
   },
   {
    "duration": 9,
    "start_time": "2024-02-15T17:44:41.863Z"
   },
   {
    "duration": 5,
    "start_time": "2024-02-15T17:44:41.874Z"
   },
   {
    "duration": 12,
    "start_time": "2024-02-15T17:44:41.880Z"
   },
   {
    "duration": 7,
    "start_time": "2024-02-15T17:44:41.921Z"
   },
   {
    "duration": 7,
    "start_time": "2024-02-15T17:44:41.930Z"
   },
   {
    "duration": 11,
    "start_time": "2024-02-15T17:44:41.939Z"
   },
   {
    "duration": 11,
    "start_time": "2024-02-15T17:44:41.951Z"
   },
   {
    "duration": 184,
    "start_time": "2024-02-15T17:44:41.964Z"
   },
   {
    "duration": 123,
    "start_time": "2024-02-15T17:44:42.149Z"
   },
   {
    "duration": 6,
    "start_time": "2024-02-15T17:44:42.273Z"
   },
   {
    "duration": 9,
    "start_time": "2024-02-15T17:44:42.281Z"
   },
   {
    "duration": 32,
    "start_time": "2024-02-15T17:44:42.292Z"
   },
   {
    "duration": 297,
    "start_time": "2024-02-15T17:44:42.325Z"
   },
   {
    "duration": 290,
    "start_time": "2024-02-15T17:44:42.625Z"
   },
   {
    "duration": 407,
    "start_time": "2024-02-15T17:44:42.917Z"
   },
   {
    "duration": 4,
    "start_time": "2024-02-15T17:44:43.326Z"
   },
   {
    "duration": 8,
    "start_time": "2024-02-15T17:44:43.332Z"
   },
   {
    "duration": 21,
    "start_time": "2024-02-15T17:44:43.341Z"
   },
   {
    "duration": 316,
    "start_time": "2024-02-15T17:44:43.363Z"
   },
   {
    "duration": 13,
    "start_time": "2024-02-15T17:44:43.682Z"
   },
   {
    "duration": 429,
    "start_time": "2024-02-15T17:44:43.697Z"
   },
   {
    "duration": 10,
    "start_time": "2024-02-15T17:44:44.128Z"
   },
   {
    "duration": 180,
    "start_time": "2024-02-15T17:44:44.140Z"
   },
   {
    "duration": 10,
    "start_time": "2024-02-15T17:44:44.321Z"
   },
   {
    "duration": 205,
    "start_time": "2024-02-15T17:44:44.332Z"
   },
   {
    "duration": 10,
    "start_time": "2024-02-15T17:44:44.539Z"
   },
   {
    "duration": 8,
    "start_time": "2024-02-15T17:44:44.551Z"
   },
   {
    "duration": 145,
    "start_time": "2024-02-15T17:44:44.560Z"
   },
   {
    "duration": 22,
    "start_time": "2024-02-15T17:44:44.706Z"
   },
   {
    "duration": 57,
    "start_time": "2024-02-15T17:44:44.729Z"
   },
   {
    "duration": 31,
    "start_time": "2024-02-15T17:44:44.788Z"
   },
   {
    "duration": 52,
    "start_time": "2024-02-15T17:44:44.820Z"
   },
   {
    "duration": 25,
    "start_time": "2024-02-15T17:44:44.873Z"
   },
   {
    "duration": 56,
    "start_time": "2024-02-15T17:44:44.899Z"
   },
   {
    "duration": 26,
    "start_time": "2024-02-15T17:44:44.956Z"
   },
   {
    "duration": 77,
    "start_time": "2024-02-15T17:44:44.983Z"
   },
   {
    "duration": 83,
    "start_time": "2024-02-15T17:44:45.061Z"
   },
   {
    "duration": 20,
    "start_time": "2024-02-15T17:44:45.145Z"
   },
   {
    "duration": 73,
    "start_time": "2024-02-15T17:44:45.166Z"
   },
   {
    "duration": 10,
    "start_time": "2024-02-15T17:44:45.240Z"
   },
   {
    "duration": 37,
    "start_time": "2024-02-15T17:44:45.251Z"
   },
   {
    "duration": 18,
    "start_time": "2024-02-15T17:44:45.289Z"
   },
   {
    "duration": 28,
    "start_time": "2024-02-15T17:44:45.308Z"
   },
   {
    "duration": 36,
    "start_time": "2024-02-15T17:44:45.338Z"
   },
   {
    "duration": 13,
    "start_time": "2024-02-15T17:44:45.375Z"
   },
   {
    "duration": 8,
    "start_time": "2024-02-15T17:46:21.689Z"
   },
   {
    "duration": 4,
    "start_time": "2024-02-15T17:46:26.242Z"
   },
   {
    "duration": 6,
    "start_time": "2024-02-15T17:46:26.252Z"
   },
   {
    "duration": 79,
    "start_time": "2024-02-15T17:46:26.259Z"
   },
   {
    "duration": 37,
    "start_time": "2024-02-15T17:46:26.340Z"
   },
   {
    "duration": 8,
    "start_time": "2024-02-15T17:46:26.379Z"
   },
   {
    "duration": 48,
    "start_time": "2024-02-15T17:46:26.389Z"
   },
   {
    "duration": 25,
    "start_time": "2024-02-15T17:46:26.438Z"
   },
   {
    "duration": 58,
    "start_time": "2024-02-15T17:46:26.465Z"
   },
   {
    "duration": 20,
    "start_time": "2024-02-15T17:46:26.524Z"
   },
   {
    "duration": 330,
    "start_time": "2024-02-15T17:46:26.546Z"
   },
   {
    "duration": 12,
    "start_time": "2024-02-15T17:46:26.878Z"
   },
   {
    "duration": 338,
    "start_time": "2024-02-15T17:46:26.892Z"
   },
   {
    "duration": 7,
    "start_time": "2024-02-15T17:46:27.232Z"
   },
   {
    "duration": 14,
    "start_time": "2024-02-15T17:46:27.241Z"
   },
   {
    "duration": 16,
    "start_time": "2024-02-15T17:46:27.256Z"
   },
   {
    "duration": 23,
    "start_time": "2024-02-15T17:46:27.273Z"
   },
   {
    "duration": 5,
    "start_time": "2024-02-15T17:46:27.298Z"
   },
   {
    "duration": 13,
    "start_time": "2024-02-15T17:46:27.304Z"
   },
   {
    "duration": 13,
    "start_time": "2024-02-15T17:46:27.318Z"
   },
   {
    "duration": 9,
    "start_time": "2024-02-15T17:46:27.333Z"
   },
   {
    "duration": 24,
    "start_time": "2024-02-15T17:46:27.343Z"
   },
   {
    "duration": 21,
    "start_time": "2024-02-15T17:46:27.368Z"
   },
   {
    "duration": 170,
    "start_time": "2024-02-15T17:46:27.391Z"
   },
   {
    "duration": 125,
    "start_time": "2024-02-15T17:46:27.562Z"
   },
   {
    "duration": 6,
    "start_time": "2024-02-15T17:46:27.688Z"
   },
   {
    "duration": 24,
    "start_time": "2024-02-15T17:46:27.696Z"
   },
   {
    "duration": 13,
    "start_time": "2024-02-15T17:46:27.722Z"
   },
   {
    "duration": 291,
    "start_time": "2024-02-15T17:46:27.736Z"
   },
   {
    "duration": 279,
    "start_time": "2024-02-15T17:46:28.029Z"
   },
   {
    "duration": 380,
    "start_time": "2024-02-15T17:46:28.311Z"
   },
   {
    "duration": 4,
    "start_time": "2024-02-15T17:46:28.693Z"
   },
   {
    "duration": 16,
    "start_time": "2024-02-15T17:46:28.698Z"
   },
   {
    "duration": 15,
    "start_time": "2024-02-15T17:46:28.716Z"
   },
   {
    "duration": 303,
    "start_time": "2024-02-15T17:46:28.733Z"
   },
   {
    "duration": 12,
    "start_time": "2024-02-15T17:46:29.038Z"
   },
   {
    "duration": 360,
    "start_time": "2024-02-15T17:46:29.051Z"
   },
   {
    "duration": 17,
    "start_time": "2024-02-15T17:46:29.412Z"
   },
   {
    "duration": 176,
    "start_time": "2024-02-15T17:46:29.430Z"
   },
   {
    "duration": 16,
    "start_time": "2024-02-15T17:46:29.607Z"
   },
   {
    "duration": 194,
    "start_time": "2024-02-15T17:46:29.624Z"
   },
   {
    "duration": 11,
    "start_time": "2024-02-15T17:46:29.819Z"
   },
   {
    "duration": 17,
    "start_time": "2024-02-15T17:46:29.831Z"
   },
   {
    "duration": 56,
    "start_time": "2024-02-15T17:46:29.849Z"
   },
   {
    "duration": 15,
    "start_time": "2024-02-15T17:46:29.906Z"
   },
   {
    "duration": 45,
    "start_time": "2024-02-15T17:46:29.923Z"
   },
   {
    "duration": 35,
    "start_time": "2024-02-15T17:46:29.970Z"
   },
   {
    "duration": 60,
    "start_time": "2024-02-15T17:46:30.007Z"
   },
   {
    "duration": 80,
    "start_time": "2024-02-15T17:46:30.069Z"
   },
   {
    "duration": 155,
    "start_time": "2024-02-15T17:46:30.151Z"
   },
   {
    "duration": 122,
    "start_time": "2024-02-15T17:46:30.308Z"
   },
   {
    "duration": 86,
    "start_time": "2024-02-15T17:46:30.432Z"
   },
   {
    "duration": 95,
    "start_time": "2024-02-15T17:46:30.520Z"
   },
   {
    "duration": 6,
    "start_time": "2024-02-15T17:46:30.617Z"
   },
   {
    "duration": 59,
    "start_time": "2024-02-15T17:46:30.625Z"
   },
   {
    "duration": 22,
    "start_time": "2024-02-15T17:46:30.686Z"
   },
   {
    "duration": 35,
    "start_time": "2024-02-15T17:46:30.710Z"
   },
   {
    "duration": 13,
    "start_time": "2024-02-15T17:46:30.746Z"
   },
   {
    "duration": 44,
    "start_time": "2024-02-15T17:46:30.761Z"
   },
   {
    "duration": 43,
    "start_time": "2024-02-15T17:46:30.806Z"
   },
   {
    "duration": 17,
    "start_time": "2024-02-15T17:46:30.851Z"
   },
   {
    "duration": 185,
    "start_time": "2024-02-15T17:48:24.738Z"
   },
   {
    "duration": 6,
    "start_time": "2024-02-15T17:51:51.976Z"
   },
   {
    "duration": 25,
    "start_time": "2024-02-15T17:51:55.578Z"
   },
   {
    "duration": 6,
    "start_time": "2024-02-15T17:52:18.745Z"
   },
   {
    "duration": 24,
    "start_time": "2024-02-15T17:52:54.795Z"
   },
   {
    "duration": 4,
    "start_time": "2024-02-15T17:53:36.633Z"
   },
   {
    "duration": 3,
    "start_time": "2024-02-15T17:53:36.641Z"
   },
   {
    "duration": 78,
    "start_time": "2024-02-15T17:53:36.650Z"
   },
   {
    "duration": 32,
    "start_time": "2024-02-15T17:53:36.730Z"
   },
   {
    "duration": 8,
    "start_time": "2024-02-15T17:53:36.763Z"
   },
   {
    "duration": 50,
    "start_time": "2024-02-15T17:53:36.773Z"
   },
   {
    "duration": 23,
    "start_time": "2024-02-15T17:53:36.824Z"
   },
   {
    "duration": 19,
    "start_time": "2024-02-15T17:53:36.849Z"
   },
   {
    "duration": 11,
    "start_time": "2024-02-15T17:53:36.870Z"
   },
   {
    "duration": 393,
    "start_time": "2024-02-15T17:53:36.882Z"
   },
   {
    "duration": 13,
    "start_time": "2024-02-15T17:53:37.276Z"
   },
   {
    "duration": 425,
    "start_time": "2024-02-15T17:53:37.291Z"
   },
   {
    "duration": 8,
    "start_time": "2024-02-15T17:53:37.717Z"
   },
   {
    "duration": 31,
    "start_time": "2024-02-15T17:53:37.727Z"
   },
   {
    "duration": 29,
    "start_time": "2024-02-15T17:53:37.759Z"
   },
   {
    "duration": 49,
    "start_time": "2024-02-15T17:53:37.790Z"
   },
   {
    "duration": 8,
    "start_time": "2024-02-15T17:53:37.841Z"
   },
   {
    "duration": 7,
    "start_time": "2024-02-15T17:53:37.850Z"
   },
   {
    "duration": 5,
    "start_time": "2024-02-15T17:53:37.859Z"
   },
   {
    "duration": 9,
    "start_time": "2024-02-15T17:53:37.865Z"
   },
   {
    "duration": 8,
    "start_time": "2024-02-15T17:53:37.875Z"
   },
   {
    "duration": 10,
    "start_time": "2024-02-15T17:53:37.884Z"
   },
   {
    "duration": 172,
    "start_time": "2024-02-15T17:53:37.895Z"
   },
   {
    "duration": 131,
    "start_time": "2024-02-15T17:53:38.069Z"
   },
   {
    "duration": 6,
    "start_time": "2024-02-15T17:53:38.202Z"
   },
   {
    "duration": 26,
    "start_time": "2024-02-15T17:53:38.209Z"
   },
   {
    "duration": 13,
    "start_time": "2024-02-15T17:53:38.237Z"
   },
   {
    "duration": 264,
    "start_time": "2024-02-15T17:53:38.252Z"
   },
   {
    "duration": 293,
    "start_time": "2024-02-15T17:53:38.518Z"
   },
   {
    "duration": 381,
    "start_time": "2024-02-15T17:53:38.816Z"
   },
   {
    "duration": 4,
    "start_time": "2024-02-15T17:53:39.199Z"
   },
   {
    "duration": 18,
    "start_time": "2024-02-15T17:53:39.205Z"
   },
   {
    "duration": 13,
    "start_time": "2024-02-15T17:53:39.224Z"
   },
   {
    "duration": 302,
    "start_time": "2024-02-15T17:53:39.240Z"
   },
   {
    "duration": 14,
    "start_time": "2024-02-15T17:53:39.543Z"
   },
   {
    "duration": 377,
    "start_time": "2024-02-15T17:53:39.559Z"
   },
   {
    "duration": 11,
    "start_time": "2024-02-15T17:53:39.938Z"
   },
   {
    "duration": 195,
    "start_time": "2024-02-15T17:53:39.950Z"
   },
   {
    "duration": 10,
    "start_time": "2024-02-15T17:53:40.146Z"
   },
   {
    "duration": 208,
    "start_time": "2024-02-15T17:53:40.157Z"
   },
   {
    "duration": 11,
    "start_time": "2024-02-15T17:53:40.366Z"
   },
   {
    "duration": 9,
    "start_time": "2024-02-15T17:53:40.378Z"
   },
   {
    "duration": 72,
    "start_time": "2024-02-15T17:53:40.389Z"
   },
   {
    "duration": 13,
    "start_time": "2024-02-15T17:53:40.463Z"
   },
   {
    "duration": 54,
    "start_time": "2024-02-15T17:53:40.478Z"
   },
   {
    "duration": 45,
    "start_time": "2024-02-15T17:53:40.534Z"
   },
   {
    "duration": 52,
    "start_time": "2024-02-15T17:53:40.581Z"
   },
   {
    "duration": 44,
    "start_time": "2024-02-15T17:53:40.634Z"
   },
   {
    "duration": 53,
    "start_time": "2024-02-15T17:53:40.680Z"
   },
   {
    "duration": 29,
    "start_time": "2024-02-15T17:53:40.734Z"
   },
   {
    "duration": 87,
    "start_time": "2024-02-15T17:53:40.765Z"
   },
   {
    "duration": 80,
    "start_time": "2024-02-15T17:53:40.853Z"
   },
   {
    "duration": 6,
    "start_time": "2024-02-15T17:53:40.934Z"
   },
   {
    "duration": 38,
    "start_time": "2024-02-15T17:53:40.941Z"
   },
   {
    "duration": 9,
    "start_time": "2024-02-15T17:53:40.980Z"
   },
   {
    "duration": 8,
    "start_time": "2024-02-15T17:53:40.991Z"
   },
   {
    "duration": 11,
    "start_time": "2024-02-15T17:53:41.000Z"
   },
   {
    "duration": 10,
    "start_time": "2024-02-15T17:53:41.013Z"
   },
   {
    "duration": 30,
    "start_time": "2024-02-15T17:53:41.024Z"
   },
   {
    "duration": 12,
    "start_time": "2024-02-15T17:53:41.056Z"
   },
   {
    "duration": 165,
    "start_time": "2024-02-15T18:05:04.786Z"
   },
   {
    "duration": 192,
    "start_time": "2024-02-15T18:05:28.398Z"
   },
   {
    "duration": 1061,
    "start_time": "2024-02-15T18:05:40.089Z"
   },
   {
    "duration": 154,
    "start_time": "2024-02-15T18:05:52.389Z"
   },
   {
    "duration": 4,
    "start_time": "2024-02-15T18:12:25.247Z"
   },
   {
    "duration": 15,
    "start_time": "2024-02-15T18:12:25.255Z"
   },
   {
    "duration": 80,
    "start_time": "2024-02-15T18:12:25.272Z"
   },
   {
    "duration": 31,
    "start_time": "2024-02-15T18:12:25.354Z"
   },
   {
    "duration": 7,
    "start_time": "2024-02-15T18:12:25.388Z"
   },
   {
    "duration": 129,
    "start_time": "2024-02-15T18:12:25.397Z"
   },
   {
    "duration": 25,
    "start_time": "2024-02-15T18:12:25.528Z"
   },
   {
    "duration": 21,
    "start_time": "2024-02-15T18:12:25.555Z"
   },
   {
    "duration": 44,
    "start_time": "2024-02-15T18:12:25.577Z"
   },
   {
    "duration": 348,
    "start_time": "2024-02-15T18:12:25.624Z"
   },
   {
    "duration": 11,
    "start_time": "2024-02-15T18:12:25.974Z"
   },
   {
    "duration": 324,
    "start_time": "2024-02-15T18:12:25.987Z"
   },
   {
    "duration": 14,
    "start_time": "2024-02-15T18:12:26.312Z"
   },
   {
    "duration": 39,
    "start_time": "2024-02-15T18:12:26.327Z"
   },
   {
    "duration": 22,
    "start_time": "2024-02-15T18:12:26.367Z"
   },
   {
    "duration": 24,
    "start_time": "2024-02-15T18:12:26.390Z"
   },
   {
    "duration": 9,
    "start_time": "2024-02-15T18:12:26.416Z"
   },
   {
    "duration": 7,
    "start_time": "2024-02-15T18:12:26.427Z"
   },
   {
    "duration": 15,
    "start_time": "2024-02-15T18:12:26.436Z"
   },
   {
    "duration": 18,
    "start_time": "2024-02-15T18:12:26.452Z"
   },
   {
    "duration": 13,
    "start_time": "2024-02-15T18:12:26.472Z"
   },
   {
    "duration": 12,
    "start_time": "2024-02-15T18:12:26.487Z"
   },
   {
    "duration": 157,
    "start_time": "2024-02-15T18:12:26.500Z"
   },
   {
    "duration": 117,
    "start_time": "2024-02-15T18:12:26.659Z"
   },
   {
    "duration": 6,
    "start_time": "2024-02-15T18:12:26.779Z"
   },
   {
    "duration": 24,
    "start_time": "2024-02-15T18:12:26.787Z"
   },
   {
    "duration": 17,
    "start_time": "2024-02-15T18:12:26.812Z"
   },
   {
    "duration": 270,
    "start_time": "2024-02-15T18:12:26.831Z"
   },
   {
    "duration": 282,
    "start_time": "2024-02-15T18:12:27.102Z"
   },
   {
    "duration": 405,
    "start_time": "2024-02-15T18:12:27.386Z"
   },
   {
    "duration": 4,
    "start_time": "2024-02-15T18:12:27.793Z"
   },
   {
    "duration": 8,
    "start_time": "2024-02-15T18:12:27.799Z"
   },
   {
    "duration": 9,
    "start_time": "2024-02-15T18:12:27.820Z"
   },
   {
    "duration": 284,
    "start_time": "2024-02-15T18:12:27.830Z"
   },
   {
    "duration": 15,
    "start_time": "2024-02-15T18:12:28.116Z"
   },
   {
    "duration": 383,
    "start_time": "2024-02-15T18:12:28.132Z"
   },
   {
    "duration": 12,
    "start_time": "2024-02-15T18:12:28.517Z"
   },
   {
    "duration": 199,
    "start_time": "2024-02-15T18:12:28.530Z"
   },
   {
    "duration": 10,
    "start_time": "2024-02-15T18:12:28.730Z"
   },
   {
    "duration": 207,
    "start_time": "2024-02-15T18:12:28.741Z"
   },
   {
    "duration": 10,
    "start_time": "2024-02-15T18:12:28.950Z"
   },
   {
    "duration": 41,
    "start_time": "2024-02-15T18:12:28.962Z"
   },
   {
    "duration": 69,
    "start_time": "2024-02-15T18:12:29.005Z"
   },
   {
    "duration": 22,
    "start_time": "2024-02-15T18:12:29.076Z"
   },
   {
    "duration": 69,
    "start_time": "2024-02-15T18:12:29.100Z"
   },
   {
    "duration": 23,
    "start_time": "2024-02-15T18:12:29.170Z"
   },
   {
    "duration": 53,
    "start_time": "2024-02-15T18:12:29.194Z"
   },
   {
    "duration": 17,
    "start_time": "2024-02-15T18:12:29.248Z"
   },
   {
    "duration": 64,
    "start_time": "2024-02-15T18:12:29.266Z"
   },
   {
    "duration": 30,
    "start_time": "2024-02-15T18:12:29.332Z"
   },
   {
    "duration": 71,
    "start_time": "2024-02-15T18:12:29.363Z"
   },
   {
    "duration": 66,
    "start_time": "2024-02-15T18:12:29.436Z"
   },
   {
    "duration": 21,
    "start_time": "2024-02-15T18:12:29.504Z"
   },
   {
    "duration": 41,
    "start_time": "2024-02-15T18:12:29.526Z"
   },
   {
    "duration": 9,
    "start_time": "2024-02-15T18:12:29.569Z"
   },
   {
    "duration": 9,
    "start_time": "2024-02-15T18:12:29.579Z"
   },
   {
    "duration": 8,
    "start_time": "2024-02-15T18:12:29.590Z"
   },
   {
    "duration": 9,
    "start_time": "2024-02-15T18:12:29.599Z"
   },
   {
    "duration": 32,
    "start_time": "2024-02-15T18:12:29.610Z"
   },
   {
    "duration": 13,
    "start_time": "2024-02-15T18:12:29.643Z"
   },
   {
    "duration": 8,
    "start_time": "2024-02-15T18:13:40.957Z"
   },
   {
    "duration": 4,
    "start_time": "2024-02-15T18:14:08.672Z"
   },
   {
    "duration": 5,
    "start_time": "2024-02-15T18:14:08.680Z"
   },
   {
    "duration": 77,
    "start_time": "2024-02-15T18:14:08.688Z"
   },
   {
    "duration": 32,
    "start_time": "2024-02-15T18:14:08.767Z"
   },
   {
    "duration": 8,
    "start_time": "2024-02-15T18:14:08.800Z"
   },
   {
    "duration": 28,
    "start_time": "2024-02-15T18:14:08.810Z"
   },
   {
    "duration": 22,
    "start_time": "2024-02-15T18:14:08.839Z"
   },
   {
    "duration": 23,
    "start_time": "2024-02-15T18:14:08.862Z"
   },
   {
    "duration": 35,
    "start_time": "2024-02-15T18:14:08.886Z"
   },
   {
    "duration": 348,
    "start_time": "2024-02-15T18:14:08.923Z"
   },
   {
    "duration": 13,
    "start_time": "2024-02-15T18:14:09.272Z"
   },
   {
    "duration": 319,
    "start_time": "2024-02-15T18:14:09.287Z"
   },
   {
    "duration": 16,
    "start_time": "2024-02-15T18:14:09.607Z"
   },
   {
    "duration": 8,
    "start_time": "2024-02-15T18:14:09.625Z"
   },
   {
    "duration": 9,
    "start_time": "2024-02-15T18:14:09.635Z"
   },
   {
    "duration": 8,
    "start_time": "2024-02-15T18:14:09.645Z"
   },
   {
    "duration": 6,
    "start_time": "2024-02-15T18:14:09.654Z"
   },
   {
    "duration": 10,
    "start_time": "2024-02-15T18:14:09.661Z"
   },
   {
    "duration": 16,
    "start_time": "2024-02-15T18:14:09.672Z"
   },
   {
    "duration": 37,
    "start_time": "2024-02-15T18:14:09.689Z"
   },
   {
    "duration": 8,
    "start_time": "2024-02-15T18:14:09.727Z"
   },
   {
    "duration": 19,
    "start_time": "2024-02-15T18:14:09.736Z"
   },
   {
    "duration": 270,
    "start_time": "2024-02-15T18:14:09.757Z"
   },
   {
    "duration": 122,
    "start_time": "2024-02-15T18:14:10.029Z"
   },
   {
    "duration": 6,
    "start_time": "2024-02-15T18:14:10.153Z"
   },
   {
    "duration": 20,
    "start_time": "2024-02-15T18:14:10.161Z"
   },
   {
    "duration": 25,
    "start_time": "2024-02-15T18:14:10.183Z"
   },
   {
    "duration": 272,
    "start_time": "2024-02-15T18:14:10.209Z"
   },
   {
    "duration": 286,
    "start_time": "2024-02-15T18:14:10.483Z"
   },
   {
    "duration": 376,
    "start_time": "2024-02-15T18:14:10.773Z"
   },
   {
    "duration": 4,
    "start_time": "2024-02-15T18:14:11.150Z"
   },
   {
    "duration": 6,
    "start_time": "2024-02-15T18:14:11.155Z"
   },
   {
    "duration": 14,
    "start_time": "2024-02-15T18:14:11.163Z"
   },
   {
    "duration": 301,
    "start_time": "2024-02-15T18:14:11.179Z"
   },
   {
    "duration": 13,
    "start_time": "2024-02-15T18:14:11.482Z"
   },
   {
    "duration": 403,
    "start_time": "2024-02-15T18:14:11.497Z"
   },
   {
    "duration": 25,
    "start_time": "2024-02-15T18:14:11.901Z"
   },
   {
    "duration": 182,
    "start_time": "2024-02-15T18:14:11.927Z"
   },
   {
    "duration": 16,
    "start_time": "2024-02-15T18:14:12.111Z"
   },
   {
    "duration": 202,
    "start_time": "2024-02-15T18:14:12.129Z"
   },
   {
    "duration": 10,
    "start_time": "2024-02-15T18:14:12.333Z"
   },
   {
    "duration": 29,
    "start_time": "2024-02-15T18:14:12.345Z"
   },
   {
    "duration": 69,
    "start_time": "2024-02-15T18:14:12.375Z"
   },
   {
    "duration": 20,
    "start_time": "2024-02-15T18:14:12.446Z"
   },
   {
    "duration": 63,
    "start_time": "2024-02-15T18:14:12.468Z"
   },
   {
    "duration": 25,
    "start_time": "2024-02-15T18:14:12.532Z"
   },
   {
    "duration": 63,
    "start_time": "2024-02-15T18:14:12.558Z"
   },
   {
    "duration": 22,
    "start_time": "2024-02-15T18:14:12.623Z"
   },
   {
    "duration": 51,
    "start_time": "2024-02-15T18:14:12.647Z"
   },
   {
    "duration": 42,
    "start_time": "2024-02-15T18:14:12.699Z"
   },
   {
    "duration": 57,
    "start_time": "2024-02-15T18:14:12.742Z"
   },
   {
    "duration": 76,
    "start_time": "2024-02-15T18:14:12.801Z"
   },
   {
    "duration": 5,
    "start_time": "2024-02-15T18:14:12.879Z"
   },
   {
    "duration": 48,
    "start_time": "2024-02-15T18:14:12.886Z"
   },
   {
    "duration": 10,
    "start_time": "2024-02-15T18:14:12.936Z"
   },
   {
    "duration": 13,
    "start_time": "2024-02-15T18:14:12.947Z"
   },
   {
    "duration": 24,
    "start_time": "2024-02-15T18:14:12.961Z"
   },
   {
    "duration": 9,
    "start_time": "2024-02-15T18:14:12.986Z"
   },
   {
    "duration": 35,
    "start_time": "2024-02-15T18:14:12.997Z"
   },
   {
    "duration": 14,
    "start_time": "2024-02-15T18:14:13.034Z"
   },
   {
    "duration": 144,
    "start_time": "2024-02-16T11:31:57.755Z"
   },
   {
    "duration": 89,
    "start_time": "2024-02-16T11:39:47.950Z"
   },
   {
    "duration": 44,
    "start_time": "2024-02-16T11:39:55.385Z"
   },
   {
    "duration": 1390,
    "start_time": "2024-02-16T11:40:04.934Z"
   },
   {
    "duration": 3,
    "start_time": "2024-02-16T11:40:06.326Z"
   },
   {
    "duration": 197,
    "start_time": "2024-02-16T11:40:06.330Z"
   },
   {
    "duration": 35,
    "start_time": "2024-02-16T11:40:06.529Z"
   },
   {
    "duration": 7,
    "start_time": "2024-02-16T11:40:06.566Z"
   },
   {
    "duration": 50,
    "start_time": "2024-02-16T11:40:06.575Z"
   },
   {
    "duration": 27,
    "start_time": "2024-02-16T11:40:06.627Z"
   },
   {
    "duration": 20,
    "start_time": "2024-02-16T11:40:06.656Z"
   },
   {
    "duration": 42,
    "start_time": "2024-02-16T11:40:06.678Z"
   },
   {
    "duration": 388,
    "start_time": "2024-02-16T11:40:06.723Z"
   },
   {
    "duration": 15,
    "start_time": "2024-02-16T11:40:07.112Z"
   },
   {
    "duration": 317,
    "start_time": "2024-02-16T11:40:07.129Z"
   },
   {
    "duration": 8,
    "start_time": "2024-02-16T11:40:07.448Z"
   },
   {
    "duration": 12,
    "start_time": "2024-02-16T11:40:07.457Z"
   },
   {
    "duration": 11,
    "start_time": "2024-02-16T11:40:07.471Z"
   },
   {
    "duration": 10,
    "start_time": "2024-02-16T11:40:07.483Z"
   },
   {
    "duration": 5,
    "start_time": "2024-02-16T11:40:07.515Z"
   },
   {
    "duration": 11,
    "start_time": "2024-02-16T11:40:07.522Z"
   },
   {
    "duration": 5,
    "start_time": "2024-02-16T11:40:07.535Z"
   },
   {
    "duration": 12,
    "start_time": "2024-02-16T11:40:07.542Z"
   },
   {
    "duration": 10,
    "start_time": "2024-02-16T11:40:07.556Z"
   },
   {
    "duration": 9,
    "start_time": "2024-02-16T11:40:07.567Z"
   },
   {
    "duration": 201,
    "start_time": "2024-02-16T11:40:07.577Z"
   },
   {
    "duration": 122,
    "start_time": "2024-02-16T11:40:07.779Z"
   },
   {
    "duration": 14,
    "start_time": "2024-02-16T11:40:07.903Z"
   },
   {
    "duration": 8,
    "start_time": "2024-02-16T11:40:07.919Z"
   },
   {
    "duration": 14,
    "start_time": "2024-02-16T11:40:07.929Z"
   },
   {
    "duration": 397,
    "start_time": "2024-02-16T11:40:07.947Z"
   },
   {
    "duration": 304,
    "start_time": "2024-02-16T11:40:08.346Z"
   },
   {
    "duration": 474,
    "start_time": "2024-02-16T11:40:08.651Z"
   },
   {
    "duration": 4,
    "start_time": "2024-02-16T11:40:09.127Z"
   },
   {
    "duration": 23,
    "start_time": "2024-02-16T11:40:09.132Z"
   },
   {
    "duration": 10,
    "start_time": "2024-02-16T11:40:09.157Z"
   },
   {
    "duration": 307,
    "start_time": "2024-02-16T11:40:09.169Z"
   },
   {
    "duration": 19,
    "start_time": "2024-02-16T11:40:09.478Z"
   },
   {
    "duration": 454,
    "start_time": "2024-02-16T11:40:09.499Z"
   },
   {
    "duration": 10,
    "start_time": "2024-02-16T11:40:09.955Z"
   },
   {
    "duration": 188,
    "start_time": "2024-02-16T11:40:09.966Z"
   },
   {
    "duration": 9,
    "start_time": "2024-02-16T11:40:10.155Z"
   },
   {
    "duration": 202,
    "start_time": "2024-02-16T11:40:10.166Z"
   },
   {
    "duration": 12,
    "start_time": "2024-02-16T11:40:10.370Z"
   },
   {
    "duration": 13,
    "start_time": "2024-02-16T11:40:10.383Z"
   },
   {
    "duration": 65,
    "start_time": "2024-02-16T11:40:10.398Z"
   },
   {
    "duration": 10,
    "start_time": "2024-02-16T11:40:10.464Z"
   },
   {
    "duration": 66,
    "start_time": "2024-02-16T11:40:10.476Z"
   },
   {
    "duration": 32,
    "start_time": "2024-02-16T11:40:10.543Z"
   },
   {
    "duration": 59,
    "start_time": "2024-02-16T11:40:10.577Z"
   },
   {
    "duration": 22,
    "start_time": "2024-02-16T11:40:10.637Z"
   },
   {
    "duration": 65,
    "start_time": "2024-02-16T11:40:10.660Z"
   },
   {
    "duration": 36,
    "start_time": "2024-02-16T11:40:10.727Z"
   },
   {
    "duration": 70,
    "start_time": "2024-02-16T11:40:10.765Z"
   },
   {
    "duration": 98,
    "start_time": "2024-02-16T11:40:10.836Z"
   },
   {
    "duration": 6,
    "start_time": "2024-02-16T11:40:10.936Z"
   },
   {
    "duration": 39,
    "start_time": "2024-02-16T11:40:10.943Z"
   },
   {
    "duration": 9,
    "start_time": "2024-02-16T11:40:10.984Z"
   },
   {
    "duration": 21,
    "start_time": "2024-02-16T11:40:10.994Z"
   },
   {
    "duration": 19,
    "start_time": "2024-02-16T11:40:11.016Z"
   },
   {
    "duration": 7,
    "start_time": "2024-02-16T11:40:11.036Z"
   },
   {
    "duration": 31,
    "start_time": "2024-02-16T11:40:11.045Z"
   },
   {
    "duration": 13,
    "start_time": "2024-02-16T11:40:11.078Z"
   },
   {
    "duration": 3,
    "start_time": "2024-02-16T11:45:19.687Z"
   },
   {
    "duration": 76,
    "start_time": "2024-02-16T11:45:20.486Z"
   },
   {
    "duration": 34,
    "start_time": "2024-02-16T11:45:22.381Z"
   },
   {
    "duration": 8,
    "start_time": "2024-02-16T11:45:30.509Z"
   },
   {
    "duration": 30,
    "start_time": "2024-02-16T11:45:32.768Z"
   },
   {
    "duration": 32,
    "start_time": "2024-02-16T11:45:33.552Z"
   },
   {
    "duration": 26,
    "start_time": "2024-02-16T11:45:34.305Z"
   },
   {
    "duration": 13,
    "start_time": "2024-02-16T11:45:36.891Z"
   },
   {
    "duration": 317,
    "start_time": "2024-02-16T11:45:47.354Z"
   },
   {
    "duration": 273,
    "start_time": "2024-02-16T12:02:16.651Z"
   },
   {
    "duration": 273,
    "start_time": "2024-02-16T12:03:49.755Z"
   },
   {
    "duration": 411,
    "start_time": "2024-02-16T12:09:54.007Z"
   },
   {
    "duration": 386,
    "start_time": "2024-02-16T12:10:15.994Z"
   },
   {
    "duration": 371,
    "start_time": "2024-02-16T12:12:22.373Z"
   },
   {
    "duration": 370,
    "start_time": "2024-02-16T12:13:11.056Z"
   },
   {
    "duration": 169,
    "start_time": "2024-02-16T12:22:50.045Z"
   },
   {
    "duration": 269,
    "start_time": "2024-02-16T12:23:53.383Z"
   },
   {
    "duration": 189,
    "start_time": "2024-02-16T12:24:13.594Z"
   },
   {
    "duration": 258,
    "start_time": "2024-02-16T12:24:49.804Z"
   },
   {
    "duration": 193,
    "start_time": "2024-02-16T12:26:28.103Z"
   },
   {
    "duration": 192,
    "start_time": "2024-02-16T12:27:25.479Z"
   },
   {
    "duration": 25,
    "start_time": "2024-02-16T13:02:57.696Z"
   },
   {
    "duration": 25,
    "start_time": "2024-02-16T13:03:05.143Z"
   },
   {
    "duration": 30,
    "start_time": "2024-02-16T13:04:26.811Z"
   },
   {
    "duration": 24,
    "start_time": "2024-02-16T13:04:48.496Z"
   },
   {
    "duration": 76,
    "start_time": "2024-02-16T13:05:01.011Z"
   },
   {
    "duration": 74,
    "start_time": "2024-02-16T13:05:34.462Z"
   },
   {
    "duration": 24,
    "start_time": "2024-02-16T13:05:42.913Z"
   },
   {
    "duration": 13,
    "start_time": "2024-02-16T13:08:07.117Z"
   },
   {
    "duration": 4,
    "start_time": "2024-02-16T13:08:40.518Z"
   },
   {
    "duration": 3,
    "start_time": "2024-02-16T13:08:40.529Z"
   },
   {
    "duration": 76,
    "start_time": "2024-02-16T13:08:40.541Z"
   },
   {
    "duration": 30,
    "start_time": "2024-02-16T13:08:40.619Z"
   },
   {
    "duration": 8,
    "start_time": "2024-02-16T13:08:40.651Z"
   },
   {
    "duration": 63,
    "start_time": "2024-02-16T13:08:40.660Z"
   },
   {
    "duration": 23,
    "start_time": "2024-02-16T13:08:40.724Z"
   },
   {
    "duration": 19,
    "start_time": "2024-02-16T13:08:40.749Z"
   },
   {
    "duration": 46,
    "start_time": "2024-02-16T13:08:40.769Z"
   },
   {
    "duration": 332,
    "start_time": "2024-02-16T13:08:40.817Z"
   },
   {
    "duration": 11,
    "start_time": "2024-02-16T13:08:41.151Z"
   },
   {
    "duration": 321,
    "start_time": "2024-02-16T13:08:41.164Z"
   },
   {
    "duration": 8,
    "start_time": "2024-02-16T13:08:41.487Z"
   },
   {
    "duration": 20,
    "start_time": "2024-02-16T13:08:41.496Z"
   },
   {
    "duration": 9,
    "start_time": "2024-02-16T13:08:41.517Z"
   },
   {
    "duration": 7,
    "start_time": "2024-02-16T13:08:41.527Z"
   },
   {
    "duration": 6,
    "start_time": "2024-02-16T13:08:41.536Z"
   },
   {
    "duration": 17,
    "start_time": "2024-02-16T13:08:41.543Z"
   },
   {
    "duration": 5,
    "start_time": "2024-02-16T13:08:41.561Z"
   },
   {
    "duration": 6,
    "start_time": "2024-02-16T13:08:41.567Z"
   },
   {
    "duration": 6,
    "start_time": "2024-02-16T13:08:41.575Z"
   },
   {
    "duration": 10,
    "start_time": "2024-02-16T13:08:41.615Z"
   },
   {
    "duration": 186,
    "start_time": "2024-02-16T13:08:41.626Z"
   },
   {
    "duration": 138,
    "start_time": "2024-02-16T13:08:41.815Z"
   },
   {
    "duration": 6,
    "start_time": "2024-02-16T13:08:41.956Z"
   },
   {
    "duration": 15,
    "start_time": "2024-02-16T13:08:41.963Z"
   },
   {
    "duration": 14,
    "start_time": "2024-02-16T13:08:41.979Z"
   },
   {
    "duration": 284,
    "start_time": "2024-02-16T13:08:42.015Z"
   },
   {
    "duration": 280,
    "start_time": "2024-02-16T13:08:42.300Z"
   },
   {
    "duration": 400,
    "start_time": "2024-02-16T13:08:42.582Z"
   },
   {
    "duration": 4,
    "start_time": "2024-02-16T13:08:42.983Z"
   },
   {
    "duration": 5,
    "start_time": "2024-02-16T13:08:42.989Z"
   },
   {
    "duration": 21,
    "start_time": "2024-02-16T13:08:42.996Z"
   },
   {
    "duration": 294,
    "start_time": "2024-02-16T13:08:43.019Z"
   },
   {
    "duration": 12,
    "start_time": "2024-02-16T13:08:43.315Z"
   },
   {
    "duration": 390,
    "start_time": "2024-02-16T13:08:43.328Z"
   },
   {
    "duration": 10,
    "start_time": "2024-02-16T13:08:43.720Z"
   },
   {
    "duration": 192,
    "start_time": "2024-02-16T13:08:43.731Z"
   },
   {
    "duration": 9,
    "start_time": "2024-02-16T13:08:43.924Z"
   },
   {
    "duration": 290,
    "start_time": "2024-02-16T13:08:43.934Z"
   },
   {
    "duration": 11,
    "start_time": "2024-02-16T13:08:44.226Z"
   },
   {
    "duration": 14,
    "start_time": "2024-02-16T13:08:44.239Z"
   },
   {
    "duration": 72,
    "start_time": "2024-02-16T13:08:44.255Z"
   },
   {
    "duration": 10,
    "start_time": "2024-02-16T13:08:44.329Z"
   },
   {
    "duration": 52,
    "start_time": "2024-02-16T13:08:44.341Z"
   },
   {
    "duration": 34,
    "start_time": "2024-02-16T13:08:44.394Z"
   },
   {
    "duration": 52,
    "start_time": "2024-02-16T13:08:44.429Z"
   },
   {
    "duration": 37,
    "start_time": "2024-02-16T13:08:44.483Z"
   },
   {
    "duration": 61,
    "start_time": "2024-02-16T13:08:44.522Z"
   },
   {
    "duration": 34,
    "start_time": "2024-02-16T13:08:44.584Z"
   },
   {
    "duration": 62,
    "start_time": "2024-02-16T13:08:44.619Z"
   },
   {
    "duration": 89,
    "start_time": "2024-02-16T13:08:44.682Z"
   },
   {
    "duration": 6,
    "start_time": "2024-02-16T13:08:44.773Z"
   },
   {
    "duration": 47,
    "start_time": "2024-02-16T13:08:44.780Z"
   },
   {
    "duration": 13,
    "start_time": "2024-02-16T13:08:44.828Z"
   },
   {
    "duration": 11,
    "start_time": "2024-02-16T13:08:44.843Z"
   },
   {
    "duration": 6,
    "start_time": "2024-02-16T13:08:44.856Z"
   },
   {
    "duration": 9,
    "start_time": "2024-02-16T13:08:44.863Z"
   },
   {
    "duration": 49,
    "start_time": "2024-02-16T13:08:44.877Z"
   },
   {
    "duration": 14,
    "start_time": "2024-02-16T13:08:44.927Z"
   },
   {
    "duration": 25,
    "start_time": "2024-02-16T13:10:09.459Z"
   },
   {
    "duration": 13,
    "start_time": "2024-02-16T13:10:47.281Z"
   },
   {
    "duration": 13,
    "start_time": "2024-02-16T13:11:42.241Z"
   },
   {
    "duration": 26,
    "start_time": "2024-02-16T13:34:00.371Z"
   },
   {
    "duration": 11,
    "start_time": "2024-02-16T13:34:40.035Z"
   },
   {
    "duration": 10,
    "start_time": "2024-02-16T13:35:02.438Z"
   },
   {
    "duration": 10,
    "start_time": "2024-02-16T13:35:18.719Z"
   },
   {
    "duration": 25,
    "start_time": "2024-02-16T13:36:00.954Z"
   },
   {
    "duration": 13,
    "start_time": "2024-02-16T13:36:40.388Z"
   },
   {
    "duration": 4,
    "start_time": "2024-02-16T13:36:52.639Z"
   },
   {
    "duration": 16,
    "start_time": "2024-02-16T13:36:52.649Z"
   },
   {
    "duration": 86,
    "start_time": "2024-02-16T13:36:52.667Z"
   },
   {
    "duration": 31,
    "start_time": "2024-02-16T13:36:52.754Z"
   },
   {
    "duration": 7,
    "start_time": "2024-02-16T13:36:52.786Z"
   },
   {
    "duration": 34,
    "start_time": "2024-02-16T13:36:52.795Z"
   },
   {
    "duration": 25,
    "start_time": "2024-02-16T13:36:52.831Z"
   },
   {
    "duration": 23,
    "start_time": "2024-02-16T13:36:52.858Z"
   },
   {
    "duration": 32,
    "start_time": "2024-02-16T13:36:52.883Z"
   },
   {
    "duration": 350,
    "start_time": "2024-02-16T13:36:52.917Z"
   },
   {
    "duration": 12,
    "start_time": "2024-02-16T13:36:53.269Z"
   },
   {
    "duration": 339,
    "start_time": "2024-02-16T13:36:53.282Z"
   },
   {
    "duration": 8,
    "start_time": "2024-02-16T13:36:53.622Z"
   },
   {
    "duration": 11,
    "start_time": "2024-02-16T13:36:53.632Z"
   },
   {
    "duration": 19,
    "start_time": "2024-02-16T13:36:53.644Z"
   },
   {
    "duration": 10,
    "start_time": "2024-02-16T13:36:53.664Z"
   },
   {
    "duration": 5,
    "start_time": "2024-02-16T13:36:53.675Z"
   },
   {
    "duration": 7,
    "start_time": "2024-02-16T13:36:53.681Z"
   },
   {
    "duration": 26,
    "start_time": "2024-02-16T13:36:53.690Z"
   },
   {
    "duration": 7,
    "start_time": "2024-02-16T13:36:53.717Z"
   },
   {
    "duration": 24,
    "start_time": "2024-02-16T13:36:53.726Z"
   },
   {
    "duration": 10,
    "start_time": "2024-02-16T13:36:53.752Z"
   },
   {
    "duration": 163,
    "start_time": "2024-02-16T13:36:53.764Z"
   },
   {
    "duration": 131,
    "start_time": "2024-02-16T13:36:53.929Z"
   },
   {
    "duration": 6,
    "start_time": "2024-02-16T13:36:54.063Z"
   },
   {
    "duration": 30,
    "start_time": "2024-02-16T13:36:54.071Z"
   },
   {
    "duration": 24,
    "start_time": "2024-02-16T13:36:54.102Z"
   },
   {
    "duration": 288,
    "start_time": "2024-02-16T13:36:54.127Z"
   },
   {
    "duration": 298,
    "start_time": "2024-02-16T13:36:54.417Z"
   },
   {
    "duration": 414,
    "start_time": "2024-02-16T13:36:54.716Z"
   },
   {
    "duration": 4,
    "start_time": "2024-02-16T13:36:55.131Z"
   },
   {
    "duration": 7,
    "start_time": "2024-02-16T13:36:55.136Z"
   },
   {
    "duration": 13,
    "start_time": "2024-02-16T13:36:55.144Z"
   },
   {
    "duration": 298,
    "start_time": "2024-02-16T13:36:55.159Z"
   },
   {
    "duration": 12,
    "start_time": "2024-02-16T13:36:55.458Z"
   },
   {
    "duration": 454,
    "start_time": "2024-02-16T13:36:55.471Z"
   },
   {
    "duration": 14,
    "start_time": "2024-02-16T13:36:55.927Z"
   },
   {
    "duration": 202,
    "start_time": "2024-02-16T13:36:55.942Z"
   },
   {
    "duration": 10,
    "start_time": "2024-02-16T13:36:56.146Z"
   },
   {
    "duration": 203,
    "start_time": "2024-02-16T13:36:56.158Z"
   },
   {
    "duration": 11,
    "start_time": "2024-02-16T13:36:56.363Z"
   },
   {
    "duration": 10,
    "start_time": "2024-02-16T13:36:56.376Z"
   },
   {
    "duration": 66,
    "start_time": "2024-02-16T13:36:56.387Z"
   },
   {
    "duration": 14,
    "start_time": "2024-02-16T13:36:56.454Z"
   },
   {
    "duration": 50,
    "start_time": "2024-02-16T13:36:56.469Z"
   },
   {
    "duration": 43,
    "start_time": "2024-02-16T13:36:56.520Z"
   },
   {
    "duration": 51,
    "start_time": "2024-02-16T13:36:56.564Z"
   },
   {
    "duration": 16,
    "start_time": "2024-02-16T13:36:56.616Z"
   },
   {
    "duration": 61,
    "start_time": "2024-02-16T13:36:56.634Z"
   },
   {
    "duration": 30,
    "start_time": "2024-02-16T13:36:56.696Z"
   },
   {
    "duration": 70,
    "start_time": "2024-02-16T13:36:56.727Z"
   },
   {
    "duration": 79,
    "start_time": "2024-02-16T13:36:56.815Z"
   },
   {
    "duration": 22,
    "start_time": "2024-02-16T13:36:56.895Z"
   },
   {
    "duration": 24,
    "start_time": "2024-02-16T13:36:56.919Z"
   },
   {
    "duration": 10,
    "start_time": "2024-02-16T13:36:56.944Z"
   },
   {
    "duration": 8,
    "start_time": "2024-02-16T13:36:56.955Z"
   },
   {
    "duration": 14,
    "start_time": "2024-02-16T13:36:56.965Z"
   },
   {
    "duration": 7,
    "start_time": "2024-02-16T13:36:56.980Z"
   },
   {
    "duration": 43,
    "start_time": "2024-02-16T13:36:56.989Z"
   },
   {
    "duration": 16,
    "start_time": "2024-02-16T13:36:57.034Z"
   },
   {
    "duration": 103,
    "start_time": "2024-02-16T17:09:59.248Z"
   },
   {
    "duration": 74,
    "start_time": "2024-02-16T17:10:01.412Z"
   },
   {
    "duration": 0,
    "start_time": "2024-02-16T17:10:01.488Z"
   },
   {
    "duration": 0,
    "start_time": "2024-02-16T17:10:01.489Z"
   },
   {
    "duration": 0,
    "start_time": "2024-02-16T17:10:01.490Z"
   },
   {
    "duration": 0,
    "start_time": "2024-02-16T17:10:01.490Z"
   },
   {
    "duration": 48,
    "start_time": "2024-02-16T17:10:01.900Z"
   },
   {
    "duration": 0,
    "start_time": "2024-02-16T17:10:01.951Z"
   },
   {
    "duration": 0,
    "start_time": "2024-02-16T17:10:01.952Z"
   },
   {
    "duration": 0,
    "start_time": "2024-02-16T17:10:01.954Z"
   },
   {
    "duration": 0,
    "start_time": "2024-02-16T17:10:01.955Z"
   },
   {
    "duration": 0,
    "start_time": "2024-02-16T17:10:01.957Z"
   },
   {
    "duration": 0,
    "start_time": "2024-02-16T17:10:01.958Z"
   },
   {
    "duration": 0,
    "start_time": "2024-02-16T17:10:01.960Z"
   },
   {
    "duration": 0,
    "start_time": "2024-02-16T17:10:01.961Z"
   },
   {
    "duration": 0,
    "start_time": "2024-02-16T17:10:01.962Z"
   },
   {
    "duration": 0,
    "start_time": "2024-02-16T17:10:01.964Z"
   },
   {
    "duration": 0,
    "start_time": "2024-02-16T17:10:01.965Z"
   },
   {
    "duration": 0,
    "start_time": "2024-02-16T17:10:01.983Z"
   },
   {
    "duration": 0,
    "start_time": "2024-02-16T17:10:01.985Z"
   },
   {
    "duration": 0,
    "start_time": "2024-02-16T17:10:01.987Z"
   },
   {
    "duration": 0,
    "start_time": "2024-02-16T17:10:01.988Z"
   },
   {
    "duration": 0,
    "start_time": "2024-02-16T17:10:01.989Z"
   },
   {
    "duration": 0,
    "start_time": "2024-02-16T17:10:01.991Z"
   },
   {
    "duration": 0,
    "start_time": "2024-02-16T17:10:01.992Z"
   },
   {
    "duration": 0,
    "start_time": "2024-02-16T17:10:01.993Z"
   },
   {
    "duration": 0,
    "start_time": "2024-02-16T17:10:01.995Z"
   },
   {
    "duration": 0,
    "start_time": "2024-02-16T17:10:01.996Z"
   },
   {
    "duration": 8,
    "start_time": "2024-02-16T17:10:02.071Z"
   },
   {
    "duration": 0,
    "start_time": "2024-02-16T17:10:02.081Z"
   },
   {
    "duration": 0,
    "start_time": "2024-02-16T17:10:02.083Z"
   },
   {
    "duration": 0,
    "start_time": "2024-02-16T17:10:02.084Z"
   },
   {
    "duration": 0,
    "start_time": "2024-02-16T17:10:02.086Z"
   },
   {
    "duration": 0,
    "start_time": "2024-02-16T17:10:02.087Z"
   },
   {
    "duration": 0,
    "start_time": "2024-02-16T17:10:02.088Z"
   },
   {
    "duration": 0,
    "start_time": "2024-02-16T17:10:02.089Z"
   },
   {
    "duration": 7,
    "start_time": "2024-02-16T17:10:02.237Z"
   },
   {
    "duration": 0,
    "start_time": "2024-02-16T17:10:02.246Z"
   },
   {
    "duration": 0,
    "start_time": "2024-02-16T17:10:02.247Z"
   },
   {
    "duration": 0,
    "start_time": "2024-02-16T17:10:02.249Z"
   },
   {
    "duration": 0,
    "start_time": "2024-02-16T17:10:02.250Z"
   },
   {
    "duration": 0,
    "start_time": "2024-02-16T17:10:02.251Z"
   },
   {
    "duration": 0,
    "start_time": "2024-02-16T17:10:02.252Z"
   },
   {
    "duration": 0,
    "start_time": "2024-02-16T17:10:02.253Z"
   },
   {
    "duration": 0,
    "start_time": "2024-02-16T17:10:02.254Z"
   },
   {
    "duration": 0,
    "start_time": "2024-02-16T17:10:02.255Z"
   },
   {
    "duration": 0,
    "start_time": "2024-02-16T17:10:02.256Z"
   },
   {
    "duration": 0,
    "start_time": "2024-02-16T17:10:02.257Z"
   },
   {
    "duration": 0,
    "start_time": "2024-02-16T17:10:02.258Z"
   },
   {
    "duration": 0,
    "start_time": "2024-02-16T17:10:02.259Z"
   },
   {
    "duration": 0,
    "start_time": "2024-02-16T17:10:02.260Z"
   },
   {
    "duration": 0,
    "start_time": "2024-02-16T17:10:02.261Z"
   },
   {
    "duration": 7,
    "start_time": "2024-02-16T17:10:02.279Z"
   },
   {
    "duration": 0,
    "start_time": "2024-02-16T17:10:02.287Z"
   },
   {
    "duration": 0,
    "start_time": "2024-02-16T17:10:02.288Z"
   },
   {
    "duration": 0,
    "start_time": "2024-02-16T17:10:02.289Z"
   },
   {
    "duration": 8,
    "start_time": "2024-02-16T17:10:02.316Z"
   },
   {
    "duration": 0,
    "start_time": "2024-02-16T17:10:02.325Z"
   },
   {
    "duration": 0,
    "start_time": "2024-02-16T17:10:02.327Z"
   },
   {
    "duration": 7,
    "start_time": "2024-02-16T17:10:02.663Z"
   },
   {
    "duration": 0,
    "start_time": "2024-02-16T17:10:02.672Z"
   },
   {
    "duration": 79,
    "start_time": "2024-02-16T17:10:24.598Z"
   },
   {
    "duration": 0,
    "start_time": "2024-02-16T17:10:24.678Z"
   },
   {
    "duration": 0,
    "start_time": "2024-02-16T17:10:24.680Z"
   },
   {
    "duration": 0,
    "start_time": "2024-02-16T17:10:24.681Z"
   },
   {
    "duration": 0,
    "start_time": "2024-02-16T17:10:24.683Z"
   },
   {
    "duration": 7,
    "start_time": "2024-02-16T17:10:24.993Z"
   },
   {
    "duration": 0,
    "start_time": "2024-02-16T17:10:25.002Z"
   },
   {
    "duration": 0,
    "start_time": "2024-02-16T17:10:25.004Z"
   },
   {
    "duration": 0,
    "start_time": "2024-02-16T17:10:25.005Z"
   },
   {
    "duration": 0,
    "start_time": "2024-02-16T17:10:25.007Z"
   },
   {
    "duration": 0,
    "start_time": "2024-02-16T17:10:25.008Z"
   },
   {
    "duration": 0,
    "start_time": "2024-02-16T17:10:25.010Z"
   },
   {
    "duration": 6,
    "start_time": "2024-02-16T17:10:25.034Z"
   },
   {
    "duration": 0,
    "start_time": "2024-02-16T17:10:25.042Z"
   },
   {
    "duration": 0,
    "start_time": "2024-02-16T17:10:25.044Z"
   },
   {
    "duration": 0,
    "start_time": "2024-02-16T17:10:25.045Z"
   },
   {
    "duration": 0,
    "start_time": "2024-02-16T17:10:25.047Z"
   },
   {
    "duration": 0,
    "start_time": "2024-02-16T17:10:25.048Z"
   },
   {
    "duration": 0,
    "start_time": "2024-02-16T17:10:25.050Z"
   },
   {
    "duration": 0,
    "start_time": "2024-02-16T17:10:25.051Z"
   },
   {
    "duration": 0,
    "start_time": "2024-02-16T17:10:25.053Z"
   },
   {
    "duration": 0,
    "start_time": "2024-02-16T17:10:25.054Z"
   },
   {
    "duration": 11,
    "start_time": "2024-02-16T17:10:25.089Z"
   },
   {
    "duration": 0,
    "start_time": "2024-02-16T17:10:25.103Z"
   },
   {
    "duration": 0,
    "start_time": "2024-02-16T17:10:25.104Z"
   },
   {
    "duration": 0,
    "start_time": "2024-02-16T17:10:25.105Z"
   },
   {
    "duration": 0,
    "start_time": "2024-02-16T17:10:25.106Z"
   },
   {
    "duration": 0,
    "start_time": "2024-02-16T17:10:25.108Z"
   },
   {
    "duration": 0,
    "start_time": "2024-02-16T17:10:25.109Z"
   },
   {
    "duration": 9,
    "start_time": "2024-02-16T17:10:25.120Z"
   },
   {
    "duration": 0,
    "start_time": "2024-02-16T17:10:25.131Z"
   },
   {
    "duration": 0,
    "start_time": "2024-02-16T17:10:25.132Z"
   },
   {
    "duration": 0,
    "start_time": "2024-02-16T17:10:25.134Z"
   },
   {
    "duration": 0,
    "start_time": "2024-02-16T17:10:25.135Z"
   },
   {
    "duration": 0,
    "start_time": "2024-02-16T17:10:25.182Z"
   },
   {
    "duration": 9,
    "start_time": "2024-02-16T17:10:25.468Z"
   },
   {
    "duration": 0,
    "start_time": "2024-02-16T17:10:25.479Z"
   },
   {
    "duration": 0,
    "start_time": "2024-02-16T17:10:25.480Z"
   },
   {
    "duration": 0,
    "start_time": "2024-02-16T17:10:25.481Z"
   },
   {
    "duration": 0,
    "start_time": "2024-02-16T17:10:25.483Z"
   },
   {
    "duration": 0,
    "start_time": "2024-02-16T17:10:25.484Z"
   },
   {
    "duration": 0,
    "start_time": "2024-02-16T17:10:25.486Z"
   },
   {
    "duration": 0,
    "start_time": "2024-02-16T17:10:25.488Z"
   },
   {
    "duration": 0,
    "start_time": "2024-02-16T17:10:25.489Z"
   },
   {
    "duration": 0,
    "start_time": "2024-02-16T17:10:25.490Z"
   },
   {
    "duration": 7,
    "start_time": "2024-02-16T17:10:25.525Z"
   },
   {
    "duration": 0,
    "start_time": "2024-02-16T17:10:25.534Z"
   },
   {
    "duration": 0,
    "start_time": "2024-02-16T17:10:25.535Z"
   },
   {
    "duration": 0,
    "start_time": "2024-02-16T17:10:25.537Z"
   },
   {
    "duration": 8,
    "start_time": "2024-02-16T17:10:25.569Z"
   },
   {
    "duration": 0,
    "start_time": "2024-02-16T17:10:25.579Z"
   },
   {
    "duration": 0,
    "start_time": "2024-02-16T17:10:25.580Z"
   },
   {
    "duration": 0,
    "start_time": "2024-02-16T17:10:25.581Z"
   },
   {
    "duration": 0,
    "start_time": "2024-02-16T17:10:25.582Z"
   },
   {
    "duration": 0,
    "start_time": "2024-02-16T17:10:25.583Z"
   },
   {
    "duration": 0,
    "start_time": "2024-02-16T17:10:25.584Z"
   },
   {
    "duration": 0,
    "start_time": "2024-02-16T17:10:25.585Z"
   },
   {
    "duration": 0,
    "start_time": "2024-02-16T17:10:25.586Z"
   },
   {
    "duration": 0,
    "start_time": "2024-02-16T17:10:25.587Z"
   },
   {
    "duration": 9,
    "start_time": "2024-02-16T17:10:25.609Z"
   },
   {
    "duration": 74,
    "start_time": "2024-02-16T17:10:36.899Z"
   },
   {
    "duration": 69,
    "start_time": "2024-02-16T17:12:37.983Z"
   },
   {
    "duration": 3803,
    "start_time": "2024-02-16T17:12:51.590Z"
   },
   {
    "duration": 1380,
    "start_time": "2024-02-16T17:12:55.396Z"
   },
   {
    "duration": 3,
    "start_time": "2024-02-16T17:13:01.195Z"
   },
   {
    "duration": 181,
    "start_time": "2024-02-16T17:13:03.907Z"
   },
   {
    "duration": 38,
    "start_time": "2024-02-16T17:13:04.704Z"
   },
   {
    "duration": 33,
    "start_time": "2024-02-16T17:13:14.813Z"
   },
   {
    "duration": 9,
    "start_time": "2024-02-16T17:13:19.344Z"
   },
   {
    "duration": 35,
    "start_time": "2024-02-16T17:13:20.725Z"
   },
   {
    "duration": 25,
    "start_time": "2024-02-16T17:13:24.507Z"
   },
   {
    "duration": 22,
    "start_time": "2024-02-16T17:13:25.915Z"
   },
   {
    "duration": 13,
    "start_time": "2024-02-16T17:13:29.036Z"
   },
   {
    "duration": 399,
    "start_time": "2024-02-16T17:13:29.573Z"
   },
   {
    "duration": 12,
    "start_time": "2024-02-16T17:13:32.397Z"
   },
   {
    "duration": 339,
    "start_time": "2024-02-16T17:13:33.745Z"
   },
   {
    "duration": 9,
    "start_time": "2024-02-16T17:13:39.462Z"
   },
   {
    "duration": 8,
    "start_time": "2024-02-16T17:13:41.057Z"
   },
   {
    "duration": 8,
    "start_time": "2024-02-16T17:15:08.289Z"
   },
   {
    "duration": 94,
    "start_time": "2024-02-16T17:18:25.060Z"
   },
   {
    "duration": 10,
    "start_time": "2024-02-16T17:18:47.455Z"
   },
   {
    "duration": 9,
    "start_time": "2024-02-16T17:18:49.064Z"
   },
   {
    "duration": 92,
    "start_time": "2024-02-16T17:22:02.081Z"
   },
   {
    "duration": 92,
    "start_time": "2024-02-16T17:22:22.293Z"
   },
   {
    "duration": 119,
    "start_time": "2024-02-16T17:30:45.464Z"
   },
   {
    "duration": 14,
    "start_time": "2024-02-16T17:31:08.589Z"
   },
   {
    "duration": 3,
    "start_time": "2024-02-16T17:31:56.125Z"
   },
   {
    "duration": 4,
    "start_time": "2024-02-16T17:41:00.030Z"
   },
   {
    "duration": 12,
    "start_time": "2024-02-16T17:41:00.036Z"
   },
   {
    "duration": 123,
    "start_time": "2024-02-16T17:41:00.049Z"
   },
   {
    "duration": 32,
    "start_time": "2024-02-16T17:41:00.174Z"
   },
   {
    "duration": 29,
    "start_time": "2024-02-16T17:41:00.208Z"
   },
   {
    "duration": 71,
    "start_time": "2024-02-16T17:41:00.238Z"
   },
   {
    "duration": 37,
    "start_time": "2024-02-16T17:41:00.310Z"
   },
   {
    "duration": 42,
    "start_time": "2024-02-16T17:41:00.349Z"
   },
   {
    "duration": 110,
    "start_time": "2024-02-16T17:41:00.392Z"
   },
   {
    "duration": 467,
    "start_time": "2024-02-16T17:41:00.504Z"
   },
   {
    "duration": 14,
    "start_time": "2024-02-16T17:41:00.973Z"
   },
   {
    "duration": 353,
    "start_time": "2024-02-16T17:41:00.989Z"
   },
   {
    "duration": 10,
    "start_time": "2024-02-16T17:41:01.344Z"
   },
   {
    "duration": 89,
    "start_time": "2024-02-16T17:41:01.358Z"
   },
   {
    "duration": 59,
    "start_time": "2024-02-16T17:41:01.448Z"
   },
   {
    "duration": 41,
    "start_time": "2024-02-16T17:41:01.509Z"
   },
   {
    "duration": 59,
    "start_time": "2024-02-16T17:41:01.552Z"
   },
   {
    "duration": 35,
    "start_time": "2024-02-16T17:41:01.613Z"
   },
   {
    "duration": 55,
    "start_time": "2024-02-16T17:41:01.650Z"
   },
   {
    "duration": 52,
    "start_time": "2024-02-16T17:41:01.707Z"
   },
   {
    "duration": 85,
    "start_time": "2024-02-16T17:41:01.761Z"
   },
   {
    "duration": 58,
    "start_time": "2024-02-16T17:41:01.848Z"
   },
   {
    "duration": 192,
    "start_time": "2024-02-16T17:41:01.908Z"
   },
   {
    "duration": 139,
    "start_time": "2024-02-16T17:41:02.102Z"
   },
   {
    "duration": 6,
    "start_time": "2024-02-16T17:41:02.243Z"
   },
   {
    "duration": 36,
    "start_time": "2024-02-16T17:41:02.251Z"
   },
   {
    "duration": 36,
    "start_time": "2024-02-16T17:41:02.288Z"
   },
   {
    "duration": 467,
    "start_time": "2024-02-16T17:41:02.325Z"
   },
   {
    "duration": 308,
    "start_time": "2024-02-16T17:41:02.794Z"
   },
   {
    "duration": 411,
    "start_time": "2024-02-16T17:41:03.104Z"
   },
   {
    "duration": 4,
    "start_time": "2024-02-16T17:41:03.517Z"
   },
   {
    "duration": 6,
    "start_time": "2024-02-16T17:41:03.522Z"
   },
   {
    "duration": 26,
    "start_time": "2024-02-16T17:41:03.530Z"
   },
   {
    "duration": 305,
    "start_time": "2024-02-16T17:41:03.557Z"
   },
   {
    "duration": 19,
    "start_time": "2024-02-16T17:41:03.864Z"
   },
   {
    "duration": 439,
    "start_time": "2024-02-16T17:41:03.885Z"
   },
   {
    "duration": 12,
    "start_time": "2024-02-16T17:41:04.325Z"
   },
   {
    "duration": 214,
    "start_time": "2024-02-16T17:41:04.338Z"
   },
   {
    "duration": 10,
    "start_time": "2024-02-16T17:41:04.554Z"
   },
   {
    "duration": 229,
    "start_time": "2024-02-16T17:41:04.565Z"
   },
   {
    "duration": 12,
    "start_time": "2024-02-16T17:41:04.798Z"
   },
   {
    "duration": 17,
    "start_time": "2024-02-16T17:41:04.811Z"
   },
   {
    "duration": 66,
    "start_time": "2024-02-16T17:41:04.829Z"
   },
   {
    "duration": 15,
    "start_time": "2024-02-16T17:41:04.897Z"
   },
   {
    "duration": 50,
    "start_time": "2024-02-16T17:41:04.914Z"
   },
   {
    "duration": 30,
    "start_time": "2024-02-16T17:41:04.965Z"
   },
   {
    "duration": 55,
    "start_time": "2024-02-16T17:41:04.996Z"
   },
   {
    "duration": 37,
    "start_time": "2024-02-16T17:41:05.053Z"
   },
   {
    "duration": 56,
    "start_time": "2024-02-16T17:41:05.092Z"
   },
   {
    "duration": 46,
    "start_time": "2024-02-16T17:41:05.150Z"
   },
   {
    "duration": 94,
    "start_time": "2024-02-16T17:41:05.199Z"
   },
   {
    "duration": 88,
    "start_time": "2024-02-16T17:41:05.295Z"
   },
   {
    "duration": 6,
    "start_time": "2024-02-16T17:41:05.384Z"
   },
   {
    "duration": 31,
    "start_time": "2024-02-16T17:41:05.391Z"
   },
   {
    "duration": 11,
    "start_time": "2024-02-16T17:41:05.423Z"
   },
   {
    "duration": 8,
    "start_time": "2024-02-16T17:41:05.436Z"
   },
   {
    "duration": 16,
    "start_time": "2024-02-16T17:41:05.446Z"
   },
   {
    "duration": 20,
    "start_time": "2024-02-16T17:41:05.464Z"
   },
   {
    "duration": 26,
    "start_time": "2024-02-16T17:41:05.486Z"
   },
   {
    "duration": 13,
    "start_time": "2024-02-16T17:41:05.514Z"
   },
   {
    "duration": 4,
    "start_time": "2024-02-16T17:48:02.672Z"
   },
   {
    "duration": 9,
    "start_time": "2024-02-16T17:48:02.682Z"
   },
   {
    "duration": 81,
    "start_time": "2024-02-16T17:48:02.693Z"
   },
   {
    "duration": 33,
    "start_time": "2024-02-16T17:48:02.776Z"
   },
   {
    "duration": 8,
    "start_time": "2024-02-16T17:48:02.811Z"
   },
   {
    "duration": 68,
    "start_time": "2024-02-16T17:48:02.821Z"
   },
   {
    "duration": 25,
    "start_time": "2024-02-16T17:48:02.890Z"
   },
   {
    "duration": 20,
    "start_time": "2024-02-16T17:48:02.916Z"
   },
   {
    "duration": 50,
    "start_time": "2024-02-16T17:48:02.937Z"
   },
   {
    "duration": 447,
    "start_time": "2024-02-16T17:48:02.988Z"
   },
   {
    "duration": 13,
    "start_time": "2024-02-16T17:48:03.437Z"
   },
   {
    "duration": 355,
    "start_time": "2024-02-16T17:48:03.454Z"
   },
   {
    "duration": 8,
    "start_time": "2024-02-16T17:48:03.811Z"
   },
   {
    "duration": 9,
    "start_time": "2024-02-16T17:48:03.821Z"
   },
   {
    "duration": 18,
    "start_time": "2024-02-16T17:48:03.831Z"
   },
   {
    "duration": 30,
    "start_time": "2024-02-16T17:48:03.852Z"
   },
   {
    "duration": 9,
    "start_time": "2024-02-16T17:48:03.884Z"
   },
   {
    "duration": 7,
    "start_time": "2024-02-16T17:48:03.895Z"
   },
   {
    "duration": 5,
    "start_time": "2024-02-16T17:48:03.904Z"
   },
   {
    "duration": 17,
    "start_time": "2024-02-16T17:48:03.911Z"
   },
   {
    "duration": 18,
    "start_time": "2024-02-16T17:48:03.930Z"
   },
   {
    "duration": 31,
    "start_time": "2024-02-16T17:48:03.950Z"
   },
   {
    "duration": 178,
    "start_time": "2024-02-16T17:48:03.983Z"
   },
   {
    "duration": 146,
    "start_time": "2024-02-16T17:48:04.163Z"
   },
   {
    "duration": 9,
    "start_time": "2024-02-16T17:48:04.310Z"
   },
   {
    "duration": 10,
    "start_time": "2024-02-16T17:48:04.320Z"
   },
   {
    "duration": 15,
    "start_time": "2024-02-16T17:48:04.332Z"
   },
   {
    "duration": 340,
    "start_time": "2024-02-16T17:48:04.349Z"
   },
   {
    "duration": 397,
    "start_time": "2024-02-16T17:48:04.694Z"
   },
   {
    "duration": 404,
    "start_time": "2024-02-16T17:48:05.093Z"
   },
   {
    "duration": 5,
    "start_time": "2024-02-16T17:48:05.498Z"
   },
   {
    "duration": 6,
    "start_time": "2024-02-16T17:48:05.505Z"
   },
   {
    "duration": 13,
    "start_time": "2024-02-16T17:48:05.513Z"
   },
   {
    "duration": 335,
    "start_time": "2024-02-16T17:48:05.528Z"
   },
   {
    "duration": 28,
    "start_time": "2024-02-16T17:48:05.866Z"
   },
   {
    "duration": 443,
    "start_time": "2024-02-16T17:48:05.896Z"
   },
   {
    "duration": 11,
    "start_time": "2024-02-16T17:48:06.341Z"
   },
   {
    "duration": 212,
    "start_time": "2024-02-16T17:48:06.354Z"
   },
   {
    "duration": 16,
    "start_time": "2024-02-16T17:48:06.568Z"
   },
   {
    "duration": 219,
    "start_time": "2024-02-16T17:48:06.585Z"
   },
   {
    "duration": 13,
    "start_time": "2024-02-16T17:48:06.806Z"
   },
   {
    "duration": 10,
    "start_time": "2024-02-16T17:48:06.820Z"
   },
   {
    "duration": 74,
    "start_time": "2024-02-16T17:48:06.831Z"
   },
   {
    "duration": 10,
    "start_time": "2024-02-16T17:48:06.906Z"
   },
   {
    "duration": 68,
    "start_time": "2024-02-16T17:48:06.918Z"
   },
   {
    "duration": 19,
    "start_time": "2024-02-16T17:48:06.988Z"
   },
   {
    "duration": 74,
    "start_time": "2024-02-16T17:48:07.009Z"
   },
   {
    "duration": 19,
    "start_time": "2024-02-16T17:48:07.085Z"
   },
   {
    "duration": 55,
    "start_time": "2024-02-16T17:48:07.107Z"
   },
   {
    "duration": 46,
    "start_time": "2024-02-16T17:48:07.164Z"
   },
   {
    "duration": 88,
    "start_time": "2024-02-16T17:48:07.212Z"
   },
   {
    "duration": 91,
    "start_time": "2024-02-16T17:48:07.302Z"
   },
   {
    "duration": 7,
    "start_time": "2024-02-16T17:48:07.395Z"
   },
   {
    "duration": 28,
    "start_time": "2024-02-16T17:48:07.404Z"
   },
   {
    "duration": 10,
    "start_time": "2024-02-16T17:48:07.434Z"
   },
   {
    "duration": 9,
    "start_time": "2024-02-16T17:48:07.446Z"
   },
   {
    "duration": 6,
    "start_time": "2024-02-16T17:48:07.482Z"
   },
   {
    "duration": 16,
    "start_time": "2024-02-16T17:48:07.489Z"
   },
   {
    "duration": 30,
    "start_time": "2024-02-16T17:48:07.507Z"
   },
   {
    "duration": 14,
    "start_time": "2024-02-16T17:48:07.539Z"
   },
   {
    "duration": 46,
    "start_time": "2024-02-24T06:44:53.190Z"
   },
   {
    "duration": 1328,
    "start_time": "2024-02-24T06:45:00.196Z"
   },
   {
    "duration": 4,
    "start_time": "2024-02-24T06:45:01.526Z"
   },
   {
    "duration": 210,
    "start_time": "2024-02-24T06:45:01.532Z"
   },
   {
    "duration": 45,
    "start_time": "2024-02-24T06:45:01.744Z"
   },
   {
    "duration": 8,
    "start_time": "2024-02-24T06:45:01.790Z"
   },
   {
    "duration": 65,
    "start_time": "2024-02-24T06:45:01.799Z"
   },
   {
    "duration": 36,
    "start_time": "2024-02-24T06:45:01.866Z"
   },
   {
    "duration": 37,
    "start_time": "2024-02-24T06:45:01.903Z"
   },
   {
    "duration": 38,
    "start_time": "2024-02-24T06:45:01.941Z"
   },
   {
    "duration": 374,
    "start_time": "2024-02-24T06:45:01.982Z"
   },
   {
    "duration": 11,
    "start_time": "2024-02-24T06:45:02.358Z"
   },
   {
    "duration": 321,
    "start_time": "2024-02-24T06:45:02.371Z"
   },
   {
    "duration": 8,
    "start_time": "2024-02-24T06:45:02.693Z"
   },
   {
    "duration": 25,
    "start_time": "2024-02-24T06:45:02.703Z"
   },
   {
    "duration": 31,
    "start_time": "2024-02-24T06:45:02.729Z"
   },
   {
    "duration": 11,
    "start_time": "2024-02-24T06:45:02.761Z"
   },
   {
    "duration": 21,
    "start_time": "2024-02-24T06:45:02.774Z"
   },
   {
    "duration": 17,
    "start_time": "2024-02-24T06:45:02.796Z"
   },
   {
    "duration": 29,
    "start_time": "2024-02-24T06:45:02.815Z"
   },
   {
    "duration": 16,
    "start_time": "2024-02-24T06:45:02.845Z"
   },
   {
    "duration": 11,
    "start_time": "2024-02-24T06:45:02.862Z"
   },
   {
    "duration": 19,
    "start_time": "2024-02-24T06:45:02.875Z"
   },
   {
    "duration": 173,
    "start_time": "2024-02-24T06:45:02.895Z"
   },
   {
    "duration": 119,
    "start_time": "2024-02-24T06:45:03.070Z"
   },
   {
    "duration": 6,
    "start_time": "2024-02-24T06:45:03.190Z"
   },
   {
    "duration": 25,
    "start_time": "2024-02-24T06:45:03.198Z"
   },
   {
    "duration": 47,
    "start_time": "2024-02-24T06:45:03.225Z"
   },
   {
    "duration": 337,
    "start_time": "2024-02-24T06:45:03.275Z"
   },
   {
    "duration": 292,
    "start_time": "2024-02-24T06:45:03.614Z"
   },
   {
    "duration": 413,
    "start_time": "2024-02-24T06:45:03.907Z"
   },
   {
    "duration": 9,
    "start_time": "2024-02-24T06:45:04.322Z"
   },
   {
    "duration": 5,
    "start_time": "2024-02-24T06:45:04.332Z"
   },
   {
    "duration": 7,
    "start_time": "2024-02-24T06:45:04.338Z"
   },
   {
    "duration": 33,
    "start_time": "2024-02-24T06:45:04.346Z"
   },
   {
    "duration": 286,
    "start_time": "2024-02-24T06:45:04.381Z"
   },
   {
    "duration": 12,
    "start_time": "2024-02-24T06:45:04.668Z"
   },
   {
    "duration": 496,
    "start_time": "2024-02-24T06:45:04.681Z"
   },
   {
    "duration": 11,
    "start_time": "2024-02-24T06:45:05.179Z"
   },
   {
    "duration": 193,
    "start_time": "2024-02-24T06:45:05.191Z"
   },
   {
    "duration": 8,
    "start_time": "2024-02-24T06:45:05.386Z"
   },
   {
    "duration": 200,
    "start_time": "2024-02-24T06:45:05.395Z"
   },
   {
    "duration": 11,
    "start_time": "2024-02-24T06:45:05.596Z"
   },
   {
    "duration": 8,
    "start_time": "2024-02-24T06:45:05.609Z"
   },
   {
    "duration": 63,
    "start_time": "2024-02-24T06:45:05.618Z"
   },
   {
    "duration": 8,
    "start_time": "2024-02-24T06:45:05.682Z"
   },
   {
    "duration": 45,
    "start_time": "2024-02-24T06:45:05.692Z"
   },
   {
    "duration": 36,
    "start_time": "2024-02-24T06:45:05.739Z"
   },
   {
    "duration": 56,
    "start_time": "2024-02-24T06:45:05.777Z"
   },
   {
    "duration": 36,
    "start_time": "2024-02-24T06:45:05.836Z"
   },
   {
    "duration": 50,
    "start_time": "2024-02-24T06:45:05.874Z"
   },
   {
    "duration": 45,
    "start_time": "2024-02-24T06:45:05.925Z"
   },
   {
    "duration": 59,
    "start_time": "2024-02-24T06:45:05.972Z"
   },
   {
    "duration": 87,
    "start_time": "2024-02-24T06:45:06.033Z"
   },
   {
    "duration": 6,
    "start_time": "2024-02-24T06:45:06.121Z"
   },
   {
    "duration": 45,
    "start_time": "2024-02-24T06:45:06.128Z"
   },
   {
    "duration": 10,
    "start_time": "2024-02-24T06:45:06.175Z"
   },
   {
    "duration": 10,
    "start_time": "2024-02-24T06:45:06.187Z"
   },
   {
    "duration": 12,
    "start_time": "2024-02-24T06:45:06.198Z"
   },
   {
    "duration": 4,
    "start_time": "2024-02-24T06:45:06.212Z"
   },
   {
    "duration": 28,
    "start_time": "2024-02-24T06:45:06.217Z"
   },
   {
    "duration": 26,
    "start_time": "2024-02-24T06:45:06.246Z"
   }
  ],
  "kernelspec": {
   "display_name": "Python 3 (ipykernel)",
   "language": "python",
   "name": "python3"
  },
  "language_info": {
   "codemirror_mode": {
    "name": "ipython",
    "version": 3
   },
   "file_extension": ".py",
   "mimetype": "text/x-python",
   "name": "python",
   "nbconvert_exporter": "python",
   "pygments_lexer": "ipython3",
   "version": "3.11.5"
  },
  "toc": {
   "base_numbering": 1,
   "nav_menu": {},
   "number_sections": true,
   "sideBar": true,
   "skip_h1_title": true,
   "title_cell": "Table of Contents",
   "title_sidebar": "Contents",
   "toc_cell": false,
   "toc_position": {
    "height": "calc(100% - 180px)",
    "left": "10px",
    "top": "150px",
    "width": "165px"
   },
   "toc_section_display": true,
   "toc_window_display": false
  }
 },
 "nbformat": 4,
 "nbformat_minor": 2
}

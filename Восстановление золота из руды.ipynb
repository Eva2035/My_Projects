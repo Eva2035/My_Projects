{
 "cells": [
  {
   "cell_type": "markdown",
   "metadata": {
    "toc": true
   },
   "source": [
    "<h1>Содержание<span class=\"tocSkip\"></span></h1>\n",
    "<div class=\"toc\"><ul class=\"toc-item\"><li><span><a href=\"#Подготовка-данных\" data-toc-modified-id=\"Подготовка-данных-1\"><span class=\"toc-item-num\">1&nbsp;&nbsp;</span>Подготовка данных</a></span><ul class=\"toc-item\"><li><span><a href=\"#Откройте-файлы-и-изучите-их.\" data-toc-modified-id=\"Откройте-файлы-и-изучите-их.-1.1\"><span class=\"toc-item-num\">1.1&nbsp;&nbsp;</span>Откройте файлы и изучите их.</a></span></li><li><span><a href=\"#Расчёт-эффективности\" data-toc-modified-id=\"Расчёт-эффективности-1.2\"><span class=\"toc-item-num\">1.2&nbsp;&nbsp;</span>Расчёт эффективности</a></span></li><li><span><a href=\"#Анализ-признаков-выборок\" data-toc-modified-id=\"Анализ-признаков-выборок-1.3\"><span class=\"toc-item-num\">1.3&nbsp;&nbsp;</span>Анализ признаков выборок</a></span></li><li><span><a href=\"#Проведем-предобработку-данных.\" data-toc-modified-id=\"Проведем-предобработку-данных.-1.4\"><span class=\"toc-item-num\">1.4&nbsp;&nbsp;</span>Проведем предобработку данных.</a></span></li></ul></li><li><span><a href=\"#Анализ-данных\" data-toc-modified-id=\"Анализ-данных-2\"><span class=\"toc-item-num\">2&nbsp;&nbsp;</span>Анализ данных</a></span></li><li><span><a href=\"#Модель\" data-toc-modified-id=\"Модель-3\"><span class=\"toc-item-num\">3&nbsp;&nbsp;</span>Модель</a></span></li><li><span><a href=\"#Чек-лист-готовности-проекта\" data-toc-modified-id=\"Чек-лист-готовности-проекта-4\"><span class=\"toc-item-num\">4&nbsp;&nbsp;</span>Чек-лист готовности проекта</a></span></li></ul></div>"
   ]
  },
  {
   "cell_type": "markdown",
   "metadata": {},
   "source": [
    "# Восстановление золота из руды"
   ]
  },
  {
   "cell_type": "markdown",
   "metadata": {},
   "source": [
    "Подготовьте прототип модели машинного обучения для «Цифры». Компания разрабатывает решения для эффективной работы промышленных предприятий.\n",
    "\n",
    "Модель должна предсказать коэффициент восстановления золота из золотосодержащей руды. Используйте данные с параметрами добычи и очистки. \n",
    "\n",
    "Модель поможет оптимизировать производство, чтобы не запускать предприятие с убыточными характеристиками.\n",
    "\n",
    "\n",
    "**Описание данных**\n",
    "\n",
    "\n",
    "Технологический процесс:\n",
    "\n",
    " * Rougher feed — исходное сырье\n",
    "\n",
    " * Rougher additions (или reagent additions)\n",
    " \n",
    "Флотационные реагенты:\n",
    "\n",
    "   Xanthate, Sulphate, Depressant:\n",
    "\n",
    "   - Xanthate — ксантогенат (промотер, или активатор флотации);\n",
    "\n",
    "   - Sulphate — сульфат (на данном производстве сульфид натрия);\n",
    "\n",
    "   - Depressant — депрессант (силикат натрия).\n",
    "\n",
    " * Rougher process (англ. «грубый процесс») — флотация\n",
    "\n",
    " * Rougher tails — отвальные хвосты\n",
    "\n",
    " * Float banks — флотационная установка\n",
    "\n",
    " * Cleaner process — очистка\n",
    "\n",
    " * Rougher Au — черновой концентрат золота\n",
    "\n",
    " * Final Au — финальный концентрат золота\n",
    "\n",
    "Параметры этапов:\n",
    "\n",
    " * air amount — объём воздуха\n",
    "\n",
    " * fluid levels — уровень жидкости\n",
    "\n",
    " * feed size — размер гранул сырья\n",
    "\n",
    " * feed rate — скорость подачи"
   ]
  },
  {
   "cell_type": "markdown",
   "metadata": {},
   "source": [
    "**План работы.**\n",
    "\n",
    "1.Подготовить данные\n",
    " \n",
    "1.1. Открыть файлы и изучить их.\n",
    "\n",
    "1.2. Проверить, что эффективность обогащения рассчитана правильно. \n",
    "\n",
    "Вычислить её на обучающей выборке для признака rougher.output.recovery.\n",
    "\n",
    "Найти MAE между расчётами и значением признака. Описать выводы.\n",
    "\n",
    "1.3. Проанализировать признаки, недоступные в тестовой выборке. (Что это за параметры? К какому типу относятся?)\n",
    "\n",
    "1.4. Провести предобработку данных.\n",
    "\n",
    "2.Проанализировать данные\n",
    "\n",
    "2.1. Посмотреть, как меняется концентрация металлов (Au, Ag, Pb) на различных этапах очистки. Опиcсать выводы.\n",
    "\n",
    "2.2.  Сравнить распределения размеров гранул сырья на обучающей и тестовой выборках. \n",
    "Если распределения сильно отличаются друг от друга, оценка модели будет неправильной.\n",
    "\n",
    "2.3. Исследовать суммарную концентрацию всех веществ на разных стадиях: в сырье, в черновом и финальном концентратах.\n",
    "\n",
    "3.Построить модель\n",
    "\n",
    "3.1. Написать функцию для вычисления итоговой sMAPE.\n",
    "\n",
    "3.2. Обучить разные модели и оцените их качество. Выбрать лучшую модель и проверить её на тестовой выборке. Описать выводы.\n"
   ]
  },
  {
   "cell_type": "markdown",
   "metadata": {},
   "source": [
    "## Подготовка данных"
   ]
  },
  {
   "cell_type": "code",
   "execution_count": 1,
   "metadata": {},
   "outputs": [],
   "source": [
    "import pandas as pd\n",
    "import numpy as np\n",
    "import seaborn as sns\n",
    "import matplotlib.pyplot as plt\n",
    "import sklearn\n",
    "from sklearn.metrics import mean_absolute_error, make_scorer\n",
    "from scipy import stats\n",
    "from sklearn.ensemble import RandomForestRegressor\n",
    "from sklearn.tree import DecisionTreeRegressor \n",
    "from sklearn.linear_model import LinearRegression\n",
    "from sklearn.preprocessing import StandardScaler\n",
    "from sklearn.model_selection import train_test_split, GridSearchCV, cross_val_score\n",
    "from sklearn.dummy import DummyRegressor\n",
    "import warnings\n",
    "warnings.filterwarnings('ignore')"
   ]
  },
  {
   "cell_type": "markdown",
   "metadata": {},
   "source": [
    "### Откройте файлы и изучите их."
   ]
  },
  {
   "cell_type": "markdown",
   "metadata": {},
   "source": [
    "Импортируем файлы с данными и запишим их в переменные."
   ]
  },
  {
   "cell_type": "code",
   "execution_count": 2,
   "metadata": {},
   "outputs": [],
   "source": [
    "df_train = pd.read_csv('/datasets/gold_recovery_train_new.csv') # обучающая выборка\n",
    "df_test = pd.read_csv('/datasets/gold_recovery_test_new.csv') # тестовая выборка\n",
    "df_full = pd.read_csv('/datasets/gold_recovery_full_new.csv') # исходные данные"
   ]
  },
  {
   "cell_type": "code",
   "execution_count": 3,
   "metadata": {},
   "outputs": [
    {
     "data": {
      "text/plain": [
       "(19439, 14149, 5290)"
      ]
     },
     "execution_count": 3,
     "metadata": {},
     "output_type": "execute_result"
    }
   ],
   "source": [
    "# проверка размера выборок\n",
    "df_full.shape[0], df_train.shape[0], df_test.shape[0]"
   ]
  },
  {
   "cell_type": "code",
   "execution_count": 4,
   "metadata": {},
   "outputs": [
    {
     "data": {
      "text/plain": [
       "27"
      ]
     },
     "execution_count": 4,
     "metadata": {},
     "output_type": "execute_result"
    }
   ],
   "source": [
    "round(df_test.shape[0] / df_full.shape[0] *100)# выведем процентное соотношение тестовой выборки к исхоным данным"
   ]
  },
  {
   "cell_type": "code",
   "execution_count": 5,
   "metadata": {},
   "outputs": [
    {
     "data": {
      "text/plain": [
       "73"
      ]
     },
     "execution_count": 5,
     "metadata": {},
     "output_type": "execute_result"
    }
   ],
   "source": [
    "round(df_train.shape[0] / df_full.shape[0] *100)# выведем процентное соотношение обучающей выюорки к исхоным данным"
   ]
  },
  {
   "cell_type": "markdown",
   "metadata": {},
   "source": [
    "Исходные данные разделены на обучающую и тестовую выборки в соотношении 73% к 27%. Что составляет примерно 3 к 1."
   ]
  },
  {
   "cell_type": "code",
   "execution_count": 6,
   "metadata": {
    "scrolled": false
   },
   "outputs": [
    {
     "name": "stdout",
     "output_type": "stream",
     "text": [
      "Обучающая выборка\n",
      "\n",
      "<class 'pandas.core.frame.DataFrame'>\n",
      "RangeIndex: 14149 entries, 0 to 14148\n",
      "Data columns (total 87 columns):\n",
      " #   Column                                              Non-Null Count  Dtype  \n",
      "---  ------                                              --------------  -----  \n",
      " 0   date                                                14149 non-null  object \n",
      " 1   final.output.concentrate_ag                         14148 non-null  float64\n",
      " 2   final.output.concentrate_pb                         14148 non-null  float64\n",
      " 3   final.output.concentrate_sol                        13938 non-null  float64\n",
      " 4   final.output.concentrate_au                         14149 non-null  float64\n",
      " 5   final.output.recovery                               14149 non-null  float64\n",
      " 6   final.output.tail_ag                                14149 non-null  float64\n",
      " 7   final.output.tail_pb                                14049 non-null  float64\n",
      " 8   final.output.tail_sol                               14144 non-null  float64\n",
      " 9   final.output.tail_au                                14149 non-null  float64\n",
      " 10  primary_cleaner.input.sulfate                       14129 non-null  float64\n",
      " 11  primary_cleaner.input.depressant                    14117 non-null  float64\n",
      " 12  primary_cleaner.input.feed_size                     14149 non-null  float64\n",
      " 13  primary_cleaner.input.xanthate                      14049 non-null  float64\n",
      " 14  primary_cleaner.output.concentrate_ag               14149 non-null  float64\n",
      " 15  primary_cleaner.output.concentrate_pb               14063 non-null  float64\n",
      " 16  primary_cleaner.output.concentrate_sol              13863 non-null  float64\n",
      " 17  primary_cleaner.output.concentrate_au               14149 non-null  float64\n",
      " 18  primary_cleaner.output.tail_ag                      14148 non-null  float64\n",
      " 19  primary_cleaner.output.tail_pb                      14134 non-null  float64\n",
      " 20  primary_cleaner.output.tail_sol                     14103 non-null  float64\n",
      " 21  primary_cleaner.output.tail_au                      14149 non-null  float64\n",
      " 22  primary_cleaner.state.floatbank8_a_air              14145 non-null  float64\n",
      " 23  primary_cleaner.state.floatbank8_a_level            14148 non-null  float64\n",
      " 24  primary_cleaner.state.floatbank8_b_air              14145 non-null  float64\n",
      " 25  primary_cleaner.state.floatbank8_b_level            14148 non-null  float64\n",
      " 26  primary_cleaner.state.floatbank8_c_air              14147 non-null  float64\n",
      " 27  primary_cleaner.state.floatbank8_c_level            14148 non-null  float64\n",
      " 28  primary_cleaner.state.floatbank8_d_air              14146 non-null  float64\n",
      " 29  primary_cleaner.state.floatbank8_d_level            14148 non-null  float64\n",
      " 30  rougher.calculation.sulfate_to_au_concentrate       14148 non-null  float64\n",
      " 31  rougher.calculation.floatbank10_sulfate_to_au_feed  14148 non-null  float64\n",
      " 32  rougher.calculation.floatbank11_sulfate_to_au_feed  14148 non-null  float64\n",
      " 33  rougher.calculation.au_pb_ratio                     14149 non-null  float64\n",
      " 34  rougher.input.feed_ag                               14149 non-null  float64\n",
      " 35  rougher.input.feed_pb                               14049 non-null  float64\n",
      " 36  rougher.input.feed_rate                             14141 non-null  float64\n",
      " 37  rougher.input.feed_size                             14005 non-null  float64\n",
      " 38  rougher.input.feed_sol                              14071 non-null  float64\n",
      " 39  rougher.input.feed_au                               14149 non-null  float64\n",
      " 40  rougher.input.floatbank10_sulfate                   14120 non-null  float64\n",
      " 41  rougher.input.floatbank10_xanthate                  14141 non-null  float64\n",
      " 42  rougher.input.floatbank11_sulfate                   14113 non-null  float64\n",
      " 43  rougher.input.floatbank11_xanthate                  13721 non-null  float64\n",
      " 44  rougher.output.concentrate_ag                       14149 non-null  float64\n",
      " 45  rougher.output.concentrate_pb                       14149 non-null  float64\n",
      " 46  rougher.output.concentrate_sol                      14127 non-null  float64\n",
      " 47  rougher.output.concentrate_au                       14149 non-null  float64\n",
      " 48  rougher.output.recovery                             14149 non-null  float64\n",
      " 49  rougher.output.tail_ag                              14148 non-null  float64\n",
      " 50  rougher.output.tail_pb                              14149 non-null  float64\n",
      " 51  rougher.output.tail_sol                             14149 non-null  float64\n",
      " 52  rougher.output.tail_au                              14149 non-null  float64\n",
      " 53  rougher.state.floatbank10_a_air                     14148 non-null  float64\n",
      " 54  rougher.state.floatbank10_a_level                   14148 non-null  float64\n",
      " 55  rougher.state.floatbank10_b_air                     14148 non-null  float64\n",
      " 56  rougher.state.floatbank10_b_level                   14148 non-null  float64\n",
      " 57  rougher.state.floatbank10_c_air                     14148 non-null  float64\n",
      " 58  rougher.state.floatbank10_c_level                   14148 non-null  float64\n",
      " 59  rougher.state.floatbank10_d_air                     14149 non-null  float64\n",
      " 60  rougher.state.floatbank10_d_level                   14149 non-null  float64\n",
      " 61  rougher.state.floatbank10_e_air                     13713 non-null  float64\n",
      " 62  rougher.state.floatbank10_e_level                   14149 non-null  float64\n",
      " 63  rougher.state.floatbank10_f_air                     14149 non-null  float64\n",
      " 64  rougher.state.floatbank10_f_level                   14149 non-null  float64\n",
      " 65  secondary_cleaner.output.tail_ag                    14147 non-null  float64\n",
      " 66  secondary_cleaner.output.tail_pb                    14139 non-null  float64\n",
      " 67  secondary_cleaner.output.tail_sol                   12544 non-null  float64\n",
      " 68  secondary_cleaner.output.tail_au                    14149 non-null  float64\n",
      " 69  secondary_cleaner.state.floatbank2_a_air            13932 non-null  float64\n",
      " 70  secondary_cleaner.state.floatbank2_a_level          14148 non-null  float64\n",
      " 71  secondary_cleaner.state.floatbank2_b_air            14128 non-null  float64\n",
      " 72  secondary_cleaner.state.floatbank2_b_level          14148 non-null  float64\n",
      " 73  secondary_cleaner.state.floatbank3_a_air            14145 non-null  float64\n",
      " 74  secondary_cleaner.state.floatbank3_a_level          14148 non-null  float64\n",
      " 75  secondary_cleaner.state.floatbank3_b_air            14148 non-null  float64\n",
      " 76  secondary_cleaner.state.floatbank3_b_level          14148 non-null  float64\n",
      " 77  secondary_cleaner.state.floatbank4_a_air            14143 non-null  float64\n",
      " 78  secondary_cleaner.state.floatbank4_a_level          14148 non-null  float64\n",
      " 79  secondary_cleaner.state.floatbank4_b_air            14148 non-null  float64\n",
      " 80  secondary_cleaner.state.floatbank4_b_level          14148 non-null  float64\n",
      " 81  secondary_cleaner.state.floatbank5_a_air            14148 non-null  float64\n",
      " 82  secondary_cleaner.state.floatbank5_a_level          14148 non-null  float64\n",
      " 83  secondary_cleaner.state.floatbank5_b_air            14148 non-null  float64\n",
      " 84  secondary_cleaner.state.floatbank5_b_level          14148 non-null  float64\n",
      " 85  secondary_cleaner.state.floatbank6_a_air            14147 non-null  float64\n",
      " 86  secondary_cleaner.state.floatbank6_a_level          14148 non-null  float64\n",
      "dtypes: float64(86), object(1)\n",
      "memory usage: 9.4+ MB\n"
     ]
    },
    {
     "data": {
      "text/plain": [
       "None"
      ]
     },
     "metadata": {},
     "output_type": "display_data"
    },
    {
     "name": "stdout",
     "output_type": "stream",
     "text": [
      "\n",
      "Тестовая выборка\n",
      "\n",
      "<class 'pandas.core.frame.DataFrame'>\n",
      "RangeIndex: 5290 entries, 0 to 5289\n",
      "Data columns (total 53 columns):\n",
      " #   Column                                      Non-Null Count  Dtype  \n",
      "---  ------                                      --------------  -----  \n",
      " 0   date                                        5290 non-null   object \n",
      " 1   primary_cleaner.input.sulfate               5286 non-null   float64\n",
      " 2   primary_cleaner.input.depressant            5285 non-null   float64\n",
      " 3   primary_cleaner.input.feed_size             5290 non-null   float64\n",
      " 4   primary_cleaner.input.xanthate              5286 non-null   float64\n",
      " 5   primary_cleaner.state.floatbank8_a_air      5290 non-null   float64\n",
      " 6   primary_cleaner.state.floatbank8_a_level    5290 non-null   float64\n",
      " 7   primary_cleaner.state.floatbank8_b_air      5290 non-null   float64\n",
      " 8   primary_cleaner.state.floatbank8_b_level    5290 non-null   float64\n",
      " 9   primary_cleaner.state.floatbank8_c_air      5290 non-null   float64\n",
      " 10  primary_cleaner.state.floatbank8_c_level    5290 non-null   float64\n",
      " 11  primary_cleaner.state.floatbank8_d_air      5290 non-null   float64\n",
      " 12  primary_cleaner.state.floatbank8_d_level    5290 non-null   float64\n",
      " 13  rougher.input.feed_ag                       5290 non-null   float64\n",
      " 14  rougher.input.feed_pb                       5290 non-null   float64\n",
      " 15  rougher.input.feed_rate                     5287 non-null   float64\n",
      " 16  rougher.input.feed_size                     5289 non-null   float64\n",
      " 17  rougher.input.feed_sol                      5269 non-null   float64\n",
      " 18  rougher.input.feed_au                       5290 non-null   float64\n",
      " 19  rougher.input.floatbank10_sulfate           5285 non-null   float64\n",
      " 20  rougher.input.floatbank10_xanthate          5290 non-null   float64\n",
      " 21  rougher.input.floatbank11_sulfate           5282 non-null   float64\n",
      " 22  rougher.input.floatbank11_xanthate          5265 non-null   float64\n",
      " 23  rougher.state.floatbank10_a_air             5290 non-null   float64\n",
      " 24  rougher.state.floatbank10_a_level           5290 non-null   float64\n",
      " 25  rougher.state.floatbank10_b_air             5290 non-null   float64\n",
      " 26  rougher.state.floatbank10_b_level           5290 non-null   float64\n",
      " 27  rougher.state.floatbank10_c_air             5290 non-null   float64\n",
      " 28  rougher.state.floatbank10_c_level           5290 non-null   float64\n",
      " 29  rougher.state.floatbank10_d_air             5290 non-null   float64\n",
      " 30  rougher.state.floatbank10_d_level           5290 non-null   float64\n",
      " 31  rougher.state.floatbank10_e_air             5290 non-null   float64\n",
      " 32  rougher.state.floatbank10_e_level           5290 non-null   float64\n",
      " 33  rougher.state.floatbank10_f_air             5290 non-null   float64\n",
      " 34  rougher.state.floatbank10_f_level           5290 non-null   float64\n",
      " 35  secondary_cleaner.state.floatbank2_a_air    5287 non-null   float64\n",
      " 36  secondary_cleaner.state.floatbank2_a_level  5290 non-null   float64\n",
      " 37  secondary_cleaner.state.floatbank2_b_air    5288 non-null   float64\n",
      " 38  secondary_cleaner.state.floatbank2_b_level  5290 non-null   float64\n",
      " 39  secondary_cleaner.state.floatbank3_a_air    5281 non-null   float64\n",
      " 40  secondary_cleaner.state.floatbank3_a_level  5290 non-null   float64\n",
      " 41  secondary_cleaner.state.floatbank3_b_air    5290 non-null   float64\n",
      " 42  secondary_cleaner.state.floatbank3_b_level  5290 non-null   float64\n",
      " 43  secondary_cleaner.state.floatbank4_a_air    5290 non-null   float64\n",
      " 44  secondary_cleaner.state.floatbank4_a_level  5290 non-null   float64\n",
      " 45  secondary_cleaner.state.floatbank4_b_air    5290 non-null   float64\n",
      " 46  secondary_cleaner.state.floatbank4_b_level  5290 non-null   float64\n",
      " 47  secondary_cleaner.state.floatbank5_a_air    5290 non-null   float64\n",
      " 48  secondary_cleaner.state.floatbank5_a_level  5290 non-null   float64\n",
      " 49  secondary_cleaner.state.floatbank5_b_air    5290 non-null   float64\n",
      " 50  secondary_cleaner.state.floatbank5_b_level  5290 non-null   float64\n",
      " 51  secondary_cleaner.state.floatbank6_a_air    5290 non-null   float64\n",
      " 52  secondary_cleaner.state.floatbank6_a_level  5290 non-null   float64\n",
      "dtypes: float64(52), object(1)\n",
      "memory usage: 2.1+ MB\n"
     ]
    },
    {
     "data": {
      "text/plain": [
       "None"
      ]
     },
     "metadata": {},
     "output_type": "display_data"
    },
    {
     "name": "stdout",
     "output_type": "stream",
     "text": [
      "\n",
      "Исходные данные\n",
      "\n",
      "<class 'pandas.core.frame.DataFrame'>\n",
      "RangeIndex: 19439 entries, 0 to 19438\n",
      "Data columns (total 87 columns):\n",
      " #   Column                                              Non-Null Count  Dtype  \n",
      "---  ------                                              --------------  -----  \n",
      " 0   date                                                19439 non-null  object \n",
      " 1   final.output.concentrate_ag                         19438 non-null  float64\n",
      " 2   final.output.concentrate_pb                         19438 non-null  float64\n",
      " 3   final.output.concentrate_sol                        19228 non-null  float64\n",
      " 4   final.output.concentrate_au                         19439 non-null  float64\n",
      " 5   final.output.recovery                               19439 non-null  float64\n",
      " 6   final.output.tail_ag                                19438 non-null  float64\n",
      " 7   final.output.tail_pb                                19338 non-null  float64\n",
      " 8   final.output.tail_sol                               19433 non-null  float64\n",
      " 9   final.output.tail_au                                19439 non-null  float64\n",
      " 10  primary_cleaner.input.sulfate                       19415 non-null  float64\n",
      " 11  primary_cleaner.input.depressant                    19402 non-null  float64\n",
      " 12  primary_cleaner.input.feed_size                     19439 non-null  float64\n",
      " 13  primary_cleaner.input.xanthate                      19335 non-null  float64\n",
      " 14  primary_cleaner.output.concentrate_ag               19439 non-null  float64\n",
      " 15  primary_cleaner.output.concentrate_pb               19323 non-null  float64\n",
      " 16  primary_cleaner.output.concentrate_sol              19069 non-null  float64\n",
      " 17  primary_cleaner.output.concentrate_au               19439 non-null  float64\n",
      " 18  primary_cleaner.output.tail_ag                      19435 non-null  float64\n",
      " 19  primary_cleaner.output.tail_pb                      19418 non-null  float64\n",
      " 20  primary_cleaner.output.tail_sol                     19377 non-null  float64\n",
      " 21  primary_cleaner.output.tail_au                      19439 non-null  float64\n",
      " 22  primary_cleaner.state.floatbank8_a_air              19435 non-null  float64\n",
      " 23  primary_cleaner.state.floatbank8_a_level            19438 non-null  float64\n",
      " 24  primary_cleaner.state.floatbank8_b_air              19435 non-null  float64\n",
      " 25  primary_cleaner.state.floatbank8_b_level            19438 non-null  float64\n",
      " 26  primary_cleaner.state.floatbank8_c_air              19437 non-null  float64\n",
      " 27  primary_cleaner.state.floatbank8_c_level            19438 non-null  float64\n",
      " 28  primary_cleaner.state.floatbank8_d_air              19436 non-null  float64\n",
      " 29  primary_cleaner.state.floatbank8_d_level            19438 non-null  float64\n",
      " 30  rougher.calculation.sulfate_to_au_concentrate       19437 non-null  float64\n",
      " 31  rougher.calculation.floatbank10_sulfate_to_au_feed  19437 non-null  float64\n",
      " 32  rougher.calculation.floatbank11_sulfate_to_au_feed  19437 non-null  float64\n",
      " 33  rougher.calculation.au_pb_ratio                     19439 non-null  float64\n",
      " 34  rougher.input.feed_ag                               19439 non-null  float64\n",
      " 35  rougher.input.feed_pb                               19339 non-null  float64\n",
      " 36  rougher.input.feed_rate                             19428 non-null  float64\n",
      " 37  rougher.input.feed_size                             19294 non-null  float64\n",
      " 38  rougher.input.feed_sol                              19340 non-null  float64\n",
      " 39  rougher.input.feed_au                               19439 non-null  float64\n",
      " 40  rougher.input.floatbank10_sulfate                   19405 non-null  float64\n",
      " 41  rougher.input.floatbank10_xanthate                  19431 non-null  float64\n",
      " 42  rougher.input.floatbank11_sulfate                   19395 non-null  float64\n",
      " 43  rougher.input.floatbank11_xanthate                  18986 non-null  float64\n",
      " 44  rougher.output.concentrate_ag                       19439 non-null  float64\n",
      " 45  rougher.output.concentrate_pb                       19439 non-null  float64\n",
      " 46  rougher.output.concentrate_sol                      19416 non-null  float64\n",
      " 47  rougher.output.concentrate_au                       19439 non-null  float64\n",
      " 48  rougher.output.recovery                             19439 non-null  float64\n",
      " 49  rougher.output.tail_ag                              19438 non-null  float64\n",
      " 50  rougher.output.tail_pb                              19439 non-null  float64\n",
      " 51  rougher.output.tail_sol                             19439 non-null  float64\n",
      " 52  rougher.output.tail_au                              19439 non-null  float64\n",
      " 53  rougher.state.floatbank10_a_air                     19438 non-null  float64\n",
      " 54  rougher.state.floatbank10_a_level                   19438 non-null  float64\n",
      " 55  rougher.state.floatbank10_b_air                     19438 non-null  float64\n",
      " 56  rougher.state.floatbank10_b_level                   19438 non-null  float64\n",
      " 57  rougher.state.floatbank10_c_air                     19438 non-null  float64\n",
      " 58  rougher.state.floatbank10_c_level                   19438 non-null  float64\n",
      " 59  rougher.state.floatbank10_d_air                     19439 non-null  float64\n",
      " 60  rougher.state.floatbank10_d_level                   19439 non-null  float64\n",
      " 61  rougher.state.floatbank10_e_air                     19003 non-null  float64\n",
      " 62  rougher.state.floatbank10_e_level                   19439 non-null  float64\n",
      " 63  rougher.state.floatbank10_f_air                     19439 non-null  float64\n",
      " 64  rougher.state.floatbank10_f_level                   19439 non-null  float64\n",
      " 65  secondary_cleaner.output.tail_ag                    19437 non-null  float64\n",
      " 66  secondary_cleaner.output.tail_pb                    19427 non-null  float64\n",
      " 67  secondary_cleaner.output.tail_sol                   17691 non-null  float64\n",
      " 68  secondary_cleaner.output.tail_au                    19439 non-null  float64\n",
      " 69  secondary_cleaner.state.floatbank2_a_air            19219 non-null  float64\n",
      " 70  secondary_cleaner.state.floatbank2_a_level          19438 non-null  float64\n",
      " 71  secondary_cleaner.state.floatbank2_b_air            19416 non-null  float64\n",
      " 72  secondary_cleaner.state.floatbank2_b_level          19438 non-null  float64\n",
      " 73  secondary_cleaner.state.floatbank3_a_air            19426 non-null  float64\n",
      " 74  secondary_cleaner.state.floatbank3_a_level          19438 non-null  float64\n",
      " 75  secondary_cleaner.state.floatbank3_b_air            19438 non-null  float64\n",
      " 76  secondary_cleaner.state.floatbank3_b_level          19438 non-null  float64\n",
      " 77  secondary_cleaner.state.floatbank4_a_air            19433 non-null  float64\n",
      " 78  secondary_cleaner.state.floatbank4_a_level          19438 non-null  float64\n",
      " 79  secondary_cleaner.state.floatbank4_b_air            19438 non-null  float64\n",
      " 80  secondary_cleaner.state.floatbank4_b_level          19438 non-null  float64\n",
      " 81  secondary_cleaner.state.floatbank5_a_air            19438 non-null  float64\n",
      " 82  secondary_cleaner.state.floatbank5_a_level          19438 non-null  float64\n",
      " 83  secondary_cleaner.state.floatbank5_b_air            19438 non-null  float64\n",
      " 84  secondary_cleaner.state.floatbank5_b_level          19438 non-null  float64\n",
      " 85  secondary_cleaner.state.floatbank6_a_air            19437 non-null  float64\n",
      " 86  secondary_cleaner.state.floatbank6_a_level          19438 non-null  float64\n",
      "dtypes: float64(86), object(1)\n",
      "memory usage: 12.9+ MB\n"
     ]
    },
    {
     "data": {
      "text/plain": [
       "None"
      ]
     },
     "metadata": {},
     "output_type": "display_data"
    },
    {
     "name": "stdout",
     "output_type": "stream",
     "text": [
      "\n"
     ]
    }
   ],
   "source": [
    "# выведем информацию о таблицах\n",
    "print('Обучающая выборка')\n",
    "print()\n",
    "display(df_train.info())\n",
    "print()\n",
    "print('Тестовая выборка')\n",
    "print()\n",
    "display(df_test.info())\n",
    "print()\n",
    "print('Исходные данные')\n",
    "print()\n",
    "display(df_full.info())\n",
    "print()"
   ]
  },
  {
   "cell_type": "code",
   "execution_count": 7,
   "metadata": {},
   "outputs": [
    {
     "data": {
      "text/html": [
       "<div>\n",
       "<style scoped>\n",
       "    .dataframe tbody tr th:only-of-type {\n",
       "        vertical-align: middle;\n",
       "    }\n",
       "\n",
       "    .dataframe tbody tr th {\n",
       "        vertical-align: top;\n",
       "    }\n",
       "\n",
       "    .dataframe thead th {\n",
       "        text-align: right;\n",
       "    }\n",
       "</style>\n",
       "<table border=\"1\" class=\"dataframe\">\n",
       "  <thead>\n",
       "    <tr style=\"text-align: right;\">\n",
       "      <th></th>\n",
       "      <th>0</th>\n",
       "      <th>1</th>\n",
       "      <th>2</th>\n",
       "      <th>3</th>\n",
       "      <th>4</th>\n",
       "      <th>5</th>\n",
       "      <th>6</th>\n",
       "      <th>7</th>\n",
       "      <th>8</th>\n",
       "      <th>9</th>\n",
       "    </tr>\n",
       "  </thead>\n",
       "  <tbody>\n",
       "    <tr>\n",
       "      <th>date</th>\n",
       "      <td>2016-01-15 00:00:00</td>\n",
       "      <td>2016-01-15 01:00:00</td>\n",
       "      <td>2016-01-15 02:00:00</td>\n",
       "      <td>2016-01-15 03:00:00</td>\n",
       "      <td>2016-01-15 04:00:00</td>\n",
       "      <td>2016-01-15 05:00:00</td>\n",
       "      <td>2016-01-15 06:00:00</td>\n",
       "      <td>2016-01-15 07:00:00</td>\n",
       "      <td>2016-01-15 08:00:00</td>\n",
       "      <td>2016-01-15 09:00:00</td>\n",
       "    </tr>\n",
       "    <tr>\n",
       "      <th>final.output.concentrate_ag</th>\n",
       "      <td>6.055403</td>\n",
       "      <td>6.029369</td>\n",
       "      <td>6.055926</td>\n",
       "      <td>6.047977</td>\n",
       "      <td>6.148599</td>\n",
       "      <td>6.482968</td>\n",
       "      <td>6.533849</td>\n",
       "      <td>6.130823</td>\n",
       "      <td>5.83414</td>\n",
       "      <td>5.687063</td>\n",
       "    </tr>\n",
       "    <tr>\n",
       "      <th>final.output.concentrate_pb</th>\n",
       "      <td>9.889648</td>\n",
       "      <td>9.968944</td>\n",
       "      <td>10.213995</td>\n",
       "      <td>9.977019</td>\n",
       "      <td>10.142511</td>\n",
       "      <td>10.049416</td>\n",
       "      <td>10.058141</td>\n",
       "      <td>9.935481</td>\n",
       "      <td>10.071156</td>\n",
       "      <td>9.980404</td>\n",
       "    </tr>\n",
       "    <tr>\n",
       "      <th>final.output.concentrate_sol</th>\n",
       "      <td>5.507324</td>\n",
       "      <td>5.257781</td>\n",
       "      <td>5.383759</td>\n",
       "      <td>4.858634</td>\n",
       "      <td>4.939416</td>\n",
       "      <td>5.480257</td>\n",
       "      <td>4.5691</td>\n",
       "      <td>4.389813</td>\n",
       "      <td>4.876389</td>\n",
       "      <td>5.282514</td>\n",
       "    </tr>\n",
       "    <tr>\n",
       "      <th>final.output.concentrate_au</th>\n",
       "      <td>42.19202</td>\n",
       "      <td>42.701629</td>\n",
       "      <td>42.657501</td>\n",
       "      <td>42.689819</td>\n",
       "      <td>42.774141</td>\n",
       "      <td>41.633678</td>\n",
       "      <td>41.995316</td>\n",
       "      <td>42.452727</td>\n",
       "      <td>43.404078</td>\n",
       "      <td>43.23522</td>\n",
       "    </tr>\n",
       "    <tr>\n",
       "      <th>...</th>\n",
       "      <td>...</td>\n",
       "      <td>...</td>\n",
       "      <td>...</td>\n",
       "      <td>...</td>\n",
       "      <td>...</td>\n",
       "      <td>...</td>\n",
       "      <td>...</td>\n",
       "      <td>...</td>\n",
       "      <td>...</td>\n",
       "      <td>...</td>\n",
       "    </tr>\n",
       "    <tr>\n",
       "      <th>secondary_cleaner.state.floatbank5_a_level</th>\n",
       "      <td>-498.310211</td>\n",
       "      <td>-500.169983</td>\n",
       "      <td>-500.129135</td>\n",
       "      <td>-499.20164</td>\n",
       "      <td>-501.686727</td>\n",
       "      <td>-496.374715</td>\n",
       "      <td>-497.08318</td>\n",
       "      <td>-499.171928</td>\n",
       "      <td>-501.178133</td>\n",
       "      <td>-502.986357</td>\n",
       "    </tr>\n",
       "    <tr>\n",
       "      <th>secondary_cleaner.state.floatbank5_b_air</th>\n",
       "      <td>8.079666</td>\n",
       "      <td>7.984757</td>\n",
       "      <td>8.013877</td>\n",
       "      <td>7.977324</td>\n",
       "      <td>7.894242</td>\n",
       "      <td>7.965083</td>\n",
       "      <td>8.01089</td>\n",
       "      <td>7.993381</td>\n",
       "      <td>7.881604</td>\n",
       "      <td>7.979219</td>\n",
       "    </tr>\n",
       "    <tr>\n",
       "      <th>secondary_cleaner.state.floatbank5_b_level</th>\n",
       "      <td>-500.470978</td>\n",
       "      <td>-500.582168</td>\n",
       "      <td>-500.517572</td>\n",
       "      <td>-500.255908</td>\n",
       "      <td>-500.356035</td>\n",
       "      <td>-499.364752</td>\n",
       "      <td>-500.002423</td>\n",
       "      <td>-499.794518</td>\n",
       "      <td>-499.729434</td>\n",
       "      <td>-500.146835</td>\n",
       "    </tr>\n",
       "    <tr>\n",
       "      <th>secondary_cleaner.state.floatbank6_a_air</th>\n",
       "      <td>14.151341</td>\n",
       "      <td>13.998353</td>\n",
       "      <td>14.028663</td>\n",
       "      <td>14.005551</td>\n",
       "      <td>13.996647</td>\n",
       "      <td>14.017067</td>\n",
       "      <td>14.029649</td>\n",
       "      <td>13.984498</td>\n",
       "      <td>13.967135</td>\n",
       "      <td>13.981614</td>\n",
       "    </tr>\n",
       "    <tr>\n",
       "      <th>secondary_cleaner.state.floatbank6_a_level</th>\n",
       "      <td>-605.84198</td>\n",
       "      <td>-599.787184</td>\n",
       "      <td>-601.427363</td>\n",
       "      <td>-599.996129</td>\n",
       "      <td>-601.496691</td>\n",
       "      <td>-599.707915</td>\n",
       "      <td>-600.90547</td>\n",
       "      <td>-600.41107</td>\n",
       "      <td>-599.061188</td>\n",
       "      <td>-598.070855</td>\n",
       "    </tr>\n",
       "  </tbody>\n",
       "</table>\n",
       "<p>87 rows × 10 columns</p>\n",
       "</div>"
      ],
      "text/plain": [
       "                                                              0  \\\n",
       "date                                        2016-01-15 00:00:00   \n",
       "final.output.concentrate_ag                            6.055403   \n",
       "final.output.concentrate_pb                            9.889648   \n",
       "final.output.concentrate_sol                           5.507324   \n",
       "final.output.concentrate_au                            42.19202   \n",
       "...                                                         ...   \n",
       "secondary_cleaner.state.floatbank5_a_level          -498.310211   \n",
       "secondary_cleaner.state.floatbank5_b_air               8.079666   \n",
       "secondary_cleaner.state.floatbank5_b_level          -500.470978   \n",
       "secondary_cleaner.state.floatbank6_a_air              14.151341   \n",
       "secondary_cleaner.state.floatbank6_a_level           -605.84198   \n",
       "\n",
       "                                                              1  \\\n",
       "date                                        2016-01-15 01:00:00   \n",
       "final.output.concentrate_ag                            6.029369   \n",
       "final.output.concentrate_pb                            9.968944   \n",
       "final.output.concentrate_sol                           5.257781   \n",
       "final.output.concentrate_au                           42.701629   \n",
       "...                                                         ...   \n",
       "secondary_cleaner.state.floatbank5_a_level          -500.169983   \n",
       "secondary_cleaner.state.floatbank5_b_air               7.984757   \n",
       "secondary_cleaner.state.floatbank5_b_level          -500.582168   \n",
       "secondary_cleaner.state.floatbank6_a_air              13.998353   \n",
       "secondary_cleaner.state.floatbank6_a_level          -599.787184   \n",
       "\n",
       "                                                              2  \\\n",
       "date                                        2016-01-15 02:00:00   \n",
       "final.output.concentrate_ag                            6.055926   \n",
       "final.output.concentrate_pb                           10.213995   \n",
       "final.output.concentrate_sol                           5.383759   \n",
       "final.output.concentrate_au                           42.657501   \n",
       "...                                                         ...   \n",
       "secondary_cleaner.state.floatbank5_a_level          -500.129135   \n",
       "secondary_cleaner.state.floatbank5_b_air               8.013877   \n",
       "secondary_cleaner.state.floatbank5_b_level          -500.517572   \n",
       "secondary_cleaner.state.floatbank6_a_air              14.028663   \n",
       "secondary_cleaner.state.floatbank6_a_level          -601.427363   \n",
       "\n",
       "                                                              3  \\\n",
       "date                                        2016-01-15 03:00:00   \n",
       "final.output.concentrate_ag                            6.047977   \n",
       "final.output.concentrate_pb                            9.977019   \n",
       "final.output.concentrate_sol                           4.858634   \n",
       "final.output.concentrate_au                           42.689819   \n",
       "...                                                         ...   \n",
       "secondary_cleaner.state.floatbank5_a_level           -499.20164   \n",
       "secondary_cleaner.state.floatbank5_b_air               7.977324   \n",
       "secondary_cleaner.state.floatbank5_b_level          -500.255908   \n",
       "secondary_cleaner.state.floatbank6_a_air              14.005551   \n",
       "secondary_cleaner.state.floatbank6_a_level          -599.996129   \n",
       "\n",
       "                                                              4  \\\n",
       "date                                        2016-01-15 04:00:00   \n",
       "final.output.concentrate_ag                            6.148599   \n",
       "final.output.concentrate_pb                           10.142511   \n",
       "final.output.concentrate_sol                           4.939416   \n",
       "final.output.concentrate_au                           42.774141   \n",
       "...                                                         ...   \n",
       "secondary_cleaner.state.floatbank5_a_level          -501.686727   \n",
       "secondary_cleaner.state.floatbank5_b_air               7.894242   \n",
       "secondary_cleaner.state.floatbank5_b_level          -500.356035   \n",
       "secondary_cleaner.state.floatbank6_a_air              13.996647   \n",
       "secondary_cleaner.state.floatbank6_a_level          -601.496691   \n",
       "\n",
       "                                                              5  \\\n",
       "date                                        2016-01-15 05:00:00   \n",
       "final.output.concentrate_ag                            6.482968   \n",
       "final.output.concentrate_pb                           10.049416   \n",
       "final.output.concentrate_sol                           5.480257   \n",
       "final.output.concentrate_au                           41.633678   \n",
       "...                                                         ...   \n",
       "secondary_cleaner.state.floatbank5_a_level          -496.374715   \n",
       "secondary_cleaner.state.floatbank5_b_air               7.965083   \n",
       "secondary_cleaner.state.floatbank5_b_level          -499.364752   \n",
       "secondary_cleaner.state.floatbank6_a_air              14.017067   \n",
       "secondary_cleaner.state.floatbank6_a_level          -599.707915   \n",
       "\n",
       "                                                              6  \\\n",
       "date                                        2016-01-15 06:00:00   \n",
       "final.output.concentrate_ag                            6.533849   \n",
       "final.output.concentrate_pb                           10.058141   \n",
       "final.output.concentrate_sol                             4.5691   \n",
       "final.output.concentrate_au                           41.995316   \n",
       "...                                                         ...   \n",
       "secondary_cleaner.state.floatbank5_a_level           -497.08318   \n",
       "secondary_cleaner.state.floatbank5_b_air                8.01089   \n",
       "secondary_cleaner.state.floatbank5_b_level          -500.002423   \n",
       "secondary_cleaner.state.floatbank6_a_air              14.029649   \n",
       "secondary_cleaner.state.floatbank6_a_level           -600.90547   \n",
       "\n",
       "                                                              7  \\\n",
       "date                                        2016-01-15 07:00:00   \n",
       "final.output.concentrate_ag                            6.130823   \n",
       "final.output.concentrate_pb                            9.935481   \n",
       "final.output.concentrate_sol                           4.389813   \n",
       "final.output.concentrate_au                           42.452727   \n",
       "...                                                         ...   \n",
       "secondary_cleaner.state.floatbank5_a_level          -499.171928   \n",
       "secondary_cleaner.state.floatbank5_b_air               7.993381   \n",
       "secondary_cleaner.state.floatbank5_b_level          -499.794518   \n",
       "secondary_cleaner.state.floatbank6_a_air              13.984498   \n",
       "secondary_cleaner.state.floatbank6_a_level           -600.41107   \n",
       "\n",
       "                                                              8  \\\n",
       "date                                        2016-01-15 08:00:00   \n",
       "final.output.concentrate_ag                             5.83414   \n",
       "final.output.concentrate_pb                           10.071156   \n",
       "final.output.concentrate_sol                           4.876389   \n",
       "final.output.concentrate_au                           43.404078   \n",
       "...                                                         ...   \n",
       "secondary_cleaner.state.floatbank5_a_level          -501.178133   \n",
       "secondary_cleaner.state.floatbank5_b_air               7.881604   \n",
       "secondary_cleaner.state.floatbank5_b_level          -499.729434   \n",
       "secondary_cleaner.state.floatbank6_a_air              13.967135   \n",
       "secondary_cleaner.state.floatbank6_a_level          -599.061188   \n",
       "\n",
       "                                                              9  \n",
       "date                                        2016-01-15 09:00:00  \n",
       "final.output.concentrate_ag                            5.687063  \n",
       "final.output.concentrate_pb                            9.980404  \n",
       "final.output.concentrate_sol                           5.282514  \n",
       "final.output.concentrate_au                            43.23522  \n",
       "...                                                         ...  \n",
       "secondary_cleaner.state.floatbank5_a_level          -502.986357  \n",
       "secondary_cleaner.state.floatbank5_b_air               7.979219  \n",
       "secondary_cleaner.state.floatbank5_b_level          -500.146835  \n",
       "secondary_cleaner.state.floatbank6_a_air              13.981614  \n",
       "secondary_cleaner.state.floatbank6_a_level          -598.070855  \n",
       "\n",
       "[87 rows x 10 columns]"
      ]
     },
     "execution_count": 7,
     "metadata": {},
     "output_type": "execute_result"
    }
   ],
   "source": [
    "df_train.head(10).T# посмотрим 10 первых строк обучающей выборки"
   ]
  },
  {
   "cell_type": "code",
   "execution_count": 8,
   "metadata": {},
   "outputs": [
    {
     "data": {
      "text/html": [
       "<div>\n",
       "<style scoped>\n",
       "    .dataframe tbody tr th:only-of-type {\n",
       "        vertical-align: middle;\n",
       "    }\n",
       "\n",
       "    .dataframe tbody tr th {\n",
       "        vertical-align: top;\n",
       "    }\n",
       "\n",
       "    .dataframe thead th {\n",
       "        text-align: right;\n",
       "    }\n",
       "</style>\n",
       "<table border=\"1\" class=\"dataframe\">\n",
       "  <thead>\n",
       "    <tr style=\"text-align: right;\">\n",
       "      <th></th>\n",
       "      <th>0</th>\n",
       "      <th>1</th>\n",
       "      <th>2</th>\n",
       "      <th>3</th>\n",
       "      <th>4</th>\n",
       "      <th>5</th>\n",
       "      <th>6</th>\n",
       "      <th>7</th>\n",
       "      <th>8</th>\n",
       "      <th>9</th>\n",
       "    </tr>\n",
       "  </thead>\n",
       "  <tbody>\n",
       "    <tr>\n",
       "      <th>date</th>\n",
       "      <td>2016-09-01 00:59:59</td>\n",
       "      <td>2016-09-01 01:59:59</td>\n",
       "      <td>2016-09-01 02:59:59</td>\n",
       "      <td>2016-09-01 03:59:59</td>\n",
       "      <td>2016-09-01 04:59:59</td>\n",
       "      <td>2016-09-01 05:59:59</td>\n",
       "      <td>2016-09-01 06:59:59</td>\n",
       "      <td>2016-09-01 07:59:59</td>\n",
       "      <td>2016-09-01 08:59:59</td>\n",
       "      <td>2016-09-01 09:59:59</td>\n",
       "    </tr>\n",
       "    <tr>\n",
       "      <th>primary_cleaner.input.sulfate</th>\n",
       "      <td>210.800909</td>\n",
       "      <td>215.392455</td>\n",
       "      <td>215.259946</td>\n",
       "      <td>215.336236</td>\n",
       "      <td>199.099327</td>\n",
       "      <td>168.485085</td>\n",
       "      <td>144.13344</td>\n",
       "      <td>133.513396</td>\n",
       "      <td>133.735356</td>\n",
       "      <td>126.961069</td>\n",
       "    </tr>\n",
       "    <tr>\n",
       "      <th>primary_cleaner.input.depressant</th>\n",
       "      <td>14.993118</td>\n",
       "      <td>14.987471</td>\n",
       "      <td>12.884934</td>\n",
       "      <td>12.006805</td>\n",
       "      <td>10.68253</td>\n",
       "      <td>8.817007</td>\n",
       "      <td>7.92461</td>\n",
       "      <td>8.055252</td>\n",
       "      <td>7.999618</td>\n",
       "      <td>8.017856</td>\n",
       "    </tr>\n",
       "    <tr>\n",
       "      <th>primary_cleaner.input.feed_size</th>\n",
       "      <td>8.08</td>\n",
       "      <td>8.08</td>\n",
       "      <td>7.786667</td>\n",
       "      <td>7.64</td>\n",
       "      <td>7.53</td>\n",
       "      <td>7.42</td>\n",
       "      <td>7.42</td>\n",
       "      <td>6.988</td>\n",
       "      <td>6.935</td>\n",
       "      <td>7.03</td>\n",
       "    </tr>\n",
       "    <tr>\n",
       "      <th>primary_cleaner.input.xanthate</th>\n",
       "      <td>1.005021</td>\n",
       "      <td>0.990469</td>\n",
       "      <td>0.996043</td>\n",
       "      <td>0.863514</td>\n",
       "      <td>0.805575</td>\n",
       "      <td>0.791191</td>\n",
       "      <td>0.788838</td>\n",
       "      <td>0.801871</td>\n",
       "      <td>0.789329</td>\n",
       "      <td>0.805298</td>\n",
       "    </tr>\n",
       "    <tr>\n",
       "      <th>primary_cleaner.state.floatbank8_a_air</th>\n",
       "      <td>1398.981301</td>\n",
       "      <td>1398.777912</td>\n",
       "      <td>1398.493666</td>\n",
       "      <td>1399.618111</td>\n",
       "      <td>1401.268123</td>\n",
       "      <td>1402.826803</td>\n",
       "      <td>1398.252401</td>\n",
       "      <td>1401.669677</td>\n",
       "      <td>1402.358981</td>\n",
       "      <td>1400.81612</td>\n",
       "    </tr>\n",
       "    <tr>\n",
       "      <th>primary_cleaner.state.floatbank8_a_level</th>\n",
       "      <td>-500.225577</td>\n",
       "      <td>-500.057435</td>\n",
       "      <td>-500.86836</td>\n",
       "      <td>-498.863574</td>\n",
       "      <td>-500.808305</td>\n",
       "      <td>-499.299521</td>\n",
       "      <td>-499.748672</td>\n",
       "      <td>-501.777839</td>\n",
       "      <td>-499.981597</td>\n",
       "      <td>-499.014158</td>\n",
       "    </tr>\n",
       "    <tr>\n",
       "      <th>primary_cleaner.state.floatbank8_b_air</th>\n",
       "      <td>1399.144926</td>\n",
       "      <td>1398.055362</td>\n",
       "      <td>1398.860436</td>\n",
       "      <td>1397.44012</td>\n",
       "      <td>1398.128818</td>\n",
       "      <td>1401.511119</td>\n",
       "      <td>1393.255503</td>\n",
       "      <td>1400.754446</td>\n",
       "      <td>1400.985954</td>\n",
       "      <td>1399.975401</td>\n",
       "    </tr>\n",
       "    <tr>\n",
       "      <th>primary_cleaner.state.floatbank8_b_level</th>\n",
       "      <td>-499.919735</td>\n",
       "      <td>-499.778182</td>\n",
       "      <td>-499.764529</td>\n",
       "      <td>-499.211024</td>\n",
       "      <td>-499.504543</td>\n",
       "      <td>-499.205357</td>\n",
       "      <td>-499.19538</td>\n",
       "      <td>-502.514024</td>\n",
       "      <td>-496.802968</td>\n",
       "      <td>-499.570552</td>\n",
       "    </tr>\n",
       "    <tr>\n",
       "      <th>primary_cleaner.state.floatbank8_c_air</th>\n",
       "      <td>1400.102998</td>\n",
       "      <td>1396.151033</td>\n",
       "      <td>1398.075709</td>\n",
       "      <td>1400.129303</td>\n",
       "      <td>1402.172226</td>\n",
       "      <td>1404.088107</td>\n",
       "      <td>1396.738566</td>\n",
       "      <td>1400.465244</td>\n",
       "      <td>1401.168584</td>\n",
       "      <td>1401.871924</td>\n",
       "    </tr>\n",
       "    <tr>\n",
       "      <th>primary_cleaner.state.floatbank8_c_level</th>\n",
       "      <td>-500.704369</td>\n",
       "      <td>-499.240168</td>\n",
       "      <td>-502.151509</td>\n",
       "      <td>-498.355873</td>\n",
       "      <td>-500.810606</td>\n",
       "      <td>-497.903666</td>\n",
       "      <td>-497.923683</td>\n",
       "      <td>-503.451306</td>\n",
       "      <td>-499.89035</td>\n",
       "      <td>-499.577934</td>\n",
       "    </tr>\n",
       "    <tr>\n",
       "      <th>primary_cleaner.state.floatbank8_d_air</th>\n",
       "      <td>1399.001695</td>\n",
       "      <td>1399.508091</td>\n",
       "      <td>1399.497088</td>\n",
       "      <td>1401.065165</td>\n",
       "      <td>1399.480508</td>\n",
       "      <td>1400.47907</td>\n",
       "      <td>1399.535678</td>\n",
       "      <td>1398.546641</td>\n",
       "      <td>1402.934656</td>\n",
       "      <td>1402.758281</td>\n",
       "    </tr>\n",
       "    <tr>\n",
       "      <th>primary_cleaner.state.floatbank8_d_level</th>\n",
       "      <td>-499.485144</td>\n",
       "      <td>-500.416324</td>\n",
       "      <td>-499.715479</td>\n",
       "      <td>-501.038738</td>\n",
       "      <td>-499.374053</td>\n",
       "      <td>-500.842752</td>\n",
       "      <td>-500.256895</td>\n",
       "      <td>-498.000544</td>\n",
       "      <td>-501.129108</td>\n",
       "      <td>-500.120765</td>\n",
       "    </tr>\n",
       "    <tr>\n",
       "      <th>rougher.input.feed_ag</th>\n",
       "      <td>13.128569</td>\n",
       "      <td>13.03628</td>\n",
       "      <td>13.138412</td>\n",
       "      <td>12.400507</td>\n",
       "      <td>11.327427</td>\n",
       "      <td>9.658909</td>\n",
       "      <td>8.902324</td>\n",
       "      <td>8.759385</td>\n",
       "      <td>8.603058</td>\n",
       "      <td>8.353697</td>\n",
       "    </tr>\n",
       "    <tr>\n",
       "      <th>rougher.input.feed_pb</th>\n",
       "      <td>5.63671</td>\n",
       "      <td>5.526065</td>\n",
       "      <td>5.426561</td>\n",
       "      <td>5.114758</td>\n",
       "      <td>4.767383</td>\n",
       "      <td>4.290008</td>\n",
       "      <td>4.043502</td>\n",
       "      <td>4.036795</td>\n",
       "      <td>4.182064</td>\n",
       "      <td>4.013407</td>\n",
       "    </tr>\n",
       "    <tr>\n",
       "      <th>rougher.input.feed_rate</th>\n",
       "      <td>489.793655</td>\n",
       "      <td>490.104534</td>\n",
       "      <td>489.617969</td>\n",
       "      <td>476.61813</td>\n",
       "      <td>488.248117</td>\n",
       "      <td>490.908013</td>\n",
       "      <td>490.081681</td>\n",
       "      <td>489.121319</td>\n",
       "      <td>489.860555</td>\n",
       "      <td>498.755837</td>\n",
       "    </tr>\n",
       "    <tr>\n",
       "      <th>rougher.input.feed_size</th>\n",
       "      <td>62.710452</td>\n",
       "      <td>61.961163</td>\n",
       "      <td>66.903807</td>\n",
       "      <td>59.865919</td>\n",
       "      <td>63.315324</td>\n",
       "      <td>69.218255</td>\n",
       "      <td>75.856243</td>\n",
       "      <td>77.968131</td>\n",
       "      <td>75.846999</td>\n",
       "      <td>72.476418</td>\n",
       "    </tr>\n",
       "    <tr>\n",
       "      <th>rougher.input.feed_sol</th>\n",
       "      <td>42.02244</td>\n",
       "      <td>41.187903</td>\n",
       "      <td>42.546294</td>\n",
       "      <td>41.060195</td>\n",
       "      <td>41.269161</td>\n",
       "      <td>41.515115</td>\n",
       "      <td>43.1571</td>\n",
       "      <td>44.392272</td>\n",
       "      <td>45.02297</td>\n",
       "      <td>43.445836</td>\n",
       "    </tr>\n",
       "    <tr>\n",
       "      <th>rougher.input.feed_au</th>\n",
       "      <td>12.084103</td>\n",
       "      <td>11.918977</td>\n",
       "      <td>12.091332</td>\n",
       "      <td>12.181597</td>\n",
       "      <td>11.290425</td>\n",
       "      <td>9.77985</td>\n",
       "      <td>9.168984</td>\n",
       "      <td>9.116535</td>\n",
       "      <td>8.976052</td>\n",
       "      <td>8.345579</td>\n",
       "    </tr>\n",
       "    <tr>\n",
       "      <th>rougher.input.floatbank10_sulfate</th>\n",
       "      <td>16.922877</td>\n",
       "      <td>17.002532</td>\n",
       "      <td>16.99252</td>\n",
       "      <td>16.532144</td>\n",
       "      <td>13.607257</td>\n",
       "      <td>10.696589</td>\n",
       "      <td>10.004265</td>\n",
       "      <td>9.999497</td>\n",
       "      <td>10.002345</td>\n",
       "      <td>10.001816</td>\n",
       "    </tr>\n",
       "    <tr>\n",
       "      <th>rougher.input.floatbank10_xanthate</th>\n",
       "      <td>6.153479</td>\n",
       "      <td>5.999043</td>\n",
       "      <td>5.850632</td>\n",
       "      <td>5.801935</td>\n",
       "      <td>5.738081</td>\n",
       "      <td>5.596642</td>\n",
       "      <td>5.602029</td>\n",
       "      <td>5.604636</td>\n",
       "      <td>5.597465</td>\n",
       "      <td>5.597272</td>\n",
       "    </tr>\n",
       "    <tr>\n",
       "      <th>rougher.input.floatbank11_sulfate</th>\n",
       "      <td>16.867518</td>\n",
       "      <td>16.996063</td>\n",
       "      <td>16.982096</td>\n",
       "      <td>16.515277</td>\n",
       "      <td>13.650053</td>\n",
       "      <td>10.699891</td>\n",
       "      <td>10.004993</td>\n",
       "      <td>9.998214</td>\n",
       "      <td>9.992438</td>\n",
       "      <td>10.001796</td>\n",
       "    </tr>\n",
       "    <tr>\n",
       "      <th>rougher.input.floatbank11_xanthate</th>\n",
       "      <td>6.150709</td>\n",
       "      <td>6.002315</td>\n",
       "      <td>5.853594</td>\n",
       "      <td>5.803657</td>\n",
       "      <td>5.739634</td>\n",
       "      <td>5.59786</td>\n",
       "      <td>5.598335</td>\n",
       "      <td>5.601708</td>\n",
       "      <td>5.599358</td>\n",
       "      <td>5.611996</td>\n",
       "    </tr>\n",
       "    <tr>\n",
       "      <th>rougher.state.floatbank10_a_air</th>\n",
       "      <td>1001.849317</td>\n",
       "      <td>998.690785</td>\n",
       "      <td>998.51672</td>\n",
       "      <td>1000.276604</td>\n",
       "      <td>996.541302</td>\n",
       "      <td>998.65098</td>\n",
       "      <td>999.686022</td>\n",
       "      <td>999.888294</td>\n",
       "      <td>1000.807159</td>\n",
       "      <td>1000.429044</td>\n",
       "    </tr>\n",
       "    <tr>\n",
       "      <th>rougher.state.floatbank10_a_level</th>\n",
       "      <td>-350.301265</td>\n",
       "      <td>-350.425704</td>\n",
       "      <td>-349.783538</td>\n",
       "      <td>-350.172597</td>\n",
       "      <td>-350.562517</td>\n",
       "      <td>-349.659046</td>\n",
       "      <td>-350.086605</td>\n",
       "      <td>-350.889527</td>\n",
       "      <td>-349.470811</td>\n",
       "      <td>-350.050785</td>\n",
       "    </tr>\n",
       "    <tr>\n",
       "      <th>rougher.state.floatbank10_b_air</th>\n",
       "      <td>1249.738612</td>\n",
       "      <td>1248.395457</td>\n",
       "      <td>1247.440748</td>\n",
       "      <td>1251.322675</td>\n",
       "      <td>1304.658848</td>\n",
       "      <td>1349.964264</td>\n",
       "      <td>1349.45284</td>\n",
       "      <td>1350.425833</td>\n",
       "      <td>1350.272285</td>\n",
       "      <td>1349.662467</td>\n",
       "    </tr>\n",
       "    <tr>\n",
       "      <th>rougher.state.floatbank10_b_level</th>\n",
       "      <td>-399.107531</td>\n",
       "      <td>-399.946025</td>\n",
       "      <td>-400.26433</td>\n",
       "      <td>-398.655289</td>\n",
       "      <td>-399.511519</td>\n",
       "      <td>-399.393077</td>\n",
       "      <td>-400.372133</td>\n",
       "      <td>-400.665895</td>\n",
       "      <td>-399.52852</td>\n",
       "      <td>-399.820231</td>\n",
       "    </tr>\n",
       "    <tr>\n",
       "      <th>rougher.state.floatbank10_c_air</th>\n",
       "      <td>1249.75052</td>\n",
       "      <td>1249.514451</td>\n",
       "      <td>1248.207204</td>\n",
       "      <td>1250.493702</td>\n",
       "      <td>1306.455515</td>\n",
       "      <td>1349.764702</td>\n",
       "      <td>1349.739875</td>\n",
       "      <td>1347.73647</td>\n",
       "      <td>1354.016617</td>\n",
       "      <td>1350.12193</td>\n",
       "    </tr>\n",
       "    <tr>\n",
       "      <th>rougher.state.floatbank10_c_level</th>\n",
       "      <td>-399.39673</td>\n",
       "      <td>-399.63081</td>\n",
       "      <td>-401.074405</td>\n",
       "      <td>-399.746728</td>\n",
       "      <td>-399.050685</td>\n",
       "      <td>-399.233016</td>\n",
       "      <td>-400.045549</td>\n",
       "      <td>-401.850527</td>\n",
       "      <td>-399.401157</td>\n",
       "      <td>-399.3346</td>\n",
       "    </tr>\n",
       "    <tr>\n",
       "      <th>rougher.state.floatbank10_d_air</th>\n",
       "      <td>1198.287855</td>\n",
       "      <td>1200.506459</td>\n",
       "      <td>1199.770026</td>\n",
       "      <td>1199.398691</td>\n",
       "      <td>1248.699349</td>\n",
       "      <td>1302.258827</td>\n",
       "      <td>1299.687671</td>\n",
       "      <td>1295.059918</td>\n",
       "      <td>1305.915847</td>\n",
       "      <td>1297.57853</td>\n",
       "    </tr>\n",
       "    <tr>\n",
       "      <th>rougher.state.floatbank10_d_level</th>\n",
       "      <td>-399.488594</td>\n",
       "      <td>-399.942434</td>\n",
       "      <td>-400.790582</td>\n",
       "      <td>-397.503052</td>\n",
       "      <td>-400.876894</td>\n",
       "      <td>-399.946857</td>\n",
       "      <td>-399.981643</td>\n",
       "      <td>-404.880024</td>\n",
       "      <td>-395.740836</td>\n",
       "      <td>-398.095707</td>\n",
       "    </tr>\n",
       "    <tr>\n",
       "      <th>rougher.state.floatbank10_e_air</th>\n",
       "      <td>999.47225</td>\n",
       "      <td>1000.002114</td>\n",
       "      <td>999.925519</td>\n",
       "      <td>1001.930679</td>\n",
       "      <td>1058.839106</td>\n",
       "      <td>1100.278629</td>\n",
       "      <td>1099.813504</td>\n",
       "      <td>1097.116527</td>\n",
       "      <td>1102.693258</td>\n",
       "      <td>1102.30153</td>\n",
       "    </tr>\n",
       "    <tr>\n",
       "      <th>rougher.state.floatbank10_e_level</th>\n",
       "      <td>-399.530962</td>\n",
       "      <td>-399.491528</td>\n",
       "      <td>-399.236999</td>\n",
       "      <td>-400.437573</td>\n",
       "      <td>-398.988239</td>\n",
       "      <td>-399.742287</td>\n",
       "      <td>-400.249376</td>\n",
       "      <td>-399.280301</td>\n",
       "      <td>-401.384425</td>\n",
       "      <td>-399.421425</td>\n",
       "    </tr>\n",
       "    <tr>\n",
       "      <th>rougher.state.floatbank10_f_air</th>\n",
       "      <td>949.566189</td>\n",
       "      <td>950.200009</td>\n",
       "      <td>950.320481</td>\n",
       "      <td>950.735324</td>\n",
       "      <td>949.645313</td>\n",
       "      <td>949.622431</td>\n",
       "      <td>949.798421</td>\n",
       "      <td>950.165809</td>\n",
       "      <td>950.082475</td>\n",
       "      <td>951.069653</td>\n",
       "    </tr>\n",
       "    <tr>\n",
       "      <th>rougher.state.floatbank10_f_level</th>\n",
       "      <td>-398.180807</td>\n",
       "      <td>-405.787514</td>\n",
       "      <td>-400.86434</td>\n",
       "      <td>-399.802986</td>\n",
       "      <td>-399.277632</td>\n",
       "      <td>-399.096175</td>\n",
       "      <td>-400.710664</td>\n",
       "      <td>-399.21764</td>\n",
       "      <td>-400.682219</td>\n",
       "      <td>-401.079692</td>\n",
       "    </tr>\n",
       "    <tr>\n",
       "      <th>secondary_cleaner.state.floatbank2_a_air</th>\n",
       "      <td>24.9382</td>\n",
       "      <td>24.923466</td>\n",
       "      <td>24.908732</td>\n",
       "      <td>24.893998</td>\n",
       "      <td>24.886905</td>\n",
       "      <td>24.920872</td>\n",
       "      <td>24.966566</td>\n",
       "      <td>25.057298</td>\n",
       "      <td>25.03468</td>\n",
       "      <td>25.100847</td>\n",
       "    </tr>\n",
       "    <tr>\n",
       "      <th>secondary_cleaner.state.floatbank2_a_level</th>\n",
       "      <td>-500.490963</td>\n",
       "      <td>-499.813963</td>\n",
       "      <td>-500.304035</td>\n",
       "      <td>-499.382374</td>\n",
       "      <td>-499.357375</td>\n",
       "      <td>-500.006603</td>\n",
       "      <td>-500.375242</td>\n",
       "      <td>-500.516443</td>\n",
       "      <td>-499.569715</td>\n",
       "      <td>-500.700788</td>\n",
       "    </tr>\n",
       "    <tr>\n",
       "      <th>secondary_cleaner.state.floatbank2_b_air</th>\n",
       "      <td>14.947607</td>\n",
       "      <td>14.930873</td>\n",
       "      <td>14.996511</td>\n",
       "      <td>14.916674</td>\n",
       "      <td>14.979233</td>\n",
       "      <td>14.916602</td>\n",
       "      <td>12.573283</td>\n",
       "      <td>11.919993</td>\n",
       "      <td>11.988782</td>\n",
       "      <td>12.057571</td>\n",
       "    </tr>\n",
       "    <tr>\n",
       "      <th>secondary_cleaner.state.floatbank2_b_level</th>\n",
       "      <td>-500.013837</td>\n",
       "      <td>-500.764452</td>\n",
       "      <td>-500.993821</td>\n",
       "      <td>-499.862299</td>\n",
       "      <td>-500.186804</td>\n",
       "      <td>-499.899348</td>\n",
       "      <td>-499.670366</td>\n",
       "      <td>-500.141295</td>\n",
       "      <td>-499.838657</td>\n",
       "      <td>-500.134346</td>\n",
       "    </tr>\n",
       "    <tr>\n",
       "      <th>secondary_cleaner.state.floatbank3_a_air</th>\n",
       "      <td>20.018166</td>\n",
       "      <td>19.988503</td>\n",
       "      <td>20.039689</td>\n",
       "      <td>20.0311</td>\n",
       "      <td>19.962364</td>\n",
       "      <td>20.01933</td>\n",
       "      <td>19.959853</td>\n",
       "      <td>20.091065</td>\n",
       "      <td>19.980559</td>\n",
       "      <td>19.973543</td>\n",
       "    </tr>\n",
       "    <tr>\n",
       "      <th>secondary_cleaner.state.floatbank3_a_level</th>\n",
       "      <td>-450.395995</td>\n",
       "      <td>-450.114024</td>\n",
       "      <td>-450.263164</td>\n",
       "      <td>-449.37257</td>\n",
       "      <td>-450.638828</td>\n",
       "      <td>-449.836319</td>\n",
       "      <td>-485.725045</td>\n",
       "      <td>-500.162309</td>\n",
       "      <td>-500.068733</td>\n",
       "      <td>-498.635246</td>\n",
       "    </tr>\n",
       "    <tr>\n",
       "      <th>secondary_cleaner.state.floatbank3_b_air</th>\n",
       "      <td>13.987058</td>\n",
       "      <td>14.092981</td>\n",
       "      <td>14.077881</td>\n",
       "      <td>14.013968</td>\n",
       "      <td>14.009245</td>\n",
       "      <td>14.041691</td>\n",
       "      <td>12.465845</td>\n",
       "      <td>11.935898</td>\n",
       "      <td>12.079221</td>\n",
       "      <td>11.973403</td>\n",
       "    </tr>\n",
       "    <tr>\n",
       "      <th>secondary_cleaner.state.floatbank3_b_level</th>\n",
       "      <td>-449.831513</td>\n",
       "      <td>-450.059163</td>\n",
       "      <td>-449.660997</td>\n",
       "      <td>-449.5269</td>\n",
       "      <td>-450.022259</td>\n",
       "      <td>-450.185369</td>\n",
       "      <td>-485.778583</td>\n",
       "      <td>-500.116649</td>\n",
       "      <td>-499.983683</td>\n",
       "      <td>-498.885523</td>\n",
       "    </tr>\n",
       "    <tr>\n",
       "      <th>secondary_cleaner.state.floatbank4_a_air</th>\n",
       "      <td>12.023554</td>\n",
       "      <td>12.05814</td>\n",
       "      <td>11.962366</td>\n",
       "      <td>12.033091</td>\n",
       "      <td>12.025367</td>\n",
       "      <td>12.029797</td>\n",
       "      <td>12.026296</td>\n",
       "      <td>12.040911</td>\n",
       "      <td>11.998184</td>\n",
       "      <td>12.040725</td>\n",
       "    </tr>\n",
       "    <tr>\n",
       "      <th>secondary_cleaner.state.floatbank4_a_level</th>\n",
       "      <td>-497.795834</td>\n",
       "      <td>-498.695773</td>\n",
       "      <td>-498.767484</td>\n",
       "      <td>-498.350935</td>\n",
       "      <td>-500.786497</td>\n",
       "      <td>-499.814895</td>\n",
       "      <td>-499.473127</td>\n",
       "      <td>-501.293852</td>\n",
       "      <td>-499.481608</td>\n",
       "      <td>-499.987743</td>\n",
       "    </tr>\n",
       "    <tr>\n",
       "      <th>secondary_cleaner.state.floatbank4_b_air</th>\n",
       "      <td>8.016656</td>\n",
       "      <td>8.130979</td>\n",
       "      <td>8.096893</td>\n",
       "      <td>8.074946</td>\n",
       "      <td>8.054678</td>\n",
       "      <td>8.036586</td>\n",
       "      <td>8.027984</td>\n",
       "      <td>8.02049</td>\n",
       "      <td>8.01261</td>\n",
       "      <td>7.989503</td>\n",
       "    </tr>\n",
       "    <tr>\n",
       "      <th>secondary_cleaner.state.floatbank4_b_level</th>\n",
       "      <td>-501.289139</td>\n",
       "      <td>-499.634209</td>\n",
       "      <td>-500.827423</td>\n",
       "      <td>-499.474407</td>\n",
       "      <td>-500.3975</td>\n",
       "      <td>-500.371492</td>\n",
       "      <td>-500.983079</td>\n",
       "      <td>-499.185229</td>\n",
       "      <td>-500.896783</td>\n",
       "      <td>-499.750625</td>\n",
       "    </tr>\n",
       "    <tr>\n",
       "      <th>secondary_cleaner.state.floatbank5_a_air</th>\n",
       "      <td>7.946562</td>\n",
       "      <td>7.95827</td>\n",
       "      <td>8.071056</td>\n",
       "      <td>7.897085</td>\n",
       "      <td>8.10789</td>\n",
       "      <td>8.041446</td>\n",
       "      <td>7.90734</td>\n",
       "      <td>8.116897</td>\n",
       "      <td>7.974422</td>\n",
       "      <td>7.98971</td>\n",
       "    </tr>\n",
       "    <tr>\n",
       "      <th>secondary_cleaner.state.floatbank5_a_level</th>\n",
       "      <td>-432.31785</td>\n",
       "      <td>-525.839648</td>\n",
       "      <td>-500.801673</td>\n",
       "      <td>-500.868509</td>\n",
       "      <td>-509.526725</td>\n",
       "      <td>-510.037054</td>\n",
       "      <td>-507.964971</td>\n",
       "      <td>-511.927561</td>\n",
       "      <td>-521.199104</td>\n",
       "      <td>-509.946737</td>\n",
       "    </tr>\n",
       "    <tr>\n",
       "      <th>secondary_cleaner.state.floatbank5_b_air</th>\n",
       "      <td>4.872511</td>\n",
       "      <td>4.87885</td>\n",
       "      <td>4.905125</td>\n",
       "      <td>4.9314</td>\n",
       "      <td>4.957674</td>\n",
       "      <td>4.983949</td>\n",
       "      <td>5.010224</td>\n",
       "      <td>5.036498</td>\n",
       "      <td>5.061599</td>\n",
       "      <td>5.068811</td>\n",
       "    </tr>\n",
       "    <tr>\n",
       "      <th>secondary_cleaner.state.floatbank5_b_level</th>\n",
       "      <td>-500.037437</td>\n",
       "      <td>-500.162375</td>\n",
       "      <td>-499.82851</td>\n",
       "      <td>-499.963623</td>\n",
       "      <td>-500.360026</td>\n",
       "      <td>-499.99099</td>\n",
       "      <td>-500.043697</td>\n",
       "      <td>-500.149615</td>\n",
       "      <td>-499.791519</td>\n",
       "      <td>-499.2939</td>\n",
       "    </tr>\n",
       "    <tr>\n",
       "      <th>secondary_cleaner.state.floatbank6_a_air</th>\n",
       "      <td>26.705889</td>\n",
       "      <td>25.01994</td>\n",
       "      <td>24.994862</td>\n",
       "      <td>24.948919</td>\n",
       "      <td>25.003331</td>\n",
       "      <td>24.978973</td>\n",
       "      <td>25.040709</td>\n",
       "      <td>25.03258</td>\n",
       "      <td>25.005063</td>\n",
       "      <td>24.992741</td>\n",
       "    </tr>\n",
       "    <tr>\n",
       "      <th>secondary_cleaner.state.floatbank6_a_level</th>\n",
       "      <td>-499.709414</td>\n",
       "      <td>-499.819438</td>\n",
       "      <td>-500.622559</td>\n",
       "      <td>-498.709987</td>\n",
       "      <td>-500.856333</td>\n",
       "      <td>-500.47564</td>\n",
       "      <td>-499.501984</td>\n",
       "      <td>-503.970657</td>\n",
       "      <td>-497.613716</td>\n",
       "      <td>-499.272255</td>\n",
       "    </tr>\n",
       "  </tbody>\n",
       "</table>\n",
       "</div>"
      ],
      "text/plain": [
       "                                                              0  \\\n",
       "date                                        2016-09-01 00:59:59   \n",
       "primary_cleaner.input.sulfate                        210.800909   \n",
       "primary_cleaner.input.depressant                      14.993118   \n",
       "primary_cleaner.input.feed_size                            8.08   \n",
       "primary_cleaner.input.xanthate                         1.005021   \n",
       "primary_cleaner.state.floatbank8_a_air              1398.981301   \n",
       "primary_cleaner.state.floatbank8_a_level            -500.225577   \n",
       "primary_cleaner.state.floatbank8_b_air              1399.144926   \n",
       "primary_cleaner.state.floatbank8_b_level            -499.919735   \n",
       "primary_cleaner.state.floatbank8_c_air              1400.102998   \n",
       "primary_cleaner.state.floatbank8_c_level            -500.704369   \n",
       "primary_cleaner.state.floatbank8_d_air              1399.001695   \n",
       "primary_cleaner.state.floatbank8_d_level            -499.485144   \n",
       "rougher.input.feed_ag                                 13.128569   \n",
       "rougher.input.feed_pb                                   5.63671   \n",
       "rougher.input.feed_rate                              489.793655   \n",
       "rougher.input.feed_size                               62.710452   \n",
       "rougher.input.feed_sol                                 42.02244   \n",
       "rougher.input.feed_au                                 12.084103   \n",
       "rougher.input.floatbank10_sulfate                     16.922877   \n",
       "rougher.input.floatbank10_xanthate                     6.153479   \n",
       "rougher.input.floatbank11_sulfate                     16.867518   \n",
       "rougher.input.floatbank11_xanthate                     6.150709   \n",
       "rougher.state.floatbank10_a_air                     1001.849317   \n",
       "rougher.state.floatbank10_a_level                   -350.301265   \n",
       "rougher.state.floatbank10_b_air                     1249.738612   \n",
       "rougher.state.floatbank10_b_level                   -399.107531   \n",
       "rougher.state.floatbank10_c_air                      1249.75052   \n",
       "rougher.state.floatbank10_c_level                    -399.39673   \n",
       "rougher.state.floatbank10_d_air                     1198.287855   \n",
       "rougher.state.floatbank10_d_level                   -399.488594   \n",
       "rougher.state.floatbank10_e_air                       999.47225   \n",
       "rougher.state.floatbank10_e_level                   -399.530962   \n",
       "rougher.state.floatbank10_f_air                      949.566189   \n",
       "rougher.state.floatbank10_f_level                   -398.180807   \n",
       "secondary_cleaner.state.floatbank2_a_air                24.9382   \n",
       "secondary_cleaner.state.floatbank2_a_level          -500.490963   \n",
       "secondary_cleaner.state.floatbank2_b_air              14.947607   \n",
       "secondary_cleaner.state.floatbank2_b_level          -500.013837   \n",
       "secondary_cleaner.state.floatbank3_a_air              20.018166   \n",
       "secondary_cleaner.state.floatbank3_a_level          -450.395995   \n",
       "secondary_cleaner.state.floatbank3_b_air              13.987058   \n",
       "secondary_cleaner.state.floatbank3_b_level          -449.831513   \n",
       "secondary_cleaner.state.floatbank4_a_air              12.023554   \n",
       "secondary_cleaner.state.floatbank4_a_level          -497.795834   \n",
       "secondary_cleaner.state.floatbank4_b_air               8.016656   \n",
       "secondary_cleaner.state.floatbank4_b_level          -501.289139   \n",
       "secondary_cleaner.state.floatbank5_a_air               7.946562   \n",
       "secondary_cleaner.state.floatbank5_a_level           -432.31785   \n",
       "secondary_cleaner.state.floatbank5_b_air               4.872511   \n",
       "secondary_cleaner.state.floatbank5_b_level          -500.037437   \n",
       "secondary_cleaner.state.floatbank6_a_air              26.705889   \n",
       "secondary_cleaner.state.floatbank6_a_level          -499.709414   \n",
       "\n",
       "                                                              1  \\\n",
       "date                                        2016-09-01 01:59:59   \n",
       "primary_cleaner.input.sulfate                        215.392455   \n",
       "primary_cleaner.input.depressant                      14.987471   \n",
       "primary_cleaner.input.feed_size                            8.08   \n",
       "primary_cleaner.input.xanthate                         0.990469   \n",
       "primary_cleaner.state.floatbank8_a_air              1398.777912   \n",
       "primary_cleaner.state.floatbank8_a_level            -500.057435   \n",
       "primary_cleaner.state.floatbank8_b_air              1398.055362   \n",
       "primary_cleaner.state.floatbank8_b_level            -499.778182   \n",
       "primary_cleaner.state.floatbank8_c_air              1396.151033   \n",
       "primary_cleaner.state.floatbank8_c_level            -499.240168   \n",
       "primary_cleaner.state.floatbank8_d_air              1399.508091   \n",
       "primary_cleaner.state.floatbank8_d_level            -500.416324   \n",
       "rougher.input.feed_ag                                  13.03628   \n",
       "rougher.input.feed_pb                                  5.526065   \n",
       "rougher.input.feed_rate                              490.104534   \n",
       "rougher.input.feed_size                               61.961163   \n",
       "rougher.input.feed_sol                                41.187903   \n",
       "rougher.input.feed_au                                 11.918977   \n",
       "rougher.input.floatbank10_sulfate                     17.002532   \n",
       "rougher.input.floatbank10_xanthate                     5.999043   \n",
       "rougher.input.floatbank11_sulfate                     16.996063   \n",
       "rougher.input.floatbank11_xanthate                     6.002315   \n",
       "rougher.state.floatbank10_a_air                      998.690785   \n",
       "rougher.state.floatbank10_a_level                   -350.425704   \n",
       "rougher.state.floatbank10_b_air                     1248.395457   \n",
       "rougher.state.floatbank10_b_level                   -399.946025   \n",
       "rougher.state.floatbank10_c_air                     1249.514451   \n",
       "rougher.state.floatbank10_c_level                    -399.63081   \n",
       "rougher.state.floatbank10_d_air                     1200.506459   \n",
       "rougher.state.floatbank10_d_level                   -399.942434   \n",
       "rougher.state.floatbank10_e_air                     1000.002114   \n",
       "rougher.state.floatbank10_e_level                   -399.491528   \n",
       "rougher.state.floatbank10_f_air                      950.200009   \n",
       "rougher.state.floatbank10_f_level                   -405.787514   \n",
       "secondary_cleaner.state.floatbank2_a_air              24.923466   \n",
       "secondary_cleaner.state.floatbank2_a_level          -499.813963   \n",
       "secondary_cleaner.state.floatbank2_b_air              14.930873   \n",
       "secondary_cleaner.state.floatbank2_b_level          -500.764452   \n",
       "secondary_cleaner.state.floatbank3_a_air              19.988503   \n",
       "secondary_cleaner.state.floatbank3_a_level          -450.114024   \n",
       "secondary_cleaner.state.floatbank3_b_air              14.092981   \n",
       "secondary_cleaner.state.floatbank3_b_level          -450.059163   \n",
       "secondary_cleaner.state.floatbank4_a_air               12.05814   \n",
       "secondary_cleaner.state.floatbank4_a_level          -498.695773   \n",
       "secondary_cleaner.state.floatbank4_b_air               8.130979   \n",
       "secondary_cleaner.state.floatbank4_b_level          -499.634209   \n",
       "secondary_cleaner.state.floatbank5_a_air                7.95827   \n",
       "secondary_cleaner.state.floatbank5_a_level          -525.839648   \n",
       "secondary_cleaner.state.floatbank5_b_air                4.87885   \n",
       "secondary_cleaner.state.floatbank5_b_level          -500.162375   \n",
       "secondary_cleaner.state.floatbank6_a_air               25.01994   \n",
       "secondary_cleaner.state.floatbank6_a_level          -499.819438   \n",
       "\n",
       "                                                              2  \\\n",
       "date                                        2016-09-01 02:59:59   \n",
       "primary_cleaner.input.sulfate                        215.259946   \n",
       "primary_cleaner.input.depressant                      12.884934   \n",
       "primary_cleaner.input.feed_size                        7.786667   \n",
       "primary_cleaner.input.xanthate                         0.996043   \n",
       "primary_cleaner.state.floatbank8_a_air              1398.493666   \n",
       "primary_cleaner.state.floatbank8_a_level             -500.86836   \n",
       "primary_cleaner.state.floatbank8_b_air              1398.860436   \n",
       "primary_cleaner.state.floatbank8_b_level            -499.764529   \n",
       "primary_cleaner.state.floatbank8_c_air              1398.075709   \n",
       "primary_cleaner.state.floatbank8_c_level            -502.151509   \n",
       "primary_cleaner.state.floatbank8_d_air              1399.497088   \n",
       "primary_cleaner.state.floatbank8_d_level            -499.715479   \n",
       "rougher.input.feed_ag                                 13.138412   \n",
       "rougher.input.feed_pb                                  5.426561   \n",
       "rougher.input.feed_rate                              489.617969   \n",
       "rougher.input.feed_size                               66.903807   \n",
       "rougher.input.feed_sol                                42.546294   \n",
       "rougher.input.feed_au                                 12.091332   \n",
       "rougher.input.floatbank10_sulfate                      16.99252   \n",
       "rougher.input.floatbank10_xanthate                     5.850632   \n",
       "rougher.input.floatbank11_sulfate                     16.982096   \n",
       "rougher.input.floatbank11_xanthate                     5.853594   \n",
       "rougher.state.floatbank10_a_air                       998.51672   \n",
       "rougher.state.floatbank10_a_level                   -349.783538   \n",
       "rougher.state.floatbank10_b_air                     1247.440748   \n",
       "rougher.state.floatbank10_b_level                    -400.26433   \n",
       "rougher.state.floatbank10_c_air                     1248.207204   \n",
       "rougher.state.floatbank10_c_level                   -401.074405   \n",
       "rougher.state.floatbank10_d_air                     1199.770026   \n",
       "rougher.state.floatbank10_d_level                   -400.790582   \n",
       "rougher.state.floatbank10_e_air                      999.925519   \n",
       "rougher.state.floatbank10_e_level                   -399.236999   \n",
       "rougher.state.floatbank10_f_air                      950.320481   \n",
       "rougher.state.floatbank10_f_level                    -400.86434   \n",
       "secondary_cleaner.state.floatbank2_a_air              24.908732   \n",
       "secondary_cleaner.state.floatbank2_a_level          -500.304035   \n",
       "secondary_cleaner.state.floatbank2_b_air              14.996511   \n",
       "secondary_cleaner.state.floatbank2_b_level          -500.993821   \n",
       "secondary_cleaner.state.floatbank3_a_air              20.039689   \n",
       "secondary_cleaner.state.floatbank3_a_level          -450.263164   \n",
       "secondary_cleaner.state.floatbank3_b_air              14.077881   \n",
       "secondary_cleaner.state.floatbank3_b_level          -449.660997   \n",
       "secondary_cleaner.state.floatbank4_a_air              11.962366   \n",
       "secondary_cleaner.state.floatbank4_a_level          -498.767484   \n",
       "secondary_cleaner.state.floatbank4_b_air               8.096893   \n",
       "secondary_cleaner.state.floatbank4_b_level          -500.827423   \n",
       "secondary_cleaner.state.floatbank5_a_air               8.071056   \n",
       "secondary_cleaner.state.floatbank5_a_level          -500.801673   \n",
       "secondary_cleaner.state.floatbank5_b_air               4.905125   \n",
       "secondary_cleaner.state.floatbank5_b_level           -499.82851   \n",
       "secondary_cleaner.state.floatbank6_a_air              24.994862   \n",
       "secondary_cleaner.state.floatbank6_a_level          -500.622559   \n",
       "\n",
       "                                                              3  \\\n",
       "date                                        2016-09-01 03:59:59   \n",
       "primary_cleaner.input.sulfate                        215.336236   \n",
       "primary_cleaner.input.depressant                      12.006805   \n",
       "primary_cleaner.input.feed_size                            7.64   \n",
       "primary_cleaner.input.xanthate                         0.863514   \n",
       "primary_cleaner.state.floatbank8_a_air              1399.618111   \n",
       "primary_cleaner.state.floatbank8_a_level            -498.863574   \n",
       "primary_cleaner.state.floatbank8_b_air               1397.44012   \n",
       "primary_cleaner.state.floatbank8_b_level            -499.211024   \n",
       "primary_cleaner.state.floatbank8_c_air              1400.129303   \n",
       "primary_cleaner.state.floatbank8_c_level            -498.355873   \n",
       "primary_cleaner.state.floatbank8_d_air              1401.065165   \n",
       "primary_cleaner.state.floatbank8_d_level            -501.038738   \n",
       "rougher.input.feed_ag                                 12.400507   \n",
       "rougher.input.feed_pb                                  5.114758   \n",
       "rougher.input.feed_rate                               476.61813   \n",
       "rougher.input.feed_size                               59.865919   \n",
       "rougher.input.feed_sol                                41.060195   \n",
       "rougher.input.feed_au                                 12.181597   \n",
       "rougher.input.floatbank10_sulfate                     16.532144   \n",
       "rougher.input.floatbank10_xanthate                     5.801935   \n",
       "rougher.input.floatbank11_sulfate                     16.515277   \n",
       "rougher.input.floatbank11_xanthate                     5.803657   \n",
       "rougher.state.floatbank10_a_air                     1000.276604   \n",
       "rougher.state.floatbank10_a_level                   -350.172597   \n",
       "rougher.state.floatbank10_b_air                     1251.322675   \n",
       "rougher.state.floatbank10_b_level                   -398.655289   \n",
       "rougher.state.floatbank10_c_air                     1250.493702   \n",
       "rougher.state.floatbank10_c_level                   -399.746728   \n",
       "rougher.state.floatbank10_d_air                     1199.398691   \n",
       "rougher.state.floatbank10_d_level                   -397.503052   \n",
       "rougher.state.floatbank10_e_air                     1001.930679   \n",
       "rougher.state.floatbank10_e_level                   -400.437573   \n",
       "rougher.state.floatbank10_f_air                      950.735324   \n",
       "rougher.state.floatbank10_f_level                   -399.802986   \n",
       "secondary_cleaner.state.floatbank2_a_air              24.893998   \n",
       "secondary_cleaner.state.floatbank2_a_level          -499.382374   \n",
       "secondary_cleaner.state.floatbank2_b_air              14.916674   \n",
       "secondary_cleaner.state.floatbank2_b_level          -499.862299   \n",
       "secondary_cleaner.state.floatbank3_a_air                20.0311   \n",
       "secondary_cleaner.state.floatbank3_a_level           -449.37257   \n",
       "secondary_cleaner.state.floatbank3_b_air              14.013968   \n",
       "secondary_cleaner.state.floatbank3_b_level            -449.5269   \n",
       "secondary_cleaner.state.floatbank4_a_air              12.033091   \n",
       "secondary_cleaner.state.floatbank4_a_level          -498.350935   \n",
       "secondary_cleaner.state.floatbank4_b_air               8.074946   \n",
       "secondary_cleaner.state.floatbank4_b_level          -499.474407   \n",
       "secondary_cleaner.state.floatbank5_a_air               7.897085   \n",
       "secondary_cleaner.state.floatbank5_a_level          -500.868509   \n",
       "secondary_cleaner.state.floatbank5_b_air                 4.9314   \n",
       "secondary_cleaner.state.floatbank5_b_level          -499.963623   \n",
       "secondary_cleaner.state.floatbank6_a_air              24.948919   \n",
       "secondary_cleaner.state.floatbank6_a_level          -498.709987   \n",
       "\n",
       "                                                              4  \\\n",
       "date                                        2016-09-01 04:59:59   \n",
       "primary_cleaner.input.sulfate                        199.099327   \n",
       "primary_cleaner.input.depressant                       10.68253   \n",
       "primary_cleaner.input.feed_size                            7.53   \n",
       "primary_cleaner.input.xanthate                         0.805575   \n",
       "primary_cleaner.state.floatbank8_a_air              1401.268123   \n",
       "primary_cleaner.state.floatbank8_a_level            -500.808305   \n",
       "primary_cleaner.state.floatbank8_b_air              1398.128818   \n",
       "primary_cleaner.state.floatbank8_b_level            -499.504543   \n",
       "primary_cleaner.state.floatbank8_c_air              1402.172226   \n",
       "primary_cleaner.state.floatbank8_c_level            -500.810606   \n",
       "primary_cleaner.state.floatbank8_d_air              1399.480508   \n",
       "primary_cleaner.state.floatbank8_d_level            -499.374053   \n",
       "rougher.input.feed_ag                                 11.327427   \n",
       "rougher.input.feed_pb                                  4.767383   \n",
       "rougher.input.feed_rate                              488.248117   \n",
       "rougher.input.feed_size                               63.315324   \n",
       "rougher.input.feed_sol                                41.269161   \n",
       "rougher.input.feed_au                                 11.290425   \n",
       "rougher.input.floatbank10_sulfate                     13.607257   \n",
       "rougher.input.floatbank10_xanthate                     5.738081   \n",
       "rougher.input.floatbank11_sulfate                     13.650053   \n",
       "rougher.input.floatbank11_xanthate                     5.739634   \n",
       "rougher.state.floatbank10_a_air                      996.541302   \n",
       "rougher.state.floatbank10_a_level                   -350.562517   \n",
       "rougher.state.floatbank10_b_air                     1304.658848   \n",
       "rougher.state.floatbank10_b_level                   -399.511519   \n",
       "rougher.state.floatbank10_c_air                     1306.455515   \n",
       "rougher.state.floatbank10_c_level                   -399.050685   \n",
       "rougher.state.floatbank10_d_air                     1248.699349   \n",
       "rougher.state.floatbank10_d_level                   -400.876894   \n",
       "rougher.state.floatbank10_e_air                     1058.839106   \n",
       "rougher.state.floatbank10_e_level                   -398.988239   \n",
       "rougher.state.floatbank10_f_air                      949.645313   \n",
       "rougher.state.floatbank10_f_level                   -399.277632   \n",
       "secondary_cleaner.state.floatbank2_a_air              24.886905   \n",
       "secondary_cleaner.state.floatbank2_a_level          -499.357375   \n",
       "secondary_cleaner.state.floatbank2_b_air              14.979233   \n",
       "secondary_cleaner.state.floatbank2_b_level          -500.186804   \n",
       "secondary_cleaner.state.floatbank3_a_air              19.962364   \n",
       "secondary_cleaner.state.floatbank3_a_level          -450.638828   \n",
       "secondary_cleaner.state.floatbank3_b_air              14.009245   \n",
       "secondary_cleaner.state.floatbank3_b_level          -450.022259   \n",
       "secondary_cleaner.state.floatbank4_a_air              12.025367   \n",
       "secondary_cleaner.state.floatbank4_a_level          -500.786497   \n",
       "secondary_cleaner.state.floatbank4_b_air               8.054678   \n",
       "secondary_cleaner.state.floatbank4_b_level            -500.3975   \n",
       "secondary_cleaner.state.floatbank5_a_air                8.10789   \n",
       "secondary_cleaner.state.floatbank5_a_level          -509.526725   \n",
       "secondary_cleaner.state.floatbank5_b_air               4.957674   \n",
       "secondary_cleaner.state.floatbank5_b_level          -500.360026   \n",
       "secondary_cleaner.state.floatbank6_a_air              25.003331   \n",
       "secondary_cleaner.state.floatbank6_a_level          -500.856333   \n",
       "\n",
       "                                                              5  \\\n",
       "date                                        2016-09-01 05:59:59   \n",
       "primary_cleaner.input.sulfate                        168.485085   \n",
       "primary_cleaner.input.depressant                       8.817007   \n",
       "primary_cleaner.input.feed_size                            7.42   \n",
       "primary_cleaner.input.xanthate                         0.791191   \n",
       "primary_cleaner.state.floatbank8_a_air              1402.826803   \n",
       "primary_cleaner.state.floatbank8_a_level            -499.299521   \n",
       "primary_cleaner.state.floatbank8_b_air              1401.511119   \n",
       "primary_cleaner.state.floatbank8_b_level            -499.205357   \n",
       "primary_cleaner.state.floatbank8_c_air              1404.088107   \n",
       "primary_cleaner.state.floatbank8_c_level            -497.903666   \n",
       "primary_cleaner.state.floatbank8_d_air               1400.47907   \n",
       "primary_cleaner.state.floatbank8_d_level            -500.842752   \n",
       "rougher.input.feed_ag                                  9.658909   \n",
       "rougher.input.feed_pb                                  4.290008   \n",
       "rougher.input.feed_rate                              490.908013   \n",
       "rougher.input.feed_size                               69.218255   \n",
       "rougher.input.feed_sol                                41.515115   \n",
       "rougher.input.feed_au                                   9.77985   \n",
       "rougher.input.floatbank10_sulfate                     10.696589   \n",
       "rougher.input.floatbank10_xanthate                     5.596642   \n",
       "rougher.input.floatbank11_sulfate                     10.699891   \n",
       "rougher.input.floatbank11_xanthate                      5.59786   \n",
       "rougher.state.floatbank10_a_air                       998.65098   \n",
       "rougher.state.floatbank10_a_level                   -349.659046   \n",
       "rougher.state.floatbank10_b_air                     1349.964264   \n",
       "rougher.state.floatbank10_b_level                   -399.393077   \n",
       "rougher.state.floatbank10_c_air                     1349.764702   \n",
       "rougher.state.floatbank10_c_level                   -399.233016   \n",
       "rougher.state.floatbank10_d_air                     1302.258827   \n",
       "rougher.state.floatbank10_d_level                   -399.946857   \n",
       "rougher.state.floatbank10_e_air                     1100.278629   \n",
       "rougher.state.floatbank10_e_level                   -399.742287   \n",
       "rougher.state.floatbank10_f_air                      949.622431   \n",
       "rougher.state.floatbank10_f_level                   -399.096175   \n",
       "secondary_cleaner.state.floatbank2_a_air              24.920872   \n",
       "secondary_cleaner.state.floatbank2_a_level          -500.006603   \n",
       "secondary_cleaner.state.floatbank2_b_air              14.916602   \n",
       "secondary_cleaner.state.floatbank2_b_level          -499.899348   \n",
       "secondary_cleaner.state.floatbank3_a_air               20.01933   \n",
       "secondary_cleaner.state.floatbank3_a_level          -449.836319   \n",
       "secondary_cleaner.state.floatbank3_b_air              14.041691   \n",
       "secondary_cleaner.state.floatbank3_b_level          -450.185369   \n",
       "secondary_cleaner.state.floatbank4_a_air              12.029797   \n",
       "secondary_cleaner.state.floatbank4_a_level          -499.814895   \n",
       "secondary_cleaner.state.floatbank4_b_air               8.036586   \n",
       "secondary_cleaner.state.floatbank4_b_level          -500.371492   \n",
       "secondary_cleaner.state.floatbank5_a_air               8.041446   \n",
       "secondary_cleaner.state.floatbank5_a_level          -510.037054   \n",
       "secondary_cleaner.state.floatbank5_b_air               4.983949   \n",
       "secondary_cleaner.state.floatbank5_b_level           -499.99099   \n",
       "secondary_cleaner.state.floatbank6_a_air              24.978973   \n",
       "secondary_cleaner.state.floatbank6_a_level           -500.47564   \n",
       "\n",
       "                                                              6  \\\n",
       "date                                        2016-09-01 06:59:59   \n",
       "primary_cleaner.input.sulfate                         144.13344   \n",
       "primary_cleaner.input.depressant                        7.92461   \n",
       "primary_cleaner.input.feed_size                            7.42   \n",
       "primary_cleaner.input.xanthate                         0.788838   \n",
       "primary_cleaner.state.floatbank8_a_air              1398.252401   \n",
       "primary_cleaner.state.floatbank8_a_level            -499.748672   \n",
       "primary_cleaner.state.floatbank8_b_air              1393.255503   \n",
       "primary_cleaner.state.floatbank8_b_level             -499.19538   \n",
       "primary_cleaner.state.floatbank8_c_air              1396.738566   \n",
       "primary_cleaner.state.floatbank8_c_level            -497.923683   \n",
       "primary_cleaner.state.floatbank8_d_air              1399.535678   \n",
       "primary_cleaner.state.floatbank8_d_level            -500.256895   \n",
       "rougher.input.feed_ag                                  8.902324   \n",
       "rougher.input.feed_pb                                  4.043502   \n",
       "rougher.input.feed_rate                              490.081681   \n",
       "rougher.input.feed_size                               75.856243   \n",
       "rougher.input.feed_sol                                  43.1571   \n",
       "rougher.input.feed_au                                  9.168984   \n",
       "rougher.input.floatbank10_sulfate                     10.004265   \n",
       "rougher.input.floatbank10_xanthate                     5.602029   \n",
       "rougher.input.floatbank11_sulfate                     10.004993   \n",
       "rougher.input.floatbank11_xanthate                     5.598335   \n",
       "rougher.state.floatbank10_a_air                      999.686022   \n",
       "rougher.state.floatbank10_a_level                   -350.086605   \n",
       "rougher.state.floatbank10_b_air                      1349.45284   \n",
       "rougher.state.floatbank10_b_level                   -400.372133   \n",
       "rougher.state.floatbank10_c_air                     1349.739875   \n",
       "rougher.state.floatbank10_c_level                   -400.045549   \n",
       "rougher.state.floatbank10_d_air                     1299.687671   \n",
       "rougher.state.floatbank10_d_level                   -399.981643   \n",
       "rougher.state.floatbank10_e_air                     1099.813504   \n",
       "rougher.state.floatbank10_e_level                   -400.249376   \n",
       "rougher.state.floatbank10_f_air                      949.798421   \n",
       "rougher.state.floatbank10_f_level                   -400.710664   \n",
       "secondary_cleaner.state.floatbank2_a_air              24.966566   \n",
       "secondary_cleaner.state.floatbank2_a_level          -500.375242   \n",
       "secondary_cleaner.state.floatbank2_b_air              12.573283   \n",
       "secondary_cleaner.state.floatbank2_b_level          -499.670366   \n",
       "secondary_cleaner.state.floatbank3_a_air              19.959853   \n",
       "secondary_cleaner.state.floatbank3_a_level          -485.725045   \n",
       "secondary_cleaner.state.floatbank3_b_air              12.465845   \n",
       "secondary_cleaner.state.floatbank3_b_level          -485.778583   \n",
       "secondary_cleaner.state.floatbank4_a_air              12.026296   \n",
       "secondary_cleaner.state.floatbank4_a_level          -499.473127   \n",
       "secondary_cleaner.state.floatbank4_b_air               8.027984   \n",
       "secondary_cleaner.state.floatbank4_b_level          -500.983079   \n",
       "secondary_cleaner.state.floatbank5_a_air                7.90734   \n",
       "secondary_cleaner.state.floatbank5_a_level          -507.964971   \n",
       "secondary_cleaner.state.floatbank5_b_air               5.010224   \n",
       "secondary_cleaner.state.floatbank5_b_level          -500.043697   \n",
       "secondary_cleaner.state.floatbank6_a_air              25.040709   \n",
       "secondary_cleaner.state.floatbank6_a_level          -499.501984   \n",
       "\n",
       "                                                              7  \\\n",
       "date                                        2016-09-01 07:59:59   \n",
       "primary_cleaner.input.sulfate                        133.513396   \n",
       "primary_cleaner.input.depressant                       8.055252   \n",
       "primary_cleaner.input.feed_size                           6.988   \n",
       "primary_cleaner.input.xanthate                         0.801871   \n",
       "primary_cleaner.state.floatbank8_a_air              1401.669677   \n",
       "primary_cleaner.state.floatbank8_a_level            -501.777839   \n",
       "primary_cleaner.state.floatbank8_b_air              1400.754446   \n",
       "primary_cleaner.state.floatbank8_b_level            -502.514024   \n",
       "primary_cleaner.state.floatbank8_c_air              1400.465244   \n",
       "primary_cleaner.state.floatbank8_c_level            -503.451306   \n",
       "primary_cleaner.state.floatbank8_d_air              1398.546641   \n",
       "primary_cleaner.state.floatbank8_d_level            -498.000544   \n",
       "rougher.input.feed_ag                                  8.759385   \n",
       "rougher.input.feed_pb                                  4.036795   \n",
       "rougher.input.feed_rate                              489.121319   \n",
       "rougher.input.feed_size                               77.968131   \n",
       "rougher.input.feed_sol                                44.392272   \n",
       "rougher.input.feed_au                                  9.116535   \n",
       "rougher.input.floatbank10_sulfate                      9.999497   \n",
       "rougher.input.floatbank10_xanthate                     5.604636   \n",
       "rougher.input.floatbank11_sulfate                      9.998214   \n",
       "rougher.input.floatbank11_xanthate                     5.601708   \n",
       "rougher.state.floatbank10_a_air                      999.888294   \n",
       "rougher.state.floatbank10_a_level                   -350.889527   \n",
       "rougher.state.floatbank10_b_air                     1350.425833   \n",
       "rougher.state.floatbank10_b_level                   -400.665895   \n",
       "rougher.state.floatbank10_c_air                      1347.73647   \n",
       "rougher.state.floatbank10_c_level                   -401.850527   \n",
       "rougher.state.floatbank10_d_air                     1295.059918   \n",
       "rougher.state.floatbank10_d_level                   -404.880024   \n",
       "rougher.state.floatbank10_e_air                     1097.116527   \n",
       "rougher.state.floatbank10_e_level                   -399.280301   \n",
       "rougher.state.floatbank10_f_air                      950.165809   \n",
       "rougher.state.floatbank10_f_level                    -399.21764   \n",
       "secondary_cleaner.state.floatbank2_a_air              25.057298   \n",
       "secondary_cleaner.state.floatbank2_a_level          -500.516443   \n",
       "secondary_cleaner.state.floatbank2_b_air              11.919993   \n",
       "secondary_cleaner.state.floatbank2_b_level          -500.141295   \n",
       "secondary_cleaner.state.floatbank3_a_air              20.091065   \n",
       "secondary_cleaner.state.floatbank3_a_level          -500.162309   \n",
       "secondary_cleaner.state.floatbank3_b_air              11.935898   \n",
       "secondary_cleaner.state.floatbank3_b_level          -500.116649   \n",
       "secondary_cleaner.state.floatbank4_a_air              12.040911   \n",
       "secondary_cleaner.state.floatbank4_a_level          -501.293852   \n",
       "secondary_cleaner.state.floatbank4_b_air                8.02049   \n",
       "secondary_cleaner.state.floatbank4_b_level          -499.185229   \n",
       "secondary_cleaner.state.floatbank5_a_air               8.116897   \n",
       "secondary_cleaner.state.floatbank5_a_level          -511.927561   \n",
       "secondary_cleaner.state.floatbank5_b_air               5.036498   \n",
       "secondary_cleaner.state.floatbank5_b_level          -500.149615   \n",
       "secondary_cleaner.state.floatbank6_a_air               25.03258   \n",
       "secondary_cleaner.state.floatbank6_a_level          -503.970657   \n",
       "\n",
       "                                                              8  \\\n",
       "date                                        2016-09-01 08:59:59   \n",
       "primary_cleaner.input.sulfate                        133.735356   \n",
       "primary_cleaner.input.depressant                       7.999618   \n",
       "primary_cleaner.input.feed_size                           6.935   \n",
       "primary_cleaner.input.xanthate                         0.789329   \n",
       "primary_cleaner.state.floatbank8_a_air              1402.358981   \n",
       "primary_cleaner.state.floatbank8_a_level            -499.981597   \n",
       "primary_cleaner.state.floatbank8_b_air              1400.985954   \n",
       "primary_cleaner.state.floatbank8_b_level            -496.802968   \n",
       "primary_cleaner.state.floatbank8_c_air              1401.168584   \n",
       "primary_cleaner.state.floatbank8_c_level             -499.89035   \n",
       "primary_cleaner.state.floatbank8_d_air              1402.934656   \n",
       "primary_cleaner.state.floatbank8_d_level            -501.129108   \n",
       "rougher.input.feed_ag                                  8.603058   \n",
       "rougher.input.feed_pb                                  4.182064   \n",
       "rougher.input.feed_rate                              489.860555   \n",
       "rougher.input.feed_size                               75.846999   \n",
       "rougher.input.feed_sol                                 45.02297   \n",
       "rougher.input.feed_au                                  8.976052   \n",
       "rougher.input.floatbank10_sulfate                     10.002345   \n",
       "rougher.input.floatbank10_xanthate                     5.597465   \n",
       "rougher.input.floatbank11_sulfate                      9.992438   \n",
       "rougher.input.floatbank11_xanthate                     5.599358   \n",
       "rougher.state.floatbank10_a_air                     1000.807159   \n",
       "rougher.state.floatbank10_a_level                   -349.470811   \n",
       "rougher.state.floatbank10_b_air                     1350.272285   \n",
       "rougher.state.floatbank10_b_level                    -399.52852   \n",
       "rougher.state.floatbank10_c_air                     1354.016617   \n",
       "rougher.state.floatbank10_c_level                   -399.401157   \n",
       "rougher.state.floatbank10_d_air                     1305.915847   \n",
       "rougher.state.floatbank10_d_level                   -395.740836   \n",
       "rougher.state.floatbank10_e_air                     1102.693258   \n",
       "rougher.state.floatbank10_e_level                   -401.384425   \n",
       "rougher.state.floatbank10_f_air                      950.082475   \n",
       "rougher.state.floatbank10_f_level                   -400.682219   \n",
       "secondary_cleaner.state.floatbank2_a_air               25.03468   \n",
       "secondary_cleaner.state.floatbank2_a_level          -499.569715   \n",
       "secondary_cleaner.state.floatbank2_b_air              11.988782   \n",
       "secondary_cleaner.state.floatbank2_b_level          -499.838657   \n",
       "secondary_cleaner.state.floatbank3_a_air              19.980559   \n",
       "secondary_cleaner.state.floatbank3_a_level          -500.068733   \n",
       "secondary_cleaner.state.floatbank3_b_air              12.079221   \n",
       "secondary_cleaner.state.floatbank3_b_level          -499.983683   \n",
       "secondary_cleaner.state.floatbank4_a_air              11.998184   \n",
       "secondary_cleaner.state.floatbank4_a_level          -499.481608   \n",
       "secondary_cleaner.state.floatbank4_b_air                8.01261   \n",
       "secondary_cleaner.state.floatbank4_b_level          -500.896783   \n",
       "secondary_cleaner.state.floatbank5_a_air               7.974422   \n",
       "secondary_cleaner.state.floatbank5_a_level          -521.199104   \n",
       "secondary_cleaner.state.floatbank5_b_air               5.061599   \n",
       "secondary_cleaner.state.floatbank5_b_level          -499.791519   \n",
       "secondary_cleaner.state.floatbank6_a_air              25.005063   \n",
       "secondary_cleaner.state.floatbank6_a_level          -497.613716   \n",
       "\n",
       "                                                              9  \n",
       "date                                        2016-09-01 09:59:59  \n",
       "primary_cleaner.input.sulfate                        126.961069  \n",
       "primary_cleaner.input.depressant                       8.017856  \n",
       "primary_cleaner.input.feed_size                            7.03  \n",
       "primary_cleaner.input.xanthate                         0.805298  \n",
       "primary_cleaner.state.floatbank8_a_air               1400.81612  \n",
       "primary_cleaner.state.floatbank8_a_level            -499.014158  \n",
       "primary_cleaner.state.floatbank8_b_air              1399.975401  \n",
       "primary_cleaner.state.floatbank8_b_level            -499.570552  \n",
       "primary_cleaner.state.floatbank8_c_air              1401.871924  \n",
       "primary_cleaner.state.floatbank8_c_level            -499.577934  \n",
       "primary_cleaner.state.floatbank8_d_air              1402.758281  \n",
       "primary_cleaner.state.floatbank8_d_level            -500.120765  \n",
       "rougher.input.feed_ag                                  8.353697  \n",
       "rougher.input.feed_pb                                  4.013407  \n",
       "rougher.input.feed_rate                              498.755837  \n",
       "rougher.input.feed_size                               72.476418  \n",
       "rougher.input.feed_sol                                43.445836  \n",
       "rougher.input.feed_au                                  8.345579  \n",
       "rougher.input.floatbank10_sulfate                     10.001816  \n",
       "rougher.input.floatbank10_xanthate                     5.597272  \n",
       "rougher.input.floatbank11_sulfate                     10.001796  \n",
       "rougher.input.floatbank11_xanthate                     5.611996  \n",
       "rougher.state.floatbank10_a_air                     1000.429044  \n",
       "rougher.state.floatbank10_a_level                   -350.050785  \n",
       "rougher.state.floatbank10_b_air                     1349.662467  \n",
       "rougher.state.floatbank10_b_level                   -399.820231  \n",
       "rougher.state.floatbank10_c_air                      1350.12193  \n",
       "rougher.state.floatbank10_c_level                     -399.3346  \n",
       "rougher.state.floatbank10_d_air                      1297.57853  \n",
       "rougher.state.floatbank10_d_level                   -398.095707  \n",
       "rougher.state.floatbank10_e_air                      1102.30153  \n",
       "rougher.state.floatbank10_e_level                   -399.421425  \n",
       "rougher.state.floatbank10_f_air                      951.069653  \n",
       "rougher.state.floatbank10_f_level                   -401.079692  \n",
       "secondary_cleaner.state.floatbank2_a_air              25.100847  \n",
       "secondary_cleaner.state.floatbank2_a_level          -500.700788  \n",
       "secondary_cleaner.state.floatbank2_b_air              12.057571  \n",
       "secondary_cleaner.state.floatbank2_b_level          -500.134346  \n",
       "secondary_cleaner.state.floatbank3_a_air              19.973543  \n",
       "secondary_cleaner.state.floatbank3_a_level          -498.635246  \n",
       "secondary_cleaner.state.floatbank3_b_air              11.973403  \n",
       "secondary_cleaner.state.floatbank3_b_level          -498.885523  \n",
       "secondary_cleaner.state.floatbank4_a_air              12.040725  \n",
       "secondary_cleaner.state.floatbank4_a_level          -499.987743  \n",
       "secondary_cleaner.state.floatbank4_b_air               7.989503  \n",
       "secondary_cleaner.state.floatbank4_b_level          -499.750625  \n",
       "secondary_cleaner.state.floatbank5_a_air                7.98971  \n",
       "secondary_cleaner.state.floatbank5_a_level          -509.946737  \n",
       "secondary_cleaner.state.floatbank5_b_air               5.068811  \n",
       "secondary_cleaner.state.floatbank5_b_level            -499.2939  \n",
       "secondary_cleaner.state.floatbank6_a_air              24.992741  \n",
       "secondary_cleaner.state.floatbank6_a_level          -499.272255  "
      ]
     },
     "execution_count": 8,
     "metadata": {},
     "output_type": "execute_result"
    }
   ],
   "source": [
    "df_test.head(10).T# посмотрим 10 первых строк тестовой выборки"
   ]
  },
  {
   "cell_type": "code",
   "execution_count": 9,
   "metadata": {},
   "outputs": [
    {
     "data": {
      "text/html": [
       "<div>\n",
       "<style scoped>\n",
       "    .dataframe tbody tr th:only-of-type {\n",
       "        vertical-align: middle;\n",
       "    }\n",
       "\n",
       "    .dataframe tbody tr th {\n",
       "        vertical-align: top;\n",
       "    }\n",
       "\n",
       "    .dataframe thead th {\n",
       "        text-align: right;\n",
       "    }\n",
       "</style>\n",
       "<table border=\"1\" class=\"dataframe\">\n",
       "  <thead>\n",
       "    <tr style=\"text-align: right;\">\n",
       "      <th></th>\n",
       "      <th>0</th>\n",
       "      <th>1</th>\n",
       "      <th>2</th>\n",
       "      <th>3</th>\n",
       "      <th>4</th>\n",
       "      <th>5</th>\n",
       "      <th>6</th>\n",
       "      <th>7</th>\n",
       "      <th>8</th>\n",
       "      <th>9</th>\n",
       "    </tr>\n",
       "  </thead>\n",
       "  <tbody>\n",
       "    <tr>\n",
       "      <th>date</th>\n",
       "      <td>2016-01-15 00:00:00</td>\n",
       "      <td>2016-01-15 01:00:00</td>\n",
       "      <td>2016-01-15 02:00:00</td>\n",
       "      <td>2016-01-15 03:00:00</td>\n",
       "      <td>2016-01-15 04:00:00</td>\n",
       "      <td>2016-01-15 05:00:00</td>\n",
       "      <td>2016-01-15 06:00:00</td>\n",
       "      <td>2016-01-15 07:00:00</td>\n",
       "      <td>2016-01-15 08:00:00</td>\n",
       "      <td>2016-01-15 09:00:00</td>\n",
       "    </tr>\n",
       "    <tr>\n",
       "      <th>final.output.concentrate_ag</th>\n",
       "      <td>6.055403</td>\n",
       "      <td>6.029369</td>\n",
       "      <td>6.055926</td>\n",
       "      <td>6.047977</td>\n",
       "      <td>6.148599</td>\n",
       "      <td>6.482968</td>\n",
       "      <td>6.533849</td>\n",
       "      <td>6.130823</td>\n",
       "      <td>5.83414</td>\n",
       "      <td>5.687063</td>\n",
       "    </tr>\n",
       "    <tr>\n",
       "      <th>final.output.concentrate_pb</th>\n",
       "      <td>9.889648</td>\n",
       "      <td>9.968944</td>\n",
       "      <td>10.213995</td>\n",
       "      <td>9.977019</td>\n",
       "      <td>10.142511</td>\n",
       "      <td>10.049416</td>\n",
       "      <td>10.058141</td>\n",
       "      <td>9.935481</td>\n",
       "      <td>10.071156</td>\n",
       "      <td>9.980404</td>\n",
       "    </tr>\n",
       "    <tr>\n",
       "      <th>final.output.concentrate_sol</th>\n",
       "      <td>5.507324</td>\n",
       "      <td>5.257781</td>\n",
       "      <td>5.383759</td>\n",
       "      <td>4.858634</td>\n",
       "      <td>4.939416</td>\n",
       "      <td>5.480257</td>\n",
       "      <td>4.5691</td>\n",
       "      <td>4.389813</td>\n",
       "      <td>4.876389</td>\n",
       "      <td>5.282514</td>\n",
       "    </tr>\n",
       "    <tr>\n",
       "      <th>final.output.concentrate_au</th>\n",
       "      <td>42.19202</td>\n",
       "      <td>42.701629</td>\n",
       "      <td>42.657501</td>\n",
       "      <td>42.689819</td>\n",
       "      <td>42.774141</td>\n",
       "      <td>41.633678</td>\n",
       "      <td>41.995316</td>\n",
       "      <td>42.452727</td>\n",
       "      <td>43.404078</td>\n",
       "      <td>43.23522</td>\n",
       "    </tr>\n",
       "    <tr>\n",
       "      <th>...</th>\n",
       "      <td>...</td>\n",
       "      <td>...</td>\n",
       "      <td>...</td>\n",
       "      <td>...</td>\n",
       "      <td>...</td>\n",
       "      <td>...</td>\n",
       "      <td>...</td>\n",
       "      <td>...</td>\n",
       "      <td>...</td>\n",
       "      <td>...</td>\n",
       "    </tr>\n",
       "    <tr>\n",
       "      <th>secondary_cleaner.state.floatbank5_a_level</th>\n",
       "      <td>-498.310211</td>\n",
       "      <td>-500.169983</td>\n",
       "      <td>-500.129135</td>\n",
       "      <td>-499.20164</td>\n",
       "      <td>-501.686727</td>\n",
       "      <td>-496.374715</td>\n",
       "      <td>-497.08318</td>\n",
       "      <td>-499.171928</td>\n",
       "      <td>-501.178133</td>\n",
       "      <td>-502.986357</td>\n",
       "    </tr>\n",
       "    <tr>\n",
       "      <th>secondary_cleaner.state.floatbank5_b_air</th>\n",
       "      <td>8.079666</td>\n",
       "      <td>7.984757</td>\n",
       "      <td>8.013877</td>\n",
       "      <td>7.977324</td>\n",
       "      <td>7.894242</td>\n",
       "      <td>7.965083</td>\n",
       "      <td>8.01089</td>\n",
       "      <td>7.993381</td>\n",
       "      <td>7.881604</td>\n",
       "      <td>7.979219</td>\n",
       "    </tr>\n",
       "    <tr>\n",
       "      <th>secondary_cleaner.state.floatbank5_b_level</th>\n",
       "      <td>-500.470978</td>\n",
       "      <td>-500.582168</td>\n",
       "      <td>-500.517572</td>\n",
       "      <td>-500.255908</td>\n",
       "      <td>-500.356035</td>\n",
       "      <td>-499.364752</td>\n",
       "      <td>-500.002423</td>\n",
       "      <td>-499.794518</td>\n",
       "      <td>-499.729434</td>\n",
       "      <td>-500.146835</td>\n",
       "    </tr>\n",
       "    <tr>\n",
       "      <th>secondary_cleaner.state.floatbank6_a_air</th>\n",
       "      <td>14.151341</td>\n",
       "      <td>13.998353</td>\n",
       "      <td>14.028663</td>\n",
       "      <td>14.005551</td>\n",
       "      <td>13.996647</td>\n",
       "      <td>14.017067</td>\n",
       "      <td>14.029649</td>\n",
       "      <td>13.984498</td>\n",
       "      <td>13.967135</td>\n",
       "      <td>13.981614</td>\n",
       "    </tr>\n",
       "    <tr>\n",
       "      <th>secondary_cleaner.state.floatbank6_a_level</th>\n",
       "      <td>-605.84198</td>\n",
       "      <td>-599.787184</td>\n",
       "      <td>-601.427363</td>\n",
       "      <td>-599.996129</td>\n",
       "      <td>-601.496691</td>\n",
       "      <td>-599.707915</td>\n",
       "      <td>-600.90547</td>\n",
       "      <td>-600.41107</td>\n",
       "      <td>-599.061188</td>\n",
       "      <td>-598.070855</td>\n",
       "    </tr>\n",
       "  </tbody>\n",
       "</table>\n",
       "<p>87 rows × 10 columns</p>\n",
       "</div>"
      ],
      "text/plain": [
       "                                                              0  \\\n",
       "date                                        2016-01-15 00:00:00   \n",
       "final.output.concentrate_ag                            6.055403   \n",
       "final.output.concentrate_pb                            9.889648   \n",
       "final.output.concentrate_sol                           5.507324   \n",
       "final.output.concentrate_au                            42.19202   \n",
       "...                                                         ...   \n",
       "secondary_cleaner.state.floatbank5_a_level          -498.310211   \n",
       "secondary_cleaner.state.floatbank5_b_air               8.079666   \n",
       "secondary_cleaner.state.floatbank5_b_level          -500.470978   \n",
       "secondary_cleaner.state.floatbank6_a_air              14.151341   \n",
       "secondary_cleaner.state.floatbank6_a_level           -605.84198   \n",
       "\n",
       "                                                              1  \\\n",
       "date                                        2016-01-15 01:00:00   \n",
       "final.output.concentrate_ag                            6.029369   \n",
       "final.output.concentrate_pb                            9.968944   \n",
       "final.output.concentrate_sol                           5.257781   \n",
       "final.output.concentrate_au                           42.701629   \n",
       "...                                                         ...   \n",
       "secondary_cleaner.state.floatbank5_a_level          -500.169983   \n",
       "secondary_cleaner.state.floatbank5_b_air               7.984757   \n",
       "secondary_cleaner.state.floatbank5_b_level          -500.582168   \n",
       "secondary_cleaner.state.floatbank6_a_air              13.998353   \n",
       "secondary_cleaner.state.floatbank6_a_level          -599.787184   \n",
       "\n",
       "                                                              2  \\\n",
       "date                                        2016-01-15 02:00:00   \n",
       "final.output.concentrate_ag                            6.055926   \n",
       "final.output.concentrate_pb                           10.213995   \n",
       "final.output.concentrate_sol                           5.383759   \n",
       "final.output.concentrate_au                           42.657501   \n",
       "...                                                         ...   \n",
       "secondary_cleaner.state.floatbank5_a_level          -500.129135   \n",
       "secondary_cleaner.state.floatbank5_b_air               8.013877   \n",
       "secondary_cleaner.state.floatbank5_b_level          -500.517572   \n",
       "secondary_cleaner.state.floatbank6_a_air              14.028663   \n",
       "secondary_cleaner.state.floatbank6_a_level          -601.427363   \n",
       "\n",
       "                                                              3  \\\n",
       "date                                        2016-01-15 03:00:00   \n",
       "final.output.concentrate_ag                            6.047977   \n",
       "final.output.concentrate_pb                            9.977019   \n",
       "final.output.concentrate_sol                           4.858634   \n",
       "final.output.concentrate_au                           42.689819   \n",
       "...                                                         ...   \n",
       "secondary_cleaner.state.floatbank5_a_level           -499.20164   \n",
       "secondary_cleaner.state.floatbank5_b_air               7.977324   \n",
       "secondary_cleaner.state.floatbank5_b_level          -500.255908   \n",
       "secondary_cleaner.state.floatbank6_a_air              14.005551   \n",
       "secondary_cleaner.state.floatbank6_a_level          -599.996129   \n",
       "\n",
       "                                                              4  \\\n",
       "date                                        2016-01-15 04:00:00   \n",
       "final.output.concentrate_ag                            6.148599   \n",
       "final.output.concentrate_pb                           10.142511   \n",
       "final.output.concentrate_sol                           4.939416   \n",
       "final.output.concentrate_au                           42.774141   \n",
       "...                                                         ...   \n",
       "secondary_cleaner.state.floatbank5_a_level          -501.686727   \n",
       "secondary_cleaner.state.floatbank5_b_air               7.894242   \n",
       "secondary_cleaner.state.floatbank5_b_level          -500.356035   \n",
       "secondary_cleaner.state.floatbank6_a_air              13.996647   \n",
       "secondary_cleaner.state.floatbank6_a_level          -601.496691   \n",
       "\n",
       "                                                              5  \\\n",
       "date                                        2016-01-15 05:00:00   \n",
       "final.output.concentrate_ag                            6.482968   \n",
       "final.output.concentrate_pb                           10.049416   \n",
       "final.output.concentrate_sol                           5.480257   \n",
       "final.output.concentrate_au                           41.633678   \n",
       "...                                                         ...   \n",
       "secondary_cleaner.state.floatbank5_a_level          -496.374715   \n",
       "secondary_cleaner.state.floatbank5_b_air               7.965083   \n",
       "secondary_cleaner.state.floatbank5_b_level          -499.364752   \n",
       "secondary_cleaner.state.floatbank6_a_air              14.017067   \n",
       "secondary_cleaner.state.floatbank6_a_level          -599.707915   \n",
       "\n",
       "                                                              6  \\\n",
       "date                                        2016-01-15 06:00:00   \n",
       "final.output.concentrate_ag                            6.533849   \n",
       "final.output.concentrate_pb                           10.058141   \n",
       "final.output.concentrate_sol                             4.5691   \n",
       "final.output.concentrate_au                           41.995316   \n",
       "...                                                         ...   \n",
       "secondary_cleaner.state.floatbank5_a_level           -497.08318   \n",
       "secondary_cleaner.state.floatbank5_b_air                8.01089   \n",
       "secondary_cleaner.state.floatbank5_b_level          -500.002423   \n",
       "secondary_cleaner.state.floatbank6_a_air              14.029649   \n",
       "secondary_cleaner.state.floatbank6_a_level           -600.90547   \n",
       "\n",
       "                                                              7  \\\n",
       "date                                        2016-01-15 07:00:00   \n",
       "final.output.concentrate_ag                            6.130823   \n",
       "final.output.concentrate_pb                            9.935481   \n",
       "final.output.concentrate_sol                           4.389813   \n",
       "final.output.concentrate_au                           42.452727   \n",
       "...                                                         ...   \n",
       "secondary_cleaner.state.floatbank5_a_level          -499.171928   \n",
       "secondary_cleaner.state.floatbank5_b_air               7.993381   \n",
       "secondary_cleaner.state.floatbank5_b_level          -499.794518   \n",
       "secondary_cleaner.state.floatbank6_a_air              13.984498   \n",
       "secondary_cleaner.state.floatbank6_a_level           -600.41107   \n",
       "\n",
       "                                                              8  \\\n",
       "date                                        2016-01-15 08:00:00   \n",
       "final.output.concentrate_ag                             5.83414   \n",
       "final.output.concentrate_pb                           10.071156   \n",
       "final.output.concentrate_sol                           4.876389   \n",
       "final.output.concentrate_au                           43.404078   \n",
       "...                                                         ...   \n",
       "secondary_cleaner.state.floatbank5_a_level          -501.178133   \n",
       "secondary_cleaner.state.floatbank5_b_air               7.881604   \n",
       "secondary_cleaner.state.floatbank5_b_level          -499.729434   \n",
       "secondary_cleaner.state.floatbank6_a_air              13.967135   \n",
       "secondary_cleaner.state.floatbank6_a_level          -599.061188   \n",
       "\n",
       "                                                              9  \n",
       "date                                        2016-01-15 09:00:00  \n",
       "final.output.concentrate_ag                            5.687063  \n",
       "final.output.concentrate_pb                            9.980404  \n",
       "final.output.concentrate_sol                           5.282514  \n",
       "final.output.concentrate_au                            43.23522  \n",
       "...                                                         ...  \n",
       "secondary_cleaner.state.floatbank5_a_level          -502.986357  \n",
       "secondary_cleaner.state.floatbank5_b_air               7.979219  \n",
       "secondary_cleaner.state.floatbank5_b_level          -500.146835  \n",
       "secondary_cleaner.state.floatbank6_a_air              13.981614  \n",
       "secondary_cleaner.state.floatbank6_a_level          -598.070855  \n",
       "\n",
       "[87 rows x 10 columns]"
      ]
     },
     "execution_count": 9,
     "metadata": {},
     "output_type": "execute_result"
    }
   ],
   "source": [
    "df_full.head(10).T# посмотрим 10 первых строк исходных данных"
   ]
  },
  {
   "cell_type": "markdown",
   "metadata": {},
   "source": [
    "**Вывод:**\n",
    "\n",
    "Во всех датасетах есть пропуски. Тестовая выборка содержит меньшее количество столбцов (52 признака), чем исходные данные и обучающая выборка (по 87 признаков). Далее изучим это подробнее и определим что с этим делать.Все признаки количественные.\n",
    "Исходные данные (19439 объектов) разделены на обучающую (14149 объектов) и тестовую (5290 объектов) выборки в соотношении 73% к 27% . Что составляет ~ 3:1.\n"
   ]
  },
  {
   "cell_type": "markdown",
   "metadata": {},
   "source": [
    "### Расчёт эффективности"
   ]
  },
  {
   "attachments": {
    "Recovery_1576238822-2.jpg": {
     "image/jpeg": "[encoded data removed]"
    }
   },
   "cell_type": "markdown",
   "metadata": {},
   "source": [
    "Проверим, что эффективность обогащения рассчитана правильно. Вычислим её на обучающей выборке для признака rougher.output.recovery. Найдем MAE между нашими расчётами и значением признака.\n",
    "\n",
    "Эффективность обогащения рассчитывается по формуле:\n",
    "![Recovery_1576238822-2.jpg](attachment:Recovery_1576238822-2.jpg)\n",
    "где:\n",
    "\n",
    "C — доля золота в концентрате после флотации/очистки;\n",
    "\n",
    "F — доля золота в сырье/концентрате до флотации/очистки;\n",
    "\n",
    "T — доля золота в отвальных хвостах после флотации/очистки."
   ]
  },
  {
   "cell_type": "code",
   "execution_count": 10,
   "metadata": {},
   "outputs": [],
   "source": [
    "#создадим функцию для расчета эффективности\n",
    "def recovary(row):\n",
    "    c = row['rougher.output.concentrate_au']# количество золота в концентрате после флотации/очистки\n",
    "    f = row['rougher.input.feed_au']# количество золота в сырье/концентрате до флотации/очистки\n",
    "    t = row['rougher.output.tail_au']# колчество в отвальных хвостах после флотации/очистки\n",
    "    a = c * (f - t)\n",
    "    b = f * (c - t)\n",
    "    return a / b * 100"
   ]
  },
  {
   "cell_type": "markdown",
   "metadata": {},
   "source": [
    "Чтобы сделать расчет, удалим все строки с пропущенными значениями."
   ]
  },
  {
   "cell_type": "code",
   "execution_count": 11,
   "metadata": {},
   "outputs": [],
   "source": [
    "#создадим копию обучающей выборки удалив в нем пропуски\n",
    "df_train_drop = df_train.dropna().copy()\n",
    "# создадим новый столбец с расчетами MAE (средняя абсолютная ошибка) по каждой строке\n",
    "df_train_drop['new'] = df_train_drop.apply(lambda x: recovary(x), axis =  1)\n"
   ]
  },
  {
   "cell_type": "code",
   "execution_count": 12,
   "metadata": {},
   "outputs": [
    {
     "data": {
      "text/plain": [
       "(11017, 88)"
      ]
     },
     "execution_count": 12,
     "metadata": {},
     "output_type": "execute_result"
    }
   ],
   "source": [
    "df_train_drop.shape"
   ]
  },
  {
   "cell_type": "code",
   "execution_count": 13,
   "metadata": {},
   "outputs": [
    {
     "data": {
      "text/plain": [
       "9.82970122149377e-15"
      ]
     },
     "execution_count": 13,
     "metadata": {},
     "output_type": "execute_result"
    }
   ],
   "source": [
    "mae = mean_absolute_error(df_train_drop['new'], df_train_drop['rougher.output.recovery'])\n",
    "mae"
   ]
  },
  {
   "cell_type": "markdown",
   "metadata": {},
   "source": [
    "MAE чрезвычайно малое число.\n",
    "Ошибка минимальна, эффективность обогащения рассчитана правильно."
   ]
  },
  {
   "cell_type": "markdown",
   "metadata": {},
   "source": [
    "### Анализ признаков выборок"
   ]
  },
  {
   "cell_type": "markdown",
   "metadata": {},
   "source": [
    "Проанализируем признаки, недоступные в тестовой выборке. Что это за параметры? К какому типу относятся?"
   ]
  },
  {
   "cell_type": "code",
   "execution_count": 15,
   "metadata": {},
   "outputs": [
    {
     "name": "stdout",
     "output_type": "stream",
     "text": [
      "(14149, 87)\n",
      "(5290, 53)\n",
      "(19439, 87)\n"
     ]
    }
   ],
   "source": [
    "# cравним выборки.\n",
    "print(df_train.shape)\n",
    "print(df_test.shape)\n",
    "print(df_full.shape)"
   ]
  },
  {
   "cell_type": "markdown",
   "metadata": {},
   "source": [
    "В обучающей выборке больше столбцов с признаками, чем в тестовой, изучим недостающие признаки."
   ]
  },
  {
   "cell_type": "code",
   "execution_count": 16,
   "metadata": {},
   "outputs": [
    {
     "name": "stdout",
     "output_type": "stream",
     "text": [
      "В тестовой выборке отсутствуют 34 признака:\n",
      "\n",
      "final.output.concentrate_ag\n",
      "final.output.concentrate_au\n",
      "final.output.concentrate_pb\n",
      "final.output.concentrate_sol\n",
      "final.output.recovery\n",
      "final.output.tail_ag\n",
      "final.output.tail_au\n",
      "final.output.tail_pb\n",
      "final.output.tail_sol\n",
      "primary_cleaner.output.concentrate_ag\n",
      "primary_cleaner.output.concentrate_au\n",
      "primary_cleaner.output.concentrate_pb\n",
      "primary_cleaner.output.concentrate_sol\n",
      "primary_cleaner.output.tail_ag\n",
      "primary_cleaner.output.tail_au\n",
      "primary_cleaner.output.tail_pb\n",
      "primary_cleaner.output.tail_sol\n",
      "rougher.calculation.au_pb_ratio\n",
      "rougher.calculation.floatbank10_sulfate_to_au_feed\n",
      "rougher.calculation.floatbank11_sulfate_to_au_feed\n",
      "rougher.calculation.sulfate_to_au_concentrate\n",
      "rougher.output.concentrate_ag\n",
      "rougher.output.concentrate_au\n",
      "rougher.output.concentrate_pb\n",
      "rougher.output.concentrate_sol\n",
      "rougher.output.recovery\n",
      "rougher.output.tail_ag\n",
      "rougher.output.tail_au\n",
      "rougher.output.tail_pb\n",
      "rougher.output.tail_sol\n",
      "secondary_cleaner.output.tail_ag\n",
      "secondary_cleaner.output.tail_au\n",
      "secondary_cleaner.output.tail_pb\n",
      "secondary_cleaner.output.tail_sol\n"
     ]
    }
   ],
   "source": [
    "# создадим список с названиями признаков, отсутствующих в тестовой выборке\n",
    "left_features = sorted(list(set(df_train.columns) - set(df_test.columns)))\n",
    "\n",
    "print(f'В тестовой выборке отсутствуют {len(left_features)} признака:\\n')\n",
    "for feature in sorted(left_features):\n",
    "    print(feature)"
   ]
  },
  {
   "cell_type": "markdown",
   "metadata": {},
   "source": [
    "**Вывод:**\n",
    "\n",
    "- В тестовой выборке отсутствуют 34 признака, обнаруженные в обучающей и исходной выборках. Согласно пояснению к задаче, данные индексируются на основе атрибута даты, указывающего, когда информация была получена.\n",
    "\n",
    "Эти признаки относятся к типу параметра \"output - Параметры продукта\", calculation - \"Расчётные характеристики\":\n",
    "\n",
    "Этап \"final - Финальные характеристики\"\n",
    "\n",
    "Тип параметра output - параметры продукта:\n",
    "\n",
    "'final.output.concentrate_ag', 'final.output.concentrate_pb', 'final.output.concentrate_sol', 'final.output.concentrate_au', 'final.output.recovery', 'final.output.tail_ag', 'final.output.tail_pb', 'final.output.tail_sol', 'final.output.tail_au' Этап primary_cleaner - первичная очистка:\n",
    "\n",
    "Тип параметра output - параметры продукта:\n",
    "\n",
    "'primary_cleaner.output.concentrate_ag', 'primary_cleaner.output.concentrate_pb', 'primary_cleaner.output.concentrate_sol', 'primary_cleaner.output.concentrate_au', 'primary_cleaner.output.tail_ag', 'primary_cleaner.output.tail_pb', 'primary_cleaner.output.tail_sol', 'primary_cleaner.output.tail_au',\n",
    "\n",
    "Этап rougher - флотация:\n",
    "\n",
    "Тип параметра calculation - расчётные характеристики: 'rougher.calculation.sulfate_to_au_concentrate', 'rougher.calculation.floatbank10_sulfate_to_au_feed', 'rougher.calculation.floatbank11_sulfate_to_au_feed', 'rougher.calculation.au_pb_ratio'\n",
    "\n",
    "Тип параметра output - параметры продукта:\n",
    "\n",
    "'rougher.output.concentrate_ag', 'rougher.output.concentrate_pb', 'rougher.output.concentrate_sol', 'rougher.output.concentrate_au',\n",
    "\n",
    "- Некоторые параметры недоступны, потому что замеряются и/или рассчитываются значительно позже, их использовать для прогноза нельзя так как это утечка данных. Из-за этого в тестовой выборке отсутствуют некоторые признаки, которые могут быть в обучающей. Также в тестовом наборе нет целевых признаков. \n",
    "\n",
    "- Исходный датасет содержит обучающую и тестовую выборки со всеми признаками.\n",
    "\n"
   ]
  },
  {
   "cell_type": "markdown",
   "metadata": {},
   "source": [
    "### Проведем предобработку данных."
   ]
  },
  {
   "cell_type": "code",
   "execution_count": 17,
   "metadata": {
    "scrolled": true
   },
   "outputs": [
    {
     "name": "stdout",
     "output_type": "stream",
     "text": [
      "Колличество пропусков в исходных данных: 4481\n",
      "Колличество пропусков в обучающей выборке: 4100\n",
      "Колличество пропусков в тестовой выборке: 90\n"
     ]
    }
   ],
   "source": [
    "# подсчитаем количество пропусков во всех выборках\n",
    "print('Колличество пропусков в исходных данных:', df_full.isnull().sum().sum())\n",
    "print('Колличество пропусков в обучающей выборке:', df_train.isnull().sum().sum())\n",
    "print('Колличество пропусков в тестовой выборке:', df_test.isnull().sum().sum())"
   ]
  },
  {
   "cell_type": "code",
   "execution_count": 18,
   "metadata": {},
   "outputs": [
    {
     "name": "stdout",
     "output_type": "stream",
     "text": [
      "Количество дубликатов в исходных данных: 0\n",
      "Количество дубликатов в обучающей выборке: 0\n",
      "Количество дубликатов в тестовой выборке: 0\n"
     ]
    }
   ],
   "source": [
    "# проверим на наличие дубликатов наши данные\n",
    "print('Количество дубликатов в исходных данных:', df_full.duplicated().sum())\n",
    "print('Количество дубликатов в обучающей выборке:', df_train.duplicated().sum())\n",
    "print('Количество дубликатов в тестовой выборке:', df_test.duplicated().sum())"
   ]
  },
  {
   "cell_type": "markdown",
   "metadata": {},
   "source": [
    "**Подготовка тренировочной выборки**\n",
    "\n",
    "Элементы выборок упорядочены по датам, а схожие параметры зачастую близки по времени. Таким образом, мы можем значительно упростить процесс замены пропущенных значений, используя метод fillna с аргументом ffill. Этот подход предполагает замену отсутствующих значений значениями ближайших соседей."
   ]
  },
  {
   "cell_type": "code",
   "execution_count": 19,
   "metadata": {},
   "outputs": [],
   "source": [
    "train = df_train.fillna(method='ffill') # заполняем пропуски из предыдущей строки\n",
    "features_train = train.drop(train.columns.drop(df_test.columns), axis =1) # удаляем столбцы, отсутствующие в тестовой выборке\n",
    "features_train = features_train.set_index('date') # заменяем индексы датой"
   ]
  },
  {
   "cell_type": "code",
   "execution_count": 20,
   "metadata": {},
   "outputs": [],
   "source": [
    "target_train_final = train['final.output.recovery'] # целевой признак тренировочной выборки \n",
    "target_train_rougher = train['rougher.output.recovery'] # целевой признак тренировочной выборки"
   ]
  },
  {
   "cell_type": "code",
   "execution_count": 21,
   "metadata": {},
   "outputs": [
    {
     "name": "stdout",
     "output_type": "stream",
     "text": [
      "(14149,)\n",
      "(14149,)\n",
      "(14149, 52)\n"
     ]
    }
   ],
   "source": [
    "print(target_train_rougher.shape)\n",
    "print(target_train_final.shape)\n",
    "print(features_train.shape)"
   ]
  },
  {
   "cell_type": "code",
   "execution_count": 22,
   "metadata": {},
   "outputs": [
    {
     "name": "stdout",
     "output_type": "stream",
     "text": [
      "Колличество пропусков в обучающей выборке: 0\n"
     ]
    }
   ],
   "source": [
    "print('Колличество пропусков в обучающей выборке:', train.isnull().sum().sum())"
   ]
  },
  {
   "cell_type": "markdown",
   "metadata": {},
   "source": [
    "**Подготовка тестовой выборки**"
   ]
  },
  {
   "cell_type": "code",
   "execution_count": 23,
   "metadata": {},
   "outputs": [],
   "source": [
    "# заполняем пропуски из предыдущей строки\n",
    "test = df_test.fillna(method='ffill')"
   ]
  },
  {
   "cell_type": "code",
   "execution_count": 24,
   "metadata": {},
   "outputs": [],
   "source": [
    "# добавим целевой признак в test из full\n",
    "test_merged = test.merge(df_full[['date','final.output.recovery','rougher.output.recovery']], on = 'date') "
   ]
  },
  {
   "cell_type": "code",
   "execution_count": 25,
   "metadata": {},
   "outputs": [],
   "source": [
    "# заменяем индексы датой\n",
    "test_merged = test_merged.set_index('date') \n",
    "# удаляем целевые признаки\n",
    "features_test = test_merged.drop(['final.output.recovery','rougher.output.recovery'],axis =1)  \n"
   ]
  },
  {
   "cell_type": "code",
   "execution_count": 26,
   "metadata": {},
   "outputs": [],
   "source": [
    "target_test_final = test_merged['final.output.recovery']  # целевой признак тестовой выборки\n",
    "target_test_rougher = test_merged['rougher.output.recovery']  # целевой признак тестовой выборки"
   ]
  },
  {
   "cell_type": "code",
   "execution_count": 27,
   "metadata": {},
   "outputs": [
    {
     "name": "stdout",
     "output_type": "stream",
     "text": [
      "(5290,)\n",
      "(5290,)\n",
      "(5290, 52)\n"
     ]
    }
   ],
   "source": [
    "# проверим размеры тестовой выборки\n",
    "print(target_test_rougher.shape)\n",
    "print(target_test_final.shape)\n",
    "print(features_test.shape)"
   ]
  },
  {
   "cell_type": "code",
   "execution_count": 28,
   "metadata": {},
   "outputs": [],
   "source": [
    "full = df_full.fillna(method='ffill') # заполним пропуски соседними значениями"
   ]
  },
  {
   "cell_type": "markdown",
   "metadata": {},
   "source": [
    "**Выводы:**\n",
    "\n",
    "-Эффективность обогащения рассчитана правильно.\n",
    "\n",
    "-Пропуски заполнены соседними значениям.\n",
    "\n",
    "-Из тренировочной и тестовой выборок удалены столбцы, которые могли способствовать некорректному обучению модели и ошибочным предсказаниям.\n",
    "\n",
    "-Данные готовы для дальнейшего анализа и прогноза."
   ]
  },
  {
   "cell_type": "markdown",
   "metadata": {},
   "source": [
    "## Анализ данных"
   ]
  },
  {
   "cell_type": "markdown",
   "metadata": {},
   "source": [
    "**Как меняется концентрация металлов (Au, Ag, Pb) на различных этапах очистки**."
   ]
  },
  {
   "cell_type": "markdown",
   "metadata": {},
   "source": [
    "Посмотрим, как меняется концентрация металлов (Au, Ag, Pb) на различных этапах очистки.\n",
    "Проанализируем значения концентрации металлов на разных этапах обработки. Поскольку в тестовой базе часть данных отсутствует сделаем это на основе учебной выборки."
   ]
  },
  {
   "cell_type": "code",
   "execution_count": 29,
   "metadata": {},
   "outputs": [
    {
     "data": {
      "text/plain": [
       "(<bound method IndexOpsMixin.tolist of Index(['final.output.concentrate_au', 'final.output.tail_au',\n",
       "        'primary_cleaner.output.concentrate_au',\n",
       "        'primary_cleaner.output.tail_au',\n",
       "        'rougher.calculation.sulfate_to_au_concentrate',\n",
       "        'rougher.calculation.floatbank10_sulfate_to_au_feed',\n",
       "        'rougher.calculation.floatbank11_sulfate_to_au_feed',\n",
       "        'rougher.calculation.au_pb_ratio', 'rougher.input.feed_au',\n",
       "        'rougher.output.concentrate_au', 'rougher.output.tail_au',\n",
       "        'secondary_cleaner.output.tail_au'],\n",
       "       dtype='object')>,\n",
       " <bound method IndexOpsMixin.tolist of Index(['final.output.concentrate_ag', 'final.output.tail_ag',\n",
       "        'primary_cleaner.output.concentrate_ag',\n",
       "        'primary_cleaner.output.tail_ag', 'rougher.input.feed_ag',\n",
       "        'rougher.output.concentrate_ag', 'rougher.output.tail_ag',\n",
       "        'secondary_cleaner.output.tail_ag'],\n",
       "       dtype='object')>,\n",
       " <bound method IndexOpsMixin.tolist of Index(['final.output.concentrate_pb', 'final.output.tail_pb',\n",
       "        'primary_cleaner.output.concentrate_pb',\n",
       "        'primary_cleaner.output.tail_pb', 'rougher.calculation.au_pb_ratio',\n",
       "        'rougher.input.feed_pb', 'rougher.output.concentrate_pb',\n",
       "        'rougher.output.tail_pb', 'secondary_cleaner.output.tail_pb'],\n",
       "       dtype='object')>)"
      ]
     },
     "execution_count": 29,
     "metadata": {},
     "output_type": "execute_result"
    }
   ],
   "source": [
    "#необходимо проанализировать изменения концентрации Au, Ag и Pb. \n",
    "#чтобы не выбирать вручную нужные нам концентрации, отберем их по названию металла в столбцах исходных данных.\n",
    "# отберем столбцы\n",
    "df_full.columns[df_full.columns.str.contains('au')].to_list,\\\n",
    "df_full.columns[df_full.columns.str.contains('ag')].to_list,\\\n",
    "df_full.columns[df_full.columns.str.contains('pb')].to_list"
   ]
  },
  {
   "cell_type": "markdown",
   "metadata": {},
   "source": [
    "В качестве исходной концентрации будем рассматривать столбцы:\n",
    "\n",
    "* rougher.input.feed_au;\n",
    "* rougher.input.feed_ag;\n",
    "* rougher.input.feed_pb.\n",
    "\n",
    "После этапа флотации будем рассматривать столбцы:\n",
    "\n",
    "* rougher.output.concentrate_au;\n",
    "* rougher.output.concentrate_ag;\n",
    "* rougher.output.concentrate_pb.\n",
    "\n",
    "После этапа первой очистки будем рассматривать столбцы:\n",
    "\n",
    "* primary_cleaner.output.concentrate_au;\n",
    "* primary_cleaner.output.concentrate_ag;\n",
    "* primary_cleaner.output.concentrate_pb.\n",
    "\n",
    "После этапа второй очистки будем рассматривать столбцы:\n",
    "\n",
    "* final.output.concentrate_au;\n",
    "* final.output.concentrate_ag;\n",
    "* final.output.concentrate_pb."
   ]
  },
  {
   "cell_type": "code",
   "execution_count": 30,
   "metadata": {
    "scrolled": true
   },
   "outputs": [
    {
     "name": "stdout",
     "output_type": "stream",
     "text": [
      "Концентрация золота (Au) на разных этапах\n",
      "rougher.input.feed_au                     7.866577\n",
      "rougher.output.concentrate_au            19.439958\n",
      "primary_cleaner.output.concentrate_au    32.386836\n",
      "final.output.concentrate_au              44.003792\n",
      "dtype: float64\n",
      "\n",
      "Концентрация серебра (Ag) на разных этапах\n",
      "rougher.input.feed_ag                     8.579195\n",
      "rougher.output.concentrate_ag            11.775812\n",
      "primary_cleaner.output.concentrate_ag     8.200916\n",
      "final.output.concentrate_ag               5.141921\n",
      "dtype: float64\n",
      "\n",
      "Концентрация свинца (Pb) на разных этапах\n",
      "rougher.input.feed_pb                     3.505465\n",
      "rougher.output.concentrate_pb             7.664555\n",
      "primary_cleaner.output.concentrate_pb     9.568544\n",
      "final.output.concentrate_pb              10.132848\n",
      "dtype: float64\n"
     ]
    }
   ],
   "source": [
    "print(\"Концентрация золота (Au) на разных этапах\")\n",
    "print(\n",
    "    train[['rougher.input.feed_au',\n",
    "           'rougher.output.concentrate_au',\n",
    "          'primary_cleaner.output.concentrate_au',\n",
    "          'final.output.concentrate_au' \n",
    "          ]].mean()\n",
    ")\n",
    "print()\n",
    "print(\"Концентрация серебра (Ag) на разных этапах\")\n",
    "print(\n",
    "    train[['rougher.input.feed_ag',\n",
    "          'rougher.output.concentrate_ag',\n",
    "          'primary_cleaner.output.concentrate_ag',\n",
    "           'final.output.concentrate_ag']].mean()\n",
    ")\n",
    "print()\n",
    "print(\"Концентрация свинца (Pb) на разных этапах\")\n",
    "print(\n",
    "    train[['rougher.input.feed_pb',\n",
    "        'rougher.output.concentrate_pb',          \n",
    "        'primary_cleaner.output.concentrate_pb',\n",
    "        'final.output.concentrate_pb']].mean()\n",
    ")\n"
   ]
  },
  {
   "cell_type": "code",
   "execution_count": 31,
   "metadata": {},
   "outputs": [
    {
     "data": {
      "image/png": "[encoded data removed]",
      "text/plain": [
       "<Figure size 720x360 with 1 Axes>"
      ]
     },
     "metadata": {
      "needs_background": "light"
     },
     "output_type": "display_data"
    }
   ],
   "source": [
    "train[['rougher.input.feed_au',\n",
    "           'rougher.output.concentrate_au',\n",
    "          'primary_cleaner.output.concentrate_au',\n",
    "          'final.output.concentrate_au'  ]].plot(kind = 'hist', figsize = (10, 5), bins=60, alpha = 0.4)\n",
    "plt.suptitle(\"Гистограммы концентрации золота (Au) на разных этапах\")\n",
    "plt.xlabel(\"Концентрация золота\")\n",
    "plt.ylabel(\"Количество наблюдений\")\n",
    "plt.show()"
   ]
  },
  {
   "cell_type": "code",
   "execution_count": 32,
   "metadata": {},
   "outputs": [
    {
     "data": {
      "image/png": "[encoded data removed]",
      "text/plain": [
       "<Figure size 720x360 with 1 Axes>"
      ]
     },
     "metadata": {
      "needs_background": "light"
     },
     "output_type": "display_data"
    }
   ],
   "source": [
    "train[['rougher.input.feed_ag',\n",
    "          'rougher.output.concentrate_ag',\n",
    "          'primary_cleaner.output.concentrate_ag',\n",
    "           'final.output.concentrate_ag']].plot(kind = 'hist', figsize = (10, 5), bins=60, alpha = 0.7)\n",
    "plt.suptitle(\"Гистограммы концентрации серебра (Ag) на разных этапах\")\n",
    "plt.xlabel(\"Концентрация серебра\")\n",
    "plt.ylabel(\"Количество наблюдений\")\n",
    "plt.show()"
   ]
  },
  {
   "cell_type": "code",
   "execution_count": 33,
   "metadata": {},
   "outputs": [
    {
     "data": {
      "image/png": "[encoded data removed]",
      "text/plain": [
       "<Figure size 720x360 with 1 Axes>"
      ]
     },
     "metadata": {
      "needs_background": "light"
     },
     "output_type": "display_data"
    }
   ],
   "source": [
    "train[['rougher.input.feed_pb',\n",
    "        'rougher.output.concentrate_pb',          \n",
    "        'primary_cleaner.output.concentrate_pb',\n",
    "        'final.output.concentrate_pb']].plot(kind = 'hist', figsize = (10, 5), bins=60, alpha = 0.9)\n",
    "plt.suptitle(\"Гистограммы концентрации свинца (Pb) на разных этапах\")\n",
    "plt.xlabel(\"Концентрация свинца\")\n",
    "plt.ylabel(\"Количество наблюдений\")\n",
    "plt.show()"
   ]
  },
  {
   "cell_type": "markdown",
   "metadata": {},
   "source": [
    "**Вывод:**\n",
    "\n",
    "Концентрация металлов в процессе очистки изменяется:\n",
    "\n",
    " - Концентрация золота повышается\n",
    " - Концентрация серебра после флотации растет, а затем снижается\n",
    " - Концентрация свинца повышается\n",
    " \n",
    "Так же заметно отделение золота от других металлов.\n",
    "\n",
    "На каждом этапе очистки количество золота, как и ожидалось, увеличивается. Доля серебра снижается, а свинец в концентрате остается примерно постоянным. Однако, поскольку в конечном концентрате существенно увеличивается доля золота, вполне вероятно, что фактическое количество свинца уменьшится, причем его доля окажется больше за счет уменьшения других веществ. Также на графиках видны аномалии - околонулевые значения. В руде не может быть нулевых значений концентрации металла на любой стадии очистки, так как это руда. Обработаем их позже."
   ]
  },
  {
   "cell_type": "markdown",
   "metadata": {},
   "source": [
    "**Сравним распределения размеров гранул сырья на обучающей и тестовой выборках.**\n",
    "\n",
    "Если распределения сильно отличаются друг от друга, оценка модели будет неправильной."
   ]
  },
  {
   "cell_type": "code",
   "execution_count": 34,
   "metadata": {},
   "outputs": [
    {
     "data": {
      "image/png": "[encoded data removed]",
      "text/plain": [
       "<Figure size 720x360 with 1 Axes>"
      ]
     },
     "metadata": {
      "needs_background": "light"
     },
     "output_type": "display_data"
    }
   ],
   "source": [
    "#построим графики\n",
    "train['rougher.input.feed_size'].plot.kde(legend = True, label = 'Обучающая выборка', figsize = (10, 5))\n",
    "test['rougher.input.feed_size'].plot.kde(legend = True, label = 'Тестовая выборка', figsize = (10, 5))\n",
    "plt.suptitle(\"График распределения размеров гранул сырья на обучающей и тестовой выборках\")\n",
    "plt.xlabel(\"Размер гранул\")\n",
    "plt.ylabel(\"Количество наблюдений\")\n",
    "plt.show()"
   ]
  },
  {
   "cell_type": "markdown",
   "metadata": {},
   "source": [
    "Распределение размера гранул сырья на тестовой и обучающей выборках практически идентичны. Это видно по графику.Оценки модели будут верны."
   ]
  },
  {
   "cell_type": "markdown",
   "metadata": {},
   "source": [
    "**Исследуем суммарную концентрацию всех веществ на разных стадиях: в сырье, в черновом и финальном концентратах.**"
   ]
  },
  {
   "cell_type": "code",
   "execution_count": 35,
   "metadata": {},
   "outputs": [],
   "source": [
    "# суммируем концентрацию всех веществ на разных стадиях\n",
    "rougher_input_feed = train[['rougher.input.feed_ag','rougher.input.feed_pb',\n",
    "                           'rougher.input.feed_sol','rougher.input.feed_au']].T.sum()\n",
    "rougher_output_concentrate = train[['rougher.output.concentrate_ag', 'rougher.output.concentrate_pb',\n",
    "                                   'rougher.output.concentrate_sol', 'rougher.output.concentrate_au']].T.sum()\n",
    "final_output_concentrate = train[['final.output.concentrate_ag','final.output.concentrate_pb',\n",
    "                                 'final.output.concentrate_sol','final.output.concentrate_au']].T.sum()"
   ]
  },
  {
   "cell_type": "code",
   "execution_count": 36,
   "metadata": {},
   "outputs": [
    {
     "data": {
      "image/png": "[encoded data removed]",
      "text/plain": [
       "<Figure size 720x360 with 1 Axes>"
      ]
     },
     "metadata": {
      "needs_background": "light"
     },
     "output_type": "display_data"
    }
   ],
   "source": [
    "# построим гистограмму\n",
    "plt.figure(figsize=(10, 5))\n",
    "plt.title('Гистограмма суммарной концентрации всех веществ', fontsize = 10)\n",
    "sns.histplot(rougher_input_feed, color='blue')\n",
    "sns.histplot(rougher_output_concentrate, color='orange')\n",
    "sns.histplot(final_output_concentrate, color = 'green')\n",
    "plt.legend(['сырье', 'черновой концентрат', 'финальный концентрат'], fontsize = 12)\n",
    "plt.grid()\n",
    "plt.show()"
   ]
  },
  {
   "cell_type": "markdown",
   "metadata": {},
   "source": [
    "Нулевая концентрация веществ на протяжении всего процесса очистки кажется аномальной, поскольку в ходе технологических процессов это маловероятно. Многие значения около 0 существуют как в начальном концентрате, а также в конечном. Необходимо исключить эти значения, чтобы повысить точность прогнозирования модели. Эту корректировку следует применять ко всем выбокам, после чего следует сделать корректировку признаков."
   ]
  },
  {
   "cell_type": "code",
   "execution_count": 37,
   "metadata": {},
   "outputs": [],
   "source": [
    "# удалим выбросы\n",
    "df_full.query('`rougher.input.feed_ag` > 1 & `rougher.input.feed_pb` > 1 & \\\n",
    "            `rougher.input.feed_sol` > 1 & `rougher.input.feed_au` > 1 & \\\n",
    "            `rougher.output.concentrate_ag` > 1 & `rougher.output.concentrate_pb` > 1 & \\\n",
    "            `rougher.output.concentrate_sol` > 1 & `rougher.output.concentrate_au` > 1 & \\\n",
    "            `final.output.concentrate_ag` > 1 & `final.output.concentrate_pb` > 1 & \\\n",
    "            `final.output.concentrate_sol` > 1 & `final.output.concentrate_au` > 1', inplace = True)\n",
    "# удалим выбросы\n",
    "train.query('`rougher.input.feed_ag` > 1 & `rougher.input.feed_pb` > 1 & \\\n",
    "            `rougher.input.feed_sol` > 1 & `rougher.input.feed_au` > 1 & \\\n",
    "            `rougher.output.concentrate_ag` > 1 & `rougher.output.concentrate_pb` > 1 & \\\n",
    "            `rougher.output.concentrate_sol` > 1 & `rougher.output.concentrate_au` > 1 & \\\n",
    "            `final.output.concentrate_ag` > 1 & `final.output.concentrate_pb` > 1 & \\\n",
    "            `final.output.concentrate_sol` > 1 & `final.output.concentrate_au` > 1', inplace = True)\n",
    "# удалим выбросы\n",
    "test.query('`rougher.input.feed_ag` > 1 & `rougher.input.feed_pb` > 1 & \\\n",
    "            `rougher.input.feed_sol` > 1 & `rougher.input.feed_au` > 1', inplace = True)"
   ]
  },
  {
   "cell_type": "code",
   "execution_count": 38,
   "metadata": {},
   "outputs": [],
   "source": [
    "#снова определим переменные для проверки\n",
    "rougher_input_feed = train[['rougher.input.feed_ag','rougher.input.feed_pb',\n",
    "                           'rougher.input.feed_sol','rougher.input.feed_au']].T.sum()\n",
    "rougher_output_concentrate = train[['rougher.output.concentrate_ag', 'rougher.output.concentrate_pb',\n",
    "                                   'rougher.output.concentrate_sol', 'rougher.output.concentrate_au']].T.sum()\n",
    "final_output_concentrate = train[['final.output.concentrate_ag','final.output.concentrate_pb',\n",
    "                                 'final.output.concentrate_sol','final.output.concentrate_au']].T.sum()"
   ]
  },
  {
   "cell_type": "code",
   "execution_count": 39,
   "metadata": {},
   "outputs": [
    {
     "data": {
      "image/png": "[encoded data removed]",
      "text/plain": [
       "<Figure size 720x360 with 1 Axes>"
      ]
     },
     "metadata": {
      "needs_background": "light"
     },
     "output_type": "display_data"
    }
   ],
   "source": [
    "#построим гистограмму\n",
    "plt.figure(figsize=(10,5))\n",
    "plt.title('Гистограмма суммарной концентрации всех веществ', fontsize = 10)\n",
    "sns.histplot(rougher_input_feed, color='blue')\n",
    "sns.histplot(rougher_output_concentrate, color='orange')\n",
    "sns.histplot(final_output_concentrate, color = 'green')\n",
    "plt.legend(['сырье', 'черновой концентрат', 'финальный концентрат'], fontsize = 12)\n",
    "plt.grid()\n",
    "plt.show()"
   ]
  },
  {
   "cell_type": "markdown",
   "metadata": {},
   "source": [
    "Подготовим и скорректируем даннные без нулевых значений"
   ]
  },
  {
   "cell_type": "code",
   "execution_count": 40,
   "metadata": {},
   "outputs": [],
   "source": [
    " # удалим столбцы, отсутствующие в тестовой выборке\n",
    "features_train = train.drop(train.columns.drop(test.columns), axis =1)\n",
    "features_train = features_train.set_index('date') # заменим индексы датой"
   ]
  },
  {
   "cell_type": "code",
   "execution_count": 41,
   "metadata": {},
   "outputs": [],
   "source": [
    "target_train_final = train['final.output.recovery'] # целевой признак тренировочной выборки\n",
    "target_train_rougher = train['rougher.output.recovery'] # целевой признак тренировочной выборки"
   ]
  },
  {
   "cell_type": "code",
   "execution_count": 42,
   "metadata": {},
   "outputs": [],
   "source": [
    "# добавим целевые признаки\n",
    "test_merged = test.merge(full[['date','final.output.recovery','rougher.output.recovery']], on = 'date')"
   ]
  },
  {
   "cell_type": "code",
   "execution_count": 43,
   "metadata": {},
   "outputs": [],
   "source": [
    "test_merged = test_merged.set_index('date') # заменим индексы датой\n",
    "features_test = test_merged.drop(['final.output.recovery','rougher.output.recovery'],axis =1)\n",
    "# удалим целевые признаки"
   ]
  },
  {
   "cell_type": "code",
   "execution_count": 44,
   "metadata": {},
   "outputs": [],
   "source": [
    "target_test_final = test_merged['final.output.recovery'] # целевой признак тестовой выборки\n",
    "target_test_rougher = test_merged['rougher.output.recovery'] # целевой признак тестовой выборки"
   ]
  },
  {
   "cell_type": "code",
   "execution_count": 45,
   "metadata": {},
   "outputs": [
    {
     "name": "stdout",
     "output_type": "stream",
     "text": [
      "(13542,)\n",
      "(13542,)\n",
      "(13542, 52)\n"
     ]
    }
   ],
   "source": [
    "# проверка размеров тренировочной выборки\n",
    "print(target_train_rougher.shape)\n",
    "print(target_train_final.shape)\n",
    "print(features_train.shape)"
   ]
  },
  {
   "cell_type": "code",
   "execution_count": 46,
   "metadata": {},
   "outputs": [
    {
     "name": "stdout",
     "output_type": "stream",
     "text": [
      "(5276,)\n",
      "(5276,)\n",
      "(5276, 52)\n"
     ]
    }
   ],
   "source": [
    "# проверка размеров тестовой выборки\n",
    "print(target_test_rougher.shape)\n",
    "print(target_test_final.shape)\n",
    "print(features_test.shape)"
   ]
  },
  {
   "cell_type": "markdown",
   "metadata": {},
   "source": [
    "**Вывод:**\n",
    "\n",
    "В результате анализа были изучены:\n",
    "\n",
    "- Концетрации основных веществ на разных этапах очистки. \n",
    "\n",
    "Концентрация металлов в процессе очистки изменяется:\n",
    "\n",
    "Концентрация золота повышается\n",
    "Концентрация серебра снижается\n",
    "Концентрация свинца повышается\n",
    "\n",
    "- Размер гранул тестовой и обучающей выборки.\n",
    "\n",
    "Распределение размера гранул сырья на тестовой и обучающей выборках практически идентичны. Оценки модели будут верны.\n",
    "\n",
    "- Суммарная концентрация веществ.\n",
    "\n",
    "Обнаружены аномалии в виде нулевых значений. Чего по сути не может быть.Так как в руде всегда есть определенное количество вещества.\n",
    "\n",
    "- Аномалии удалены.\n",
    "\n",
    "Данные подготовлены для обучения.\n"
   ]
  },
  {
   "cell_type": "markdown",
   "metadata": {},
   "source": [
    "## Модель"
   ]
  },
  {
   "cell_type": "markdown",
   "metadata": {},
   "source": [
    "Функция для вычисления итоговой sMAPE\n",
    "Нам понадобится вычислять значение sMAPE для 2 целевых признаков - это наши метрики качества. Запишем функцию для вычисления sMAPE:"
   ]
  },
  {
   "cell_type": "code",
   "execution_count": 47,
   "metadata": {},
   "outputs": [],
   "source": [
    "def sMAPE(target, prediction): # напишем функцию для расчета процента ошибки модели\n",
    "    error = 2*abs(target - prediction)/(abs(target)+abs(prediction))\n",
    "    error = error.mean()*100\n",
    "    return error\n",
    "\n",
    "def sMape_scorer(estimator, X, y): \n",
    "    sMAPE_scorer = make_scorer(sMAPE, more_is_better=False, greater_is_better=False)\n",
    "    return sMAPE(y, estimator.predict(X))"
   ]
  },
  {
   "cell_type": "code",
   "execution_count": 48,
   "metadata": {},
   "outputs": [
    {
     "data": {
      "text/plain": [
       "-7.216920171846955"
      ]
     },
     "execution_count": 48,
     "metadata": {},
     "output_type": "execute_result"
    }
   ],
   "source": [
    "# КОД РЕВЬЮЕРА\n",
    "from sklearn.model_selection import GridSearchCV\n",
    "\n",
    "dtr_params = {'max_depth': range(1, 10)}\n",
    "smape_scorer = make_scorer(sMAPE, greater_is_better=False)\n",
    "dtr_grid = GridSearchCV(DecisionTreeRegressor(random_state=12345), dtr_params, scoring=smape_scorer)\n",
    "dtr_grid.fit(features_train,target_train_rougher)\n",
    "dtr_grid.best_score_"
   ]
  },
  {
   "cell_type": "code",
   "execution_count": 1,
   "metadata": {},
   "outputs": [
    {
     "ename": "ModuleNotFoundError",
     "evalue": "No module named 'tqdm'",
     "output_type": "error",
     "traceback": [
      "\u001b[1;31m---------------------------------------------------------------------------\u001b[0m",
      "\u001b[1;31mModuleNotFoundError\u001b[0m                       Traceback (most recent call last)",
      "Cell \u001b[1;32mIn[1], line 1\u001b[0m\n\u001b[1;32m----> 1\u001b[0m \u001b[38;5;28;01mfrom\u001b[39;00m \u001b[38;5;21;01mtqdm\u001b[39;00m \u001b[38;5;28;01mimport\u001b[39;00m tqdm\n",
      "\u001b[1;31mModuleNotFoundError\u001b[0m: No module named 'tqdm'"
     ]
    }
   ],
   "source": [
    "\n",
    "from tqdm import tqdm"
   ]
  },
  {
   "cell_type": "code",
   "execution_count": 57,
   "metadata": {},
   "outputs": [],
   "source": [
    "#напишем функцию и цикл для подбора лучших параметров моделей линейной регрессии, модели случайный лес, и дерево решений.\n",
    "def models(features,target):\n",
    "    model = LinearRegression()\n",
    "    score = cross_val_score(model, features, target, scoring=sMape_scorer, cv=4).mean()\n",
    "    print(\"sMAPE модели LinearRegression:\", score)\n",
    "\n",
    "    \n",
    "    min_score = 10000\n",
    "    best_depth = 0\n",
    "    for depth in range(1, 12, 2):\n",
    "        model = DecisionTreeRegressor(random_state=12345, max_depth=depth)\n",
    "        score = cross_val_score(model, features,target, scoring=sMape_scorer, cv=4).mean()\n",
    "        if score < min_score:\n",
    "            min_score = score\n",
    "            best_depth = depth\n",
    "    print(\"sMAPE наилучшей модели DecisionTreeRegressor:\", min_score, \"Глубина дерева:\", best_depth)\n",
    "    \n",
    "    \n",
    "    min_score = 10000\n",
    "    best_est = 0\n",
    "    best_depth = 0\n",
    "    # for est in range(50, 102, 10):\n",
    "    for est in range(50, 102, 25): # ВМЕШАТЕЛЬСТВО РЕВЬЮЕРА: просто чтобы код побыстрее работал :)\n",
    "        for depth in tqdm(range (2, 10,2)): # ВМЕШАТЕЛЬСТВО РЕВЬЮЕРА: прогрес бар\n",
    "            model = RandomForestRegressor(random_state=12345, n_estimators=est, max_depth=depth)\n",
    "            score = cross_val_score(model, features,target, scoring=sMape_scorer, cv=4).mean()\n",
    "            if score < min_score:\n",
    "                min_score = score\n",
    "                best_depth = depth\n",
    "                best_est = est\n",
    "    print(\"sMAPE наилучшей модели RandomForestRegressor:\", min_score, \"Количество деревьев:\", best_est, \"Глубина дерева:\", best_depth)\n",
    "    "
   ]
  },
  {
   "cell_type": "code",
   "execution_count": 58,
   "metadata": {},
   "outputs": [
    {
     "name": "stdout",
     "output_type": "stream",
     "text": [
      "sMAPE модели LinearRegression: 7.5781627251460435\n",
      "sMAPE наилучшей модели DecisionTreeRegressor: 7.392964218444393 Глубина дерева: 5\n"
     ]
    },
    {
     "name": "stderr",
     "output_type": "stream",
     "text": [
      "100%|██████████| 4/4 [02:42<00:00, 40.72s/it]\n",
      "100%|██████████| 4/4 [04:00<00:00, 60.22s/it]\n",
      "100%|██████████| 4/4 [05:26<00:00, 81.54s/it]"
     ]
    },
    {
     "name": "stdout",
     "output_type": "stream",
     "text": [
      "sMAPE наилучшей модели RandomForestRegressor: 7.303355126424838 Количество деревьев: 100 Глубина дерева: 6\n"
     ]
    },
    {
     "name": "stderr",
     "output_type": "stream",
     "text": [
      "\n"
     ]
    }
   ],
   "source": [
    "models(features_train,target_train_rougher)# определим лучшие модели для целевой rougher"
   ]
  },
  {
   "cell_type": "markdown",
   "metadata": {},
   "source": [
    "Лучшие параметры для целевой rougher оказались у Случайного леса (7.3), с количеством деревьев - 100 и глубиной - 6 "
   ]
  },
  {
   "cell_type": "code",
   "execution_count": 59,
   "metadata": {},
   "outputs": [
    {
     "name": "stdout",
     "output_type": "stream",
     "text": [
      "sMAPE модели LinearRegression: 10.703654950751728\n",
      "sMAPE наилучшей модели DecisionTreeRegressor: 10.070842922763648 Глубина дерева: 1\n"
     ]
    },
    {
     "name": "stderr",
     "output_type": "stream",
     "text": [
      "100%|██████████| 4/4 [02:41<00:00, 40.38s/it]\n",
      "100%|██████████| 4/4 [04:00<00:00, 60.16s/it]\n",
      "100%|██████████| 4/4 [05:23<00:00, 80.94s/it]"
     ]
    },
    {
     "name": "stdout",
     "output_type": "stream",
     "text": [
      "sMAPE наилучшей модели RandomForestRegressor: 9.471761093814298 Количество деревьев: 100 Глубина дерева: 2\n"
     ]
    },
    {
     "name": "stderr",
     "output_type": "stream",
     "text": [
      "\n"
     ]
    }
   ],
   "source": [
    "models(features_train, target_train_final)#лучшие результаты для целевой final"
   ]
  },
  {
   "cell_type": "markdown",
   "metadata": {},
   "source": [
    "Лучшие параметры (9.5) для целевой final: Случайный лес с количеством деревьев - 100, глубиной -2 "
   ]
  },
  {
   "cell_type": "markdown",
   "metadata": {},
   "source": [
    "**Проверка модели на адекватность с помощью наивной модели**"
   ]
  },
  {
   "cell_type": "code",
   "execution_count": 60,
   "metadata": {},
   "outputs": [
    {
     "name": "stdout",
     "output_type": "stream",
     "text": [
      "sMAPE наивной модели: 8.00680228135859\n"
     ]
    }
   ],
   "source": [
    "dummy_r = DummyRegressor(strategy=\"mean\")\n",
    "score = cross_val_score(dummy_r, features_train, target_train_rougher, scoring=sMape_scorer, cv=4).mean()\n",
    "print(\"sMAPE наивной модели:\", score)"
   ]
  },
  {
   "cell_type": "code",
   "execution_count": 61,
   "metadata": {},
   "outputs": [
    {
     "name": "stdout",
     "output_type": "stream",
     "text": [
      "sMAPE наивной модели: 10.389526448857495\n"
     ]
    }
   ],
   "source": [
    "dummy_r = DummyRegressor(strategy=\"mean\")\n",
    "score = cross_val_score(dummy_r, features_train, target_train_final, scoring=sMape_scorer, cv=4).mean()\n",
    "print(\"sMAPE наивной модели:\", score)"
   ]
  },
  {
   "cell_type": "markdown",
   "metadata": {},
   "source": [
    "**Проверка на тестовой выборке**"
   ]
  },
  {
   "cell_type": "code",
   "execution_count": 62,
   "metadata": {},
   "outputs": [
    {
     "name": "stdout",
     "output_type": "stream",
     "text": [
      "sMAPE предсказания эффективности обогащения чернового концентрата 8.058091487366154\n"
     ]
    }
   ],
   "source": [
    "model_rougher = RandomForestRegressor(random_state=12345, n_estimators=100, max_depth=6) # тестирование модели\n",
    "model_rougher.fit(features_train, target_train_rougher)\n",
    "\n",
    "prediction_rougher = model_rougher.predict(features_test)\n",
    "result_rougher = sMAPE(target_test_rougher, prediction_rougher)\n",
    "print('sMAPE предсказания эффективности обогащения чернового концентрата', result_rougher)"
   ]
  },
  {
   "cell_type": "code",
   "execution_count": 63,
   "metadata": {},
   "outputs": [
    {
     "name": "stdout",
     "output_type": "stream",
     "text": [
      "sMAPE предсказания эффективности обогащения финального концентрата 9.181832344752761\n"
     ]
    }
   ],
   "source": [
    "model_final = RandomForestRegressor(random_state=12345, n_estimators=100, max_depth=2) # тестирование модели\n",
    "model_final.fit(features_train, target_train_final)\n",
    "\n",
    "prediction_final = model_final.predict(features_test)\n",
    "result_final = sMAPE(target_test_final,prediction_final)\n",
    "print('sMAPE предсказания эффективности обогащения финального концентрата', result_final)"
   ]
  },
  {
   "cell_type": "code",
   "execution_count": 64,
   "metadata": {},
   "outputs": [
    {
     "name": "stdout",
     "output_type": "stream",
     "text": [
      "Итоговое sMAPE: 8.90089713040611\n"
     ]
    }
   ],
   "source": [
    "print('Итоговое sMAPE:', 0.25*result_rougher + 0.75 * result_final)"
   ]
  },
  {
   "cell_type": "markdown",
   "metadata": {},
   "source": [
    "**Вывод:**\n",
    "\n",
    "Мы оценили обученные модели, используя тестовый набор данных:\n",
    "\n",
    " - лучшее значение метрики sMAPE на этапе rougher (8.1) показала модель RandomForestRegressor (с параметрами количество деревьев: 100 Глубина дерева: 6);\n",
    " \n",
    " - лучшие значения метрик sMAPE на этапе final (9.2) также показала модель RandomForestRegressor (с параметрами количество деревьев: 100 Глубина дерева: 2);\n",
    "\n",
    "При проверке на адекватность наивной моделью DummyRegressor для оценки качества нашей модели, мы получили sMAPE на этапе rougher  = 8 и sMAPE на этапе final = 10.4\n",
    "\n",
    "В итоге мы получили модель с симметричным средним процентным отклонением (sMAPE), равным 8,9%."
   ]
  },
  {
   "cell_type": "markdown",
   "metadata": {},
   "source": [
    "**Общий вывод по проекту**\n",
    "\n",
    "Построения модели предсказания коэффициента восстановления золота из золотосодержащей руды производилось на основе 3 выборок обучающая (train), тестовая (test), полная (full).\n",
    "\n",
    "В результате анализа данных получены следующие выводы:\n",
    "\n",
    "Данные содержали пропуски, которые были заменены соседними значениями.\n",
    "\n",
    "Колличество признаков в обучающей и тестовой выборке было разным. \n",
    "\n",
    "В обучающей выборке присутствовали выходные параметры, которых нет в тестовой выборке.\n",
    "\n",
    "Так как эти параметры измеряются после каждого технологического процесса очистки: концентрация полезных металлов и «отвальные хвосты», то есть остатки продукта с низкой концентрацией ценных металлов, а также расчитанные на их базе параметры.\n",
    "\n",
    "Очевидно, что модели будут недоступны данные измерения на этапе предсказания, и она должна обучаться без этих признаков.\n",
    "\n",
    "Данные содержали аномальные значения:нулевая суммарная концентрация всех перечисленных веществ. \n",
    "\n",
    "Так как ни на каком из этапов такое невозможно. \n",
    "\n",
    "Эти аномали были удалены.\n",
    "\n",
    "Написана функция для вычисления итоговой sMAPE. Создан критерий оценки моделей smap_score. \n",
    "\n",
    "Рассмотрены 3 модели:\n",
    "LinearRegression, DecisionTreeRegressor, RandomForestRegressor.\n",
    "\n",
    "Наилучшая модель RandomForestRegressor проверена на тестовой выборке.\n",
    "\n",
    "Лучшее значение метрики sMAPE на этапе rougher (8.1) показала модель RandomForestRegressor (с параметрами количество деревьев: 100 Глубина дерева: 6).\n",
    "\n",
    "Лучшие значения метрик sMAPE на этапе final (9.2) также показала модель RandomForestRegressor (с параметрами количество деревьев: 100 Глубина дерева: 2)\n",
    "\n",
    "Итоговое sMAPE: 8.9\n",
    "\n",
    "Таким образом, наилучшей моделью для предсказания является RandomForestRegressor: предсказать коэффициент восстановления золота из золотосодержащей руды."
   ]
  }
 ],
 "metadata": {
  "ExecuteTimeLog": [
   {
    "duration": 64,
    "start_time": "2023-11-14T15:45:06.673Z"
   },
   {
    "duration": 1799,
    "start_time": "2023-11-14T15:45:14.164Z"
   },
   {
    "duration": 2225,
    "start_time": "2023-11-14T15:45:15.966Z"
   },
   {
    "duration": 55,
    "start_time": "2023-11-14T15:47:00.658Z"
   },
   {
    "duration": 54,
    "start_time": "2023-11-14T15:47:12.365Z"
   },
   {
    "duration": 707,
    "start_time": "2023-11-14T15:47:35.599Z"
   },
   {
    "duration": 925,
    "start_time": "2023-11-14T15:47:50.006Z"
   },
   {
    "duration": 54,
    "start_time": "2023-11-14T15:51:37.064Z"
   },
   {
    "duration": 2138,
    "start_time": "2023-11-14T15:53:24.719Z"
   },
   {
    "duration": 538,
    "start_time": "2023-11-14T15:53:37.254Z"
   },
   {
    "duration": 475,
    "start_time": "2023-11-14T15:54:22.753Z"
   },
   {
    "duration": 73,
    "start_time": "2023-11-14T15:55:27.688Z"
   },
   {
    "duration": 987,
    "start_time": "2023-11-14T15:55:41.521Z"
   },
   {
    "duration": 341,
    "start_time": "2023-11-14T15:56:15.105Z"
   },
   {
    "duration": 368,
    "start_time": "2023-11-14T15:56:35.018Z"
   },
   {
    "duration": 55,
    "start_time": "2023-11-14T15:57:22.628Z"
   },
   {
    "duration": 47,
    "start_time": "2023-11-14T15:57:42.072Z"
   },
   {
    "duration": 461,
    "start_time": "2023-11-14T15:58:17.788Z"
   },
   {
    "duration": 1978,
    "start_time": "2023-11-14T15:59:50.514Z"
   },
   {
    "duration": 310,
    "start_time": "2023-11-14T16:00:36.243Z"
   },
   {
    "duration": 77,
    "start_time": "2023-11-14T16:04:38.044Z"
   },
   {
    "duration": 783,
    "start_time": "2023-11-14T16:10:22.435Z"
   },
   {
    "duration": 45,
    "start_time": "2023-11-14T16:12:26.147Z"
   },
   {
    "duration": 791,
    "start_time": "2023-11-14T16:18:00.219Z"
   },
   {
    "duration": 48,
    "start_time": "2023-11-14T16:30:34.600Z"
   },
   {
    "duration": 12,
    "start_time": "2023-11-14T17:07:22.957Z"
   },
   {
    "duration": 3,
    "start_time": "2023-11-14T17:08:09.940Z"
   },
   {
    "duration": 3,
    "start_time": "2023-11-14T17:08:12.291Z"
   },
   {
    "duration": 11,
    "start_time": "2023-11-14T17:08:16.860Z"
   },
   {
    "duration": 4,
    "start_time": "2023-11-14T17:08:18.620Z"
   },
   {
    "duration": 145,
    "start_time": "2023-11-14T17:08:19.842Z"
   },
   {
    "duration": 5,
    "start_time": "2023-11-14T17:08:28.679Z"
   },
   {
    "duration": 4,
    "start_time": "2023-11-14T17:08:30.883Z"
   },
   {
    "duration": 787,
    "start_time": "2023-11-14T17:13:34.904Z"
   },
   {
    "duration": 45,
    "start_time": "2023-11-14T17:13:46.399Z"
   },
   {
    "duration": 811,
    "start_time": "2023-11-14T17:16:15.824Z"
   },
   {
    "duration": 61,
    "start_time": "2023-11-14T17:16:22.797Z"
   },
   {
    "duration": 27,
    "start_time": "2023-11-14T17:18:40.007Z"
   },
   {
    "duration": 22,
    "start_time": "2023-11-14T17:19:35.166Z"
   },
   {
    "duration": 17,
    "start_time": "2023-11-14T17:19:43.653Z"
   },
   {
    "duration": 797,
    "start_time": "2023-11-14T17:22:06.244Z"
   },
   {
    "duration": 57,
    "start_time": "2023-11-14T17:22:11.296Z"
   },
   {
    "duration": 28,
    "start_time": "2023-11-14T17:22:15.172Z"
   },
   {
    "duration": 27,
    "start_time": "2023-11-14T17:22:29.441Z"
   },
   {
    "duration": 21,
    "start_time": "2023-11-14T17:22:34.256Z"
   },
   {
    "duration": 144,
    "start_time": "2023-11-14T17:23:01.183Z"
   },
   {
    "duration": 145,
    "start_time": "2023-11-14T17:23:05.142Z"
   },
   {
    "duration": 4,
    "start_time": "2023-11-14T17:23:05.918Z"
   },
   {
    "duration": 3,
    "start_time": "2023-11-14T17:23:07.358Z"
   },
   {
    "duration": 305,
    "start_time": "2023-11-14T17:37:55.250Z"
   },
   {
    "duration": 40,
    "start_time": "2023-11-14T17:39:32.931Z"
   },
   {
    "duration": 4,
    "start_time": "2023-11-14T17:41:49.210Z"
   },
   {
    "duration": 14,
    "start_time": "2023-11-14T17:41:51.031Z"
   },
   {
    "duration": 176,
    "start_time": "2023-11-14T17:42:00.362Z"
   },
   {
    "duration": 6,
    "start_time": "2023-11-14T17:42:08.615Z"
   },
   {
    "duration": 782,
    "start_time": "2023-11-14T17:42:08.625Z"
   },
   {
    "duration": 52,
    "start_time": "2023-11-14T17:42:09.409Z"
   },
   {
    "duration": 18,
    "start_time": "2023-11-14T17:42:09.463Z"
   },
   {
    "duration": 37,
    "start_time": "2023-11-14T17:42:09.513Z"
   },
   {
    "duration": 19,
    "start_time": "2023-11-14T17:42:09.552Z"
   },
   {
    "duration": 21,
    "start_time": "2023-11-14T17:42:09.573Z"
   },
   {
    "duration": 36,
    "start_time": "2023-11-14T17:42:09.596Z"
   },
   {
    "duration": 12,
    "start_time": "2023-11-14T17:42:09.634Z"
   },
   {
    "duration": 4,
    "start_time": "2023-11-14T17:42:09.648Z"
   },
   {
    "duration": 187,
    "start_time": "2023-11-14T17:42:09.655Z"
   },
   {
    "duration": 6,
    "start_time": "2023-11-14T17:42:09.843Z"
   },
   {
    "duration": 4,
    "start_time": "2023-11-14T17:42:09.851Z"
   },
   {
    "duration": 826,
    "start_time": "2023-11-14T17:42:09.857Z"
   },
   {
    "duration": 449,
    "start_time": "2023-11-14T17:42:10.685Z"
   },
   {
    "duration": 5,
    "start_time": "2023-11-14T18:10:27.410Z"
   },
   {
    "duration": 1506,
    "start_time": "2023-11-14T18:18:18.315Z"
   },
   {
    "duration": 804,
    "start_time": "2023-11-14T18:18:19.823Z"
   },
   {
    "duration": 47,
    "start_time": "2023-11-14T18:18:20.628Z"
   },
   {
    "duration": 40,
    "start_time": "2023-11-14T18:18:20.677Z"
   },
   {
    "duration": 29,
    "start_time": "2023-11-14T18:18:20.719Z"
   },
   {
    "duration": 20,
    "start_time": "2023-11-14T18:18:20.749Z"
   },
   {
    "duration": 6,
    "start_time": "2023-11-14T18:18:20.771Z"
   },
   {
    "duration": 10,
    "start_time": "2023-11-14T18:18:20.778Z"
   },
   {
    "duration": 33,
    "start_time": "2023-11-14T18:18:20.789Z"
   },
   {
    "duration": 14,
    "start_time": "2023-11-14T18:18:20.824Z"
   },
   {
    "duration": 164,
    "start_time": "2023-11-14T18:18:20.840Z"
   },
   {
    "duration": 6,
    "start_time": "2023-11-14T18:18:21.005Z"
   },
   {
    "duration": 9,
    "start_time": "2023-11-14T18:18:21.012Z"
   },
   {
    "duration": 118,
    "start_time": "2023-11-14T18:18:21.022Z"
   },
   {
    "duration": 0,
    "start_time": "2023-11-14T18:18:21.142Z"
   },
   {
    "duration": 0,
    "start_time": "2023-11-14T18:18:21.143Z"
   },
   {
    "duration": 0,
    "start_time": "2023-11-14T18:18:21.144Z"
   },
   {
    "duration": 10,
    "start_time": "2023-11-14T18:20:45.412Z"
   },
   {
    "duration": 5,
    "start_time": "2023-11-14T18:21:16.205Z"
   },
   {
    "duration": 28,
    "start_time": "2023-11-14T18:21:26.141Z"
   },
   {
    "duration": 23,
    "start_time": "2023-11-14T18:30:58.120Z"
   },
   {
    "duration": 14,
    "start_time": "2023-11-14T18:42:31.396Z"
   },
   {
    "duration": 241,
    "start_time": "2023-11-14T18:42:36.500Z"
   },
   {
    "duration": 4,
    "start_time": "2023-11-14T18:42:45.359Z"
   },
   {
    "duration": 825,
    "start_time": "2023-11-14T18:42:45.365Z"
   },
   {
    "duration": 49,
    "start_time": "2023-11-14T18:42:46.192Z"
   },
   {
    "duration": 17,
    "start_time": "2023-11-14T18:42:46.242Z"
   },
   {
    "duration": 53,
    "start_time": "2023-11-14T18:42:46.261Z"
   },
   {
    "duration": 17,
    "start_time": "2023-11-14T18:42:46.316Z"
   },
   {
    "duration": 7,
    "start_time": "2023-11-14T18:42:46.334Z"
   },
   {
    "duration": 4,
    "start_time": "2023-11-14T18:42:46.342Z"
   },
   {
    "duration": 10,
    "start_time": "2023-11-14T18:42:46.348Z"
   },
   {
    "duration": 4,
    "start_time": "2023-11-14T18:42:46.359Z"
   },
   {
    "duration": 168,
    "start_time": "2023-11-14T18:42:46.365Z"
   },
   {
    "duration": 4,
    "start_time": "2023-11-14T18:42:46.535Z"
   },
   {
    "duration": 4,
    "start_time": "2023-11-14T18:42:46.541Z"
   },
   {
    "duration": 5,
    "start_time": "2023-11-14T18:42:46.546Z"
   },
   {
    "duration": 31,
    "start_time": "2023-11-14T18:42:46.552Z"
   },
   {
    "duration": 13,
    "start_time": "2023-11-14T18:42:46.612Z"
   },
   {
    "duration": 234,
    "start_time": "2023-11-14T18:42:46.626Z"
   },
   {
    "duration": 20,
    "start_time": "2023-11-14T18:42:46.862Z"
   },
   {
    "duration": 733,
    "start_time": "2023-11-14T18:42:46.884Z"
   },
   {
    "duration": 446,
    "start_time": "2023-11-14T18:42:47.619Z"
   },
   {
    "duration": 25,
    "start_time": "2023-11-14T18:44:05.941Z"
   },
   {
    "duration": 4,
    "start_time": "2023-11-14T18:44:14.379Z"
   },
   {
    "duration": 797,
    "start_time": "2023-11-14T18:44:14.385Z"
   },
   {
    "duration": 52,
    "start_time": "2023-11-14T18:44:15.185Z"
   },
   {
    "duration": 17,
    "start_time": "2023-11-14T18:44:15.238Z"
   },
   {
    "duration": 30,
    "start_time": "2023-11-14T18:44:15.257Z"
   },
   {
    "duration": 35,
    "start_time": "2023-11-14T18:44:15.289Z"
   },
   {
    "duration": 8,
    "start_time": "2023-11-14T18:44:15.325Z"
   },
   {
    "duration": 4,
    "start_time": "2023-11-14T18:44:15.334Z"
   },
   {
    "duration": 10,
    "start_time": "2023-11-14T18:44:15.339Z"
   },
   {
    "duration": 4,
    "start_time": "2023-11-14T18:44:15.350Z"
   },
   {
    "duration": 175,
    "start_time": "2023-11-14T18:44:15.356Z"
   },
   {
    "duration": 5,
    "start_time": "2023-11-14T18:44:15.532Z"
   },
   {
    "duration": 5,
    "start_time": "2023-11-14T18:44:15.538Z"
   },
   {
    "duration": 6,
    "start_time": "2023-11-14T18:44:15.544Z"
   },
   {
    "duration": 14,
    "start_time": "2023-11-14T18:44:15.551Z"
   },
   {
    "duration": 254,
    "start_time": "2023-11-14T18:44:15.567Z"
   },
   {
    "duration": 16,
    "start_time": "2023-11-14T18:44:15.822Z"
   },
   {
    "duration": 30,
    "start_time": "2023-11-14T18:44:15.839Z"
   },
   {
    "duration": 744,
    "start_time": "2023-11-14T18:44:15.871Z"
   },
   {
    "duration": 442,
    "start_time": "2023-11-14T18:44:16.617Z"
   },
   {
    "duration": 3,
    "start_time": "2023-11-14T18:57:56.837Z"
   },
   {
    "duration": 11,
    "start_time": "2023-11-14T19:00:56.676Z"
   },
   {
    "duration": 3,
    "start_time": "2023-11-14T19:01:35.252Z"
   },
   {
    "duration": 5,
    "start_time": "2023-11-14T19:01:40.174Z"
   },
   {
    "duration": 926,
    "start_time": "2023-11-14T19:01:40.181Z"
   },
   {
    "duration": 137,
    "start_time": "2023-11-14T19:01:41.109Z"
   },
   {
    "duration": 17,
    "start_time": "2023-11-14T19:01:41.248Z"
   },
   {
    "duration": 55,
    "start_time": "2023-11-14T19:01:41.267Z"
   },
   {
    "duration": 18,
    "start_time": "2023-11-14T19:01:41.324Z"
   },
   {
    "duration": 4,
    "start_time": "2023-11-14T19:01:41.343Z"
   },
   {
    "duration": 4,
    "start_time": "2023-11-14T19:01:41.348Z"
   },
   {
    "duration": 9,
    "start_time": "2023-11-14T19:01:41.353Z"
   },
   {
    "duration": 3,
    "start_time": "2023-11-14T19:01:41.364Z"
   },
   {
    "duration": 197,
    "start_time": "2023-11-14T19:01:41.371Z"
   },
   {
    "duration": 6,
    "start_time": "2023-11-14T19:01:41.570Z"
   },
   {
    "duration": 8,
    "start_time": "2023-11-14T19:01:41.578Z"
   },
   {
    "duration": 5,
    "start_time": "2023-11-14T19:01:41.587Z"
   },
   {
    "duration": 33,
    "start_time": "2023-11-14T19:01:41.593Z"
   },
   {
    "duration": 14,
    "start_time": "2023-11-14T19:01:41.628Z"
   },
   {
    "duration": 259,
    "start_time": "2023-11-14T19:01:41.644Z"
   },
   {
    "duration": 23,
    "start_time": "2023-11-14T19:01:41.904Z"
   },
   {
    "duration": 34,
    "start_time": "2023-11-14T19:01:41.928Z"
   },
   {
    "duration": 3,
    "start_time": "2023-11-14T19:01:41.964Z"
   },
   {
    "duration": 776,
    "start_time": "2023-11-14T19:01:41.968Z"
   },
   {
    "duration": 443,
    "start_time": "2023-11-14T19:01:42.746Z"
   },
   {
    "duration": 3,
    "start_time": "2023-11-14T19:02:15.925Z"
   },
   {
    "duration": 1682,
    "start_time": "2023-11-15T07:38:18.126Z"
   },
   {
    "duration": 3042,
    "start_time": "2023-11-15T07:38:19.810Z"
   },
   {
    "duration": 53,
    "start_time": "2023-11-15T07:38:22.853Z"
   },
   {
    "duration": 45,
    "start_time": "2023-11-15T07:38:22.908Z"
   },
   {
    "duration": 29,
    "start_time": "2023-11-15T07:38:22.955Z"
   },
   {
    "duration": 17,
    "start_time": "2023-11-15T07:38:22.986Z"
   },
   {
    "duration": 4,
    "start_time": "2023-11-15T07:38:23.005Z"
   },
   {
    "duration": 4,
    "start_time": "2023-11-15T07:38:23.010Z"
   },
   {
    "duration": 42,
    "start_time": "2023-11-15T07:38:23.016Z"
   },
   {
    "duration": 4,
    "start_time": "2023-11-15T07:38:23.061Z"
   },
   {
    "duration": 163,
    "start_time": "2023-11-15T07:38:23.066Z"
   },
   {
    "duration": 4,
    "start_time": "2023-11-15T07:38:23.231Z"
   },
   {
    "duration": 15,
    "start_time": "2023-11-15T07:38:23.238Z"
   },
   {
    "duration": 4,
    "start_time": "2023-11-15T07:38:23.255Z"
   },
   {
    "duration": 6,
    "start_time": "2023-11-15T07:38:23.261Z"
   },
   {
    "duration": 18,
    "start_time": "2023-11-15T07:38:23.269Z"
   },
   {
    "duration": 257,
    "start_time": "2023-11-15T07:38:23.289Z"
   },
   {
    "duration": 23,
    "start_time": "2023-11-15T07:38:23.552Z"
   },
   {
    "duration": 3,
    "start_time": "2023-11-15T07:38:23.577Z"
   },
   {
    "duration": 4,
    "start_time": "2023-11-15T07:38:23.582Z"
   },
   {
    "duration": 769,
    "start_time": "2023-11-15T07:38:23.588Z"
   },
   {
    "duration": 423,
    "start_time": "2023-11-15T07:38:24.359Z"
   },
   {
    "duration": 4,
    "start_time": "2023-11-15T07:39:33.193Z"
   },
   {
    "duration": 30,
    "start_time": "2023-11-15T07:41:36.982Z"
   },
   {
    "duration": 98,
    "start_time": "2023-11-15T07:41:56.201Z"
   },
   {
    "duration": 123,
    "start_time": "2023-11-15T07:42:03.798Z"
   },
   {
    "duration": 20,
    "start_time": "2023-11-15T07:42:28.848Z"
   },
   {
    "duration": 22,
    "start_time": "2023-11-15T07:46:33.673Z"
   },
   {
    "duration": 12,
    "start_time": "2023-11-15T07:46:45.564Z"
   },
   {
    "duration": 10,
    "start_time": "2023-11-15T07:47:29.526Z"
   },
   {
    "duration": 5,
    "start_time": "2023-11-15T07:47:44.020Z"
   },
   {
    "duration": 762,
    "start_time": "2023-11-15T07:47:44.026Z"
   },
   {
    "duration": 69,
    "start_time": "2023-11-15T07:47:44.790Z"
   },
   {
    "duration": 18,
    "start_time": "2023-11-15T07:47:44.860Z"
   },
   {
    "duration": 32,
    "start_time": "2023-11-15T07:47:44.880Z"
   },
   {
    "duration": 40,
    "start_time": "2023-11-15T07:47:44.913Z"
   },
   {
    "duration": 19,
    "start_time": "2023-11-15T07:47:44.954Z"
   },
   {
    "duration": 9,
    "start_time": "2023-11-15T07:47:44.975Z"
   },
   {
    "duration": 37,
    "start_time": "2023-11-15T07:47:44.985Z"
   },
   {
    "duration": 61,
    "start_time": "2023-11-15T07:47:45.025Z"
   },
   {
    "duration": 219,
    "start_time": "2023-11-15T07:47:45.089Z"
   },
   {
    "duration": 5,
    "start_time": "2023-11-15T07:47:45.310Z"
   },
   {
    "duration": 15,
    "start_time": "2023-11-15T07:47:45.316Z"
   },
   {
    "duration": 13,
    "start_time": "2023-11-15T07:47:45.332Z"
   },
   {
    "duration": 9,
    "start_time": "2023-11-15T07:47:45.346Z"
   },
   {
    "duration": 18,
    "start_time": "2023-11-15T07:47:45.356Z"
   },
   {
    "duration": 234,
    "start_time": "2023-11-15T07:47:45.375Z"
   },
   {
    "duration": 23,
    "start_time": "2023-11-15T07:47:45.610Z"
   },
   {
    "duration": 48,
    "start_time": "2023-11-15T07:47:45.635Z"
   },
   {
    "duration": 3,
    "start_time": "2023-11-15T07:47:45.684Z"
   },
   {
    "duration": 663,
    "start_time": "2023-11-15T07:47:45.689Z"
   },
   {
    "duration": 425,
    "start_time": "2023-11-15T07:47:46.353Z"
   },
   {
    "duration": 3,
    "start_time": "2023-11-15T07:48:06.307Z"
   },
   {
    "duration": 14,
    "start_time": "2023-11-15T07:50:05.668Z"
   },
   {
    "duration": 19,
    "start_time": "2023-11-15T07:50:39.616Z"
   },
   {
    "duration": 4,
    "start_time": "2023-11-15T07:50:45.345Z"
   },
   {
    "duration": 766,
    "start_time": "2023-11-15T07:50:45.351Z"
   },
   {
    "duration": 147,
    "start_time": "2023-11-15T07:50:46.119Z"
   },
   {
    "duration": 54,
    "start_time": "2023-11-15T07:50:46.268Z"
   },
   {
    "duration": 190,
    "start_time": "2023-11-15T07:50:46.325Z"
   },
   {
    "duration": 120,
    "start_time": "2023-11-15T07:50:46.517Z"
   },
   {
    "duration": 8,
    "start_time": "2023-11-15T07:50:46.640Z"
   },
   {
    "duration": 20,
    "start_time": "2023-11-15T07:50:46.650Z"
   },
   {
    "duration": 17,
    "start_time": "2023-11-15T07:50:46.672Z"
   },
   {
    "duration": 5,
    "start_time": "2023-11-15T07:50:46.690Z"
   },
   {
    "duration": 203,
    "start_time": "2023-11-15T07:50:46.699Z"
   },
   {
    "duration": 6,
    "start_time": "2023-11-15T07:50:46.904Z"
   },
   {
    "duration": 12,
    "start_time": "2023-11-15T07:50:46.912Z"
   },
   {
    "duration": 4,
    "start_time": "2023-11-15T07:50:46.926Z"
   },
   {
    "duration": 21,
    "start_time": "2023-11-15T07:50:46.932Z"
   },
   {
    "duration": 13,
    "start_time": "2023-11-15T07:50:46.955Z"
   },
   {
    "duration": 243,
    "start_time": "2023-11-15T07:50:46.970Z"
   },
   {
    "duration": 17,
    "start_time": "2023-11-15T07:50:47.214Z"
   },
   {
    "duration": 54,
    "start_time": "2023-11-15T07:50:47.232Z"
   },
   {
    "duration": 4,
    "start_time": "2023-11-15T07:50:47.288Z"
   },
   {
    "duration": 640,
    "start_time": "2023-11-15T07:50:47.294Z"
   },
   {
    "duration": 430,
    "start_time": "2023-11-15T07:50:47.936Z"
   },
   {
    "duration": 23,
    "start_time": "2023-11-15T07:52:15.602Z"
   },
   {
    "duration": 20,
    "start_time": "2023-11-15T07:52:51.266Z"
   },
   {
    "duration": 5,
    "start_time": "2023-11-15T07:58:09.874Z"
   },
   {
    "duration": 817,
    "start_time": "2023-11-15T07:58:09.882Z"
   },
   {
    "duration": 69,
    "start_time": "2023-11-15T07:58:10.702Z"
   },
   {
    "duration": 16,
    "start_time": "2023-11-15T07:58:10.773Z"
   },
   {
    "duration": 25,
    "start_time": "2023-11-15T07:58:10.791Z"
   },
   {
    "duration": 48,
    "start_time": "2023-11-15T07:58:10.818Z"
   },
   {
    "duration": 5,
    "start_time": "2023-11-15T07:58:10.867Z"
   },
   {
    "duration": 9,
    "start_time": "2023-11-15T07:58:10.873Z"
   },
   {
    "duration": 19,
    "start_time": "2023-11-15T07:58:10.883Z"
   },
   {
    "duration": 5,
    "start_time": "2023-11-15T07:58:10.903Z"
   },
   {
    "duration": 192,
    "start_time": "2023-11-15T07:58:10.910Z"
   },
   {
    "duration": 4,
    "start_time": "2023-11-15T07:58:11.104Z"
   },
   {
    "duration": 7,
    "start_time": "2023-11-15T07:58:11.109Z"
   },
   {
    "duration": 8,
    "start_time": "2023-11-15T07:58:11.118Z"
   },
   {
    "duration": 29,
    "start_time": "2023-11-15T07:58:11.127Z"
   },
   {
    "duration": 18,
    "start_time": "2023-11-15T07:58:11.165Z"
   },
   {
    "duration": 254,
    "start_time": "2023-11-15T07:58:11.185Z"
   },
   {
    "duration": 33,
    "start_time": "2023-11-15T07:58:11.441Z"
   },
   {
    "duration": 17,
    "start_time": "2023-11-15T07:58:11.475Z"
   },
   {
    "duration": 0,
    "start_time": "2023-11-15T07:58:11.494Z"
   },
   {
    "duration": 0,
    "start_time": "2023-11-15T07:58:11.495Z"
   },
   {
    "duration": 0,
    "start_time": "2023-11-15T07:58:11.497Z"
   },
   {
    "duration": 16,
    "start_time": "2023-11-15T07:58:18.634Z"
   },
   {
    "duration": 782,
    "start_time": "2023-11-15T07:59:31.107Z"
   },
   {
    "duration": 4,
    "start_time": "2023-11-15T07:59:34.051Z"
   },
   {
    "duration": 735,
    "start_time": "2023-11-15T07:59:34.057Z"
   },
   {
    "duration": 67,
    "start_time": "2023-11-15T07:59:34.795Z"
   },
   {
    "duration": 17,
    "start_time": "2023-11-15T07:59:34.864Z"
   },
   {
    "duration": 49,
    "start_time": "2023-11-15T07:59:34.883Z"
   },
   {
    "duration": 22,
    "start_time": "2023-11-15T07:59:34.934Z"
   },
   {
    "duration": 12,
    "start_time": "2023-11-15T07:59:34.957Z"
   },
   {
    "duration": 5,
    "start_time": "2023-11-15T07:59:34.970Z"
   },
   {
    "duration": 17,
    "start_time": "2023-11-15T07:59:34.976Z"
   },
   {
    "duration": 4,
    "start_time": "2023-11-15T07:59:34.994Z"
   },
   {
    "duration": 192,
    "start_time": "2023-11-15T07:59:35.001Z"
   },
   {
    "duration": 6,
    "start_time": "2023-11-15T07:59:35.195Z"
   },
   {
    "duration": 6,
    "start_time": "2023-11-15T07:59:35.203Z"
   },
   {
    "duration": 5,
    "start_time": "2023-11-15T07:59:35.210Z"
   },
   {
    "duration": 5,
    "start_time": "2023-11-15T07:59:35.217Z"
   },
   {
    "duration": 32,
    "start_time": "2023-11-15T07:59:35.224Z"
   },
   {
    "duration": 244,
    "start_time": "2023-11-15T07:59:35.258Z"
   },
   {
    "duration": 16,
    "start_time": "2023-11-15T07:59:35.504Z"
   },
   {
    "duration": 51,
    "start_time": "2023-11-15T07:59:35.522Z"
   },
   {
    "duration": 3,
    "start_time": "2023-11-15T07:59:35.575Z"
   },
   {
    "duration": 654,
    "start_time": "2023-11-15T07:59:35.580Z"
   },
   {
    "duration": 412,
    "start_time": "2023-11-15T07:59:36.236Z"
   },
   {
    "duration": 21,
    "start_time": "2023-11-15T08:00:05.612Z"
   },
   {
    "duration": 19,
    "start_time": "2023-11-15T08:00:08.441Z"
   },
   {
    "duration": 4,
    "start_time": "2023-11-15T08:00:18.617Z"
   },
   {
    "duration": 4,
    "start_time": "2023-11-15T08:00:23.969Z"
   },
   {
    "duration": 753,
    "start_time": "2023-11-15T08:00:23.975Z"
   },
   {
    "duration": 49,
    "start_time": "2023-11-15T08:00:24.730Z"
   },
   {
    "duration": 18,
    "start_time": "2023-11-15T08:00:24.780Z"
   },
   {
    "duration": 53,
    "start_time": "2023-11-15T08:00:24.801Z"
   },
   {
    "duration": 18,
    "start_time": "2023-11-15T08:00:24.855Z"
   },
   {
    "duration": 11,
    "start_time": "2023-11-15T08:00:24.875Z"
   },
   {
    "duration": 4,
    "start_time": "2023-11-15T08:00:24.888Z"
   },
   {
    "duration": 13,
    "start_time": "2023-11-15T08:00:24.894Z"
   },
   {
    "duration": 4,
    "start_time": "2023-11-15T08:00:24.909Z"
   },
   {
    "duration": 170,
    "start_time": "2023-11-15T08:00:24.915Z"
   },
   {
    "duration": 5,
    "start_time": "2023-11-15T08:00:25.088Z"
   },
   {
    "duration": 20,
    "start_time": "2023-11-15T08:00:25.096Z"
   },
   {
    "duration": 6,
    "start_time": "2023-11-15T08:00:25.119Z"
   },
   {
    "duration": 9,
    "start_time": "2023-11-15T08:00:25.127Z"
   },
   {
    "duration": 26,
    "start_time": "2023-11-15T08:00:25.138Z"
   },
   {
    "duration": 258,
    "start_time": "2023-11-15T08:00:25.166Z"
   },
   {
    "duration": 16,
    "start_time": "2023-11-15T08:00:25.426Z"
   },
   {
    "duration": 39,
    "start_time": "2023-11-15T08:00:25.451Z"
   },
   {
    "duration": 3,
    "start_time": "2023-11-15T08:00:25.491Z"
   },
   {
    "duration": 729,
    "start_time": "2023-11-15T08:00:25.496Z"
   },
   {
    "duration": 426,
    "start_time": "2023-11-15T08:00:26.227Z"
   },
   {
    "duration": 45,
    "start_time": "2023-11-15T08:00:55.558Z"
   },
   {
    "duration": 3,
    "start_time": "2023-11-15T08:01:01.314Z"
   },
   {
    "duration": 41,
    "start_time": "2023-11-15T08:01:28.523Z"
   },
   {
    "duration": 3,
    "start_time": "2023-11-15T08:01:33.431Z"
   },
   {
    "duration": 56,
    "start_time": "2023-11-15T08:01:49.423Z"
   },
   {
    "duration": 23,
    "start_time": "2023-11-15T08:02:00.285Z"
   },
   {
    "duration": 44,
    "start_time": "2023-11-15T08:02:12.452Z"
   },
   {
    "duration": 4,
    "start_time": "2023-11-15T08:02:16.960Z"
   },
   {
    "duration": 21,
    "start_time": "2023-11-15T08:02:34.666Z"
   },
   {
    "duration": 22,
    "start_time": "2023-11-15T08:02:37.390Z"
   },
   {
    "duration": 3,
    "start_time": "2023-11-15T08:02:41.418Z"
   },
   {
    "duration": 5,
    "start_time": "2023-11-15T08:02:44.713Z"
   },
   {
    "duration": 771,
    "start_time": "2023-11-15T08:02:44.726Z"
   },
   {
    "duration": 61,
    "start_time": "2023-11-15T08:02:45.499Z"
   },
   {
    "duration": 17,
    "start_time": "2023-11-15T08:02:45.562Z"
   },
   {
    "duration": 28,
    "start_time": "2023-11-15T08:02:45.582Z"
   },
   {
    "duration": 45,
    "start_time": "2023-11-15T08:02:45.613Z"
   },
   {
    "duration": 10,
    "start_time": "2023-11-15T08:02:45.660Z"
   },
   {
    "duration": 11,
    "start_time": "2023-11-15T08:02:45.672Z"
   },
   {
    "duration": 13,
    "start_time": "2023-11-15T08:02:45.685Z"
   },
   {
    "duration": 4,
    "start_time": "2023-11-15T08:02:45.699Z"
   },
   {
    "duration": 147,
    "start_time": "2023-11-15T08:02:45.705Z"
   },
   {
    "duration": 4,
    "start_time": "2023-11-15T08:02:45.854Z"
   },
   {
    "duration": 8,
    "start_time": "2023-11-15T08:02:45.860Z"
   },
   {
    "duration": 5,
    "start_time": "2023-11-15T08:02:45.869Z"
   },
   {
    "duration": 5,
    "start_time": "2023-11-15T08:02:45.877Z"
   },
   {
    "duration": 13,
    "start_time": "2023-11-15T08:02:45.884Z"
   },
   {
    "duration": 256,
    "start_time": "2023-11-15T08:02:45.899Z"
   },
   {
    "duration": 17,
    "start_time": "2023-11-15T08:02:46.157Z"
   },
   {
    "duration": 37,
    "start_time": "2023-11-15T08:02:46.176Z"
   },
   {
    "duration": 3,
    "start_time": "2023-11-15T08:02:46.214Z"
   },
   {
    "duration": 714,
    "start_time": "2023-11-15T08:02:46.219Z"
   },
   {
    "duration": 414,
    "start_time": "2023-11-15T08:02:46.935Z"
   },
   {
    "duration": 21,
    "start_time": "2023-11-15T08:03:04.508Z"
   },
   {
    "duration": 4,
    "start_time": "2023-11-15T08:03:08.385Z"
   },
   {
    "duration": 771,
    "start_time": "2023-11-15T08:03:08.391Z"
   },
   {
    "duration": 55,
    "start_time": "2023-11-15T08:03:09.164Z"
   },
   {
    "duration": 44,
    "start_time": "2023-11-15T08:03:09.221Z"
   },
   {
    "duration": 34,
    "start_time": "2023-11-15T08:03:09.267Z"
   },
   {
    "duration": 23,
    "start_time": "2023-11-15T08:03:09.303Z"
   },
   {
    "duration": 11,
    "start_time": "2023-11-15T08:03:09.328Z"
   },
   {
    "duration": 9,
    "start_time": "2023-11-15T08:03:09.353Z"
   },
   {
    "duration": 9,
    "start_time": "2023-11-15T08:03:09.365Z"
   },
   {
    "duration": 20,
    "start_time": "2023-11-15T08:03:09.375Z"
   },
   {
    "duration": 149,
    "start_time": "2023-11-15T08:03:09.397Z"
   },
   {
    "duration": 5,
    "start_time": "2023-11-15T08:03:09.548Z"
   },
   {
    "duration": 10,
    "start_time": "2023-11-15T08:03:09.554Z"
   },
   {
    "duration": 4,
    "start_time": "2023-11-15T08:03:09.565Z"
   },
   {
    "duration": 9,
    "start_time": "2023-11-15T08:03:09.571Z"
   },
   {
    "duration": 14,
    "start_time": "2023-11-15T08:03:09.581Z"
   },
   {
    "duration": 260,
    "start_time": "2023-11-15T08:03:09.597Z"
   },
   {
    "duration": 18,
    "start_time": "2023-11-15T08:03:09.858Z"
   },
   {
    "duration": 22,
    "start_time": "2023-11-15T08:03:09.878Z"
   },
   {
    "duration": 0,
    "start_time": "2023-11-15T08:03:09.901Z"
   },
   {
    "duration": 0,
    "start_time": "2023-11-15T08:03:09.902Z"
   },
   {
    "duration": 0,
    "start_time": "2023-11-15T08:03:09.903Z"
   },
   {
    "duration": 36,
    "start_time": "2023-11-15T08:03:22.179Z"
   },
   {
    "duration": 3,
    "start_time": "2023-11-15T08:03:38.163Z"
   },
   {
    "duration": 629,
    "start_time": "2023-11-15T08:09:46.810Z"
   },
   {
    "duration": 111,
    "start_time": "2023-11-15T08:10:13.609Z"
   },
   {
    "duration": 701,
    "start_time": "2023-11-15T08:16:37.911Z"
   },
   {
    "duration": 417,
    "start_time": "2023-11-15T08:16:45.556Z"
   },
   {
    "duration": 22,
    "start_time": "2023-11-15T08:27:38.454Z"
   },
   {
    "duration": 28,
    "start_time": "2023-11-15T08:27:55.713Z"
   },
   {
    "duration": 5,
    "start_time": "2023-11-15T08:27:58.526Z"
   },
   {
    "duration": 780,
    "start_time": "2023-11-15T08:27:58.533Z"
   },
   {
    "duration": 56,
    "start_time": "2023-11-15T08:27:59.315Z"
   },
   {
    "duration": 18,
    "start_time": "2023-11-15T08:27:59.372Z"
   },
   {
    "duration": 29,
    "start_time": "2023-11-15T08:27:59.392Z"
   },
   {
    "duration": 19,
    "start_time": "2023-11-15T08:27:59.451Z"
   },
   {
    "duration": 5,
    "start_time": "2023-11-15T08:27:59.471Z"
   },
   {
    "duration": 8,
    "start_time": "2023-11-15T08:27:59.477Z"
   },
   {
    "duration": 18,
    "start_time": "2023-11-15T08:27:59.487Z"
   },
   {
    "duration": 5,
    "start_time": "2023-11-15T08:27:59.506Z"
   },
   {
    "duration": 176,
    "start_time": "2023-11-15T08:27:59.513Z"
   },
   {
    "duration": 5,
    "start_time": "2023-11-15T08:27:59.691Z"
   },
   {
    "duration": 8,
    "start_time": "2023-11-15T08:27:59.697Z"
   },
   {
    "duration": 7,
    "start_time": "2023-11-15T08:27:59.707Z"
   },
   {
    "duration": 10,
    "start_time": "2023-11-15T08:27:59.715Z"
   },
   {
    "duration": 33,
    "start_time": "2023-11-15T08:27:59.727Z"
   },
   {
    "duration": 245,
    "start_time": "2023-11-15T08:27:59.762Z"
   },
   {
    "duration": 16,
    "start_time": "2023-11-15T08:28:00.009Z"
   },
   {
    "duration": 84,
    "start_time": "2023-11-15T08:28:00.027Z"
   },
   {
    "duration": 4,
    "start_time": "2023-11-15T08:28:00.112Z"
   },
   {
    "duration": 122,
    "start_time": "2023-11-15T08:28:00.118Z"
   },
   {
    "duration": 724,
    "start_time": "2023-11-15T08:28:00.242Z"
   },
   {
    "duration": 26,
    "start_time": "2023-11-15T08:28:47.047Z"
   },
   {
    "duration": 5,
    "start_time": "2023-11-15T08:28:50.309Z"
   },
   {
    "duration": 800,
    "start_time": "2023-11-15T08:28:50.315Z"
   },
   {
    "duration": 68,
    "start_time": "2023-11-15T08:28:51.117Z"
   },
   {
    "duration": 20,
    "start_time": "2023-11-15T08:28:51.187Z"
   },
   {
    "duration": 81,
    "start_time": "2023-11-15T08:28:51.209Z"
   },
   {
    "duration": 18,
    "start_time": "2023-11-15T08:28:51.292Z"
   },
   {
    "duration": 50,
    "start_time": "2023-11-15T08:28:51.312Z"
   },
   {
    "duration": 22,
    "start_time": "2023-11-15T08:28:51.363Z"
   },
   {
    "duration": 21,
    "start_time": "2023-11-15T08:28:51.386Z"
   },
   {
    "duration": 25,
    "start_time": "2023-11-15T08:28:51.409Z"
   },
   {
    "duration": 177,
    "start_time": "2023-11-15T08:28:51.437Z"
   },
   {
    "duration": 5,
    "start_time": "2023-11-15T08:28:51.616Z"
   },
   {
    "duration": 42,
    "start_time": "2023-11-15T08:28:51.622Z"
   },
   {
    "duration": 19,
    "start_time": "2023-11-15T08:28:51.666Z"
   },
   {
    "duration": 30,
    "start_time": "2023-11-15T08:28:51.687Z"
   },
   {
    "duration": 37,
    "start_time": "2023-11-15T08:28:51.719Z"
   },
   {
    "duration": 243,
    "start_time": "2023-11-15T08:28:51.758Z"
   },
   {
    "duration": 18,
    "start_time": "2023-11-15T08:28:52.002Z"
   },
   {
    "duration": 61,
    "start_time": "2023-11-15T08:28:52.022Z"
   },
   {
    "duration": 3,
    "start_time": "2023-11-15T08:28:52.085Z"
   },
   {
    "duration": 134,
    "start_time": "2023-11-15T08:28:52.090Z"
   },
   {
    "duration": 754,
    "start_time": "2023-11-15T08:28:52.226Z"
   },
   {
    "duration": 20,
    "start_time": "2023-11-15T08:30:39.318Z"
   },
   {
    "duration": 5,
    "start_time": "2023-11-15T08:30:41.835Z"
   },
   {
    "duration": 803,
    "start_time": "2023-11-15T08:30:41.843Z"
   },
   {
    "duration": 45,
    "start_time": "2023-11-15T08:30:42.648Z"
   },
   {
    "duration": 17,
    "start_time": "2023-11-15T08:30:42.695Z"
   },
   {
    "duration": 60,
    "start_time": "2023-11-15T08:30:42.714Z"
   },
   {
    "duration": 19,
    "start_time": "2023-11-15T08:30:42.776Z"
   },
   {
    "duration": 4,
    "start_time": "2023-11-15T08:30:42.796Z"
   },
   {
    "duration": 4,
    "start_time": "2023-11-15T08:30:42.802Z"
   },
   {
    "duration": 12,
    "start_time": "2023-11-15T08:30:42.807Z"
   },
   {
    "duration": 5,
    "start_time": "2023-11-15T08:30:42.820Z"
   },
   {
    "duration": 145,
    "start_time": "2023-11-15T08:30:42.853Z"
   },
   {
    "duration": 5,
    "start_time": "2023-11-15T08:30:42.999Z"
   },
   {
    "duration": 6,
    "start_time": "2023-11-15T08:30:43.006Z"
   },
   {
    "duration": 15,
    "start_time": "2023-11-15T08:30:43.014Z"
   },
   {
    "duration": 17,
    "start_time": "2023-11-15T08:30:43.031Z"
   },
   {
    "duration": 16,
    "start_time": "2023-11-15T08:30:43.049Z"
   },
   {
    "duration": 245,
    "start_time": "2023-11-15T08:30:43.067Z"
   },
   {
    "duration": 18,
    "start_time": "2023-11-15T08:30:43.314Z"
   },
   {
    "duration": 47,
    "start_time": "2023-11-15T08:30:43.333Z"
   },
   {
    "duration": 3,
    "start_time": "2023-11-15T08:30:43.382Z"
   },
   {
    "duration": 135,
    "start_time": "2023-11-15T08:30:43.387Z"
   },
   {
    "duration": 705,
    "start_time": "2023-11-15T08:30:43.523Z"
   },
   {
    "duration": 20,
    "start_time": "2023-11-15T08:31:05.399Z"
   },
   {
    "duration": 4,
    "start_time": "2023-11-15T08:31:18.238Z"
   },
   {
    "duration": 775,
    "start_time": "2023-11-15T08:31:18.244Z"
   },
   {
    "duration": 56,
    "start_time": "2023-11-15T08:31:19.021Z"
   },
   {
    "duration": 18,
    "start_time": "2023-11-15T08:31:19.079Z"
   },
   {
    "duration": 52,
    "start_time": "2023-11-15T08:31:19.100Z"
   },
   {
    "duration": 22,
    "start_time": "2023-11-15T08:31:19.154Z"
   },
   {
    "duration": 4,
    "start_time": "2023-11-15T08:31:19.178Z"
   },
   {
    "duration": 4,
    "start_time": "2023-11-15T08:31:19.184Z"
   },
   {
    "duration": 11,
    "start_time": "2023-11-15T08:31:19.190Z"
   },
   {
    "duration": 4,
    "start_time": "2023-11-15T08:31:19.203Z"
   },
   {
    "duration": 147,
    "start_time": "2023-11-15T08:31:19.251Z"
   },
   {
    "duration": 6,
    "start_time": "2023-11-15T08:31:19.400Z"
   },
   {
    "duration": 6,
    "start_time": "2023-11-15T08:31:19.407Z"
   },
   {
    "duration": 11,
    "start_time": "2023-11-15T08:31:19.415Z"
   },
   {
    "duration": 32,
    "start_time": "2023-11-15T08:31:19.427Z"
   },
   {
    "duration": 17,
    "start_time": "2023-11-15T08:31:19.461Z"
   },
   {
    "duration": 236,
    "start_time": "2023-11-15T08:31:19.480Z"
   },
   {
    "duration": 17,
    "start_time": "2023-11-15T08:31:19.717Z"
   },
   {
    "duration": 56,
    "start_time": "2023-11-15T08:31:19.735Z"
   },
   {
    "duration": 12,
    "start_time": "2023-11-15T08:31:19.793Z"
   },
   {
    "duration": 125,
    "start_time": "2023-11-15T08:31:19.807Z"
   },
   {
    "duration": 727,
    "start_time": "2023-11-15T08:31:19.934Z"
   },
   {
    "duration": 5,
    "start_time": "2023-11-15T09:07:52.596Z"
   },
   {
    "duration": 4,
    "start_time": "2023-11-15T09:08:05.177Z"
   },
   {
    "duration": 727,
    "start_time": "2023-11-15T09:08:05.182Z"
   },
   {
    "duration": 46,
    "start_time": "2023-11-15T09:08:05.911Z"
   },
   {
    "duration": 16,
    "start_time": "2023-11-15T09:08:05.959Z"
   },
   {
    "duration": 39,
    "start_time": "2023-11-15T09:08:05.977Z"
   },
   {
    "duration": 33,
    "start_time": "2023-11-15T09:08:06.017Z"
   },
   {
    "duration": 10,
    "start_time": "2023-11-15T09:08:06.051Z"
   },
   {
    "duration": 11,
    "start_time": "2023-11-15T09:08:06.062Z"
   },
   {
    "duration": 16,
    "start_time": "2023-11-15T09:08:06.074Z"
   },
   {
    "duration": 5,
    "start_time": "2023-11-15T09:08:06.091Z"
   },
   {
    "duration": 131,
    "start_time": "2023-11-15T09:08:06.099Z"
   },
   {
    "duration": 5,
    "start_time": "2023-11-15T09:08:06.231Z"
   },
   {
    "duration": 6,
    "start_time": "2023-11-15T09:08:06.237Z"
   },
   {
    "duration": 3,
    "start_time": "2023-11-15T09:08:06.251Z"
   },
   {
    "duration": 5,
    "start_time": "2023-11-15T09:08:06.256Z"
   },
   {
    "duration": 11,
    "start_time": "2023-11-15T09:08:06.263Z"
   },
   {
    "duration": 217,
    "start_time": "2023-11-15T09:08:06.275Z"
   },
   {
    "duration": 14,
    "start_time": "2023-11-15T09:08:06.494Z"
   },
   {
    "duration": 46,
    "start_time": "2023-11-15T09:08:06.510Z"
   },
   {
    "duration": 2,
    "start_time": "2023-11-15T09:08:06.558Z"
   },
   {
    "duration": 4,
    "start_time": "2023-11-15T09:08:06.562Z"
   },
   {
    "duration": 621,
    "start_time": "2023-11-15T09:08:06.568Z"
   },
   {
    "duration": 6,
    "start_time": "2023-11-15T09:08:21.714Z"
   },
   {
    "duration": 79,
    "start_time": "2023-11-15T09:08:33.578Z"
   },
   {
    "duration": 4,
    "start_time": "2023-11-15T09:08:39.346Z"
   },
   {
    "duration": 13,
    "start_time": "2023-11-15T09:16:34.294Z"
   },
   {
    "duration": 906,
    "start_time": "2023-11-15T09:16:54.219Z"
   },
   {
    "duration": 728,
    "start_time": "2023-11-15T09:19:41.710Z"
   },
   {
    "duration": 8,
    "start_time": "2023-11-15T09:20:51.270Z"
   },
   {
    "duration": 521,
    "start_time": "2023-11-15T09:21:12.935Z"
   },
   {
    "duration": 507,
    "start_time": "2023-11-15T09:21:35.199Z"
   },
   {
    "duration": 295,
    "start_time": "2023-11-15T09:22:21.935Z"
   },
   {
    "duration": 8,
    "start_time": "2023-11-15T09:23:58.607Z"
   },
   {
    "duration": 426,
    "start_time": "2023-11-15T09:24:25.530Z"
   },
   {
    "duration": 319,
    "start_time": "2023-11-15T09:24:48.436Z"
   },
   {
    "duration": 358,
    "start_time": "2023-11-15T09:25:26.851Z"
   },
   {
    "duration": 304,
    "start_time": "2023-11-15T09:27:05.982Z"
   },
   {
    "duration": 8,
    "start_time": "2023-11-15T09:27:08.251Z"
   },
   {
    "duration": 9,
    "start_time": "2023-11-15T09:28:53.602Z"
   },
   {
    "duration": 12,
    "start_time": "2023-11-15T09:30:09.858Z"
   },
   {
    "duration": 1134,
    "start_time": "2023-11-15T09:30:16.635Z"
   },
   {
    "duration": 219,
    "start_time": "2023-11-15T09:31:31.567Z"
   },
   {
    "duration": 87,
    "start_time": "2023-11-15T17:05:21.546Z"
   },
   {
    "duration": 108,
    "start_time": "2023-11-15T17:07:27.581Z"
   },
   {
    "duration": 71,
    "start_time": "2023-11-15T17:07:57.727Z"
   },
   {
    "duration": 56,
    "start_time": "2023-11-15T17:19:46.707Z"
   },
   {
    "duration": 1905,
    "start_time": "2023-11-15T17:19:54.181Z"
   },
   {
    "duration": 3267,
    "start_time": "2023-11-15T17:19:56.089Z"
   },
   {
    "duration": 47,
    "start_time": "2023-11-15T17:19:59.357Z"
   },
   {
    "duration": 29,
    "start_time": "2023-11-15T17:19:59.406Z"
   },
   {
    "duration": 29,
    "start_time": "2023-11-15T17:19:59.437Z"
   },
   {
    "duration": 17,
    "start_time": "2023-11-15T17:19:59.468Z"
   },
   {
    "duration": 6,
    "start_time": "2023-11-15T17:19:59.510Z"
   },
   {
    "duration": 9,
    "start_time": "2023-11-15T17:19:59.519Z"
   },
   {
    "duration": 13,
    "start_time": "2023-11-15T17:19:59.531Z"
   },
   {
    "duration": 4,
    "start_time": "2023-11-15T17:19:59.546Z"
   },
   {
    "duration": 209,
    "start_time": "2023-11-15T17:19:59.552Z"
   },
   {
    "duration": 6,
    "start_time": "2023-11-15T17:19:59.763Z"
   },
   {
    "duration": 5,
    "start_time": "2023-11-15T17:19:59.771Z"
   },
   {
    "duration": 5,
    "start_time": "2023-11-15T17:19:59.777Z"
   },
   {
    "duration": 29,
    "start_time": "2023-11-15T17:19:59.784Z"
   },
   {
    "duration": 18,
    "start_time": "2023-11-15T17:19:59.814Z"
   },
   {
    "duration": 290,
    "start_time": "2023-11-15T17:19:59.834Z"
   },
   {
    "duration": 22,
    "start_time": "2023-11-15T17:20:00.126Z"
   },
   {
    "duration": 3,
    "start_time": "2023-11-15T17:20:00.150Z"
   },
   {
    "duration": 117,
    "start_time": "2023-11-15T17:20:00.155Z"
   },
   {
    "duration": 0,
    "start_time": "2023-11-15T17:20:00.274Z"
   },
   {
    "duration": 0,
    "start_time": "2023-11-15T17:20:00.275Z"
   },
   {
    "duration": 0,
    "start_time": "2023-11-15T17:20:00.276Z"
   },
   {
    "duration": 0,
    "start_time": "2023-11-15T17:20:00.277Z"
   },
   {
    "duration": 0,
    "start_time": "2023-11-15T17:20:00.278Z"
   },
   {
    "duration": 0,
    "start_time": "2023-11-15T17:20:00.279Z"
   },
   {
    "duration": 0,
    "start_time": "2023-11-15T17:20:00.280Z"
   },
   {
    "duration": 0,
    "start_time": "2023-11-15T17:20:00.281Z"
   },
   {
    "duration": 0,
    "start_time": "2023-11-15T17:20:00.282Z"
   },
   {
    "duration": 0,
    "start_time": "2023-11-15T17:20:00.284Z"
   },
   {
    "duration": 0,
    "start_time": "2023-11-15T17:20:00.284Z"
   },
   {
    "duration": 0,
    "start_time": "2023-11-15T17:20:00.286Z"
   },
   {
    "duration": 0,
    "start_time": "2023-11-15T17:20:00.286Z"
   },
   {
    "duration": 0,
    "start_time": "2023-11-15T17:20:00.314Z"
   },
   {
    "duration": 0,
    "start_time": "2023-11-15T17:20:00.315Z"
   },
   {
    "duration": 0,
    "start_time": "2023-11-15T17:20:00.318Z"
   },
   {
    "duration": 0,
    "start_time": "2023-11-15T17:20:00.320Z"
   },
   {
    "duration": 0,
    "start_time": "2023-11-15T17:20:00.321Z"
   },
   {
    "duration": 0,
    "start_time": "2023-11-15T17:20:00.326Z"
   },
   {
    "duration": 2,
    "start_time": "2023-11-15T17:20:35.053Z"
   },
   {
    "duration": 17,
    "start_time": "2023-11-15T17:20:37.122Z"
   },
   {
    "duration": 5,
    "start_time": "2023-11-15T17:20:41.453Z"
   },
   {
    "duration": 871,
    "start_time": "2023-11-15T17:20:41.469Z"
   },
   {
    "duration": 42,
    "start_time": "2023-11-15T17:20:42.342Z"
   },
   {
    "duration": 45,
    "start_time": "2023-11-15T17:20:42.386Z"
   },
   {
    "duration": 30,
    "start_time": "2023-11-15T17:20:42.434Z"
   },
   {
    "duration": 20,
    "start_time": "2023-11-15T17:20:42.466Z"
   },
   {
    "duration": 28,
    "start_time": "2023-11-15T17:20:42.488Z"
   },
   {
    "duration": 6,
    "start_time": "2023-11-15T17:20:42.518Z"
   },
   {
    "duration": 14,
    "start_time": "2023-11-15T17:20:42.527Z"
   },
   {
    "duration": 5,
    "start_time": "2023-11-15T17:20:42.543Z"
   },
   {
    "duration": 180,
    "start_time": "2023-11-15T17:20:42.549Z"
   },
   {
    "duration": 5,
    "start_time": "2023-11-15T17:20:42.731Z"
   },
   {
    "duration": 4,
    "start_time": "2023-11-15T17:20:42.738Z"
   },
   {
    "duration": 5,
    "start_time": "2023-11-15T17:20:42.743Z"
   },
   {
    "duration": 5,
    "start_time": "2023-11-15T17:20:42.751Z"
   },
   {
    "duration": 13,
    "start_time": "2023-11-15T17:20:42.757Z"
   },
   {
    "duration": 300,
    "start_time": "2023-11-15T17:20:42.772Z"
   },
   {
    "duration": 22,
    "start_time": "2023-11-15T17:20:43.074Z"
   },
   {
    "duration": 20,
    "start_time": "2023-11-15T17:20:43.097Z"
   },
   {
    "duration": 45,
    "start_time": "2023-11-15T17:20:43.119Z"
   },
   {
    "duration": 3,
    "start_time": "2023-11-15T17:20:43.165Z"
   },
   {
    "duration": 6,
    "start_time": "2023-11-15T17:20:43.170Z"
   },
   {
    "duration": 15,
    "start_time": "2023-11-15T17:20:43.177Z"
   },
   {
    "duration": 1021,
    "start_time": "2023-11-15T17:20:43.213Z"
   },
   {
    "duration": 817,
    "start_time": "2023-11-15T17:20:44.236Z"
   },
   {
    "duration": 7,
    "start_time": "2023-11-15T17:20:45.054Z"
   },
   {
    "duration": 607,
    "start_time": "2023-11-15T17:20:45.063Z"
   },
   {
    "duration": 332,
    "start_time": "2023-11-15T17:20:45.672Z"
   },
   {
    "duration": 16,
    "start_time": "2023-11-15T17:20:46.005Z"
   },
   {
    "duration": 376,
    "start_time": "2023-11-15T17:20:46.025Z"
   },
   {
    "duration": 25,
    "start_time": "2023-11-15T17:20:46.403Z"
   },
   {
    "duration": 336,
    "start_time": "2023-11-15T17:20:46.430Z"
   },
   {
    "duration": 10,
    "start_time": "2023-11-15T17:20:46.767Z"
   },
   {
    "duration": 1337,
    "start_time": "2023-11-15T17:20:46.779Z"
   },
   {
    "duration": 261,
    "start_time": "2023-11-15T17:20:48.121Z"
   },
   {
    "duration": 4,
    "start_time": "2023-11-15T17:20:48.384Z"
   },
   {
    "duration": 29,
    "start_time": "2023-11-15T17:20:48.389Z"
   },
   {
    "duration": 22,
    "start_time": "2023-11-15T17:20:48.421Z"
   },
   {
    "duration": 0,
    "start_time": "2023-11-15T17:20:48.444Z"
   },
   {
    "duration": 17,
    "start_time": "2023-11-15T17:27:02.502Z"
   },
   {
    "duration": 5,
    "start_time": "2023-11-15T17:28:09.030Z"
   },
   {
    "duration": 7,
    "start_time": "2023-11-15T17:28:11.896Z"
   },
   {
    "duration": 863,
    "start_time": "2023-11-15T17:28:11.905Z"
   },
   {
    "duration": 72,
    "start_time": "2023-11-15T17:28:12.769Z"
   },
   {
    "duration": 17,
    "start_time": "2023-11-15T17:28:12.843Z"
   },
   {
    "duration": 49,
    "start_time": "2023-11-15T17:28:12.862Z"
   },
   {
    "duration": 25,
    "start_time": "2023-11-15T17:28:12.920Z"
   },
   {
    "duration": 5,
    "start_time": "2023-11-15T17:28:12.946Z"
   },
   {
    "duration": 6,
    "start_time": "2023-11-15T17:28:12.953Z"
   },
   {
    "duration": 10,
    "start_time": "2023-11-15T17:28:12.960Z"
   },
   {
    "duration": 4,
    "start_time": "2023-11-15T17:28:12.972Z"
   },
   {
    "duration": 198,
    "start_time": "2023-11-15T17:28:12.979Z"
   },
   {
    "duration": 5,
    "start_time": "2023-11-15T17:28:13.179Z"
   },
   {
    "duration": 7,
    "start_time": "2023-11-15T17:28:13.185Z"
   },
   {
    "duration": 22,
    "start_time": "2023-11-15T17:28:13.193Z"
   },
   {
    "duration": 7,
    "start_time": "2023-11-15T17:28:13.223Z"
   },
   {
    "duration": 23,
    "start_time": "2023-11-15T17:28:13.232Z"
   },
   {
    "duration": 247,
    "start_time": "2023-11-15T17:28:13.257Z"
   },
   {
    "duration": 26,
    "start_time": "2023-11-15T17:28:13.506Z"
   },
   {
    "duration": 3,
    "start_time": "2023-11-15T17:28:13.534Z"
   },
   {
    "duration": 39,
    "start_time": "2023-11-15T17:28:13.538Z"
   },
   {
    "duration": 3,
    "start_time": "2023-11-15T17:28:13.579Z"
   },
   {
    "duration": 38,
    "start_time": "2023-11-15T17:28:13.584Z"
   },
   {
    "duration": 18,
    "start_time": "2023-11-15T17:28:13.626Z"
   },
   {
    "duration": 875,
    "start_time": "2023-11-15T17:28:13.646Z"
   },
   {
    "duration": 767,
    "start_time": "2023-11-15T17:28:14.523Z"
   },
   {
    "duration": 7,
    "start_time": "2023-11-15T17:28:15.291Z"
   },
   {
    "duration": 593,
    "start_time": "2023-11-15T17:28:15.300Z"
   },
   {
    "duration": 356,
    "start_time": "2023-11-15T17:28:15.895Z"
   },
   {
    "duration": 7,
    "start_time": "2023-11-15T17:28:16.256Z"
   },
   {
    "duration": 498,
    "start_time": "2023-11-15T17:28:16.264Z"
   },
   {
    "duration": 7,
    "start_time": "2023-11-15T17:28:16.764Z"
   },
   {
    "duration": 372,
    "start_time": "2023-11-15T17:28:16.772Z"
   },
   {
    "duration": 9,
    "start_time": "2023-11-15T17:28:17.147Z"
   },
   {
    "duration": 1241,
    "start_time": "2023-11-15T17:28:17.158Z"
   },
   {
    "duration": 270,
    "start_time": "2023-11-15T17:28:18.400Z"
   },
   {
    "duration": 4,
    "start_time": "2023-11-15T17:28:18.672Z"
   },
   {
    "duration": 7,
    "start_time": "2023-11-15T17:28:18.678Z"
   },
   {
    "duration": 30,
    "start_time": "2023-11-15T17:28:18.687Z"
   },
   {
    "duration": 0,
    "start_time": "2023-11-15T17:28:18.720Z"
   },
   {
    "duration": 14,
    "start_time": "2023-11-15T17:28:26.334Z"
   },
   {
    "duration": 10,
    "start_time": "2023-11-15T17:30:04.078Z"
   },
   {
    "duration": 3,
    "start_time": "2023-11-15T17:31:47.975Z"
   },
   {
    "duration": 5,
    "start_time": "2023-11-15T17:33:29.015Z"
   },
   {
    "duration": 2,
    "start_time": "2023-11-15T17:33:30.294Z"
   },
   {
    "duration": 4,
    "start_time": "2023-11-15T17:33:38.558Z"
   },
   {
    "duration": 2,
    "start_time": "2023-11-15T17:33:41.304Z"
   },
   {
    "duration": 19,
    "start_time": "2023-11-15T17:33:45.903Z"
   },
   {
    "duration": 11,
    "start_time": "2023-11-15T17:35:24.760Z"
   },
   {
    "duration": 5,
    "start_time": "2023-11-15T17:41:59.122Z"
   },
   {
    "duration": 12,
    "start_time": "2023-11-15T18:45:11.193Z"
   },
   {
    "duration": 10,
    "start_time": "2023-11-15T18:47:12.718Z"
   },
   {
    "duration": 10,
    "start_time": "2023-11-15T18:49:02.318Z"
   },
   {
    "duration": 11,
    "start_time": "2023-11-15T18:50:08.324Z"
   },
   {
    "duration": 9,
    "start_time": "2023-11-15T18:50:14.438Z"
   },
   {
    "duration": 13,
    "start_time": "2023-11-15T18:50:48.795Z"
   },
   {
    "duration": 5,
    "start_time": "2023-11-15T18:55:22.744Z"
   },
   {
    "duration": 10,
    "start_time": "2023-11-15T18:56:15.219Z"
   },
   {
    "duration": 10,
    "start_time": "2023-11-15T18:56:39.417Z"
   },
   {
    "duration": 5,
    "start_time": "2023-11-15T18:56:43.567Z"
   },
   {
    "duration": 12,
    "start_time": "2023-11-15T19:19:38.896Z"
   },
   {
    "duration": 7,
    "start_time": "2023-11-15T19:20:13.159Z"
   },
   {
    "duration": 7,
    "start_time": "2023-11-15T19:20:33.791Z"
   },
   {
    "duration": 74,
    "start_time": "2023-11-15T19:21:40.495Z"
   },
   {
    "duration": 16,
    "start_time": "2023-11-15T19:42:50.139Z"
   },
   {
    "duration": 6,
    "start_time": "2023-11-15T19:43:05.754Z"
   },
   {
    "duration": 792,
    "start_time": "2023-11-15T19:43:05.762Z"
   },
   {
    "duration": 58,
    "start_time": "2023-11-15T19:43:06.556Z"
   },
   {
    "duration": 17,
    "start_time": "2023-11-15T19:43:06.616Z"
   },
   {
    "duration": 35,
    "start_time": "2023-11-15T19:43:06.635Z"
   },
   {
    "duration": 23,
    "start_time": "2023-11-15T19:43:06.671Z"
   },
   {
    "duration": 17,
    "start_time": "2023-11-15T19:43:06.695Z"
   },
   {
    "duration": 12,
    "start_time": "2023-11-15T19:43:06.714Z"
   },
   {
    "duration": 19,
    "start_time": "2023-11-15T19:43:06.727Z"
   },
   {
    "duration": 18,
    "start_time": "2023-11-15T19:43:06.747Z"
   },
   {
    "duration": 156,
    "start_time": "2023-11-15T19:43:06.768Z"
   },
   {
    "duration": 5,
    "start_time": "2023-11-15T19:43:06.925Z"
   },
   {
    "duration": 20,
    "start_time": "2023-11-15T19:43:06.932Z"
   },
   {
    "duration": 6,
    "start_time": "2023-11-15T19:43:06.953Z"
   },
   {
    "duration": 6,
    "start_time": "2023-11-15T19:43:06.960Z"
   },
   {
    "duration": 14,
    "start_time": "2023-11-15T19:43:06.968Z"
   },
   {
    "duration": 240,
    "start_time": "2023-11-15T19:43:06.983Z"
   },
   {
    "duration": 18,
    "start_time": "2023-11-15T19:43:07.224Z"
   },
   {
    "duration": 3,
    "start_time": "2023-11-15T19:43:07.244Z"
   },
   {
    "duration": 64,
    "start_time": "2023-11-15T19:43:07.249Z"
   },
   {
    "duration": 4,
    "start_time": "2023-11-15T19:43:07.315Z"
   },
   {
    "duration": 16,
    "start_time": "2023-11-15T19:43:07.321Z"
   },
   {
    "duration": 13,
    "start_time": "2023-11-15T19:43:07.339Z"
   },
   {
    "duration": 963,
    "start_time": "2023-11-15T19:43:07.354Z"
   },
   {
    "duration": 696,
    "start_time": "2023-11-15T19:43:08.319Z"
   },
   {
    "duration": 7,
    "start_time": "2023-11-15T19:43:09.016Z"
   },
   {
    "duration": 550,
    "start_time": "2023-11-15T19:43:09.025Z"
   },
   {
    "duration": 315,
    "start_time": "2023-11-15T19:43:09.576Z"
   },
   {
    "duration": 7,
    "start_time": "2023-11-15T19:43:09.895Z"
   },
   {
    "duration": 334,
    "start_time": "2023-11-15T19:43:09.911Z"
   },
   {
    "duration": 7,
    "start_time": "2023-11-15T19:43:10.247Z"
   },
   {
    "duration": 369,
    "start_time": "2023-11-15T19:43:10.256Z"
   },
   {
    "duration": 9,
    "start_time": "2023-11-15T19:43:10.627Z"
   },
   {
    "duration": 1195,
    "start_time": "2023-11-15T19:43:10.637Z"
   },
   {
    "duration": 233,
    "start_time": "2023-11-15T19:43:11.834Z"
   },
   {
    "duration": 4,
    "start_time": "2023-11-15T19:43:12.069Z"
   },
   {
    "duration": 5,
    "start_time": "2023-11-15T19:43:12.075Z"
   },
   {
    "duration": 4,
    "start_time": "2023-11-15T19:43:12.081Z"
   },
   {
    "duration": 4,
    "start_time": "2023-11-15T19:43:12.086Z"
   },
   {
    "duration": 20,
    "start_time": "2023-11-15T19:43:12.091Z"
   },
   {
    "duration": 20,
    "start_time": "2023-11-15T19:43:12.112Z"
   },
   {
    "duration": 0,
    "start_time": "2023-11-15T19:43:12.133Z"
   },
   {
    "duration": 0,
    "start_time": "2023-11-15T19:43:12.134Z"
   },
   {
    "duration": 0,
    "start_time": "2023-11-15T19:43:12.135Z"
   },
   {
    "duration": 0,
    "start_time": "2023-11-15T19:43:12.136Z"
   },
   {
    "duration": 0,
    "start_time": "2023-11-15T19:43:12.137Z"
   },
   {
    "duration": 0,
    "start_time": "2023-11-15T19:43:12.138Z"
   },
   {
    "duration": 0,
    "start_time": "2023-11-15T19:43:12.140Z"
   },
   {
    "duration": 0,
    "start_time": "2023-11-15T19:43:12.141Z"
   },
   {
    "duration": 0,
    "start_time": "2023-11-15T19:43:12.142Z"
   },
   {
    "duration": 0,
    "start_time": "2023-11-15T19:43:12.143Z"
   },
   {
    "duration": 0,
    "start_time": "2023-11-15T19:43:12.144Z"
   },
   {
    "duration": 0,
    "start_time": "2023-11-15T19:43:12.145Z"
   },
   {
    "duration": 0,
    "start_time": "2023-11-15T19:43:12.146Z"
   },
   {
    "duration": 16,
    "start_time": "2023-11-15T19:43:48.581Z"
   },
   {
    "duration": 6,
    "start_time": "2023-11-15T19:44:05.196Z"
   },
   {
    "duration": 9,
    "start_time": "2023-11-15T19:44:31.253Z"
   },
   {
    "duration": 12,
    "start_time": "2023-11-15T19:44:49.476Z"
   },
   {
    "duration": 216,
    "start_time": "2023-11-15T19:45:03.196Z"
   },
   {
    "duration": 13,
    "start_time": "2023-11-15T19:45:59.216Z"
   },
   {
    "duration": 11,
    "start_time": "2023-11-15T19:54:54.473Z"
   },
   {
    "duration": 5,
    "start_time": "2023-11-15T19:55:00.076Z"
   },
   {
    "duration": 769,
    "start_time": "2023-11-15T19:55:00.086Z"
   },
   {
    "duration": 56,
    "start_time": "2023-11-15T19:55:00.857Z"
   },
   {
    "duration": 18,
    "start_time": "2023-11-15T19:55:00.914Z"
   },
   {
    "duration": 61,
    "start_time": "2023-11-15T19:55:00.934Z"
   },
   {
    "duration": 47,
    "start_time": "2023-11-15T19:55:00.996Z"
   },
   {
    "duration": 30,
    "start_time": "2023-11-15T19:55:01.045Z"
   },
   {
    "duration": 33,
    "start_time": "2023-11-15T19:55:01.077Z"
   },
   {
    "duration": 35,
    "start_time": "2023-11-15T19:55:01.112Z"
   },
   {
    "duration": 28,
    "start_time": "2023-11-15T19:55:01.149Z"
   },
   {
    "duration": 160,
    "start_time": "2023-11-15T19:55:01.181Z"
   },
   {
    "duration": 6,
    "start_time": "2023-11-15T19:55:01.343Z"
   },
   {
    "duration": 47,
    "start_time": "2023-11-15T19:55:01.351Z"
   },
   {
    "duration": 68,
    "start_time": "2023-11-15T19:55:01.399Z"
   },
   {
    "duration": 50,
    "start_time": "2023-11-15T19:55:01.469Z"
   },
   {
    "duration": 56,
    "start_time": "2023-11-15T19:55:01.520Z"
   },
   {
    "duration": 250,
    "start_time": "2023-11-15T19:55:01.578Z"
   },
   {
    "duration": 15,
    "start_time": "2023-11-15T19:55:01.830Z"
   },
   {
    "duration": 55,
    "start_time": "2023-11-15T19:55:01.846Z"
   },
   {
    "duration": 73,
    "start_time": "2023-11-15T19:55:01.902Z"
   },
   {
    "duration": 42,
    "start_time": "2023-11-15T19:55:01.977Z"
   },
   {
    "duration": 34,
    "start_time": "2023-11-15T19:55:02.024Z"
   },
   {
    "duration": 74,
    "start_time": "2023-11-15T19:55:02.060Z"
   },
   {
    "duration": 817,
    "start_time": "2023-11-15T19:55:02.136Z"
   },
   {
    "duration": 659,
    "start_time": "2023-11-15T19:55:02.955Z"
   },
   {
    "duration": 8,
    "start_time": "2023-11-15T19:55:03.615Z"
   },
   {
    "duration": 525,
    "start_time": "2023-11-15T19:55:03.624Z"
   },
   {
    "duration": 306,
    "start_time": "2023-11-15T19:55:04.151Z"
   },
   {
    "duration": 8,
    "start_time": "2023-11-15T19:55:04.460Z"
   },
   {
    "duration": 443,
    "start_time": "2023-11-15T19:55:04.469Z"
   },
   {
    "duration": 7,
    "start_time": "2023-11-15T19:55:04.913Z"
   },
   {
    "duration": 312,
    "start_time": "2023-11-15T19:55:04.922Z"
   },
   {
    "duration": 10,
    "start_time": "2023-11-15T19:55:05.236Z"
   },
   {
    "duration": 1092,
    "start_time": "2023-11-15T19:55:05.247Z"
   },
   {
    "duration": 228,
    "start_time": "2023-11-15T19:55:06.341Z"
   },
   {
    "duration": 4,
    "start_time": "2023-11-15T19:55:06.571Z"
   },
   {
    "duration": 5,
    "start_time": "2023-11-15T19:55:06.577Z"
   },
   {
    "duration": 4,
    "start_time": "2023-11-15T19:55:06.584Z"
   },
   {
    "duration": 21,
    "start_time": "2023-11-15T19:55:06.589Z"
   },
   {
    "duration": 9,
    "start_time": "2023-11-15T19:55:06.612Z"
   },
   {
    "duration": 11,
    "start_time": "2023-11-15T19:55:06.623Z"
   },
   {
    "duration": 18,
    "start_time": "2023-11-15T19:55:06.636Z"
   },
   {
    "duration": 14,
    "start_time": "2023-11-15T19:55:06.655Z"
   },
   {
    "duration": 241,
    "start_time": "2023-11-15T19:55:06.671Z"
   },
   {
    "duration": 10,
    "start_time": "2023-11-15T19:55:06.913Z"
   },
   {
    "duration": 0,
    "start_time": "2023-11-15T19:55:06.925Z"
   },
   {
    "duration": 0,
    "start_time": "2023-11-15T19:55:06.926Z"
   },
   {
    "duration": 0,
    "start_time": "2023-11-15T19:55:06.927Z"
   },
   {
    "duration": 0,
    "start_time": "2023-11-15T19:55:06.928Z"
   },
   {
    "duration": 0,
    "start_time": "2023-11-15T19:55:06.930Z"
   },
   {
    "duration": 0,
    "start_time": "2023-11-15T19:55:06.931Z"
   },
   {
    "duration": 0,
    "start_time": "2023-11-15T19:55:06.931Z"
   },
   {
    "duration": 0,
    "start_time": "2023-11-15T19:55:06.933Z"
   },
   {
    "duration": 0,
    "start_time": "2023-11-15T19:55:06.934Z"
   },
   {
    "duration": 0,
    "start_time": "2023-11-15T19:55:06.935Z"
   },
   {
    "duration": 36,
    "start_time": "2023-11-15T19:56:02.855Z"
   },
   {
    "duration": 5,
    "start_time": "2023-11-15T19:56:19.551Z"
   },
   {
    "duration": 6226,
    "start_time": "2023-11-15T19:56:29.050Z"
   },
   {
    "duration": 5,
    "start_time": "2023-11-15T19:56:36.929Z"
   },
   {
    "duration": 813,
    "start_time": "2023-11-15T19:56:36.937Z"
   },
   {
    "duration": 61,
    "start_time": "2023-11-15T19:56:37.752Z"
   },
   {
    "duration": 19,
    "start_time": "2023-11-15T19:56:37.814Z"
   },
   {
    "duration": 48,
    "start_time": "2023-11-15T19:56:37.836Z"
   },
   {
    "duration": 49,
    "start_time": "2023-11-15T19:56:37.886Z"
   },
   {
    "duration": 5,
    "start_time": "2023-11-15T19:56:37.938Z"
   },
   {
    "duration": 5,
    "start_time": "2023-11-15T19:56:37.945Z"
   },
   {
    "duration": 9,
    "start_time": "2023-11-15T19:56:37.952Z"
   },
   {
    "duration": 4,
    "start_time": "2023-11-15T19:56:37.962Z"
   },
   {
    "duration": 198,
    "start_time": "2023-11-15T19:56:37.969Z"
   },
   {
    "duration": 4,
    "start_time": "2023-11-15T19:56:38.169Z"
   },
   {
    "duration": 6,
    "start_time": "2023-11-15T19:56:38.175Z"
   },
   {
    "duration": 4,
    "start_time": "2023-11-15T19:56:38.183Z"
   },
   {
    "duration": 23,
    "start_time": "2023-11-15T19:56:38.188Z"
   },
   {
    "duration": 23,
    "start_time": "2023-11-15T19:56:38.213Z"
   },
   {
    "duration": 259,
    "start_time": "2023-11-15T19:56:38.237Z"
   },
   {
    "duration": 26,
    "start_time": "2023-11-15T19:56:38.499Z"
   },
   {
    "duration": 3,
    "start_time": "2023-11-15T19:56:38.528Z"
   },
   {
    "duration": 41,
    "start_time": "2023-11-15T19:56:38.532Z"
   },
   {
    "duration": 7,
    "start_time": "2023-11-15T19:56:38.575Z"
   },
   {
    "duration": 5,
    "start_time": "2023-11-15T19:56:38.611Z"
   },
   {
    "duration": 12,
    "start_time": "2023-11-15T19:56:38.618Z"
   },
   {
    "duration": 937,
    "start_time": "2023-11-15T19:56:38.632Z"
   },
   {
    "duration": 729,
    "start_time": "2023-11-15T19:56:39.571Z"
   },
   {
    "duration": 11,
    "start_time": "2023-11-15T19:56:40.302Z"
   },
   {
    "duration": 510,
    "start_time": "2023-11-15T19:56:40.315Z"
   },
   {
    "duration": 309,
    "start_time": "2023-11-15T19:56:40.827Z"
   },
   {
    "duration": 7,
    "start_time": "2023-11-15T19:56:41.141Z"
   },
   {
    "duration": 331,
    "start_time": "2023-11-15T19:56:41.149Z"
   },
   {
    "duration": 8,
    "start_time": "2023-11-15T19:56:41.481Z"
   },
   {
    "duration": 336,
    "start_time": "2023-11-15T19:56:41.491Z"
   },
   {
    "duration": 8,
    "start_time": "2023-11-15T19:56:41.829Z"
   },
   {
    "duration": 1239,
    "start_time": "2023-11-15T19:56:41.839Z"
   },
   {
    "duration": 224,
    "start_time": "2023-11-15T19:56:43.080Z"
   },
   {
    "duration": 6,
    "start_time": "2023-11-15T19:56:43.306Z"
   },
   {
    "duration": 5,
    "start_time": "2023-11-15T19:56:43.314Z"
   },
   {
    "duration": 10,
    "start_time": "2023-11-15T19:56:43.321Z"
   },
   {
    "duration": 4,
    "start_time": "2023-11-15T19:56:43.332Z"
   },
   {
    "duration": 5,
    "start_time": "2023-11-15T19:56:43.338Z"
   },
   {
    "duration": 7,
    "start_time": "2023-11-15T19:56:43.344Z"
   },
   {
    "duration": 15,
    "start_time": "2023-11-15T19:56:43.352Z"
   },
   {
    "duration": 44,
    "start_time": "2023-11-15T19:56:43.370Z"
   },
   {
    "duration": 225,
    "start_time": "2023-11-15T19:56:43.416Z"
   },
   {
    "duration": 37,
    "start_time": "2023-11-15T19:56:43.643Z"
   },
   {
    "duration": 7,
    "start_time": "2023-11-15T19:56:43.681Z"
   },
   {
    "duration": 6082,
    "start_time": "2023-11-15T19:56:43.690Z"
   },
   {
    "duration": 4,
    "start_time": "2023-11-15T19:56:49.774Z"
   },
   {
    "duration": 10,
    "start_time": "2023-11-15T19:56:49.779Z"
   },
   {
    "duration": 1,
    "start_time": "2023-11-15T19:56:49.790Z"
   },
   {
    "duration": 0,
    "start_time": "2023-11-15T19:56:49.811Z"
   },
   {
    "duration": 0,
    "start_time": "2023-11-15T19:56:49.812Z"
   },
   {
    "duration": 0,
    "start_time": "2023-11-15T19:56:49.814Z"
   },
   {
    "duration": 0,
    "start_time": "2023-11-15T19:56:49.815Z"
   },
   {
    "duration": 0,
    "start_time": "2023-11-15T19:56:49.817Z"
   },
   {
    "duration": 125,
    "start_time": "2023-11-15T20:00:31.321Z"
   },
   {
    "duration": 850,
    "start_time": "2023-11-15T20:00:31.448Z"
   },
   {
    "duration": 48,
    "start_time": "2023-11-15T20:00:32.300Z"
   },
   {
    "duration": 18,
    "start_time": "2023-11-15T20:00:32.350Z"
   },
   {
    "duration": 67,
    "start_time": "2023-11-15T20:00:32.371Z"
   },
   {
    "duration": 28,
    "start_time": "2023-11-15T20:00:32.440Z"
   },
   {
    "duration": 13,
    "start_time": "2023-11-15T20:00:32.470Z"
   },
   {
    "duration": 19,
    "start_time": "2023-11-15T20:00:32.487Z"
   },
   {
    "duration": 16,
    "start_time": "2023-11-15T20:00:32.508Z"
   },
   {
    "duration": 5,
    "start_time": "2023-11-15T20:00:32.526Z"
   },
   {
    "duration": 154,
    "start_time": "2023-11-15T20:00:32.532Z"
   },
   {
    "duration": 5,
    "start_time": "2023-11-15T20:00:32.688Z"
   },
   {
    "duration": 18,
    "start_time": "2023-11-15T20:00:32.695Z"
   },
   {
    "duration": 4,
    "start_time": "2023-11-15T20:00:32.715Z"
   },
   {
    "duration": 7,
    "start_time": "2023-11-15T20:00:32.721Z"
   },
   {
    "duration": 16,
    "start_time": "2023-11-15T20:00:32.731Z"
   },
   {
    "duration": 280,
    "start_time": "2023-11-15T20:00:32.749Z"
   },
   {
    "duration": 17,
    "start_time": "2023-11-15T20:00:33.031Z"
   },
   {
    "duration": 6,
    "start_time": "2023-11-15T20:00:33.050Z"
   },
   {
    "duration": 59,
    "start_time": "2023-11-15T20:00:33.058Z"
   },
   {
    "duration": 3,
    "start_time": "2023-11-15T20:00:33.119Z"
   },
   {
    "duration": 7,
    "start_time": "2023-11-15T20:00:33.123Z"
   },
   {
    "duration": 12,
    "start_time": "2023-11-15T20:00:33.131Z"
   },
   {
    "duration": 853,
    "start_time": "2023-11-15T20:00:33.145Z"
   },
   {
    "duration": 729,
    "start_time": "2023-11-15T20:00:34.000Z"
   },
   {
    "duration": 8,
    "start_time": "2023-11-15T20:00:34.733Z"
   },
   {
    "duration": 588,
    "start_time": "2023-11-15T20:00:34.742Z"
   },
   {
    "duration": 460,
    "start_time": "2023-11-15T20:00:35.332Z"
   },
   {
    "duration": 17,
    "start_time": "2023-11-15T20:00:35.795Z"
   },
   {
    "duration": 356,
    "start_time": "2023-11-15T20:00:35.814Z"
   },
   {
    "duration": 8,
    "start_time": "2023-11-15T20:00:36.172Z"
   },
   {
    "duration": 357,
    "start_time": "2023-11-15T20:00:36.183Z"
   },
   {
    "duration": 9,
    "start_time": "2023-11-15T20:00:36.542Z"
   },
   {
    "duration": 1158,
    "start_time": "2023-11-15T20:00:36.553Z"
   },
   {
    "duration": 243,
    "start_time": "2023-11-15T20:00:37.712Z"
   },
   {
    "duration": 6,
    "start_time": "2023-11-15T20:00:37.958Z"
   },
   {
    "duration": 16,
    "start_time": "2023-11-15T20:00:37.966Z"
   },
   {
    "duration": 13,
    "start_time": "2023-11-15T20:00:37.983Z"
   },
   {
    "duration": 14,
    "start_time": "2023-11-15T20:00:37.997Z"
   },
   {
    "duration": 30,
    "start_time": "2023-11-15T20:00:38.013Z"
   },
   {
    "duration": 22,
    "start_time": "2023-11-15T20:00:38.045Z"
   },
   {
    "duration": 24,
    "start_time": "2023-11-15T20:00:38.068Z"
   },
   {
    "duration": 28,
    "start_time": "2023-11-15T20:00:38.094Z"
   },
   {
    "duration": 266,
    "start_time": "2023-11-15T20:00:38.124Z"
   },
   {
    "duration": 48,
    "start_time": "2023-11-15T20:00:38.392Z"
   },
   {
    "duration": 9,
    "start_time": "2023-11-15T20:00:38.441Z"
   },
   {
    "duration": 6349,
    "start_time": "2023-11-15T20:00:38.452Z"
   },
   {
    "duration": 4,
    "start_time": "2023-11-15T20:00:44.810Z"
   },
   {
    "duration": 4,
    "start_time": "2023-11-15T20:00:58.845Z"
   },
   {
    "duration": 20,
    "start_time": "2023-11-15T20:00:58.850Z"
   },
   {
    "duration": 0,
    "start_time": "2023-11-15T20:00:58.872Z"
   },
   {
    "duration": 0,
    "start_time": "2023-11-15T20:00:58.874Z"
   },
   {
    "duration": 0,
    "start_time": "2023-11-15T20:00:58.875Z"
   },
   {
    "duration": 0,
    "start_time": "2023-11-15T20:00:58.875Z"
   },
   {
    "duration": 0,
    "start_time": "2023-11-15T20:00:58.877Z"
   },
   {
    "duration": 11,
    "start_time": "2023-11-15T20:01:57.608Z"
   },
   {
    "duration": 6,
    "start_time": "2023-11-15T20:02:02.136Z"
   },
   {
    "duration": 801,
    "start_time": "2023-11-15T20:02:02.144Z"
   },
   {
    "duration": 64,
    "start_time": "2023-11-15T20:02:02.947Z"
   },
   {
    "duration": 17,
    "start_time": "2023-11-15T20:02:03.013Z"
   },
   {
    "duration": 29,
    "start_time": "2023-11-15T20:02:03.032Z"
   },
   {
    "duration": 17,
    "start_time": "2023-11-15T20:02:03.063Z"
   },
   {
    "duration": 5,
    "start_time": "2023-11-15T20:02:03.081Z"
   },
   {
    "duration": 2,
    "start_time": "2023-11-15T20:02:03.112Z"
   },
   {
    "duration": 9,
    "start_time": "2023-11-15T20:02:03.117Z"
   },
   {
    "duration": 4,
    "start_time": "2023-11-15T20:02:03.128Z"
   },
   {
    "duration": 165,
    "start_time": "2023-11-15T20:02:03.136Z"
   },
   {
    "duration": 10,
    "start_time": "2023-11-15T20:02:03.302Z"
   },
   {
    "duration": 8,
    "start_time": "2023-11-15T20:02:03.314Z"
   },
   {
    "duration": 7,
    "start_time": "2023-11-15T20:02:03.324Z"
   },
   {
    "duration": 26,
    "start_time": "2023-11-15T20:02:03.333Z"
   },
   {
    "duration": 22,
    "start_time": "2023-11-15T20:02:03.361Z"
   },
   {
    "duration": 248,
    "start_time": "2023-11-15T20:02:03.385Z"
   },
   {
    "duration": 19,
    "start_time": "2023-11-15T20:02:03.635Z"
   },
   {
    "duration": 3,
    "start_time": "2023-11-15T20:02:03.655Z"
   },
   {
    "duration": 53,
    "start_time": "2023-11-15T20:02:03.659Z"
   },
   {
    "duration": 3,
    "start_time": "2023-11-15T20:02:03.714Z"
   },
   {
    "duration": 6,
    "start_time": "2023-11-15T20:02:03.718Z"
   },
   {
    "duration": 12,
    "start_time": "2023-11-15T20:02:03.725Z"
   },
   {
    "duration": 917,
    "start_time": "2023-11-15T20:02:03.739Z"
   },
   {
    "duration": 738,
    "start_time": "2023-11-15T20:02:04.657Z"
   },
   {
    "duration": 7,
    "start_time": "2023-11-15T20:02:05.396Z"
   },
   {
    "duration": 514,
    "start_time": "2023-11-15T20:02:05.405Z"
   },
   {
    "duration": 297,
    "start_time": "2023-11-15T20:02:05.921Z"
   },
   {
    "duration": 9,
    "start_time": "2023-11-15T20:02:06.224Z"
   },
   {
    "duration": 331,
    "start_time": "2023-11-15T20:02:06.235Z"
   },
   {
    "duration": 7,
    "start_time": "2023-11-15T20:02:06.568Z"
   },
   {
    "duration": 315,
    "start_time": "2023-11-15T20:02:06.576Z"
   },
   {
    "duration": 18,
    "start_time": "2023-11-15T20:02:06.893Z"
   },
   {
    "duration": 1193,
    "start_time": "2023-11-15T20:02:06.912Z"
   },
   {
    "duration": 223,
    "start_time": "2023-11-15T20:02:08.111Z"
   },
   {
    "duration": 5,
    "start_time": "2023-11-15T20:02:08.336Z"
   },
   {
    "duration": 10,
    "start_time": "2023-11-15T20:02:08.343Z"
   },
   {
    "duration": 3,
    "start_time": "2023-11-15T20:02:08.355Z"
   },
   {
    "duration": 3,
    "start_time": "2023-11-15T20:02:08.361Z"
   },
   {
    "duration": 6,
    "start_time": "2023-11-15T20:02:08.365Z"
   },
   {
    "duration": 12,
    "start_time": "2023-11-15T20:02:08.373Z"
   },
   {
    "duration": 35,
    "start_time": "2023-11-15T20:02:08.386Z"
   },
   {
    "duration": 13,
    "start_time": "2023-11-15T20:02:08.422Z"
   },
   {
    "duration": 267,
    "start_time": "2023-11-15T20:02:08.436Z"
   },
   {
    "duration": 7,
    "start_time": "2023-11-15T20:02:08.705Z"
   },
   {
    "duration": 9,
    "start_time": "2023-11-15T20:02:08.713Z"
   },
   {
    "duration": 13598,
    "start_time": "2023-11-15T20:02:08.724Z"
   },
   {
    "duration": 4,
    "start_time": "2023-11-15T20:02:22.324Z"
   },
   {
    "duration": 5,
    "start_time": "2023-11-15T20:02:35.840Z"
   },
   {
    "duration": 15,
    "start_time": "2023-11-15T20:02:35.846Z"
   },
   {
    "duration": 0,
    "start_time": "2023-11-15T20:02:35.862Z"
   },
   {
    "duration": 0,
    "start_time": "2023-11-15T20:02:35.863Z"
   },
   {
    "duration": 0,
    "start_time": "2023-11-15T20:02:35.864Z"
   },
   {
    "duration": 0,
    "start_time": "2023-11-15T20:02:35.866Z"
   },
   {
    "duration": 0,
    "start_time": "2023-11-15T20:02:35.867Z"
   },
   {
    "duration": 13531,
    "start_time": "2023-11-15T20:02:55.705Z"
   },
   {
    "duration": 1548,
    "start_time": "2023-11-15T20:04:17.895Z"
   },
   {
    "duration": 782,
    "start_time": "2023-11-15T20:04:19.444Z"
   },
   {
    "duration": 46,
    "start_time": "2023-11-15T20:04:20.227Z"
   },
   {
    "duration": 44,
    "start_time": "2023-11-15T20:04:20.274Z"
   },
   {
    "duration": 29,
    "start_time": "2023-11-15T20:04:20.320Z"
   },
   {
    "duration": 18,
    "start_time": "2023-11-15T20:04:20.350Z"
   },
   {
    "duration": 3,
    "start_time": "2023-11-15T20:04:20.370Z"
   },
   {
    "duration": 8,
    "start_time": "2023-11-15T20:04:20.374Z"
   },
   {
    "duration": 34,
    "start_time": "2023-11-15T20:04:20.384Z"
   },
   {
    "duration": 4,
    "start_time": "2023-11-15T20:04:20.421Z"
   },
   {
    "duration": 154,
    "start_time": "2023-11-15T20:04:20.427Z"
   },
   {
    "duration": 4,
    "start_time": "2023-11-15T20:04:20.582Z"
   },
   {
    "duration": 5,
    "start_time": "2023-11-15T20:04:20.588Z"
   },
   {
    "duration": 19,
    "start_time": "2023-11-15T20:04:20.594Z"
   },
   {
    "duration": 10,
    "start_time": "2023-11-15T20:04:20.615Z"
   },
   {
    "duration": 13,
    "start_time": "2023-11-15T20:04:20.627Z"
   },
   {
    "duration": 237,
    "start_time": "2023-11-15T20:04:20.642Z"
   },
   {
    "duration": 34,
    "start_time": "2023-11-15T20:04:20.881Z"
   },
   {
    "duration": 2,
    "start_time": "2023-11-15T20:04:20.916Z"
   },
   {
    "duration": 39,
    "start_time": "2023-11-15T20:04:20.920Z"
   },
   {
    "duration": 3,
    "start_time": "2023-11-15T20:04:20.960Z"
   },
   {
    "duration": 6,
    "start_time": "2023-11-15T20:04:20.965Z"
   },
   {
    "duration": 39,
    "start_time": "2023-11-15T20:04:20.972Z"
   },
   {
    "duration": 853,
    "start_time": "2023-11-15T20:04:21.013Z"
   },
   {
    "duration": 770,
    "start_time": "2023-11-15T20:04:21.868Z"
   },
   {
    "duration": 8,
    "start_time": "2023-11-15T20:04:22.639Z"
   },
   {
    "duration": 521,
    "start_time": "2023-11-15T20:04:22.648Z"
   },
   {
    "duration": 304,
    "start_time": "2023-11-15T20:04:23.173Z"
   },
   {
    "duration": 7,
    "start_time": "2023-11-15T20:04:23.478Z"
   },
   {
    "duration": 337,
    "start_time": "2023-11-15T20:04:23.487Z"
   },
   {
    "duration": 7,
    "start_time": "2023-11-15T20:04:23.825Z"
   },
   {
    "duration": 312,
    "start_time": "2023-11-15T20:04:23.834Z"
   },
   {
    "duration": 12,
    "start_time": "2023-11-15T20:04:24.148Z"
   },
   {
    "duration": 1222,
    "start_time": "2023-11-15T20:04:24.162Z"
   },
   {
    "duration": 241,
    "start_time": "2023-11-15T20:04:25.385Z"
   },
   {
    "duration": 4,
    "start_time": "2023-11-15T20:04:25.628Z"
   },
   {
    "duration": 7,
    "start_time": "2023-11-15T20:04:25.634Z"
   },
   {
    "duration": 5,
    "start_time": "2023-11-15T20:04:25.642Z"
   },
   {
    "duration": 13,
    "start_time": "2023-11-15T20:04:25.649Z"
   },
   {
    "duration": 7,
    "start_time": "2023-11-15T20:04:25.664Z"
   },
   {
    "duration": 10,
    "start_time": "2023-11-15T20:04:25.672Z"
   },
   {
    "duration": 30,
    "start_time": "2023-11-15T20:04:25.684Z"
   },
   {
    "duration": 13,
    "start_time": "2023-11-15T20:04:25.715Z"
   },
   {
    "duration": 251,
    "start_time": "2023-11-15T20:04:25.730Z"
   },
   {
    "duration": 130,
    "start_time": "2023-11-15T20:04:25.983Z"
   },
   {
    "duration": 0,
    "start_time": "2023-11-15T20:04:26.115Z"
   },
   {
    "duration": 0,
    "start_time": "2023-11-15T20:04:26.116Z"
   },
   {
    "duration": 0,
    "start_time": "2023-11-15T20:04:26.118Z"
   },
   {
    "duration": 0,
    "start_time": "2023-11-15T20:04:26.119Z"
   },
   {
    "duration": 0,
    "start_time": "2023-11-15T20:04:26.121Z"
   },
   {
    "duration": 0,
    "start_time": "2023-11-15T20:04:26.122Z"
   },
   {
    "duration": 0,
    "start_time": "2023-11-15T20:04:26.124Z"
   },
   {
    "duration": 0,
    "start_time": "2023-11-15T20:04:26.125Z"
   },
   {
    "duration": 0,
    "start_time": "2023-11-15T20:04:26.127Z"
   },
   {
    "duration": 0,
    "start_time": "2023-11-15T20:04:26.129Z"
   },
   {
    "duration": 14,
    "start_time": "2023-11-15T20:05:22.232Z"
   },
   {
    "duration": 42,
    "start_time": "2023-11-15T20:05:32.195Z"
   },
   {
    "duration": 6,
    "start_time": "2023-11-15T20:05:51.545Z"
   },
   {
    "duration": 6013,
    "start_time": "2023-11-15T20:06:07.558Z"
   },
   {
    "duration": 13930,
    "start_time": "2023-11-15T20:06:25.110Z"
   },
   {
    "duration": 4,
    "start_time": "2023-11-15T20:06:39.042Z"
   },
   {
    "duration": 1456,
    "start_time": "2023-11-15T20:09:50.672Z"
   },
   {
    "duration": 792,
    "start_time": "2023-11-15T20:09:52.130Z"
   },
   {
    "duration": 52,
    "start_time": "2023-11-15T20:09:52.924Z"
   },
   {
    "duration": 49,
    "start_time": "2023-11-15T20:09:52.979Z"
   },
   {
    "duration": 29,
    "start_time": "2023-11-15T20:09:53.030Z"
   },
   {
    "duration": 25,
    "start_time": "2023-11-15T20:09:53.061Z"
   },
   {
    "duration": 4,
    "start_time": "2023-11-15T20:09:53.110Z"
   },
   {
    "duration": 25,
    "start_time": "2023-11-15T20:09:53.116Z"
   },
   {
    "duration": 24,
    "start_time": "2023-11-15T20:09:53.143Z"
   },
   {
    "duration": 10,
    "start_time": "2023-11-15T20:09:53.171Z"
   },
   {
    "duration": 155,
    "start_time": "2023-11-15T20:09:53.183Z"
   },
   {
    "duration": 5,
    "start_time": "2023-11-15T20:09:53.340Z"
   },
   {
    "duration": 23,
    "start_time": "2023-11-15T20:09:53.347Z"
   },
   {
    "duration": 7,
    "start_time": "2023-11-15T20:09:53.372Z"
   },
   {
    "duration": 31,
    "start_time": "2023-11-15T20:09:53.381Z"
   },
   {
    "duration": 16,
    "start_time": "2023-11-15T20:09:53.414Z"
   },
   {
    "duration": 251,
    "start_time": "2023-11-15T20:09:53.432Z"
   },
   {
    "duration": 29,
    "start_time": "2023-11-15T20:09:53.685Z"
   },
   {
    "duration": 2,
    "start_time": "2023-11-15T20:09:53.715Z"
   },
   {
    "duration": 59,
    "start_time": "2023-11-15T20:09:53.719Z"
   },
   {
    "duration": 3,
    "start_time": "2023-11-15T20:09:53.780Z"
   },
   {
    "duration": 36,
    "start_time": "2023-11-15T20:09:53.784Z"
   },
   {
    "duration": 23,
    "start_time": "2023-11-15T20:09:53.822Z"
   },
   {
    "duration": 818,
    "start_time": "2023-11-15T20:09:53.847Z"
   },
   {
    "duration": 719,
    "start_time": "2023-11-15T20:09:54.667Z"
   },
   {
    "duration": 8,
    "start_time": "2023-11-15T20:09:55.388Z"
   },
   {
    "duration": 518,
    "start_time": "2023-11-15T20:09:55.397Z"
   },
   {
    "duration": 319,
    "start_time": "2023-11-15T20:09:55.919Z"
   },
   {
    "duration": 6,
    "start_time": "2023-11-15T20:09:56.240Z"
   },
   {
    "duration": 337,
    "start_time": "2023-11-15T20:09:56.248Z"
   },
   {
    "duration": 7,
    "start_time": "2023-11-15T20:09:56.586Z"
   },
   {
    "duration": 298,
    "start_time": "2023-11-15T20:09:56.594Z"
   },
   {
    "duration": 19,
    "start_time": "2023-11-15T20:09:56.894Z"
   },
   {
    "duration": 1198,
    "start_time": "2023-11-15T20:09:56.915Z"
   },
   {
    "duration": 224,
    "start_time": "2023-11-15T20:09:58.115Z"
   },
   {
    "duration": 4,
    "start_time": "2023-11-15T20:09:58.341Z"
   },
   {
    "duration": 11,
    "start_time": "2023-11-15T20:09:58.347Z"
   },
   {
    "duration": 12,
    "start_time": "2023-11-15T20:09:58.360Z"
   },
   {
    "duration": 6,
    "start_time": "2023-11-15T20:09:58.374Z"
   },
   {
    "duration": 6,
    "start_time": "2023-11-15T20:09:58.382Z"
   },
   {
    "duration": 12,
    "start_time": "2023-11-15T20:09:58.389Z"
   },
   {
    "duration": 17,
    "start_time": "2023-11-15T20:09:58.403Z"
   },
   {
    "duration": 12,
    "start_time": "2023-11-15T20:09:58.422Z"
   },
   {
    "duration": 255,
    "start_time": "2023-11-15T20:09:58.435Z"
   },
   {
    "duration": 49,
    "start_time": "2023-11-15T20:09:58.692Z"
   },
   {
    "duration": 5,
    "start_time": "2023-11-15T20:09:58.743Z"
   },
   {
    "duration": 4,
    "start_time": "2023-11-15T20:09:58.750Z"
   },
   {
    "duration": 0,
    "start_time": "2023-11-15T20:09:58.755Z"
   },
   {
    "duration": 0,
    "start_time": "2023-11-15T20:09:58.757Z"
   },
   {
    "duration": 0,
    "start_time": "2023-11-15T20:09:58.758Z"
   },
   {
    "duration": 0,
    "start_time": "2023-11-15T20:09:58.759Z"
   },
   {
    "duration": 0,
    "start_time": "2023-11-15T20:09:58.761Z"
   },
   {
    "duration": 1,
    "start_time": "2023-11-15T20:09:58.761Z"
   },
   {
    "duration": 0,
    "start_time": "2023-11-15T20:09:58.762Z"
   },
   {
    "duration": 0,
    "start_time": "2023-11-15T20:09:58.764Z"
   },
   {
    "duration": 104,
    "start_time": "2023-11-15T20:10:18.590Z"
   },
   {
    "duration": 6245,
    "start_time": "2023-11-15T20:10:30.147Z"
   },
   {
    "duration": 5,
    "start_time": "2023-11-15T20:10:47.838Z"
   },
   {
    "duration": 13315,
    "start_time": "2023-11-15T20:11:04.615Z"
   },
   {
    "duration": 5,
    "start_time": "2023-11-15T20:11:27.726Z"
   },
   {
    "duration": 1614,
    "start_time": "2023-11-15T20:15:57.234Z"
   },
   {
    "duration": 807,
    "start_time": "2023-11-15T20:15:58.849Z"
   },
   {
    "duration": 69,
    "start_time": "2023-11-15T20:15:59.657Z"
   },
   {
    "duration": 20,
    "start_time": "2023-11-15T20:15:59.728Z"
   },
   {
    "duration": 32,
    "start_time": "2023-11-15T20:15:59.750Z"
   },
   {
    "duration": 42,
    "start_time": "2023-11-15T20:15:59.783Z"
   },
   {
    "duration": 11,
    "start_time": "2023-11-15T20:15:59.827Z"
   },
   {
    "duration": 20,
    "start_time": "2023-11-15T20:15:59.840Z"
   },
   {
    "duration": 17,
    "start_time": "2023-11-15T20:15:59.862Z"
   },
   {
    "duration": 5,
    "start_time": "2023-11-15T20:15:59.881Z"
   },
   {
    "duration": 147,
    "start_time": "2023-11-15T20:15:59.887Z"
   },
   {
    "duration": 5,
    "start_time": "2023-11-15T20:16:00.036Z"
   },
   {
    "duration": 22,
    "start_time": "2023-11-15T20:16:00.043Z"
   },
   {
    "duration": 30,
    "start_time": "2023-11-15T20:16:00.067Z"
   },
   {
    "duration": 23,
    "start_time": "2023-11-15T20:16:00.099Z"
   },
   {
    "duration": 35,
    "start_time": "2023-11-15T20:16:00.124Z"
   },
   {
    "duration": 244,
    "start_time": "2023-11-15T20:16:00.161Z"
   },
   {
    "duration": 22,
    "start_time": "2023-11-15T20:16:00.410Z"
   },
   {
    "duration": 2,
    "start_time": "2023-11-15T20:16:00.434Z"
   },
   {
    "duration": 53,
    "start_time": "2023-11-15T20:16:00.438Z"
   },
   {
    "duration": 8,
    "start_time": "2023-11-15T20:16:00.493Z"
   },
   {
    "duration": 15,
    "start_time": "2023-11-15T20:16:00.511Z"
   },
   {
    "duration": 36,
    "start_time": "2023-11-15T20:16:00.528Z"
   },
   {
    "duration": 848,
    "start_time": "2023-11-15T20:16:00.566Z"
   },
   {
    "duration": 820,
    "start_time": "2023-11-15T20:16:01.416Z"
   },
   {
    "duration": 7,
    "start_time": "2023-11-15T20:16:02.238Z"
   },
   {
    "duration": 515,
    "start_time": "2023-11-15T20:16:02.247Z"
   },
   {
    "duration": 301,
    "start_time": "2023-11-15T20:16:02.766Z"
   },
   {
    "duration": 8,
    "start_time": "2023-11-15T20:16:03.069Z"
   },
   {
    "duration": 334,
    "start_time": "2023-11-15T20:16:03.079Z"
   },
   {
    "duration": 9,
    "start_time": "2023-11-15T20:16:03.415Z"
   },
   {
    "duration": 317,
    "start_time": "2023-11-15T20:16:03.425Z"
   },
   {
    "duration": 11,
    "start_time": "2023-11-15T20:16:03.744Z"
   },
   {
    "duration": 1202,
    "start_time": "2023-11-15T20:16:03.756Z"
   },
   {
    "duration": 217,
    "start_time": "2023-11-15T20:16:04.960Z"
   },
   {
    "duration": 5,
    "start_time": "2023-11-15T20:16:05.178Z"
   },
   {
    "duration": 10,
    "start_time": "2023-11-15T20:16:05.184Z"
   },
   {
    "duration": 3,
    "start_time": "2023-11-15T20:16:05.212Z"
   },
   {
    "duration": 10,
    "start_time": "2023-11-15T20:16:05.217Z"
   },
   {
    "duration": 7,
    "start_time": "2023-11-15T20:16:05.229Z"
   },
   {
    "duration": 11,
    "start_time": "2023-11-15T20:16:05.238Z"
   },
   {
    "duration": 21,
    "start_time": "2023-11-15T20:16:05.251Z"
   },
   {
    "duration": 14,
    "start_time": "2023-11-15T20:16:05.274Z"
   },
   {
    "duration": 249,
    "start_time": "2023-11-15T20:16:05.290Z"
   },
   {
    "duration": 38,
    "start_time": "2023-11-15T20:16:05.541Z"
   },
   {
    "duration": 20,
    "start_time": "2023-11-15T20:16:05.581Z"
   },
   {
    "duration": 5918,
    "start_time": "2023-11-15T20:16:05.603Z"
   },
   {
    "duration": 5,
    "start_time": "2023-11-15T20:16:11.523Z"
   },
   {
    "duration": 13504,
    "start_time": "2023-11-15T20:16:11.530Z"
   },
   {
    "duration": 7,
    "start_time": "2023-11-15T20:16:25.036Z"
   },
   {
    "duration": 1531,
    "start_time": "2023-11-15T20:26:24.437Z"
   },
   {
    "duration": 817,
    "start_time": "2023-11-15T20:26:25.970Z"
   },
   {
    "duration": 56,
    "start_time": "2023-11-15T20:26:26.788Z"
   },
   {
    "duration": 21,
    "start_time": "2023-11-15T20:26:26.846Z"
   },
   {
    "duration": 67,
    "start_time": "2023-11-15T20:26:26.870Z"
   },
   {
    "duration": 18,
    "start_time": "2023-11-15T20:26:26.939Z"
   },
   {
    "duration": 14,
    "start_time": "2023-11-15T20:26:26.959Z"
   },
   {
    "duration": 22,
    "start_time": "2023-11-15T20:26:26.975Z"
   },
   {
    "duration": 21,
    "start_time": "2023-11-15T20:26:26.999Z"
   },
   {
    "duration": 5,
    "start_time": "2023-11-15T20:26:27.021Z"
   },
   {
    "duration": 183,
    "start_time": "2023-11-15T20:26:27.028Z"
   },
   {
    "duration": 6,
    "start_time": "2023-11-15T20:26:27.213Z"
   },
   {
    "duration": 6,
    "start_time": "2023-11-15T20:26:27.221Z"
   },
   {
    "duration": 5,
    "start_time": "2023-11-15T20:26:27.232Z"
   },
   {
    "duration": 5,
    "start_time": "2023-11-15T20:26:27.239Z"
   },
   {
    "duration": 65,
    "start_time": "2023-11-15T20:26:27.246Z"
   },
   {
    "duration": 248,
    "start_time": "2023-11-15T20:26:27.313Z"
   },
   {
    "duration": 36,
    "start_time": "2023-11-15T20:26:27.563Z"
   },
   {
    "duration": 11,
    "start_time": "2023-11-15T20:26:27.601Z"
   },
   {
    "duration": 49,
    "start_time": "2023-11-15T20:26:27.614Z"
   },
   {
    "duration": 4,
    "start_time": "2023-11-15T20:26:27.665Z"
   },
   {
    "duration": 14,
    "start_time": "2023-11-15T20:26:27.671Z"
   },
   {
    "duration": 17,
    "start_time": "2023-11-15T20:26:27.712Z"
   },
   {
    "duration": 908,
    "start_time": "2023-11-15T20:26:27.731Z"
   },
   {
    "duration": 874,
    "start_time": "2023-11-15T20:26:28.641Z"
   },
   {
    "duration": 9,
    "start_time": "2023-11-15T20:26:29.517Z"
   },
   {
    "duration": 600,
    "start_time": "2023-11-15T20:26:29.529Z"
   },
   {
    "duration": 317,
    "start_time": "2023-11-15T20:26:30.131Z"
   },
   {
    "duration": 7,
    "start_time": "2023-11-15T20:26:30.450Z"
   },
   {
    "duration": 352,
    "start_time": "2023-11-15T20:26:30.459Z"
   },
   {
    "duration": 8,
    "start_time": "2023-11-15T20:26:30.814Z"
   },
   {
    "duration": 348,
    "start_time": "2023-11-15T20:26:30.824Z"
   },
   {
    "duration": 15,
    "start_time": "2023-11-15T20:26:31.174Z"
   },
   {
    "duration": 1411,
    "start_time": "2023-11-15T20:26:31.191Z"
   },
   {
    "duration": 237,
    "start_time": "2023-11-15T20:26:32.611Z"
   },
   {
    "duration": 6,
    "start_time": "2023-11-15T20:26:32.850Z"
   },
   {
    "duration": 19,
    "start_time": "2023-11-15T20:26:32.858Z"
   },
   {
    "duration": 6,
    "start_time": "2023-11-15T20:26:32.879Z"
   },
   {
    "duration": 26,
    "start_time": "2023-11-15T20:26:32.887Z"
   },
   {
    "duration": 6,
    "start_time": "2023-11-15T20:26:32.915Z"
   },
   {
    "duration": 21,
    "start_time": "2023-11-15T20:26:32.926Z"
   },
   {
    "duration": 24,
    "start_time": "2023-11-15T20:26:32.949Z"
   },
   {
    "duration": 43,
    "start_time": "2023-11-15T20:26:32.976Z"
   },
   {
    "duration": 259,
    "start_time": "2023-11-15T20:26:33.021Z"
   },
   {
    "duration": 55,
    "start_time": "2023-11-15T20:26:33.283Z"
   },
   {
    "duration": 10,
    "start_time": "2023-11-15T20:26:33.340Z"
   },
   {
    "duration": 6364,
    "start_time": "2023-11-15T20:26:33.351Z"
   },
   {
    "duration": 6,
    "start_time": "2023-11-15T20:26:39.716Z"
   },
   {
    "duration": 14116,
    "start_time": "2023-11-15T20:26:39.724Z"
   },
   {
    "duration": 5,
    "start_time": "2023-11-15T20:26:53.842Z"
   },
   {
    "duration": 1505,
    "start_time": "2023-11-15T20:33:38.334Z"
   },
   {
    "duration": 787,
    "start_time": "2023-11-15T20:33:39.841Z"
   },
   {
    "duration": 49,
    "start_time": "2023-11-15T20:33:40.629Z"
   },
   {
    "duration": 49,
    "start_time": "2023-11-15T20:33:40.680Z"
   },
   {
    "duration": 30,
    "start_time": "2023-11-15T20:33:40.730Z"
   },
   {
    "duration": 24,
    "start_time": "2023-11-15T20:33:40.762Z"
   },
   {
    "duration": 6,
    "start_time": "2023-11-15T20:33:40.810Z"
   },
   {
    "duration": 12,
    "start_time": "2023-11-15T20:33:40.817Z"
   },
   {
    "duration": 29,
    "start_time": "2023-11-15T20:33:40.830Z"
   },
   {
    "duration": 4,
    "start_time": "2023-11-15T20:33:40.862Z"
   },
   {
    "duration": 154,
    "start_time": "2023-11-15T20:33:40.867Z"
   },
   {
    "duration": 4,
    "start_time": "2023-11-15T20:33:41.023Z"
   },
   {
    "duration": 5,
    "start_time": "2023-11-15T20:33:41.029Z"
   },
   {
    "duration": 4,
    "start_time": "2023-11-15T20:33:41.036Z"
   },
   {
    "duration": 5,
    "start_time": "2023-11-15T20:33:41.042Z"
   },
   {
    "duration": 16,
    "start_time": "2023-11-15T20:33:41.048Z"
   },
   {
    "duration": 282,
    "start_time": "2023-11-15T20:33:41.066Z"
   },
   {
    "duration": 27,
    "start_time": "2023-11-15T20:33:41.350Z"
   },
   {
    "duration": 2,
    "start_time": "2023-11-15T20:33:41.379Z"
   },
   {
    "duration": 69,
    "start_time": "2023-11-15T20:33:41.382Z"
   },
   {
    "duration": 4,
    "start_time": "2023-11-15T20:33:41.452Z"
   },
   {
    "duration": 10,
    "start_time": "2023-11-15T20:33:41.457Z"
   },
   {
    "duration": 44,
    "start_time": "2023-11-15T20:33:41.469Z"
   },
   {
    "duration": 853,
    "start_time": "2023-11-15T20:33:41.516Z"
   },
   {
    "duration": 822,
    "start_time": "2023-11-15T20:33:42.371Z"
   },
   {
    "duration": 17,
    "start_time": "2023-11-15T20:33:43.195Z"
   },
   {
    "duration": 536,
    "start_time": "2023-11-15T20:33:43.214Z"
   },
   {
    "duration": 305,
    "start_time": "2023-11-15T20:33:43.754Z"
   },
   {
    "duration": 8,
    "start_time": "2023-11-15T20:33:44.060Z"
   },
   {
    "duration": 344,
    "start_time": "2023-11-15T20:33:44.069Z"
   },
   {
    "duration": 7,
    "start_time": "2023-11-15T20:33:44.415Z"
   },
   {
    "duration": 321,
    "start_time": "2023-11-15T20:33:44.424Z"
   },
   {
    "duration": 12,
    "start_time": "2023-11-15T20:33:44.747Z"
   },
   {
    "duration": 1222,
    "start_time": "2023-11-15T20:33:44.760Z"
   },
   {
    "duration": 242,
    "start_time": "2023-11-15T20:33:45.984Z"
   },
   {
    "duration": 5,
    "start_time": "2023-11-15T20:33:46.227Z"
   },
   {
    "duration": 33,
    "start_time": "2023-11-15T20:33:46.233Z"
   },
   {
    "duration": 7,
    "start_time": "2023-11-15T20:33:46.268Z"
   },
   {
    "duration": 5,
    "start_time": "2023-11-15T20:33:46.277Z"
   },
   {
    "duration": 7,
    "start_time": "2023-11-15T20:33:46.284Z"
   },
   {
    "duration": 10,
    "start_time": "2023-11-15T20:33:46.292Z"
   },
   {
    "duration": 18,
    "start_time": "2023-11-15T20:33:46.303Z"
   },
   {
    "duration": 12,
    "start_time": "2023-11-15T20:33:46.323Z"
   },
   {
    "duration": 257,
    "start_time": "2023-11-15T20:33:46.337Z"
   },
   {
    "duration": 42,
    "start_time": "2023-11-15T20:33:46.596Z"
   },
   {
    "duration": 4,
    "start_time": "2023-11-15T20:33:46.640Z"
   },
   {
    "duration": 6148,
    "start_time": "2023-11-15T20:33:46.646Z"
   },
   {
    "duration": 4,
    "start_time": "2023-11-15T20:33:52.795Z"
   },
   {
    "duration": 13500,
    "start_time": "2023-11-15T20:33:52.811Z"
   },
   {
    "duration": 4,
    "start_time": "2023-11-15T20:34:06.313Z"
   },
   {
    "duration": 293686,
    "start_time": "2023-11-15T20:34:06.318Z"
   },
   {
    "duration": 6,
    "start_time": "2023-11-15T20:39:00.006Z"
   },
   {
    "duration": 0,
    "start_time": "2023-11-15T20:50:01.755Z"
   },
   {
    "duration": 0,
    "start_time": "2023-11-15T20:50:01.756Z"
   },
   {
    "duration": 0,
    "start_time": "2023-11-15T20:50:01.757Z"
   },
   {
    "duration": 0,
    "start_time": "2023-11-15T20:50:01.759Z"
   },
   {
    "duration": 0,
    "start_time": "2023-11-15T20:50:01.760Z"
   },
   {
    "duration": 0,
    "start_time": "2023-11-15T20:50:01.761Z"
   },
   {
    "duration": 0,
    "start_time": "2023-11-15T20:50:01.762Z"
   },
   {
    "duration": 0,
    "start_time": "2023-11-15T20:50:01.763Z"
   },
   {
    "duration": 0,
    "start_time": "2023-11-15T20:50:01.764Z"
   },
   {
    "duration": 0,
    "start_time": "2023-11-15T20:50:01.766Z"
   },
   {
    "duration": 0,
    "start_time": "2023-11-15T20:50:01.766Z"
   },
   {
    "duration": 0,
    "start_time": "2023-11-15T20:50:01.768Z"
   },
   {
    "duration": 0,
    "start_time": "2023-11-15T20:50:01.769Z"
   },
   {
    "duration": 0,
    "start_time": "2023-11-15T20:50:01.771Z"
   },
   {
    "duration": 0,
    "start_time": "2023-11-15T20:50:01.771Z"
   },
   {
    "duration": 0,
    "start_time": "2023-11-15T20:50:01.773Z"
   },
   {
    "duration": 0,
    "start_time": "2023-11-15T20:50:01.774Z"
   },
   {
    "duration": 0,
    "start_time": "2023-11-15T20:50:01.775Z"
   },
   {
    "duration": 0,
    "start_time": "2023-11-15T20:50:01.811Z"
   },
   {
    "duration": 0,
    "start_time": "2023-11-15T20:50:01.813Z"
   },
   {
    "duration": 0,
    "start_time": "2023-11-15T20:50:01.814Z"
   },
   {
    "duration": 0,
    "start_time": "2023-11-15T20:50:01.815Z"
   },
   {
    "duration": 0,
    "start_time": "2023-11-15T20:50:01.817Z"
   },
   {
    "duration": 0,
    "start_time": "2023-11-15T20:50:01.818Z"
   },
   {
    "duration": 0,
    "start_time": "2023-11-15T20:50:01.819Z"
   },
   {
    "duration": 0,
    "start_time": "2023-11-15T20:50:01.820Z"
   },
   {
    "duration": 0,
    "start_time": "2023-11-15T20:50:01.821Z"
   },
   {
    "duration": 0,
    "start_time": "2023-11-15T20:50:01.822Z"
   },
   {
    "duration": 0,
    "start_time": "2023-11-15T20:50:01.823Z"
   },
   {
    "duration": 1,
    "start_time": "2023-11-15T20:50:01.824Z"
   },
   {
    "duration": 0,
    "start_time": "2023-11-15T20:50:01.826Z"
   },
   {
    "duration": 0,
    "start_time": "2023-11-15T20:50:01.826Z"
   },
   {
    "duration": 0,
    "start_time": "2023-11-15T20:50:01.827Z"
   },
   {
    "duration": 0,
    "start_time": "2023-11-15T20:50:01.828Z"
   },
   {
    "duration": 0,
    "start_time": "2023-11-15T20:50:01.829Z"
   },
   {
    "duration": 0,
    "start_time": "2023-11-15T20:50:01.830Z"
   },
   {
    "duration": 0,
    "start_time": "2023-11-15T20:50:01.831Z"
   },
   {
    "duration": 0,
    "start_time": "2023-11-15T20:50:01.832Z"
   },
   {
    "duration": 0,
    "start_time": "2023-11-15T20:50:01.833Z"
   },
   {
    "duration": 0,
    "start_time": "2023-11-15T20:50:01.834Z"
   },
   {
    "duration": 0,
    "start_time": "2023-11-15T20:50:01.835Z"
   },
   {
    "duration": 0,
    "start_time": "2023-11-15T20:50:01.836Z"
   },
   {
    "duration": 0,
    "start_time": "2023-11-15T20:50:01.837Z"
   },
   {
    "duration": 0,
    "start_time": "2023-11-15T20:50:01.838Z"
   },
   {
    "duration": 0,
    "start_time": "2023-11-15T20:50:01.838Z"
   },
   {
    "duration": 0,
    "start_time": "2023-11-15T20:50:01.839Z"
   },
   {
    "duration": 0,
    "start_time": "2023-11-15T20:50:01.840Z"
   },
   {
    "duration": 0,
    "start_time": "2023-11-15T20:50:01.841Z"
   },
   {
    "duration": 0,
    "start_time": "2023-11-15T20:50:01.842Z"
   },
   {
    "duration": 0,
    "start_time": "2023-11-15T20:50:01.843Z"
   },
   {
    "duration": 0,
    "start_time": "2023-11-15T20:50:01.844Z"
   },
   {
    "duration": 0,
    "start_time": "2023-11-15T20:50:01.845Z"
   },
   {
    "duration": 0,
    "start_time": "2023-11-15T20:50:01.846Z"
   },
   {
    "duration": 0,
    "start_time": "2023-11-15T20:50:01.847Z"
   },
   {
    "duration": 0,
    "start_time": "2023-11-15T20:50:01.848Z"
   },
   {
    "duration": 6,
    "start_time": "2023-11-15T20:50:41.159Z"
   },
   {
    "duration": 896,
    "start_time": "2023-11-15T20:50:41.167Z"
   },
   {
    "duration": 47,
    "start_time": "2023-11-15T20:50:42.065Z"
   },
   {
    "duration": 17,
    "start_time": "2023-11-15T20:50:42.114Z"
   },
   {
    "duration": 28,
    "start_time": "2023-11-15T20:50:42.133Z"
   },
   {
    "duration": 58,
    "start_time": "2023-11-15T20:50:42.162Z"
   },
   {
    "duration": 7,
    "start_time": "2023-11-15T20:50:42.222Z"
   },
   {
    "duration": 5,
    "start_time": "2023-11-15T20:50:42.230Z"
   },
   {
    "duration": 10,
    "start_time": "2023-11-15T20:50:42.237Z"
   },
   {
    "duration": 4,
    "start_time": "2023-11-15T20:50:42.249Z"
   },
   {
    "duration": 193,
    "start_time": "2023-11-15T20:50:42.254Z"
   },
   {
    "duration": 4,
    "start_time": "2023-11-15T20:50:42.449Z"
   },
   {
    "duration": 57,
    "start_time": "2023-11-15T20:50:42.455Z"
   },
   {
    "duration": 4,
    "start_time": "2023-11-15T20:50:42.515Z"
   },
   {
    "duration": 5,
    "start_time": "2023-11-15T20:50:42.521Z"
   },
   {
    "duration": 14,
    "start_time": "2023-11-15T20:50:42.527Z"
   },
   {
    "duration": 259,
    "start_time": "2023-11-15T20:50:42.542Z"
   },
   {
    "duration": 25,
    "start_time": "2023-11-15T20:50:42.803Z"
   },
   {
    "duration": 2,
    "start_time": "2023-11-15T20:50:42.830Z"
   },
   {
    "duration": 38,
    "start_time": "2023-11-15T20:50:42.833Z"
   },
   {
    "duration": 3,
    "start_time": "2023-11-15T20:50:42.873Z"
   },
   {
    "duration": 35,
    "start_time": "2023-11-15T20:50:42.877Z"
   },
   {
    "duration": 12,
    "start_time": "2023-11-15T20:50:42.913Z"
   },
   {
    "duration": 822,
    "start_time": "2023-11-15T20:50:42.926Z"
   },
   {
    "duration": 648,
    "start_time": "2023-11-15T20:50:43.750Z"
   },
   {
    "duration": 13,
    "start_time": "2023-11-15T20:50:44.399Z"
   },
   {
    "duration": 493,
    "start_time": "2023-11-15T20:50:44.413Z"
   },
   {
    "duration": 416,
    "start_time": "2023-11-15T20:50:44.907Z"
   },
   {
    "duration": 7,
    "start_time": "2023-11-15T20:50:45.325Z"
   },
   {
    "duration": 334,
    "start_time": "2023-11-15T20:50:45.333Z"
   },
   {
    "duration": 7,
    "start_time": "2023-11-15T20:50:45.668Z"
   },
   {
    "duration": 304,
    "start_time": "2023-11-15T20:50:45.677Z"
   },
   {
    "duration": 8,
    "start_time": "2023-11-15T20:50:45.983Z"
   },
   {
    "duration": 1103,
    "start_time": "2023-11-15T20:50:45.993Z"
   },
   {
    "duration": 229,
    "start_time": "2023-11-15T20:50:47.098Z"
   },
   {
    "duration": 4,
    "start_time": "2023-11-15T20:50:47.329Z"
   },
   {
    "duration": 6,
    "start_time": "2023-11-15T20:50:47.335Z"
   },
   {
    "duration": 3,
    "start_time": "2023-11-15T20:50:47.342Z"
   },
   {
    "duration": 6,
    "start_time": "2023-11-15T20:50:47.347Z"
   },
   {
    "duration": 8,
    "start_time": "2023-11-15T20:50:47.354Z"
   },
   {
    "duration": 11,
    "start_time": "2023-11-15T20:50:47.365Z"
   },
   {
    "duration": 40,
    "start_time": "2023-11-15T20:50:47.378Z"
   },
   {
    "duration": 13,
    "start_time": "2023-11-15T20:50:47.420Z"
   },
   {
    "duration": 248,
    "start_time": "2023-11-15T20:50:47.434Z"
   },
   {
    "duration": 44,
    "start_time": "2023-11-15T20:50:47.683Z"
   },
   {
    "duration": 5,
    "start_time": "2023-11-15T20:50:47.728Z"
   },
   {
    "duration": 5970,
    "start_time": "2023-11-15T20:50:47.735Z"
   },
   {
    "duration": 4,
    "start_time": "2023-11-15T20:50:53.710Z"
   },
   {
    "duration": 13170,
    "start_time": "2023-11-15T20:50:53.716Z"
   },
   {
    "duration": 4,
    "start_time": "2023-11-15T20:51:06.888Z"
   },
   {
    "duration": 288277,
    "start_time": "2023-11-15T20:51:06.893Z"
   },
   {
    "duration": 4,
    "start_time": "2023-11-15T20:55:55.172Z"
   },
   {
    "duration": 1537,
    "start_time": "2023-11-15T21:01:44.912Z"
   },
   {
    "duration": 809,
    "start_time": "2023-11-15T21:01:46.451Z"
   },
   {
    "duration": 65,
    "start_time": "2023-11-15T21:01:47.261Z"
   },
   {
    "duration": 19,
    "start_time": "2023-11-15T21:01:47.329Z"
   },
   {
    "duration": 30,
    "start_time": "2023-11-15T21:01:47.350Z"
   },
   {
    "duration": 53,
    "start_time": "2023-11-15T21:01:47.382Z"
   },
   {
    "duration": 3,
    "start_time": "2023-11-15T21:01:47.437Z"
   },
   {
    "duration": 6,
    "start_time": "2023-11-15T21:01:47.441Z"
   },
   {
    "duration": 14,
    "start_time": "2023-11-15T21:01:47.448Z"
   },
   {
    "duration": 4,
    "start_time": "2023-11-15T21:01:47.464Z"
   },
   {
    "duration": 179,
    "start_time": "2023-11-15T21:01:47.470Z"
   },
   {
    "duration": 5,
    "start_time": "2023-11-15T21:01:47.650Z"
   },
   {
    "duration": 5,
    "start_time": "2023-11-15T21:01:47.657Z"
   },
   {
    "duration": 4,
    "start_time": "2023-11-15T21:01:47.664Z"
   },
   {
    "duration": 7,
    "start_time": "2023-11-15T21:01:47.670Z"
   },
   {
    "duration": 15,
    "start_time": "2023-11-15T21:01:47.710Z"
   },
   {
    "duration": 256,
    "start_time": "2023-11-15T21:01:47.726Z"
   },
   {
    "duration": 33,
    "start_time": "2023-11-15T21:01:47.984Z"
   },
   {
    "duration": 2,
    "start_time": "2023-11-15T21:01:48.019Z"
   },
   {
    "duration": 40,
    "start_time": "2023-11-15T21:01:48.023Z"
   },
   {
    "duration": 3,
    "start_time": "2023-11-15T21:01:48.065Z"
   },
   {
    "duration": 8,
    "start_time": "2023-11-15T21:01:48.070Z"
   },
   {
    "duration": 13,
    "start_time": "2023-11-15T21:01:48.111Z"
   },
   {
    "duration": 856,
    "start_time": "2023-11-15T21:01:48.126Z"
   },
   {
    "duration": 841,
    "start_time": "2023-11-15T21:01:48.984Z"
   },
   {
    "duration": 9,
    "start_time": "2023-11-15T21:01:49.827Z"
   },
   {
    "duration": 538,
    "start_time": "2023-11-15T21:01:49.838Z"
   },
   {
    "duration": 303,
    "start_time": "2023-11-15T21:01:50.382Z"
   },
   {
    "duration": 9,
    "start_time": "2023-11-15T21:01:50.687Z"
   },
   {
    "duration": 330,
    "start_time": "2023-11-15T21:01:50.712Z"
   },
   {
    "duration": 7,
    "start_time": "2023-11-15T21:01:51.044Z"
   },
   {
    "duration": 319,
    "start_time": "2023-11-15T21:01:51.052Z"
   },
   {
    "duration": 12,
    "start_time": "2023-11-15T21:01:51.372Z"
   },
   {
    "duration": 1239,
    "start_time": "2023-11-15T21:01:51.386Z"
   },
   {
    "duration": 232,
    "start_time": "2023-11-15T21:01:52.626Z"
   },
   {
    "duration": 4,
    "start_time": "2023-11-15T21:01:52.860Z"
   },
   {
    "duration": 7,
    "start_time": "2023-11-15T21:01:52.866Z"
   },
   {
    "duration": 8,
    "start_time": "2023-11-15T21:01:52.875Z"
   },
   {
    "duration": 3,
    "start_time": "2023-11-15T21:01:52.912Z"
   },
   {
    "duration": 8,
    "start_time": "2023-11-15T21:01:52.917Z"
   },
   {
    "duration": 14,
    "start_time": "2023-11-15T21:01:52.927Z"
   },
   {
    "duration": 14,
    "start_time": "2023-11-15T21:01:52.943Z"
   },
   {
    "duration": 13,
    "start_time": "2023-11-15T21:01:52.959Z"
   },
   {
    "duration": 261,
    "start_time": "2023-11-15T21:01:52.973Z"
   },
   {
    "duration": 41,
    "start_time": "2023-11-15T21:01:53.236Z"
   },
   {
    "duration": 25,
    "start_time": "2023-11-15T21:01:53.279Z"
   },
   {
    "duration": 6047,
    "start_time": "2023-11-15T21:01:53.305Z"
   },
   {
    "duration": 5,
    "start_time": "2023-11-15T21:01:59.353Z"
   },
   {
    "duration": 13665,
    "start_time": "2023-11-15T21:01:59.359Z"
   },
   {
    "duration": 6,
    "start_time": "2023-11-15T21:02:13.025Z"
   },
   {
    "duration": 292907,
    "start_time": "2023-11-15T21:02:13.033Z"
   },
   {
    "duration": 6,
    "start_time": "2023-11-15T21:07:05.942Z"
   },
   {
    "duration": 663503,
    "start_time": "2023-11-15T21:07:05.950Z"
   },
   {
    "duration": 6,
    "start_time": "2023-11-15T21:18:09.454Z"
   },
   {
    "duration": 4090,
    "start_time": "2023-11-15T21:18:09.462Z"
   },
   {
    "duration": 1702,
    "start_time": "2023-11-16T10:12:17.436Z"
   },
   {
    "duration": 1849,
    "start_time": "2023-11-16T10:12:19.140Z"
   },
   {
    "duration": 42,
    "start_time": "2023-11-16T10:12:20.990Z"
   },
   {
    "duration": 26,
    "start_time": "2023-11-16T10:12:21.034Z"
   },
   {
    "duration": 28,
    "start_time": "2023-11-16T10:12:21.062Z"
   },
   {
    "duration": 47,
    "start_time": "2023-11-16T10:12:21.092Z"
   },
   {
    "duration": 12,
    "start_time": "2023-11-16T10:12:21.141Z"
   },
   {
    "duration": 39,
    "start_time": "2023-11-16T10:12:21.155Z"
   },
   {
    "duration": 32,
    "start_time": "2023-11-16T10:12:21.196Z"
   },
   {
    "duration": 4,
    "start_time": "2023-11-16T10:12:21.231Z"
   },
   {
    "duration": 160,
    "start_time": "2023-11-16T10:12:21.237Z"
   },
   {
    "duration": 4,
    "start_time": "2023-11-16T10:12:21.399Z"
   },
   {
    "duration": 19,
    "start_time": "2023-11-16T10:12:21.405Z"
   },
   {
    "duration": 13,
    "start_time": "2023-11-16T10:12:21.425Z"
   },
   {
    "duration": 25,
    "start_time": "2023-11-16T10:12:21.440Z"
   },
   {
    "duration": 50,
    "start_time": "2023-11-16T10:12:21.467Z"
   },
   {
    "duration": 207,
    "start_time": "2023-11-16T10:12:21.519Z"
   },
   {
    "duration": 29,
    "start_time": "2023-11-16T10:12:21.727Z"
   },
   {
    "duration": 8,
    "start_time": "2023-11-16T10:12:21.758Z"
   },
   {
    "duration": 50,
    "start_time": "2023-11-16T10:12:21.767Z"
   },
   {
    "duration": 6,
    "start_time": "2023-11-16T10:12:21.818Z"
   },
   {
    "duration": 23,
    "start_time": "2023-11-16T10:12:21.825Z"
   },
   {
    "duration": 29,
    "start_time": "2023-11-16T10:12:21.849Z"
   },
   {
    "duration": 732,
    "start_time": "2023-11-16T10:12:21.879Z"
   },
   {
    "duration": 688,
    "start_time": "2023-11-16T10:12:22.612Z"
   },
   {
    "duration": 6,
    "start_time": "2023-11-16T10:12:23.302Z"
   },
   {
    "duration": 530,
    "start_time": "2023-11-16T10:12:23.310Z"
   },
   {
    "duration": 271,
    "start_time": "2023-11-16T10:12:23.843Z"
   },
   {
    "duration": 8,
    "start_time": "2023-11-16T10:12:24.115Z"
   },
   {
    "duration": 294,
    "start_time": "2023-11-16T10:12:24.124Z"
   },
   {
    "duration": 7,
    "start_time": "2023-11-16T10:12:24.420Z"
   },
   {
    "duration": 291,
    "start_time": "2023-11-16T10:12:24.429Z"
   },
   {
    "duration": 12,
    "start_time": "2023-11-16T10:12:24.721Z"
   },
   {
    "duration": 1084,
    "start_time": "2023-11-16T10:12:24.734Z"
   },
   {
    "duration": 209,
    "start_time": "2023-11-16T10:12:25.819Z"
   },
   {
    "duration": 4,
    "start_time": "2023-11-16T10:12:26.029Z"
   },
   {
    "duration": 16,
    "start_time": "2023-11-16T10:12:26.034Z"
   },
   {
    "duration": 8,
    "start_time": "2023-11-16T10:12:26.051Z"
   },
   {
    "duration": 48,
    "start_time": "2023-11-16T10:12:26.061Z"
   },
   {
    "duration": 9,
    "start_time": "2023-11-16T10:12:26.111Z"
   },
   {
    "duration": 41,
    "start_time": "2023-11-16T10:12:26.121Z"
   },
   {
    "duration": 20,
    "start_time": "2023-11-16T10:12:26.164Z"
   },
   {
    "duration": 11,
    "start_time": "2023-11-16T10:12:26.186Z"
   },
   {
    "duration": 208,
    "start_time": "2023-11-16T10:12:26.199Z"
   },
   {
    "duration": 32,
    "start_time": "2023-11-16T10:12:26.409Z"
   },
   {
    "duration": 23,
    "start_time": "2023-11-16T10:12:26.443Z"
   },
   {
    "duration": 5398,
    "start_time": "2023-11-16T10:12:26.468Z"
   },
   {
    "duration": 5,
    "start_time": "2023-11-16T10:12:31.868Z"
   },
   {
    "duration": 12023,
    "start_time": "2023-11-16T10:12:31.874Z"
   },
   {
    "duration": 4,
    "start_time": "2023-11-16T10:12:43.899Z"
   },
   {
    "duration": 256439,
    "start_time": "2023-11-16T10:12:43.904Z"
   },
   {
    "duration": 4,
    "start_time": "2023-11-16T10:17:00.345Z"
   },
   {
    "duration": 583617,
    "start_time": "2023-11-16T10:17:00.355Z"
   },
   {
    "duration": 5,
    "start_time": "2023-11-16T10:26:43.973Z"
   },
   {
    "duration": 3634,
    "start_time": "2023-11-16T10:26:43.979Z"
   },
   {
    "duration": 5,
    "start_time": "2023-11-16T11:23:58.947Z"
   },
   {
    "duration": 731,
    "start_time": "2023-11-16T11:23:58.989Z"
   },
   {
    "duration": 58,
    "start_time": "2023-11-16T11:23:59.722Z"
   },
   {
    "duration": 15,
    "start_time": "2023-11-16T11:23:59.781Z"
   },
   {
    "duration": 74,
    "start_time": "2023-11-16T11:23:59.797Z"
   },
   {
    "duration": 22,
    "start_time": "2023-11-16T11:23:59.873Z"
   },
   {
    "duration": 18,
    "start_time": "2023-11-16T11:23:59.897Z"
   },
   {
    "duration": 17,
    "start_time": "2023-11-16T11:23:59.917Z"
   },
   {
    "duration": 53,
    "start_time": "2023-11-16T11:23:59.935Z"
   },
   {
    "duration": 9,
    "start_time": "2023-11-16T11:23:59.989Z"
   },
   {
    "duration": 252,
    "start_time": "2023-11-16T11:23:59.999Z"
   },
   {
    "duration": 5,
    "start_time": "2023-11-16T11:24:00.252Z"
   },
   {
    "duration": 37,
    "start_time": "2023-11-16T11:24:00.258Z"
   },
   {
    "duration": 55,
    "start_time": "2023-11-16T11:24:00.296Z"
   },
   {
    "duration": 45,
    "start_time": "2023-11-16T11:24:00.353Z"
   },
   {
    "duration": 93,
    "start_time": "2023-11-16T11:24:00.399Z"
   },
   {
    "duration": 207,
    "start_time": "2023-11-16T11:24:00.495Z"
   },
   {
    "duration": 22,
    "start_time": "2023-11-16T11:24:00.704Z"
   },
   {
    "duration": 90,
    "start_time": "2023-11-16T11:24:00.728Z"
   },
   {
    "duration": 94,
    "start_time": "2023-11-16T11:24:00.820Z"
   },
   {
    "duration": 0,
    "start_time": "2023-11-16T11:24:00.916Z"
   },
   {
    "duration": 0,
    "start_time": "2023-11-16T11:24:00.918Z"
   },
   {
    "duration": 0,
    "start_time": "2023-11-16T11:24:00.919Z"
   },
   {
    "duration": 0,
    "start_time": "2023-11-16T11:24:00.920Z"
   },
   {
    "duration": 0,
    "start_time": "2023-11-16T11:24:00.921Z"
   },
   {
    "duration": 0,
    "start_time": "2023-11-16T11:24:00.923Z"
   },
   {
    "duration": 0,
    "start_time": "2023-11-16T11:24:00.924Z"
   },
   {
    "duration": 0,
    "start_time": "2023-11-16T11:24:00.925Z"
   },
   {
    "duration": 0,
    "start_time": "2023-11-16T11:24:00.926Z"
   },
   {
    "duration": 0,
    "start_time": "2023-11-16T11:24:00.926Z"
   },
   {
    "duration": 0,
    "start_time": "2023-11-16T11:24:00.927Z"
   },
   {
    "duration": 0,
    "start_time": "2023-11-16T11:24:00.928Z"
   },
   {
    "duration": 0,
    "start_time": "2023-11-16T11:24:00.930Z"
   },
   {
    "duration": 0,
    "start_time": "2023-11-16T11:24:00.930Z"
   },
   {
    "duration": 0,
    "start_time": "2023-11-16T11:24:00.931Z"
   },
   {
    "duration": 0,
    "start_time": "2023-11-16T11:24:00.932Z"
   },
   {
    "duration": 0,
    "start_time": "2023-11-16T11:24:00.933Z"
   },
   {
    "duration": 0,
    "start_time": "2023-11-16T11:24:00.934Z"
   },
   {
    "duration": 0,
    "start_time": "2023-11-16T11:24:00.935Z"
   },
   {
    "duration": 0,
    "start_time": "2023-11-16T11:24:00.937Z"
   },
   {
    "duration": 0,
    "start_time": "2023-11-16T11:24:00.938Z"
   },
   {
    "duration": 0,
    "start_time": "2023-11-16T11:24:00.939Z"
   },
   {
    "duration": 0,
    "start_time": "2023-11-16T11:24:00.940Z"
   },
   {
    "duration": 0,
    "start_time": "2023-11-16T11:24:00.941Z"
   },
   {
    "duration": 0,
    "start_time": "2023-11-16T11:24:00.941Z"
   },
   {
    "duration": 0,
    "start_time": "2023-11-16T11:24:00.943Z"
   },
   {
    "duration": 0,
    "start_time": "2023-11-16T11:24:00.944Z"
   },
   {
    "duration": 0,
    "start_time": "2023-11-16T11:24:00.945Z"
   },
   {
    "duration": 1,
    "start_time": "2023-11-16T11:24:00.945Z"
   },
   {
    "duration": 0,
    "start_time": "2023-11-16T11:24:00.946Z"
   },
   {
    "duration": 0,
    "start_time": "2023-11-16T11:24:00.947Z"
   },
   {
    "duration": 0,
    "start_time": "2023-11-16T11:24:00.948Z"
   },
   {
    "duration": 0,
    "start_time": "2023-11-16T11:24:00.949Z"
   },
   {
    "duration": 0,
    "start_time": "2023-11-16T11:24:00.950Z"
   },
   {
    "duration": 0,
    "start_time": "2023-11-16T11:24:00.956Z"
   },
   {
    "duration": 7,
    "start_time": "2023-11-16T11:24:19.854Z"
   },
   {
    "duration": 801,
    "start_time": "2023-11-16T11:24:19.973Z"
   },
   {
    "duration": 62,
    "start_time": "2023-11-16T11:24:20.776Z"
   },
   {
    "duration": 17,
    "start_time": "2023-11-16T11:24:20.857Z"
   },
   {
    "duration": 44,
    "start_time": "2023-11-16T11:24:20.876Z"
   },
   {
    "duration": 28,
    "start_time": "2023-11-16T11:24:20.922Z"
   },
   {
    "duration": 6,
    "start_time": "2023-11-16T11:24:20.952Z"
   },
   {
    "duration": 4,
    "start_time": "2023-11-16T11:24:20.961Z"
   },
   {
    "duration": 12,
    "start_time": "2023-11-16T11:24:20.967Z"
   },
   {
    "duration": 5,
    "start_time": "2023-11-16T11:24:20.981Z"
   },
   {
    "duration": 199,
    "start_time": "2023-11-16T11:24:20.988Z"
   },
   {
    "duration": 4,
    "start_time": "2023-11-16T11:24:21.189Z"
   },
   {
    "duration": 11,
    "start_time": "2023-11-16T11:24:21.195Z"
   },
   {
    "duration": 7,
    "start_time": "2023-11-16T11:24:21.207Z"
   },
   {
    "duration": 5,
    "start_time": "2023-11-16T11:24:21.220Z"
   },
   {
    "duration": 37,
    "start_time": "2023-11-16T11:24:21.227Z"
   },
   {
    "duration": 251,
    "start_time": "2023-11-16T11:24:21.266Z"
   },
   {
    "duration": 24,
    "start_time": "2023-11-16T11:24:21.519Z"
   },
   {
    "duration": 11,
    "start_time": "2023-11-16T11:24:21.545Z"
   },
   {
    "duration": 48,
    "start_time": "2023-11-16T11:24:21.558Z"
   },
   {
    "duration": 0,
    "start_time": "2023-11-16T11:24:21.608Z"
   },
   {
    "duration": 0,
    "start_time": "2023-11-16T11:24:21.610Z"
   },
   {
    "duration": 0,
    "start_time": "2023-11-16T11:24:21.612Z"
   },
   {
    "duration": 0,
    "start_time": "2023-11-16T11:24:21.613Z"
   },
   {
    "duration": 0,
    "start_time": "2023-11-16T11:24:21.615Z"
   },
   {
    "duration": 0,
    "start_time": "2023-11-16T11:24:21.616Z"
   },
   {
    "duration": 0,
    "start_time": "2023-11-16T11:24:21.617Z"
   },
   {
    "duration": 0,
    "start_time": "2023-11-16T11:24:21.619Z"
   },
   {
    "duration": 0,
    "start_time": "2023-11-16T11:24:21.620Z"
   },
   {
    "duration": 0,
    "start_time": "2023-11-16T11:24:21.622Z"
   },
   {
    "duration": 0,
    "start_time": "2023-11-16T11:24:21.624Z"
   },
   {
    "duration": 0,
    "start_time": "2023-11-16T11:24:21.625Z"
   },
   {
    "duration": 0,
    "start_time": "2023-11-16T11:24:21.626Z"
   },
   {
    "duration": 0,
    "start_time": "2023-11-16T11:24:21.628Z"
   },
   {
    "duration": 0,
    "start_time": "2023-11-16T11:24:21.629Z"
   },
   {
    "duration": 0,
    "start_time": "2023-11-16T11:24:21.630Z"
   },
   {
    "duration": 0,
    "start_time": "2023-11-16T11:24:21.631Z"
   },
   {
    "duration": 0,
    "start_time": "2023-11-16T11:24:21.632Z"
   },
   {
    "duration": 0,
    "start_time": "2023-11-16T11:24:21.634Z"
   },
   {
    "duration": 0,
    "start_time": "2023-11-16T11:24:21.635Z"
   },
   {
    "duration": 0,
    "start_time": "2023-11-16T11:24:21.636Z"
   },
   {
    "duration": 0,
    "start_time": "2023-11-16T11:24:21.636Z"
   },
   {
    "duration": 0,
    "start_time": "2023-11-16T11:24:21.637Z"
   },
   {
    "duration": 0,
    "start_time": "2023-11-16T11:24:21.637Z"
   },
   {
    "duration": 0,
    "start_time": "2023-11-16T11:24:21.638Z"
   },
   {
    "duration": 0,
    "start_time": "2023-11-16T11:24:21.638Z"
   },
   {
    "duration": 0,
    "start_time": "2023-11-16T11:24:21.655Z"
   },
   {
    "duration": 0,
    "start_time": "2023-11-16T11:24:21.656Z"
   },
   {
    "duration": 0,
    "start_time": "2023-11-16T11:24:21.658Z"
   },
   {
    "duration": 0,
    "start_time": "2023-11-16T11:24:21.659Z"
   },
   {
    "duration": 0,
    "start_time": "2023-11-16T11:24:21.660Z"
   },
   {
    "duration": 0,
    "start_time": "2023-11-16T11:24:21.661Z"
   },
   {
    "duration": 0,
    "start_time": "2023-11-16T11:24:21.661Z"
   },
   {
    "duration": 0,
    "start_time": "2023-11-16T11:24:21.662Z"
   },
   {
    "duration": 0,
    "start_time": "2023-11-16T11:24:21.663Z"
   },
   {
    "duration": 49,
    "start_time": "2023-11-16T11:28:35.150Z"
   },
   {
    "duration": 5,
    "start_time": "2023-11-16T11:28:51.687Z"
   },
   {
    "duration": 751,
    "start_time": "2023-11-16T11:28:51.837Z"
   },
   {
    "duration": 43,
    "start_time": "2023-11-16T11:28:52.589Z"
   },
   {
    "duration": 35,
    "start_time": "2023-11-16T11:28:52.634Z"
   },
   {
    "duration": 62,
    "start_time": "2023-11-16T11:28:52.671Z"
   },
   {
    "duration": 39,
    "start_time": "2023-11-16T11:28:52.736Z"
   },
   {
    "duration": 35,
    "start_time": "2023-11-16T11:28:52.776Z"
   },
   {
    "duration": 41,
    "start_time": "2023-11-16T11:28:52.812Z"
   },
   {
    "duration": 43,
    "start_time": "2023-11-16T11:28:52.855Z"
   },
   {
    "duration": 14,
    "start_time": "2023-11-16T11:28:52.900Z"
   },
   {
    "duration": 223,
    "start_time": "2023-11-16T11:28:52.916Z"
   },
   {
    "duration": 4,
    "start_time": "2023-11-16T11:28:53.140Z"
   },
   {
    "duration": 42,
    "start_time": "2023-11-16T11:28:53.145Z"
   },
   {
    "duration": 21,
    "start_time": "2023-11-16T11:28:53.188Z"
   },
   {
    "duration": 26,
    "start_time": "2023-11-16T11:28:53.212Z"
   },
   {
    "duration": 44,
    "start_time": "2023-11-16T11:28:53.240Z"
   },
   {
    "duration": 293,
    "start_time": "2023-11-16T11:28:53.285Z"
   },
   {
    "duration": 18,
    "start_time": "2023-11-16T11:28:53.580Z"
   },
   {
    "duration": 43,
    "start_time": "2023-11-16T11:28:53.599Z"
   },
   {
    "duration": 66,
    "start_time": "2023-11-16T11:28:53.644Z"
   },
   {
    "duration": 0,
    "start_time": "2023-11-16T11:28:53.712Z"
   },
   {
    "duration": 0,
    "start_time": "2023-11-16T11:28:53.713Z"
   },
   {
    "duration": 0,
    "start_time": "2023-11-16T11:28:53.714Z"
   },
   {
    "duration": 0,
    "start_time": "2023-11-16T11:28:53.715Z"
   },
   {
    "duration": 0,
    "start_time": "2023-11-16T11:28:53.716Z"
   },
   {
    "duration": 0,
    "start_time": "2023-11-16T11:28:53.717Z"
   },
   {
    "duration": 0,
    "start_time": "2023-11-16T11:28:53.718Z"
   },
   {
    "duration": 0,
    "start_time": "2023-11-16T11:28:53.719Z"
   },
   {
    "duration": 0,
    "start_time": "2023-11-16T11:28:53.719Z"
   },
   {
    "duration": 0,
    "start_time": "2023-11-16T11:28:53.720Z"
   },
   {
    "duration": 0,
    "start_time": "2023-11-16T11:28:53.721Z"
   },
   {
    "duration": 0,
    "start_time": "2023-11-16T11:28:53.722Z"
   },
   {
    "duration": 0,
    "start_time": "2023-11-16T11:28:53.723Z"
   },
   {
    "duration": 0,
    "start_time": "2023-11-16T11:28:53.724Z"
   },
   {
    "duration": 0,
    "start_time": "2023-11-16T11:28:53.725Z"
   },
   {
    "duration": 0,
    "start_time": "2023-11-16T11:28:53.726Z"
   },
   {
    "duration": 0,
    "start_time": "2023-11-16T11:28:53.727Z"
   },
   {
    "duration": 0,
    "start_time": "2023-11-16T11:28:53.728Z"
   },
   {
    "duration": 0,
    "start_time": "2023-11-16T11:28:53.729Z"
   },
   {
    "duration": 0,
    "start_time": "2023-11-16T11:28:53.730Z"
   },
   {
    "duration": 0,
    "start_time": "2023-11-16T11:28:53.731Z"
   },
   {
    "duration": 0,
    "start_time": "2023-11-16T11:28:53.732Z"
   },
   {
    "duration": 0,
    "start_time": "2023-11-16T11:28:53.733Z"
   },
   {
    "duration": 0,
    "start_time": "2023-11-16T11:28:53.734Z"
   },
   {
    "duration": 0,
    "start_time": "2023-11-16T11:28:53.735Z"
   },
   {
    "duration": 0,
    "start_time": "2023-11-16T11:28:53.736Z"
   },
   {
    "duration": 0,
    "start_time": "2023-11-16T11:28:53.738Z"
   },
   {
    "duration": 0,
    "start_time": "2023-11-16T11:28:53.739Z"
   },
   {
    "duration": 0,
    "start_time": "2023-11-16T11:28:53.740Z"
   },
   {
    "duration": 0,
    "start_time": "2023-11-16T11:28:53.741Z"
   },
   {
    "duration": 0,
    "start_time": "2023-11-16T11:28:53.741Z"
   },
   {
    "duration": 0,
    "start_time": "2023-11-16T11:28:53.744Z"
   },
   {
    "duration": 0,
    "start_time": "2023-11-16T11:28:53.745Z"
   },
   {
    "duration": 0,
    "start_time": "2023-11-16T11:28:53.747Z"
   },
   {
    "duration": 0,
    "start_time": "2023-11-16T11:28:53.755Z"
   },
   {
    "duration": 54,
    "start_time": "2023-11-16T11:29:05.573Z"
   },
   {
    "duration": 4,
    "start_time": "2023-11-16T11:29:15.237Z"
   },
   {
    "duration": 5,
    "start_time": "2023-11-16T11:29:18.197Z"
   },
   {
    "duration": 2,
    "start_time": "2023-11-16T11:29:22.728Z"
   },
   {
    "duration": 2,
    "start_time": "2023-11-16T11:29:24.729Z"
   },
   {
    "duration": 3,
    "start_time": "2023-11-16T11:29:27.501Z"
   },
   {
    "duration": 12,
    "start_time": "2023-11-16T11:29:30.509Z"
   },
   {
    "duration": 13,
    "start_time": "2023-11-16T11:29:32.061Z"
   },
   {
    "duration": 17,
    "start_time": "2023-11-16T11:29:36.156Z"
   },
   {
    "duration": 203,
    "start_time": "2023-11-16T11:29:40.094Z"
   },
   {
    "duration": 34,
    "start_time": "2023-11-16T11:29:42.838Z"
   },
   {
    "duration": 5,
    "start_time": "2023-11-16T11:29:44.381Z"
   },
   {
    "duration": 51,
    "start_time": "2023-11-16T11:29:47.222Z"
   },
   {
    "duration": 5619,
    "start_time": "2023-11-16T11:30:13.901Z"
   },
   {
    "duration": 6,
    "start_time": "2023-11-16T11:30:19.522Z"
   },
   {
    "duration": 3592,
    "start_time": "2023-11-16T11:30:34.697Z"
   },
   {
    "duration": 12324,
    "start_time": "2023-11-16T13:41:06.777Z"
   },
   {
    "duration": 5,
    "start_time": "2023-11-16T13:41:19.102Z"
   },
   {
    "duration": 12,
    "start_time": "2023-11-16T14:37:01.338Z"
   },
   {
    "duration": 40,
    "start_time": "2023-11-16T14:37:15.105Z"
   },
   {
    "duration": 3,
    "start_time": "2023-11-16T14:37:22.929Z"
   },
   {
    "duration": 7,
    "start_time": "2023-11-16T14:37:24.963Z"
   },
   {
    "duration": 1492,
    "start_time": "2023-11-16T14:37:34.719Z"
   },
   {
    "duration": 1057,
    "start_time": "2023-11-16T14:37:36.213Z"
   },
   {
    "duration": 51,
    "start_time": "2023-11-16T14:37:37.272Z"
   },
   {
    "duration": 43,
    "start_time": "2023-11-16T14:37:37.325Z"
   },
   {
    "duration": 20,
    "start_time": "2023-11-16T14:37:37.370Z"
   },
   {
    "duration": 19,
    "start_time": "2023-11-16T14:37:37.392Z"
   },
   {
    "duration": 6,
    "start_time": "2023-11-16T14:37:37.413Z"
   },
   {
    "duration": 5,
    "start_time": "2023-11-16T14:37:37.421Z"
   },
   {
    "duration": 37,
    "start_time": "2023-11-16T14:37:37.428Z"
   },
   {
    "duration": 4,
    "start_time": "2023-11-16T14:37:37.471Z"
   },
   {
    "duration": 253,
    "start_time": "2023-11-16T14:37:37.478Z"
   },
   {
    "duration": 4,
    "start_time": "2023-11-16T14:37:37.733Z"
   },
   {
    "duration": 7,
    "start_time": "2023-11-16T14:37:37.739Z"
   },
   {
    "duration": 20,
    "start_time": "2023-11-16T14:37:37.747Z"
   },
   {
    "duration": 5,
    "start_time": "2023-11-16T14:37:37.770Z"
   },
   {
    "duration": 28,
    "start_time": "2023-11-16T14:37:37.777Z"
   },
   {
    "duration": 241,
    "start_time": "2023-11-16T14:37:37.807Z"
   },
   {
    "duration": 32,
    "start_time": "2023-11-16T14:37:38.050Z"
   },
   {
    "duration": 2,
    "start_time": "2023-11-16T14:37:38.084Z"
   },
   {
    "duration": 86,
    "start_time": "2023-11-16T14:37:38.087Z"
   },
   {
    "duration": 0,
    "start_time": "2023-11-16T14:37:38.175Z"
   },
   {
    "duration": 0,
    "start_time": "2023-11-16T14:37:38.176Z"
   },
   {
    "duration": 0,
    "start_time": "2023-11-16T14:37:38.177Z"
   },
   {
    "duration": 0,
    "start_time": "2023-11-16T14:37:38.178Z"
   },
   {
    "duration": 0,
    "start_time": "2023-11-16T14:37:38.179Z"
   },
   {
    "duration": 0,
    "start_time": "2023-11-16T14:37:38.180Z"
   },
   {
    "duration": 0,
    "start_time": "2023-11-16T14:37:38.181Z"
   },
   {
    "duration": 0,
    "start_time": "2023-11-16T14:37:38.182Z"
   },
   {
    "duration": 0,
    "start_time": "2023-11-16T14:37:38.183Z"
   },
   {
    "duration": 0,
    "start_time": "2023-11-16T14:37:38.184Z"
   },
   {
    "duration": 0,
    "start_time": "2023-11-16T14:37:38.185Z"
   },
   {
    "duration": 0,
    "start_time": "2023-11-16T14:37:38.186Z"
   },
   {
    "duration": 0,
    "start_time": "2023-11-16T14:37:38.186Z"
   },
   {
    "duration": 0,
    "start_time": "2023-11-16T14:37:38.188Z"
   },
   {
    "duration": 0,
    "start_time": "2023-11-16T14:37:38.188Z"
   },
   {
    "duration": 0,
    "start_time": "2023-11-16T14:37:38.189Z"
   },
   {
    "duration": 0,
    "start_time": "2023-11-16T14:37:38.190Z"
   },
   {
    "duration": 0,
    "start_time": "2023-11-16T14:37:38.191Z"
   },
   {
    "duration": 0,
    "start_time": "2023-11-16T14:37:38.192Z"
   },
   {
    "duration": 0,
    "start_time": "2023-11-16T14:37:38.193Z"
   },
   {
    "duration": 0,
    "start_time": "2023-11-16T14:37:38.194Z"
   },
   {
    "duration": 0,
    "start_time": "2023-11-16T14:37:38.195Z"
   },
   {
    "duration": 1,
    "start_time": "2023-11-16T14:37:38.195Z"
   },
   {
    "duration": 0,
    "start_time": "2023-11-16T14:37:38.196Z"
   },
   {
    "duration": 0,
    "start_time": "2023-11-16T14:37:38.197Z"
   },
   {
    "duration": 0,
    "start_time": "2023-11-16T14:37:38.198Z"
   },
   {
    "duration": 0,
    "start_time": "2023-11-16T14:37:38.199Z"
   },
   {
    "duration": 0,
    "start_time": "2023-11-16T14:37:38.200Z"
   },
   {
    "duration": 0,
    "start_time": "2023-11-16T14:37:38.201Z"
   },
   {
    "duration": 0,
    "start_time": "2023-11-16T14:37:38.202Z"
   },
   {
    "duration": 0,
    "start_time": "2023-11-16T14:37:38.203Z"
   },
   {
    "duration": 0,
    "start_time": "2023-11-16T14:37:38.204Z"
   },
   {
    "duration": 0,
    "start_time": "2023-11-16T14:37:38.205Z"
   },
   {
    "duration": 0,
    "start_time": "2023-11-16T14:37:38.206Z"
   },
   {
    "duration": 258,
    "start_time": "2023-11-16T14:39:01.072Z"
   },
   {
    "duration": 4,
    "start_time": "2023-11-16T14:39:04.122Z"
   },
   {
    "duration": 3,
    "start_time": "2023-11-16T14:39:06.312Z"
   },
   {
    "duration": 5,
    "start_time": "2023-11-16T14:44:47.204Z"
   },
   {
    "duration": 28,
    "start_time": "2023-11-16T14:44:49.438Z"
   },
   {
    "duration": 14,
    "start_time": "2023-11-16T14:45:19.130Z"
   },
   {
    "duration": 17,
    "start_time": "2023-11-16T14:49:35.600Z"
   },
   {
    "duration": 31,
    "start_time": "2023-11-16T14:49:50.635Z"
   },
   {
    "duration": 33,
    "start_time": "2023-11-16T14:51:49.503Z"
   },
   {
    "duration": 15,
    "start_time": "2023-11-16T14:52:13.401Z"
   },
   {
    "duration": 2,
    "start_time": "2023-11-16T14:52:28.649Z"
   },
   {
    "duration": 3,
    "start_time": "2023-11-16T14:52:34.664Z"
   },
   {
    "duration": 16,
    "start_time": "2023-11-16T14:53:28.335Z"
   },
   {
    "duration": 27,
    "start_time": "2023-11-16T14:53:41.038Z"
   },
   {
    "duration": 5,
    "start_time": "2023-11-16T14:54:00.745Z"
   },
   {
    "duration": 3,
    "start_time": "2023-11-16T14:56:39.296Z"
   },
   {
    "duration": 3,
    "start_time": "2023-11-16T14:56:42.464Z"
   },
   {
    "duration": 15,
    "start_time": "2023-11-16T15:47:42.431Z"
   },
   {
    "duration": 22,
    "start_time": "2023-11-16T15:48:06.358Z"
   },
   {
    "duration": 41,
    "start_time": "2023-11-16T15:48:27.655Z"
   },
   {
    "duration": 2,
    "start_time": "2023-11-16T15:48:33.366Z"
   },
   {
    "duration": 2,
    "start_time": "2023-11-16T15:48:34.815Z"
   },
   {
    "duration": 3,
    "start_time": "2023-11-16T15:48:37.530Z"
   },
   {
    "duration": 35,
    "start_time": "2023-11-16T15:49:35.453Z"
   },
   {
    "duration": 15,
    "start_time": "2023-11-16T15:49:48.828Z"
   },
   {
    "duration": 19,
    "start_time": "2023-11-16T15:49:54.656Z"
   },
   {
    "duration": 2068,
    "start_time": "2023-11-16T15:49:54.681Z"
   },
   {
    "duration": 77,
    "start_time": "2023-11-16T15:49:56.750Z"
   },
   {
    "duration": 15,
    "start_time": "2023-11-16T15:49:56.829Z"
   },
   {
    "duration": 56,
    "start_time": "2023-11-16T15:49:56.849Z"
   },
   {
    "duration": 60,
    "start_time": "2023-11-16T15:49:56.907Z"
   },
   {
    "duration": 26,
    "start_time": "2023-11-16T15:49:56.970Z"
   },
   {
    "duration": 45,
    "start_time": "2023-11-16T15:49:56.998Z"
   },
   {
    "duration": 24,
    "start_time": "2023-11-16T15:49:57.045Z"
   },
   {
    "duration": 20,
    "start_time": "2023-11-16T15:49:57.074Z"
   },
   {
    "duration": 299,
    "start_time": "2023-11-16T15:49:57.096Z"
   },
   {
    "duration": 4,
    "start_time": "2023-11-16T15:49:57.397Z"
   },
   {
    "duration": 40,
    "start_time": "2023-11-16T15:49:57.403Z"
   },
   {
    "duration": 29,
    "start_time": "2023-11-16T15:49:57.444Z"
   },
   {
    "duration": 26,
    "start_time": "2023-11-16T15:49:57.475Z"
   },
   {
    "duration": 43,
    "start_time": "2023-11-16T15:49:57.503Z"
   },
   {
    "duration": 260,
    "start_time": "2023-11-16T15:49:57.547Z"
   },
   {
    "duration": 22,
    "start_time": "2023-11-16T15:49:57.809Z"
   },
   {
    "duration": 43,
    "start_time": "2023-11-16T15:49:57.833Z"
   },
   {
    "duration": 10,
    "start_time": "2023-11-16T15:49:57.878Z"
   },
   {
    "duration": 26,
    "start_time": "2023-11-16T15:49:57.890Z"
   },
   {
    "duration": 35,
    "start_time": "2023-11-16T15:49:57.918Z"
   },
   {
    "duration": 33,
    "start_time": "2023-11-16T15:49:57.958Z"
   },
   {
    "duration": 35,
    "start_time": "2023-11-16T15:49:57.993Z"
   },
   {
    "duration": 1003,
    "start_time": "2023-11-16T15:49:58.030Z"
   },
   {
    "duration": 774,
    "start_time": "2023-11-16T15:49:59.035Z"
   },
   {
    "duration": 8,
    "start_time": "2023-11-16T15:49:59.811Z"
   },
   {
    "duration": 583,
    "start_time": "2023-11-16T15:49:59.822Z"
   },
   {
    "duration": 306,
    "start_time": "2023-11-16T15:50:00.407Z"
   },
   {
    "duration": 8,
    "start_time": "2023-11-16T15:50:00.714Z"
   },
   {
    "duration": 409,
    "start_time": "2023-11-16T15:50:00.723Z"
   },
   {
    "duration": 8,
    "start_time": "2023-11-16T15:50:01.134Z"
   },
   {
    "duration": 479,
    "start_time": "2023-11-16T15:50:01.144Z"
   },
   {
    "duration": 11,
    "start_time": "2023-11-16T15:50:01.625Z"
   },
   {
    "duration": 1400,
    "start_time": "2023-11-16T15:50:01.638Z"
   },
   {
    "duration": 257,
    "start_time": "2023-11-16T15:50:03.040Z"
   },
   {
    "duration": 5,
    "start_time": "2023-11-16T15:50:03.299Z"
   },
   {
    "duration": 126,
    "start_time": "2023-11-16T15:50:03.305Z"
   },
   {
    "duration": 62,
    "start_time": "2023-11-16T15:50:03.433Z"
   },
   {
    "duration": 25,
    "start_time": "2023-11-16T15:50:03.497Z"
   },
   {
    "duration": 42,
    "start_time": "2023-11-16T15:50:03.524Z"
   },
   {
    "duration": 88,
    "start_time": "2023-11-16T15:50:03.568Z"
   },
   {
    "duration": 146,
    "start_time": "2023-11-16T15:50:03.660Z"
   },
   {
    "duration": 92,
    "start_time": "2023-11-16T15:50:03.808Z"
   },
   {
    "duration": 284,
    "start_time": "2023-11-16T15:50:03.901Z"
   },
   {
    "duration": 34,
    "start_time": "2023-11-16T15:50:04.187Z"
   },
   {
    "duration": 72,
    "start_time": "2023-11-16T15:50:04.223Z"
   },
   {
    "duration": 6226,
    "start_time": "2023-11-16T15:50:04.296Z"
   },
   {
    "duration": 5,
    "start_time": "2023-11-16T15:50:10.524Z"
   },
   {
    "duration": 13538,
    "start_time": "2023-11-16T15:50:10.531Z"
   },
   {
    "duration": 14,
    "start_time": "2023-11-16T15:50:24.071Z"
   },
   {
    "duration": 305936,
    "start_time": "2023-11-16T15:50:24.092Z"
   },
   {
    "duration": 5,
    "start_time": "2023-11-16T15:55:30.030Z"
   },
   {
    "duration": 665141,
    "start_time": "2023-11-16T15:55:30.037Z"
   },
   {
    "duration": 8,
    "start_time": "2023-11-16T16:06:35.180Z"
   },
   {
    "duration": 52,
    "start_time": "2023-11-16T16:13:38.935Z"
   },
   {
    "duration": 4,
    "start_time": "2023-11-16T16:13:50.171Z"
   },
   {
    "duration": 4,
    "start_time": "2023-11-16T16:13:53.277Z"
   },
   {
    "duration": 3,
    "start_time": "2023-11-16T16:13:54.747Z"
   },
   {
    "duration": 9,
    "start_time": "2023-11-16T16:18:20.368Z"
   },
   {
    "duration": 8,
    "start_time": "2023-11-16T16:52:59.727Z"
   },
   {
    "duration": 12,
    "start_time": "2023-11-16T16:54:13.271Z"
   },
   {
    "duration": 1068,
    "start_time": "2023-11-16T16:54:13.438Z"
   },
   {
    "duration": 74,
    "start_time": "2023-11-16T16:54:14.512Z"
   },
   {
    "duration": 28,
    "start_time": "2023-11-16T16:54:14.591Z"
   },
   {
    "duration": 29,
    "start_time": "2023-11-16T16:54:14.622Z"
   },
   {
    "duration": 22,
    "start_time": "2023-11-16T16:54:14.654Z"
   },
   {
    "duration": 27,
    "start_time": "2023-11-16T16:54:14.678Z"
   },
   {
    "duration": 10,
    "start_time": "2023-11-16T16:54:14.708Z"
   },
   {
    "duration": 3,
    "start_time": "2023-11-16T16:54:14.721Z"
   },
   {
    "duration": 5,
    "start_time": "2023-11-16T16:54:14.726Z"
   },
   {
    "duration": 321,
    "start_time": "2023-11-16T16:54:14.732Z"
   },
   {
    "duration": 8,
    "start_time": "2023-11-16T16:54:15.054Z"
   },
   {
    "duration": 26,
    "start_time": "2023-11-16T16:54:15.064Z"
   },
   {
    "duration": 25,
    "start_time": "2023-11-16T16:54:15.092Z"
   },
   {
    "duration": 10,
    "start_time": "2023-11-16T16:54:15.122Z"
   },
   {
    "duration": 27,
    "start_time": "2023-11-16T16:54:15.134Z"
   },
   {
    "duration": 334,
    "start_time": "2023-11-16T16:54:15.163Z"
   },
   {
    "duration": 40,
    "start_time": "2023-11-16T16:54:15.504Z"
   },
   {
    "duration": 55,
    "start_time": "2023-11-16T16:54:15.547Z"
   },
   {
    "duration": 7,
    "start_time": "2023-11-16T16:54:15.614Z"
   },
   {
    "duration": 5,
    "start_time": "2023-11-16T16:54:15.625Z"
   },
   {
    "duration": 5,
    "start_time": "2023-11-16T16:54:15.632Z"
   },
   {
    "duration": 8,
    "start_time": "2023-11-16T16:54:15.638Z"
   },
   {
    "duration": 36,
    "start_time": "2023-11-16T16:54:15.647Z"
   },
   {
    "duration": 1017,
    "start_time": "2023-11-16T16:54:15.687Z"
   },
   {
    "duration": 881,
    "start_time": "2023-11-16T16:54:16.706Z"
   },
   {
    "duration": 11,
    "start_time": "2023-11-16T16:54:17.594Z"
   },
   {
    "duration": 1095,
    "start_time": "2023-11-16T16:54:17.610Z"
   },
   {
    "duration": 852,
    "start_time": "2023-11-16T16:54:18.716Z"
   },
   {
    "duration": 9,
    "start_time": "2023-11-16T16:54:19.570Z"
   },
   {
    "duration": 732,
    "start_time": "2023-11-16T16:54:19.581Z"
   },
   {
    "duration": 16,
    "start_time": "2023-11-16T16:54:20.316Z"
   },
   {
    "duration": 424,
    "start_time": "2023-11-16T16:54:20.338Z"
   },
   {
    "duration": 12,
    "start_time": "2023-11-16T16:54:20.769Z"
   },
   {
    "duration": 1507,
    "start_time": "2023-11-16T16:54:20.783Z"
   },
   {
    "duration": 306,
    "start_time": "2023-11-16T16:54:22.296Z"
   },
   {
    "duration": 8,
    "start_time": "2023-11-16T16:54:22.607Z"
   },
   {
    "duration": 14,
    "start_time": "2023-11-16T16:54:22.620Z"
   },
   {
    "duration": 16,
    "start_time": "2023-11-16T16:54:22.638Z"
   },
   {
    "duration": 40,
    "start_time": "2023-11-16T16:54:22.657Z"
   },
   {
    "duration": 19,
    "start_time": "2023-11-16T16:54:22.704Z"
   },
   {
    "duration": 17,
    "start_time": "2023-11-16T16:54:22.729Z"
   },
   {
    "duration": 47,
    "start_time": "2023-11-16T16:54:22.748Z"
   },
   {
    "duration": 21,
    "start_time": "2023-11-16T16:54:22.798Z"
   },
   {
    "duration": 278,
    "start_time": "2023-11-16T16:54:22.824Z"
   },
   {
    "duration": 50,
    "start_time": "2023-11-16T16:54:23.106Z"
   },
   {
    "duration": 16,
    "start_time": "2023-11-16T16:54:23.158Z"
   },
   {
    "duration": 6829,
    "start_time": "2023-11-16T16:54:23.178Z"
   },
   {
    "duration": 6,
    "start_time": "2023-11-16T16:54:30.009Z"
   },
   {
    "duration": 13756,
    "start_time": "2023-11-16T16:54:30.017Z"
   },
   {
    "duration": 6,
    "start_time": "2023-11-16T16:54:43.775Z"
   },
   {
    "duration": 1732,
    "start_time": "2023-11-16T16:55:58.121Z"
   },
   {
    "duration": 1028,
    "start_time": "2023-11-16T16:55:59.856Z"
   },
   {
    "duration": 125,
    "start_time": "2023-11-16T16:56:00.890Z"
   },
   {
    "duration": 64,
    "start_time": "2023-11-16T16:56:01.018Z"
   },
   {
    "duration": 95,
    "start_time": "2023-11-16T16:56:01.085Z"
   },
   {
    "duration": 78,
    "start_time": "2023-11-16T16:56:01.183Z"
   },
   {
    "duration": 116,
    "start_time": "2023-11-16T16:56:01.263Z"
   },
   {
    "duration": 18,
    "start_time": "2023-11-16T16:56:01.381Z"
   },
   {
    "duration": 38,
    "start_time": "2023-11-16T16:56:01.401Z"
   },
   {
    "duration": 9,
    "start_time": "2023-11-16T16:56:01.478Z"
   },
   {
    "duration": 678,
    "start_time": "2023-11-16T16:56:01.489Z"
   },
   {
    "duration": 6,
    "start_time": "2023-11-16T16:56:02.171Z"
   },
   {
    "duration": 35,
    "start_time": "2023-11-16T16:56:02.178Z"
   },
   {
    "duration": 42,
    "start_time": "2023-11-16T16:56:02.215Z"
   },
   {
    "duration": 25,
    "start_time": "2023-11-16T16:56:02.259Z"
   },
   {
    "duration": 30,
    "start_time": "2023-11-16T16:56:02.286Z"
   },
   {
    "duration": 297,
    "start_time": "2023-11-16T16:56:02.357Z"
   },
   {
    "duration": 44,
    "start_time": "2023-11-16T16:56:02.658Z"
   },
   {
    "duration": 60,
    "start_time": "2023-11-16T16:56:02.703Z"
   },
   {
    "duration": 5,
    "start_time": "2023-11-16T16:56:02.766Z"
   },
   {
    "duration": 33,
    "start_time": "2023-11-16T16:56:02.773Z"
   },
   {
    "duration": 31,
    "start_time": "2023-11-16T16:56:02.808Z"
   },
   {
    "duration": 11,
    "start_time": "2023-11-16T16:56:02.841Z"
   },
   {
    "duration": 23,
    "start_time": "2023-11-16T16:56:02.854Z"
   },
   {
    "duration": 937,
    "start_time": "2023-11-16T16:56:02.879Z"
   },
   {
    "duration": 845,
    "start_time": "2023-11-16T16:56:03.818Z"
   },
   {
    "duration": 13,
    "start_time": "2023-11-16T16:56:04.664Z"
   },
   {
    "duration": 491,
    "start_time": "2023-11-16T16:56:04.682Z"
   },
   {
    "duration": 279,
    "start_time": "2023-11-16T16:56:05.174Z"
   },
   {
    "duration": 7,
    "start_time": "2023-11-16T16:56:05.455Z"
   },
   {
    "duration": 361,
    "start_time": "2023-11-16T16:56:05.464Z"
   },
   {
    "duration": 7,
    "start_time": "2023-11-16T16:56:05.826Z"
   },
   {
    "duration": 301,
    "start_time": "2023-11-16T16:56:05.834Z"
   },
   {
    "duration": 28,
    "start_time": "2023-11-16T16:56:06.137Z"
   },
   {
    "duration": 1238,
    "start_time": "2023-11-16T16:56:06.169Z"
   },
   {
    "duration": 241,
    "start_time": "2023-11-16T16:56:07.408Z"
   },
   {
    "duration": 12,
    "start_time": "2023-11-16T16:56:07.651Z"
   },
   {
    "duration": 21,
    "start_time": "2023-11-16T16:56:07.664Z"
   },
   {
    "duration": 14,
    "start_time": "2023-11-16T16:56:07.686Z"
   },
   {
    "duration": 15,
    "start_time": "2023-11-16T16:56:07.701Z"
   },
   {
    "duration": 8,
    "start_time": "2023-11-16T16:56:07.718Z"
   },
   {
    "duration": 8,
    "start_time": "2023-11-16T16:56:07.729Z"
   },
   {
    "duration": 21,
    "start_time": "2023-11-16T16:56:07.739Z"
   },
   {
    "duration": 26,
    "start_time": "2023-11-16T16:56:07.761Z"
   },
   {
    "duration": 223,
    "start_time": "2023-11-16T16:56:07.789Z"
   },
   {
    "duration": 52,
    "start_time": "2023-11-16T16:56:08.014Z"
   },
   {
    "duration": 5,
    "start_time": "2023-11-16T16:56:08.068Z"
   },
   {
    "duration": 5766,
    "start_time": "2023-11-16T16:56:08.075Z"
   },
   {
    "duration": 5,
    "start_time": "2023-11-16T16:56:13.842Z"
   },
   {
    "duration": 12807,
    "start_time": "2023-11-16T16:56:13.859Z"
   },
   {
    "duration": 8,
    "start_time": "2023-11-16T16:56:26.673Z"
   },
   {
    "duration": 1572,
    "start_time": "2023-11-16T16:57:13.126Z"
   },
   {
    "duration": 799,
    "start_time": "2023-11-16T16:57:14.700Z"
   },
   {
    "duration": 72,
    "start_time": "2023-11-16T16:57:15.503Z"
   },
   {
    "duration": 17,
    "start_time": "2023-11-16T16:57:15.580Z"
   },
   {
    "duration": 20,
    "start_time": "2023-11-16T16:57:15.599Z"
   },
   {
    "duration": 16,
    "start_time": "2023-11-16T16:57:15.621Z"
   },
   {
    "duration": 6,
    "start_time": "2023-11-16T16:57:15.656Z"
   },
   {
    "duration": 11,
    "start_time": "2023-11-16T16:57:15.664Z"
   },
   {
    "duration": 16,
    "start_time": "2023-11-16T16:57:15.677Z"
   },
   {
    "duration": 4,
    "start_time": "2023-11-16T16:57:15.696Z"
   },
   {
    "duration": 224,
    "start_time": "2023-11-16T16:57:15.702Z"
   },
   {
    "duration": 4,
    "start_time": "2023-11-16T16:57:15.928Z"
   },
   {
    "duration": 10,
    "start_time": "2023-11-16T16:57:15.934Z"
   },
   {
    "duration": 12,
    "start_time": "2023-11-16T16:57:15.957Z"
   },
   {
    "duration": 23,
    "start_time": "2023-11-16T16:57:15.970Z"
   },
   {
    "duration": 21,
    "start_time": "2023-11-16T16:57:15.995Z"
   },
   {
    "duration": 279,
    "start_time": "2023-11-16T16:57:16.017Z"
   },
   {
    "duration": 25,
    "start_time": "2023-11-16T16:57:16.297Z"
   },
   {
    "duration": 63,
    "start_time": "2023-11-16T16:57:16.324Z"
   },
   {
    "duration": 3,
    "start_time": "2023-11-16T16:57:16.388Z"
   },
   {
    "duration": 3,
    "start_time": "2023-11-16T16:57:16.394Z"
   },
   {
    "duration": 11,
    "start_time": "2023-11-16T16:57:16.398Z"
   },
   {
    "duration": 6,
    "start_time": "2023-11-16T16:57:16.410Z"
   },
   {
    "duration": 12,
    "start_time": "2023-11-16T16:57:16.417Z"
   },
   {
    "duration": 894,
    "start_time": "2023-11-16T16:57:16.431Z"
   },
   {
    "duration": 893,
    "start_time": "2023-11-16T16:57:17.327Z"
   },
   {
    "duration": 8,
    "start_time": "2023-11-16T16:57:18.222Z"
   },
   {
    "duration": 538,
    "start_time": "2023-11-16T16:57:18.232Z"
   },
   {
    "duration": 278,
    "start_time": "2023-11-16T16:57:18.772Z"
   },
   {
    "duration": 11,
    "start_time": "2023-11-16T16:57:19.055Z"
   },
   {
    "duration": 316,
    "start_time": "2023-11-16T16:57:19.073Z"
   },
   {
    "duration": 8,
    "start_time": "2023-11-16T16:57:19.391Z"
   },
   {
    "duration": 367,
    "start_time": "2023-11-16T16:57:19.401Z"
   },
   {
    "duration": 15,
    "start_time": "2023-11-16T16:57:19.769Z"
   },
   {
    "duration": 1251,
    "start_time": "2023-11-16T16:57:19.789Z"
   },
   {
    "duration": 268,
    "start_time": "2023-11-16T16:57:21.042Z"
   },
   {
    "duration": 4,
    "start_time": "2023-11-16T16:57:21.312Z"
   },
   {
    "duration": 24,
    "start_time": "2023-11-16T16:57:21.318Z"
   },
   {
    "duration": 25,
    "start_time": "2023-11-16T16:57:21.345Z"
   },
   {
    "duration": 27,
    "start_time": "2023-11-16T16:57:21.373Z"
   },
   {
    "duration": 27,
    "start_time": "2023-11-16T16:57:21.402Z"
   },
   {
    "duration": 20,
    "start_time": "2023-11-16T16:57:21.431Z"
   },
   {
    "duration": 34,
    "start_time": "2023-11-16T16:57:21.454Z"
   },
   {
    "duration": 28,
    "start_time": "2023-11-16T16:57:21.490Z"
   },
   {
    "duration": 215,
    "start_time": "2023-11-16T16:57:21.520Z"
   },
   {
    "duration": 44,
    "start_time": "2023-11-16T16:57:21.737Z"
   },
   {
    "duration": 4,
    "start_time": "2023-11-16T16:57:21.784Z"
   },
   {
    "duration": 7227,
    "start_time": "2023-11-16T16:57:21.790Z"
   },
   {
    "duration": 5,
    "start_time": "2023-11-16T16:57:29.019Z"
   },
   {
    "duration": 13288,
    "start_time": "2023-11-16T16:57:29.026Z"
   },
   {
    "duration": 7,
    "start_time": "2023-11-16T16:57:42.316Z"
   },
   {
    "duration": 305943,
    "start_time": "2023-11-16T16:57:42.325Z"
   },
   {
    "duration": 5,
    "start_time": "2023-11-16T17:02:48.269Z"
   },
   {
    "duration": 708358,
    "start_time": "2023-11-16T17:02:48.276Z"
   },
   {
    "duration": 5,
    "start_time": "2023-11-16T17:14:36.636Z"
   },
   {
    "duration": 21,
    "start_time": "2023-11-16T17:17:22.840Z"
   },
   {
    "duration": 3,
    "start_time": "2023-11-16T17:17:24.410Z"
   },
   {
    "duration": 4,
    "start_time": "2023-11-16T17:17:25.731Z"
   },
   {
    "duration": 10,
    "start_time": "2023-11-16T17:18:21.082Z"
   },
   {
    "duration": 24,
    "start_time": "2023-11-16T17:18:43.245Z"
   },
   {
    "duration": 26,
    "start_time": "2023-11-16T17:19:05.964Z"
   },
   {
    "duration": 7,
    "start_time": "2023-11-16T17:19:29.064Z"
   },
   {
    "duration": 797,
    "start_time": "2023-11-16T17:19:29.185Z"
   },
   {
    "duration": 49,
    "start_time": "2023-11-16T17:19:29.985Z"
   },
   {
    "duration": 43,
    "start_time": "2023-11-16T17:19:30.036Z"
   },
   {
    "duration": 46,
    "start_time": "2023-11-16T17:19:30.080Z"
   },
   {
    "duration": 52,
    "start_time": "2023-11-16T17:19:30.129Z"
   },
   {
    "duration": 24,
    "start_time": "2023-11-16T17:19:30.183Z"
   },
   {
    "duration": 21,
    "start_time": "2023-11-16T17:19:30.209Z"
   },
   {
    "duration": 32,
    "start_time": "2023-11-16T17:19:30.232Z"
   },
   {
    "duration": 16,
    "start_time": "2023-11-16T17:19:30.266Z"
   },
   {
    "duration": 204,
    "start_time": "2023-11-16T17:19:30.286Z"
   },
   {
    "duration": 4,
    "start_time": "2023-11-16T17:19:30.492Z"
   },
   {
    "duration": 14,
    "start_time": "2023-11-16T17:19:30.498Z"
   },
   {
    "duration": 22,
    "start_time": "2023-11-16T17:19:30.515Z"
   },
   {
    "duration": 40,
    "start_time": "2023-11-16T17:19:30.540Z"
   },
   {
    "duration": 39,
    "start_time": "2023-11-16T17:19:30.586Z"
   },
   {
    "duration": 278,
    "start_time": "2023-11-16T17:19:30.627Z"
   },
   {
    "duration": 30,
    "start_time": "2023-11-16T17:19:30.907Z"
   },
   {
    "duration": 13,
    "start_time": "2023-11-16T17:19:30.939Z"
   },
   {
    "duration": 41,
    "start_time": "2023-11-16T17:19:30.955Z"
   },
   {
    "duration": 39,
    "start_time": "2023-11-16T17:19:30.997Z"
   },
   {
    "duration": 59,
    "start_time": "2023-11-16T17:19:31.038Z"
   },
   {
    "duration": 69,
    "start_time": "2023-11-16T17:19:31.099Z"
   },
   {
    "duration": 35,
    "start_time": "2023-11-16T17:19:31.169Z"
   },
   {
    "duration": 63,
    "start_time": "2023-11-16T17:19:31.206Z"
   },
   {
    "duration": 47,
    "start_time": "2023-11-16T17:19:31.276Z"
   },
   {
    "duration": 46,
    "start_time": "2023-11-16T17:19:31.325Z"
   },
   {
    "duration": 28,
    "start_time": "2023-11-16T17:19:31.373Z"
   },
   {
    "duration": 900,
    "start_time": "2023-11-16T17:19:31.405Z"
   },
   {
    "duration": 765,
    "start_time": "2023-11-16T17:19:32.306Z"
   },
   {
    "duration": 14,
    "start_time": "2023-11-16T17:19:33.072Z"
   },
   {
    "duration": 1202,
    "start_time": "2023-11-16T17:19:33.087Z"
   },
   {
    "duration": 974,
    "start_time": "2023-11-16T17:19:34.290Z"
   },
   {
    "duration": 9,
    "start_time": "2023-11-16T17:19:35.268Z"
   },
   {
    "duration": 325,
    "start_time": "2023-11-16T17:19:35.280Z"
   },
   {
    "duration": 11,
    "start_time": "2023-11-16T17:19:35.606Z"
   },
   {
    "duration": 329,
    "start_time": "2023-11-16T17:19:35.619Z"
   },
   {
    "duration": 20,
    "start_time": "2023-11-16T17:19:35.949Z"
   },
   {
    "duration": 1163,
    "start_time": "2023-11-16T17:19:35.971Z"
   },
   {
    "duration": 244,
    "start_time": "2023-11-16T17:19:37.136Z"
   },
   {
    "duration": 5,
    "start_time": "2023-11-16T17:19:37.382Z"
   },
   {
    "duration": 6,
    "start_time": "2023-11-16T17:19:37.391Z"
   },
   {
    "duration": 8,
    "start_time": "2023-11-16T17:19:37.398Z"
   },
   {
    "duration": 4,
    "start_time": "2023-11-16T17:19:37.408Z"
   },
   {
    "duration": 13,
    "start_time": "2023-11-16T17:19:37.413Z"
   },
   {
    "duration": 9,
    "start_time": "2023-11-16T17:19:37.428Z"
   },
   {
    "duration": 41,
    "start_time": "2023-11-16T17:19:37.439Z"
   },
   {
    "duration": 16,
    "start_time": "2023-11-16T17:19:37.481Z"
   },
   {
    "duration": 250,
    "start_time": "2023-11-16T17:19:37.499Z"
   },
   {
    "duration": 40,
    "start_time": "2023-11-16T17:19:37.751Z"
   },
   {
    "duration": 5,
    "start_time": "2023-11-16T17:19:37.793Z"
   },
   {
    "duration": 379,
    "start_time": "2023-11-16T17:19:37.799Z"
   },
   {
    "duration": 82,
    "start_time": "2023-11-16T17:19:38.180Z"
   },
   {
    "duration": 240,
    "start_time": "2023-11-16T17:19:38.267Z"
   },
   {
    "duration": 0,
    "start_time": "2023-11-16T17:19:38.509Z"
   },
   {
    "duration": 0,
    "start_time": "2023-11-16T17:19:38.510Z"
   },
   {
    "duration": 0,
    "start_time": "2023-11-16T17:19:38.512Z"
   },
   {
    "duration": 0,
    "start_time": "2023-11-16T17:19:38.514Z"
   },
   {
    "duration": 0,
    "start_time": "2023-11-16T17:19:38.515Z"
   },
   {
    "duration": 9,
    "start_time": "2023-11-16T17:20:34.382Z"
   },
   {
    "duration": 943,
    "start_time": "2023-11-16T17:20:34.490Z"
   },
   {
    "duration": 91,
    "start_time": "2023-11-16T17:20:35.435Z"
   },
   {
    "duration": 23,
    "start_time": "2023-11-16T17:20:35.528Z"
   },
   {
    "duration": 45,
    "start_time": "2023-11-16T17:20:35.553Z"
   },
   {
    "duration": 23,
    "start_time": "2023-11-16T17:20:35.600Z"
   },
   {
    "duration": 3,
    "start_time": "2023-11-16T17:20:35.626Z"
   },
   {
    "duration": 51,
    "start_time": "2023-11-16T17:20:35.631Z"
   },
   {
    "duration": 24,
    "start_time": "2023-11-16T17:20:35.684Z"
   },
   {
    "duration": 19,
    "start_time": "2023-11-16T17:20:35.710Z"
   },
   {
    "duration": 258,
    "start_time": "2023-11-16T17:20:35.730Z"
   },
   {
    "duration": 5,
    "start_time": "2023-11-16T17:20:35.997Z"
   },
   {
    "duration": 21,
    "start_time": "2023-11-16T17:20:36.004Z"
   },
   {
    "duration": 8,
    "start_time": "2023-11-16T17:20:36.027Z"
   },
   {
    "duration": 20,
    "start_time": "2023-11-16T17:20:36.039Z"
   },
   {
    "duration": 23,
    "start_time": "2023-11-16T17:20:36.061Z"
   },
   {
    "duration": 255,
    "start_time": "2023-11-16T17:20:36.090Z"
   },
   {
    "duration": 26,
    "start_time": "2023-11-16T17:20:36.346Z"
   },
   {
    "duration": 7,
    "start_time": "2023-11-16T17:20:36.379Z"
   },
   {
    "duration": 7,
    "start_time": "2023-11-16T17:20:36.389Z"
   },
   {
    "duration": 21,
    "start_time": "2023-11-16T17:20:36.398Z"
   },
   {
    "duration": 3,
    "start_time": "2023-11-16T17:20:36.422Z"
   },
   {
    "duration": 59,
    "start_time": "2023-11-16T17:20:36.427Z"
   },
   {
    "duration": 4,
    "start_time": "2023-11-16T17:20:36.489Z"
   },
   {
    "duration": 7,
    "start_time": "2023-11-16T17:20:36.495Z"
   },
   {
    "duration": 3,
    "start_time": "2023-11-16T17:20:36.504Z"
   },
   {
    "duration": 8,
    "start_time": "2023-11-16T17:20:36.509Z"
   },
   {
    "duration": 17,
    "start_time": "2023-11-16T17:20:36.519Z"
   },
   {
    "duration": 974,
    "start_time": "2023-11-16T17:20:36.558Z"
   },
   {
    "duration": 1255,
    "start_time": "2023-11-16T17:20:37.535Z"
   },
   {
    "duration": 16,
    "start_time": "2023-11-16T17:20:38.792Z"
   },
   {
    "duration": 1232,
    "start_time": "2023-11-16T17:20:38.856Z"
   },
   {
    "duration": 358,
    "start_time": "2023-11-16T17:20:40.093Z"
   },
   {
    "duration": 24,
    "start_time": "2023-11-16T17:20:40.453Z"
   },
   {
    "duration": 412,
    "start_time": "2023-11-16T17:20:40.483Z"
   },
   {
    "duration": 7,
    "start_time": "2023-11-16T17:20:40.904Z"
   },
   {
    "duration": 407,
    "start_time": "2023-11-16T17:20:40.913Z"
   },
   {
    "duration": 15,
    "start_time": "2023-11-16T17:20:41.323Z"
   },
   {
    "duration": 1369,
    "start_time": "2023-11-16T17:20:41.341Z"
   },
   {
    "duration": 238,
    "start_time": "2023-11-16T17:20:42.711Z"
   },
   {
    "duration": 5,
    "start_time": "2023-11-16T17:20:42.955Z"
   },
   {
    "duration": 11,
    "start_time": "2023-11-16T17:20:42.965Z"
   },
   {
    "duration": 6,
    "start_time": "2023-11-16T17:20:42.978Z"
   },
   {
    "duration": 10,
    "start_time": "2023-11-16T17:20:42.985Z"
   },
   {
    "duration": 9,
    "start_time": "2023-11-16T17:20:42.997Z"
   },
   {
    "duration": 10,
    "start_time": "2023-11-16T17:20:43.008Z"
   },
   {
    "duration": 17,
    "start_time": "2023-11-16T17:20:43.020Z"
   },
   {
    "duration": 22,
    "start_time": "2023-11-16T17:20:43.060Z"
   },
   {
    "duration": 250,
    "start_time": "2023-11-16T17:20:43.084Z"
   },
   {
    "duration": 47,
    "start_time": "2023-11-16T17:20:43.336Z"
   },
   {
    "duration": 5,
    "start_time": "2023-11-16T17:20:43.385Z"
   },
   {
    "duration": 347,
    "start_time": "2023-11-16T17:20:43.392Z"
   },
   {
    "duration": 99,
    "start_time": "2023-11-16T17:20:43.740Z"
   },
   {
    "duration": 270,
    "start_time": "2023-11-16T17:20:43.840Z"
   },
   {
    "duration": 0,
    "start_time": "2023-11-16T17:20:44.112Z"
   },
   {
    "duration": 0,
    "start_time": "2023-11-16T17:20:44.113Z"
   },
   {
    "duration": 0,
    "start_time": "2023-11-16T17:20:44.114Z"
   },
   {
    "duration": 0,
    "start_time": "2023-11-16T17:20:44.115Z"
   },
   {
    "duration": 0,
    "start_time": "2023-11-16T17:20:44.116Z"
   },
   {
    "duration": 4,
    "start_time": "2023-11-16T17:22:08.177Z"
   },
   {
    "duration": 83,
    "start_time": "2023-11-16T17:23:19.195Z"
   },
   {
    "duration": 91,
    "start_time": "2023-11-16T17:23:27.184Z"
   },
   {
    "duration": 9,
    "start_time": "2023-11-16T17:23:33.401Z"
   },
   {
    "duration": 11,
    "start_time": "2023-11-16T17:23:57.624Z"
   },
   {
    "duration": 5,
    "start_time": "2023-11-16T17:24:08.228Z"
   },
   {
    "duration": 20,
    "start_time": "2023-11-16T17:25:15.695Z"
   },
   {
    "duration": 42,
    "start_time": "2023-11-16T17:25:42.025Z"
   },
   {
    "duration": 27,
    "start_time": "2023-11-16T17:26:05.473Z"
   },
   {
    "duration": 9,
    "start_time": "2023-11-16T17:26:20.387Z"
   },
   {
    "duration": 865,
    "start_time": "2023-11-16T17:26:20.565Z"
   },
   {
    "duration": 79,
    "start_time": "2023-11-16T17:26:21.433Z"
   },
   {
    "duration": 23,
    "start_time": "2023-11-16T17:26:21.513Z"
   },
   {
    "duration": 50,
    "start_time": "2023-11-16T17:26:21.538Z"
   },
   {
    "duration": 24,
    "start_time": "2023-11-16T17:26:21.591Z"
   },
   {
    "duration": 5,
    "start_time": "2023-11-16T17:26:21.617Z"
   },
   {
    "duration": 4,
    "start_time": "2023-11-16T17:26:21.624Z"
   },
   {
    "duration": 31,
    "start_time": "2023-11-16T17:26:21.630Z"
   },
   {
    "duration": 7,
    "start_time": "2023-11-16T17:26:21.663Z"
   },
   {
    "duration": 234,
    "start_time": "2023-11-16T17:26:21.674Z"
   },
   {
    "duration": 4,
    "start_time": "2023-11-16T17:26:21.909Z"
   },
   {
    "duration": 5,
    "start_time": "2023-11-16T17:26:21.915Z"
   },
   {
    "duration": 3,
    "start_time": "2023-11-16T17:26:21.922Z"
   },
   {
    "duration": 31,
    "start_time": "2023-11-16T17:26:21.928Z"
   },
   {
    "duration": 27,
    "start_time": "2023-11-16T17:26:21.963Z"
   },
   {
    "duration": 276,
    "start_time": "2023-11-16T17:26:21.992Z"
   },
   {
    "duration": 21,
    "start_time": "2023-11-16T17:26:22.270Z"
   },
   {
    "duration": 6,
    "start_time": "2023-11-16T17:26:22.292Z"
   },
   {
    "duration": 7,
    "start_time": "2023-11-16T17:26:22.300Z"
   },
   {
    "duration": 7,
    "start_time": "2023-11-16T17:26:22.309Z"
   },
   {
    "duration": 3,
    "start_time": "2023-11-16T17:26:22.317Z"
   },
   {
    "duration": 6,
    "start_time": "2023-11-16T17:26:22.321Z"
   },
   {
    "duration": 42,
    "start_time": "2023-11-16T17:26:22.328Z"
   },
   {
    "duration": 17,
    "start_time": "2023-11-16T17:26:22.378Z"
   },
   {
    "duration": 0,
    "start_time": "2023-11-16T17:26:22.397Z"
   },
   {
    "duration": 0,
    "start_time": "2023-11-16T17:26:22.398Z"
   },
   {
    "duration": 0,
    "start_time": "2023-11-16T17:26:22.399Z"
   },
   {
    "duration": 0,
    "start_time": "2023-11-16T17:26:22.400Z"
   },
   {
    "duration": 0,
    "start_time": "2023-11-16T17:26:22.401Z"
   },
   {
    "duration": 0,
    "start_time": "2023-11-16T17:26:22.402Z"
   },
   {
    "duration": 0,
    "start_time": "2023-11-16T17:26:22.403Z"
   },
   {
    "duration": 0,
    "start_time": "2023-11-16T17:26:22.404Z"
   },
   {
    "duration": 0,
    "start_time": "2023-11-16T17:26:22.405Z"
   },
   {
    "duration": 0,
    "start_time": "2023-11-16T17:26:22.407Z"
   },
   {
    "duration": 0,
    "start_time": "2023-11-16T17:26:22.408Z"
   },
   {
    "duration": 0,
    "start_time": "2023-11-16T17:26:22.409Z"
   },
   {
    "duration": 0,
    "start_time": "2023-11-16T17:26:22.411Z"
   },
   {
    "duration": 0,
    "start_time": "2023-11-16T17:26:22.411Z"
   },
   {
    "duration": 0,
    "start_time": "2023-11-16T17:26:22.412Z"
   },
   {
    "duration": 0,
    "start_time": "2023-11-16T17:26:22.413Z"
   },
   {
    "duration": 0,
    "start_time": "2023-11-16T17:26:22.414Z"
   },
   {
    "duration": 0,
    "start_time": "2023-11-16T17:26:22.415Z"
   },
   {
    "duration": 0,
    "start_time": "2023-11-16T17:26:22.416Z"
   },
   {
    "duration": 0,
    "start_time": "2023-11-16T17:26:22.417Z"
   },
   {
    "duration": 0,
    "start_time": "2023-11-16T17:26:22.419Z"
   },
   {
    "duration": 0,
    "start_time": "2023-11-16T17:26:22.420Z"
   },
   {
    "duration": 0,
    "start_time": "2023-11-16T17:26:22.421Z"
   },
   {
    "duration": 0,
    "start_time": "2023-11-16T17:26:22.422Z"
   },
   {
    "duration": 0,
    "start_time": "2023-11-16T17:26:22.423Z"
   },
   {
    "duration": 0,
    "start_time": "2023-11-16T17:26:22.424Z"
   },
   {
    "duration": 0,
    "start_time": "2023-11-16T17:26:22.425Z"
   },
   {
    "duration": 0,
    "start_time": "2023-11-16T17:26:22.426Z"
   },
   {
    "duration": 0,
    "start_time": "2023-11-16T17:26:22.427Z"
   },
   {
    "duration": 0,
    "start_time": "2023-11-16T17:26:22.428Z"
   },
   {
    "duration": 0,
    "start_time": "2023-11-16T17:26:22.456Z"
   },
   {
    "duration": 0,
    "start_time": "2023-11-16T17:26:22.457Z"
   },
   {
    "duration": 0,
    "start_time": "2023-11-16T17:26:22.461Z"
   },
   {
    "duration": 0,
    "start_time": "2023-11-16T17:26:22.461Z"
   },
   {
    "duration": 0,
    "start_time": "2023-11-16T17:26:22.462Z"
   },
   {
    "duration": 0,
    "start_time": "2023-11-16T17:26:22.463Z"
   },
   {
    "duration": 0,
    "start_time": "2023-11-16T17:26:22.463Z"
   },
   {
    "duration": 41,
    "start_time": "2023-11-16T17:34:13.267Z"
   },
   {
    "duration": 5,
    "start_time": "2023-11-16T17:35:16.489Z"
   },
   {
    "duration": 764,
    "start_time": "2023-11-16T17:35:16.608Z"
   },
   {
    "duration": 58,
    "start_time": "2023-11-16T17:35:17.374Z"
   },
   {
    "duration": 26,
    "start_time": "2023-11-16T17:35:17.434Z"
   },
   {
    "duration": 36,
    "start_time": "2023-11-16T17:35:17.463Z"
   },
   {
    "duration": 17,
    "start_time": "2023-11-16T17:35:17.501Z"
   },
   {
    "duration": 12,
    "start_time": "2023-11-16T17:35:17.520Z"
   },
   {
    "duration": 8,
    "start_time": "2023-11-16T17:35:17.534Z"
   },
   {
    "duration": 19,
    "start_time": "2023-11-16T17:35:17.544Z"
   },
   {
    "duration": 12,
    "start_time": "2023-11-16T17:35:17.564Z"
   },
   {
    "duration": 196,
    "start_time": "2023-11-16T17:35:17.580Z"
   },
   {
    "duration": 6,
    "start_time": "2023-11-16T17:35:17.777Z"
   },
   {
    "duration": 4,
    "start_time": "2023-11-16T17:35:17.785Z"
   },
   {
    "duration": 6,
    "start_time": "2023-11-16T17:35:17.791Z"
   },
   {
    "duration": 8,
    "start_time": "2023-11-16T17:35:17.800Z"
   },
   {
    "duration": 19,
    "start_time": "2023-11-16T17:35:17.810Z"
   },
   {
    "duration": 249,
    "start_time": "2023-11-16T17:35:17.860Z"
   },
   {
    "duration": 14,
    "start_time": "2023-11-16T17:35:18.111Z"
   },
   {
    "duration": 6,
    "start_time": "2023-11-16T17:35:18.126Z"
   },
   {
    "duration": 8,
    "start_time": "2023-11-16T17:35:18.133Z"
   },
   {
    "duration": 10,
    "start_time": "2023-11-16T17:35:18.156Z"
   },
   {
    "duration": 10,
    "start_time": "2023-11-16T17:35:18.173Z"
   },
   {
    "duration": 9,
    "start_time": "2023-11-16T17:35:18.184Z"
   },
   {
    "duration": 16,
    "start_time": "2023-11-16T17:35:18.194Z"
   },
   {
    "duration": 5,
    "start_time": "2023-11-16T17:35:18.212Z"
   },
   {
    "duration": 54,
    "start_time": "2023-11-16T17:35:18.219Z"
   },
   {
    "duration": 46,
    "start_time": "2023-11-16T17:35:18.275Z"
   },
   {
    "duration": 2,
    "start_time": "2023-11-16T17:35:18.323Z"
   },
   {
    "duration": 13,
    "start_time": "2023-11-16T17:35:18.327Z"
   },
   {
    "duration": 6,
    "start_time": "2023-11-16T17:35:18.341Z"
   },
   {
    "duration": 13,
    "start_time": "2023-11-16T17:35:18.360Z"
   },
   {
    "duration": 17,
    "start_time": "2023-11-16T17:35:18.377Z"
   },
   {
    "duration": 826,
    "start_time": "2023-11-16T17:35:18.396Z"
   },
   {
    "duration": 736,
    "start_time": "2023-11-16T17:35:19.224Z"
   },
   {
    "duration": 16,
    "start_time": "2023-11-16T17:35:19.967Z"
   },
   {
    "duration": 1007,
    "start_time": "2023-11-16T17:35:19.984Z"
   },
   {
    "duration": 871,
    "start_time": "2023-11-16T17:35:20.993Z"
   },
   {
    "duration": 10,
    "start_time": "2023-11-16T17:35:21.866Z"
   },
   {
    "duration": 663,
    "start_time": "2023-11-16T17:35:21.879Z"
   },
   {
    "duration": 20,
    "start_time": "2023-11-16T17:35:22.544Z"
   },
   {
    "duration": 286,
    "start_time": "2023-11-16T17:35:22.568Z"
   },
   {
    "duration": 10,
    "start_time": "2023-11-16T17:35:22.862Z"
   },
   {
    "duration": 1124,
    "start_time": "2023-11-16T17:35:22.874Z"
   },
   {
    "duration": 246,
    "start_time": "2023-11-16T17:35:24.000Z"
   },
   {
    "duration": 9,
    "start_time": "2023-11-16T17:35:24.247Z"
   },
   {
    "duration": 13,
    "start_time": "2023-11-16T17:35:24.259Z"
   },
   {
    "duration": 12,
    "start_time": "2023-11-16T17:35:24.275Z"
   },
   {
    "duration": 4,
    "start_time": "2023-11-16T17:35:24.289Z"
   },
   {
    "duration": 7,
    "start_time": "2023-11-16T17:35:24.294Z"
   },
   {
    "duration": 9,
    "start_time": "2023-11-16T17:35:24.305Z"
   },
   {
    "duration": 15,
    "start_time": "2023-11-16T17:35:24.315Z"
   },
   {
    "duration": 41,
    "start_time": "2023-11-16T17:35:24.331Z"
   },
   {
    "duration": 231,
    "start_time": "2023-11-16T17:35:24.375Z"
   },
   {
    "duration": 40,
    "start_time": "2023-11-16T17:35:24.608Z"
   },
   {
    "duration": 16,
    "start_time": "2023-11-16T17:35:24.658Z"
   },
   {
    "duration": 243,
    "start_time": "2023-11-16T17:35:24.676Z"
   },
   {
    "duration": 78,
    "start_time": "2023-11-16T17:35:24.921Z"
   },
   {
    "duration": 273,
    "start_time": "2023-11-16T17:35:25.001Z"
   },
   {
    "duration": 0,
    "start_time": "2023-11-16T17:35:25.276Z"
   },
   {
    "duration": 0,
    "start_time": "2023-11-16T17:35:25.277Z"
   },
   {
    "duration": 0,
    "start_time": "2023-11-16T17:35:25.278Z"
   },
   {
    "duration": 0,
    "start_time": "2023-11-16T17:35:25.279Z"
   },
   {
    "duration": 0,
    "start_time": "2023-11-16T17:35:25.280Z"
   },
   {
    "duration": 13,
    "start_time": "2023-11-16T17:37:47.672Z"
   },
   {
    "duration": 7,
    "start_time": "2023-11-16T17:37:59.095Z"
   },
   {
    "duration": 785,
    "start_time": "2023-11-16T17:37:59.213Z"
   },
   {
    "duration": 190,
    "start_time": "2023-11-16T17:38:00.001Z"
   },
   {
    "duration": 42,
    "start_time": "2023-11-16T17:38:00.193Z"
   },
   {
    "duration": 61,
    "start_time": "2023-11-16T17:38:00.238Z"
   },
   {
    "duration": 35,
    "start_time": "2023-11-16T17:38:00.302Z"
   },
   {
    "duration": 48,
    "start_time": "2023-11-16T17:38:00.338Z"
   },
   {
    "duration": 30,
    "start_time": "2023-11-16T17:38:00.388Z"
   },
   {
    "duration": 47,
    "start_time": "2023-11-16T17:38:00.420Z"
   },
   {
    "duration": 8,
    "start_time": "2023-11-16T17:38:00.471Z"
   },
   {
    "duration": 239,
    "start_time": "2023-11-16T17:38:00.483Z"
   },
   {
    "duration": 4,
    "start_time": "2023-11-16T17:38:00.724Z"
   },
   {
    "duration": 29,
    "start_time": "2023-11-16T17:38:00.730Z"
   },
   {
    "duration": 29,
    "start_time": "2023-11-16T17:38:00.765Z"
   },
   {
    "duration": 31,
    "start_time": "2023-11-16T17:38:00.797Z"
   },
   {
    "duration": 40,
    "start_time": "2023-11-16T17:38:00.830Z"
   },
   {
    "duration": 245,
    "start_time": "2023-11-16T17:38:00.872Z"
   },
   {
    "duration": 16,
    "start_time": "2023-11-16T17:38:01.119Z"
   },
   {
    "duration": 50,
    "start_time": "2023-11-16T17:38:01.136Z"
   },
   {
    "duration": 46,
    "start_time": "2023-11-16T17:38:01.188Z"
   },
   {
    "duration": 42,
    "start_time": "2023-11-16T17:38:01.236Z"
   },
   {
    "duration": 18,
    "start_time": "2023-11-16T17:38:01.283Z"
   },
   {
    "duration": 37,
    "start_time": "2023-11-16T17:38:01.303Z"
   },
   {
    "duration": 46,
    "start_time": "2023-11-16T17:38:01.342Z"
   },
   {
    "duration": 24,
    "start_time": "2023-11-16T17:38:01.391Z"
   },
   {
    "duration": 15,
    "start_time": "2023-11-16T17:38:01.417Z"
   },
   {
    "duration": 30,
    "start_time": "2023-11-16T17:38:01.433Z"
   },
   {
    "duration": 65,
    "start_time": "2023-11-16T17:38:01.465Z"
   },
   {
    "duration": 3,
    "start_time": "2023-11-16T17:38:01.532Z"
   },
   {
    "duration": 47,
    "start_time": "2023-11-16T17:38:01.537Z"
   },
   {
    "duration": 25,
    "start_time": "2023-11-16T17:38:01.587Z"
   },
   {
    "duration": 57,
    "start_time": "2023-11-16T17:38:01.613Z"
   },
   {
    "duration": 17,
    "start_time": "2023-11-16T17:38:01.673Z"
   },
   {
    "duration": 851,
    "start_time": "2023-11-16T17:38:01.692Z"
   },
   {
    "duration": 1419,
    "start_time": "2023-11-16T17:38:02.545Z"
   },
   {
    "duration": 11,
    "start_time": "2023-11-16T17:38:03.965Z"
   },
   {
    "duration": 868,
    "start_time": "2023-11-16T17:38:03.980Z"
   },
   {
    "duration": 322,
    "start_time": "2023-11-16T17:38:04.850Z"
   },
   {
    "duration": 9,
    "start_time": "2023-11-16T17:38:05.174Z"
   },
   {
    "duration": 392,
    "start_time": "2023-11-16T17:38:05.185Z"
   },
   {
    "duration": 8,
    "start_time": "2023-11-16T17:38:05.580Z"
   },
   {
    "duration": 338,
    "start_time": "2023-11-16T17:38:05.593Z"
   },
   {
    "duration": 8,
    "start_time": "2023-11-16T17:38:05.932Z"
   },
   {
    "duration": 1225,
    "start_time": "2023-11-16T17:38:05.942Z"
   },
   {
    "duration": 266,
    "start_time": "2023-11-16T17:38:07.169Z"
   },
   {
    "duration": 4,
    "start_time": "2023-11-16T17:38:07.437Z"
   },
   {
    "duration": 32,
    "start_time": "2023-11-16T17:38:07.443Z"
   },
   {
    "duration": 10,
    "start_time": "2023-11-16T17:38:07.478Z"
   },
   {
    "duration": 14,
    "start_time": "2023-11-16T17:38:07.489Z"
   },
   {
    "duration": 13,
    "start_time": "2023-11-16T17:38:07.505Z"
   },
   {
    "duration": 42,
    "start_time": "2023-11-16T17:38:07.519Z"
   },
   {
    "duration": 19,
    "start_time": "2023-11-16T17:38:07.564Z"
   },
   {
    "duration": 18,
    "start_time": "2023-11-16T17:38:07.585Z"
   },
   {
    "duration": 267,
    "start_time": "2023-11-16T17:38:07.606Z"
   },
   {
    "duration": 44,
    "start_time": "2023-11-16T17:38:07.875Z"
   },
   {
    "duration": 8,
    "start_time": "2023-11-16T17:38:07.921Z"
   },
   {
    "duration": 264,
    "start_time": "2023-11-16T17:38:07.931Z"
   },
   {
    "duration": 83,
    "start_time": "2023-11-16T17:38:08.197Z"
   },
   {
    "duration": 243,
    "start_time": "2023-11-16T17:38:08.282Z"
   },
   {
    "duration": 0,
    "start_time": "2023-11-16T17:38:08.527Z"
   },
   {
    "duration": 0,
    "start_time": "2023-11-16T17:38:08.528Z"
   },
   {
    "duration": 0,
    "start_time": "2023-11-16T17:38:08.529Z"
   },
   {
    "duration": 0,
    "start_time": "2023-11-16T17:38:08.531Z"
   },
   {
    "duration": 0,
    "start_time": "2023-11-16T17:38:08.533Z"
   },
   {
    "duration": 3,
    "start_time": "2023-11-16T17:40:22.240Z"
   },
   {
    "duration": 2,
    "start_time": "2023-11-16T17:40:52.228Z"
   },
   {
    "duration": 2,
    "start_time": "2023-11-16T17:41:12.492Z"
   },
   {
    "duration": 871,
    "start_time": "2023-11-16T17:46:31.020Z"
   },
   {
    "duration": 943,
    "start_time": "2023-11-16T17:46:40.938Z"
   },
   {
    "duration": 754,
    "start_time": "2023-11-16T17:47:38.784Z"
   },
   {
    "duration": 758,
    "start_time": "2023-11-16T17:47:48.873Z"
   },
   {
    "duration": 808,
    "start_time": "2023-11-16T17:48:58.922Z"
   },
   {
    "duration": 12,
    "start_time": "2023-11-16T17:49:55.209Z"
   },
   {
    "duration": 23,
    "start_time": "2023-11-16T17:50:02.678Z"
   },
   {
    "duration": 790,
    "start_time": "2023-11-16T17:50:08.599Z"
   },
   {
    "duration": 12,
    "start_time": "2023-11-16T17:50:26.348Z"
   },
   {
    "duration": 788,
    "start_time": "2023-11-16T17:50:40.095Z"
   },
   {
    "duration": 368,
    "start_time": "2023-11-16T17:50:50.577Z"
   },
   {
    "duration": 8,
    "start_time": "2023-11-16T17:51:04.211Z"
   },
   {
    "duration": 363,
    "start_time": "2023-11-16T17:51:13.840Z"
   },
   {
    "duration": 7,
    "start_time": "2023-11-16T17:51:31.910Z"
   },
   {
    "duration": 339,
    "start_time": "2023-11-16T17:51:40.780Z"
   },
   {
    "duration": 14,
    "start_time": "2023-11-16T17:52:23.262Z"
   },
   {
    "duration": 1108,
    "start_time": "2023-11-16T17:52:41.802Z"
   },
   {
    "duration": 287,
    "start_time": "2023-11-16T17:53:17.527Z"
   },
   {
    "duration": 25,
    "start_time": "2023-11-16T17:56:16.857Z"
   },
   {
    "duration": 491,
    "start_time": "2023-11-16T17:56:26.999Z"
   },
   {
    "duration": 179,
    "start_time": "2023-11-16T18:26:07.282Z"
   },
   {
    "duration": 145,
    "start_time": "2023-11-16T18:29:38.989Z"
   },
   {
    "duration": 11,
    "start_time": "2023-11-16T18:30:11.702Z"
   },
   {
    "duration": 120,
    "start_time": "2023-11-16T18:30:35.259Z"
   },
   {
    "duration": 1135,
    "start_time": "2023-11-16T18:30:44.799Z"
   },
   {
    "duration": 79,
    "start_time": "2023-11-16T18:31:28.491Z"
   },
   {
    "duration": 1252,
    "start_time": "2023-11-16T18:31:37.539Z"
   },
   {
    "duration": 16,
    "start_time": "2023-11-16T18:33:12.389Z"
   },
   {
    "duration": 3,
    "start_time": "2023-11-16T18:33:38.416Z"
   },
   {
    "duration": 155,
    "start_time": "2023-11-16T18:33:41.558Z"
   },
   {
    "duration": 532,
    "start_time": "2023-11-16T18:33:52.731Z"
   },
   {
    "duration": 89,
    "start_time": "2023-11-16T18:33:57.914Z"
   },
   {
    "duration": 1236,
    "start_time": "2023-11-16T18:34:00.163Z"
   },
   {
    "duration": 289,
    "start_time": "2023-11-16T18:36:33.912Z"
   },
   {
    "duration": 19,
    "start_time": "2023-11-16T18:52:18.509Z"
   },
   {
    "duration": 412,
    "start_time": "2023-11-16T19:07:56.116Z"
   },
   {
    "duration": 637,
    "start_time": "2023-11-16T19:08:17.308Z"
   },
   {
    "duration": 565,
    "start_time": "2023-11-16T19:08:29.098Z"
   },
   {
    "duration": 13,
    "start_time": "2023-11-16T19:10:52.569Z"
   },
   {
    "duration": 963,
    "start_time": "2023-11-16T19:10:52.711Z"
   },
   {
    "duration": 69,
    "start_time": "2023-11-16T19:10:53.676Z"
   },
   {
    "duration": 88,
    "start_time": "2023-11-16T19:10:53.771Z"
   },
   {
    "duration": 128,
    "start_time": "2023-11-16T19:10:53.871Z"
   },
   {
    "duration": 48,
    "start_time": "2023-11-16T19:10:54.002Z"
   },
   {
    "duration": 258,
    "start_time": "2023-11-16T19:10:54.052Z"
   },
   {
    "duration": 65,
    "start_time": "2023-11-16T19:10:54.313Z"
   },
   {
    "duration": 89,
    "start_time": "2023-11-16T19:10:54.391Z"
   },
   {
    "duration": 199,
    "start_time": "2023-11-16T19:10:54.490Z"
   },
   {
    "duration": 363,
    "start_time": "2023-11-16T19:10:54.695Z"
   },
   {
    "duration": 6,
    "start_time": "2023-11-16T19:10:55.060Z"
   },
   {
    "duration": 114,
    "start_time": "2023-11-16T19:10:55.070Z"
   },
   {
    "duration": 13,
    "start_time": "2023-11-16T19:10:55.194Z"
   },
   {
    "duration": 13,
    "start_time": "2023-11-16T19:10:55.211Z"
   },
   {
    "duration": 116,
    "start_time": "2023-11-16T19:10:55.226Z"
   },
   {
    "duration": 362,
    "start_time": "2023-11-16T19:10:55.344Z"
   },
   {
    "duration": 21,
    "start_time": "2023-11-16T19:10:55.712Z"
   },
   {
    "duration": 120,
    "start_time": "2023-11-16T19:10:55.735Z"
   },
   {
    "duration": 345,
    "start_time": "2023-11-16T19:10:55.862Z"
   },
   {
    "duration": 132,
    "start_time": "2023-11-16T19:10:56.212Z"
   },
   {
    "duration": 175,
    "start_time": "2023-11-16T19:10:56.346Z"
   },
   {
    "duration": 99,
    "start_time": "2023-11-16T19:10:56.523Z"
   },
   {
    "duration": 203,
    "start_time": "2023-11-16T19:10:56.626Z"
   },
   {
    "duration": 101,
    "start_time": "2023-11-16T19:10:56.831Z"
   },
   {
    "duration": 128,
    "start_time": "2023-11-16T19:10:56.934Z"
   },
   {
    "duration": 63,
    "start_time": "2023-11-16T19:10:57.064Z"
   },
   {
    "duration": 76,
    "start_time": "2023-11-16T19:10:57.129Z"
   },
   {
    "duration": 0,
    "start_time": "2023-11-16T19:10:57.213Z"
   },
   {
    "duration": 0,
    "start_time": "2023-11-16T19:10:57.223Z"
   },
   {
    "duration": 0,
    "start_time": "2023-11-16T19:10:57.224Z"
   },
   {
    "duration": 0,
    "start_time": "2023-11-16T19:10:57.226Z"
   },
   {
    "duration": 0,
    "start_time": "2023-11-16T19:10:57.229Z"
   },
   {
    "duration": 0,
    "start_time": "2023-11-16T19:10:57.231Z"
   },
   {
    "duration": 0,
    "start_time": "2023-11-16T19:10:57.232Z"
   },
   {
    "duration": 0,
    "start_time": "2023-11-16T19:10:57.234Z"
   },
   {
    "duration": 0,
    "start_time": "2023-11-16T19:10:57.239Z"
   },
   {
    "duration": 0,
    "start_time": "2023-11-16T19:10:57.241Z"
   },
   {
    "duration": 0,
    "start_time": "2023-11-16T19:10:57.246Z"
   },
   {
    "duration": 0,
    "start_time": "2023-11-16T19:10:57.248Z"
   },
   {
    "duration": 0,
    "start_time": "2023-11-16T19:10:57.249Z"
   },
   {
    "duration": 0,
    "start_time": "2023-11-16T19:10:57.251Z"
   },
   {
    "duration": 0,
    "start_time": "2023-11-16T19:10:57.252Z"
   },
   {
    "duration": 0,
    "start_time": "2023-11-16T19:10:57.254Z"
   },
   {
    "duration": 0,
    "start_time": "2023-11-16T19:10:57.257Z"
   },
   {
    "duration": 0,
    "start_time": "2023-11-16T19:10:57.259Z"
   },
   {
    "duration": 0,
    "start_time": "2023-11-16T19:10:57.260Z"
   },
   {
    "duration": 0,
    "start_time": "2023-11-16T19:10:57.262Z"
   },
   {
    "duration": 0,
    "start_time": "2023-11-16T19:10:57.268Z"
   },
   {
    "duration": 0,
    "start_time": "2023-11-16T19:10:57.269Z"
   },
   {
    "duration": 0,
    "start_time": "2023-11-16T19:10:57.275Z"
   },
   {
    "duration": 0,
    "start_time": "2023-11-16T19:10:57.277Z"
   },
   {
    "duration": 0,
    "start_time": "2023-11-16T19:10:57.278Z"
   },
   {
    "duration": 0,
    "start_time": "2023-11-16T19:10:57.280Z"
   },
   {
    "duration": 0,
    "start_time": "2023-11-16T19:10:57.281Z"
   },
   {
    "duration": 0,
    "start_time": "2023-11-16T19:10:57.286Z"
   },
   {
    "duration": 0,
    "start_time": "2023-11-16T19:10:57.288Z"
   },
   {
    "duration": 0,
    "start_time": "2023-11-16T19:10:57.289Z"
   },
   {
    "duration": 0,
    "start_time": "2023-11-16T19:10:57.293Z"
   },
   {
    "duration": 0,
    "start_time": "2023-11-16T19:10:57.294Z"
   },
   {
    "duration": 0,
    "start_time": "2023-11-16T19:10:57.296Z"
   },
   {
    "duration": 0,
    "start_time": "2023-11-16T19:10:57.297Z"
   },
   {
    "duration": 0,
    "start_time": "2023-11-16T19:10:57.299Z"
   },
   {
    "duration": 0,
    "start_time": "2023-11-16T19:10:57.300Z"
   },
   {
    "duration": 1,
    "start_time": "2023-11-16T19:10:57.301Z"
   },
   {
    "duration": 0,
    "start_time": "2023-11-16T19:10:57.307Z"
   },
   {
    "duration": 0,
    "start_time": "2023-11-16T19:10:57.308Z"
   },
   {
    "duration": 0,
    "start_time": "2023-11-16T19:10:57.310Z"
   },
   {
    "duration": 0,
    "start_time": "2023-11-16T19:10:57.311Z"
   },
   {
    "duration": 0,
    "start_time": "2023-11-16T19:10:57.313Z"
   },
   {
    "duration": 0,
    "start_time": "2023-11-16T19:10:57.318Z"
   },
   {
    "duration": 0,
    "start_time": "2023-11-16T19:10:57.320Z"
   },
   {
    "duration": 14,
    "start_time": "2023-11-16T19:16:06.939Z"
   },
   {
    "duration": 7,
    "start_time": "2023-11-16T19:16:11.909Z"
   },
   {
    "duration": 985,
    "start_time": "2023-11-16T19:16:12.104Z"
   },
   {
    "duration": 73,
    "start_time": "2023-11-16T19:16:13.093Z"
   },
   {
    "duration": 24,
    "start_time": "2023-11-16T19:16:13.168Z"
   },
   {
    "duration": 60,
    "start_time": "2023-11-16T19:16:13.194Z"
   },
   {
    "duration": 130,
    "start_time": "2023-11-16T19:16:13.267Z"
   },
   {
    "duration": 37,
    "start_time": "2023-11-16T19:16:13.399Z"
   },
   {
    "duration": 24,
    "start_time": "2023-11-16T19:16:13.438Z"
   },
   {
    "duration": 37,
    "start_time": "2023-11-16T19:16:13.464Z"
   },
   {
    "duration": 20,
    "start_time": "2023-11-16T19:16:13.503Z"
   },
   {
    "duration": 284,
    "start_time": "2023-11-16T19:16:13.529Z"
   },
   {
    "duration": 5,
    "start_time": "2023-11-16T19:16:13.820Z"
   },
   {
    "duration": 28,
    "start_time": "2023-11-16T19:16:13.827Z"
   },
   {
    "duration": 41,
    "start_time": "2023-11-16T19:16:13.857Z"
   },
   {
    "duration": 61,
    "start_time": "2023-11-16T19:16:13.910Z"
   },
   {
    "duration": 48,
    "start_time": "2023-11-16T19:16:13.973Z"
   },
   {
    "duration": 337,
    "start_time": "2023-11-16T19:16:14.024Z"
   },
   {
    "duration": 24,
    "start_time": "2023-11-16T19:16:14.363Z"
   },
   {
    "duration": 51,
    "start_time": "2023-11-16T19:16:14.389Z"
   },
   {
    "duration": 25,
    "start_time": "2023-11-16T19:16:14.442Z"
   },
   {
    "duration": 42,
    "start_time": "2023-11-16T19:16:14.477Z"
   },
   {
    "duration": 5,
    "start_time": "2023-11-16T19:16:14.525Z"
   },
   {
    "duration": 19,
    "start_time": "2023-11-16T19:16:14.533Z"
   },
   {
    "duration": 42,
    "start_time": "2023-11-16T19:16:14.554Z"
   },
   {
    "duration": 74,
    "start_time": "2023-11-16T19:16:14.602Z"
   },
   {
    "duration": 41,
    "start_time": "2023-11-16T19:16:14.678Z"
   },
   {
    "duration": 81,
    "start_time": "2023-11-16T19:16:14.724Z"
   },
   {
    "duration": 41,
    "start_time": "2023-11-16T19:16:14.815Z"
   },
   {
    "duration": 13,
    "start_time": "2023-11-16T19:16:14.858Z"
   },
   {
    "duration": 24,
    "start_time": "2023-11-16T19:16:14.873Z"
   },
   {
    "duration": 52,
    "start_time": "2023-11-16T19:16:14.898Z"
   },
   {
    "duration": 55,
    "start_time": "2023-11-16T19:16:14.952Z"
   },
   {
    "duration": 112,
    "start_time": "2023-11-16T19:16:15.010Z"
   },
   {
    "duration": 110,
    "start_time": "2023-11-16T19:16:15.125Z"
   },
   {
    "duration": 478,
    "start_time": "2023-11-16T19:16:15.238Z"
   },
   {
    "duration": 347,
    "start_time": "2023-11-16T19:16:15.719Z"
   },
   {
    "duration": 354,
    "start_time": "2023-11-16T19:16:16.068Z"
   },
   {
    "duration": 989,
    "start_time": "2023-11-16T19:16:16.425Z"
   },
   {
    "duration": 11,
    "start_time": "2023-11-16T19:16:17.417Z"
   },
   {
    "duration": 788,
    "start_time": "2023-11-16T19:16:17.430Z"
   },
   {
    "duration": 461,
    "start_time": "2023-11-16T19:16:18.223Z"
   },
   {
    "duration": 15,
    "start_time": "2023-11-16T19:16:18.690Z"
   },
   {
    "duration": 477,
    "start_time": "2023-11-16T19:16:18.710Z"
   },
   {
    "duration": 16,
    "start_time": "2023-11-16T19:16:19.197Z"
   },
   {
    "duration": 609,
    "start_time": "2023-11-16T19:16:19.215Z"
   },
   {
    "duration": 10,
    "start_time": "2023-11-16T19:16:19.827Z"
   },
   {
    "duration": 1496,
    "start_time": "2023-11-16T19:16:19.839Z"
   },
   {
    "duration": 317,
    "start_time": "2023-11-16T19:16:21.337Z"
   },
   {
    "duration": 4,
    "start_time": "2023-11-16T19:16:21.656Z"
   },
   {
    "duration": 841,
    "start_time": "2023-11-16T19:16:21.661Z"
   },
   {
    "duration": 120,
    "start_time": "2023-11-16T19:16:22.508Z"
   },
   {
    "duration": 1443,
    "start_time": "2023-11-16T19:16:22.629Z"
   },
   {
    "duration": 12,
    "start_time": "2023-11-16T19:16:24.073Z"
   },
   {
    "duration": 134,
    "start_time": "2023-11-16T19:16:24.087Z"
   },
   {
    "duration": 30,
    "start_time": "2023-11-16T19:16:24.223Z"
   },
   {
    "duration": 132,
    "start_time": "2023-11-16T19:16:24.255Z"
   },
   {
    "duration": 10,
    "start_time": "2023-11-16T19:16:24.393Z"
   },
   {
    "duration": 12,
    "start_time": "2023-11-16T19:16:24.404Z"
   },
   {
    "duration": 32,
    "start_time": "2023-11-16T19:16:24.418Z"
   },
   {
    "duration": 39,
    "start_time": "2023-11-16T19:16:24.452Z"
   },
   {
    "duration": 81,
    "start_time": "2023-11-16T19:16:24.494Z"
   },
   {
    "duration": 305,
    "start_time": "2023-11-16T19:16:24.577Z"
   },
   {
    "duration": 37,
    "start_time": "2023-11-16T19:16:24.887Z"
   },
   {
    "duration": 6,
    "start_time": "2023-11-16T19:16:24.925Z"
   },
   {
    "duration": 387,
    "start_time": "2023-11-16T19:16:24.933Z"
   },
   {
    "duration": 86,
    "start_time": "2023-11-16T19:16:25.322Z"
   },
   {
    "duration": 306,
    "start_time": "2023-11-16T19:16:25.410Z"
   },
   {
    "duration": 0,
    "start_time": "2023-11-16T19:16:25.717Z"
   },
   {
    "duration": 0,
    "start_time": "2023-11-16T19:16:25.719Z"
   },
   {
    "duration": 0,
    "start_time": "2023-11-16T19:16:25.720Z"
   },
   {
    "duration": 0,
    "start_time": "2023-11-16T19:16:25.721Z"
   },
   {
    "duration": 0,
    "start_time": "2023-11-16T19:16:25.722Z"
   },
   {
    "duration": 12,
    "start_time": "2023-11-16T19:26:35.281Z"
   },
   {
    "duration": 673,
    "start_time": "2023-11-16T19:27:29.155Z"
   },
   {
    "duration": 700,
    "start_time": "2023-11-16T19:27:39.697Z"
   },
   {
    "duration": 6,
    "start_time": "2023-11-16T19:34:23.194Z"
   },
   {
    "duration": 5,
    "start_time": "2023-11-16T19:34:54.130Z"
   },
   {
    "duration": 6,
    "start_time": "2023-11-16T19:35:15.051Z"
   },
   {
    "duration": 13,
    "start_time": "2023-11-16T19:35:43.102Z"
   },
   {
    "duration": 4,
    "start_time": "2023-11-16T19:35:53.235Z"
   },
   {
    "duration": 10,
    "start_time": "2023-11-16T19:43:24.128Z"
   },
   {
    "duration": 11,
    "start_time": "2023-11-16T19:44:05.391Z"
   },
   {
    "duration": 24,
    "start_time": "2023-11-16T19:49:37.279Z"
   },
   {
    "duration": 100,
    "start_time": "2023-11-16T20:07:44.838Z"
   },
   {
    "duration": 1282,
    "start_time": "2023-11-16T20:07:46.520Z"
   },
   {
    "duration": 112,
    "start_time": "2023-11-16T20:09:58.330Z"
   },
   {
    "duration": 1415,
    "start_time": "2023-11-16T20:09:59.695Z"
   },
   {
    "duration": 14,
    "start_time": "2023-11-16T20:10:17.698Z"
   },
   {
    "duration": 1380,
    "start_time": "2023-11-16T20:10:51.749Z"
   },
   {
    "duration": 7,
    "start_time": "2023-11-16T20:11:18.012Z"
   },
   {
    "duration": 1340,
    "start_time": "2023-11-16T20:11:21.441Z"
   },
   {
    "duration": 1264,
    "start_time": "2023-11-16T20:12:00.779Z"
   },
   {
    "duration": 17,
    "start_time": "2023-11-16T20:16:08.135Z"
   },
   {
    "duration": 1430,
    "start_time": "2023-11-16T20:16:20.584Z"
   },
   {
    "duration": 100,
    "start_time": "2023-11-16T20:16:51.223Z"
   },
   {
    "duration": 7,
    "start_time": "2023-11-16T20:17:06.653Z"
   },
   {
    "duration": 924,
    "start_time": "2023-11-16T20:17:06.687Z"
   },
   {
    "duration": 4,
    "start_time": "2023-11-16T20:17:07.614Z"
   },
   {
    "duration": 203,
    "start_time": "2023-11-16T20:17:07.620Z"
   },
   {
    "duration": 311,
    "start_time": "2023-11-16T20:17:07.825Z"
   },
   {
    "duration": 205,
    "start_time": "2023-11-16T20:17:08.138Z"
   },
   {
    "duration": 106,
    "start_time": "2023-11-16T20:17:08.345Z"
   },
   {
    "duration": 91,
    "start_time": "2023-11-16T20:17:08.453Z"
   },
   {
    "duration": 52,
    "start_time": "2023-11-16T20:17:08.546Z"
   },
   {
    "duration": 71,
    "start_time": "2023-11-16T20:17:08.600Z"
   },
   {
    "duration": 34,
    "start_time": "2023-11-16T20:17:08.673Z"
   },
   {
    "duration": 134,
    "start_time": "2023-11-16T20:17:08.709Z"
   },
   {
    "duration": 89,
    "start_time": "2023-11-16T20:17:08.845Z"
   },
   {
    "duration": 265,
    "start_time": "2023-11-16T20:17:08.936Z"
   },
   {
    "duration": 5,
    "start_time": "2023-11-16T20:17:09.206Z"
   },
   {
    "duration": 76,
    "start_time": "2023-11-16T20:17:09.213Z"
   },
   {
    "duration": 38,
    "start_time": "2023-11-16T20:17:09.291Z"
   },
   {
    "duration": 44,
    "start_time": "2023-11-16T20:17:09.330Z"
   },
   {
    "duration": 57,
    "start_time": "2023-11-16T20:17:09.375Z"
   },
   {
    "duration": 302,
    "start_time": "2023-11-16T20:17:09.434Z"
   },
   {
    "duration": 13,
    "start_time": "2023-11-16T20:17:09.738Z"
   },
   {
    "duration": 19,
    "start_time": "2023-11-16T20:17:09.753Z"
   },
   {
    "duration": 60,
    "start_time": "2023-11-16T20:17:09.776Z"
   },
   {
    "duration": 60,
    "start_time": "2023-11-16T20:17:09.837Z"
   },
   {
    "duration": 15,
    "start_time": "2023-11-16T20:17:09.899Z"
   },
   {
    "duration": 14,
    "start_time": "2023-11-16T20:17:09.916Z"
   },
   {
    "duration": 20,
    "start_time": "2023-11-16T20:17:09.931Z"
   },
   {
    "duration": 12,
    "start_time": "2023-11-16T20:17:09.952Z"
   },
   {
    "duration": 43,
    "start_time": "2023-11-16T20:17:09.967Z"
   },
   {
    "duration": 111,
    "start_time": "2023-11-16T20:17:10.011Z"
   },
   {
    "duration": 141,
    "start_time": "2023-11-16T20:17:10.124Z"
   },
   {
    "duration": 43,
    "start_time": "2023-11-16T20:17:10.267Z"
   },
   {
    "duration": 39,
    "start_time": "2023-11-16T20:17:10.312Z"
   },
   {
    "duration": 37,
    "start_time": "2023-11-16T20:17:10.353Z"
   },
   {
    "duration": 32,
    "start_time": "2023-11-16T20:17:10.391Z"
   },
   {
    "duration": 43,
    "start_time": "2023-11-16T20:17:10.424Z"
   },
   {
    "duration": 60,
    "start_time": "2023-11-16T20:17:10.476Z"
   },
   {
    "duration": 49,
    "start_time": "2023-11-16T20:17:10.537Z"
   },
   {
    "duration": 344,
    "start_time": "2023-11-16T20:17:10.590Z"
   },
   {
    "duration": 284,
    "start_time": "2023-11-16T20:17:10.936Z"
   },
   {
    "duration": 287,
    "start_time": "2023-11-16T20:17:11.222Z"
   },
   {
    "duration": 766,
    "start_time": "2023-11-16T20:17:11.514Z"
   },
   {
    "duration": 9,
    "start_time": "2023-11-16T20:17:12.282Z"
   },
   {
    "duration": 530,
    "start_time": "2023-11-16T20:17:12.300Z"
   },
   {
    "duration": 6,
    "start_time": "2023-11-16T20:17:12.832Z"
   },
   {
    "duration": 799,
    "start_time": "2023-11-16T20:17:12.839Z"
   },
   {
    "duration": 341,
    "start_time": "2023-11-16T20:17:13.640Z"
   },
   {
    "duration": 25,
    "start_time": "2023-11-16T20:17:13.984Z"
   },
   {
    "duration": 340,
    "start_time": "2023-11-16T20:17:14.011Z"
   },
   {
    "duration": 13,
    "start_time": "2023-11-16T20:17:14.352Z"
   },
   {
    "duration": 130,
    "start_time": "2023-11-16T20:17:14.373Z"
   },
   {
    "duration": 1325,
    "start_time": "2023-11-16T20:17:14.508Z"
   },
   {
    "duration": 48,
    "start_time": "2023-11-16T20:17:15.834Z"
   },
   {
    "duration": 24,
    "start_time": "2023-11-16T20:17:15.890Z"
   },
   {
    "duration": 1216,
    "start_time": "2023-11-16T20:17:15.916Z"
   },
   {
    "duration": 1377,
    "start_time": "2023-11-16T20:17:17.134Z"
   },
   {
    "duration": 9,
    "start_time": "2023-11-16T20:17:18.513Z"
   },
   {
    "duration": 6,
    "start_time": "2023-11-16T20:17:18.524Z"
   },
   {
    "duration": 19,
    "start_time": "2023-11-16T20:17:18.531Z"
   },
   {
    "duration": 25,
    "start_time": "2023-11-16T20:17:18.552Z"
   },
   {
    "duration": 25,
    "start_time": "2023-11-16T20:17:18.580Z"
   },
   {
    "duration": 9,
    "start_time": "2023-11-16T20:17:18.606Z"
   },
   {
    "duration": 32,
    "start_time": "2023-11-16T20:17:18.617Z"
   },
   {
    "duration": 26,
    "start_time": "2023-11-16T20:17:18.651Z"
   },
   {
    "duration": 30,
    "start_time": "2023-11-16T20:17:18.678Z"
   },
   {
    "duration": 235,
    "start_time": "2023-11-16T20:17:18.710Z"
   },
   {
    "duration": 49,
    "start_time": "2023-11-16T20:17:18.947Z"
   },
   {
    "duration": 6,
    "start_time": "2023-11-16T20:17:18.998Z"
   },
   {
    "duration": 300,
    "start_time": "2023-11-16T20:17:19.006Z"
   },
   {
    "duration": 82,
    "start_time": "2023-11-16T20:17:19.307Z"
   },
   {
    "duration": 399,
    "start_time": "2023-11-16T20:17:19.391Z"
   },
   {
    "duration": 0,
    "start_time": "2023-11-16T20:17:19.792Z"
   },
   {
    "duration": 0,
    "start_time": "2023-11-16T20:17:19.793Z"
   },
   {
    "duration": 0,
    "start_time": "2023-11-16T20:17:19.794Z"
   },
   {
    "duration": 0,
    "start_time": "2023-11-16T20:17:19.795Z"
   },
   {
    "duration": 0,
    "start_time": "2023-11-16T20:17:19.795Z"
   },
   {
    "duration": 87,
    "start_time": "2023-11-16T20:22:08.795Z"
   },
   {
    "duration": 1328,
    "start_time": "2023-11-16T20:22:10.024Z"
   },
   {
    "duration": 1395,
    "start_time": "2023-11-16T20:22:18.649Z"
   },
   {
    "duration": 13,
    "start_time": "2023-11-16T20:22:26.258Z"
   },
   {
    "duration": 933,
    "start_time": "2023-11-16T20:22:26.417Z"
   },
   {
    "duration": 14,
    "start_time": "2023-11-16T20:22:27.352Z"
   },
   {
    "duration": 30,
    "start_time": "2023-11-16T20:22:27.371Z"
   },
   {
    "duration": 26,
    "start_time": "2023-11-16T20:22:27.402Z"
   },
   {
    "duration": 94,
    "start_time": "2023-11-16T20:22:27.430Z"
   },
   {
    "duration": 15,
    "start_time": "2023-11-16T20:22:27.526Z"
   },
   {
    "duration": 111,
    "start_time": "2023-11-16T20:22:27.542Z"
   },
   {
    "duration": 82,
    "start_time": "2023-11-16T20:22:27.654Z"
   },
   {
    "duration": 31,
    "start_time": "2023-11-16T20:22:27.737Z"
   },
   {
    "duration": 25,
    "start_time": "2023-11-16T20:22:27.772Z"
   },
   {
    "duration": 20,
    "start_time": "2023-11-16T20:22:27.799Z"
   },
   {
    "duration": 11,
    "start_time": "2023-11-16T20:22:27.821Z"
   },
   {
    "duration": 281,
    "start_time": "2023-11-16T20:22:27.834Z"
   },
   {
    "duration": 5,
    "start_time": "2023-11-16T20:22:28.121Z"
   },
   {
    "duration": 38,
    "start_time": "2023-11-16T20:22:28.128Z"
   },
   {
    "duration": 46,
    "start_time": "2023-11-16T20:22:28.168Z"
   },
   {
    "duration": 78,
    "start_time": "2023-11-16T20:22:28.216Z"
   },
   {
    "duration": 174,
    "start_time": "2023-11-16T20:22:28.296Z"
   },
   {
    "duration": 333,
    "start_time": "2023-11-16T20:22:28.478Z"
   },
   {
    "duration": 13,
    "start_time": "2023-11-16T20:22:28.813Z"
   },
   {
    "duration": 42,
    "start_time": "2023-11-16T20:22:28.828Z"
   },
   {
    "duration": 65,
    "start_time": "2023-11-16T20:22:28.879Z"
   },
   {
    "duration": 9,
    "start_time": "2023-11-16T20:22:28.946Z"
   },
   {
    "duration": 8,
    "start_time": "2023-11-16T20:22:28.958Z"
   },
   {
    "duration": 30,
    "start_time": "2023-11-16T20:22:28.984Z"
   },
   {
    "duration": 20,
    "start_time": "2023-11-16T20:22:29.016Z"
   },
   {
    "duration": 25,
    "start_time": "2023-11-16T20:22:29.038Z"
   },
   {
    "duration": 4,
    "start_time": "2023-11-16T20:22:29.065Z"
   },
   {
    "duration": 41,
    "start_time": "2023-11-16T20:22:29.071Z"
   },
   {
    "duration": 16,
    "start_time": "2023-11-16T20:22:29.113Z"
   },
   {
    "duration": 6,
    "start_time": "2023-11-16T20:22:29.130Z"
   },
   {
    "duration": 9,
    "start_time": "2023-11-16T20:22:29.137Z"
   },
   {
    "duration": 5,
    "start_time": "2023-11-16T20:22:29.148Z"
   },
   {
    "duration": 27,
    "start_time": "2023-11-16T20:22:29.154Z"
   },
   {
    "duration": 36,
    "start_time": "2023-11-16T20:22:29.186Z"
   },
   {
    "duration": 61,
    "start_time": "2023-11-16T20:22:29.224Z"
   },
   {
    "duration": 29,
    "start_time": "2023-11-16T20:22:29.287Z"
   },
   {
    "duration": 319,
    "start_time": "2023-11-16T20:22:29.317Z"
   },
   {
    "duration": 279,
    "start_time": "2023-11-16T20:22:29.638Z"
   },
   {
    "duration": 430,
    "start_time": "2023-11-16T20:22:29.919Z"
   },
   {
    "duration": 780,
    "start_time": "2023-11-16T20:22:30.366Z"
   },
   {
    "duration": 22,
    "start_time": "2023-11-16T20:22:31.147Z"
   },
   {
    "duration": 811,
    "start_time": "2023-11-16T20:22:31.170Z"
   },
   {
    "duration": 18,
    "start_time": "2023-11-16T20:22:31.998Z"
   },
   {
    "duration": 694,
    "start_time": "2023-11-16T20:22:32.018Z"
   },
   {
    "duration": 327,
    "start_time": "2023-11-16T20:22:32.714Z"
   },
   {
    "duration": 7,
    "start_time": "2023-11-16T20:22:33.043Z"
   },
   {
    "duration": 371,
    "start_time": "2023-11-16T20:22:33.051Z"
   },
   {
    "duration": 7,
    "start_time": "2023-11-16T20:22:33.424Z"
   },
   {
    "duration": 124,
    "start_time": "2023-11-16T20:22:33.433Z"
   },
   {
    "duration": 1374,
    "start_time": "2023-11-16T20:22:33.563Z"
   },
   {
    "duration": 32,
    "start_time": "2023-11-16T20:22:34.940Z"
   },
   {
    "duration": 18,
    "start_time": "2023-11-16T20:22:34.980Z"
   },
   {
    "duration": 93,
    "start_time": "2023-11-16T20:22:35.003Z"
   },
   {
    "duration": 1333,
    "start_time": "2023-11-16T20:22:35.101Z"
   },
   {
    "duration": 1213,
    "start_time": "2023-11-16T20:22:36.436Z"
   },
   {
    "duration": 27,
    "start_time": "2023-11-16T20:22:37.651Z"
   },
   {
    "duration": 8,
    "start_time": "2023-11-16T20:22:37.693Z"
   },
   {
    "duration": 11,
    "start_time": "2023-11-16T20:22:37.704Z"
   },
   {
    "duration": 13,
    "start_time": "2023-11-16T20:22:37.717Z"
   },
   {
    "duration": 5,
    "start_time": "2023-11-16T20:22:37.732Z"
   },
   {
    "duration": 39,
    "start_time": "2023-11-16T20:22:37.738Z"
   },
   {
    "duration": 31,
    "start_time": "2023-11-16T20:22:37.779Z"
   },
   {
    "duration": 32,
    "start_time": "2023-11-16T20:22:37.812Z"
   },
   {
    "duration": 15,
    "start_time": "2023-11-16T20:22:37.846Z"
   },
   {
    "duration": 255,
    "start_time": "2023-11-16T20:22:37.863Z"
   },
   {
    "duration": 41,
    "start_time": "2023-11-16T20:22:38.119Z"
   },
   {
    "duration": 33,
    "start_time": "2023-11-16T20:22:38.165Z"
   },
   {
    "duration": 293,
    "start_time": "2023-11-16T20:22:38.203Z"
   },
   {
    "duration": 105,
    "start_time": "2023-11-16T20:22:38.501Z"
   },
   {
    "duration": 289,
    "start_time": "2023-11-16T20:22:38.608Z"
   },
   {
    "duration": 0,
    "start_time": "2023-11-16T20:22:38.899Z"
   },
   {
    "duration": 0,
    "start_time": "2023-11-16T20:22:38.901Z"
   },
   {
    "duration": 0,
    "start_time": "2023-11-16T20:22:38.902Z"
   },
   {
    "duration": 0,
    "start_time": "2023-11-16T20:22:38.903Z"
   },
   {
    "duration": 0,
    "start_time": "2023-11-16T20:22:38.903Z"
   },
   {
    "duration": 18,
    "start_time": "2023-11-16T20:23:40.918Z"
   },
   {
    "duration": 101,
    "start_time": "2023-11-16T20:24:09.270Z"
   },
   {
    "duration": 1594,
    "start_time": "2023-11-16T20:24:11.087Z"
   },
   {
    "duration": 8,
    "start_time": "2023-11-16T20:24:47.223Z"
   },
   {
    "duration": 98,
    "start_time": "2023-11-16T20:24:49.291Z"
   },
   {
    "duration": 1490,
    "start_time": "2023-11-16T20:24:50.365Z"
   },
   {
    "duration": 60,
    "start_time": "2023-11-16T20:35:46.555Z"
   },
   {
    "duration": 88,
    "start_time": "2023-11-16T20:35:48.535Z"
   },
   {
    "duration": 1172,
    "start_time": "2023-11-16T20:35:49.989Z"
   },
   {
    "duration": 6,
    "start_time": "2023-11-16T20:37:05.327Z"
   },
   {
    "duration": 875,
    "start_time": "2023-11-16T20:37:05.374Z"
   },
   {
    "duration": 5,
    "start_time": "2023-11-16T20:37:06.251Z"
   },
   {
    "duration": 45,
    "start_time": "2023-11-16T20:37:06.262Z"
   },
   {
    "duration": 24,
    "start_time": "2023-11-16T20:37:06.309Z"
   },
   {
    "duration": 297,
    "start_time": "2023-11-16T20:37:06.336Z"
   },
   {
    "duration": 15,
    "start_time": "2023-11-16T20:37:06.634Z"
   },
   {
    "duration": 31,
    "start_time": "2023-11-16T20:37:06.659Z"
   },
   {
    "duration": 20,
    "start_time": "2023-11-16T20:37:06.692Z"
   },
   {
    "duration": 13,
    "start_time": "2023-11-16T20:37:06.713Z"
   },
   {
    "duration": 22,
    "start_time": "2023-11-16T20:37:06.728Z"
   },
   {
    "duration": 35,
    "start_time": "2023-11-16T20:37:06.752Z"
   },
   {
    "duration": 29,
    "start_time": "2023-11-16T20:37:06.789Z"
   },
   {
    "duration": 205,
    "start_time": "2023-11-16T20:37:06.819Z"
   },
   {
    "duration": 4,
    "start_time": "2023-11-16T20:37:07.028Z"
   },
   {
    "duration": 17,
    "start_time": "2023-11-16T20:37:07.033Z"
   },
   {
    "duration": 15,
    "start_time": "2023-11-16T20:37:07.051Z"
   },
   {
    "duration": 49,
    "start_time": "2023-11-16T20:37:07.070Z"
   },
   {
    "duration": 60,
    "start_time": "2023-11-16T20:37:07.121Z"
   },
   {
    "duration": 247,
    "start_time": "2023-11-16T20:37:07.183Z"
   },
   {
    "duration": 18,
    "start_time": "2023-11-16T20:37:07.432Z"
   },
   {
    "duration": 23,
    "start_time": "2023-11-16T20:37:07.452Z"
   },
   {
    "duration": 11,
    "start_time": "2023-11-16T20:37:07.477Z"
   },
   {
    "duration": 16,
    "start_time": "2023-11-16T20:37:07.489Z"
   },
   {
    "duration": 25,
    "start_time": "2023-11-16T20:37:07.506Z"
   },
   {
    "duration": 35,
    "start_time": "2023-11-16T20:37:07.533Z"
   },
   {
    "duration": 31,
    "start_time": "2023-11-16T20:37:07.572Z"
   },
   {
    "duration": 86,
    "start_time": "2023-11-16T20:37:07.605Z"
   },
   {
    "duration": 34,
    "start_time": "2023-11-16T20:37:07.693Z"
   },
   {
    "duration": 44,
    "start_time": "2023-11-16T20:37:07.729Z"
   },
   {
    "duration": 81,
    "start_time": "2023-11-16T20:37:07.775Z"
   },
   {
    "duration": 50,
    "start_time": "2023-11-16T20:37:07.858Z"
   },
   {
    "duration": 24,
    "start_time": "2023-11-16T20:37:07.910Z"
   },
   {
    "duration": 40,
    "start_time": "2023-11-16T20:37:07.936Z"
   },
   {
    "duration": 24,
    "start_time": "2023-11-16T20:37:07.978Z"
   },
   {
    "duration": 31,
    "start_time": "2023-11-16T20:37:08.004Z"
   },
   {
    "duration": 57,
    "start_time": "2023-11-16T20:37:08.038Z"
   },
   {
    "duration": 82,
    "start_time": "2023-11-16T20:37:08.097Z"
   },
   {
    "duration": 327,
    "start_time": "2023-11-16T20:37:08.181Z"
   },
   {
    "duration": 242,
    "start_time": "2023-11-16T20:37:08.510Z"
   },
   {
    "duration": 263,
    "start_time": "2023-11-16T20:37:08.755Z"
   },
   {
    "duration": 737,
    "start_time": "2023-11-16T20:37:09.023Z"
   },
   {
    "duration": 15,
    "start_time": "2023-11-16T20:37:09.764Z"
   },
   {
    "duration": 555,
    "start_time": "2023-11-16T20:37:09.781Z"
   },
   {
    "duration": 25,
    "start_time": "2023-11-16T20:37:10.338Z"
   },
   {
    "duration": 544,
    "start_time": "2023-11-16T20:37:10.366Z"
   },
   {
    "duration": 515,
    "start_time": "2023-11-16T20:37:10.912Z"
   },
   {
    "duration": 10,
    "start_time": "2023-11-16T20:37:11.429Z"
   },
   {
    "duration": 369,
    "start_time": "2023-11-16T20:37:11.440Z"
   },
   {
    "duration": 9,
    "start_time": "2023-11-16T20:37:11.811Z"
   },
   {
    "duration": 116,
    "start_time": "2023-11-16T20:37:11.822Z"
   },
   {
    "duration": 1266,
    "start_time": "2023-11-16T20:37:11.940Z"
   },
   {
    "duration": 3,
    "start_time": "2023-11-16T20:37:13.208Z"
   },
   {
    "duration": 24,
    "start_time": "2023-11-16T20:37:13.213Z"
   },
   {
    "duration": 107,
    "start_time": "2023-11-16T20:37:13.240Z"
   },
   {
    "duration": 88,
    "start_time": "2023-11-16T20:37:13.349Z"
   },
   {
    "duration": 1242,
    "start_time": "2023-11-16T20:37:13.439Z"
   },
   {
    "duration": 1130,
    "start_time": "2023-11-16T20:37:14.683Z"
   },
   {
    "duration": 14,
    "start_time": "2023-11-16T20:37:15.816Z"
   },
   {
    "duration": 38,
    "start_time": "2023-11-16T20:37:15.832Z"
   },
   {
    "duration": 11,
    "start_time": "2023-11-16T20:37:15.872Z"
   },
   {
    "duration": 6,
    "start_time": "2023-11-16T20:37:15.887Z"
   },
   {
    "duration": 9,
    "start_time": "2023-11-16T20:37:15.895Z"
   },
   {
    "duration": 14,
    "start_time": "2023-11-16T20:37:15.908Z"
   },
   {
    "duration": 40,
    "start_time": "2023-11-16T20:37:15.924Z"
   },
   {
    "duration": 27,
    "start_time": "2023-11-16T20:37:15.967Z"
   },
   {
    "duration": 259,
    "start_time": "2023-11-16T20:37:15.997Z"
   },
   {
    "duration": 352,
    "start_time": "2023-11-16T20:37:16.258Z"
   },
   {
    "duration": 69,
    "start_time": "2023-11-16T20:37:16.613Z"
   },
   {
    "duration": 16,
    "start_time": "2023-11-16T20:37:16.685Z"
   },
   {
    "duration": 270,
    "start_time": "2023-11-16T20:37:16.704Z"
   },
   {
    "duration": 83,
    "start_time": "2023-11-16T20:37:16.975Z"
   },
   {
    "duration": 295,
    "start_time": "2023-11-16T20:37:17.061Z"
   },
   {
    "duration": 0,
    "start_time": "2023-11-16T20:37:17.358Z"
   },
   {
    "duration": 0,
    "start_time": "2023-11-16T20:37:17.360Z"
   },
   {
    "duration": 0,
    "start_time": "2023-11-16T20:37:17.361Z"
   },
   {
    "duration": 0,
    "start_time": "2023-11-16T20:37:17.363Z"
   },
   {
    "duration": 0,
    "start_time": "2023-11-16T20:37:17.364Z"
   },
   {
    "duration": 16,
    "start_time": "2023-11-16T20:40:09.161Z"
   },
   {
    "duration": 8,
    "start_time": "2023-11-16T20:42:04.583Z"
   },
   {
    "duration": 3,
    "start_time": "2023-11-16T20:42:35.124Z"
   },
   {
    "duration": 25,
    "start_time": "2023-11-16T20:42:50.344Z"
   },
   {
    "duration": 8,
    "start_time": "2023-11-16T20:43:06.013Z"
   },
   {
    "duration": 10,
    "start_time": "2023-11-16T20:43:42.871Z"
   },
   {
    "duration": 6,
    "start_time": "2023-11-16T20:44:08.357Z"
   },
   {
    "duration": 5,
    "start_time": "2023-11-16T20:44:42.243Z"
   },
   {
    "duration": 743,
    "start_time": "2023-11-16T20:44:42.477Z"
   },
   {
    "duration": 4,
    "start_time": "2023-11-16T20:44:43.222Z"
   },
   {
    "duration": 7,
    "start_time": "2023-11-16T20:44:43.228Z"
   },
   {
    "duration": 19,
    "start_time": "2023-11-16T20:44:43.236Z"
   },
   {
    "duration": 51,
    "start_time": "2023-11-16T20:44:43.258Z"
   },
   {
    "duration": 45,
    "start_time": "2023-11-16T20:44:43.311Z"
   },
   {
    "duration": 22,
    "start_time": "2023-11-16T20:44:43.358Z"
   },
   {
    "duration": 33,
    "start_time": "2023-11-16T20:44:43.382Z"
   },
   {
    "duration": 5,
    "start_time": "2023-11-16T20:44:43.417Z"
   },
   {
    "duration": 27,
    "start_time": "2023-11-16T20:44:43.424Z"
   },
   {
    "duration": 17,
    "start_time": "2023-11-16T20:44:43.466Z"
   },
   {
    "duration": 39,
    "start_time": "2023-11-16T20:44:43.486Z"
   },
   {
    "duration": 182,
    "start_time": "2023-11-16T20:44:43.527Z"
   },
   {
    "duration": 5,
    "start_time": "2023-11-16T20:44:43.713Z"
   },
   {
    "duration": 30,
    "start_time": "2023-11-16T20:44:43.719Z"
   },
   {
    "duration": 5,
    "start_time": "2023-11-16T20:44:43.751Z"
   },
   {
    "duration": 10,
    "start_time": "2023-11-16T20:44:43.757Z"
   },
   {
    "duration": 16,
    "start_time": "2023-11-16T20:44:43.771Z"
   },
   {
    "duration": 232,
    "start_time": "2023-11-16T20:44:43.789Z"
   },
   {
    "duration": 32,
    "start_time": "2023-11-16T20:44:44.024Z"
   },
   {
    "duration": 4,
    "start_time": "2023-11-16T20:44:44.058Z"
   },
   {
    "duration": 36,
    "start_time": "2023-11-16T20:44:44.064Z"
   },
   {
    "duration": 23,
    "start_time": "2023-11-16T20:44:44.102Z"
   },
   {
    "duration": 3,
    "start_time": "2023-11-16T20:44:44.128Z"
   },
   {
    "duration": 11,
    "start_time": "2023-11-16T20:44:44.133Z"
   },
   {
    "duration": 21,
    "start_time": "2023-11-16T20:44:44.147Z"
   },
   {
    "duration": 9,
    "start_time": "2023-11-16T20:44:44.171Z"
   },
   {
    "duration": 10,
    "start_time": "2023-11-16T20:44:44.182Z"
   },
   {
    "duration": 27,
    "start_time": "2023-11-16T20:44:44.194Z"
   },
   {
    "duration": 18,
    "start_time": "2023-11-16T20:44:44.223Z"
   },
   {
    "duration": 3,
    "start_time": "2023-11-16T20:44:44.243Z"
   },
   {
    "duration": 16,
    "start_time": "2023-11-16T20:44:44.248Z"
   },
   {
    "duration": 11,
    "start_time": "2023-11-16T20:44:44.266Z"
   },
   {
    "duration": 21,
    "start_time": "2023-11-16T20:44:44.279Z"
   },
   {
    "duration": 4,
    "start_time": "2023-11-16T20:44:44.302Z"
   },
   {
    "duration": 13,
    "start_time": "2023-11-16T20:44:44.309Z"
   },
   {
    "duration": 18,
    "start_time": "2023-11-16T20:44:44.324Z"
   },
   {
    "duration": 236,
    "start_time": "2023-11-16T20:44:44.344Z"
   },
   {
    "duration": 240,
    "start_time": "2023-11-16T20:44:44.581Z"
   },
   {
    "duration": 256,
    "start_time": "2023-11-16T20:44:44.823Z"
   },
   {
    "duration": 649,
    "start_time": "2023-11-16T20:44:45.083Z"
   },
   {
    "duration": 7,
    "start_time": "2023-11-16T20:44:45.733Z"
   },
   {
    "duration": 564,
    "start_time": "2023-11-16T20:44:45.741Z"
   },
   {
    "duration": 7,
    "start_time": "2023-11-16T20:44:46.307Z"
   },
   {
    "duration": 514,
    "start_time": "2023-11-16T20:44:46.315Z"
   },
   {
    "duration": 301,
    "start_time": "2023-11-16T20:44:46.831Z"
   },
   {
    "duration": 7,
    "start_time": "2023-11-16T20:44:47.134Z"
   },
   {
    "duration": 563,
    "start_time": "2023-11-16T20:44:47.143Z"
   },
   {
    "duration": 8,
    "start_time": "2023-11-16T20:44:47.708Z"
   },
   {
    "duration": 92,
    "start_time": "2023-11-16T20:44:47.718Z"
   },
   {
    "duration": 1149,
    "start_time": "2023-11-16T20:44:47.812Z"
   },
   {
    "duration": 3,
    "start_time": "2023-11-16T20:44:48.963Z"
   },
   {
    "duration": 3,
    "start_time": "2023-11-16T20:44:48.968Z"
   },
   {
    "duration": 149,
    "start_time": "2023-11-16T20:44:48.973Z"
   },
   {
    "duration": 73,
    "start_time": "2023-11-16T20:44:49.123Z"
   },
   {
    "duration": 1237,
    "start_time": "2023-11-16T20:44:49.198Z"
   },
   {
    "duration": 8,
    "start_time": "2023-11-16T20:44:50.436Z"
   },
   {
    "duration": 20,
    "start_time": "2023-11-16T20:44:50.446Z"
   },
   {
    "duration": 23,
    "start_time": "2023-11-16T20:44:50.470Z"
   },
   {
    "duration": 24,
    "start_time": "2023-11-16T20:44:50.495Z"
   },
   {
    "duration": 8,
    "start_time": "2023-11-16T20:44:50.520Z"
   },
   {
    "duration": 12,
    "start_time": "2023-11-16T20:44:50.530Z"
   },
   {
    "duration": 39,
    "start_time": "2023-11-16T20:44:50.543Z"
   },
   {
    "duration": 21,
    "start_time": "2023-11-16T20:44:50.583Z"
   },
   {
    "duration": 4,
    "start_time": "2023-11-16T20:44:50.605Z"
   },
   {
    "duration": 7,
    "start_time": "2023-11-16T20:44:50.611Z"
   },
   {
    "duration": 9,
    "start_time": "2023-11-16T20:44:50.620Z"
   },
   {
    "duration": 6,
    "start_time": "2023-11-16T20:44:50.630Z"
   },
   {
    "duration": 16,
    "start_time": "2023-11-16T20:44:50.637Z"
   },
   {
    "duration": 40,
    "start_time": "2023-11-16T20:44:50.654Z"
   },
   {
    "duration": 11,
    "start_time": "2023-11-16T20:44:50.695Z"
   },
   {
    "duration": 40,
    "start_time": "2023-11-16T20:44:50.707Z"
   },
   {
    "duration": 289,
    "start_time": "2023-11-16T20:44:50.749Z"
   },
   {
    "duration": 45,
    "start_time": "2023-11-16T20:44:51.040Z"
   },
   {
    "duration": 4,
    "start_time": "2023-11-16T20:44:51.087Z"
   },
   {
    "duration": 299,
    "start_time": "2023-11-16T20:44:51.093Z"
   },
   {
    "duration": 76,
    "start_time": "2023-11-16T20:44:51.394Z"
   },
   {
    "duration": 265,
    "start_time": "2023-11-16T20:44:51.472Z"
   },
   {
    "duration": 0,
    "start_time": "2023-11-16T20:44:51.739Z"
   },
   {
    "duration": 0,
    "start_time": "2023-11-16T20:44:51.739Z"
   },
   {
    "duration": 0,
    "start_time": "2023-11-16T20:44:51.741Z"
   },
   {
    "duration": 0,
    "start_time": "2023-11-16T20:44:51.741Z"
   },
   {
    "duration": 0,
    "start_time": "2023-11-16T20:44:51.742Z"
   },
   {
    "duration": 2,
    "start_time": "2023-11-16T20:45:30.103Z"
   },
   {
    "duration": 1142,
    "start_time": "2023-11-16T20:45:46.231Z"
   },
   {
    "duration": 990,
    "start_time": "2023-11-16T20:46:05.074Z"
   },
   {
    "duration": 1177,
    "start_time": "2023-11-16T20:46:26.864Z"
   },
   {
    "duration": 245,
    "start_time": "2023-11-16T20:46:42.734Z"
   },
   {
    "duration": 246,
    "start_time": "2023-11-16T20:46:55.231Z"
   },
   {
    "duration": 550,
    "start_time": "2023-11-16T20:48:10.591Z"
   },
   {
    "duration": 592,
    "start_time": "2023-11-16T20:48:28.206Z"
   },
   {
    "duration": 665,
    "start_time": "2023-11-16T20:49:06.198Z"
   },
   {
    "duration": 235,
    "start_time": "2023-11-16T20:49:17.230Z"
   },
   {
    "duration": 429,
    "start_time": "2023-11-16T20:49:49.720Z"
   },
   {
    "duration": 433,
    "start_time": "2023-11-16T20:50:07.601Z"
   },
   {
    "duration": 590,
    "start_time": "2023-11-16T20:50:16.804Z"
   },
   {
    "duration": 447,
    "start_time": "2023-11-16T20:50:33.775Z"
   },
   {
    "duration": 503,
    "start_time": "2023-11-16T20:52:02.789Z"
   },
   {
    "duration": 581,
    "start_time": "2023-11-16T20:53:04.924Z"
   },
   {
    "duration": 8,
    "start_time": "2023-11-16T20:53:31.620Z"
   },
   {
    "duration": 934,
    "start_time": "2023-11-16T20:53:31.906Z"
   },
   {
    "duration": 6,
    "start_time": "2023-11-16T20:53:32.842Z"
   },
   {
    "duration": 78,
    "start_time": "2023-11-16T20:53:32.849Z"
   },
   {
    "duration": 87,
    "start_time": "2023-11-16T20:53:32.928Z"
   },
   {
    "duration": 77,
    "start_time": "2023-11-16T20:53:33.019Z"
   },
   {
    "duration": 22,
    "start_time": "2023-11-16T20:53:33.098Z"
   },
   {
    "duration": 50,
    "start_time": "2023-11-16T20:53:33.122Z"
   },
   {
    "duration": 44,
    "start_time": "2023-11-16T20:53:33.175Z"
   },
   {
    "duration": 43,
    "start_time": "2023-11-16T20:53:33.220Z"
   },
   {
    "duration": 18,
    "start_time": "2023-11-16T20:53:33.265Z"
   },
   {
    "duration": 24,
    "start_time": "2023-11-16T20:53:33.284Z"
   },
   {
    "duration": 30,
    "start_time": "2023-11-16T20:53:33.310Z"
   },
   {
    "duration": 298,
    "start_time": "2023-11-16T20:53:33.342Z"
   },
   {
    "duration": 4,
    "start_time": "2023-11-16T20:53:33.643Z"
   },
   {
    "duration": 11,
    "start_time": "2023-11-16T20:53:33.649Z"
   },
   {
    "duration": 22,
    "start_time": "2023-11-16T20:53:33.663Z"
   },
   {
    "duration": 9,
    "start_time": "2023-11-16T20:53:33.687Z"
   },
   {
    "duration": 28,
    "start_time": "2023-11-16T20:53:33.698Z"
   },
   {
    "duration": 329,
    "start_time": "2023-11-16T20:53:33.728Z"
   },
   {
    "duration": 24,
    "start_time": "2023-11-16T20:53:34.060Z"
   },
   {
    "duration": 10,
    "start_time": "2023-11-16T20:53:34.086Z"
   },
   {
    "duration": 23,
    "start_time": "2023-11-16T20:53:34.098Z"
   },
   {
    "duration": 22,
    "start_time": "2023-11-16T20:53:34.122Z"
   },
   {
    "duration": 26,
    "start_time": "2023-11-16T20:53:34.146Z"
   },
   {
    "duration": 58,
    "start_time": "2023-11-16T20:53:34.174Z"
   },
   {
    "duration": 37,
    "start_time": "2023-11-16T20:53:34.234Z"
   },
   {
    "duration": 9,
    "start_time": "2023-11-16T20:53:34.273Z"
   },
   {
    "duration": 5,
    "start_time": "2023-11-16T20:53:34.284Z"
   },
   {
    "duration": 16,
    "start_time": "2023-11-16T20:53:34.290Z"
   },
   {
    "duration": 24,
    "start_time": "2023-11-16T20:53:34.308Z"
   },
   {
    "duration": 13,
    "start_time": "2023-11-16T20:53:34.333Z"
   },
   {
    "duration": 6,
    "start_time": "2023-11-16T20:53:34.349Z"
   },
   {
    "duration": 4,
    "start_time": "2023-11-16T20:53:34.358Z"
   },
   {
    "duration": 6,
    "start_time": "2023-11-16T20:53:34.365Z"
   },
   {
    "duration": 8,
    "start_time": "2023-11-16T20:53:34.373Z"
   },
   {
    "duration": 10,
    "start_time": "2023-11-16T20:53:34.384Z"
   },
   {
    "duration": 17,
    "start_time": "2023-11-16T20:53:34.396Z"
   },
   {
    "duration": 800,
    "start_time": "2023-11-16T20:53:34.415Z"
   },
   {
    "duration": 534,
    "start_time": "2023-11-16T20:53:35.217Z"
   },
   {
    "duration": 532,
    "start_time": "2023-11-16T20:53:35.757Z"
   },
   {
    "duration": 683,
    "start_time": "2023-11-16T20:53:36.296Z"
   },
   {
    "duration": 10,
    "start_time": "2023-11-16T20:53:36.982Z"
   },
   {
    "duration": 753,
    "start_time": "2023-11-16T20:53:36.994Z"
   },
   {
    "duration": 12,
    "start_time": "2023-11-16T20:53:37.748Z"
   },
   {
    "duration": 617,
    "start_time": "2023-11-16T20:53:37.762Z"
   },
   {
    "duration": 629,
    "start_time": "2023-11-16T20:53:38.384Z"
   },
   {
    "duration": 10,
    "start_time": "2023-11-16T20:53:39.015Z"
   },
   {
    "duration": 660,
    "start_time": "2023-11-16T20:53:39.027Z"
   },
   {
    "duration": 11,
    "start_time": "2023-11-16T20:53:39.689Z"
   },
   {
    "duration": 116,
    "start_time": "2023-11-16T20:53:39.702Z"
   },
   {
    "duration": 1474,
    "start_time": "2023-11-16T20:53:39.820Z"
   },
   {
    "duration": 2,
    "start_time": "2023-11-16T20:53:41.297Z"
   },
   {
    "duration": 12,
    "start_time": "2023-11-16T20:53:41.302Z"
   },
   {
    "duration": 82,
    "start_time": "2023-11-16T20:53:41.316Z"
   },
   {
    "duration": 97,
    "start_time": "2023-11-16T20:53:41.401Z"
   },
   {
    "duration": 1257,
    "start_time": "2023-11-16T20:53:41.501Z"
   },
   {
    "duration": 13,
    "start_time": "2023-11-16T20:53:42.760Z"
   },
   {
    "duration": 11,
    "start_time": "2023-11-16T20:53:42.780Z"
   },
   {
    "duration": 46,
    "start_time": "2023-11-16T20:53:42.793Z"
   },
   {
    "duration": 87,
    "start_time": "2023-11-16T20:53:42.840Z"
   },
   {
    "duration": 38,
    "start_time": "2023-11-16T20:53:42.929Z"
   },
   {
    "duration": 6,
    "start_time": "2023-11-16T20:53:42.970Z"
   },
   {
    "duration": 5,
    "start_time": "2023-11-16T20:53:42.978Z"
   },
   {
    "duration": 36,
    "start_time": "2023-11-16T20:53:42.985Z"
   },
   {
    "duration": 61,
    "start_time": "2023-11-16T20:53:43.023Z"
   },
   {
    "duration": 31,
    "start_time": "2023-11-16T20:53:43.087Z"
   },
   {
    "duration": 6,
    "start_time": "2023-11-16T20:53:43.121Z"
   },
   {
    "duration": 17,
    "start_time": "2023-11-16T20:53:43.130Z"
   },
   {
    "duration": 16,
    "start_time": "2023-11-16T20:53:43.149Z"
   },
   {
    "duration": 27,
    "start_time": "2023-11-16T20:53:43.167Z"
   },
   {
    "duration": 17,
    "start_time": "2023-11-16T20:53:43.196Z"
   },
   {
    "duration": 24,
    "start_time": "2023-11-16T20:53:43.216Z"
   },
   {
    "duration": 394,
    "start_time": "2023-11-16T20:53:43.242Z"
   },
   {
    "duration": 57,
    "start_time": "2023-11-16T20:53:43.638Z"
   },
   {
    "duration": 8,
    "start_time": "2023-11-16T20:53:43.697Z"
   },
   {
    "duration": 373,
    "start_time": "2023-11-16T20:53:43.707Z"
   },
   {
    "duration": 82,
    "start_time": "2023-11-16T20:53:44.082Z"
   },
   {
    "duration": 332,
    "start_time": "2023-11-16T20:53:44.170Z"
   },
   {
    "duration": 0,
    "start_time": "2023-11-16T20:53:44.505Z"
   },
   {
    "duration": 0,
    "start_time": "2023-11-16T20:53:44.506Z"
   },
   {
    "duration": 0,
    "start_time": "2023-11-16T20:53:44.508Z"
   },
   {
    "duration": 0,
    "start_time": "2023-11-16T20:53:44.511Z"
   },
   {
    "duration": 0,
    "start_time": "2023-11-16T20:53:44.513Z"
   },
   {
    "duration": 523,
    "start_time": "2023-11-16T20:54:44.832Z"
   },
   {
    "duration": 39,
    "start_time": "2023-11-16T21:13:35.705Z"
   },
   {
    "duration": 6,
    "start_time": "2023-11-16T21:14:35.734Z"
   },
   {
    "duration": 48,
    "start_time": "2023-11-16T21:15:51.429Z"
   },
   {
    "duration": 10,
    "start_time": "2023-11-16T21:18:47.358Z"
   },
   {
    "duration": 2,
    "start_time": "2023-11-16T21:49:48.904Z"
   },
   {
    "duration": 3,
    "start_time": "2023-11-16T21:49:51.504Z"
   },
   {
    "duration": 12210,
    "start_time": "2023-11-16T21:52:48.654Z"
   },
   {
    "duration": 12,
    "start_time": "2023-11-16T21:53:17.359Z"
   },
   {
    "duration": 12156,
    "start_time": "2023-11-16T21:54:26.915Z"
   },
   {
    "duration": 5,
    "start_time": "2023-11-16T21:54:43.504Z"
   },
   {
    "duration": 1472,
    "start_time": "2023-11-16T22:09:14.613Z"
   },
   {
    "duration": 782,
    "start_time": "2023-11-16T22:09:16.087Z"
   },
   {
    "duration": 6,
    "start_time": "2023-11-16T22:09:16.871Z"
   },
   {
    "duration": 9,
    "start_time": "2023-11-16T22:09:16.879Z"
   },
   {
    "duration": 11,
    "start_time": "2023-11-16T22:09:16.889Z"
   },
   {
    "duration": 68,
    "start_time": "2023-11-16T22:09:16.902Z"
   },
   {
    "duration": 18,
    "start_time": "2023-11-16T22:09:16.971Z"
   },
   {
    "duration": 25,
    "start_time": "2023-11-16T22:09:16.990Z"
   },
   {
    "duration": 24,
    "start_time": "2023-11-16T22:09:17.016Z"
   },
   {
    "duration": 15,
    "start_time": "2023-11-16T22:09:17.061Z"
   },
   {
    "duration": 3,
    "start_time": "2023-11-16T22:09:17.077Z"
   },
   {
    "duration": 17,
    "start_time": "2023-11-16T22:09:17.081Z"
   },
   {
    "duration": 3,
    "start_time": "2023-11-16T22:09:17.100Z"
   },
   {
    "duration": 198,
    "start_time": "2023-11-16T22:09:17.104Z"
   },
   {
    "duration": 4,
    "start_time": "2023-11-16T22:09:17.304Z"
   },
   {
    "duration": 9,
    "start_time": "2023-11-16T22:09:17.309Z"
   },
   {
    "duration": 10,
    "start_time": "2023-11-16T22:09:17.319Z"
   },
   {
    "duration": 13,
    "start_time": "2023-11-16T22:09:17.331Z"
   },
   {
    "duration": 25,
    "start_time": "2023-11-16T22:09:17.345Z"
   },
   {
    "duration": 247,
    "start_time": "2023-11-16T22:09:17.371Z"
   },
   {
    "duration": 18,
    "start_time": "2023-11-16T22:09:17.619Z"
   },
   {
    "duration": 34,
    "start_time": "2023-11-16T22:09:17.638Z"
   },
   {
    "duration": 10,
    "start_time": "2023-11-16T22:09:17.674Z"
   },
   {
    "duration": 29,
    "start_time": "2023-11-16T22:09:17.685Z"
   },
   {
    "duration": 16,
    "start_time": "2023-11-16T22:09:17.715Z"
   },
   {
    "duration": 27,
    "start_time": "2023-11-16T22:09:17.732Z"
   },
   {
    "duration": 43,
    "start_time": "2023-11-16T22:09:17.760Z"
   },
   {
    "duration": 34,
    "start_time": "2023-11-16T22:09:17.808Z"
   },
   {
    "duration": 26,
    "start_time": "2023-11-16T22:09:17.843Z"
   },
   {
    "duration": 34,
    "start_time": "2023-11-16T22:09:17.871Z"
   },
   {
    "duration": 18,
    "start_time": "2023-11-16T22:09:17.907Z"
   },
   {
    "duration": 6,
    "start_time": "2023-11-16T22:09:17.927Z"
   },
   {
    "duration": 46,
    "start_time": "2023-11-16T22:09:17.935Z"
   },
   {
    "duration": 18,
    "start_time": "2023-11-16T22:09:17.982Z"
   },
   {
    "duration": 40,
    "start_time": "2023-11-16T22:09:18.001Z"
   },
   {
    "duration": 55,
    "start_time": "2023-11-16T22:09:18.042Z"
   },
   {
    "duration": 40,
    "start_time": "2023-11-16T22:09:18.099Z"
   },
   {
    "duration": 76,
    "start_time": "2023-11-16T22:09:18.141Z"
   },
   {
    "duration": 515,
    "start_time": "2023-11-16T22:09:18.219Z"
   },
   {
    "duration": 531,
    "start_time": "2023-11-16T22:09:18.736Z"
   },
   {
    "duration": 451,
    "start_time": "2023-11-16T22:09:19.269Z"
   },
   {
    "duration": 662,
    "start_time": "2023-11-16T22:09:19.722Z"
   },
   {
    "duration": 6,
    "start_time": "2023-11-16T22:09:20.386Z"
   },
   {
    "duration": 493,
    "start_time": "2023-11-16T22:09:20.393Z"
   },
   {
    "duration": 7,
    "start_time": "2023-11-16T22:09:20.888Z"
   },
   {
    "duration": 692,
    "start_time": "2023-11-16T22:09:20.897Z"
   },
   {
    "duration": 491,
    "start_time": "2023-11-16T22:09:21.590Z"
   },
   {
    "duration": 7,
    "start_time": "2023-11-16T22:09:22.083Z"
   },
   {
    "duration": 557,
    "start_time": "2023-11-16T22:09:22.092Z"
   },
   {
    "duration": 20,
    "start_time": "2023-11-16T22:09:22.651Z"
   },
   {
    "duration": 67,
    "start_time": "2023-11-16T22:09:22.673Z"
   },
   {
    "duration": 1110,
    "start_time": "2023-11-16T22:09:22.741Z"
   },
   {
    "duration": 5,
    "start_time": "2023-11-16T22:09:23.853Z"
   },
   {
    "duration": 36,
    "start_time": "2023-11-16T22:09:23.860Z"
   },
   {
    "duration": 81,
    "start_time": "2023-11-16T22:09:23.897Z"
   },
   {
    "duration": 62,
    "start_time": "2023-11-16T22:09:23.980Z"
   },
   {
    "duration": 889,
    "start_time": "2023-11-16T22:09:24.043Z"
   },
   {
    "duration": 9,
    "start_time": "2023-11-16T22:09:24.934Z"
   },
   {
    "duration": 22,
    "start_time": "2023-11-16T22:09:24.944Z"
   },
   {
    "duration": 37,
    "start_time": "2023-11-16T22:09:24.968Z"
   },
   {
    "duration": 33,
    "start_time": "2023-11-16T22:09:25.006Z"
   },
   {
    "duration": 29,
    "start_time": "2023-11-16T22:09:25.041Z"
   },
   {
    "duration": 37,
    "start_time": "2023-11-16T22:09:25.071Z"
   },
   {
    "duration": 16,
    "start_time": "2023-11-16T22:09:25.109Z"
   },
   {
    "duration": 13,
    "start_time": "2023-11-16T22:09:25.127Z"
   },
   {
    "duration": 649,
    "start_time": "2023-11-16T22:09:25.142Z"
   },
   {
    "duration": 3,
    "start_time": "2023-11-16T22:09:25.792Z"
   },
   {
    "duration": 19,
    "start_time": "2023-11-16T22:09:25.796Z"
   },
   {
    "duration": 18,
    "start_time": "2023-11-16T22:09:25.817Z"
   },
   {
    "duration": 52,
    "start_time": "2023-11-16T22:09:25.836Z"
   },
   {
    "duration": 59,
    "start_time": "2023-11-16T22:09:25.890Z"
   },
   {
    "duration": 23,
    "start_time": "2023-11-16T22:09:25.950Z"
   },
   {
    "duration": 7,
    "start_time": "2023-11-16T22:09:25.975Z"
   },
   {
    "duration": 10,
    "start_time": "2023-11-16T22:09:25.983Z"
   },
   {
    "duration": 11601,
    "start_time": "2023-11-16T22:09:25.994Z"
   },
   {
    "duration": 4,
    "start_time": "2023-11-16T22:09:37.596Z"
   },
   {
    "duration": 0,
    "start_time": "2023-11-16T22:09:37.601Z"
   },
   {
    "duration": 0,
    "start_time": "2023-11-16T22:09:37.603Z"
   },
   {
    "duration": 0,
    "start_time": "2023-11-16T22:09:37.604Z"
   },
   {
    "duration": 0,
    "start_time": "2023-11-16T22:09:37.605Z"
   },
   {
    "duration": 0,
    "start_time": "2023-11-16T22:09:37.606Z"
   },
   {
    "duration": 0,
    "start_time": "2023-11-16T22:09:37.607Z"
   },
   {
    "duration": 0,
    "start_time": "2023-11-16T22:09:37.608Z"
   },
   {
    "duration": 5,
    "start_time": "2023-11-16T22:09:58.027Z"
   },
   {
    "duration": 11711,
    "start_time": "2023-11-16T22:10:02.376Z"
   },
   {
    "duration": 5,
    "start_time": "2023-11-16T22:10:14.089Z"
   },
   {
    "duration": 1469,
    "start_time": "2023-11-16T22:15:53.775Z"
   },
   {
    "duration": 781,
    "start_time": "2023-11-16T22:15:55.246Z"
   },
   {
    "duration": 5,
    "start_time": "2023-11-16T22:15:56.028Z"
   },
   {
    "duration": 8,
    "start_time": "2023-11-16T22:15:56.036Z"
   },
   {
    "duration": 27,
    "start_time": "2023-11-16T22:15:56.046Z"
   },
   {
    "duration": 74,
    "start_time": "2023-11-16T22:15:56.075Z"
   },
   {
    "duration": 26,
    "start_time": "2023-11-16T22:15:56.151Z"
   },
   {
    "duration": 31,
    "start_time": "2023-11-16T22:15:56.178Z"
   },
   {
    "duration": 20,
    "start_time": "2023-11-16T22:15:56.211Z"
   },
   {
    "duration": 23,
    "start_time": "2023-11-16T22:15:56.234Z"
   },
   {
    "duration": 12,
    "start_time": "2023-11-16T22:15:56.258Z"
   },
   {
    "duration": 31,
    "start_time": "2023-11-16T22:15:56.271Z"
   },
   {
    "duration": 4,
    "start_time": "2023-11-16T22:15:56.303Z"
   },
   {
    "duration": 199,
    "start_time": "2023-11-16T22:15:56.308Z"
   },
   {
    "duration": 4,
    "start_time": "2023-11-16T22:15:56.508Z"
   },
   {
    "duration": 20,
    "start_time": "2023-11-16T22:15:56.513Z"
   },
   {
    "duration": 13,
    "start_time": "2023-11-16T22:15:56.535Z"
   },
   {
    "duration": 12,
    "start_time": "2023-11-16T22:15:56.550Z"
   },
   {
    "duration": 26,
    "start_time": "2023-11-16T22:15:56.563Z"
   },
   {
    "duration": 242,
    "start_time": "2023-11-16T22:15:56.590Z"
   },
   {
    "duration": 33,
    "start_time": "2023-11-16T22:15:56.834Z"
   },
   {
    "duration": 3,
    "start_time": "2023-11-16T22:15:56.869Z"
   },
   {
    "duration": 9,
    "start_time": "2023-11-16T22:15:56.873Z"
   },
   {
    "duration": 15,
    "start_time": "2023-11-16T22:15:56.883Z"
   },
   {
    "duration": 2,
    "start_time": "2023-11-16T22:15:56.899Z"
   },
   {
    "duration": 9,
    "start_time": "2023-11-16T22:15:56.903Z"
   },
   {
    "duration": 17,
    "start_time": "2023-11-16T22:15:56.914Z"
   },
   {
    "duration": 33,
    "start_time": "2023-11-16T22:15:56.935Z"
   },
   {
    "duration": 10,
    "start_time": "2023-11-16T22:15:56.970Z"
   },
   {
    "duration": 13,
    "start_time": "2023-11-16T22:15:56.981Z"
   },
   {
    "duration": 18,
    "start_time": "2023-11-16T22:15:56.996Z"
   },
   {
    "duration": 3,
    "start_time": "2023-11-16T22:15:57.015Z"
   },
   {
    "duration": 9,
    "start_time": "2023-11-16T22:15:57.019Z"
   },
   {
    "duration": 10,
    "start_time": "2023-11-16T22:15:57.029Z"
   },
   {
    "duration": 8,
    "start_time": "2023-11-16T22:15:57.040Z"
   },
   {
    "duration": 14,
    "start_time": "2023-11-16T22:15:57.049Z"
   },
   {
    "duration": 13,
    "start_time": "2023-11-16T22:15:57.064Z"
   },
   {
    "duration": 15,
    "start_time": "2023-11-16T22:15:57.079Z"
   },
   {
    "duration": 478,
    "start_time": "2023-11-16T22:15:57.096Z"
   },
   {
    "duration": 514,
    "start_time": "2023-11-16T22:15:57.576Z"
   },
   {
    "duration": 455,
    "start_time": "2023-11-16T22:15:58.091Z"
   },
   {
    "duration": 627,
    "start_time": "2023-11-16T22:15:58.548Z"
   },
   {
    "duration": 6,
    "start_time": "2023-11-16T22:15:59.177Z"
   },
   {
    "duration": 491,
    "start_time": "2023-11-16T22:15:59.185Z"
   },
   {
    "duration": 7,
    "start_time": "2023-11-16T22:15:59.678Z"
   },
   {
    "duration": 592,
    "start_time": "2023-11-16T22:15:59.687Z"
   },
   {
    "duration": 459,
    "start_time": "2023-11-16T22:16:00.289Z"
   },
   {
    "duration": 19,
    "start_time": "2023-11-16T22:16:00.750Z"
   },
   {
    "duration": 607,
    "start_time": "2023-11-16T22:16:00.771Z"
   },
   {
    "duration": 7,
    "start_time": "2023-11-16T22:16:01.379Z"
   },
   {
    "duration": 163,
    "start_time": "2023-11-16T22:16:01.388Z"
   },
   {
    "duration": 1141,
    "start_time": "2023-11-16T22:16:01.552Z"
   },
   {
    "duration": 3,
    "start_time": "2023-11-16T22:16:02.694Z"
   },
   {
    "duration": 124,
    "start_time": "2023-11-16T22:16:02.698Z"
   },
   {
    "duration": 102,
    "start_time": "2023-11-16T22:16:02.824Z"
   },
   {
    "duration": 95,
    "start_time": "2023-11-16T22:16:02.927Z"
   },
   {
    "duration": 906,
    "start_time": "2023-11-16T22:16:03.024Z"
   },
   {
    "duration": 9,
    "start_time": "2023-11-16T22:16:03.932Z"
   },
   {
    "duration": 136,
    "start_time": "2023-11-16T22:16:03.943Z"
   },
   {
    "duration": 13,
    "start_time": "2023-11-16T22:16:04.082Z"
   },
   {
    "duration": 15,
    "start_time": "2023-11-16T22:16:04.097Z"
   },
   {
    "duration": 5,
    "start_time": "2023-11-16T22:16:04.114Z"
   },
   {
    "duration": 16,
    "start_time": "2023-11-16T22:16:04.120Z"
   },
   {
    "duration": 11,
    "start_time": "2023-11-16T22:16:04.138Z"
   },
   {
    "duration": 17,
    "start_time": "2023-11-16T22:16:04.151Z"
   },
   {
    "duration": 666,
    "start_time": "2023-11-16T22:16:04.169Z"
   },
   {
    "duration": 4,
    "start_time": "2023-11-16T22:16:04.837Z"
   },
   {
    "duration": 20,
    "start_time": "2023-11-16T22:16:04.843Z"
   },
   {
    "duration": 9,
    "start_time": "2023-11-16T22:16:04.865Z"
   },
   {
    "duration": 14,
    "start_time": "2023-11-16T22:16:04.876Z"
   },
   {
    "duration": 9,
    "start_time": "2023-11-16T22:16:04.892Z"
   },
   {
    "duration": 7,
    "start_time": "2023-11-16T22:16:04.903Z"
   },
   {
    "duration": 6,
    "start_time": "2023-11-16T22:16:04.911Z"
   },
   {
    "duration": 5,
    "start_time": "2023-11-16T22:16:04.919Z"
   },
   {
    "duration": 7,
    "start_time": "2023-11-16T22:16:04.926Z"
   },
   {
    "duration": 138,
    "start_time": "2023-11-16T22:16:04.934Z"
   },
   {
    "duration": 0,
    "start_time": "2023-11-16T22:16:05.074Z"
   },
   {
    "duration": 0,
    "start_time": "2023-11-16T22:16:05.076Z"
   },
   {
    "duration": 0,
    "start_time": "2023-11-16T22:16:05.077Z"
   },
   {
    "duration": 0,
    "start_time": "2023-11-16T22:16:05.079Z"
   },
   {
    "duration": 0,
    "start_time": "2023-11-16T22:16:05.080Z"
   },
   {
    "duration": 0,
    "start_time": "2023-11-16T22:16:05.081Z"
   },
   {
    "duration": 0,
    "start_time": "2023-11-16T22:16:05.082Z"
   },
   {
    "duration": 0,
    "start_time": "2023-11-16T22:16:05.083Z"
   },
   {
    "duration": 0,
    "start_time": "2023-11-16T22:16:05.083Z"
   },
   {
    "duration": 0,
    "start_time": "2023-11-16T22:16:05.084Z"
   },
   {
    "duration": 4,
    "start_time": "2023-11-16T22:18:32.640Z"
   },
   {
    "duration": 6,
    "start_time": "2023-11-16T22:18:34.527Z"
   },
   {
    "duration": 199337,
    "start_time": "2023-11-16T22:18:38.356Z"
   },
   {
    "duration": 203376,
    "start_time": "2023-11-16T22:21:57.694Z"
   },
   {
    "duration": 20,
    "start_time": "2023-11-16T22:25:26.628Z"
   },
   {
    "duration": 21,
    "start_time": "2023-11-16T22:26:00.808Z"
   },
   {
    "duration": 2307,
    "start_time": "2023-11-16T22:31:54.234Z"
   },
   {
    "duration": 8271,
    "start_time": "2023-11-16T22:36:23.249Z"
   },
   {
    "duration": 4,
    "start_time": "2023-11-16T22:37:05.194Z"
   },
   {
    "duration": 10,
    "start_time": "2023-11-16T22:38:52.129Z"
   },
   {
    "duration": 4,
    "start_time": "2023-11-16T22:39:20.037Z"
   },
   {
    "duration": 131,
    "start_time": "2023-11-16T22:39:38.146Z"
   },
   {
    "duration": 107,
    "start_time": "2023-11-16T22:39:46.535Z"
   },
   {
    "duration": 83,
    "start_time": "2023-11-16T22:40:09.444Z"
   },
   {
    "duration": 3,
    "start_time": "2023-11-16T22:40:18.301Z"
   },
   {
    "duration": 4,
    "start_time": "2023-11-16T22:40:27.929Z"
   },
   {
    "duration": 3,
    "start_time": "2023-11-16T22:40:58.569Z"
   },
   {
    "duration": 1661,
    "start_time": "2023-11-17T17:46:05.789Z"
   },
   {
    "duration": 107,
    "start_time": "2023-11-17T17:49:07.592Z"
   },
   {
    "duration": 4,
    "start_time": "2023-11-17T17:49:12.036Z"
   },
   {
    "duration": 2948,
    "start_time": "2023-11-17T17:49:16.718Z"
   },
   {
    "duration": 5,
    "start_time": "2023-11-17T17:49:20.859Z"
   },
   {
    "duration": 45,
    "start_time": "2023-11-17T17:51:46.700Z"
   },
   {
    "duration": 22,
    "start_time": "2023-11-17T17:54:45.350Z"
   },
   {
    "duration": 14,
    "start_time": "2023-11-17T17:55:11.457Z"
   },
   {
    "duration": 3,
    "start_time": "2023-11-17T18:10:10.675Z"
   },
   {
    "duration": 3,
    "start_time": "2023-11-17T18:11:18.144Z"
   },
   {
    "duration": 3,
    "start_time": "2023-11-17T18:15:05.317Z"
   },
   {
    "duration": 3,
    "start_time": "2023-11-17T18:15:06.928Z"
   },
   {
    "duration": 196,
    "start_time": "2023-11-17T18:23:11.364Z"
   },
   {
    "duration": 4,
    "start_time": "2023-11-17T18:23:14.270Z"
   },
   {
    "duration": 4,
    "start_time": "2023-11-17T18:23:15.978Z"
   },
   {
    "duration": 5,
    "start_time": "2023-11-17T18:23:24.568Z"
   },
   {
    "duration": 1245,
    "start_time": "2023-11-17T18:33:10.295Z"
   },
   {
    "duration": 4,
    "start_time": "2023-11-17T18:33:37.359Z"
   },
   {
    "duration": 4,
    "start_time": "2023-11-17T18:40:05.579Z"
   },
   {
    "duration": 4,
    "start_time": "2023-11-17T18:40:27.378Z"
   },
   {
    "duration": 3,
    "start_time": "2023-11-17T18:42:30.397Z"
   },
   {
    "duration": 4,
    "start_time": "2023-11-17T18:44:11.540Z"
   },
   {
    "duration": 7,
    "start_time": "2023-11-17T18:49:19.716Z"
   },
   {
    "duration": 7,
    "start_time": "2023-11-17T18:50:55.109Z"
   },
   {
    "duration": 6,
    "start_time": "2023-11-17T18:51:38.174Z"
   },
   {
    "duration": 15,
    "start_time": "2023-11-17T19:11:57.007Z"
   },
   {
    "duration": 11,
    "start_time": "2023-11-17T19:29:53.874Z"
   },
   {
    "duration": 14,
    "start_time": "2023-11-17T19:31:16.542Z"
   },
   {
    "duration": 4,
    "start_time": "2023-11-17T19:34:04.483Z"
   },
   {
    "duration": 740,
    "start_time": "2023-11-17T19:34:04.491Z"
   },
   {
    "duration": 4,
    "start_time": "2023-11-17T19:34:05.232Z"
   },
   {
    "duration": 24,
    "start_time": "2023-11-17T19:34:05.237Z"
   },
   {
    "duration": 6,
    "start_time": "2023-11-17T19:34:05.262Z"
   },
   {
    "duration": 51,
    "start_time": "2023-11-17T19:34:05.270Z"
   },
   {
    "duration": 13,
    "start_time": "2023-11-17T19:34:05.323Z"
   },
   {
    "duration": 23,
    "start_time": "2023-11-17T19:34:05.338Z"
   },
   {
    "duration": 14,
    "start_time": "2023-11-17T19:34:05.362Z"
   },
   {
    "duration": 8,
    "start_time": "2023-11-17T19:34:05.378Z"
   },
   {
    "duration": 7,
    "start_time": "2023-11-17T19:34:05.388Z"
   },
   {
    "duration": 19,
    "start_time": "2023-11-17T19:34:05.396Z"
   },
   {
    "duration": 8,
    "start_time": "2023-11-17T19:34:05.416Z"
   },
   {
    "duration": 197,
    "start_time": "2023-11-17T19:34:05.425Z"
   },
   {
    "duration": 4,
    "start_time": "2023-11-17T19:34:05.625Z"
   },
   {
    "duration": 7,
    "start_time": "2023-11-17T19:34:05.630Z"
   },
   {
    "duration": 18,
    "start_time": "2023-11-17T19:34:05.638Z"
   },
   {
    "duration": 11,
    "start_time": "2023-11-17T19:34:05.658Z"
   },
   {
    "duration": 17,
    "start_time": "2023-11-17T19:34:05.670Z"
   },
   {
    "duration": 257,
    "start_time": "2023-11-17T19:34:05.689Z"
   },
   {
    "duration": 15,
    "start_time": "2023-11-17T19:34:05.948Z"
   },
   {
    "duration": 16,
    "start_time": "2023-11-17T19:34:05.965Z"
   },
   {
    "duration": 8,
    "start_time": "2023-11-17T19:34:05.983Z"
   },
   {
    "duration": 14,
    "start_time": "2023-11-17T19:34:05.993Z"
   },
   {
    "duration": 2,
    "start_time": "2023-11-17T19:34:06.009Z"
   },
   {
    "duration": 23,
    "start_time": "2023-11-17T19:34:06.015Z"
   },
   {
    "duration": 14,
    "start_time": "2023-11-17T19:34:06.040Z"
   },
   {
    "duration": 12,
    "start_time": "2023-11-17T19:34:06.055Z"
   },
   {
    "duration": 13,
    "start_time": "2023-11-17T19:34:06.068Z"
   },
   {
    "duration": 32,
    "start_time": "2023-11-17T19:34:06.083Z"
   },
   {
    "duration": 17,
    "start_time": "2023-11-17T19:34:06.117Z"
   },
   {
    "duration": 15,
    "start_time": "2023-11-17T19:34:06.136Z"
   },
   {
    "duration": 6,
    "start_time": "2023-11-17T19:34:06.153Z"
   },
   {
    "duration": 9,
    "start_time": "2023-11-17T19:34:06.160Z"
   },
   {
    "duration": 5,
    "start_time": "2023-11-17T19:34:06.170Z"
   },
   {
    "duration": 6,
    "start_time": "2023-11-17T19:34:06.176Z"
   },
   {
    "duration": 13,
    "start_time": "2023-11-17T19:34:06.183Z"
   },
   {
    "duration": 18,
    "start_time": "2023-11-17T19:34:06.197Z"
   },
   {
    "duration": 459,
    "start_time": "2023-11-17T19:34:06.216Z"
   },
   {
    "duration": 506,
    "start_time": "2023-11-17T19:34:06.677Z"
   },
   {
    "duration": 460,
    "start_time": "2023-11-17T19:34:07.185Z"
   },
   {
    "duration": 612,
    "start_time": "2023-11-17T19:34:07.651Z"
   },
   {
    "duration": 8,
    "start_time": "2023-11-17T19:34:08.265Z"
   },
   {
    "duration": 467,
    "start_time": "2023-11-17T19:34:08.274Z"
   },
   {
    "duration": 7,
    "start_time": "2023-11-17T19:34:08.743Z"
   },
   {
    "duration": 605,
    "start_time": "2023-11-17T19:34:08.751Z"
   },
   {
    "duration": 479,
    "start_time": "2023-11-17T19:34:09.357Z"
   },
   {
    "duration": 6,
    "start_time": "2023-11-17T19:34:09.837Z"
   },
   {
    "duration": 494,
    "start_time": "2023-11-17T19:34:09.845Z"
   },
   {
    "duration": 6,
    "start_time": "2023-11-17T19:34:10.341Z"
   },
   {
    "duration": 82,
    "start_time": "2023-11-17T19:34:10.349Z"
   },
   {
    "duration": 1294,
    "start_time": "2023-11-17T19:34:10.432Z"
   },
   {
    "duration": 2,
    "start_time": "2023-11-17T19:34:11.727Z"
   },
   {
    "duration": 4,
    "start_time": "2023-11-17T19:34:11.731Z"
   },
   {
    "duration": 96,
    "start_time": "2023-11-17T19:34:11.736Z"
   },
   {
    "duration": 123,
    "start_time": "2023-11-17T19:34:11.834Z"
   },
   {
    "duration": 1293,
    "start_time": "2023-11-17T19:34:11.959Z"
   },
   {
    "duration": 7,
    "start_time": "2023-11-17T19:34:13.253Z"
   },
   {
    "duration": 8,
    "start_time": "2023-11-17T19:34:13.262Z"
   },
   {
    "duration": 13,
    "start_time": "2023-11-17T19:34:13.271Z"
   },
   {
    "duration": 5,
    "start_time": "2023-11-17T19:34:13.286Z"
   },
   {
    "duration": 22,
    "start_time": "2023-11-17T19:34:13.293Z"
   },
   {
    "duration": 13,
    "start_time": "2023-11-17T19:34:13.316Z"
   },
   {
    "duration": 12,
    "start_time": "2023-11-17T19:34:13.330Z"
   },
   {
    "duration": 7,
    "start_time": "2023-11-17T19:34:13.343Z"
   },
   {
    "duration": 589,
    "start_time": "2023-11-17T19:34:13.352Z"
   },
   {
    "duration": 85,
    "start_time": "2023-11-17T19:34:13.943Z"
   },
   {
    "duration": 0,
    "start_time": "2023-11-17T19:34:14.030Z"
   },
   {
    "duration": 0,
    "start_time": "2023-11-17T19:34:14.031Z"
   },
   {
    "duration": 0,
    "start_time": "2023-11-17T19:34:14.032Z"
   },
   {
    "duration": 0,
    "start_time": "2023-11-17T19:34:14.034Z"
   },
   {
    "duration": 0,
    "start_time": "2023-11-17T19:34:14.035Z"
   },
   {
    "duration": 0,
    "start_time": "2023-11-17T19:34:14.036Z"
   },
   {
    "duration": 0,
    "start_time": "2023-11-17T19:34:14.037Z"
   },
   {
    "duration": 0,
    "start_time": "2023-11-17T19:34:14.038Z"
   },
   {
    "duration": 0,
    "start_time": "2023-11-17T19:34:14.039Z"
   },
   {
    "duration": 0,
    "start_time": "2023-11-17T19:34:14.040Z"
   },
   {
    "duration": 0,
    "start_time": "2023-11-17T19:34:14.040Z"
   },
   {
    "duration": 0,
    "start_time": "2023-11-17T19:34:14.041Z"
   },
   {
    "duration": 0,
    "start_time": "2023-11-17T19:34:14.043Z"
   },
   {
    "duration": 0,
    "start_time": "2023-11-17T19:34:14.044Z"
   },
   {
    "duration": 0,
    "start_time": "2023-11-17T19:34:14.045Z"
   },
   {
    "duration": 0,
    "start_time": "2023-11-17T19:34:14.046Z"
   },
   {
    "duration": 0,
    "start_time": "2023-11-17T19:34:14.046Z"
   },
   {
    "duration": 0,
    "start_time": "2023-11-17T19:34:14.047Z"
   },
   {
    "duration": 0,
    "start_time": "2023-11-17T19:34:14.048Z"
   },
   {
    "duration": 0,
    "start_time": "2023-11-17T19:34:14.049Z"
   },
   {
    "duration": 0,
    "start_time": "2023-11-17T19:34:14.050Z"
   },
   {
    "duration": 0,
    "start_time": "2023-11-17T19:34:14.051Z"
   },
   {
    "duration": 0,
    "start_time": "2023-11-17T19:34:14.052Z"
   },
   {
    "duration": 0,
    "start_time": "2023-11-17T19:34:14.053Z"
   },
   {
    "duration": 0,
    "start_time": "2023-11-17T19:34:14.054Z"
   },
   {
    "duration": 6,
    "start_time": "2023-11-17T20:04:04.619Z"
   },
   {
    "duration": 450,
    "start_time": "2023-11-17T20:11:09.519Z"
   },
   {
    "duration": 628,
    "start_time": "2023-11-17T20:20:31.206Z"
   },
   {
    "duration": 68,
    "start_time": "2023-11-17T20:51:47.367Z"
   },
   {
    "duration": 984,
    "start_time": "2023-11-17T20:51:48.690Z"
   },
   {
    "duration": 5,
    "start_time": "2023-11-17T20:59:41.567Z"
   },
   {
    "duration": 745,
    "start_time": "2023-11-17T20:59:41.573Z"
   },
   {
    "duration": 4,
    "start_time": "2023-11-17T20:59:42.319Z"
   },
   {
    "duration": 4,
    "start_time": "2023-11-17T20:59:42.325Z"
   },
   {
    "duration": 7,
    "start_time": "2023-11-17T20:59:42.330Z"
   },
   {
    "duration": 77,
    "start_time": "2023-11-17T20:59:42.338Z"
   },
   {
    "duration": 14,
    "start_time": "2023-11-17T20:59:42.416Z"
   },
   {
    "duration": 24,
    "start_time": "2023-11-17T20:59:42.432Z"
   },
   {
    "duration": 19,
    "start_time": "2023-11-17T20:59:42.458Z"
   },
   {
    "duration": 4,
    "start_time": "2023-11-17T20:59:42.478Z"
   },
   {
    "duration": 12,
    "start_time": "2023-11-17T20:59:42.483Z"
   },
   {
    "duration": 14,
    "start_time": "2023-11-17T20:59:42.516Z"
   },
   {
    "duration": 5,
    "start_time": "2023-11-17T20:59:42.531Z"
   },
   {
    "duration": 207,
    "start_time": "2023-11-17T20:59:42.537Z"
   },
   {
    "duration": 5,
    "start_time": "2023-11-17T20:59:42.745Z"
   },
   {
    "duration": 6,
    "start_time": "2023-11-17T20:59:42.751Z"
   },
   {
    "duration": 4,
    "start_time": "2023-11-17T20:59:42.759Z"
   },
   {
    "duration": 12,
    "start_time": "2023-11-17T20:59:42.765Z"
   },
   {
    "duration": 18,
    "start_time": "2023-11-17T20:59:42.814Z"
   },
   {
    "duration": 233,
    "start_time": "2023-11-17T20:59:42.834Z"
   },
   {
    "duration": 14,
    "start_time": "2023-11-17T20:59:43.069Z"
   },
   {
    "duration": 3,
    "start_time": "2023-11-17T20:59:43.084Z"
   },
   {
    "duration": 7,
    "start_time": "2023-11-17T20:59:43.088Z"
   },
   {
    "duration": 7,
    "start_time": "2023-11-17T20:59:43.117Z"
   },
   {
    "duration": 3,
    "start_time": "2023-11-17T20:59:43.126Z"
   },
   {
    "duration": 14,
    "start_time": "2023-11-17T20:59:43.131Z"
   },
   {
    "duration": 6,
    "start_time": "2023-11-17T20:59:43.146Z"
   },
   {
    "duration": 4,
    "start_time": "2023-11-17T20:59:43.153Z"
   },
   {
    "duration": 10,
    "start_time": "2023-11-17T20:59:43.158Z"
   },
   {
    "duration": 46,
    "start_time": "2023-11-17T20:59:43.170Z"
   },
   {
    "duration": 6,
    "start_time": "2023-11-17T20:59:43.218Z"
   },
   {
    "duration": 14,
    "start_time": "2023-11-17T20:59:43.225Z"
   },
   {
    "duration": 461,
    "start_time": "2023-11-17T20:59:43.240Z"
   },
   {
    "duration": 444,
    "start_time": "2023-11-17T20:59:43.703Z"
   },
   {
    "duration": 541,
    "start_time": "2023-11-17T20:59:44.148Z"
   },
   {
    "duration": 652,
    "start_time": "2023-11-17T20:59:44.691Z"
   },
   {
    "duration": 73,
    "start_time": "2023-11-17T20:59:45.344Z"
   },
   {
    "duration": 1023,
    "start_time": "2023-11-17T20:59:45.419Z"
   },
   {
    "duration": 2,
    "start_time": "2023-11-17T20:59:46.443Z"
   },
   {
    "duration": 3,
    "start_time": "2023-11-17T20:59:46.447Z"
   },
   {
    "duration": 145,
    "start_time": "2023-11-17T20:59:46.452Z"
   },
   {
    "duration": 73,
    "start_time": "2023-11-17T20:59:46.599Z"
   },
   {
    "duration": 950,
    "start_time": "2023-11-17T20:59:46.674Z"
   },
   {
    "duration": 7,
    "start_time": "2023-11-17T20:59:47.626Z"
   },
   {
    "duration": 3,
    "start_time": "2023-11-17T20:59:47.635Z"
   },
   {
    "duration": 12,
    "start_time": "2023-11-17T20:59:47.639Z"
   },
   {
    "duration": 6,
    "start_time": "2023-11-17T20:59:47.652Z"
   },
   {
    "duration": 3,
    "start_time": "2023-11-17T20:59:47.659Z"
   },
   {
    "duration": 5,
    "start_time": "2023-11-17T20:59:47.663Z"
   },
   {
    "duration": 45,
    "start_time": "2023-11-17T20:59:47.669Z"
   },
   {
    "duration": 2,
    "start_time": "2023-11-17T20:59:47.716Z"
   },
   {
    "duration": 511,
    "start_time": "2023-11-17T20:59:47.720Z"
   },
   {
    "duration": 90,
    "start_time": "2023-11-17T20:59:48.233Z"
   },
   {
    "duration": 0,
    "start_time": "2023-11-17T20:59:48.326Z"
   },
   {
    "duration": 0,
    "start_time": "2023-11-17T20:59:48.327Z"
   },
   {
    "duration": 0,
    "start_time": "2023-11-17T20:59:48.328Z"
   },
   {
    "duration": 0,
    "start_time": "2023-11-17T20:59:48.330Z"
   },
   {
    "duration": 0,
    "start_time": "2023-11-17T20:59:48.331Z"
   },
   {
    "duration": 0,
    "start_time": "2023-11-17T20:59:48.333Z"
   },
   {
    "duration": 0,
    "start_time": "2023-11-17T20:59:48.334Z"
   },
   {
    "duration": 0,
    "start_time": "2023-11-17T20:59:48.336Z"
   },
   {
    "duration": 0,
    "start_time": "2023-11-17T20:59:48.337Z"
   },
   {
    "duration": 0,
    "start_time": "2023-11-17T20:59:48.339Z"
   },
   {
    "duration": 0,
    "start_time": "2023-11-17T20:59:48.340Z"
   },
   {
    "duration": 0,
    "start_time": "2023-11-17T20:59:48.341Z"
   },
   {
    "duration": 0,
    "start_time": "2023-11-17T20:59:48.343Z"
   },
   {
    "duration": 1,
    "start_time": "2023-11-17T20:59:48.344Z"
   },
   {
    "duration": 0,
    "start_time": "2023-11-17T20:59:48.346Z"
   },
   {
    "duration": 0,
    "start_time": "2023-11-17T20:59:48.347Z"
   },
   {
    "duration": 0,
    "start_time": "2023-11-17T20:59:48.349Z"
   },
   {
    "duration": 0,
    "start_time": "2023-11-17T20:59:48.350Z"
   },
   {
    "duration": 1,
    "start_time": "2023-11-17T20:59:48.351Z"
   },
   {
    "duration": 0,
    "start_time": "2023-11-17T20:59:48.353Z"
   },
   {
    "duration": 0,
    "start_time": "2023-11-17T20:59:48.354Z"
   },
   {
    "duration": 0,
    "start_time": "2023-11-17T20:59:48.356Z"
   },
   {
    "duration": 0,
    "start_time": "2023-11-17T20:59:48.357Z"
   },
   {
    "duration": 0,
    "start_time": "2023-11-17T20:59:48.358Z"
   },
   {
    "duration": 0,
    "start_time": "2023-11-17T20:59:48.359Z"
   },
   {
    "duration": 44,
    "start_time": "2023-11-17T21:10:33.669Z"
   },
   {
    "duration": 67,
    "start_time": "2023-11-17T21:10:35.407Z"
   },
   {
    "duration": 42,
    "start_time": "2023-11-17T21:11:24.511Z"
   },
   {
    "duration": 980,
    "start_time": "2023-11-17T21:11:51.701Z"
   },
   {
    "duration": 3,
    "start_time": "2023-11-17T21:28:01.461Z"
   },
   {
    "duration": 3,
    "start_time": "2023-11-17T21:31:27.535Z"
   },
   {
    "duration": 6,
    "start_time": "2023-11-17T21:31:30.012Z"
   },
   {
    "duration": 1418,
    "start_time": "2023-11-17T21:33:26.755Z"
   },
   {
    "duration": 690,
    "start_time": "2023-11-17T21:33:28.175Z"
   },
   {
    "duration": 6,
    "start_time": "2023-11-17T21:33:28.866Z"
   },
   {
    "duration": 4,
    "start_time": "2023-11-17T21:33:28.874Z"
   },
   {
    "duration": 5,
    "start_time": "2023-11-17T21:33:28.879Z"
   },
   {
    "duration": 64,
    "start_time": "2023-11-17T21:33:28.885Z"
   },
   {
    "duration": 17,
    "start_time": "2023-11-17T21:33:28.951Z"
   },
   {
    "duration": 45,
    "start_time": "2023-11-17T21:33:28.970Z"
   },
   {
    "duration": 15,
    "start_time": "2023-11-17T21:33:29.016Z"
   },
   {
    "duration": 9,
    "start_time": "2023-11-17T21:33:29.033Z"
   },
   {
    "duration": 5,
    "start_time": "2023-11-17T21:33:29.043Z"
   },
   {
    "duration": 15,
    "start_time": "2023-11-17T21:33:29.049Z"
   },
   {
    "duration": 20,
    "start_time": "2023-11-17T21:33:29.065Z"
   },
   {
    "duration": 211,
    "start_time": "2023-11-17T21:33:29.086Z"
   },
   {
    "duration": 4,
    "start_time": "2023-11-17T21:33:29.298Z"
   },
   {
    "duration": 8,
    "start_time": "2023-11-17T21:33:29.303Z"
   },
   {
    "duration": 5,
    "start_time": "2023-11-17T21:33:29.314Z"
   },
   {
    "duration": 11,
    "start_time": "2023-11-17T21:33:29.320Z"
   },
   {
    "duration": 21,
    "start_time": "2023-11-17T21:33:29.333Z"
   },
   {
    "duration": 241,
    "start_time": "2023-11-17T21:33:29.355Z"
   },
   {
    "duration": 29,
    "start_time": "2023-11-17T21:33:29.598Z"
   },
   {
    "duration": 3,
    "start_time": "2023-11-17T21:33:29.629Z"
   },
   {
    "duration": 6,
    "start_time": "2023-11-17T21:33:29.634Z"
   },
   {
    "duration": 15,
    "start_time": "2023-11-17T21:33:29.641Z"
   },
   {
    "duration": 4,
    "start_time": "2023-11-17T21:33:29.658Z"
   },
   {
    "duration": 15,
    "start_time": "2023-11-17T21:33:29.663Z"
   },
   {
    "duration": 8,
    "start_time": "2023-11-17T21:33:29.680Z"
   },
   {
    "duration": 3,
    "start_time": "2023-11-17T21:33:29.691Z"
   },
   {
    "duration": 3,
    "start_time": "2023-11-17T21:33:29.714Z"
   },
   {
    "duration": 17,
    "start_time": "2023-11-17T21:33:29.718Z"
   },
   {
    "duration": 6,
    "start_time": "2023-11-17T21:33:29.736Z"
   },
   {
    "duration": 17,
    "start_time": "2023-11-17T21:33:29.743Z"
   },
   {
    "duration": 467,
    "start_time": "2023-11-17T21:33:29.762Z"
   },
   {
    "duration": 504,
    "start_time": "2023-11-17T21:33:30.231Z"
   },
   {
    "duration": 444,
    "start_time": "2023-11-17T21:33:30.737Z"
   },
   {
    "duration": 655,
    "start_time": "2023-11-17T21:33:31.183Z"
   },
   {
    "duration": 66,
    "start_time": "2023-11-17T21:33:31.840Z"
   },
   {
    "duration": 1060,
    "start_time": "2023-11-17T21:33:31.914Z"
   },
   {
    "duration": 52,
    "start_time": "2023-11-17T21:33:32.975Z"
   },
   {
    "duration": 61,
    "start_time": "2023-11-17T21:33:33.029Z"
   },
   {
    "duration": 879,
    "start_time": "2023-11-17T21:33:33.092Z"
   },
   {
    "duration": 9,
    "start_time": "2023-11-17T21:33:33.972Z"
   },
   {
    "duration": 3,
    "start_time": "2023-11-17T21:33:33.983Z"
   },
   {
    "duration": 27,
    "start_time": "2023-11-17T21:33:33.987Z"
   },
   {
    "duration": 9,
    "start_time": "2023-11-17T21:33:34.016Z"
   },
   {
    "duration": 24,
    "start_time": "2023-11-17T21:33:34.026Z"
   },
   {
    "duration": 4,
    "start_time": "2023-11-17T21:33:34.052Z"
   },
   {
    "duration": 6,
    "start_time": "2023-11-17T21:33:34.057Z"
   },
   {
    "duration": 6,
    "start_time": "2023-11-17T21:33:34.064Z"
   },
   {
    "duration": 6,
    "start_time": "2023-11-17T21:33:34.071Z"
   },
   {
    "duration": 201958,
    "start_time": "2023-11-17T21:33:34.078Z"
   },
   {
    "duration": 203588,
    "start_time": "2023-11-17T21:36:56.037Z"
   },
   {
    "duration": 19,
    "start_time": "2023-11-17T21:40:19.627Z"
   },
   {
    "duration": 20,
    "start_time": "2023-11-17T21:40:19.647Z"
   },
   {
    "duration": 2414,
    "start_time": "2023-11-17T21:40:19.669Z"
   },
   {
    "duration": 8688,
    "start_time": "2023-11-17T21:40:22.085Z"
   },
   {
    "duration": 3,
    "start_time": "2023-11-17T21:40:30.775Z"
   },
   {
    "duration": 5,
    "start_time": "2023-11-17T22:57:19.168Z"
   },
   {
    "duration": 691,
    "start_time": "2023-11-17T22:57:19.254Z"
   },
   {
    "duration": 4,
    "start_time": "2023-11-17T22:57:19.947Z"
   },
   {
    "duration": 7,
    "start_time": "2023-11-17T22:57:19.952Z"
   },
   {
    "duration": 4,
    "start_time": "2023-11-17T22:57:19.961Z"
   },
   {
    "duration": 60,
    "start_time": "2023-11-17T22:57:19.967Z"
   },
   {
    "duration": 17,
    "start_time": "2023-11-17T22:57:20.029Z"
   },
   {
    "duration": 33,
    "start_time": "2023-11-17T22:57:20.048Z"
   },
   {
    "duration": 34,
    "start_time": "2023-11-17T22:57:20.082Z"
   },
   {
    "duration": 10,
    "start_time": "2023-11-17T22:57:20.117Z"
   },
   {
    "duration": 6,
    "start_time": "2023-11-17T22:57:20.128Z"
   },
   {
    "duration": 9,
    "start_time": "2023-11-17T22:57:20.135Z"
   },
   {
    "duration": 5,
    "start_time": "2023-11-17T22:57:20.146Z"
   },
   {
    "duration": 190,
    "start_time": "2023-11-17T22:57:20.153Z"
   },
   {
    "duration": 4,
    "start_time": "2023-11-17T22:57:20.346Z"
   },
   {
    "duration": 12,
    "start_time": "2023-11-17T22:57:20.351Z"
   },
   {
    "duration": 3,
    "start_time": "2023-11-17T22:57:20.364Z"
   },
   {
    "duration": 8,
    "start_time": "2023-11-17T22:57:20.368Z"
   },
   {
    "duration": 15,
    "start_time": "2023-11-17T22:57:20.377Z"
   },
   {
    "duration": 216,
    "start_time": "2023-11-17T22:57:20.414Z"
   },
   {
    "duration": 12,
    "start_time": "2023-11-17T22:57:20.632Z"
   },
   {
    "duration": 7,
    "start_time": "2023-11-17T22:57:20.646Z"
   },
   {
    "duration": 6,
    "start_time": "2023-11-17T22:57:20.654Z"
   },
   {
    "duration": 8,
    "start_time": "2023-11-17T22:57:20.661Z"
   },
   {
    "duration": 5,
    "start_time": "2023-11-17T22:57:20.670Z"
   },
   {
    "duration": 12,
    "start_time": "2023-11-17T22:57:20.676Z"
   },
   {
    "duration": 30,
    "start_time": "2023-11-17T22:57:20.689Z"
   },
   {
    "duration": 3,
    "start_time": "2023-11-17T22:57:20.720Z"
   },
   {
    "duration": 24,
    "start_time": "2023-11-17T22:57:20.724Z"
   },
   {
    "duration": 20,
    "start_time": "2023-11-17T22:57:20.750Z"
   },
   {
    "duration": 6,
    "start_time": "2023-11-17T22:57:20.772Z"
   },
   {
    "duration": 24,
    "start_time": "2023-11-17T22:57:20.780Z"
   },
   {
    "duration": 440,
    "start_time": "2023-11-17T22:57:20.805Z"
   },
   {
    "duration": 536,
    "start_time": "2023-11-17T22:57:21.247Z"
   },
   {
    "duration": 456,
    "start_time": "2023-11-17T22:57:21.784Z"
   },
   {
    "duration": 590,
    "start_time": "2023-11-17T22:57:22.242Z"
   },
   {
    "duration": 67,
    "start_time": "2023-11-17T22:57:22.833Z"
   },
   {
    "duration": 1091,
    "start_time": "2023-11-17T22:57:22.902Z"
   },
   {
    "duration": 44,
    "start_time": "2023-11-17T22:57:23.994Z"
   },
   {
    "duration": 62,
    "start_time": "2023-11-17T22:57:24.039Z"
   },
   {
    "duration": 1235,
    "start_time": "2023-11-17T22:57:24.102Z"
   },
   {
    "duration": 7,
    "start_time": "2023-11-17T22:57:25.340Z"
   },
   {
    "duration": 3,
    "start_time": "2023-11-17T22:57:25.349Z"
   },
   {
    "duration": 65,
    "start_time": "2023-11-17T22:57:25.353Z"
   },
   {
    "duration": 5,
    "start_time": "2023-11-17T22:57:25.420Z"
   },
   {
    "duration": 2,
    "start_time": "2023-11-17T22:57:25.427Z"
   },
   {
    "duration": 4,
    "start_time": "2023-11-17T22:57:25.431Z"
   },
   {
    "duration": 4,
    "start_time": "2023-11-17T22:57:25.436Z"
   },
   {
    "duration": 3,
    "start_time": "2023-11-17T22:57:25.441Z"
   },
   {
    "duration": 7,
    "start_time": "2023-11-17T22:57:25.445Z"
   },
   {
    "duration": 202861,
    "start_time": "2023-11-17T22:57:25.453Z"
   },
   {
    "duration": 205284,
    "start_time": "2023-11-17T23:00:48.316Z"
   },
   {
    "duration": 28,
    "start_time": "2023-11-17T23:04:13.601Z"
   },
   {
    "duration": 19,
    "start_time": "2023-11-17T23:04:13.630Z"
   },
   {
    "duration": 2455,
    "start_time": "2023-11-17T23:04:13.650Z"
   },
   {
    "duration": 8633,
    "start_time": "2023-11-17T23:04:16.107Z"
   },
   {
    "duration": 4,
    "start_time": "2023-11-17T23:04:24.742Z"
   },
   {
    "duration": 190,
    "start_time": "2023-11-17T23:04:24.749Z"
   },
   {
    "duration": 4,
    "start_time": "2023-11-17T23:04:24.940Z"
   },
   {
    "duration": 1598,
    "start_time": "2023-11-18T17:29:01.280Z"
   },
   {
    "duration": 2968,
    "start_time": "2023-11-18T17:29:52.086Z"
   },
   {
    "duration": 5,
    "start_time": "2023-11-18T17:29:55.056Z"
   },
   {
    "duration": 22,
    "start_time": "2023-11-18T17:29:55.062Z"
   },
   {
    "duration": 12,
    "start_time": "2023-11-18T17:29:55.086Z"
   },
   {
    "duration": 81,
    "start_time": "2023-11-18T17:29:55.099Z"
   },
   {
    "duration": 14,
    "start_time": "2023-11-18T17:29:55.182Z"
   },
   {
    "duration": 27,
    "start_time": "2023-11-18T17:29:55.906Z"
   },
   {
    "duration": 18,
    "start_time": "2023-11-18T17:29:56.496Z"
   },
   {
    "duration": 3,
    "start_time": "2023-11-18T17:29:59.411Z"
   },
   {
    "duration": 191,
    "start_time": "2023-11-18T17:30:01.220Z"
   },
   {
    "duration": 4,
    "start_time": "2023-11-18T17:30:01.462Z"
   },
   {
    "duration": 5,
    "start_time": "2023-11-18T17:30:04.051Z"
   },
   {
    "duration": 3,
    "start_time": "2023-11-18T17:30:35.971Z"
   },
   {
    "duration": 90,
    "start_time": "2023-11-19T13:47:32.251Z"
   },
   {
    "duration": 4,
    "start_time": "2023-11-19T13:47:45.423Z"
   },
   {
    "duration": 5,
    "start_time": "2023-11-19T13:47:52.186Z"
   },
   {
    "duration": 6,
    "start_time": "2023-11-19T13:52:14.746Z"
   },
   {
    "duration": 47,
    "start_time": "2023-11-19T13:52:19.817Z"
   },
   {
    "duration": 1643,
    "start_time": "2023-11-19T13:52:51.012Z"
   },
   {
    "duration": 2926,
    "start_time": "2023-11-19T13:52:52.657Z"
   },
   {
    "duration": 5,
    "start_time": "2023-11-19T13:52:55.584Z"
   },
   {
    "duration": 10,
    "start_time": "2023-11-19T13:52:55.591Z"
   },
   {
    "duration": 13,
    "start_time": "2023-11-19T13:52:55.602Z"
   },
   {
    "duration": 50,
    "start_time": "2023-11-19T13:52:55.616Z"
   },
   {
    "duration": 16,
    "start_time": "2023-11-19T13:52:55.667Z"
   },
   {
    "duration": 23,
    "start_time": "2023-11-19T13:52:55.684Z"
   },
   {
    "duration": 38,
    "start_time": "2023-11-19T13:52:55.709Z"
   },
   {
    "duration": 27,
    "start_time": "2023-11-19T13:52:55.749Z"
   },
   {
    "duration": 209,
    "start_time": "2023-11-19T13:52:55.777Z"
   },
   {
    "duration": 3,
    "start_time": "2023-11-19T13:52:55.988Z"
   },
   {
    "duration": 28,
    "start_time": "2023-11-19T13:52:55.993Z"
   },
   {
    "duration": 28,
    "start_time": "2023-11-19T13:52:56.022Z"
   },
   {
    "duration": 26,
    "start_time": "2023-11-19T13:52:56.051Z"
   },
   {
    "duration": 44,
    "start_time": "2023-11-19T13:52:56.078Z"
   },
   {
    "duration": 25,
    "start_time": "2023-11-19T13:52:56.124Z"
   },
   {
    "duration": 251,
    "start_time": "2023-11-19T13:52:56.150Z"
   },
   {
    "duration": 16,
    "start_time": "2023-11-19T13:52:56.402Z"
   },
   {
    "duration": 5,
    "start_time": "2023-11-19T13:52:56.419Z"
   },
   {
    "duration": 18,
    "start_time": "2023-11-19T13:52:56.425Z"
   },
   {
    "duration": 10,
    "start_time": "2023-11-19T13:52:56.444Z"
   },
   {
    "duration": 3,
    "start_time": "2023-11-19T13:52:56.455Z"
   },
   {
    "duration": 12,
    "start_time": "2023-11-19T13:52:56.460Z"
   },
   {
    "duration": 8,
    "start_time": "2023-11-19T13:52:56.474Z"
   },
   {
    "duration": 3,
    "start_time": "2023-11-19T13:52:56.484Z"
   },
   {
    "duration": 5,
    "start_time": "2023-11-19T13:52:56.489Z"
   },
   {
    "duration": 47,
    "start_time": "2023-11-19T13:52:56.498Z"
   },
   {
    "duration": 6,
    "start_time": "2023-11-19T13:52:56.547Z"
   },
   {
    "duration": 12,
    "start_time": "2023-11-19T13:52:56.555Z"
   },
   {
    "duration": 462,
    "start_time": "2023-11-19T13:52:56.569Z"
   },
   {
    "duration": 501,
    "start_time": "2023-11-19T13:52:57.033Z"
   },
   {
    "duration": 441,
    "start_time": "2023-11-19T13:52:57.536Z"
   },
   {
    "duration": 601,
    "start_time": "2023-11-19T13:52:57.978Z"
   },
   {
    "duration": 71,
    "start_time": "2023-11-19T13:52:58.580Z"
   },
   {
    "duration": 1103,
    "start_time": "2023-11-19T13:52:58.653Z"
   },
   {
    "duration": 53,
    "start_time": "2023-11-19T13:52:59.759Z"
   },
   {
    "duration": 74,
    "start_time": "2023-11-19T13:52:59.814Z"
   },
   {
    "duration": 901,
    "start_time": "2023-11-19T13:52:59.890Z"
   },
   {
    "duration": 9,
    "start_time": "2023-11-19T13:53:00.792Z"
   },
   {
    "duration": 16,
    "start_time": "2023-11-19T13:53:00.802Z"
   },
   {
    "duration": 21,
    "start_time": "2023-11-19T13:53:00.819Z"
   },
   {
    "duration": 21,
    "start_time": "2023-11-19T13:53:00.842Z"
   },
   {
    "duration": 17,
    "start_time": "2023-11-19T13:53:00.865Z"
   },
   {
    "duration": 17,
    "start_time": "2023-11-19T13:53:00.884Z"
   },
   {
    "duration": 24,
    "start_time": "2023-11-19T13:53:00.903Z"
   },
   {
    "duration": 11,
    "start_time": "2023-11-19T13:53:00.928Z"
   },
   {
    "duration": 30,
    "start_time": "2023-11-19T13:53:00.940Z"
   },
   {
    "duration": 1432,
    "start_time": "2023-11-19T13:59:33.352Z"
   },
   {
    "duration": 797,
    "start_time": "2023-11-19T13:59:34.786Z"
   },
   {
    "duration": 5,
    "start_time": "2023-11-19T13:59:35.585Z"
   },
   {
    "duration": 7,
    "start_time": "2023-11-19T13:59:35.592Z"
   },
   {
    "duration": 4,
    "start_time": "2023-11-19T13:59:35.601Z"
   },
   {
    "duration": 56,
    "start_time": "2023-11-19T13:59:35.606Z"
   },
   {
    "duration": 15,
    "start_time": "2023-11-19T13:59:35.664Z"
   },
   {
    "duration": 22,
    "start_time": "2023-11-19T13:59:35.681Z"
   },
   {
    "duration": 17,
    "start_time": "2023-11-19T13:59:35.704Z"
   },
   {
    "duration": 13,
    "start_time": "2023-11-19T13:59:35.723Z"
   },
   {
    "duration": 316,
    "start_time": "2023-11-19T13:59:35.738Z"
   },
   {
    "duration": 4,
    "start_time": "2023-11-19T13:59:36.055Z"
   },
   {
    "duration": 17,
    "start_time": "2023-11-19T13:59:36.060Z"
   },
   {
    "duration": 10,
    "start_time": "2023-11-19T13:59:36.080Z"
   },
   {
    "duration": 7,
    "start_time": "2023-11-19T13:59:36.091Z"
   },
   {
    "duration": 47,
    "start_time": "2023-11-19T13:59:36.100Z"
   },
   {
    "duration": 24,
    "start_time": "2023-11-19T13:59:36.149Z"
   },
   {
    "duration": 277,
    "start_time": "2023-11-19T13:59:36.175Z"
   },
   {
    "duration": 16,
    "start_time": "2023-11-19T13:59:36.454Z"
   },
   {
    "duration": 3,
    "start_time": "2023-11-19T13:59:36.471Z"
   },
   {
    "duration": 8,
    "start_time": "2023-11-19T13:59:36.476Z"
   },
   {
    "duration": 19,
    "start_time": "2023-11-19T13:59:36.485Z"
   },
   {
    "duration": 23,
    "start_time": "2023-11-19T13:59:36.505Z"
   },
   {
    "duration": 22,
    "start_time": "2023-11-19T13:59:36.529Z"
   },
   {
    "duration": 41,
    "start_time": "2023-11-19T13:59:36.552Z"
   },
   {
    "duration": 20,
    "start_time": "2023-11-19T13:59:36.595Z"
   },
   {
    "duration": 15,
    "start_time": "2023-11-19T13:59:36.616Z"
   },
   {
    "duration": 31,
    "start_time": "2023-11-19T13:59:36.632Z"
   },
   {
    "duration": 6,
    "start_time": "2023-11-19T13:59:36.665Z"
   },
   {
    "duration": 27,
    "start_time": "2023-11-19T13:59:36.672Z"
   },
   {
    "duration": 485,
    "start_time": "2023-11-19T13:59:36.700Z"
   },
   {
    "duration": 545,
    "start_time": "2023-11-19T13:59:37.187Z"
   },
   {
    "duration": 451,
    "start_time": "2023-11-19T13:59:37.736Z"
   },
   {
    "duration": 622,
    "start_time": "2023-11-19T13:59:38.189Z"
   },
   {
    "duration": 74,
    "start_time": "2023-11-19T13:59:38.813Z"
   },
   {
    "duration": 1181,
    "start_time": "2023-11-19T13:59:38.888Z"
   },
   {
    "duration": 47,
    "start_time": "2023-11-19T13:59:40.071Z"
   },
   {
    "duration": 74,
    "start_time": "2023-11-19T13:59:40.119Z"
   },
   {
    "duration": 892,
    "start_time": "2023-11-19T13:59:40.195Z"
   },
   {
    "duration": 9,
    "start_time": "2023-11-19T13:59:41.088Z"
   },
   {
    "duration": 4,
    "start_time": "2023-11-19T13:59:41.101Z"
   },
   {
    "duration": 21,
    "start_time": "2023-11-19T13:59:41.107Z"
   },
   {
    "duration": 18,
    "start_time": "2023-11-19T13:59:41.129Z"
   },
   {
    "duration": 6,
    "start_time": "2023-11-19T13:59:41.149Z"
   },
   {
    "duration": 5,
    "start_time": "2023-11-19T13:59:41.157Z"
   },
   {
    "duration": 5,
    "start_time": "2023-11-19T13:59:41.164Z"
   },
   {
    "duration": 3,
    "start_time": "2023-11-19T13:59:41.171Z"
   },
   {
    "duration": 7,
    "start_time": "2023-11-19T13:59:41.175Z"
   },
   {
    "duration": 1040988,
    "start_time": "2023-11-19T13:59:41.183Z"
   },
   {
    "duration": 1054755,
    "start_time": "2023-11-19T14:17:02.173Z"
   },
   {
    "duration": 25,
    "start_time": "2023-11-19T14:34:36.929Z"
   },
   {
    "duration": 18,
    "start_time": "2023-11-19T14:34:36.956Z"
   },
   {
    "duration": 8722,
    "start_time": "2023-11-19T14:34:39.402Z"
   },
   {
    "duration": 4,
    "start_time": "2023-11-19T14:34:48.125Z"
   },
   {
    "duration": 2444,
    "start_time": "2023-11-19T14:34:48.141Z"
   },
   {
    "duration": 983,
    "start_time": "2023-11-19T14:34:51.509Z"
   },
   {
    "duration": 73,
    "start_time": "2023-11-19T14:34:52.493Z"
   },
   {
    "duration": 105,
    "start_time": "2023-11-19T14:35:30.898Z"
   },
   {
    "duration": 14,
    "start_time": "2023-11-19T14:35:54.874Z"
   },
   {
    "duration": 23528,
    "start_time": "2023-11-19T14:37:55.342Z"
   },
   {
    "duration": 8863,
    "start_time": "2023-11-19T14:38:25.239Z"
   },
   {
    "duration": 3,
    "start_time": "2023-11-19T14:38:42.478Z"
   },
   {
    "duration": 133,
    "start_time": "2023-11-19T14:51:38.373Z"
   },
   {
    "duration": 13,
    "start_time": "2023-11-19T14:52:17.165Z"
   },
   {
    "duration": 13,
    "start_time": "2023-11-19T14:52:30.978Z"
   },
   {
    "duration": 14,
    "start_time": "2023-11-19T14:52:49.746Z"
   },
   {
    "duration": 17,
    "start_time": "2023-11-19T14:53:25.612Z"
   },
   {
    "duration": 527,
    "start_time": "2023-11-19T14:55:55.018Z"
   },
   {
    "duration": 636,
    "start_time": "2023-11-19T14:57:16.715Z"
   },
   {
    "duration": 574,
    "start_time": "2023-11-19T14:58:34.875Z"
   },
   {
    "duration": 509,
    "start_time": "2023-11-19T14:59:46.577Z"
   },
   {
    "duration": 683,
    "start_time": "2023-11-19T15:00:11.505Z"
   },
   {
    "duration": 553,
    "start_time": "2023-11-19T15:00:21.786Z"
   },
   {
    "duration": 657,
    "start_time": "2023-11-19T15:00:40.339Z"
   },
   {
    "duration": 518,
    "start_time": "2023-11-19T15:02:29.786Z"
   },
   {
    "duration": 415,
    "start_time": "2023-11-19T15:02:53.091Z"
   },
   {
    "duration": 496,
    "start_time": "2023-11-19T15:03:04.907Z"
   },
   {
    "duration": 681,
    "start_time": "2023-11-19T15:03:14.617Z"
   },
   {
    "duration": 4,
    "start_time": "2023-11-19T15:13:29.198Z"
   },
   {
    "duration": 723,
    "start_time": "2023-11-19T15:13:29.206Z"
   },
   {
    "duration": 4,
    "start_time": "2023-11-19T15:13:29.931Z"
   },
   {
    "duration": 4,
    "start_time": "2023-11-19T15:13:29.942Z"
   },
   {
    "duration": 4,
    "start_time": "2023-11-19T15:13:29.947Z"
   },
   {
    "duration": 50,
    "start_time": "2023-11-19T15:13:29.952Z"
   },
   {
    "duration": 42,
    "start_time": "2023-11-19T15:13:30.003Z"
   },
   {
    "duration": 46,
    "start_time": "2023-11-19T15:13:30.046Z"
   },
   {
    "duration": 37,
    "start_time": "2023-11-19T15:13:30.093Z"
   },
   {
    "duration": 20,
    "start_time": "2023-11-19T15:13:30.131Z"
   },
   {
    "duration": 202,
    "start_time": "2023-11-19T15:13:30.154Z"
   },
   {
    "duration": 3,
    "start_time": "2023-11-19T15:13:30.358Z"
   },
   {
    "duration": 21,
    "start_time": "2023-11-19T15:13:30.362Z"
   },
   {
    "duration": 12,
    "start_time": "2023-11-19T15:13:30.384Z"
   },
   {
    "duration": 17,
    "start_time": "2023-11-19T15:13:30.398Z"
   },
   {
    "duration": 20,
    "start_time": "2023-11-19T15:13:30.416Z"
   },
   {
    "duration": 50,
    "start_time": "2023-11-19T15:13:30.437Z"
   },
   {
    "duration": 211,
    "start_time": "2023-11-19T15:13:30.489Z"
   },
   {
    "duration": 12,
    "start_time": "2023-11-19T15:13:30.702Z"
   },
   {
    "duration": 26,
    "start_time": "2023-11-19T15:13:30.716Z"
   },
   {
    "duration": 35,
    "start_time": "2023-11-19T15:13:30.743Z"
   },
   {
    "duration": 28,
    "start_time": "2023-11-19T15:13:30.780Z"
   },
   {
    "duration": 45,
    "start_time": "2023-11-19T15:13:30.809Z"
   },
   {
    "duration": 39,
    "start_time": "2023-11-19T15:13:30.855Z"
   },
   {
    "duration": 23,
    "start_time": "2023-11-19T15:13:30.895Z"
   },
   {
    "duration": 35,
    "start_time": "2023-11-19T15:13:30.920Z"
   },
   {
    "duration": 25,
    "start_time": "2023-11-19T15:13:30.956Z"
   },
   {
    "duration": 37,
    "start_time": "2023-11-19T15:13:30.983Z"
   },
   {
    "duration": 9,
    "start_time": "2023-11-19T15:13:31.024Z"
   },
   {
    "duration": 45,
    "start_time": "2023-11-19T15:13:31.034Z"
   },
   {
    "duration": 598,
    "start_time": "2023-11-19T15:13:31.080Z"
   },
   {
    "duration": 653,
    "start_time": "2023-11-19T15:13:31.679Z"
   },
   {
    "duration": 547,
    "start_time": "2023-11-19T15:13:32.334Z"
   },
   {
    "duration": 579,
    "start_time": "2023-11-19T15:13:32.883Z"
   },
   {
    "duration": 69,
    "start_time": "2023-11-19T15:13:33.464Z"
   },
   {
    "duration": 1097,
    "start_time": "2023-11-19T15:13:33.534Z"
   },
   {
    "duration": 48,
    "start_time": "2023-11-19T15:13:34.633Z"
   },
   {
    "duration": 68,
    "start_time": "2023-11-19T15:13:34.683Z"
   },
   {
    "duration": 878,
    "start_time": "2023-11-19T15:13:34.753Z"
   },
   {
    "duration": 13,
    "start_time": "2023-11-19T15:13:35.632Z"
   },
   {
    "duration": 3,
    "start_time": "2023-11-19T15:13:35.646Z"
   },
   {
    "duration": 13,
    "start_time": "2023-11-19T15:13:35.650Z"
   },
   {
    "duration": 6,
    "start_time": "2023-11-19T15:13:35.664Z"
   },
   {
    "duration": 6,
    "start_time": "2023-11-19T15:13:35.671Z"
   },
   {
    "duration": 8,
    "start_time": "2023-11-19T15:13:35.678Z"
   },
   {
    "duration": 4,
    "start_time": "2023-11-19T15:13:35.687Z"
   },
   {
    "duration": 3,
    "start_time": "2023-11-19T15:13:35.693Z"
   },
   {
    "duration": 8,
    "start_time": "2023-11-19T15:13:35.698Z"
   },
   {
    "duration": 1055979,
    "start_time": "2023-11-19T15:13:35.708Z"
   },
   {
    "duration": 1326,
    "start_time": "2023-11-19T15:44:36.089Z"
   },
   {
    "duration": 738,
    "start_time": "2023-11-19T15:44:37.416Z"
   },
   {
    "duration": 5,
    "start_time": "2023-11-19T15:44:38.155Z"
   },
   {
    "duration": 19,
    "start_time": "2023-11-19T15:44:38.162Z"
   },
   {
    "duration": 22,
    "start_time": "2023-11-19T15:44:38.183Z"
   },
   {
    "duration": 47,
    "start_time": "2023-11-19T15:44:38.206Z"
   },
   {
    "duration": 16,
    "start_time": "2023-11-19T15:44:38.254Z"
   },
   {
    "duration": 21,
    "start_time": "2023-11-19T15:44:38.271Z"
   },
   {
    "duration": 15,
    "start_time": "2023-11-19T15:44:38.293Z"
   },
   {
    "duration": 21,
    "start_time": "2023-11-19T15:44:38.310Z"
   },
   {
    "duration": 219,
    "start_time": "2023-11-19T15:44:38.333Z"
   },
   {
    "duration": 3,
    "start_time": "2023-11-19T15:44:38.554Z"
   },
   {
    "duration": 10,
    "start_time": "2023-11-19T15:44:38.558Z"
   },
   {
    "duration": 3,
    "start_time": "2023-11-19T15:44:38.571Z"
   },
   {
    "duration": 4,
    "start_time": "2023-11-19T15:44:38.575Z"
   },
   {
    "duration": 9,
    "start_time": "2023-11-19T15:44:38.580Z"
   },
   {
    "duration": 14,
    "start_time": "2023-11-19T15:44:38.591Z"
   },
   {
    "duration": 261,
    "start_time": "2023-11-19T15:44:38.607Z"
   },
   {
    "duration": 16,
    "start_time": "2023-11-19T15:44:38.869Z"
   },
   {
    "duration": 2,
    "start_time": "2023-11-19T15:44:38.887Z"
   },
   {
    "duration": 5,
    "start_time": "2023-11-19T15:44:38.891Z"
   },
   {
    "duration": 7,
    "start_time": "2023-11-19T15:44:38.898Z"
   },
   {
    "duration": 3,
    "start_time": "2023-11-19T15:44:38.907Z"
   },
   {
    "duration": 12,
    "start_time": "2023-11-19T15:44:38.942Z"
   },
   {
    "duration": 10,
    "start_time": "2023-11-19T15:44:38.956Z"
   },
   {
    "duration": 3,
    "start_time": "2023-11-19T15:44:38.967Z"
   },
   {
    "duration": 5,
    "start_time": "2023-11-19T15:44:38.971Z"
   },
   {
    "duration": 14,
    "start_time": "2023-11-19T15:44:38.977Z"
   },
   {
    "duration": 6,
    "start_time": "2023-11-19T15:44:38.993Z"
   },
   {
    "duration": 42,
    "start_time": "2023-11-19T15:44:39.000Z"
   },
   {
    "duration": 603,
    "start_time": "2023-11-19T15:44:39.044Z"
   },
   {
    "duration": 620,
    "start_time": "2023-11-19T15:44:39.649Z"
   },
   {
    "duration": 559,
    "start_time": "2023-11-19T15:44:40.271Z"
   },
   {
    "duration": 637,
    "start_time": "2023-11-19T15:44:40.831Z"
   },
   {
    "duration": 65,
    "start_time": "2023-11-19T15:44:41.469Z"
   },
   {
    "duration": 1058,
    "start_time": "2023-11-19T15:44:41.542Z"
   },
   {
    "duration": 53,
    "start_time": "2023-11-19T15:44:42.601Z"
   },
   {
    "duration": 65,
    "start_time": "2023-11-19T15:44:42.656Z"
   },
   {
    "duration": 1049,
    "start_time": "2023-11-19T15:44:42.723Z"
   },
   {
    "duration": 9,
    "start_time": "2023-11-19T15:44:43.774Z"
   },
   {
    "duration": 7,
    "start_time": "2023-11-19T15:44:43.786Z"
   },
   {
    "duration": 12,
    "start_time": "2023-11-19T15:44:43.794Z"
   },
   {
    "duration": 6,
    "start_time": "2023-11-19T15:44:43.807Z"
   },
   {
    "duration": 34,
    "start_time": "2023-11-19T15:44:43.814Z"
   },
   {
    "duration": 17,
    "start_time": "2023-11-19T15:44:43.850Z"
   },
   {
    "duration": 5,
    "start_time": "2023-11-19T15:44:43.868Z"
   },
   {
    "duration": 6,
    "start_time": "2023-11-19T15:44:43.874Z"
   },
   {
    "duration": 6,
    "start_time": "2023-11-19T15:44:43.881Z"
   },
   {
    "duration": 1053886,
    "start_time": "2023-11-19T15:44:43.889Z"
   },
   {
    "duration": 1045517,
    "start_time": "2023-11-19T16:02:17.777Z"
   },
   {
    "duration": 18,
    "start_time": "2023-11-19T16:19:43.296Z"
   },
   {
    "duration": 27,
    "start_time": "2023-11-19T16:19:43.315Z"
   },
   {
    "duration": 22979,
    "start_time": "2023-11-19T16:19:43.343Z"
   },
   {
    "duration": 8637,
    "start_time": "2023-11-19T16:20:06.323Z"
   },
   {
    "duration": 3,
    "start_time": "2023-11-19T16:20:14.962Z"
   },
   {
    "duration": 93,
    "start_time": "2023-11-19T16:56:02.880Z"
   },
   {
    "duration": 1229,
    "start_time": "2023-11-20T20:40:47.707Z"
   },
   {
    "duration": 670,
    "start_time": "2023-11-20T20:40:48.938Z"
   },
   {
    "duration": 5,
    "start_time": "2023-11-20T20:40:49.610Z"
   },
   {
    "duration": 16,
    "start_time": "2023-11-20T20:40:49.617Z"
   },
   {
    "duration": 21,
    "start_time": "2023-11-20T20:40:49.635Z"
   },
   {
    "duration": 46,
    "start_time": "2023-11-20T20:40:49.658Z"
   },
   {
    "duration": 20,
    "start_time": "2023-11-20T20:40:49.706Z"
   },
   {
    "duration": 40,
    "start_time": "2023-11-20T20:40:49.727Z"
   },
   {
    "duration": 42,
    "start_time": "2023-11-20T20:40:49.768Z"
   },
   {
    "duration": 23,
    "start_time": "2023-11-20T20:40:49.812Z"
   },
   {
    "duration": 215,
    "start_time": "2023-11-20T20:40:49.837Z"
   },
   {
    "duration": 4,
    "start_time": "2023-11-20T20:40:50.054Z"
   },
   {
    "duration": 11,
    "start_time": "2023-11-20T20:40:50.066Z"
   },
   {
    "duration": 15,
    "start_time": "2023-11-20T20:40:50.079Z"
   },
   {
    "duration": 13,
    "start_time": "2023-11-20T20:40:50.096Z"
   },
   {
    "duration": 19,
    "start_time": "2023-11-20T20:40:50.111Z"
   },
   {
    "duration": 23,
    "start_time": "2023-11-20T20:40:50.131Z"
   },
   {
    "duration": 233,
    "start_time": "2023-11-20T20:40:50.156Z"
   },
   {
    "duration": 16,
    "start_time": "2023-11-20T20:40:50.391Z"
   },
   {
    "duration": 3,
    "start_time": "2023-11-20T20:40:50.408Z"
   },
   {
    "duration": 13,
    "start_time": "2023-11-20T20:40:50.413Z"
   },
   {
    "duration": 14,
    "start_time": "2023-11-20T20:40:50.427Z"
   },
   {
    "duration": 23,
    "start_time": "2023-11-20T20:40:50.443Z"
   },
   {
    "duration": 12,
    "start_time": "2023-11-20T20:40:50.467Z"
   },
   {
    "duration": 11,
    "start_time": "2023-11-20T20:40:50.481Z"
   },
   {
    "duration": 8,
    "start_time": "2023-11-20T20:40:50.493Z"
   },
   {
    "duration": 13,
    "start_time": "2023-11-20T20:40:50.503Z"
   },
   {
    "duration": 16,
    "start_time": "2023-11-20T20:40:50.520Z"
   },
   {
    "duration": 29,
    "start_time": "2023-11-20T20:40:50.538Z"
   },
   {
    "duration": 31,
    "start_time": "2023-11-20T20:40:50.568Z"
   },
   {
    "duration": 602,
    "start_time": "2023-11-20T20:40:50.600Z"
   },
   {
    "duration": 624,
    "start_time": "2023-11-20T20:40:51.203Z"
   },
   {
    "duration": 571,
    "start_time": "2023-11-20T20:40:51.828Z"
   },
   {
    "duration": 574,
    "start_time": "2023-11-20T20:40:52.400Z"
   },
   {
    "duration": 61,
    "start_time": "2023-11-20T20:40:52.976Z"
   },
   {
    "duration": 1109,
    "start_time": "2023-11-20T20:40:53.038Z"
   },
   {
    "duration": 53,
    "start_time": "2023-11-20T20:40:54.149Z"
   },
   {
    "duration": 67,
    "start_time": "2023-11-20T20:40:54.203Z"
   },
   {
    "duration": 1001,
    "start_time": "2023-11-20T20:40:54.272Z"
   },
   {
    "duration": 8,
    "start_time": "2023-11-20T20:40:55.275Z"
   },
   {
    "duration": 30,
    "start_time": "2023-11-20T20:40:55.285Z"
   },
   {
    "duration": 33,
    "start_time": "2023-11-20T20:40:55.316Z"
   },
   {
    "duration": 31,
    "start_time": "2023-11-20T20:40:55.351Z"
   },
   {
    "duration": 26,
    "start_time": "2023-11-20T20:40:55.383Z"
   },
   {
    "duration": 24,
    "start_time": "2023-11-20T20:40:55.411Z"
   },
   {
    "duration": 15,
    "start_time": "2023-11-20T20:40:55.437Z"
   },
   {
    "duration": 14,
    "start_time": "2023-11-20T20:40:55.454Z"
   },
   {
    "duration": 17,
    "start_time": "2023-11-20T20:40:55.471Z"
   },
   {
    "duration": 69212,
    "start_time": "2023-11-20T20:40:55.490Z"
   },
   {
    "duration": 0,
    "start_time": "2023-11-20T20:42:04.704Z"
   },
   {
    "duration": 0,
    "start_time": "2023-11-20T20:42:04.705Z"
   },
   {
    "duration": 0,
    "start_time": "2023-11-20T20:42:04.706Z"
   },
   {
    "duration": 0,
    "start_time": "2023-11-20T20:42:04.707Z"
   },
   {
    "duration": 0,
    "start_time": "2023-11-20T20:42:04.708Z"
   },
   {
    "duration": 0,
    "start_time": "2023-11-20T20:42:04.709Z"
   },
   {
    "duration": 9,
    "start_time": "2023-11-20T20:42:21.522Z"
   },
   {
    "duration": 1221,
    "start_time": "2023-11-20T20:42:34.145Z"
   },
   {
    "duration": 8,
    "start_time": "2023-11-20T20:43:19.659Z"
   },
   {
    "duration": 4,
    "start_time": "2023-11-20T20:43:28.137Z"
   },
   {
    "duration": 9,
    "start_time": "2023-11-20T20:43:35.819Z"
   },
   {
    "duration": 3,
    "start_time": "2023-11-20T20:43:43.824Z"
   },
   {
    "duration": 4,
    "start_time": "2023-11-20T20:44:02.147Z"
   },
   {
    "duration": 4,
    "start_time": "2023-11-20T20:44:03.777Z"
   },
   {
    "duration": 964,
    "start_time": "2023-11-20T20:44:39.209Z"
   },
   {
    "duration": 1000,
    "start_time": "2023-11-20T20:45:07.071Z"
   },
   {
    "duration": 10,
    "start_time": "2023-11-20T20:51:10.582Z"
   },
   {
    "duration": 14411,
    "start_time": "2023-11-20T20:51:23.101Z"
   },
   {
    "duration": 1276,
    "start_time": "2023-11-20T20:55:55.228Z"
   },
   {
    "duration": 647,
    "start_time": "2023-11-20T20:55:56.505Z"
   },
   {
    "duration": 5,
    "start_time": "2023-11-20T20:55:57.154Z"
   },
   {
    "duration": 3,
    "start_time": "2023-11-20T20:55:57.165Z"
   },
   {
    "duration": 5,
    "start_time": "2023-11-20T20:55:57.170Z"
   },
   {
    "duration": 44,
    "start_time": "2023-11-20T20:55:57.176Z"
   },
   {
    "duration": 46,
    "start_time": "2023-11-20T20:55:57.221Z"
   },
   {
    "duration": 20,
    "start_time": "2023-11-20T20:55:57.268Z"
   },
   {
    "duration": 17,
    "start_time": "2023-11-20T20:55:57.289Z"
   },
   {
    "duration": 4,
    "start_time": "2023-11-20T20:55:57.310Z"
   },
   {
    "duration": 216,
    "start_time": "2023-11-20T20:55:57.316Z"
   },
   {
    "duration": 4,
    "start_time": "2023-11-20T20:55:57.533Z"
   },
   {
    "duration": 7,
    "start_time": "2023-11-20T20:55:57.538Z"
   },
   {
    "duration": 4,
    "start_time": "2023-11-20T20:55:57.546Z"
   },
   {
    "duration": 3,
    "start_time": "2023-11-20T20:55:57.566Z"
   },
   {
    "duration": 7,
    "start_time": "2023-11-20T20:55:57.570Z"
   },
   {
    "duration": 14,
    "start_time": "2023-11-20T20:55:57.579Z"
   },
   {
    "duration": 240,
    "start_time": "2023-11-20T20:55:57.595Z"
   },
   {
    "duration": 15,
    "start_time": "2023-11-20T20:55:57.836Z"
   },
   {
    "duration": 2,
    "start_time": "2023-11-20T20:55:57.853Z"
   },
   {
    "duration": 5,
    "start_time": "2023-11-20T20:55:57.865Z"
   },
   {
    "duration": 10,
    "start_time": "2023-11-20T20:55:57.871Z"
   },
   {
    "duration": 4,
    "start_time": "2023-11-20T20:55:57.883Z"
   },
   {
    "duration": 18,
    "start_time": "2023-11-20T20:55:57.888Z"
   },
   {
    "duration": 7,
    "start_time": "2023-11-20T20:55:57.908Z"
   },
   {
    "duration": 6,
    "start_time": "2023-11-20T20:55:57.917Z"
   },
   {
    "duration": 8,
    "start_time": "2023-11-20T20:55:57.924Z"
   },
   {
    "duration": 37,
    "start_time": "2023-11-20T20:55:57.935Z"
   },
   {
    "duration": 6,
    "start_time": "2023-11-20T20:55:57.973Z"
   },
   {
    "duration": 16,
    "start_time": "2023-11-20T20:55:57.980Z"
   },
   {
    "duration": 592,
    "start_time": "2023-11-20T20:55:57.998Z"
   },
   {
    "duration": 600,
    "start_time": "2023-11-20T20:55:58.591Z"
   },
   {
    "duration": 556,
    "start_time": "2023-11-20T20:55:59.192Z"
   },
   {
    "duration": 615,
    "start_time": "2023-11-20T20:55:59.750Z"
   },
   {
    "duration": 61,
    "start_time": "2023-11-20T20:56:00.367Z"
   },
   {
    "duration": 1084,
    "start_time": "2023-11-20T20:56:00.430Z"
   },
   {
    "duration": 55,
    "start_time": "2023-11-20T20:56:01.515Z"
   },
   {
    "duration": 87,
    "start_time": "2023-11-20T20:56:01.572Z"
   },
   {
    "duration": 962,
    "start_time": "2023-11-20T20:56:01.661Z"
   },
   {
    "duration": 10,
    "start_time": "2023-11-20T20:56:02.625Z"
   },
   {
    "duration": 13,
    "start_time": "2023-11-20T20:56:02.640Z"
   },
   {
    "duration": 23,
    "start_time": "2023-11-20T20:56:02.654Z"
   },
   {
    "duration": 25,
    "start_time": "2023-11-20T20:56:02.679Z"
   },
   {
    "duration": 6,
    "start_time": "2023-11-20T20:56:02.706Z"
   },
   {
    "duration": 9,
    "start_time": "2023-11-20T20:56:02.713Z"
   },
   {
    "duration": 32,
    "start_time": "2023-11-20T20:56:02.724Z"
   },
   {
    "duration": 41,
    "start_time": "2023-11-20T20:56:02.758Z"
   },
   {
    "duration": 14666,
    "start_time": "2023-11-20T20:56:02.801Z"
   },
   {
    "duration": 6,
    "start_time": "2023-11-20T20:56:17.468Z"
   },
   {
    "duration": 0,
    "start_time": "2023-11-20T21:07:38.537Z"
   },
   {
    "duration": 0,
    "start_time": "2023-11-20T21:07:38.539Z"
   },
   {
    "duration": 0,
    "start_time": "2023-11-20T21:07:38.540Z"
   },
   {
    "duration": 0,
    "start_time": "2023-11-20T21:07:38.541Z"
   },
   {
    "duration": 0,
    "start_time": "2023-11-20T21:07:38.543Z"
   },
   {
    "duration": 0,
    "start_time": "2023-11-20T21:07:38.544Z"
   },
   {
    "duration": 0,
    "start_time": "2023-11-20T21:07:38.545Z"
   },
   {
    "duration": 0,
    "start_time": "2023-11-20T21:07:38.545Z"
   },
   {
    "duration": 0,
    "start_time": "2023-11-20T21:07:38.547Z"
   },
   {
    "duration": 7,
    "start_time": "2023-11-20T21:07:40.701Z"
   },
   {
    "duration": 197662,
    "start_time": "2023-11-20T21:07:41.691Z"
   },
   {
    "duration": 0,
    "start_time": "2023-11-20T21:10:59.355Z"
   },
   {
    "duration": 0,
    "start_time": "2023-11-20T21:10:59.356Z"
   },
   {
    "duration": 0,
    "start_time": "2023-11-20T21:10:59.357Z"
   },
   {
    "duration": 1,
    "start_time": "2023-11-20T21:10:59.365Z"
   },
   {
    "duration": 0,
    "start_time": "2023-11-20T21:10:59.367Z"
   },
   {
    "duration": 0,
    "start_time": "2023-11-20T21:10:59.368Z"
   },
   {
    "duration": 3,
    "start_time": "2023-11-20T21:11:23.423Z"
   },
   {
    "duration": 6,
    "start_time": "2023-11-20T21:11:35.214Z"
   },
   {
    "duration": 9,
    "start_time": "2023-11-20T21:12:13.653Z"
   },
   {
    "duration": 45572,
    "start_time": "2023-11-20T21:12:16.930Z"
   },
   {
    "duration": 6,
    "start_time": "2023-11-20T21:13:33.764Z"
   },
   {
    "duration": 739361,
    "start_time": "2023-11-20T21:13:38.934Z"
   },
   {
    "duration": 735071,
    "start_time": "2023-11-20T21:30:31.938Z"
   },
   {
    "duration": 21,
    "start_time": "2023-11-20T21:43:57.383Z"
   },
   {
    "duration": 20,
    "start_time": "2023-11-20T21:43:57.711Z"
   },
   {
    "duration": 32540,
    "start_time": "2023-11-20T21:43:59.745Z"
   },
   {
    "duration": 11696,
    "start_time": "2023-11-20T21:44:32.287Z"
   },
   {
    "duration": 3,
    "start_time": "2023-11-20T21:44:43.984Z"
   }
  ],
  "kernelspec": {
   "display_name": "Python 3 (ipykernel)",
   "language": "python",
   "name": "python3"
  },
  "language_info": {
   "codemirror_mode": {
    "name": "ipython",
    "version": 3
   },
   "file_extension": ".py",
   "mimetype": "text/x-python",
   "name": "python",
   "nbconvert_exporter": "python",
   "pygments_lexer": "ipython3",
   "version": "3.11.5"
  },
  "toc": {
   "base_numbering": 1,
   "nav_menu": {},
   "number_sections": true,
   "sideBar": true,
   "skip_h1_title": true,
   "title_cell": "Содержание",
   "title_sidebar": "Contents",
   "toc_cell": true,
   "toc_position": {
    "height": "calc(100% - 180px)",
    "left": "10px",
    "top": "150px",
    "width": "165px"
   },
   "toc_section_display": true,
   "toc_window_display": true
  }
 },
 "nbformat": 4,
 "nbformat_minor": 2
}

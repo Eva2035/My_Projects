{
 "cells": [
  {
   "cell_type": "markdown",
   "metadata": {},
   "source": [
    "# **Анализ закономерностей рынка видеоигр.**"
   ]
  },
  {
   "cell_type": "markdown",
   "metadata": {},
   "source": [
    "## Описание проекта"
   ]
  },
  {
   "cell_type": "markdown",
   "metadata": {},
   "source": [
    "Интернет- магазин «Стримчик», продаёт по всему миру компьютерные игры. Из открытых источников доступны исторические данные о продажах игр, оценки пользователей и экспертов, жанры и платформы (например, Xbox или PlayStation). Нужно выявить определяющие успешность игры закономерности. Это позволит сделать ставку на потенциально популярный продукт и спланировать рекламные кампании.\n",
    "\n",
    "Перед нами данные до 2016 года. Сейчас декабрь 2016 г., и мы планируем кампанию на 2017-й. Нужно отработать принцип работы с данными. Не важно, прогнозируете ли вы продажи на 2017 год по данным 2016-го или же 2027-й — по данным 2026 года.\n",
    "\n",
    "В наборе данных попадается аббревиатура ESRB (Entertainment Software Rating Board) — это ассоциация, определяющая возрастной рейтинг компьютерных игр. ESRB оценивает игровой контент и присваивает ему подходящую возрастную категорию, например, «Для взрослых», «Для детей младшего возраста» или «Для подростков».\n",
    "\n",
    "Описание данных\n",
    "- **Name** — название игры\n",
    "- **Platform** — платформа\n",
    "- **Year_of_Release** — год выпуска\n",
    "- **Genre** — жанр игры\n",
    "- **NA_sales** — продажи в Северной Америке (миллионы долларов)\n",
    "- **EU_sales** — продажи в Европе (миллионы долларов)\n",
    "- **JP_sales** — продажи в Японии (миллионы долларов)\n",
    "- **Other_sales** — продажи в других странах (миллионы долларов)\n",
    "- **Critic_Score** — оценка критиков (максимум 100)\n",
    "- **User_Score** — оценка пользователей (максимум 10)\n",
    "- **Rating** — рейтинг от организации ESRB (англ. Entertainment Software Rating Board). Эта ассоциация определяет рейтинг компьютерных игр и присваивает им подходящую возрастную категорию.\n",
    "\n",
    "\n",
    "Данные за 2016 год могут быть неполными.\n"
   ]
  },
  {
   "cell_type": "markdown",
   "metadata": {},
   "source": [
    "# План работы"
   ]
  },
  {
   "cell_type": "markdown",
   "metadata": {},
   "source": [
    "**План работы**\n",
    "\n",
    "**Шаг 1.** Откроем файл с данными и изучим общую информацию\n",
    "\n",
    "\n",
    "**Шаг 2.** Подготовим данные\n",
    " - Заменим названия столбцов (приведем к нижнему регистру);\n",
    " - Преобразуем данные в нужные типы. Опишем, в каких столбцах заменили тип данных и почему;\n",
    " - Обработаем пропуски при необходимости:\n",
    " - Объясним, почему заполнили пропуски определённым образом или почему не стали это делать;\n",
    " - Опишем причины, которые могли привести к пропускам;\n",
    " - Обратим внимание на аббревиатуру 'tbd' в столбцах с рейтингом. Отдельно разберем это значение и опишем, как его обработать;\n",
    " - Посчитаем суммарные продажи во всех регионах и запишем их в отдельный столбец.\n",
    "\n",
    "**Шаг 3.** Проведем исследовательский анализ данных\n",
    "\n",
    " - Посмотрим, сколько игр выпускалось в разные годы. Важны ли данные за все периоды?\n",
    " - Посмотрим, как менялись продажи по платформам. Выберем платформы с наибольшими суммарными продажами и построим распределение по годам. За какой характерный срок появляются новые и исчезают старые платформы?\n",
    "Возьмем данные за соответствующий актуальный период. Актуальный период определим самостоятельно в результате исследования предыдущих вопросов. Основной фактор — эти данные помогут построить прогноз на 2017 год. Не будем учитывать в работе данные за предыдущие годы.\n",
    "Какие платформы лидируют по продажам, растут или падают? Выберем несколько потенциально прибыльных платформ.\n",
    " - Построим график «ящик с усами» по глобальным продажам игр в разбивке по платформам. Опишем результат.\n",
    " - Посмотрим, как влияют на продажи внутри одной популярной платформы отзывы пользователей и критиков.  - -   - Построем диаграмму рассеяния и посчитаем корреляцию между отзывами и продажами. Сформулируем выводы.\n",
    " - Соотнесем выводы с продажами игр на других платформах.\n",
    " - Посмотрим на общее распределение игр по жанрам. Что можно сказать о самых прибыльных жанрах? Выделяются ли жанры с высокими и низкими продажами?\n",
    "\n",
    "**Шаг 4.** Составим портрет пользователя каждого региона\n",
    "\n",
    " - Определим для пользователя каждого региона (NA, EU, JP):\n",
    " - Самые популярные платформы (топ-5). Опишем различия в долях продаж.\n",
    " - Самые популярные жанры (топ-5). Поясним разницу.\n",
    " - Влияет ли рейтинг ESRB на продажи в отдельном регионе?\n",
    "\n",
    "**Шаг 5.** Проверим гипотезы\n",
    "\n",
    " - Средние пользовательские рейтинги платформ Xbox One и PC одинаковые;\n",
    " - Средние пользовательские рейтинги жанров Action (англ. «действие», экшен-игры) и Sports (англ. «спортивные соревнования») разные.\n",
    " - Пороговое значение alpha зададим самостоятельно.\n",
    " - Поясним:\n",
    " - Как мы сформулировали нулевую и альтернативную гипотезы;\n",
    " - Какой критерий применили для проверки гипотез и почему.\n",
    "\n",
    "**Шаг 6.** Напишем общий вывод\n",
    "\n"
   ]
  },
  {
   "cell_type": "code",
   "execution_count": 5,
   "metadata": {},
   "outputs": [
    {
     "ename": "ModuleNotFoundError",
     "evalue": "No module named 'matplotlib'",
     "output_type": "error",
     "traceback": [
      "\u001b[1;31m---------------------------------------------------------------------------\u001b[0m",
      "\u001b[1;31mModuleNotFoundError\u001b[0m                       Traceback (most recent call last)",
      "Cell \u001b[1;32mIn[5], line 4\u001b[0m\n\u001b[0;32m      2\u001b[0m \u001b[38;5;28;01mimport\u001b[39;00m \u001b[38;5;21;01mpandas\u001b[39;00m \u001b[38;5;28;01mas\u001b[39;00m \u001b[38;5;21;01mpd\u001b[39;00m\n\u001b[0;32m      3\u001b[0m \u001b[38;5;28;01mimport\u001b[39;00m \u001b[38;5;21;01mnumpy\u001b[39;00m \u001b[38;5;28;01mas\u001b[39;00m \u001b[38;5;21;01mnp\u001b[39;00m\n\u001b[1;32m----> 4\u001b[0m \u001b[38;5;28;01mimport\u001b[39;00m \u001b[38;5;21;01mmatplotlib\u001b[39;00m\u001b[38;5;21;01m.\u001b[39;00m\u001b[38;5;21;01mpyplot\u001b[39;00m \u001b[38;5;28;01mas\u001b[39;00m \u001b[38;5;21;01mplt\u001b[39;00m\n\u001b[0;32m      5\u001b[0m \u001b[38;5;28;01mimport\u001b[39;00m \u001b[38;5;21;01mseaborn\u001b[39;00m \u001b[38;5;28;01mas\u001b[39;00m \u001b[38;5;21;01msns\u001b[39;00m\n\u001b[0;32m      6\u001b[0m \u001b[38;5;28;01mimport\u001b[39;00m \u001b[38;5;21;01mscipy\u001b[39;00m\u001b[38;5;21;01m.\u001b[39;00m\u001b[38;5;21;01mstats\u001b[39;00m \u001b[38;5;28;01mas\u001b[39;00m \u001b[38;5;21;01mst\u001b[39;00m\n",
      "\u001b[1;31mModuleNotFoundError\u001b[0m: No module named 'matplotlib'"
     ]
    }
   ],
   "source": [
    "#импортируем библиотеки\n",
    "import pandas as pd\n",
    "import numpy as np\n",
    "import matplotlib.pyplot as plt\n",
    "import seaborn as sns\n",
    "import scipy.stats as st\n",
    "from functools import reduce\n",
    "idx = pd.IndexSlice\n",
    "from scipy import stats as st"
   ]
  },
  {
   "cell_type": "code",
   "execution_count": 6,
   "metadata": {},
   "outputs": [],
   "source": [
    "# format вывода значений в виде числа с 2-мя знаками после запятой\n",
    "pd.options.display.float_format = '{:,.2f}'.format"
   ]
  },
  {
   "cell_type": "markdown",
   "metadata": {},
   "source": [
    "## Ознакомление с данными"
   ]
  },
  {
   "cell_type": "code",
   "execution_count": 7,
   "metadata": {},
   "outputs": [
    {
     "ename": "FileNotFoundError",
     "evalue": "[Errno 2] No such file or directory: 'games.csv'",
     "output_type": "error",
     "traceback": [
      "\u001b[1;31m---------------------------------------------------------------------------\u001b[0m",
      "\u001b[1;31mFileNotFoundError\u001b[0m                         Traceback (most recent call last)",
      "Cell \u001b[1;32mIn[7], line 2\u001b[0m\n\u001b[0;32m      1\u001b[0m \u001b[38;5;28;01mtry\u001b[39;00m:\n\u001b[1;32m----> 2\u001b[0m     data \u001b[38;5;241m=\u001b[39m \u001b[43mpd\u001b[49m\u001b[38;5;241;43m.\u001b[39;49m\u001b[43mread_csv\u001b[49m\u001b[43m(\u001b[49m\u001b[38;5;124;43m'\u001b[39;49m\u001b[38;5;124;43m/datasets/games.csv\u001b[39;49m\u001b[38;5;124;43m'\u001b[39;49m\u001b[43m,\u001b[49m\u001b[43m \u001b[49m\u001b[43msep\u001b[49m\u001b[38;5;241;43m=\u001b[39;49m\u001b[38;5;124;43m'\u001b[39;49m\u001b[38;5;124;43m,\u001b[39;49m\u001b[38;5;124;43m'\u001b[39;49m\u001b[43m)\u001b[49m\n\u001b[0;32m      3\u001b[0m \u001b[38;5;28;01mexcept\u001b[39;00m:\n",
      "File \u001b[1;32m~\\AppData\\Local\\Programs\\Python\\Python311\\Lib\\site-packages\\pandas\\io\\parsers\\readers.py:1026\u001b[0m, in \u001b[0;36mread_csv\u001b[1;34m(filepath_or_buffer, sep, delimiter, header, names, index_col, usecols, dtype, engine, converters, true_values, false_values, skipinitialspace, skiprows, skipfooter, nrows, na_values, keep_default_na, na_filter, verbose, skip_blank_lines, parse_dates, infer_datetime_format, keep_date_col, date_parser, date_format, dayfirst, cache_dates, iterator, chunksize, compression, thousands, decimal, lineterminator, quotechar, quoting, doublequote, escapechar, comment, encoding, encoding_errors, dialect, on_bad_lines, delim_whitespace, low_memory, memory_map, float_precision, storage_options, dtype_backend)\u001b[0m\n\u001b[0;32m   1024\u001b[0m kwds\u001b[38;5;241m.\u001b[39mupdate(kwds_defaults)\n\u001b[1;32m-> 1026\u001b[0m \u001b[38;5;28;01mreturn\u001b[39;00m \u001b[43m_read\u001b[49m\u001b[43m(\u001b[49m\u001b[43mfilepath_or_buffer\u001b[49m\u001b[43m,\u001b[49m\u001b[43m \u001b[49m\u001b[43mkwds\u001b[49m\u001b[43m)\u001b[49m\n",
      "File \u001b[1;32m~\\AppData\\Local\\Programs\\Python\\Python311\\Lib\\site-packages\\pandas\\io\\parsers\\readers.py:620\u001b[0m, in \u001b[0;36m_read\u001b[1;34m(filepath_or_buffer, kwds)\u001b[0m\n\u001b[0;32m    619\u001b[0m \u001b[38;5;66;03m# Create the parser.\u001b[39;00m\n\u001b[1;32m--> 620\u001b[0m parser \u001b[38;5;241m=\u001b[39m \u001b[43mTextFileReader\u001b[49m\u001b[43m(\u001b[49m\u001b[43mfilepath_or_buffer\u001b[49m\u001b[43m,\u001b[49m\u001b[43m \u001b[49m\u001b[38;5;241;43m*\u001b[39;49m\u001b[38;5;241;43m*\u001b[39;49m\u001b[43mkwds\u001b[49m\u001b[43m)\u001b[49m\n\u001b[0;32m    622\u001b[0m \u001b[38;5;28;01mif\u001b[39;00m chunksize \u001b[38;5;129;01mor\u001b[39;00m iterator:\n",
      "File \u001b[1;32m~\\AppData\\Local\\Programs\\Python\\Python311\\Lib\\site-packages\\pandas\\io\\parsers\\readers.py:1620\u001b[0m, in \u001b[0;36mTextFileReader.__init__\u001b[1;34m(self, f, engine, **kwds)\u001b[0m\n\u001b[0;32m   1619\u001b[0m \u001b[38;5;28mself\u001b[39m\u001b[38;5;241m.\u001b[39mhandles: IOHandles \u001b[38;5;241m|\u001b[39m \u001b[38;5;28;01mNone\u001b[39;00m \u001b[38;5;241m=\u001b[39m \u001b[38;5;28;01mNone\u001b[39;00m\n\u001b[1;32m-> 1620\u001b[0m \u001b[38;5;28mself\u001b[39m\u001b[38;5;241m.\u001b[39m_engine \u001b[38;5;241m=\u001b[39m \u001b[38;5;28;43mself\u001b[39;49m\u001b[38;5;241;43m.\u001b[39;49m\u001b[43m_make_engine\u001b[49m\u001b[43m(\u001b[49m\u001b[43mf\u001b[49m\u001b[43m,\u001b[49m\u001b[43m \u001b[49m\u001b[38;5;28;43mself\u001b[39;49m\u001b[38;5;241;43m.\u001b[39;49m\u001b[43mengine\u001b[49m\u001b[43m)\u001b[49m\n",
      "File \u001b[1;32m~\\AppData\\Local\\Programs\\Python\\Python311\\Lib\\site-packages\\pandas\\io\\parsers\\readers.py:1880\u001b[0m, in \u001b[0;36mTextFileReader._make_engine\u001b[1;34m(self, f, engine)\u001b[0m\n\u001b[0;32m   1879\u001b[0m         mode \u001b[38;5;241m+\u001b[39m\u001b[38;5;241m=\u001b[39m \u001b[38;5;124m\"\u001b[39m\u001b[38;5;124mb\u001b[39m\u001b[38;5;124m\"\u001b[39m\n\u001b[1;32m-> 1880\u001b[0m \u001b[38;5;28mself\u001b[39m\u001b[38;5;241m.\u001b[39mhandles \u001b[38;5;241m=\u001b[39m \u001b[43mget_handle\u001b[49m\u001b[43m(\u001b[49m\n\u001b[0;32m   1881\u001b[0m \u001b[43m    \u001b[49m\u001b[43mf\u001b[49m\u001b[43m,\u001b[49m\n\u001b[0;32m   1882\u001b[0m \u001b[43m    \u001b[49m\u001b[43mmode\u001b[49m\u001b[43m,\u001b[49m\n\u001b[0;32m   1883\u001b[0m \u001b[43m    \u001b[49m\u001b[43mencoding\u001b[49m\u001b[38;5;241;43m=\u001b[39;49m\u001b[38;5;28;43mself\u001b[39;49m\u001b[38;5;241;43m.\u001b[39;49m\u001b[43moptions\u001b[49m\u001b[38;5;241;43m.\u001b[39;49m\u001b[43mget\u001b[49m\u001b[43m(\u001b[49m\u001b[38;5;124;43m\"\u001b[39;49m\u001b[38;5;124;43mencoding\u001b[39;49m\u001b[38;5;124;43m\"\u001b[39;49m\u001b[43m,\u001b[49m\u001b[43m \u001b[49m\u001b[38;5;28;43;01mNone\u001b[39;49;00m\u001b[43m)\u001b[49m\u001b[43m,\u001b[49m\n\u001b[0;32m   1884\u001b[0m \u001b[43m    \u001b[49m\u001b[43mcompression\u001b[49m\u001b[38;5;241;43m=\u001b[39;49m\u001b[38;5;28;43mself\u001b[39;49m\u001b[38;5;241;43m.\u001b[39;49m\u001b[43moptions\u001b[49m\u001b[38;5;241;43m.\u001b[39;49m\u001b[43mget\u001b[49m\u001b[43m(\u001b[49m\u001b[38;5;124;43m\"\u001b[39;49m\u001b[38;5;124;43mcompression\u001b[39;49m\u001b[38;5;124;43m\"\u001b[39;49m\u001b[43m,\u001b[49m\u001b[43m \u001b[49m\u001b[38;5;28;43;01mNone\u001b[39;49;00m\u001b[43m)\u001b[49m\u001b[43m,\u001b[49m\n\u001b[0;32m   1885\u001b[0m \u001b[43m    \u001b[49m\u001b[43mmemory_map\u001b[49m\u001b[38;5;241;43m=\u001b[39;49m\u001b[38;5;28;43mself\u001b[39;49m\u001b[38;5;241;43m.\u001b[39;49m\u001b[43moptions\u001b[49m\u001b[38;5;241;43m.\u001b[39;49m\u001b[43mget\u001b[49m\u001b[43m(\u001b[49m\u001b[38;5;124;43m\"\u001b[39;49m\u001b[38;5;124;43mmemory_map\u001b[39;49m\u001b[38;5;124;43m\"\u001b[39;49m\u001b[43m,\u001b[49m\u001b[43m \u001b[49m\u001b[38;5;28;43;01mFalse\u001b[39;49;00m\u001b[43m)\u001b[49m\u001b[43m,\u001b[49m\n\u001b[0;32m   1886\u001b[0m \u001b[43m    \u001b[49m\u001b[43mis_text\u001b[49m\u001b[38;5;241;43m=\u001b[39;49m\u001b[43mis_text\u001b[49m\u001b[43m,\u001b[49m\n\u001b[0;32m   1887\u001b[0m \u001b[43m    \u001b[49m\u001b[43merrors\u001b[49m\u001b[38;5;241;43m=\u001b[39;49m\u001b[38;5;28;43mself\u001b[39;49m\u001b[38;5;241;43m.\u001b[39;49m\u001b[43moptions\u001b[49m\u001b[38;5;241;43m.\u001b[39;49m\u001b[43mget\u001b[49m\u001b[43m(\u001b[49m\u001b[38;5;124;43m\"\u001b[39;49m\u001b[38;5;124;43mencoding_errors\u001b[39;49m\u001b[38;5;124;43m\"\u001b[39;49m\u001b[43m,\u001b[49m\u001b[43m \u001b[49m\u001b[38;5;124;43m\"\u001b[39;49m\u001b[38;5;124;43mstrict\u001b[39;49m\u001b[38;5;124;43m\"\u001b[39;49m\u001b[43m)\u001b[49m\u001b[43m,\u001b[49m\n\u001b[0;32m   1888\u001b[0m \u001b[43m    \u001b[49m\u001b[43mstorage_options\u001b[49m\u001b[38;5;241;43m=\u001b[39;49m\u001b[38;5;28;43mself\u001b[39;49m\u001b[38;5;241;43m.\u001b[39;49m\u001b[43moptions\u001b[49m\u001b[38;5;241;43m.\u001b[39;49m\u001b[43mget\u001b[49m\u001b[43m(\u001b[49m\u001b[38;5;124;43m\"\u001b[39;49m\u001b[38;5;124;43mstorage_options\u001b[39;49m\u001b[38;5;124;43m\"\u001b[39;49m\u001b[43m,\u001b[49m\u001b[43m \u001b[49m\u001b[38;5;28;43;01mNone\u001b[39;49;00m\u001b[43m)\u001b[49m\u001b[43m,\u001b[49m\n\u001b[0;32m   1889\u001b[0m \u001b[43m\u001b[49m\u001b[43m)\u001b[49m\n\u001b[0;32m   1890\u001b[0m \u001b[38;5;28;01massert\u001b[39;00m \u001b[38;5;28mself\u001b[39m\u001b[38;5;241m.\u001b[39mhandles \u001b[38;5;129;01mis\u001b[39;00m \u001b[38;5;129;01mnot\u001b[39;00m \u001b[38;5;28;01mNone\u001b[39;00m\n",
      "File \u001b[1;32m~\\AppData\\Local\\Programs\\Python\\Python311\\Lib\\site-packages\\pandas\\io\\common.py:873\u001b[0m, in \u001b[0;36mget_handle\u001b[1;34m(path_or_buf, mode, encoding, compression, memory_map, is_text, errors, storage_options)\u001b[0m\n\u001b[0;32m    871\u001b[0m \u001b[38;5;28;01mif\u001b[39;00m ioargs\u001b[38;5;241m.\u001b[39mencoding \u001b[38;5;129;01mand\u001b[39;00m \u001b[38;5;124m\"\u001b[39m\u001b[38;5;124mb\u001b[39m\u001b[38;5;124m\"\u001b[39m \u001b[38;5;129;01mnot\u001b[39;00m \u001b[38;5;129;01min\u001b[39;00m ioargs\u001b[38;5;241m.\u001b[39mmode:\n\u001b[0;32m    872\u001b[0m     \u001b[38;5;66;03m# Encoding\u001b[39;00m\n\u001b[1;32m--> 873\u001b[0m     handle \u001b[38;5;241m=\u001b[39m \u001b[38;5;28;43mopen\u001b[39;49m\u001b[43m(\u001b[49m\n\u001b[0;32m    874\u001b[0m \u001b[43m        \u001b[49m\u001b[43mhandle\u001b[49m\u001b[43m,\u001b[49m\n\u001b[0;32m    875\u001b[0m \u001b[43m        \u001b[49m\u001b[43mioargs\u001b[49m\u001b[38;5;241;43m.\u001b[39;49m\u001b[43mmode\u001b[49m\u001b[43m,\u001b[49m\n\u001b[0;32m    876\u001b[0m \u001b[43m        \u001b[49m\u001b[43mencoding\u001b[49m\u001b[38;5;241;43m=\u001b[39;49m\u001b[43mioargs\u001b[49m\u001b[38;5;241;43m.\u001b[39;49m\u001b[43mencoding\u001b[49m\u001b[43m,\u001b[49m\n\u001b[0;32m    877\u001b[0m \u001b[43m        \u001b[49m\u001b[43merrors\u001b[49m\u001b[38;5;241;43m=\u001b[39;49m\u001b[43merrors\u001b[49m\u001b[43m,\u001b[49m\n\u001b[0;32m    878\u001b[0m \u001b[43m        \u001b[49m\u001b[43mnewline\u001b[49m\u001b[38;5;241;43m=\u001b[39;49m\u001b[38;5;124;43m\"\u001b[39;49m\u001b[38;5;124;43m\"\u001b[39;49m\u001b[43m,\u001b[49m\n\u001b[0;32m    879\u001b[0m \u001b[43m    \u001b[49m\u001b[43m)\u001b[49m\n\u001b[0;32m    880\u001b[0m \u001b[38;5;28;01melse\u001b[39;00m:\n\u001b[0;32m    881\u001b[0m     \u001b[38;5;66;03m# Binary mode\u001b[39;00m\n",
      "\u001b[1;31mFileNotFoundError\u001b[0m: [Errno 2] No such file or directory: '/datasets/games.csv'",
      "\nDuring handling of the above exception, another exception occurred:\n",
      "\u001b[1;31mFileNotFoundError\u001b[0m                         Traceback (most recent call last)",
      "Cell \u001b[1;32mIn[7], line 4\u001b[0m\n\u001b[0;32m      2\u001b[0m     data \u001b[38;5;241m=\u001b[39m pd\u001b[38;5;241m.\u001b[39mread_csv(\u001b[38;5;124m'\u001b[39m\u001b[38;5;124m/datasets/games.csv\u001b[39m\u001b[38;5;124m'\u001b[39m, sep\u001b[38;5;241m=\u001b[39m\u001b[38;5;124m'\u001b[39m\u001b[38;5;124m,\u001b[39m\u001b[38;5;124m'\u001b[39m)\n\u001b[0;32m      3\u001b[0m \u001b[38;5;28;01mexcept\u001b[39;00m:\n\u001b[1;32m----> 4\u001b[0m     data \u001b[38;5;241m=\u001b[39m \u001b[43mpd\u001b[49m\u001b[38;5;241;43m.\u001b[39;49m\u001b[43mread_csv\u001b[49m\u001b[43m(\u001b[49m\u001b[38;5;124;43m'\u001b[39;49m\u001b[38;5;124;43mgames.csv\u001b[39;49m\u001b[38;5;124;43m'\u001b[39;49m\u001b[43m,\u001b[49m\u001b[43m \u001b[49m\u001b[43msep\u001b[49m\u001b[38;5;241;43m=\u001b[39;49m\u001b[38;5;124;43m'\u001b[39;49m\u001b[38;5;124;43m,\u001b[39;49m\u001b[38;5;124;43m'\u001b[39;49m\u001b[43m)\u001b[49m    \n\u001b[0;32m      5\u001b[0m display(data\u001b[38;5;241m.\u001b[39mhead(\u001b[38;5;241m10\u001b[39m)\u001b[38;5;241m.\u001b[39mT)\n",
      "File \u001b[1;32m~\\AppData\\Local\\Programs\\Python\\Python311\\Lib\\site-packages\\pandas\\io\\parsers\\readers.py:1026\u001b[0m, in \u001b[0;36mread_csv\u001b[1;34m(filepath_or_buffer, sep, delimiter, header, names, index_col, usecols, dtype, engine, converters, true_values, false_values, skipinitialspace, skiprows, skipfooter, nrows, na_values, keep_default_na, na_filter, verbose, skip_blank_lines, parse_dates, infer_datetime_format, keep_date_col, date_parser, date_format, dayfirst, cache_dates, iterator, chunksize, compression, thousands, decimal, lineterminator, quotechar, quoting, doublequote, escapechar, comment, encoding, encoding_errors, dialect, on_bad_lines, delim_whitespace, low_memory, memory_map, float_precision, storage_options, dtype_backend)\u001b[0m\n\u001b[0;32m   1013\u001b[0m kwds_defaults \u001b[38;5;241m=\u001b[39m _refine_defaults_read(\n\u001b[0;32m   1014\u001b[0m     dialect,\n\u001b[0;32m   1015\u001b[0m     delimiter,\n\u001b[1;32m   (...)\u001b[0m\n\u001b[0;32m   1022\u001b[0m     dtype_backend\u001b[38;5;241m=\u001b[39mdtype_backend,\n\u001b[0;32m   1023\u001b[0m )\n\u001b[0;32m   1024\u001b[0m kwds\u001b[38;5;241m.\u001b[39mupdate(kwds_defaults)\n\u001b[1;32m-> 1026\u001b[0m \u001b[38;5;28;01mreturn\u001b[39;00m \u001b[43m_read\u001b[49m\u001b[43m(\u001b[49m\u001b[43mfilepath_or_buffer\u001b[49m\u001b[43m,\u001b[49m\u001b[43m \u001b[49m\u001b[43mkwds\u001b[49m\u001b[43m)\u001b[49m\n",
      "File \u001b[1;32m~\\AppData\\Local\\Programs\\Python\\Python311\\Lib\\site-packages\\pandas\\io\\parsers\\readers.py:620\u001b[0m, in \u001b[0;36m_read\u001b[1;34m(filepath_or_buffer, kwds)\u001b[0m\n\u001b[0;32m    617\u001b[0m _validate_names(kwds\u001b[38;5;241m.\u001b[39mget(\u001b[38;5;124m\"\u001b[39m\u001b[38;5;124mnames\u001b[39m\u001b[38;5;124m\"\u001b[39m, \u001b[38;5;28;01mNone\u001b[39;00m))\n\u001b[0;32m    619\u001b[0m \u001b[38;5;66;03m# Create the parser.\u001b[39;00m\n\u001b[1;32m--> 620\u001b[0m parser \u001b[38;5;241m=\u001b[39m \u001b[43mTextFileReader\u001b[49m\u001b[43m(\u001b[49m\u001b[43mfilepath_or_buffer\u001b[49m\u001b[43m,\u001b[49m\u001b[43m \u001b[49m\u001b[38;5;241;43m*\u001b[39;49m\u001b[38;5;241;43m*\u001b[39;49m\u001b[43mkwds\u001b[49m\u001b[43m)\u001b[49m\n\u001b[0;32m    622\u001b[0m \u001b[38;5;28;01mif\u001b[39;00m chunksize \u001b[38;5;129;01mor\u001b[39;00m iterator:\n\u001b[0;32m    623\u001b[0m     \u001b[38;5;28;01mreturn\u001b[39;00m parser\n",
      "File \u001b[1;32m~\\AppData\\Local\\Programs\\Python\\Python311\\Lib\\site-packages\\pandas\\io\\parsers\\readers.py:1620\u001b[0m, in \u001b[0;36mTextFileReader.__init__\u001b[1;34m(self, f, engine, **kwds)\u001b[0m\n\u001b[0;32m   1617\u001b[0m     \u001b[38;5;28mself\u001b[39m\u001b[38;5;241m.\u001b[39moptions[\u001b[38;5;124m\"\u001b[39m\u001b[38;5;124mhas_index_names\u001b[39m\u001b[38;5;124m\"\u001b[39m] \u001b[38;5;241m=\u001b[39m kwds[\u001b[38;5;124m\"\u001b[39m\u001b[38;5;124mhas_index_names\u001b[39m\u001b[38;5;124m\"\u001b[39m]\n\u001b[0;32m   1619\u001b[0m \u001b[38;5;28mself\u001b[39m\u001b[38;5;241m.\u001b[39mhandles: IOHandles \u001b[38;5;241m|\u001b[39m \u001b[38;5;28;01mNone\u001b[39;00m \u001b[38;5;241m=\u001b[39m \u001b[38;5;28;01mNone\u001b[39;00m\n\u001b[1;32m-> 1620\u001b[0m \u001b[38;5;28mself\u001b[39m\u001b[38;5;241m.\u001b[39m_engine \u001b[38;5;241m=\u001b[39m \u001b[38;5;28;43mself\u001b[39;49m\u001b[38;5;241;43m.\u001b[39;49m\u001b[43m_make_engine\u001b[49m\u001b[43m(\u001b[49m\u001b[43mf\u001b[49m\u001b[43m,\u001b[49m\u001b[43m \u001b[49m\u001b[38;5;28;43mself\u001b[39;49m\u001b[38;5;241;43m.\u001b[39;49m\u001b[43mengine\u001b[49m\u001b[43m)\u001b[49m\n",
      "File \u001b[1;32m~\\AppData\\Local\\Programs\\Python\\Python311\\Lib\\site-packages\\pandas\\io\\parsers\\readers.py:1880\u001b[0m, in \u001b[0;36mTextFileReader._make_engine\u001b[1;34m(self, f, engine)\u001b[0m\n\u001b[0;32m   1878\u001b[0m     \u001b[38;5;28;01mif\u001b[39;00m \u001b[38;5;124m\"\u001b[39m\u001b[38;5;124mb\u001b[39m\u001b[38;5;124m\"\u001b[39m \u001b[38;5;129;01mnot\u001b[39;00m \u001b[38;5;129;01min\u001b[39;00m mode:\n\u001b[0;32m   1879\u001b[0m         mode \u001b[38;5;241m+\u001b[39m\u001b[38;5;241m=\u001b[39m \u001b[38;5;124m\"\u001b[39m\u001b[38;5;124mb\u001b[39m\u001b[38;5;124m\"\u001b[39m\n\u001b[1;32m-> 1880\u001b[0m \u001b[38;5;28mself\u001b[39m\u001b[38;5;241m.\u001b[39mhandles \u001b[38;5;241m=\u001b[39m \u001b[43mget_handle\u001b[49m\u001b[43m(\u001b[49m\n\u001b[0;32m   1881\u001b[0m \u001b[43m    \u001b[49m\u001b[43mf\u001b[49m\u001b[43m,\u001b[49m\n\u001b[0;32m   1882\u001b[0m \u001b[43m    \u001b[49m\u001b[43mmode\u001b[49m\u001b[43m,\u001b[49m\n\u001b[0;32m   1883\u001b[0m \u001b[43m    \u001b[49m\u001b[43mencoding\u001b[49m\u001b[38;5;241;43m=\u001b[39;49m\u001b[38;5;28;43mself\u001b[39;49m\u001b[38;5;241;43m.\u001b[39;49m\u001b[43moptions\u001b[49m\u001b[38;5;241;43m.\u001b[39;49m\u001b[43mget\u001b[49m\u001b[43m(\u001b[49m\u001b[38;5;124;43m\"\u001b[39;49m\u001b[38;5;124;43mencoding\u001b[39;49m\u001b[38;5;124;43m\"\u001b[39;49m\u001b[43m,\u001b[49m\u001b[43m \u001b[49m\u001b[38;5;28;43;01mNone\u001b[39;49;00m\u001b[43m)\u001b[49m\u001b[43m,\u001b[49m\n\u001b[0;32m   1884\u001b[0m \u001b[43m    \u001b[49m\u001b[43mcompression\u001b[49m\u001b[38;5;241;43m=\u001b[39;49m\u001b[38;5;28;43mself\u001b[39;49m\u001b[38;5;241;43m.\u001b[39;49m\u001b[43moptions\u001b[49m\u001b[38;5;241;43m.\u001b[39;49m\u001b[43mget\u001b[49m\u001b[43m(\u001b[49m\u001b[38;5;124;43m\"\u001b[39;49m\u001b[38;5;124;43mcompression\u001b[39;49m\u001b[38;5;124;43m\"\u001b[39;49m\u001b[43m,\u001b[49m\u001b[43m \u001b[49m\u001b[38;5;28;43;01mNone\u001b[39;49;00m\u001b[43m)\u001b[49m\u001b[43m,\u001b[49m\n\u001b[0;32m   1885\u001b[0m \u001b[43m    \u001b[49m\u001b[43mmemory_map\u001b[49m\u001b[38;5;241;43m=\u001b[39;49m\u001b[38;5;28;43mself\u001b[39;49m\u001b[38;5;241;43m.\u001b[39;49m\u001b[43moptions\u001b[49m\u001b[38;5;241;43m.\u001b[39;49m\u001b[43mget\u001b[49m\u001b[43m(\u001b[49m\u001b[38;5;124;43m\"\u001b[39;49m\u001b[38;5;124;43mmemory_map\u001b[39;49m\u001b[38;5;124;43m\"\u001b[39;49m\u001b[43m,\u001b[49m\u001b[43m \u001b[49m\u001b[38;5;28;43;01mFalse\u001b[39;49;00m\u001b[43m)\u001b[49m\u001b[43m,\u001b[49m\n\u001b[0;32m   1886\u001b[0m \u001b[43m    \u001b[49m\u001b[43mis_text\u001b[49m\u001b[38;5;241;43m=\u001b[39;49m\u001b[43mis_text\u001b[49m\u001b[43m,\u001b[49m\n\u001b[0;32m   1887\u001b[0m \u001b[43m    \u001b[49m\u001b[43merrors\u001b[49m\u001b[38;5;241;43m=\u001b[39;49m\u001b[38;5;28;43mself\u001b[39;49m\u001b[38;5;241;43m.\u001b[39;49m\u001b[43moptions\u001b[49m\u001b[38;5;241;43m.\u001b[39;49m\u001b[43mget\u001b[49m\u001b[43m(\u001b[49m\u001b[38;5;124;43m\"\u001b[39;49m\u001b[38;5;124;43mencoding_errors\u001b[39;49m\u001b[38;5;124;43m\"\u001b[39;49m\u001b[43m,\u001b[49m\u001b[43m \u001b[49m\u001b[38;5;124;43m\"\u001b[39;49m\u001b[38;5;124;43mstrict\u001b[39;49m\u001b[38;5;124;43m\"\u001b[39;49m\u001b[43m)\u001b[49m\u001b[43m,\u001b[49m\n\u001b[0;32m   1888\u001b[0m \u001b[43m    \u001b[49m\u001b[43mstorage_options\u001b[49m\u001b[38;5;241;43m=\u001b[39;49m\u001b[38;5;28;43mself\u001b[39;49m\u001b[38;5;241;43m.\u001b[39;49m\u001b[43moptions\u001b[49m\u001b[38;5;241;43m.\u001b[39;49m\u001b[43mget\u001b[49m\u001b[43m(\u001b[49m\u001b[38;5;124;43m\"\u001b[39;49m\u001b[38;5;124;43mstorage_options\u001b[39;49m\u001b[38;5;124;43m\"\u001b[39;49m\u001b[43m,\u001b[49m\u001b[43m \u001b[49m\u001b[38;5;28;43;01mNone\u001b[39;49;00m\u001b[43m)\u001b[49m\u001b[43m,\u001b[49m\n\u001b[0;32m   1889\u001b[0m \u001b[43m\u001b[49m\u001b[43m)\u001b[49m\n\u001b[0;32m   1890\u001b[0m \u001b[38;5;28;01massert\u001b[39;00m \u001b[38;5;28mself\u001b[39m\u001b[38;5;241m.\u001b[39mhandles \u001b[38;5;129;01mis\u001b[39;00m \u001b[38;5;129;01mnot\u001b[39;00m \u001b[38;5;28;01mNone\u001b[39;00m\n\u001b[0;32m   1891\u001b[0m f \u001b[38;5;241m=\u001b[39m \u001b[38;5;28mself\u001b[39m\u001b[38;5;241m.\u001b[39mhandles\u001b[38;5;241m.\u001b[39mhandle\n",
      "File \u001b[1;32m~\\AppData\\Local\\Programs\\Python\\Python311\\Lib\\site-packages\\pandas\\io\\common.py:873\u001b[0m, in \u001b[0;36mget_handle\u001b[1;34m(path_or_buf, mode, encoding, compression, memory_map, is_text, errors, storage_options)\u001b[0m\n\u001b[0;32m    868\u001b[0m \u001b[38;5;28;01melif\u001b[39;00m \u001b[38;5;28misinstance\u001b[39m(handle, \u001b[38;5;28mstr\u001b[39m):\n\u001b[0;32m    869\u001b[0m     \u001b[38;5;66;03m# Check whether the filename is to be opened in binary mode.\u001b[39;00m\n\u001b[0;32m    870\u001b[0m     \u001b[38;5;66;03m# Binary mode does not support 'encoding' and 'newline'.\u001b[39;00m\n\u001b[0;32m    871\u001b[0m     \u001b[38;5;28;01mif\u001b[39;00m ioargs\u001b[38;5;241m.\u001b[39mencoding \u001b[38;5;129;01mand\u001b[39;00m \u001b[38;5;124m\"\u001b[39m\u001b[38;5;124mb\u001b[39m\u001b[38;5;124m\"\u001b[39m \u001b[38;5;129;01mnot\u001b[39;00m \u001b[38;5;129;01min\u001b[39;00m ioargs\u001b[38;5;241m.\u001b[39mmode:\n\u001b[0;32m    872\u001b[0m         \u001b[38;5;66;03m# Encoding\u001b[39;00m\n\u001b[1;32m--> 873\u001b[0m         handle \u001b[38;5;241m=\u001b[39m \u001b[38;5;28;43mopen\u001b[39;49m\u001b[43m(\u001b[49m\n\u001b[0;32m    874\u001b[0m \u001b[43m            \u001b[49m\u001b[43mhandle\u001b[49m\u001b[43m,\u001b[49m\n\u001b[0;32m    875\u001b[0m \u001b[43m            \u001b[49m\u001b[43mioargs\u001b[49m\u001b[38;5;241;43m.\u001b[39;49m\u001b[43mmode\u001b[49m\u001b[43m,\u001b[49m\n\u001b[0;32m    876\u001b[0m \u001b[43m            \u001b[49m\u001b[43mencoding\u001b[49m\u001b[38;5;241;43m=\u001b[39;49m\u001b[43mioargs\u001b[49m\u001b[38;5;241;43m.\u001b[39;49m\u001b[43mencoding\u001b[49m\u001b[43m,\u001b[49m\n\u001b[0;32m    877\u001b[0m \u001b[43m            \u001b[49m\u001b[43merrors\u001b[49m\u001b[38;5;241;43m=\u001b[39;49m\u001b[43merrors\u001b[49m\u001b[43m,\u001b[49m\n\u001b[0;32m    878\u001b[0m \u001b[43m            \u001b[49m\u001b[43mnewline\u001b[49m\u001b[38;5;241;43m=\u001b[39;49m\u001b[38;5;124;43m\"\u001b[39;49m\u001b[38;5;124;43m\"\u001b[39;49m\u001b[43m,\u001b[49m\n\u001b[0;32m    879\u001b[0m \u001b[43m        \u001b[49m\u001b[43m)\u001b[49m\n\u001b[0;32m    880\u001b[0m     \u001b[38;5;28;01melse\u001b[39;00m:\n\u001b[0;32m    881\u001b[0m         \u001b[38;5;66;03m# Binary mode\u001b[39;00m\n\u001b[0;32m    882\u001b[0m         handle \u001b[38;5;241m=\u001b[39m \u001b[38;5;28mopen\u001b[39m(handle, ioargs\u001b[38;5;241m.\u001b[39mmode)\n",
      "\u001b[1;31mFileNotFoundError\u001b[0m: [Errno 2] No such file or directory: 'games.csv'"
     ]
    }
   ],
   "source": [
    "try:\n",
    "    data = pd.read_csv('/datasets/games.csv', sep=',')\n",
    "except:\n",
    "    data = pd.read_csv('games.csv', sep=',')    \n",
    "display(data.head(10).T)"
   ]
  },
  {
   "cell_type": "code",
   "execution_count": 8,
   "metadata": {},
   "outputs": [
    {
     "ename": "NameError",
     "evalue": "name 'data' is not defined",
     "output_type": "error",
     "traceback": [
      "\u001b[1;31m---------------------------------------------------------------------------\u001b[0m",
      "\u001b[1;31mNameError\u001b[0m                                 Traceback (most recent call last)",
      "Cell \u001b[1;32mIn[8], line 1\u001b[0m\n\u001b[1;32m----> 1\u001b[0m \u001b[43mdata\u001b[49m\u001b[38;5;241m.\u001b[39mtail(\u001b[38;5;241m10\u001b[39m)\n",
      "\u001b[1;31mNameError\u001b[0m: name 'data' is not defined"
     ]
    }
   ],
   "source": [
    "data.tail(10)"
   ]
  },
  {
   "cell_type": "code",
   "execution_count": null,
   "metadata": {},
   "outputs": [],
   "source": [
    "#посморим общую информацию о таблице\n",
    "data.info()"
   ]
  },
  {
   "cell_type": "markdown",
   "metadata": {},
   "source": [
    "Видим, что в таблице есть пропуски в столбцах Name, Year_of_Release , Genre, Critic_Score, User_Score, Rating. А также видим несоответствие типов данных в некоторых столбцах. Также названия столбцов нужно откорректировать."
   ]
  },
  {
   "cell_type": "markdown",
   "metadata": {},
   "source": [
    "## Предобработка данных."
   ]
  },
  {
   "cell_type": "code",
   "execution_count": null,
   "metadata": {},
   "outputs": [],
   "source": [
    "#Приведем столбцы к нижнему регистру\n",
    "data.columns=data.columns.str.lower()\n"
   ]
  },
  {
   "cell_type": "code",
   "execution_count": null,
   "metadata": {
    "scrolled": true
   },
   "outputs": [],
   "source": [
    "# Посмотрим на пропуски поближе\n",
    "round(data.isnull().sum() / data.shape[0] * 100,2)"
   ]
  },
  {
   "cell_type": "code",
   "execution_count": null,
   "metadata": {},
   "outputs": [],
   "source": [
    "#отобразим процент пропусков по столбцам графически\n",
    "percent_of_nulls = (data.isnull().sum() / data.shape[0]) * 100\n",
    "plt.figure(figsize=(10, 6))\n",
    "plt.barh(percent_of_nulls.index,percent_of_nulls.values)\n",
    "plt.xlabel('Процент пропусков')\n",
    "plt.ylabel('Столбцы')\n",
    "plt.title('Процент Nan в таблице')\n",
    "plt.xlim(0, 55);"
   ]
  },
  {
   "cell_type": "code",
   "execution_count": null,
   "metadata": {},
   "outputs": [],
   "source": [
    "#В столбцах 'name' и 'genre' и процент пропусков одинаково маленький.Посмотрим подробнее.\n",
    "data[['name','genre']].isna().sum()\n"
   ]
  },
  {
   "cell_type": "code",
   "execution_count": null,
   "metadata": {},
   "outputs": [],
   "source": [
    "data[data['name'].isnull()].head()"
   ]
  },
  {
   "cell_type": "code",
   "execution_count": null,
   "metadata": {},
   "outputs": [],
   "source": [
    "data[data['genre'].isnull()].head()"
   ]
  },
  {
   "cell_type": "markdown",
   "metadata": {},
   "source": [
    "Здесь мы видим, что это всего 2 строки, в которых пропущены название и жанр игры. Заменить эти пропущенные значения не представляется возможным, поэтому мы их удалим. К тому же это совсем небольшой процент от всех данных и удаление никак не повлияет на результат исследования."
   ]
  },
  {
   "cell_type": "code",
   "execution_count": null,
   "metadata": {},
   "outputs": [],
   "source": [
    "#удалим эти 2 строки с пропущенными значениями\n",
    "data.dropna(subset=['name'],inplace=True)"
   ]
  },
  {
   "cell_type": "code",
   "execution_count": null,
   "metadata": {},
   "outputs": [],
   "source": [
    "#проверим\n",
    "data[data['genre'].isnull()].head()"
   ]
  },
  {
   "cell_type": "markdown",
   "metadata": {},
   "source": [
    "Самое большое количество пропусков в столбце **'critic_score'** - 51%, заполнить медианой или средним будет некорректно, так как мы будем исследовать влияние этого параметра в дальнейшем. И такой формальное заполнение пропусков исказит результаты анализа данных и повлияет на принятие последующих решений. Поэтому  эти пропуски мы заполним значением -1, чтобы привести тип данных столбца к int и не брать их в расчет при дальнейших действиях."
   ]
  },
  {
   "cell_type": "code",
   "execution_count": null,
   "metadata": {},
   "outputs": [],
   "source": [
    "data['critic_score'] = data['critic_score'].fillna(-1)"
   ]
  },
  {
   "cell_type": "code",
   "execution_count": null,
   "metadata": {},
   "outputs": [],
   "source": [
    "data.tail(10)"
   ]
  },
  {
   "cell_type": "code",
   "execution_count": null,
   "metadata": {},
   "outputs": [],
   "source": [
    "#видим, что в столбце 'user_score' значения 'Nan' есть значение 'tbd'\n",
    "data['user_score'].unique()"
   ]
  },
  {
   "cell_type": "code",
   "execution_count": null,
   "metadata": {},
   "outputs": [],
   "source": [
    "#посмотрим много ли таких значений\n",
    "data[data['user_score'] == 'tbd']"
   ]
  },
  {
   "cell_type": "markdown",
   "metadata": {},
   "source": [
    "\n",
    "\n",
    "В столбце **'user_score'** - 40% пропусков это тоже очень много. Также мы видим среди прочих значений абревиатуру 'tbd' - аббревиатура от английского To Be Determined (будет определено) или To Be Decided (будет решено). Используется, если какая-то информация еще не определена или решение по вопросу не принято.То есть по сути у этой игры пока нет рейтинга и это приравнивается к пропуску в столбце. Целесообразно заполнить значения 'tbd' -1, как и значения Nan в этом столбце, мы тоже заменим -1.Ведь даже если у игры будет рейтинг 0, мы не запутаемся в значниях. \n",
    "\n"
   ]
  },
  {
   "cell_type": "code",
   "execution_count": null,
   "metadata": {},
   "outputs": [],
   "source": [
    "data['user_score'] = data['user_score'].replace('tbd', np.NaN).astype('float')"
   ]
  },
  {
   "cell_type": "code",
   "execution_count": null,
   "metadata": {},
   "outputs": [],
   "source": [
    "data['user_score'] = data['user_score'].fillna(-1)"
   ]
  },
  {
   "cell_type": "markdown",
   "metadata": {},
   "source": [
    "Столбец **'rating'** - 40%, тоже значимый для нас параметр. Этот столбец имеет строковый тип и заполнен различными рейтингами. Принято решение заполнить значением \"no_rating\"."
   ]
  },
  {
   "cell_type": "code",
   "execution_count": null,
   "metadata": {},
   "outputs": [],
   "source": [
    "# заполним пропуски ещё одним рейтингом \"нет рейтинга\"\n",
    "data['rating'] = data['rating'].fillna('no_rating')\n",
    "data['rating'].isna().sum()"
   ]
  },
  {
   "cell_type": "code",
   "execution_count": null,
   "metadata": {},
   "outputs": [],
   "source": [
    "#посмотрим количество пропусков в столбце 'year_of_release'\n",
    "data['year_of_release'].isna().sum()"
   ]
  },
  {
   "cell_type": "code",
   "execution_count": null,
   "metadata": {},
   "outputs": [],
   "source": [
    "# используем лямбда функцию для замены пропущенных значений по годам,\n",
    "# группируя по названию платформ и подсчитывая медиану\n",
    "#data['year_of_release'] = data.groupby(\n",
    " #   'platform')['year_of_release'].apply(lambda x: x.fillna(x.median()).astype(int)\n",
    " #   )"
   ]
  },
  {
   "cell_type": "markdown",
   "metadata": {},
   "source": [
    "Пропуски в столбце 'year_of_release' не заполняем, так как данные этого столбца не повлияют на наши выводы."
   ]
  },
  {
   "cell_type": "code",
   "execution_count": null,
   "metadata": {},
   "outputs": [],
   "source": [
    "data.info()"
   ]
  },
  {
   "cell_type": "markdown",
   "metadata": {},
   "source": [
    "### Посчитаем суммарные продажи во всех регионах и запишем их в отдельный столбец."
   ]
  },
  {
   "cell_type": "code",
   "execution_count": null,
   "metadata": {},
   "outputs": [],
   "source": [
    "#суммируем продажи повсем регионам и добавим результат в отдельный столбец\n",
    "data['sales_total'] = data['na_sales'] + data['eu_sales'] + data['jp_sales'] + data['other_sales']\n",
    "data.T"
   ]
  },
  {
   "cell_type": "code",
   "execution_count": null,
   "metadata": {},
   "outputs": [],
   "source": [
    "data.info()"
   ]
  },
  {
   "cell_type": "code",
   "execution_count": null,
   "metadata": {},
   "outputs": [],
   "source": [
    "# Посмотрим на пропуски поближе\n",
    "round(data.isnull().sum() / data.shape[0] * 100,2)"
   ]
  },
  {
   "cell_type": "code",
   "execution_count": null,
   "metadata": {},
   "outputs": [],
   "source": [
    "#проверим на дубликаты\n",
    "data.duplicated().sum()"
   ]
  },
  {
   "cell_type": "markdown",
   "metadata": {},
   "source": [
    "Явных дубликатов нет."
   ]
  },
  {
   "cell_type": "markdown",
   "metadata": {},
   "source": [
    "Проверим данные на неявные дубликаты."
   ]
  },
  {
   "cell_type": "code",
   "execution_count": null,
   "metadata": {},
   "outputs": [],
   "source": [
    "data[['name','platform','year_of_release']].duplicated().sum()"
   ]
  },
  {
   "cell_type": "code",
   "execution_count": null,
   "metadata": {},
   "outputs": [],
   "source": [
    "data[data[['name','platform', 'year_of_release']].duplicated() == True]"
   ]
  },
  {
   "cell_type": "code",
   "execution_count": null,
   "metadata": {},
   "outputs": [],
   "source": [
    "data = data.drop_duplicates(subset=(['name','platform', 'year_of_release']),keep='first')\n",
    "data.reset_index(drop=True)\n"
   ]
  },
  {
   "cell_type": "code",
   "execution_count": null,
   "metadata": {},
   "outputs": [],
   "source": [
    "data[data[['name','platform', 'year_of_release']].duplicated() == True]"
   ]
  },
  {
   "cell_type": "markdown",
   "metadata": {},
   "source": [
    "Избавились от неявных дубликатов."
   ]
  },
  {
   "cell_type": "markdown",
   "metadata": {},
   "source": [
    "**Вывод:**\n",
    "\n",
    "В результате предобработки данных мы сделали следующее:\n",
    "\n",
    " - заменили названия столбцов (привели их к нижнему регистру), преобразовали данные в нужные типы. \n",
    " - столбцах 'critic_score' и 'user_score' пропуски заполнили значением -1 для того, чтобы данные оставались достоверными и при этом была возможность привести тип данных к int для удобства дальнейших расчетов.\n",
    " - в столбце 'user score' абревиатуру tbd предварительно заменили на Nan, а затем на -1. \n",
    " - пропуски вышеперечисленных столбцах могли возникнуть по причине того, что не все игроки оставляют свои оценки играм, а также абревиатура tbd означает, что оценка еще не определена.\n",
    " - удалили явные и неявные дубликаты."
   ]
  },
  {
   "cell_type": "markdown",
   "metadata": {},
   "source": [
    "## Исследовательскй анализ данных"
   ]
  },
  {
   "cell_type": "markdown",
   "metadata": {},
   "source": [
    " - Посмотрим, сколько игр выпускалось в разные годы. Важны ли данные за все периоды? \n",
    " \n",
    " - Посмотрим, как менялись продажи по платформам. Выберем платформы с наибольшими суммарными продажами и построим распределение по годам. За какой характерный срок появляются новые и исчезают старые платформы?\n",
    " \n",
    " - Возьмем данные за соответствующий актуальный период. Актуальный период определим самостоятельно в результате исследования предыдущих вопросов. Основной фактор — эти данные помогут построить прогноз на 2017 год. Не будем учитывать в работе данные за предыдущие годы.\n",
    " \n",
    " - Какие платформы лидируют по продажам, растут или падают? Выберем несколько потенциально прибыльных платформ.\n",
    " \n",
    " - Построим график «ящик с усами» по глобальным продажам игр в разбивке по платформам. Опишем результат.\n",
    " - Посмотрим, как влияют на продажи внутри одной популярной платформы отзывы пользователей и критиков.  \n",
    " - Построим диаграмму рассеяния и посчитаем корреляцию между отзывами и продажами. Сформулируем выводы.\n",
    "  \n",
    " - Соотнесем выводы с продажами игр на других платформах.\n",
    " \n",
    " - Посмотрим на общее распределение игр по жанрам. Что можно сказать о самых прибыльных жанрах? Выделяются ли жанры с высокими и низкими продажами?\n"
   ]
  },
  {
   "cell_type": "markdown",
   "metadata": {},
   "source": [
    "### Количество игр в разные годы. "
   ]
  },
  {
   "cell_type": "markdown",
   "metadata": {},
   "source": [
    "Посмотрим, сколько игр выпускалось в разные годы. Важны ли данные за все периоды?"
   ]
  },
  {
   "cell_type": "code",
   "execution_count": null,
   "metadata": {},
   "outputs": [],
   "source": [
    "# создадим сводную таблицу и посчитаем суммарное кол-во игр по годам\n",
    "count_games = data.pivot_table(index='year_of_release', \n",
    "                                        values='name', aggfunc='count')\n",
    "count_games"
   ]
  },
  {
   "cell_type": "code",
   "execution_count": null,
   "metadata": {},
   "outputs": [],
   "source": [
    "# построим график\n",
    "data.pivot_table(\n",
    "    index='year_of_release', values='name', aggfunc='count').plot(y = 'name', kind = 'bar',\\\n",
    "figsize = (16,8), title='Количество новых игр в год', grid= True, color='blue', alpha=0.6, legend=False)\\\n",
    ".set(xlabel='Год выпуска', ylabel='Количество новых игр');"
   ]
  },
  {
   "cell_type": "markdown",
   "metadata": {},
   "source": [
    " По графику мы видим, что с 1980 по 1994 г. выпускалось мало игр. С 1994 по 2010г. количество игр на игровые приставки и компьютеры начинает расти с большой скоростью.\n",
    " \n",
    " Затем с 2011г. начинается резкий спад, возможно это связано с созданием большого количества мобильных приложений и мобильных игр. Игры все больше переходят в онлайн. Это всё привело к тому, что интерес к самим играм упал, соответственно, упало и их производство.\n",
    " \n",
    " Для анализа возьмем период с 1994 по 2011г.(судя по графику до 1994 данные не так интересны для анализа)."
   ]
  },
  {
   "cell_type": "markdown",
   "metadata": {},
   "source": [
    "### Продажи игр по платформам."
   ]
  },
  {
   "cell_type": "markdown",
   "metadata": {},
   "source": [
    "Посмотрим, как менялись продажи по платформам.\n",
    "Выберем платформы с наибольшими суммарными продажами и построим распределение по годам. За какой характерный срок появляются новые и исчезают старые платформы?\n",
    " \n",
    "Возьмем данные за соответствующий актуальный период. Актуальный период определим самостоятельно в результате исследования предыдущих вопросов. Основной фактор — эти данные помогут построить прогноз на 2017 год. Не будем учитывать в работе данные за предыдущие годы.\n",
    " \n",
    "Какие платформы лидируют по продажам, растут или падают? Выберем несколько потенциально прибыльных платформ."
   ]
  },
  {
   "cell_type": "code",
   "execution_count": null,
   "metadata": {},
   "outputs": [],
   "source": [
    "# выведем топ платформ по суммарным продажам\n",
    "data.groupby('platform')['sales_total'].sum().sort_values(ascending=False)"
   ]
  },
  {
   "cell_type": "code",
   "execution_count": null,
   "metadata": {},
   "outputs": [],
   "source": [
    "data.pivot_table(\n",
    "    index='platform', values='sales_total', aggfunc='sum').sort_values(by='sales_total', ascending=False)\\\n",
    ".plot(y = 'sales_total', kind = 'bar',\\\n",
    "figsize = (16,8), title='Суммарный объем продаж по платформам за весь период', grid= True, color='red', alpha=0.6, legend=False)\\\n",
    ".set(xlabel='Название платформы', ylabel='Количество продаж в млн.$');"
   ]
  },
  {
   "cell_type": "markdown",
   "metadata": {},
   "source": [
    "На графике явно видны лидеры \"PS2\", \"X360\", \"PS3\", \"Wii\", \"DS\",\"PS\"."
   ]
  },
  {
   "cell_type": "code",
   "execution_count": null,
   "metadata": {},
   "outputs": [],
   "source": [
    "# сделаем срез данных по топ платформам, у которых более 500 млн\n",
    "top_platforms = data.query('platform in(\"PS2\", \"X360\", \"PS3\", \"DS\", \"Wii\", \"PS\")')\n",
    "top_platforms.head(10)"
   ]
  },
  {
   "cell_type": "code",
   "execution_count": null,
   "metadata": {},
   "outputs": [],
   "source": [
    "#оставим в выгрузке только нужные года\n",
    "data_years = top_platforms.query(\"year_of_release >= 1994\")\n",
    "#построим график распределения по годам\n",
    "data_years.pivot_table(index='year_of_release', columns = 'platform', values='sales_total', aggfunc='sum').\\\n",
    "plot(grid=True, figsize=(19, 10), style='-o')\n",
    "plt.title(\"Суммарный объем продаж по платформам за весь период\")\n",
    "plt.xlabel(\"Год выпуска\")\n",
    "plt.ylabel(\"Объём продаж в млн.$\");"
   ]
  },
  {
   "cell_type": "markdown",
   "metadata": {},
   "source": [
    "Какие платформы лидируют по продажам, растут или падают?\n",
    "Характерное время жизни платформ, есть ли рост к 2016 году\n",
    "\n",
    " - PS 1994-2003, около 9 лет, роста нет.\n",
    " - PS2 2000-2011, около 11 лет, роста нет.\n",
    " - DS 2004-2013,  около 9 лет, роста нет.\n",
    " - PS3 2006-2016, 10 лет, роста нет, но возможно есть потенциал так как данные за 2016 год не полные.\n",
    " - WII 2006-2016, 10 лет, роста нет, но возможно есть потенциал так как данные за 2016 год не полные.\n",
    " - X360 2005-2016 11 лет, роста нет, но возможно есть потенциал так как данные за 2016 год не полные.\n",
    "Из графика видно средний срок жизни платформ около 10 лет."
   ]
  },
  {
   "cell_type": "markdown",
   "metadata": {},
   "source": [
    "**Вывод о продажах по годам и платформам.**\n",
    "\n",
    "Анализируя рынок игр и платформ делаю вывод, что рынок резко начал расти с выходом PS2 около 2001 года. Приобрёл максимальную конкуренцию начиная с 2006 года, когда на рынок вышли X360, Wii, DS. К 2012 году основные старые платформы закончили свою жизнь, после 2011 года года было резкое падение рынка, лучше этот год и ранее не брать. Т.к. средний период жизни платформы около 10 лет. За этот период игры продаются следующим образом: первые 5 лет рост продаж, затем пик и спад продаж.Это обусловлено тем, что выходит новая игра и игроки постепенно переходят на новую платформу.Такой переход длится 4-5лет, в этот период снижается выпуск игр для старых платформ, а для новых наращивает обороты.\n",
    "Начиная с 2012 года и будет актуальная для нас выборка. Далее расмотрим, какие платформы имеют рост в этот период."
   ]
  },
  {
   "cell_type": "markdown",
   "metadata": {},
   "source": [
    "### Актуальные лидеры"
   ]
  },
  {
   "cell_type": "markdown",
   "metadata": {},
   "source": [
    "Какие платформы лидируют по продажам, растут или падают? Выберем несколько потенциально прибыльных платформ"
   ]
  },
  {
   "cell_type": "code",
   "execution_count": null,
   "metadata": {},
   "outputs": [],
   "source": [
    "# делаем нужный нам срез\n",
    "df_2012 = data.query('year_of_release >= 2012').reset_index()\n",
    "df_2012.head()"
   ]
  },
  {
   "cell_type": "markdown",
   "metadata": {},
   "source": [
    "Мы сделалали срез по актуальным данным с 2012 года."
   ]
  },
  {
   "cell_type": "code",
   "execution_count": null,
   "metadata": {},
   "outputs": [],
   "source": [
    "# создадим сводную таблицу и посчитаем суммарное кол-во денег\n",
    "data_leader_platform = df_2012.pivot_table(index=['year_of_release'], \n",
    "                                       columns='platform',\n",
    "                                       values='sales_total',\n",
    "                                       aggfunc='sum')\n",
    "data_leader_platform.head(5)"
   ]
  },
  {
   "cell_type": "code",
   "execution_count": null,
   "metadata": {},
   "outputs": [],
   "source": [
    "# построим график для платформ\n",
    "data_leader_platform.plot(y=['3DS', 'DS', 'PC', 'PS3', 'PS4', 'PSP', 'PSV', 'Wii', 'WiiU', 'X360', 'XOne'],\n",
    "                               grid=True,\n",
    "                               style='-o',\n",
    "                               figsize=(12, 12))\n",
    "plt.title('Сумма выручки игр по годам')\n",
    "plt.ylabel('Выручка, млн')\n",
    "plt.xlabel('Год');"
   ]
  },
  {
   "cell_type": "markdown",
   "metadata": {},
   "source": [
    "В таблице нам даны неполные данные за 2016 год, поэтому будем смотреть по 2015 году.\n",
    "Судя по графику  рост продаж на 2015 имеют PS4 - 119 млн. продаж и XOne - 60 млн.\n",
    "следующим идет 3DS (28 млн.), на 4 месте - PC (здесь стагнация рынка).\n",
    "На X360 и Wii не стоит делать ставку так как их продажи почти равны 0. Да и остальные платформы судя по графику продолжат падать.\n"
   ]
  },
  {
   "cell_type": "code",
   "execution_count": null,
   "metadata": {},
   "outputs": [],
   "source": [
    "#отфильтруем наш топ-5\n",
    "top_5 = data_leader_platform.loc[:, ['PS4','XOne', 'PC', '3DS', 'PS3']]\n",
    "top_5.head()"
   ]
  },
  {
   "cell_type": "markdown",
   "metadata": {},
   "source": [
    "### Построим график «ящик с усами» по глобальным продажам игр в разбивке по платформам. "
   ]
  },
  {
   "cell_type": "markdown",
   "metadata": {},
   "source": [
    " Построим график «ящик с усами» по глобальным продажам игр в разбивке по платформам. Опишем результат.\n",
    " Возьмем актуальный период с 2012 по 2016 год."
   ]
  },
  {
   "cell_type": "code",
   "execution_count": null,
   "metadata": {},
   "outputs": [],
   "source": [
    "#нарисуем ящики с усами для топовых платформ \n",
    "\n",
    "plt.figure(figsize=(12,6))\n",
    "sns.boxplot(data = top_5)\n",
    "plt.title('График разброса выручки по лидирующим платформам', fontsize=15)\n",
    "\n",
    "plt.xlabel('Платформа', fontsize=12)\n",
    "plt.ylabel('Глобальные продажи',fontsize=12);"
   ]
  },
  {
   "cell_type": "code",
   "execution_count": null,
   "metadata": {},
   "outputs": [],
   "source": [
    "top_5.describe()"
   ]
  },
  {
   "cell_type": "markdown",
   "metadata": {},
   "source": [
    "- Провели срез данных для того, чтобы отрисовать ящики с усами. \n",
    "- Исходя из графиков видно, что медиана протекает у всех по разному\n",
    "- Больше всего в среднем продаж у PS4 (78.54 млн.), затем PS3(57.76). Затем почти на одном уровне - 3DS(38.92 млн.)и XOne(39.83 млн.), и на последнем месте PC - (12.53млн.). "
   ]
  },
  {
   "cell_type": "markdown",
   "metadata": {},
   "source": [
    "### Влияние отзывов критиков и пользователей внутри платформы внутри самой популярной"
   ]
  },
  {
   "cell_type": "markdown",
   "metadata": {},
   "source": [
    "Посмотрим, как влияют на продажи внутри одной популярной платформы отзывы пользователей и критиков.\n",
    "Построим диаграмму рассеяния и посчитаем корреляцию между отзывами и продажами. Сформулируем выводы.\n"
   ]
  },
  {
   "cell_type": "code",
   "execution_count": null,
   "metadata": {},
   "outputs": [],
   "source": [
    "# посмотрим топ платформ по кол-ву игр\n",
    "df_2012.groupby('platform')['name'].count().sort_values(ascending=False)"
   ]
  },
  {
   "cell_type": "code",
   "execution_count": null,
   "metadata": {
    "scrolled": true
   },
   "outputs": [],
   "source": [
    "#посмотрим топ по общим продажам\n",
    "df_2012.pivot_table(index='platform', values='sales_total', aggfunc='sum').nlargest(10, 'sales_total')"
   ]
  },
  {
   "cell_type": "markdown",
   "metadata": {},
   "source": [
    "Выделим список 5 лидеров по продажам и соответственно это будут самые популярные платформы c 2012г.."
   ]
  },
  {
   "cell_type": "code",
   "execution_count": null,
   "metadata": {},
   "outputs": [],
   "source": [
    "top_list_5=df_2012.pivot_table(index='platform', values='sales_total', aggfunc='sum').nlargest(5, 'sales_total')\n",
    "top_list_5"
   ]
  },
  {
   "cell_type": "markdown",
   "metadata": {},
   "source": [
    "Из них, за образец возьмем PS3 - она давно на рынке, по ней много данных, при этом даже на конец 2016 года она является одной из самых популярных игровых платформ."
   ]
  },
  {
   "cell_type": "code",
   "execution_count": null,
   "metadata": {
    "scrolled": true
   },
   "outputs": [],
   "source": [
    "#отсортруем данные таблицы и создадим таблицу по нашему лидеру c учетом предыдущей замены пропусков значением -1\n",
    "data_ps3 = df_2012[(df_2012['platform'] == 'PS3') & (df_2012['critic_score'] > 0)]\n",
    "data_ps3.head()"
   ]
  },
  {
   "cell_type": "code",
   "execution_count": null,
   "metadata": {},
   "outputs": [],
   "source": [
    "#посмотрим корреляцию данных\n",
    "PS3_cor=data_ps3.corr()\n",
    "PS3_cor"
   ]
  },
  {
   "cell_type": "code",
   "execution_count": null,
   "metadata": {},
   "outputs": [],
   "source": [
    "#нарисуем тепловую карту отражающую корреляцию по всем столбцам таблицы\n",
    "plt.figure(figsize=(9,9))\n",
    "sns.heatmap(PS3_cor, annot=True, cmap=\"ocean_r\", fmt='.2f', annot_kws={'size':16});"
   ]
  },
  {
   "cell_type": "code",
   "execution_count": null,
   "metadata": {},
   "outputs": [],
   "source": [
    "# выделим только нужные нам значения\n",
    "games_ps3_filtered = data_ps3[['sales_total' ,'critic_score', 'user_score']]\n",
    "games_ps3_filtered.head() "
   ]
  },
  {
   "cell_type": "code",
   "execution_count": null,
   "metadata": {},
   "outputs": [],
   "source": [
    "#нарисуем тепловую карту для нужных нам значений\n",
    "plt.figure(figsize=(1,3))\n",
    "sns.heatmap(games_ps3_filtered.corr()[['sales_total']]\n",
    "            .sort_values(by='sales_total', ascending=False), cmap=\"ocean_r\", \n",
    "            annot=True, annot_kws={'size':15});"
   ]
  },
  {
   "cell_type": "markdown",
   "metadata": {},
   "source": [
    "Видим, что зависимость продаж от оценок критиков невелика - 0,33 но больше, чем с оценками пользователей (корреляция  - 0,12). т.е оценка критиков влияет на заинтересованность покупателей, но не определяет ее.\n",
    " Посмотрим эту зависимость на диаграмме рассеяния. Так как графически более наглядно можно увидеть нет ли каких либо других факторов влияющих на продажи и на оценки."
   ]
  },
  {
   "cell_type": "code",
   "execution_count": null,
   "metadata": {
    "scrolled": true
   },
   "outputs": [],
   "source": [
    "# нарисуем диаграмму рассеяния корреляции оценок критиков и продаж.\n",
    "data_ps3.plot(kind='scatter', x='critic_score', y='sales_total', color='blue', figsize=(10,5), grid=True);\n",
    "plt.title('Диаграмма рассеяния для PS3. Корреляция с оценками критиков');"
   ]
  },
  {
   "cell_type": "markdown",
   "metadata": {},
   "source": [
    "С увеличением среднего рейтинга критиков, увеличивается и средний уровень выручки с продажи игр.\n",
    "Это логично: чем качественнее игра, тем больше денег она приносит разработчику и издателю."
   ]
  },
  {
   "cell_type": "markdown",
   "metadata": {},
   "source": [
    "Теперь  посмотрим на корреляцию продаж с отзывами пользователей."
   ]
  },
  {
   "cell_type": "code",
   "execution_count": null,
   "metadata": {},
   "outputs": [],
   "source": [
    "# нарисуем диаграмму рассеяния корреляции оценок пользователей и продаж.\n",
    "data_ps3.plot(kind='scatter', x='user_score', y='sales_total', color='blue', figsize=(10,5), grid=True)\n",
    "plt.title('Диаграмма рассеяния для PS3. Корреляция с оценками пользователей');"
   ]
  },
  {
   "cell_type": "markdown",
   "metadata": {},
   "source": [
    "Практически та же картина.За исключением выбросов - когда рейтинг невелик, но игра все равно хорошо продается. Думаю это связано с обширной рекламной компанией, когда игра покупается пользователем, но разочаровавшись, поиграв в нее пользователь в итоге ставит среднюю оценку. "
   ]
  },
  {
   "cell_type": "markdown",
   "metadata": {},
   "source": [
    "### Соотнесем выводы с продажами игр на других платформах."
   ]
  },
  {
   "cell_type": "markdown",
   "metadata": {},
   "source": [
    "Сгруппируем данные за актуальный период  (с 2012 по 2016 г.) по платформам и посмотрим на связи рейтингов и продаж на других платформах."
   ]
  },
  {
   "cell_type": "code",
   "execution_count": null,
   "metadata": {},
   "outputs": [],
   "source": [
    "other_platforms=df_2012.query('platform != \"PS3\" & critic_score > 0 & user_score >0')"
   ]
  },
  {
   "cell_type": "code",
   "execution_count": null,
   "metadata": {},
   "outputs": [],
   "source": [
    "other_platforms.groupby('platform')[['critic_score','user_score','sales_total']].corr()\n",
    "other_platforms.head()"
   ]
  },
  {
   "cell_type": "markdown",
   "metadata": {},
   "source": [
    "В общем и целом, обозначенные для PS3, тенденции подтверждаются, однако стоит отметить, что для консолей, направленных на японский рынок, таких как 3DS, WiiU зависимость продаж от рейтинга пользователей сопоставима с зависимостью от рейтинга критиков."
   ]
  },
  {
   "cell_type": "markdown",
   "metadata": {},
   "source": [
    "**Выводы:**\n",
    "Оценивая корреляцию продаж игр других платформ с оценками критиков и оценками пользователей делаем вывод, что корреляция с оценками критиков слабая, но есть. С оценкам пользователей корреляции практически нет. По данным таблицы видим зависимость оценок пользователей от оценок критиков.То есть чем выше оценки китиков, тем выше оценки пользователей."
   ]
  },
  {
   "cell_type": "markdown",
   "metadata": {},
   "source": [
    "### Посмотрим на общее распределение игр по жанрам."
   ]
  },
  {
   "cell_type": "markdown",
   "metadata": {},
   "source": [
    "Посмотрим на общее распределение игр по жанрам. Что можно сказать о самых прибыльных жанрах? Выделяются ли жанры с высокими и низкими продажами?"
   ]
  },
  {
   "cell_type": "code",
   "execution_count": null,
   "metadata": {},
   "outputs": [],
   "source": [
    "genre_sales = df_2012.pivot_table(index='genre', values='sales_total',\\\n",
    "                               aggfunc='sum').sort_values('sales_total', ascending=False)\n",
    "genre_sales"
   ]
  },
  {
   "cell_type": "markdown",
   "metadata": {},
   "source": [
    "На первый взгляд в лидерах продаж жанры: Action, Shooter, Role-Playing.\n",
    "\n",
    "На нижних строчках оказались:  Adventure, Strategy, Pazzle."
   ]
  },
  {
   "cell_type": "code",
   "execution_count": null,
   "metadata": {},
   "outputs": [],
   "source": [
    "#Построим график отражающий суммарный объем продаж по каждому жанру за актуальный период.\n",
    "df_2012.pivot_table(\n",
    "    index='genre', values='sales_total', aggfunc='sum').sort_values(by='sales_total', ascending=False)\\\n",
    ".plot(y = 'sales_total', kind = 'bar',\\\n",
    "figsize = (16,8), title='Суммарный объем продаж по жанрам за актуальный период',\\\n",
    "      grid= True, color='green', alpha=0.6, legend=False)\\\n",
    ".set(xlabel='Название жанра', ylabel='Количество продаж в млн.$');"
   ]
  },
  {
   "cell_type": "code",
   "execution_count": null,
   "metadata": {},
   "outputs": [],
   "source": [
    "genre_sales = df_2012.pivot_table(index='genre', values='sales_total',\\\n",
    "                               aggfunc='median').sort_values('sales_total', ascending=False)\n",
    "genre_sales"
   ]
  },
  {
   "cell_type": "code",
   "execution_count": null,
   "metadata": {},
   "outputs": [],
   "source": [
    "#построим график отражающий медианное значение по продажам каждого жанра за актуальный период.\n",
    "df_2012.pivot_table(\n",
    "    index='genre', values='sales_total', aggfunc='median').sort_values(by='sales_total', ascending=False)\\\n",
    ".plot(y = 'sales_total', kind = 'bar',\\\n",
    "figsize = (16,8), title='Медианный объем продаж по жанрам за весь период',\\\n",
    "      grid= True, color='blue', alpha=0.6, legend=False)\\\n",
    ".set(xlabel='Название жанра', ylabel='Количество продаж в млн.$');"
   ]
  },
  {
   "cell_type": "markdown",
   "metadata": {},
   "source": [
    "По графику видно, что в лидерах неожиданно, оказались:Shooter,Sports,Platform, а жанр Role-Playing так и остался на 4 месте.\n",
    "\n",
    "В 'хвосте' все те же: Adventure, Strategy, Pazzle.\n",
    "\n",
    "Остальные жанры судя по медианному значению распределились примерно одинаково в том числе и лидирующий на первый взгляд жанр Action. \n",
    "\n",
    "Посмотрим на средние значения."
   ]
  },
  {
   "cell_type": "code",
   "execution_count": null,
   "metadata": {},
   "outputs": [],
   "source": [
    "genre_sales = df_2012.pivot_table(index='genre', values='sales_total',\\\n",
    "                               aggfunc='mean').sort_values('sales_total', ascending=False)\n",
    "genre_sales"
   ]
  },
  {
   "cell_type": "code",
   "execution_count": null,
   "metadata": {},
   "outputs": [],
   "source": [
    "#построим график отражающий среднее значение по продажам каждого жанра за актуальный период.\n",
    "df_2012.pivot_table(\n",
    "    index='genre', values='sales_total', aggfunc='mean').sort_values(by='sales_total', ascending=False)\\\n",
    ".plot(y = 'sales_total', kind = 'bar',\\\n",
    "figsize = (16,8), title='Средний объем продаж по жанрам за весь период',\\\n",
    "      grid= True, color='red', alpha=0.6, legend=False)\\\n",
    ".set(xlabel='Название жанра', ylabel='Количество продаж в млн.$');"
   ]
  },
  {
   "cell_type": "markdown",
   "metadata": {},
   "source": [
    "Построив, график на основе средних значений, мы видим, что все осталось практически неизменным. Посмотрим диаграмму размаха, чтобы полнее увидеть картину.  "
   ]
  },
  {
   "cell_type": "code",
   "execution_count": null,
   "metadata": {
    "scrolled": true
   },
   "outputs": [],
   "source": [
    "#построим диаграмму размаха для каждого жанра за актуальный период. \n",
    "sns.catplot(x='genre', y=\"sales_total\", kind=\"box\", data=df_2012, height=6, palette='twilight_shifted_r', aspect=2.7)\n",
    "plt.ylim(0, 4)\n",
    "plt.title('Распределение по игровым жанрам за весь период', fontsize=15)\n",
    "plt.xlabel('Жанр', fontsize=12)\n",
    "plt.ylabel('Глобальные продажи млн.$',fontsize=12);"
   ]
  },
  {
   "cell_type": "code",
   "execution_count": null,
   "metadata": {
    "scrolled": true
   },
   "outputs": [],
   "source": [
    "#посмотрим поближе\n",
    "sns.catplot(x='genre', y=\"sales_total\", kind=\"box\", data=df_2012, height=6, palette='twilight_shifted_r', aspect=2.7)\n",
    "plt.ylim(0, 1)\n",
    "plt.title('Распределение по игровым жанрам за весь период', fontsize=15)\n",
    "plt.xlabel('Жанр', fontsize=12)\n",
    "plt.ylabel('Глобальные продажи млн.$',fontsize=12);"
   ]
  },
  {
   "cell_type": "markdown",
   "metadata": {},
   "source": [
    "Как мы видим, Shooter по средним продажам лидирует по сравнению с остальными жанрами игр, а Action, напротив, по этому критерию отстает, однако, является в целом популярным жанром из-за наибольшего объема продаж. Приключенческие игры и игры-головоломки (puzzle), как правило, не пользуются большой популярностью: их абсолютные и средние продажи одни из самых низких среди всех жанров.Очевидно, что при планировании продаж на 2017 год стоит делать ставку на самые продаваемые жанры среди игроков, а именно Shooter, Platform, Sports, Role-Playing. "
   ]
  },
  {
   "cell_type": "markdown",
   "metadata": {},
   "source": [
    "**Выводы:**\n",
    "На данном этапе был проведен исследовательский анализ данных. Определно количество игр выпускаемых в различные периоды (половина представленных игр была выпущена с 2008 по 2016 годы).\n",
    "\n",
    "Количество игр на игровые приставки и компьютеры начало расти с большой скоростью с 90х годов до 2008 года. С 2008 года, после того как массово начали создавать мобильные приложения и мобильные игры, произошел резкий спад разработок игр на игровые платформы.\n",
    "Самые популярные игровые платформы за весь период : Sony PlayStation 2, Xbox 360, Sony Playstation 3, Nintendo WII, Nintendo DS, Sony Playstation.\n",
    "Средняя жизнь игровой платформы составляет  около 10 лет. Пик продаж наступает примерно через 5 лет после выхода приставки.\n",
    "Больше всего продаются игры на Sony Playstation и Xbox 360.\n",
    "Nintendo WII как быстро появился также быстро и потух. Возможно потому, что появился прям перед выходом мобильных приложений и игр.\n",
    "У всех платформ наблюдается взаимосвязь между продажами и оценками критиков и пользователей. Заметнее всего корреляция между оценками критиков и продажами. Это значит, для людей мнение критиков важнее мнения других пользователей.\n",
    "\n",
    "Выявлены три наиболее актуальные платформы на данный момент и в разрезе перспективы на следующие несколько лет (PS4, XOne, 3DS). Определена корреляция между оценками критиков и оценками пользователей. В целом оценки критиков слабо коррелируются с продажами, а оценки пользователй и продажи имеют очень слабую корреляцию (практически нулевую).\n",
    "\n",
    "Найдены наиболее популярные жанры игр за последние 5 лет (Shooter, Platform, Sports, Role-Playing). "
   ]
  },
  {
   "cell_type": "markdown",
   "metadata": {},
   "source": [
    "## Составим портрет пользователя каждого региона\n",
    "\n",
    "  Определим для пользователя каждого региона (NA, EU, JP):\n",
    " - Самые популярные платформы (топ-5). Опишем различия в долях продаж.\n",
    " - Самые популярные жанры (топ-5). Поясним разницу.\n",
    " - Влияет ли рейтинг ESRB на продажи в отдельном регионе?\n",
    " \n",
    "  Используем данные за актуальный период (2012-2016г.)"
   ]
  },
  {
   "cell_type": "code",
   "execution_count": null,
   "metadata": {},
   "outputs": [],
   "source": [
    "ig, axs = plt.subplots(1, 3, figsize=(15, 5))\n",
    "\n",
    "regions = [('na_sales', 'Топ-5 платформ в Северной Америке'), \n",
    "           ('eu_sales', 'Топ-5 платформ в Европе'), \n",
    "           ('jp_sales', 'Топ-5 платформ в Японии')]\n",
    "\n",
    "for i, (region, title) in enumerate(regions):\n",
    "    top_platforms = df_2012.groupby('platform')[region].sum().sort_values(ascending=False)\n",
    "    top_5_platforms = top_platforms.head(5)\n",
    "   \n",
    "\n",
    "    axs[i].pie(top_5_platforms, labels=top_5_platforms.index, autopct='%1.1f%%', wedgeprops={'edgecolor': 'white'})\n",
    "    axs[i].set_title(title, fontsize=14)\n",
    "\n",
    "plt.suptitle('Обзор рынка платформ', fontsize=16);"
   ]
  },
  {
   "cell_type": "markdown",
   "metadata": {},
   "source": [
    "Из графиков видно, что:\n",
    "\n",
    "в Северной Америке на первом месте по популярности X360, на 2-PS4 , на 3 - PS3.\n",
    "\n",
    "в Европе, PS4, PS3 и X360 практически одинаково популярны. \n",
    "\n",
    "в Японии самыми популярными палтформами являются: 3DS, PS3, PSV."
   ]
  },
  {
   "cell_type": "code",
   "execution_count": null,
   "metadata": {},
   "outputs": [],
   "source": [
    "ig, axs = plt.subplots(1, 3, figsize=(15, 5))\n",
    "\n",
    "regions = [('na_sales', 'Топ-5 жанров в Северной Америке'), \n",
    "           ('eu_sales', 'Топ-5 жанров в Европе'), \n",
    "           ('jp_sales', 'Топ-5 жанров в Японии')]\n",
    "\n",
    "for i, (region, title) in enumerate(regions):\n",
    "    top_platforms = df_2012.groupby('genre')[region].sum().sort_values(ascending=False)\n",
    "    top_5_platforms = top_platforms.head(5)\n",
    "   \n",
    "    axs[i].pie(top_5_platforms, labels=top_5_platforms.index, autopct='%1.1f%%', wedgeprops={'edgecolor': 'white'})\n",
    "    axs[i].set_title(title, fontsize=14)\n",
    "\n",
    "plt.suptitle('Обзор рынка жанров', fontsize=16);"
   ]
  },
  {
   "cell_type": "markdown",
   "metadata": {},
   "source": [
    "Самыми популярными жанрами в Северной Америке и Европе - Action, Shooter, Sports. В Японии ситуация чуть другая: самый популярный жанр - Role-Playing, затем следуют Action и Misc."
   ]
  },
  {
   "cell_type": "markdown",
   "metadata": {},
   "source": [
    "### Влияние рейтинга ESRB на продажи в отдельном регионе."
   ]
  },
  {
   "cell_type": "markdown",
   "metadata": {},
   "source": [
    "**Entertainment Software Rating Board (ESRB)** — негосударственная организация, основное направление деятельности — принятие и определение рейтингов для компьютерных видеоигр и другого развлекательного программного обеспечения в США и Канаде.\n",
    "Определим, влияет ли рейтинг ESRB на продажи в отдельном регионе."
   ]
  },
  {
   "cell_type": "code",
   "execution_count": null,
   "metadata": {},
   "outputs": [],
   "source": [
    "# получаем необходимый срез данных\n",
    "df_rating = df_2012[['rating', 'na_sales', 'eu_sales', 'jp_sales']] \\\n",
    "    .groupby('rating', as_index=False) \\\n",
    "    .agg({'na_sales': 'sum', 'eu_sales': 'sum', 'jp_sales': 'sum'}) \\\n",
    "    .melt(id_vars=['rating']) \\\n",
    "    .sort_values('value', ascending=False)"
   ]
  },
  {
   "cell_type": "code",
   "execution_count": null,
   "metadata": {},
   "outputs": [],
   "source": [
    "# размер фигуры\n",
    "plt.figure(figsize=(12, 8))\n",
    "\n",
    "# задание параметров построения графика\n",
    "ax = sns.barplot(y=df_rating.rating,\n",
    "                 x=df_rating.value,\n",
    "                 orient='h',\n",
    "                 color='#7028c5',\n",
    "                 palette='magma_r',\n",
    "                 hue=df_rating.variable,\n",
    "                 hue_order=['eu_sales', 'na_sales', 'jp_sales']);\n",
    "\n",
    "# подписи осей и названия\n",
    "plt.xlabel('Продажи, млн.$')\n",
    "plt.title('Распределение продаж игр по регионам в зависимости от присвоенного возрастного рейтинга начиная с 2012 года');"
   ]
  },
  {
   "cell_type": "markdown",
   "metadata": {},
   "source": [
    "**«M» («Mature») — «Для взрослых»**: Материалы игры не подходят для лиц младше 17 лет. Проекты с данным рейтингом могут содержать жестокое насилие, большое количество крови с расчленением, непристойные сексуальные сцены или грубую ненормативную лексику.\n",
    "\n",
    "\n",
    "**«E» («Everyone») — «Для всех»**: Содержание вполне подходит для всех возрастов (ранее с 6 лет). Такие игры могут понравиться и взрослым. Игры с этим рейтингом могут содержать минимальное насилие, в основном «мультяшного» характера. Первоначально \"K-A\" (\"Kids to Adults\")\n",
    "\n",
    "\n",
    "**«E10+» («Everyone 10 and older») — «Для всех от 10 лет и старше»**: Проекты с данным рейтингом могут содержать больше мультипликационного или мягкого насилия, или несколько откровенные сцены, или минимальное количество крови.\n",
    "\n",
    "\n",
    "**«T» («Teen») — «Подросткам»:** Игра подходит для лиц от 13 лет. Проекты из данной категории могут содержать насилие, непристойные сцены, грубый юмор, в меру откровенное сексуальное содержимое, кровь или нечастое использование ненормативной лексики.\n"
   ]
  },
  {
   "cell_type": "markdown",
   "metadata": {},
   "source": [
    "Игры, получившие возрастной рейтинг M (контент пригодный для лиц старше 17 лет) в два раза популярнее остальных категорий рейтинга на рынках Европы и Северной Америки. Остальные категории игр распределены относительно равномерно на этих рынках. В Японии же наибольшей популярностью, также превышающей в два раза преследователей, обладают игры возрастной рейтинг которых нам неизвестен ('no_rating'). В первую очередь это может быть связано не столько с предпочтениями пользователей, а с тем, что организатор рейтинга (ESRB, Location: New York City, New York, U.S) не уделяет должного внимания играм выходящим локально на азиатском рынке."
   ]
  },
  {
   "cell_type": "markdown",
   "metadata": {},
   "source": [
    "**Выводы**\n",
    "\n",
    "Вывод по составлению портрета пользователя каждого региона\n",
    "\n",
    "Северной Америке:\n",
    "Топ игровых платформ выглядит так: X360, PS4 , PS3.\n",
    "Топ Жанров игр: Shooter, Action, Sports.\n",
    "Топ Рейтингов игр: \"От 17 и выше\" \n",
    "\n",
    "В Европейском союзе:\n",
    "Топ игровых платформ : PS4, PS3 и X360.\n",
    "Топ жанров: Action, Shooter, Sports.\n",
    "Топ рейтингов: \"От 17 и выше\", \"для всех\", \"от 13 и выше\"\n",
    "\n",
    "\n",
    "В Японии:\n",
    "Топ игровых платформ : 3DS, PS3, PSV.\n",
    "Топ жанров: Role-Playing, Action, Misc.\n",
    "Топ рейтингов: Без рейтинга.\n",
    "\n",
    "После проведенного анализа можем заключить, что портрет пользователя регионов Северная Америка и Европа не сильно различается, в то время, как азиатские потребители выделяются по проанализированным параметрам (выбор платформы, любимый жанр, ситуация с рейтингом наиболее продаваемых игра). Японский рынок кардинально отличается от американского и европейского. Самым популярным жанром здесь являются ролевые игры, а жанр Shooter даже не попадет в топ5.  Следовательно, при планировании рекламной стратегии и в целом при ведении бизнеса, стоит учитывать историко-культурные различия регионов, отражающиеся непосредственно в предпочтениях пользоватлей."
   ]
  },
  {
   "cell_type": "markdown",
   "metadata": {},
   "source": [
    "## Результаты исследования"
   ]
  },
  {
   "cell_type": "markdown",
   "metadata": {},
   "source": [
    "Итоговый вывод:\n",
    "При предобработке данных была произведена следующая работа:\n",
    "Заменены названия столбцов (приведите к нижнему регистру), преобразованы данные в нужные типы. В столбцах 'critic_score' и 'user_score'  пропуски заполнили значением -1 для того чтобы данные оставались достоверными и при этом была возможность привести тип данных к int для удобства дальнейших расчетов.В столбце 'user score' абревиатуру tbd предварительно заменили на Nan, а затем на -1. Пропуски  вышеперечисленных столбцах могли возникнуть по причине того что не все игроки оставляют свои оценки играм, а также абревиатура tbd означает, что оценка еще не определена.Удалены явные и неявные дубликаты.\n",
    "\n",
    "На этапе исследовательского анализа выяснили:\n",
    "Рынок резко начал расти с выходом PS2 около 2001 года. Приобрёл максимальную конкуренцию начиная с 2006 года, когда на рынок вышли X360, Wii, DS. К 2012 году основные старые платформы закончили свою жизнь, после 2011 года года было резкое падение рынка, лучше этот год и ранее не брать. Т.к. средний период жизни платформы около 10 лет. За этот период игры продаются следующим образом: первые 5 лет рост продаж, затем пик и спад продаж.Это обусловлено тем, что выходит новая игра и игроки постепенно переходят на новую платформу.Такой переход длиться 4-5лет, в этот период снижается выпуск игр для старых платформ, а для новых наращивает обороты.\n",
    "Начиная с 2012 года актуальная выборка.\n",
    "В таблице нам даны неполные данные за 2016 год, поэтому выбрали данные по 2015 году. Рост продаж на 2015 имеют PS4 - 119 млн. продаж и XOne - 60 млн. следующим идет 3DS (28 млн.), на 4 месте - PC (здесь стагнация рынка). На X360 и Wii не стоит делать ставку так как их продажи почти равны 0. Да и остальные платформы судя по графику продолжат падать.\n",
    "Анализ влияния отзывов критиков и пользователей показал, что зависимость продаж от оценок критиков невелика - 0,33 но больше, чем с оценками пользователей (корреляция - 0,12). т.е оценка критиков влияет на заинтересованность покупателей, но не определяет ее. \n",
    "Среди жанров лидирует Action, за ним следуют жанры Shooter, Sports и Role-Playing. А вот жанры Stategy, Adventure и Puzzle не пользуюся большой популярностью среди пользователей. Очевидно, что при планировании продаж на 2017 год стоит делать ставку на самые продаваемые жанры среди игроков.Однако нужно учесть, что производство игр более популярных жанров также наиболее затратно и по времени и по финансовым вложениям. \n",
    "\n",
    "Был составлен портрет пользователя по регионам Северная Америка, Европа и Япония.\n",
    "\n",
    "Северной Америке:\n",
    "Топ игровых платформ выглядит так: X360, PS4 , PS3.\n",
    "Топ Жанров игр: Shooter, Action, Sports.\n",
    "Топ Рейтингов игр: \"От 17 и выше\" \n",
    "\n",
    "В Европейском союзе:\n",
    "Топ игровых платформ : PS4, PS3 и X360.\n",
    "Топ жанров: Action, Shooter, Sports.\n",
    "Топ рейтингов: \"От 17 и выше\", \"для всех\", \"от 13 и выше\"\n",
    "\n",
    "\n",
    "В Японии:\n",
    "Топ игровых платформ : 3DS, PS3, PSV.\n",
    "Топ жанров: Role-Playing, Action, Misc.\n",
    "Топ рейтингов: Без рейтинга.\n",
    "\n",
    "После проведенного анализа можем заключить, что портрет пользователя регионов Северная Америка и Европа не сильно различается, в то время, как азиатские потребители выделяются по проанализированным параметрам (выбор платформы, любимый жанр, ситуация с рейтингом наиболее продаваемых игра).Японский рынок кардинально отличается от американского и европейского. Самым популярным жанром здесь являются ролевые игры, а жанр Shooter даже не попадет в топ5.  Следовательно, при планировании рекламной стратегии и в целом при ведении бизнеса, стоит учитывать историко-культурные различия регионов, отражающиеся непосредственно в предпочтениях пользоватлей.\n",
    "\n",
    "Общие рекомендации:\n",
    "\n",
    "При планировании бизнес деятельности необходимо:\n",
    " - делать ставку на продажу игр для платформ XOne, PS4 , 3DS;\n",
    " - отдавать преимущество игровым жанрам Shooter, Platform, Sports, Role-Playing;\n",
    " - учитывать специфику азиатского рынка при запуска рекламных компаний.\n"
   ]
  }
 ],
 "metadata": {
  "ExecuteTimeLog": [
   {
    "duration": 559,
    "start_time": "2023-09-04T12:23:29.215Z"
   },
   {
    "duration": 77,
    "start_time": "2023-09-04T12:23:39.864Z"
   },
   {
    "duration": 484,
    "start_time": "2023-09-04T12:25:01.684Z"
   },
   {
    "duration": 67,
    "start_time": "2023-09-04T12:25:41.004Z"
   },
   {
    "duration": 37,
    "start_time": "2023-09-04T12:25:49.110Z"
   },
   {
    "duration": 13,
    "start_time": "2023-09-04T12:26:08.146Z"
   },
   {
    "duration": 18,
    "start_time": "2023-09-04T12:26:48.400Z"
   },
   {
    "duration": 9,
    "start_time": "2023-09-04T12:27:05.109Z"
   },
   {
    "duration": 957,
    "start_time": "2023-09-04T12:41:16.714Z"
   },
   {
    "duration": 62,
    "start_time": "2023-09-04T12:42:04.514Z"
   },
   {
    "duration": 85,
    "start_time": "2023-09-04T12:42:32.098Z"
   },
   {
    "duration": 79,
    "start_time": "2023-09-04T12:42:38.818Z"
   },
   {
    "duration": 16,
    "start_time": "2023-09-04T12:43:35.039Z"
   },
   {
    "duration": 28,
    "start_time": "2023-09-04T12:43:46.121Z"
   },
   {
    "duration": 10,
    "start_time": "2023-09-04T12:44:13.925Z"
   },
   {
    "duration": 30,
    "start_time": "2023-09-04T12:44:18.300Z"
   },
   {
    "duration": 94,
    "start_time": "2023-09-04T13:00:38.596Z"
   },
   {
    "duration": 82,
    "start_time": "2023-09-04T13:00:52.241Z"
   },
   {
    "duration": 5,
    "start_time": "2023-09-04T13:01:23.642Z"
   },
   {
    "duration": 42,
    "start_time": "2023-09-04T13:01:28.314Z"
   },
   {
    "duration": 174,
    "start_time": "2023-09-04T13:01:42.346Z"
   },
   {
    "duration": 161,
    "start_time": "2023-09-04T13:02:10.697Z"
   },
   {
    "duration": 101,
    "start_time": "2023-09-04T13:02:15.951Z"
   },
   {
    "duration": 4,
    "start_time": "2023-09-04T13:04:29.555Z"
   },
   {
    "duration": 186,
    "start_time": "2023-09-04T13:04:31.841Z"
   },
   {
    "duration": 4,
    "start_time": "2023-09-04T13:06:28.364Z"
   },
   {
    "duration": 188,
    "start_time": "2023-09-04T13:06:31.283Z"
   },
   {
    "duration": 4,
    "start_time": "2023-09-04T13:06:45.594Z"
   },
   {
    "duration": 162,
    "start_time": "2023-09-04T13:06:48.072Z"
   },
   {
    "duration": 5,
    "start_time": "2023-09-04T13:07:02.276Z"
   },
   {
    "duration": 183,
    "start_time": "2023-09-04T13:07:05.579Z"
   },
   {
    "duration": 5,
    "start_time": "2023-09-04T13:07:24.600Z"
   },
   {
    "duration": 188,
    "start_time": "2023-09-04T13:07:27.155Z"
   },
   {
    "duration": 4,
    "start_time": "2023-09-04T13:07:54.634Z"
   },
   {
    "duration": 180,
    "start_time": "2023-09-04T13:07:57.073Z"
   },
   {
    "duration": 4,
    "start_time": "2023-09-04T13:08:07.868Z"
   },
   {
    "duration": 176,
    "start_time": "2023-09-04T13:08:09.521Z"
   },
   {
    "duration": 124,
    "start_time": "2023-09-04T13:10:47.353Z"
   },
   {
    "duration": 5,
    "start_time": "2023-09-04T13:10:56.875Z"
   },
   {
    "duration": 10,
    "start_time": "2023-09-04T13:11:00.154Z"
   },
   {
    "duration": 5,
    "start_time": "2023-09-04T13:11:25.601Z"
   },
   {
    "duration": 9,
    "start_time": "2023-09-04T13:13:39.933Z"
   },
   {
    "duration": 16,
    "start_time": "2023-09-04T13:13:50.057Z"
   },
   {
    "duration": 5,
    "start_time": "2023-09-04T13:13:57.932Z"
   },
   {
    "duration": 8,
    "start_time": "2023-09-04T13:13:59.853Z"
   },
   {
    "duration": 3,
    "start_time": "2023-09-04T13:24:07.539Z"
   },
   {
    "duration": 114,
    "start_time": "2023-09-04T13:28:08.762Z"
   },
   {
    "duration": 86,
    "start_time": "2023-09-04T13:28:18.526Z"
   },
   {
    "duration": 106,
    "start_time": "2023-09-04T13:28:24.679Z"
   },
   {
    "duration": 122,
    "start_time": "2023-09-04T13:28:32.809Z"
   },
   {
    "duration": 6,
    "start_time": "2023-09-04T13:28:55.030Z"
   },
   {
    "duration": 9,
    "start_time": "2023-09-04T13:28:57.590Z"
   },
   {
    "duration": 3,
    "start_time": "2023-09-04T13:29:37.903Z"
   },
   {
    "duration": 66,
    "start_time": "2023-09-04T13:29:37.915Z"
   },
   {
    "duration": 19,
    "start_time": "2023-09-04T13:29:37.984Z"
   },
   {
    "duration": 12,
    "start_time": "2023-09-04T13:29:38.005Z"
   },
   {
    "duration": 28,
    "start_time": "2023-09-04T13:29:38.337Z"
   },
   {
    "duration": 9,
    "start_time": "2023-09-04T13:39:13.844Z"
   },
   {
    "duration": 11,
    "start_time": "2023-09-04T13:47:10.684Z"
   },
   {
    "duration": 182,
    "start_time": "2023-09-04T13:48:24.034Z"
   },
   {
    "duration": 272,
    "start_time": "2023-09-04T13:52:50.851Z"
   },
   {
    "duration": 205,
    "start_time": "2023-09-04T13:53:05.838Z"
   },
   {
    "duration": 203,
    "start_time": "2023-09-04T13:53:21.476Z"
   },
   {
    "duration": 209,
    "start_time": "2023-09-04T13:55:18.589Z"
   },
   {
    "duration": 214,
    "start_time": "2023-09-04T13:55:36.831Z"
   },
   {
    "duration": 4,
    "start_time": "2023-09-04T14:06:27.542Z"
   },
   {
    "duration": 10,
    "start_time": "2023-09-04T14:06:41.056Z"
   },
   {
    "duration": 14,
    "start_time": "2023-09-04T14:06:50.621Z"
   },
   {
    "duration": 222,
    "start_time": "2023-09-04T14:06:59.368Z"
   },
   {
    "duration": 104,
    "start_time": "2023-09-04T14:07:12.362Z"
   },
   {
    "duration": 7,
    "start_time": "2023-09-04T14:07:20.130Z"
   },
   {
    "duration": 15,
    "start_time": "2023-09-04T14:07:43.707Z"
   },
   {
    "duration": 10,
    "start_time": "2023-09-04T14:07:56.361Z"
   },
   {
    "duration": 9,
    "start_time": "2023-09-04T14:08:09.519Z"
   },
   {
    "duration": 18,
    "start_time": "2023-09-04T14:09:25.174Z"
   },
   {
    "duration": 158,
    "start_time": "2023-09-04T14:10:00.601Z"
   },
   {
    "duration": 16,
    "start_time": "2023-09-04T14:10:09.502Z"
   },
   {
    "duration": 150,
    "start_time": "2023-09-04T14:11:25.285Z"
   },
   {
    "duration": 169,
    "start_time": "2023-09-04T14:11:55.988Z"
   },
   {
    "duration": 256,
    "start_time": "2023-09-04T14:22:02.315Z"
   },
   {
    "duration": 211,
    "start_time": "2023-09-04T14:24:36.377Z"
   },
   {
    "duration": 213,
    "start_time": "2023-09-04T14:24:52.786Z"
   },
   {
    "duration": 213,
    "start_time": "2023-09-04T14:26:53.688Z"
   },
   {
    "duration": 222,
    "start_time": "2023-09-04T14:27:30.796Z"
   },
   {
    "duration": 255,
    "start_time": "2023-09-04T14:27:40.728Z"
   },
   {
    "duration": 110,
    "start_time": "2023-09-04T14:29:31.181Z"
   },
   {
    "duration": 91,
    "start_time": "2023-09-04T14:30:07.286Z"
   },
   {
    "duration": 89,
    "start_time": "2023-09-04T14:30:14.424Z"
   },
   {
    "duration": 88,
    "start_time": "2023-09-04T14:30:21.361Z"
   },
   {
    "duration": 115,
    "start_time": "2023-09-04T14:30:27.279Z"
   },
   {
    "duration": 97,
    "start_time": "2023-09-04T14:30:46.697Z"
   },
   {
    "duration": 104,
    "start_time": "2023-09-04T14:30:54.240Z"
   },
   {
    "duration": 113,
    "start_time": "2023-09-04T14:31:11.713Z"
   },
   {
    "duration": 165,
    "start_time": "2023-09-04T14:31:35.564Z"
   },
   {
    "duration": 223,
    "start_time": "2023-09-04T14:32:03.594Z"
   },
   {
    "duration": 206,
    "start_time": "2023-09-04T14:33:04.466Z"
   },
   {
    "duration": 3,
    "start_time": "2023-09-04T14:33:20.237Z"
   },
   {
    "duration": 60,
    "start_time": "2023-09-04T14:33:20.248Z"
   },
   {
    "duration": 14,
    "start_time": "2023-09-04T14:33:20.310Z"
   },
   {
    "duration": 13,
    "start_time": "2023-09-04T14:33:20.326Z"
   },
   {
    "duration": 166,
    "start_time": "2023-09-04T14:33:20.341Z"
   },
   {
    "duration": 28,
    "start_time": "2023-09-04T14:33:20.509Z"
   },
   {
    "duration": 86,
    "start_time": "2023-09-04T14:38:20.671Z"
   },
   {
    "duration": 11,
    "start_time": "2023-09-04T14:38:33.532Z"
   },
   {
    "duration": 9,
    "start_time": "2023-09-04T14:40:47.859Z"
   },
   {
    "duration": 79,
    "start_time": "2023-09-04T14:41:27.796Z"
   },
   {
    "duration": 9,
    "start_time": "2023-09-04T14:41:46.758Z"
   },
   {
    "duration": 10,
    "start_time": "2023-09-04T14:42:18.452Z"
   },
   {
    "duration": 3,
    "start_time": "2023-09-04T14:42:28.170Z"
   },
   {
    "duration": 78,
    "start_time": "2023-09-04T14:42:28.176Z"
   },
   {
    "duration": 13,
    "start_time": "2023-09-04T14:42:28.256Z"
   },
   {
    "duration": 32,
    "start_time": "2023-09-04T14:42:28.270Z"
   },
   {
    "duration": 163,
    "start_time": "2023-09-04T14:42:28.304Z"
   },
   {
    "duration": 26,
    "start_time": "2023-09-04T14:42:28.469Z"
   },
   {
    "duration": 10,
    "start_time": "2023-09-04T14:42:45.862Z"
   },
   {
    "duration": 3,
    "start_time": "2023-09-04T14:42:56.617Z"
   },
   {
    "duration": 75,
    "start_time": "2023-09-04T14:42:56.624Z"
   },
   {
    "duration": 14,
    "start_time": "2023-09-04T14:42:56.701Z"
   },
   {
    "duration": 11,
    "start_time": "2023-09-04T14:42:56.717Z"
   },
   {
    "duration": 186,
    "start_time": "2023-09-04T14:42:56.730Z"
   },
   {
    "duration": 39,
    "start_time": "2023-09-04T14:42:56.918Z"
   },
   {
    "duration": 70,
    "start_time": "2023-09-04T16:40:07.844Z"
   },
   {
    "duration": 77,
    "start_time": "2023-09-04T16:41:08.310Z"
   },
   {
    "duration": 65,
    "start_time": "2023-09-04T16:41:28.308Z"
   },
   {
    "duration": 4,
    "start_time": "2023-09-04T17:23:55.775Z"
   },
   {
    "duration": 14,
    "start_time": "2023-09-04T17:24:00.252Z"
   },
   {
    "duration": 4,
    "start_time": "2023-09-04T17:27:28.867Z"
   },
   {
    "duration": 91,
    "start_time": "2023-09-04T17:27:44.320Z"
   },
   {
    "duration": 4,
    "start_time": "2023-09-04T17:27:49.289Z"
   },
   {
    "duration": 9,
    "start_time": "2023-09-04T17:28:21.822Z"
   },
   {
    "duration": 8,
    "start_time": "2023-09-04T17:29:11.615Z"
   },
   {
    "duration": 11,
    "start_time": "2023-09-04T17:29:51.175Z"
   },
   {
    "duration": 11,
    "start_time": "2023-09-04T17:30:04.673Z"
   },
   {
    "duration": 8,
    "start_time": "2023-09-04T17:32:41.571Z"
   },
   {
    "duration": 10,
    "start_time": "2023-09-04T17:32:54.311Z"
   },
   {
    "duration": 13,
    "start_time": "2023-09-04T17:33:28.526Z"
   },
   {
    "duration": 14,
    "start_time": "2023-09-04T17:33:46.800Z"
   },
   {
    "duration": 7,
    "start_time": "2023-09-04T17:39:13.991Z"
   },
   {
    "duration": 11,
    "start_time": "2023-09-04T17:39:34.438Z"
   },
   {
    "duration": 9,
    "start_time": "2023-09-04T17:39:50.232Z"
   },
   {
    "duration": 10,
    "start_time": "2023-09-04T17:40:01.803Z"
   },
   {
    "duration": 10,
    "start_time": "2023-09-04T17:40:14.036Z"
   },
   {
    "duration": 9,
    "start_time": "2023-09-04T17:40:36.602Z"
   },
   {
    "duration": 3,
    "start_time": "2023-09-04T17:40:52.823Z"
   },
   {
    "duration": 85,
    "start_time": "2023-09-04T17:40:52.831Z"
   },
   {
    "duration": 132,
    "start_time": "2023-09-04T17:40:52.917Z"
   },
   {
    "duration": 8,
    "start_time": "2023-09-04T17:40:53.050Z"
   },
   {
    "duration": 22,
    "start_time": "2023-09-04T17:40:53.060Z"
   },
   {
    "duration": 15,
    "start_time": "2023-09-04T17:40:53.084Z"
   },
   {
    "duration": 30,
    "start_time": "2023-09-04T17:40:53.101Z"
   },
   {
    "duration": 56,
    "start_time": "2023-09-04T17:40:53.133Z"
   },
   {
    "duration": 29,
    "start_time": "2023-09-04T17:40:53.190Z"
   },
   {
    "duration": 22,
    "start_time": "2023-09-04T17:40:53.220Z"
   },
   {
    "duration": 183,
    "start_time": "2023-09-04T17:40:53.244Z"
   },
   {
    "duration": 32,
    "start_time": "2023-09-04T17:40:53.428Z"
   },
   {
    "duration": 3,
    "start_time": "2023-09-04T17:41:10.698Z"
   },
   {
    "duration": 63,
    "start_time": "2023-09-04T17:41:10.705Z"
   },
   {
    "duration": 13,
    "start_time": "2023-09-04T17:41:10.770Z"
   },
   {
    "duration": 7,
    "start_time": "2023-09-04T17:41:10.785Z"
   },
   {
    "duration": 12,
    "start_time": "2023-09-04T17:41:10.794Z"
   },
   {
    "duration": 7,
    "start_time": "2023-09-04T17:41:10.808Z"
   },
   {
    "duration": 10,
    "start_time": "2023-09-04T17:41:10.817Z"
   },
   {
    "duration": 34,
    "start_time": "2023-09-04T17:41:10.829Z"
   },
   {
    "duration": 15,
    "start_time": "2023-09-04T17:41:10.865Z"
   },
   {
    "duration": 13,
    "start_time": "2023-09-04T17:41:10.881Z"
   },
   {
    "duration": 168,
    "start_time": "2023-09-04T17:41:10.896Z"
   },
   {
    "duration": 30,
    "start_time": "2023-09-04T17:41:11.066Z"
   },
   {
    "duration": 4,
    "start_time": "2023-09-04T17:41:37.194Z"
   },
   {
    "duration": 89,
    "start_time": "2023-09-04T17:41:37.200Z"
   },
   {
    "duration": 15,
    "start_time": "2023-09-04T17:41:37.291Z"
   },
   {
    "duration": 3,
    "start_time": "2023-09-04T17:41:37.308Z"
   },
   {
    "duration": 11,
    "start_time": "2023-09-04T17:41:37.314Z"
   },
   {
    "duration": 37,
    "start_time": "2023-09-04T17:41:37.326Z"
   },
   {
    "duration": 8,
    "start_time": "2023-09-04T17:41:37.365Z"
   },
   {
    "duration": 8,
    "start_time": "2023-09-04T17:41:37.375Z"
   },
   {
    "duration": 10,
    "start_time": "2023-09-04T17:41:37.385Z"
   },
   {
    "duration": 12,
    "start_time": "2023-09-04T17:41:37.396Z"
   },
   {
    "duration": 196,
    "start_time": "2023-09-04T17:41:37.410Z"
   },
   {
    "duration": 28,
    "start_time": "2023-09-04T17:41:37.607Z"
   },
   {
    "duration": 9,
    "start_time": "2023-09-04T17:41:43.172Z"
   },
   {
    "duration": 11,
    "start_time": "2023-09-04T17:41:49.020Z"
   },
   {
    "duration": 4,
    "start_time": "2023-09-04T17:42:06.083Z"
   },
   {
    "duration": 73,
    "start_time": "2023-09-04T17:42:06.090Z"
   },
   {
    "duration": 13,
    "start_time": "2023-09-04T17:42:06.164Z"
   },
   {
    "duration": 7,
    "start_time": "2023-09-04T17:42:06.178Z"
   },
   {
    "duration": 24,
    "start_time": "2023-09-04T17:42:06.188Z"
   },
   {
    "duration": 11,
    "start_time": "2023-09-04T17:42:06.214Z"
   },
   {
    "duration": 9,
    "start_time": "2023-09-04T17:42:06.227Z"
   },
   {
    "duration": 23,
    "start_time": "2023-09-04T17:42:06.237Z"
   },
   {
    "duration": 12,
    "start_time": "2023-09-04T17:42:06.262Z"
   },
   {
    "duration": 19,
    "start_time": "2023-09-04T17:42:06.276Z"
   },
   {
    "duration": 165,
    "start_time": "2023-09-04T17:42:06.297Z"
   },
   {
    "duration": 34,
    "start_time": "2023-09-04T17:42:06.464Z"
   },
   {
    "duration": 8,
    "start_time": "2023-09-04T17:44:11.345Z"
   },
   {
    "duration": 10,
    "start_time": "2023-09-04T17:44:18.230Z"
   },
   {
    "duration": 3,
    "start_time": "2023-09-04T17:44:46.525Z"
   },
   {
    "duration": 110,
    "start_time": "2023-09-04T17:44:46.530Z"
   },
   {
    "duration": 15,
    "start_time": "2023-09-04T17:44:46.642Z"
   },
   {
    "duration": 3,
    "start_time": "2023-09-04T17:44:46.659Z"
   },
   {
    "duration": 11,
    "start_time": "2023-09-04T17:44:46.664Z"
   },
   {
    "duration": 3,
    "start_time": "2023-09-04T17:44:46.676Z"
   },
   {
    "duration": 6,
    "start_time": "2023-09-04T17:44:46.680Z"
   },
   {
    "duration": 4,
    "start_time": "2023-09-04T17:44:46.688Z"
   },
   {
    "duration": 5,
    "start_time": "2023-09-04T17:44:46.693Z"
   },
   {
    "duration": 6,
    "start_time": "2023-09-04T17:44:46.701Z"
   },
   {
    "duration": 191,
    "start_time": "2023-09-04T17:44:46.709Z"
   },
   {
    "duration": 28,
    "start_time": "2023-09-04T17:44:46.901Z"
   },
   {
    "duration": 2,
    "start_time": "2023-09-04T17:45:00.610Z"
   },
   {
    "duration": 4,
    "start_time": "2023-09-04T17:45:08.993Z"
   },
   {
    "duration": 15,
    "start_time": "2023-09-04T17:45:19.456Z"
   },
   {
    "duration": 3,
    "start_time": "2023-09-04T17:45:24.665Z"
   },
   {
    "duration": 13,
    "start_time": "2023-09-04T17:45:39.057Z"
   },
   {
    "duration": 8,
    "start_time": "2023-09-04T17:45:45.232Z"
   },
   {
    "duration": 161,
    "start_time": "2023-09-04T17:46:34.195Z"
   },
   {
    "duration": 1189,
    "start_time": "2023-09-04T17:49:12.601Z"
   },
   {
    "duration": 68,
    "start_time": "2023-09-04T17:49:14.586Z"
   },
   {
    "duration": 94,
    "start_time": "2023-09-04T17:49:18.477Z"
   },
   {
    "duration": 66,
    "start_time": "2023-09-04T17:49:42.472Z"
   },
   {
    "duration": 15,
    "start_time": "2023-09-04T17:49:46.514Z"
   },
   {
    "duration": 3,
    "start_time": "2023-09-04T17:49:54.438Z"
   },
   {
    "duration": 18,
    "start_time": "2023-09-04T17:49:57.927Z"
   },
   {
    "duration": 170,
    "start_time": "2023-09-04T17:50:06.769Z"
   },
   {
    "duration": 8,
    "start_time": "2023-09-04T17:50:12.126Z"
   },
   {
    "duration": 14,
    "start_time": "2023-09-04T17:50:15.401Z"
   },
   {
    "duration": 13,
    "start_time": "2023-09-04T17:50:18.277Z"
   },
   {
    "duration": 7,
    "start_time": "2023-09-04T17:50:46.385Z"
   },
   {
    "duration": 9,
    "start_time": "2023-09-04T17:50:49.430Z"
   },
   {
    "duration": 22,
    "start_time": "2023-09-04T18:03:20.080Z"
   },
   {
    "duration": 10,
    "start_time": "2023-09-04T18:03:37.211Z"
   },
   {
    "duration": 22,
    "start_time": "2023-09-04T18:03:47.306Z"
   },
   {
    "duration": 12,
    "start_time": "2023-09-04T18:04:07.877Z"
   },
   {
    "duration": 16,
    "start_time": "2023-09-04T18:05:10.041Z"
   },
   {
    "duration": 18,
    "start_time": "2023-09-04T18:05:19.884Z"
   },
   {
    "duration": 20,
    "start_time": "2023-09-04T18:06:23.023Z"
   },
   {
    "duration": 23,
    "start_time": "2023-09-04T18:06:38.194Z"
   },
   {
    "duration": 17,
    "start_time": "2023-09-04T18:06:56.680Z"
   },
   {
    "duration": 16,
    "start_time": "2023-09-04T18:07:03.488Z"
   },
   {
    "duration": 111,
    "start_time": "2023-09-04T18:25:16.550Z"
   },
   {
    "duration": 83,
    "start_time": "2023-09-04T18:25:29.577Z"
   },
   {
    "duration": 23,
    "start_time": "2023-09-04T18:25:35.425Z"
   },
   {
    "duration": 1431,
    "start_time": "2023-09-04T18:26:00.990Z"
   },
   {
    "duration": 6,
    "start_time": "2023-09-04T18:26:08.081Z"
   },
   {
    "duration": 3,
    "start_time": "2023-09-04T18:26:17.173Z"
   },
   {
    "duration": 66,
    "start_time": "2023-09-04T18:26:17.178Z"
   },
   {
    "duration": 16,
    "start_time": "2023-09-04T18:26:17.246Z"
   },
   {
    "duration": 14,
    "start_time": "2023-09-04T18:26:17.264Z"
   },
   {
    "duration": 3,
    "start_time": "2023-09-04T18:26:17.280Z"
   },
   {
    "duration": 15,
    "start_time": "2023-09-04T18:26:17.285Z"
   },
   {
    "duration": 198,
    "start_time": "2023-09-04T18:26:17.302Z"
   },
   {
    "duration": 9,
    "start_time": "2023-09-04T18:26:17.502Z"
   },
   {
    "duration": 23,
    "start_time": "2023-09-04T18:26:17.513Z"
   },
   {
    "duration": 25,
    "start_time": "2023-09-04T18:26:17.538Z"
   },
   {
    "duration": 9,
    "start_time": "2023-09-04T18:26:17.565Z"
   },
   {
    "duration": 11,
    "start_time": "2023-09-04T18:26:17.576Z"
   },
   {
    "duration": 26,
    "start_time": "2023-09-04T18:26:17.590Z"
   },
   {
    "duration": 4,
    "start_time": "2023-09-04T18:26:54.711Z"
   },
   {
    "duration": 5,
    "start_time": "2023-09-04T18:27:42.585Z"
   },
   {
    "duration": 16,
    "start_time": "2023-09-04T18:28:11.995Z"
   },
   {
    "duration": 8,
    "start_time": "2023-09-04T18:46:05.009Z"
   },
   {
    "duration": 8,
    "start_time": "2023-09-04T18:46:24.977Z"
   },
   {
    "duration": 5,
    "start_time": "2023-09-04T18:46:24.988Z"
   },
   {
    "duration": 43,
    "start_time": "2023-09-04T18:46:24.995Z"
   },
   {
    "duration": 11,
    "start_time": "2023-09-04T18:46:25.040Z"
   },
   {
    "duration": 37,
    "start_time": "2023-09-04T18:46:25.053Z"
   },
   {
    "duration": 3,
    "start_time": "2023-09-04T18:47:14.645Z"
   },
   {
    "duration": 63,
    "start_time": "2023-09-04T18:47:14.662Z"
   },
   {
    "duration": 15,
    "start_time": "2023-09-04T18:47:14.727Z"
   },
   {
    "duration": 17,
    "start_time": "2023-09-04T18:47:14.744Z"
   },
   {
    "duration": 5,
    "start_time": "2023-09-04T18:47:14.763Z"
   },
   {
    "duration": 16,
    "start_time": "2023-09-04T18:47:14.771Z"
   },
   {
    "duration": 190,
    "start_time": "2023-09-04T18:47:14.789Z"
   },
   {
    "duration": 8,
    "start_time": "2023-09-04T18:47:14.981Z"
   },
   {
    "duration": 19,
    "start_time": "2023-09-04T18:47:14.991Z"
   },
   {
    "duration": 59,
    "start_time": "2023-09-04T18:47:15.012Z"
   },
   {
    "duration": 21,
    "start_time": "2023-09-04T18:47:15.073Z"
   },
   {
    "duration": 20,
    "start_time": "2023-09-04T18:47:15.096Z"
   },
   {
    "duration": 28,
    "start_time": "2023-09-04T18:47:15.118Z"
   },
   {
    "duration": 11,
    "start_time": "2023-09-04T19:05:32.203Z"
   },
   {
    "duration": 5,
    "start_time": "2023-09-04T19:05:43.427Z"
   },
   {
    "duration": 11,
    "start_time": "2023-09-04T19:06:00.539Z"
   },
   {
    "duration": 7,
    "start_time": "2023-09-04T19:06:29.163Z"
   },
   {
    "duration": 28,
    "start_time": "2023-09-04T19:06:43.971Z"
   },
   {
    "duration": 22,
    "start_time": "2023-09-04T19:10:58.240Z"
   },
   {
    "duration": 17,
    "start_time": "2023-09-04T19:15:14.189Z"
   },
   {
    "duration": 3,
    "start_time": "2023-09-04T19:15:24.987Z"
   },
   {
    "duration": 80,
    "start_time": "2023-09-04T19:15:24.993Z"
   },
   {
    "duration": 15,
    "start_time": "2023-09-04T19:15:25.074Z"
   },
   {
    "duration": 21,
    "start_time": "2023-09-04T19:15:25.090Z"
   },
   {
    "duration": 5,
    "start_time": "2023-09-04T19:15:25.113Z"
   },
   {
    "duration": 37,
    "start_time": "2023-09-04T19:15:25.120Z"
   },
   {
    "duration": 164,
    "start_time": "2023-09-04T19:15:25.159Z"
   },
   {
    "duration": 8,
    "start_time": "2023-09-04T19:15:25.325Z"
   },
   {
    "duration": 30,
    "start_time": "2023-09-04T19:15:25.335Z"
   },
   {
    "duration": 14,
    "start_time": "2023-09-04T19:15:25.367Z"
   },
   {
    "duration": 21,
    "start_time": "2023-09-04T19:15:25.382Z"
   },
   {
    "duration": 15,
    "start_time": "2023-09-04T19:15:25.405Z"
   },
   {
    "duration": 12,
    "start_time": "2023-09-04T19:15:25.421Z"
   },
   {
    "duration": 20,
    "start_time": "2023-09-04T19:15:25.434Z"
   },
   {
    "duration": 23,
    "start_time": "2023-09-04T19:15:25.456Z"
   },
   {
    "duration": 41,
    "start_time": "2023-09-04T19:15:25.481Z"
   },
   {
    "duration": 11,
    "start_time": "2023-09-04T19:15:25.523Z"
   },
   {
    "duration": 6,
    "start_time": "2023-09-04T19:15:25.536Z"
   },
   {
    "duration": 7,
    "start_time": "2023-09-04T19:15:25.544Z"
   },
   {
    "duration": 8,
    "start_time": "2023-09-04T19:15:25.553Z"
   },
   {
    "duration": 25,
    "start_time": "2023-09-04T19:15:25.562Z"
   },
   {
    "duration": 5,
    "start_time": "2023-09-04T19:15:25.588Z"
   },
   {
    "duration": 17,
    "start_time": "2023-09-04T19:15:25.595Z"
   },
   {
    "duration": 44,
    "start_time": "2023-09-04T19:15:25.614Z"
   },
   {
    "duration": 25,
    "start_time": "2023-09-04T19:20:56.340Z"
   },
   {
    "duration": 455,
    "start_time": "2023-09-04T19:21:05.788Z"
   },
   {
    "duration": 469,
    "start_time": "2023-09-04T19:21:42.224Z"
   },
   {
    "duration": 378,
    "start_time": "2023-09-04T19:22:07.368Z"
   },
   {
    "duration": 13,
    "start_time": "2023-09-04T19:22:39.065Z"
   },
   {
    "duration": 9,
    "start_time": "2023-09-04T19:24:29.878Z"
   },
   {
    "duration": 60,
    "start_time": "2023-09-05T12:57:45.600Z"
   },
   {
    "duration": 1840,
    "start_time": "2023-09-05T12:57:51.471Z"
   },
   {
    "duration": 197,
    "start_time": "2023-09-05T12:57:53.325Z"
   },
   {
    "duration": 33,
    "start_time": "2023-09-05T12:57:53.524Z"
   },
   {
    "duration": 118,
    "start_time": "2023-09-05T12:57:53.560Z"
   },
   {
    "duration": 51,
    "start_time": "2023-09-05T12:57:53.682Z"
   },
   {
    "duration": 32,
    "start_time": "2023-09-05T12:57:53.735Z"
   },
   {
    "duration": 272,
    "start_time": "2023-09-05T12:57:53.769Z"
   },
   {
    "duration": 13,
    "start_time": "2023-09-05T12:57:54.043Z"
   },
   {
    "duration": 69,
    "start_time": "2023-09-05T12:57:54.058Z"
   },
   {
    "duration": 29,
    "start_time": "2023-09-05T12:57:54.135Z"
   },
   {
    "duration": 73,
    "start_time": "2023-09-05T12:57:54.167Z"
   },
   {
    "duration": 65,
    "start_time": "2023-09-05T12:57:54.242Z"
   },
   {
    "duration": 57,
    "start_time": "2023-09-05T12:57:54.311Z"
   },
   {
    "duration": 98,
    "start_time": "2023-09-05T12:57:54.372Z"
   },
   {
    "duration": 35,
    "start_time": "2023-09-05T12:57:54.471Z"
   },
   {
    "duration": 64,
    "start_time": "2023-09-05T12:57:54.508Z"
   },
   {
    "duration": 45,
    "start_time": "2023-09-05T12:57:54.573Z"
   },
   {
    "duration": 60,
    "start_time": "2023-09-05T12:57:54.622Z"
   },
   {
    "duration": 186,
    "start_time": "2023-09-05T12:57:54.689Z"
   },
   {
    "duration": 194,
    "start_time": "2023-09-05T12:57:54.877Z"
   },
   {
    "duration": 52,
    "start_time": "2023-09-05T12:57:55.073Z"
   },
   {
    "duration": 11,
    "start_time": "2023-09-05T12:57:55.127Z"
   },
   {
    "duration": 43,
    "start_time": "2023-09-05T12:57:55.140Z"
   },
   {
    "duration": 643,
    "start_time": "2023-09-05T12:57:55.186Z"
   },
   {
    "duration": 17,
    "start_time": "2023-09-05T12:57:55.831Z"
   },
   {
    "duration": 37,
    "start_time": "2023-09-05T12:57:55.849Z"
   },
   {
    "duration": 34,
    "start_time": "2023-09-05T12:57:55.888Z"
   },
   {
    "duration": 43,
    "start_time": "2023-09-05T12:57:55.926Z"
   },
   {
    "duration": 103,
    "start_time": "2023-09-05T12:59:59.879Z"
   },
   {
    "duration": 20,
    "start_time": "2023-09-05T13:00:08.494Z"
   },
   {
    "duration": 81,
    "start_time": "2023-09-05T13:02:15.735Z"
   },
   {
    "duration": 19,
    "start_time": "2023-09-05T13:02:27.534Z"
   },
   {
    "duration": 21,
    "start_time": "2023-09-05T13:05:42.021Z"
   },
   {
    "duration": 1472,
    "start_time": "2023-09-05T13:06:12.032Z"
   },
   {
    "duration": 1479,
    "start_time": "2023-09-05T13:19:10.272Z"
   },
   {
    "duration": 107,
    "start_time": "2023-09-05T13:19:11.754Z"
   },
   {
    "duration": 29,
    "start_time": "2023-09-05T13:19:11.863Z"
   },
   {
    "duration": 49,
    "start_time": "2023-09-05T13:19:11.893Z"
   },
   {
    "duration": 6,
    "start_time": "2023-09-05T13:19:11.944Z"
   },
   {
    "duration": 46,
    "start_time": "2023-09-05T13:19:11.952Z"
   },
   {
    "duration": 252,
    "start_time": "2023-09-05T13:19:12.004Z"
   },
   {
    "duration": 13,
    "start_time": "2023-09-05T13:19:12.258Z"
   },
   {
    "duration": 56,
    "start_time": "2023-09-05T13:19:12.274Z"
   },
   {
    "duration": 22,
    "start_time": "2023-09-05T13:19:12.332Z"
   },
   {
    "duration": 11,
    "start_time": "2023-09-05T13:19:12.357Z"
   },
   {
    "duration": 19,
    "start_time": "2023-09-05T13:19:12.370Z"
   },
   {
    "duration": 25,
    "start_time": "2023-09-05T13:19:12.390Z"
   },
   {
    "duration": 26,
    "start_time": "2023-09-05T13:19:12.423Z"
   },
   {
    "duration": 23,
    "start_time": "2023-09-05T13:19:12.451Z"
   },
   {
    "duration": 43,
    "start_time": "2023-09-05T13:19:12.475Z"
   },
   {
    "duration": 9,
    "start_time": "2023-09-05T13:19:12.520Z"
   },
   {
    "duration": 8,
    "start_time": "2023-09-05T13:19:12.531Z"
   },
   {
    "duration": 20,
    "start_time": "2023-09-05T13:19:12.541Z"
   },
   {
    "duration": 14,
    "start_time": "2023-09-05T13:19:12.563Z"
   },
   {
    "duration": 51,
    "start_time": "2023-09-05T13:19:12.580Z"
   },
   {
    "duration": 5,
    "start_time": "2023-09-05T13:19:12.633Z"
   },
   {
    "duration": 24,
    "start_time": "2023-09-05T13:19:12.640Z"
   },
   {
    "duration": 673,
    "start_time": "2023-09-05T13:19:12.665Z"
   },
   {
    "duration": 21,
    "start_time": "2023-09-05T13:19:13.340Z"
   },
   {
    "duration": 28,
    "start_time": "2023-09-05T13:19:13.363Z"
   },
   {
    "duration": 60,
    "start_time": "2023-09-05T13:19:13.392Z"
   },
   {
    "duration": 175,
    "start_time": "2023-09-05T13:19:13.454Z"
   },
   {
    "duration": 0,
    "start_time": "2023-09-05T13:19:13.631Z"
   },
   {
    "duration": 33,
    "start_time": "2023-09-05T13:20:26.737Z"
   },
   {
    "duration": 15,
    "start_time": "2023-09-05T13:20:55.818Z"
   },
   {
    "duration": 4,
    "start_time": "2023-09-05T13:21:14.409Z"
   },
   {
    "duration": 3,
    "start_time": "2023-09-05T13:21:41.050Z"
   },
   {
    "duration": 14,
    "start_time": "2023-09-05T13:21:50.700Z"
   },
   {
    "duration": 22,
    "start_time": "2023-09-05T13:22:06.979Z"
   },
   {
    "duration": 4,
    "start_time": "2023-09-05T13:23:31.938Z"
   },
   {
    "duration": 13,
    "start_time": "2023-09-05T13:23:51.516Z"
   },
   {
    "duration": 26,
    "start_time": "2023-09-05T13:24:05.721Z"
   },
   {
    "duration": 64,
    "start_time": "2023-09-05T13:26:26.606Z"
   },
   {
    "duration": 9,
    "start_time": "2023-09-05T13:26:30.538Z"
   },
   {
    "duration": 1499,
    "start_time": "2023-09-05T13:26:42.420Z"
   },
   {
    "duration": 91,
    "start_time": "2023-09-05T13:26:43.921Z"
   },
   {
    "duration": 29,
    "start_time": "2023-09-05T13:26:44.014Z"
   },
   {
    "duration": 35,
    "start_time": "2023-09-05T13:26:44.046Z"
   },
   {
    "duration": 4,
    "start_time": "2023-09-05T13:26:44.086Z"
   },
   {
    "duration": 38,
    "start_time": "2023-09-05T13:26:44.091Z"
   },
   {
    "duration": 260,
    "start_time": "2023-09-05T13:26:44.131Z"
   },
   {
    "duration": 12,
    "start_time": "2023-09-05T13:26:44.393Z"
   },
   {
    "duration": 19,
    "start_time": "2023-09-05T13:26:44.407Z"
   },
   {
    "duration": 28,
    "start_time": "2023-09-05T13:26:44.430Z"
   },
   {
    "duration": 26,
    "start_time": "2023-09-05T13:26:44.460Z"
   },
   {
    "duration": 16,
    "start_time": "2023-09-05T13:26:44.493Z"
   },
   {
    "duration": 6,
    "start_time": "2023-09-05T13:26:44.511Z"
   },
   {
    "duration": 34,
    "start_time": "2023-09-05T13:26:44.520Z"
   },
   {
    "duration": 22,
    "start_time": "2023-09-05T13:26:44.555Z"
   },
   {
    "duration": 40,
    "start_time": "2023-09-05T13:26:44.579Z"
   },
   {
    "duration": 8,
    "start_time": "2023-09-05T13:26:44.621Z"
   },
   {
    "duration": 10,
    "start_time": "2023-09-05T13:26:44.632Z"
   },
   {
    "duration": 14,
    "start_time": "2023-09-05T13:26:44.645Z"
   },
   {
    "duration": 22,
    "start_time": "2023-09-05T13:26:44.661Z"
   },
   {
    "duration": 44,
    "start_time": "2023-09-05T13:26:44.686Z"
   },
   {
    "duration": 6,
    "start_time": "2023-09-05T13:26:44.732Z"
   },
   {
    "duration": 22,
    "start_time": "2023-09-05T13:26:44.740Z"
   },
   {
    "duration": 694,
    "start_time": "2023-09-05T13:26:44.764Z"
   },
   {
    "duration": 30,
    "start_time": "2023-09-05T13:26:45.460Z"
   },
   {
    "duration": 18,
    "start_time": "2023-09-05T13:26:45.496Z"
   },
   {
    "duration": 16,
    "start_time": "2023-09-05T13:26:45.516Z"
   },
   {
    "duration": 108,
    "start_time": "2023-09-05T13:26:45.537Z"
   },
   {
    "duration": 0,
    "start_time": "2023-09-05T13:26:45.649Z"
   },
   {
    "duration": 0,
    "start_time": "2023-09-05T13:26:45.651Z"
   },
   {
    "duration": 12,
    "start_time": "2023-09-05T13:26:56.502Z"
   },
   {
    "duration": 95,
    "start_time": "2023-09-05T13:26:56.516Z"
   },
   {
    "duration": 25,
    "start_time": "2023-09-05T13:26:56.615Z"
   },
   {
    "duration": 23,
    "start_time": "2023-09-05T13:26:56.642Z"
   },
   {
    "duration": 12,
    "start_time": "2023-09-05T13:26:56.674Z"
   },
   {
    "duration": 31,
    "start_time": "2023-09-05T13:26:56.688Z"
   },
   {
    "duration": 263,
    "start_time": "2023-09-05T13:26:56.721Z"
   },
   {
    "duration": 11,
    "start_time": "2023-09-05T13:26:56.986Z"
   },
   {
    "duration": 20,
    "start_time": "2023-09-05T13:26:56.998Z"
   },
   {
    "duration": 18,
    "start_time": "2023-09-05T13:26:57.020Z"
   },
   {
    "duration": 9,
    "start_time": "2023-09-05T13:26:57.041Z"
   },
   {
    "duration": 39,
    "start_time": "2023-09-05T13:26:57.052Z"
   },
   {
    "duration": 4,
    "start_time": "2023-09-05T13:26:57.101Z"
   },
   {
    "duration": 37,
    "start_time": "2023-09-05T13:26:57.107Z"
   },
   {
    "duration": 7,
    "start_time": "2023-09-05T13:26:57.148Z"
   },
   {
    "duration": 95,
    "start_time": "2023-09-05T13:26:57.158Z"
   },
   {
    "duration": 8,
    "start_time": "2023-09-05T13:26:57.265Z"
   },
   {
    "duration": 122,
    "start_time": "2023-09-05T13:26:57.275Z"
   },
   {
    "duration": 31,
    "start_time": "2023-09-05T13:26:57.399Z"
   },
   {
    "duration": 7,
    "start_time": "2023-09-05T13:26:57.432Z"
   },
   {
    "duration": 47,
    "start_time": "2023-09-05T13:26:57.441Z"
   },
   {
    "duration": 6,
    "start_time": "2023-09-05T13:26:57.490Z"
   },
   {
    "duration": 52,
    "start_time": "2023-09-05T13:26:57.498Z"
   },
   {
    "duration": 650,
    "start_time": "2023-09-05T13:26:57.553Z"
   },
   {
    "duration": 22,
    "start_time": "2023-09-05T13:26:58.205Z"
   },
   {
    "duration": 17,
    "start_time": "2023-09-05T13:26:58.229Z"
   },
   {
    "duration": 46,
    "start_time": "2023-09-05T13:26:58.249Z"
   },
   {
    "duration": 69,
    "start_time": "2023-09-05T13:28:22.369Z"
   },
   {
    "duration": 12,
    "start_time": "2023-09-05T13:28:29.015Z"
   },
   {
    "duration": 1396,
    "start_time": "2023-09-05T15:53:41.575Z"
   },
   {
    "duration": 131,
    "start_time": "2023-09-05T15:53:42.973Z"
   },
   {
    "duration": 22,
    "start_time": "2023-09-05T15:53:43.106Z"
   },
   {
    "duration": 18,
    "start_time": "2023-09-05T15:53:43.139Z"
   },
   {
    "duration": 3,
    "start_time": "2023-09-05T15:53:43.159Z"
   },
   {
    "duration": 14,
    "start_time": "2023-09-05T15:53:43.164Z"
   },
   {
    "duration": 82,
    "start_time": "2023-09-05T15:53:43.179Z"
   },
   {
    "duration": 0,
    "start_time": "2023-09-05T15:53:43.264Z"
   },
   {
    "duration": 0,
    "start_time": "2023-09-05T15:53:43.265Z"
   },
   {
    "duration": 0,
    "start_time": "2023-09-05T15:53:43.267Z"
   },
   {
    "duration": 0,
    "start_time": "2023-09-05T15:53:43.268Z"
   },
   {
    "duration": 0,
    "start_time": "2023-09-05T15:53:43.269Z"
   },
   {
    "duration": 0,
    "start_time": "2023-09-05T15:53:43.270Z"
   },
   {
    "duration": 0,
    "start_time": "2023-09-05T15:53:43.272Z"
   },
   {
    "duration": 0,
    "start_time": "2023-09-05T15:53:43.273Z"
   },
   {
    "duration": 0,
    "start_time": "2023-09-05T15:53:43.275Z"
   },
   {
    "duration": 0,
    "start_time": "2023-09-05T15:53:43.276Z"
   },
   {
    "duration": 0,
    "start_time": "2023-09-05T15:53:43.277Z"
   },
   {
    "duration": 0,
    "start_time": "2023-09-05T15:53:43.279Z"
   },
   {
    "duration": 0,
    "start_time": "2023-09-05T15:53:43.280Z"
   },
   {
    "duration": 0,
    "start_time": "2023-09-05T15:53:43.281Z"
   },
   {
    "duration": 0,
    "start_time": "2023-09-05T15:53:43.283Z"
   },
   {
    "duration": 0,
    "start_time": "2023-09-05T15:53:43.284Z"
   },
   {
    "duration": 0,
    "start_time": "2023-09-05T15:53:43.285Z"
   },
   {
    "duration": 0,
    "start_time": "2023-09-05T15:53:43.286Z"
   },
   {
    "duration": 0,
    "start_time": "2023-09-05T15:53:43.288Z"
   },
   {
    "duration": 0,
    "start_time": "2023-09-05T15:53:43.289Z"
   },
   {
    "duration": 1,
    "start_time": "2023-09-05T15:53:43.290Z"
   },
   {
    "duration": 0,
    "start_time": "2023-09-05T15:53:43.291Z"
   },
   {
    "duration": 319,
    "start_time": "2023-09-05T15:54:44.417Z"
   },
   {
    "duration": 310,
    "start_time": "2023-09-05T15:55:12.235Z"
   },
   {
    "duration": 70,
    "start_time": "2023-09-05T15:55:30.958Z"
   },
   {
    "duration": 192,
    "start_time": "2023-09-05T15:55:59.290Z"
   },
   {
    "duration": 353,
    "start_time": "2023-09-05T16:05:12.067Z"
   },
   {
    "duration": 217,
    "start_time": "2023-09-05T16:05:51.185Z"
   },
   {
    "duration": 64,
    "start_time": "2023-09-05T16:23:27.273Z"
   },
   {
    "duration": 1483,
    "start_time": "2023-09-05T16:23:35.118Z"
   },
   {
    "duration": 107,
    "start_time": "2023-09-05T16:23:36.603Z"
   },
   {
    "duration": 22,
    "start_time": "2023-09-05T16:23:36.712Z"
   },
   {
    "duration": 31,
    "start_time": "2023-09-05T16:23:36.738Z"
   },
   {
    "duration": 5,
    "start_time": "2023-09-05T16:23:36.771Z"
   },
   {
    "duration": 14,
    "start_time": "2023-09-05T16:23:36.778Z"
   },
   {
    "duration": 225,
    "start_time": "2023-09-05T16:23:36.794Z"
   },
   {
    "duration": 16,
    "start_time": "2023-09-05T16:23:37.021Z"
   },
   {
    "duration": 140,
    "start_time": "2023-09-05T16:23:37.040Z"
   },
   {
    "duration": 31,
    "start_time": "2023-09-05T16:23:37.183Z"
   },
   {
    "duration": 77,
    "start_time": "2023-09-05T16:23:37.216Z"
   },
   {
    "duration": 111,
    "start_time": "2023-09-05T16:23:37.295Z"
   },
   {
    "duration": 37,
    "start_time": "2023-09-05T16:23:37.408Z"
   },
   {
    "duration": 61,
    "start_time": "2023-09-05T16:23:37.449Z"
   },
   {
    "duration": 11,
    "start_time": "2023-09-05T16:23:37.512Z"
   },
   {
    "duration": 47,
    "start_time": "2023-09-05T16:23:37.533Z"
   },
   {
    "duration": 22,
    "start_time": "2023-09-05T16:23:37.583Z"
   },
   {
    "duration": 6,
    "start_time": "2023-09-05T16:23:37.606Z"
   },
   {
    "duration": 9,
    "start_time": "2023-09-05T16:23:37.613Z"
   },
   {
    "duration": 21,
    "start_time": "2023-09-05T16:23:37.630Z"
   },
   {
    "duration": 25,
    "start_time": "2023-09-05T16:23:37.652Z"
   },
   {
    "duration": 6,
    "start_time": "2023-09-05T16:23:37.678Z"
   },
   {
    "duration": 61,
    "start_time": "2023-09-05T16:23:37.686Z"
   },
   {
    "duration": 565,
    "start_time": "2023-09-05T16:23:37.752Z"
   },
   {
    "duration": 35,
    "start_time": "2023-09-05T16:23:38.319Z"
   },
   {
    "duration": 98,
    "start_time": "2023-09-05T16:23:38.357Z"
   },
   {
    "duration": 56,
    "start_time": "2023-09-05T16:23:38.458Z"
   },
   {
    "duration": 50,
    "start_time": "2023-09-05T16:35:24.359Z"
   },
   {
    "duration": 1369,
    "start_time": "2023-09-05T16:35:50.919Z"
   },
   {
    "duration": 84,
    "start_time": "2023-09-05T16:35:52.290Z"
   },
   {
    "duration": 4,
    "start_time": "2023-09-05T16:36:01.560Z"
   },
   {
    "duration": 127,
    "start_time": "2023-09-05T16:36:01.569Z"
   },
   {
    "duration": 19,
    "start_time": "2023-09-05T16:36:01.698Z"
   },
   {
    "duration": 71,
    "start_time": "2023-09-05T16:36:01.725Z"
   },
   {
    "duration": 10,
    "start_time": "2023-09-05T16:36:01.798Z"
   },
   {
    "duration": 152,
    "start_time": "2023-09-05T16:36:01.809Z"
   },
   {
    "duration": 276,
    "start_time": "2023-09-05T16:36:01.964Z"
   },
   {
    "duration": 13,
    "start_time": "2023-09-05T16:36:02.249Z"
   },
   {
    "duration": 31,
    "start_time": "2023-09-05T16:36:02.264Z"
   },
   {
    "duration": 45,
    "start_time": "2023-09-05T16:36:02.296Z"
   },
   {
    "duration": 16,
    "start_time": "2023-09-05T16:36:02.348Z"
   },
   {
    "duration": 26,
    "start_time": "2023-09-05T16:36:02.366Z"
   },
   {
    "duration": 12,
    "start_time": "2023-09-05T16:36:02.393Z"
   },
   {
    "duration": 55,
    "start_time": "2023-09-05T16:36:02.407Z"
   },
   {
    "duration": 5,
    "start_time": "2023-09-05T16:36:02.464Z"
   },
   {
    "duration": 46,
    "start_time": "2023-09-05T16:36:02.471Z"
   },
   {
    "duration": 8,
    "start_time": "2023-09-05T16:36:02.519Z"
   },
   {
    "duration": 17,
    "start_time": "2023-09-05T16:36:02.528Z"
   },
   {
    "duration": 16,
    "start_time": "2023-09-05T16:36:02.554Z"
   },
   {
    "duration": 25,
    "start_time": "2023-09-05T16:36:02.572Z"
   },
   {
    "duration": 52,
    "start_time": "2023-09-05T16:36:02.598Z"
   },
   {
    "duration": 7,
    "start_time": "2023-09-05T16:36:02.653Z"
   },
   {
    "duration": 24,
    "start_time": "2023-09-05T16:36:02.661Z"
   },
   {
    "duration": 601,
    "start_time": "2023-09-05T16:36:02.687Z"
   },
   {
    "duration": 13,
    "start_time": "2023-09-05T16:36:03.289Z"
   },
   {
    "duration": 53,
    "start_time": "2023-09-05T16:36:03.304Z"
   },
   {
    "duration": 34,
    "start_time": "2023-09-05T16:36:03.360Z"
   },
   {
    "duration": 0,
    "start_time": "2023-09-05T16:41:42.078Z"
   },
   {
    "duration": 0,
    "start_time": "2023-09-05T16:41:42.078Z"
   },
   {
    "duration": 0,
    "start_time": "2023-09-05T16:41:42.080Z"
   },
   {
    "duration": 0,
    "start_time": "2023-09-05T16:41:42.137Z"
   },
   {
    "duration": 0,
    "start_time": "2023-09-05T16:41:42.138Z"
   },
   {
    "duration": 0,
    "start_time": "2023-09-05T16:41:42.139Z"
   },
   {
    "duration": 0,
    "start_time": "2023-09-05T16:41:42.139Z"
   },
   {
    "duration": 0,
    "start_time": "2023-09-05T16:41:42.141Z"
   },
   {
    "duration": 0,
    "start_time": "2023-09-05T16:41:42.141Z"
   },
   {
    "duration": 0,
    "start_time": "2023-09-05T16:41:42.142Z"
   },
   {
    "duration": 0,
    "start_time": "2023-09-05T16:41:42.153Z"
   },
   {
    "duration": 0,
    "start_time": "2023-09-05T16:41:42.154Z"
   },
   {
    "duration": 0,
    "start_time": "2023-09-05T16:41:42.155Z"
   },
   {
    "duration": 0,
    "start_time": "2023-09-05T16:41:42.156Z"
   },
   {
    "duration": 0,
    "start_time": "2023-09-05T16:41:42.159Z"
   },
   {
    "duration": 0,
    "start_time": "2023-09-05T16:41:42.160Z"
   },
   {
    "duration": 0,
    "start_time": "2023-09-05T16:41:42.161Z"
   },
   {
    "duration": 0,
    "start_time": "2023-09-05T16:41:42.163Z"
   },
   {
    "duration": 0,
    "start_time": "2023-09-05T16:41:42.164Z"
   },
   {
    "duration": 0,
    "start_time": "2023-09-05T16:41:42.165Z"
   },
   {
    "duration": 0,
    "start_time": "2023-09-05T16:41:42.166Z"
   },
   {
    "duration": 0,
    "start_time": "2023-09-05T16:41:42.167Z"
   },
   {
    "duration": 0,
    "start_time": "2023-09-05T16:41:42.168Z"
   },
   {
    "duration": 0,
    "start_time": "2023-09-05T16:41:42.169Z"
   },
   {
    "duration": 0,
    "start_time": "2023-09-05T16:41:42.170Z"
   },
   {
    "duration": 0,
    "start_time": "2023-09-05T16:41:42.171Z"
   },
   {
    "duration": 0,
    "start_time": "2023-09-05T16:41:42.172Z"
   },
   {
    "duration": 0,
    "start_time": "2023-09-05T16:41:42.173Z"
   },
   {
    "duration": 0,
    "start_time": "2023-09-05T16:41:42.175Z"
   },
   {
    "duration": 0,
    "start_time": "2023-09-05T16:41:42.177Z"
   },
   {
    "duration": 470,
    "start_time": "2023-09-05T17:04:18.466Z"
   },
   {
    "duration": 4,
    "start_time": "2023-09-05T17:04:51.933Z"
   },
   {
    "duration": 1272,
    "start_time": "2023-09-05T17:06:52.964Z"
   },
   {
    "duration": 69,
    "start_time": "2023-09-05T17:06:54.240Z"
   },
   {
    "duration": 21,
    "start_time": "2023-09-05T17:06:54.311Z"
   },
   {
    "duration": 20,
    "start_time": "2023-09-05T17:06:54.346Z"
   },
   {
    "duration": 3,
    "start_time": "2023-09-05T17:06:54.368Z"
   },
   {
    "duration": 22,
    "start_time": "2023-09-05T17:06:54.372Z"
   },
   {
    "duration": 200,
    "start_time": "2023-09-05T17:06:54.396Z"
   },
   {
    "duration": 8,
    "start_time": "2023-09-05T17:06:54.598Z"
   },
   {
    "duration": 42,
    "start_time": "2023-09-05T17:06:54.608Z"
   },
   {
    "duration": 19,
    "start_time": "2023-09-05T17:06:54.656Z"
   },
   {
    "duration": 29,
    "start_time": "2023-09-05T17:06:54.677Z"
   },
   {
    "duration": 11,
    "start_time": "2023-09-05T17:06:54.708Z"
   },
   {
    "duration": 8,
    "start_time": "2023-09-05T17:06:54.721Z"
   },
   {
    "duration": 24,
    "start_time": "2023-09-05T17:06:54.732Z"
   },
   {
    "duration": 7,
    "start_time": "2023-09-05T17:06:54.758Z"
   },
   {
    "duration": 21,
    "start_time": "2023-09-05T17:06:54.767Z"
   },
   {
    "duration": 6,
    "start_time": "2023-09-05T17:06:54.789Z"
   },
   {
    "duration": 6,
    "start_time": "2023-09-05T17:06:54.796Z"
   },
   {
    "duration": 29,
    "start_time": "2023-09-05T17:06:54.803Z"
   },
   {
    "duration": 8,
    "start_time": "2023-09-05T17:06:54.834Z"
   },
   {
    "duration": 27,
    "start_time": "2023-09-05T17:06:54.844Z"
   },
   {
    "duration": 5,
    "start_time": "2023-09-05T17:06:54.872Z"
   },
   {
    "duration": 25,
    "start_time": "2023-09-05T17:06:54.879Z"
   },
   {
    "duration": 564,
    "start_time": "2023-09-05T17:06:54.926Z"
   },
   {
    "duration": 13,
    "start_time": "2023-09-05T17:06:55.491Z"
   },
   {
    "duration": 39,
    "start_time": "2023-09-05T17:06:55.505Z"
   },
   {
    "duration": 17,
    "start_time": "2023-09-05T17:06:55.547Z"
   },
   {
    "duration": 58,
    "start_time": "2023-09-05T17:15:06.139Z"
   },
   {
    "duration": 1239,
    "start_time": "2023-09-05T17:15:17.240Z"
   },
   {
    "duration": 65,
    "start_time": "2023-09-05T17:15:18.844Z"
   },
   {
    "duration": 5,
    "start_time": "2023-09-05T17:15:30.354Z"
   },
   {
    "duration": 104,
    "start_time": "2023-09-05T17:15:30.360Z"
   },
   {
    "duration": 18,
    "start_time": "2023-09-05T17:15:30.465Z"
   },
   {
    "duration": 56,
    "start_time": "2023-09-05T17:15:30.485Z"
   },
   {
    "duration": 10,
    "start_time": "2023-09-05T17:15:30.544Z"
   },
   {
    "duration": 37,
    "start_time": "2023-09-05T17:15:30.556Z"
   },
   {
    "duration": 245,
    "start_time": "2023-09-05T17:15:30.594Z"
   },
   {
    "duration": 9,
    "start_time": "2023-09-05T17:15:30.842Z"
   },
   {
    "duration": 43,
    "start_time": "2023-09-05T17:15:30.852Z"
   },
   {
    "duration": 65,
    "start_time": "2023-09-05T17:15:30.897Z"
   },
   {
    "duration": 22,
    "start_time": "2023-09-05T17:15:30.964Z"
   },
   {
    "duration": 57,
    "start_time": "2023-09-05T17:15:30.988Z"
   },
   {
    "duration": 26,
    "start_time": "2023-09-05T17:15:31.048Z"
   },
   {
    "duration": 60,
    "start_time": "2023-09-05T17:15:31.076Z"
   },
   {
    "duration": 29,
    "start_time": "2023-09-05T17:15:31.139Z"
   },
   {
    "duration": 114,
    "start_time": "2023-09-05T17:15:31.170Z"
   },
   {
    "duration": 83,
    "start_time": "2023-09-05T17:15:31.286Z"
   },
   {
    "duration": 69,
    "start_time": "2023-09-05T17:15:31.371Z"
   },
   {
    "duration": 52,
    "start_time": "2023-09-05T17:15:31.441Z"
   },
   {
    "duration": 74,
    "start_time": "2023-09-05T17:15:31.494Z"
   },
   {
    "duration": 67,
    "start_time": "2023-09-05T17:15:31.570Z"
   },
   {
    "duration": 18,
    "start_time": "2023-09-05T17:15:31.640Z"
   },
   {
    "duration": 32,
    "start_time": "2023-09-05T17:15:31.660Z"
   },
   {
    "duration": 581,
    "start_time": "2023-09-05T17:15:31.694Z"
   },
   {
    "duration": 21,
    "start_time": "2023-09-05T17:15:32.277Z"
   },
   {
    "duration": 93,
    "start_time": "2023-09-05T17:15:32.300Z"
   },
   {
    "duration": 158,
    "start_time": "2023-09-05T17:15:32.396Z"
   },
   {
    "duration": 154,
    "start_time": "2023-09-05T17:37:15.893Z"
   },
   {
    "duration": 2229,
    "start_time": "2023-09-05T17:37:24.538Z"
   },
   {
    "duration": 188,
    "start_time": "2023-09-05T17:37:26.769Z"
   },
   {
    "duration": 73,
    "start_time": "2023-09-05T17:37:26.959Z"
   },
   {
    "duration": 26,
    "start_time": "2023-09-05T17:37:27.036Z"
   },
   {
    "duration": 72,
    "start_time": "2023-09-05T17:37:27.064Z"
   },
   {
    "duration": 28,
    "start_time": "2023-09-05T17:37:27.143Z"
   },
   {
    "duration": 498,
    "start_time": "2023-09-05T17:37:27.173Z"
   },
   {
    "duration": 25,
    "start_time": "2023-09-05T17:37:27.724Z"
   },
   {
    "duration": 21,
    "start_time": "2023-09-05T17:37:27.751Z"
   },
   {
    "duration": 20,
    "start_time": "2023-09-05T17:37:27.832Z"
   },
   {
    "duration": 11,
    "start_time": "2023-09-05T17:37:27.855Z"
   },
   {
    "duration": 75,
    "start_time": "2023-09-05T17:37:27.868Z"
   },
   {
    "duration": 5,
    "start_time": "2023-09-05T17:37:27.946Z"
   },
   {
    "duration": 87,
    "start_time": "2023-09-05T17:37:27.953Z"
   },
   {
    "duration": 8,
    "start_time": "2023-09-05T17:37:28.043Z"
   },
   {
    "duration": 94,
    "start_time": "2023-09-05T17:37:28.053Z"
   },
   {
    "duration": 9,
    "start_time": "2023-09-05T17:37:28.149Z"
   },
   {
    "duration": 7,
    "start_time": "2023-09-05T17:37:28.160Z"
   },
   {
    "duration": 18,
    "start_time": "2023-09-05T17:37:28.229Z"
   },
   {
    "duration": 7,
    "start_time": "2023-09-05T17:37:28.250Z"
   },
   {
    "duration": 102,
    "start_time": "2023-09-05T17:37:28.259Z"
   },
   {
    "duration": 5,
    "start_time": "2023-09-05T17:37:28.364Z"
   },
   {
    "duration": 79,
    "start_time": "2023-09-05T17:37:28.371Z"
   },
   {
    "duration": 1310,
    "start_time": "2023-09-05T17:37:28.453Z"
   },
   {
    "duration": 15,
    "start_time": "2023-09-05T17:37:29.824Z"
   },
   {
    "duration": 11,
    "start_time": "2023-09-05T17:37:29.841Z"
   },
   {
    "duration": 89,
    "start_time": "2023-09-05T17:37:29.853Z"
   },
   {
    "duration": 1093,
    "start_time": "2023-09-05T17:37:29.947Z"
   },
   {
    "duration": 37,
    "start_time": "2023-09-05T17:38:49.507Z"
   },
   {
    "duration": 3,
    "start_time": "2023-09-05T17:40:53.300Z"
   },
   {
    "duration": 3,
    "start_time": "2023-09-05T17:41:08.940Z"
   },
   {
    "duration": 18,
    "start_time": "2023-09-05T17:41:08.945Z"
   },
   {
    "duration": 85,
    "start_time": "2023-09-05T17:41:08.964Z"
   },
   {
    "duration": 12,
    "start_time": "2023-09-05T17:41:09.051Z"
   },
   {
    "duration": 27,
    "start_time": "2023-09-05T17:41:09.065Z"
   },
   {
    "duration": 9,
    "start_time": "2023-09-05T17:41:09.094Z"
   },
   {
    "duration": 38,
    "start_time": "2023-09-05T17:41:09.104Z"
   },
   {
    "duration": 230,
    "start_time": "2023-09-05T17:41:09.145Z"
   },
   {
    "duration": 9,
    "start_time": "2023-09-05T17:41:09.378Z"
   },
   {
    "duration": 44,
    "start_time": "2023-09-05T17:41:09.388Z"
   },
   {
    "duration": 13,
    "start_time": "2023-09-05T17:41:09.441Z"
   },
   {
    "duration": 16,
    "start_time": "2023-09-05T17:41:09.456Z"
   },
   {
    "duration": 21,
    "start_time": "2023-09-05T17:41:09.474Z"
   },
   {
    "duration": 19,
    "start_time": "2023-09-05T17:41:09.497Z"
   },
   {
    "duration": 33,
    "start_time": "2023-09-05T17:41:09.518Z"
   },
   {
    "duration": 19,
    "start_time": "2023-09-05T17:41:09.553Z"
   },
   {
    "duration": 43,
    "start_time": "2023-09-05T17:41:09.574Z"
   },
   {
    "duration": 11,
    "start_time": "2023-09-05T17:41:09.619Z"
   },
   {
    "duration": 32,
    "start_time": "2023-09-05T17:41:09.632Z"
   },
   {
    "duration": 13,
    "start_time": "2023-09-05T17:41:09.665Z"
   },
   {
    "duration": 40,
    "start_time": "2023-09-05T17:41:09.679Z"
   },
   {
    "duration": 40,
    "start_time": "2023-09-05T17:41:09.721Z"
   },
   {
    "duration": 5,
    "start_time": "2023-09-05T17:41:09.762Z"
   },
   {
    "duration": 27,
    "start_time": "2023-09-05T17:41:09.769Z"
   },
   {
    "duration": 557,
    "start_time": "2023-09-05T17:41:09.797Z"
   },
   {
    "duration": 20,
    "start_time": "2023-09-05T17:41:10.356Z"
   },
   {
    "duration": 16,
    "start_time": "2023-09-05T17:41:10.378Z"
   },
   {
    "duration": 48,
    "start_time": "2023-09-05T17:41:10.396Z"
   },
   {
    "duration": 14,
    "start_time": "2023-09-05T17:41:10.445Z"
   },
   {
    "duration": 543,
    "start_time": "2023-09-05T17:41:10.461Z"
   },
   {
    "duration": 25,
    "start_time": "2023-09-05T17:41:56.064Z"
   },
   {
    "duration": 5,
    "start_time": "2023-09-05T17:41:59.881Z"
   },
   {
    "duration": 16,
    "start_time": "2023-09-05T17:42:02.351Z"
   },
   {
    "duration": 25,
    "start_time": "2023-09-05T17:42:10.912Z"
   },
   {
    "duration": 23,
    "start_time": "2023-09-05T17:42:16.332Z"
   },
   {
    "duration": 537,
    "start_time": "2023-09-05T17:42:23.314Z"
   },
   {
    "duration": 363,
    "start_time": "2023-09-05T17:43:35.356Z"
   },
   {
    "duration": 514,
    "start_time": "2023-09-05T17:43:45.741Z"
   },
   {
    "duration": 30,
    "start_time": "2023-09-05T18:05:53.922Z"
   },
   {
    "duration": 19,
    "start_time": "2023-09-05T18:06:18.515Z"
   },
   {
    "duration": 21,
    "start_time": "2023-09-05T18:06:39.055Z"
   },
   {
    "duration": 33,
    "start_time": "2023-09-05T18:06:56.250Z"
   },
   {
    "duration": 15,
    "start_time": "2023-09-05T18:07:27.066Z"
   },
   {
    "duration": 421,
    "start_time": "2023-09-05T18:08:12.864Z"
   },
   {
    "duration": 598,
    "start_time": "2023-09-05T18:08:50.950Z"
   },
   {
    "duration": 38,
    "start_time": "2023-09-05T18:09:25.021Z"
   },
   {
    "duration": 85,
    "start_time": "2023-09-05T18:09:44.191Z"
   },
   {
    "duration": 525,
    "start_time": "2023-09-05T18:10:03.575Z"
   },
   {
    "duration": 31,
    "start_time": "2023-09-05T19:20:40.213Z"
   },
   {
    "duration": 18,
    "start_time": "2023-09-05T19:21:18.540Z"
   },
   {
    "duration": 8,
    "start_time": "2023-09-05T19:21:43.669Z"
   },
   {
    "duration": 15,
    "start_time": "2023-09-05T19:31:01.042Z"
   },
   {
    "duration": 17,
    "start_time": "2023-09-05T19:31:09.486Z"
   },
   {
    "duration": 17,
    "start_time": "2023-09-05T19:31:25.304Z"
   },
   {
    "duration": 19,
    "start_time": "2023-09-05T19:34:05.813Z"
   },
   {
    "duration": 16,
    "start_time": "2023-09-05T19:34:15.335Z"
   },
   {
    "duration": 1048,
    "start_time": "2023-09-05T19:35:34.425Z"
   },
   {
    "duration": 326,
    "start_time": "2023-09-05T19:36:18.673Z"
   },
   {
    "duration": 409,
    "start_time": "2023-09-05T19:36:26.099Z"
   },
   {
    "duration": 17,
    "start_time": "2023-09-05T19:36:56.358Z"
   },
   {
    "duration": 319,
    "start_time": "2023-09-05T19:37:01.861Z"
   },
   {
    "duration": 16,
    "start_time": "2023-09-05T19:38:35.563Z"
   },
   {
    "duration": 17,
    "start_time": "2023-09-05T19:40:11.936Z"
   },
   {
    "duration": 18,
    "start_time": "2023-09-05T19:40:24.464Z"
   },
   {
    "duration": 16,
    "start_time": "2023-09-05T19:40:49.762Z"
   },
   {
    "duration": 402,
    "start_time": "2023-09-05T19:41:18.660Z"
   },
   {
    "duration": 70,
    "start_time": "2023-09-06T07:05:54.254Z"
   },
   {
    "duration": 61,
    "start_time": "2023-09-06T07:06:04.462Z"
   },
   {
    "duration": 53,
    "start_time": "2023-09-06T07:06:16.407Z"
   },
   {
    "duration": 1413,
    "start_time": "2023-09-06T07:06:27.858Z"
   },
   {
    "duration": 3,
    "start_time": "2023-09-06T07:06:29.273Z"
   },
   {
    "duration": 124,
    "start_time": "2023-09-06T07:06:29.278Z"
   },
   {
    "duration": 24,
    "start_time": "2023-09-06T07:06:29.404Z"
   },
   {
    "duration": 41,
    "start_time": "2023-09-06T07:06:29.430Z"
   },
   {
    "duration": 3,
    "start_time": "2023-09-06T07:06:29.473Z"
   },
   {
    "duration": 15,
    "start_time": "2023-09-06T07:06:29.478Z"
   },
   {
    "duration": 197,
    "start_time": "2023-09-06T07:06:29.495Z"
   },
   {
    "duration": 16,
    "start_time": "2023-09-06T07:06:29.694Z"
   },
   {
    "duration": 23,
    "start_time": "2023-09-06T07:06:29.712Z"
   },
   {
    "duration": 14,
    "start_time": "2023-09-06T07:06:29.737Z"
   },
   {
    "duration": 12,
    "start_time": "2023-09-06T07:06:29.753Z"
   },
   {
    "duration": 9,
    "start_time": "2023-09-06T07:06:29.767Z"
   },
   {
    "duration": 13,
    "start_time": "2023-09-06T07:06:29.779Z"
   },
   {
    "duration": 16,
    "start_time": "2023-09-06T07:06:29.813Z"
   },
   {
    "duration": 7,
    "start_time": "2023-09-06T07:06:29.832Z"
   },
   {
    "duration": 25,
    "start_time": "2023-09-06T07:06:29.841Z"
   },
   {
    "duration": 7,
    "start_time": "2023-09-06T07:06:29.868Z"
   },
   {
    "duration": 6,
    "start_time": "2023-09-06T07:06:29.877Z"
   },
   {
    "duration": 14,
    "start_time": "2023-09-06T07:06:29.909Z"
   },
   {
    "duration": 7,
    "start_time": "2023-09-06T07:06:29.925Z"
   },
   {
    "duration": 29,
    "start_time": "2023-09-06T07:06:29.933Z"
   },
   {
    "duration": 5,
    "start_time": "2023-09-06T07:06:29.964Z"
   },
   {
    "duration": 43,
    "start_time": "2023-09-06T07:06:29.970Z"
   },
   {
    "duration": 534,
    "start_time": "2023-09-06T07:06:30.015Z"
   },
   {
    "duration": 14,
    "start_time": "2023-09-06T07:06:30.551Z"
   },
   {
    "duration": 62,
    "start_time": "2023-09-06T07:06:30.567Z"
   },
   {
    "duration": 49,
    "start_time": "2023-09-06T07:06:30.631Z"
   },
   {
    "duration": 81,
    "start_time": "2023-09-06T07:06:30.682Z"
   },
   {
    "duration": 432,
    "start_time": "2023-09-06T07:06:30.765Z"
   },
   {
    "duration": 21,
    "start_time": "2023-09-06T07:06:31.199Z"
   },
   {
    "duration": 370,
    "start_time": "2023-09-06T07:06:31.223Z"
   },
   {
    "duration": 34,
    "start_time": "2023-09-06T07:06:31.595Z"
   },
   {
    "duration": 645,
    "start_time": "2023-09-06T07:06:31.631Z"
   },
   {
    "duration": 252,
    "start_time": "2023-09-06T07:07:11.722Z"
   },
   {
    "duration": 270,
    "start_time": "2023-09-06T07:07:32.566Z"
   },
   {
    "duration": 268,
    "start_time": "2023-09-06T07:07:53.071Z"
   },
   {
    "duration": 265,
    "start_time": "2023-09-06T07:08:20.524Z"
   },
   {
    "duration": 343,
    "start_time": "2023-09-06T07:08:27.182Z"
   },
   {
    "duration": 269,
    "start_time": "2023-09-06T07:08:48.426Z"
   },
   {
    "duration": 297,
    "start_time": "2023-09-06T07:09:00.945Z"
   },
   {
    "duration": 276,
    "start_time": "2023-09-06T07:09:06.196Z"
   },
   {
    "duration": 290,
    "start_time": "2023-09-06T07:18:18.358Z"
   },
   {
    "duration": 73,
    "start_time": "2023-09-06T07:31:35.708Z"
   },
   {
    "duration": 1355,
    "start_time": "2023-09-06T07:32:50.725Z"
   },
   {
    "duration": 3,
    "start_time": "2023-09-06T07:32:52.082Z"
   },
   {
    "duration": 120,
    "start_time": "2023-09-06T07:32:52.087Z"
   },
   {
    "duration": 17,
    "start_time": "2023-09-06T07:32:52.210Z"
   },
   {
    "duration": 33,
    "start_time": "2023-09-06T07:32:52.228Z"
   },
   {
    "duration": 21,
    "start_time": "2023-09-06T07:32:52.263Z"
   },
   {
    "duration": 18,
    "start_time": "2023-09-06T07:32:52.286Z"
   },
   {
    "duration": 287,
    "start_time": "2023-09-06T07:32:52.306Z"
   },
   {
    "duration": 28,
    "start_time": "2023-09-06T07:32:52.595Z"
   },
   {
    "duration": 17,
    "start_time": "2023-09-06T07:32:52.632Z"
   },
   {
    "duration": 23,
    "start_time": "2023-09-06T07:32:52.651Z"
   },
   {
    "duration": 75,
    "start_time": "2023-09-06T07:32:52.676Z"
   },
   {
    "duration": 32,
    "start_time": "2023-09-06T07:32:52.754Z"
   },
   {
    "duration": 8,
    "start_time": "2023-09-06T07:32:52.789Z"
   },
   {
    "duration": 27,
    "start_time": "2023-09-06T07:32:52.799Z"
   },
   {
    "duration": 7,
    "start_time": "2023-09-06T07:32:52.828Z"
   },
   {
    "duration": 20,
    "start_time": "2023-09-06T07:32:52.836Z"
   },
   {
    "duration": 7,
    "start_time": "2023-09-06T07:32:52.857Z"
   },
   {
    "duration": 12,
    "start_time": "2023-09-06T07:32:52.866Z"
   },
   {
    "duration": 8,
    "start_time": "2023-09-06T07:32:52.879Z"
   },
   {
    "duration": 14,
    "start_time": "2023-09-06T07:32:52.911Z"
   },
   {
    "duration": 33,
    "start_time": "2023-09-06T07:32:52.927Z"
   },
   {
    "duration": 6,
    "start_time": "2023-09-06T07:32:52.962Z"
   },
   {
    "duration": 31,
    "start_time": "2023-09-06T07:32:52.970Z"
   },
   {
    "duration": 568,
    "start_time": "2023-09-06T07:32:53.003Z"
   },
   {
    "duration": 20,
    "start_time": "2023-09-06T07:32:53.573Z"
   },
   {
    "duration": 17,
    "start_time": "2023-09-06T07:32:53.615Z"
   },
   {
    "duration": 25,
    "start_time": "2023-09-06T07:32:53.636Z"
   },
   {
    "duration": 16,
    "start_time": "2023-09-06T07:32:53.663Z"
   },
   {
    "duration": 412,
    "start_time": "2023-09-06T07:32:53.681Z"
   },
   {
    "duration": 23,
    "start_time": "2023-09-06T07:32:54.096Z"
   },
   {
    "duration": 358,
    "start_time": "2023-09-06T07:32:54.127Z"
   },
   {
    "duration": 35,
    "start_time": "2023-09-06T07:32:54.487Z"
   },
   {
    "duration": 339,
    "start_time": "2023-09-06T07:32:54.524Z"
   },
   {
    "duration": 62,
    "start_time": "2023-09-06T07:51:13.390Z"
   },
   {
    "duration": 1387,
    "start_time": "2023-09-06T07:51:20.596Z"
   },
   {
    "duration": 4,
    "start_time": "2023-09-06T07:51:21.985Z"
   },
   {
    "duration": 167,
    "start_time": "2023-09-06T07:51:21.991Z"
   },
   {
    "duration": 13,
    "start_time": "2023-09-06T07:51:22.160Z"
   },
   {
    "duration": 21,
    "start_time": "2023-09-06T07:51:22.175Z"
   },
   {
    "duration": 23,
    "start_time": "2023-09-06T07:51:22.198Z"
   },
   {
    "duration": 18,
    "start_time": "2023-09-06T07:51:22.223Z"
   },
   {
    "duration": 225,
    "start_time": "2023-09-06T07:51:22.243Z"
   },
   {
    "duration": 11,
    "start_time": "2023-09-06T07:51:22.471Z"
   },
   {
    "duration": 46,
    "start_time": "2023-09-06T07:51:22.485Z"
   },
   {
    "duration": 18,
    "start_time": "2023-09-06T07:51:22.533Z"
   },
   {
    "duration": 25,
    "start_time": "2023-09-06T07:51:22.554Z"
   },
   {
    "duration": 17,
    "start_time": "2023-09-06T07:51:22.581Z"
   },
   {
    "duration": 24,
    "start_time": "2023-09-06T07:51:22.602Z"
   },
   {
    "duration": 22,
    "start_time": "2023-09-06T07:51:22.631Z"
   },
   {
    "duration": 8,
    "start_time": "2023-09-06T07:51:22.657Z"
   },
   {
    "duration": 32,
    "start_time": "2023-09-06T07:51:22.667Z"
   },
   {
    "duration": 18,
    "start_time": "2023-09-06T07:51:22.702Z"
   },
   {
    "duration": 23,
    "start_time": "2023-09-06T07:51:22.721Z"
   },
   {
    "duration": 27,
    "start_time": "2023-09-06T07:51:22.749Z"
   },
   {
    "duration": 13,
    "start_time": "2023-09-06T07:51:22.778Z"
   },
   {
    "duration": 47,
    "start_time": "2023-09-06T07:51:22.794Z"
   },
   {
    "duration": 6,
    "start_time": "2023-09-06T07:51:22.845Z"
   },
   {
    "duration": 30,
    "start_time": "2023-09-06T07:51:22.854Z"
   },
   {
    "duration": 600,
    "start_time": "2023-09-06T07:51:22.886Z"
   },
   {
    "duration": 37,
    "start_time": "2023-09-06T07:51:23.488Z"
   },
   {
    "duration": 12,
    "start_time": "2023-09-06T07:51:23.531Z"
   },
   {
    "duration": 27,
    "start_time": "2023-09-06T07:51:23.545Z"
   },
   {
    "duration": 14,
    "start_time": "2023-09-06T07:51:23.574Z"
   },
   {
    "duration": 419,
    "start_time": "2023-09-06T07:51:23.590Z"
   },
   {
    "duration": 18,
    "start_time": "2023-09-06T07:51:24.011Z"
   },
   {
    "duration": 372,
    "start_time": "2023-09-06T07:51:24.031Z"
   },
   {
    "duration": 28,
    "start_time": "2023-09-06T07:51:24.405Z"
   },
   {
    "duration": 345,
    "start_time": "2023-09-06T07:51:24.435Z"
   },
   {
    "duration": 2031,
    "start_time": "2023-09-06T07:55:38.982Z"
   },
   {
    "duration": 5,
    "start_time": "2023-09-06T07:55:41.020Z"
   },
   {
    "duration": 105,
    "start_time": "2023-09-06T07:55:41.032Z"
   },
   {
    "duration": 29,
    "start_time": "2023-09-06T07:55:41.144Z"
   },
   {
    "duration": 21,
    "start_time": "2023-09-06T07:55:41.176Z"
   },
   {
    "duration": 8,
    "start_time": "2023-09-06T07:55:41.199Z"
   },
   {
    "duration": 23,
    "start_time": "2023-09-06T07:55:41.213Z"
   },
   {
    "duration": 256,
    "start_time": "2023-09-06T07:55:41.237Z"
   },
   {
    "duration": 23,
    "start_time": "2023-09-06T07:55:41.495Z"
   },
   {
    "duration": 22,
    "start_time": "2023-09-06T07:55:41.521Z"
   },
   {
    "duration": 30,
    "start_time": "2023-09-06T07:55:41.546Z"
   },
   {
    "duration": 12,
    "start_time": "2023-09-06T07:55:41.578Z"
   },
   {
    "duration": 32,
    "start_time": "2023-09-06T07:55:41.593Z"
   },
   {
    "duration": 7,
    "start_time": "2023-09-06T07:55:41.634Z"
   },
   {
    "duration": 32,
    "start_time": "2023-09-06T07:55:41.645Z"
   },
   {
    "duration": 8,
    "start_time": "2023-09-06T07:55:41.682Z"
   },
   {
    "duration": 45,
    "start_time": "2023-09-06T07:55:41.692Z"
   },
   {
    "duration": 17,
    "start_time": "2023-09-06T07:55:41.740Z"
   },
   {
    "duration": 8,
    "start_time": "2023-09-06T07:55:41.763Z"
   },
   {
    "duration": 11,
    "start_time": "2023-09-06T07:55:41.774Z"
   },
   {
    "duration": 6,
    "start_time": "2023-09-06T07:55:41.787Z"
   },
   {
    "duration": 53,
    "start_time": "2023-09-06T07:55:41.795Z"
   },
   {
    "duration": 20,
    "start_time": "2023-09-06T07:55:41.851Z"
   },
   {
    "duration": 24,
    "start_time": "2023-09-06T07:55:41.873Z"
   },
   {
    "duration": 979,
    "start_time": "2023-09-06T07:55:41.899Z"
   },
   {
    "duration": 31,
    "start_time": "2023-09-06T07:55:42.880Z"
   },
   {
    "duration": 22,
    "start_time": "2023-09-06T07:55:42.923Z"
   },
   {
    "duration": 26,
    "start_time": "2023-09-06T07:55:42.948Z"
   },
   {
    "duration": 23,
    "start_time": "2023-09-06T07:55:42.976Z"
   },
   {
    "duration": 623,
    "start_time": "2023-09-06T07:55:43.001Z"
   },
   {
    "duration": 21,
    "start_time": "2023-09-06T07:55:43.629Z"
   },
   {
    "duration": 581,
    "start_time": "2023-09-06T07:55:43.657Z"
   },
   {
    "duration": 32,
    "start_time": "2023-09-06T07:55:44.245Z"
   },
   {
    "duration": 537,
    "start_time": "2023-09-06T07:55:44.279Z"
   },
   {
    "duration": 1395,
    "start_time": "2023-09-06T07:57:40.762Z"
   },
   {
    "duration": 2,
    "start_time": "2023-09-06T07:57:42.161Z"
   },
   {
    "duration": 112,
    "start_time": "2023-09-06T07:57:42.165Z"
   },
   {
    "duration": 14,
    "start_time": "2023-09-06T07:57:42.279Z"
   },
   {
    "duration": 47,
    "start_time": "2023-09-06T07:57:42.296Z"
   },
   {
    "duration": 4,
    "start_time": "2023-09-06T07:57:42.345Z"
   },
   {
    "duration": 22,
    "start_time": "2023-09-06T07:57:42.351Z"
   },
   {
    "duration": 302,
    "start_time": "2023-09-06T07:57:42.374Z"
   },
   {
    "duration": 11,
    "start_time": "2023-09-06T07:57:42.678Z"
   },
   {
    "duration": 43,
    "start_time": "2023-09-06T07:57:42.691Z"
   },
   {
    "duration": 23,
    "start_time": "2023-09-06T07:57:42.736Z"
   },
   {
    "duration": 14,
    "start_time": "2023-09-06T07:57:42.761Z"
   },
   {
    "duration": 12,
    "start_time": "2023-09-06T07:57:42.777Z"
   },
   {
    "duration": 21,
    "start_time": "2023-09-06T07:57:42.793Z"
   },
   {
    "duration": 53,
    "start_time": "2023-09-06T07:57:42.816Z"
   },
   {
    "duration": 7,
    "start_time": "2023-09-06T07:57:42.874Z"
   },
   {
    "duration": 24,
    "start_time": "2023-09-06T07:57:42.883Z"
   },
   {
    "duration": 15,
    "start_time": "2023-09-06T07:57:42.909Z"
   },
   {
    "duration": 6,
    "start_time": "2023-09-06T07:57:42.926Z"
   },
   {
    "duration": 16,
    "start_time": "2023-09-06T07:57:42.934Z"
   },
   {
    "duration": 11,
    "start_time": "2023-09-06T07:57:42.956Z"
   },
   {
    "duration": 64,
    "start_time": "2023-09-06T07:57:42.969Z"
   },
   {
    "duration": 22,
    "start_time": "2023-09-06T07:57:43.040Z"
   },
   {
    "duration": 18,
    "start_time": "2023-09-06T07:57:43.065Z"
   },
   {
    "duration": 694,
    "start_time": "2023-09-06T07:57:43.085Z"
   },
   {
    "duration": 14,
    "start_time": "2023-09-06T07:57:43.781Z"
   },
   {
    "duration": 53,
    "start_time": "2023-09-06T07:57:43.796Z"
   },
   {
    "duration": 19,
    "start_time": "2023-09-06T07:57:43.852Z"
   },
   {
    "duration": 97,
    "start_time": "2023-09-06T07:57:43.872Z"
   },
   {
    "duration": 506,
    "start_time": "2023-09-06T07:57:43.971Z"
   },
   {
    "duration": 11,
    "start_time": "2023-09-06T07:57:44.480Z"
   },
   {
    "duration": 515,
    "start_time": "2023-09-06T07:57:44.493Z"
   },
   {
    "duration": 44,
    "start_time": "2023-09-06T07:57:45.016Z"
   },
   {
    "duration": 467,
    "start_time": "2023-09-06T07:57:45.062Z"
   },
   {
    "duration": 1542,
    "start_time": "2023-09-06T07:59:23.566Z"
   },
   {
    "duration": 8,
    "start_time": "2023-09-06T07:59:25.124Z"
   },
   {
    "duration": 159,
    "start_time": "2023-09-06T07:59:25.134Z"
   },
   {
    "duration": 34,
    "start_time": "2023-09-06T07:59:25.296Z"
   },
   {
    "duration": 48,
    "start_time": "2023-09-06T07:59:25.337Z"
   },
   {
    "duration": 19,
    "start_time": "2023-09-06T07:59:25.388Z"
   },
   {
    "duration": 66,
    "start_time": "2023-09-06T07:59:25.416Z"
   },
   {
    "duration": 293,
    "start_time": "2023-09-06T07:59:25.485Z"
   },
   {
    "duration": 9,
    "start_time": "2023-09-06T07:59:25.780Z"
   },
   {
    "duration": 39,
    "start_time": "2023-09-06T07:59:25.791Z"
   },
   {
    "duration": 38,
    "start_time": "2023-09-06T07:59:25.832Z"
   },
   {
    "duration": 9,
    "start_time": "2023-09-06T07:59:25.872Z"
   },
   {
    "duration": 23,
    "start_time": "2023-09-06T07:59:25.884Z"
   },
   {
    "duration": 14,
    "start_time": "2023-09-06T07:59:25.915Z"
   },
   {
    "duration": 41,
    "start_time": "2023-09-06T07:59:25.933Z"
   },
   {
    "duration": 7,
    "start_time": "2023-09-06T07:59:25.979Z"
   },
   {
    "duration": 55,
    "start_time": "2023-09-06T07:59:25.988Z"
   },
   {
    "duration": 31,
    "start_time": "2023-09-06T07:59:26.050Z"
   },
   {
    "duration": 34,
    "start_time": "2023-09-06T07:59:26.083Z"
   },
   {
    "duration": 34,
    "start_time": "2023-09-06T07:59:26.119Z"
   },
   {
    "duration": 22,
    "start_time": "2023-09-06T07:59:26.155Z"
   },
   {
    "duration": 63,
    "start_time": "2023-09-06T07:59:26.180Z"
   },
   {
    "duration": 7,
    "start_time": "2023-09-06T07:59:26.244Z"
   },
   {
    "duration": 45,
    "start_time": "2023-09-06T07:59:26.257Z"
   },
   {
    "duration": 817,
    "start_time": "2023-09-06T07:59:26.304Z"
   },
   {
    "duration": 27,
    "start_time": "2023-09-06T07:59:27.123Z"
   },
   {
    "duration": 20,
    "start_time": "2023-09-06T07:59:27.152Z"
   },
   {
    "duration": 55,
    "start_time": "2023-09-06T07:59:27.174Z"
   },
   {
    "duration": 36,
    "start_time": "2023-09-06T07:59:27.232Z"
   },
   {
    "duration": 480,
    "start_time": "2023-09-06T07:59:27.271Z"
   },
   {
    "duration": 12,
    "start_time": "2023-09-06T07:59:27.752Z"
   },
   {
    "duration": 470,
    "start_time": "2023-09-06T07:59:27.765Z"
   },
   {
    "duration": 27,
    "start_time": "2023-09-06T07:59:28.237Z"
   },
   {
    "duration": 429,
    "start_time": "2023-09-06T07:59:28.267Z"
   },
   {
    "duration": 95,
    "start_time": "2023-09-06T08:17:11.174Z"
   },
   {
    "duration": 134,
    "start_time": "2023-09-06T08:20:09.951Z"
   },
   {
    "duration": 50,
    "start_time": "2023-09-06T08:20:36.725Z"
   },
   {
    "duration": 1342,
    "start_time": "2023-09-06T08:20:50.332Z"
   },
   {
    "duration": 3,
    "start_time": "2023-09-06T08:20:51.677Z"
   },
   {
    "duration": 127,
    "start_time": "2023-09-06T08:20:51.682Z"
   },
   {
    "duration": 18,
    "start_time": "2023-09-06T08:20:51.812Z"
   },
   {
    "duration": 31,
    "start_time": "2023-09-06T08:20:51.833Z"
   },
   {
    "duration": 4,
    "start_time": "2023-09-06T08:20:51.866Z"
   },
   {
    "duration": 22,
    "start_time": "2023-09-06T08:20:51.872Z"
   },
   {
    "duration": 273,
    "start_time": "2023-09-06T08:20:51.910Z"
   },
   {
    "duration": 14,
    "start_time": "2023-09-06T08:20:52.186Z"
   },
   {
    "duration": 30,
    "start_time": "2023-09-06T08:20:52.215Z"
   },
   {
    "duration": 39,
    "start_time": "2023-09-06T08:20:52.247Z"
   },
   {
    "duration": 22,
    "start_time": "2023-09-06T08:20:52.287Z"
   },
   {
    "duration": 27,
    "start_time": "2023-09-06T08:20:52.320Z"
   },
   {
    "duration": 25,
    "start_time": "2023-09-06T08:20:52.349Z"
   },
   {
    "duration": 52,
    "start_time": "2023-09-06T08:20:52.377Z"
   },
   {
    "duration": 10,
    "start_time": "2023-09-06T08:20:52.434Z"
   },
   {
    "duration": 60,
    "start_time": "2023-09-06T08:20:52.446Z"
   },
   {
    "duration": 10,
    "start_time": "2023-09-06T08:20:52.508Z"
   },
   {
    "duration": 33,
    "start_time": "2023-09-06T08:20:52.522Z"
   },
   {
    "duration": 22,
    "start_time": "2023-09-06T08:20:52.558Z"
   },
   {
    "duration": 5,
    "start_time": "2023-09-06T08:20:52.583Z"
   },
   {
    "duration": 45,
    "start_time": "2023-09-06T08:20:52.591Z"
   },
   {
    "duration": 6,
    "start_time": "2023-09-06T08:20:52.638Z"
   },
   {
    "duration": 26,
    "start_time": "2023-09-06T08:20:52.646Z"
   },
   {
    "duration": 758,
    "start_time": "2023-09-06T08:20:52.674Z"
   },
   {
    "duration": 14,
    "start_time": "2023-09-06T08:20:53.435Z"
   },
   {
    "duration": 16,
    "start_time": "2023-09-06T08:20:53.451Z"
   },
   {
    "duration": 47,
    "start_time": "2023-09-06T08:20:53.470Z"
   },
   {
    "duration": 19,
    "start_time": "2023-09-06T08:20:53.520Z"
   },
   {
    "duration": 507,
    "start_time": "2023-09-06T08:20:53.540Z"
   },
   {
    "duration": 9,
    "start_time": "2023-09-06T08:20:54.049Z"
   },
   {
    "duration": 117,
    "start_time": "2023-09-06T08:20:54.060Z"
   },
   {
    "duration": 0,
    "start_time": "2023-09-06T08:20:54.180Z"
   },
   {
    "duration": 0,
    "start_time": "2023-09-06T08:20:54.181Z"
   },
   {
    "duration": 0,
    "start_time": "2023-09-06T08:20:54.183Z"
   },
   {
    "duration": 0,
    "start_time": "2023-09-06T08:20:54.184Z"
   },
   {
    "duration": 18,
    "start_time": "2023-09-06T08:21:45.961Z"
   },
   {
    "duration": 1171,
    "start_time": "2023-09-06T08:22:21.980Z"
   },
   {
    "duration": 189,
    "start_time": "2023-09-06T08:22:38.865Z"
   },
   {
    "duration": 186,
    "start_time": "2023-09-06T08:22:58.072Z"
   },
   {
    "duration": 451,
    "start_time": "2023-09-06T08:23:15.232Z"
   },
   {
    "duration": 489,
    "start_time": "2023-09-06T08:23:34.235Z"
   },
   {
    "duration": 577,
    "start_time": "2023-09-06T08:23:55.041Z"
   },
   {
    "duration": 481,
    "start_time": "2023-09-06T08:24:03.476Z"
   },
   {
    "duration": 132,
    "start_time": "2023-09-06T08:26:31.768Z"
   },
   {
    "duration": 531,
    "start_time": "2023-09-06T08:26:46.382Z"
   },
   {
    "duration": 3,
    "start_time": "2023-09-06T08:27:04.858Z"
   },
   {
    "duration": 452,
    "start_time": "2023-09-06T08:27:20.563Z"
   },
   {
    "duration": 201,
    "start_time": "2023-09-06T08:27:45.483Z"
   },
   {
    "duration": 213,
    "start_time": "2023-09-06T08:55:08.188Z"
   },
   {
    "duration": 636,
    "start_time": "2023-09-06T08:55:32.460Z"
   },
   {
    "duration": 36,
    "start_time": "2023-09-06T08:55:41.252Z"
   },
   {
    "duration": 219,
    "start_time": "2023-09-06T08:56:27.886Z"
   },
   {
    "duration": 560,
    "start_time": "2023-09-06T08:57:14.165Z"
   },
   {
    "duration": 595,
    "start_time": "2023-09-06T09:03:10.060Z"
   },
   {
    "duration": 563,
    "start_time": "2023-09-06T09:04:57.406Z"
   },
   {
    "duration": 670,
    "start_time": "2023-09-06T09:05:48.171Z"
   },
   {
    "duration": 15,
    "start_time": "2023-09-06T09:07:11.292Z"
   },
   {
    "duration": 30,
    "start_time": "2023-09-06T09:07:20.007Z"
   },
   {
    "duration": 514,
    "start_time": "2023-09-06T09:07:22.686Z"
   },
   {
    "duration": 1610,
    "start_time": "2023-09-06T09:14:54.185Z"
   },
   {
    "duration": 4,
    "start_time": "2023-09-06T09:14:55.797Z"
   },
   {
    "duration": 86,
    "start_time": "2023-09-06T09:14:55.810Z"
   },
   {
    "duration": 14,
    "start_time": "2023-09-06T09:14:55.899Z"
   },
   {
    "duration": 20,
    "start_time": "2023-09-06T09:14:55.914Z"
   },
   {
    "duration": 7,
    "start_time": "2023-09-06T09:14:55.937Z"
   },
   {
    "duration": 29,
    "start_time": "2023-09-06T09:14:55.946Z"
   },
   {
    "duration": 307,
    "start_time": "2023-09-06T09:14:55.978Z"
   },
   {
    "duration": 26,
    "start_time": "2023-09-06T09:14:56.287Z"
   },
   {
    "duration": 20,
    "start_time": "2023-09-06T09:14:56.318Z"
   },
   {
    "duration": 23,
    "start_time": "2023-09-06T09:14:56.340Z"
   },
   {
    "duration": 13,
    "start_time": "2023-09-06T09:14:56.366Z"
   },
   {
    "duration": 42,
    "start_time": "2023-09-06T09:14:56.382Z"
   },
   {
    "duration": 5,
    "start_time": "2023-09-06T09:14:56.426Z"
   },
   {
    "duration": 27,
    "start_time": "2023-09-06T09:14:56.433Z"
   },
   {
    "duration": 20,
    "start_time": "2023-09-06T09:14:56.463Z"
   },
   {
    "duration": 53,
    "start_time": "2023-09-06T09:14:56.488Z"
   },
   {
    "duration": 9,
    "start_time": "2023-09-06T09:14:56.544Z"
   },
   {
    "duration": 5,
    "start_time": "2023-09-06T09:14:56.556Z"
   },
   {
    "duration": 13,
    "start_time": "2023-09-06T09:14:56.563Z"
   },
   {
    "duration": 35,
    "start_time": "2023-09-06T09:14:56.579Z"
   },
   {
    "duration": 47,
    "start_time": "2023-09-06T09:14:56.617Z"
   },
   {
    "duration": 7,
    "start_time": "2023-09-06T09:14:56.667Z"
   },
   {
    "duration": 49,
    "start_time": "2023-09-06T09:14:56.676Z"
   },
   {
    "duration": 833,
    "start_time": "2023-09-06T09:14:56.727Z"
   },
   {
    "duration": 23,
    "start_time": "2023-09-06T09:14:57.562Z"
   },
   {
    "duration": 32,
    "start_time": "2023-09-06T09:14:57.588Z"
   },
   {
    "duration": 29,
    "start_time": "2023-09-06T09:14:57.626Z"
   },
   {
    "duration": 23,
    "start_time": "2023-09-06T09:14:57.657Z"
   },
   {
    "duration": 582,
    "start_time": "2023-09-06T09:14:57.710Z"
   },
   {
    "duration": 19,
    "start_time": "2023-09-06T09:14:58.295Z"
   },
   {
    "duration": 572,
    "start_time": "2023-09-06T09:14:58.317Z"
   },
   {
    "duration": 515,
    "start_time": "2023-09-06T09:14:58.892Z"
   },
   {
    "duration": 36,
    "start_time": "2023-09-06T09:14:59.410Z"
   },
   {
    "duration": 578,
    "start_time": "2023-09-06T09:14:59.449Z"
   },
   {
    "duration": 1403,
    "start_time": "2023-09-06T09:18:57.559Z"
   },
   {
    "duration": 3,
    "start_time": "2023-09-06T09:18:58.964Z"
   },
   {
    "duration": 130,
    "start_time": "2023-09-06T09:18:58.969Z"
   },
   {
    "duration": 25,
    "start_time": "2023-09-06T09:18:59.102Z"
   },
   {
    "duration": 30,
    "start_time": "2023-09-06T09:18:59.129Z"
   },
   {
    "duration": 3,
    "start_time": "2023-09-06T09:18:59.162Z"
   },
   {
    "duration": 36,
    "start_time": "2023-09-06T09:18:59.167Z"
   },
   {
    "duration": 278,
    "start_time": "2023-09-06T09:18:59.205Z"
   },
   {
    "duration": 10,
    "start_time": "2023-09-06T09:18:59.485Z"
   },
   {
    "duration": 40,
    "start_time": "2023-09-06T09:18:59.498Z"
   },
   {
    "duration": 15,
    "start_time": "2023-09-06T09:18:59.540Z"
   },
   {
    "duration": 10,
    "start_time": "2023-09-06T09:18:59.557Z"
   },
   {
    "duration": 18,
    "start_time": "2023-09-06T09:18:59.569Z"
   },
   {
    "duration": 31,
    "start_time": "2023-09-06T09:18:59.589Z"
   },
   {
    "duration": 22,
    "start_time": "2023-09-06T09:18:59.622Z"
   },
   {
    "duration": 24,
    "start_time": "2023-09-06T09:18:59.646Z"
   },
   {
    "duration": 48,
    "start_time": "2023-09-06T09:18:59.672Z"
   },
   {
    "duration": 16,
    "start_time": "2023-09-06T09:18:59.722Z"
   },
   {
    "duration": 20,
    "start_time": "2023-09-06T09:18:59.740Z"
   },
   {
    "duration": 23,
    "start_time": "2023-09-06T09:18:59.762Z"
   },
   {
    "duration": 23,
    "start_time": "2023-09-06T09:18:59.787Z"
   },
   {
    "duration": 76,
    "start_time": "2023-09-06T09:18:59.812Z"
   },
   {
    "duration": 16,
    "start_time": "2023-09-06T09:18:59.890Z"
   },
   {
    "duration": 52,
    "start_time": "2023-09-06T09:18:59.908Z"
   },
   {
    "duration": 707,
    "start_time": "2023-09-06T09:18:59.962Z"
   },
   {
    "duration": 18,
    "start_time": "2023-09-06T09:19:00.672Z"
   },
   {
    "duration": 43,
    "start_time": "2023-09-06T09:19:00.692Z"
   },
   {
    "duration": 49,
    "start_time": "2023-09-06T09:19:00.740Z"
   },
   {
    "duration": 35,
    "start_time": "2023-09-06T09:19:00.791Z"
   },
   {
    "duration": 471,
    "start_time": "2023-09-06T09:19:00.828Z"
   },
   {
    "duration": 9,
    "start_time": "2023-09-06T09:19:01.309Z"
   },
   {
    "duration": 517,
    "start_time": "2023-09-06T09:19:01.321Z"
   },
   {
    "duration": 521,
    "start_time": "2023-09-06T09:19:01.841Z"
   },
   {
    "duration": 45,
    "start_time": "2023-09-06T09:19:02.365Z"
   },
   {
    "duration": 587,
    "start_time": "2023-09-06T09:19:02.412Z"
   },
   {
    "duration": 304023,
    "start_time": "2023-09-06T09:19:03.002Z"
   },
   {
    "duration": 339761,
    "start_time": "2023-09-06T09:30:52.641Z"
   },
   {
    "duration": 18,
    "start_time": "2023-09-06T09:42:50.353Z"
   },
   {
    "duration": 17,
    "start_time": "2023-09-06T09:46:04.901Z"
   },
   {
    "duration": 133,
    "start_time": "2023-09-06T09:56:36.297Z"
   },
   {
    "duration": 20,
    "start_time": "2023-09-06T09:56:43.023Z"
   },
   {
    "duration": 36,
    "start_time": "2023-09-06T09:56:48.200Z"
   },
   {
    "duration": 23,
    "start_time": "2023-09-06T09:57:00.165Z"
   },
   {
    "duration": 17,
    "start_time": "2023-09-06T10:01:02.635Z"
   },
   {
    "duration": 442,
    "start_time": "2023-09-06T10:01:16.073Z"
   },
   {
    "duration": 10,
    "start_time": "2023-09-06T10:19:24.537Z"
   },
   {
    "duration": 202,
    "start_time": "2023-09-06T10:24:01.023Z"
   },
   {
    "duration": 194,
    "start_time": "2023-09-06T10:31:07.185Z"
   },
   {
    "duration": 24,
    "start_time": "2023-09-06T10:31:12.436Z"
   },
   {
    "duration": 219,
    "start_time": "2023-09-06T10:32:24.370Z"
   },
   {
    "duration": 218,
    "start_time": "2023-09-06T10:32:34.179Z"
   },
   {
    "duration": 21,
    "start_time": "2023-09-06T10:59:42.974Z"
   },
   {
    "duration": 203,
    "start_time": "2023-09-06T11:01:39.825Z"
   },
   {
    "duration": 25,
    "start_time": "2023-09-06T11:02:11.897Z"
   },
   {
    "duration": 11,
    "start_time": "2023-09-06T11:26:06.505Z"
   },
   {
    "duration": 13,
    "start_time": "2023-09-06T11:26:41.967Z"
   },
   {
    "duration": 14,
    "start_time": "2023-09-06T11:26:56.831Z"
   },
   {
    "duration": 15,
    "start_time": "2023-09-06T11:27:09.573Z"
   },
   {
    "duration": 171,
    "start_time": "2023-09-06T11:27:27.623Z"
   },
   {
    "duration": 11,
    "start_time": "2023-09-06T11:30:34.657Z"
   },
   {
    "duration": 217,
    "start_time": "2023-09-06T11:30:43.470Z"
   },
   {
    "duration": 218,
    "start_time": "2023-09-06T11:30:53.660Z"
   },
   {
    "duration": 235,
    "start_time": "2023-09-06T11:31:03.978Z"
   },
   {
    "duration": 10,
    "start_time": "2023-09-06T11:36:28.889Z"
   },
   {
    "duration": 259,
    "start_time": "2023-09-06T11:37:04.075Z"
   },
   {
    "duration": 240,
    "start_time": "2023-09-06T11:37:10.072Z"
   },
   {
    "duration": 225,
    "start_time": "2023-09-06T11:37:36.180Z"
   },
   {
    "duration": 200,
    "start_time": "2023-09-06T11:38:01.775Z"
   },
   {
    "duration": 202,
    "start_time": "2023-09-06T11:38:24.272Z"
   },
   {
    "duration": 201,
    "start_time": "2023-09-06T11:38:45.657Z"
   },
   {
    "duration": 212,
    "start_time": "2023-09-06T11:38:58.957Z"
   },
   {
    "duration": 103,
    "start_time": "2023-09-06T11:46:46.805Z"
   },
   {
    "duration": 6,
    "start_time": "2023-09-06T11:46:56.703Z"
   },
   {
    "duration": 16,
    "start_time": "2023-09-06T11:46:59.932Z"
   },
   {
    "duration": 23,
    "start_time": "2023-09-06T11:47:26.670Z"
   },
   {
    "duration": 9,
    "start_time": "2023-09-06T11:47:52.292Z"
   },
   {
    "duration": 10,
    "start_time": "2023-09-06T11:48:38.694Z"
   },
   {
    "duration": 13,
    "start_time": "2023-09-06T11:50:33.627Z"
   },
   {
    "duration": 5,
    "start_time": "2023-09-06T11:50:42.526Z"
   },
   {
    "duration": 330,
    "start_time": "2023-09-06T11:50:44.639Z"
   },
   {
    "duration": 22,
    "start_time": "2023-09-06T11:51:06.589Z"
   },
   {
    "duration": 19,
    "start_time": "2023-09-06T11:51:12.307Z"
   },
   {
    "duration": 363,
    "start_time": "2023-09-06T11:51:39.910Z"
   },
   {
    "duration": 19,
    "start_time": "2023-09-06T11:51:48.906Z"
   },
   {
    "duration": 373,
    "start_time": "2023-09-06T11:52:11.601Z"
   },
   {
    "duration": 22,
    "start_time": "2023-09-06T11:53:22.689Z"
   },
   {
    "duration": 9,
    "start_time": "2023-09-06T11:53:26.686Z"
   },
   {
    "duration": 4,
    "start_time": "2023-09-06T11:53:33.644Z"
   },
   {
    "duration": 381,
    "start_time": "2023-09-06T11:53:35.974Z"
   },
   {
    "duration": 7,
    "start_time": "2023-09-06T11:55:02.607Z"
   },
   {
    "duration": 309,
    "start_time": "2023-09-06T11:55:36.232Z"
   },
   {
    "duration": 3726,
    "start_time": "2023-09-06T12:00:33.720Z"
   },
   {
    "duration": 2558,
    "start_time": "2023-09-06T12:00:37.587Z"
   },
   {
    "duration": 8,
    "start_time": "2023-09-06T12:01:06.971Z"
   },
   {
    "duration": 8,
    "start_time": "2023-09-06T12:01:37.200Z"
   },
   {
    "duration": 8,
    "start_time": "2023-09-06T12:01:44.074Z"
   },
   {
    "duration": 9,
    "start_time": "2023-09-06T12:01:55.369Z"
   },
   {
    "duration": 11,
    "start_time": "2023-09-06T12:02:02.871Z"
   },
   {
    "duration": 8,
    "start_time": "2023-09-06T12:02:07.868Z"
   },
   {
    "duration": 220,
    "start_time": "2023-09-06T12:03:40.403Z"
   },
   {
    "duration": 8,
    "start_time": "2023-09-06T12:04:49.039Z"
   },
   {
    "duration": 91,
    "start_time": "2023-09-06T12:05:06.983Z"
   },
   {
    "duration": 211,
    "start_time": "2023-09-06T12:06:25.339Z"
   },
   {
    "duration": 210,
    "start_time": "2023-09-06T12:06:41.408Z"
   },
   {
    "duration": 212,
    "start_time": "2023-09-06T12:06:51.290Z"
   },
   {
    "duration": 213,
    "start_time": "2023-09-06T12:07:00.876Z"
   },
   {
    "duration": 210,
    "start_time": "2023-09-06T12:07:06.481Z"
   },
   {
    "duration": 211,
    "start_time": "2023-09-06T12:07:38.239Z"
   },
   {
    "duration": 200,
    "start_time": "2023-09-06T12:07:45.537Z"
   },
   {
    "duration": 205,
    "start_time": "2023-09-06T12:08:47.885Z"
   },
   {
    "duration": 204,
    "start_time": "2023-09-06T12:09:18.294Z"
   },
   {
    "duration": 9,
    "start_time": "2023-09-06T12:09:46.069Z"
   },
   {
    "duration": 214,
    "start_time": "2023-09-06T12:10:16.768Z"
   },
   {
    "duration": 8,
    "start_time": "2023-09-06T12:10:21.962Z"
   },
   {
    "duration": 215,
    "start_time": "2023-09-06T12:10:24.070Z"
   },
   {
    "duration": 8,
    "start_time": "2023-09-06T12:10:39.393Z"
   },
   {
    "duration": 201,
    "start_time": "2023-09-06T12:10:41.635Z"
   },
   {
    "duration": 4,
    "start_time": "2023-09-06T12:15:34.556Z"
   },
   {
    "duration": 10,
    "start_time": "2023-09-06T12:15:34.563Z"
   },
   {
    "duration": 83,
    "start_time": "2023-09-06T12:15:34.576Z"
   },
   {
    "duration": 17,
    "start_time": "2023-09-06T12:15:34.661Z"
   },
   {
    "duration": 46,
    "start_time": "2023-09-06T12:15:34.680Z"
   },
   {
    "duration": 4,
    "start_time": "2023-09-06T12:15:34.729Z"
   },
   {
    "duration": 18,
    "start_time": "2023-09-06T12:15:34.735Z"
   },
   {
    "duration": 274,
    "start_time": "2023-09-06T12:15:34.755Z"
   },
   {
    "duration": 10,
    "start_time": "2023-09-06T12:15:35.031Z"
   },
   {
    "duration": 20,
    "start_time": "2023-09-06T12:15:35.044Z"
   },
   {
    "duration": 45,
    "start_time": "2023-09-06T12:15:35.066Z"
   },
   {
    "duration": 10,
    "start_time": "2023-09-06T12:15:35.113Z"
   },
   {
    "duration": 11,
    "start_time": "2023-09-06T12:15:35.125Z"
   },
   {
    "duration": 5,
    "start_time": "2023-09-06T12:15:35.138Z"
   },
   {
    "duration": 25,
    "start_time": "2023-09-06T12:15:35.145Z"
   },
   {
    "duration": 7,
    "start_time": "2023-09-06T12:15:35.172Z"
   },
   {
    "duration": 62,
    "start_time": "2023-09-06T12:15:35.181Z"
   },
   {
    "duration": 9,
    "start_time": "2023-09-06T12:15:35.245Z"
   },
   {
    "duration": 7,
    "start_time": "2023-09-06T12:15:35.257Z"
   },
   {
    "duration": 13,
    "start_time": "2023-09-06T12:15:35.267Z"
   },
   {
    "duration": 29,
    "start_time": "2023-09-06T12:15:35.282Z"
   },
   {
    "duration": 41,
    "start_time": "2023-09-06T12:15:35.314Z"
   },
   {
    "duration": 6,
    "start_time": "2023-09-06T12:15:35.357Z"
   },
   {
    "duration": 47,
    "start_time": "2023-09-06T12:15:35.365Z"
   },
   {
    "duration": 553,
    "start_time": "2023-09-06T12:15:35.418Z"
   },
   {
    "duration": 16,
    "start_time": "2023-09-06T12:15:35.974Z"
   },
   {
    "duration": 27,
    "start_time": "2023-09-06T12:15:35.992Z"
   },
   {
    "duration": 17,
    "start_time": "2023-09-06T12:15:36.021Z"
   },
   {
    "duration": 17,
    "start_time": "2023-09-06T12:15:36.040Z"
   },
   {
    "duration": 491,
    "start_time": "2023-09-06T12:15:36.059Z"
   },
   {
    "duration": 10,
    "start_time": "2023-09-06T12:15:36.552Z"
   },
   {
    "duration": 447,
    "start_time": "2023-09-06T12:15:36.564Z"
   },
   {
    "duration": 28,
    "start_time": "2023-09-06T12:15:37.013Z"
   },
   {
    "duration": 347,
    "start_time": "2023-09-06T12:15:37.043Z"
   },
   {
    "duration": 30,
    "start_time": "2023-09-06T12:15:37.392Z"
   },
   {
    "duration": 23,
    "start_time": "2023-09-06T12:15:37.424Z"
   },
   {
    "duration": 428,
    "start_time": "2023-09-06T12:15:37.450Z"
   },
   {
    "duration": 14,
    "start_time": "2023-09-06T12:15:37.881Z"
   },
   {
    "duration": 215,
    "start_time": "2023-09-06T12:15:37.898Z"
   },
   {
    "duration": 28,
    "start_time": "2023-09-06T12:15:38.115Z"
   },
   {
    "duration": 21,
    "start_time": "2023-09-06T12:15:38.145Z"
   },
   {
    "duration": 11,
    "start_time": "2023-09-06T12:15:38.168Z"
   },
   {
    "duration": 6,
    "start_time": "2023-09-06T12:15:38.181Z"
   },
   {
    "duration": 362,
    "start_time": "2023-09-06T12:15:38.189Z"
   },
   {
    "duration": 5,
    "start_time": "2023-09-06T12:15:38.552Z"
   },
   {
    "duration": 301,
    "start_time": "2023-09-06T12:15:38.560Z"
   },
   {
    "duration": 55,
    "start_time": "2023-09-06T12:15:38.863Z"
   },
   {
    "duration": 0,
    "start_time": "2023-09-06T12:15:38.920Z"
   },
   {
    "duration": 0,
    "start_time": "2023-09-06T12:15:38.921Z"
   },
   {
    "duration": 0,
    "start_time": "2023-09-06T12:15:38.923Z"
   },
   {
    "duration": 0,
    "start_time": "2023-09-06T12:15:38.924Z"
   },
   {
    "duration": 0,
    "start_time": "2023-09-06T12:15:38.925Z"
   },
   {
    "duration": 0,
    "start_time": "2023-09-06T12:15:38.926Z"
   },
   {
    "duration": 4,
    "start_time": "2023-09-06T12:15:55.645Z"
   },
   {
    "duration": 5,
    "start_time": "2023-09-06T12:15:55.660Z"
   },
   {
    "duration": 97,
    "start_time": "2023-09-06T12:15:55.668Z"
   },
   {
    "duration": 14,
    "start_time": "2023-09-06T12:15:55.767Z"
   },
   {
    "duration": 51,
    "start_time": "2023-09-06T12:15:55.783Z"
   },
   {
    "duration": 6,
    "start_time": "2023-09-06T12:15:55.837Z"
   },
   {
    "duration": 29,
    "start_time": "2023-09-06T12:15:55.845Z"
   },
   {
    "duration": 255,
    "start_time": "2023-09-06T12:15:55.876Z"
   },
   {
    "duration": 10,
    "start_time": "2023-09-06T12:15:56.133Z"
   },
   {
    "duration": 71,
    "start_time": "2023-09-06T12:15:56.145Z"
   },
   {
    "duration": 47,
    "start_time": "2023-09-06T12:15:56.218Z"
   },
   {
    "duration": 49,
    "start_time": "2023-09-06T12:15:56.267Z"
   },
   {
    "duration": 27,
    "start_time": "2023-09-06T12:15:56.318Z"
   },
   {
    "duration": 43,
    "start_time": "2023-09-06T12:15:56.349Z"
   },
   {
    "duration": 59,
    "start_time": "2023-09-06T12:15:56.395Z"
   },
   {
    "duration": 78,
    "start_time": "2023-09-06T12:15:56.456Z"
   },
   {
    "duration": 77,
    "start_time": "2023-09-06T12:15:56.536Z"
   },
   {
    "duration": 30,
    "start_time": "2023-09-06T12:15:56.615Z"
   },
   {
    "duration": 50,
    "start_time": "2023-09-06T12:15:56.647Z"
   },
   {
    "duration": 59,
    "start_time": "2023-09-06T12:15:56.699Z"
   },
   {
    "duration": 33,
    "start_time": "2023-09-06T12:15:56.759Z"
   },
   {
    "duration": 52,
    "start_time": "2023-09-06T12:15:56.794Z"
   },
   {
    "duration": 5,
    "start_time": "2023-09-06T12:15:56.848Z"
   },
   {
    "duration": 42,
    "start_time": "2023-09-06T12:15:56.855Z"
   },
   {
    "duration": 520,
    "start_time": "2023-09-06T12:15:56.899Z"
   },
   {
    "duration": 17,
    "start_time": "2023-09-06T12:15:57.421Z"
   },
   {
    "duration": 24,
    "start_time": "2023-09-06T12:15:57.439Z"
   },
   {
    "duration": 29,
    "start_time": "2023-09-06T12:15:57.466Z"
   },
   {
    "duration": 27,
    "start_time": "2023-09-06T12:15:57.497Z"
   },
   {
    "duration": 475,
    "start_time": "2023-09-06T12:15:57.525Z"
   },
   {
    "duration": 14,
    "start_time": "2023-09-06T12:15:58.002Z"
   },
   {
    "duration": 432,
    "start_time": "2023-09-06T12:15:58.018Z"
   },
   {
    "duration": 27,
    "start_time": "2023-09-06T12:15:58.453Z"
   },
   {
    "duration": 401,
    "start_time": "2023-09-06T12:15:58.483Z"
   },
   {
    "duration": 28,
    "start_time": "2023-09-06T12:15:58.886Z"
   },
   {
    "duration": 30,
    "start_time": "2023-09-06T12:15:58.917Z"
   },
   {
    "duration": 410,
    "start_time": "2023-09-06T12:15:58.949Z"
   },
   {
    "duration": 10,
    "start_time": "2023-09-06T12:15:59.366Z"
   },
   {
    "duration": 234,
    "start_time": "2023-09-06T12:15:59.378Z"
   },
   {
    "duration": 21,
    "start_time": "2023-09-06T12:15:59.615Z"
   },
   {
    "duration": 27,
    "start_time": "2023-09-06T12:15:59.638Z"
   },
   {
    "duration": 21,
    "start_time": "2023-09-06T12:15:59.666Z"
   },
   {
    "duration": 26,
    "start_time": "2023-09-06T12:15:59.690Z"
   },
   {
    "duration": 348,
    "start_time": "2023-09-06T12:15:59.717Z"
   },
   {
    "duration": 4,
    "start_time": "2023-09-06T12:16:00.067Z"
   },
   {
    "duration": 323,
    "start_time": "2023-09-06T12:16:00.073Z"
   },
   {
    "duration": 229,
    "start_time": "2023-09-06T12:16:00.410Z"
   },
   {
    "duration": 222,
    "start_time": "2023-09-06T12:16:00.642Z"
   },
   {
    "duration": 8,
    "start_time": "2023-09-06T12:16:00.866Z"
   },
   {
    "duration": 227,
    "start_time": "2023-09-06T12:16:00.875Z"
   },
   {
    "duration": 9,
    "start_time": "2023-09-06T12:16:01.105Z"
   },
   {
    "duration": 244,
    "start_time": "2023-09-06T12:16:01.116Z"
   },
   {
    "duration": 213,
    "start_time": "2023-09-06T12:17:12.059Z"
   },
   {
    "duration": 5,
    "start_time": "2023-09-06T12:17:24.682Z"
   },
   {
    "duration": 213,
    "start_time": "2023-09-06T12:17:36.419Z"
   },
   {
    "duration": 206,
    "start_time": "2023-09-06T12:17:43.781Z"
   },
   {
    "duration": 30,
    "start_time": "2023-09-06T12:18:36.686Z"
   },
   {
    "duration": 13,
    "start_time": "2023-09-06T12:21:03.548Z"
   },
   {
    "duration": 12,
    "start_time": "2023-09-06T12:21:21.876Z"
   },
   {
    "duration": 5,
    "start_time": "2023-09-06T12:21:31.091Z"
   },
   {
    "duration": 10,
    "start_time": "2023-09-06T12:22:10.900Z"
   },
   {
    "duration": 13,
    "start_time": "2023-09-06T12:23:28.260Z"
   },
   {
    "duration": 3,
    "start_time": "2023-09-06T12:23:41.309Z"
   },
   {
    "duration": 7,
    "start_time": "2023-09-06T12:23:41.314Z"
   },
   {
    "duration": 69,
    "start_time": "2023-09-06T12:23:41.323Z"
   },
   {
    "duration": 16,
    "start_time": "2023-09-06T12:23:41.394Z"
   },
   {
    "duration": 16,
    "start_time": "2023-09-06T12:23:41.412Z"
   },
   {
    "duration": 3,
    "start_time": "2023-09-06T12:23:41.429Z"
   },
   {
    "duration": 17,
    "start_time": "2023-09-06T12:23:41.434Z"
   },
   {
    "duration": 285,
    "start_time": "2023-09-06T12:23:41.454Z"
   },
   {
    "duration": 9,
    "start_time": "2023-09-06T12:23:41.742Z"
   },
   {
    "duration": 13,
    "start_time": "2023-09-06T12:23:41.755Z"
   },
   {
    "duration": 26,
    "start_time": "2023-09-06T12:23:41.770Z"
   },
   {
    "duration": 18,
    "start_time": "2023-09-06T12:23:41.810Z"
   },
   {
    "duration": 37,
    "start_time": "2023-09-06T12:23:41.830Z"
   },
   {
    "duration": 27,
    "start_time": "2023-09-06T12:23:41.869Z"
   },
   {
    "duration": 55,
    "start_time": "2023-09-06T12:23:41.898Z"
   },
   {
    "duration": 49,
    "start_time": "2023-09-06T12:23:41.955Z"
   },
   {
    "duration": 48,
    "start_time": "2023-09-06T12:23:42.006Z"
   },
   {
    "duration": 34,
    "start_time": "2023-09-06T12:23:42.057Z"
   },
   {
    "duration": 31,
    "start_time": "2023-09-06T12:23:42.093Z"
   },
   {
    "duration": 37,
    "start_time": "2023-09-06T12:23:42.126Z"
   },
   {
    "duration": 23,
    "start_time": "2023-09-06T12:23:42.165Z"
   },
   {
    "duration": 57,
    "start_time": "2023-09-06T12:23:42.190Z"
   },
   {
    "duration": 6,
    "start_time": "2023-09-06T12:23:42.249Z"
   },
   {
    "duration": 59,
    "start_time": "2023-09-06T12:23:42.257Z"
   },
   {
    "duration": 619,
    "start_time": "2023-09-06T12:23:42.321Z"
   },
   {
    "duration": 17,
    "start_time": "2023-09-06T12:23:42.942Z"
   },
   {
    "duration": 35,
    "start_time": "2023-09-06T12:23:42.961Z"
   },
   {
    "duration": 42,
    "start_time": "2023-09-06T12:23:42.999Z"
   },
   {
    "duration": 34,
    "start_time": "2023-09-06T12:23:43.043Z"
   },
   {
    "duration": 455,
    "start_time": "2023-09-06T12:23:43.080Z"
   },
   {
    "duration": 9,
    "start_time": "2023-09-06T12:23:43.538Z"
   },
   {
    "duration": 419,
    "start_time": "2023-09-06T12:23:43.548Z"
   },
   {
    "duration": 21,
    "start_time": "2023-09-06T12:23:43.969Z"
   },
   {
    "duration": 350,
    "start_time": "2023-09-06T12:23:43.992Z"
   },
   {
    "duration": 22,
    "start_time": "2023-09-06T12:23:44.344Z"
   },
   {
    "duration": 48,
    "start_time": "2023-09-06T12:23:44.368Z"
   },
   {
    "duration": 399,
    "start_time": "2023-09-06T12:23:44.419Z"
   },
   {
    "duration": 9,
    "start_time": "2023-09-06T12:23:44.820Z"
   },
   {
    "duration": 211,
    "start_time": "2023-09-06T12:23:44.831Z"
   },
   {
    "duration": 21,
    "start_time": "2023-09-06T12:23:45.044Z"
   },
   {
    "duration": 46,
    "start_time": "2023-09-06T12:23:45.067Z"
   },
   {
    "duration": 54,
    "start_time": "2023-09-06T12:23:45.114Z"
   },
   {
    "duration": 29,
    "start_time": "2023-09-06T12:23:45.170Z"
   },
   {
    "duration": 375,
    "start_time": "2023-09-06T12:23:45.200Z"
   },
   {
    "duration": 4,
    "start_time": "2023-09-06T12:23:45.577Z"
   },
   {
    "duration": 311,
    "start_time": "2023-09-06T12:23:45.583Z"
   },
   {
    "duration": 234,
    "start_time": "2023-09-06T12:23:45.896Z"
   },
   {
    "duration": 217,
    "start_time": "2023-09-06T12:23:46.132Z"
   },
   {
    "duration": 10,
    "start_time": "2023-09-06T12:23:46.351Z"
   },
   {
    "duration": 0,
    "start_time": "2023-09-06T12:23:46.362Z"
   },
   {
    "duration": 0,
    "start_time": "2023-09-06T12:23:46.363Z"
   },
   {
    "duration": 0,
    "start_time": "2023-09-06T12:23:46.365Z"
   },
   {
    "duration": 0,
    "start_time": "2023-09-06T12:23:46.366Z"
   },
   {
    "duration": 11,
    "start_time": "2023-09-06T12:24:15.543Z"
   },
   {
    "duration": 10,
    "start_time": "2023-09-06T12:24:28.487Z"
   },
   {
    "duration": 224,
    "start_time": "2023-09-06T12:26:34.502Z"
   },
   {
    "duration": 6,
    "start_time": "2023-09-06T12:26:39.453Z"
   },
   {
    "duration": 207,
    "start_time": "2023-09-06T12:26:41.487Z"
   },
   {
    "duration": 10,
    "start_time": "2023-09-06T12:27:08.104Z"
   },
   {
    "duration": 3,
    "start_time": "2023-09-06T12:28:23.383Z"
   },
   {
    "duration": 10,
    "start_time": "2023-09-06T12:28:23.389Z"
   },
   {
    "duration": 75,
    "start_time": "2023-09-06T12:28:23.401Z"
   },
   {
    "duration": 13,
    "start_time": "2023-09-06T12:28:23.478Z"
   },
   {
    "duration": 19,
    "start_time": "2023-09-06T12:28:23.493Z"
   },
   {
    "duration": 3,
    "start_time": "2023-09-06T12:28:23.514Z"
   },
   {
    "duration": 13,
    "start_time": "2023-09-06T12:28:23.519Z"
   },
   {
    "duration": 262,
    "start_time": "2023-09-06T12:28:23.533Z"
   },
   {
    "duration": 15,
    "start_time": "2023-09-06T12:28:23.797Z"
   },
   {
    "duration": 14,
    "start_time": "2023-09-06T12:28:23.816Z"
   },
   {
    "duration": 17,
    "start_time": "2023-09-06T12:28:23.832Z"
   },
   {
    "duration": 27,
    "start_time": "2023-09-06T12:28:23.851Z"
   },
   {
    "duration": 13,
    "start_time": "2023-09-06T12:28:23.879Z"
   },
   {
    "duration": 5,
    "start_time": "2023-09-06T12:28:23.893Z"
   },
   {
    "duration": 17,
    "start_time": "2023-09-06T12:28:23.910Z"
   },
   {
    "duration": 10,
    "start_time": "2023-09-06T12:28:23.930Z"
   },
   {
    "duration": 31,
    "start_time": "2023-09-06T12:28:23.942Z"
   },
   {
    "duration": 12,
    "start_time": "2023-09-06T12:28:23.974Z"
   },
   {
    "duration": 11,
    "start_time": "2023-09-06T12:28:23.988Z"
   },
   {
    "duration": 23,
    "start_time": "2023-09-06T12:28:24.001Z"
   },
   {
    "duration": 5,
    "start_time": "2023-09-06T12:28:24.026Z"
   },
   {
    "duration": 37,
    "start_time": "2023-09-06T12:28:24.033Z"
   },
   {
    "duration": 5,
    "start_time": "2023-09-06T12:28:24.071Z"
   },
   {
    "duration": 16,
    "start_time": "2023-09-06T12:28:24.078Z"
   },
   {
    "duration": 516,
    "start_time": "2023-09-06T12:28:24.111Z"
   },
   {
    "duration": 14,
    "start_time": "2023-09-06T12:28:24.629Z"
   },
   {
    "duration": 86,
    "start_time": "2023-09-06T12:28:24.645Z"
   },
   {
    "duration": 51,
    "start_time": "2023-09-06T12:28:24.733Z"
   },
   {
    "duration": 153,
    "start_time": "2023-09-06T12:28:24.785Z"
   },
   {
    "duration": 485,
    "start_time": "2023-09-06T12:28:24.940Z"
   },
   {
    "duration": 9,
    "start_time": "2023-09-06T12:28:25.427Z"
   },
   {
    "duration": 416,
    "start_time": "2023-09-06T12:28:25.437Z"
   },
   {
    "duration": 20,
    "start_time": "2023-09-06T12:28:25.855Z"
   },
   {
    "duration": 348,
    "start_time": "2023-09-06T12:28:25.877Z"
   },
   {
    "duration": 17,
    "start_time": "2023-09-06T12:28:26.227Z"
   },
   {
    "duration": 29,
    "start_time": "2023-09-06T12:28:26.246Z"
   },
   {
    "duration": 440,
    "start_time": "2023-09-06T12:28:26.277Z"
   },
   {
    "duration": 11,
    "start_time": "2023-09-06T12:28:26.719Z"
   },
   {
    "duration": 206,
    "start_time": "2023-09-06T12:28:26.732Z"
   },
   {
    "duration": 23,
    "start_time": "2023-09-06T12:28:26.939Z"
   },
   {
    "duration": 22,
    "start_time": "2023-09-06T12:28:26.963Z"
   },
   {
    "duration": 11,
    "start_time": "2023-09-06T12:28:27.009Z"
   },
   {
    "duration": 6,
    "start_time": "2023-09-06T12:28:27.022Z"
   },
   {
    "duration": 318,
    "start_time": "2023-09-06T12:28:27.030Z"
   },
   {
    "duration": 4,
    "start_time": "2023-09-06T12:28:27.350Z"
   },
   {
    "duration": 305,
    "start_time": "2023-09-06T12:28:27.355Z"
   },
   {
    "duration": 223,
    "start_time": "2023-09-06T12:28:27.662Z"
   },
   {
    "duration": 208,
    "start_time": "2023-09-06T12:28:27.887Z"
   },
   {
    "duration": 15,
    "start_time": "2023-09-06T12:28:28.097Z"
   },
   {
    "duration": 0,
    "start_time": "2023-09-06T12:28:28.114Z"
   },
   {
    "duration": 0,
    "start_time": "2023-09-06T12:28:28.115Z"
   },
   {
    "duration": 0,
    "start_time": "2023-09-06T12:28:28.117Z"
   },
   {
    "duration": 0,
    "start_time": "2023-09-06T12:28:28.119Z"
   },
   {
    "duration": 229,
    "start_time": "2023-09-06T12:28:35.278Z"
   },
   {
    "duration": 1296,
    "start_time": "2023-09-06T12:29:02.903Z"
   },
   {
    "duration": 3,
    "start_time": "2023-09-06T12:29:04.201Z"
   },
   {
    "duration": 80,
    "start_time": "2023-09-06T12:29:04.205Z"
   },
   {
    "duration": 14,
    "start_time": "2023-09-06T12:29:04.288Z"
   },
   {
    "duration": 33,
    "start_time": "2023-09-06T12:29:04.304Z"
   },
   {
    "duration": 3,
    "start_time": "2023-09-06T12:29:04.339Z"
   },
   {
    "duration": 16,
    "start_time": "2023-09-06T12:29:04.344Z"
   },
   {
    "duration": 199,
    "start_time": "2023-09-06T12:29:04.363Z"
   },
   {
    "duration": 15,
    "start_time": "2023-09-06T12:29:04.565Z"
   },
   {
    "duration": 31,
    "start_time": "2023-09-06T12:29:04.584Z"
   },
   {
    "duration": 15,
    "start_time": "2023-09-06T12:29:04.617Z"
   },
   {
    "duration": 9,
    "start_time": "2023-09-06T12:29:04.633Z"
   },
   {
    "duration": 9,
    "start_time": "2023-09-06T12:29:04.643Z"
   },
   {
    "duration": 8,
    "start_time": "2023-09-06T12:29:04.654Z"
   },
   {
    "duration": 52,
    "start_time": "2023-09-06T12:29:04.663Z"
   },
   {
    "duration": 19,
    "start_time": "2023-09-06T12:29:04.717Z"
   },
   {
    "duration": 21,
    "start_time": "2023-09-06T12:29:04.738Z"
   },
   {
    "duration": 9,
    "start_time": "2023-09-06T12:29:04.760Z"
   },
   {
    "duration": 7,
    "start_time": "2023-09-06T12:29:04.771Z"
   },
   {
    "duration": 9,
    "start_time": "2023-09-06T12:29:04.780Z"
   },
   {
    "duration": 5,
    "start_time": "2023-09-06T12:29:04.809Z"
   },
   {
    "duration": 31,
    "start_time": "2023-09-06T12:29:04.816Z"
   },
   {
    "duration": 6,
    "start_time": "2023-09-06T12:29:04.849Z"
   },
   {
    "duration": 23,
    "start_time": "2023-09-06T12:29:04.858Z"
   },
   {
    "duration": 586,
    "start_time": "2023-09-06T12:29:04.883Z"
   },
   {
    "duration": 17,
    "start_time": "2023-09-06T12:29:05.471Z"
   },
   {
    "duration": 30,
    "start_time": "2023-09-06T12:29:05.490Z"
   },
   {
    "duration": 18,
    "start_time": "2023-09-06T12:29:05.525Z"
   },
   {
    "duration": 20,
    "start_time": "2023-09-06T12:29:05.545Z"
   },
   {
    "duration": 414,
    "start_time": "2023-09-06T12:29:05.567Z"
   },
   {
    "duration": 8,
    "start_time": "2023-09-06T12:29:05.983Z"
   },
   {
    "duration": 366,
    "start_time": "2023-09-06T12:29:05.993Z"
   },
   {
    "duration": 19,
    "start_time": "2023-09-06T12:29:06.361Z"
   },
   {
    "duration": 357,
    "start_time": "2023-09-06T12:29:06.382Z"
   },
   {
    "duration": 18,
    "start_time": "2023-09-06T12:29:06.741Z"
   },
   {
    "duration": 89,
    "start_time": "2023-09-06T12:29:06.761Z"
   },
   {
    "duration": 395,
    "start_time": "2023-09-06T12:29:06.851Z"
   },
   {
    "duration": 10,
    "start_time": "2023-09-06T12:29:07.248Z"
   },
   {
    "duration": 237,
    "start_time": "2023-09-06T12:29:07.260Z"
   },
   {
    "duration": 24,
    "start_time": "2023-09-06T12:29:07.499Z"
   },
   {
    "duration": 21,
    "start_time": "2023-09-06T12:29:07.525Z"
   },
   {
    "duration": 10,
    "start_time": "2023-09-06T12:29:07.547Z"
   },
   {
    "duration": 7,
    "start_time": "2023-09-06T12:29:07.559Z"
   },
   {
    "duration": 383,
    "start_time": "2023-09-06T12:29:07.568Z"
   },
   {
    "duration": 5,
    "start_time": "2023-09-06T12:29:07.953Z"
   },
   {
    "duration": 303,
    "start_time": "2023-09-06T12:29:07.960Z"
   },
   {
    "duration": 175,
    "start_time": "2023-09-06T12:29:08.266Z"
   },
   {
    "duration": 286,
    "start_time": "2023-09-06T12:29:08.444Z"
   },
   {
    "duration": 118,
    "start_time": "2023-09-06T12:29:08.732Z"
   },
   {
    "duration": 0,
    "start_time": "2023-09-06T12:29:08.852Z"
   },
   {
    "duration": 0,
    "start_time": "2023-09-06T12:29:08.854Z"
   },
   {
    "duration": 0,
    "start_time": "2023-09-06T12:29:08.855Z"
   },
   {
    "duration": 0,
    "start_time": "2023-09-06T12:29:08.857Z"
   },
   {
    "duration": 12,
    "start_time": "2023-09-06T12:29:13.402Z"
   },
   {
    "duration": 11,
    "start_time": "2023-09-06T12:29:41.975Z"
   },
   {
    "duration": 8,
    "start_time": "2023-09-06T12:29:55.471Z"
   },
   {
    "duration": 193,
    "start_time": "2023-09-06T12:29:59.783Z"
   },
   {
    "duration": 6,
    "start_time": "2023-09-06T12:30:04.159Z"
   },
   {
    "duration": 41,
    "start_time": "2023-09-06T12:30:14.550Z"
   },
   {
    "duration": 202,
    "start_time": "2023-09-06T12:30:19.769Z"
   },
   {
    "duration": 11,
    "start_time": "2023-09-06T12:31:14.408Z"
   },
   {
    "duration": 6,
    "start_time": "2023-09-06T12:32:55.880Z"
   },
   {
    "duration": 205,
    "start_time": "2023-09-06T12:32:58.591Z"
   },
   {
    "duration": 7,
    "start_time": "2023-09-06T12:33:41.682Z"
   },
   {
    "duration": 141,
    "start_time": "2023-09-06T15:32:47.125Z"
   },
   {
    "duration": 146,
    "start_time": "2023-09-06T15:33:15.888Z"
   },
   {
    "duration": 172,
    "start_time": "2023-09-06T15:33:25.144Z"
   },
   {
    "duration": 4,
    "start_time": "2023-09-06T15:36:52.538Z"
   },
   {
    "duration": 8,
    "start_time": "2023-09-06T15:36:52.545Z"
   },
   {
    "duration": 85,
    "start_time": "2023-09-06T15:36:52.555Z"
   },
   {
    "duration": 16,
    "start_time": "2023-09-06T15:36:52.642Z"
   },
   {
    "duration": 49,
    "start_time": "2023-09-06T15:36:52.662Z"
   },
   {
    "duration": 4,
    "start_time": "2023-09-06T15:36:52.712Z"
   },
   {
    "duration": 14,
    "start_time": "2023-09-06T15:36:52.718Z"
   },
   {
    "duration": 208,
    "start_time": "2023-09-06T15:36:52.733Z"
   },
   {
    "duration": 10,
    "start_time": "2023-09-06T15:36:52.942Z"
   },
   {
    "duration": 16,
    "start_time": "2023-09-06T15:36:52.954Z"
   },
   {
    "duration": 40,
    "start_time": "2023-09-06T15:36:52.971Z"
   },
   {
    "duration": 10,
    "start_time": "2023-09-06T15:36:53.013Z"
   },
   {
    "duration": 12,
    "start_time": "2023-09-06T15:36:53.027Z"
   },
   {
    "duration": 11,
    "start_time": "2023-09-06T15:36:53.041Z"
   },
   {
    "duration": 18,
    "start_time": "2023-09-06T15:36:53.054Z"
   },
   {
    "duration": 15,
    "start_time": "2023-09-06T15:36:53.073Z"
   },
   {
    "duration": 40,
    "start_time": "2023-09-06T15:36:53.089Z"
   },
   {
    "duration": 7,
    "start_time": "2023-09-06T15:36:53.130Z"
   },
   {
    "duration": 6,
    "start_time": "2023-09-06T15:36:53.138Z"
   },
   {
    "duration": 25,
    "start_time": "2023-09-06T15:36:53.146Z"
   },
   {
    "duration": 7,
    "start_time": "2023-09-06T15:36:53.173Z"
   },
   {
    "duration": 52,
    "start_time": "2023-09-06T15:36:53.181Z"
   },
   {
    "duration": 5,
    "start_time": "2023-09-06T15:36:53.236Z"
   },
   {
    "duration": 23,
    "start_time": "2023-09-06T15:36:53.243Z"
   },
   {
    "duration": 549,
    "start_time": "2023-09-06T15:36:53.269Z"
   },
   {
    "duration": 16,
    "start_time": "2023-09-06T15:36:53.820Z"
   },
   {
    "duration": 42,
    "start_time": "2023-09-06T15:36:53.838Z"
   },
   {
    "duration": 45,
    "start_time": "2023-09-06T15:36:53.881Z"
   },
   {
    "duration": 16,
    "start_time": "2023-09-06T15:36:53.927Z"
   },
   {
    "duration": 389,
    "start_time": "2023-09-06T15:36:53.944Z"
   },
   {
    "duration": 9,
    "start_time": "2023-09-06T15:36:54.335Z"
   },
   {
    "duration": 385,
    "start_time": "2023-09-06T15:36:54.345Z"
   },
   {
    "duration": 19,
    "start_time": "2023-09-06T15:36:54.732Z"
   },
   {
    "duration": 317,
    "start_time": "2023-09-06T15:36:54.753Z"
   },
   {
    "duration": 15,
    "start_time": "2023-09-06T15:36:55.072Z"
   },
   {
    "duration": 39,
    "start_time": "2023-09-06T15:36:55.089Z"
   },
   {
    "duration": 456,
    "start_time": "2023-09-06T15:36:55.132Z"
   },
   {
    "duration": 9,
    "start_time": "2023-09-06T15:36:55.591Z"
   },
   {
    "duration": 186,
    "start_time": "2023-09-06T15:36:55.610Z"
   },
   {
    "duration": 25,
    "start_time": "2023-09-06T15:36:55.797Z"
   },
   {
    "duration": 21,
    "start_time": "2023-09-06T15:36:55.823Z"
   },
   {
    "duration": 11,
    "start_time": "2023-09-06T15:36:55.846Z"
   },
   {
    "duration": 8,
    "start_time": "2023-09-06T15:36:55.858Z"
   },
   {
    "duration": 362,
    "start_time": "2023-09-06T15:36:55.868Z"
   },
   {
    "duration": 4,
    "start_time": "2023-09-06T15:36:56.232Z"
   },
   {
    "duration": 245,
    "start_time": "2023-09-06T15:36:56.238Z"
   },
   {
    "duration": 186,
    "start_time": "2023-09-06T15:36:56.484Z"
   },
   {
    "duration": 167,
    "start_time": "2023-09-06T15:36:56.672Z"
   },
   {
    "duration": 7,
    "start_time": "2023-09-06T15:36:56.841Z"
   },
   {
    "duration": 173,
    "start_time": "2023-09-06T15:36:56.851Z"
   },
   {
    "duration": 29,
    "start_time": "2023-09-06T15:36:57.026Z"
   },
   {
    "duration": 4,
    "start_time": "2023-09-06T15:36:57.057Z"
   },
   {
    "duration": 211,
    "start_time": "2023-09-06T15:36:57.063Z"
   },
   {
    "duration": 235,
    "start_time": "2023-09-06T15:51:37.642Z"
   },
   {
    "duration": 2,
    "start_time": "2023-09-06T15:52:53.742Z"
   },
   {
    "duration": 22,
    "start_time": "2023-09-06T15:53:42.013Z"
   },
   {
    "duration": 8,
    "start_time": "2023-09-06T15:53:58.974Z"
   },
   {
    "duration": 2,
    "start_time": "2023-09-06T15:54:20.036Z"
   },
   {
    "duration": 6,
    "start_time": "2023-09-06T16:12:46.634Z"
   },
   {
    "duration": 28,
    "start_time": "2023-09-06T16:13:11.028Z"
   },
   {
    "duration": 11,
    "start_time": "2023-09-06T16:14:00.308Z"
   },
   {
    "duration": 9,
    "start_time": "2023-09-06T16:14:18.779Z"
   },
   {
    "duration": 264,
    "start_time": "2023-09-06T16:14:49.685Z"
   },
   {
    "duration": 4,
    "start_time": "2023-09-06T16:15:59.034Z"
   },
   {
    "duration": 321,
    "start_time": "2023-09-06T16:16:01.852Z"
   },
   {
    "duration": 9,
    "start_time": "2023-09-06T16:16:15.243Z"
   },
   {
    "duration": 4,
    "start_time": "2023-09-06T16:17:36.071Z"
   },
   {
    "duration": 2,
    "start_time": "2023-09-06T16:18:32.980Z"
   },
   {
    "duration": 2,
    "start_time": "2023-09-06T16:19:05.909Z"
   },
   {
    "duration": 289,
    "start_time": "2023-09-06T16:20:08.207Z"
   },
   {
    "duration": 222,
    "start_time": "2023-09-06T16:42:49.438Z"
   },
   {
    "duration": 192,
    "start_time": "2023-09-06T16:43:17.589Z"
   },
   {
    "duration": 9,
    "start_time": "2023-09-06T16:49:39.562Z"
   },
   {
    "duration": 21,
    "start_time": "2023-09-06T16:50:29.441Z"
   },
   {
    "duration": 9,
    "start_time": "2023-09-06T16:50:50.631Z"
   },
   {
    "duration": 164,
    "start_time": "2023-09-06T16:51:06.682Z"
   },
   {
    "duration": 9,
    "start_time": "2023-09-06T16:58:37.665Z"
   },
   {
    "duration": 7,
    "start_time": "2023-09-06T16:58:49.928Z"
   },
   {
    "duration": 5,
    "start_time": "2023-09-06T16:59:00.093Z"
   },
   {
    "duration": 8,
    "start_time": "2023-09-06T16:59:03.242Z"
   },
   {
    "duration": 30,
    "start_time": "2023-09-06T16:59:11.988Z"
   },
   {
    "duration": 154,
    "start_time": "2023-09-06T16:59:33.558Z"
   },
   {
    "duration": 178,
    "start_time": "2023-09-06T17:00:36.978Z"
   },
   {
    "duration": 174,
    "start_time": "2023-09-06T17:01:54.163Z"
   },
   {
    "duration": 12,
    "start_time": "2023-09-06T17:19:54.983Z"
   },
   {
    "duration": 9,
    "start_time": "2023-09-06T17:24:03.583Z"
   },
   {
    "duration": 9,
    "start_time": "2023-09-06T17:24:08.381Z"
   },
   {
    "duration": 9,
    "start_time": "2023-09-06T17:24:18.359Z"
   },
   {
    "duration": 14,
    "start_time": "2023-09-06T17:24:39.081Z"
   },
   {
    "duration": 1515,
    "start_time": "2023-09-06T17:24:58.858Z"
   },
   {
    "duration": 17,
    "start_time": "2023-09-06T17:25:14.651Z"
   },
   {
    "duration": 17,
    "start_time": "2023-09-06T17:25:36.955Z"
   },
   {
    "duration": 19,
    "start_time": "2023-09-06T17:25:58.498Z"
   },
   {
    "duration": 1417,
    "start_time": "2023-09-06T17:26:13.976Z"
   },
   {
    "duration": 22,
    "start_time": "2023-09-06T17:26:32.435Z"
   },
   {
    "duration": 10,
    "start_time": "2023-09-06T17:27:59.626Z"
   },
   {
    "duration": 18,
    "start_time": "2023-09-06T17:46:35.461Z"
   },
   {
    "duration": 18,
    "start_time": "2023-09-06T17:46:48.424Z"
   },
   {
    "duration": 500,
    "start_time": "2023-09-06T17:47:01.298Z"
   },
   {
    "duration": 491,
    "start_time": "2023-09-06T17:47:10.896Z"
   },
   {
    "duration": 11,
    "start_time": "2023-09-06T17:47:33.411Z"
   },
   {
    "duration": 12,
    "start_time": "2023-09-06T17:47:44.476Z"
   },
   {
    "duration": 11,
    "start_time": "2023-09-06T17:47:57.353Z"
   },
   {
    "duration": 881,
    "start_time": "2023-09-06T17:48:05.834Z"
   },
   {
    "duration": 944,
    "start_time": "2023-09-06T17:49:04.969Z"
   },
   {
    "duration": 885,
    "start_time": "2023-09-06T17:49:25.750Z"
   },
   {
    "duration": 1049,
    "start_time": "2023-09-06T17:50:08.515Z"
   },
   {
    "duration": 1006,
    "start_time": "2023-09-06T17:50:25.917Z"
   },
   {
    "duration": 2541,
    "start_time": "2023-09-06T17:50:39.738Z"
   },
   {
    "duration": 49,
    "start_time": "2023-09-06T17:51:47.101Z"
   },
   {
    "duration": 59,
    "start_time": "2023-09-06T17:51:58.763Z"
   },
   {
    "duration": 58,
    "start_time": "2023-09-06T17:52:15.366Z"
   },
   {
    "duration": 306,
    "start_time": "2023-09-06T17:52:24.140Z"
   },
   {
    "duration": 193,
    "start_time": "2023-09-06T17:55:58.507Z"
   },
   {
    "duration": 162,
    "start_time": "2023-09-06T17:56:05.462Z"
   },
   {
    "duration": 149,
    "start_time": "2023-09-06T17:56:12.262Z"
   },
   {
    "duration": 159,
    "start_time": "2023-09-06T17:56:21.950Z"
   },
   {
    "duration": 9,
    "start_time": "2023-09-06T18:03:22.852Z"
   },
   {
    "duration": 9,
    "start_time": "2023-09-06T18:03:35.605Z"
   },
   {
    "duration": 3,
    "start_time": "2023-09-06T18:03:58.210Z"
   },
   {
    "duration": 18,
    "start_time": "2023-09-06T18:03:58.215Z"
   },
   {
    "duration": 68,
    "start_time": "2023-09-06T18:03:58.234Z"
   },
   {
    "duration": 12,
    "start_time": "2023-09-06T18:03:58.304Z"
   },
   {
    "duration": 21,
    "start_time": "2023-09-06T18:03:58.319Z"
   },
   {
    "duration": 3,
    "start_time": "2023-09-06T18:03:58.342Z"
   },
   {
    "duration": 20,
    "start_time": "2023-09-06T18:03:58.347Z"
   },
   {
    "duration": 190,
    "start_time": "2023-09-06T18:03:58.369Z"
   },
   {
    "duration": 10,
    "start_time": "2023-09-06T18:03:58.562Z"
   },
   {
    "duration": 18,
    "start_time": "2023-09-06T18:03:58.574Z"
   },
   {
    "duration": 15,
    "start_time": "2023-09-06T18:03:58.610Z"
   },
   {
    "duration": 14,
    "start_time": "2023-09-06T18:03:58.627Z"
   },
   {
    "duration": 13,
    "start_time": "2023-09-06T18:03:58.645Z"
   },
   {
    "duration": 8,
    "start_time": "2023-09-06T18:03:58.660Z"
   },
   {
    "duration": 42,
    "start_time": "2023-09-06T18:03:58.669Z"
   },
   {
    "duration": 16,
    "start_time": "2023-09-06T18:03:58.713Z"
   },
   {
    "duration": 25,
    "start_time": "2023-09-06T18:03:58.731Z"
   },
   {
    "duration": 7,
    "start_time": "2023-09-06T18:03:58.757Z"
   },
   {
    "duration": 13,
    "start_time": "2023-09-06T18:03:58.766Z"
   },
   {
    "duration": 22,
    "start_time": "2023-09-06T18:03:58.781Z"
   },
   {
    "duration": 9,
    "start_time": "2023-09-06T18:03:58.805Z"
   },
   {
    "duration": 32,
    "start_time": "2023-09-06T18:03:58.816Z"
   },
   {
    "duration": 6,
    "start_time": "2023-09-06T18:03:58.850Z"
   },
   {
    "duration": 24,
    "start_time": "2023-09-06T18:03:58.858Z"
   },
   {
    "duration": 556,
    "start_time": "2023-09-06T18:03:58.884Z"
   },
   {
    "duration": 14,
    "start_time": "2023-09-06T18:03:59.442Z"
   },
   {
    "duration": 16,
    "start_time": "2023-09-06T18:03:59.459Z"
   },
   {
    "duration": 34,
    "start_time": "2023-09-06T18:03:59.476Z"
   },
   {
    "duration": 16,
    "start_time": "2023-09-06T18:03:59.511Z"
   },
   {
    "duration": 382,
    "start_time": "2023-09-06T18:03:59.529Z"
   },
   {
    "duration": 8,
    "start_time": "2023-09-06T18:03:59.913Z"
   },
   {
    "duration": 355,
    "start_time": "2023-09-06T18:03:59.923Z"
   },
   {
    "duration": 30,
    "start_time": "2023-09-06T18:04:00.281Z"
   },
   {
    "duration": 378,
    "start_time": "2023-09-06T18:04:00.313Z"
   },
   {
    "duration": 29,
    "start_time": "2023-09-06T18:04:00.693Z"
   },
   {
    "duration": 60,
    "start_time": "2023-09-06T18:04:00.723Z"
   },
   {
    "duration": 339,
    "start_time": "2023-09-06T18:04:00.785Z"
   },
   {
    "duration": 10,
    "start_time": "2023-09-06T18:04:01.126Z"
   },
   {
    "duration": 195,
    "start_time": "2023-09-06T18:04:01.138Z"
   },
   {
    "duration": 20,
    "start_time": "2023-09-06T18:04:01.335Z"
   },
   {
    "duration": 35,
    "start_time": "2023-09-06T18:04:01.357Z"
   },
   {
    "duration": 47,
    "start_time": "2023-09-06T18:04:01.394Z"
   },
   {
    "duration": 37,
    "start_time": "2023-09-06T18:04:01.443Z"
   },
   {
    "duration": 12,
    "start_time": "2023-09-06T18:04:01.482Z"
   },
   {
    "duration": 30,
    "start_time": "2023-09-06T18:04:01.496Z"
   },
   {
    "duration": 40,
    "start_time": "2023-09-06T18:04:01.528Z"
   },
   {
    "duration": 31,
    "start_time": "2023-09-06T18:04:01.570Z"
   },
   {
    "duration": 177,
    "start_time": "2023-09-06T18:04:01.603Z"
   },
   {
    "duration": 160,
    "start_time": "2023-09-06T18:04:01.782Z"
   },
   {
    "duration": 9,
    "start_time": "2023-09-06T18:04:01.945Z"
   },
   {
    "duration": 271,
    "start_time": "2023-09-06T18:04:01.956Z"
   },
   {
    "duration": 81,
    "start_time": "2023-09-06T18:04:02.229Z"
   },
   {
    "duration": 71,
    "start_time": "2023-09-06T18:04:02.312Z"
   },
   {
    "duration": 394,
    "start_time": "2023-09-06T18:04:02.385Z"
   },
   {
    "duration": 9,
    "start_time": "2023-09-06T18:04:02.781Z"
   },
   {
    "duration": 210,
    "start_time": "2023-09-06T18:05:20.899Z"
   },
   {
    "duration": 9,
    "start_time": "2023-09-06T18:06:24.600Z"
   },
   {
    "duration": 1580,
    "start_time": "2023-09-06T18:06:29.000Z"
   },
   {
    "duration": 9,
    "start_time": "2023-09-06T18:06:50.542Z"
   },
   {
    "duration": 1294,
    "start_time": "2023-09-06T18:06:54.837Z"
   },
   {
    "duration": 10,
    "start_time": "2023-09-06T18:09:51.361Z"
   },
   {
    "duration": 1187,
    "start_time": "2023-09-06T18:09:56.462Z"
   },
   {
    "duration": 9,
    "start_time": "2023-09-06T18:11:12.049Z"
   },
   {
    "duration": 1197,
    "start_time": "2023-09-06T18:11:16.001Z"
   },
   {
    "duration": 9,
    "start_time": "2023-09-06T18:12:10.851Z"
   },
   {
    "duration": 3,
    "start_time": "2023-09-06T18:12:14.631Z"
   },
   {
    "duration": 1250,
    "start_time": "2023-09-06T18:12:16.402Z"
   },
   {
    "duration": 10,
    "start_time": "2023-09-06T18:12:29.938Z"
   },
   {
    "duration": 3,
    "start_time": "2023-09-06T18:12:31.671Z"
   },
   {
    "duration": 1169,
    "start_time": "2023-09-06T18:12:32.894Z"
   },
   {
    "duration": 3,
    "start_time": "2023-09-06T18:13:52.307Z"
   },
   {
    "duration": 1459,
    "start_time": "2023-09-06T18:13:54.559Z"
   },
   {
    "duration": 8,
    "start_time": "2023-09-06T18:21:17.243Z"
   },
   {
    "duration": 2,
    "start_time": "2023-09-06T18:21:19.227Z"
   },
   {
    "duration": 1491,
    "start_time": "2023-09-06T18:21:20.906Z"
   },
   {
    "duration": 9,
    "start_time": "2023-09-06T18:23:13.803Z"
   },
   {
    "duration": 3,
    "start_time": "2023-09-06T18:23:15.192Z"
   },
   {
    "duration": 1114,
    "start_time": "2023-09-06T18:24:07.171Z"
   },
   {
    "duration": 44,
    "start_time": "2023-09-07T07:57:42.341Z"
   },
   {
    "duration": 6,
    "start_time": "2023-09-07T07:57:46.663Z"
   },
   {
    "duration": 6,
    "start_time": "2023-09-07T07:57:49.014Z"
   },
   {
    "duration": 1320,
    "start_time": "2023-09-07T07:57:52.325Z"
   },
   {
    "duration": 3,
    "start_time": "2023-09-07T07:57:53.646Z"
   },
   {
    "duration": 119,
    "start_time": "2023-09-07T07:57:53.651Z"
   },
   {
    "duration": 11,
    "start_time": "2023-09-07T07:57:53.772Z"
   },
   {
    "duration": 56,
    "start_time": "2023-09-07T07:57:53.784Z"
   },
   {
    "duration": 27,
    "start_time": "2023-09-07T07:57:53.842Z"
   },
   {
    "duration": 18,
    "start_time": "2023-09-07T07:57:53.870Z"
   },
   {
    "duration": 177,
    "start_time": "2023-09-07T07:57:53.889Z"
   },
   {
    "duration": 9,
    "start_time": "2023-09-07T07:57:54.067Z"
   },
   {
    "duration": 18,
    "start_time": "2023-09-07T07:57:54.078Z"
   },
   {
    "duration": 14,
    "start_time": "2023-09-07T07:57:54.098Z"
   },
   {
    "duration": 32,
    "start_time": "2023-09-07T07:57:54.113Z"
   },
   {
    "duration": 170,
    "start_time": "2023-09-07T07:57:54.147Z"
   },
   {
    "duration": 16,
    "start_time": "2023-09-07T07:57:54.319Z"
   },
   {
    "duration": 19,
    "start_time": "2023-09-07T07:57:54.336Z"
   },
   {
    "duration": 25,
    "start_time": "2023-09-07T07:57:54.356Z"
   },
   {
    "duration": 29,
    "start_time": "2023-09-07T07:57:54.383Z"
   },
   {
    "duration": 6,
    "start_time": "2023-09-07T07:57:54.414Z"
   },
   {
    "duration": 8,
    "start_time": "2023-09-07T07:57:54.421Z"
   },
   {
    "duration": 15,
    "start_time": "2023-09-07T07:57:54.430Z"
   },
   {
    "duration": 9,
    "start_time": "2023-09-07T07:57:54.446Z"
   },
   {
    "duration": 28,
    "start_time": "2023-09-07T07:57:54.457Z"
   },
   {
    "duration": 13,
    "start_time": "2023-09-07T07:57:54.487Z"
   },
   {
    "duration": 21,
    "start_time": "2023-09-07T07:57:54.502Z"
   },
   {
    "duration": 499,
    "start_time": "2023-09-07T07:57:54.526Z"
   },
   {
    "duration": 22,
    "start_time": "2023-09-07T07:57:55.026Z"
   },
   {
    "duration": 25,
    "start_time": "2023-09-07T07:57:55.050Z"
   },
   {
    "duration": 23,
    "start_time": "2023-09-07T07:57:55.078Z"
   },
   {
    "duration": 47,
    "start_time": "2023-09-07T07:57:55.103Z"
   },
   {
    "duration": 364,
    "start_time": "2023-09-07T07:57:55.151Z"
   },
   {
    "duration": 7,
    "start_time": "2023-09-07T07:57:55.517Z"
   },
   {
    "duration": 304,
    "start_time": "2023-09-07T07:57:55.525Z"
   },
   {
    "duration": 17,
    "start_time": "2023-09-07T07:57:55.830Z"
   },
   {
    "duration": 309,
    "start_time": "2023-09-07T07:57:55.848Z"
   },
   {
    "duration": 17,
    "start_time": "2023-09-07T07:57:56.159Z"
   },
   {
    "duration": 63,
    "start_time": "2023-09-07T07:57:56.177Z"
   },
   {
    "duration": 316,
    "start_time": "2023-09-07T07:57:56.243Z"
   },
   {
    "duration": 9,
    "start_time": "2023-09-07T07:57:56.561Z"
   },
   {
    "duration": 184,
    "start_time": "2023-09-07T07:57:56.572Z"
   },
   {
    "duration": 23,
    "start_time": "2023-09-07T07:57:56.759Z"
   },
   {
    "duration": 12,
    "start_time": "2023-09-07T07:57:56.783Z"
   },
   {
    "duration": 39,
    "start_time": "2023-09-07T07:57:56.797Z"
   },
   {
    "duration": 32,
    "start_time": "2023-09-07T07:57:56.838Z"
   },
   {
    "duration": 23,
    "start_time": "2023-09-07T07:57:56.872Z"
   },
   {
    "duration": 25,
    "start_time": "2023-09-07T07:57:56.896Z"
   },
   {
    "duration": 48,
    "start_time": "2023-09-07T07:57:56.922Z"
   },
   {
    "duration": 26,
    "start_time": "2023-09-07T07:57:56.972Z"
   },
   {
    "duration": 176,
    "start_time": "2023-09-07T07:57:57.000Z"
   },
   {
    "duration": 68,
    "start_time": "2023-09-07T07:57:57.178Z"
   },
   {
    "duration": 0,
    "start_time": "2023-09-07T07:57:57.247Z"
   },
   {
    "duration": 0,
    "start_time": "2023-09-07T07:57:57.248Z"
   },
   {
    "duration": 0,
    "start_time": "2023-09-07T07:57:57.249Z"
   },
   {
    "duration": 0,
    "start_time": "2023-09-07T07:57:57.250Z"
   },
   {
    "duration": 0,
    "start_time": "2023-09-07T07:57:57.251Z"
   },
   {
    "duration": 0,
    "start_time": "2023-09-07T07:57:57.252Z"
   },
   {
    "duration": 0,
    "start_time": "2023-09-07T07:57:57.253Z"
   },
   {
    "duration": 4,
    "start_time": "2023-09-07T07:58:57.875Z"
   },
   {
    "duration": 3,
    "start_time": "2023-09-07T07:59:07.575Z"
   },
   {
    "duration": 15,
    "start_time": "2023-09-07T07:59:07.581Z"
   },
   {
    "duration": 80,
    "start_time": "2023-09-07T07:59:07.598Z"
   },
   {
    "duration": 14,
    "start_time": "2023-09-07T07:59:07.679Z"
   },
   {
    "duration": 25,
    "start_time": "2023-09-07T07:59:07.695Z"
   },
   {
    "duration": 33,
    "start_time": "2023-09-07T07:59:07.722Z"
   },
   {
    "duration": 17,
    "start_time": "2023-09-07T07:59:07.756Z"
   },
   {
    "duration": 193,
    "start_time": "2023-09-07T07:59:07.774Z"
   },
   {
    "duration": 12,
    "start_time": "2023-09-07T07:59:07.969Z"
   },
   {
    "duration": 26,
    "start_time": "2023-09-07T07:59:07.983Z"
   },
   {
    "duration": 52,
    "start_time": "2023-09-07T07:59:08.011Z"
   },
   {
    "duration": 41,
    "start_time": "2023-09-07T07:59:08.065Z"
   },
   {
    "duration": 42,
    "start_time": "2023-09-07T07:59:08.108Z"
   },
   {
    "duration": 31,
    "start_time": "2023-09-07T07:59:08.152Z"
   },
   {
    "duration": 34,
    "start_time": "2023-09-07T07:59:08.185Z"
   },
   {
    "duration": 24,
    "start_time": "2023-09-07T07:59:08.221Z"
   },
   {
    "duration": 33,
    "start_time": "2023-09-07T07:59:08.246Z"
   },
   {
    "duration": 13,
    "start_time": "2023-09-07T07:59:08.281Z"
   },
   {
    "duration": 15,
    "start_time": "2023-09-07T07:59:08.296Z"
   },
   {
    "duration": 24,
    "start_time": "2023-09-07T07:59:08.313Z"
   },
   {
    "duration": 21,
    "start_time": "2023-09-07T07:59:08.339Z"
   },
   {
    "duration": 31,
    "start_time": "2023-09-07T07:59:08.362Z"
   },
   {
    "duration": 5,
    "start_time": "2023-09-07T07:59:08.395Z"
   },
   {
    "duration": 34,
    "start_time": "2023-09-07T07:59:08.402Z"
   },
   {
    "duration": 474,
    "start_time": "2023-09-07T07:59:08.438Z"
   },
   {
    "duration": 24,
    "start_time": "2023-09-07T07:59:08.914Z"
   },
   {
    "duration": 12,
    "start_time": "2023-09-07T07:59:08.940Z"
   },
   {
    "duration": 17,
    "start_time": "2023-09-07T07:59:08.953Z"
   },
   {
    "duration": 14,
    "start_time": "2023-09-07T07:59:08.974Z"
   },
   {
    "duration": 366,
    "start_time": "2023-09-07T07:59:08.989Z"
   },
   {
    "duration": 8,
    "start_time": "2023-09-07T07:59:09.357Z"
   },
   {
    "duration": 326,
    "start_time": "2023-09-07T07:59:09.366Z"
   },
   {
    "duration": 19,
    "start_time": "2023-09-07T07:59:09.694Z"
   },
   {
    "duration": 335,
    "start_time": "2023-09-07T07:59:09.715Z"
   },
   {
    "duration": 22,
    "start_time": "2023-09-07T07:59:10.052Z"
   },
   {
    "duration": 21,
    "start_time": "2023-09-07T07:59:10.076Z"
   },
   {
    "duration": 321,
    "start_time": "2023-09-07T07:59:10.099Z"
   },
   {
    "duration": 14,
    "start_time": "2023-09-07T07:59:10.421Z"
   },
   {
    "duration": 167,
    "start_time": "2023-09-07T07:59:10.437Z"
   },
   {
    "duration": 29,
    "start_time": "2023-09-07T07:59:10.606Z"
   },
   {
    "duration": 9,
    "start_time": "2023-09-07T07:59:10.636Z"
   },
   {
    "duration": 24,
    "start_time": "2023-09-07T07:59:10.646Z"
   },
   {
    "duration": 18,
    "start_time": "2023-09-07T07:59:10.671Z"
   },
   {
    "duration": 4,
    "start_time": "2023-09-07T07:59:10.691Z"
   },
   {
    "duration": 10,
    "start_time": "2023-09-07T07:59:10.696Z"
   },
   {
    "duration": 18,
    "start_time": "2023-09-07T07:59:10.707Z"
   },
   {
    "duration": 21,
    "start_time": "2023-09-07T07:59:10.726Z"
   },
   {
    "duration": 131,
    "start_time": "2023-09-07T07:59:10.749Z"
   },
   {
    "duration": 12,
    "start_time": "2023-09-07T07:59:10.882Z"
   },
   {
    "duration": 0,
    "start_time": "2023-09-07T07:59:10.895Z"
   },
   {
    "duration": 0,
    "start_time": "2023-09-07T07:59:10.896Z"
   },
   {
    "duration": 0,
    "start_time": "2023-09-07T07:59:10.897Z"
   },
   {
    "duration": 0,
    "start_time": "2023-09-07T07:59:10.899Z"
   },
   {
    "duration": 0,
    "start_time": "2023-09-07T07:59:10.900Z"
   },
   {
    "duration": 0,
    "start_time": "2023-09-07T07:59:10.901Z"
   },
   {
    "duration": 0,
    "start_time": "2023-09-07T07:59:10.902Z"
   },
   {
    "duration": 8,
    "start_time": "2023-09-07T07:59:14.715Z"
   },
   {
    "duration": 9,
    "start_time": "2023-09-07T07:59:16.627Z"
   },
   {
    "duration": 953,
    "start_time": "2023-09-07T07:59:18.922Z"
   },
   {
    "duration": 44,
    "start_time": "2023-09-07T07:59:42.724Z"
   },
   {
    "duration": 373,
    "start_time": "2023-09-07T07:59:45.875Z"
   },
   {
    "duration": 7,
    "start_time": "2023-09-07T08:00:18.563Z"
   },
   {
    "duration": 8,
    "start_time": "2023-09-07T08:00:23.228Z"
   },
   {
    "duration": 7,
    "start_time": "2023-09-07T08:00:25.116Z"
   },
   {
    "duration": 6,
    "start_time": "2023-09-07T08:00:27.817Z"
   },
   {
    "duration": 28,
    "start_time": "2023-09-07T08:00:30.571Z"
   },
   {
    "duration": 11,
    "start_time": "2023-09-07T08:00:35.916Z"
   },
   {
    "duration": 144,
    "start_time": "2023-09-07T08:00:47.837Z"
   },
   {
    "duration": 5,
    "start_time": "2023-09-07T08:01:02.755Z"
   },
   {
    "duration": 9,
    "start_time": "2023-09-07T08:01:20.396Z"
   },
   {
    "duration": 737,
    "start_time": "2023-09-07T08:01:48.037Z"
   },
   {
    "duration": 17,
    "start_time": "2023-09-07T08:03:03.832Z"
   },
   {
    "duration": 13,
    "start_time": "2023-09-07T08:03:14.425Z"
   },
   {
    "duration": 619,
    "start_time": "2023-09-07T08:03:26.236Z"
   },
   {
    "duration": 7,
    "start_time": "2023-09-07T08:03:42.444Z"
   },
   {
    "duration": 187,
    "start_time": "2023-09-07T08:04:26.292Z"
   },
   {
    "duration": 209,
    "start_time": "2023-09-07T08:04:58.572Z"
   },
   {
    "duration": 145,
    "start_time": "2023-09-07T08:05:59.716Z"
   },
   {
    "duration": 260,
    "start_time": "2023-09-07T08:06:54.383Z"
   },
   {
    "duration": 3,
    "start_time": "2023-09-07T08:23:08.862Z"
   },
   {
    "duration": 3,
    "start_time": "2023-09-07T08:23:19.889Z"
   },
   {
    "duration": 3,
    "start_time": "2023-09-07T08:23:53.368Z"
   },
   {
    "duration": 5,
    "start_time": "2023-09-07T08:29:05.282Z"
   },
   {
    "duration": 7,
    "start_time": "2023-09-07T08:29:30.572Z"
   },
   {
    "duration": 15,
    "start_time": "2023-09-07T08:30:04.522Z"
   },
   {
    "duration": 11,
    "start_time": "2023-09-07T08:30:31.684Z"
   },
   {
    "duration": 12,
    "start_time": "2023-09-07T08:30:38.690Z"
   },
   {
    "duration": 9,
    "start_time": "2023-09-07T08:51:25.048Z"
   },
   {
    "duration": 8,
    "start_time": "2023-09-07T08:51:47.989Z"
   },
   {
    "duration": 9,
    "start_time": "2023-09-07T08:52:00.056Z"
   },
   {
    "duration": 11,
    "start_time": "2023-09-07T08:52:17.071Z"
   },
   {
    "duration": 14,
    "start_time": "2023-09-07T08:53:22.873Z"
   },
   {
    "duration": 14,
    "start_time": "2023-09-07T08:53:36.922Z"
   },
   {
    "duration": 33,
    "start_time": "2023-09-07T08:59:06.483Z"
   },
   {
    "duration": 35,
    "start_time": "2023-09-07T09:00:57.977Z"
   },
   {
    "duration": 32,
    "start_time": "2023-09-07T09:01:25.538Z"
   },
   {
    "duration": 8,
    "start_time": "2023-09-07T09:02:30.455Z"
   },
   {
    "duration": 13,
    "start_time": "2023-09-07T09:02:46.090Z"
   },
   {
    "duration": 13,
    "start_time": "2023-09-07T09:03:08.694Z"
   },
   {
    "duration": 13,
    "start_time": "2023-09-07T09:03:39.627Z"
   },
   {
    "duration": 31,
    "start_time": "2023-09-07T09:04:29.717Z"
   },
   {
    "duration": 195,
    "start_time": "2023-09-07T09:05:26.719Z"
   },
   {
    "duration": 8,
    "start_time": "2023-09-07T09:05:32.477Z"
   },
   {
    "duration": 187,
    "start_time": "2023-09-07T09:05:34.170Z"
   },
   {
    "duration": 9,
    "start_time": "2023-09-07T09:05:48.735Z"
   },
   {
    "duration": 195,
    "start_time": "2023-09-07T09:05:50.829Z"
   },
   {
    "duration": 8,
    "start_time": "2023-09-07T09:05:53.760Z"
   },
   {
    "duration": 2,
    "start_time": "2023-09-07T09:06:13.814Z"
   },
   {
    "duration": 2,
    "start_time": "2023-09-07T09:06:22.160Z"
   },
   {
    "duration": 10,
    "start_time": "2023-09-07T09:06:24.516Z"
   },
   {
    "duration": 183,
    "start_time": "2023-09-07T09:06:26.507Z"
   },
   {
    "duration": 93,
    "start_time": "2023-09-07T09:07:02.992Z"
   },
   {
    "duration": 191,
    "start_time": "2023-09-07T09:07:04.933Z"
   },
   {
    "duration": 3,
    "start_time": "2023-09-07T09:07:10.746Z"
   },
   {
    "duration": 11,
    "start_time": "2023-09-07T09:07:10.750Z"
   },
   {
    "duration": 62,
    "start_time": "2023-09-07T09:07:10.763Z"
   },
   {
    "duration": 11,
    "start_time": "2023-09-07T09:07:10.826Z"
   },
   {
    "duration": 20,
    "start_time": "2023-09-07T09:07:10.839Z"
   },
   {
    "duration": 3,
    "start_time": "2023-09-07T09:07:10.860Z"
   },
   {
    "duration": 15,
    "start_time": "2023-09-07T09:07:10.864Z"
   },
   {
    "duration": 183,
    "start_time": "2023-09-07T09:07:10.880Z"
   },
   {
    "duration": 9,
    "start_time": "2023-09-07T09:07:11.064Z"
   },
   {
    "duration": 19,
    "start_time": "2023-09-07T09:07:11.075Z"
   },
   {
    "duration": 15,
    "start_time": "2023-09-07T09:07:11.095Z"
   },
   {
    "duration": 23,
    "start_time": "2023-09-07T09:07:11.111Z"
   },
   {
    "duration": 8,
    "start_time": "2023-09-07T09:07:11.135Z"
   },
   {
    "duration": 12,
    "start_time": "2023-09-07T09:07:11.145Z"
   },
   {
    "duration": 14,
    "start_time": "2023-09-07T09:07:11.158Z"
   },
   {
    "duration": 13,
    "start_time": "2023-09-07T09:07:11.173Z"
   },
   {
    "duration": 32,
    "start_time": "2023-09-07T09:07:11.187Z"
   },
   {
    "duration": 10,
    "start_time": "2023-09-07T09:07:11.220Z"
   },
   {
    "duration": 16,
    "start_time": "2023-09-07T09:07:11.232Z"
   },
   {
    "duration": 11,
    "start_time": "2023-09-07T09:07:11.249Z"
   },
   {
    "duration": 20,
    "start_time": "2023-09-07T09:07:11.261Z"
   },
   {
    "duration": 33,
    "start_time": "2023-09-07T09:07:11.282Z"
   },
   {
    "duration": 5,
    "start_time": "2023-09-07T09:07:11.316Z"
   },
   {
    "duration": 43,
    "start_time": "2023-09-07T09:07:11.323Z"
   },
   {
    "duration": 390,
    "start_time": "2023-09-07T09:07:11.371Z"
   },
   {
    "duration": 12,
    "start_time": "2023-09-07T09:07:11.763Z"
   },
   {
    "duration": 18,
    "start_time": "2023-09-07T09:07:11.777Z"
   },
   {
    "duration": 16,
    "start_time": "2023-09-07T09:07:11.796Z"
   },
   {
    "duration": 27,
    "start_time": "2023-09-07T09:07:11.814Z"
   },
   {
    "duration": 397,
    "start_time": "2023-09-07T09:07:11.843Z"
   },
   {
    "duration": 8,
    "start_time": "2023-09-07T09:07:12.242Z"
   },
   {
    "duration": 293,
    "start_time": "2023-09-07T09:07:12.252Z"
   },
   {
    "duration": 17,
    "start_time": "2023-09-07T09:07:12.547Z"
   },
   {
    "duration": 284,
    "start_time": "2023-09-07T09:07:12.566Z"
   },
   {
    "duration": 15,
    "start_time": "2023-09-07T09:07:12.852Z"
   },
   {
    "duration": 31,
    "start_time": "2023-09-07T09:07:12.869Z"
   },
   {
    "duration": 334,
    "start_time": "2023-09-07T09:07:12.902Z"
   },
   {
    "duration": 9,
    "start_time": "2023-09-07T09:07:13.237Z"
   },
   {
    "duration": 182,
    "start_time": "2023-09-07T09:07:13.248Z"
   },
   {
    "duration": 17,
    "start_time": "2023-09-07T09:07:13.431Z"
   },
   {
    "duration": 13,
    "start_time": "2023-09-07T09:07:13.450Z"
   },
   {
    "duration": 22,
    "start_time": "2023-09-07T09:07:13.464Z"
   },
   {
    "duration": 60,
    "start_time": "2023-09-07T09:07:13.487Z"
   },
   {
    "duration": 18,
    "start_time": "2023-09-07T09:07:13.549Z"
   },
   {
    "duration": 34,
    "start_time": "2023-09-07T09:07:13.569Z"
   },
   {
    "duration": 45,
    "start_time": "2023-09-07T09:07:13.604Z"
   },
   {
    "duration": 804,
    "start_time": "2023-09-07T09:07:13.650Z"
   },
   {
    "duration": 8,
    "start_time": "2023-09-07T09:07:14.456Z"
   },
   {
    "duration": 225,
    "start_time": "2023-09-07T09:07:14.466Z"
   },
   {
    "duration": 196,
    "start_time": "2023-09-07T09:07:14.693Z"
   },
   {
    "duration": 178,
    "start_time": "2023-09-07T09:07:14.892Z"
   },
   {
    "duration": 2,
    "start_time": "2023-09-07T09:07:15.072Z"
   },
   {
    "duration": 31,
    "start_time": "2023-09-07T09:07:15.076Z"
   },
   {
    "duration": 30,
    "start_time": "2023-09-07T09:07:15.108Z"
   },
   {
    "duration": 11,
    "start_time": "2023-09-07T09:07:15.140Z"
   },
   {
    "duration": 8,
    "start_time": "2023-09-07T09:07:15.152Z"
   },
   {
    "duration": 94,
    "start_time": "2023-09-07T09:07:15.161Z"
   },
   {
    "duration": 223,
    "start_time": "2023-09-07T09:07:15.257Z"
   },
   {
    "duration": 13,
    "start_time": "2023-09-07T09:08:04.381Z"
   },
   {
    "duration": 10,
    "start_time": "2023-09-07T09:08:08.508Z"
   },
   {
    "duration": 791,
    "start_time": "2023-09-07T09:08:10.524Z"
   },
   {
    "duration": 8,
    "start_time": "2023-09-07T09:08:15.515Z"
   },
   {
    "duration": 240,
    "start_time": "2023-09-07T09:08:18.619Z"
   },
   {
    "duration": 136,
    "start_time": "2023-09-07T09:08:30.825Z"
   },
   {
    "duration": 144,
    "start_time": "2023-09-07T09:08:34.899Z"
   },
   {
    "duration": 126,
    "start_time": "2023-09-07T09:09:10.739Z"
   },
   {
    "duration": 14,
    "start_time": "2023-09-07T09:09:48.461Z"
   },
   {
    "duration": 14,
    "start_time": "2023-09-07T09:09:56.640Z"
   },
   {
    "duration": 7,
    "start_time": "2023-09-07T09:10:01.196Z"
   },
   {
    "duration": 8,
    "start_time": "2023-09-07T09:10:11.457Z"
   },
   {
    "duration": 203,
    "start_time": "2023-09-07T09:10:13.533Z"
   },
   {
    "duration": 1091,
    "start_time": "2023-09-07T09:10:23.779Z"
   },
   {
    "duration": 206,
    "start_time": "2023-09-07T09:16:42.133Z"
   },
   {
    "duration": 8,
    "start_time": "2023-09-07T09:17:14.312Z"
   },
   {
    "duration": 930,
    "start_time": "2023-09-07T09:17:22.591Z"
   },
   {
    "duration": 31,
    "start_time": "2023-09-07T09:24:44.273Z"
   },
   {
    "duration": 280,
    "start_time": "2023-09-07T09:25:13.145Z"
   },
   {
    "duration": 299,
    "start_time": "2023-09-07T09:25:23.111Z"
   },
   {
    "duration": 33,
    "start_time": "2023-09-07T09:26:37.458Z"
   },
   {
    "duration": 49,
    "start_time": "2023-09-07T09:26:42.945Z"
   },
   {
    "duration": 15,
    "start_time": "2023-09-07T09:43:59.894Z"
   },
   {
    "duration": 22,
    "start_time": "2023-09-07T09:44:14.477Z"
   },
   {
    "duration": 20,
    "start_time": "2023-09-07T09:44:22.670Z"
   },
   {
    "duration": 8,
    "start_time": "2023-09-07T09:48:02.075Z"
   },
   {
    "duration": 14,
    "start_time": "2023-09-07T09:48:12.873Z"
   },
   {
    "duration": 13,
    "start_time": "2023-09-07T09:48:24.383Z"
   },
   {
    "duration": 9,
    "start_time": "2023-09-07T09:48:44.312Z"
   },
   {
    "duration": 12,
    "start_time": "2023-09-07T09:48:52.085Z"
   },
   {
    "duration": 13,
    "start_time": "2023-09-07T09:49:00.761Z"
   },
   {
    "duration": 6,
    "start_time": "2023-09-07T09:50:29.682Z"
   },
   {
    "duration": 12,
    "start_time": "2023-09-07T09:50:32.741Z"
   },
   {
    "duration": 2020,
    "start_time": "2023-09-07T09:50:59.078Z"
   },
   {
    "duration": 8,
    "start_time": "2023-09-07T09:52:59.734Z"
   },
   {
    "duration": 1649,
    "start_time": "2023-09-07T09:53:05.237Z"
   },
   {
    "duration": 14,
    "start_time": "2023-09-07T09:53:43.610Z"
   },
   {
    "duration": 9,
    "start_time": "2023-09-07T09:54:17.926Z"
   },
   {
    "duration": 15,
    "start_time": "2023-09-07T09:57:29.413Z"
   },
   {
    "duration": 6,
    "start_time": "2023-09-07T10:10:11.550Z"
   },
   {
    "duration": 5,
    "start_time": "2023-09-07T10:10:52.539Z"
   },
   {
    "duration": 1605,
    "start_time": "2023-09-07T10:10:54.233Z"
   },
   {
    "duration": 7,
    "start_time": "2023-09-07T10:11:36.941Z"
   },
   {
    "duration": 1603,
    "start_time": "2023-09-07T10:11:41.350Z"
   },
   {
    "duration": 10,
    "start_time": "2023-09-07T10:11:59.944Z"
   },
   {
    "duration": 11,
    "start_time": "2023-09-07T10:12:30.272Z"
   },
   {
    "duration": 8,
    "start_time": "2023-09-07T10:15:41.625Z"
   },
   {
    "duration": 10,
    "start_time": "2023-09-07T10:21:06.847Z"
   },
   {
    "duration": 8,
    "start_time": "2023-09-07T10:21:38.875Z"
   },
   {
    "duration": 4,
    "start_time": "2023-09-07T10:22:50.930Z"
   },
   {
    "duration": 10,
    "start_time": "2023-09-07T10:23:02.833Z"
   },
   {
    "duration": 295,
    "start_time": "2023-09-07T10:23:20.107Z"
   },
   {
    "duration": 302,
    "start_time": "2023-09-07T10:23:30.836Z"
   },
   {
    "duration": 273,
    "start_time": "2023-09-07T10:23:42.010Z"
   },
   {
    "duration": 283,
    "start_time": "2023-09-07T10:23:48.617Z"
   },
   {
    "duration": 281,
    "start_time": "2023-09-07T10:23:56.906Z"
   },
   {
    "duration": 280,
    "start_time": "2023-09-07T10:24:04.227Z"
   },
   {
    "duration": 600,
    "start_time": "2023-09-07T10:24:46.829Z"
   },
   {
    "duration": 2364,
    "start_time": "2023-09-07T10:25:47.741Z"
   },
   {
    "duration": 2004,
    "start_time": "2023-09-07T10:26:21.852Z"
   },
   {
    "duration": 2076,
    "start_time": "2023-09-07T10:26:51.021Z"
   },
   {
    "duration": 1968,
    "start_time": "2023-09-07T10:37:32.864Z"
   },
   {
    "duration": 2022,
    "start_time": "2023-09-07T10:37:50.594Z"
   },
   {
    "duration": 2040,
    "start_time": "2023-09-07T10:39:29.777Z"
   },
   {
    "duration": 151,
    "start_time": "2023-09-07T10:40:01.250Z"
   },
   {
    "duration": 76,
    "start_time": "2023-09-07T10:40:24.772Z"
   },
   {
    "duration": 140,
    "start_time": "2023-09-07T10:40:36.512Z"
   },
   {
    "duration": 12,
    "start_time": "2023-09-07T10:45:31.677Z"
   },
   {
    "duration": 24,
    "start_time": "2023-09-07T10:45:50.439Z"
   },
   {
    "duration": 19,
    "start_time": "2023-09-07T10:47:08.234Z"
   },
   {
    "duration": 19,
    "start_time": "2023-09-07T10:48:09.981Z"
   },
   {
    "duration": 15,
    "start_time": "2023-09-07T10:49:51.083Z"
   },
   {
    "duration": 30,
    "start_time": "2023-09-07T10:50:30.760Z"
   },
   {
    "duration": 20,
    "start_time": "2023-09-07T10:50:51.310Z"
   },
   {
    "duration": 25,
    "start_time": "2023-09-07T10:52:30.587Z"
   },
   {
    "duration": 4244,
    "start_time": "2023-09-07T10:52:54.401Z"
   },
   {
    "duration": 16,
    "start_time": "2023-09-07T10:53:50.371Z"
   },
   {
    "duration": 18,
    "start_time": "2023-09-07T10:54:00.475Z"
   },
   {
    "duration": 42,
    "start_time": "2023-09-07T10:54:15.746Z"
   },
   {
    "duration": 1564,
    "start_time": "2023-09-07T10:54:34.475Z"
   },
   {
    "duration": 1049,
    "start_time": "2023-09-07T10:55:06.541Z"
   },
   {
    "duration": 1491,
    "start_time": "2023-09-07T10:55:18.451Z"
   },
   {
    "duration": 21,
    "start_time": "2023-09-07T10:58:29.033Z"
   },
   {
    "duration": 19,
    "start_time": "2023-09-07T10:58:47.513Z"
   },
   {
    "duration": 22,
    "start_time": "2023-09-07T10:59:00.235Z"
   },
   {
    "duration": 7,
    "start_time": "2023-09-07T10:59:20.646Z"
   },
   {
    "duration": 1641,
    "start_time": "2023-09-07T10:59:31.765Z"
   },
   {
    "duration": 20,
    "start_time": "2023-09-07T11:00:26.476Z"
   },
   {
    "duration": 12,
    "start_time": "2023-09-07T11:02:11.325Z"
   },
   {
    "duration": 17,
    "start_time": "2023-09-07T11:02:27.964Z"
   },
   {
    "duration": 7,
    "start_time": "2023-09-07T11:03:08.897Z"
   },
   {
    "duration": 8,
    "start_time": "2023-09-07T11:03:33.541Z"
   },
   {
    "duration": 20,
    "start_time": "2023-09-07T11:03:36.396Z"
   },
   {
    "duration": 2,
    "start_time": "2023-09-07T11:04:03.998Z"
   },
   {
    "duration": 2,
    "start_time": "2023-09-07T11:04:12.591Z"
   },
   {
    "duration": 2,
    "start_time": "2023-09-07T11:04:21.839Z"
   },
   {
    "duration": 2,
    "start_time": "2023-09-07T11:04:32.424Z"
   },
   {
    "duration": 15,
    "start_time": "2023-09-07T11:06:53.110Z"
   },
   {
    "duration": 12,
    "start_time": "2023-09-07T11:06:57.285Z"
   },
   {
    "duration": 1655,
    "start_time": "2023-09-07T11:07:22.726Z"
   },
   {
    "duration": 230,
    "start_time": "2023-09-07T11:09:25.631Z"
   },
   {
    "duration": 221,
    "start_time": "2023-09-07T11:10:43.130Z"
   },
   {
    "duration": 259,
    "start_time": "2023-09-07T11:14:18.559Z"
   },
   {
    "duration": 5,
    "start_time": "2023-09-07T11:38:30.870Z"
   },
   {
    "duration": 5,
    "start_time": "2023-09-07T11:38:34.959Z"
   },
   {
    "duration": 1056,
    "start_time": "2023-09-07T11:38:49.964Z"
   },
   {
    "duration": 8,
    "start_time": "2023-09-07T11:39:40.656Z"
   },
   {
    "duration": 9,
    "start_time": "2023-09-07T11:39:46.181Z"
   },
   {
    "duration": 900,
    "start_time": "2023-09-07T11:39:57.892Z"
   },
   {
    "duration": 1005,
    "start_time": "2023-09-07T11:40:32.822Z"
   },
   {
    "duration": 12,
    "start_time": "2023-09-07T11:50:49.418Z"
   },
   {
    "duration": 254,
    "start_time": "2023-09-07T11:51:02.783Z"
   },
   {
    "duration": 251,
    "start_time": "2023-09-07T11:51:10.967Z"
   },
   {
    "duration": 247,
    "start_time": "2023-09-07T11:51:21.033Z"
   },
   {
    "duration": 28,
    "start_time": "2023-09-07T11:51:34.752Z"
   },
   {
    "duration": 251,
    "start_time": "2023-09-07T11:52:10.801Z"
   },
   {
    "duration": 23,
    "start_time": "2023-09-07T11:52:19.647Z"
   },
   {
    "duration": 254,
    "start_time": "2023-09-07T11:52:36.019Z"
   },
   {
    "duration": 244,
    "start_time": "2023-09-07T11:53:35.752Z"
   },
   {
    "duration": 242,
    "start_time": "2023-09-07T11:53:50.546Z"
   },
   {
    "duration": 29,
    "start_time": "2023-09-07T11:54:04.610Z"
   },
   {
    "duration": 261,
    "start_time": "2023-09-07T11:54:26.264Z"
   },
   {
    "duration": 29,
    "start_time": "2023-09-07T11:54:36.542Z"
   },
   {
    "duration": 433,
    "start_time": "2023-09-07T11:54:52.056Z"
   },
   {
    "duration": 23,
    "start_time": "2023-09-07T11:55:03.546Z"
   },
   {
    "duration": 240,
    "start_time": "2023-09-07T11:55:23.345Z"
   },
   {
    "duration": 12,
    "start_time": "2023-09-07T12:06:41.829Z"
   },
   {
    "duration": 13,
    "start_time": "2023-09-07T12:06:59.621Z"
   },
   {
    "duration": 20,
    "start_time": "2023-09-07T12:07:30.223Z"
   },
   {
    "duration": 19,
    "start_time": "2023-09-07T12:08:06.983Z"
   },
   {
    "duration": 19,
    "start_time": "2023-09-07T12:08:15.053Z"
   },
   {
    "duration": 18,
    "start_time": "2023-09-07T12:08:35.239Z"
   },
   {
    "duration": 93,
    "start_time": "2023-09-07T12:09:03.324Z"
   },
   {
    "duration": 17,
    "start_time": "2023-09-07T12:18:17.196Z"
   },
   {
    "duration": 8,
    "start_time": "2023-09-07T12:22:57.009Z"
   },
   {
    "duration": 1261,
    "start_time": "2023-09-07T12:23:16.921Z"
   },
   {
    "duration": 3,
    "start_time": "2023-09-07T12:23:46.699Z"
   },
   {
    "duration": 14,
    "start_time": "2023-09-07T12:23:55.812Z"
   },
   {
    "duration": 1239,
    "start_time": "2023-09-07T12:29:12.304Z"
   },
   {
    "duration": 9,
    "start_time": "2023-09-07T12:30:13.142Z"
   },
   {
    "duration": 19,
    "start_time": "2023-09-07T12:30:30.002Z"
   },
   {
    "duration": 14,
    "start_time": "2023-09-07T12:31:18.411Z"
   },
   {
    "duration": 13,
    "start_time": "2023-09-07T12:31:21.737Z"
   },
   {
    "duration": 25,
    "start_time": "2023-09-07T12:31:23.228Z"
   },
   {
    "duration": 19,
    "start_time": "2023-09-07T12:31:47.839Z"
   },
   {
    "duration": 16,
    "start_time": "2023-09-07T12:32:09.643Z"
   },
   {
    "duration": 18,
    "start_time": "2023-09-07T12:32:18.212Z"
   },
   {
    "duration": 20,
    "start_time": "2023-09-07T12:32:27.202Z"
   },
   {
    "duration": 10,
    "start_time": "2023-09-07T12:32:32.411Z"
   },
   {
    "duration": 13,
    "start_time": "2023-09-07T12:32:39.357Z"
   },
   {
    "duration": 14,
    "start_time": "2023-09-07T12:32:50.723Z"
   },
   {
    "duration": 4,
    "start_time": "2023-09-07T12:32:55.095Z"
   },
   {
    "duration": 33,
    "start_time": "2023-09-07T12:32:55.102Z"
   },
   {
    "duration": 91,
    "start_time": "2023-09-07T12:32:55.138Z"
   },
   {
    "duration": 12,
    "start_time": "2023-09-07T12:32:55.231Z"
   },
   {
    "duration": 35,
    "start_time": "2023-09-07T12:32:55.245Z"
   },
   {
    "duration": 18,
    "start_time": "2023-09-07T12:32:55.282Z"
   },
   {
    "duration": 27,
    "start_time": "2023-09-07T12:32:55.302Z"
   },
   {
    "duration": 224,
    "start_time": "2023-09-07T12:32:55.331Z"
   },
   {
    "duration": 9,
    "start_time": "2023-09-07T12:32:55.557Z"
   },
   {
    "duration": 53,
    "start_time": "2023-09-07T12:32:55.567Z"
   },
   {
    "duration": 48,
    "start_time": "2023-09-07T12:32:55.622Z"
   },
   {
    "duration": 29,
    "start_time": "2023-09-07T12:32:55.672Z"
   },
   {
    "duration": 25,
    "start_time": "2023-09-07T12:32:55.703Z"
   },
   {
    "duration": 21,
    "start_time": "2023-09-07T12:32:55.729Z"
   },
   {
    "duration": 51,
    "start_time": "2023-09-07T12:32:55.752Z"
   },
   {
    "duration": 39,
    "start_time": "2023-09-07T12:32:55.804Z"
   },
   {
    "duration": 35,
    "start_time": "2023-09-07T12:32:55.845Z"
   },
   {
    "duration": 13,
    "start_time": "2023-09-07T12:32:55.882Z"
   },
   {
    "duration": 26,
    "start_time": "2023-09-07T12:32:55.897Z"
   },
   {
    "duration": 49,
    "start_time": "2023-09-07T12:32:55.925Z"
   },
   {
    "duration": 27,
    "start_time": "2023-09-07T12:32:55.976Z"
   },
   {
    "duration": 46,
    "start_time": "2023-09-07T12:32:56.005Z"
   },
   {
    "duration": 14,
    "start_time": "2023-09-07T12:32:56.053Z"
   },
   {
    "duration": 25,
    "start_time": "2023-09-07T12:32:56.068Z"
   },
   {
    "duration": 413,
    "start_time": "2023-09-07T12:32:56.094Z"
   },
   {
    "duration": 25,
    "start_time": "2023-09-07T12:32:56.509Z"
   },
   {
    "duration": 13,
    "start_time": "2023-09-07T12:32:56.536Z"
   },
   {
    "duration": 38,
    "start_time": "2023-09-07T12:32:56.550Z"
   },
   {
    "duration": 28,
    "start_time": "2023-09-07T12:32:56.592Z"
   },
   {
    "duration": 37,
    "start_time": "2023-09-07T12:32:56.622Z"
   },
   {
    "duration": 20,
    "start_time": "2023-09-07T12:32:56.661Z"
   },
   {
    "duration": 30,
    "start_time": "2023-09-07T12:32:56.683Z"
   },
   {
    "duration": 16,
    "start_time": "2023-09-07T12:32:56.715Z"
   },
   {
    "duration": 417,
    "start_time": "2023-09-07T12:32:56.734Z"
   },
   {
    "duration": 9,
    "start_time": "2023-09-07T12:32:57.153Z"
   },
   {
    "duration": 389,
    "start_time": "2023-09-07T12:32:57.164Z"
   },
   {
    "duration": 18,
    "start_time": "2023-09-07T12:32:57.555Z"
   },
   {
    "duration": 493,
    "start_time": "2023-09-07T12:32:57.575Z"
   },
   {
    "duration": 16,
    "start_time": "2023-09-07T12:32:58.070Z"
   },
   {
    "duration": 50,
    "start_time": "2023-09-07T12:32:58.088Z"
   },
   {
    "duration": 378,
    "start_time": "2023-09-07T12:32:58.140Z"
   },
   {
    "duration": 20,
    "start_time": "2023-09-07T12:32:58.520Z"
   },
   {
    "duration": 178,
    "start_time": "2023-09-07T12:32:58.541Z"
   },
   {
    "duration": 26,
    "start_time": "2023-09-07T12:32:58.721Z"
   },
   {
    "duration": 17,
    "start_time": "2023-09-07T12:32:58.749Z"
   },
   {
    "duration": 42,
    "start_time": "2023-09-07T12:32:58.768Z"
   },
   {
    "duration": 15,
    "start_time": "2023-09-07T12:32:58.811Z"
   },
   {
    "duration": 17,
    "start_time": "2023-09-07T12:32:58.827Z"
   },
   {
    "duration": 13,
    "start_time": "2023-09-07T12:32:58.845Z"
   },
   {
    "duration": 806,
    "start_time": "2023-09-07T12:32:58.860Z"
   },
   {
    "duration": 10,
    "start_time": "2023-09-07T12:32:59.668Z"
   },
   {
    "duration": 295,
    "start_time": "2023-09-07T12:32:59.680Z"
   },
   {
    "duration": 209,
    "start_time": "2023-09-07T12:32:59.977Z"
   },
   {
    "duration": 249,
    "start_time": "2023-09-07T12:33:00.188Z"
   },
   {
    "duration": 8,
    "start_time": "2023-09-07T12:33:00.439Z"
   },
   {
    "duration": 106,
    "start_time": "2023-09-07T12:33:00.449Z"
   },
   {
    "duration": 32,
    "start_time": "2023-09-07T12:33:00.557Z"
   },
   {
    "duration": 43,
    "start_time": "2023-09-07T12:33:00.591Z"
   },
   {
    "duration": 51,
    "start_time": "2023-09-07T12:33:00.636Z"
   },
   {
    "duration": 50,
    "start_time": "2023-09-07T12:33:00.688Z"
   },
   {
    "duration": 534,
    "start_time": "2023-09-07T12:33:00.740Z"
   },
   {
    "duration": 59,
    "start_time": "2023-09-07T12:33:01.276Z"
   },
   {
    "duration": 1354,
    "start_time": "2023-09-07T12:33:01.337Z"
   },
   {
    "duration": 1121,
    "start_time": "2023-09-07T12:33:02.693Z"
   },
   {
    "duration": 1188,
    "start_time": "2023-09-07T12:33:03.816Z"
   },
   {
    "duration": 12,
    "start_time": "2023-09-07T12:33:05.005Z"
   },
   {
    "duration": 292,
    "start_time": "2023-09-07T12:33:05.018Z"
   },
   {
    "duration": 24,
    "start_time": "2023-09-07T12:33:05.314Z"
   },
   {
    "duration": 0,
    "start_time": "2023-09-07T12:33:05.340Z"
   },
   {
    "duration": 14,
    "start_time": "2023-09-07T12:33:55.603Z"
   },
   {
    "duration": 28,
    "start_time": "2023-09-07T12:39:07.498Z"
   },
   {
    "duration": 14,
    "start_time": "2023-09-07T12:39:27.987Z"
   },
   {
    "duration": 133,
    "start_time": "2023-09-07T12:39:40.094Z"
   },
   {
    "duration": 4,
    "start_time": "2023-09-07T12:39:48.649Z"
   },
   {
    "duration": 30,
    "start_time": "2023-09-07T12:39:48.655Z"
   },
   {
    "duration": 124,
    "start_time": "2023-09-07T12:39:48.687Z"
   },
   {
    "duration": 14,
    "start_time": "2023-09-07T12:39:48.814Z"
   },
   {
    "duration": 250,
    "start_time": "2023-09-07T12:39:48.830Z"
   },
   {
    "duration": 185,
    "start_time": "2023-09-07T12:39:49.083Z"
   },
   {
    "duration": 41,
    "start_time": "2023-09-07T12:39:49.270Z"
   },
   {
    "duration": 341,
    "start_time": "2023-09-07T12:39:49.313Z"
   },
   {
    "duration": 15,
    "start_time": "2023-09-07T12:39:49.656Z"
   },
   {
    "duration": 70,
    "start_time": "2023-09-07T12:39:49.674Z"
   },
   {
    "duration": 76,
    "start_time": "2023-09-07T12:39:49.746Z"
   },
   {
    "duration": 29,
    "start_time": "2023-09-07T12:39:49.824Z"
   },
   {
    "duration": 28,
    "start_time": "2023-09-07T12:39:49.855Z"
   },
   {
    "duration": 26,
    "start_time": "2023-09-07T12:39:49.885Z"
   },
   {
    "duration": 72,
    "start_time": "2023-09-07T12:39:49.913Z"
   },
   {
    "duration": 52,
    "start_time": "2023-09-07T12:39:49.987Z"
   },
   {
    "duration": 63,
    "start_time": "2023-09-07T12:39:50.041Z"
   },
   {
    "duration": 28,
    "start_time": "2023-09-07T12:39:50.105Z"
   },
   {
    "duration": 66,
    "start_time": "2023-09-07T12:39:50.134Z"
   },
   {
    "duration": 39,
    "start_time": "2023-09-07T12:39:50.202Z"
   },
   {
    "duration": 40,
    "start_time": "2023-09-07T12:39:50.243Z"
   },
   {
    "duration": 59,
    "start_time": "2023-09-07T12:39:50.285Z"
   },
   {
    "duration": 15,
    "start_time": "2023-09-07T12:39:50.345Z"
   },
   {
    "duration": 38,
    "start_time": "2023-09-07T12:39:50.362Z"
   },
   {
    "duration": 634,
    "start_time": "2023-09-07T12:39:50.402Z"
   },
   {
    "duration": 15,
    "start_time": "2023-09-07T12:39:51.038Z"
   },
   {
    "duration": 11,
    "start_time": "2023-09-07T12:39:51.055Z"
   },
   {
    "duration": 41,
    "start_time": "2023-09-07T12:39:51.068Z"
   },
   {
    "duration": 30,
    "start_time": "2023-09-07T12:39:51.110Z"
   },
   {
    "duration": 30,
    "start_time": "2023-09-07T12:39:51.145Z"
   },
   {
    "duration": 123,
    "start_time": "2023-09-07T12:39:51.177Z"
   },
   {
    "duration": 0,
    "start_time": "2023-09-07T12:39:51.302Z"
   },
   {
    "duration": 0,
    "start_time": "2023-09-07T12:39:51.303Z"
   },
   {
    "duration": 0,
    "start_time": "2023-09-07T12:39:51.304Z"
   },
   {
    "duration": 0,
    "start_time": "2023-09-07T12:39:51.305Z"
   },
   {
    "duration": 0,
    "start_time": "2023-09-07T12:39:51.306Z"
   },
   {
    "duration": 0,
    "start_time": "2023-09-07T12:39:51.307Z"
   },
   {
    "duration": 0,
    "start_time": "2023-09-07T12:39:51.308Z"
   },
   {
    "duration": 0,
    "start_time": "2023-09-07T12:39:51.309Z"
   },
   {
    "duration": 0,
    "start_time": "2023-09-07T12:39:51.310Z"
   },
   {
    "duration": 0,
    "start_time": "2023-09-07T12:39:51.311Z"
   },
   {
    "duration": 0,
    "start_time": "2023-09-07T12:39:51.311Z"
   },
   {
    "duration": 0,
    "start_time": "2023-09-07T12:39:51.313Z"
   },
   {
    "duration": 0,
    "start_time": "2023-09-07T12:39:51.314Z"
   },
   {
    "duration": 0,
    "start_time": "2023-09-07T12:39:51.314Z"
   },
   {
    "duration": 0,
    "start_time": "2023-09-07T12:39:51.315Z"
   },
   {
    "duration": 0,
    "start_time": "2023-09-07T12:39:51.317Z"
   },
   {
    "duration": 0,
    "start_time": "2023-09-07T12:39:51.318Z"
   },
   {
    "duration": 0,
    "start_time": "2023-09-07T12:39:51.319Z"
   },
   {
    "duration": 0,
    "start_time": "2023-09-07T12:39:51.320Z"
   },
   {
    "duration": 0,
    "start_time": "2023-09-07T12:39:51.321Z"
   },
   {
    "duration": 0,
    "start_time": "2023-09-07T12:39:51.322Z"
   },
   {
    "duration": 0,
    "start_time": "2023-09-07T12:39:51.323Z"
   },
   {
    "duration": 0,
    "start_time": "2023-09-07T12:39:51.325Z"
   },
   {
    "duration": 0,
    "start_time": "2023-09-07T12:39:51.326Z"
   },
   {
    "duration": 0,
    "start_time": "2023-09-07T12:39:51.327Z"
   },
   {
    "duration": 0,
    "start_time": "2023-09-07T12:39:51.328Z"
   },
   {
    "duration": 0,
    "start_time": "2023-09-07T12:39:51.329Z"
   },
   {
    "duration": 0,
    "start_time": "2023-09-07T12:39:51.330Z"
   },
   {
    "duration": 0,
    "start_time": "2023-09-07T12:39:51.332Z"
   },
   {
    "duration": 0,
    "start_time": "2023-09-07T12:39:51.333Z"
   },
   {
    "duration": 0,
    "start_time": "2023-09-07T12:39:51.334Z"
   },
   {
    "duration": 0,
    "start_time": "2023-09-07T12:39:51.335Z"
   },
   {
    "duration": 0,
    "start_time": "2023-09-07T12:39:51.336Z"
   },
   {
    "duration": 0,
    "start_time": "2023-09-07T12:39:51.338Z"
   },
   {
    "duration": 0,
    "start_time": "2023-09-07T12:39:51.339Z"
   },
   {
    "duration": 0,
    "start_time": "2023-09-07T12:39:51.340Z"
   },
   {
    "duration": 0,
    "start_time": "2023-09-07T12:39:51.341Z"
   },
   {
    "duration": 1,
    "start_time": "2023-09-07T12:39:51.342Z"
   },
   {
    "duration": 73,
    "start_time": "2023-09-07T12:40:41.914Z"
   },
   {
    "duration": 18,
    "start_time": "2023-09-07T12:41:06.134Z"
   },
   {
    "duration": 2,
    "start_time": "2023-09-07T12:41:12.663Z"
   },
   {
    "duration": 77,
    "start_time": "2023-09-07T12:41:25.629Z"
   },
   {
    "duration": 73,
    "start_time": "2023-09-07T12:41:40.708Z"
   },
   {
    "duration": 3,
    "start_time": "2023-09-07T12:48:53.934Z"
   },
   {
    "duration": 31,
    "start_time": "2023-09-07T12:48:53.938Z"
   },
   {
    "duration": 62,
    "start_time": "2023-09-07T12:48:53.971Z"
   },
   {
    "duration": 12,
    "start_time": "2023-09-07T12:48:54.035Z"
   },
   {
    "duration": 24,
    "start_time": "2023-09-07T12:48:54.049Z"
   },
   {
    "duration": 4,
    "start_time": "2023-09-07T12:48:54.074Z"
   },
   {
    "duration": 20,
    "start_time": "2023-09-07T12:48:54.079Z"
   },
   {
    "duration": 215,
    "start_time": "2023-09-07T12:48:54.101Z"
   },
   {
    "duration": 23,
    "start_time": "2023-09-07T12:48:54.317Z"
   },
   {
    "duration": 13,
    "start_time": "2023-09-07T12:48:54.341Z"
   },
   {
    "duration": 10,
    "start_time": "2023-09-07T12:48:54.357Z"
   },
   {
    "duration": 11,
    "start_time": "2023-09-07T12:48:54.368Z"
   },
   {
    "duration": 24,
    "start_time": "2023-09-07T12:48:54.380Z"
   },
   {
    "duration": 13,
    "start_time": "2023-09-07T12:48:54.406Z"
   },
   {
    "duration": 32,
    "start_time": "2023-09-07T12:48:54.421Z"
   },
   {
    "duration": 10,
    "start_time": "2023-09-07T12:48:54.456Z"
   },
   {
    "duration": 25,
    "start_time": "2023-09-07T12:48:54.468Z"
   },
   {
    "duration": 8,
    "start_time": "2023-09-07T12:48:54.494Z"
   },
   {
    "duration": 22,
    "start_time": "2023-09-07T12:48:54.504Z"
   },
   {
    "duration": 27,
    "start_time": "2023-09-07T12:48:54.528Z"
   },
   {
    "duration": 15,
    "start_time": "2023-09-07T12:48:54.557Z"
   },
   {
    "duration": 36,
    "start_time": "2023-09-07T12:48:54.574Z"
   },
   {
    "duration": 5,
    "start_time": "2023-09-07T12:48:54.612Z"
   },
   {
    "duration": 28,
    "start_time": "2023-09-07T12:48:54.618Z"
   },
   {
    "duration": 528,
    "start_time": "2023-09-07T12:48:54.649Z"
   },
   {
    "duration": 13,
    "start_time": "2023-09-07T12:48:55.178Z"
   },
   {
    "duration": 14,
    "start_time": "2023-09-07T12:48:55.193Z"
   },
   {
    "duration": 30,
    "start_time": "2023-09-07T12:48:55.208Z"
   },
   {
    "duration": 3,
    "start_time": "2023-09-07T12:48:55.241Z"
   },
   {
    "duration": 5,
    "start_time": "2023-09-07T12:48:55.245Z"
   },
   {
    "duration": 13,
    "start_time": "2023-09-07T12:48:55.251Z"
   },
   {
    "duration": 24,
    "start_time": "2023-09-07T12:48:55.266Z"
   },
   {
    "duration": 36,
    "start_time": "2023-09-07T12:48:55.292Z"
   },
   {
    "duration": 404,
    "start_time": "2023-09-07T12:48:55.330Z"
   },
   {
    "duration": 7,
    "start_time": "2023-09-07T12:48:55.735Z"
   },
   {
    "duration": 363,
    "start_time": "2023-09-07T12:48:55.744Z"
   },
   {
    "duration": 25,
    "start_time": "2023-09-07T12:48:56.109Z"
   },
   {
    "duration": 280,
    "start_time": "2023-09-07T12:48:56.135Z"
   },
   {
    "duration": 24,
    "start_time": "2023-09-07T12:48:56.416Z"
   },
   {
    "duration": 27,
    "start_time": "2023-09-07T12:48:56.441Z"
   },
   {
    "duration": 325,
    "start_time": "2023-09-07T12:48:56.470Z"
   },
   {
    "duration": 9,
    "start_time": "2023-09-07T12:48:56.797Z"
   },
   {
    "duration": 177,
    "start_time": "2023-09-07T12:48:56.808Z"
   },
   {
    "duration": 18,
    "start_time": "2023-09-07T12:48:56.987Z"
   },
   {
    "duration": 7,
    "start_time": "2023-09-07T12:48:57.007Z"
   },
   {
    "duration": 29,
    "start_time": "2023-09-07T12:48:57.015Z"
   },
   {
    "duration": 12,
    "start_time": "2023-09-07T12:48:57.045Z"
   },
   {
    "duration": 20,
    "start_time": "2023-09-07T12:48:57.058Z"
   },
   {
    "duration": 24,
    "start_time": "2023-09-07T12:48:57.079Z"
   },
   {
    "duration": 793,
    "start_time": "2023-09-07T12:48:57.104Z"
   },
   {
    "duration": 8,
    "start_time": "2023-09-07T12:48:57.899Z"
   },
   {
    "duration": 273,
    "start_time": "2023-09-07T12:48:57.909Z"
   },
   {
    "duration": 169,
    "start_time": "2023-09-07T12:48:58.183Z"
   },
   {
    "duration": 187,
    "start_time": "2023-09-07T12:48:58.353Z"
   },
   {
    "duration": 7,
    "start_time": "2023-09-07T12:48:58.542Z"
   },
   {
    "duration": 60,
    "start_time": "2023-09-07T12:48:58.551Z"
   },
   {
    "duration": 17,
    "start_time": "2023-09-07T12:48:58.612Z"
   },
   {
    "duration": 36,
    "start_time": "2023-09-07T12:48:58.630Z"
   },
   {
    "duration": 15,
    "start_time": "2023-09-07T12:48:58.668Z"
   },
   {
    "duration": 50,
    "start_time": "2023-09-07T12:48:58.684Z"
   },
   {
    "duration": 287,
    "start_time": "2023-09-07T12:48:58.736Z"
   },
   {
    "duration": 9,
    "start_time": "2023-09-07T12:48:59.025Z"
   },
   {
    "duration": 1735,
    "start_time": "2023-09-07T12:48:59.035Z"
   },
   {
    "duration": 1282,
    "start_time": "2023-09-07T12:49:00.772Z"
   },
   {
    "duration": 1299,
    "start_time": "2023-09-07T12:49:02.056Z"
   },
   {
    "duration": 11,
    "start_time": "2023-09-07T12:49:03.357Z"
   },
   {
    "duration": 567,
    "start_time": "2023-09-07T12:49:03.369Z"
   },
   {
    "duration": 16,
    "start_time": "2023-09-07T12:49:03.938Z"
   },
   {
    "duration": 0,
    "start_time": "2023-09-07T12:49:03.955Z"
   },
   {
    "duration": 3,
    "start_time": "2023-09-07T12:49:28.360Z"
   },
   {
    "duration": 7,
    "start_time": "2023-09-07T12:49:34.055Z"
   },
   {
    "duration": 1520,
    "start_time": "2023-09-07T12:49:56.537Z"
   },
   {
    "duration": 10,
    "start_time": "2023-09-07T12:50:26.502Z"
   },
   {
    "duration": 18,
    "start_time": "2023-09-07T12:51:03.857Z"
   },
   {
    "duration": 2604,
    "start_time": "2023-09-07T12:53:20.218Z"
   },
   {
    "duration": 1440,
    "start_time": "2023-09-07T12:53:40.651Z"
   },
   {
    "duration": 1926,
    "start_time": "2023-09-07T12:53:55.398Z"
   },
   {
    "duration": 10,
    "start_time": "2023-09-07T12:54:07.814Z"
   },
   {
    "duration": 9,
    "start_time": "2023-09-07T12:54:27.028Z"
   },
   {
    "duration": 11,
    "start_time": "2023-09-07T12:54:30.463Z"
   },
   {
    "duration": 10,
    "start_time": "2023-09-07T12:54:33.526Z"
   },
   {
    "duration": 14,
    "start_time": "2023-09-07T12:54:45.527Z"
   },
   {
    "duration": 11,
    "start_time": "2023-09-07T12:54:55.802Z"
   },
   {
    "duration": 25,
    "start_time": "2023-09-07T12:55:24.697Z"
   },
   {
    "duration": 3,
    "start_time": "2023-09-07T12:55:36.343Z"
   },
   {
    "duration": 16,
    "start_time": "2023-09-07T12:55:36.347Z"
   },
   {
    "duration": 70,
    "start_time": "2023-09-07T12:55:36.365Z"
   },
   {
    "duration": 11,
    "start_time": "2023-09-07T12:55:36.437Z"
   },
   {
    "duration": 217,
    "start_time": "2023-09-07T12:55:36.449Z"
   },
   {
    "duration": 4,
    "start_time": "2023-09-07T12:55:36.668Z"
   },
   {
    "duration": 35,
    "start_time": "2023-09-07T12:55:36.673Z"
   },
   {
    "duration": 224,
    "start_time": "2023-09-07T12:55:36.710Z"
   },
   {
    "duration": 9,
    "start_time": "2023-09-07T12:55:36.935Z"
   },
   {
    "duration": 27,
    "start_time": "2023-09-07T12:55:36.945Z"
   },
   {
    "duration": 23,
    "start_time": "2023-09-07T12:55:36.973Z"
   },
   {
    "duration": 26,
    "start_time": "2023-09-07T12:55:36.998Z"
   },
   {
    "duration": 20,
    "start_time": "2023-09-07T12:55:37.025Z"
   },
   {
    "duration": 16,
    "start_time": "2023-09-07T12:55:37.047Z"
   },
   {
    "duration": 30,
    "start_time": "2023-09-07T12:55:37.064Z"
   },
   {
    "duration": 16,
    "start_time": "2023-09-07T12:55:37.096Z"
   },
   {
    "duration": 38,
    "start_time": "2023-09-07T12:55:37.114Z"
   },
   {
    "duration": 16,
    "start_time": "2023-09-07T12:55:37.153Z"
   },
   {
    "duration": 26,
    "start_time": "2023-09-07T12:55:37.171Z"
   },
   {
    "duration": 13,
    "start_time": "2023-09-07T12:55:37.198Z"
   },
   {
    "duration": 27,
    "start_time": "2023-09-07T12:55:37.212Z"
   },
   {
    "duration": 38,
    "start_time": "2023-09-07T12:55:37.241Z"
   },
   {
    "duration": 4,
    "start_time": "2023-09-07T12:55:37.280Z"
   },
   {
    "duration": 16,
    "start_time": "2023-09-07T12:55:37.286Z"
   },
   {
    "duration": 392,
    "start_time": "2023-09-07T12:55:37.303Z"
   },
   {
    "duration": 12,
    "start_time": "2023-09-07T12:55:37.697Z"
   },
   {
    "duration": 24,
    "start_time": "2023-09-07T12:55:37.710Z"
   },
   {
    "duration": 13,
    "start_time": "2023-09-07T12:55:37.735Z"
   },
   {
    "duration": 11,
    "start_time": "2023-09-07T12:55:37.749Z"
   },
   {
    "duration": 16,
    "start_time": "2023-09-07T12:55:37.764Z"
   },
   {
    "duration": 20,
    "start_time": "2023-09-07T12:55:37.782Z"
   },
   {
    "duration": 2,
    "start_time": "2023-09-07T12:55:37.804Z"
   },
   {
    "duration": 2,
    "start_time": "2023-09-07T12:55:37.834Z"
   },
   {
    "duration": 39,
    "start_time": "2023-09-07T12:55:37.838Z"
   },
   {
    "duration": 29,
    "start_time": "2023-09-07T12:55:37.879Z"
   },
   {
    "duration": 392,
    "start_time": "2023-09-07T12:55:37.910Z"
   },
   {
    "duration": 8,
    "start_time": "2023-09-07T12:55:38.304Z"
   },
   {
    "duration": 416,
    "start_time": "2023-09-07T12:55:38.314Z"
   },
   {
    "duration": 19,
    "start_time": "2023-09-07T12:55:38.731Z"
   },
   {
    "duration": 428,
    "start_time": "2023-09-07T12:55:38.752Z"
   },
   {
    "duration": 14,
    "start_time": "2023-09-07T12:55:39.182Z"
   },
   {
    "duration": 18,
    "start_time": "2023-09-07T12:55:39.197Z"
   },
   {
    "duration": 339,
    "start_time": "2023-09-07T12:55:39.216Z"
   },
   {
    "duration": 9,
    "start_time": "2023-09-07T12:55:39.556Z"
   },
   {
    "duration": 185,
    "start_time": "2023-09-07T12:55:39.567Z"
   },
   {
    "duration": 18,
    "start_time": "2023-09-07T12:55:39.753Z"
   },
   {
    "duration": 22,
    "start_time": "2023-09-07T12:55:39.772Z"
   },
   {
    "duration": 20,
    "start_time": "2023-09-07T12:55:39.796Z"
   },
   {
    "duration": 14,
    "start_time": "2023-09-07T12:55:39.818Z"
   },
   {
    "duration": 11,
    "start_time": "2023-09-07T12:55:39.834Z"
   },
   {
    "duration": 9,
    "start_time": "2023-09-07T12:55:39.847Z"
   },
   {
    "duration": 826,
    "start_time": "2023-09-07T12:55:39.858Z"
   },
   {
    "duration": 8,
    "start_time": "2023-09-07T12:55:40.686Z"
   },
   {
    "duration": 293,
    "start_time": "2023-09-07T12:55:40.696Z"
   },
   {
    "duration": 245,
    "start_time": "2023-09-07T12:55:40.991Z"
   },
   {
    "duration": 405,
    "start_time": "2023-09-07T12:55:41.237Z"
   },
   {
    "duration": 7,
    "start_time": "2023-09-07T12:55:41.644Z"
   },
   {
    "duration": 20,
    "start_time": "2023-09-07T12:55:41.653Z"
   },
   {
    "duration": 59,
    "start_time": "2023-09-07T12:55:41.675Z"
   },
   {
    "duration": 46,
    "start_time": "2023-09-07T12:55:41.736Z"
   },
   {
    "duration": 17,
    "start_time": "2023-09-07T12:55:41.784Z"
   },
   {
    "duration": 15,
    "start_time": "2023-09-07T12:55:41.802Z"
   },
   {
    "duration": 533,
    "start_time": "2023-09-07T12:55:41.834Z"
   },
   {
    "duration": 5,
    "start_time": "2023-09-07T12:55:42.368Z"
   },
   {
    "duration": 1490,
    "start_time": "2023-09-07T12:55:42.375Z"
   },
   {
    "duration": 1153,
    "start_time": "2023-09-07T12:55:43.867Z"
   },
   {
    "duration": 934,
    "start_time": "2023-09-07T12:55:45.022Z"
   },
   {
    "duration": 11,
    "start_time": "2023-09-07T12:55:45.958Z"
   },
   {
    "duration": 259,
    "start_time": "2023-09-07T12:55:45.970Z"
   },
   {
    "duration": 16,
    "start_time": "2023-09-07T12:55:46.231Z"
   },
   {
    "duration": 0,
    "start_time": "2023-09-07T12:55:46.249Z"
   },
   {
    "duration": 16,
    "start_time": "2023-09-07T12:56:57.862Z"
   },
   {
    "duration": 23,
    "start_time": "2023-09-07T12:57:02.969Z"
   },
   {
    "duration": 22,
    "start_time": "2023-09-07T12:57:40.059Z"
   },
   {
    "duration": 27,
    "start_time": "2023-09-07T12:57:52.548Z"
   },
   {
    "duration": 62,
    "start_time": "2023-09-07T12:58:21.374Z"
   },
   {
    "duration": 101,
    "start_time": "2023-09-07T12:58:29.761Z"
   },
   {
    "duration": 11,
    "start_time": "2023-09-07T12:58:41.817Z"
   },
   {
    "duration": 11,
    "start_time": "2023-09-07T12:58:59.117Z"
   },
   {
    "duration": 23,
    "start_time": "2023-09-07T13:00:03.309Z"
   },
   {
    "duration": 15,
    "start_time": "2023-09-07T13:03:31.139Z"
   },
   {
    "duration": 78,
    "start_time": "2023-09-07T13:09:44.692Z"
   },
   {
    "duration": 5,
    "start_time": "2023-09-07T13:14:11.816Z"
   },
   {
    "duration": 23,
    "start_time": "2023-09-07T13:14:19.367Z"
   },
   {
    "duration": 6,
    "start_time": "2023-09-07T13:15:11.833Z"
   },
   {
    "duration": 908,
    "start_time": "2023-09-07T13:15:14.686Z"
   },
   {
    "duration": 69,
    "start_time": "2023-09-07T13:15:36.762Z"
   },
   {
    "duration": 70,
    "start_time": "2023-09-07T13:17:13.836Z"
   },
   {
    "duration": 121,
    "start_time": "2023-09-07T13:17:22.412Z"
   },
   {
    "duration": 11,
    "start_time": "2023-09-07T13:30:22.590Z"
   },
   {
    "duration": 29,
    "start_time": "2023-09-07T13:30:54.933Z"
   },
   {
    "duration": 46,
    "start_time": "2023-09-07T13:31:29.149Z"
   },
   {
    "duration": 7,
    "start_time": "2023-09-07T13:31:59.128Z"
   },
   {
    "duration": 14,
    "start_time": "2023-09-07T13:32:27.231Z"
   },
   {
    "duration": 388,
    "start_time": "2023-09-07T13:33:02.447Z"
   },
   {
    "duration": 8,
    "start_time": "2023-09-07T13:33:27.554Z"
   },
   {
    "duration": 350,
    "start_time": "2023-09-07T13:33:57.684Z"
   },
   {
    "duration": 496,
    "start_time": "2023-09-07T13:34:47.170Z"
   },
   {
    "duration": 6,
    "start_time": "2023-09-07T13:36:02.200Z"
   },
   {
    "duration": 327,
    "start_time": "2023-09-07T13:36:06.412Z"
   },
   {
    "duration": 28,
    "start_time": "2023-09-07T13:36:26.613Z"
   },
   {
    "duration": 306,
    "start_time": "2023-09-07T13:36:29.046Z"
   },
   {
    "duration": 7,
    "start_time": "2023-09-07T13:36:55.822Z"
   },
   {
    "duration": 29,
    "start_time": "2023-09-07T13:37:21.637Z"
   },
   {
    "duration": 28,
    "start_time": "2023-09-07T13:38:06.868Z"
   },
   {
    "duration": 3,
    "start_time": "2023-09-07T13:38:17.211Z"
   },
   {
    "duration": 10,
    "start_time": "2023-09-07T13:38:17.217Z"
   },
   {
    "duration": 65,
    "start_time": "2023-09-07T13:38:17.229Z"
   },
   {
    "duration": 10,
    "start_time": "2023-09-07T13:38:17.296Z"
   },
   {
    "duration": 39,
    "start_time": "2023-09-07T13:38:17.308Z"
   },
   {
    "duration": 17,
    "start_time": "2023-09-07T13:38:17.349Z"
   },
   {
    "duration": 35,
    "start_time": "2023-09-07T13:38:17.367Z"
   },
   {
    "duration": 201,
    "start_time": "2023-09-07T13:38:17.404Z"
   },
   {
    "duration": 9,
    "start_time": "2023-09-07T13:38:17.606Z"
   },
   {
    "duration": 37,
    "start_time": "2023-09-07T13:38:17.616Z"
   },
   {
    "duration": 23,
    "start_time": "2023-09-07T13:38:17.655Z"
   },
   {
    "duration": 26,
    "start_time": "2023-09-07T13:38:17.681Z"
   },
   {
    "duration": 9,
    "start_time": "2023-09-07T13:38:17.708Z"
   },
   {
    "duration": 28,
    "start_time": "2023-09-07T13:38:17.718Z"
   },
   {
    "duration": 31,
    "start_time": "2023-09-07T13:38:17.747Z"
   },
   {
    "duration": 12,
    "start_time": "2023-09-07T13:38:17.780Z"
   },
   {
    "duration": 26,
    "start_time": "2023-09-07T13:38:17.793Z"
   },
   {
    "duration": 5,
    "start_time": "2023-09-07T13:38:17.821Z"
   },
   {
    "duration": 14,
    "start_time": "2023-09-07T13:38:17.827Z"
   },
   {
    "duration": 11,
    "start_time": "2023-09-07T13:38:17.843Z"
   },
   {
    "duration": 7,
    "start_time": "2023-09-07T13:38:17.855Z"
   },
   {
    "duration": 25,
    "start_time": "2023-09-07T13:38:17.863Z"
   },
   {
    "duration": 4,
    "start_time": "2023-09-07T13:38:17.889Z"
   },
   {
    "duration": 16,
    "start_time": "2023-09-07T13:38:17.894Z"
   },
   {
    "duration": 403,
    "start_time": "2023-09-07T13:38:17.911Z"
   },
   {
    "duration": 19,
    "start_time": "2023-09-07T13:38:18.316Z"
   },
   {
    "duration": 10,
    "start_time": "2023-09-07T13:38:18.337Z"
   },
   {
    "duration": 22,
    "start_time": "2023-09-07T13:38:18.349Z"
   },
   {
    "duration": 11,
    "start_time": "2023-09-07T13:38:18.372Z"
   },
   {
    "duration": 28,
    "start_time": "2023-09-07T13:38:18.388Z"
   },
   {
    "duration": 34,
    "start_time": "2023-09-07T13:38:18.417Z"
   },
   {
    "duration": 15,
    "start_time": "2023-09-07T13:38:18.452Z"
   },
   {
    "duration": 23,
    "start_time": "2023-09-07T13:38:18.469Z"
   },
   {
    "duration": 534,
    "start_time": "2023-09-07T13:38:18.493Z"
   },
   {
    "duration": 7,
    "start_time": "2023-09-07T13:38:19.033Z"
   },
   {
    "duration": 387,
    "start_time": "2023-09-07T13:38:19.041Z"
   },
   {
    "duration": 21,
    "start_time": "2023-09-07T13:38:19.429Z"
   },
   {
    "duration": 301,
    "start_time": "2023-09-07T13:38:19.451Z"
   },
   {
    "duration": 14,
    "start_time": "2023-09-07T13:38:19.754Z"
   },
   {
    "duration": 27,
    "start_time": "2023-09-07T13:38:19.770Z"
   },
   {
    "duration": 340,
    "start_time": "2023-09-07T13:38:19.799Z"
   },
   {
    "duration": 9,
    "start_time": "2023-09-07T13:38:20.141Z"
   },
   {
    "duration": 184,
    "start_time": "2023-09-07T13:38:20.152Z"
   },
   {
    "duration": 18,
    "start_time": "2023-09-07T13:38:20.338Z"
   },
   {
    "duration": 8,
    "start_time": "2023-09-07T13:38:20.357Z"
   },
   {
    "duration": 12,
    "start_time": "2023-09-07T13:38:20.367Z"
   },
   {
    "duration": 13,
    "start_time": "2023-09-07T13:38:20.381Z"
   },
   {
    "duration": 44,
    "start_time": "2023-09-07T13:38:20.395Z"
   },
   {
    "duration": 15,
    "start_time": "2023-09-07T13:38:20.440Z"
   },
   {
    "duration": 772,
    "start_time": "2023-09-07T13:38:20.456Z"
   },
   {
    "duration": 10,
    "start_time": "2023-09-07T13:38:21.230Z"
   },
   {
    "duration": 264,
    "start_time": "2023-09-07T13:38:21.241Z"
   },
   {
    "duration": 167,
    "start_time": "2023-09-07T13:38:21.507Z"
   },
   {
    "duration": 186,
    "start_time": "2023-09-07T13:38:21.676Z"
   },
   {
    "duration": 8,
    "start_time": "2023-09-07T13:38:21.864Z"
   },
   {
    "duration": 53,
    "start_time": "2023-09-07T13:38:21.873Z"
   },
   {
    "duration": 5,
    "start_time": "2023-09-07T13:38:21.928Z"
   },
   {
    "duration": 33,
    "start_time": "2023-09-07T13:38:21.934Z"
   },
   {
    "duration": 20,
    "start_time": "2023-09-07T13:38:21.969Z"
   },
   {
    "duration": 28,
    "start_time": "2023-09-07T13:38:21.991Z"
   },
   {
    "duration": 286,
    "start_time": "2023-09-07T13:38:22.022Z"
   },
   {
    "duration": 33,
    "start_time": "2023-09-07T13:38:22.310Z"
   },
   {
    "duration": 0,
    "start_time": "2023-09-07T13:38:22.345Z"
   },
   {
    "duration": 0,
    "start_time": "2023-09-07T13:38:22.346Z"
   },
   {
    "duration": 0,
    "start_time": "2023-09-07T13:38:22.348Z"
   },
   {
    "duration": 0,
    "start_time": "2023-09-07T13:38:22.349Z"
   },
   {
    "duration": 0,
    "start_time": "2023-09-07T13:38:22.350Z"
   },
   {
    "duration": 0,
    "start_time": "2023-09-07T13:38:22.351Z"
   },
   {
    "duration": 0,
    "start_time": "2023-09-07T13:38:22.352Z"
   },
   {
    "duration": 0,
    "start_time": "2023-09-07T13:38:22.353Z"
   },
   {
    "duration": 0,
    "start_time": "2023-09-07T13:38:22.354Z"
   },
   {
    "duration": 10,
    "start_time": "2023-09-07T13:38:44.300Z"
   },
   {
    "duration": 1266,
    "start_time": "2023-09-07T13:42:21.941Z"
   },
   {
    "duration": 13,
    "start_time": "2023-09-07T13:42:43.394Z"
   },
   {
    "duration": 2020,
    "start_time": "2023-09-07T13:42:54.943Z"
   },
   {
    "duration": 10,
    "start_time": "2023-09-07T13:43:15.998Z"
   },
   {
    "duration": 13,
    "start_time": "2023-09-07T13:47:18.359Z"
   },
   {
    "duration": 333,
    "start_time": "2023-09-07T13:47:30.916Z"
   },
   {
    "duration": 345,
    "start_time": "2023-09-07T13:47:42.903Z"
   },
   {
    "duration": 254,
    "start_time": "2023-09-07T13:48:26.278Z"
   },
   {
    "duration": 341,
    "start_time": "2023-09-07T13:48:34.635Z"
   },
   {
    "duration": 11,
    "start_time": "2023-09-07T13:49:04.164Z"
   },
   {
    "duration": 302,
    "start_time": "2023-09-07T13:49:18.569Z"
   },
   {
    "duration": 15,
    "start_time": "2023-09-07T14:05:06.653Z"
   },
   {
    "duration": 13,
    "start_time": "2023-09-07T14:05:11.013Z"
   },
   {
    "duration": 16,
    "start_time": "2023-09-07T14:05:23.615Z"
   },
   {
    "duration": 3,
    "start_time": "2023-09-07T14:05:28.864Z"
   },
   {
    "duration": 3,
    "start_time": "2023-09-07T14:05:28.955Z"
   },
   {
    "duration": 73,
    "start_time": "2023-09-07T14:05:28.959Z"
   },
   {
    "duration": 13,
    "start_time": "2023-09-07T14:05:29.034Z"
   },
   {
    "duration": 30,
    "start_time": "2023-09-07T14:05:29.049Z"
   },
   {
    "duration": 3,
    "start_time": "2023-09-07T14:05:29.082Z"
   },
   {
    "duration": 21,
    "start_time": "2023-09-07T14:05:29.087Z"
   },
   {
    "duration": 418,
    "start_time": "2023-09-07T14:05:29.110Z"
   },
   {
    "duration": 11,
    "start_time": "2023-09-07T14:05:29.529Z"
   },
   {
    "duration": 17,
    "start_time": "2023-09-07T14:05:29.542Z"
   },
   {
    "duration": 14,
    "start_time": "2023-09-07T14:05:29.561Z"
   },
   {
    "duration": 13,
    "start_time": "2023-09-07T14:05:29.576Z"
   },
   {
    "duration": 22,
    "start_time": "2023-09-07T14:05:29.590Z"
   },
   {
    "duration": 7,
    "start_time": "2023-09-07T14:05:29.613Z"
   },
   {
    "duration": 19,
    "start_time": "2023-09-07T14:05:29.622Z"
   },
   {
    "duration": 6,
    "start_time": "2023-09-07T14:05:29.642Z"
   },
   {
    "duration": 21,
    "start_time": "2023-09-07T14:05:29.649Z"
   },
   {
    "duration": 6,
    "start_time": "2023-09-07T14:05:29.672Z"
   },
   {
    "duration": 13,
    "start_time": "2023-09-07T14:05:29.679Z"
   },
   {
    "duration": 15,
    "start_time": "2023-09-07T14:05:29.694Z"
   },
   {
    "duration": 24,
    "start_time": "2023-09-07T14:05:29.710Z"
   },
   {
    "duration": 25,
    "start_time": "2023-09-07T14:05:29.735Z"
   },
   {
    "duration": 5,
    "start_time": "2023-09-07T14:05:29.761Z"
   },
   {
    "duration": 18,
    "start_time": "2023-09-07T14:05:29.767Z"
   },
   {
    "duration": 453,
    "start_time": "2023-09-07T14:05:29.787Z"
   },
   {
    "duration": 13,
    "start_time": "2023-09-07T14:05:30.242Z"
   },
   {
    "duration": 49,
    "start_time": "2023-09-07T14:05:30.257Z"
   },
   {
    "duration": 75,
    "start_time": "2023-09-07T14:05:30.308Z"
   },
   {
    "duration": 34,
    "start_time": "2023-09-07T14:05:30.384Z"
   },
   {
    "duration": 41,
    "start_time": "2023-09-07T14:05:30.419Z"
   },
   {
    "duration": 53,
    "start_time": "2023-09-07T14:05:30.462Z"
   },
   {
    "duration": 24,
    "start_time": "2023-09-07T14:05:30.516Z"
   },
   {
    "duration": 36,
    "start_time": "2023-09-07T14:05:30.542Z"
   },
   {
    "duration": 414,
    "start_time": "2023-09-07T14:05:30.579Z"
   },
   {
    "duration": 8,
    "start_time": "2023-09-07T14:05:30.995Z"
   },
   {
    "duration": 420,
    "start_time": "2023-09-07T14:05:31.004Z"
   },
   {
    "duration": 20,
    "start_time": "2023-09-07T14:05:31.426Z"
   },
   {
    "duration": 298,
    "start_time": "2023-09-07T14:05:31.447Z"
   },
   {
    "duration": 28,
    "start_time": "2023-09-07T14:05:31.747Z"
   },
   {
    "duration": 49,
    "start_time": "2023-09-07T14:05:31.777Z"
   },
   {
    "duration": 520,
    "start_time": "2023-09-07T14:05:31.827Z"
   },
   {
    "duration": 14,
    "start_time": "2023-09-07T14:05:32.355Z"
   },
   {
    "duration": 192,
    "start_time": "2023-09-07T14:05:32.371Z"
   },
   {
    "duration": 18,
    "start_time": "2023-09-07T14:05:32.565Z"
   },
   {
    "duration": 45,
    "start_time": "2023-09-07T14:05:32.585Z"
   },
   {
    "duration": 45,
    "start_time": "2023-09-07T14:05:32.632Z"
   },
   {
    "duration": 25,
    "start_time": "2023-09-07T14:05:32.679Z"
   },
   {
    "duration": 14,
    "start_time": "2023-09-07T14:05:32.706Z"
   },
   {
    "duration": 25,
    "start_time": "2023-09-07T14:05:32.722Z"
   },
   {
    "duration": 793,
    "start_time": "2023-09-07T14:05:32.749Z"
   },
   {
    "duration": 9,
    "start_time": "2023-09-07T14:05:33.544Z"
   },
   {
    "duration": 233,
    "start_time": "2023-09-07T14:05:33.555Z"
   },
   {
    "duration": 168,
    "start_time": "2023-09-07T14:05:33.790Z"
   },
   {
    "duration": 195,
    "start_time": "2023-09-07T14:05:33.960Z"
   },
   {
    "duration": 8,
    "start_time": "2023-09-07T14:05:34.157Z"
   },
   {
    "duration": 21,
    "start_time": "2023-09-07T14:05:34.166Z"
   },
   {
    "duration": 3,
    "start_time": "2023-09-07T14:05:34.189Z"
   },
   {
    "duration": 15,
    "start_time": "2023-09-07T14:05:34.193Z"
   },
   {
    "duration": 18,
    "start_time": "2023-09-07T14:05:34.210Z"
   },
   {
    "duration": 14,
    "start_time": "2023-09-07T14:05:34.230Z"
   },
   {
    "duration": 253,
    "start_time": "2023-09-07T14:05:34.246Z"
   },
   {
    "duration": 13,
    "start_time": "2023-09-07T14:05:34.500Z"
   },
   {
    "duration": 41,
    "start_time": "2023-09-07T14:05:34.515Z"
   },
   {
    "duration": 0,
    "start_time": "2023-09-07T14:05:34.557Z"
   },
   {
    "duration": 0,
    "start_time": "2023-09-07T14:05:34.559Z"
   },
   {
    "duration": 0,
    "start_time": "2023-09-07T14:05:34.560Z"
   },
   {
    "duration": 0,
    "start_time": "2023-09-07T14:05:34.561Z"
   },
   {
    "duration": 0,
    "start_time": "2023-09-07T14:05:34.562Z"
   },
   {
    "duration": 0,
    "start_time": "2023-09-07T14:05:34.563Z"
   },
   {
    "duration": 0,
    "start_time": "2023-09-07T14:05:34.564Z"
   },
   {
    "duration": 0,
    "start_time": "2023-09-07T14:05:34.565Z"
   },
   {
    "duration": 0,
    "start_time": "2023-09-07T14:05:34.566Z"
   },
   {
    "duration": 0,
    "start_time": "2023-09-07T14:05:34.567Z"
   },
   {
    "duration": 0,
    "start_time": "2023-09-07T14:05:34.568Z"
   },
   {
    "duration": 23,
    "start_time": "2023-09-07T14:05:56.518Z"
   },
   {
    "duration": 27,
    "start_time": "2023-09-07T14:06:25.715Z"
   },
   {
    "duration": 34,
    "start_time": "2023-09-07T14:06:54.619Z"
   },
   {
    "duration": 401,
    "start_time": "2023-09-07T14:07:15.798Z"
   },
   {
    "duration": 51,
    "start_time": "2023-09-07T14:07:38.298Z"
   },
   {
    "duration": 54,
    "start_time": "2023-09-08T13:17:14.806Z"
   },
   {
    "duration": 1514,
    "start_time": "2023-09-08T13:18:07.302Z"
   },
   {
    "duration": 3,
    "start_time": "2023-09-08T13:18:08.818Z"
   },
   {
    "duration": 128,
    "start_time": "2023-09-08T13:18:08.823Z"
   },
   {
    "duration": 14,
    "start_time": "2023-09-08T13:18:08.953Z"
   },
   {
    "duration": 85,
    "start_time": "2023-09-08T13:18:08.968Z"
   },
   {
    "duration": 40,
    "start_time": "2023-09-08T13:18:09.055Z"
   },
   {
    "duration": 14,
    "start_time": "2023-09-08T13:18:09.097Z"
   },
   {
    "duration": 203,
    "start_time": "2023-09-08T13:18:09.114Z"
   },
   {
    "duration": 11,
    "start_time": "2023-09-08T13:18:09.319Z"
   },
   {
    "duration": 15,
    "start_time": "2023-09-08T13:18:09.333Z"
   },
   {
    "duration": 14,
    "start_time": "2023-09-08T13:18:09.350Z"
   },
   {
    "duration": 8,
    "start_time": "2023-09-08T13:18:09.366Z"
   },
   {
    "duration": 15,
    "start_time": "2023-09-08T13:18:09.409Z"
   },
   {
    "duration": 9,
    "start_time": "2023-09-08T13:18:09.426Z"
   },
   {
    "duration": 18,
    "start_time": "2023-09-08T13:18:09.437Z"
   },
   {
    "duration": 7,
    "start_time": "2023-09-08T13:18:09.458Z"
   },
   {
    "duration": 21,
    "start_time": "2023-09-08T13:18:09.467Z"
   },
   {
    "duration": 9,
    "start_time": "2023-09-08T13:18:09.508Z"
   },
   {
    "duration": 5,
    "start_time": "2023-09-08T13:18:09.519Z"
   },
   {
    "duration": 8,
    "start_time": "2023-09-08T13:18:09.526Z"
   },
   {
    "duration": 6,
    "start_time": "2023-09-08T13:18:09.536Z"
   },
   {
    "duration": 65,
    "start_time": "2023-09-08T13:18:09.544Z"
   },
   {
    "duration": 6,
    "start_time": "2023-09-08T13:18:09.611Z"
   },
   {
    "duration": 23,
    "start_time": "2023-09-08T13:18:09.618Z"
   },
   {
    "duration": 535,
    "start_time": "2023-09-08T13:18:09.643Z"
   },
   {
    "duration": 14,
    "start_time": "2023-09-08T13:18:10.180Z"
   },
   {
    "duration": 28,
    "start_time": "2023-09-08T13:18:10.196Z"
   },
   {
    "duration": 18,
    "start_time": "2023-09-08T13:18:10.230Z"
   },
   {
    "duration": 11,
    "start_time": "2023-09-08T13:18:10.250Z"
   },
   {
    "duration": 50,
    "start_time": "2023-09-08T13:18:10.263Z"
   },
   {
    "duration": 25,
    "start_time": "2023-09-08T13:18:10.315Z"
   },
   {
    "duration": 15,
    "start_time": "2023-09-08T13:18:10.342Z"
   },
   {
    "duration": 15,
    "start_time": "2023-09-08T13:18:10.358Z"
   },
   {
    "duration": 448,
    "start_time": "2023-09-08T13:18:10.375Z"
   },
   {
    "duration": 9,
    "start_time": "2023-09-08T13:18:10.825Z"
   },
   {
    "duration": 368,
    "start_time": "2023-09-08T13:18:10.836Z"
   },
   {
    "duration": 22,
    "start_time": "2023-09-08T13:18:11.206Z"
   },
   {
    "duration": 361,
    "start_time": "2023-09-08T13:18:11.230Z"
   },
   {
    "duration": 18,
    "start_time": "2023-09-08T13:18:11.594Z"
   },
   {
    "duration": 23,
    "start_time": "2023-09-08T13:18:11.613Z"
   },
   {
    "duration": 382,
    "start_time": "2023-09-08T13:18:11.639Z"
   },
   {
    "duration": 10,
    "start_time": "2023-09-08T13:18:12.023Z"
   },
   {
    "duration": 223,
    "start_time": "2023-09-08T13:18:12.035Z"
   },
   {
    "duration": 23,
    "start_time": "2023-09-08T13:18:12.260Z"
   },
   {
    "duration": 30,
    "start_time": "2023-09-08T13:18:12.285Z"
   },
   {
    "duration": 17,
    "start_time": "2023-09-08T13:18:12.316Z"
   },
   {
    "duration": 16,
    "start_time": "2023-09-08T13:18:12.336Z"
   },
   {
    "duration": 16,
    "start_time": "2023-09-08T13:18:12.354Z"
   },
   {
    "duration": 48,
    "start_time": "2023-09-08T13:18:12.372Z"
   },
   {
    "duration": 928,
    "start_time": "2023-09-08T13:18:12.422Z"
   },
   {
    "duration": 10,
    "start_time": "2023-09-08T13:18:13.352Z"
   },
   {
    "duration": 301,
    "start_time": "2023-09-08T13:18:13.363Z"
   },
   {
    "duration": 261,
    "start_time": "2023-09-08T13:18:13.666Z"
   },
   {
    "duration": 82,
    "start_time": "2023-09-08T13:18:13.929Z"
   },
   {
    "duration": 0,
    "start_time": "2023-09-08T13:18:14.012Z"
   },
   {
    "duration": 0,
    "start_time": "2023-09-08T13:18:14.014Z"
   },
   {
    "duration": 0,
    "start_time": "2023-09-08T13:18:14.016Z"
   },
   {
    "duration": 0,
    "start_time": "2023-09-08T13:18:14.017Z"
   },
   {
    "duration": 0,
    "start_time": "2023-09-08T13:18:14.019Z"
   },
   {
    "duration": 0,
    "start_time": "2023-09-08T13:18:14.020Z"
   },
   {
    "duration": 0,
    "start_time": "2023-09-08T13:18:14.021Z"
   },
   {
    "duration": 0,
    "start_time": "2023-09-08T13:18:14.023Z"
   },
   {
    "duration": 0,
    "start_time": "2023-09-08T13:18:14.024Z"
   },
   {
    "duration": 0,
    "start_time": "2023-09-08T13:18:14.025Z"
   },
   {
    "duration": 0,
    "start_time": "2023-09-08T13:18:14.027Z"
   },
   {
    "duration": 0,
    "start_time": "2023-09-08T13:18:14.028Z"
   },
   {
    "duration": 0,
    "start_time": "2023-09-08T13:18:14.029Z"
   },
   {
    "duration": 0,
    "start_time": "2023-09-08T13:18:14.030Z"
   },
   {
    "duration": 0,
    "start_time": "2023-09-08T13:18:14.031Z"
   },
   {
    "duration": 0,
    "start_time": "2023-09-08T13:18:14.033Z"
   },
   {
    "duration": 0,
    "start_time": "2023-09-08T13:18:14.034Z"
   },
   {
    "duration": 0,
    "start_time": "2023-09-08T13:18:14.035Z"
   },
   {
    "duration": 0,
    "start_time": "2023-09-08T13:18:14.036Z"
   },
   {
    "duration": 0,
    "start_time": "2023-09-08T13:18:14.037Z"
   },
   {
    "duration": 39,
    "start_time": "2023-09-08T13:18:19.010Z"
   },
   {
    "duration": 36,
    "start_time": "2023-09-08T13:18:53.556Z"
   },
   {
    "duration": 11,
    "start_time": "2023-09-08T13:19:14.694Z"
   },
   {
    "duration": 14,
    "start_time": "2023-09-08T13:19:19.513Z"
   },
   {
    "duration": 1306,
    "start_time": "2023-09-08T13:19:37.464Z"
   },
   {
    "duration": 3,
    "start_time": "2023-09-08T13:19:38.772Z"
   },
   {
    "duration": 85,
    "start_time": "2023-09-08T13:19:38.777Z"
   },
   {
    "duration": 14,
    "start_time": "2023-09-08T13:19:38.864Z"
   },
   {
    "duration": 19,
    "start_time": "2023-09-08T13:19:38.880Z"
   },
   {
    "duration": 16,
    "start_time": "2023-09-08T13:19:38.901Z"
   },
   {
    "duration": 27,
    "start_time": "2023-09-08T13:19:38.919Z"
   },
   {
    "duration": 225,
    "start_time": "2023-09-08T13:19:38.948Z"
   },
   {
    "duration": 11,
    "start_time": "2023-09-08T13:19:39.175Z"
   },
   {
    "duration": 30,
    "start_time": "2023-09-08T13:19:39.189Z"
   },
   {
    "duration": 13,
    "start_time": "2023-09-08T13:19:39.221Z"
   },
   {
    "duration": 26,
    "start_time": "2023-09-08T13:19:39.236Z"
   },
   {
    "duration": 12,
    "start_time": "2023-09-08T13:19:39.264Z"
   },
   {
    "duration": 6,
    "start_time": "2023-09-08T13:19:39.278Z"
   },
   {
    "duration": 31,
    "start_time": "2023-09-08T13:19:39.286Z"
   },
   {
    "duration": 7,
    "start_time": "2023-09-08T13:19:39.319Z"
   },
   {
    "duration": 24,
    "start_time": "2023-09-08T13:19:39.327Z"
   },
   {
    "duration": 11,
    "start_time": "2023-09-08T13:19:39.353Z"
   },
   {
    "duration": 5,
    "start_time": "2023-09-08T13:19:39.367Z"
   },
   {
    "duration": 38,
    "start_time": "2023-09-08T13:19:39.375Z"
   },
   {
    "duration": 8,
    "start_time": "2023-09-08T13:19:39.415Z"
   },
   {
    "duration": 35,
    "start_time": "2023-09-08T13:19:39.425Z"
   },
   {
    "duration": 5,
    "start_time": "2023-09-08T13:19:39.463Z"
   },
   {
    "duration": 23,
    "start_time": "2023-09-08T13:19:39.508Z"
   },
   {
    "duration": 603,
    "start_time": "2023-09-08T13:19:39.533Z"
   },
   {
    "duration": 17,
    "start_time": "2023-09-08T13:19:40.138Z"
   },
   {
    "duration": 22,
    "start_time": "2023-09-08T13:19:40.157Z"
   },
   {
    "duration": 24,
    "start_time": "2023-09-08T13:19:40.208Z"
   },
   {
    "duration": 15,
    "start_time": "2023-09-08T13:19:40.234Z"
   },
   {
    "duration": 60,
    "start_time": "2023-09-08T13:19:40.251Z"
   },
   {
    "duration": 41,
    "start_time": "2023-09-08T13:19:40.314Z"
   },
   {
    "duration": 17,
    "start_time": "2023-09-08T13:19:40.357Z"
   },
   {
    "duration": 42,
    "start_time": "2023-09-08T13:19:40.376Z"
   },
   {
    "duration": 417,
    "start_time": "2023-09-08T13:19:40.420Z"
   },
   {
    "duration": 9,
    "start_time": "2023-09-08T13:19:40.839Z"
   },
   {
    "duration": 378,
    "start_time": "2023-09-08T13:19:40.851Z"
   },
   {
    "duration": 21,
    "start_time": "2023-09-08T13:19:41.231Z"
   },
   {
    "duration": 341,
    "start_time": "2023-09-08T13:19:41.254Z"
   },
   {
    "duration": 17,
    "start_time": "2023-09-08T13:19:41.597Z"
   },
   {
    "duration": 28,
    "start_time": "2023-09-08T13:19:41.616Z"
   },
   {
    "duration": 469,
    "start_time": "2023-09-08T13:19:41.646Z"
   },
   {
    "duration": 12,
    "start_time": "2023-09-08T13:19:42.116Z"
   },
   {
    "duration": 228,
    "start_time": "2023-09-08T13:19:42.130Z"
   },
   {
    "duration": 26,
    "start_time": "2023-09-08T13:19:42.360Z"
   },
   {
    "duration": 26,
    "start_time": "2023-09-08T13:19:42.388Z"
   },
   {
    "duration": 20,
    "start_time": "2023-09-08T13:19:42.418Z"
   },
   {
    "duration": 19,
    "start_time": "2023-09-08T13:19:42.441Z"
   },
   {
    "duration": 53,
    "start_time": "2023-09-08T13:19:42.463Z"
   },
   {
    "duration": 22,
    "start_time": "2023-09-08T13:19:42.518Z"
   },
   {
    "duration": 1700,
    "start_time": "2023-09-08T13:19:42.542Z"
   },
   {
    "duration": 66,
    "start_time": "2023-09-08T13:19:44.245Z"
   },
   {
    "duration": 516,
    "start_time": "2023-09-08T13:19:44.313Z"
   },
   {
    "duration": 522,
    "start_time": "2023-09-08T13:19:44.831Z"
   },
   {
    "duration": 141,
    "start_time": "2023-09-08T13:19:45.356Z"
   },
   {
    "duration": 0,
    "start_time": "2023-09-08T13:19:45.499Z"
   },
   {
    "duration": 0,
    "start_time": "2023-09-08T13:19:45.501Z"
   },
   {
    "duration": 0,
    "start_time": "2023-09-08T13:19:45.509Z"
   },
   {
    "duration": 0,
    "start_time": "2023-09-08T13:19:45.511Z"
   },
   {
    "duration": 0,
    "start_time": "2023-09-08T13:19:45.512Z"
   },
   {
    "duration": 0,
    "start_time": "2023-09-08T13:19:45.514Z"
   },
   {
    "duration": 0,
    "start_time": "2023-09-08T13:19:45.516Z"
   },
   {
    "duration": 0,
    "start_time": "2023-09-08T13:19:45.518Z"
   },
   {
    "duration": 0,
    "start_time": "2023-09-08T13:19:45.519Z"
   },
   {
    "duration": 0,
    "start_time": "2023-09-08T13:19:45.521Z"
   },
   {
    "duration": 0,
    "start_time": "2023-09-08T13:19:45.522Z"
   },
   {
    "duration": 0,
    "start_time": "2023-09-08T13:19:45.524Z"
   },
   {
    "duration": 0,
    "start_time": "2023-09-08T13:19:45.527Z"
   },
   {
    "duration": 0,
    "start_time": "2023-09-08T13:19:45.528Z"
   },
   {
    "duration": 0,
    "start_time": "2023-09-08T13:19:45.530Z"
   },
   {
    "duration": 0,
    "start_time": "2023-09-08T13:19:45.532Z"
   },
   {
    "duration": 0,
    "start_time": "2023-09-08T13:19:45.533Z"
   },
   {
    "duration": 0,
    "start_time": "2023-09-08T13:19:45.535Z"
   },
   {
    "duration": 0,
    "start_time": "2023-09-08T13:19:45.537Z"
   },
   {
    "duration": 0,
    "start_time": "2023-09-08T13:19:45.538Z"
   },
   {
    "duration": 35,
    "start_time": "2023-09-08T13:19:56.784Z"
   },
   {
    "duration": 40,
    "start_time": "2023-09-08T13:20:13.258Z"
   },
   {
    "duration": 11,
    "start_time": "2023-09-08T13:20:22.106Z"
   },
   {
    "duration": 10,
    "start_time": "2023-09-08T13:20:25.789Z"
   },
   {
    "duration": 41,
    "start_time": "2023-09-08T13:20:29.011Z"
   },
   {
    "duration": 16,
    "start_time": "2023-09-08T13:20:33.624Z"
   },
   {
    "duration": 5,
    "start_time": "2023-09-08T13:20:36.117Z"
   },
   {
    "duration": 1096,
    "start_time": "2023-09-08T13:20:41.026Z"
   },
   {
    "duration": 1151,
    "start_time": "2023-09-08T13:21:00.288Z"
   },
   {
    "duration": 12,
    "start_time": "2023-09-08T13:21:51.601Z"
   },
   {
    "duration": 5,
    "start_time": "2023-09-08T13:26:54.459Z"
   },
   {
    "duration": 11,
    "start_time": "2023-09-08T13:27:08.152Z"
   },
   {
    "duration": 28,
    "start_time": "2023-09-08T13:27:15.594Z"
   },
   {
    "duration": 14,
    "start_time": "2023-09-08T13:27:27.663Z"
   },
   {
    "duration": 14,
    "start_time": "2023-09-08T13:28:06.265Z"
   },
   {
    "duration": 19,
    "start_time": "2023-09-08T13:28:14.886Z"
   },
   {
    "duration": 24,
    "start_time": "2023-09-08T13:28:38.070Z"
   },
   {
    "duration": 27,
    "start_time": "2023-09-08T13:29:08.753Z"
   },
   {
    "duration": 23,
    "start_time": "2023-09-08T13:29:30.966Z"
   },
   {
    "duration": 18,
    "start_time": "2023-09-08T13:31:25.147Z"
   },
   {
    "duration": 20,
    "start_time": "2023-09-08T13:32:04.056Z"
   },
   {
    "duration": 29,
    "start_time": "2023-09-08T13:34:00.916Z"
   },
   {
    "duration": 19,
    "start_time": "2023-09-08T13:34:18.861Z"
   },
   {
    "duration": 8,
    "start_time": "2023-09-08T13:36:24.097Z"
   },
   {
    "duration": 227,
    "start_time": "2023-09-08T13:36:28.725Z"
   },
   {
    "duration": 18,
    "start_time": "2023-09-08T13:37:37.972Z"
   },
   {
    "duration": 7,
    "start_time": "2023-09-08T13:37:53.636Z"
   },
   {
    "duration": 232,
    "start_time": "2023-09-08T13:37:55.517Z"
   },
   {
    "duration": 205,
    "start_time": "2023-09-08T13:39:59.044Z"
   },
   {
    "duration": 18,
    "start_time": "2023-09-08T13:40:28.434Z"
   },
   {
    "duration": 215,
    "start_time": "2023-09-08T13:40:33.961Z"
   },
   {
    "duration": 17,
    "start_time": "2023-09-08T13:43:39.375Z"
   },
   {
    "duration": 7,
    "start_time": "2023-09-08T13:43:53.950Z"
   },
   {
    "duration": 6,
    "start_time": "2023-09-08T13:45:37.591Z"
   },
   {
    "duration": 210,
    "start_time": "2023-09-08T13:45:38.934Z"
   },
   {
    "duration": 199,
    "start_time": "2023-09-08T13:47:24.195Z"
   },
   {
    "duration": 6,
    "start_time": "2023-09-08T13:47:27.715Z"
   },
   {
    "duration": 10,
    "start_time": "2023-09-08T13:48:05.569Z"
   },
   {
    "duration": 6,
    "start_time": "2023-09-08T13:48:13.932Z"
   },
   {
    "duration": 232,
    "start_time": "2023-09-08T13:48:15.588Z"
   },
   {
    "duration": 78,
    "start_time": "2023-09-08T13:50:05.148Z"
   },
   {
    "duration": 5,
    "start_time": "2023-09-08T13:50:19.057Z"
   },
   {
    "duration": 1259,
    "start_time": "2023-09-08T13:50:22.200Z"
   },
   {
    "duration": 5,
    "start_time": "2023-09-08T13:52:39.970Z"
   },
   {
    "duration": 908,
    "start_time": "2023-09-08T13:52:54.308Z"
   },
   {
    "duration": 5,
    "start_time": "2023-09-08T13:55:27.709Z"
   },
   {
    "duration": 18,
    "start_time": "2023-09-08T13:55:30.384Z"
   },
   {
    "duration": 5,
    "start_time": "2023-09-08T13:55:38.904Z"
   },
   {
    "duration": 22,
    "start_time": "2023-09-08T13:55:42.662Z"
   },
   {
    "duration": 5,
    "start_time": "2023-09-08T13:55:58.728Z"
   },
   {
    "duration": 18,
    "start_time": "2023-09-08T13:56:00.623Z"
   },
   {
    "duration": 4,
    "start_time": "2023-09-08T13:57:35.641Z"
   },
   {
    "duration": 18,
    "start_time": "2023-09-08T13:57:37.438Z"
   },
   {
    "duration": 5,
    "start_time": "2023-09-08T13:57:57.470Z"
   },
   {
    "duration": 6,
    "start_time": "2023-09-08T13:58:45.198Z"
   },
   {
    "duration": 129,
    "start_time": "2023-09-08T13:58:47.149Z"
   },
   {
    "duration": 5,
    "start_time": "2023-09-08T13:59:20.884Z"
   },
   {
    "duration": 173,
    "start_time": "2023-09-08T13:59:25.339Z"
   },
   {
    "duration": 11,
    "start_time": "2023-09-08T14:05:38.108Z"
   },
   {
    "duration": 881,
    "start_time": "2023-09-08T14:06:01.839Z"
   },
   {
    "duration": 61,
    "start_time": "2023-09-08T14:08:49.489Z"
   },
   {
    "duration": 71,
    "start_time": "2023-09-08T14:09:05.272Z"
   },
   {
    "duration": 11,
    "start_time": "2023-09-08T14:11:37.001Z"
   },
   {
    "duration": 67,
    "start_time": "2023-09-08T14:13:26.081Z"
   },
   {
    "duration": 11,
    "start_time": "2023-09-08T14:13:37.689Z"
   },
   {
    "duration": 69,
    "start_time": "2023-09-08T14:14:00.037Z"
   },
   {
    "duration": 1413,
    "start_time": "2023-09-08T14:16:33.266Z"
   },
   {
    "duration": 1327,
    "start_time": "2023-09-08T14:17:05.287Z"
   },
   {
    "duration": 115,
    "start_time": "2023-09-08T14:17:55.206Z"
   },
   {
    "duration": 74,
    "start_time": "2023-09-08T14:18:10.908Z"
   },
   {
    "duration": 12,
    "start_time": "2023-09-08T14:18:53.059Z"
   },
   {
    "duration": 567,
    "start_time": "2023-09-08T14:19:06.719Z"
   },
   {
    "duration": 57,
    "start_time": "2023-09-08T14:21:36.442Z"
   },
   {
    "duration": 176,
    "start_time": "2023-09-08T14:21:38.754Z"
   },
   {
    "duration": 59,
    "start_time": "2023-09-08T14:22:08.401Z"
   },
   {
    "duration": 175,
    "start_time": "2023-09-08T14:22:10.339Z"
   },
   {
    "duration": 88,
    "start_time": "2023-09-08T14:22:36.482Z"
   },
   {
    "duration": 179,
    "start_time": "2023-09-08T14:22:38.812Z"
   },
   {
    "duration": 181,
    "start_time": "2023-09-08T14:23:09.711Z"
   },
   {
    "duration": 117,
    "start_time": "2023-09-08T14:23:53.194Z"
   },
   {
    "duration": 179,
    "start_time": "2023-09-08T14:23:54.933Z"
   },
   {
    "duration": 455,
    "start_time": "2023-09-08T14:25:01.359Z"
   },
   {
    "duration": 20,
    "start_time": "2023-09-08T14:26:01.290Z"
   },
   {
    "duration": 358,
    "start_time": "2023-09-08T14:26:05.586Z"
   },
   {
    "duration": 205,
    "start_time": "2023-09-08T14:26:33.467Z"
   },
   {
    "duration": 4336,
    "start_time": "2023-09-08T14:27:52.335Z"
   },
   {
    "duration": 382,
    "start_time": "2023-09-08T14:27:56.672Z"
   },
   {
    "duration": 118,
    "start_time": "2023-09-08T14:29:02.636Z"
   },
   {
    "duration": 365,
    "start_time": "2023-09-08T14:29:03.985Z"
   },
   {
    "duration": 313,
    "start_time": "2023-09-08T14:29:18.032Z"
   },
   {
    "duration": 358,
    "start_time": "2023-09-08T14:29:20.548Z"
   },
   {
    "duration": 79,
    "start_time": "2023-09-08T14:30:19.138Z"
   },
   {
    "duration": 99,
    "start_time": "2023-09-08T14:30:32.724Z"
   },
   {
    "duration": 25,
    "start_time": "2023-09-08T14:30:39.726Z"
   },
   {
    "duration": 316,
    "start_time": "2023-09-08T14:31:59.820Z"
   },
   {
    "duration": 30,
    "start_time": "2023-09-08T14:32:09.761Z"
   },
   {
    "duration": 25,
    "start_time": "2023-09-08T14:38:38.489Z"
   },
   {
    "duration": 33,
    "start_time": "2023-09-08T14:39:32.971Z"
   },
   {
    "duration": 4,
    "start_time": "2023-09-08T14:40:10.361Z"
   },
   {
    "duration": 6,
    "start_time": "2023-09-08T14:40:10.369Z"
   },
   {
    "duration": 76,
    "start_time": "2023-09-08T14:40:10.377Z"
   },
   {
    "duration": 12,
    "start_time": "2023-09-08T14:40:10.456Z"
   },
   {
    "duration": 17,
    "start_time": "2023-09-08T14:40:10.470Z"
   },
   {
    "duration": 4,
    "start_time": "2023-09-08T14:40:10.510Z"
   },
   {
    "duration": 19,
    "start_time": "2023-09-08T14:40:10.516Z"
   },
   {
    "duration": 226,
    "start_time": "2023-09-08T14:40:10.538Z"
   },
   {
    "duration": 11,
    "start_time": "2023-09-08T14:40:10.766Z"
   },
   {
    "duration": 43,
    "start_time": "2023-09-08T14:40:10.779Z"
   },
   {
    "duration": 16,
    "start_time": "2023-09-08T14:40:10.825Z"
   },
   {
    "duration": 15,
    "start_time": "2023-09-08T14:40:10.844Z"
   },
   {
    "duration": 17,
    "start_time": "2023-09-08T14:40:10.860Z"
   },
   {
    "duration": 32,
    "start_time": "2023-09-08T14:40:10.879Z"
   },
   {
    "duration": 15,
    "start_time": "2023-09-08T14:40:10.913Z"
   },
   {
    "duration": 7,
    "start_time": "2023-09-08T14:40:10.930Z"
   },
   {
    "duration": 21,
    "start_time": "2023-09-08T14:40:10.939Z"
   },
   {
    "duration": 7,
    "start_time": "2023-09-08T14:40:10.962Z"
   },
   {
    "duration": 39,
    "start_time": "2023-09-08T14:40:10.971Z"
   },
   {
    "duration": 10,
    "start_time": "2023-09-08T14:40:11.012Z"
   },
   {
    "duration": 19,
    "start_time": "2023-09-08T14:40:11.024Z"
   },
   {
    "duration": 28,
    "start_time": "2023-09-08T14:40:11.045Z"
   },
   {
    "duration": 5,
    "start_time": "2023-09-08T14:40:11.075Z"
   },
   {
    "duration": 40,
    "start_time": "2023-09-08T14:40:11.082Z"
   },
   {
    "duration": 535,
    "start_time": "2023-09-08T14:40:11.123Z"
   },
   {
    "duration": 22,
    "start_time": "2023-09-08T14:40:11.660Z"
   },
   {
    "duration": 31,
    "start_time": "2023-09-08T14:40:11.685Z"
   },
   {
    "duration": 23,
    "start_time": "2023-09-08T14:40:11.718Z"
   },
   {
    "duration": 15,
    "start_time": "2023-09-08T14:40:11.744Z"
   },
   {
    "duration": 49,
    "start_time": "2023-09-08T14:40:11.765Z"
   },
   {
    "duration": 26,
    "start_time": "2023-09-08T14:40:11.816Z"
   },
   {
    "duration": 15,
    "start_time": "2023-09-08T14:40:11.844Z"
   },
   {
    "duration": 16,
    "start_time": "2023-09-08T14:40:11.861Z"
   },
   {
    "duration": 420,
    "start_time": "2023-09-08T14:40:11.879Z"
   },
   {
    "duration": 9,
    "start_time": "2023-09-08T14:40:12.301Z"
   },
   {
    "duration": 507,
    "start_time": "2023-09-08T14:40:12.312Z"
   },
   {
    "duration": 23,
    "start_time": "2023-09-08T14:40:12.821Z"
   },
   {
    "duration": 317,
    "start_time": "2023-09-08T14:40:12.846Z"
   },
   {
    "duration": 19,
    "start_time": "2023-09-08T14:40:13.165Z"
   },
   {
    "duration": 41,
    "start_time": "2023-09-08T14:40:13.187Z"
   },
   {
    "duration": 345,
    "start_time": "2023-09-08T14:40:13.230Z"
   },
   {
    "duration": 9,
    "start_time": "2023-09-08T14:40:13.576Z"
   },
   {
    "duration": 196,
    "start_time": "2023-09-08T14:40:13.587Z"
   },
   {
    "duration": 27,
    "start_time": "2023-09-08T14:40:13.785Z"
   },
   {
    "duration": 7,
    "start_time": "2023-09-08T14:40:13.814Z"
   },
   {
    "duration": 19,
    "start_time": "2023-09-08T14:40:13.823Z"
   },
   {
    "duration": 18,
    "start_time": "2023-09-08T14:40:13.844Z"
   },
   {
    "duration": 15,
    "start_time": "2023-09-08T14:40:13.864Z"
   },
   {
    "duration": 12,
    "start_time": "2023-09-08T14:40:13.909Z"
   },
   {
    "duration": 921,
    "start_time": "2023-09-08T14:40:13.923Z"
   },
   {
    "duration": 14,
    "start_time": "2023-09-08T14:40:14.846Z"
   },
   {
    "duration": 320,
    "start_time": "2023-09-08T14:40:14.863Z"
   },
   {
    "duration": 177,
    "start_time": "2023-09-08T14:40:15.185Z"
   },
   {
    "duration": 10,
    "start_time": "2023-09-08T14:40:15.364Z"
   },
   {
    "duration": 0,
    "start_time": "2023-09-08T14:40:15.376Z"
   },
   {
    "duration": 0,
    "start_time": "2023-09-08T14:40:15.377Z"
   },
   {
    "duration": 0,
    "start_time": "2023-09-08T14:40:15.379Z"
   },
   {
    "duration": 0,
    "start_time": "2023-09-08T14:40:15.380Z"
   },
   {
    "duration": 1,
    "start_time": "2023-09-08T14:40:15.381Z"
   },
   {
    "duration": 0,
    "start_time": "2023-09-08T14:40:15.383Z"
   },
   {
    "duration": 0,
    "start_time": "2023-09-08T14:40:15.384Z"
   },
   {
    "duration": 0,
    "start_time": "2023-09-08T14:40:15.410Z"
   },
   {
    "duration": 0,
    "start_time": "2023-09-08T14:40:15.411Z"
   },
   {
    "duration": 0,
    "start_time": "2023-09-08T14:40:15.413Z"
   },
   {
    "duration": 0,
    "start_time": "2023-09-08T14:40:15.414Z"
   },
   {
    "duration": 0,
    "start_time": "2023-09-08T14:40:15.415Z"
   },
   {
    "duration": 0,
    "start_time": "2023-09-08T14:40:15.416Z"
   },
   {
    "duration": 0,
    "start_time": "2023-09-08T14:40:15.417Z"
   },
   {
    "duration": 0,
    "start_time": "2023-09-08T14:40:15.418Z"
   },
   {
    "duration": 0,
    "start_time": "2023-09-08T14:40:15.419Z"
   },
   {
    "duration": 0,
    "start_time": "2023-09-08T14:40:15.420Z"
   },
   {
    "duration": 0,
    "start_time": "2023-09-08T14:40:15.421Z"
   },
   {
    "duration": 0,
    "start_time": "2023-09-08T14:40:15.422Z"
   },
   {
    "duration": 0,
    "start_time": "2023-09-08T14:40:15.423Z"
   },
   {
    "duration": 0,
    "start_time": "2023-09-08T14:40:15.424Z"
   },
   {
    "duration": 0,
    "start_time": "2023-09-08T14:40:15.426Z"
   },
   {
    "duration": 0,
    "start_time": "2023-09-08T14:40:15.426Z"
   },
   {
    "duration": 0,
    "start_time": "2023-09-08T14:40:15.428Z"
   },
   {
    "duration": 0,
    "start_time": "2023-09-08T14:40:15.429Z"
   },
   {
    "duration": 248,
    "start_time": "2023-09-08T14:40:37.834Z"
   },
   {
    "duration": 7,
    "start_time": "2023-09-08T14:40:42.076Z"
   },
   {
    "duration": 28,
    "start_time": "2023-09-08T14:40:44.507Z"
   },
   {
    "duration": 7,
    "start_time": "2023-09-08T14:41:11.774Z"
   },
   {
    "duration": 312,
    "start_time": "2023-09-08T14:41:13.368Z"
   },
   {
    "duration": 8,
    "start_time": "2023-09-08T14:41:55.308Z"
   },
   {
    "duration": 212,
    "start_time": "2023-09-08T14:41:57.109Z"
   },
   {
    "duration": 8,
    "start_time": "2023-09-08T14:42:13.342Z"
   },
   {
    "duration": 226,
    "start_time": "2023-09-08T14:42:15.404Z"
   },
   {
    "duration": 7,
    "start_time": "2023-09-08T14:42:27.150Z"
   },
   {
    "duration": 222,
    "start_time": "2023-09-08T14:42:29.766Z"
   },
   {
    "duration": 475,
    "start_time": "2023-09-08T14:42:42.399Z"
   },
   {
    "duration": 6,
    "start_time": "2023-09-08T14:42:56.160Z"
   },
   {
    "duration": 239,
    "start_time": "2023-09-08T14:42:58.517Z"
   },
   {
    "duration": 8,
    "start_time": "2023-09-08T14:43:04.189Z"
   },
   {
    "duration": 258,
    "start_time": "2023-09-08T14:43:05.878Z"
   },
   {
    "duration": 8,
    "start_time": "2023-09-08T14:43:17.793Z"
   },
   {
    "duration": 241,
    "start_time": "2023-09-08T14:43:20.952Z"
   },
   {
    "duration": 86,
    "start_time": "2023-09-08T14:44:22.054Z"
   },
   {
    "duration": 5,
    "start_time": "2023-09-08T14:44:29.604Z"
   },
   {
    "duration": 1288,
    "start_time": "2023-09-08T14:44:31.670Z"
   },
   {
    "duration": 1063,
    "start_time": "2023-09-08T14:44:36.640Z"
   },
   {
    "duration": 1041,
    "start_time": "2023-09-08T14:44:40.988Z"
   },
   {
    "duration": 5,
    "start_time": "2023-09-08T14:45:39.261Z"
   },
   {
    "duration": 1376,
    "start_time": "2023-09-08T14:45:42.433Z"
   },
   {
    "duration": 5,
    "start_time": "2023-09-08T14:46:29.775Z"
   },
   {
    "duration": 1096,
    "start_time": "2023-09-08T14:46:31.100Z"
   },
   {
    "duration": 6,
    "start_time": "2023-09-08T14:47:44.081Z"
   },
   {
    "duration": 796,
    "start_time": "2023-09-08T14:47:46.402Z"
   },
   {
    "duration": 387,
    "start_time": "2023-09-08T14:53:19.117Z"
   },
   {
    "duration": 406,
    "start_time": "2023-09-08T14:53:28.564Z"
   },
   {
    "duration": 493,
    "start_time": "2023-09-08T14:53:52.326Z"
   },
   {
    "duration": 402,
    "start_time": "2023-09-08T14:57:38.024Z"
   },
   {
    "duration": 402,
    "start_time": "2023-09-08T14:57:58.677Z"
   },
   {
    "duration": 399,
    "start_time": "2023-09-08T15:26:25.719Z"
   },
   {
    "duration": 396,
    "start_time": "2023-09-08T15:27:17.183Z"
   },
   {
    "duration": 225,
    "start_time": "2023-09-08T15:27:32.942Z"
   },
   {
    "duration": 6,
    "start_time": "2023-09-08T15:27:39.707Z"
   },
   {
    "duration": 335,
    "start_time": "2023-09-08T15:27:44.581Z"
   },
   {
    "duration": 451,
    "start_time": "2023-09-08T15:27:52.093Z"
   },
   {
    "duration": 245,
    "start_time": "2023-09-08T15:29:26.806Z"
   },
   {
    "duration": 228,
    "start_time": "2023-09-08T15:29:39.055Z"
   },
   {
    "duration": 419,
    "start_time": "2023-09-08T15:30:48.628Z"
   },
   {
    "duration": 3,
    "start_time": "2023-09-08T15:32:54.074Z"
   },
   {
    "duration": 92,
    "start_time": "2023-09-08T15:32:56.056Z"
   },
   {
    "duration": 763,
    "start_time": "2023-09-08T15:32:58.249Z"
   },
   {
    "duration": 5,
    "start_time": "2023-09-08T15:34:14.847Z"
   },
   {
    "duration": 770,
    "start_time": "2023-09-08T15:34:17.992Z"
   },
   {
    "duration": 6,
    "start_time": "2023-09-08T15:43:57.631Z"
   },
   {
    "duration": 155,
    "start_time": "2023-09-08T15:43:59.752Z"
   },
   {
    "duration": 153,
    "start_time": "2023-09-08T15:44:06.621Z"
   },
   {
    "duration": 155,
    "start_time": "2023-09-08T15:44:10.478Z"
   },
   {
    "duration": 5,
    "start_time": "2023-09-08T15:48:22.736Z"
   },
   {
    "duration": 18,
    "start_time": "2023-09-08T15:48:24.529Z"
   },
   {
    "duration": 34,
    "start_time": "2023-09-08T15:49:40.969Z"
   },
   {
    "duration": 11,
    "start_time": "2023-09-08T15:50:22.107Z"
   },
   {
    "duration": 392,
    "start_time": "2023-09-08T15:50:35.767Z"
   },
   {
    "duration": 4,
    "start_time": "2023-09-08T15:50:49.656Z"
   },
   {
    "duration": 268,
    "start_time": "2023-09-08T15:50:54.391Z"
   },
   {
    "duration": 8,
    "start_time": "2023-09-08T15:51:52.769Z"
   },
   {
    "duration": 221,
    "start_time": "2023-09-08T15:51:54.326Z"
   },
   {
    "duration": 7,
    "start_time": "2023-09-08T15:52:05.960Z"
   },
   {
    "duration": 234,
    "start_time": "2023-09-08T15:52:08.537Z"
   },
   {
    "duration": 6,
    "start_time": "2023-09-08T15:52:22.111Z"
   },
   {
    "duration": 159,
    "start_time": "2023-09-08T15:52:23.502Z"
   },
   {
    "duration": 141,
    "start_time": "2023-09-08T15:52:33.260Z"
   },
   {
    "duration": 151,
    "start_time": "2023-09-08T15:52:37.353Z"
   },
   {
    "duration": 5,
    "start_time": "2023-09-08T15:53:48.363Z"
   },
   {
    "duration": 157,
    "start_time": "2023-09-08T15:53:49.622Z"
   },
   {
    "duration": 167,
    "start_time": "2023-09-08T15:53:59.878Z"
   },
   {
    "duration": 166,
    "start_time": "2023-09-08T15:54:06.452Z"
   },
   {
    "duration": 160,
    "start_time": "2023-09-08T16:29:17.621Z"
   },
   {
    "duration": 154,
    "start_time": "2023-09-08T16:29:22.899Z"
   },
   {
    "duration": 162,
    "start_time": "2023-09-08T16:29:27.077Z"
   },
   {
    "duration": 4,
    "start_time": "2023-09-08T16:30:15.359Z"
   },
   {
    "duration": 299,
    "start_time": "2023-09-08T16:30:17.646Z"
   },
   {
    "duration": 175,
    "start_time": "2023-09-08T16:32:18.200Z"
   },
   {
    "duration": 5,
    "start_time": "2023-09-08T16:32:19.872Z"
   },
   {
    "duration": 162,
    "start_time": "2023-09-08T16:32:21.424Z"
   },
   {
    "duration": 6,
    "start_time": "2023-09-08T16:36:59.099Z"
   },
   {
    "duration": 93,
    "start_time": "2023-09-08T16:47:10.919Z"
   },
   {
    "duration": 89,
    "start_time": "2023-09-08T16:48:43.562Z"
   },
   {
    "duration": 6,
    "start_time": "2023-09-08T16:49:09.201Z"
   },
   {
    "duration": 3,
    "start_time": "2023-09-08T16:49:28.899Z"
   },
   {
    "duration": 16,
    "start_time": "2023-09-08T16:49:28.906Z"
   },
   {
    "duration": 97,
    "start_time": "2023-09-08T16:49:28.925Z"
   },
   {
    "duration": 16,
    "start_time": "2023-09-08T16:49:29.024Z"
   },
   {
    "duration": 66,
    "start_time": "2023-09-08T16:49:29.043Z"
   },
   {
    "duration": 17,
    "start_time": "2023-09-08T16:49:29.111Z"
   },
   {
    "duration": 53,
    "start_time": "2023-09-08T16:49:29.130Z"
   },
   {
    "duration": 177,
    "start_time": "2023-09-08T16:49:29.296Z"
   },
   {
    "duration": 9,
    "start_time": "2023-09-08T16:49:29.475Z"
   },
   {
    "duration": 32,
    "start_time": "2023-09-08T16:49:29.486Z"
   },
   {
    "duration": 12,
    "start_time": "2023-09-08T16:49:29.519Z"
   },
   {
    "duration": 15,
    "start_time": "2023-09-08T16:49:29.534Z"
   },
   {
    "duration": 13,
    "start_time": "2023-09-08T16:49:29.550Z"
   },
   {
    "duration": 7,
    "start_time": "2023-09-08T16:49:29.564Z"
   },
   {
    "duration": 39,
    "start_time": "2023-09-08T16:49:29.572Z"
   },
   {
    "duration": 8,
    "start_time": "2023-09-08T16:49:29.613Z"
   },
   {
    "duration": 22,
    "start_time": "2023-09-08T16:49:29.623Z"
   },
   {
    "duration": 7,
    "start_time": "2023-09-08T16:49:29.646Z"
   },
   {
    "duration": 6,
    "start_time": "2023-09-08T16:49:29.654Z"
   },
   {
    "duration": 8,
    "start_time": "2023-09-08T16:49:29.661Z"
   },
   {
    "duration": 5,
    "start_time": "2023-09-08T16:49:29.671Z"
   },
   {
    "duration": 29,
    "start_time": "2023-09-08T16:49:29.709Z"
   },
   {
    "duration": 4,
    "start_time": "2023-09-08T16:49:29.740Z"
   },
   {
    "duration": 22,
    "start_time": "2023-09-08T16:49:29.746Z"
   },
   {
    "duration": 561,
    "start_time": "2023-09-08T16:49:29.769Z"
   },
   {
    "duration": 14,
    "start_time": "2023-09-08T16:49:30.331Z"
   },
   {
    "duration": 26,
    "start_time": "2023-09-08T16:49:30.347Z"
   },
   {
    "duration": 35,
    "start_time": "2023-09-08T16:49:30.375Z"
   },
   {
    "duration": 18,
    "start_time": "2023-09-08T16:49:30.412Z"
   },
   {
    "duration": 30,
    "start_time": "2023-09-08T16:49:30.432Z"
   },
   {
    "duration": 28,
    "start_time": "2023-09-08T16:49:30.464Z"
   },
   {
    "duration": 25,
    "start_time": "2023-09-08T16:49:30.494Z"
   },
   {
    "duration": 15,
    "start_time": "2023-09-08T16:49:30.520Z"
   },
   {
    "duration": 396,
    "start_time": "2023-09-08T16:49:30.537Z"
   },
   {
    "duration": 10,
    "start_time": "2023-09-08T16:49:30.934Z"
   },
   {
    "duration": 375,
    "start_time": "2023-09-08T16:49:30.945Z"
   },
   {
    "duration": 19,
    "start_time": "2023-09-08T16:49:31.322Z"
   },
   {
    "duration": 308,
    "start_time": "2023-09-08T16:49:31.343Z"
   },
   {
    "duration": 16,
    "start_time": "2023-09-08T16:49:31.653Z"
   },
   {
    "duration": 41,
    "start_time": "2023-09-08T16:49:31.670Z"
   },
   {
    "duration": 337,
    "start_time": "2023-09-08T16:49:31.713Z"
   },
   {
    "duration": 11,
    "start_time": "2023-09-08T16:49:32.051Z"
   },
   {
    "duration": 192,
    "start_time": "2023-09-08T16:49:32.063Z"
   },
   {
    "duration": 20,
    "start_time": "2023-09-08T16:49:32.257Z"
   },
   {
    "duration": 64,
    "start_time": "2023-09-08T16:49:32.279Z"
   },
   {
    "duration": 53,
    "start_time": "2023-09-08T16:49:32.346Z"
   },
   {
    "duration": 21,
    "start_time": "2023-09-08T16:49:32.401Z"
   },
   {
    "duration": 32,
    "start_time": "2023-09-08T16:49:32.428Z"
   },
   {
    "duration": 37,
    "start_time": "2023-09-08T16:49:32.462Z"
   },
   {
    "duration": 872,
    "start_time": "2023-09-08T16:49:32.501Z"
   },
   {
    "duration": 9,
    "start_time": "2023-09-08T16:49:33.374Z"
   },
   {
    "duration": 268,
    "start_time": "2023-09-08T16:49:33.385Z"
   },
   {
    "duration": 158,
    "start_time": "2023-09-08T16:49:33.654Z"
   },
   {
    "duration": 11,
    "start_time": "2023-09-08T16:49:33.813Z"
   },
   {
    "duration": 0,
    "start_time": "2023-09-08T16:49:33.826Z"
   },
   {
    "duration": 0,
    "start_time": "2023-09-08T16:49:33.827Z"
   },
   {
    "duration": 0,
    "start_time": "2023-09-08T16:49:33.828Z"
   },
   {
    "duration": 0,
    "start_time": "2023-09-08T16:49:33.830Z"
   },
   {
    "duration": 0,
    "start_time": "2023-09-08T16:49:33.831Z"
   },
   {
    "duration": 0,
    "start_time": "2023-09-08T16:49:33.832Z"
   },
   {
    "duration": 0,
    "start_time": "2023-09-08T16:49:33.833Z"
   },
   {
    "duration": 0,
    "start_time": "2023-09-08T16:49:33.834Z"
   },
   {
    "duration": 0,
    "start_time": "2023-09-08T16:49:33.835Z"
   },
   {
    "duration": 0,
    "start_time": "2023-09-08T16:49:33.836Z"
   },
   {
    "duration": 0,
    "start_time": "2023-09-08T16:49:33.838Z"
   },
   {
    "duration": 0,
    "start_time": "2023-09-08T16:49:33.839Z"
   },
   {
    "duration": 0,
    "start_time": "2023-09-08T16:49:33.840Z"
   },
   {
    "duration": 0,
    "start_time": "2023-09-08T16:49:33.841Z"
   },
   {
    "duration": 0,
    "start_time": "2023-09-08T16:49:33.842Z"
   },
   {
    "duration": 0,
    "start_time": "2023-09-08T16:49:33.843Z"
   },
   {
    "duration": 0,
    "start_time": "2023-09-08T16:49:33.844Z"
   },
   {
    "duration": 0,
    "start_time": "2023-09-08T16:49:33.845Z"
   },
   {
    "duration": 1192,
    "start_time": "2023-09-08T16:49:38.315Z"
   },
   {
    "duration": 503,
    "start_time": "2023-09-08T16:51:57.693Z"
   },
   {
    "duration": 6,
    "start_time": "2023-09-08T16:52:02.329Z"
   },
   {
    "duration": 5,
    "start_time": "2023-09-08T16:54:39.710Z"
   },
   {
    "duration": 1664,
    "start_time": "2023-09-08T16:54:47.645Z"
   },
   {
    "duration": 5,
    "start_time": "2023-09-08T17:09:25.531Z"
   },
   {
    "duration": 5,
    "start_time": "2023-09-08T17:09:33.148Z"
   },
   {
    "duration": 78,
    "start_time": "2023-09-08T17:10:55.947Z"
   },
   {
    "duration": 1209,
    "start_time": "2023-09-08T17:10:57.946Z"
   },
   {
    "duration": 82,
    "start_time": "2023-09-08T17:11:36.321Z"
   },
   {
    "duration": 1229,
    "start_time": "2023-09-08T17:11:39.324Z"
   },
   {
    "duration": 291,
    "start_time": "2023-09-12T10:58:12.140Z"
   },
   {
    "duration": 1197,
    "start_time": "2023-09-12T10:58:16.924Z"
   },
   {
    "duration": 3,
    "start_time": "2023-09-12T10:58:18.123Z"
   },
   {
    "duration": 118,
    "start_time": "2023-09-12T10:58:18.127Z"
   },
   {
    "duration": 12,
    "start_time": "2023-09-12T10:58:18.247Z"
   },
   {
    "duration": 21,
    "start_time": "2023-09-12T10:58:18.261Z"
   },
   {
    "duration": 3,
    "start_time": "2023-09-12T10:58:18.284Z"
   },
   {
    "duration": 34,
    "start_time": "2023-09-12T10:58:18.289Z"
   },
   {
    "duration": 171,
    "start_time": "2023-09-12T10:58:18.324Z"
   },
   {
    "duration": 7,
    "start_time": "2023-09-12T10:58:18.497Z"
   },
   {
    "duration": 19,
    "start_time": "2023-09-12T10:58:18.506Z"
   },
   {
    "duration": 29,
    "start_time": "2023-09-12T10:58:18.526Z"
   },
   {
    "duration": 22,
    "start_time": "2023-09-12T10:58:18.556Z"
   },
   {
    "duration": 36,
    "start_time": "2023-09-12T10:58:18.580Z"
   },
   {
    "duration": 10,
    "start_time": "2023-09-12T10:58:18.617Z"
   },
   {
    "duration": 21,
    "start_time": "2023-09-12T10:58:18.629Z"
   },
   {
    "duration": 24,
    "start_time": "2023-09-12T10:58:18.651Z"
   },
   {
    "duration": 46,
    "start_time": "2023-09-12T10:58:18.677Z"
   },
   {
    "duration": 8,
    "start_time": "2023-09-12T10:58:18.725Z"
   },
   {
    "duration": 15,
    "start_time": "2023-09-12T10:58:18.735Z"
   },
   {
    "duration": 31,
    "start_time": "2023-09-12T10:58:18.752Z"
   },
   {
    "duration": 21,
    "start_time": "2023-09-12T10:58:18.785Z"
   },
   {
    "duration": 56,
    "start_time": "2023-09-12T10:58:18.808Z"
   },
   {
    "duration": 5,
    "start_time": "2023-09-12T10:58:18.866Z"
   },
   {
    "duration": 37,
    "start_time": "2023-09-12T10:58:18.873Z"
   },
   {
    "duration": 492,
    "start_time": "2023-09-12T10:58:18.912Z"
   },
   {
    "duration": 13,
    "start_time": "2023-09-12T10:58:19.406Z"
   },
   {
    "duration": 26,
    "start_time": "2023-09-12T10:58:19.420Z"
   },
   {
    "duration": 13,
    "start_time": "2023-09-12T10:58:19.450Z"
   },
   {
    "duration": 18,
    "start_time": "2023-09-12T10:58:19.464Z"
   },
   {
    "duration": 22,
    "start_time": "2023-09-12T10:58:19.483Z"
   },
   {
    "duration": 25,
    "start_time": "2023-09-12T10:58:19.506Z"
   },
   {
    "duration": 14,
    "start_time": "2023-09-12T10:58:19.543Z"
   },
   {
    "duration": 30,
    "start_time": "2023-09-12T10:58:19.558Z"
   },
   {
    "duration": 377,
    "start_time": "2023-09-12T10:58:19.590Z"
   },
   {
    "duration": 9,
    "start_time": "2023-09-12T10:58:19.970Z"
   },
   {
    "duration": 360,
    "start_time": "2023-09-12T10:58:19.982Z"
   },
   {
    "duration": 18,
    "start_time": "2023-09-12T10:58:20.344Z"
   },
   {
    "duration": 319,
    "start_time": "2023-09-12T10:58:20.364Z"
   },
   {
    "duration": 16,
    "start_time": "2023-09-12T10:58:20.685Z"
   },
   {
    "duration": 36,
    "start_time": "2023-09-12T10:58:20.702Z"
   },
   {
    "duration": 293,
    "start_time": "2023-09-12T10:58:20.739Z"
   },
   {
    "duration": 10,
    "start_time": "2023-09-12T10:58:21.044Z"
   },
   {
    "duration": 174,
    "start_time": "2023-09-12T10:58:21.056Z"
   },
   {
    "duration": 27,
    "start_time": "2023-09-12T10:58:21.232Z"
   },
   {
    "duration": 13,
    "start_time": "2023-09-12T10:58:21.260Z"
   },
   {
    "duration": 27,
    "start_time": "2023-09-12T10:58:21.274Z"
   },
   {
    "duration": 13,
    "start_time": "2023-09-12T10:58:21.302Z"
   },
   {
    "duration": 13,
    "start_time": "2023-09-12T10:58:21.316Z"
   },
   {
    "duration": 15,
    "start_time": "2023-09-12T10:58:21.344Z"
   },
   {
    "duration": 846,
    "start_time": "2023-09-12T10:58:21.361Z"
   },
   {
    "duration": 9,
    "start_time": "2023-09-12T10:58:22.208Z"
   },
   {
    "duration": 264,
    "start_time": "2023-09-12T10:58:22.218Z"
   },
   {
    "duration": 215,
    "start_time": "2023-09-12T10:58:22.483Z"
   },
   {
    "duration": 71,
    "start_time": "2023-09-12T10:58:22.700Z"
   },
   {
    "duration": 0,
    "start_time": "2023-09-12T10:58:22.773Z"
   },
   {
    "duration": 0,
    "start_time": "2023-09-12T10:58:22.774Z"
   },
   {
    "duration": 0,
    "start_time": "2023-09-12T10:58:22.775Z"
   },
   {
    "duration": 0,
    "start_time": "2023-09-12T10:58:22.777Z"
   },
   {
    "duration": 0,
    "start_time": "2023-09-12T10:58:22.779Z"
   },
   {
    "duration": 0,
    "start_time": "2023-09-12T10:58:22.780Z"
   },
   {
    "duration": 0,
    "start_time": "2023-09-12T10:58:22.782Z"
   },
   {
    "duration": 0,
    "start_time": "2023-09-12T10:58:22.783Z"
   },
   {
    "duration": 0,
    "start_time": "2023-09-12T10:58:22.784Z"
   },
   {
    "duration": 0,
    "start_time": "2023-09-12T10:58:22.785Z"
   },
   {
    "duration": 0,
    "start_time": "2023-09-12T10:58:22.786Z"
   },
   {
    "duration": 0,
    "start_time": "2023-09-12T10:58:22.787Z"
   },
   {
    "duration": 0,
    "start_time": "2023-09-12T10:58:22.789Z"
   },
   {
    "duration": 0,
    "start_time": "2023-09-12T10:58:22.790Z"
   },
   {
    "duration": 0,
    "start_time": "2023-09-12T10:58:22.791Z"
   },
   {
    "duration": 0,
    "start_time": "2023-09-12T10:58:22.792Z"
   },
   {
    "duration": 0,
    "start_time": "2023-09-12T10:58:22.793Z"
   },
   {
    "duration": 0,
    "start_time": "2023-09-12T10:58:22.794Z"
   },
   {
    "duration": 1,
    "start_time": "2023-09-12T10:58:22.795Z"
   },
   {
    "duration": 0,
    "start_time": "2023-09-12T10:58:22.797Z"
   },
   {
    "duration": 0,
    "start_time": "2023-09-12T10:58:22.798Z"
   },
   {
    "duration": 0,
    "start_time": "2023-09-12T10:58:22.799Z"
   },
   {
    "duration": 0,
    "start_time": "2023-09-12T10:58:22.800Z"
   },
   {
    "duration": 1,
    "start_time": "2023-09-12T10:58:22.801Z"
   },
   {
    "duration": 0,
    "start_time": "2023-09-12T10:58:22.844Z"
   },
   {
    "duration": 0,
    "start_time": "2023-09-12T10:58:22.845Z"
   },
   {
    "duration": 0,
    "start_time": "2023-09-12T10:58:22.846Z"
   },
   {
    "duration": 9,
    "start_time": "2023-09-12T11:01:24.273Z"
   },
   {
    "duration": 3,
    "start_time": "2023-09-12T11:01:28.860Z"
   },
   {
    "duration": 19,
    "start_time": "2023-09-12T11:01:28.866Z"
   },
   {
    "duration": 78,
    "start_time": "2023-09-12T11:01:28.887Z"
   },
   {
    "duration": 11,
    "start_time": "2023-09-12T11:01:28.967Z"
   },
   {
    "duration": 29,
    "start_time": "2023-09-12T11:01:28.980Z"
   },
   {
    "duration": 8,
    "start_time": "2023-09-12T11:01:29.010Z"
   },
   {
    "duration": 29,
    "start_time": "2023-09-12T11:01:29.019Z"
   },
   {
    "duration": 193,
    "start_time": "2023-09-12T11:01:29.050Z"
   },
   {
    "duration": 11,
    "start_time": "2023-09-12T11:01:29.245Z"
   },
   {
    "duration": 23,
    "start_time": "2023-09-12T11:01:29.258Z"
   },
   {
    "duration": 32,
    "start_time": "2023-09-12T11:01:29.284Z"
   },
   {
    "duration": 18,
    "start_time": "2023-09-12T11:01:29.318Z"
   },
   {
    "duration": 26,
    "start_time": "2023-09-12T11:01:29.338Z"
   },
   {
    "duration": 18,
    "start_time": "2023-09-12T11:01:29.366Z"
   },
   {
    "duration": 31,
    "start_time": "2023-09-12T11:01:29.385Z"
   },
   {
    "duration": 8,
    "start_time": "2023-09-12T11:01:29.418Z"
   },
   {
    "duration": 37,
    "start_time": "2023-09-12T11:01:29.427Z"
   },
   {
    "duration": 17,
    "start_time": "2023-09-12T11:01:29.466Z"
   },
   {
    "duration": 15,
    "start_time": "2023-09-12T11:01:29.485Z"
   },
   {
    "duration": 19,
    "start_time": "2023-09-12T11:01:29.502Z"
   },
   {
    "duration": 22,
    "start_time": "2023-09-12T11:01:29.523Z"
   },
   {
    "duration": 28,
    "start_time": "2023-09-12T11:01:29.547Z"
   },
   {
    "duration": 4,
    "start_time": "2023-09-12T11:01:29.577Z"
   },
   {
    "duration": 35,
    "start_time": "2023-09-12T11:01:29.583Z"
   },
   {
    "duration": 447,
    "start_time": "2023-09-12T11:01:29.620Z"
   },
   {
    "duration": 15,
    "start_time": "2023-09-12T11:01:30.069Z"
   },
   {
    "duration": 66,
    "start_time": "2023-09-12T11:01:30.086Z"
   },
   {
    "duration": 46,
    "start_time": "2023-09-12T11:01:30.154Z"
   },
   {
    "duration": 33,
    "start_time": "2023-09-12T11:01:30.205Z"
   },
   {
    "duration": 45,
    "start_time": "2023-09-12T11:01:30.239Z"
   },
   {
    "duration": 67,
    "start_time": "2023-09-12T11:01:30.286Z"
   },
   {
    "duration": 78,
    "start_time": "2023-09-12T11:01:30.355Z"
   },
   {
    "duration": 39,
    "start_time": "2023-09-12T11:01:30.435Z"
   },
   {
    "duration": 428,
    "start_time": "2023-09-12T11:01:30.476Z"
   },
   {
    "duration": 8,
    "start_time": "2023-09-12T11:01:30.906Z"
   },
   {
    "duration": 345,
    "start_time": "2023-09-12T11:01:30.916Z"
   },
   {
    "duration": 16,
    "start_time": "2023-09-12T11:01:31.263Z"
   },
   {
    "duration": 294,
    "start_time": "2023-09-12T11:01:31.281Z"
   },
   {
    "duration": 17,
    "start_time": "2023-09-12T11:01:31.577Z"
   },
   {
    "duration": 58,
    "start_time": "2023-09-12T11:01:31.596Z"
   },
   {
    "duration": 339,
    "start_time": "2023-09-12T11:01:31.656Z"
   },
   {
    "duration": 10,
    "start_time": "2023-09-12T11:01:31.997Z"
   },
   {
    "duration": 220,
    "start_time": "2023-09-12T11:01:32.009Z"
   },
   {
    "duration": 24,
    "start_time": "2023-09-12T11:01:32.231Z"
   },
   {
    "duration": 45,
    "start_time": "2023-09-12T11:01:32.257Z"
   },
   {
    "duration": 35,
    "start_time": "2023-09-12T11:01:32.304Z"
   },
   {
    "duration": 18,
    "start_time": "2023-09-12T11:01:32.341Z"
   },
   {
    "duration": 40,
    "start_time": "2023-09-12T11:01:32.360Z"
   },
   {
    "duration": 32,
    "start_time": "2023-09-12T11:01:32.402Z"
   },
   {
    "duration": 799,
    "start_time": "2023-09-12T11:01:32.435Z"
   },
   {
    "duration": 14,
    "start_time": "2023-09-12T11:01:33.235Z"
   },
   {
    "duration": 237,
    "start_time": "2023-09-12T11:01:33.251Z"
   },
   {
    "duration": 148,
    "start_time": "2023-09-12T11:01:33.490Z"
   },
   {
    "duration": 9,
    "start_time": "2023-09-12T11:01:33.644Z"
   },
   {
    "duration": 0,
    "start_time": "2023-09-12T11:01:33.655Z"
   },
   {
    "duration": 0,
    "start_time": "2023-09-12T11:01:33.657Z"
   },
   {
    "duration": 0,
    "start_time": "2023-09-12T11:01:33.658Z"
   },
   {
    "duration": 0,
    "start_time": "2023-09-12T11:01:33.660Z"
   },
   {
    "duration": 0,
    "start_time": "2023-09-12T11:01:33.661Z"
   },
   {
    "duration": 0,
    "start_time": "2023-09-12T11:01:33.663Z"
   },
   {
    "duration": 0,
    "start_time": "2023-09-12T11:01:33.664Z"
   },
   {
    "duration": 0,
    "start_time": "2023-09-12T11:01:33.666Z"
   },
   {
    "duration": 0,
    "start_time": "2023-09-12T11:01:33.667Z"
   },
   {
    "duration": 0,
    "start_time": "2023-09-12T11:01:33.669Z"
   },
   {
    "duration": 0,
    "start_time": "2023-09-12T11:01:33.670Z"
   },
   {
    "duration": 0,
    "start_time": "2023-09-12T11:01:33.672Z"
   },
   {
    "duration": 0,
    "start_time": "2023-09-12T11:01:33.673Z"
   },
   {
    "duration": 0,
    "start_time": "2023-09-12T11:01:33.675Z"
   },
   {
    "duration": 0,
    "start_time": "2023-09-12T11:01:33.676Z"
   },
   {
    "duration": 0,
    "start_time": "2023-09-12T11:01:33.678Z"
   },
   {
    "duration": 0,
    "start_time": "2023-09-12T11:01:33.679Z"
   },
   {
    "duration": 0,
    "start_time": "2023-09-12T11:01:33.681Z"
   },
   {
    "duration": 0,
    "start_time": "2023-09-12T11:01:33.684Z"
   },
   {
    "duration": 0,
    "start_time": "2023-09-12T11:01:33.685Z"
   },
   {
    "duration": 0,
    "start_time": "2023-09-12T11:01:33.687Z"
   },
   {
    "duration": 0,
    "start_time": "2023-09-12T11:01:33.687Z"
   },
   {
    "duration": 0,
    "start_time": "2023-09-12T11:01:33.689Z"
   },
   {
    "duration": 0,
    "start_time": "2023-09-12T11:01:33.744Z"
   },
   {
    "duration": 0,
    "start_time": "2023-09-12T11:01:33.746Z"
   },
   {
    "duration": 0,
    "start_time": "2023-09-12T11:01:33.747Z"
   },
   {
    "duration": 0,
    "start_time": "2023-09-12T11:01:33.749Z"
   },
   {
    "duration": 22,
    "start_time": "2023-09-12T11:01:38.013Z"
   },
   {
    "duration": 9,
    "start_time": "2023-09-12T11:01:40.241Z"
   },
   {
    "duration": 229,
    "start_time": "2023-09-12T11:01:42.588Z"
   },
   {
    "duration": 436,
    "start_time": "2023-09-12T11:01:47.273Z"
   },
   {
    "duration": 6,
    "start_time": "2023-09-12T11:01:50.818Z"
   },
   {
    "duration": 209,
    "start_time": "2023-09-12T11:01:52.330Z"
   },
   {
    "duration": 346,
    "start_time": "2023-09-12T11:01:55.106Z"
   },
   {
    "duration": 9,
    "start_time": "2023-09-12T11:01:58.425Z"
   },
   {
    "duration": 203,
    "start_time": "2023-09-12T11:02:02.491Z"
   },
   {
    "duration": 360,
    "start_time": "2023-09-12T11:02:04.968Z"
   },
   {
    "duration": 268,
    "start_time": "2023-09-12T11:02:14.766Z"
   },
   {
    "duration": 392,
    "start_time": "2023-09-12T11:06:44.844Z"
   },
   {
    "duration": 259,
    "start_time": "2023-09-12T11:08:55.400Z"
   },
   {
    "duration": 51,
    "start_time": "2023-09-12T11:11:09.725Z"
   },
   {
    "duration": 11,
    "start_time": "2023-09-12T11:11:23.063Z"
   },
   {
    "duration": 230,
    "start_time": "2023-09-12T11:11:31.184Z"
   },
   {
    "duration": 6,
    "start_time": "2023-09-12T11:11:38.168Z"
   },
   {
    "duration": 1524,
    "start_time": "2023-09-12T11:11:42.536Z"
   },
   {
    "duration": 3,
    "start_time": "2023-09-12T11:11:44.062Z"
   },
   {
    "duration": 86,
    "start_time": "2023-09-12T11:11:44.066Z"
   },
   {
    "duration": 12,
    "start_time": "2023-09-12T11:11:44.154Z"
   },
   {
    "duration": 17,
    "start_time": "2023-09-12T11:11:44.168Z"
   },
   {
    "duration": 3,
    "start_time": "2023-09-12T11:11:44.187Z"
   },
   {
    "duration": 15,
    "start_time": "2023-09-12T11:11:44.192Z"
   },
   {
    "duration": 222,
    "start_time": "2023-09-12T11:11:44.209Z"
   },
   {
    "duration": 14,
    "start_time": "2023-09-12T11:11:44.433Z"
   },
   {
    "duration": 21,
    "start_time": "2023-09-12T11:11:44.451Z"
   },
   {
    "duration": 19,
    "start_time": "2023-09-12T11:11:44.474Z"
   },
   {
    "duration": 10,
    "start_time": "2023-09-12T11:11:44.495Z"
   },
   {
    "duration": 11,
    "start_time": "2023-09-12T11:11:44.507Z"
   },
   {
    "duration": 5,
    "start_time": "2023-09-12T11:11:44.547Z"
   },
   {
    "duration": 23,
    "start_time": "2023-09-12T11:11:44.554Z"
   },
   {
    "duration": 22,
    "start_time": "2023-09-12T11:11:44.579Z"
   },
   {
    "duration": 32,
    "start_time": "2023-09-12T11:11:44.603Z"
   },
   {
    "duration": 8,
    "start_time": "2023-09-12T11:11:44.637Z"
   },
   {
    "duration": 16,
    "start_time": "2023-09-12T11:11:44.647Z"
   },
   {
    "duration": 10,
    "start_time": "2023-09-12T11:11:44.665Z"
   },
   {
    "duration": 13,
    "start_time": "2023-09-12T11:11:44.677Z"
   },
   {
    "duration": 39,
    "start_time": "2023-09-12T11:11:44.692Z"
   },
   {
    "duration": 12,
    "start_time": "2023-09-12T11:11:44.733Z"
   },
   {
    "duration": 26,
    "start_time": "2023-09-12T11:11:44.747Z"
   },
   {
    "duration": 507,
    "start_time": "2023-09-12T11:11:44.775Z"
   },
   {
    "duration": 16,
    "start_time": "2023-09-12T11:11:45.284Z"
   },
   {
    "duration": 44,
    "start_time": "2023-09-12T11:11:45.302Z"
   },
   {
    "duration": 32,
    "start_time": "2023-09-12T11:11:45.351Z"
   },
   {
    "duration": 10,
    "start_time": "2023-09-12T11:11:45.385Z"
   },
   {
    "duration": 30,
    "start_time": "2023-09-12T11:11:45.396Z"
   },
   {
    "duration": 23,
    "start_time": "2023-09-12T11:11:45.428Z"
   },
   {
    "duration": 13,
    "start_time": "2023-09-12T11:11:45.454Z"
   },
   {
    "duration": 36,
    "start_time": "2023-09-12T11:11:45.469Z"
   },
   {
    "duration": 384,
    "start_time": "2023-09-12T11:11:45.508Z"
   },
   {
    "duration": 8,
    "start_time": "2023-09-12T11:11:45.894Z"
   },
   {
    "duration": 358,
    "start_time": "2023-09-12T11:11:45.904Z"
   },
   {
    "duration": 19,
    "start_time": "2023-09-12T11:11:46.264Z"
   },
   {
    "duration": 333,
    "start_time": "2023-09-12T11:11:46.286Z"
   },
   {
    "duration": 20,
    "start_time": "2023-09-12T11:11:46.622Z"
   },
   {
    "duration": 22,
    "start_time": "2023-09-12T11:11:46.644Z"
   },
   {
    "duration": 330,
    "start_time": "2023-09-12T11:11:46.668Z"
   },
   {
    "duration": 11,
    "start_time": "2023-09-12T11:11:47.001Z"
   },
   {
    "duration": 218,
    "start_time": "2023-09-12T11:11:47.014Z"
   },
   {
    "duration": 25,
    "start_time": "2023-09-12T11:11:47.234Z"
   },
   {
    "duration": 7,
    "start_time": "2023-09-12T11:11:47.260Z"
   },
   {
    "duration": 21,
    "start_time": "2023-09-12T11:11:47.268Z"
   },
   {
    "duration": 29,
    "start_time": "2023-09-12T11:11:47.291Z"
   },
   {
    "duration": 35,
    "start_time": "2023-09-12T11:11:47.322Z"
   },
   {
    "duration": 16,
    "start_time": "2023-09-12T11:11:47.358Z"
   },
   {
    "duration": 840,
    "start_time": "2023-09-12T11:11:47.376Z"
   },
   {
    "duration": 9,
    "start_time": "2023-09-12T11:11:48.218Z"
   },
   {
    "duration": 267,
    "start_time": "2023-09-12T11:11:48.229Z"
   },
   {
    "duration": 250,
    "start_time": "2023-09-12T11:11:48.498Z"
   },
   {
    "duration": 59,
    "start_time": "2023-09-12T11:11:48.753Z"
   },
   {
    "duration": 0,
    "start_time": "2023-09-12T11:11:48.814Z"
   },
   {
    "duration": 0,
    "start_time": "2023-09-12T11:11:48.816Z"
   },
   {
    "duration": 0,
    "start_time": "2023-09-12T11:11:48.817Z"
   },
   {
    "duration": 0,
    "start_time": "2023-09-12T11:11:48.819Z"
   },
   {
    "duration": 0,
    "start_time": "2023-09-12T11:11:48.820Z"
   },
   {
    "duration": 0,
    "start_time": "2023-09-12T11:11:48.822Z"
   },
   {
    "duration": 0,
    "start_time": "2023-09-12T11:11:48.844Z"
   },
   {
    "duration": 0,
    "start_time": "2023-09-12T11:11:48.845Z"
   },
   {
    "duration": 0,
    "start_time": "2023-09-12T11:11:48.846Z"
   },
   {
    "duration": 0,
    "start_time": "2023-09-12T11:11:48.847Z"
   },
   {
    "duration": 0,
    "start_time": "2023-09-12T11:11:48.848Z"
   },
   {
    "duration": 0,
    "start_time": "2023-09-12T11:11:48.849Z"
   },
   {
    "duration": 0,
    "start_time": "2023-09-12T11:11:48.850Z"
   },
   {
    "duration": 0,
    "start_time": "2023-09-12T11:11:48.851Z"
   },
   {
    "duration": 0,
    "start_time": "2023-09-12T11:11:48.852Z"
   },
   {
    "duration": 0,
    "start_time": "2023-09-12T11:11:48.853Z"
   },
   {
    "duration": 0,
    "start_time": "2023-09-12T11:11:48.854Z"
   },
   {
    "duration": 0,
    "start_time": "2023-09-12T11:11:48.855Z"
   },
   {
    "duration": 0,
    "start_time": "2023-09-12T11:11:48.856Z"
   },
   {
    "duration": 0,
    "start_time": "2023-09-12T11:11:48.857Z"
   },
   {
    "duration": 0,
    "start_time": "2023-09-12T11:11:48.858Z"
   },
   {
    "duration": 0,
    "start_time": "2023-09-12T11:11:48.859Z"
   },
   {
    "duration": 0,
    "start_time": "2023-09-12T11:11:48.860Z"
   },
   {
    "duration": 1,
    "start_time": "2023-09-12T11:11:48.861Z"
   },
   {
    "duration": 0,
    "start_time": "2023-09-12T11:11:48.863Z"
   },
   {
    "duration": 0,
    "start_time": "2023-09-12T11:11:48.864Z"
   },
   {
    "duration": 0,
    "start_time": "2023-09-12T11:11:48.865Z"
   },
   {
    "duration": 0,
    "start_time": "2023-09-12T11:11:48.866Z"
   },
   {
    "duration": 12,
    "start_time": "2023-09-12T11:12:43.397Z"
   },
   {
    "duration": 18,
    "start_time": "2023-09-12T11:12:50.181Z"
   },
   {
    "duration": 9,
    "start_time": "2023-09-12T11:12:53.044Z"
   },
   {
    "duration": 204,
    "start_time": "2023-09-12T11:12:54.784Z"
   },
   {
    "duration": 375,
    "start_time": "2023-09-12T11:13:00.548Z"
   },
   {
    "duration": 7,
    "start_time": "2023-09-12T11:13:04.100Z"
   },
   {
    "duration": 202,
    "start_time": "2023-09-12T11:13:05.568Z"
   },
   {
    "duration": 392,
    "start_time": "2023-09-12T11:13:08.142Z"
   },
   {
    "duration": 8,
    "start_time": "2023-09-12T11:13:09.636Z"
   },
   {
    "duration": 229,
    "start_time": "2023-09-12T11:13:12.174Z"
   },
   {
    "duration": 363,
    "start_time": "2023-09-12T11:13:14.797Z"
   },
   {
    "duration": 10,
    "start_time": "2023-09-12T11:13:17.768Z"
   },
   {
    "duration": 3,
    "start_time": "2023-09-12T11:13:35.491Z"
   },
   {
    "duration": 43713,
    "start_time": "2023-09-12T11:15:01.602Z"
   },
   {
    "duration": 264,
    "start_time": "2023-09-12T12:06:55.364Z"
   },
   {
    "duration": 0,
    "start_time": "2023-09-12T12:06:55.630Z"
   },
   {
    "duration": 281,
    "start_time": "2023-09-12T12:07:35.932Z"
   },
   {
    "duration": 254,
    "start_time": "2023-09-12T12:07:43.282Z"
   },
   {
    "duration": 1339,
    "start_time": "2023-09-12T12:18:47.185Z"
   },
   {
    "duration": 2,
    "start_time": "2023-09-12T12:18:48.526Z"
   },
   {
    "duration": 70,
    "start_time": "2023-09-12T12:18:48.530Z"
   },
   {
    "duration": 11,
    "start_time": "2023-09-12T12:18:48.602Z"
   },
   {
    "duration": 17,
    "start_time": "2023-09-12T12:18:48.615Z"
   },
   {
    "duration": 16,
    "start_time": "2023-09-12T12:18:48.633Z"
   },
   {
    "duration": 23,
    "start_time": "2023-09-12T12:18:48.650Z"
   },
   {
    "duration": 185,
    "start_time": "2023-09-12T12:18:48.675Z"
   },
   {
    "duration": 7,
    "start_time": "2023-09-12T12:18:48.862Z"
   },
   {
    "duration": 20,
    "start_time": "2023-09-12T12:18:48.871Z"
   },
   {
    "duration": 32,
    "start_time": "2023-09-12T12:18:48.892Z"
   },
   {
    "duration": 29,
    "start_time": "2023-09-12T12:18:48.926Z"
   },
   {
    "duration": 14,
    "start_time": "2023-09-12T12:18:48.957Z"
   },
   {
    "duration": 10,
    "start_time": "2023-09-12T12:18:48.974Z"
   },
   {
    "duration": 31,
    "start_time": "2023-09-12T12:18:48.985Z"
   },
   {
    "duration": 9,
    "start_time": "2023-09-12T12:18:49.018Z"
   },
   {
    "duration": 21,
    "start_time": "2023-09-12T12:18:49.028Z"
   },
   {
    "duration": 6,
    "start_time": "2023-09-12T12:18:49.051Z"
   },
   {
    "duration": 6,
    "start_time": "2023-09-12T12:18:49.058Z"
   },
   {
    "duration": 11,
    "start_time": "2023-09-12T12:18:49.066Z"
   },
   {
    "duration": 5,
    "start_time": "2023-09-12T12:18:49.079Z"
   },
   {
    "duration": 29,
    "start_time": "2023-09-12T12:18:49.086Z"
   },
   {
    "duration": 5,
    "start_time": "2023-09-12T12:18:49.116Z"
   },
   {
    "duration": 15,
    "start_time": "2023-09-12T12:18:49.144Z"
   },
   {
    "duration": 464,
    "start_time": "2023-09-12T12:18:49.161Z"
   },
   {
    "duration": 21,
    "start_time": "2023-09-12T12:18:49.627Z"
   },
   {
    "duration": 11,
    "start_time": "2023-09-12T12:18:49.649Z"
   },
   {
    "duration": 19,
    "start_time": "2023-09-12T12:18:49.662Z"
   },
   {
    "duration": 15,
    "start_time": "2023-09-12T12:18:49.683Z"
   },
   {
    "duration": 15,
    "start_time": "2023-09-12T12:18:49.700Z"
   },
   {
    "duration": 47,
    "start_time": "2023-09-12T12:18:49.717Z"
   },
   {
    "duration": 12,
    "start_time": "2023-09-12T12:18:49.766Z"
   },
   {
    "duration": 19,
    "start_time": "2023-09-12T12:18:49.779Z"
   },
   {
    "duration": 352,
    "start_time": "2023-09-12T12:18:49.800Z"
   },
   {
    "duration": 7,
    "start_time": "2023-09-12T12:18:50.154Z"
   },
   {
    "duration": 330,
    "start_time": "2023-09-12T12:18:50.163Z"
   },
   {
    "duration": 16,
    "start_time": "2023-09-12T12:18:50.495Z"
   },
   {
    "duration": 299,
    "start_time": "2023-09-12T12:18:50.512Z"
   },
   {
    "duration": 14,
    "start_time": "2023-09-12T12:18:50.813Z"
   },
   {
    "duration": 17,
    "start_time": "2023-09-12T12:18:50.829Z"
   },
   {
    "duration": 307,
    "start_time": "2023-09-12T12:18:50.851Z"
   },
   {
    "duration": 9,
    "start_time": "2023-09-12T12:18:51.160Z"
   },
   {
    "duration": 167,
    "start_time": "2023-09-12T12:18:51.170Z"
   },
   {
    "duration": 23,
    "start_time": "2023-09-12T12:18:51.339Z"
   },
   {
    "duration": 8,
    "start_time": "2023-09-12T12:18:51.364Z"
   },
   {
    "duration": 27,
    "start_time": "2023-09-12T12:18:51.373Z"
   },
   {
    "duration": 28,
    "start_time": "2023-09-12T12:18:51.402Z"
   },
   {
    "duration": 25,
    "start_time": "2023-09-12T12:18:51.432Z"
   },
   {
    "duration": 23,
    "start_time": "2023-09-12T12:18:51.459Z"
   },
   {
    "duration": 767,
    "start_time": "2023-09-12T12:18:51.484Z"
   },
   {
    "duration": 9,
    "start_time": "2023-09-12T12:18:52.253Z"
   },
   {
    "duration": 228,
    "start_time": "2023-09-12T12:18:52.263Z"
   },
   {
    "duration": 231,
    "start_time": "2023-09-12T12:18:52.493Z"
   },
   {
    "duration": 103,
    "start_time": "2023-09-12T12:18:52.725Z"
   },
   {
    "duration": 0,
    "start_time": "2023-09-12T12:18:52.829Z"
   },
   {
    "duration": 0,
    "start_time": "2023-09-12T12:18:52.831Z"
   },
   {
    "duration": 0,
    "start_time": "2023-09-12T12:18:52.832Z"
   },
   {
    "duration": 0,
    "start_time": "2023-09-12T12:18:52.833Z"
   },
   {
    "duration": 0,
    "start_time": "2023-09-12T12:18:52.843Z"
   },
   {
    "duration": 0,
    "start_time": "2023-09-12T12:18:52.844Z"
   },
   {
    "duration": 0,
    "start_time": "2023-09-12T12:18:52.845Z"
   },
   {
    "duration": 0,
    "start_time": "2023-09-12T12:18:52.846Z"
   },
   {
    "duration": 0,
    "start_time": "2023-09-12T12:18:52.847Z"
   },
   {
    "duration": 0,
    "start_time": "2023-09-12T12:18:52.848Z"
   },
   {
    "duration": 0,
    "start_time": "2023-09-12T12:18:52.849Z"
   },
   {
    "duration": 0,
    "start_time": "2023-09-12T12:18:52.849Z"
   },
   {
    "duration": 0,
    "start_time": "2023-09-12T12:18:52.850Z"
   },
   {
    "duration": 0,
    "start_time": "2023-09-12T12:18:52.852Z"
   },
   {
    "duration": 0,
    "start_time": "2023-09-12T12:18:52.852Z"
   },
   {
    "duration": 0,
    "start_time": "2023-09-12T12:18:52.853Z"
   },
   {
    "duration": 0,
    "start_time": "2023-09-12T12:18:52.855Z"
   },
   {
    "duration": 0,
    "start_time": "2023-09-12T12:18:52.856Z"
   },
   {
    "duration": 0,
    "start_time": "2023-09-12T12:18:52.856Z"
   },
   {
    "duration": 0,
    "start_time": "2023-09-12T12:18:52.857Z"
   },
   {
    "duration": 0,
    "start_time": "2023-09-12T12:18:52.858Z"
   },
   {
    "duration": 0,
    "start_time": "2023-09-12T12:18:52.859Z"
   },
   {
    "duration": 0,
    "start_time": "2023-09-12T12:18:52.860Z"
   },
   {
    "duration": 0,
    "start_time": "2023-09-12T12:18:52.861Z"
   },
   {
    "duration": 0,
    "start_time": "2023-09-12T12:18:52.862Z"
   },
   {
    "duration": 0,
    "start_time": "2023-09-12T12:18:52.863Z"
   },
   {
    "duration": 0,
    "start_time": "2023-09-12T12:18:52.864Z"
   },
   {
    "duration": 0,
    "start_time": "2023-09-12T12:18:52.865Z"
   },
   {
    "duration": 16,
    "start_time": "2023-09-12T12:20:06.006Z"
   },
   {
    "duration": 7,
    "start_time": "2023-09-12T12:20:08.682Z"
   },
   {
    "duration": 7,
    "start_time": "2023-09-12T12:20:12.446Z"
   },
   {
    "duration": 196,
    "start_time": "2023-09-12T12:20:14.028Z"
   },
   {
    "duration": 386,
    "start_time": "2023-09-12T12:20:16.850Z"
   },
   {
    "duration": 7,
    "start_time": "2023-09-12T12:20:18.325Z"
   },
   {
    "duration": 204,
    "start_time": "2023-09-12T12:20:22.901Z"
   },
   {
    "duration": 344,
    "start_time": "2023-09-12T12:20:25.632Z"
   },
   {
    "duration": 6,
    "start_time": "2023-09-12T12:20:28.294Z"
   },
   {
    "duration": 210,
    "start_time": "2023-09-12T12:20:30.302Z"
   },
   {
    "duration": 368,
    "start_time": "2023-09-12T12:20:45.726Z"
   },
   {
    "duration": 264,
    "start_time": "2023-09-12T12:21:37.954Z"
   },
   {
    "duration": 0,
    "start_time": "2023-09-12T12:21:38.221Z"
   },
   {
    "duration": 267,
    "start_time": "2023-09-12T12:21:45.717Z"
   },
   {
    "duration": 283,
    "start_time": "2023-09-12T12:23:44.753Z"
   },
   {
    "duration": 19,
    "start_time": "2023-09-12T12:24:07.747Z"
   },
   {
    "duration": 265,
    "start_time": "2023-09-12T12:24:18.552Z"
   },
   {
    "duration": 4,
    "start_time": "2023-09-12T12:28:02.653Z"
   },
   {
    "duration": 263,
    "start_time": "2023-09-12T12:28:06.263Z"
   },
   {
    "duration": 4,
    "start_time": "2023-09-12T12:28:15.625Z"
   },
   {
    "duration": 256,
    "start_time": "2023-09-12T12:28:18.991Z"
   },
   {
    "duration": 262,
    "start_time": "2023-09-12T12:29:01.603Z"
   },
   {
    "duration": 266,
    "start_time": "2023-09-12T12:29:28.161Z"
   },
   {
    "duration": 5,
    "start_time": "2023-09-12T12:30:39.209Z"
   },
   {
    "duration": 277,
    "start_time": "2023-09-12T12:30:41.898Z"
   },
   {
    "duration": 7,
    "start_time": "2023-09-12T12:32:32.289Z"
   },
   {
    "duration": 654,
    "start_time": "2023-09-12T12:32:34.412Z"
   },
   {
    "duration": 4,
    "start_time": "2023-09-12T12:32:59.312Z"
   },
   {
    "duration": 272,
    "start_time": "2023-09-12T12:33:01.297Z"
   },
   {
    "duration": 4,
    "start_time": "2023-09-12T12:34:23.860Z"
   },
   {
    "duration": 267,
    "start_time": "2023-09-12T12:34:25.578Z"
   },
   {
    "duration": 4,
    "start_time": "2023-09-12T12:34:56.417Z"
   },
   {
    "duration": 265,
    "start_time": "2023-09-12T12:34:57.763Z"
   },
   {
    "duration": 5,
    "start_time": "2023-09-12T12:35:25.864Z"
   },
   {
    "duration": 306,
    "start_time": "2023-09-12T12:35:27.226Z"
   },
   {
    "duration": 3,
    "start_time": "2023-09-12T12:35:50.366Z"
   },
   {
    "duration": 274,
    "start_time": "2023-09-12T12:35:52.570Z"
   },
   {
    "duration": 4,
    "start_time": "2023-09-12T12:36:01.898Z"
   },
   {
    "duration": 145,
    "start_time": "2023-09-12T12:36:04.169Z"
   },
   {
    "duration": 103,
    "start_time": "2023-09-12T12:37:35.866Z"
   },
   {
    "duration": 262,
    "start_time": "2023-09-12T12:37:37.404Z"
   },
   {
    "duration": 118,
    "start_time": "2023-09-12T12:38:31.835Z"
   },
   {
    "duration": 263,
    "start_time": "2023-09-12T12:38:33.259Z"
   },
   {
    "duration": 122,
    "start_time": "2023-09-12T12:39:47.762Z"
   },
   {
    "duration": 259,
    "start_time": "2023-09-12T12:39:49.581Z"
   },
   {
    "duration": 258,
    "start_time": "2023-09-12T12:40:48.971Z"
   },
   {
    "duration": 109,
    "start_time": "2023-09-12T12:46:15.556Z"
   },
   {
    "duration": 277,
    "start_time": "2023-09-12T12:46:17.611Z"
   },
   {
    "duration": 158,
    "start_time": "2023-09-12T12:46:29.666Z"
   },
   {
    "duration": 268,
    "start_time": "2023-09-12T12:46:31.353Z"
   },
   {
    "duration": 317,
    "start_time": "2023-09-12T12:46:33.610Z"
   },
   {
    "duration": 4,
    "start_time": "2023-09-12T12:47:13.362Z"
   },
   {
    "duration": 333,
    "start_time": "2023-09-12T12:47:14.678Z"
   },
   {
    "duration": 4,
    "start_time": "2023-09-12T12:47:33.550Z"
   },
   {
    "duration": 284,
    "start_time": "2023-09-12T12:47:35.189Z"
   },
   {
    "duration": 4,
    "start_time": "2023-09-12T12:47:51.763Z"
   },
   {
    "duration": 308,
    "start_time": "2023-09-12T12:47:52.780Z"
   },
   {
    "duration": 42090,
    "start_time": "2023-09-12T12:49:55.298Z"
   },
   {
    "duration": 9,
    "start_time": "2023-09-12T12:50:45.166Z"
   },
   {
    "duration": 13,
    "start_time": "2023-09-12T12:51:02.810Z"
   },
   {
    "duration": 4,
    "start_time": "2023-09-12T12:53:20.067Z"
   },
   {
    "duration": 262,
    "start_time": "2023-09-12T12:53:22.275Z"
   },
   {
    "duration": 285,
    "start_time": "2023-09-12T12:53:25.604Z"
   },
   {
    "duration": 272,
    "start_time": "2023-09-12T12:54:30.803Z"
   },
   {
    "duration": 264,
    "start_time": "2023-09-12T12:55:01.346Z"
   },
   {
    "duration": 298,
    "start_time": "2023-09-12T12:55:31.938Z"
   },
   {
    "duration": 266,
    "start_time": "2023-09-12T12:55:48.682Z"
   },
   {
    "duration": 262,
    "start_time": "2023-09-12T12:56:07.962Z"
   },
   {
    "duration": 101,
    "start_time": "2023-09-12T12:56:18.908Z"
   },
   {
    "duration": 0,
    "start_time": "2023-09-12T12:57:49.664Z"
   },
   {
    "duration": 0,
    "start_time": "2023-09-12T12:57:49.665Z"
   },
   {
    "duration": 0,
    "start_time": "2023-09-12T12:57:49.666Z"
   },
   {
    "duration": 94,
    "start_time": "2023-09-12T13:03:42.810Z"
   },
   {
    "duration": 43358,
    "start_time": "2023-09-12T13:03:53.381Z"
   },
   {
    "duration": 151,
    "start_time": "2023-09-12T13:10:07.965Z"
   },
   {
    "duration": 4,
    "start_time": "2023-09-12T13:13:00.045Z"
   },
   {
    "duration": 173,
    "start_time": "2023-09-12T13:13:02.135Z"
   },
   {
    "duration": 146,
    "start_time": "2023-09-12T13:13:06.682Z"
   },
   {
    "duration": 142,
    "start_time": "2023-09-12T13:13:15.660Z"
   },
   {
    "duration": 12,
    "start_time": "2023-09-12T13:13:22.235Z"
   },
   {
    "duration": 351,
    "start_time": "2023-09-12T13:13:23.948Z"
   },
   {
    "duration": 18,
    "start_time": "2023-09-12T13:14:11.117Z"
   },
   {
    "duration": 9,
    "start_time": "2023-09-12T13:16:10.206Z"
   },
   {
    "duration": 123,
    "start_time": "2023-09-12T13:16:29.311Z"
   },
   {
    "duration": 86,
    "start_time": "2023-09-12T13:16:39.956Z"
   },
   {
    "duration": 3,
    "start_time": "2023-09-12T13:16:45.480Z"
   },
   {
    "duration": 15,
    "start_time": "2023-09-12T13:16:57.670Z"
   },
   {
    "duration": 251,
    "start_time": "2023-09-12T13:23:11.545Z"
   },
   {
    "duration": 6,
    "start_time": "2023-09-12T13:23:24.343Z"
   },
   {
    "duration": 19,
    "start_time": "2023-09-12T13:23:30.297Z"
   },
   {
    "duration": 17,
    "start_time": "2023-09-12T13:23:36.081Z"
   },
   {
    "duration": 16,
    "start_time": "2023-09-12T13:23:53.338Z"
   },
   {
    "duration": 15,
    "start_time": "2023-09-12T13:25:37.963Z"
   },
   {
    "duration": 3,
    "start_time": "2023-09-12T13:26:34.418Z"
   },
   {
    "duration": 10,
    "start_time": "2023-09-12T13:26:40.872Z"
   },
   {
    "duration": 12,
    "start_time": "2023-09-12T13:26:44.925Z"
   },
   {
    "duration": 16,
    "start_time": "2023-09-12T13:26:50.347Z"
   },
   {
    "duration": 11,
    "start_time": "2023-09-12T13:28:50.772Z"
   },
   {
    "duration": 16,
    "start_time": "2023-09-12T13:29:01.620Z"
   },
   {
    "duration": 15,
    "start_time": "2023-09-12T13:29:57.796Z"
   },
   {
    "duration": 15,
    "start_time": "2023-09-12T13:30:09.099Z"
   },
   {
    "duration": 15,
    "start_time": "2023-09-12T13:30:21.981Z"
   },
   {
    "duration": 14,
    "start_time": "2023-09-12T13:30:51.292Z"
   },
   {
    "duration": 16,
    "start_time": "2023-09-12T13:31:06.316Z"
   },
   {
    "duration": 0,
    "start_time": "2023-09-12T13:34:53.112Z"
   },
   {
    "duration": 0,
    "start_time": "2023-09-12T13:34:53.113Z"
   },
   {
    "duration": 0,
    "start_time": "2023-09-12T13:34:53.144Z"
   },
   {
    "duration": 0,
    "start_time": "2023-09-12T13:34:53.146Z"
   },
   {
    "duration": 0,
    "start_time": "2023-09-12T13:34:53.146Z"
   },
   {
    "duration": 0,
    "start_time": "2023-09-12T13:34:53.147Z"
   },
   {
    "duration": 0,
    "start_time": "2023-09-12T13:34:53.148Z"
   },
   {
    "duration": 0,
    "start_time": "2023-09-12T13:34:53.149Z"
   },
   {
    "duration": 0,
    "start_time": "2023-09-12T13:34:53.150Z"
   },
   {
    "duration": 0,
    "start_time": "2023-09-12T13:34:53.151Z"
   },
   {
    "duration": 0,
    "start_time": "2023-09-12T13:34:53.152Z"
   },
   {
    "duration": 0,
    "start_time": "2023-09-12T13:34:53.153Z"
   },
   {
    "duration": 0,
    "start_time": "2023-09-12T13:34:53.154Z"
   },
   {
    "duration": 0,
    "start_time": "2023-09-12T13:34:53.155Z"
   },
   {
    "duration": 0,
    "start_time": "2023-09-12T13:34:53.155Z"
   },
   {
    "duration": 0,
    "start_time": "2023-09-12T13:34:53.156Z"
   },
   {
    "duration": 0,
    "start_time": "2023-09-12T13:34:53.157Z"
   },
   {
    "duration": 1,
    "start_time": "2023-09-12T13:34:53.158Z"
   },
   {
    "duration": 0,
    "start_time": "2023-09-12T13:34:53.160Z"
   },
   {
    "duration": 0,
    "start_time": "2023-09-12T13:34:53.161Z"
   },
   {
    "duration": 0,
    "start_time": "2023-09-12T13:34:53.162Z"
   },
   {
    "duration": 0,
    "start_time": "2023-09-12T13:34:53.163Z"
   },
   {
    "duration": 0,
    "start_time": "2023-09-12T13:34:53.164Z"
   },
   {
    "duration": 0,
    "start_time": "2023-09-12T13:34:53.165Z"
   },
   {
    "duration": 0,
    "start_time": "2023-09-12T13:34:53.166Z"
   },
   {
    "duration": 0,
    "start_time": "2023-09-12T13:34:53.166Z"
   },
   {
    "duration": 0,
    "start_time": "2023-09-12T13:34:53.167Z"
   },
   {
    "duration": 0,
    "start_time": "2023-09-12T13:34:53.168Z"
   },
   {
    "duration": 0,
    "start_time": "2023-09-12T13:34:53.169Z"
   },
   {
    "duration": 0,
    "start_time": "2023-09-12T13:34:53.170Z"
   },
   {
    "duration": 0,
    "start_time": "2023-09-12T13:34:53.171Z"
   },
   {
    "duration": 0,
    "start_time": "2023-09-12T13:34:53.172Z"
   },
   {
    "duration": 0,
    "start_time": "2023-09-12T13:34:53.173Z"
   },
   {
    "duration": 0,
    "start_time": "2023-09-12T13:34:53.174Z"
   },
   {
    "duration": 0,
    "start_time": "2023-09-12T13:34:53.176Z"
   },
   {
    "duration": 0,
    "start_time": "2023-09-12T13:34:53.177Z"
   },
   {
    "duration": 0,
    "start_time": "2023-09-12T13:34:53.178Z"
   },
   {
    "duration": 0,
    "start_time": "2023-09-12T13:34:53.179Z"
   },
   {
    "duration": 0,
    "start_time": "2023-09-12T13:34:53.180Z"
   },
   {
    "duration": 0,
    "start_time": "2023-09-12T13:34:53.181Z"
   },
   {
    "duration": 0,
    "start_time": "2023-09-12T13:34:53.243Z"
   },
   {
    "duration": 0,
    "start_time": "2023-09-12T13:34:53.246Z"
   },
   {
    "duration": 0,
    "start_time": "2023-09-12T13:34:53.247Z"
   },
   {
    "duration": 0,
    "start_time": "2023-09-12T13:34:53.248Z"
   },
   {
    "duration": 1,
    "start_time": "2023-09-12T13:34:53.249Z"
   },
   {
    "duration": 0,
    "start_time": "2023-09-12T13:34:53.251Z"
   },
   {
    "duration": 0,
    "start_time": "2023-09-12T13:34:53.252Z"
   },
   {
    "duration": 0,
    "start_time": "2023-09-12T13:34:53.253Z"
   },
   {
    "duration": 0,
    "start_time": "2023-09-12T13:34:53.254Z"
   },
   {
    "duration": 0,
    "start_time": "2023-09-12T13:34:53.255Z"
   },
   {
    "duration": 0,
    "start_time": "2023-09-12T13:34:53.256Z"
   },
   {
    "duration": 0,
    "start_time": "2023-09-12T13:34:53.257Z"
   },
   {
    "duration": 0,
    "start_time": "2023-09-12T13:34:53.258Z"
   },
   {
    "duration": 0,
    "start_time": "2023-09-12T13:34:53.259Z"
   },
   {
    "duration": 0,
    "start_time": "2023-09-12T13:34:53.260Z"
   },
   {
    "duration": 0,
    "start_time": "2023-09-12T13:34:53.262Z"
   },
   {
    "duration": 0,
    "start_time": "2023-09-12T13:34:53.262Z"
   },
   {
    "duration": 0,
    "start_time": "2023-09-12T13:34:53.264Z"
   },
   {
    "duration": 0,
    "start_time": "2023-09-12T13:34:53.264Z"
   },
   {
    "duration": 0,
    "start_time": "2023-09-12T13:34:53.265Z"
   },
   {
    "duration": 0,
    "start_time": "2023-09-12T13:34:53.266Z"
   },
   {
    "duration": 0,
    "start_time": "2023-09-12T13:34:53.267Z"
   },
   {
    "duration": 0,
    "start_time": "2023-09-12T13:34:53.269Z"
   },
   {
    "duration": 0,
    "start_time": "2023-09-12T13:34:53.270Z"
   },
   {
    "duration": 0,
    "start_time": "2023-09-12T13:34:53.271Z"
   },
   {
    "duration": 0,
    "start_time": "2023-09-12T13:34:53.273Z"
   },
   {
    "duration": 0,
    "start_time": "2023-09-12T13:34:53.274Z"
   },
   {
    "duration": 0,
    "start_time": "2023-09-12T13:34:53.276Z"
   },
   {
    "duration": 0,
    "start_time": "2023-09-12T13:34:53.277Z"
   },
   {
    "duration": 0,
    "start_time": "2023-09-12T13:34:53.278Z"
   },
   {
    "duration": 0,
    "start_time": "2023-09-12T13:34:53.280Z"
   },
   {
    "duration": 0,
    "start_time": "2023-09-12T13:34:53.343Z"
   },
   {
    "duration": 0,
    "start_time": "2023-09-12T13:34:53.345Z"
   },
   {
    "duration": 0,
    "start_time": "2023-09-12T13:34:53.347Z"
   },
   {
    "duration": 0,
    "start_time": "2023-09-12T13:34:53.349Z"
   },
   {
    "duration": 0,
    "start_time": "2023-09-12T13:34:53.350Z"
   },
   {
    "duration": 0,
    "start_time": "2023-09-12T13:34:53.352Z"
   },
   {
    "duration": 0,
    "start_time": "2023-09-12T13:34:53.353Z"
   },
   {
    "duration": 0,
    "start_time": "2023-09-12T13:34:53.355Z"
   },
   {
    "duration": 0,
    "start_time": "2023-09-12T13:34:53.356Z"
   },
   {
    "duration": 0,
    "start_time": "2023-09-12T13:34:53.357Z"
   },
   {
    "duration": 0,
    "start_time": "2023-09-12T13:34:53.359Z"
   },
   {
    "duration": 0,
    "start_time": "2023-09-12T13:34:53.360Z"
   },
   {
    "duration": 0,
    "start_time": "2023-09-12T13:34:53.362Z"
   },
   {
    "duration": 0,
    "start_time": "2023-09-12T13:34:53.363Z"
   },
   {
    "duration": 16,
    "start_time": "2023-09-12T13:40:16.113Z"
   },
   {
    "duration": 23,
    "start_time": "2023-09-12T13:40:17.448Z"
   },
   {
    "duration": 245,
    "start_time": "2023-09-12T13:40:47.608Z"
   },
   {
    "duration": 431,
    "start_time": "2023-09-12T13:41:03.344Z"
   },
   {
    "duration": 45538,
    "start_time": "2023-09-12T13:44:32.799Z"
   },
   {
    "duration": 1417,
    "start_time": "2023-09-12T13:52:27.188Z"
   },
   {
    "duration": 9,
    "start_time": "2023-09-12T13:53:02.844Z"
   },
   {
    "duration": 9,
    "start_time": "2023-09-12T13:54:11.635Z"
   },
   {
    "duration": 14662,
    "start_time": "2023-09-12T13:54:29.691Z"
   },
   {
    "duration": 16,
    "start_time": "2023-09-12T13:55:52.083Z"
   },
   {
    "duration": 8,
    "start_time": "2023-09-12T13:55:55.525Z"
   },
   {
    "duration": 368,
    "start_time": "2023-09-12T13:56:42.533Z"
   },
   {
    "duration": 551,
    "start_time": "2023-09-12T13:57:58.444Z"
   },
   {
    "duration": 539,
    "start_time": "2023-09-12T13:58:18.693Z"
   },
   {
    "duration": 1323,
    "start_time": "2023-09-12T14:01:52.748Z"
   },
   {
    "duration": 3,
    "start_time": "2023-09-12T14:01:54.073Z"
   },
   {
    "duration": 82,
    "start_time": "2023-09-12T14:01:54.079Z"
   },
   {
    "duration": 13,
    "start_time": "2023-09-12T14:01:54.163Z"
   },
   {
    "duration": 21,
    "start_time": "2023-09-12T14:01:54.178Z"
   },
   {
    "duration": 3,
    "start_time": "2023-09-12T14:01:54.202Z"
   },
   {
    "duration": 18,
    "start_time": "2023-09-12T14:01:54.208Z"
   },
   {
    "duration": 187,
    "start_time": "2023-09-12T14:01:54.244Z"
   },
   {
    "duration": 16,
    "start_time": "2023-09-12T14:01:54.433Z"
   },
   {
    "duration": 40,
    "start_time": "2023-09-12T14:01:54.452Z"
   },
   {
    "duration": 32,
    "start_time": "2023-09-12T14:01:54.495Z"
   },
   {
    "duration": 20,
    "start_time": "2023-09-12T14:01:54.529Z"
   },
   {
    "duration": 21,
    "start_time": "2023-09-12T14:01:54.551Z"
   },
   {
    "duration": 18,
    "start_time": "2023-09-12T14:01:54.575Z"
   },
   {
    "duration": 28,
    "start_time": "2023-09-12T14:01:54.595Z"
   },
   {
    "duration": 7,
    "start_time": "2023-09-12T14:01:54.626Z"
   },
   {
    "duration": 29,
    "start_time": "2023-09-12T14:01:54.635Z"
   },
   {
    "duration": 37,
    "start_time": "2023-09-12T14:01:54.666Z"
   },
   {
    "duration": 31,
    "start_time": "2023-09-12T14:01:54.705Z"
   },
   {
    "duration": 9,
    "start_time": "2023-09-12T14:01:54.739Z"
   },
   {
    "duration": 26,
    "start_time": "2023-09-12T14:01:54.750Z"
   },
   {
    "duration": 51,
    "start_time": "2023-09-12T14:01:54.778Z"
   },
   {
    "duration": 4,
    "start_time": "2023-09-12T14:01:54.832Z"
   },
   {
    "duration": 35,
    "start_time": "2023-09-12T14:01:54.838Z"
   },
   {
    "duration": 477,
    "start_time": "2023-09-12T14:01:54.874Z"
   },
   {
    "duration": 14,
    "start_time": "2023-09-12T14:01:55.352Z"
   },
   {
    "duration": 12,
    "start_time": "2023-09-12T14:01:55.367Z"
   },
   {
    "duration": 18,
    "start_time": "2023-09-12T14:01:55.384Z"
   },
   {
    "duration": 17,
    "start_time": "2023-09-12T14:01:55.406Z"
   },
   {
    "duration": 26,
    "start_time": "2023-09-12T14:01:55.443Z"
   },
   {
    "duration": 33,
    "start_time": "2023-09-12T14:01:55.471Z"
   },
   {
    "duration": 40,
    "start_time": "2023-09-12T14:01:55.505Z"
   },
   {
    "duration": 14,
    "start_time": "2023-09-12T14:01:55.548Z"
   },
   {
    "duration": 355,
    "start_time": "2023-09-12T14:01:55.564Z"
   },
   {
    "duration": 9,
    "start_time": "2023-09-12T14:01:55.921Z"
   },
   {
    "duration": 331,
    "start_time": "2023-09-12T14:01:55.931Z"
   },
   {
    "duration": 18,
    "start_time": "2023-09-12T14:01:56.263Z"
   },
   {
    "duration": 312,
    "start_time": "2023-09-12T14:01:56.283Z"
   },
   {
    "duration": 15,
    "start_time": "2023-09-12T14:01:56.597Z"
   },
   {
    "duration": 20,
    "start_time": "2023-09-12T14:01:56.614Z"
   },
   {
    "duration": 309,
    "start_time": "2023-09-12T14:01:56.644Z"
   },
   {
    "duration": 10,
    "start_time": "2023-09-12T14:01:56.954Z"
   },
   {
    "duration": 206,
    "start_time": "2023-09-12T14:01:56.966Z"
   },
   {
    "duration": 19,
    "start_time": "2023-09-12T14:01:57.173Z"
   },
   {
    "duration": 121,
    "start_time": "2023-09-12T14:01:57.194Z"
   },
   {
    "duration": 50,
    "start_time": "2023-09-12T14:01:57.317Z"
   },
   {
    "duration": 15,
    "start_time": "2023-09-12T14:01:57.368Z"
   },
   {
    "duration": 25,
    "start_time": "2023-09-12T14:01:57.385Z"
   },
   {
    "duration": 31,
    "start_time": "2023-09-12T14:01:57.412Z"
   },
   {
    "duration": 802,
    "start_time": "2023-09-12T14:01:57.445Z"
   },
   {
    "duration": 9,
    "start_time": "2023-09-12T14:01:58.249Z"
   },
   {
    "duration": 233,
    "start_time": "2023-09-12T14:01:58.259Z"
   },
   {
    "duration": 242,
    "start_time": "2023-09-12T14:01:58.494Z"
   },
   {
    "duration": 107,
    "start_time": "2023-09-12T14:01:58.738Z"
   },
   {
    "duration": 0,
    "start_time": "2023-09-12T14:01:58.848Z"
   },
   {
    "duration": 0,
    "start_time": "2023-09-12T14:01:58.848Z"
   },
   {
    "duration": 0,
    "start_time": "2023-09-12T14:01:58.849Z"
   },
   {
    "duration": 0,
    "start_time": "2023-09-12T14:01:58.851Z"
   },
   {
    "duration": 0,
    "start_time": "2023-09-12T14:01:58.853Z"
   },
   {
    "duration": 0,
    "start_time": "2023-09-12T14:01:58.854Z"
   },
   {
    "duration": 0,
    "start_time": "2023-09-12T14:01:58.855Z"
   },
   {
    "duration": 0,
    "start_time": "2023-09-12T14:01:58.857Z"
   },
   {
    "duration": 0,
    "start_time": "2023-09-12T14:01:58.858Z"
   },
   {
    "duration": 0,
    "start_time": "2023-09-12T14:01:58.859Z"
   },
   {
    "duration": 0,
    "start_time": "2023-09-12T14:01:58.860Z"
   },
   {
    "duration": 0,
    "start_time": "2023-09-12T14:01:58.861Z"
   },
   {
    "duration": 0,
    "start_time": "2023-09-12T14:01:58.862Z"
   },
   {
    "duration": 0,
    "start_time": "2023-09-12T14:01:58.862Z"
   },
   {
    "duration": 0,
    "start_time": "2023-09-12T14:01:58.864Z"
   },
   {
    "duration": 0,
    "start_time": "2023-09-12T14:01:58.865Z"
   },
   {
    "duration": 0,
    "start_time": "2023-09-12T14:01:58.866Z"
   },
   {
    "duration": 0,
    "start_time": "2023-09-12T14:01:58.867Z"
   },
   {
    "duration": 0,
    "start_time": "2023-09-12T14:01:58.868Z"
   },
   {
    "duration": 0,
    "start_time": "2023-09-12T14:01:58.869Z"
   },
   {
    "duration": 0,
    "start_time": "2023-09-12T14:01:58.870Z"
   },
   {
    "duration": 0,
    "start_time": "2023-09-12T14:01:58.871Z"
   },
   {
    "duration": 0,
    "start_time": "2023-09-12T14:01:58.872Z"
   },
   {
    "duration": 0,
    "start_time": "2023-09-12T14:01:58.873Z"
   },
   {
    "duration": 0,
    "start_time": "2023-09-12T14:01:58.875Z"
   },
   {
    "duration": 0,
    "start_time": "2023-09-12T14:01:58.876Z"
   },
   {
    "duration": 0,
    "start_time": "2023-09-12T14:01:58.878Z"
   },
   {
    "duration": 0,
    "start_time": "2023-09-12T14:01:58.879Z"
   },
   {
    "duration": 0,
    "start_time": "2023-09-12T14:01:58.880Z"
   },
   {
    "duration": 0,
    "start_time": "2023-09-12T14:01:58.882Z"
   },
   {
    "duration": 0,
    "start_time": "2023-09-12T14:01:58.944Z"
   },
   {
    "duration": 0,
    "start_time": "2023-09-12T14:01:58.945Z"
   },
   {
    "duration": 0,
    "start_time": "2023-09-12T14:01:58.946Z"
   },
   {
    "duration": 11,
    "start_time": "2023-09-12T14:04:07.034Z"
   },
   {
    "duration": 4,
    "start_time": "2023-09-12T14:04:14.118Z"
   },
   {
    "duration": 44,
    "start_time": "2023-09-12T14:04:14.125Z"
   },
   {
    "duration": 82,
    "start_time": "2023-09-12T14:04:14.171Z"
   },
   {
    "duration": 13,
    "start_time": "2023-09-12T14:04:14.255Z"
   },
   {
    "duration": 18,
    "start_time": "2023-09-12T14:04:14.270Z"
   },
   {
    "duration": 5,
    "start_time": "2023-09-12T14:04:14.290Z"
   },
   {
    "duration": 19,
    "start_time": "2023-09-12T14:04:14.296Z"
   },
   {
    "duration": 232,
    "start_time": "2023-09-12T14:04:14.317Z"
   },
   {
    "duration": 15,
    "start_time": "2023-09-12T14:04:14.551Z"
   },
   {
    "duration": 31,
    "start_time": "2023-09-12T14:04:14.568Z"
   },
   {
    "duration": 17,
    "start_time": "2023-09-12T14:04:14.603Z"
   },
   {
    "duration": 31,
    "start_time": "2023-09-12T14:04:14.622Z"
   },
   {
    "duration": 12,
    "start_time": "2023-09-12T14:04:14.663Z"
   },
   {
    "duration": 10,
    "start_time": "2023-09-12T14:04:14.677Z"
   },
   {
    "duration": 41,
    "start_time": "2023-09-12T14:04:14.689Z"
   },
   {
    "duration": 22,
    "start_time": "2023-09-12T14:04:14.732Z"
   },
   {
    "duration": 27,
    "start_time": "2023-09-12T14:04:14.756Z"
   },
   {
    "duration": 21,
    "start_time": "2023-09-12T14:04:14.785Z"
   },
   {
    "duration": 20,
    "start_time": "2023-09-12T14:04:14.810Z"
   },
   {
    "duration": 21,
    "start_time": "2023-09-12T14:04:14.832Z"
   },
   {
    "duration": 17,
    "start_time": "2023-09-12T14:04:14.855Z"
   },
   {
    "duration": 38,
    "start_time": "2023-09-12T14:04:14.874Z"
   },
   {
    "duration": 4,
    "start_time": "2023-09-12T14:04:14.914Z"
   },
   {
    "duration": 37,
    "start_time": "2023-09-12T14:04:14.920Z"
   },
   {
    "duration": 440,
    "start_time": "2023-09-12T14:04:14.959Z"
   },
   {
    "duration": 15,
    "start_time": "2023-09-12T14:04:15.401Z"
   },
   {
    "duration": 11,
    "start_time": "2023-09-12T14:04:15.418Z"
   },
   {
    "duration": 20,
    "start_time": "2023-09-12T14:04:15.445Z"
   },
   {
    "duration": 12,
    "start_time": "2023-09-12T14:04:15.471Z"
   },
   {
    "duration": 21,
    "start_time": "2023-09-12T14:04:15.485Z"
   },
   {
    "duration": 53,
    "start_time": "2023-09-12T14:04:15.508Z"
   },
   {
    "duration": 16,
    "start_time": "2023-09-12T14:04:15.563Z"
   },
   {
    "duration": 15,
    "start_time": "2023-09-12T14:04:15.581Z"
   },
   {
    "duration": 461,
    "start_time": "2023-09-12T14:04:15.598Z"
   },
   {
    "duration": 8,
    "start_time": "2023-09-12T14:04:16.062Z"
   },
   {
    "duration": 335,
    "start_time": "2023-09-12T14:04:16.071Z"
   },
   {
    "duration": 17,
    "start_time": "2023-09-12T14:04:16.408Z"
   },
   {
    "duration": 309,
    "start_time": "2023-09-12T14:04:16.426Z"
   },
   {
    "duration": 26,
    "start_time": "2023-09-12T14:04:16.736Z"
   },
   {
    "duration": 20,
    "start_time": "2023-09-12T14:04:16.764Z"
   },
   {
    "duration": 337,
    "start_time": "2023-09-12T14:04:16.785Z"
   },
   {
    "duration": 9,
    "start_time": "2023-09-12T14:04:17.124Z"
   },
   {
    "duration": 174,
    "start_time": "2023-09-12T14:04:17.149Z"
   },
   {
    "duration": 35,
    "start_time": "2023-09-12T14:04:17.325Z"
   },
   {
    "duration": 7,
    "start_time": "2023-09-12T14:04:17.362Z"
   },
   {
    "duration": 40,
    "start_time": "2023-09-12T14:04:17.370Z"
   },
   {
    "duration": 36,
    "start_time": "2023-09-12T14:04:17.412Z"
   },
   {
    "duration": 18,
    "start_time": "2023-09-12T14:04:17.452Z"
   },
   {
    "duration": 34,
    "start_time": "2023-09-12T14:04:17.472Z"
   },
   {
    "duration": 864,
    "start_time": "2023-09-12T14:04:17.508Z"
   },
   {
    "duration": 9,
    "start_time": "2023-09-12T14:04:18.373Z"
   },
   {
    "duration": 223,
    "start_time": "2023-09-12T14:04:18.383Z"
   },
   {
    "duration": 169,
    "start_time": "2023-09-12T14:04:18.608Z"
   },
   {
    "duration": 10,
    "start_time": "2023-09-12T14:04:18.779Z"
   },
   {
    "duration": 0,
    "start_time": "2023-09-12T14:04:18.791Z"
   },
   {
    "duration": 0,
    "start_time": "2023-09-12T14:04:18.793Z"
   },
   {
    "duration": 0,
    "start_time": "2023-09-12T14:04:18.794Z"
   },
   {
    "duration": 0,
    "start_time": "2023-09-12T14:04:18.795Z"
   },
   {
    "duration": 0,
    "start_time": "2023-09-12T14:04:18.796Z"
   },
   {
    "duration": 0,
    "start_time": "2023-09-12T14:04:18.797Z"
   },
   {
    "duration": 0,
    "start_time": "2023-09-12T14:04:18.798Z"
   },
   {
    "duration": 0,
    "start_time": "2023-09-12T14:04:18.800Z"
   },
   {
    "duration": 0,
    "start_time": "2023-09-12T14:04:18.801Z"
   },
   {
    "duration": 0,
    "start_time": "2023-09-12T14:04:18.802Z"
   },
   {
    "duration": 0,
    "start_time": "2023-09-12T14:04:18.803Z"
   },
   {
    "duration": 0,
    "start_time": "2023-09-12T14:04:18.804Z"
   },
   {
    "duration": 0,
    "start_time": "2023-09-12T14:04:18.805Z"
   },
   {
    "duration": 1,
    "start_time": "2023-09-12T14:04:18.805Z"
   },
   {
    "duration": 0,
    "start_time": "2023-09-12T14:04:18.848Z"
   },
   {
    "duration": 0,
    "start_time": "2023-09-12T14:04:18.849Z"
   },
   {
    "duration": 0,
    "start_time": "2023-09-12T14:04:18.853Z"
   },
   {
    "duration": 0,
    "start_time": "2023-09-12T14:04:18.853Z"
   },
   {
    "duration": 0,
    "start_time": "2023-09-12T14:04:18.854Z"
   },
   {
    "duration": 0,
    "start_time": "2023-09-12T14:04:18.856Z"
   },
   {
    "duration": 0,
    "start_time": "2023-09-12T14:04:18.857Z"
   },
   {
    "duration": 0,
    "start_time": "2023-09-12T14:04:18.858Z"
   },
   {
    "duration": 0,
    "start_time": "2023-09-12T14:04:18.858Z"
   },
   {
    "duration": 0,
    "start_time": "2023-09-12T14:04:18.859Z"
   },
   {
    "duration": 0,
    "start_time": "2023-09-12T14:04:18.861Z"
   },
   {
    "duration": 0,
    "start_time": "2023-09-12T14:04:18.862Z"
   },
   {
    "duration": 0,
    "start_time": "2023-09-12T14:04:18.863Z"
   },
   {
    "duration": 0,
    "start_time": "2023-09-12T14:04:18.864Z"
   },
   {
    "duration": 0,
    "start_time": "2023-09-12T14:04:18.865Z"
   },
   {
    "duration": 0,
    "start_time": "2023-09-12T14:04:18.866Z"
   },
   {
    "duration": 0,
    "start_time": "2023-09-12T14:04:18.867Z"
   },
   {
    "duration": 0,
    "start_time": "2023-09-12T14:04:18.867Z"
   },
   {
    "duration": 0,
    "start_time": "2023-09-12T14:04:18.868Z"
   },
   {
    "duration": 0,
    "start_time": "2023-09-12T14:04:18.869Z"
   },
   {
    "duration": 9,
    "start_time": "2023-09-12T14:04:27.068Z"
   },
   {
    "duration": 7,
    "start_time": "2023-09-12T14:05:00.933Z"
   },
   {
    "duration": 237,
    "start_time": "2023-09-12T14:05:03.375Z"
   },
   {
    "duration": 483,
    "start_time": "2023-09-12T14:05:12.535Z"
   },
   {
    "duration": 10,
    "start_time": "2023-09-12T14:05:32.610Z"
   },
   {
    "duration": 552,
    "start_time": "2023-09-12T14:06:07.287Z"
   },
   {
    "duration": 875,
    "start_time": "2023-09-12T14:07:01.229Z"
   },
   {
    "duration": 471,
    "start_time": "2023-09-12T14:08:01.218Z"
   },
   {
    "duration": 7,
    "start_time": "2023-09-12T14:08:04.715Z"
   },
   {
    "duration": 206,
    "start_time": "2023-09-12T14:08:07.282Z"
   },
   {
    "duration": 374,
    "start_time": "2023-09-12T14:08:10.265Z"
   },
   {
    "duration": 12,
    "start_time": "2023-09-12T14:08:13.796Z"
   },
   {
    "duration": 234,
    "start_time": "2023-09-12T14:08:14.960Z"
   },
   {
    "duration": 385,
    "start_time": "2023-09-12T14:08:17.552Z"
   },
   {
    "duration": 15,
    "start_time": "2023-09-12T14:08:19.148Z"
   },
   {
    "duration": 8,
    "start_time": "2023-09-12T14:08:24.760Z"
   },
   {
    "duration": 0,
    "start_time": "2023-09-12T14:08:51.863Z"
   },
   {
    "duration": 0,
    "start_time": "2023-09-12T14:09:08.830Z"
   },
   {
    "duration": 0,
    "start_time": "2023-09-12T14:09:08.831Z"
   },
   {
    "duration": 90,
    "start_time": "2023-09-12T14:19:18.844Z"
   },
   {
    "duration": 65,
    "start_time": "2023-09-12T17:21:19.034Z"
   },
   {
    "duration": 1469,
    "start_time": "2023-09-12T17:21:25.968Z"
   },
   {
    "duration": 9,
    "start_time": "2023-09-12T17:21:27.439Z"
   },
   {
    "duration": 121,
    "start_time": "2023-09-12T17:21:27.449Z"
   },
   {
    "duration": 13,
    "start_time": "2023-09-12T17:21:27.572Z"
   },
   {
    "duration": 19,
    "start_time": "2023-09-12T17:21:27.586Z"
   },
   {
    "duration": 3,
    "start_time": "2023-09-12T17:21:27.607Z"
   },
   {
    "duration": 19,
    "start_time": "2023-09-12T17:21:27.612Z"
   },
   {
    "duration": 199,
    "start_time": "2023-09-12T17:21:27.633Z"
   },
   {
    "duration": 14,
    "start_time": "2023-09-12T17:21:27.834Z"
   },
   {
    "duration": 19,
    "start_time": "2023-09-12T17:21:27.851Z"
   },
   {
    "duration": 13,
    "start_time": "2023-09-12T17:21:27.871Z"
   },
   {
    "duration": 8,
    "start_time": "2023-09-12T17:21:27.886Z"
   },
   {
    "duration": 9,
    "start_time": "2023-09-12T17:21:27.896Z"
   },
   {
    "duration": 4,
    "start_time": "2023-09-12T17:21:27.906Z"
   },
   {
    "duration": 40,
    "start_time": "2023-09-12T17:21:27.912Z"
   },
   {
    "duration": 10,
    "start_time": "2023-09-12T17:21:27.953Z"
   },
   {
    "duration": 19,
    "start_time": "2023-09-12T17:21:27.965Z"
   },
   {
    "duration": 6,
    "start_time": "2023-09-12T17:21:27.986Z"
   },
   {
    "duration": 23,
    "start_time": "2023-09-12T17:21:27.993Z"
   },
   {
    "duration": 14,
    "start_time": "2023-09-12T17:21:28.018Z"
   },
   {
    "duration": 16,
    "start_time": "2023-09-12T17:21:28.034Z"
   },
   {
    "duration": 42,
    "start_time": "2023-09-12T17:21:28.052Z"
   },
   {
    "duration": 5,
    "start_time": "2023-09-12T17:21:28.095Z"
   },
   {
    "duration": 21,
    "start_time": "2023-09-12T17:21:28.102Z"
   },
   {
    "duration": 517,
    "start_time": "2023-09-12T17:21:28.125Z"
   },
   {
    "duration": 13,
    "start_time": "2023-09-12T17:21:28.646Z"
   },
   {
    "duration": 9,
    "start_time": "2023-09-12T17:21:28.661Z"
   },
   {
    "duration": 16,
    "start_time": "2023-09-12T17:21:28.674Z"
   },
   {
    "duration": 14,
    "start_time": "2023-09-12T17:21:28.692Z"
   },
   {
    "duration": 49,
    "start_time": "2023-09-12T17:21:28.708Z"
   },
   {
    "duration": 26,
    "start_time": "2023-09-12T17:21:28.759Z"
   },
   {
    "duration": 16,
    "start_time": "2023-09-12T17:21:28.787Z"
   },
   {
    "duration": 41,
    "start_time": "2023-09-12T17:21:28.805Z"
   },
   {
    "duration": 416,
    "start_time": "2023-09-12T17:21:28.848Z"
   },
   {
    "duration": 8,
    "start_time": "2023-09-12T17:21:29.266Z"
   },
   {
    "duration": 351,
    "start_time": "2023-09-12T17:21:29.276Z"
   },
   {
    "duration": 24,
    "start_time": "2023-09-12T17:21:29.628Z"
   },
   {
    "duration": 324,
    "start_time": "2023-09-12T17:21:29.654Z"
   },
   {
    "duration": 17,
    "start_time": "2023-09-12T17:21:29.980Z"
   },
   {
    "duration": 40,
    "start_time": "2023-09-12T17:21:29.999Z"
   },
   {
    "duration": 375,
    "start_time": "2023-09-12T17:21:30.041Z"
   },
   {
    "duration": 11,
    "start_time": "2023-09-12T17:21:30.418Z"
   },
   {
    "duration": 219,
    "start_time": "2023-09-12T17:21:30.430Z"
   },
   {
    "duration": 20,
    "start_time": "2023-09-12T17:21:30.651Z"
   },
   {
    "duration": 23,
    "start_time": "2023-09-12T17:21:30.673Z"
   },
   {
    "duration": 67,
    "start_time": "2023-09-12T17:21:30.698Z"
   },
   {
    "duration": 30,
    "start_time": "2023-09-12T17:21:30.767Z"
   },
   {
    "duration": 74,
    "start_time": "2023-09-12T17:21:30.799Z"
   },
   {
    "duration": 35,
    "start_time": "2023-09-12T17:21:30.875Z"
   },
   {
    "duration": 940,
    "start_time": "2023-09-12T17:21:30.912Z"
   },
   {
    "duration": 9,
    "start_time": "2023-09-12T17:21:31.854Z"
   },
   {
    "duration": 352,
    "start_time": "2023-09-12T17:21:31.865Z"
   },
   {
    "duration": 200,
    "start_time": "2023-09-12T17:21:32.219Z"
   },
   {
    "duration": 89,
    "start_time": "2023-09-12T17:21:32.421Z"
   },
   {
    "duration": 0,
    "start_time": "2023-09-12T17:21:32.513Z"
   },
   {
    "duration": 0,
    "start_time": "2023-09-12T17:21:32.515Z"
   },
   {
    "duration": 0,
    "start_time": "2023-09-12T17:21:32.516Z"
   },
   {
    "duration": 0,
    "start_time": "2023-09-12T17:21:32.518Z"
   },
   {
    "duration": 0,
    "start_time": "2023-09-12T17:21:32.520Z"
   },
   {
    "duration": 0,
    "start_time": "2023-09-12T17:21:32.521Z"
   },
   {
    "duration": 0,
    "start_time": "2023-09-12T17:21:32.522Z"
   },
   {
    "duration": 0,
    "start_time": "2023-09-12T17:21:32.523Z"
   },
   {
    "duration": 0,
    "start_time": "2023-09-12T17:21:32.524Z"
   },
   {
    "duration": 0,
    "start_time": "2023-09-12T17:21:32.547Z"
   },
   {
    "duration": 0,
    "start_time": "2023-09-12T17:21:32.548Z"
   },
   {
    "duration": 0,
    "start_time": "2023-09-12T17:21:32.549Z"
   },
   {
    "duration": 0,
    "start_time": "2023-09-12T17:21:32.551Z"
   },
   {
    "duration": 0,
    "start_time": "2023-09-12T17:21:32.552Z"
   },
   {
    "duration": 0,
    "start_time": "2023-09-12T17:21:32.553Z"
   },
   {
    "duration": 0,
    "start_time": "2023-09-12T17:21:32.554Z"
   },
   {
    "duration": 0,
    "start_time": "2023-09-12T17:21:32.555Z"
   },
   {
    "duration": 0,
    "start_time": "2023-09-12T17:21:32.556Z"
   },
   {
    "duration": 0,
    "start_time": "2023-09-12T17:21:32.558Z"
   },
   {
    "duration": 0,
    "start_time": "2023-09-12T17:21:32.559Z"
   },
   {
    "duration": 1,
    "start_time": "2023-09-12T17:21:32.559Z"
   },
   {
    "duration": 0,
    "start_time": "2023-09-12T17:21:32.561Z"
   },
   {
    "duration": 0,
    "start_time": "2023-09-12T17:21:32.562Z"
   },
   {
    "duration": 0,
    "start_time": "2023-09-12T17:21:32.563Z"
   },
   {
    "duration": 0,
    "start_time": "2023-09-12T17:21:32.564Z"
   },
   {
    "duration": 0,
    "start_time": "2023-09-12T17:21:32.565Z"
   },
   {
    "duration": 0,
    "start_time": "2023-09-12T17:21:32.566Z"
   },
   {
    "duration": 0,
    "start_time": "2023-09-12T17:21:32.567Z"
   },
   {
    "duration": 0,
    "start_time": "2023-09-12T17:21:32.568Z"
   },
   {
    "duration": 0,
    "start_time": "2023-09-12T17:21:32.569Z"
   },
   {
    "duration": 0,
    "start_time": "2023-09-12T17:21:32.570Z"
   },
   {
    "duration": 0,
    "start_time": "2023-09-12T17:21:32.571Z"
   },
   {
    "duration": 0,
    "start_time": "2023-09-12T17:21:32.572Z"
   },
   {
    "duration": 0,
    "start_time": "2023-09-12T17:21:32.573Z"
   },
   {
    "duration": 282,
    "start_time": "2023-09-12T17:22:02.870Z"
   },
   {
    "duration": 8,
    "start_time": "2023-09-12T17:22:39.153Z"
   },
   {
    "duration": 238,
    "start_time": "2023-09-12T17:22:41.233Z"
   },
   {
    "duration": 460,
    "start_time": "2023-09-12T17:22:45.358Z"
   },
   {
    "duration": 8,
    "start_time": "2023-09-12T17:22:46.973Z"
   },
   {
    "duration": 257,
    "start_time": "2023-09-12T17:22:48.637Z"
   },
   {
    "duration": 412,
    "start_time": "2023-09-12T17:22:50.159Z"
   },
   {
    "duration": 7,
    "start_time": "2023-09-12T17:22:51.845Z"
   },
   {
    "duration": 220,
    "start_time": "2023-09-12T17:22:53.358Z"
   },
   {
    "duration": 381,
    "start_time": "2023-09-12T17:22:56.899Z"
   },
   {
    "duration": 11207,
    "start_time": "2023-09-12T17:22:58.704Z"
   },
   {
    "duration": 1359,
    "start_time": "2023-09-12T17:30:52.410Z"
   },
   {
    "duration": 4,
    "start_time": "2023-09-12T17:30:53.771Z"
   },
   {
    "duration": 75,
    "start_time": "2023-09-12T17:30:53.777Z"
   },
   {
    "duration": 13,
    "start_time": "2023-09-12T17:30:53.855Z"
   },
   {
    "duration": 17,
    "start_time": "2023-09-12T17:30:53.869Z"
   },
   {
    "duration": 3,
    "start_time": "2023-09-12T17:30:53.888Z"
   },
   {
    "duration": 13,
    "start_time": "2023-09-12T17:30:53.893Z"
   },
   {
    "duration": 218,
    "start_time": "2023-09-12T17:30:53.908Z"
   },
   {
    "duration": 9,
    "start_time": "2023-09-12T17:30:54.128Z"
   },
   {
    "duration": 16,
    "start_time": "2023-09-12T17:30:54.148Z"
   },
   {
    "duration": 27,
    "start_time": "2023-09-12T17:30:54.165Z"
   },
   {
    "duration": 18,
    "start_time": "2023-09-12T17:30:54.193Z"
   },
   {
    "duration": 14,
    "start_time": "2023-09-12T17:30:54.213Z"
   },
   {
    "duration": 6,
    "start_time": "2023-09-12T17:30:54.229Z"
   },
   {
    "duration": 15,
    "start_time": "2023-09-12T17:30:54.236Z"
   },
   {
    "duration": 12,
    "start_time": "2023-09-12T17:30:54.253Z"
   },
   {
    "duration": 22,
    "start_time": "2023-09-12T17:30:54.266Z"
   },
   {
    "duration": 18,
    "start_time": "2023-09-12T17:30:54.289Z"
   },
   {
    "duration": 13,
    "start_time": "2023-09-12T17:30:54.308Z"
   },
   {
    "duration": 10,
    "start_time": "2023-09-12T17:30:54.323Z"
   },
   {
    "duration": 6,
    "start_time": "2023-09-12T17:30:54.334Z"
   },
   {
    "duration": 33,
    "start_time": "2023-09-12T17:30:54.341Z"
   },
   {
    "duration": 5,
    "start_time": "2023-09-12T17:30:54.376Z"
   },
   {
    "duration": 29,
    "start_time": "2023-09-12T17:30:54.382Z"
   },
   {
    "duration": 513,
    "start_time": "2023-09-12T17:30:54.412Z"
   },
   {
    "duration": 20,
    "start_time": "2023-09-12T17:30:54.927Z"
   },
   {
    "duration": 10,
    "start_time": "2023-09-12T17:30:54.948Z"
   },
   {
    "duration": 25,
    "start_time": "2023-09-12T17:30:54.962Z"
   },
   {
    "duration": 23,
    "start_time": "2023-09-12T17:30:54.989Z"
   },
   {
    "duration": 17,
    "start_time": "2023-09-12T17:30:55.013Z"
   },
   {
    "duration": 34,
    "start_time": "2023-09-12T17:30:55.032Z"
   },
   {
    "duration": 13,
    "start_time": "2023-09-12T17:30:55.068Z"
   },
   {
    "duration": 14,
    "start_time": "2023-09-12T17:30:55.082Z"
   },
   {
    "duration": 480,
    "start_time": "2023-09-12T17:30:55.097Z"
   },
   {
    "duration": 8,
    "start_time": "2023-09-12T17:30:55.579Z"
   },
   {
    "duration": 351,
    "start_time": "2023-09-12T17:30:55.588Z"
   },
   {
    "duration": 19,
    "start_time": "2023-09-12T17:30:55.946Z"
   },
   {
    "duration": 339,
    "start_time": "2023-09-12T17:30:55.966Z"
   },
   {
    "duration": 16,
    "start_time": "2023-09-12T17:30:56.307Z"
   },
   {
    "duration": 19,
    "start_time": "2023-09-12T17:30:56.325Z"
   },
   {
    "duration": 342,
    "start_time": "2023-09-12T17:30:56.346Z"
   },
   {
    "duration": 9,
    "start_time": "2023-09-12T17:30:56.690Z"
   },
   {
    "duration": 195,
    "start_time": "2023-09-12T17:30:56.701Z"
   },
   {
    "duration": 21,
    "start_time": "2023-09-12T17:30:56.898Z"
   },
   {
    "duration": 13,
    "start_time": "2023-09-12T17:30:56.920Z"
   },
   {
    "duration": 15,
    "start_time": "2023-09-12T17:30:56.947Z"
   },
   {
    "duration": 13,
    "start_time": "2023-09-12T17:30:56.964Z"
   },
   {
    "duration": 29,
    "start_time": "2023-09-12T17:30:56.978Z"
   },
   {
    "duration": 14,
    "start_time": "2023-09-12T17:30:57.010Z"
   },
   {
    "duration": 892,
    "start_time": "2023-09-12T17:30:57.026Z"
   },
   {
    "duration": 9,
    "start_time": "2023-09-12T17:30:57.920Z"
   },
   {
    "duration": 328,
    "start_time": "2023-09-12T17:30:57.931Z"
   },
   {
    "duration": 250,
    "start_time": "2023-09-12T17:30:58.260Z"
   },
   {
    "duration": 118,
    "start_time": "2023-09-12T17:30:58.512Z"
   },
   {
    "duration": 0,
    "start_time": "2023-09-12T17:30:58.632Z"
   },
   {
    "duration": 0,
    "start_time": "2023-09-12T17:30:58.634Z"
   },
   {
    "duration": 0,
    "start_time": "2023-09-12T17:30:58.634Z"
   },
   {
    "duration": 0,
    "start_time": "2023-09-12T17:30:58.636Z"
   },
   {
    "duration": 0,
    "start_time": "2023-09-12T17:30:58.646Z"
   },
   {
    "duration": 0,
    "start_time": "2023-09-12T17:30:58.647Z"
   },
   {
    "duration": 0,
    "start_time": "2023-09-12T17:30:58.648Z"
   },
   {
    "duration": 0,
    "start_time": "2023-09-12T17:30:58.649Z"
   },
   {
    "duration": 0,
    "start_time": "2023-09-12T17:30:58.650Z"
   },
   {
    "duration": 0,
    "start_time": "2023-09-12T17:30:58.651Z"
   },
   {
    "duration": 0,
    "start_time": "2023-09-12T17:30:58.652Z"
   },
   {
    "duration": 0,
    "start_time": "2023-09-12T17:30:58.653Z"
   },
   {
    "duration": 0,
    "start_time": "2023-09-12T17:30:58.654Z"
   },
   {
    "duration": 0,
    "start_time": "2023-09-12T17:30:58.655Z"
   },
   {
    "duration": 0,
    "start_time": "2023-09-12T17:30:58.656Z"
   },
   {
    "duration": 0,
    "start_time": "2023-09-12T17:30:58.657Z"
   },
   {
    "duration": 0,
    "start_time": "2023-09-12T17:30:58.658Z"
   },
   {
    "duration": 0,
    "start_time": "2023-09-12T17:30:58.659Z"
   },
   {
    "duration": 0,
    "start_time": "2023-09-12T17:30:58.660Z"
   },
   {
    "duration": 0,
    "start_time": "2023-09-12T17:30:58.661Z"
   },
   {
    "duration": 0,
    "start_time": "2023-09-12T17:30:58.662Z"
   },
   {
    "duration": 0,
    "start_time": "2023-09-12T17:30:58.663Z"
   },
   {
    "duration": 0,
    "start_time": "2023-09-12T17:30:58.664Z"
   },
   {
    "duration": 0,
    "start_time": "2023-09-12T17:30:58.665Z"
   },
   {
    "duration": 0,
    "start_time": "2023-09-12T17:30:58.666Z"
   },
   {
    "duration": 0,
    "start_time": "2023-09-12T17:30:58.667Z"
   },
   {
    "duration": 0,
    "start_time": "2023-09-12T17:30:58.669Z"
   },
   {
    "duration": 0,
    "start_time": "2023-09-12T17:30:58.670Z"
   },
   {
    "duration": 0,
    "start_time": "2023-09-12T17:30:58.671Z"
   },
   {
    "duration": 0,
    "start_time": "2023-09-12T17:30:58.672Z"
   },
   {
    "duration": 0,
    "start_time": "2023-09-12T17:30:58.674Z"
   },
   {
    "duration": 0,
    "start_time": "2023-09-12T17:30:58.675Z"
   },
   {
    "duration": 0,
    "start_time": "2023-09-12T17:30:58.676Z"
   },
   {
    "duration": 0,
    "start_time": "2023-09-12T17:30:58.677Z"
   },
   {
    "duration": 13,
    "start_time": "2023-09-12T17:31:02.521Z"
   },
   {
    "duration": 90,
    "start_time": "2023-09-12T17:31:08.487Z"
   },
   {
    "duration": 159,
    "start_time": "2023-09-12T17:31:45.248Z"
   },
   {
    "duration": 83,
    "start_time": "2023-09-12T17:31:55.801Z"
   },
   {
    "duration": 120,
    "start_time": "2023-09-12T17:32:00.280Z"
   },
   {
    "duration": 74,
    "start_time": "2023-09-12T17:32:34.157Z"
   },
   {
    "duration": 70,
    "start_time": "2023-09-12T17:32:53.000Z"
   },
   {
    "duration": 91,
    "start_time": "2023-09-12T17:33:13.880Z"
   },
   {
    "duration": 80,
    "start_time": "2023-09-12T17:33:25.369Z"
   },
   {
    "duration": 77,
    "start_time": "2023-09-12T17:33:37.256Z"
   },
   {
    "duration": 15,
    "start_time": "2023-09-12T17:33:56.619Z"
   },
   {
    "duration": 11,
    "start_time": "2023-09-12T17:34:14.773Z"
   },
   {
    "duration": 11,
    "start_time": "2023-09-12T17:34:35.840Z"
   },
   {
    "duration": 10,
    "start_time": "2023-09-12T17:35:03.361Z"
   },
   {
    "duration": 12,
    "start_time": "2023-09-12T17:35:59.601Z"
   },
   {
    "duration": 16,
    "start_time": "2023-09-12T17:36:02.528Z"
   },
   {
    "duration": 16,
    "start_time": "2023-09-12T17:36:25.714Z"
   },
   {
    "duration": 16,
    "start_time": "2023-09-12T17:36:46.200Z"
   },
   {
    "duration": 15,
    "start_time": "2023-09-12T17:37:27.820Z"
   },
   {
    "duration": 11,
    "start_time": "2023-09-12T17:37:44.379Z"
   },
   {
    "duration": 10,
    "start_time": "2023-09-12T17:38:02.938Z"
   },
   {
    "duration": 12,
    "start_time": "2023-09-12T17:38:10.817Z"
   },
   {
    "duration": 7,
    "start_time": "2023-09-12T17:39:35.522Z"
   },
   {
    "duration": 15,
    "start_time": "2023-09-12T17:39:52.091Z"
   },
   {
    "duration": 466,
    "start_time": "2023-09-12T17:40:07.816Z"
   },
   {
    "duration": 11,
    "start_time": "2023-09-12T17:40:28.933Z"
   },
   {
    "duration": 5,
    "start_time": "2023-09-12T17:40:55.118Z"
   },
   {
    "duration": 12,
    "start_time": "2023-09-12T17:41:13.347Z"
   },
   {
    "duration": 13,
    "start_time": "2023-09-12T17:42:12.693Z"
   },
   {
    "duration": 10,
    "start_time": "2023-09-12T17:42:27.524Z"
   },
   {
    "duration": 9,
    "start_time": "2023-09-12T17:42:59.044Z"
   },
   {
    "duration": 6,
    "start_time": "2023-09-12T17:43:45.654Z"
   },
   {
    "duration": 10,
    "start_time": "2023-09-12T17:43:59.499Z"
   },
   {
    "duration": 14,
    "start_time": "2023-09-12T17:44:28.860Z"
   },
   {
    "duration": 13,
    "start_time": "2023-09-12T17:45:55.877Z"
   },
   {
    "duration": 16,
    "start_time": "2023-09-12T17:50:02.485Z"
   },
   {
    "duration": 258,
    "start_time": "2023-09-12T17:50:04.330Z"
   },
   {
    "duration": 22,
    "start_time": "2023-09-12T17:52:26.901Z"
   },
   {
    "duration": 263,
    "start_time": "2023-09-12T17:52:29.152Z"
   },
   {
    "duration": 13,
    "start_time": "2023-09-12T17:56:00.712Z"
   },
   {
    "duration": 306,
    "start_time": "2023-09-12T17:56:02.480Z"
   },
   {
    "duration": 11,
    "start_time": "2023-09-12T18:11:31.900Z"
   },
   {
    "duration": 161,
    "start_time": "2023-09-12T18:11:43.306Z"
   },
   {
    "duration": 11,
    "start_time": "2023-09-12T18:11:52.221Z"
   },
   {
    "duration": 12,
    "start_time": "2023-09-12T18:12:09.197Z"
   },
   {
    "duration": 156,
    "start_time": "2023-09-12T18:12:27.965Z"
   },
   {
    "duration": 8,
    "start_time": "2023-09-12T18:12:37.260Z"
   },
   {
    "duration": 25,
    "start_time": "2023-09-12T18:12:38.732Z"
   },
   {
    "duration": 244,
    "start_time": "2023-09-12T18:13:39.100Z"
   },
   {
    "duration": 10,
    "start_time": "2023-09-12T18:31:23.530Z"
   },
   {
    "duration": 188,
    "start_time": "2023-09-12T18:32:23.828Z"
   },
   {
    "duration": 9,
    "start_time": "2023-09-12T18:32:41.484Z"
   },
   {
    "duration": 23,
    "start_time": "2023-09-12T18:33:15.965Z"
   },
   {
    "duration": 22,
    "start_time": "2023-09-12T18:40:58.501Z"
   },
   {
    "duration": 240,
    "start_time": "2023-09-12T19:10:26.997Z"
   },
   {
    "duration": 159,
    "start_time": "2023-09-12T19:17:56.319Z"
   },
   {
    "duration": 950,
    "start_time": "2023-09-12T19:18:41.024Z"
   },
   {
    "duration": 198,
    "start_time": "2023-09-12T19:19:53.216Z"
   },
   {
    "duration": 11,
    "start_time": "2023-09-12T19:20:04.800Z"
   },
   {
    "duration": 356,
    "start_time": "2023-09-12T19:20:24.068Z"
   },
   {
    "duration": 36,
    "start_time": "2023-09-12T19:31:26.869Z"
   },
   {
    "duration": 13,
    "start_time": "2023-09-12T19:31:46.541Z"
   },
   {
    "duration": 14,
    "start_time": "2023-09-12T19:40:24.837Z"
   },
   {
    "duration": 245,
    "start_time": "2023-09-12T19:40:26.688Z"
   },
   {
    "duration": 17,
    "start_time": "2023-09-12T19:45:47.269Z"
   },
   {
    "duration": 8,
    "start_time": "2023-09-12T19:45:49.812Z"
   },
   {
    "duration": 221,
    "start_time": "2023-09-12T19:45:51.757Z"
   },
   {
    "duration": 385,
    "start_time": "2023-09-12T19:45:59.359Z"
   },
   {
    "duration": 6,
    "start_time": "2023-09-12T19:46:02.173Z"
   },
   {
    "duration": 227,
    "start_time": "2023-09-12T19:46:04.022Z"
   },
   {
    "duration": 441,
    "start_time": "2023-09-12T19:46:07.199Z"
   },
   {
    "duration": 7,
    "start_time": "2023-09-12T19:46:09.496Z"
   },
   {
    "duration": 220,
    "start_time": "2023-09-12T19:46:11.676Z"
   },
   {
    "duration": 389,
    "start_time": "2023-09-12T19:46:20.526Z"
   },
   {
    "duration": 7584,
    "start_time": "2023-09-12T19:46:26.109Z"
   },
   {
    "duration": 145629,
    "start_time": "2023-09-12T19:48:56.496Z"
   },
   {
    "duration": 31311,
    "start_time": "2023-09-12T19:51:22.127Z"
   },
   {
    "duration": 5,
    "start_time": "2023-09-12T19:51:53.446Z"
   },
   {
    "duration": 83,
    "start_time": "2023-09-12T19:51:53.454Z"
   },
   {
    "duration": 0,
    "start_time": "2023-09-12T19:51:53.539Z"
   },
   {
    "duration": 0,
    "start_time": "2023-09-12T19:51:53.540Z"
   },
   {
    "duration": 1,
    "start_time": "2023-09-12T19:51:53.541Z"
   },
   {
    "duration": 0,
    "start_time": "2023-09-12T19:51:53.542Z"
   },
   {
    "duration": 0,
    "start_time": "2023-09-12T19:51:53.543Z"
   },
   {
    "duration": 10,
    "start_time": "2023-09-12T19:57:45.711Z"
   },
   {
    "duration": 6,
    "start_time": "2023-09-12T19:57:57.927Z"
   },
   {
    "duration": 1436,
    "start_time": "2023-09-12T20:03:04.537Z"
   },
   {
    "duration": 1214,
    "start_time": "2023-09-12T20:03:37.739Z"
   },
   {
    "duration": 21,
    "start_time": "2023-09-12T20:07:44.178Z"
   },
   {
    "duration": 23,
    "start_time": "2023-09-12T20:09:09.947Z"
   },
   {
    "duration": 8,
    "start_time": "2023-09-12T20:10:22.500Z"
   },
   {
    "duration": 307,
    "start_time": "2023-09-12T20:11:20.845Z"
   },
   {
    "duration": 375,
    "start_time": "2023-09-12T20:11:57.651Z"
   },
   {
    "duration": 297,
    "start_time": "2023-09-12T20:12:04.256Z"
   },
   {
    "duration": 337,
    "start_time": "2023-09-12T20:12:18.964Z"
   },
   {
    "duration": 2007,
    "start_time": "2023-09-12T20:13:05.276Z"
   },
   {
    "duration": 328,
    "start_time": "2023-09-12T20:13:27.741Z"
   },
   {
    "duration": 8,
    "start_time": "2023-09-12T20:28:12.887Z"
   },
   {
    "duration": 178,
    "start_time": "2023-09-12T20:28:14.698Z"
   },
   {
    "duration": 7,
    "start_time": "2023-09-12T20:28:27.062Z"
   },
   {
    "duration": 156,
    "start_time": "2023-09-12T20:28:29.823Z"
   },
   {
    "duration": 298,
    "start_time": "2023-09-12T20:28:47.513Z"
   },
   {
    "duration": 7,
    "start_time": "2023-09-12T20:29:04.222Z"
   },
   {
    "duration": 173,
    "start_time": "2023-09-12T20:29:06.007Z"
   },
   {
    "duration": 315,
    "start_time": "2023-09-12T20:29:17.336Z"
   },
   {
    "duration": 9,
    "start_time": "2023-09-12T20:29:51.744Z"
   },
   {
    "duration": 304,
    "start_time": "2023-09-12T20:30:06.994Z"
   },
   {
    "duration": 391,
    "start_time": "2023-09-12T20:30:21.599Z"
   },
   {
    "duration": 4,
    "start_time": "2023-09-12T20:30:44.813Z"
   },
   {
    "duration": 5,
    "start_time": "2023-09-12T20:31:02.775Z"
   },
   {
    "duration": 165,
    "start_time": "2023-09-12T20:31:04.971Z"
   },
   {
    "duration": 320,
    "start_time": "2023-09-12T20:35:20.160Z"
   },
   {
    "duration": 6,
    "start_time": "2023-09-12T20:37:09.416Z"
   },
   {
    "duration": 162,
    "start_time": "2023-09-12T20:37:21.836Z"
   },
   {
    "duration": 310,
    "start_time": "2023-09-12T20:39:55.864Z"
   },
   {
    "duration": 268,
    "start_time": "2023-09-12T20:42:35.225Z"
   },
   {
    "duration": 7,
    "start_time": "2023-09-12T20:46:49.449Z"
   },
   {
    "duration": 161,
    "start_time": "2023-09-12T20:46:51.440Z"
   },
   {
    "duration": 285,
    "start_time": "2023-09-12T20:47:18.333Z"
   },
   {
    "duration": 7,
    "start_time": "2023-09-12T20:47:44.185Z"
   },
   {
    "duration": 165,
    "start_time": "2023-09-12T20:47:52.861Z"
   },
   {
    "duration": 293,
    "start_time": "2023-09-12T20:48:03.416Z"
   },
   {
    "duration": 7,
    "start_time": "2023-09-12T20:48:23.979Z"
   },
   {
    "duration": 177,
    "start_time": "2023-09-12T20:48:26.048Z"
   },
   {
    "duration": 20,
    "start_time": "2023-09-12T20:52:28.577Z"
   },
   {
    "duration": 17,
    "start_time": "2023-09-12T20:52:43.481Z"
   },
   {
    "duration": 18,
    "start_time": "2023-09-12T20:52:57.363Z"
   },
   {
    "duration": 17,
    "start_time": "2023-09-12T20:53:22.626Z"
   },
   {
    "duration": 12,
    "start_time": "2023-09-12T20:53:51.488Z"
   },
   {
    "duration": 72,
    "start_time": "2023-09-12T20:54:29.305Z"
   },
   {
    "duration": 6,
    "start_time": "2023-09-12T20:54:40.056Z"
   },
   {
    "duration": 13,
    "start_time": "2023-09-12T20:55:15.017Z"
   },
   {
    "duration": 77,
    "start_time": "2023-09-12T20:55:46.280Z"
   },
   {
    "duration": 85,
    "start_time": "2023-09-12T20:56:12.749Z"
   },
   {
    "duration": 76,
    "start_time": "2023-09-12T20:56:28.233Z"
   },
   {
    "duration": 31,
    "start_time": "2023-09-12T20:56:51.264Z"
   },
   {
    "duration": 75,
    "start_time": "2023-09-12T20:57:27.451Z"
   },
   {
    "duration": 18,
    "start_time": "2023-09-12T20:57:34.847Z"
   },
   {
    "duration": 19,
    "start_time": "2023-09-12T20:57:42.826Z"
   },
   {
    "duration": 80,
    "start_time": "2023-09-12T20:57:51.984Z"
   },
   {
    "duration": 185,
    "start_time": "2023-09-12T20:58:10.641Z"
   },
   {
    "duration": 87,
    "start_time": "2023-09-12T20:58:27.713Z"
   },
   {
    "duration": 100,
    "start_time": "2023-09-12T20:58:41.232Z"
   },
   {
    "duration": 13,
    "start_time": "2023-09-12T20:58:47.581Z"
   },
   {
    "duration": 13,
    "start_time": "2023-09-12T20:59:23.752Z"
   },
   {
    "duration": 138,
    "start_time": "2023-09-12T20:59:39.472Z"
   },
   {
    "duration": 132,
    "start_time": "2023-09-12T21:00:02.706Z"
   },
   {
    "duration": 251,
    "start_time": "2023-09-12T21:00:37.338Z"
   },
   {
    "duration": 22,
    "start_time": "2023-09-12T21:01:14.297Z"
   },
   {
    "duration": 18,
    "start_time": "2023-09-12T21:03:08.837Z"
   },
   {
    "duration": 18,
    "start_time": "2023-09-12T21:04:02.300Z"
   },
   {
    "duration": 18,
    "start_time": "2023-09-12T21:04:27.373Z"
   },
   {
    "duration": 22,
    "start_time": "2023-09-12T21:04:35.313Z"
   },
   {
    "duration": 277,
    "start_time": "2023-09-12T21:05:44.758Z"
   },
   {
    "duration": 17,
    "start_time": "2023-09-12T21:06:57.833Z"
   },
   {
    "duration": 251,
    "start_time": "2023-09-12T21:07:48.799Z"
   },
   {
    "duration": 2013,
    "start_time": "2023-09-12T21:08:24.905Z"
   },
   {
    "duration": 256,
    "start_time": "2023-09-12T21:08:47.393Z"
   },
   {
    "duration": 270,
    "start_time": "2023-09-12T21:13:19.071Z"
   },
   {
    "duration": 318,
    "start_time": "2023-09-12T21:13:36.303Z"
   },
   {
    "duration": 312,
    "start_time": "2023-09-12T21:14:03.393Z"
   },
   {
    "duration": 345,
    "start_time": "2023-09-12T21:14:44.922Z"
   },
   {
    "duration": 323,
    "start_time": "2023-09-12T21:15:37.722Z"
   },
   {
    "duration": 11,
    "start_time": "2023-09-12T21:18:53.802Z"
   },
   {
    "duration": 278,
    "start_time": "2023-09-12T21:19:42.179Z"
   },
   {
    "duration": 327,
    "start_time": "2023-09-12T21:23:29.670Z"
   },
   {
    "duration": 330,
    "start_time": "2023-09-12T21:23:46.147Z"
   },
   {
    "duration": 325,
    "start_time": "2023-09-12T21:25:10.812Z"
   },
   {
    "duration": 282,
    "start_time": "2023-09-12T21:27:24.101Z"
   },
   {
    "duration": 281,
    "start_time": "2023-09-12T21:27:58.609Z"
   },
   {
    "duration": 289,
    "start_time": "2023-09-12T21:35:58.102Z"
   },
   {
    "duration": 331,
    "start_time": "2023-09-12T21:37:15.305Z"
   },
   {
    "duration": 146,
    "start_time": "2023-09-12T22:01:49.798Z"
   },
   {
    "duration": 13,
    "start_time": "2023-09-12T22:02:02.858Z"
   },
   {
    "duration": 12,
    "start_time": "2023-09-12T22:02:20.869Z"
   },
   {
    "duration": 12,
    "start_time": "2023-09-12T22:02:49.988Z"
   },
   {
    "duration": 12,
    "start_time": "2023-09-12T22:03:45.723Z"
   },
   {
    "duration": 4,
    "start_time": "2023-09-12T23:04:53.768Z"
   },
   {
    "duration": 30,
    "start_time": "2023-09-12T23:04:53.774Z"
   },
   {
    "duration": 69,
    "start_time": "2023-09-12T23:04:53.806Z"
   },
   {
    "duration": 13,
    "start_time": "2023-09-12T23:04:53.877Z"
   },
   {
    "duration": 23,
    "start_time": "2023-09-12T23:04:53.893Z"
   },
   {
    "duration": 25,
    "start_time": "2023-09-12T23:04:53.918Z"
   },
   {
    "duration": 13,
    "start_time": "2023-09-12T23:04:53.947Z"
   },
   {
    "duration": 216,
    "start_time": "2023-09-12T23:04:53.962Z"
   },
   {
    "duration": 9,
    "start_time": "2023-09-12T23:04:54.180Z"
   },
   {
    "duration": 34,
    "start_time": "2023-09-12T23:04:54.190Z"
   },
   {
    "duration": 24,
    "start_time": "2023-09-12T23:04:54.227Z"
   },
   {
    "duration": 23,
    "start_time": "2023-09-12T23:04:54.253Z"
   },
   {
    "duration": 11,
    "start_time": "2023-09-12T23:04:54.277Z"
   },
   {
    "duration": 7,
    "start_time": "2023-09-12T23:04:54.290Z"
   },
   {
    "duration": 23,
    "start_time": "2023-09-12T23:04:54.299Z"
   },
   {
    "duration": 29,
    "start_time": "2023-09-12T23:04:54.324Z"
   },
   {
    "duration": 49,
    "start_time": "2023-09-12T23:04:54.356Z"
   },
   {
    "duration": 7,
    "start_time": "2023-09-12T23:04:54.408Z"
   },
   {
    "duration": 11,
    "start_time": "2023-09-12T23:04:54.416Z"
   },
   {
    "duration": 12,
    "start_time": "2023-09-12T23:04:54.428Z"
   },
   {
    "duration": 6,
    "start_time": "2023-09-12T23:04:54.442Z"
   },
   {
    "duration": 28,
    "start_time": "2023-09-12T23:04:54.449Z"
   },
   {
    "duration": 6,
    "start_time": "2023-09-12T23:04:54.479Z"
   },
   {
    "duration": 16,
    "start_time": "2023-09-12T23:04:54.487Z"
   },
   {
    "duration": 467,
    "start_time": "2023-09-12T23:04:54.505Z"
   },
   {
    "duration": 15,
    "start_time": "2023-09-12T23:04:54.974Z"
   },
   {
    "duration": 12,
    "start_time": "2023-09-12T23:04:54.991Z"
   },
   {
    "duration": 44,
    "start_time": "2023-09-12T23:04:55.004Z"
   },
   {
    "duration": 11,
    "start_time": "2023-09-12T23:04:55.053Z"
   },
   {
    "duration": 19,
    "start_time": "2023-09-12T23:04:55.066Z"
   },
   {
    "duration": 23,
    "start_time": "2023-09-12T23:04:55.086Z"
   },
   {
    "duration": 50,
    "start_time": "2023-09-12T23:04:55.111Z"
   },
   {
    "duration": 17,
    "start_time": "2023-09-12T23:04:55.163Z"
   },
   {
    "duration": 409,
    "start_time": "2023-09-12T23:04:55.182Z"
   },
   {
    "duration": 10,
    "start_time": "2023-09-12T23:04:55.593Z"
   },
   {
    "duration": 352,
    "start_time": "2023-09-12T23:04:55.605Z"
   },
   {
    "duration": 18,
    "start_time": "2023-09-12T23:04:55.958Z"
   },
   {
    "duration": 299,
    "start_time": "2023-09-12T23:04:55.978Z"
   },
   {
    "duration": 16,
    "start_time": "2023-09-12T23:04:56.279Z"
   },
   {
    "duration": 29,
    "start_time": "2023-09-12T23:04:56.297Z"
   },
   {
    "duration": 331,
    "start_time": "2023-09-12T23:04:56.328Z"
   },
   {
    "duration": 10,
    "start_time": "2023-09-12T23:04:56.661Z"
   },
   {
    "duration": 209,
    "start_time": "2023-09-12T23:04:56.672Z"
   },
   {
    "duration": 20,
    "start_time": "2023-09-12T23:04:56.883Z"
   },
   {
    "duration": 15,
    "start_time": "2023-09-12T23:04:56.905Z"
   },
   {
    "duration": 26,
    "start_time": "2023-09-12T23:04:56.922Z"
   },
   {
    "duration": 20,
    "start_time": "2023-09-12T23:04:56.950Z"
   },
   {
    "duration": 34,
    "start_time": "2023-09-12T23:04:56.972Z"
   },
   {
    "duration": 42,
    "start_time": "2023-09-12T23:04:57.008Z"
   },
   {
    "duration": 827,
    "start_time": "2023-09-12T23:04:57.052Z"
   },
   {
    "duration": 8,
    "start_time": "2023-09-12T23:04:57.881Z"
   },
   {
    "duration": 293,
    "start_time": "2023-09-12T23:04:57.891Z"
   },
   {
    "duration": 154,
    "start_time": "2023-09-12T23:04:58.186Z"
   },
   {
    "duration": 159,
    "start_time": "2023-09-12T23:04:58.341Z"
   },
   {
    "duration": 8,
    "start_time": "2023-09-12T23:04:58.501Z"
   },
   {
    "duration": 30,
    "start_time": "2023-09-12T23:04:58.511Z"
   },
   {
    "duration": 246,
    "start_time": "2023-09-12T23:04:58.547Z"
   },
   {
    "duration": 300,
    "start_time": "2023-09-12T23:04:58.795Z"
   },
   {
    "duration": 5648,
    "start_time": "2023-09-12T23:04:59.097Z"
   },
   {
    "duration": 11,
    "start_time": "2023-09-12T23:05:04.747Z"
   },
   {
    "duration": 270,
    "start_time": "2023-09-12T23:05:04.760Z"
   },
   {
    "duration": 18,
    "start_time": "2023-09-12T23:05:05.032Z"
   },
   {
    "duration": 26,
    "start_time": "2023-09-12T23:05:05.051Z"
   },
   {
    "duration": 1509,
    "start_time": "2023-09-12T23:29:03.061Z"
   },
   {
    "duration": 3,
    "start_time": "2023-09-12T23:29:04.572Z"
   },
   {
    "duration": 162,
    "start_time": "2023-09-12T23:29:04.577Z"
   },
   {
    "duration": 19,
    "start_time": "2023-09-12T23:29:04.742Z"
   },
   {
    "duration": 24,
    "start_time": "2023-09-12T23:29:04.764Z"
   },
   {
    "duration": 6,
    "start_time": "2023-09-12T23:29:04.790Z"
   },
   {
    "duration": 17,
    "start_time": "2023-09-12T23:29:04.800Z"
   },
   {
    "duration": 189,
    "start_time": "2023-09-12T23:29:04.819Z"
   },
   {
    "duration": 9,
    "start_time": "2023-09-12T23:29:05.010Z"
   },
   {
    "duration": 12,
    "start_time": "2023-09-12T23:29:05.021Z"
   },
   {
    "duration": 19,
    "start_time": "2023-09-12T23:29:05.035Z"
   },
   {
    "duration": 8,
    "start_time": "2023-09-12T23:29:05.056Z"
   },
   {
    "duration": 37,
    "start_time": "2023-09-12T23:29:05.065Z"
   },
   {
    "duration": 6,
    "start_time": "2023-09-12T23:29:05.107Z"
   },
   {
    "duration": 16,
    "start_time": "2023-09-12T23:29:05.115Z"
   },
   {
    "duration": 10,
    "start_time": "2023-09-12T23:29:05.132Z"
   },
   {
    "duration": 24,
    "start_time": "2023-09-12T23:29:05.144Z"
   },
   {
    "duration": 7,
    "start_time": "2023-09-12T23:29:05.170Z"
   },
   {
    "duration": 23,
    "start_time": "2023-09-12T23:29:05.179Z"
   },
   {
    "duration": 6,
    "start_time": "2023-09-12T23:29:05.204Z"
   },
   {
    "duration": 14,
    "start_time": "2023-09-12T23:29:05.212Z"
   },
   {
    "duration": 28,
    "start_time": "2023-09-12T23:29:05.227Z"
   },
   {
    "duration": 4,
    "start_time": "2023-09-12T23:29:05.257Z"
   },
   {
    "duration": 38,
    "start_time": "2023-09-12T23:29:05.263Z"
   },
   {
    "duration": 499,
    "start_time": "2023-09-12T23:29:05.303Z"
   },
   {
    "duration": 17,
    "start_time": "2023-09-12T23:29:05.804Z"
   },
   {
    "duration": 10,
    "start_time": "2023-09-12T23:29:05.822Z"
   },
   {
    "duration": 27,
    "start_time": "2023-09-12T23:29:05.833Z"
   },
   {
    "duration": 28,
    "start_time": "2023-09-12T23:29:05.862Z"
   },
   {
    "duration": 89,
    "start_time": "2023-09-12T23:29:05.900Z"
   },
   {
    "duration": 51,
    "start_time": "2023-09-12T23:29:05.991Z"
   },
   {
    "duration": 12,
    "start_time": "2023-09-12T23:29:06.044Z"
   },
   {
    "duration": 33,
    "start_time": "2023-09-12T23:29:06.058Z"
   },
   {
    "duration": 380,
    "start_time": "2023-09-12T23:29:06.093Z"
   },
   {
    "duration": 8,
    "start_time": "2023-09-12T23:29:06.474Z"
   },
   {
    "duration": 346,
    "start_time": "2023-09-12T23:29:06.485Z"
   },
   {
    "duration": 17,
    "start_time": "2023-09-12T23:29:06.833Z"
   },
   {
    "duration": 326,
    "start_time": "2023-09-12T23:29:06.852Z"
   },
   {
    "duration": 17,
    "start_time": "2023-09-12T23:29:07.180Z"
   },
   {
    "duration": 26,
    "start_time": "2023-09-12T23:29:07.199Z"
   },
   {
    "duration": 321,
    "start_time": "2023-09-12T23:29:07.229Z"
   },
   {
    "duration": 10,
    "start_time": "2023-09-12T23:29:07.552Z"
   },
   {
    "duration": 114,
    "start_time": "2023-09-12T23:29:07.564Z"
   },
   {
    "duration": 0,
    "start_time": "2023-09-12T23:29:07.680Z"
   },
   {
    "duration": 0,
    "start_time": "2023-09-12T23:29:07.681Z"
   },
   {
    "duration": 0,
    "start_time": "2023-09-12T23:29:07.682Z"
   },
   {
    "duration": 0,
    "start_time": "2023-09-12T23:29:07.683Z"
   },
   {
    "duration": 0,
    "start_time": "2023-09-12T23:29:07.684Z"
   },
   {
    "duration": 0,
    "start_time": "2023-09-12T23:29:07.686Z"
   },
   {
    "duration": 0,
    "start_time": "2023-09-12T23:29:07.701Z"
   },
   {
    "duration": 0,
    "start_time": "2023-09-12T23:29:07.702Z"
   },
   {
    "duration": 0,
    "start_time": "2023-09-12T23:29:07.704Z"
   },
   {
    "duration": 0,
    "start_time": "2023-09-12T23:29:07.705Z"
   },
   {
    "duration": 0,
    "start_time": "2023-09-12T23:29:07.706Z"
   },
   {
    "duration": 0,
    "start_time": "2023-09-12T23:29:07.707Z"
   },
   {
    "duration": 0,
    "start_time": "2023-09-12T23:29:07.708Z"
   },
   {
    "duration": 0,
    "start_time": "2023-09-12T23:29:07.709Z"
   },
   {
    "duration": 0,
    "start_time": "2023-09-12T23:29:07.710Z"
   },
   {
    "duration": 0,
    "start_time": "2023-09-12T23:29:07.711Z"
   },
   {
    "duration": 0,
    "start_time": "2023-09-12T23:29:07.712Z"
   },
   {
    "duration": 0,
    "start_time": "2023-09-12T23:29:07.713Z"
   },
   {
    "duration": 0,
    "start_time": "2023-09-12T23:29:07.714Z"
   },
   {
    "duration": 0,
    "start_time": "2023-09-12T23:29:07.716Z"
   },
   {
    "duration": 1312,
    "start_time": "2023-09-13T05:02:22.621Z"
   },
   {
    "duration": 9,
    "start_time": "2023-09-13T05:02:23.936Z"
   },
   {
    "duration": 207,
    "start_time": "2023-09-13T05:02:23.947Z"
   },
   {
    "duration": 16,
    "start_time": "2023-09-13T05:02:24.156Z"
   },
   {
    "duration": 29,
    "start_time": "2023-09-13T05:02:24.174Z"
   },
   {
    "duration": 3,
    "start_time": "2023-09-13T05:02:24.205Z"
   },
   {
    "duration": 29,
    "start_time": "2023-09-13T05:02:24.210Z"
   },
   {
    "duration": 193,
    "start_time": "2023-09-13T05:02:24.240Z"
   },
   {
    "duration": 12,
    "start_time": "2023-09-13T05:02:24.434Z"
   },
   {
    "duration": 28,
    "start_time": "2023-09-13T05:02:24.447Z"
   },
   {
    "duration": 15,
    "start_time": "2023-09-13T05:02:24.477Z"
   },
   {
    "duration": 9,
    "start_time": "2023-09-13T05:02:24.493Z"
   },
   {
    "duration": 17,
    "start_time": "2023-09-13T05:02:24.503Z"
   },
   {
    "duration": 4,
    "start_time": "2023-09-13T05:02:24.523Z"
   },
   {
    "duration": 17,
    "start_time": "2023-09-13T05:02:24.528Z"
   },
   {
    "duration": 11,
    "start_time": "2023-09-13T05:02:24.547Z"
   },
   {
    "duration": 38,
    "start_time": "2023-09-13T05:02:24.559Z"
   },
   {
    "duration": 14,
    "start_time": "2023-09-13T05:02:24.599Z"
   },
   {
    "duration": 21,
    "start_time": "2023-09-13T05:02:24.614Z"
   },
   {
    "duration": 11,
    "start_time": "2023-09-13T05:02:24.636Z"
   },
   {
    "duration": 14,
    "start_time": "2023-09-13T05:02:24.648Z"
   },
   {
    "duration": 26,
    "start_time": "2023-09-13T05:02:24.663Z"
   },
   {
    "duration": 4,
    "start_time": "2023-09-13T05:02:24.691Z"
   },
   {
    "duration": 13,
    "start_time": "2023-09-13T05:02:24.697Z"
   },
   {
    "duration": 484,
    "start_time": "2023-09-13T05:02:24.712Z"
   },
   {
    "duration": 14,
    "start_time": "2023-09-13T05:02:25.197Z"
   },
   {
    "duration": 10,
    "start_time": "2023-09-13T05:02:25.212Z"
   },
   {
    "duration": 29,
    "start_time": "2023-09-13T05:02:25.223Z"
   },
   {
    "duration": 10,
    "start_time": "2023-09-13T05:02:25.254Z"
   },
   {
    "duration": 15,
    "start_time": "2023-09-13T05:02:25.266Z"
   },
   {
    "duration": 29,
    "start_time": "2023-09-13T05:02:25.282Z"
   },
   {
    "duration": 33,
    "start_time": "2023-09-13T05:02:25.312Z"
   },
   {
    "duration": 13,
    "start_time": "2023-09-13T05:02:25.346Z"
   },
   {
    "duration": 350,
    "start_time": "2023-09-13T05:02:25.360Z"
   },
   {
    "duration": 7,
    "start_time": "2023-09-13T05:02:25.712Z"
   },
   {
    "duration": 299,
    "start_time": "2023-09-13T05:02:25.720Z"
   },
   {
    "duration": 27,
    "start_time": "2023-09-13T05:02:26.021Z"
   },
   {
    "duration": 288,
    "start_time": "2023-09-13T05:02:26.050Z"
   },
   {
    "duration": 18,
    "start_time": "2023-09-13T05:02:26.340Z"
   },
   {
    "duration": 102,
    "start_time": "2023-09-13T05:02:26.359Z"
   },
   {
    "duration": 394,
    "start_time": "2023-09-13T05:02:26.464Z"
   },
   {
    "duration": 9,
    "start_time": "2023-09-13T05:02:26.860Z"
   },
   {
    "duration": 205,
    "start_time": "2023-09-13T05:02:26.870Z"
   },
   {
    "duration": 0,
    "start_time": "2023-09-13T05:02:27.077Z"
   },
   {
    "duration": 0,
    "start_time": "2023-09-13T05:02:27.078Z"
   },
   {
    "duration": 0,
    "start_time": "2023-09-13T05:02:27.080Z"
   },
   {
    "duration": 0,
    "start_time": "2023-09-13T05:02:27.081Z"
   },
   {
    "duration": 0,
    "start_time": "2023-09-13T05:02:27.082Z"
   },
   {
    "duration": 0,
    "start_time": "2023-09-13T05:02:27.083Z"
   },
   {
    "duration": 0,
    "start_time": "2023-09-13T05:02:27.085Z"
   },
   {
    "duration": 0,
    "start_time": "2023-09-13T05:02:27.086Z"
   },
   {
    "duration": 0,
    "start_time": "2023-09-13T05:02:27.087Z"
   },
   {
    "duration": 0,
    "start_time": "2023-09-13T05:02:27.144Z"
   },
   {
    "duration": 0,
    "start_time": "2023-09-13T05:02:27.146Z"
   },
   {
    "duration": 0,
    "start_time": "2023-09-13T05:02:27.147Z"
   },
   {
    "duration": 0,
    "start_time": "2023-09-13T05:02:27.149Z"
   },
   {
    "duration": 0,
    "start_time": "2023-09-13T05:02:27.150Z"
   },
   {
    "duration": 0,
    "start_time": "2023-09-13T05:02:27.151Z"
   },
   {
    "duration": 0,
    "start_time": "2023-09-13T05:02:27.153Z"
   },
   {
    "duration": 0,
    "start_time": "2023-09-13T05:02:27.153Z"
   },
   {
    "duration": 0,
    "start_time": "2023-09-13T05:02:27.154Z"
   },
   {
    "duration": 0,
    "start_time": "2023-09-13T05:02:27.155Z"
   },
   {
    "duration": 0,
    "start_time": "2023-09-13T05:02:27.156Z"
   },
   {
    "duration": 49,
    "start_time": "2023-09-13T05:25:18.390Z"
   },
   {
    "duration": 1458,
    "start_time": "2023-09-13T05:25:35.365Z"
   },
   {
    "duration": 4,
    "start_time": "2023-09-13T05:25:36.825Z"
   },
   {
    "duration": 125,
    "start_time": "2023-09-13T05:25:36.831Z"
   },
   {
    "duration": 16,
    "start_time": "2023-09-13T05:25:36.958Z"
   },
   {
    "duration": 28,
    "start_time": "2023-09-13T05:25:36.976Z"
   },
   {
    "duration": 3,
    "start_time": "2023-09-13T05:25:37.006Z"
   },
   {
    "duration": 61,
    "start_time": "2023-09-13T05:25:37.011Z"
   },
   {
    "duration": 232,
    "start_time": "2023-09-13T05:25:37.074Z"
   },
   {
    "duration": 10,
    "start_time": "2023-09-13T05:25:37.307Z"
   },
   {
    "duration": 34,
    "start_time": "2023-09-13T05:25:37.319Z"
   },
   {
    "duration": 58,
    "start_time": "2023-09-13T05:25:37.355Z"
   },
   {
    "duration": 25,
    "start_time": "2023-09-13T05:25:37.414Z"
   },
   {
    "duration": 49,
    "start_time": "2023-09-13T05:25:37.441Z"
   },
   {
    "duration": 51,
    "start_time": "2023-09-13T05:25:37.492Z"
   },
   {
    "duration": 41,
    "start_time": "2023-09-13T05:25:37.545Z"
   },
   {
    "duration": 51,
    "start_time": "2023-09-13T05:25:37.588Z"
   },
   {
    "duration": 66,
    "start_time": "2023-09-13T05:25:37.640Z"
   },
   {
    "duration": 10,
    "start_time": "2023-09-13T05:25:37.708Z"
   },
   {
    "duration": 25,
    "start_time": "2023-09-13T05:25:37.721Z"
   },
   {
    "duration": 18,
    "start_time": "2023-09-13T05:25:37.749Z"
   },
   {
    "duration": 13,
    "start_time": "2023-09-13T05:25:37.769Z"
   },
   {
    "duration": 45,
    "start_time": "2023-09-13T05:25:37.783Z"
   },
   {
    "duration": 5,
    "start_time": "2023-09-13T05:25:37.830Z"
   },
   {
    "duration": 25,
    "start_time": "2023-09-13T05:25:37.836Z"
   },
   {
    "duration": 520,
    "start_time": "2023-09-13T05:25:37.863Z"
   },
   {
    "duration": 25,
    "start_time": "2023-09-13T05:25:38.385Z"
   },
   {
    "duration": 21,
    "start_time": "2023-09-13T05:25:38.411Z"
   },
   {
    "duration": 22,
    "start_time": "2023-09-13T05:25:38.435Z"
   },
   {
    "duration": 33,
    "start_time": "2023-09-13T05:25:38.459Z"
   },
   {
    "duration": 18,
    "start_time": "2023-09-13T05:25:38.494Z"
   },
   {
    "duration": 26,
    "start_time": "2023-09-13T05:25:38.516Z"
   },
   {
    "duration": 20,
    "start_time": "2023-09-13T05:25:38.544Z"
   },
   {
    "duration": 40,
    "start_time": "2023-09-13T05:25:38.567Z"
   },
   {
    "duration": 397,
    "start_time": "2023-09-13T05:25:38.609Z"
   },
   {
    "duration": 8,
    "start_time": "2023-09-13T05:25:39.008Z"
   },
   {
    "duration": 328,
    "start_time": "2023-09-13T05:25:39.018Z"
   },
   {
    "duration": 18,
    "start_time": "2023-09-13T05:25:39.348Z"
   },
   {
    "duration": 334,
    "start_time": "2023-09-13T05:25:39.368Z"
   },
   {
    "duration": 15,
    "start_time": "2023-09-13T05:25:39.704Z"
   },
   {
    "duration": 65,
    "start_time": "2023-09-13T05:25:39.721Z"
   },
   {
    "duration": 389,
    "start_time": "2023-09-13T05:25:39.788Z"
   },
   {
    "duration": 22,
    "start_time": "2023-09-13T05:25:40.179Z"
   },
   {
    "duration": 117,
    "start_time": "2023-09-13T05:25:40.204Z"
   },
   {
    "duration": 0,
    "start_time": "2023-09-13T05:25:40.322Z"
   },
   {
    "duration": 0,
    "start_time": "2023-09-13T05:25:40.323Z"
   },
   {
    "duration": 0,
    "start_time": "2023-09-13T05:25:40.325Z"
   },
   {
    "duration": 0,
    "start_time": "2023-09-13T05:25:40.326Z"
   },
   {
    "duration": 0,
    "start_time": "2023-09-13T05:25:40.327Z"
   },
   {
    "duration": 0,
    "start_time": "2023-09-13T05:25:40.328Z"
   },
   {
    "duration": 0,
    "start_time": "2023-09-13T05:25:40.329Z"
   },
   {
    "duration": 0,
    "start_time": "2023-09-13T05:25:40.330Z"
   },
   {
    "duration": 0,
    "start_time": "2023-09-13T05:25:40.333Z"
   },
   {
    "duration": 0,
    "start_time": "2023-09-13T05:25:40.334Z"
   },
   {
    "duration": 0,
    "start_time": "2023-09-13T05:25:40.335Z"
   },
   {
    "duration": 0,
    "start_time": "2023-09-13T05:25:40.337Z"
   },
   {
    "duration": 0,
    "start_time": "2023-09-13T05:25:40.338Z"
   },
   {
    "duration": 0,
    "start_time": "2023-09-13T05:25:40.339Z"
   },
   {
    "duration": 0,
    "start_time": "2023-09-13T05:25:40.340Z"
   },
   {
    "duration": 0,
    "start_time": "2023-09-13T05:25:40.341Z"
   },
   {
    "duration": 0,
    "start_time": "2023-09-13T05:25:40.342Z"
   },
   {
    "duration": 0,
    "start_time": "2023-09-13T05:25:40.344Z"
   },
   {
    "duration": 0,
    "start_time": "2023-09-13T05:25:40.345Z"
   },
   {
    "duration": 0,
    "start_time": "2023-09-13T05:25:40.347Z"
   },
   {
    "duration": 12,
    "start_time": "2023-09-13T05:26:29.207Z"
   },
   {
    "duration": 17,
    "start_time": "2023-09-13T05:26:43.644Z"
   },
   {
    "duration": 187,
    "start_time": "2023-09-13T05:26:59.036Z"
   },
   {
    "duration": 24,
    "start_time": "2023-09-13T05:27:13.657Z"
   },
   {
    "duration": 4,
    "start_time": "2023-09-13T05:27:36.866Z"
   },
   {
    "duration": 4,
    "start_time": "2023-09-13T05:27:36.875Z"
   },
   {
    "duration": 69,
    "start_time": "2023-09-13T05:27:36.882Z"
   },
   {
    "duration": 14,
    "start_time": "2023-09-13T05:27:36.953Z"
   },
   {
    "duration": 33,
    "start_time": "2023-09-13T05:27:36.969Z"
   },
   {
    "duration": 3,
    "start_time": "2023-09-13T05:27:37.004Z"
   },
   {
    "duration": 20,
    "start_time": "2023-09-13T05:27:37.009Z"
   },
   {
    "duration": 226,
    "start_time": "2023-09-13T05:27:37.031Z"
   },
   {
    "duration": 9,
    "start_time": "2023-09-13T05:27:37.259Z"
   },
   {
    "duration": 38,
    "start_time": "2023-09-13T05:27:37.270Z"
   },
   {
    "duration": 19,
    "start_time": "2023-09-13T05:27:37.311Z"
   },
   {
    "duration": 9,
    "start_time": "2023-09-13T05:27:37.334Z"
   },
   {
    "duration": 14,
    "start_time": "2023-09-13T05:27:37.345Z"
   },
   {
    "duration": 23,
    "start_time": "2023-09-13T05:27:37.361Z"
   },
   {
    "duration": 44,
    "start_time": "2023-09-13T05:27:37.386Z"
   },
   {
    "duration": 33,
    "start_time": "2023-09-13T05:27:37.432Z"
   },
   {
    "duration": 32,
    "start_time": "2023-09-13T05:27:37.467Z"
   },
   {
    "duration": 17,
    "start_time": "2023-09-13T05:27:37.501Z"
   },
   {
    "duration": 10,
    "start_time": "2023-09-13T05:27:37.520Z"
   },
   {
    "duration": 13,
    "start_time": "2023-09-13T05:27:37.532Z"
   },
   {
    "duration": 15,
    "start_time": "2023-09-13T05:27:37.547Z"
   },
   {
    "duration": 31,
    "start_time": "2023-09-13T05:27:37.563Z"
   },
   {
    "duration": 5,
    "start_time": "2023-09-13T05:27:37.596Z"
   },
   {
    "duration": 19,
    "start_time": "2023-09-13T05:27:37.603Z"
   },
   {
    "duration": 577,
    "start_time": "2023-09-13T05:27:37.624Z"
   },
   {
    "duration": 16,
    "start_time": "2023-09-13T05:27:38.203Z"
   },
   {
    "duration": 19,
    "start_time": "2023-09-13T05:27:38.221Z"
   },
   {
    "duration": 19,
    "start_time": "2023-09-13T05:27:38.242Z"
   },
   {
    "duration": 13,
    "start_time": "2023-09-13T05:27:38.263Z"
   },
   {
    "duration": 39,
    "start_time": "2023-09-13T05:27:38.279Z"
   },
   {
    "duration": 28,
    "start_time": "2023-09-13T05:27:38.320Z"
   },
   {
    "duration": 24,
    "start_time": "2023-09-13T05:27:38.350Z"
   },
   {
    "duration": 39,
    "start_time": "2023-09-13T05:27:38.375Z"
   },
   {
    "duration": 451,
    "start_time": "2023-09-13T05:27:38.416Z"
   },
   {
    "duration": 7,
    "start_time": "2023-09-13T05:27:38.869Z"
   },
   {
    "duration": 329,
    "start_time": "2023-09-13T05:27:38.878Z"
   },
   {
    "duration": 19,
    "start_time": "2023-09-13T05:27:39.209Z"
   },
   {
    "duration": 374,
    "start_time": "2023-09-13T05:27:39.231Z"
   },
   {
    "duration": 15,
    "start_time": "2023-09-13T05:27:39.607Z"
   },
   {
    "duration": 27,
    "start_time": "2023-09-13T05:27:39.624Z"
   },
   {
    "duration": 321,
    "start_time": "2023-09-13T05:27:39.653Z"
   },
   {
    "duration": 11,
    "start_time": "2023-09-13T05:27:39.976Z"
   },
   {
    "duration": 201,
    "start_time": "2023-09-13T05:27:40.000Z"
   },
   {
    "duration": 23,
    "start_time": "2023-09-13T05:27:40.203Z"
   },
   {
    "duration": 36,
    "start_time": "2023-09-13T05:27:40.228Z"
   },
   {
    "duration": 48,
    "start_time": "2023-09-13T05:27:40.266Z"
   },
   {
    "duration": 51,
    "start_time": "2023-09-13T05:27:40.316Z"
   },
   {
    "duration": 24,
    "start_time": "2023-09-13T05:27:40.369Z"
   },
   {
    "duration": 39,
    "start_time": "2023-09-13T05:27:40.395Z"
   },
   {
    "duration": 993,
    "start_time": "2023-09-13T05:27:40.436Z"
   },
   {
    "duration": 10,
    "start_time": "2023-09-13T05:27:41.430Z"
   },
   {
    "duration": 340,
    "start_time": "2023-09-13T05:27:41.442Z"
   },
   {
    "duration": 168,
    "start_time": "2023-09-13T05:27:41.784Z"
   },
   {
    "duration": 165,
    "start_time": "2023-09-13T05:27:41.954Z"
   },
   {
    "duration": 9,
    "start_time": "2023-09-13T05:27:42.120Z"
   },
   {
    "duration": 118,
    "start_time": "2023-09-13T05:27:42.131Z"
   },
   {
    "duration": 253,
    "start_time": "2023-09-13T05:27:42.251Z"
   },
   {
    "duration": 292,
    "start_time": "2023-09-13T05:27:42.506Z"
   },
   {
    "duration": 387,
    "start_time": "2023-09-13T05:27:42.800Z"
   },
   {
    "duration": 22,
    "start_time": "2023-09-13T05:27:43.189Z"
   },
   {
    "duration": 264,
    "start_time": "2023-09-13T05:27:43.213Z"
   },
   {
    "duration": 26,
    "start_time": "2023-09-13T05:27:43.479Z"
   },
   {
    "duration": 0,
    "start_time": "2023-09-13T05:27:43.507Z"
   },
   {
    "duration": 1312,
    "start_time": "2023-09-13T05:30:14.791Z"
   },
   {
    "duration": 3,
    "start_time": "2023-09-13T05:30:16.105Z"
   },
   {
    "duration": 78,
    "start_time": "2023-09-13T05:30:16.110Z"
   },
   {
    "duration": 14,
    "start_time": "2023-09-13T05:30:16.191Z"
   },
   {
    "duration": 40,
    "start_time": "2023-09-13T05:30:16.207Z"
   },
   {
    "duration": 8,
    "start_time": "2023-09-13T05:30:16.249Z"
   },
   {
    "duration": 34,
    "start_time": "2023-09-13T05:30:16.259Z"
   },
   {
    "duration": 215,
    "start_time": "2023-09-13T05:30:16.294Z"
   },
   {
    "duration": 10,
    "start_time": "2023-09-13T05:30:16.511Z"
   },
   {
    "duration": 30,
    "start_time": "2023-09-13T05:30:16.523Z"
   },
   {
    "duration": 30,
    "start_time": "2023-09-13T05:30:16.555Z"
   },
   {
    "duration": 13,
    "start_time": "2023-09-13T05:30:16.587Z"
   },
   {
    "duration": 29,
    "start_time": "2023-09-13T05:30:16.602Z"
   },
   {
    "duration": 27,
    "start_time": "2023-09-13T05:30:16.632Z"
   },
   {
    "duration": 28,
    "start_time": "2023-09-13T05:30:16.661Z"
   },
   {
    "duration": 25,
    "start_time": "2023-09-13T05:30:16.690Z"
   },
   {
    "duration": 27,
    "start_time": "2023-09-13T05:30:16.717Z"
   },
   {
    "duration": 6,
    "start_time": "2023-09-13T05:30:16.746Z"
   },
   {
    "duration": 11,
    "start_time": "2023-09-13T05:30:16.753Z"
   },
   {
    "duration": 8,
    "start_time": "2023-09-13T05:30:16.766Z"
   },
   {
    "duration": 6,
    "start_time": "2023-09-13T05:30:16.776Z"
   },
   {
    "duration": 39,
    "start_time": "2023-09-13T05:30:16.783Z"
   },
   {
    "duration": 4,
    "start_time": "2023-09-13T05:30:16.824Z"
   },
   {
    "duration": 31,
    "start_time": "2023-09-13T05:30:16.830Z"
   },
   {
    "duration": 502,
    "start_time": "2023-09-13T05:30:16.862Z"
   },
   {
    "duration": 14,
    "start_time": "2023-09-13T05:30:17.365Z"
   },
   {
    "duration": 27,
    "start_time": "2023-09-13T05:30:17.381Z"
   },
   {
    "duration": 22,
    "start_time": "2023-09-13T05:30:17.411Z"
   },
   {
    "duration": 11,
    "start_time": "2023-09-13T05:30:17.435Z"
   },
   {
    "duration": 40,
    "start_time": "2023-09-13T05:30:17.447Z"
   },
   {
    "duration": 34,
    "start_time": "2023-09-13T05:30:17.489Z"
   },
   {
    "duration": 13,
    "start_time": "2023-09-13T05:30:17.525Z"
   },
   {
    "duration": 24,
    "start_time": "2023-09-13T05:30:17.540Z"
   },
   {
    "duration": 388,
    "start_time": "2023-09-13T05:30:17.565Z"
   },
   {
    "duration": 10,
    "start_time": "2023-09-13T05:30:17.954Z"
   },
   {
    "duration": 348,
    "start_time": "2023-09-13T05:30:17.966Z"
   },
   {
    "duration": 20,
    "start_time": "2023-09-13T05:30:18.316Z"
   },
   {
    "duration": 367,
    "start_time": "2023-09-13T05:30:18.339Z"
   },
   {
    "duration": 20,
    "start_time": "2023-09-13T05:30:18.708Z"
   },
   {
    "duration": 38,
    "start_time": "2023-09-13T05:30:18.730Z"
   },
   {
    "duration": 325,
    "start_time": "2023-09-13T05:30:18.770Z"
   },
   {
    "duration": 11,
    "start_time": "2023-09-13T05:30:19.100Z"
   },
   {
    "duration": 202,
    "start_time": "2023-09-13T05:30:19.112Z"
   },
   {
    "duration": 22,
    "start_time": "2023-09-13T05:30:19.316Z"
   },
   {
    "duration": 11,
    "start_time": "2023-09-13T05:30:19.339Z"
   },
   {
    "duration": 15,
    "start_time": "2023-09-13T05:30:19.352Z"
   },
   {
    "duration": 40,
    "start_time": "2023-09-13T05:30:19.369Z"
   },
   {
    "duration": 20,
    "start_time": "2023-09-13T05:30:19.411Z"
   },
   {
    "duration": 14,
    "start_time": "2023-09-13T05:30:19.433Z"
   },
   {
    "duration": 918,
    "start_time": "2023-09-13T05:30:19.449Z"
   },
   {
    "duration": 10,
    "start_time": "2023-09-13T05:30:20.370Z"
   },
   {
    "duration": 273,
    "start_time": "2023-09-13T05:30:20.382Z"
   },
   {
    "duration": 251,
    "start_time": "2023-09-13T05:30:20.657Z"
   },
   {
    "duration": 168,
    "start_time": "2023-09-13T05:30:20.910Z"
   },
   {
    "duration": 9,
    "start_time": "2023-09-13T05:30:21.080Z"
   },
   {
    "duration": 45,
    "start_time": "2023-09-13T05:30:21.101Z"
   },
   {
    "duration": 247,
    "start_time": "2023-09-13T05:30:21.148Z"
   },
   {
    "duration": 303,
    "start_time": "2023-09-13T05:30:21.400Z"
   },
   {
    "duration": 299,
    "start_time": "2023-09-13T05:30:21.705Z"
   },
   {
    "duration": 11,
    "start_time": "2023-09-13T05:30:22.006Z"
   },
   {
    "duration": 250,
    "start_time": "2023-09-13T05:30:22.019Z"
   },
   {
    "duration": 123,
    "start_time": "2023-09-13T05:30:22.271Z"
   },
   {
    "duration": 0,
    "start_time": "2023-09-13T05:30:22.396Z"
   },
   {
    "duration": 1347,
    "start_time": "2023-09-13T05:34:34.176Z"
   },
   {
    "duration": 3,
    "start_time": "2023-09-13T05:34:35.525Z"
   },
   {
    "duration": 104,
    "start_time": "2023-09-13T05:34:35.530Z"
   },
   {
    "duration": 12,
    "start_time": "2023-09-13T05:34:35.636Z"
   },
   {
    "duration": 14,
    "start_time": "2023-09-13T05:34:35.650Z"
   },
   {
    "duration": 4,
    "start_time": "2023-09-13T05:34:35.666Z"
   },
   {
    "duration": 33,
    "start_time": "2023-09-13T05:34:35.671Z"
   },
   {
    "duration": 192,
    "start_time": "2023-09-13T05:34:35.706Z"
   },
   {
    "duration": 10,
    "start_time": "2023-09-13T05:34:35.901Z"
   },
   {
    "duration": 32,
    "start_time": "2023-09-13T05:34:35.915Z"
   },
   {
    "duration": 23,
    "start_time": "2023-09-13T05:34:35.949Z"
   },
   {
    "duration": 13,
    "start_time": "2023-09-13T05:34:35.974Z"
   },
   {
    "duration": 22,
    "start_time": "2023-09-13T05:34:35.990Z"
   },
   {
    "duration": 20,
    "start_time": "2023-09-13T05:34:36.014Z"
   },
   {
    "duration": 28,
    "start_time": "2023-09-13T05:34:36.035Z"
   },
   {
    "duration": 17,
    "start_time": "2023-09-13T05:34:36.065Z"
   },
   {
    "duration": 47,
    "start_time": "2023-09-13T05:34:36.084Z"
   },
   {
    "duration": 19,
    "start_time": "2023-09-13T05:34:36.133Z"
   },
   {
    "duration": 26,
    "start_time": "2023-09-13T05:34:36.154Z"
   },
   {
    "duration": 15,
    "start_time": "2023-09-13T05:34:36.181Z"
   },
   {
    "duration": 28,
    "start_time": "2023-09-13T05:34:36.197Z"
   },
   {
    "duration": 33,
    "start_time": "2023-09-13T05:34:36.227Z"
   },
   {
    "duration": 5,
    "start_time": "2023-09-13T05:34:36.262Z"
   },
   {
    "duration": 28,
    "start_time": "2023-09-13T05:34:36.269Z"
   },
   {
    "duration": 524,
    "start_time": "2023-09-13T05:34:36.299Z"
   },
   {
    "duration": 14,
    "start_time": "2023-09-13T05:34:36.824Z"
   },
   {
    "duration": 16,
    "start_time": "2023-09-13T05:34:36.839Z"
   },
   {
    "duration": 47,
    "start_time": "2023-09-13T05:34:36.858Z"
   },
   {
    "duration": 11,
    "start_time": "2023-09-13T05:34:36.907Z"
   },
   {
    "duration": 45,
    "start_time": "2023-09-13T05:34:36.919Z"
   },
   {
    "duration": 54,
    "start_time": "2023-09-13T05:34:36.965Z"
   },
   {
    "duration": 13,
    "start_time": "2023-09-13T05:34:37.021Z"
   },
   {
    "duration": 16,
    "start_time": "2023-09-13T05:34:37.035Z"
   },
   {
    "duration": 387,
    "start_time": "2023-09-13T05:34:37.052Z"
   },
   {
    "duration": 9,
    "start_time": "2023-09-13T05:34:37.441Z"
   },
   {
    "duration": 349,
    "start_time": "2023-09-13T05:34:37.452Z"
   },
   {
    "duration": 19,
    "start_time": "2023-09-13T05:34:37.803Z"
   },
   {
    "duration": 436,
    "start_time": "2023-09-13T05:34:37.823Z"
   },
   {
    "duration": 17,
    "start_time": "2023-09-13T05:34:38.261Z"
   },
   {
    "duration": 21,
    "start_time": "2023-09-13T05:34:38.280Z"
   },
   {
    "duration": 371,
    "start_time": "2023-09-13T05:34:38.303Z"
   },
   {
    "duration": 11,
    "start_time": "2023-09-13T05:34:38.676Z"
   },
   {
    "duration": 229,
    "start_time": "2023-09-13T05:34:38.689Z"
   },
   {
    "duration": 24,
    "start_time": "2023-09-13T05:34:38.919Z"
   },
   {
    "duration": 39,
    "start_time": "2023-09-13T05:34:38.945Z"
   },
   {
    "duration": 17,
    "start_time": "2023-09-13T05:34:38.986Z"
   },
   {
    "duration": 34,
    "start_time": "2023-09-13T05:34:39.005Z"
   },
   {
    "duration": 29,
    "start_time": "2023-09-13T05:34:39.041Z"
   },
   {
    "duration": 32,
    "start_time": "2023-09-13T05:34:39.072Z"
   },
   {
    "duration": 867,
    "start_time": "2023-09-13T05:34:39.107Z"
   },
   {
    "duration": 9,
    "start_time": "2023-09-13T05:34:39.976Z"
   },
   {
    "duration": 257,
    "start_time": "2023-09-13T05:34:39.987Z"
   },
   {
    "duration": 247,
    "start_time": "2023-09-13T05:34:40.246Z"
   },
   {
    "duration": 179,
    "start_time": "2023-09-13T05:34:40.495Z"
   },
   {
    "duration": 9,
    "start_time": "2023-09-13T05:34:40.676Z"
   },
   {
    "duration": 56,
    "start_time": "2023-09-13T05:34:40.687Z"
   },
   {
    "duration": 285,
    "start_time": "2023-09-13T05:34:40.745Z"
   },
   {
    "duration": 281,
    "start_time": "2023-09-13T05:34:41.032Z"
   },
   {
    "duration": 301,
    "start_time": "2023-09-13T05:34:41.315Z"
   },
   {
    "duration": 14,
    "start_time": "2023-09-13T05:34:41.618Z"
   },
   {
    "duration": 274,
    "start_time": "2023-09-13T05:34:41.635Z"
   },
   {
    "duration": 1271,
    "start_time": "2023-09-13T07:02:19.620Z"
   },
   {
    "duration": 3,
    "start_time": "2023-09-13T07:02:20.893Z"
   },
   {
    "duration": 87,
    "start_time": "2023-09-13T07:02:20.897Z"
   },
   {
    "duration": 12,
    "start_time": "2023-09-13T07:02:20.986Z"
   },
   {
    "duration": 46,
    "start_time": "2023-09-13T07:02:20.999Z"
   },
   {
    "duration": 4,
    "start_time": "2023-09-13T07:02:21.047Z"
   },
   {
    "duration": 25,
    "start_time": "2023-09-13T07:02:21.053Z"
   },
   {
    "duration": 207,
    "start_time": "2023-09-13T07:02:21.080Z"
   },
   {
    "duration": 8,
    "start_time": "2023-09-13T07:02:21.289Z"
   },
   {
    "duration": 37,
    "start_time": "2023-09-13T07:02:21.299Z"
   },
   {
    "duration": 22,
    "start_time": "2023-09-13T07:02:21.337Z"
   },
   {
    "duration": 22,
    "start_time": "2023-09-13T07:02:21.361Z"
   },
   {
    "duration": 39,
    "start_time": "2023-09-13T07:02:21.385Z"
   },
   {
    "duration": 18,
    "start_time": "2023-09-13T07:02:21.425Z"
   },
   {
    "duration": 34,
    "start_time": "2023-09-13T07:02:21.444Z"
   },
   {
    "duration": 26,
    "start_time": "2023-09-13T07:02:21.480Z"
   },
   {
    "duration": 50,
    "start_time": "2023-09-13T07:02:21.507Z"
   },
   {
    "duration": 27,
    "start_time": "2023-09-13T07:02:21.559Z"
   },
   {
    "duration": 29,
    "start_time": "2023-09-13T07:02:21.588Z"
   },
   {
    "duration": 35,
    "start_time": "2023-09-13T07:02:21.619Z"
   },
   {
    "duration": 25,
    "start_time": "2023-09-13T07:02:21.657Z"
   },
   {
    "duration": 46,
    "start_time": "2023-09-13T07:02:21.685Z"
   },
   {
    "duration": 5,
    "start_time": "2023-09-13T07:02:21.733Z"
   },
   {
    "duration": 36,
    "start_time": "2023-09-13T07:02:21.740Z"
   },
   {
    "duration": 509,
    "start_time": "2023-09-13T07:02:21.778Z"
   },
   {
    "duration": 13,
    "start_time": "2023-09-13T07:02:22.289Z"
   },
   {
    "duration": 37,
    "start_time": "2023-09-13T07:02:22.304Z"
   },
   {
    "duration": 55,
    "start_time": "2023-09-13T07:02:22.346Z"
   },
   {
    "duration": 25,
    "start_time": "2023-09-13T07:02:22.404Z"
   },
   {
    "duration": 24,
    "start_time": "2023-09-13T07:02:22.431Z"
   },
   {
    "duration": 39,
    "start_time": "2023-09-13T07:02:22.457Z"
   },
   {
    "duration": 16,
    "start_time": "2023-09-13T07:02:22.498Z"
   },
   {
    "duration": 28,
    "start_time": "2023-09-13T07:02:22.517Z"
   },
   {
    "duration": 471,
    "start_time": "2023-09-13T07:02:22.547Z"
   },
   {
    "duration": 11,
    "start_time": "2023-09-13T07:02:23.019Z"
   },
   {
    "duration": 381,
    "start_time": "2023-09-13T07:02:23.032Z"
   },
   {
    "duration": 18,
    "start_time": "2023-09-13T07:02:23.415Z"
   },
   {
    "duration": 310,
    "start_time": "2023-09-13T07:02:23.434Z"
   },
   {
    "duration": 18,
    "start_time": "2023-09-13T07:02:23.746Z"
   },
   {
    "duration": 21,
    "start_time": "2023-09-13T07:02:23.766Z"
   },
   {
    "duration": 385,
    "start_time": "2023-09-13T07:02:23.789Z"
   },
   {
    "duration": 13,
    "start_time": "2023-09-13T07:02:24.181Z"
   },
   {
    "duration": 272,
    "start_time": "2023-09-13T07:02:24.196Z"
   },
   {
    "duration": 27,
    "start_time": "2023-09-13T07:02:24.469Z"
   },
   {
    "duration": 8,
    "start_time": "2023-09-13T07:02:24.497Z"
   },
   {
    "duration": 39,
    "start_time": "2023-09-13T07:02:24.507Z"
   },
   {
    "duration": 20,
    "start_time": "2023-09-13T07:02:24.549Z"
   },
   {
    "duration": 22,
    "start_time": "2023-09-13T07:02:24.571Z"
   },
   {
    "duration": 29,
    "start_time": "2023-09-13T07:02:24.595Z"
   },
   {
    "duration": 910,
    "start_time": "2023-09-13T07:02:24.626Z"
   },
   {
    "duration": 12,
    "start_time": "2023-09-13T07:02:25.543Z"
   },
   {
    "duration": 355,
    "start_time": "2023-09-13T07:02:25.557Z"
   },
   {
    "duration": 257,
    "start_time": "2023-09-13T07:02:25.913Z"
   },
   {
    "duration": 168,
    "start_time": "2023-09-13T07:02:26.172Z"
   },
   {
    "duration": 9,
    "start_time": "2023-09-13T07:02:26.345Z"
   },
   {
    "duration": 41,
    "start_time": "2023-09-13T07:02:26.356Z"
   },
   {
    "duration": 253,
    "start_time": "2023-09-13T07:02:26.399Z"
   },
   {
    "duration": 296,
    "start_time": "2023-09-13T07:02:26.654Z"
   },
   {
    "duration": 307,
    "start_time": "2023-09-13T07:02:26.952Z"
   },
   {
    "duration": 17,
    "start_time": "2023-09-13T07:02:27.261Z"
   },
   {
    "duration": 281,
    "start_time": "2023-09-13T07:02:27.279Z"
   },
   {
    "duration": 8,
    "start_time": "2023-09-13T07:03:57.402Z"
   },
   {
    "duration": 5,
    "start_time": "2023-09-13T07:05:09.703Z"
   },
   {
    "duration": 20,
    "start_time": "2023-09-13T07:07:48.151Z"
   },
   {
    "duration": 23,
    "start_time": "2023-09-13T07:13:04.439Z"
   },
   {
    "duration": 6,
    "start_time": "2023-09-13T07:13:12.081Z"
   },
   {
    "duration": 1428,
    "start_time": "2023-09-13T07:57:15.737Z"
   },
   {
    "duration": 3,
    "start_time": "2023-09-13T07:57:17.167Z"
   },
   {
    "duration": 135,
    "start_time": "2023-09-13T07:57:17.171Z"
   },
   {
    "duration": 13,
    "start_time": "2023-09-13T07:57:17.308Z"
   },
   {
    "duration": 40,
    "start_time": "2023-09-13T07:57:17.322Z"
   },
   {
    "duration": 5,
    "start_time": "2023-09-13T07:57:17.364Z"
   },
   {
    "duration": 24,
    "start_time": "2023-09-13T07:57:17.371Z"
   },
   {
    "duration": 185,
    "start_time": "2023-09-13T07:57:17.397Z"
   },
   {
    "duration": 8,
    "start_time": "2023-09-13T07:57:17.584Z"
   },
   {
    "duration": 14,
    "start_time": "2023-09-13T07:57:17.595Z"
   },
   {
    "duration": 19,
    "start_time": "2023-09-13T07:57:17.610Z"
   },
   {
    "duration": 21,
    "start_time": "2023-09-13T07:57:17.630Z"
   },
   {
    "duration": 36,
    "start_time": "2023-09-13T07:57:17.653Z"
   },
   {
    "duration": 12,
    "start_time": "2023-09-13T07:57:17.691Z"
   },
   {
    "duration": 21,
    "start_time": "2023-09-13T07:57:17.705Z"
   },
   {
    "duration": 28,
    "start_time": "2023-09-13T07:57:17.727Z"
   },
   {
    "duration": 47,
    "start_time": "2023-09-13T07:57:17.757Z"
   },
   {
    "duration": 39,
    "start_time": "2023-09-13T07:57:17.806Z"
   },
   {
    "duration": 21,
    "start_time": "2023-09-13T07:57:17.846Z"
   },
   {
    "duration": 29,
    "start_time": "2023-09-13T07:57:17.869Z"
   },
   {
    "duration": 18,
    "start_time": "2023-09-13T07:57:17.900Z"
   },
   {
    "duration": 11,
    "start_time": "2023-09-13T07:57:17.920Z"
   },
   {
    "duration": 19,
    "start_time": "2023-09-13T07:57:17.932Z"
   },
   {
    "duration": 483,
    "start_time": "2023-09-13T07:57:17.953Z"
   },
   {
    "duration": 13,
    "start_time": "2023-09-13T07:57:18.437Z"
   },
   {
    "duration": 22,
    "start_time": "2023-09-13T07:57:18.452Z"
   },
   {
    "duration": 23,
    "start_time": "2023-09-13T07:57:18.475Z"
   },
   {
    "duration": 10,
    "start_time": "2023-09-13T07:57:18.501Z"
   },
   {
    "duration": 16,
    "start_time": "2023-09-13T07:57:18.513Z"
   },
   {
    "duration": 25,
    "start_time": "2023-09-13T07:57:18.531Z"
   },
   {
    "duration": 38,
    "start_time": "2023-09-13T07:57:18.558Z"
   },
   {
    "duration": 19,
    "start_time": "2023-09-13T07:57:18.598Z"
   },
   {
    "duration": 403,
    "start_time": "2023-09-13T07:57:18.619Z"
   },
   {
    "duration": 7,
    "start_time": "2023-09-13T07:57:19.024Z"
   },
   {
    "duration": 329,
    "start_time": "2023-09-13T07:57:19.033Z"
   },
   {
    "duration": 26,
    "start_time": "2023-09-13T07:57:19.364Z"
   },
   {
    "duration": 334,
    "start_time": "2023-09-13T07:57:19.391Z"
   },
   {
    "duration": 15,
    "start_time": "2023-09-13T07:57:19.727Z"
   },
   {
    "duration": 20,
    "start_time": "2023-09-13T07:57:19.743Z"
   },
   {
    "duration": 322,
    "start_time": "2023-09-13T07:57:19.764Z"
   },
   {
    "duration": 9,
    "start_time": "2023-09-13T07:57:20.088Z"
   },
   {
    "duration": 201,
    "start_time": "2023-09-13T07:57:20.098Z"
   },
   {
    "duration": 20,
    "start_time": "2023-09-13T07:57:20.301Z"
   },
   {
    "duration": 36,
    "start_time": "2023-09-13T07:57:20.323Z"
   },
   {
    "duration": 41,
    "start_time": "2023-09-13T07:57:20.360Z"
   },
   {
    "duration": 47,
    "start_time": "2023-09-13T07:57:20.403Z"
   },
   {
    "duration": 29,
    "start_time": "2023-09-13T07:57:20.452Z"
   },
   {
    "duration": 45,
    "start_time": "2023-09-13T07:57:20.483Z"
   },
   {
    "duration": 918,
    "start_time": "2023-09-13T07:57:20.530Z"
   },
   {
    "duration": 9,
    "start_time": "2023-09-13T07:57:21.450Z"
   },
   {
    "duration": 260,
    "start_time": "2023-09-13T07:57:21.461Z"
   },
   {
    "duration": 232,
    "start_time": "2023-09-13T07:57:21.722Z"
   },
   {
    "duration": 157,
    "start_time": "2023-09-13T07:57:21.956Z"
   },
   {
    "duration": 7,
    "start_time": "2023-09-13T07:57:22.114Z"
   },
   {
    "duration": 30,
    "start_time": "2023-09-13T07:57:22.123Z"
   },
   {
    "duration": 257,
    "start_time": "2023-09-13T07:57:22.154Z"
   },
   {
    "duration": 268,
    "start_time": "2023-09-13T07:57:22.413Z"
   },
   {
    "duration": 271,
    "start_time": "2023-09-13T07:57:22.682Z"
   },
   {
    "duration": 11,
    "start_time": "2023-09-13T07:57:22.954Z"
   },
   {
    "duration": 259,
    "start_time": "2023-09-13T07:57:22.966Z"
   },
   {
    "duration": 18,
    "start_time": "2023-09-13T07:57:44.254Z"
   },
   {
    "duration": 125,
    "start_time": "2023-09-13T07:59:22.811Z"
   },
   {
    "duration": 112,
    "start_time": "2023-09-13T08:03:24.321Z"
   },
   {
    "duration": 107,
    "start_time": "2023-09-13T08:04:33.756Z"
   },
   {
    "duration": 179,
    "start_time": "2023-09-13T08:04:55.267Z"
   },
   {
    "duration": 178,
    "start_time": "2023-09-13T08:05:04.121Z"
   },
   {
    "duration": 19,
    "start_time": "2023-09-13T08:07:00.411Z"
   },
   {
    "duration": 18,
    "start_time": "2023-09-13T08:09:04.452Z"
   },
   {
    "duration": 124,
    "start_time": "2023-09-13T08:10:23.213Z"
   },
   {
    "duration": 190,
    "start_time": "2023-09-13T08:11:23.924Z"
   },
   {
    "duration": 188,
    "start_time": "2023-09-13T08:12:17.196Z"
   },
   {
    "duration": 173,
    "start_time": "2023-09-13T08:13:36.111Z"
   },
   {
    "duration": 20,
    "start_time": "2023-09-13T08:13:48.491Z"
   },
   {
    "duration": 192,
    "start_time": "2023-09-13T08:23:18.496Z"
   },
   {
    "duration": 179,
    "start_time": "2023-09-13T08:36:32.451Z"
   },
   {
    "duration": 7,
    "start_time": "2023-09-13T08:47:27.728Z"
   },
   {
    "duration": 20,
    "start_time": "2023-09-13T08:47:29.081Z"
   },
   {
    "duration": 383,
    "start_time": "2023-09-13T08:48:44.293Z"
   },
   {
    "duration": 284,
    "start_time": "2023-09-13T08:49:21.522Z"
   },
   {
    "duration": 1532,
    "start_time": "2023-09-13T18:23:30.734Z"
   },
   {
    "duration": 3,
    "start_time": "2023-09-13T18:23:32.269Z"
   },
   {
    "duration": 140,
    "start_time": "2023-09-13T18:23:32.274Z"
   },
   {
    "duration": 17,
    "start_time": "2023-09-13T18:23:32.417Z"
   },
   {
    "duration": 32,
    "start_time": "2023-09-13T18:23:32.436Z"
   },
   {
    "duration": 13,
    "start_time": "2023-09-13T18:23:32.470Z"
   },
   {
    "duration": 29,
    "start_time": "2023-09-13T18:23:32.486Z"
   },
   {
    "duration": 257,
    "start_time": "2023-09-13T18:23:32.517Z"
   },
   {
    "duration": 10,
    "start_time": "2023-09-13T18:23:32.776Z"
   },
   {
    "duration": 25,
    "start_time": "2023-09-13T18:23:32.789Z"
   },
   {
    "duration": 38,
    "start_time": "2023-09-13T18:23:32.816Z"
   },
   {
    "duration": 27,
    "start_time": "2023-09-13T18:23:32.856Z"
   },
   {
    "duration": 15,
    "start_time": "2023-09-13T18:23:32.885Z"
   },
   {
    "duration": 6,
    "start_time": "2023-09-13T18:23:32.902Z"
   },
   {
    "duration": 40,
    "start_time": "2023-09-13T18:23:32.909Z"
   },
   {
    "duration": 19,
    "start_time": "2023-09-13T18:23:32.951Z"
   },
   {
    "duration": 27,
    "start_time": "2023-09-13T18:23:32.972Z"
   },
   {
    "duration": 18,
    "start_time": "2023-09-13T18:23:33.001Z"
   },
   {
    "duration": 23,
    "start_time": "2023-09-13T18:23:33.021Z"
   },
   {
    "duration": 11,
    "start_time": "2023-09-13T18:23:33.045Z"
   },
   {
    "duration": 12,
    "start_time": "2023-09-13T18:23:33.058Z"
   },
   {
    "duration": 7,
    "start_time": "2023-09-13T18:23:33.072Z"
   },
   {
    "duration": 30,
    "start_time": "2023-09-13T18:23:33.081Z"
   },
   {
    "duration": 512,
    "start_time": "2023-09-13T18:23:33.112Z"
   },
   {
    "duration": 14,
    "start_time": "2023-09-13T18:23:33.626Z"
   },
   {
    "duration": 13,
    "start_time": "2023-09-13T18:23:33.641Z"
   },
   {
    "duration": 20,
    "start_time": "2023-09-13T18:23:33.656Z"
   },
   {
    "duration": 32,
    "start_time": "2023-09-13T18:23:33.681Z"
   },
   {
    "duration": 19,
    "start_time": "2023-09-13T18:23:33.715Z"
   },
   {
    "duration": 26,
    "start_time": "2023-09-13T18:23:33.736Z"
   },
   {
    "duration": 46,
    "start_time": "2023-09-13T18:23:33.764Z"
   },
   {
    "duration": 16,
    "start_time": "2023-09-13T18:23:33.813Z"
   },
   {
    "duration": 404,
    "start_time": "2023-09-13T18:23:33.830Z"
   },
   {
    "duration": 8,
    "start_time": "2023-09-13T18:23:34.236Z"
   },
   {
    "duration": 346,
    "start_time": "2023-09-13T18:23:34.245Z"
   },
   {
    "duration": 26,
    "start_time": "2023-09-13T18:23:34.593Z"
   },
   {
    "duration": 326,
    "start_time": "2023-09-13T18:23:34.621Z"
   },
   {
    "duration": 17,
    "start_time": "2023-09-13T18:23:34.949Z"
   },
   {
    "duration": 22,
    "start_time": "2023-09-13T18:23:34.967Z"
   },
   {
    "duration": 377,
    "start_time": "2023-09-13T18:23:34.991Z"
   },
   {
    "duration": 12,
    "start_time": "2023-09-13T18:23:35.370Z"
   },
   {
    "duration": 208,
    "start_time": "2023-09-13T18:23:35.384Z"
   },
   {
    "duration": 30,
    "start_time": "2023-09-13T18:23:35.594Z"
   },
   {
    "duration": 20,
    "start_time": "2023-09-13T18:23:35.626Z"
   },
   {
    "duration": 19,
    "start_time": "2023-09-13T18:23:35.649Z"
   },
   {
    "duration": 16,
    "start_time": "2023-09-13T18:23:35.670Z"
   },
   {
    "duration": 31,
    "start_time": "2023-09-13T18:23:35.688Z"
   },
   {
    "duration": 22,
    "start_time": "2023-09-13T18:23:35.722Z"
   },
   {
    "duration": 918,
    "start_time": "2023-09-13T18:23:35.746Z"
   },
   {
    "duration": 10,
    "start_time": "2023-09-13T18:23:36.665Z"
   },
   {
    "duration": 279,
    "start_time": "2023-09-13T18:23:36.676Z"
   },
   {
    "duration": 254,
    "start_time": "2023-09-13T18:23:36.957Z"
   },
   {
    "duration": 151,
    "start_time": "2023-09-13T18:23:37.213Z"
   },
   {
    "duration": 8,
    "start_time": "2023-09-13T18:23:37.365Z"
   },
   {
    "duration": 36,
    "start_time": "2023-09-13T18:23:37.375Z"
   },
   {
    "duration": 241,
    "start_time": "2023-09-13T18:23:37.412Z"
   },
   {
    "duration": 300,
    "start_time": "2023-09-13T18:23:37.655Z"
   },
   {
    "duration": 297,
    "start_time": "2023-09-13T18:23:37.957Z"
   },
   {
    "duration": 12,
    "start_time": "2023-09-13T18:23:38.256Z"
   },
   {
    "duration": 266,
    "start_time": "2023-09-13T18:23:38.269Z"
   },
   {
    "duration": 243,
    "start_time": "2023-09-13T18:25:50.122Z"
   },
   {
    "duration": 239,
    "start_time": "2023-09-13T18:27:04.004Z"
   },
   {
    "duration": 107,
    "start_time": "2023-09-13T18:27:09.182Z"
   },
   {
    "duration": 4,
    "start_time": "2023-09-13T18:27:45.398Z"
   },
   {
    "duration": 10,
    "start_time": "2023-09-13T18:28:18.983Z"
   },
   {
    "duration": 11,
    "start_time": "2023-09-13T18:28:22.073Z"
   },
   {
    "duration": 16,
    "start_time": "2023-09-13T18:28:34.511Z"
   },
   {
    "duration": 13,
    "start_time": "2023-09-13T18:28:54.286Z"
   },
   {
    "duration": 266,
    "start_time": "2023-09-13T18:29:16.051Z"
   },
   {
    "duration": 7,
    "start_time": "2023-09-13T18:35:57.001Z"
   },
   {
    "duration": 19,
    "start_time": "2023-09-13T18:36:03.663Z"
   },
   {
    "duration": 22,
    "start_time": "2023-09-13T18:38:32.359Z"
   },
   {
    "duration": 374,
    "start_time": "2023-09-13T18:43:58.032Z"
   },
   {
    "duration": 302,
    "start_time": "2023-09-13T18:46:05.555Z"
   },
   {
    "duration": 13,
    "start_time": "2023-09-13T18:46:23.574Z"
   },
   {
    "duration": 249,
    "start_time": "2023-09-13T18:46:26.031Z"
   },
   {
    "duration": 45,
    "start_time": "2023-09-14T17:54:41.422Z"
   },
   {
    "duration": 1286,
    "start_time": "2023-09-14T17:54:47.362Z"
   },
   {
    "duration": 3,
    "start_time": "2023-09-14T17:54:48.650Z"
   },
   {
    "duration": 158,
    "start_time": "2023-09-14T17:54:48.654Z"
   },
   {
    "duration": 11,
    "start_time": "2023-09-14T17:54:48.815Z"
   },
   {
    "duration": 72,
    "start_time": "2023-09-14T17:54:48.828Z"
   },
   {
    "duration": 41,
    "start_time": "2023-09-14T17:54:48.902Z"
   },
   {
    "duration": 64,
    "start_time": "2023-09-14T17:54:48.944Z"
   },
   {
    "duration": 213,
    "start_time": "2023-09-14T17:54:49.009Z"
   },
   {
    "duration": 9,
    "start_time": "2023-09-14T17:54:49.224Z"
   },
   {
    "duration": 48,
    "start_time": "2023-09-14T17:54:49.235Z"
   },
   {
    "duration": 72,
    "start_time": "2023-09-14T17:54:49.285Z"
   },
   {
    "duration": 48,
    "start_time": "2023-09-14T17:54:49.358Z"
   },
   {
    "duration": 134,
    "start_time": "2023-09-14T17:54:49.407Z"
   },
   {
    "duration": 75,
    "start_time": "2023-09-14T17:54:49.542Z"
   },
   {
    "duration": 44,
    "start_time": "2023-09-14T17:54:49.618Z"
   },
   {
    "duration": 47,
    "start_time": "2023-09-14T17:54:49.663Z"
   },
   {
    "duration": 64,
    "start_time": "2023-09-14T17:54:49.712Z"
   },
   {
    "duration": 22,
    "start_time": "2023-09-14T17:54:49.778Z"
   },
   {
    "duration": 37,
    "start_time": "2023-09-14T17:54:49.802Z"
   },
   {
    "duration": 34,
    "start_time": "2023-09-14T17:54:49.840Z"
   },
   {
    "duration": 46,
    "start_time": "2023-09-14T17:54:49.875Z"
   },
   {
    "duration": 57,
    "start_time": "2023-09-14T17:54:49.923Z"
   },
   {
    "duration": 53,
    "start_time": "2023-09-14T17:54:49.981Z"
   },
   {
    "duration": 542,
    "start_time": "2023-09-14T17:54:50.036Z"
   },
   {
    "duration": 12,
    "start_time": "2023-09-14T17:54:50.580Z"
   },
   {
    "duration": 69,
    "start_time": "2023-09-14T17:54:50.594Z"
   },
   {
    "duration": 48,
    "start_time": "2023-09-14T17:54:50.665Z"
   },
   {
    "duration": 24,
    "start_time": "2023-09-14T17:54:50.717Z"
   },
   {
    "duration": 45,
    "start_time": "2023-09-14T17:54:50.743Z"
   },
   {
    "duration": 51,
    "start_time": "2023-09-14T17:54:50.790Z"
   },
   {
    "duration": 110,
    "start_time": "2023-09-14T17:54:50.843Z"
   },
   {
    "duration": 46,
    "start_time": "2023-09-14T17:54:50.955Z"
   },
   {
    "duration": 393,
    "start_time": "2023-09-14T17:54:51.003Z"
   },
   {
    "duration": 8,
    "start_time": "2023-09-14T17:54:51.398Z"
   },
   {
    "duration": 376,
    "start_time": "2023-09-14T17:54:51.407Z"
   },
   {
    "duration": 17,
    "start_time": "2023-09-14T17:54:51.785Z"
   },
   {
    "duration": 319,
    "start_time": "2023-09-14T17:54:51.803Z"
   },
   {
    "duration": 15,
    "start_time": "2023-09-14T17:54:52.125Z"
   },
   {
    "duration": 44,
    "start_time": "2023-09-14T17:54:52.142Z"
   },
   {
    "duration": 340,
    "start_time": "2023-09-14T17:54:52.188Z"
   },
   {
    "duration": 10,
    "start_time": "2023-09-14T17:54:52.530Z"
   },
   {
    "duration": 225,
    "start_time": "2023-09-14T17:54:52.542Z"
   },
   {
    "duration": 23,
    "start_time": "2023-09-14T17:54:52.769Z"
   },
   {
    "duration": 46,
    "start_time": "2023-09-14T17:54:52.793Z"
   },
   {
    "duration": 101,
    "start_time": "2023-09-14T17:54:52.841Z"
   },
   {
    "duration": 59,
    "start_time": "2023-09-14T17:54:52.944Z"
   },
   {
    "duration": 52,
    "start_time": "2023-09-14T17:54:53.005Z"
   },
   {
    "duration": 46,
    "start_time": "2023-09-14T17:54:53.059Z"
   },
   {
    "duration": 832,
    "start_time": "2023-09-14T17:54:53.107Z"
   },
   {
    "duration": 9,
    "start_time": "2023-09-14T17:54:53.940Z"
   },
   {
    "duration": 306,
    "start_time": "2023-09-14T17:54:53.952Z"
   },
   {
    "duration": 239,
    "start_time": "2023-09-14T17:54:54.260Z"
   },
   {
    "duration": 139,
    "start_time": "2023-09-14T17:54:54.502Z"
   },
   {
    "duration": 7,
    "start_time": "2023-09-14T17:54:54.642Z"
   },
   {
    "duration": 59,
    "start_time": "2023-09-14T17:54:54.650Z"
   },
   {
    "duration": 237,
    "start_time": "2023-09-14T17:54:54.710Z"
   },
   {
    "duration": 220,
    "start_time": "2023-09-14T17:54:54.949Z"
   },
   {
    "duration": 269,
    "start_time": "2023-09-14T17:54:55.171Z"
   },
   {
    "duration": 279,
    "start_time": "2023-09-14T17:54:55.442Z"
   },
   {
    "duration": 16,
    "start_time": "2023-09-14T17:54:55.723Z"
   },
   {
    "duration": 321,
    "start_time": "2023-09-14T17:54:55.741Z"
   },
   {
    "duration": 217,
    "start_time": "2023-09-14T17:55:41.524Z"
   },
   {
    "duration": 207,
    "start_time": "2023-09-14T17:55:55.558Z"
   },
   {
    "duration": 292,
    "start_time": "2023-09-14T17:56:12.841Z"
   },
   {
    "duration": 205,
    "start_time": "2023-09-14T17:56:23.514Z"
   },
   {
    "duration": 199,
    "start_time": "2023-09-14T17:57:54.455Z"
   },
   {
    "duration": 21,
    "start_time": "2023-09-14T18:00:14.063Z"
   },
   {
    "duration": 14,
    "start_time": "2023-09-14T18:00:48.663Z"
   },
   {
    "duration": 14,
    "start_time": "2023-09-14T18:01:12.272Z"
   },
   {
    "duration": 15,
    "start_time": "2023-09-14T18:01:30.175Z"
   },
   {
    "duration": 10,
    "start_time": "2023-09-14T18:01:51.741Z"
   },
   {
    "duration": 15,
    "start_time": "2023-09-14T18:02:03.036Z"
   },
   {
    "duration": 133,
    "start_time": "2023-09-14T18:03:08.443Z"
   },
   {
    "duration": 13,
    "start_time": "2023-09-14T18:03:24.942Z"
   },
   {
    "duration": 132,
    "start_time": "2023-09-14T18:03:30.406Z"
   },
   {
    "duration": 131,
    "start_time": "2023-09-14T18:04:44.137Z"
   },
   {
    "duration": 16,
    "start_time": "2023-09-14T18:04:52.127Z"
   },
   {
    "duration": 15,
    "start_time": "2023-09-14T18:09:01.502Z"
   },
   {
    "duration": 15,
    "start_time": "2023-09-14T18:09:04.760Z"
   },
   {
    "duration": 12,
    "start_time": "2023-09-14T18:18:09.121Z"
   },
   {
    "duration": 463,
    "start_time": "2023-09-14T18:18:27.956Z"
   },
   {
    "duration": 20,
    "start_time": "2023-09-14T18:18:44.203Z"
   },
   {
    "duration": 457,
    "start_time": "2023-09-14T18:19:06.700Z"
   },
   {
    "duration": 598,
    "start_time": "2023-09-14T18:21:29.992Z"
   },
   {
    "duration": 97,
    "start_time": "2023-09-14T18:22:15.691Z"
   },
   {
    "duration": 138,
    "start_time": "2023-09-14T18:22:23.640Z"
   },
   {
    "duration": 314,
    "start_time": "2023-09-14T18:22:37.315Z"
   },
   {
    "duration": 474,
    "start_time": "2023-09-14T18:22:53.020Z"
   },
   {
    "duration": 13,
    "start_time": "2023-09-14T18:25:32.900Z"
   },
   {
    "duration": 10,
    "start_time": "2023-09-14T18:25:52.092Z"
   },
   {
    "duration": 512,
    "start_time": "2023-09-14T18:26:11.091Z"
   },
   {
    "duration": 79,
    "start_time": "2023-09-14T18:26:38.361Z"
   },
   {
    "duration": 529,
    "start_time": "2023-09-14T18:26:45.617Z"
   },
   {
    "duration": 571,
    "start_time": "2023-09-14T18:26:58.187Z"
   },
   {
    "duration": 594,
    "start_time": "2023-09-14T18:27:58.743Z"
   },
   {
    "duration": 457,
    "start_time": "2023-09-14T18:28:10.434Z"
   },
   {
    "duration": 524,
    "start_time": "2023-09-14T18:28:16.032Z"
   },
   {
    "duration": 508,
    "start_time": "2023-09-14T18:28:31.098Z"
   },
   {
    "duration": 461,
    "start_time": "2023-09-14T18:28:44.523Z"
   },
   {
    "duration": 566,
    "start_time": "2023-09-14T18:28:52.753Z"
   },
   {
    "duration": 509,
    "start_time": "2023-09-14T18:28:58.508Z"
   },
   {
    "duration": 522,
    "start_time": "2023-09-14T18:29:05.753Z"
   },
   {
    "duration": 493,
    "start_time": "2023-09-14T18:29:17.090Z"
   },
   {
    "duration": 280,
    "start_time": "2023-09-14T18:29:49.446Z"
   },
   {
    "duration": 484,
    "start_time": "2023-09-14T18:30:18.206Z"
   },
   {
    "duration": 111,
    "start_time": "2023-09-14T18:36:48.303Z"
   },
   {
    "duration": 762,
    "start_time": "2023-09-14T18:36:56.045Z"
   },
   {
    "duration": 552,
    "start_time": "2023-09-14T18:43:34.138Z"
   },
   {
    "duration": 23,
    "start_time": "2023-09-14T18:52:18.149Z"
   },
   {
    "duration": 499,
    "start_time": "2023-09-14T18:54:50.498Z"
   },
   {
    "duration": 113,
    "start_time": "2023-09-14T18:55:09.600Z"
   },
   {
    "duration": 119,
    "start_time": "2023-09-14T18:55:17.596Z"
   },
   {
    "duration": 479,
    "start_time": "2023-09-14T18:55:23.820Z"
   },
   {
    "duration": 473,
    "start_time": "2023-09-14T18:57:46.158Z"
   },
   {
    "duration": 521,
    "start_time": "2023-09-14T18:58:27.920Z"
   },
   {
    "duration": 620,
    "start_time": "2023-09-14T18:59:24.582Z"
   },
   {
    "duration": 593,
    "start_time": "2023-09-14T18:59:46.584Z"
   },
   {
    "duration": 508,
    "start_time": "2023-09-14T18:59:55.916Z"
   },
   {
    "duration": 498,
    "start_time": "2023-09-14T19:00:05.202Z"
   },
   {
    "duration": 522,
    "start_time": "2023-09-14T19:00:31.118Z"
   },
   {
    "duration": 614,
    "start_time": "2023-09-14T19:00:37.939Z"
   },
   {
    "duration": 534,
    "start_time": "2023-09-14T19:01:24.168Z"
   },
   {
    "duration": 549,
    "start_time": "2023-09-14T19:01:39.764Z"
   },
   {
    "duration": 467,
    "start_time": "2023-09-14T19:01:49.734Z"
   },
   {
    "duration": 513,
    "start_time": "2023-09-14T19:02:01.931Z"
   },
   {
    "duration": 489,
    "start_time": "2023-09-14T19:02:37.054Z"
   },
   {
    "duration": 328,
    "start_time": "2023-09-14T19:04:22.687Z"
   },
   {
    "duration": 260,
    "start_time": "2023-09-14T19:04:45.983Z"
   },
   {
    "duration": 222,
    "start_time": "2023-09-14T19:05:06.940Z"
   },
   {
    "duration": 495,
    "start_time": "2023-09-14T19:06:13.822Z"
   },
   {
    "duration": 557,
    "start_time": "2023-09-14T19:06:33.888Z"
   },
   {
    "duration": 456,
    "start_time": "2023-09-14T19:07:06.764Z"
   },
   {
    "duration": 20,
    "start_time": "2023-09-14T19:07:47.164Z"
   },
   {
    "duration": 470,
    "start_time": "2023-09-14T19:08:40.840Z"
   },
   {
    "duration": 615,
    "start_time": "2023-09-14T19:09:08.086Z"
   },
   {
    "duration": 532,
    "start_time": "2023-09-14T19:09:30.073Z"
   },
   {
    "duration": 502,
    "start_time": "2023-09-14T19:09:50.263Z"
   },
   {
    "duration": 455,
    "start_time": "2023-09-14T19:10:20.740Z"
   },
   {
    "duration": 487,
    "start_time": "2023-09-14T19:10:46.417Z"
   },
   {
    "duration": 656,
    "start_time": "2023-09-14T19:13:15.477Z"
   },
   {
    "duration": 482,
    "start_time": "2023-09-14T19:13:31.039Z"
   },
   {
    "duration": 520,
    "start_time": "2023-09-14T19:13:51.888Z"
   },
   {
    "duration": 521,
    "start_time": "2023-09-14T19:13:58.676Z"
   },
   {
    "duration": 656,
    "start_time": "2023-09-14T19:14:05.515Z"
   },
   {
    "duration": 490,
    "start_time": "2023-09-14T19:14:23.047Z"
   },
   {
    "duration": 334,
    "start_time": "2023-09-14T19:15:29.183Z"
   },
   {
    "duration": 268,
    "start_time": "2023-09-14T19:15:40.344Z"
   },
   {
    "duration": 215,
    "start_time": "2023-09-14T19:15:47.379Z"
   },
   {
    "duration": 584,
    "start_time": "2023-09-14T19:16:01.282Z"
   },
   {
    "duration": 510,
    "start_time": "2023-09-14T19:16:25.251Z"
   },
   {
    "duration": 526,
    "start_time": "2023-09-14T19:16:43.754Z"
   },
   {
    "duration": 26,
    "start_time": "2023-09-14T19:19:05.684Z"
   },
   {
    "duration": 581,
    "start_time": "2023-09-14T19:19:20.486Z"
   },
   {
    "duration": 679,
    "start_time": "2023-09-14T19:19:30.181Z"
   },
   {
    "duration": 33,
    "start_time": "2023-09-14T19:19:46.838Z"
   },
   {
    "duration": 511,
    "start_time": "2023-09-14T19:20:09.736Z"
   },
   {
    "duration": 171,
    "start_time": "2023-09-14T19:20:23.091Z"
   },
   {
    "duration": 170,
    "start_time": "2023-09-14T19:20:38.301Z"
   },
   {
    "duration": 173,
    "start_time": "2023-09-14T19:21:01.879Z"
   },
   {
    "duration": 236,
    "start_time": "2023-09-14T19:21:21.948Z"
   },
   {
    "duration": 258,
    "start_time": "2023-09-14T19:21:31.821Z"
   },
   {
    "duration": 244,
    "start_time": "2023-09-14T19:22:08.321Z"
   },
   {
    "duration": 635,
    "start_time": "2023-09-14T19:23:12.083Z"
   },
   {
    "duration": 189,
    "start_time": "2023-09-14T19:41:11.615Z"
   },
   {
    "duration": 85,
    "start_time": "2023-09-14T19:42:55.128Z"
   },
   {
    "duration": 447,
    "start_time": "2023-09-14T19:43:11.054Z"
   },
   {
    "duration": 526,
    "start_time": "2023-09-14T19:43:54.973Z"
   },
   {
    "duration": 514,
    "start_time": "2023-09-14T19:44:19.006Z"
   },
   {
    "duration": 535,
    "start_time": "2023-09-14T19:44:31.022Z"
   },
   {
    "duration": 8,
    "start_time": "2023-09-14T19:47:48.503Z"
   },
   {
    "duration": 8,
    "start_time": "2023-09-14T19:47:57.677Z"
   },
   {
    "duration": 9,
    "start_time": "2023-09-14T19:50:00.954Z"
   },
   {
    "duration": 199,
    "start_time": "2023-09-14T19:50:46.240Z"
   },
   {
    "duration": 115,
    "start_time": "2023-09-14T19:51:39.481Z"
   },
   {
    "duration": 2903,
    "start_time": "2023-09-14T19:51:42.956Z"
   },
   {
    "duration": 3028,
    "start_time": "2023-09-14T19:55:44.080Z"
   },
   {
    "duration": 17,
    "start_time": "2023-09-14T19:56:06.515Z"
   },
   {
    "duration": 19,
    "start_time": "2023-09-14T19:56:09.227Z"
   },
   {
    "duration": 85,
    "start_time": "2023-09-14T19:59:27.735Z"
   },
   {
    "duration": 11,
    "start_time": "2023-09-14T19:59:29.955Z"
   },
   {
    "duration": 105,
    "start_time": "2023-09-14T20:00:07.480Z"
   },
   {
    "duration": 11,
    "start_time": "2023-09-14T20:00:16.088Z"
   },
   {
    "duration": 88,
    "start_time": "2023-09-14T20:01:17.380Z"
   },
   {
    "duration": 17,
    "start_time": "2023-09-14T20:02:10.123Z"
   },
   {
    "duration": 2972,
    "start_time": "2023-09-14T20:02:12.313Z"
   },
   {
    "duration": 9,
    "start_time": "2023-09-14T20:02:58.094Z"
   },
   {
    "duration": 2811,
    "start_time": "2023-09-14T20:03:09.221Z"
   },
   {
    "duration": 1511,
    "start_time": "2023-09-14T20:10:26.706Z"
   },
   {
    "duration": 11,
    "start_time": "2023-09-14T20:10:29.345Z"
   },
   {
    "duration": 11,
    "start_time": "2023-09-14T20:12:46.484Z"
   },
   {
    "duration": 20,
    "start_time": "2023-09-14T20:13:02.041Z"
   },
   {
    "duration": 9,
    "start_time": "2023-09-14T20:13:44.081Z"
   },
   {
    "duration": 2979,
    "start_time": "2023-09-14T20:13:46.701Z"
   },
   {
    "duration": 65,
    "start_time": "2023-09-14T20:21:16.877Z"
   },
   {
    "duration": 3105,
    "start_time": "2023-09-14T20:21:18.962Z"
   },
   {
    "duration": 3,
    "start_time": "2023-09-14T20:21:33.881Z"
   },
   {
    "duration": 11,
    "start_time": "2023-09-14T20:21:33.887Z"
   },
   {
    "duration": 106,
    "start_time": "2023-09-14T20:21:33.899Z"
   },
   {
    "duration": 13,
    "start_time": "2023-09-14T20:21:34.007Z"
   },
   {
    "duration": 33,
    "start_time": "2023-09-14T20:21:34.022Z"
   },
   {
    "duration": 3,
    "start_time": "2023-09-14T20:21:34.057Z"
   },
   {
    "duration": 21,
    "start_time": "2023-09-14T20:21:34.062Z"
   },
   {
    "duration": 189,
    "start_time": "2023-09-14T20:21:34.085Z"
   },
   {
    "duration": 9,
    "start_time": "2023-09-14T20:21:34.276Z"
   },
   {
    "duration": 15,
    "start_time": "2023-09-14T20:21:34.287Z"
   },
   {
    "duration": 48,
    "start_time": "2023-09-14T20:21:34.304Z"
   },
   {
    "duration": 9,
    "start_time": "2023-09-14T20:21:34.362Z"
   },
   {
    "duration": 23,
    "start_time": "2023-09-14T20:21:34.373Z"
   },
   {
    "duration": 4,
    "start_time": "2023-09-14T20:21:34.398Z"
   },
   {
    "duration": 42,
    "start_time": "2023-09-14T20:21:34.404Z"
   },
   {
    "duration": 5,
    "start_time": "2023-09-14T20:21:34.455Z"
   },
   {
    "duration": 51,
    "start_time": "2023-09-14T20:21:34.462Z"
   },
   {
    "duration": 9,
    "start_time": "2023-09-14T20:21:34.515Z"
   },
   {
    "duration": 9,
    "start_time": "2023-09-14T20:21:34.533Z"
   },
   {
    "duration": 17,
    "start_time": "2023-09-14T20:21:34.546Z"
   },
   {
    "duration": 6,
    "start_time": "2023-09-14T20:21:34.569Z"
   },
   {
    "duration": 4,
    "start_time": "2023-09-14T20:21:34.577Z"
   },
   {
    "duration": 25,
    "start_time": "2023-09-14T20:21:34.582Z"
   },
   {
    "duration": 649,
    "start_time": "2023-09-14T20:21:34.609Z"
   },
   {
    "duration": 15,
    "start_time": "2023-09-14T20:21:35.259Z"
   },
   {
    "duration": 10,
    "start_time": "2023-09-14T20:21:35.275Z"
   },
   {
    "duration": 42,
    "start_time": "2023-09-14T20:21:35.287Z"
   },
   {
    "duration": 21,
    "start_time": "2023-09-14T20:21:35.331Z"
   },
   {
    "duration": 24,
    "start_time": "2023-09-14T20:21:35.354Z"
   },
   {
    "duration": 24,
    "start_time": "2023-09-14T20:21:35.380Z"
   },
   {
    "duration": 32,
    "start_time": "2023-09-14T20:21:35.405Z"
   },
   {
    "duration": 22,
    "start_time": "2023-09-14T20:21:35.439Z"
   },
   {
    "duration": 413,
    "start_time": "2023-09-14T20:21:35.463Z"
   },
   {
    "duration": 10,
    "start_time": "2023-09-14T20:21:35.878Z"
   },
   {
    "duration": 399,
    "start_time": "2023-09-14T20:21:35.890Z"
   },
   {
    "duration": 18,
    "start_time": "2023-09-14T20:21:36.290Z"
   },
   {
    "duration": 338,
    "start_time": "2023-09-14T20:21:36.310Z"
   },
   {
    "duration": 21,
    "start_time": "2023-09-14T20:21:36.657Z"
   },
   {
    "duration": 25,
    "start_time": "2023-09-14T20:21:36.680Z"
   },
   {
    "duration": 356,
    "start_time": "2023-09-14T20:21:36.707Z"
   },
   {
    "duration": 10,
    "start_time": "2023-09-14T20:21:37.065Z"
   },
   {
    "duration": 216,
    "start_time": "2023-09-14T20:21:37.078Z"
   },
   {
    "duration": 51,
    "start_time": "2023-09-14T20:21:37.295Z"
   },
   {
    "duration": 8,
    "start_time": "2023-09-14T20:21:37.350Z"
   },
   {
    "duration": 24,
    "start_time": "2023-09-14T20:21:37.359Z"
   },
   {
    "duration": 21,
    "start_time": "2023-09-14T20:21:37.385Z"
   },
   {
    "duration": 13,
    "start_time": "2023-09-14T20:21:37.407Z"
   },
   {
    "duration": 17,
    "start_time": "2023-09-14T20:21:37.437Z"
   },
   {
    "duration": 1022,
    "start_time": "2023-09-14T20:21:37.456Z"
   },
   {
    "duration": 9,
    "start_time": "2023-09-14T20:21:38.480Z"
   },
   {
    "duration": 301,
    "start_time": "2023-09-14T20:21:38.491Z"
   },
   {
    "duration": 185,
    "start_time": "2023-09-14T20:21:38.794Z"
   },
   {
    "duration": 177,
    "start_time": "2023-09-14T20:21:38.981Z"
   },
   {
    "duration": 7,
    "start_time": "2023-09-14T20:21:39.160Z"
   },
   {
    "duration": 24,
    "start_time": "2023-09-14T20:21:39.169Z"
   },
   {
    "duration": 66,
    "start_time": "2023-09-14T20:21:39.195Z"
   },
   {
    "duration": 0,
    "start_time": "2023-09-14T20:21:39.263Z"
   },
   {
    "duration": 0,
    "start_time": "2023-09-14T20:21:39.265Z"
   },
   {
    "duration": 0,
    "start_time": "2023-09-14T20:21:39.266Z"
   },
   {
    "duration": 0,
    "start_time": "2023-09-14T20:21:39.267Z"
   },
   {
    "duration": 0,
    "start_time": "2023-09-14T20:21:39.268Z"
   },
   {
    "duration": 0,
    "start_time": "2023-09-14T20:21:39.269Z"
   },
   {
    "duration": 0,
    "start_time": "2023-09-14T20:21:39.270Z"
   },
   {
    "duration": 0,
    "start_time": "2023-09-14T20:21:39.272Z"
   },
   {
    "duration": 0,
    "start_time": "2023-09-14T20:21:39.273Z"
   },
   {
    "duration": 0,
    "start_time": "2023-09-14T20:21:39.274Z"
   },
   {
    "duration": 50,
    "start_time": "2023-09-14T20:22:11.311Z"
   },
   {
    "duration": 11,
    "start_time": "2023-09-14T20:23:00.554Z"
   },
   {
    "duration": 1695,
    "start_time": "2023-09-14T20:23:02.934Z"
   },
   {
    "duration": 1470,
    "start_time": "2023-09-14T20:23:32.594Z"
   },
   {
    "duration": 1616,
    "start_time": "2023-09-14T20:35:50.880Z"
   },
   {
    "duration": 9,
    "start_time": "2023-09-14T20:36:11.810Z"
   },
   {
    "duration": 1604,
    "start_time": "2023-09-14T20:36:16.843Z"
   },
   {
    "duration": 4,
    "start_time": "2023-09-14T20:36:39.945Z"
   },
   {
    "duration": 16,
    "start_time": "2023-09-14T20:36:39.951Z"
   },
   {
    "duration": 83,
    "start_time": "2023-09-14T20:36:39.969Z"
   },
   {
    "duration": 12,
    "start_time": "2023-09-14T20:36:40.053Z"
   },
   {
    "duration": 36,
    "start_time": "2023-09-14T20:36:40.067Z"
   },
   {
    "duration": 28,
    "start_time": "2023-09-14T20:36:40.105Z"
   },
   {
    "duration": 18,
    "start_time": "2023-09-14T20:36:40.135Z"
   },
   {
    "duration": 183,
    "start_time": "2023-09-14T20:36:40.155Z"
   },
   {
    "duration": 11,
    "start_time": "2023-09-14T20:36:40.340Z"
   },
   {
    "duration": 16,
    "start_time": "2023-09-14T20:36:40.353Z"
   },
   {
    "duration": 22,
    "start_time": "2023-09-14T20:36:40.370Z"
   },
   {
    "duration": 11,
    "start_time": "2023-09-14T20:36:40.394Z"
   },
   {
    "duration": 10,
    "start_time": "2023-09-14T20:36:40.432Z"
   },
   {
    "duration": 6,
    "start_time": "2023-09-14T20:36:40.445Z"
   },
   {
    "duration": 13,
    "start_time": "2023-09-14T20:36:40.453Z"
   },
   {
    "duration": 32,
    "start_time": "2023-09-14T20:36:40.467Z"
   },
   {
    "duration": 21,
    "start_time": "2023-09-14T20:36:40.501Z"
   },
   {
    "duration": 24,
    "start_time": "2023-09-14T20:36:40.524Z"
   },
   {
    "duration": 6,
    "start_time": "2023-09-14T20:36:40.550Z"
   },
   {
    "duration": 10,
    "start_time": "2023-09-14T20:36:40.558Z"
   },
   {
    "duration": 6,
    "start_time": "2023-09-14T20:36:40.570Z"
   },
   {
    "duration": 4,
    "start_time": "2023-09-14T20:36:40.578Z"
   },
   {
    "duration": 21,
    "start_time": "2023-09-14T20:36:40.584Z"
   },
   {
    "duration": 565,
    "start_time": "2023-09-14T20:36:40.606Z"
   },
   {
    "duration": 12,
    "start_time": "2023-09-14T20:36:41.172Z"
   },
   {
    "duration": 9,
    "start_time": "2023-09-14T20:36:41.186Z"
   },
   {
    "duration": 13,
    "start_time": "2023-09-14T20:36:41.196Z"
   },
   {
    "duration": 13,
    "start_time": "2023-09-14T20:36:41.229Z"
   },
   {
    "duration": 18,
    "start_time": "2023-09-14T20:36:41.243Z"
   },
   {
    "duration": 32,
    "start_time": "2023-09-14T20:36:41.263Z"
   },
   {
    "duration": 37,
    "start_time": "2023-09-14T20:36:41.297Z"
   },
   {
    "duration": 14,
    "start_time": "2023-09-14T20:36:41.337Z"
   },
   {
    "duration": 388,
    "start_time": "2023-09-14T20:36:41.353Z"
   },
   {
    "duration": 8,
    "start_time": "2023-09-14T20:36:41.743Z"
   },
   {
    "duration": 335,
    "start_time": "2023-09-14T20:36:41.752Z"
   },
   {
    "duration": 15,
    "start_time": "2023-09-14T20:36:42.089Z"
   },
   {
    "duration": 298,
    "start_time": "2023-09-14T20:36:42.106Z"
   },
   {
    "duration": 15,
    "start_time": "2023-09-14T20:36:42.405Z"
   },
   {
    "duration": 32,
    "start_time": "2023-09-14T20:36:42.429Z"
   },
   {
    "duration": 392,
    "start_time": "2023-09-14T20:36:42.463Z"
   },
   {
    "duration": 10,
    "start_time": "2023-09-14T20:36:42.859Z"
   },
   {
    "duration": 220,
    "start_time": "2023-09-14T20:36:42.870Z"
   },
   {
    "duration": 19,
    "start_time": "2023-09-14T20:36:43.092Z"
   },
   {
    "duration": 26,
    "start_time": "2023-09-14T20:36:43.112Z"
   },
   {
    "duration": 22,
    "start_time": "2023-09-14T20:36:43.140Z"
   },
   {
    "duration": 24,
    "start_time": "2023-09-14T20:36:43.164Z"
   },
   {
    "duration": 12,
    "start_time": "2023-09-14T20:36:43.190Z"
   },
   {
    "duration": 10,
    "start_time": "2023-09-14T20:36:43.203Z"
   },
   {
    "duration": 829,
    "start_time": "2023-09-14T20:36:43.214Z"
   },
   {
    "duration": 9,
    "start_time": "2023-09-14T20:36:44.045Z"
   },
   {
    "duration": 223,
    "start_time": "2023-09-14T20:36:44.056Z"
   },
   {
    "duration": 158,
    "start_time": "2023-09-14T20:36:44.280Z"
   },
   {
    "duration": 153,
    "start_time": "2023-09-14T20:36:44.440Z"
   },
   {
    "duration": 7,
    "start_time": "2023-09-14T20:36:44.595Z"
   },
   {
    "duration": 33,
    "start_time": "2023-09-14T20:36:44.603Z"
   },
   {
    "duration": 114,
    "start_time": "2023-09-14T20:36:44.639Z"
   },
   {
    "duration": 2031,
    "start_time": "2023-09-14T20:36:44.755Z"
   },
   {
    "duration": 0,
    "start_time": "2023-09-14T20:36:46.788Z"
   },
   {
    "duration": 0,
    "start_time": "2023-09-14T20:36:46.789Z"
   },
   {
    "duration": 0,
    "start_time": "2023-09-14T20:36:46.791Z"
   },
   {
    "duration": 0,
    "start_time": "2023-09-14T20:36:46.792Z"
   },
   {
    "duration": 0,
    "start_time": "2023-09-14T20:36:46.793Z"
   },
   {
    "duration": 0,
    "start_time": "2023-09-14T20:36:46.794Z"
   },
   {
    "duration": 0,
    "start_time": "2023-09-14T20:36:46.795Z"
   },
   {
    "duration": 0,
    "start_time": "2023-09-14T20:36:46.797Z"
   },
   {
    "duration": 0,
    "start_time": "2023-09-14T20:36:46.798Z"
   },
   {
    "duration": 8,
    "start_time": "2023-09-14T20:37:54.162Z"
   },
   {
    "duration": 9,
    "start_time": "2023-09-14T20:38:12.153Z"
   },
   {
    "duration": 10,
    "start_time": "2023-09-14T20:38:35.184Z"
   },
   {
    "duration": 1238,
    "start_time": "2023-09-14T20:41:18.279Z"
   },
   {
    "duration": 9,
    "start_time": "2023-09-14T20:41:33.913Z"
   },
   {
    "duration": 1476,
    "start_time": "2023-09-14T20:41:37.053Z"
   },
   {
    "duration": 4,
    "start_time": "2023-09-14T20:41:55.147Z"
   },
   {
    "duration": 3,
    "start_time": "2023-09-14T20:41:55.159Z"
   },
   {
    "duration": 63,
    "start_time": "2023-09-14T20:41:55.184Z"
   },
   {
    "duration": 12,
    "start_time": "2023-09-14T20:41:55.250Z"
   },
   {
    "duration": 16,
    "start_time": "2023-09-14T20:41:55.264Z"
   },
   {
    "duration": 3,
    "start_time": "2023-09-14T20:41:55.283Z"
   },
   {
    "duration": 17,
    "start_time": "2023-09-14T20:41:55.287Z"
   },
   {
    "duration": 205,
    "start_time": "2023-09-14T20:41:55.325Z"
   },
   {
    "duration": 10,
    "start_time": "2023-09-14T20:41:55.532Z"
   },
   {
    "duration": 29,
    "start_time": "2023-09-14T20:41:55.544Z"
   },
   {
    "duration": 16,
    "start_time": "2023-09-14T20:41:55.575Z"
   },
   {
    "duration": 31,
    "start_time": "2023-09-14T20:41:55.594Z"
   },
   {
    "duration": 9,
    "start_time": "2023-09-14T20:41:55.627Z"
   },
   {
    "duration": 5,
    "start_time": "2023-09-14T20:41:55.637Z"
   },
   {
    "duration": 15,
    "start_time": "2023-09-14T20:41:55.644Z"
   },
   {
    "duration": 27,
    "start_time": "2023-09-14T20:41:55.661Z"
   },
   {
    "duration": 36,
    "start_time": "2023-09-14T20:41:55.690Z"
   },
   {
    "duration": 9,
    "start_time": "2023-09-14T20:41:55.727Z"
   },
   {
    "duration": 6,
    "start_time": "2023-09-14T20:41:55.739Z"
   },
   {
    "duration": 16,
    "start_time": "2023-09-14T20:41:55.747Z"
   },
   {
    "duration": 9,
    "start_time": "2023-09-14T20:41:55.765Z"
   },
   {
    "duration": 4,
    "start_time": "2023-09-14T20:41:55.776Z"
   },
   {
    "duration": 56,
    "start_time": "2023-09-14T20:41:55.782Z"
   },
   {
    "duration": 470,
    "start_time": "2023-09-14T20:41:55.840Z"
   },
   {
    "duration": 17,
    "start_time": "2023-09-14T20:41:56.311Z"
   },
   {
    "duration": 13,
    "start_time": "2023-09-14T20:41:56.329Z"
   },
   {
    "duration": 14,
    "start_time": "2023-09-14T20:41:56.344Z"
   },
   {
    "duration": 11,
    "start_time": "2023-09-14T20:41:56.362Z"
   },
   {
    "duration": 18,
    "start_time": "2023-09-14T20:41:56.374Z"
   },
   {
    "duration": 51,
    "start_time": "2023-09-14T20:41:56.394Z"
   },
   {
    "duration": 15,
    "start_time": "2023-09-14T20:41:56.446Z"
   },
   {
    "duration": 16,
    "start_time": "2023-09-14T20:41:56.463Z"
   },
   {
    "duration": 383,
    "start_time": "2023-09-14T20:41:56.481Z"
   },
   {
    "duration": 8,
    "start_time": "2023-09-14T20:41:56.866Z"
   },
   {
    "duration": 410,
    "start_time": "2023-09-14T20:41:56.876Z"
   },
   {
    "duration": 17,
    "start_time": "2023-09-14T20:41:57.288Z"
   },
   {
    "duration": 285,
    "start_time": "2023-09-14T20:41:57.307Z"
   },
   {
    "duration": 17,
    "start_time": "2023-09-14T20:41:57.593Z"
   },
   {
    "duration": 30,
    "start_time": "2023-09-14T20:41:57.625Z"
   },
   {
    "duration": 322,
    "start_time": "2023-09-14T20:41:57.656Z"
   },
   {
    "duration": 14,
    "start_time": "2023-09-14T20:41:57.980Z"
   },
   {
    "duration": 212,
    "start_time": "2023-09-14T20:41:57.996Z"
   },
   {
    "duration": 24,
    "start_time": "2023-09-14T20:41:58.211Z"
   },
   {
    "duration": 8,
    "start_time": "2023-09-14T20:41:58.236Z"
   },
   {
    "duration": 22,
    "start_time": "2023-09-14T20:41:58.245Z"
   },
   {
    "duration": 14,
    "start_time": "2023-09-14T20:41:58.268Z"
   },
   {
    "duration": 41,
    "start_time": "2023-09-14T20:41:58.284Z"
   },
   {
    "duration": 12,
    "start_time": "2023-09-14T20:41:58.326Z"
   },
   {
    "duration": 779,
    "start_time": "2023-09-14T20:41:58.339Z"
   },
   {
    "duration": 10,
    "start_time": "2023-09-14T20:41:59.120Z"
   },
   {
    "duration": 263,
    "start_time": "2023-09-14T20:41:59.132Z"
   },
   {
    "duration": 157,
    "start_time": "2023-09-14T20:41:59.397Z"
   },
   {
    "duration": 153,
    "start_time": "2023-09-14T20:41:59.557Z"
   },
   {
    "duration": 14,
    "start_time": "2023-09-14T20:41:59.711Z"
   },
   {
    "duration": 19,
    "start_time": "2023-09-14T20:41:59.726Z"
   },
   {
    "duration": 9,
    "start_time": "2023-09-14T20:41:59.746Z"
   },
   {
    "duration": 1488,
    "start_time": "2023-09-14T20:41:59.757Z"
   },
   {
    "duration": 0,
    "start_time": "2023-09-14T20:42:01.247Z"
   },
   {
    "duration": 0,
    "start_time": "2023-09-14T20:42:01.248Z"
   },
   {
    "duration": 0,
    "start_time": "2023-09-14T20:42:01.249Z"
   },
   {
    "duration": 0,
    "start_time": "2023-09-14T20:42:01.250Z"
   },
   {
    "duration": 0,
    "start_time": "2023-09-14T20:42:01.252Z"
   },
   {
    "duration": 0,
    "start_time": "2023-09-14T20:42:01.253Z"
   },
   {
    "duration": 0,
    "start_time": "2023-09-14T20:42:01.254Z"
   },
   {
    "duration": 0,
    "start_time": "2023-09-14T20:42:01.255Z"
   },
   {
    "duration": 0,
    "start_time": "2023-09-14T20:42:01.257Z"
   },
   {
    "duration": 0,
    "start_time": "2023-09-14T20:42:01.257Z"
   },
   {
    "duration": 10,
    "start_time": "2023-09-14T20:46:55.829Z"
   },
   {
    "duration": 241,
    "start_time": "2023-09-14T20:47:42.798Z"
   },
   {
    "duration": 307,
    "start_time": "2023-09-14T20:47:46.272Z"
   },
   {
    "duration": 14,
    "start_time": "2023-09-14T20:48:38.993Z"
   },
   {
    "duration": 198,
    "start_time": "2023-09-14T21:04:47.409Z"
   },
   {
    "duration": 509,
    "start_time": "2023-09-14T21:04:50.251Z"
   },
   {
    "duration": 492,
    "start_time": "2023-09-14T21:04:54.943Z"
   },
   {
    "duration": 538,
    "start_time": "2023-09-14T21:05:05.803Z"
   },
   {
    "duration": 473,
    "start_time": "2023-09-14T21:05:24.011Z"
   },
   {
    "duration": 9,
    "start_time": "2023-09-14T21:13:32.336Z"
   },
   {
    "duration": 11,
    "start_time": "2023-09-14T21:17:32.989Z"
   },
   {
    "duration": 218,
    "start_time": "2023-09-14T21:17:43.595Z"
   },
   {
    "duration": 18,
    "start_time": "2023-09-14T21:19:56.235Z"
   },
   {
    "duration": 414,
    "start_time": "2023-09-14T21:20:30.269Z"
   },
   {
    "duration": 18,
    "start_time": "2023-09-14T21:21:13.958Z"
   },
   {
    "duration": 10,
    "start_time": "2023-09-14T21:24:26.583Z"
   },
   {
    "duration": 10,
    "start_time": "2023-09-14T21:24:31.324Z"
   },
   {
    "duration": 17,
    "start_time": "2023-09-14T21:24:41.401Z"
   },
   {
    "duration": 12,
    "start_time": "2023-09-14T21:24:59.051Z"
   },
   {
    "duration": 10,
    "start_time": "2023-09-14T21:25:13.449Z"
   },
   {
    "duration": 10,
    "start_time": "2023-09-14T21:25:32.845Z"
   },
   {
    "duration": 91,
    "start_time": "2023-09-14T21:27:16.159Z"
   },
   {
    "duration": 1472,
    "start_time": "2023-09-14T21:27:26.588Z"
   },
   {
    "duration": 114,
    "start_time": "2023-09-14T21:27:55.918Z"
   },
   {
    "duration": 137,
    "start_time": "2023-09-14T21:28:58.804Z"
   },
   {
    "duration": 131,
    "start_time": "2023-09-14T21:30:22.470Z"
   },
   {
    "duration": 142,
    "start_time": "2023-09-14T21:31:07.127Z"
   },
   {
    "duration": 151,
    "start_time": "2023-09-14T21:36:50.152Z"
   },
   {
    "duration": 163,
    "start_time": "2023-09-14T21:38:13.469Z"
   },
   {
    "duration": 11,
    "start_time": "2023-09-14T22:05:20.509Z"
   },
   {
    "duration": 10,
    "start_time": "2023-09-14T22:05:25.701Z"
   },
   {
    "duration": 11,
    "start_time": "2023-09-14T22:05:47.867Z"
   },
   {
    "duration": 3,
    "start_time": "2023-09-14T22:05:54.297Z"
   },
   {
    "duration": 2,
    "start_time": "2023-09-14T22:05:54.311Z"
   },
   {
    "duration": 60,
    "start_time": "2023-09-14T22:05:54.327Z"
   },
   {
    "duration": 11,
    "start_time": "2023-09-14T22:05:54.389Z"
   },
   {
    "duration": 42,
    "start_time": "2023-09-14T22:05:54.401Z"
   },
   {
    "duration": 22,
    "start_time": "2023-09-14T22:05:54.445Z"
   },
   {
    "duration": 35,
    "start_time": "2023-09-14T22:05:54.469Z"
   },
   {
    "duration": 159,
    "start_time": "2023-09-14T22:05:54.506Z"
   },
   {
    "duration": 8,
    "start_time": "2023-09-14T22:05:54.667Z"
   },
   {
    "duration": 12,
    "start_time": "2023-09-14T22:05:54.676Z"
   },
   {
    "duration": 34,
    "start_time": "2023-09-14T22:05:54.691Z"
   },
   {
    "duration": 10,
    "start_time": "2023-09-14T22:05:54.727Z"
   },
   {
    "duration": 8,
    "start_time": "2023-09-14T22:05:54.738Z"
   },
   {
    "duration": 4,
    "start_time": "2023-09-14T22:05:54.748Z"
   },
   {
    "duration": 13,
    "start_time": "2023-09-14T22:05:54.753Z"
   },
   {
    "duration": 6,
    "start_time": "2023-09-14T22:05:54.767Z"
   },
   {
    "duration": 20,
    "start_time": "2023-09-14T22:05:54.774Z"
   },
   {
    "duration": 29,
    "start_time": "2023-09-14T22:05:54.796Z"
   },
   {
    "duration": 3,
    "start_time": "2023-09-14T22:05:54.827Z"
   },
   {
    "duration": 7,
    "start_time": "2023-09-14T22:05:54.832Z"
   },
   {
    "duration": 6,
    "start_time": "2023-09-14T22:05:54.840Z"
   },
   {
    "duration": 3,
    "start_time": "2023-09-14T22:05:54.848Z"
   },
   {
    "duration": 17,
    "start_time": "2023-09-14T22:05:54.853Z"
   },
   {
    "duration": 529,
    "start_time": "2023-09-14T22:05:54.871Z"
   },
   {
    "duration": 23,
    "start_time": "2023-09-14T22:05:55.403Z"
   },
   {
    "duration": 10,
    "start_time": "2023-09-14T22:05:55.428Z"
   },
   {
    "duration": 14,
    "start_time": "2023-09-14T22:05:55.439Z"
   },
   {
    "duration": 10,
    "start_time": "2023-09-14T22:05:55.455Z"
   },
   {
    "duration": 16,
    "start_time": "2023-09-14T22:05:55.467Z"
   },
   {
    "duration": 50,
    "start_time": "2023-09-14T22:05:55.485Z"
   },
   {
    "duration": 14,
    "start_time": "2023-09-14T22:05:55.537Z"
   },
   {
    "duration": 14,
    "start_time": "2023-09-14T22:05:55.553Z"
   },
   {
    "duration": 424,
    "start_time": "2023-09-14T22:05:55.569Z"
   },
   {
    "duration": 8,
    "start_time": "2023-09-14T22:05:55.996Z"
   },
   {
    "duration": 389,
    "start_time": "2023-09-14T22:05:56.006Z"
   },
   {
    "duration": 27,
    "start_time": "2023-09-14T22:05:56.397Z"
   },
   {
    "duration": 368,
    "start_time": "2023-09-14T22:05:56.426Z"
   },
   {
    "duration": 15,
    "start_time": "2023-09-14T22:05:56.796Z"
   },
   {
    "duration": 36,
    "start_time": "2023-09-14T22:05:56.824Z"
   },
   {
    "duration": 305,
    "start_time": "2023-09-14T22:05:56.862Z"
   },
   {
    "duration": 9,
    "start_time": "2023-09-14T22:05:57.169Z"
   },
   {
    "duration": 183,
    "start_time": "2023-09-14T22:05:57.180Z"
   },
   {
    "duration": 23,
    "start_time": "2023-09-14T22:05:57.365Z"
   },
   {
    "duration": 18,
    "start_time": "2023-09-14T22:05:57.389Z"
   },
   {
    "duration": 46,
    "start_time": "2023-09-14T22:05:57.409Z"
   },
   {
    "duration": 32,
    "start_time": "2023-09-14T22:05:57.456Z"
   },
   {
    "duration": 32,
    "start_time": "2023-09-14T22:05:57.490Z"
   },
   {
    "duration": 29,
    "start_time": "2023-09-14T22:05:57.524Z"
   },
   {
    "duration": 744,
    "start_time": "2023-09-14T22:05:57.554Z"
   },
   {
    "duration": 9,
    "start_time": "2023-09-14T22:05:58.300Z"
   },
   {
    "duration": 236,
    "start_time": "2023-09-14T22:05:58.324Z"
   },
   {
    "duration": 139,
    "start_time": "2023-09-14T22:05:58.561Z"
   },
   {
    "duration": 141,
    "start_time": "2023-09-14T22:05:58.702Z"
   },
   {
    "duration": 7,
    "start_time": "2023-09-14T22:05:58.844Z"
   },
   {
    "duration": 30,
    "start_time": "2023-09-14T22:05:58.853Z"
   },
   {
    "duration": 23,
    "start_time": "2023-09-14T22:05:58.884Z"
   },
   {
    "duration": 223,
    "start_time": "2023-09-14T22:05:58.912Z"
   },
   {
    "duration": 215,
    "start_time": "2023-09-14T22:05:59.136Z"
   },
   {
    "duration": 210,
    "start_time": "2023-09-14T22:05:59.353Z"
   },
   {
    "duration": 623,
    "start_time": "2023-09-14T22:05:59.566Z"
   },
   {
    "duration": 496,
    "start_time": "2023-09-14T22:06:00.191Z"
   },
   {
    "duration": 285,
    "start_time": "2023-09-14T22:06:00.688Z"
   },
   {
    "duration": 332,
    "start_time": "2023-09-14T22:06:00.975Z"
   },
   {
    "duration": 20,
    "start_time": "2023-09-14T22:06:01.309Z"
   },
   {
    "duration": 254,
    "start_time": "2023-09-14T22:06:01.331Z"
   },
   {
    "duration": 11,
    "start_time": "2023-09-14T22:06:42.918Z"
   },
   {
    "duration": 14,
    "start_time": "2023-09-14T22:07:11.480Z"
   },
   {
    "duration": 218,
    "start_time": "2023-09-14T22:10:18.678Z"
   },
   {
    "duration": 248,
    "start_time": "2023-09-14T22:10:38.722Z"
   },
   {
    "duration": 301,
    "start_time": "2023-09-14T22:10:58.097Z"
   },
   {
    "duration": 208,
    "start_time": "2023-09-14T22:11:36.087Z"
   },
   {
    "duration": 14,
    "start_time": "2023-09-14T22:11:58.022Z"
   },
   {
    "duration": 220,
    "start_time": "2023-09-14T22:14:26.447Z"
   },
   {
    "duration": 207,
    "start_time": "2023-09-14T22:15:18.245Z"
   },
   {
    "duration": 209,
    "start_time": "2023-09-14T22:16:01.969Z"
   },
   {
    "duration": 14,
    "start_time": "2023-09-14T22:17:06.485Z"
   },
   {
    "duration": 232,
    "start_time": "2023-09-14T22:18:25.808Z"
   },
   {
    "duration": 224,
    "start_time": "2023-09-14T22:18:37.720Z"
   },
   {
    "duration": 209,
    "start_time": "2023-09-14T22:19:10.544Z"
   },
   {
    "duration": 488,
    "start_time": "2023-09-14T22:22:07.556Z"
   },
   {
    "duration": 583,
    "start_time": "2023-09-14T22:22:38.433Z"
   },
   {
    "duration": 15,
    "start_time": "2023-09-14T22:23:44.178Z"
   },
   {
    "duration": 462,
    "start_time": "2023-09-14T22:38:51.567Z"
   },
   {
    "duration": 424,
    "start_time": "2023-09-14T22:39:04.448Z"
   },
   {
    "duration": 3,
    "start_time": "2023-09-14T23:01:57.962Z"
   },
   {
    "duration": 13,
    "start_time": "2023-09-14T23:01:57.969Z"
   },
   {
    "duration": 62,
    "start_time": "2023-09-14T23:01:57.987Z"
   },
   {
    "duration": 12,
    "start_time": "2023-09-14T23:01:58.051Z"
   },
   {
    "duration": 26,
    "start_time": "2023-09-14T23:01:58.065Z"
   },
   {
    "duration": 9,
    "start_time": "2023-09-14T23:01:58.093Z"
   },
   {
    "duration": 14,
    "start_time": "2023-09-14T23:01:58.103Z"
   },
   {
    "duration": 172,
    "start_time": "2023-09-14T23:01:58.118Z"
   },
   {
    "duration": 35,
    "start_time": "2023-09-14T23:01:58.292Z"
   },
   {
    "duration": 12,
    "start_time": "2023-09-14T23:01:58.330Z"
   },
   {
    "duration": 13,
    "start_time": "2023-09-14T23:01:58.344Z"
   },
   {
    "duration": 11,
    "start_time": "2023-09-14T23:01:58.358Z"
   },
   {
    "duration": 9,
    "start_time": "2023-09-14T23:01:58.370Z"
   },
   {
    "duration": 44,
    "start_time": "2023-09-14T23:01:58.380Z"
   },
   {
    "duration": 11,
    "start_time": "2023-09-14T23:01:58.426Z"
   },
   {
    "duration": 6,
    "start_time": "2023-09-14T23:01:58.439Z"
   },
   {
    "duration": 17,
    "start_time": "2023-09-14T23:01:58.447Z"
   },
   {
    "duration": 6,
    "start_time": "2023-09-14T23:01:58.465Z"
   },
   {
    "duration": 4,
    "start_time": "2023-09-14T23:01:58.472Z"
   },
   {
    "duration": 7,
    "start_time": "2023-09-14T23:01:58.478Z"
   },
   {
    "duration": 4,
    "start_time": "2023-09-14T23:01:58.487Z"
   },
   {
    "duration": 3,
    "start_time": "2023-09-14T23:01:58.493Z"
   },
   {
    "duration": 18,
    "start_time": "2023-09-14T23:01:59.712Z"
   },
   {
    "duration": 554,
    "start_time": "2023-09-14T23:01:59.732Z"
   },
   {
    "duration": 15,
    "start_time": "2023-09-14T23:02:00.288Z"
   },
   {
    "duration": 40,
    "start_time": "2023-09-14T23:02:00.305Z"
   },
   {
    "duration": 45,
    "start_time": "2023-09-14T23:02:00.348Z"
   },
   {
    "duration": 31,
    "start_time": "2023-09-14T23:02:00.395Z"
   },
   {
    "duration": 47,
    "start_time": "2023-09-14T23:02:00.427Z"
   },
   {
    "duration": 46,
    "start_time": "2023-09-14T23:02:00.476Z"
   },
   {
    "duration": 26,
    "start_time": "2023-09-14T23:02:00.524Z"
   },
   {
    "duration": 22,
    "start_time": "2023-09-14T23:02:00.553Z"
   },
   {
    "duration": 379,
    "start_time": "2023-09-14T23:02:00.577Z"
   },
   {
    "duration": 8,
    "start_time": "2023-09-14T23:02:00.958Z"
   },
   {
    "duration": 345,
    "start_time": "2023-09-14T23:02:00.967Z"
   },
   {
    "duration": 19,
    "start_time": "2023-09-14T23:02:01.314Z"
   },
   {
    "duration": 320,
    "start_time": "2023-09-14T23:02:01.334Z"
   },
   {
    "duration": 15,
    "start_time": "2023-09-14T23:02:01.656Z"
   },
   {
    "duration": 33,
    "start_time": "2023-09-14T23:02:01.673Z"
   },
   {
    "duration": 296,
    "start_time": "2023-09-14T23:02:01.707Z"
   },
   {
    "duration": 19,
    "start_time": "2023-09-14T23:02:02.005Z"
   },
   {
    "duration": 195,
    "start_time": "2023-09-14T23:02:02.025Z"
   },
   {
    "duration": 21,
    "start_time": "2023-09-14T23:02:02.224Z"
   },
   {
    "duration": 250,
    "start_time": "2023-09-14T23:02:02.247Z"
   },
   {
    "duration": 167,
    "start_time": "2023-09-14T23:02:02.499Z"
   },
   {
    "duration": 335,
    "start_time": "2023-09-14T23:02:02.667Z"
   },
   {
    "duration": 238,
    "start_time": "2023-09-14T23:02:03.004Z"
   },
   {
    "duration": 232,
    "start_time": "2023-09-14T23:02:03.244Z"
   },
   {
    "duration": 939,
    "start_time": "2023-09-14T23:02:03.478Z"
   },
   {
    "duration": 8,
    "start_time": "2023-09-14T23:02:04.421Z"
   },
   {
    "duration": 431,
    "start_time": "2023-09-14T23:02:04.431Z"
   },
   {
    "duration": 145,
    "start_time": "2023-09-14T23:02:04.863Z"
   },
   {
    "duration": 144,
    "start_time": "2023-09-14T23:02:05.010Z"
   },
   {
    "duration": 7,
    "start_time": "2023-09-14T23:02:05.156Z"
   },
   {
    "duration": 38,
    "start_time": "2023-09-14T23:02:05.164Z"
   },
   {
    "duration": 55,
    "start_time": "2023-09-14T23:02:05.203Z"
   },
   {
    "duration": 247,
    "start_time": "2023-09-14T23:02:05.260Z"
   },
   {
    "duration": 21,
    "start_time": "2023-09-14T23:02:05.509Z"
   },
   {
    "duration": 447,
    "start_time": "2023-09-14T23:02:05.531Z"
   },
   {
    "duration": 13,
    "start_time": "2023-09-14T23:02:05.980Z"
   },
   {
    "duration": 383,
    "start_time": "2023-09-14T23:02:05.995Z"
   },
   {
    "duration": 496,
    "start_time": "2023-09-14T23:02:06.380Z"
   },
   {
    "duration": 491,
    "start_time": "2023-09-14T23:02:06.878Z"
   },
   {
    "duration": 272,
    "start_time": "2023-09-14T23:02:07.371Z"
   },
   {
    "duration": 367,
    "start_time": "2023-09-14T23:02:07.644Z"
   },
   {
    "duration": 18,
    "start_time": "2023-09-14T23:02:08.012Z"
   },
   {
    "duration": 232,
    "start_time": "2023-09-14T23:02:08.031Z"
   },
   {
    "duration": 1257,
    "start_time": "2023-09-14T23:02:59.003Z"
   },
   {
    "duration": 3,
    "start_time": "2023-09-14T23:03:00.262Z"
   },
   {
    "duration": 114,
    "start_time": "2023-09-14T23:03:00.266Z"
   },
   {
    "duration": 14,
    "start_time": "2023-09-14T23:03:00.382Z"
   },
   {
    "duration": 26,
    "start_time": "2023-09-14T23:03:00.398Z"
   },
   {
    "duration": 12,
    "start_time": "2023-09-14T23:03:00.426Z"
   },
   {
    "duration": 34,
    "start_time": "2023-09-14T23:03:00.440Z"
   },
   {
    "duration": 197,
    "start_time": "2023-09-14T23:03:00.476Z"
   },
   {
    "duration": 8,
    "start_time": "2023-09-14T23:03:00.675Z"
   },
   {
    "duration": 46,
    "start_time": "2023-09-14T23:03:00.686Z"
   },
   {
    "duration": 84,
    "start_time": "2023-09-14T23:03:00.734Z"
   },
   {
    "duration": 79,
    "start_time": "2023-09-14T23:03:00.820Z"
   },
   {
    "duration": 96,
    "start_time": "2023-09-14T23:03:00.901Z"
   },
   {
    "duration": 112,
    "start_time": "2023-09-14T23:03:00.999Z"
   },
   {
    "duration": 80,
    "start_time": "2023-09-14T23:03:01.113Z"
   },
   {
    "duration": 75,
    "start_time": "2023-09-14T23:03:01.195Z"
   },
   {
    "duration": 40,
    "start_time": "2023-09-14T23:03:01.272Z"
   },
   {
    "duration": 29,
    "start_time": "2023-09-14T23:03:01.313Z"
   },
   {
    "duration": 23,
    "start_time": "2023-09-14T23:03:01.344Z"
   },
   {
    "duration": 36,
    "start_time": "2023-09-14T23:03:01.369Z"
   },
   {
    "duration": 29,
    "start_time": "2023-09-14T23:03:01.407Z"
   },
   {
    "duration": 30,
    "start_time": "2023-09-14T23:03:01.437Z"
   },
   {
    "duration": 120,
    "start_time": "2023-09-14T23:03:01.469Z"
   },
   {
    "duration": 477,
    "start_time": "2023-09-14T23:03:01.591Z"
   },
   {
    "duration": 11,
    "start_time": "2023-09-14T23:03:02.070Z"
   },
   {
    "duration": 42,
    "start_time": "2023-09-14T23:03:02.083Z"
   },
   {
    "duration": 46,
    "start_time": "2023-09-14T23:03:02.127Z"
   },
   {
    "duration": 46,
    "start_time": "2023-09-14T23:03:02.178Z"
   },
   {
    "duration": 67,
    "start_time": "2023-09-14T23:03:02.226Z"
   },
   {
    "duration": 32,
    "start_time": "2023-09-14T23:03:02.295Z"
   },
   {
    "duration": 37,
    "start_time": "2023-09-14T23:03:02.329Z"
   },
   {
    "duration": 24,
    "start_time": "2023-09-14T23:03:02.367Z"
   },
   {
    "duration": 362,
    "start_time": "2023-09-14T23:03:02.392Z"
   },
   {
    "duration": 8,
    "start_time": "2023-09-14T23:03:02.755Z"
   },
   {
    "duration": 322,
    "start_time": "2023-09-14T23:03:02.764Z"
   },
   {
    "duration": 17,
    "start_time": "2023-09-14T23:03:03.088Z"
   },
   {
    "duration": 299,
    "start_time": "2023-09-14T23:03:03.107Z"
   },
   {
    "duration": 15,
    "start_time": "2023-09-14T23:03:03.407Z"
   },
   {
    "duration": 17,
    "start_time": "2023-09-14T23:03:03.424Z"
   },
   {
    "duration": 300,
    "start_time": "2023-09-14T23:03:03.443Z"
   },
   {
    "duration": 10,
    "start_time": "2023-09-14T23:03:03.744Z"
   },
   {
    "duration": 187,
    "start_time": "2023-09-14T23:03:03.755Z"
   },
   {
    "duration": 19,
    "start_time": "2023-09-14T23:03:03.943Z"
   },
   {
    "duration": 17,
    "start_time": "2023-09-14T23:03:03.963Z"
   },
   {
    "duration": 14,
    "start_time": "2023-09-14T23:03:03.981Z"
   },
   {
    "duration": 11,
    "start_time": "2023-09-14T23:03:03.996Z"
   },
   {
    "duration": 23,
    "start_time": "2023-09-14T23:03:04.009Z"
   },
   {
    "duration": 9,
    "start_time": "2023-09-14T23:03:04.034Z"
   },
   {
    "duration": 746,
    "start_time": "2023-09-14T23:03:04.044Z"
   },
   {
    "duration": 7,
    "start_time": "2023-09-14T23:03:04.792Z"
   },
   {
    "duration": 256,
    "start_time": "2023-09-14T23:03:04.801Z"
   },
   {
    "duration": 232,
    "start_time": "2023-09-14T23:03:05.058Z"
   },
   {
    "duration": 147,
    "start_time": "2023-09-14T23:03:05.291Z"
   },
   {
    "duration": 6,
    "start_time": "2023-09-14T23:03:05.440Z"
   },
   {
    "duration": 112,
    "start_time": "2023-09-14T23:03:05.448Z"
   },
   {
    "duration": 0,
    "start_time": "2023-09-14T23:03:05.562Z"
   },
   {
    "duration": 0,
    "start_time": "2023-09-14T23:03:05.563Z"
   },
   {
    "duration": 0,
    "start_time": "2023-09-14T23:03:05.565Z"
   },
   {
    "duration": 0,
    "start_time": "2023-09-14T23:03:05.566Z"
   },
   {
    "duration": 1,
    "start_time": "2023-09-14T23:03:05.567Z"
   },
   {
    "duration": 0,
    "start_time": "2023-09-14T23:03:05.569Z"
   },
   {
    "duration": 0,
    "start_time": "2023-09-14T23:03:05.570Z"
   },
   {
    "duration": 0,
    "start_time": "2023-09-14T23:03:05.572Z"
   },
   {
    "duration": 0,
    "start_time": "2023-09-14T23:03:05.573Z"
   },
   {
    "duration": 0,
    "start_time": "2023-09-14T23:03:05.575Z"
   },
   {
    "duration": 0,
    "start_time": "2023-09-14T23:03:05.576Z"
   },
   {
    "duration": 0,
    "start_time": "2023-09-14T23:03:05.578Z"
   },
   {
    "duration": 418,
    "start_time": "2023-09-14T23:07:40.756Z"
   },
   {
    "duration": 26,
    "start_time": "2023-09-14T23:10:22.289Z"
   },
   {
    "duration": 20,
    "start_time": "2023-09-14T23:10:53.521Z"
   },
   {
    "duration": 18,
    "start_time": "2023-09-14T23:11:21.583Z"
   },
   {
    "duration": 21,
    "start_time": "2023-09-14T23:11:31.410Z"
   },
   {
    "duration": 178,
    "start_time": "2023-09-14T23:14:39.874Z"
   },
   {
    "duration": 13,
    "start_time": "2023-09-14T23:14:57.875Z"
   },
   {
    "duration": 198,
    "start_time": "2023-09-14T23:15:06.605Z"
   },
   {
    "duration": 13,
    "start_time": "2023-09-14T23:15:10.785Z"
   },
   {
    "duration": 259,
    "start_time": "2023-09-14T23:15:13.716Z"
   },
   {
    "duration": 13,
    "start_time": "2023-09-14T23:15:18.921Z"
   },
   {
    "duration": 218,
    "start_time": "2023-09-14T23:15:21.586Z"
   },
   {
    "duration": 505,
    "start_time": "2023-09-14T23:15:25.003Z"
   },
   {
    "duration": 448,
    "start_time": "2023-09-14T23:15:29.012Z"
   },
   {
    "duration": 355,
    "start_time": "2023-09-14T23:17:16.708Z"
   },
   {
    "duration": 267,
    "start_time": "2023-09-14T23:17:45.117Z"
   },
   {
    "duration": 259,
    "start_time": "2023-09-14T23:17:54.115Z"
   },
   {
    "duration": 12,
    "start_time": "2023-09-14T23:23:35.131Z"
   },
   {
    "duration": 226,
    "start_time": "2023-09-14T23:23:37.349Z"
   },
   {
    "duration": 17,
    "start_time": "2023-09-14T23:23:59.107Z"
   },
   {
    "duration": 11,
    "start_time": "2023-09-14T23:24:43.666Z"
   },
   {
    "duration": 1166,
    "start_time": "2023-09-14T23:25:23.158Z"
   },
   {
    "duration": 3,
    "start_time": "2023-09-14T23:25:24.326Z"
   },
   {
    "duration": 157,
    "start_time": "2023-09-14T23:25:24.330Z"
   },
   {
    "duration": 12,
    "start_time": "2023-09-14T23:25:24.489Z"
   },
   {
    "duration": 59,
    "start_time": "2023-09-14T23:25:24.502Z"
   },
   {
    "duration": 94,
    "start_time": "2023-09-14T23:25:24.563Z"
   },
   {
    "duration": 54,
    "start_time": "2023-09-14T23:25:24.659Z"
   },
   {
    "duration": 215,
    "start_time": "2023-09-14T23:25:24.715Z"
   },
   {
    "duration": 10,
    "start_time": "2023-09-14T23:25:24.931Z"
   },
   {
    "duration": 370,
    "start_time": "2023-09-14T23:25:24.943Z"
   },
   {
    "duration": 12,
    "start_time": "2023-09-14T23:25:25.314Z"
   },
   {
    "duration": 8,
    "start_time": "2023-09-14T23:25:25.328Z"
   },
   {
    "duration": 11,
    "start_time": "2023-09-14T23:25:25.337Z"
   },
   {
    "duration": 6,
    "start_time": "2023-09-14T23:25:25.350Z"
   },
   {
    "duration": 16,
    "start_time": "2023-09-14T23:25:25.357Z"
   },
   {
    "duration": 9,
    "start_time": "2023-09-14T23:25:25.375Z"
   },
   {
    "duration": 22,
    "start_time": "2023-09-14T23:25:25.385Z"
   },
   {
    "duration": 20,
    "start_time": "2023-09-14T23:25:25.408Z"
   },
   {
    "duration": 8,
    "start_time": "2023-09-14T23:25:25.429Z"
   },
   {
    "duration": 11,
    "start_time": "2023-09-14T23:25:25.438Z"
   },
   {
    "duration": 6,
    "start_time": "2023-09-14T23:25:25.450Z"
   },
   {
    "duration": 4,
    "start_time": "2023-09-14T23:25:25.457Z"
   },
   {
    "duration": 16,
    "start_time": "2023-09-14T23:25:25.462Z"
   },
   {
    "duration": 505,
    "start_time": "2023-09-14T23:25:25.480Z"
   },
   {
    "duration": 12,
    "start_time": "2023-09-14T23:25:25.987Z"
   },
   {
    "duration": 34,
    "start_time": "2023-09-14T23:25:26.001Z"
   },
   {
    "duration": 47,
    "start_time": "2023-09-14T23:25:26.037Z"
   },
   {
    "duration": 19,
    "start_time": "2023-09-14T23:25:26.087Z"
   },
   {
    "duration": 15,
    "start_time": "2023-09-14T23:25:26.108Z"
   },
   {
    "duration": 21,
    "start_time": "2023-09-14T23:25:26.124Z"
   },
   {
    "duration": 28,
    "start_time": "2023-09-14T23:25:26.146Z"
   },
   {
    "duration": 13,
    "start_time": "2023-09-14T23:25:26.176Z"
   },
   {
    "duration": 376,
    "start_time": "2023-09-14T23:25:26.190Z"
   },
   {
    "duration": 8,
    "start_time": "2023-09-14T23:25:26.567Z"
   },
   {
    "duration": 328,
    "start_time": "2023-09-14T23:25:26.577Z"
   },
   {
    "duration": 18,
    "start_time": "2023-09-14T23:25:26.907Z"
   },
   {
    "duration": 291,
    "start_time": "2023-09-14T23:25:26.927Z"
   },
   {
    "duration": 16,
    "start_time": "2023-09-14T23:25:27.219Z"
   },
   {
    "duration": 19,
    "start_time": "2023-09-14T23:25:27.236Z"
   },
   {
    "duration": 313,
    "start_time": "2023-09-14T23:25:27.257Z"
   },
   {
    "duration": 10,
    "start_time": "2023-09-14T23:25:27.572Z"
   },
   {
    "duration": 192,
    "start_time": "2023-09-14T23:25:27.583Z"
   },
   {
    "duration": 20,
    "start_time": "2023-09-14T23:25:27.777Z"
   },
   {
    "duration": 6,
    "start_time": "2023-09-14T23:25:27.799Z"
   },
   {
    "duration": 30,
    "start_time": "2023-09-14T23:25:27.806Z"
   },
   {
    "duration": 14,
    "start_time": "2023-09-14T23:25:27.838Z"
   },
   {
    "duration": 17,
    "start_time": "2023-09-14T23:25:27.853Z"
   },
   {
    "duration": 13,
    "start_time": "2023-09-14T23:25:27.872Z"
   },
   {
    "duration": 797,
    "start_time": "2023-09-14T23:25:27.886Z"
   },
   {
    "duration": 8,
    "start_time": "2023-09-14T23:25:28.685Z"
   },
   {
    "duration": 266,
    "start_time": "2023-09-14T23:25:28.694Z"
   },
   {
    "duration": 235,
    "start_time": "2023-09-14T23:25:28.962Z"
   },
   {
    "duration": 141,
    "start_time": "2023-09-14T23:25:29.198Z"
   },
   {
    "duration": 7,
    "start_time": "2023-09-14T23:25:29.341Z"
   },
   {
    "duration": 30,
    "start_time": "2023-09-14T23:25:29.349Z"
   },
   {
    "duration": 14,
    "start_time": "2023-09-14T23:25:29.381Z"
   },
   {
    "duration": 216,
    "start_time": "2023-09-14T23:25:29.396Z"
   },
   {
    "duration": 18,
    "start_time": "2023-09-14T23:25:29.614Z"
   },
   {
    "duration": 427,
    "start_time": "2023-09-14T23:25:29.633Z"
   },
   {
    "duration": 36,
    "start_time": "2023-09-14T23:25:30.061Z"
   },
   {
    "duration": 360,
    "start_time": "2023-09-14T23:25:30.098Z"
   },
   {
    "duration": 489,
    "start_time": "2023-09-14T23:25:30.460Z"
   },
   {
    "duration": 453,
    "start_time": "2023-09-14T23:25:30.951Z"
   },
   {
    "duration": 271,
    "start_time": "2023-09-14T23:25:31.405Z"
   },
   {
    "duration": 362,
    "start_time": "2023-09-14T23:25:31.677Z"
   },
   {
    "duration": 12,
    "start_time": "2023-09-14T23:25:32.041Z"
   },
   {
    "duration": 244,
    "start_time": "2023-09-14T23:25:32.054Z"
   },
   {
    "duration": 3,
    "start_time": "2023-09-14T23:25:45.615Z"
   },
   {
    "duration": 1370,
    "start_time": "2023-09-15T07:57:39.113Z"
   },
   {
    "duration": 3,
    "start_time": "2023-09-15T07:57:40.485Z"
   },
   {
    "duration": 80,
    "start_time": "2023-09-15T07:57:40.489Z"
   },
   {
    "duration": 12,
    "start_time": "2023-09-15T07:57:40.571Z"
   },
   {
    "duration": 18,
    "start_time": "2023-09-15T07:57:40.585Z"
   },
   {
    "duration": 4,
    "start_time": "2023-09-15T07:57:40.605Z"
   },
   {
    "duration": 38,
    "start_time": "2023-09-15T07:57:40.610Z"
   },
   {
    "duration": 212,
    "start_time": "2023-09-15T07:57:40.649Z"
   },
   {
    "duration": 9,
    "start_time": "2023-09-15T07:57:40.863Z"
   },
   {
    "duration": 36,
    "start_time": "2023-09-15T07:57:40.874Z"
   },
   {
    "duration": 16,
    "start_time": "2023-09-15T07:57:40.911Z"
   },
   {
    "duration": 20,
    "start_time": "2023-09-15T07:57:40.929Z"
   },
   {
    "duration": 13,
    "start_time": "2023-09-15T07:57:40.951Z"
   },
   {
    "duration": 9,
    "start_time": "2023-09-15T07:57:40.966Z"
   },
   {
    "duration": 16,
    "start_time": "2023-09-15T07:57:40.977Z"
   },
   {
    "duration": 13,
    "start_time": "2023-09-15T07:57:40.996Z"
   },
   {
    "duration": 25,
    "start_time": "2023-09-15T07:57:41.011Z"
   },
   {
    "duration": 6,
    "start_time": "2023-09-15T07:57:41.047Z"
   },
   {
    "duration": 7,
    "start_time": "2023-09-15T07:57:41.055Z"
   },
   {
    "duration": 15,
    "start_time": "2023-09-15T07:57:41.063Z"
   },
   {
    "duration": 11,
    "start_time": "2023-09-15T07:57:41.079Z"
   },
   {
    "duration": 9,
    "start_time": "2023-09-15T07:57:41.092Z"
   },
   {
    "duration": 24,
    "start_time": "2023-09-15T07:57:41.102Z"
   },
   {
    "duration": 509,
    "start_time": "2023-09-15T07:57:41.128Z"
   },
   {
    "duration": 20,
    "start_time": "2023-09-15T07:57:41.639Z"
   },
   {
    "duration": 9,
    "start_time": "2023-09-15T07:57:41.661Z"
   },
   {
    "duration": 17,
    "start_time": "2023-09-15T07:57:41.672Z"
   },
   {
    "duration": 10,
    "start_time": "2023-09-15T07:57:41.693Z"
   },
   {
    "duration": 45,
    "start_time": "2023-09-15T07:57:41.705Z"
   },
   {
    "duration": 35,
    "start_time": "2023-09-15T07:57:41.752Z"
   },
   {
    "duration": 19,
    "start_time": "2023-09-15T07:57:41.790Z"
   },
   {
    "duration": 42,
    "start_time": "2023-09-15T07:57:41.810Z"
   },
   {
    "duration": 406,
    "start_time": "2023-09-15T07:57:41.854Z"
   },
   {
    "duration": 8,
    "start_time": "2023-09-15T07:57:42.261Z"
   },
   {
    "duration": 353,
    "start_time": "2023-09-15T07:57:42.270Z"
   },
   {
    "duration": 24,
    "start_time": "2023-09-15T07:57:42.625Z"
   },
   {
    "duration": 302,
    "start_time": "2023-09-15T07:57:42.650Z"
   },
   {
    "duration": 15,
    "start_time": "2023-09-15T07:57:42.954Z"
   },
   {
    "duration": 23,
    "start_time": "2023-09-15T07:57:42.971Z"
   },
   {
    "duration": 361,
    "start_time": "2023-09-15T07:57:42.996Z"
   },
   {
    "duration": 10,
    "start_time": "2023-09-15T07:57:43.358Z"
   },
   {
    "duration": 241,
    "start_time": "2023-09-15T07:57:43.370Z"
   },
   {
    "duration": 21,
    "start_time": "2023-09-15T07:57:43.613Z"
   },
   {
    "duration": 14,
    "start_time": "2023-09-15T07:57:43.636Z"
   },
   {
    "duration": 35,
    "start_time": "2023-09-15T07:57:43.651Z"
   },
   {
    "duration": 28,
    "start_time": "2023-09-15T07:57:43.688Z"
   },
   {
    "duration": 39,
    "start_time": "2023-09-15T07:57:43.718Z"
   },
   {
    "duration": 31,
    "start_time": "2023-09-15T07:57:43.758Z"
   },
   {
    "duration": 904,
    "start_time": "2023-09-15T07:57:43.791Z"
   },
   {
    "duration": 9,
    "start_time": "2023-09-15T07:57:44.697Z"
   },
   {
    "duration": 275,
    "start_time": "2023-09-15T07:57:44.708Z"
   },
   {
    "duration": 250,
    "start_time": "2023-09-15T07:57:44.985Z"
   },
   {
    "duration": 180,
    "start_time": "2023-09-15T07:57:45.237Z"
   },
   {
    "duration": 9,
    "start_time": "2023-09-15T07:57:45.419Z"
   },
   {
    "duration": 39,
    "start_time": "2023-09-15T07:57:45.430Z"
   },
   {
    "duration": 17,
    "start_time": "2023-09-15T07:57:45.471Z"
   },
   {
    "duration": 268,
    "start_time": "2023-09-15T07:57:45.489Z"
   },
   {
    "duration": 14,
    "start_time": "2023-09-15T07:57:45.759Z"
   },
   {
    "duration": 242,
    "start_time": "2023-09-15T07:57:45.775Z"
   },
   {
    "duration": 13,
    "start_time": "2023-09-15T07:57:46.019Z"
   },
   {
    "duration": 265,
    "start_time": "2023-09-15T07:57:46.034Z"
   },
   {
    "duration": 536,
    "start_time": "2023-09-15T07:57:46.301Z"
   },
   {
    "duration": 522,
    "start_time": "2023-09-15T07:57:46.838Z"
   },
   {
    "duration": 299,
    "start_time": "2023-09-15T07:57:47.362Z"
   },
   {
    "duration": 392,
    "start_time": "2023-09-15T07:57:47.663Z"
   },
   {
    "duration": 12,
    "start_time": "2023-09-15T07:57:48.057Z"
   },
   {
    "duration": 295,
    "start_time": "2023-09-15T07:57:48.071Z"
   },
   {
    "duration": 6,
    "start_time": "2023-09-15T08:09:55.404Z"
   }
  ],
  "kernelspec": {
   "display_name": "Python 3 (ipykernel)",
   "language": "python",
   "name": "python3"
  },
  "language_info": {
   "codemirror_mode": {
    "name": "ipython",
    "version": 3
   },
   "file_extension": ".py",
   "mimetype": "text/x-python",
   "name": "python",
   "nbconvert_exporter": "python",
   "pygments_lexer": "ipython3",
   "version": "3.11.4"
  },
  "toc": {
   "base_numbering": 1,
   "nav_menu": {},
   "number_sections": true,
   "sideBar": true,
   "skip_h1_title": true,
   "title_cell": "Table of Contents",
   "title_sidebar": "Contents",
   "toc_cell": false,
   "toc_position": {
    "height": "calc(100% - 180px)",
    "left": "10px",
    "top": "150px",
    "width": "165px"
   },
   "toc_section_display": true,
   "toc_window_display": false
  }
 },
 "nbformat": 4,
 "nbformat_minor": 2
}
